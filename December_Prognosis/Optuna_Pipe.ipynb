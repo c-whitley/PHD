{
 "cells": [
  {
   "cell_type": "code",
   "execution_count": 7,
   "metadata": {},
   "outputs": [],
   "source": [
    "import numpy as np\n",
    "import pandas as pd\n",
    "import matplotlib.pyplot as plt\n",
    "\n",
    "import os\n",
    "\n",
    "from sklearn.preprocessing import FunctionTransformer\n",
    "from sklearn.preprocessing import minmax_scale, normalize, robust_scale, OneHotEncoder\n",
    "\n",
    "from sklearn.kernel_approximation import Nystroem\n",
    "from sklearn.compose import make_column_transformer\n",
    "from sklearn.compose import make_column_selector\n",
    "\n",
    "from sklearn.pipeline import Pipeline\n",
    "from sklearn.decomposition import PCA\n",
    "from sklearn.utils import compute_sample_weight\n",
    "from sklearn.linear_model import LogisticRegression\n",
    "from sklearn.ensemble import RandomForestClassifier\n",
    "from sklearn.calibration import CalibratedClassifierCV\n",
    "from sklearn.discriminant_analysis import LinearDiscriminantAnalysis\n",
    "\n",
    "from sklearn.metrics import roc_auc_score\n",
    "\n",
    "sys.path.append('/mnt/c/Users/conor/Git_Projects/PHD/')\n",
    "\n",
    "from Preprocessing_Methods import *\n",
    "\n",
    "from TSquared.hotelling_t2 import HotellingT2\n",
    "\n",
    "from tqdm.notebook import tqdm\n",
    "\n",
    "import optuna"
   ]
  },
  {
   "cell_type": "code",
   "execution_count": 2,
   "metadata": {},
   "outputs": [],
   "source": [
    "y_label = 'Opt_Group'\n",
    "\n",
    "total = pd.read_pickle('./December_Datat_32.pickle')\n",
    "#total = truncate(total, start=1000, end=1800)\n",
    "\n",
    "ht2 = HotellingT2().fit(total)\n",
    "#total = total.loc[ht2.predict(total)==1,:]\n",
    "\n",
    "min_ = total.index.get_level_values('Patient_Number').value_counts().min()\n",
    "sel = total#.groupby('Patient_Number').sample(min_)\n",
    "sel = sel.reset_index(['ASMA']).dropna()#.sample(2000)\n",
    "sel['IDX'] = np.arange(sel.shape[0])\n",
    "sel = sel.set_index('IDX', append=True)\n",
    "\n",
    "sel.columns = [str(col) for col in sel.columns]\n",
    "\n",
    "patient_weights = compute_sample_weight('balanced', sel.reset_index()['Patient_Number'])\n",
    "label_weights = compute_sample_weight('balanced', sel.reset_index()[y_label])\n",
    "\n",
    "weights = patient_weights * label_weights"
   ]
  },
  {
   "cell_type": "code",
   "execution_count": 4,
   "metadata": {},
   "outputs": [],
   "source": [
    "cols = total.columns.tolist()"
   ]
  },
  {
   "cell_type": "code",
   "execution_count": 5,
   "metadata": {},
   "outputs": [],
   "source": [
    "bootstrap_pats = pd.read_pickle('./train_indices_20_December.pickle')\n",
    "\n",
    "def bootstrap_it(n):\n",
    "\n",
    "    for idx, row in bootstrap_pats.iloc[:n,:].iterrows():\n",
    "\n",
    "        train_i = sel.query(f\"Patient_Number in {list(row.iloc[0])}\").reset_index()['IDX'].values\n",
    "        test_i = sel.query(f\"Patient_Number in {list(row.iloc[1])}\").reset_index()['IDX'].values \n",
    "\n",
    "        yield train_i, test_i"
   ]
  },
  {
   "cell_type": "code",
   "execution_count": 6,
   "metadata": {},
   "outputs": [],
   "source": [
    "def objective(trial):\n",
    "\n",
    "    scalers = {'Std': normalize, 'Robust': robust_scale, 'MinMax': minmax_scale\n",
    "               }\n",
    "\n",
    "    num_pipe = Pipeline([\n",
    "        (\"Normalise spectra\", FunctionTransformer(scalers[trial.suggest_categorical(\n",
    "            'Scaler1', scalers.keys())], kw_args={\"axis\": 1})),\n",
    "        (\"Feature Scale\", FunctionTransformer(scalers[trial.suggest_categorical(\n",
    "            'Scaler2', scalers.keys())], kw_args={\"axis\": 0})),\n",
    "        (\"PCA\", PCA(trial.suggest_int('pc_comps', 2, 10))),\n",
    "    ])\n",
    "\n",
    "    cat_pipe = Pipeline([\n",
    "        (\"OneHot\", OneHotEncoder(sparse=False, handle_unknown='ignore', dtype=int))\n",
    "        #(\"Encoding\", OrdinalEncoder())\n",
    "    ])\n",
    "\n",
    "    ct = make_column_transformer(\n",
    "        (num_pipe, make_column_selector(dtype_include=np.number)),\n",
    "        (cat_pipe, make_column_selector(dtype_include=object))\n",
    "    )\n",
    "\n",
    "    clf = LogisticRegression(C=trial.suggest_float('C', 1e3, 1e10, log=True))\n",
    "\n",
    "    pipe = Pipeline([('Preprocess', ct), ('Classifier', clf)])\n",
    "\n",
    "    scores = []\n",
    "\n",
    "    for i, (train_i, test_i) in tqdm(enumerate(bootstrap_it(5))):\n",
    "\n",
    "        pipe.fit(sel.iloc[train_i, :], sel.iloc[train_i, :].index.get_level_values(\n",
    "            f'{y_label}').astype(int), **{'Classifier__sample_weight': weights[train_i]})\n",
    "\n",
    "        pred_df = pd.DataFrame(pipe.predict_proba(sel.iloc[test_i])[:, 1], columns=[\n",
    "                               'Preds'], index=sel.iloc[test_i].index)\n",
    "        pred_df['Y_true'] = sel.iloc[test_i, :].index.get_level_values(\n",
    "            f'{y_label}').astype(int)\n",
    "        pred_df['Weights'] = weights[test_i]\n",
    "\n",
    "        score = roc_auc_score(\n",
    "            pred_df['Y_true'], pred_df['Preds'], sample_weight=pred_df['Weights'])\n",
    "        scores.append(score)\n",
    "\n",
    "        # For pruning (stops trial early if not promising)\n",
    "        trial.report(score, i)\n",
    "        # Handle pruning based on the intermediate value.\n",
    "        if trial.should_prune():\n",
    "            raise optuna.exceptions.TrialPruned()\n",
    "\n",
    "    return np.median(scores)\n"
   ]
  },
  {
   "cell_type": "code",
   "execution_count": 7,
   "metadata": {},
   "outputs": [
    {
     "name": "stderr",
     "output_type": "stream",
     "text": [
      "\u001b[32m[I 2021-12-29 19:26:44,319]\u001b[0m A new study created in memory with name: no-name-9687d4f0-8235-4572-af6c-0e71a7b1c893\u001b[0m\n",
      "/home/conor/miniconda3/envs/PHD/lib/python3.8/site-packages/optuna/study/study.py:393: FutureWarning: `n_jobs` argument has been deprecated in v2.7.0. This feature will be removed in v4.0.0. See https://github.com/optuna/optuna/releases/tag/v2.7.0.\n",
      "  warnings.warn(\n"
     ]
    },
    {
     "data": {
      "application/vnd.jupyter.widget-view+json": {
       "model_id": "36556ecf312a4f828d323b60cf39bf33",
       "version_major": 2,
       "version_minor": 0
      },
      "text/plain": [
       "HBox(children=(HTML(value=''), FloatProgress(value=1.0, bar_style='info', layout=Layout(width='20px'), max=1.0…"
      ]
     },
     "metadata": {},
     "output_type": "display_data"
    },
    {
     "data": {
      "application/vnd.jupyter.widget-view+json": {
       "model_id": "496e988e7ed1495baaac61f70091252b",
       "version_major": 2,
       "version_minor": 0
      },
      "text/plain": [
       "HBox(children=(HTML(value=''), FloatProgress(value=1.0, bar_style='info', layout=Layout(width='20px'), max=1.0…"
      ]
     },
     "metadata": {},
     "output_type": "display_data"
    },
    {
     "data": {
      "application/vnd.jupyter.widget-view+json": {
       "model_id": "16bb77335f5242bf9c2d461b15234775",
       "version_major": 2,
       "version_minor": 0
      },
      "text/plain": [
       "HBox(children=(HTML(value=''), FloatProgress(value=1.0, bar_style='info', layout=Layout(width='20px'), max=1.0…"
      ]
     },
     "metadata": {},
     "output_type": "display_data"
    },
    {
     "data": {
      "application/vnd.jupyter.widget-view+json": {
       "model_id": "80d2b97fc3294c10be6a85952e1cc4e1",
       "version_major": 2,
       "version_minor": 0
      },
      "text/plain": [
       "HBox(children=(HTML(value=''), FloatProgress(value=1.0, bar_style='info', layout=Layout(width='20px'), max=1.0…"
      ]
     },
     "metadata": {},
     "output_type": "display_data"
    },
    {
     "name": "stderr",
     "output_type": "stream",
     "text": [
      "\u001b[32m[I 2021-12-29 19:27:09,599]\u001b[0m Trial 3 finished with value: 0.5902052840114088 and parameters: {'Scaler1': 'Std', 'Scaler2': 'MinMax', 'pc_comps': 4, 'C': 22360229.985547673}. Best is trial 3 with value: 0.5902052840114088.\u001b[0m\n"
     ]
    },
    {
     "name": "stdout",
     "output_type": "stream",
     "text": [
      "\n"
     ]
    },
    {
     "data": {
      "application/vnd.jupyter.widget-view+json": {
       "model_id": "a8dc5f98c5bd4b06b039d47d77633f9e",
       "version_major": 2,
       "version_minor": 0
      },
      "text/plain": [
       "HBox(children=(HTML(value=''), FloatProgress(value=1.0, bar_style='info', layout=Layout(width='20px'), max=1.0…"
      ]
     },
     "metadata": {},
     "output_type": "display_data"
    },
    {
     "name": "stderr",
     "output_type": "stream",
     "text": [
      "\u001b[32m[I 2021-12-29 19:27:12,458]\u001b[0m Trial 1 finished with value: 0.7233597738420243 and parameters: {'Scaler1': 'MinMax', 'Scaler2': 'MinMax', 'pc_comps': 7, 'C': 107210153.49450926}. Best is trial 1 with value: 0.7233597738420243.\u001b[0m\n"
     ]
    },
    {
     "name": "stdout",
     "output_type": "stream",
     "text": [
      "\n"
     ]
    },
    {
     "data": {
      "application/vnd.jupyter.widget-view+json": {
       "model_id": "73b091b987304b34953e73df701d53fe",
       "version_major": 2,
       "version_minor": 0
      },
      "text/plain": [
       "HBox(children=(HTML(value=''), FloatProgress(value=1.0, bar_style='info', layout=Layout(width='20px'), max=1.0…"
      ]
     },
     "metadata": {},
     "output_type": "display_data"
    },
    {
     "name": "stderr",
     "output_type": "stream",
     "text": [
      "\u001b[32m[I 2021-12-29 19:27:16,151]\u001b[0m Trial 0 finished with value: 0.6081340953496017 and parameters: {'Scaler1': 'Std', 'Scaler2': 'Std', 'pc_comps': 4, 'C': 288424963.2406135}. Best is trial 1 with value: 0.7233597738420243.\u001b[0m\n"
     ]
    },
    {
     "name": "stdout",
     "output_type": "stream",
     "text": [
      "\n"
     ]
    },
    {
     "data": {
      "application/vnd.jupyter.widget-view+json": {
       "model_id": "d7214a2c41ef4087a270fae938cb6606",
       "version_major": 2,
       "version_minor": 0
      },
      "text/plain": [
       "HBox(children=(HTML(value=''), FloatProgress(value=1.0, bar_style='info', layout=Layout(width='20px'), max=1.0…"
      ]
     },
     "metadata": {},
     "output_type": "display_data"
    },
    {
     "name": "stderr",
     "output_type": "stream",
     "text": [
      "\u001b[32m[I 2021-12-29 19:27:40,190]\u001b[0m Trial 6 finished with value: 0.5949709592913288 and parameters: {'Scaler1': 'Std', 'Scaler2': 'Robust', 'pc_comps': 4, 'C': 12121120.982066708}. Best is trial 1 with value: 0.7233597738420243.\u001b[0m\n"
     ]
    },
    {
     "name": "stdout",
     "output_type": "stream",
     "text": [
      "\n"
     ]
    },
    {
     "data": {
      "application/vnd.jupyter.widget-view+json": {
       "model_id": "0a0df24ec85c41b88396afa56e198adf",
       "version_major": 2,
       "version_minor": 0
      },
      "text/plain": [
       "HBox(children=(HTML(value=''), FloatProgress(value=1.0, bar_style='info', layout=Layout(width='20px'), max=1.0…"
      ]
     },
     "metadata": {},
     "output_type": "display_data"
    },
    {
     "name": "stderr",
     "output_type": "stream",
     "text": [
      "\u001b[32m[I 2021-12-29 19:28:06,697]\u001b[0m Trial 7 finished with value: 0.695095565977632 and parameters: {'Scaler1': 'MinMax', 'Scaler2': 'Robust', 'pc_comps': 6, 'C': 1444191.594697875}. Best is trial 1 with value: 0.7233597738420243.\u001b[0m\n"
     ]
    },
    {
     "name": "stdout",
     "output_type": "stream",
     "text": [
      "\n"
     ]
    },
    {
     "data": {
      "application/vnd.jupyter.widget-view+json": {
       "model_id": "a58c7fc7cd72453d8b9dff3dca648fff",
       "version_major": 2,
       "version_minor": 0
      },
      "text/plain": [
       "HBox(children=(HTML(value=''), FloatProgress(value=1.0, bar_style='info', layout=Layout(width='20px'), max=1.0…"
      ]
     },
     "metadata": {},
     "output_type": "display_data"
    },
    {
     "name": "stderr",
     "output_type": "stream",
     "text": [
      "\u001b[32m[I 2021-12-29 19:28:16,832]\u001b[0m Trial 8 pruned. \u001b[0m\n"
     ]
    },
    {
     "name": "stdout",
     "output_type": "stream",
     "text": [
      "\n"
     ]
    },
    {
     "data": {
      "application/vnd.jupyter.widget-view+json": {
       "model_id": "4271f85242ad474da38d5070fdbf3b05",
       "version_major": 2,
       "version_minor": 0
      },
      "text/plain": [
       "HBox(children=(HTML(value=''), FloatProgress(value=1.0, bar_style='info', layout=Layout(width='20px'), max=1.0…"
      ]
     },
     "metadata": {},
     "output_type": "display_data"
    },
    {
     "name": "stderr",
     "output_type": "stream",
     "text": [
      "\u001b[32m[I 2021-12-29 19:28:32,952]\u001b[0m Trial 9 finished with value: 0.720200622905358 and parameters: {'Scaler1': 'Std', 'Scaler2': 'MinMax', 'pc_comps': 8, 'C': 4666087.136651044}. Best is trial 1 with value: 0.7233597738420243.\u001b[0m\n"
     ]
    },
    {
     "name": "stdout",
     "output_type": "stream",
     "text": [
      "\n"
     ]
    },
    {
     "data": {
      "application/vnd.jupyter.widget-view+json": {
       "model_id": "ca12fde4a56d4e9e8c0aefc82d7c3cce",
       "version_major": 2,
       "version_minor": 0
      },
      "text/plain": [
       "HBox(children=(HTML(value=''), FloatProgress(value=1.0, bar_style='info', layout=Layout(width='20px'), max=1.0…"
      ]
     },
     "metadata": {},
     "output_type": "display_data"
    },
    {
     "name": "stderr",
     "output_type": "stream",
     "text": [
      "\u001b[32m[I 2021-12-29 19:28:45,595]\u001b[0m Trial 10 finished with value: 0.7181028229303829 and parameters: {'Scaler1': 'Std', 'Scaler2': 'Std', 'pc_comps': 2, 'C': 3272728.456253602}. Best is trial 1 with value: 0.7233597738420243.\u001b[0m\n"
     ]
    },
    {
     "name": "stdout",
     "output_type": "stream",
     "text": [
      "\n"
     ]
    },
    {
     "data": {
      "application/vnd.jupyter.widget-view+json": {
       "model_id": "d308eb46d4fa40d68931e120d660e932",
       "version_major": 2,
       "version_minor": 0
      },
      "text/plain": [
       "HBox(children=(HTML(value=''), FloatProgress(value=1.0, bar_style='info', layout=Layout(width='20px'), max=1.0…"
      ]
     },
     "metadata": {},
     "output_type": "display_data"
    },
    {
     "name": "stderr",
     "output_type": "stream",
     "text": [
      "\u001b[32m[I 2021-12-29 19:36:32,691]\u001b[0m Trial 5 pruned. \u001b[0m\n"
     ]
    },
    {
     "name": "stdout",
     "output_type": "stream",
     "text": [
      "\n"
     ]
    },
    {
     "data": {
      "application/vnd.jupyter.widget-view+json": {
       "model_id": "1ccf4b869f7249c9b9eb7cc3d1b95751",
       "version_major": 2,
       "version_minor": 0
      },
      "text/plain": [
       "HBox(children=(HTML(value=''), FloatProgress(value=1.0, bar_style='info', layout=Layout(width='20px'), max=1.0…"
      ]
     },
     "metadata": {},
     "output_type": "display_data"
    },
    {
     "name": "stderr",
     "output_type": "stream",
     "text": [
      "\u001b[32m[I 2021-12-29 19:36:33,400]\u001b[0m Trial 4 pruned. \u001b[0m\n"
     ]
    },
    {
     "name": "stdout",
     "output_type": "stream",
     "text": [
      "\n"
     ]
    },
    {
     "data": {
      "application/vnd.jupyter.widget-view+json": {
       "model_id": "43b8bee73ef44094940bc785f8326174",
       "version_major": 2,
       "version_minor": 0
      },
      "text/plain": [
       "HBox(children=(HTML(value=''), FloatProgress(value=1.0, bar_style='info', layout=Layout(width='20px'), max=1.0…"
      ]
     },
     "metadata": {},
     "output_type": "display_data"
    },
    {
     "name": "stderr",
     "output_type": "stream",
     "text": [
      "\u001b[32m[I 2021-12-29 19:36:36,899]\u001b[0m Trial 12 pruned. \u001b[0m\n"
     ]
    },
    {
     "name": "stdout",
     "output_type": "stream",
     "text": [
      "\n"
     ]
    },
    {
     "data": {
      "application/vnd.jupyter.widget-view+json": {
       "model_id": "6283a92057614a29b6520e680b1d88fb",
       "version_major": 2,
       "version_minor": 0
      },
      "text/plain": [
       "HBox(children=(HTML(value=''), FloatProgress(value=1.0, bar_style='info', layout=Layout(width='20px'), max=1.0…"
      ]
     },
     "metadata": {},
     "output_type": "display_data"
    },
    {
     "name": "stderr",
     "output_type": "stream",
     "text": [
      "\u001b[32m[I 2021-12-29 19:36:40,943]\u001b[0m Trial 14 pruned. \u001b[0m\n"
     ]
    },
    {
     "name": "stdout",
     "output_type": "stream",
     "text": [
      "\n"
     ]
    },
    {
     "data": {
      "application/vnd.jupyter.widget-view+json": {
       "model_id": "d3141864607d4ed6ad9e0df2f0b86216",
       "version_major": 2,
       "version_minor": 0
      },
      "text/plain": [
       "HBox(children=(HTML(value=''), FloatProgress(value=1.0, bar_style='info', layout=Layout(width='20px'), max=1.0…"
      ]
     },
     "metadata": {},
     "output_type": "display_data"
    },
    {
     "name": "stderr",
     "output_type": "stream",
     "text": [
      "\u001b[32m[I 2021-12-29 19:36:42,337]\u001b[0m Trial 13 pruned. \u001b[0m\n"
     ]
    },
    {
     "name": "stdout",
     "output_type": "stream",
     "text": [
      "\n"
     ]
    },
    {
     "data": {
      "application/vnd.jupyter.widget-view+json": {
       "model_id": "feb1d9f78ed143e2a9713ae46dd157fc",
       "version_major": 2,
       "version_minor": 0
      },
      "text/plain": [
       "HBox(children=(HTML(value=''), FloatProgress(value=1.0, bar_style='info', layout=Layout(width='20px'), max=1.0…"
      ]
     },
     "metadata": {},
     "output_type": "display_data"
    },
    {
     "name": "stderr",
     "output_type": "stream",
     "text": [
      "\u001b[32m[I 2021-12-29 19:36:45,222]\u001b[0m Trial 15 pruned. \u001b[0m\n"
     ]
    },
    {
     "name": "stdout",
     "output_type": "stream",
     "text": [
      "\n"
     ]
    },
    {
     "data": {
      "application/vnd.jupyter.widget-view+json": {
       "model_id": "61e2fe62a85b4295add3c34272f5aacb",
       "version_major": 2,
       "version_minor": 0
      },
      "text/plain": [
       "HBox(children=(HTML(value=''), FloatProgress(value=1.0, bar_style='info', layout=Layout(width='20px'), max=1.0…"
      ]
     },
     "metadata": {},
     "output_type": "display_data"
    },
    {
     "name": "stderr",
     "output_type": "stream",
     "text": [
      "\u001b[32m[I 2021-12-29 19:36:46,256]\u001b[0m Trial 16 pruned. \u001b[0m\n"
     ]
    },
    {
     "name": "stdout",
     "output_type": "stream",
     "text": [
      "\n"
     ]
    },
    {
     "data": {
      "application/vnd.jupyter.widget-view+json": {
       "model_id": "38ccbdd3045f4872a16a16c1df96c651",
       "version_major": 2,
       "version_minor": 0
      },
      "text/plain": [
       "HBox(children=(HTML(value=''), FloatProgress(value=1.0, bar_style='info', layout=Layout(width='20px'), max=1.0…"
      ]
     },
     "metadata": {},
     "output_type": "display_data"
    },
    {
     "name": "stderr",
     "output_type": "stream",
     "text": [
      "\u001b[32m[I 2021-12-29 19:44:44,989]\u001b[0m Trial 2 pruned. \u001b[0m\n"
     ]
    },
    {
     "name": "stdout",
     "output_type": "stream",
     "text": [
      "\n"
     ]
    },
    {
     "data": {
      "application/vnd.jupyter.widget-view+json": {
       "model_id": "5ff55ef931364dffa864a743550d1c50",
       "version_major": 2,
       "version_minor": 0
      },
      "text/plain": [
       "HBox(children=(HTML(value=''), FloatProgress(value=1.0, bar_style='info', layout=Layout(width='20px'), max=1.0…"
      ]
     },
     "metadata": {},
     "output_type": "display_data"
    },
    {
     "name": "stderr",
     "output_type": "stream",
     "text": [
      "\u001b[32m[I 2021-12-29 19:44:59,890]\u001b[0m Trial 19 finished with value: 0.7201995594490569 and parameters: {'Scaler1': 'Std', 'Scaler2': 'MinMax', 'pc_comps': 8, 'C': 90374.70788678847}. Best is trial 1 with value: 0.7233597738420243.\u001b[0m\n"
     ]
    },
    {
     "name": "stdout",
     "output_type": "stream",
     "text": [
      "\n"
     ]
    },
    {
     "data": {
      "application/vnd.jupyter.widget-view+json": {
       "model_id": "4fa3f5878a544f5a84fede8cafeff8f4",
       "version_major": 2,
       "version_minor": 0
      },
      "text/plain": [
       "HBox(children=(HTML(value=''), FloatProgress(value=1.0, bar_style='info', layout=Layout(width='20px'), max=1.0…"
      ]
     },
     "metadata": {},
     "output_type": "display_data"
    },
    {
     "name": "stderr",
     "output_type": "stream",
     "text": [
      "\u001b[32m[I 2021-12-29 19:45:14,325]\u001b[0m Trial 20 finished with value: 0.6902655584032424 and parameters: {'Scaler1': 'Std', 'Scaler2': 'MinMax', 'pc_comps': 7, 'C': 5650144386.951477}. Best is trial 1 with value: 0.7233597738420243.\u001b[0m\n"
     ]
    },
    {
     "name": "stdout",
     "output_type": "stream",
     "text": [
      "\n"
     ]
    },
    {
     "data": {
      "application/vnd.jupyter.widget-view+json": {
       "model_id": "f461d61f4a31455aa9710c29de5b1af9",
       "version_major": 2,
       "version_minor": 0
      },
      "text/plain": [
       "HBox(children=(HTML(value=''), FloatProgress(value=1.0, bar_style='info', layout=Layout(width='20px'), max=1.0…"
      ]
     },
     "metadata": {},
     "output_type": "display_data"
    },
    {
     "name": "stderr",
     "output_type": "stream",
     "text": [
      "\u001b[32m[I 2021-12-29 19:45:17,175]\u001b[0m Trial 21 pruned. \u001b[0m\n"
     ]
    },
    {
     "name": "stdout",
     "output_type": "stream",
     "text": [
      "\n"
     ]
    },
    {
     "data": {
      "application/vnd.jupyter.widget-view+json": {
       "model_id": "d53450fa8e34480abcd2a8d197ca71f6",
       "version_major": 2,
       "version_minor": 0
      },
      "text/plain": [
       "HBox(children=(HTML(value=''), FloatProgress(value=1.0, bar_style='info', layout=Layout(width='20px'), max=1.0…"
      ]
     },
     "metadata": {},
     "output_type": "display_data"
    },
    {
     "name": "stderr",
     "output_type": "stream",
     "text": [
      "\u001b[32m[I 2021-12-29 19:45:50,245]\u001b[0m Trial 18 pruned. \u001b[0m\n"
     ]
    },
    {
     "name": "stdout",
     "output_type": "stream",
     "text": [
      "\n"
     ]
    },
    {
     "name": "stderr",
     "output_type": "stream",
     "text": [
      "\u001b[32m[I 2021-12-29 19:45:50,295]\u001b[0m Trial 17 pruned. \u001b[0m\n"
     ]
    },
    {
     "data": {
      "application/vnd.jupyter.widget-view+json": {
       "model_id": "707e2209b891423b8331e8f8ae3d91eb",
       "version_major": 2,
       "version_minor": 0
      },
      "text/plain": [
       "HBox(children=(HTML(value=''), FloatProgress(value=1.0, bar_style='info', layout=Layout(width='20px'), max=1.0…"
      ]
     },
     "metadata": {},
     "output_type": "display_data"
    },
    {
     "name": "stdout",
     "output_type": "stream",
     "text": [
      "\n"
     ]
    },
    {
     "data": {
      "application/vnd.jupyter.widget-view+json": {
       "model_id": "3632e3d78c1c4e929dcedfaf2ac757ae",
       "version_major": 2,
       "version_minor": 0
      },
      "text/plain": [
       "HBox(children=(HTML(value=''), FloatProgress(value=1.0, bar_style='info', layout=Layout(width='20px'), max=1.0…"
      ]
     },
     "metadata": {},
     "output_type": "display_data"
    },
    {
     "name": "stderr",
     "output_type": "stream",
     "text": [
      "\u001b[32m[I 2021-12-29 19:45:55,270]\u001b[0m Trial 23 pruned. \u001b[0m\n"
     ]
    },
    {
     "name": "stdout",
     "output_type": "stream",
     "text": [
      "\n"
     ]
    },
    {
     "data": {
      "application/vnd.jupyter.widget-view+json": {
       "model_id": "de1d88e4f04d40858fab8c3ec8f18369",
       "version_major": 2,
       "version_minor": 0
      },
      "text/plain": [
       "HBox(children=(HTML(value=''), FloatProgress(value=1.0, bar_style='info', layout=Layout(width='20px'), max=1.0…"
      ]
     },
     "metadata": {},
     "output_type": "display_data"
    },
    {
     "name": "stderr",
     "output_type": "stream",
     "text": [
      "\u001b[32m[I 2021-12-29 19:46:17,286]\u001b[0m Trial 24 finished with value: 0.6902658289549817 and parameters: {'Scaler1': 'Std', 'Scaler2': 'MinMax', 'pc_comps': 7, 'C': 509958.9648970875}. Best is trial 1 with value: 0.7233597738420243.\u001b[0m\n"
     ]
    },
    {
     "name": "stdout",
     "output_type": "stream",
     "text": [
      "\n"
     ]
    },
    {
     "data": {
      "application/vnd.jupyter.widget-view+json": {
       "model_id": "600da5f6cbef4959bd0121da213c6eb4",
       "version_major": 2,
       "version_minor": 0
      },
      "text/plain": [
       "HBox(children=(HTML(value=''), FloatProgress(value=1.0, bar_style='info', layout=Layout(width='20px'), max=1.0…"
      ]
     },
     "metadata": {},
     "output_type": "display_data"
    },
    {
     "name": "stderr",
     "output_type": "stream",
     "text": [
      "\u001b[32m[I 2021-12-29 19:46:24,007]\u001b[0m Trial 25 finished with value: 0.6902672904410261 and parameters: {'Scaler1': 'Std', 'Scaler2': 'MinMax', 'pc_comps': 7, 'C': 112929.6182223323}. Best is trial 1 with value: 0.7233597738420243.\u001b[0m\n"
     ]
    },
    {
     "name": "stdout",
     "output_type": "stream",
     "text": [
      "\n"
     ]
    },
    {
     "data": {
      "application/vnd.jupyter.widget-view+json": {
       "model_id": "ad6201d0d4db4d5f83ab05880878c30b",
       "version_major": 2,
       "version_minor": 0
      },
      "text/plain": [
       "HBox(children=(HTML(value=''), FloatProgress(value=1.0, bar_style='info', layout=Layout(width='20px'), max=1.0…"
      ]
     },
     "metadata": {},
     "output_type": "display_data"
    },
    {
     "name": "stderr",
     "output_type": "stream",
     "text": [
      "\u001b[32m[I 2021-12-29 19:46:24,375]\u001b[0m Trial 26 pruned. \u001b[0m\n"
     ]
    },
    {
     "name": "stdout",
     "output_type": "stream",
     "text": [
      "\n"
     ]
    },
    {
     "data": {
      "application/vnd.jupyter.widget-view+json": {
       "model_id": "a7342030ca0f4d54b8048bfc12eba58a",
       "version_major": 2,
       "version_minor": 0
      },
      "text/plain": [
       "HBox(children=(HTML(value=''), FloatProgress(value=1.0, bar_style='info', layout=Layout(width='20px'), max=1.0…"
      ]
     },
     "metadata": {},
     "output_type": "display_data"
    },
    {
     "name": "stderr",
     "output_type": "stream",
     "text": [
      "\u001b[32m[I 2021-12-29 19:46:28,017]\u001b[0m Trial 11 pruned. \u001b[0m\n"
     ]
    },
    {
     "name": "stdout",
     "output_type": "stream",
     "text": [
      "\n"
     ]
    },
    {
     "data": {
      "application/vnd.jupyter.widget-view+json": {
       "model_id": "23d6a4a5524f4828b881ce2b84eda702",
       "version_major": 2,
       "version_minor": 0
      },
      "text/plain": [
       "HBox(children=(HTML(value=''), FloatProgress(value=1.0, bar_style='info', layout=Layout(width='20px'), max=1.0…"
      ]
     },
     "metadata": {},
     "output_type": "display_data"
    },
    {
     "name": "stderr",
     "output_type": "stream",
     "text": [
      "\u001b[32m[I 2021-12-29 19:46:29,554]\u001b[0m Trial 27 pruned. \u001b[0m\n",
      "\u001b[32m[I 2021-12-29 19:46:29,592]\u001b[0m Trial 28 pruned. \u001b[0m\n"
     ]
    },
    {
     "name": "stdout",
     "output_type": "stream",
     "text": [
      "\n",
      "\n"
     ]
    },
    {
     "name": "stderr",
     "output_type": "stream",
     "text": [
      "\u001b[32m[I 2021-12-29 19:46:31,754]\u001b[0m Trial 29 pruned. \u001b[0m\n"
     ]
    },
    {
     "name": "stdout",
     "output_type": "stream",
     "text": [
      "\n"
     ]
    },
    {
     "name": "stderr",
     "output_type": "stream",
     "text": [
      "\u001b[32m[I 2021-12-29 19:46:49,339]\u001b[0m Trial 22 pruned. \u001b[0m\n"
     ]
    },
    {
     "name": "stdout",
     "output_type": "stream",
     "text": [
      "\n"
     ]
    }
   ],
   "source": [
    "study = optuna.create_study(direction=\"maximize\")  # Create a new study.\n",
    "study.optimize(objective, n_trials=30, n_jobs=4)"
   ]
  },
  {
   "cell_type": "code",
   "execution_count": 9,
   "metadata": {},
   "outputs": [
    {
     "data": {
      "text/plain": [
       "FrozenTrial(number=1, values=[0.7233597738420243], datetime_start=datetime.datetime(2021, 12, 29, 19, 26, 44, 346118), datetime_complete=datetime.datetime(2021, 12, 29, 19, 27, 12, 458390), params={'Scaler1': 'MinMax', 'Scaler2': 'MinMax', 'pc_comps': 7, 'C': 107210153.49450926}, distributions={'Scaler1': CategoricalDistribution(choices=('Std', 'Robust', 'MinMax')), 'Scaler2': CategoricalDistribution(choices=('Std', 'Robust', 'MinMax')), 'pc_comps': IntUniformDistribution(high=10, low=2, step=1), 'C': LogUniformDistribution(high=10000000000.0, low=1000.0)}, user_attrs={}, system_attrs={}, intermediate_values={0: 0.6425992535687283, 1: 0.7813838589145391, 2: 0.6573327156368153, 3: 0.7233597738420243, 4: 0.7696154044947654}, trial_id=1, state=TrialState.COMPLETE, value=None)"
      ]
     },
     "execution_count": 9,
     "metadata": {},
     "output_type": "execute_result"
    }
   ],
   "source": [
    "study.best_trial"
   ]
  }
 ],
 "metadata": {
  "interpreter": {
   "hash": "a591af12c696d2ef8ad71924f69ac74b896a760e40c011279500eec9f445cd3e"
  },
  "kernelspec": {
   "display_name": "Python 3.8.0 64-bit ('PHD': conda)",
   "language": "python",
   "name": "python3"
  },
  "language_info": {
   "codemirror_mode": {
    "name": "ipython",
    "version": 3
   },
   "file_extension": ".py",
   "mimetype": "text/x-python",
   "name": "python",
   "nbconvert_exporter": "python",
   "pygments_lexer": "ipython3",
   "version": "3.8.12"
  },
  "orig_nbformat": 4
 },
 "nbformat": 4,
 "nbformat_minor": 2
}

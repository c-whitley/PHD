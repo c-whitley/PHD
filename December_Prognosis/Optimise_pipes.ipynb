{
 "cells": [
  {
   "cell_type": "code",
   "execution_count": 7,
   "metadata": {},
   "outputs": [
    {
     "name": "stdout",
     "output_type": "stream",
     "text": [
      "The autoreload extension is already loaded. To reload it, use:\n",
      "  %reload_ext autoreload\n"
     ]
    }
   ],
   "source": [
    "%load_ext autoreload\n",
    "\n",
    "%autoreload 2"
   ]
  },
  {
   "cell_type": "code",
   "execution_count": 8,
   "metadata": {},
   "outputs": [],
   "source": [
    "import numpy as np\n",
    "import pandas as pd\n",
    "import matplotlib.pyplot as plt\n",
    "\n",
    "import os\n",
    "\n",
    "from sklearn.preprocessing import FunctionTransformer\n",
    "from sklearn.preprocessing import minmax_scale, normalize, robust_scale, OrdinalEncoder,OneHotEncoder\n",
    "\n",
    "from sklearn.kernel_approximation import Nystroem\n",
    "from sklearn.compose import make_column_transformer\n",
    "from sklearn.compose import make_column_selector\n",
    "\n",
    "from sklearn.pipeline import Pipeline\n",
    "from sklearn.decomposition import PCA\n",
    "from sklearn.utils import compute_sample_weight\n",
    "from sklearn.linear_model import LogisticRegression\n",
    "from sklearn.ensemble import RandomForestClassifier\n",
    "from sklearn.calibration import CalibratedClassifierCV\n",
    "from sklearn.discriminant_analysis import LinearDiscriminantAnalysis\n",
    "\n",
    "from sklearn.metrics import roc_auc_score\n",
    "\n",
    "sys.path.append('/mnt/c/Users/conor/Git_Projects/PHD/')\n",
    "\n",
    "from Preprocessing_Methods import *\n",
    "\n",
    "from TSquared.hotelling_t2 import HotellingT2\n",
    "\n",
    "from tqdm.notebook import tqdm"
   ]
  },
  {
   "cell_type": "code",
   "execution_count": 11,
   "metadata": {},
   "outputs": [],
   "source": [
    "def best_pipe():\n",
    "\n",
    "    scalers = {'Std': normalize\n",
    "            ,'Robust': robust_scale\n",
    "            ,'MinMax': minmax_scale\n",
    "            }\n",
    "\n",
    "    num_pipe = Pipeline([\n",
    "    (\"Normalise spectra\", FunctionTransformer(scalers['MinMax'], kw_args = {\"axis\": 1})),\n",
    "    (\"Feature Scale\", FunctionTransformer(scalers['MinMax'], kw_args = {\"axis\": 0})),\n",
    "    (\"PCA\", PCA(7)),\n",
    "    ])\n",
    "\n",
    "    cat_pipe = Pipeline([\n",
    "        (\"OneHot\", OneHotEncoder(sparse=False, handle_unknown='ignore', dtype=int))\n",
    "        #(\"Encoding\", OrdinalEncoder(handle_unknown='ignore', dtype=int))\n",
    "    ])\n",
    "\n",
    "    ct = make_column_transformer(\n",
    "        (num_pipe, make_column_selector(dtype_include=np.number)),\n",
    "        (cat_pipe, make_column_selector(dtype_include=object))\n",
    "    )\n",
    "\n",
    "    clf = LogisticRegression(C=1e5)\n",
    "\n",
    "    pipe = Pipeline([('Preprocess', ct), ('Classifier', clf)])\n",
    "\n",
    "    return pipe"
   ]
  },
  {
   "cell_type": "code",
   "execution_count": 10,
   "metadata": {},
   "outputs": [],
   "source": [
    "def create_pipe():\n",
    "\n",
    "    numeric_pipe = Pipeline([\n",
    "    (\"Normalise spectra\", FunctionTransformer(minmax_scale, kw_args = {\"axis\": 1})),\n",
    "    (\"Feature Scale\", StandardScaler()),\n",
    "    (\"PCA\", PCA(0.99))\n",
    "    ])\n",
    "\n",
    "    categorical_pipe = Pipeline([\n",
    "        (\"OneHot\", OneHotEncoder(sparse=False, handle_unknown='use_encoded_value', dtype=int))\n",
    "    ])\n",
    "\n",
    "    ct = make_column_transformer(\n",
    "        (numeric_pipe,     make_column_selector(dtype_include=np.number)),\n",
    "        (categorical_pipe, make_column_selector(dtype_include=object))\n",
    "    )\n",
    "\n",
    "    #pipe = Pipeline([('Preprocess', ct), ('Classifier', LogisticRegression())])\n",
    "    pipe = Pipeline([('Preprocess', ct), ('Classifier', LogisticRegression())])\n",
    "\n",
    "    return pipe"
   ]
  },
  {
   "cell_type": "code",
   "execution_count": 12,
   "metadata": {},
   "outputs": [],
   "source": [
    "bootstrap_pats = pd.read_pickle('./train_indices_20_December.pickle')\n",
    "\n",
    "def bootstrap_it(n):\n",
    "\n",
    "    for idx, row in bootstrap_pats.iloc[:n,:].iterrows():\n",
    "\n",
    "        train_i = sel.query(f\"Patient_Number in {list(row.iloc[0])}\").reset_index()['IDX'].values\n",
    "        test_i = sel.query(f\"Patient_Number in {list(row.iloc[1])}\").reset_index()['IDX'].values \n",
    "\n",
    "        yield train_i, test_i"
   ]
  },
  {
   "cell_type": "code",
   "execution_count": 14,
   "metadata": {},
   "outputs": [],
   "source": [
    "y_label = 'Opt_Group'\n",
    "\n",
    "total = pd.read_pickle('./December_Datat_32.pickle')\n",
    "#total = truncate(total, start=1000, end=1800)\n",
    "\n",
    "ht2 = HotellingT2().fit(total)\n",
    "#total = total.loc[ht2.predict(total)==1,:]\n",
    "\n",
    "min_ = total.index.get_level_values('Patient_Number').value_counts().min()\n",
    "sel = total#.groupby('Patient_Number').sample(min_)\n",
    "sel = sel.reset_index(['ASMA']).dropna()#.sample(2000)\n",
    "sel['IDX'] = np.arange(sel.shape[0])\n",
    "sel = sel.set_index('IDX', append=True)\n",
    "\n",
    "sel.columns = [str(col) for col in sel.columns]"
   ]
  },
  {
   "cell_type": "code",
   "execution_count": 17,
   "metadata": {},
   "outputs": [
    {
     "data": {
      "application/vnd.jupyter.widget-view+json": {
       "model_id": "7c1ae4992934410ea9b5d3643cfb9874",
       "version_major": 2,
       "version_minor": 0
      },
      "text/plain": [
       "0it [00:00, ?it/s]"
      ]
     },
     "metadata": {},
     "output_type": "display_data"
    },
    {
     "data": {
      "application/vnd.jupyter.widget-view+json": {
       "model_id": "2cc420e76ad345a89bd44a3a5f1761bb",
       "version_major": 2,
       "version_minor": 0
      },
      "text/plain": [
       "0it [00:00, ?it/s]"
      ]
     },
     "metadata": {},
     "output_type": "display_data"
    },
    {
     "data": {
      "application/vnd.jupyter.widget-view+json": {
       "model_id": "dd920eba554c48a4ad53ee55489f8053",
       "version_major": 2,
       "version_minor": 0
      },
      "text/plain": [
       "0it [00:00, ?it/s]"
      ]
     },
     "metadata": {},
     "output_type": "display_data"
    }
   ],
   "source": [
    "for y_label in ['1yeardeath', '2year', 'Opt_Group']:\n",
    "\n",
    "    y_label='2year'\n",
    "\n",
    "    patient_weights = compute_sample_weight('balanced', sel.reset_index()['Patient_Number'])\n",
    "    label_weights = compute_sample_weight('balanced', sel.reset_index()[y_label])\n",
    "\n",
    "    weights = patient_weights * label_weights\n",
    "\n",
    "    for name, X_data in zip(['ASMA', 'ASMA_FTIR', 'FTIR'], [sel.iloc[:,[0]], sel, sel.iloc[:,1:]]):\n",
    "\n",
    "        straps = dict()\n",
    "\n",
    "        for i, (train_i, test_i) in tqdm(enumerate(bootstrap_it(100))):\n",
    "            \n",
    "            pipe = best_pipe()\n",
    "            #pipe.fit(X_data.iloc[train_i,:], sel.iloc[train_i,:].index.get_level_values(f'{y_label}').astype(int), **{'Classifier__sample_weight': weights[train_i]})\n",
    "            pipe.fit(X_data.iloc[train_i,:], sel.iloc[train_i,:].index.get_level_values(f'{y_label}').astype(int), **{'Classifier__sample_weight': weights[train_i]})\n",
    "\n",
    "            pred_df = pd.DataFrame(pipe.predict_proba(X_data.iloc[test_i])[:,1], columns=['Preds'], index=sel.iloc[test_i].index)\n",
    "            pred_df['Y_true'] = sel.iloc[test_i,:].index.get_level_values(f'{y_label}').astype(int)\n",
    "            pred_df['Weights'] = weights[test_i]\n",
    "\n",
    "            straps[i] = pred_df.astype(np.float16)\n",
    "\n",
    "        save_path = f'./Results/best_Opt/{y_label}/{name}'\n",
    "\n",
    "        if not os.path.exists(save_path):\n",
    "\n",
    "            os.makedirs(save_path)\n",
    "\n",
    "        pd.concat(straps).to_pickle(f'./Results/best_Opt/{y_label}/{name}/results_March.pickle')\n",
    "    break"
   ]
  }
 ],
 "metadata": {
  "interpreter": {
   "hash": "a591af12c696d2ef8ad71924f69ac74b896a760e40c011279500eec9f445cd3e"
  },
  "kernelspec": {
   "display_name": "Python 3.8.0 64-bit ('PHD': conda)",
   "language": "python",
   "name": "python3"
  },
  "language_info": {
   "codemirror_mode": {
    "name": "ipython",
    "version": 3
   },
   "file_extension": ".py",
   "mimetype": "text/x-python",
   "name": "python",
   "nbconvert_exporter": "python",
   "pygments_lexer": "ipython3",
   "version": "3.8.12"
  },
  "orig_nbformat": 4
 },
 "nbformat": 4,
 "nbformat_minor": 2
}

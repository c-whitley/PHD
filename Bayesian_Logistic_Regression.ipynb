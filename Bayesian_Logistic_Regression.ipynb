{
 "metadata": {
  "language_info": {
   "codemirror_mode": {
    "name": "ipython",
    "version": 3
   },
   "file_extension": ".py",
   "mimetype": "text/x-python",
   "name": "python",
   "nbconvert_exporter": "python",
   "pygments_lexer": "ipython3",
   "version": "3.8.0"
  },
  "orig_nbformat": 2,
  "kernelspec": {
   "name": "python380jvsc74a57bd0eaa00e46caca58319536d0032152cd5eb76a9b72fbc9a3af026d9e62232c8082",
   "display_name": "Python 3.8.0 64-bit ('PHD': conda)"
  }
 },
 "nbformat": 4,
 "nbformat_minor": 2,
 "cells": [
  {
   "cell_type": "code",
   "execution_count": 24,
   "metadata": {},
   "outputs": [
    {
     "output_type": "stream",
     "name": "stdout",
     "text": [
      "The autoreload extension is already loaded. To reload it, use:\n  %reload_ext autoreload\n"
     ]
    }
   ],
   "source": [
    "%load_ext autoreload\n",
    "\n",
    "%autoreload 2"
   ]
  },
  {
   "cell_type": "code",
   "execution_count": 25,
   "metadata": {},
   "outputs": [],
   "source": [
    "from tqdm.notebook import tqdm\n",
    "import time\n",
    "\n",
    "import numpy as np\n",
    "import pandas as pd\n",
    "import matplotlib.pyplot as plt\n",
    "import seaborn as sns\n",
    "\n",
    "from datetime import datetime\n",
    "\n",
    "import glob\n",
    "import os\n",
    "import sys\n",
    "\n",
    "from tqdm.notebook import tqdm\n",
    "from datetime import datetime\n",
    "\n",
    "import Cross_Eval\n",
    "from Preprocessing_Methods import *\n",
    "from stratgroupkfold import StratifiedGroupKFold\n",
    "\n",
    "from sklearn.pipeline import Pipeline\n",
    "\n",
    "from sklearn.preprocessing import FunctionTransformer, RobustScaler, MinMaxScaler, StandardScaler, LabelBinarizer\n",
    "from sklearn.preprocessing import normalize, robust_scale, minmax_scale\n",
    "\n",
    "from sklearn.preprocessing import OneHotEncoder,KBinsDiscretizer\n",
    "from sklearn.compose import ColumnTransformer\n",
    "\n",
    "from sklearn.decomposition import PCA\n",
    "from sklearn.discriminant_analysis import LinearDiscriminantAnalysis\n",
    "from sklearn.ensemble import RandomForestClassifier\n",
    "from sklearn.linear_model import LogisticRegression\n",
    "\n",
    "from sklearn.calibration import CalibratedClassifierCV\n",
    "\n",
    "from sklearn.kernel_approximation import RBFSampler, Nystroem\n",
    "\n",
    "from sklearn.model_selection import train_test_split\n",
    "from sklearn.model_selection import cross_validate, GroupKFold, KFold, train_test_split\n",
    "\n",
    "from sklearn.metrics import make_scorer, confusion_matrix, roc_auc_score, roc_curve, plot_confusion_matrix, f1_score, recall_score, accuracy_score\n",
    "\n",
    "from sklearn.multiclass import OneVsRestClassifier\n",
    "\n",
    "from sklearn.utils import compute_class_weight, compute_sample_weight\n",
    "\n",
    "from mlxtend.evaluate import scoring\n",
    "from mlxtend.evaluate import BootstrapOutOfBag"
   ]
  },
  {
   "source": [
    "# Preparing Metadata/Labels"
   ],
   "cell_type": "markdown",
   "metadata": {}
  },
  {
   "cell_type": "code",
   "execution_count": 26,
   "metadata": {},
   "outputs": [],
   "source": [
    "all_files = pd.DataFrame(glob.glob(\"/mnt/c/Users/conor/Google Drive/PhD/Project with Janet/Extracted_Spectra/*.pickle\"), columns = [\"hdf_loc\"])\n",
    "\n",
    "try:all_files = pd.DataFrame(glob.glob(\"/mnt/d/Conor/Extracted_Spectra/*.pickle\"), columns = [\"hdf_loc\"])\n",
    "except:all_files = pd.DataFrame(glob.glob(\"/mnt/c/Users/conor/Google Drive/PhD/Project with Janet/Extracted_Spectra/*.pickle\"), columns = [\"hdf_loc\"])\n",
    "\n",
    "all_files = pd.DataFrame(glob.glob(\"/mnt/c/Users/conor/Google Drive/PhD/Project with Janet/Extracted_Spectra/*.pickle\"), columns = [\"hdf_loc\"])\n",
    "\n",
    "all_files[\"TMA\"] = all_files.apply(lambda row: float(row[\"hdf_loc\"].split(\"/\")[-1][4:5]), axis = 1)\n",
    "all_files[\"Core\"] = all_files.apply(lambda row: row[\"hdf_loc\"].split(\"/\")[-1][8:-7], axis = 1)"
   ]
  },
  {
   "cell_type": "code",
   "execution_count": 27,
   "metadata": {},
   "outputs": [
    {
     "output_type": "stream",
     "name": "stdout",
     "text": [
      "(79, 18)\n"
     ]
    }
   ],
   "source": [
    "try:metadata = pd.read_excel(\"/mnt/b/Google_Drive/PhD/Project with Janet/Scoring grids Advancing Front (TMAs 1-3).xlsx\", sheet_name = \"reformatted\")\n",
    "except:metadata = pd.read_excel(\"/mnt/c/Users/conor/Google Drive/PhD/Project with Janet/Scoring grids Advancing Front (TMAs 1-3).xlsx\", sheet_name = \"reformatted\")\n",
    "\n",
    "metadata = metadata.merge(all_files, left_on = [\"TMA\", \"TMA site\"], right_on = [\"TMA\", \"Core\"])\n",
    "print(metadata.shape)\n",
    "\n",
    "try:new_metadata = pd.read_excel(\"/mnt/b/Google_Drive/PhD/Project with Janet/new_metadata.xlsx\")\n",
    "except:new_metadata = pd.read_excel(\"/mnt/c/Users/conor/Google Drive/PhD/Project with Janet/new_metadata.xlsx\")"
   ]
  },
  {
   "cell_type": "code",
   "execution_count": 28,
   "metadata": {},
   "outputs": [],
   "source": [
    "new_metadata[\"DODvsAlive\"] = new_metadata[\"OUTCOME\"].map(\n",
    "                            {\"DOD\" : \"DOD\",\n",
    "                             \"alive\": \"Other\",\n",
    "                             \"died other\" : \"Other\",\n",
    "                             \"died\" : \"Other\",\n",
    "                             \"Died\" : \"Other\",\n",
    "                             \"Died other\": \"Other\"})\n",
    "\n",
    "new_metadata[\"DiedvsAlive\"] = new_metadata[\"OUTCOME\"].map(\n",
    "                            {\"DOD\" : \"Died\",\n",
    "                             \"alive\": \"Alive\",\n",
    "                             \"died other\" : \"Died\",\n",
    "                             \"died\" : \"Died\",\n",
    "                             \"Died\" : \"Died\",\n",
    "                             \"Died other\": \"Died\"})\n",
    "\n",
    "new_metadata[\"ECS\"] = new_metadata[\"ECS\"].map(\n",
    "                            {\"y\" : \"Y\",\n",
    "                             \"Y\": \"Y\",\n",
    "                             \"N\" : \"N\",\n",
    "                             \"n\" : \"N\"})"
   ]
  },
  {
   "cell_type": "code",
   "execution_count": 29,
   "metadata": {},
   "outputs": [],
   "source": [
    "new_metadata['lifespan'] = new_metadata['Date of death'] - new_metadata['date of diag']\n",
    "new_metadata[\"Years\"] = new_metadata['Date of death'].dt.year - new_metadata['date of diag'].dt.year"
   ]
  },
  {
   "cell_type": "code",
   "execution_count": 30,
   "metadata": {},
   "outputs": [],
   "source": [
    "# Did the patient survive beyond n years?\n",
    "for i in np.arange(0,5,1):\n",
    "    \n",
    "    s = (365*i)\n",
    "    e = (365*(i+2))\n",
    "    \n",
    "    new_metadata[f\"{i+1}year\"] = new_metadata.apply(lambda row: True if s<(row['lifespan']).days<e and row.OUTCOME not in ['Alive',\"alive\"] else False, axis = 1)"
   ]
  },
  {
   "cell_type": "code",
   "execution_count": 31,
   "metadata": {},
   "outputs": [],
   "source": [
    "new_metadata[f\"1yeardeath\"] = new_metadata.apply(lambda row: True if (row['lifespan']).days<365 and row.OUTCOME not in ['Alive',\"alive\"] else False, axis = 1)\n",
    "\n",
    "bins = np.arange(0, new_metadata[\"Years\"].max(),2)\n",
    "\n",
    "new_metadata[\"2years\"] = np.digitize(new_metadata[\"Years\"], bins)"
   ]
  },
  {
   "source": [
    "# Import ASMA data"
   ],
   "cell_type": "markdown",
   "metadata": {}
  },
  {
   "cell_type": "code",
   "execution_count": 33,
   "metadata": {},
   "outputs": [],
   "source": [
    "try:asma = pd.read_excel(\"/mnt/b/Google_Drive/PhD/Project with Janet/ASMA.xlsx\", sheet_name = \"Sheet3\")\n",
    "except:asma = pd.read_excel(\"/mnt/c/Users/conor/Google Drive/PhD/Project with Janet/ASMA.xlsx\", sheet_name = \"Sheet3\")\n",
    "\n",
    "new_metadata = new_metadata.merge(asma, left_on = \"Patient_Number\", right_on = \"Case ID\")"
   ]
  },
  {
   "cell_type": "code",
   "execution_count": 34,
   "metadata": {},
   "outputs": [
    {
     "output_type": "execute_result",
     "data": {
      "text/plain": [
       "    Patient_Number gender date of diag  age @ diag            site pT  pN  \\\n",
       "0             3143      m   2004-03-29          58  floor of mouth  4   0   \n",
       "1             3167      m   2004-09-30          74  floor of mouth  2   2   \n",
       "2             3169      m   2004-10-28          63  floor of mouth  3   1   \n",
       "3             3170      m   2004-11-22          59           other  4  2b   \n",
       "4             3230      m   2006-01-26          74          tongue  2   1   \n",
       "..             ...    ...          ...         ...             ... ..  ..   \n",
       "97            3568      m   2010-03-04          74  floor of mouth  2  2c   \n",
       "98            3574      m   2010-04-15          51          tongue  2  2b   \n",
       "99            3578      f   2010-04-26          44           other  4  2b   \n",
       "100           3583      m   2010-06-07          56          tongue  3  2b   \n",
       "101           3585      m   2010-05-13          68          tongue  2   1   \n",
       "\n",
       "    stage ECS     OUTCOME  ... Years  1year  2year  3year  4year  5year  \\\n",
       "0       4   N         DOD  ...   9.0  False  False  False  False  False   \n",
       "1       4   Y         DOD  ...   1.0   True   True  False  False  False   \n",
       "2       3   N  died other  ...   2.0   True   True  False  False  False   \n",
       "3      4a   Y  Died other  ...  10.0  False  False  False  False  False   \n",
       "4       3   Y         DOD  ...   0.0   True  False  False  False  False   \n",
       "..    ...  ..         ...  ...   ...    ...    ...    ...    ...    ...   \n",
       "97     4a   Y  died other  ...   0.0   True  False  False  False  False   \n",
       "98     4a   N  died other  ...   5.0  False  False  False  False   True   \n",
       "99    NaN   Y       alive  ...   NaN  False  False  False  False  False   \n",
       "100    4a   Y       alive  ...   NaN  False  False  False  False  False   \n",
       "101     3   N       alive  ...   NaN  False  False  False  False  False   \n",
       "\n",
       "    1yeardeath 2years Case ID ASMA  \n",
       "0        False      5    3143    H  \n",
       "1        False      1    3167    H  \n",
       "2        False      2    3169    L  \n",
       "3        False      6    3170    H  \n",
       "4         True      1    3230    H  \n",
       "..         ...    ...     ...  ...  \n",
       "97        True      1    3568    H  \n",
       "98       False      3    3574    I  \n",
       "99       False      6    3578  NaN  \n",
       "100      False      6    3583    L  \n",
       "101      False      6    3585    H  \n",
       "\n",
       "[102 rows x 30 columns]"
      ],
      "text/html": "<div>\n<style scoped>\n    .dataframe tbody tr th:only-of-type {\n        vertical-align: middle;\n    }\n\n    .dataframe tbody tr th {\n        vertical-align: top;\n    }\n\n    .dataframe thead th {\n        text-align: right;\n    }\n</style>\n<table border=\"1\" class=\"dataframe\">\n  <thead>\n    <tr style=\"text-align: right;\">\n      <th></th>\n      <th>Patient_Number</th>\n      <th>gender</th>\n      <th>date of diag</th>\n      <th>age @ diag</th>\n      <th>site</th>\n      <th>pT</th>\n      <th>pN</th>\n      <th>stage</th>\n      <th>ECS</th>\n      <th>OUTCOME</th>\n      <th>...</th>\n      <th>Years</th>\n      <th>1year</th>\n      <th>2year</th>\n      <th>3year</th>\n      <th>4year</th>\n      <th>5year</th>\n      <th>1yeardeath</th>\n      <th>2years</th>\n      <th>Case ID</th>\n      <th>ASMA</th>\n    </tr>\n  </thead>\n  <tbody>\n    <tr>\n      <th>0</th>\n      <td>3143</td>\n      <td>m</td>\n      <td>2004-03-29</td>\n      <td>58</td>\n      <td>floor of mouth</td>\n      <td>4</td>\n      <td>0</td>\n      <td>4</td>\n      <td>N</td>\n      <td>DOD</td>\n      <td>...</td>\n      <td>9.0</td>\n      <td>False</td>\n      <td>False</td>\n      <td>False</td>\n      <td>False</td>\n      <td>False</td>\n      <td>False</td>\n      <td>5</td>\n      <td>3143</td>\n      <td>H</td>\n    </tr>\n    <tr>\n      <th>1</th>\n      <td>3167</td>\n      <td>m</td>\n      <td>2004-09-30</td>\n      <td>74</td>\n      <td>floor of mouth</td>\n      <td>2</td>\n      <td>2</td>\n      <td>4</td>\n      <td>Y</td>\n      <td>DOD</td>\n      <td>...</td>\n      <td>1.0</td>\n      <td>True</td>\n      <td>True</td>\n      <td>False</td>\n      <td>False</td>\n      <td>False</td>\n      <td>False</td>\n      <td>1</td>\n      <td>3167</td>\n      <td>H</td>\n    </tr>\n    <tr>\n      <th>2</th>\n      <td>3169</td>\n      <td>m</td>\n      <td>2004-10-28</td>\n      <td>63</td>\n      <td>floor of mouth</td>\n      <td>3</td>\n      <td>1</td>\n      <td>3</td>\n      <td>N</td>\n      <td>died other</td>\n      <td>...</td>\n      <td>2.0</td>\n      <td>True</td>\n      <td>True</td>\n      <td>False</td>\n      <td>False</td>\n      <td>False</td>\n      <td>False</td>\n      <td>2</td>\n      <td>3169</td>\n      <td>L</td>\n    </tr>\n    <tr>\n      <th>3</th>\n      <td>3170</td>\n      <td>m</td>\n      <td>2004-11-22</td>\n      <td>59</td>\n      <td>other</td>\n      <td>4</td>\n      <td>2b</td>\n      <td>4a</td>\n      <td>Y</td>\n      <td>Died other</td>\n      <td>...</td>\n      <td>10.0</td>\n      <td>False</td>\n      <td>False</td>\n      <td>False</td>\n      <td>False</td>\n      <td>False</td>\n      <td>False</td>\n      <td>6</td>\n      <td>3170</td>\n      <td>H</td>\n    </tr>\n    <tr>\n      <th>4</th>\n      <td>3230</td>\n      <td>m</td>\n      <td>2006-01-26</td>\n      <td>74</td>\n      <td>tongue</td>\n      <td>2</td>\n      <td>1</td>\n      <td>3</td>\n      <td>Y</td>\n      <td>DOD</td>\n      <td>...</td>\n      <td>0.0</td>\n      <td>True</td>\n      <td>False</td>\n      <td>False</td>\n      <td>False</td>\n      <td>False</td>\n      <td>True</td>\n      <td>1</td>\n      <td>3230</td>\n      <td>H</td>\n    </tr>\n    <tr>\n      <th>...</th>\n      <td>...</td>\n      <td>...</td>\n      <td>...</td>\n      <td>...</td>\n      <td>...</td>\n      <td>...</td>\n      <td>...</td>\n      <td>...</td>\n      <td>...</td>\n      <td>...</td>\n      <td>...</td>\n      <td>...</td>\n      <td>...</td>\n      <td>...</td>\n      <td>...</td>\n      <td>...</td>\n      <td>...</td>\n      <td>...</td>\n      <td>...</td>\n      <td>...</td>\n      <td>...</td>\n    </tr>\n    <tr>\n      <th>97</th>\n      <td>3568</td>\n      <td>m</td>\n      <td>2010-03-04</td>\n      <td>74</td>\n      <td>floor of mouth</td>\n      <td>2</td>\n      <td>2c</td>\n      <td>4a</td>\n      <td>Y</td>\n      <td>died other</td>\n      <td>...</td>\n      <td>0.0</td>\n      <td>True</td>\n      <td>False</td>\n      <td>False</td>\n      <td>False</td>\n      <td>False</td>\n      <td>True</td>\n      <td>1</td>\n      <td>3568</td>\n      <td>H</td>\n    </tr>\n    <tr>\n      <th>98</th>\n      <td>3574</td>\n      <td>m</td>\n      <td>2010-04-15</td>\n      <td>51</td>\n      <td>tongue</td>\n      <td>2</td>\n      <td>2b</td>\n      <td>4a</td>\n      <td>N</td>\n      <td>died other</td>\n      <td>...</td>\n      <td>5.0</td>\n      <td>False</td>\n      <td>False</td>\n      <td>False</td>\n      <td>False</td>\n      <td>True</td>\n      <td>False</td>\n      <td>3</td>\n      <td>3574</td>\n      <td>I</td>\n    </tr>\n    <tr>\n      <th>99</th>\n      <td>3578</td>\n      <td>f</td>\n      <td>2010-04-26</td>\n      <td>44</td>\n      <td>other</td>\n      <td>4</td>\n      <td>2b</td>\n      <td>NaN</td>\n      <td>Y</td>\n      <td>alive</td>\n      <td>...</td>\n      <td>NaN</td>\n      <td>False</td>\n      <td>False</td>\n      <td>False</td>\n      <td>False</td>\n      <td>False</td>\n      <td>False</td>\n      <td>6</td>\n      <td>3578</td>\n      <td>NaN</td>\n    </tr>\n    <tr>\n      <th>100</th>\n      <td>3583</td>\n      <td>m</td>\n      <td>2010-06-07</td>\n      <td>56</td>\n      <td>tongue</td>\n      <td>3</td>\n      <td>2b</td>\n      <td>4a</td>\n      <td>Y</td>\n      <td>alive</td>\n      <td>...</td>\n      <td>NaN</td>\n      <td>False</td>\n      <td>False</td>\n      <td>False</td>\n      <td>False</td>\n      <td>False</td>\n      <td>False</td>\n      <td>6</td>\n      <td>3583</td>\n      <td>L</td>\n    </tr>\n    <tr>\n      <th>101</th>\n      <td>3585</td>\n      <td>m</td>\n      <td>2010-05-13</td>\n      <td>68</td>\n      <td>tongue</td>\n      <td>2</td>\n      <td>1</td>\n      <td>3</td>\n      <td>N</td>\n      <td>alive</td>\n      <td>...</td>\n      <td>NaN</td>\n      <td>False</td>\n      <td>False</td>\n      <td>False</td>\n      <td>False</td>\n      <td>False</td>\n      <td>False</td>\n      <td>6</td>\n      <td>3585</td>\n      <td>H</td>\n    </tr>\n  </tbody>\n</table>\n<p>102 rows × 30 columns</p>\n</div>"
     },
     "metadata": {},
     "execution_count": 34
    }
   ],
   "source": [
    "new_metadata"
   ]
  },
  {
   "source": [
    "# Import data and preprocess"
   ],
   "cell_type": "markdown",
   "metadata": {}
  },
  {
   "source": [
    "select = ['Tumour']\n",
    "\n",
    "total = pd.concat({\"{}-{}\".format(row[\"TMA\"], row[\"Core\"]):\n",
    "                   truncate(pd.read_pickle(row[\"hdf_loc\"]).query(f\"Tissue in {select}\").sample(frac = 1), start = 1000, end = 1800)\n",
    "                   for name, row in tqdm(list(metadata.iterrows()))}, names = [\"ID\"])\n",
    "\n",
    "wn_cols = total.columns\n",
    "#total = total.merge(new_metadata, left_on = \"Patient nu \", right_on = \"Patient Number\")\n",
    "#total = total.drop(np.nan, level = \"Overall Death \")"
   ],
   "cell_type": "markdown",
   "metadata": {}
  },
  {
   "cell_type": "code",
   "execution_count": 35,
   "metadata": {},
   "outputs": [
    {
     "output_type": "execute_result",
     "data": {
      "text/plain": [
       "  \n",
       "                                                                                                                                                                                                                                                                                                                                                                                                                                                                                                                                            15.0               0.022729   \n",
       "                                                                                                                                                                                                                                                                                                                                                                                                                                                                                                                                            15.0               0.022382   \n",
       "                                                                                                                                                                                                                                                                                                                                                                                                                                                                                                                                            15.0               0.023112   \n",
       "                                                                                                                                                                                                                                                                                                                                                                                                                                                                                                                                            15.0               0.022800   \n",
       "...                                                                                                                                                                                                                                                                                                                                                                                                                                                                                                                                                                 ...   \n",
       "                   True         False 1      False False False H      H      3484.0    3484      oral tongue              DOD        2009-12-02    2009-09-09         52.0          Died        yes   Y     2.0-H11 NaT                2020-04-21   2b      DOD     PG                 yes            pT3N2bM0         3484           3484.0      yes         3       2.0 H11      0.0   island               52         2009-01-26   mod  m        m        310 days 2b 3  Yes          yes        tongue         regional & mets    NaN   12.0               0.026437   \n",
       "                                                                                                                                                                                                                                                                                                                                                                                                                                                                                                                                            12.0               0.026096   \n",
       "                                                                                                                                                                                                                                                                                                                                                                                                                                                                                                                                            12.0               0.035534   \n",
       "                                                                                                                                                                                                                                                                                                                                                                                                                                                                                                                                            12.0               0.040737   \n",
       "                                                                                                                                                                                                                                                                                                                                                                                                                                                                                                                                            12.0               0.050416   \n",
       "\n",
       "                                                                                                                                                                                                                                                                                                                                                                                                                                                                                                                                                                 1793.0  \\\n",
       "1year 1yeardeath_x 1yeardeath_y 2year 2years 3year 4year 5year ASMA_x ASMA_y Case ID_x Case ID_y Corrected Site AJCC/UICC DODvsAlive Date of death Date of recurrence Diagnosis Age DiedvsAlive ECS_x ECS_y ID      Last seen/reviewed Last updated N stage OUTCOME OUTCOME.updated by Overall Death  Pathogical Stage Patient_Number Patient_nu  Recurrence? T stage TMA TMA site Years advancing front type age @ diag date of diag diff gender_x gender_y lifespan pN pT radiotherapy recurrence site           site of recurrence stage survival (months)             \n",
       "True  False        False        True  1      False False False I      I      3254.0    3254      FOM                      DOD        2007-10-22    2007-08-09         48.0          Died        no    N     2.0-A2  NaT                2012-10-04   2c      DOD     CBarry             yes            pT2N2cMx         3254           3254.0      yes         2       2.0 A2       1.0   islets               48         2006-06-12   mod  f        f        497 days 2c 2  yes          yes        floor of mouth metastases         4     15.0               0.024735   \n",
       "                                                                                                                                                                                                                                                                                                                                                                                                                                                                                                                                            15.0               0.022015   \n",
       "                                                                                                                                                                                                                                                                                                                                                                                                                                                                                                                                            15.0               0.020675   \n",
       "                                                                                                                                                                                                                                                                                                                                                                                                                                                                                                                                            15.0               0.022484   \n",
       "                                                                                                                                                                                                                                                                                                                                                                                                                                                                                                                                            15.0               0.021426   \n",
       "...                                                                                                                                                                                                                                                                                                                                                                                                                                                                                                                                                                 ...   \n",
       "                   True         False 1      False False False H      H      3484.0    3484      oral tongue              DOD        2009-12-02    2009-09-09         52.0          Died        yes   Y     2.0-H11 NaT                2020-04-21   2b      DOD     PG                 yes            pT3N2bM0         3484           3484.0      yes         3       2.0 H11      0.0   island               52         2009-01-26   mod  m        m        310 days 2b 3  Yes          yes        tongue         regional & mets    NaN   12.0               0.026350   \n",
       "                                                                                                                                                                                                                                                                                                                                                                                                                                                                                                                                            12.0               0.025907   \n",
       "                                                                                                                                                                                                                                                                                                                                                                                                                                                                                                                                            12.0               0.033039   \n",
       "                                                                                                                                                                                                                                                                                                                                                                                                                                                                                                                                            12.0               0.038583   \n",
       "                                                                                                                                                                                                                                                                                                                                                                                                                                                                                                                                            12.0               0.048373   \n",
       "\n",
       "                                                                                                                                                                                                                                                                                                                                                                                                                                                                                                                                                                 1797.0  \n",
       "1year 1yeardeath_x 1yeardeath_y 2year 2years 3year 4year 5year ASMA_x ASMA_y Case ID_x Case ID_y Corrected Site AJCC/UICC DODvsAlive Date of death Date of recurrence Diagnosis Age DiedvsAlive ECS_x ECS_y ID      Last seen/reviewed Last updated N stage OUTCOME OUTCOME.updated by Overall Death  Pathogical Stage Patient_Number Patient_nu  Recurrence? T stage TMA TMA site Years advancing front type age @ diag date of diag diff gender_x gender_y lifespan pN pT radiotherapy recurrence site           site of recurrence stage survival (months)            \n",
       "True  False        False        True  1      False False False I      I      3254.0    3254      FOM                      DOD        2007-10-22    2007-08-09         48.0          Died        no    N     2.0-A2  NaT                2012-10-04   2c      DOD     CBarry             yes            pT2N2cMx         3254           3254.0      yes         2       2.0 A2       1.0   islets               48         2006-06-12   mod  f        f        497 days 2c 2  yes          yes        floor of mouth metastases         4     15.0               0.026228  \n",
       "                                                                                                                                                                                                                                                                                                                                                                                                                                                                                                                                            15.0               0.024524  \n",
       "                                                                                                                                                                                                                                                                                                                                                                                                                                                                                                                                            15.0               0.021789  \n",
       "                                                                                                                                                                                                                                                                                                                                                                                                                                                                                                                                            15.0               0.024433  \n",
       "                                                                                                                                                                                                                                                                                                                                                                                                                                                                                                                                            15.0               0.023518  \n",
       "...                                                                                                                                                                                                                                                                                                                                                                                                                                                                                                                                                                 ...  \n",
       "                   True         False 1      False False False H      H      3484.0    3484      oral tongue              DOD        2009-12-02    2009-09-09         52.0          Died        yes   Y     2.0-H11 NaT                2020-04-21   2b      DOD     PG                 yes            pT3N2bM0         3484           3484.0      yes         3       2.0 H11      0.0   island               52         2009-01-26   mod  m        m        310 days 2b 3  Yes          yes        tongue         regional & mets    NaN   12.0               0.027054  \n",
       "                                                                                                                                                                                                                                                                                                                                                                                                                                                                                                                                            12.0               0.026694  \n",
       "                                                                                                                                                                                                                                                                                                                                                                                                                                                                                                                                            12.0               0.035832  \n",
       "                                                                                                                                                                                                                                                                                                                                                                                                                                                                                                                                            12.0               0.042482  \n",
       "                                                                                                                                                                                                                                                                                                                                                                                                                                                                                                                                            12.0               0.051986  \n",
       "\n",
       "[213624 rows x 208 columns]"
      ],
      "text/html": "<div>\n<style scoped>\n    .dataframe tbody tr th:only-of-type {\n        vertical-align: middle;\n    }\n\n    .dataframe tbody tr th {\n        vertical-align: top;\n    }\n\n    .dataframe thead th {\n        text-align: right;\n    }\n</style>\n<table border=\"1\" class=\"dataframe\">\n  <thead>\n    <tr style=\"text-align: right;\">\n      <th></th>\n      <th></th>\n      <th></th>\n      <th></th>\n      <th></th>\n      <th></th>\n      <th></th>\n      <th></th>\n      <th></th>\n      <th></th>\n      <th></th>\n      <th></th>\n      <th></th>\n      <th></th>\n      <th></th>\n      <th></th>\n      <th></th>\n      <th></th>\n      <th></th>\n      <th></th>\n      <th></th>\n      <th></th>\n      <th></th>\n      <th></th>\n      <th></th>\n      <th></th>\n      <th></th>\n      <th></th>\n      <th></th>\n      <th></th>\n      <th></th>\n      <th></th>\n      <th></th>\n      <th></th>\n      <th></th>\n      <th></th>\n      <th></th>\n      <th></th>\n      <th></th>\n      <th></th>\n      <th></th>\n      <th></th>\n      <th></th>\n      <th></th>\n      <th></th>\n      <th></th>\n      <th></th>\n      <th></th>\n      <th></th>\n      <th></th>\n      <th>998.0</th>\n      <th>1002.0</th>\n      <th>1006.0</th>\n      <th>1010.0</th>\n      <th>1014.0</th>\n      <th>1018.0</th>\n      <th>1022.0</th>\n      <th>1025.0</th>\n      <th>1029.0</th>\n      <th>1033.0</th>\n      <th>...</th>\n      <th>1762.0</th>\n      <th>1766.0</th>\n      <th>1770.0</th>\n      <th>1774.0</th>\n      <th>1778.0</th>\n      <th>1781.0</th>\n      <th>1785.0</th>\n      <th>1789.0</th>\n      <th>1793.0</th>\n      <th>1797.0</th>\n    </tr>\n    <tr>\n      <th>1year</th>\n      <th>1yeardeath_x</th>\n      <th>1yeardeath_y</th>\n      <th>2year</th>\n      <th>2years</th>\n      <th>3year</th>\n      <th>4year</th>\n      <th>5year</th>\n      <th>ASMA_x</th>\n      <th>ASMA_y</th>\n      <th>Case ID_x</th>\n      <th>Case ID_y</th>\n      <th>Corrected Site AJCC/UICC</th>\n      <th>DODvsAlive</th>\n      <th>Date of death</th>\n      <th>Date of recurrence</th>\n      <th>Diagnosis Age</th>\n      <th>DiedvsAlive</th>\n      <th>ECS_x</th>\n      <th>ECS_y</th>\n      <th>ID</th>\n      <th>Last seen/reviewed</th>\n      <th>Last updated</th>\n      <th>N stage</th>\n      <th>OUTCOME</th>\n      <th>OUTCOME.updated by</th>\n      <th>Overall Death</th>\n      <th>Pathogical Stage</th>\n      <th>Patient_Number</th>\n      <th>Patient_nu</th>\n      <th>Recurrence?</th>\n      <th>T stage</th>\n      <th>TMA</th>\n      <th>TMA site</th>\n      <th>Years</th>\n      <th>advancing front type</th>\n      <th>age @ diag</th>\n      <th>date of diag</th>\n      <th>diff</th>\n      <th>gender_x</th>\n      <th>gender_y</th>\n      <th>lifespan</th>\n      <th>pN</th>\n      <th>pT</th>\n      <th>radiotherapy</th>\n      <th>recurrence</th>\n      <th>site</th>\n      <th>site of recurrence</th>\n      <th>stage</th>\n      <th>survival (months)</th>\n      <th></th>\n      <th></th>\n      <th></th>\n      <th></th>\n      <th></th>\n      <th></th>\n      <th></th>\n      <th></th>\n      <th></th>\n      <th></th>\n      <th></th>\n      <th></th>\n      <th></th>\n      <th></th>\n      <th></th>\n      <th></th>\n      <th></th>\n      <th></th>\n      <th></th>\n      <th></th>\n      <th></th>\n    </tr>\n  </thead>\n  <tbody>\n    <tr>\n      <th rowspan=\"11\" valign=\"top\">True</th>\n      <th rowspan=\"11\" valign=\"top\">False</th>\n      <th rowspan=\"5\" valign=\"top\">False</th>\n      <th rowspan=\"5\" valign=\"top\">True</th>\n      <th rowspan=\"5\" valign=\"top\">1</th>\n      <th rowspan=\"5\" valign=\"top\">False</th>\n      <th rowspan=\"5\" valign=\"top\">False</th>\n      <th rowspan=\"5\" valign=\"top\">False</th>\n      <th rowspan=\"5\" valign=\"top\">I</th>\n      <th rowspan=\"5\" valign=\"top\">I</th>\n      <th rowspan=\"5\" valign=\"top\">3254.0</th>\n      <th rowspan=\"5\" valign=\"top\">3254</th>\n      <th rowspan=\"5\" valign=\"top\">FOM</th>\n      <th rowspan=\"5\" valign=\"top\">DOD</th>\n      <th rowspan=\"5\" valign=\"top\">2007-10-22</th>\n      <th rowspan=\"5\" valign=\"top\">2007-08-09</th>\n      <th rowspan=\"5\" valign=\"top\">48.0</th>\n      <th rowspan=\"5\" valign=\"top\">Died</th>\n      <th rowspan=\"5\" valign=\"top\">no</th>\n      <th rowspan=\"5\" valign=\"top\">N</th>\n      <th rowspan=\"5\" valign=\"top\">2.0-A2</th>\n      <th rowspan=\"5\" valign=\"top\">NaT</th>\n      <th rowspan=\"5\" valign=\"top\">2012-10-04</th>\n      <th rowspan=\"5\" valign=\"top\">2c</th>\n      <th rowspan=\"5\" valign=\"top\">DOD</th>\n      <th rowspan=\"5\" valign=\"top\">CBarry</th>\n      <th rowspan=\"5\" valign=\"top\">yes</th>\n      <th rowspan=\"5\" valign=\"top\">pT2N2cMx</th>\n      <th rowspan=\"5\" valign=\"top\">3254</th>\n      <th rowspan=\"5\" valign=\"top\">3254.0</th>\n      <th rowspan=\"5\" valign=\"top\">yes</th>\n      <th rowspan=\"5\" valign=\"top\">2</th>\n      <th rowspan=\"5\" valign=\"top\">2.0</th>\n      <th rowspan=\"5\" valign=\"top\">A2</th>\n      <th rowspan=\"5\" valign=\"top\">1.0</th>\n      <th rowspan=\"5\" valign=\"top\">islets</th>\n      <th rowspan=\"5\" valign=\"top\">48</th>\n      <th rowspan=\"5\" valign=\"top\">2006-06-12</th>\n      <th rowspan=\"5\" valign=\"top\">mod</th>\n      <th rowspan=\"5\" valign=\"top\">f</th>\n      <th rowspan=\"5\" valign=\"top\">f</th>\n      <th rowspan=\"5\" valign=\"top\">497 days</th>\n      <th rowspan=\"5\" valign=\"top\">2c</th>\n      <th rowspan=\"5\" valign=\"top\">2</th>\n      <th rowspan=\"5\" valign=\"top\">yes</th>\n      <th rowspan=\"5\" valign=\"top\">yes</th>\n      <th rowspan=\"5\" valign=\"top\">floor of mouth</th>\n      <th rowspan=\"5\" valign=\"top\">metastases</th>\n      <th rowspan=\"5\" valign=\"top\">4</th>\n      <th>15.0</th>\n      <td>0.036930</td>\n      <td>0.035820</td>\n      <td>0.037569</td>\n      <td>0.040046</td>\n      <td>0.042142</td>\n      <td>0.044417</td>\n      <td>0.046207</td>\n      <td>0.047247</td>\n      <td>0.047253</td>\n      <td>0.047721</td>\n      <td>...</td>\n      <td>0.026896</td>\n      <td>0.024733</td>\n      <td>0.020649</td>\n      <td>0.021475</td>\n      <td>0.026599</td>\n      <td>0.028968</td>\n      <td>0.028736</td>\n      <td>0.026354</td>\n      <td>0.024735</td>\n      <td>0.026228</td>\n    </tr>\n    <tr>\n      <th>15.0</th>\n      <td>0.033788</td>\n      <td>0.035410</td>\n      <td>0.036856</td>\n      <td>0.037729</td>\n      <td>0.038609</td>\n      <td>0.038556</td>\n      <td>0.039719</td>\n      <td>0.042784</td>\n      <td>0.044182</td>\n      <td>0.045172</td>\n      <td>...</td>\n      <td>0.023890</td>\n      <td>0.022272</td>\n      <td>0.019167</td>\n      <td>0.020767</td>\n      <td>0.024692</td>\n      <td>0.025614</td>\n      <td>0.024976</td>\n      <td>0.022729</td>\n      <td>0.022015</td>\n      <td>0.024524</td>\n    </tr>\n    <tr>\n      <th>15.0</th>\n      <td>0.032684</td>\n      <td>0.033850</td>\n      <td>0.036214</td>\n      <td>0.037869</td>\n      <td>0.038660</td>\n      <td>0.039014</td>\n      <td>0.039749</td>\n      <td>0.042113</td>\n      <td>0.044680</td>\n      <td>0.045482</td>\n      <td>...</td>\n      <td>0.022561</td>\n      <td>0.021219</td>\n      <td>0.016941</td>\n      <td>0.018362</td>\n      <td>0.024159</td>\n      <td>0.026051</td>\n      <td>0.025018</td>\n      <td>0.022382</td>\n      <td>0.020675</td>\n      <td>0.021789</td>\n    </tr>\n    <tr>\n      <th>15.0</th>\n      <td>0.029283</td>\n      <td>0.028542</td>\n      <td>0.027952</td>\n      <td>0.030105</td>\n      <td>0.032421</td>\n      <td>0.032315</td>\n      <td>0.032645</td>\n      <td>0.035136</td>\n      <td>0.038364</td>\n      <td>0.041433</td>\n      <td>...</td>\n      <td>0.024027</td>\n      <td>0.021587</td>\n      <td>0.017408</td>\n      <td>0.019091</td>\n      <td>0.023463</td>\n      <td>0.024463</td>\n      <td>0.024537</td>\n      <td>0.023112</td>\n      <td>0.022484</td>\n      <td>0.024433</td>\n    </tr>\n    <tr>\n      <th>15.0</th>\n      <td>0.040823</td>\n      <td>0.039177</td>\n      <td>0.039052</td>\n      <td>0.041117</td>\n      <td>0.041872</td>\n      <td>0.039928</td>\n      <td>0.038671</td>\n      <td>0.041491</td>\n      <td>0.045704</td>\n      <td>0.047828</td>\n      <td>...</td>\n      <td>0.024023</td>\n      <td>0.021360</td>\n      <td>0.016554</td>\n      <td>0.017422</td>\n      <td>0.022842</td>\n      <td>0.025333</td>\n      <td>0.025151</td>\n      <td>0.022800</td>\n      <td>0.021426</td>\n      <td>0.023518</td>\n    </tr>\n    <tr>\n      <th>...</th>\n      <th>...</th>\n      <th>...</th>\n      <th>...</th>\n      <th>...</th>\n      <th>...</th>\n      <th>...</th>\n      <th>...</th>\n      <th>...</th>\n      <th>...</th>\n      <th>...</th>\n      <th>...</th>\n      <th>...</th>\n      <th>...</th>\n      <th>...</th>\n      <th>...</th>\n      <th>...</th>\n      <th>...</th>\n      <th>...</th>\n      <th>...</th>\n      <th>...</th>\n      <th>...</th>\n      <th>...</th>\n      <th>...</th>\n      <th>...</th>\n      <th>...</th>\n      <th>...</th>\n      <th>...</th>\n      <th>...</th>\n      <th>...</th>\n      <th>...</th>\n      <th>...</th>\n      <th>...</th>\n      <th>...</th>\n      <th>...</th>\n      <th>...</th>\n      <th>...</th>\n      <th>...</th>\n      <th>...</th>\n      <th>...</th>\n      <th>...</th>\n      <th>...</th>\n      <th>...</th>\n      <th>...</th>\n      <th>...</th>\n      <th>...</th>\n      <th>...</th>\n      <th>...</th>\n      <td>...</td>\n      <td>...</td>\n      <td>...</td>\n      <td>...</td>\n      <td>...</td>\n      <td>...</td>\n      <td>...</td>\n      <td>...</td>\n      <td>...</td>\n      <td>...</td>\n      <td>...</td>\n      <td>...</td>\n      <td>...</td>\n      <td>...</td>\n      <td>...</td>\n      <td>...</td>\n      <td>...</td>\n      <td>...</td>\n      <td>...</td>\n      <td>...</td>\n      <td>...</td>\n    </tr>\n    <tr>\n      <th rowspan=\"5\" valign=\"top\">True</th>\n      <th rowspan=\"5\" valign=\"top\">False</th>\n      <th rowspan=\"5\" valign=\"top\">1</th>\n      <th rowspan=\"5\" valign=\"top\">False</th>\n      <th rowspan=\"5\" valign=\"top\">False</th>\n      <th rowspan=\"5\" valign=\"top\">False</th>\n      <th rowspan=\"5\" valign=\"top\">H</th>\n      <th rowspan=\"5\" valign=\"top\">H</th>\n      <th rowspan=\"5\" valign=\"top\">3484.0</th>\n      <th rowspan=\"5\" valign=\"top\">3484</th>\n      <th rowspan=\"5\" valign=\"top\">oral tongue</th>\n      <th rowspan=\"5\" valign=\"top\">DOD</th>\n      <th rowspan=\"5\" valign=\"top\">2009-12-02</th>\n      <th rowspan=\"5\" valign=\"top\">2009-09-09</th>\n      <th rowspan=\"5\" valign=\"top\">52.0</th>\n      <th rowspan=\"5\" valign=\"top\">Died</th>\n      <th rowspan=\"5\" valign=\"top\">yes</th>\n      <th rowspan=\"5\" valign=\"top\">Y</th>\n      <th rowspan=\"5\" valign=\"top\">2.0-H11</th>\n      <th rowspan=\"5\" valign=\"top\">NaT</th>\n      <th rowspan=\"5\" valign=\"top\">2020-04-21</th>\n      <th rowspan=\"5\" valign=\"top\">2b</th>\n      <th rowspan=\"5\" valign=\"top\">DOD</th>\n      <th rowspan=\"5\" valign=\"top\">PG</th>\n      <th rowspan=\"5\" valign=\"top\">yes</th>\n      <th rowspan=\"5\" valign=\"top\">pT3N2bM0</th>\n      <th rowspan=\"5\" valign=\"top\">3484</th>\n      <th rowspan=\"5\" valign=\"top\">3484.0</th>\n      <th rowspan=\"5\" valign=\"top\">yes</th>\n      <th rowspan=\"5\" valign=\"top\">3</th>\n      <th rowspan=\"5\" valign=\"top\">2.0</th>\n      <th rowspan=\"5\" valign=\"top\">H11</th>\n      <th rowspan=\"5\" valign=\"top\">0.0</th>\n      <th rowspan=\"5\" valign=\"top\">island</th>\n      <th rowspan=\"5\" valign=\"top\">52</th>\n      <th rowspan=\"5\" valign=\"top\">2009-01-26</th>\n      <th rowspan=\"5\" valign=\"top\">mod</th>\n      <th rowspan=\"5\" valign=\"top\">m</th>\n      <th rowspan=\"5\" valign=\"top\">m</th>\n      <th rowspan=\"5\" valign=\"top\">310 days</th>\n      <th rowspan=\"5\" valign=\"top\">2b</th>\n      <th rowspan=\"5\" valign=\"top\">3</th>\n      <th rowspan=\"5\" valign=\"top\">Yes</th>\n      <th rowspan=\"5\" valign=\"top\">yes</th>\n      <th rowspan=\"5\" valign=\"top\">tongue</th>\n      <th rowspan=\"5\" valign=\"top\">regional &amp; mets</th>\n      <th rowspan=\"5\" valign=\"top\">NaN</th>\n      <th>12.0</th>\n      <td>0.060157</td>\n      <td>0.064911</td>\n      <td>0.063024</td>\n      <td>0.064396</td>\n      <td>0.068576</td>\n      <td>0.073767</td>\n      <td>0.074707</td>\n      <td>0.078934</td>\n      <td>0.082910</td>\n      <td>0.078915</td>\n      <td>...</td>\n      <td>0.030469</td>\n      <td>0.027857</td>\n      <td>0.026105</td>\n      <td>0.028076</td>\n      <td>0.028422</td>\n      <td>0.027292</td>\n      <td>0.025888</td>\n      <td>0.026437</td>\n      <td>0.026350</td>\n      <td>0.027054</td>\n    </tr>\n    <tr>\n      <th>12.0</th>\n      <td>0.063532</td>\n      <td>0.057569</td>\n      <td>0.057809</td>\n      <td>0.069362</td>\n      <td>0.070158</td>\n      <td>0.070410</td>\n      <td>0.070910</td>\n      <td>0.070612</td>\n      <td>0.070585</td>\n      <td>0.075884</td>\n      <td>...</td>\n      <td>0.030682</td>\n      <td>0.028950</td>\n      <td>0.026868</td>\n      <td>0.027035</td>\n      <td>0.028768</td>\n      <td>0.025703</td>\n      <td>0.024280</td>\n      <td>0.026096</td>\n      <td>0.025907</td>\n      <td>0.026694</td>\n    </tr>\n    <tr>\n      <th>12.0</th>\n      <td>0.054546</td>\n      <td>0.063326</td>\n      <td>0.066684</td>\n      <td>0.069174</td>\n      <td>0.061829</td>\n      <td>0.058988</td>\n      <td>0.057885</td>\n      <td>0.069843</td>\n      <td>0.073906</td>\n      <td>0.062705</td>\n      <td>...</td>\n      <td>0.042411</td>\n      <td>0.037007</td>\n      <td>0.035872</td>\n      <td>0.037755</td>\n      <td>0.040539</td>\n      <td>0.040264</td>\n      <td>0.038100</td>\n      <td>0.035534</td>\n      <td>0.033039</td>\n      <td>0.035832</td>\n    </tr>\n    <tr>\n      <th>12.0</th>\n      <td>0.054714</td>\n      <td>0.059673</td>\n      <td>0.064046</td>\n      <td>0.060685</td>\n      <td>0.059514</td>\n      <td>0.062824</td>\n      <td>0.062862</td>\n      <td>0.060339</td>\n      <td>0.066701</td>\n      <td>0.071688</td>\n      <td>...</td>\n      <td>0.048101</td>\n      <td>0.047340</td>\n      <td>0.045064</td>\n      <td>0.043602</td>\n      <td>0.047313</td>\n      <td>0.047653</td>\n      <td>0.043636</td>\n      <td>0.040737</td>\n      <td>0.038583</td>\n      <td>0.042482</td>\n    </tr>\n    <tr>\n      <th>12.0</th>\n      <td>0.053612</td>\n      <td>0.045395</td>\n      <td>0.041895</td>\n      <td>0.053745</td>\n      <td>0.059328</td>\n      <td>0.060757</td>\n      <td>0.054138</td>\n      <td>0.047550</td>\n      <td>0.049718</td>\n      <td>0.057573</td>\n      <td>...</td>\n      <td>0.059784</td>\n      <td>0.054992</td>\n      <td>0.052527</td>\n      <td>0.050833</td>\n      <td>0.052419</td>\n      <td>0.053408</td>\n      <td>0.051205</td>\n      <td>0.050416</td>\n      <td>0.048373</td>\n      <td>0.051986</td>\n    </tr>\n  </tbody>\n</table>\n<p>213624 rows × 208 columns</p>\n</div>"
     },
     "metadata": {},
     "execution_count": 35
    }
   ],
   "source": [
    "total"
   ]
  },
  {
   "cell_type": "code",
   "execution_count": 11,
   "metadata": {},
   "outputs": [],
   "source": [
    "total=pd.read_hdf('Kohler_Raw_Data_1703.hdf', key='Data')\n",
    "\n",
    "wn_cols = total.head().iloc[:,1:754].columns\n",
    "oc = total.columns.difference(wn_cols).values\n",
    "\n",
    "total_n=total.loc[:,wn_cols].set_index(pd.MultiIndex.from_arrays(total.loc[:,oc].values.T, names=oc.T))\n",
    "\n",
    "total = total_n.iloc[:,26:234]"
   ]
  },
  {
   "source": [
    "select = ['Tumour']\n",
    "\n",
    "total = pd.concat({\"{}-{}\".format(row[\"TMA\"], row[\"Core\"]):\n",
    "                   truncate(pd.read_pickle(row[\"hdf_loc\"]).sample(frac = 1), start = 1000, end = 1800)\n",
    "                   for name, row in tqdm(list(metadata.iterrows()))}, names = [\"ID\"])\n",
    "\n",
    "wn_cols = total.columns\n",
    "#total = total.merge(new_metadata, left_on = \"Patient nu \", right_on = \"Patient Number\")\n",
    "#total = total.drop(np.nan, level = \"Overall Death \")"
   ],
   "cell_type": "markdown",
   "metadata": {}
  },
  {
   "cell_type": "code",
   "execution_count": 19,
   "metadata": {},
   "outputs": [
    {
     "output_type": "execute_result",
     "data": {
      "text/plain": [
       "   Patient_Number gender date of diag  age @ diag    site   pT   pN stage ECS  \\\n",
       "39           3383      m   2008-01-24          55   other    1    0    4a   N   \n",
       "61           3482      m   2009-01-22          77   other  NaN  NaN   NaN   N   \n",
       "37           3354      f   2007-08-30          48  tongue    2    1     3   N   \n",
       "\n",
       "       OUTCOME  ... Years  1year  2year  3year  4year  5year 1yeardeath  \\\n",
       "39  died other  ...   6.0  False  False  False  False  False      False   \n",
       "61        died  ...   0.0   True  False  False  False  False       True   \n",
       "37       alive  ...   NaN  False  False  False  False  False      False   \n",
       "\n",
       "   2years Case ID ASMA  \n",
       "39      4    3383  NaN  \n",
       "61      1    3482  NaN  \n",
       "37      6    3354    L  \n",
       "\n",
       "[3 rows x 30 columns]"
      ],
      "text/html": "<div>\n<style scoped>\n    .dataframe tbody tr th:only-of-type {\n        vertical-align: middle;\n    }\n\n    .dataframe tbody tr th {\n        vertical-align: top;\n    }\n\n    .dataframe thead th {\n        text-align: right;\n    }\n</style>\n<table border=\"1\" class=\"dataframe\">\n  <thead>\n    <tr style=\"text-align: right;\">\n      <th></th>\n      <th>Patient_Number</th>\n      <th>gender</th>\n      <th>date of diag</th>\n      <th>age @ diag</th>\n      <th>site</th>\n      <th>pT</th>\n      <th>pN</th>\n      <th>stage</th>\n      <th>ECS</th>\n      <th>OUTCOME</th>\n      <th>...</th>\n      <th>Years</th>\n      <th>1year</th>\n      <th>2year</th>\n      <th>3year</th>\n      <th>4year</th>\n      <th>5year</th>\n      <th>1yeardeath</th>\n      <th>2years</th>\n      <th>Case ID</th>\n      <th>ASMA</th>\n    </tr>\n  </thead>\n  <tbody>\n    <tr>\n      <th>39</th>\n      <td>3383</td>\n      <td>m</td>\n      <td>2008-01-24</td>\n      <td>55</td>\n      <td>other</td>\n      <td>1</td>\n      <td>0</td>\n      <td>4a</td>\n      <td>N</td>\n      <td>died other</td>\n      <td>...</td>\n      <td>6.0</td>\n      <td>False</td>\n      <td>False</td>\n      <td>False</td>\n      <td>False</td>\n      <td>False</td>\n      <td>False</td>\n      <td>4</td>\n      <td>3383</td>\n      <td>NaN</td>\n    </tr>\n    <tr>\n      <th>61</th>\n      <td>3482</td>\n      <td>m</td>\n      <td>2009-01-22</td>\n      <td>77</td>\n      <td>other</td>\n      <td>NaN</td>\n      <td>NaN</td>\n      <td>NaN</td>\n      <td>N</td>\n      <td>died</td>\n      <td>...</td>\n      <td>0.0</td>\n      <td>True</td>\n      <td>False</td>\n      <td>False</td>\n      <td>False</td>\n      <td>False</td>\n      <td>True</td>\n      <td>1</td>\n      <td>3482</td>\n      <td>NaN</td>\n    </tr>\n    <tr>\n      <th>37</th>\n      <td>3354</td>\n      <td>f</td>\n      <td>2007-08-30</td>\n      <td>48</td>\n      <td>tongue</td>\n      <td>2</td>\n      <td>1</td>\n      <td>3</td>\n      <td>N</td>\n      <td>alive</td>\n      <td>...</td>\n      <td>NaN</td>\n      <td>False</td>\n      <td>False</td>\n      <td>False</td>\n      <td>False</td>\n      <td>False</td>\n      <td>False</td>\n      <td>6</td>\n      <td>3354</td>\n      <td>L</td>\n    </tr>\n  </tbody>\n</table>\n<p>3 rows × 30 columns</p>\n</div>"
     },
     "metadata": {},
     "execution_count": 19
    }
   ],
   "source": [
    "new_metadata.sample(3)"
   ]
  },
  {
   "cell_type": "code",
   "execution_count": 18,
   "metadata": {},
   "outputs": [
    {
     "output_type": "execute_result",
     "data": {
      "text/plain": [
       "live      FGD                no             pT1N0Mx          3288           3288.0      yes         1       1.0 F5       NaN   non-cohesive         29         2006-11-13   well     m        m        NaT      0  1  yes          yes        tongue         regional only      1     131.0              0.014596   \n",
       "\n",
       "                                                                                                                                                                                                                                                                                                                                                                                                                                                                                                                                                                        1781.0  \\\n",
       "1year 1yeardeath_x 1yeardeath_y 2year 2years 3year 4year 5year ASMA_x ASMA_y Case ID_x Case ID_y Corrected Site AJCC/UICC DODvsAlive Date of death Date of recurrence Diagnosis Age DiedvsAlive ECS_x ECS_y ID      Last seen/reviewed Last updated N stage OUTCOME    OUTCOME.updated by Overall Death  Pathogical Stage Patient_Number Patient_nu  Recurrence? T stage TMA TMA site Years advancing front type age @ diag date of diag diff     gender_x gender_y lifespan pN pT radiotherapy recurrence site           site of recurrence stage survival (months)             \n",
       "True  True         True         False 1      False False False H      H      3251.0    3251      oral tongue              DOD        2006-07-21    NaT                70.0          Died        yes   Y     2.0-B1  NaT                2020-03-13   1       DOD        FG                 yes            pT4N1M0          3251           3251.0      no          4       2.0 B1       0.0   islands              70         2006-05-31   mod      m        m        51 days  1  4  no           no         tongue         NaN                4     2.0                0.043556   \n",
       "False False        False        False 6      False False False I      I      3271.0    3271      FOM                      Other      NaT           2010-07-23         59.0          Alive       yes   Y     1.0-A10 2010-07-23         2020-04-01   2b      alive      FGD                no             pT4N2bM0         3271           3271.0      yes         4       1.0 A10      NaN   poorly cohesive      59         2006-09-16   mod      m        m        NaT      2b 4  yes          yes        floor of mouth lung mets          4a    46.0              -0.020781   \n",
       "True  True         False        True  1      False False False I      I      3237.0    3237      other                    Other      2007-10-19    NaT                59.0          Died        yes   Y     2.0-B5  NaT                NaT          2a      Died other CBarry             yes            pT4aN2aMx        3237           3237.0      no          4a      2.0 B5       1.0   non-cohesive         59         2006-03-24   mod well m        m        574 days 2a 4a yes          yes        other          NaN                4     2.0                0.039960   \n",
       "                   True         False 1      False False False H      H      3568.0    3568      FOM                      Other      2010-04-17    NaT                74.0          Died        yes   Y     2.0-B8  NaT                2020-04-01   2c      died other FGD                yes            pT2N2cMx         3568           3568.0      no          2       2.0 B8       0.0   NaN                  74         2010-03-04   NaN      m        m        44 days  2c 2  no           no         floor of mouth NaN                4a    1.0                0.064838   \n",
       "False False        False        False 6      False False False H      H      3288.0    3288      oral tongue              Other      NaT           2009-10-14         29.0          Alive       no    N     1.0-F5  2019-10-23         2020-04-01   0       alive      FGD                no             pT1N0Mx          3288           3288.0      yes         1       1.0 F5       NaN   non-cohesive         29         2006-11-13   well     m        m        NaT      0  1  yes          yes        tongue         regional only      1     131.0              0.015076   \n",
       "\n",
       "                                                                                                                                                                                                                                                                                                                                                                                                                                                                                                                                                                        1785.0  \\\n",
       "1year 1yeardeath_x 1yeardeath_y 2year 2years 3year 4year 5year ASMA_x ASMA_y Case ID_x Case ID_y Corrected Site AJCC/UICC DODvsAlive Date of death Date of recurrence Diagnosis Age DiedvsAlive ECS_x ECS_y ID      Last seen/reviewed Last updated N stage OUTCOME    OUTCOME.updated by Overall Death  Pathogical Stage Patient_Number Patient_nu  Recurrence? T stage TMA TMA site Years advancing front type age @ diag date of diag diff     gender_x gender_y lifespan pN pT radiotherapy recurrence site           site of recurrence stage survival (months)             \n",
       "True  True         True         False 1      False False False H      H      3251.0    3251      oral tongue              DOD        2006-07-21    NaT                70.0          Died        yes   Y     2.0-B1  NaT                2020-03-13   1       DOD        FG                 yes            pT4N1M0          3251           3251.0      no          4       2.0 B1       0.0   islands              70         2006-05-31   mod      m        m        51 days  1  4  no           no         tongue         NaN                4     2.0                0.042350   \n",
       "False False        False        False 6      False False False I      I      3271.0    3271      FOM                      Other      NaT           2010-07-23         59.0          Alive       yes   Y     1.0-A10 2010-07-23         2020-04-01   2b      alive      FGD                no             pT4N2bM0         3271           3271.0      yes         4       1.0 A10      NaN   poorly cohesive      59         2006-09-16   mod      m        m        NaT      2b 4  yes          yes        floor of mouth lung mets          4a    46.0              -0.019914   \n",
       "True  True         False        True  1      False False False I      I      3237.0    3237      other                    Other      2007-10-19    NaT                59.0          Died        yes   Y     2.0-B5  NaT                NaT          2a      Died other CBarry             yes            pT4aN2aMx        3237           3237.0      no          4a      2.0 B5       1.0   non-cohesive         59         2006-03-24   mod well m        m        574 days 2a 4a yes          yes        other          NaN                4     2.0                0.040094   \n",
       "                   True         False 1      False False False H      H      3568.0    3568      FOM                      Other      2010-04-17    NaT                74.0          Died        yes   Y     2.0-B8  NaT                2020-04-01   2c      died other FGD                yes            pT2N2cMx         3568           3568.0      no          2       2.0 B8       0.0   NaN                  74         2010-03-04   NaN      m        m        44 days  2c 2  no           no         floor of mouth NaN                4a    1.0                0.064887   \n",
       "False False        False        False 6      False False False H      H      3288.0    3288      oral tongue              Other      NaT           2009-10-14         29.0          Alive       no    N     1.0-F5  2019-10-23         2020-04-01   0       alive      FGD                no             pT1N0Mx          3288           3288.0      yes         1       1.0 F5       NaN   non-cohesive         29         2006-11-13   well     m        m        NaT      0  1  yes          yes        tongue         regional only      1     131.0              0.014968   \n",
       "\n",
       "                                                                                                                                                                                                                                                                                                                                                                                                                                                                                                                                                                        1789.0  \\\n",
       "1year 1yeardeath_x 1yeardeath_y 2year 2years 3year 4year 5year ASMA_x ASMA_y Case ID_x Case ID_y Corrected Site AJCC/UICC DODvsAlive Date of death Date of recurrence Diagnosis Age DiedvsAlive ECS_x ECS_y ID      Last seen/reviewed Last updated N stage OUTCOME    OUTCOME.updated by Overall Death  Pathogical Stage Patient_Number Patient_nu  Recurrence? T stage TMA TMA site Years advancing front type age @ diag date of diag diff     gender_x gender_y lifespan pN pT radiotherapy recurrence site           site of recurrence stage survival (months)             \n",
       "True  True         True         False 1      False False False H      H      3251.0    3251      oral tongue              DOD        2006-07-21    NaT                70.0          Died        yes   Y     2.0-B1  NaT                2020-03-13   1       DOD        FG                 yes            pT4N1M0          3251           3251.0      no          4       2.0 B1       0.0   islands              70         2006-05-31   mod      m        m        51 days  1  4  no           no         tongue         NaN                4     2.0                0.041310   \n",
       "False False        False        False 6      False False False I      I      3271.0    3271      FOM                      Other      NaT           2010-07-23         59.0          Alive       yes   Y     1.0-A10 2010-07-23         2020-04-01   2b      alive      FGD                no             pT4N2bM0         3271           3271.0      yes         4       1.0 A10      NaN   poorly cohesive      59         2006-09-16   mod      m        m        NaT      2b 4  yes          yes        floor of mouth lung mets          4a    46.0              -0.019326   \n",
       "True  True         False        True  1      False False False I      I      3237.0    3237      other                    Other      2007-10-19    NaT                59.0          Died        yes   Y     2.0-B5  NaT                NaT          2a      Died other CBarry             yes            pT4aN2aMx        3237           3237.0      no          4a      2.0 B5       1.0   non-cohesive         59         2006-03-24   mod well m        m        574 days 2a 4a yes          yes        other          NaN                4     2.0                0.039409   \n",
       "                   True         False 1      False False False H      H      3568.0    3568      FOM                      Other      2010-04-17    NaT                74.0          Died        yes   Y     2.0-B8  NaT                2020-04-01   2c      died other FGD                yes            pT2N2cMx         3568           3568.0      no          2       2.0 B8       0.0   NaN                  74         2010-03-04   NaN      m        m        44 days  2c 2  no           no         floor of mouth NaN                4a    1.0                0.063737   \n",
       "False False        False        False 6      False False False H      H      3288.0    3288      oral tongue              Other      NaT           2009-10-14         29.0          Alive       no    N     1.0-F5  2019-10-23         2020-04-01   0       alive      FGD                no             pT1N0Mx          3288           3288.0      yes         1       1.0 F5       NaN   non-cohesive         29         2006-11-13   well     m        m        NaT      0  1  yes          yes        tongue         regional only      1     131.0              0.014176   \n",
       "\n",
       "                                                                                                                                                                                                                                                                                                                                                                                                                                                                                                                                                                        1793.0  \\\n",
       "1year 1yeardeath_x 1yeardeath_y 2year 2years 3year 4year 5year ASMA_x ASMA_y Case ID_x Case ID_y Corrected Site AJCC/UICC DODvsAlive Date of death Date of recurrence Diagnosis Age DiedvsAlive ECS_x ECS_y ID      Last seen/reviewed Last updated N stage OUTCOME    OUTCOME.updated by Overall Death  Pathogical Stage Patient_Number Patient_nu  Recurrence? T stage TMA TMA site Years advancing front type age @ diag date of diag diff     gender_x gender_y lifespan pN pT radiotherapy recurrence site           site of recurrence stage survival (months)             \n",
       "True  True         True         False 1      False False False H      H      3251.0    3251      oral tongue              DOD        2006-07-21    NaT                70.0          Died        yes   Y     2.0-B1  NaT                2020-03-13   1       DOD        FG                 yes            pT4N1M0          3251           3251.0      no          4       2.0 B1       0.0   islands              70         2006-05-31   mod      m        m        51 days  1  4  no           no         tongue         NaN                4     2.0                0.041231   \n",
       "False False        False        False 6      False False False I      I      3271.0    3271      FOM                      Other      NaT           2010-07-23         59.0          Alive       yes   Y     1.0-A10 2010-07-23         2020-04-01   2b      alive      FGD                no             pT4N2bM0         3271           3271.0      yes         4       1.0 A10      NaN   poorly cohesive      59         2006-09-16   mod      m        m        NaT      2b 4  yes          yes        floor of mouth lung mets          4a    46.0              -0.018670   \n",
       "True  True         False        True  1      False False False I      I      3237.0    3237      other                    Other      2007-10-19    NaT                59.0          Died        yes   Y     2.0-B5  NaT                NaT          2a      Died other CBarry             yes            pT4aN2aMx        3237           3237.0      no          4a      2.0 B5       1.0   non-cohesive         59         2006-03-24   mod well m        m        574 days 2a 4a yes          yes        other          NaN                4     2.0                0.038842   \n",
       "                   True         False 1      False False False H      H      3568.0    3568      FOM                      Other      2010-04-17    NaT                74.0          Died        yes   Y     2.0-B8  NaT                2020-04-01   2c      died other FGD                yes            pT2N2cMx         3568           3568.0      no          2       2.0 B8       0.0   NaN                  74         2010-03-04   NaN      m        m        44 days  2c 2  no           no         floor of mouth NaN                4a    1.0                0.062597   \n",
       "False False        False        False 6      False False False H      H      3288.0    3288      oral tongue              Other      NaT           2009-10-14         29.0          Alive       no    N     1.0-F5  2019-10-23         2020-04-01   0       alive      FGD                no             pT1N0Mx          3288           3288.0      yes         1       1.0 F5       NaN   non-cohesive         29         2006-11-13   well     m        m        NaT      0  1  yes          yes        tongue         regional only      1     131.0              0.013692   \n",
       "\n",
       "                                                                                                                                                                                                                                                                                                                                                                                                                                                                                                                                                                        1797.0  \n",
       "1year 1yeardeath_x 1yeardeath_y 2year 2years 3year 4year 5year ASMA_x ASMA_y Case ID_x Case ID_y Corrected Site AJCC/UICC DODvsAlive Date of death Date of recurrence Diagnosis Age DiedvsAlive ECS_x ECS_y ID      Last seen/reviewed Last updated N stage OUTCOME    OUTCOME.updated by Overall Death  Pathogical Stage Patient_Number Patient_nu  Recurrence? T stage TMA TMA site Years advancing front type age @ diag date of diag diff     gender_x gender_y lifespan pN pT radiotherapy recurrence site           site of recurrence stage survival (months)            \n",
       "True  True         True         False 1      False False False H      H      3251.0    3251      oral tongue              DOD        2006-07-21    NaT                70.0          Died        yes   Y     2.0-B1  NaT                2020-03-13   1       DOD        FG                 yes            pT4N1M0          3251           3251.0      no          4       2.0 B1       0.0   islands              70         2006-05-31   mod      m        m        51 days  1  4  no           no         tongue         NaN                4     2.0                0.041285  \n",
       "False False        False        False 6      False False False I      I      3271.0    3271      FOM                      Other      NaT           2010-07-23         59.0          Alive       yes   Y     1.0-A10 2010-07-23         2020-04-01   2b      alive      FGD                no             pT4N2bM0         3271           3271.0      yes         4       1.0 A10      NaN   poorly cohesive      59         2006-09-16   mod      m        m        NaT      2b 4  yes          yes        floor of mouth lung mets          4a    46.0              -0.018217  \n",
       "True  True         False        True  1      False False False I      I      3237.0    3237      other                    Other      2007-10-19    NaT                59.0          Died        yes   Y     2.0-B5  NaT                NaT          2a      Died other CBarry             yes            pT4aN2aMx        3237           3237.0      no          4a      2.0 B5       1.0   non-cohesive         59         2006-03-24   mod well m        m        574 days 2a 4a yes          yes        other          NaN                4     2.0                0.038968  \n",
       "                   True         False 1      False False False H      H      3568.0    3568      FOM                      Other      2010-04-17    NaT                74.0          Died        yes   Y     2.0-B8  NaT                2020-04-01   2c      died other FGD                yes            pT2N2cMx         3568           3568.0      no          2       2.0 B8       0.0   NaN                  74         2010-03-04   NaN      m        m        44 days  2c 2  no           no         floor of mouth NaN                4a    1.0                0.063910  \n",
       "False False        False        False 6      False False False H      H      3288.0    3288      oral tongue              Other      NaT           2009-10-14         29.0          Alive       no    N     1.0-F5  2019-10-23         2020-04-01   0       alive      FGD                no             pT1N0Mx          3288           3288.0      yes         1       1.0 F5       NaN   non-cohesive         29         2006-11-13   well     m        m        NaT      0  1  yes          yes        tongue         regional only      1     131.0              0.014203  \n",
       "\n",
       "[5 rows x 208 columns]"
      ],
      "text/html": "<div>\n<style scoped>\n    .dataframe tbody tr th:only-of-type {\n        vertical-align: middle;\n    }\n\n    .dataframe tbody tr th {\n        vertical-align: top;\n    }\n\n    .dataframe thead th {\n        text-align: right;\n    }\n</style>\n<table border=\"1\" class=\"dataframe\">\n  <thead>\n    <tr style=\"text-align: right;\">\n      <th></th>\n      <th></th>\n      <th></th>\n      <th></th>\n      <th></th>\n      <th></th>\n      <th></th>\n      <th></th>\n      <th></th>\n      <th></th>\n      <th></th>\n      <th></th>\n      <th></th>\n      <th></th>\n      <th></th>\n      <th></th>\n      <th></th>\n      <th></th>\n      <th></th>\n      <th></th>\n      <th></th>\n      <th></th>\n      <th></th>\n      <th></th>\n      <th></th>\n      <th></th>\n      <th></th>\n      <th></th>\n      <th></th>\n      <th></th>\n      <th></th>\n      <th></th>\n      <th></th>\n      <th></th>\n      <th></th>\n      <th></th>\n      <th></th>\n      <th></th>\n      <th></th>\n      <th></th>\n      <th></th>\n      <th></th>\n      <th></th>\n      <th></th>\n      <th></th>\n      <th></th>\n      <th></th>\n      <th></th>\n      <th></th>\n      <th></th>\n      <th>998.0</th>\n      <th>1002.0</th>\n      <th>1006.0</th>\n      <th>1010.0</th>\n      <th>1014.0</th>\n      <th>1018.0</th>\n      <th>1022.0</th>\n      <th>1025.0</th>\n      <th>1029.0</th>\n      <th>1033.0</th>\n      <th>...</th>\n      <th>1762.0</th>\n      <th>1766.0</th>\n      <th>1770.0</th>\n      <th>1774.0</th>\n      <th>1778.0</th>\n      <th>1781.0</th>\n      <th>1785.0</th>\n      <th>1789.0</th>\n      <th>1793.0</th>\n      <th>1797.0</th>\n    </tr>\n    <tr>\n      <th>1year</th>\n      <th>1yeardeath_x</th>\n      <th>1yeardeath_y</th>\n      <th>2year</th>\n      <th>2years</th>\n      <th>3year</th>\n      <th>4year</th>\n      <th>5year</th>\n      <th>ASMA_x</th>\n      <th>ASMA_y</th>\n      <th>Case ID_x</th>\n      <th>Case ID_y</th>\n      <th>Corrected Site AJCC/UICC</th>\n      <th>DODvsAlive</th>\n      <th>Date of death</th>\n      <th>Date of recurrence</th>\n      <th>Diagnosis Age</th>\n      <th>DiedvsAlive</th>\n      <th>ECS_x</th>\n      <th>ECS_y</th>\n      <th>ID</th>\n      <th>Last seen/reviewed</th>\n      <th>Last updated</th>\n      <th>N stage</th>\n      <th>OUTCOME</th>\n      <th>OUTCOME.updated by</th>\n      <th>Overall Death</th>\n      <th>Pathogical Stage</th>\n      <th>Patient_Number</th>\n      <th>Patient_nu</th>\n      <th>Recurrence?</th>\n      <th>T stage</th>\n      <th>TMA</th>\n      <th>TMA site</th>\n      <th>Years</th>\n      <th>advancing front type</th>\n      <th>age @ diag</th>\n      <th>date of diag</th>\n      <th>diff</th>\n      <th>gender_x</th>\n      <th>gender_y</th>\n      <th>lifespan</th>\n      <th>pN</th>\n      <th>pT</th>\n      <th>radiotherapy</th>\n      <th>recurrence</th>\n      <th>site</th>\n      <th>site of recurrence</th>\n      <th>stage</th>\n      <th>survival (months)</th>\n      <th></th>\n      <th></th>\n      <th></th>\n      <th></th>\n      <th></th>\n      <th></th>\n      <th></th>\n      <th></th>\n      <th></th>\n      <th></th>\n      <th></th>\n      <th></th>\n      <th></th>\n      <th></th>\n      <th></th>\n      <th></th>\n      <th></th>\n      <th></th>\n      <th></th>\n      <th></th>\n      <th></th>\n    </tr>\n  </thead>\n  <tbody>\n    <tr>\n      <th>True</th>\n      <th>True</th>\n      <th>True</th>\n      <th>False</th>\n      <th>1</th>\n      <th>False</th>\n      <th>False</th>\n      <th>False</th>\n      <th>H</th>\n      <th>H</th>\n      <th>3251.0</th>\n      <th>3251</th>\n      <th>oral tongue</th>\n      <th>DOD</th>\n      <th>2006-07-21</th>\n      <th>NaT</th>\n      <th>70.0</th>\n      <th>Died</th>\n      <th>yes</th>\n      <th>Y</th>\n      <th>2.0-B1</th>\n      <th>NaT</th>\n      <th>2020-03-13</th>\n      <th>1</th>\n      <th>DOD</th>\n      <th>FG</th>\n      <th>yes</th>\n      <th>pT4N1M0</th>\n      <th>3251</th>\n      <th>3251.0</th>\n      <th>no</th>\n      <th>4</th>\n      <th>2.0</th>\n      <th>B1</th>\n      <th>0.0</th>\n      <th>islands</th>\n      <th>70</th>\n      <th>2006-05-31</th>\n      <th>mod</th>\n      <th>m</th>\n      <th>m</th>\n      <th>51 days</th>\n      <th>1</th>\n      <th>4</th>\n      <th>no</th>\n      <th>no</th>\n      <th>tongue</th>\n      <th>NaN</th>\n      <th>4</th>\n      <th>2.0</th>\n      <td>0.052749</td>\n      <td>0.051853</td>\n      <td>0.052942</td>\n      <td>0.053791</td>\n      <td>0.055145</td>\n      <td>0.057865</td>\n      <td>0.058867</td>\n      <td>0.058859</td>\n      <td>0.059116</td>\n      <td>0.060123</td>\n      <td>...</td>\n      <td>0.042791</td>\n      <td>0.042250</td>\n      <td>0.041013</td>\n      <td>0.041349</td>\n      <td>0.043055</td>\n      <td>0.043556</td>\n      <td>0.042350</td>\n      <td>0.041310</td>\n      <td>0.041231</td>\n      <td>0.041285</td>\n    </tr>\n    <tr>\n      <th>False</th>\n      <th>False</th>\n      <th>False</th>\n      <th>False</th>\n      <th>6</th>\n      <th>False</th>\n      <th>False</th>\n      <th>False</th>\n      <th>I</th>\n      <th>I</th>\n      <th>3271.0</th>\n      <th>3271</th>\n      <th>FOM</th>\n      <th>Other</th>\n      <th>NaT</th>\n      <th>2010-07-23</th>\n      <th>59.0</th>\n      <th>Alive</th>\n      <th>yes</th>\n      <th>Y</th>\n      <th>1.0-A10</th>\n      <th>2010-07-23</th>\n      <th>2020-04-01</th>\n      <th>2b</th>\n      <th>alive</th>\n      <th>FGD</th>\n      <th>no</th>\n      <th>pT4N2bM0</th>\n      <th>3271</th>\n      <th>3271.0</th>\n      <th>yes</th>\n      <th>4</th>\n      <th>1.0</th>\n      <th>A10</th>\n      <th>NaN</th>\n      <th>poorly cohesive</th>\n      <th>59</th>\n      <th>2006-09-16</th>\n      <th>mod</th>\n      <th>m</th>\n      <th>m</th>\n      <th>NaT</th>\n      <th>2b</th>\n      <th>4</th>\n      <th>yes</th>\n      <th>yes</th>\n      <th>floor of mouth</th>\n      <th>lung mets</th>\n      <th>4a</th>\n      <th>46.0</th>\n      <td>0.031232</td>\n      <td>0.033147</td>\n      <td>0.035241</td>\n      <td>0.037708</td>\n      <td>0.039652</td>\n      <td>0.040983</td>\n      <td>0.042755</td>\n      <td>0.044700</td>\n      <td>0.046672</td>\n      <td>0.049553</td>\n      <td>...</td>\n      <td>-0.024473</td>\n      <td>-0.023188</td>\n      <td>-0.021654</td>\n      <td>-0.020956</td>\n      <td>-0.021118</td>\n      <td>-0.020781</td>\n      <td>-0.019914</td>\n      <td>-0.019326</td>\n      <td>-0.018670</td>\n      <td>-0.018217</td>\n    </tr>\n    <tr>\n      <th rowspan=\"2\" valign=\"top\">True</th>\n      <th rowspan=\"2\" valign=\"top\">True</th>\n      <th>False</th>\n      <th>True</th>\n      <th>1</th>\n      <th>False</th>\n      <th>False</th>\n      <th>False</th>\n      <th>I</th>\n      <th>I</th>\n      <th>3237.0</th>\n      <th>3237</th>\n      <th>other</th>\n      <th>Other</th>\n      <th>2007-10-19</th>\n      <th>NaT</th>\n      <th>59.0</th>\n      <th>Died</th>\n      <th>yes</th>\n      <th>Y</th>\n      <th>2.0-B5</th>\n      <th>NaT</th>\n      <th>NaT</th>\n      <th>2a</th>\n      <th>Died other</th>\n      <th>CBarry</th>\n      <th>yes</th>\n      <th>pT4aN2aMx</th>\n      <th>3237</th>\n      <th>3237.0</th>\n      <th>no</th>\n      <th>4a</th>\n      <th>2.0</th>\n      <th>B5</th>\n      <th>1.0</th>\n      <th>non-cohesive</th>\n      <th>59</th>\n      <th>2006-03-24</th>\n      <th>mod well</th>\n      <th>m</th>\n      <th>m</th>\n      <th>574 days</th>\n      <th>2a</th>\n      <th>4a</th>\n      <th>yes</th>\n      <th>yes</th>\n      <th>other</th>\n      <th>NaN</th>\n      <th>4</th>\n      <th>2.0</th>\n      <td>0.058499</td>\n      <td>0.056492</td>\n      <td>0.055707</td>\n      <td>0.057930</td>\n      <td>0.061772</td>\n      <td>0.065517</td>\n      <td>0.068637</td>\n      <td>0.070034</td>\n      <td>0.068941</td>\n      <td>0.068720</td>\n      <td>...</td>\n      <td>0.038919</td>\n      <td>0.038851</td>\n      <td>0.037598</td>\n      <td>0.037264</td>\n      <td>0.038913</td>\n      <td>0.039960</td>\n      <td>0.040094</td>\n      <td>0.039409</td>\n      <td>0.038842</td>\n      <td>0.038968</td>\n    </tr>\n    <tr>\n      <th>True</th>\n      <th>False</th>\n      <th>1</th>\n      <th>False</th>\n      <th>False</th>\n      <th>False</th>\n      <th>H</th>\n      <th>H</th>\n      <th>3568.0</th>\n      <th>3568</th>\n      <th>FOM</th>\n      <th>Other</th>\n      <th>2010-04-17</th>\n      <th>NaT</th>\n      <th>74.0</th>\n      <th>Died</th>\n      <th>yes</th>\n      <th>Y</th>\n      <th>2.0-B8</th>\n      <th>NaT</th>\n      <th>2020-04-01</th>\n      <th>2c</th>\n      <th>died other</th>\n      <th>FGD</th>\n      <th>yes</th>\n      <th>pT2N2cMx</th>\n      <th>3568</th>\n      <th>3568.0</th>\n      <th>no</th>\n      <th>2</th>\n      <th>2.0</th>\n      <th>B8</th>\n      <th>0.0</th>\n      <th>NaN</th>\n      <th>74</th>\n      <th>2010-03-04</th>\n      <th>NaN</th>\n      <th>m</th>\n      <th>m</th>\n      <th>44 days</th>\n      <th>2c</th>\n      <th>2</th>\n      <th>no</th>\n      <th>no</th>\n      <th>floor of mouth</th>\n      <th>NaN</th>\n      <th>4a</th>\n      <th>1.0</th>\n      <td>0.067010</td>\n      <td>0.067329</td>\n      <td>0.068085</td>\n      <td>0.070461</td>\n      <td>0.072448</td>\n      <td>0.074266</td>\n      <td>0.077374</td>\n      <td>0.081012</td>\n      <td>0.083129</td>\n      <td>0.083897</td>\n      <td>...</td>\n      <td>0.063347</td>\n      <td>0.062102</td>\n      <td>0.059686</td>\n      <td>0.060928</td>\n      <td>0.064119</td>\n      <td>0.064838</td>\n      <td>0.064887</td>\n      <td>0.063737</td>\n      <td>0.062597</td>\n      <td>0.063910</td>\n    </tr>\n    <tr>\n      <th>False</th>\n      <th>False</th>\n      <th>False</th>\n      <th>False</th>\n      <th>6</th>\n      <th>False</th>\n      <th>False</th>\n      <th>False</th>\n      <th>H</th>\n      <th>H</th>\n      <th>3288.0</th>\n      <th>3288</th>\n      <th>oral tongue</th>\n      <th>Other</th>\n      <th>NaT</th>\n      <th>2009-10-14</th>\n      <th>29.0</th>\n      <th>Alive</th>\n      <th>no</th>\n      <th>N</th>\n      <th>1.0-F5</th>\n      <th>2019-10-23</th>\n      <th>2020-04-01</th>\n      <th>0</th>\n      <th>alive</th>\n      <th>FGD</th>\n      <th>no</th>\n      <th>pT1N0Mx</th>\n      <th>3288</th>\n      <th>3288.0</th>\n      <th>yes</th>\n      <th>1</th>\n      <th>1.0</th>\n      <th>F5</th>\n      <th>NaN</th>\n      <th>non-cohesive</th>\n      <th>29</th>\n      <th>2006-11-13</th>\n      <th>well</th>\n      <th>m</th>\n      <th>m</th>\n      <th>NaT</th>\n      <th>0</th>\n      <th>1</th>\n      <th>yes</th>\n      <th>yes</th>\n      <th>tongue</th>\n      <th>regional only</th>\n      <th>1</th>\n      <th>131.0</th>\n      <td>0.074100</td>\n      <td>0.072352</td>\n      <td>0.073108</td>\n      <td>0.073570</td>\n      <td>0.072652</td>\n      <td>0.072113</td>\n      <td>0.073772</td>\n      <td>0.075958</td>\n      <td>0.076667</td>\n      <td>0.076577</td>\n      <td>...</td>\n      <td>0.015666</td>\n      <td>0.014986</td>\n      <td>0.013705</td>\n      <td>0.013673</td>\n      <td>0.014596</td>\n      <td>0.015076</td>\n      <td>0.014968</td>\n      <td>0.014176</td>\n      <td>0.013692</td>\n      <td>0.014203</td>\n    </tr>\n  </tbody>\n</table>\n<p>5 rows × 208 columns</p>\n</div>"
     },
     "metadata": {},
     "execution_count": 18
    }
   ],
   "source": [
    "total.sample(5)"
   ]
  },
  {
   "source": [
    "total = total.reset_index().merge(new_metadata, left_on = \"Patient_nu \", right_on = \"Patient_Number\", how = 'inner')\n",
    "total = total.set_index(list(total.columns.difference(wn_cols))).dropna(axis = 1)"
   ],
   "cell_type": "code",
   "metadata": {},
   "execution_count": 14,
   "outputs": []
  },
  {
   "source": [
    "total.reset_index().loc[:,['ID', 'Annotation_loc','envi_loc', 'Patient_Number']].drop_duplicates(subset='Patient_Number').to_excel('./metadata.xlsx')"
   ],
   "cell_type": "markdown",
   "metadata": {}
  },
  {
   "source": [
    "total = pd.concat({\"{}-{}\".format(row[\"TMA\"], row[\"Core\"]):\n",
    "                   truncate(pd.read_pickle(row[\"hdf_loc\"]).sample(frac = 0.1), start = 1000, end = 1800)\n",
    "                   for name, row in tqdm(list(metadata.iterrows()))}, names = [\"ID\"])\n",
    "\n",
    "wn_cols = total.columns"
   ],
   "cell_type": "markdown",
   "metadata": {}
  },
  {
   "source": [
    "total.to_hdf(\"./Tumour_df_raw.hdf5\", key='Data')"
   ],
   "cell_type": "markdown",
   "metadata": {}
  },
  {
   "cell_type": "code",
   "execution_count": 15,
   "metadata": {},
   "outputs": [
    {
     "output_type": "execute_result",
     "data": {
      "text/plain": [
       "FrozenList(['1year', '1yeardeath_x', '1yeardeath_y', '2year', '2years', '3year', '4year', '5year', 'ASMA_x', 'ASMA_y', 'Case ID_x', 'Case ID_y', 'Corrected Site AJCC/UICC', 'DODvsAlive', 'Date of death', 'Date of recurrence', 'Diagnosis Age', 'DiedvsAlive', 'ECS_x', 'ECS_y', 'ID', 'Last seen/reviewed', 'Last updated', 'N stage', 'OUTCOME', 'OUTCOME.updated by', 'Overall Death ', 'Pathogical Stage', 'Patient_Number', 'Patient_nu ', 'Recurrence?', 'T stage', 'TMA', 'TMA site', 'Years', 'advancing front type', 'age @ diag', 'date of diag', 'diff', 'gender_x', 'gender_y', 'lifespan', 'pN', 'pT', 'radiotherapy', 'recurrence', 'site', 'site of recurrence', 'stage', 'survival (months)'])"
      ]
     },
     "metadata": {},
     "execution_count": 15
    }
   ],
   "source": [
    "total.index.names"
   ]
  },
  {
   "cell_type": "code",
   "execution_count": 16,
   "metadata": {},
   "outputs": [
    {
     "output_type": "execute_result",
     "data": {
      "text/plain": [
       "Text(0, 0.5, 'Absorbance (a.u)')"
      ]
     },
     "metadata": {},
     "execution_count": 16
    },
    {
     "output_type": "display_data",
     "data": {
      "text/plain": "<Figure size 432x288 with 1 Axes>",
      "image/svg+xml": "<?xml version=\"1.0\" encoding=\"utf-8\" standalone=\"no\"?>\n<!DOCTYPE svg PUBLIC \"-//W3C//DTD SVG 1.1//EN\"\n  \"http://www.w3.org/Graphics/SVG/1.1/DTD/svg11.dtd\">\n<!-- Created with matplotlib (https://matplotlib.org/) -->\n<svg height=\"262.918125pt\" version=\"1.1\" viewBox=\"0 0 392.14375 262.918125\" width=\"392.14375pt\" xmlns=\"http://www.w3.org/2000/svg\" xmlns:xlink=\"http://www.w3.org/1999/xlink\">\n <metadata>\n  <rdf:RDF xmlns:cc=\"http://creativecommons.org/ns#\" xmlns:dc=\"http://purl.org/dc/elements/1.1/\" xmlns:rdf=\"http://www.w3.org/1999/02/22-rdf-syntax-ns#\">\n   <cc:Work>\n    <dc:type rdf:resource=\"http://purl.org/dc/dcmitype/StillImage\"/>\n    <dc:date>2021-04-07T15:23:52.004684</dc:date>\n    <dc:format>image/svg+xml</dc:format>\n    <dc:creator>\n     <cc:Agent>\n      <dc:title>Matplotlib v3.3.4, https://matplotlib.org/</dc:title>\n     </cc:Agent>\n    </dc:creator>\n   </cc:Work>\n  </rdf:RDF>\n </metadata>\n <defs>\n  <style type=\"text/css\">*{stroke-linecap:butt;stroke-linejoin:round;}</style>\n </defs>\n <g id=\"figure_1\">\n  <g id=\"patch_1\">\n   <path d=\"M 0 262.918125 \nL 392.14375 262.918125 \nL 392.14375 0 \nL 0 0 \nz\n\" style=\"fill:none;\"/>\n  </g>\n  <g id=\"axes_1\">\n   <g id=\"patch_2\">\n    <path d=\"M 50.14375 224.64 \nL 384.94375 224.64 \nL 384.94375 7.2 \nL 50.14375 7.2 \nz\n\" style=\"fill:#ffffff;\"/>\n   </g>\n   <g id=\"matplotlib.axis_1\">\n    <g id=\"xtick_1\">\n     <g id=\"line2d_1\">\n      <defs>\n       <path d=\"M 0 0 \nL 0 3.5 \n\" id=\"m7f10ced48c\" style=\"stroke:#000000;stroke-width:0.8;\"/>\n      </defs>\n      <g>\n       <use style=\"stroke:#000000;stroke-width:0.8;\" x=\"66.123793\" xlink:href=\"#m7f10ced48c\" y=\"224.64\"/>\n      </g>\n     </g>\n     <g id=\"text_1\">\n      <!-- 1000 -->\n      <g transform=\"translate(53.398793 239.238437)scale(0.1 -0.1)\">\n       <defs>\n        <path d=\"M 12.40625 8.296875 \nL 28.515625 8.296875 \nL 28.515625 63.921875 \nL 10.984375 60.40625 \nL 10.984375 69.390625 \nL 28.421875 72.90625 \nL 38.28125 72.90625 \nL 38.28125 8.296875 \nL 54.390625 8.296875 \nL 54.390625 0 \nL 12.40625 0 \nz\n\" id=\"DejaVuSans-49\"/>\n        <path d=\"M 31.78125 66.40625 \nQ 24.171875 66.40625 20.328125 58.90625 \nQ 16.5 51.421875 16.5 36.375 \nQ 16.5 21.390625 20.328125 13.890625 \nQ 24.171875 6.390625 31.78125 6.390625 \nQ 39.453125 6.390625 43.28125 13.890625 \nQ 47.125 21.390625 47.125 36.375 \nQ 47.125 51.421875 43.28125 58.90625 \nQ 39.453125 66.40625 31.78125 66.40625 \nz\nM 31.78125 74.21875 \nQ 44.046875 74.21875 50.515625 64.515625 \nQ 56.984375 54.828125 56.984375 36.375 \nQ 56.984375 17.96875 50.515625 8.265625 \nQ 44.046875 -1.421875 31.78125 -1.421875 \nQ 19.53125 -1.421875 13.0625 8.265625 \nQ 6.59375 17.96875 6.59375 36.375 \nQ 6.59375 54.828125 13.0625 64.515625 \nQ 19.53125 74.21875 31.78125 74.21875 \nz\n\" id=\"DejaVuSans-48\"/>\n       </defs>\n       <use xlink:href=\"#DejaVuSans-49\"/>\n       <use x=\"63.623047\" xlink:href=\"#DejaVuSans-48\"/>\n       <use x=\"127.246094\" xlink:href=\"#DejaVuSans-48\"/>\n       <use x=\"190.869141\" xlink:href=\"#DejaVuSans-48\"/>\n      </g>\n     </g>\n    </g>\n    <g id=\"xtick_2\">\n     <g id=\"line2d_2\">\n      <g>\n       <use style=\"stroke:#000000;stroke-width:0.8;\" x=\"104.216864\" xlink:href=\"#m7f10ced48c\" y=\"224.64\"/>\n      </g>\n     </g>\n     <g id=\"text_2\">\n      <!-- 1100 -->\n      <g transform=\"translate(91.491864 239.238437)scale(0.1 -0.1)\">\n       <use xlink:href=\"#DejaVuSans-49\"/>\n       <use x=\"63.623047\" xlink:href=\"#DejaVuSans-49\"/>\n       <use x=\"127.246094\" xlink:href=\"#DejaVuSans-48\"/>\n       <use x=\"190.869141\" xlink:href=\"#DejaVuSans-48\"/>\n      </g>\n     </g>\n    </g>\n    <g id=\"xtick_3\">\n     <g id=\"line2d_3\">\n      <g>\n       <use style=\"stroke:#000000;stroke-width:0.8;\" x=\"142.309935\" xlink:href=\"#m7f10ced48c\" y=\"224.64\"/>\n      </g>\n     </g>\n     <g id=\"text_3\">\n      <!-- 1200 -->\n      <g transform=\"translate(129.584935 239.238437)scale(0.1 -0.1)\">\n       <defs>\n        <path d=\"M 19.1875 8.296875 \nL 53.609375 8.296875 \nL 53.609375 0 \nL 7.328125 0 \nL 7.328125 8.296875 \nQ 12.9375 14.109375 22.625 23.890625 \nQ 32.328125 33.6875 34.8125 36.53125 \nQ 39.546875 41.84375 41.421875 45.53125 \nQ 43.3125 49.21875 43.3125 52.78125 \nQ 43.3125 58.59375 39.234375 62.25 \nQ 35.15625 65.921875 28.609375 65.921875 \nQ 23.96875 65.921875 18.8125 64.3125 \nQ 13.671875 62.703125 7.8125 59.421875 \nL 7.8125 69.390625 \nQ 13.765625 71.78125 18.9375 73 \nQ 24.125 74.21875 28.421875 74.21875 \nQ 39.75 74.21875 46.484375 68.546875 \nQ 53.21875 62.890625 53.21875 53.421875 \nQ 53.21875 48.921875 51.53125 44.890625 \nQ 49.859375 40.875 45.40625 35.40625 \nQ 44.1875 33.984375 37.640625 27.21875 \nQ 31.109375 20.453125 19.1875 8.296875 \nz\n\" id=\"DejaVuSans-50\"/>\n       </defs>\n       <use xlink:href=\"#DejaVuSans-49\"/>\n       <use x=\"63.623047\" xlink:href=\"#DejaVuSans-50\"/>\n       <use x=\"127.246094\" xlink:href=\"#DejaVuSans-48\"/>\n       <use x=\"190.869141\" xlink:href=\"#DejaVuSans-48\"/>\n      </g>\n     </g>\n    </g>\n    <g id=\"xtick_4\">\n     <g id=\"line2d_4\">\n      <g>\n       <use style=\"stroke:#000000;stroke-width:0.8;\" x=\"180.403006\" xlink:href=\"#m7f10ced48c\" y=\"224.64\"/>\n      </g>\n     </g>\n     <g id=\"text_4\">\n      <!-- 1300 -->\n      <g transform=\"translate(167.678006 239.238437)scale(0.1 -0.1)\">\n       <defs>\n        <path d=\"M 40.578125 39.3125 \nQ 47.65625 37.796875 51.625 33 \nQ 55.609375 28.21875 55.609375 21.1875 \nQ 55.609375 10.40625 48.1875 4.484375 \nQ 40.765625 -1.421875 27.09375 -1.421875 \nQ 22.515625 -1.421875 17.65625 -0.515625 \nQ 12.796875 0.390625 7.625 2.203125 \nL 7.625 11.71875 \nQ 11.71875 9.328125 16.59375 8.109375 \nQ 21.484375 6.890625 26.8125 6.890625 \nQ 36.078125 6.890625 40.9375 10.546875 \nQ 45.796875 14.203125 45.796875 21.1875 \nQ 45.796875 27.640625 41.28125 31.265625 \nQ 36.765625 34.90625 28.71875 34.90625 \nL 20.21875 34.90625 \nL 20.21875 43.015625 \nL 29.109375 43.015625 \nQ 36.375 43.015625 40.234375 45.921875 \nQ 44.09375 48.828125 44.09375 54.296875 \nQ 44.09375 59.90625 40.109375 62.90625 \nQ 36.140625 65.921875 28.71875 65.921875 \nQ 24.65625 65.921875 20.015625 65.03125 \nQ 15.375 64.15625 9.8125 62.3125 \nL 9.8125 71.09375 \nQ 15.4375 72.65625 20.34375 73.4375 \nQ 25.25 74.21875 29.59375 74.21875 \nQ 40.828125 74.21875 47.359375 69.109375 \nQ 53.90625 64.015625 53.90625 55.328125 \nQ 53.90625 49.265625 50.4375 45.09375 \nQ 46.96875 40.921875 40.578125 39.3125 \nz\n\" id=\"DejaVuSans-51\"/>\n       </defs>\n       <use xlink:href=\"#DejaVuSans-49\"/>\n       <use x=\"63.623047\" xlink:href=\"#DejaVuSans-51\"/>\n       <use x=\"127.246094\" xlink:href=\"#DejaVuSans-48\"/>\n       <use x=\"190.869141\" xlink:href=\"#DejaVuSans-48\"/>\n      </g>\n     </g>\n    </g>\n    <g id=\"xtick_5\">\n     <g id=\"line2d_5\">\n      <g>\n       <use style=\"stroke:#000000;stroke-width:0.8;\" x=\"218.496077\" xlink:href=\"#m7f10ced48c\" y=\"224.64\"/>\n      </g>\n     </g>\n     <g id=\"text_5\">\n      <!-- 1400 -->\n      <g transform=\"translate(205.771077 239.238437)scale(0.1 -0.1)\">\n       <defs>\n        <path d=\"M 37.796875 64.3125 \nL 12.890625 25.390625 \nL 37.796875 25.390625 \nz\nM 35.203125 72.90625 \nL 47.609375 72.90625 \nL 47.609375 25.390625 \nL 58.015625 25.390625 \nL 58.015625 17.1875 \nL 47.609375 17.1875 \nL 47.609375 0 \nL 37.796875 0 \nL 37.796875 17.1875 \nL 4.890625 17.1875 \nL 4.890625 26.703125 \nz\n\" id=\"DejaVuSans-52\"/>\n       </defs>\n       <use xlink:href=\"#DejaVuSans-49\"/>\n       <use x=\"63.623047\" xlink:href=\"#DejaVuSans-52\"/>\n       <use x=\"127.246094\" xlink:href=\"#DejaVuSans-48\"/>\n       <use x=\"190.869141\" xlink:href=\"#DejaVuSans-48\"/>\n      </g>\n     </g>\n    </g>\n    <g id=\"xtick_6\">\n     <g id=\"line2d_6\">\n      <g>\n       <use style=\"stroke:#000000;stroke-width:0.8;\" x=\"256.589148\" xlink:href=\"#m7f10ced48c\" y=\"224.64\"/>\n      </g>\n     </g>\n     <g id=\"text_6\">\n      <!-- 1500 -->\n      <g transform=\"translate(243.864148 239.238437)scale(0.1 -0.1)\">\n       <defs>\n        <path d=\"M 10.796875 72.90625 \nL 49.515625 72.90625 \nL 49.515625 64.59375 \nL 19.828125 64.59375 \nL 19.828125 46.734375 \nQ 21.96875 47.46875 24.109375 47.828125 \nQ 26.265625 48.1875 28.421875 48.1875 \nQ 40.625 48.1875 47.75 41.5 \nQ 54.890625 34.8125 54.890625 23.390625 \nQ 54.890625 11.625 47.5625 5.09375 \nQ 40.234375 -1.421875 26.90625 -1.421875 \nQ 22.3125 -1.421875 17.546875 -0.640625 \nQ 12.796875 0.140625 7.71875 1.703125 \nL 7.71875 11.625 \nQ 12.109375 9.234375 16.796875 8.0625 \nQ 21.484375 6.890625 26.703125 6.890625 \nQ 35.15625 6.890625 40.078125 11.328125 \nQ 45.015625 15.765625 45.015625 23.390625 \nQ 45.015625 31 40.078125 35.4375 \nQ 35.15625 39.890625 26.703125 39.890625 \nQ 22.75 39.890625 18.8125 39.015625 \nQ 14.890625 38.140625 10.796875 36.28125 \nz\n\" id=\"DejaVuSans-53\"/>\n       </defs>\n       <use xlink:href=\"#DejaVuSans-49\"/>\n       <use x=\"63.623047\" xlink:href=\"#DejaVuSans-53\"/>\n       <use x=\"127.246094\" xlink:href=\"#DejaVuSans-48\"/>\n       <use x=\"190.869141\" xlink:href=\"#DejaVuSans-48\"/>\n      </g>\n     </g>\n    </g>\n    <g id=\"xtick_7\">\n     <g id=\"line2d_7\">\n      <g>\n       <use style=\"stroke:#000000;stroke-width:0.8;\" x=\"294.682219\" xlink:href=\"#m7f10ced48c\" y=\"224.64\"/>\n      </g>\n     </g>\n     <g id=\"text_7\">\n      <!-- 1600 -->\n      <g transform=\"translate(281.957219 239.238437)scale(0.1 -0.1)\">\n       <defs>\n        <path d=\"M 33.015625 40.375 \nQ 26.375 40.375 22.484375 35.828125 \nQ 18.609375 31.296875 18.609375 23.390625 \nQ 18.609375 15.53125 22.484375 10.953125 \nQ 26.375 6.390625 33.015625 6.390625 \nQ 39.65625 6.390625 43.53125 10.953125 \nQ 47.40625 15.53125 47.40625 23.390625 \nQ 47.40625 31.296875 43.53125 35.828125 \nQ 39.65625 40.375 33.015625 40.375 \nz\nM 52.59375 71.296875 \nL 52.59375 62.3125 \nQ 48.875 64.0625 45.09375 64.984375 \nQ 41.3125 65.921875 37.59375 65.921875 \nQ 27.828125 65.921875 22.671875 59.328125 \nQ 17.53125 52.734375 16.796875 39.40625 \nQ 19.671875 43.65625 24.015625 45.921875 \nQ 28.375 48.1875 33.59375 48.1875 \nQ 44.578125 48.1875 50.953125 41.515625 \nQ 57.328125 34.859375 57.328125 23.390625 \nQ 57.328125 12.15625 50.6875 5.359375 \nQ 44.046875 -1.421875 33.015625 -1.421875 \nQ 20.359375 -1.421875 13.671875 8.265625 \nQ 6.984375 17.96875 6.984375 36.375 \nQ 6.984375 53.65625 15.1875 63.9375 \nQ 23.390625 74.21875 37.203125 74.21875 \nQ 40.921875 74.21875 44.703125 73.484375 \nQ 48.484375 72.75 52.59375 71.296875 \nz\n\" id=\"DejaVuSans-54\"/>\n       </defs>\n       <use xlink:href=\"#DejaVuSans-49\"/>\n       <use x=\"63.623047\" xlink:href=\"#DejaVuSans-54\"/>\n       <use x=\"127.246094\" xlink:href=\"#DejaVuSans-48\"/>\n       <use x=\"190.869141\" xlink:href=\"#DejaVuSans-48\"/>\n      </g>\n     </g>\n    </g>\n    <g id=\"xtick_8\">\n     <g id=\"line2d_8\">\n      <g>\n       <use style=\"stroke:#000000;stroke-width:0.8;\" x=\"332.775289\" xlink:href=\"#m7f10ced48c\" y=\"224.64\"/>\n      </g>\n     </g>\n     <g id=\"text_8\">\n      <!-- 1700 -->\n      <g transform=\"translate(320.050289 239.238437)scale(0.1 -0.1)\">\n       <defs>\n        <path d=\"M 8.203125 72.90625 \nL 55.078125 72.90625 \nL 55.078125 68.703125 \nL 28.609375 0 \nL 18.3125 0 \nL 43.21875 64.59375 \nL 8.203125 64.59375 \nz\n\" id=\"DejaVuSans-55\"/>\n       </defs>\n       <use xlink:href=\"#DejaVuSans-49\"/>\n       <use x=\"63.623047\" xlink:href=\"#DejaVuSans-55\"/>\n       <use x=\"127.246094\" xlink:href=\"#DejaVuSans-48\"/>\n       <use x=\"190.869141\" xlink:href=\"#DejaVuSans-48\"/>\n      </g>\n     </g>\n    </g>\n    <g id=\"xtick_9\">\n     <g id=\"line2d_9\">\n      <g>\n       <use style=\"stroke:#000000;stroke-width:0.8;\" x=\"370.86836\" xlink:href=\"#m7f10ced48c\" y=\"224.64\"/>\n      </g>\n     </g>\n     <g id=\"text_9\">\n      <!-- 1800 -->\n      <g transform=\"translate(358.14336 239.238437)scale(0.1 -0.1)\">\n       <defs>\n        <path d=\"M 31.78125 34.625 \nQ 24.75 34.625 20.71875 30.859375 \nQ 16.703125 27.09375 16.703125 20.515625 \nQ 16.703125 13.921875 20.71875 10.15625 \nQ 24.75 6.390625 31.78125 6.390625 \nQ 38.8125 6.390625 42.859375 10.171875 \nQ 46.921875 13.96875 46.921875 20.515625 \nQ 46.921875 27.09375 42.890625 30.859375 \nQ 38.875 34.625 31.78125 34.625 \nz\nM 21.921875 38.8125 \nQ 15.578125 40.375 12.03125 44.71875 \nQ 8.5 49.078125 8.5 55.328125 \nQ 8.5 64.0625 14.71875 69.140625 \nQ 20.953125 74.21875 31.78125 74.21875 \nQ 42.671875 74.21875 48.875 69.140625 \nQ 55.078125 64.0625 55.078125 55.328125 \nQ 55.078125 49.078125 51.53125 44.71875 \nQ 48 40.375 41.703125 38.8125 \nQ 48.828125 37.15625 52.796875 32.3125 \nQ 56.78125 27.484375 56.78125 20.515625 \nQ 56.78125 9.90625 50.3125 4.234375 \nQ 43.84375 -1.421875 31.78125 -1.421875 \nQ 19.734375 -1.421875 13.25 4.234375 \nQ 6.78125 9.90625 6.78125 20.515625 \nQ 6.78125 27.484375 10.78125 32.3125 \nQ 14.796875 37.15625 21.921875 38.8125 \nz\nM 18.3125 54.390625 \nQ 18.3125 48.734375 21.84375 45.5625 \nQ 25.390625 42.390625 31.78125 42.390625 \nQ 38.140625 42.390625 41.71875 45.5625 \nQ 45.3125 48.734375 45.3125 54.390625 \nQ 45.3125 60.0625 41.71875 63.234375 \nQ 38.140625 66.40625 31.78125 66.40625 \nQ 25.390625 66.40625 21.84375 63.234375 \nQ 18.3125 60.0625 18.3125 54.390625 \nz\n\" id=\"DejaVuSans-56\"/>\n       </defs>\n       <use xlink:href=\"#DejaVuSans-49\"/>\n       <use x=\"63.623047\" xlink:href=\"#DejaVuSans-56\"/>\n       <use x=\"127.246094\" xlink:href=\"#DejaVuSans-48\"/>\n       <use x=\"190.869141\" xlink:href=\"#DejaVuSans-48\"/>\n      </g>\n     </g>\n    </g>\n    <g id=\"text_10\">\n     <!-- Wavenumber $(cm^{-1})$ -->\n     <g transform=\"translate(165.34375 253.638437)scale(0.1 -0.1)\">\n      <defs>\n       <path d=\"M 3.328125 72.90625 \nL 13.28125 72.90625 \nL 28.609375 11.28125 \nL 43.890625 72.90625 \nL 54.984375 72.90625 \nL 70.3125 11.28125 \nL 85.59375 72.90625 \nL 95.609375 72.90625 \nL 77.296875 0 \nL 64.890625 0 \nL 49.515625 63.28125 \nL 33.984375 0 \nL 21.578125 0 \nz\n\" id=\"DejaVuSans-87\"/>\n       <path d=\"M 34.28125 27.484375 \nQ 23.390625 27.484375 19.1875 25 \nQ 14.984375 22.515625 14.984375 16.5 \nQ 14.984375 11.71875 18.140625 8.90625 \nQ 21.296875 6.109375 26.703125 6.109375 \nQ 34.1875 6.109375 38.703125 11.40625 \nQ 43.21875 16.703125 43.21875 25.484375 \nL 43.21875 27.484375 \nz\nM 52.203125 31.203125 \nL 52.203125 0 \nL 43.21875 0 \nL 43.21875 8.296875 \nQ 40.140625 3.328125 35.546875 0.953125 \nQ 30.953125 -1.421875 24.3125 -1.421875 \nQ 15.921875 -1.421875 10.953125 3.296875 \nQ 6 8.015625 6 15.921875 \nQ 6 25.140625 12.171875 29.828125 \nQ 18.359375 34.515625 30.609375 34.515625 \nL 43.21875 34.515625 \nL 43.21875 35.40625 \nQ 43.21875 41.609375 39.140625 45 \nQ 35.0625 48.390625 27.6875 48.390625 \nQ 23 48.390625 18.546875 47.265625 \nQ 14.109375 46.140625 10.015625 43.890625 \nL 10.015625 52.203125 \nQ 14.9375 54.109375 19.578125 55.046875 \nQ 24.21875 56 28.609375 56 \nQ 40.484375 56 46.34375 49.84375 \nQ 52.203125 43.703125 52.203125 31.203125 \nz\n\" id=\"DejaVuSans-97\"/>\n       <path d=\"M 2.984375 54.6875 \nL 12.5 54.6875 \nL 29.59375 8.796875 \nL 46.6875 54.6875 \nL 56.203125 54.6875 \nL 35.6875 0 \nL 23.484375 0 \nz\n\" id=\"DejaVuSans-118\"/>\n       <path d=\"M 56.203125 29.59375 \nL 56.203125 25.203125 \nL 14.890625 25.203125 \nQ 15.484375 15.921875 20.484375 11.0625 \nQ 25.484375 6.203125 34.421875 6.203125 \nQ 39.59375 6.203125 44.453125 7.46875 \nQ 49.3125 8.734375 54.109375 11.28125 \nL 54.109375 2.78125 \nQ 49.265625 0.734375 44.1875 -0.34375 \nQ 39.109375 -1.421875 33.890625 -1.421875 \nQ 20.796875 -1.421875 13.15625 6.1875 \nQ 5.515625 13.8125 5.515625 26.8125 \nQ 5.515625 40.234375 12.765625 48.109375 \nQ 20.015625 56 32.328125 56 \nQ 43.359375 56 49.78125 48.890625 \nQ 56.203125 41.796875 56.203125 29.59375 \nz\nM 47.21875 32.234375 \nQ 47.125 39.59375 43.09375 43.984375 \nQ 39.0625 48.390625 32.421875 48.390625 \nQ 24.90625 48.390625 20.390625 44.140625 \nQ 15.875 39.890625 15.1875 32.171875 \nz\n\" id=\"DejaVuSans-101\"/>\n       <path d=\"M 54.890625 33.015625 \nL 54.890625 0 \nL 45.90625 0 \nL 45.90625 32.71875 \nQ 45.90625 40.484375 42.875 44.328125 \nQ 39.84375 48.1875 33.796875 48.1875 \nQ 26.515625 48.1875 22.3125 43.546875 \nQ 18.109375 38.921875 18.109375 30.90625 \nL 18.109375 0 \nL 9.078125 0 \nL 9.078125 54.6875 \nL 18.109375 54.6875 \nL 18.109375 46.1875 \nQ 21.34375 51.125 25.703125 53.5625 \nQ 30.078125 56 35.796875 56 \nQ 45.21875 56 50.046875 50.171875 \nQ 54.890625 44.34375 54.890625 33.015625 \nz\n\" id=\"DejaVuSans-110\"/>\n       <path d=\"M 8.5 21.578125 \nL 8.5 54.6875 \nL 17.484375 54.6875 \nL 17.484375 21.921875 \nQ 17.484375 14.15625 20.5 10.265625 \nQ 23.53125 6.390625 29.59375 6.390625 \nQ 36.859375 6.390625 41.078125 11.03125 \nQ 45.3125 15.671875 45.3125 23.6875 \nL 45.3125 54.6875 \nL 54.296875 54.6875 \nL 54.296875 0 \nL 45.3125 0 \nL 45.3125 8.40625 \nQ 42.046875 3.421875 37.71875 1 \nQ 33.40625 -1.421875 27.6875 -1.421875 \nQ 18.265625 -1.421875 13.375 4.4375 \nQ 8.5 10.296875 8.5 21.578125 \nz\nM 31.109375 56 \nz\n\" id=\"DejaVuSans-117\"/>\n       <path d=\"M 52 44.1875 \nQ 55.375 50.25 60.0625 53.125 \nQ 64.75 56 71.09375 56 \nQ 79.640625 56 84.28125 50.015625 \nQ 88.921875 44.046875 88.921875 33.015625 \nL 88.921875 0 \nL 79.890625 0 \nL 79.890625 32.71875 \nQ 79.890625 40.578125 77.09375 44.375 \nQ 74.3125 48.1875 68.609375 48.1875 \nQ 61.625 48.1875 57.5625 43.546875 \nQ 53.515625 38.921875 53.515625 30.90625 \nL 53.515625 0 \nL 44.484375 0 \nL 44.484375 32.71875 \nQ 44.484375 40.625 41.703125 44.40625 \nQ 38.921875 48.1875 33.109375 48.1875 \nQ 26.21875 48.1875 22.15625 43.53125 \nQ 18.109375 38.875 18.109375 30.90625 \nL 18.109375 0 \nL 9.078125 0 \nL 9.078125 54.6875 \nL 18.109375 54.6875 \nL 18.109375 46.1875 \nQ 21.1875 51.21875 25.484375 53.609375 \nQ 29.78125 56 35.6875 56 \nQ 41.65625 56 45.828125 52.96875 \nQ 50 49.953125 52 44.1875 \nz\n\" id=\"DejaVuSans-109\"/>\n       <path d=\"M 48.6875 27.296875 \nQ 48.6875 37.203125 44.609375 42.84375 \nQ 40.53125 48.484375 33.40625 48.484375 \nQ 26.265625 48.484375 22.1875 42.84375 \nQ 18.109375 37.203125 18.109375 27.296875 \nQ 18.109375 17.390625 22.1875 11.75 \nQ 26.265625 6.109375 33.40625 6.109375 \nQ 40.53125 6.109375 44.609375 11.75 \nQ 48.6875 17.390625 48.6875 27.296875 \nz\nM 18.109375 46.390625 \nQ 20.953125 51.265625 25.265625 53.625 \nQ 29.59375 56 35.59375 56 \nQ 45.5625 56 51.78125 48.09375 \nQ 58.015625 40.1875 58.015625 27.296875 \nQ 58.015625 14.40625 51.78125 6.484375 \nQ 45.5625 -1.421875 35.59375 -1.421875 \nQ 29.59375 -1.421875 25.265625 0.953125 \nQ 20.953125 3.328125 18.109375 8.203125 \nL 18.109375 0 \nL 9.078125 0 \nL 9.078125 75.984375 \nL 18.109375 75.984375 \nz\n\" id=\"DejaVuSans-98\"/>\n       <path d=\"M 41.109375 46.296875 \nQ 39.59375 47.171875 37.8125 47.578125 \nQ 36.03125 48 33.890625 48 \nQ 26.265625 48 22.1875 43.046875 \nQ 18.109375 38.09375 18.109375 28.8125 \nL 18.109375 0 \nL 9.078125 0 \nL 9.078125 54.6875 \nL 18.109375 54.6875 \nL 18.109375 46.1875 \nQ 20.953125 51.171875 25.484375 53.578125 \nQ 30.03125 56 36.53125 56 \nQ 37.453125 56 38.578125 55.875 \nQ 39.703125 55.765625 41.0625 55.515625 \nz\n\" id=\"DejaVuSans-114\"/>\n       <path id=\"DejaVuSans-32\"/>\n       <path d=\"M 31 75.875 \nQ 24.46875 64.65625 21.28125 53.65625 \nQ 18.109375 42.671875 18.109375 31.390625 \nQ 18.109375 20.125 21.3125 9.0625 \nQ 24.515625 -2 31 -13.1875 \nL 23.1875 -13.1875 \nQ 15.875 -1.703125 12.234375 9.375 \nQ 8.59375 20.453125 8.59375 31.390625 \nQ 8.59375 42.28125 12.203125 53.3125 \nQ 15.828125 64.359375 23.1875 75.875 \nz\n\" id=\"DejaVuSans-40\"/>\n       <path d=\"M 53.609375 52.59375 \nL 51.8125 43.703125 \nQ 48.578125 46.046875 44.9375 47.21875 \nQ 41.3125 48.390625 37.40625 48.390625 \nQ 33.109375 48.390625 29.21875 46.875 \nQ 25.34375 45.359375 22.703125 42.578125 \nQ 18.5 38.328125 16.203125 32.609375 \nQ 13.921875 26.90625 13.921875 20.796875 \nQ 13.921875 13.421875 17.609375 9.8125 \nQ 21.296875 6.203125 28.8125 6.203125 \nQ 32.515625 6.203125 36.6875 7.328125 \nQ 40.875 8.453125 45.40625 10.6875 \nL 43.703125 1.8125 \nQ 39.796875 0.203125 35.671875 -0.609375 \nQ 31.546875 -1.421875 27.203125 -1.421875 \nQ 16.3125 -1.421875 10.453125 4.015625 \nQ 4.59375 9.46875 4.59375 19.578125 \nQ 4.59375 28.078125 7.640625 35.234375 \nQ 10.6875 42.390625 16.703125 48.09375 \nQ 20.796875 52 26.3125 54 \nQ 31.84375 56 38.375 56 \nQ 42.1875 56 45.9375 55.140625 \nQ 49.703125 54.296875 53.609375 52.59375 \nz\n\" id=\"DejaVuSans-Oblique-99\"/>\n       <path d=\"M 89.796875 33.015625 \nL 83.40625 0 \nL 74.421875 0 \nL 80.71875 32.71875 \nQ 81.109375 34.8125 81.296875 36.328125 \nQ 81.5 37.84375 81.5 38.921875 \nQ 81.5 43.3125 79.046875 45.75 \nQ 76.609375 48.1875 72.21875 48.1875 \nQ 65.671875 48.1875 60.546875 43.28125 \nQ 55.421875 38.375 53.90625 30.515625 \nL 47.90625 0 \nL 38.921875 0 \nL 45.3125 32.71875 \nQ 45.703125 34.515625 45.890625 36.046875 \nQ 46.09375 37.59375 46.09375 38.8125 \nQ 46.09375 43.265625 43.65625 45.71875 \nQ 41.21875 48.1875 36.921875 48.1875 \nQ 30.28125 48.1875 25.140625 43.28125 \nQ 20.015625 38.375 18.5 30.515625 \nL 12.5 0 \nL 3.515625 0 \nL 14.203125 54.6875 \nL 23.1875 54.6875 \nL 21.484375 46.1875 \nQ 25.140625 50.984375 30.046875 53.484375 \nQ 34.96875 56 40.578125 56 \nQ 46.53125 56 50.359375 52.875 \nQ 54.203125 49.75 54.984375 44.1875 \nQ 59.078125 49.953125 64.46875 52.96875 \nQ 69.875 56 75.875 56 \nQ 82.90625 56 86.734375 51.953125 \nQ 90.578125 47.90625 90.578125 40.484375 \nQ 90.578125 38.875 90.375 36.9375 \nQ 90.1875 35.015625 89.796875 33.015625 \nz\n\" id=\"DejaVuSans-Oblique-109\"/>\n       <path d=\"M 10.59375 35.5 \nL 73.1875 35.5 \nL 73.1875 27.203125 \nL 10.59375 27.203125 \nz\n\" id=\"DejaVuSans-8722\"/>\n       <path d=\"M 8.015625 75.875 \nL 15.828125 75.875 \nQ 23.140625 64.359375 26.78125 53.3125 \nQ 30.421875 42.28125 30.421875 31.390625 \nQ 30.421875 20.453125 26.78125 9.375 \nQ 23.140625 -1.703125 15.828125 -13.1875 \nL 8.015625 -13.1875 \nQ 14.5 -2 17.703125 9.0625 \nQ 20.90625 20.125 20.90625 31.390625 \nQ 20.90625 42.671875 17.703125 53.65625 \nQ 14.5 64.65625 8.015625 75.875 \nz\n\" id=\"DejaVuSans-41\"/>\n      </defs>\n      <use transform=\"translate(0 0.684375)\" xlink:href=\"#DejaVuSans-87\"/>\n      <use transform=\"translate(98.876953 0.684375)\" xlink:href=\"#DejaVuSans-97\"/>\n      <use transform=\"translate(160.15625 0.684375)\" xlink:href=\"#DejaVuSans-118\"/>\n      <use transform=\"translate(219.335938 0.684375)\" xlink:href=\"#DejaVuSans-101\"/>\n      <use transform=\"translate(280.859375 0.684375)\" xlink:href=\"#DejaVuSans-110\"/>\n      <use transform=\"translate(344.238281 0.684375)\" xlink:href=\"#DejaVuSans-117\"/>\n      <use transform=\"translate(407.617188 0.684375)\" xlink:href=\"#DejaVuSans-109\"/>\n      <use transform=\"translate(505.029297 0.684375)\" xlink:href=\"#DejaVuSans-98\"/>\n      <use transform=\"translate(568.505859 0.684375)\" xlink:href=\"#DejaVuSans-101\"/>\n      <use transform=\"translate(630.029297 0.684375)\" xlink:href=\"#DejaVuSans-114\"/>\n      <use transform=\"translate(671.142578 0.684375)\" xlink:href=\"#DejaVuSans-32\"/>\n      <use transform=\"translate(702.929688 0.684375)\" xlink:href=\"#DejaVuSans-40\"/>\n      <use transform=\"translate(741.943359 0.684375)\" xlink:href=\"#DejaVuSans-Oblique-99\"/>\n      <use transform=\"translate(796.923828 0.684375)\" xlink:href=\"#DejaVuSans-Oblique-109\"/>\n      <use transform=\"translate(898.985833 38.965625)scale(0.7)\" xlink:href=\"#DejaVuSans-8722\"/>\n      <use transform=\"translate(957.638177 38.965625)scale(0.7)\" xlink:href=\"#DejaVuSans-49\"/>\n      <use transform=\"translate(1004.908685 0.684375)\" xlink:href=\"#DejaVuSans-41\"/>\n     </g>\n    </g>\n   </g>\n   <g id=\"matplotlib.axis_2\">\n    <g id=\"ytick_1\">\n     <g id=\"line2d_10\">\n      <defs>\n       <path d=\"M 0 0 \nL -3.5 0 \n\" id=\"me192cd4ae2\" style=\"stroke:#000000;stroke-width:0.8;\"/>\n      </defs>\n      <g>\n       <use style=\"stroke:#000000;stroke-width:0.8;\" x=\"50.14375\" xlink:href=\"#me192cd4ae2\" y=\"202.444975\"/>\n      </g>\n     </g>\n     <g id=\"text_11\">\n      <!-- 0.05 -->\n      <g transform=\"translate(20.878125 206.244194)scale(0.1 -0.1)\">\n       <defs>\n        <path d=\"M 10.6875 12.40625 \nL 21 12.40625 \nL 21 0 \nL 10.6875 0 \nz\n\" id=\"DejaVuSans-46\"/>\n       </defs>\n       <use xlink:href=\"#DejaVuSans-48\"/>\n       <use x=\"63.623047\" xlink:href=\"#DejaVuSans-46\"/>\n       <use x=\"95.410156\" xlink:href=\"#DejaVuSans-48\"/>\n       <use x=\"159.033203\" xlink:href=\"#DejaVuSans-53\"/>\n      </g>\n     </g>\n    </g>\n    <g id=\"ytick_2\">\n     <g id=\"line2d_11\">\n      <g>\n       <use style=\"stroke:#000000;stroke-width:0.8;\" x=\"50.14375\" xlink:href=\"#me192cd4ae2\" y=\"168.814115\"/>\n      </g>\n     </g>\n     <g id=\"text_12\">\n      <!-- 0.10 -->\n      <g transform=\"translate(20.878125 172.613334)scale(0.1 -0.1)\">\n       <use xlink:href=\"#DejaVuSans-48\"/>\n       <use x=\"63.623047\" xlink:href=\"#DejaVuSans-46\"/>\n       <use x=\"95.410156\" xlink:href=\"#DejaVuSans-49\"/>\n       <use x=\"159.033203\" xlink:href=\"#DejaVuSans-48\"/>\n      </g>\n     </g>\n    </g>\n    <g id=\"ytick_3\">\n     <g id=\"line2d_12\">\n      <g>\n       <use style=\"stroke:#000000;stroke-width:0.8;\" x=\"50.14375\" xlink:href=\"#me192cd4ae2\" y=\"135.183255\"/>\n      </g>\n     </g>\n     <g id=\"text_13\">\n      <!-- 0.15 -->\n      <g transform=\"translate(20.878125 138.982474)scale(0.1 -0.1)\">\n       <use xlink:href=\"#DejaVuSans-48\"/>\n       <use x=\"63.623047\" xlink:href=\"#DejaVuSans-46\"/>\n       <use x=\"95.410156\" xlink:href=\"#DejaVuSans-49\"/>\n       <use x=\"159.033203\" xlink:href=\"#DejaVuSans-53\"/>\n      </g>\n     </g>\n    </g>\n    <g id=\"ytick_4\">\n     <g id=\"line2d_13\">\n      <g>\n       <use style=\"stroke:#000000;stroke-width:0.8;\" x=\"50.14375\" xlink:href=\"#me192cd4ae2\" y=\"101.552395\"/>\n      </g>\n     </g>\n     <g id=\"text_14\">\n      <!-- 0.20 -->\n      <g transform=\"translate(20.878125 105.351613)scale(0.1 -0.1)\">\n       <use xlink:href=\"#DejaVuSans-48\"/>\n       <use x=\"63.623047\" xlink:href=\"#DejaVuSans-46\"/>\n       <use x=\"95.410156\" xlink:href=\"#DejaVuSans-50\"/>\n       <use x=\"159.033203\" xlink:href=\"#DejaVuSans-48\"/>\n      </g>\n     </g>\n    </g>\n    <g id=\"ytick_5\">\n     <g id=\"line2d_14\">\n      <g>\n       <use style=\"stroke:#000000;stroke-width:0.8;\" x=\"50.14375\" xlink:href=\"#me192cd4ae2\" y=\"67.921534\"/>\n      </g>\n     </g>\n     <g id=\"text_15\">\n      <!-- 0.25 -->\n      <g transform=\"translate(20.878125 71.720753)scale(0.1 -0.1)\">\n       <use xlink:href=\"#DejaVuSans-48\"/>\n       <use x=\"63.623047\" xlink:href=\"#DejaVuSans-46\"/>\n       <use x=\"95.410156\" xlink:href=\"#DejaVuSans-50\"/>\n       <use x=\"159.033203\" xlink:href=\"#DejaVuSans-53\"/>\n      </g>\n     </g>\n    </g>\n    <g id=\"ytick_6\">\n     <g id=\"line2d_15\">\n      <g>\n       <use style=\"stroke:#000000;stroke-width:0.8;\" x=\"50.14375\" xlink:href=\"#me192cd4ae2\" y=\"34.290674\"/>\n      </g>\n     </g>\n     <g id=\"text_16\">\n      <!-- 0.30 -->\n      <g transform=\"translate(20.878125 38.089893)scale(0.1 -0.1)\">\n       <use xlink:href=\"#DejaVuSans-48\"/>\n       <use x=\"63.623047\" xlink:href=\"#DejaVuSans-46\"/>\n       <use x=\"95.410156\" xlink:href=\"#DejaVuSans-51\"/>\n       <use x=\"159.033203\" xlink:href=\"#DejaVuSans-48\"/>\n      </g>\n     </g>\n    </g>\n    <g id=\"text_17\">\n     <!-- Absorbance (a.u) -->\n     <g transform=\"translate(14.798438 158.779375)rotate(-90)scale(0.1 -0.1)\">\n      <defs>\n       <path d=\"M 34.1875 63.1875 \nL 20.796875 26.90625 \nL 47.609375 26.90625 \nz\nM 28.609375 72.90625 \nL 39.796875 72.90625 \nL 67.578125 0 \nL 57.328125 0 \nL 50.6875 18.703125 \nL 17.828125 18.703125 \nL 11.1875 0 \nL 0.78125 0 \nz\n\" id=\"DejaVuSans-65\"/>\n       <path d=\"M 44.28125 53.078125 \nL 44.28125 44.578125 \nQ 40.484375 46.53125 36.375 47.5 \nQ 32.28125 48.484375 27.875 48.484375 \nQ 21.1875 48.484375 17.84375 46.4375 \nQ 14.5 44.390625 14.5 40.28125 \nQ 14.5 37.15625 16.890625 35.375 \nQ 19.28125 33.59375 26.515625 31.984375 \nL 29.59375 31.296875 \nQ 39.15625 29.25 43.1875 25.515625 \nQ 47.21875 21.78125 47.21875 15.09375 \nQ 47.21875 7.46875 41.1875 3.015625 \nQ 35.15625 -1.421875 24.609375 -1.421875 \nQ 20.21875 -1.421875 15.453125 -0.5625 \nQ 10.6875 0.296875 5.421875 2 \nL 5.421875 11.28125 \nQ 10.40625 8.6875 15.234375 7.390625 \nQ 20.0625 6.109375 24.8125 6.109375 \nQ 31.15625 6.109375 34.5625 8.28125 \nQ 37.984375 10.453125 37.984375 14.40625 \nQ 37.984375 18.0625 35.515625 20.015625 \nQ 33.0625 21.96875 24.703125 23.78125 \nL 21.578125 24.515625 \nQ 13.234375 26.265625 9.515625 29.90625 \nQ 5.8125 33.546875 5.8125 39.890625 \nQ 5.8125 47.609375 11.28125 51.796875 \nQ 16.75 56 26.8125 56 \nQ 31.78125 56 36.171875 55.265625 \nQ 40.578125 54.546875 44.28125 53.078125 \nz\n\" id=\"DejaVuSans-115\"/>\n       <path d=\"M 30.609375 48.390625 \nQ 23.390625 48.390625 19.1875 42.75 \nQ 14.984375 37.109375 14.984375 27.296875 \nQ 14.984375 17.484375 19.15625 11.84375 \nQ 23.34375 6.203125 30.609375 6.203125 \nQ 37.796875 6.203125 41.984375 11.859375 \nQ 46.1875 17.53125 46.1875 27.296875 \nQ 46.1875 37.015625 41.984375 42.703125 \nQ 37.796875 48.390625 30.609375 48.390625 \nz\nM 30.609375 56 \nQ 42.328125 56 49.015625 48.375 \nQ 55.71875 40.765625 55.71875 27.296875 \nQ 55.71875 13.875 49.015625 6.21875 \nQ 42.328125 -1.421875 30.609375 -1.421875 \nQ 18.84375 -1.421875 12.171875 6.21875 \nQ 5.515625 13.875 5.515625 27.296875 \nQ 5.515625 40.765625 12.171875 48.375 \nQ 18.84375 56 30.609375 56 \nz\n\" id=\"DejaVuSans-111\"/>\n       <path d=\"M 48.78125 52.59375 \nL 48.78125 44.1875 \nQ 44.96875 46.296875 41.140625 47.34375 \nQ 37.3125 48.390625 33.40625 48.390625 \nQ 24.65625 48.390625 19.8125 42.84375 \nQ 14.984375 37.3125 14.984375 27.296875 \nQ 14.984375 17.28125 19.8125 11.734375 \nQ 24.65625 6.203125 33.40625 6.203125 \nQ 37.3125 6.203125 41.140625 7.25 \nQ 44.96875 8.296875 48.78125 10.40625 \nL 48.78125 2.09375 \nQ 45.015625 0.34375 40.984375 -0.53125 \nQ 36.96875 -1.421875 32.421875 -1.421875 \nQ 20.0625 -1.421875 12.78125 6.34375 \nQ 5.515625 14.109375 5.515625 27.296875 \nQ 5.515625 40.671875 12.859375 48.328125 \nQ 20.21875 56 33.015625 56 \nQ 37.15625 56 41.109375 55.140625 \nQ 45.0625 54.296875 48.78125 52.59375 \nz\n\" id=\"DejaVuSans-99\"/>\n      </defs>\n      <use xlink:href=\"#DejaVuSans-65\"/>\n      <use x=\"68.408203\" xlink:href=\"#DejaVuSans-98\"/>\n      <use x=\"131.884766\" xlink:href=\"#DejaVuSans-115\"/>\n      <use x=\"183.984375\" xlink:href=\"#DejaVuSans-111\"/>\n      <use x=\"245.166016\" xlink:href=\"#DejaVuSans-114\"/>\n      <use x=\"286.279297\" xlink:href=\"#DejaVuSans-98\"/>\n      <use x=\"349.755859\" xlink:href=\"#DejaVuSans-97\"/>\n      <use x=\"411.035156\" xlink:href=\"#DejaVuSans-110\"/>\n      <use x=\"474.414062\" xlink:href=\"#DejaVuSans-99\"/>\n      <use x=\"529.394531\" xlink:href=\"#DejaVuSans-101\"/>\n      <use x=\"590.917969\" xlink:href=\"#DejaVuSans-32\"/>\n      <use x=\"622.705078\" xlink:href=\"#DejaVuSans-40\"/>\n      <use x=\"661.71875\" xlink:href=\"#DejaVuSans-97\"/>\n      <use x=\"722.998047\" xlink:href=\"#DejaVuSans-46\"/>\n      <use x=\"754.785156\" xlink:href=\"#DejaVuSans-117\"/>\n      <use x=\"818.164062\" xlink:href=\"#DejaVuSans-41\"/>\n     </g>\n    </g>\n   </g>\n   <g id=\"line2d_16\">\n    <path clip-path=\"url(#p1005b5d1fa)\" d=\"M 65.361932 185.204213 \nL 66.885655 184.370258 \nL 68.409377 183.901021 \nL 72.980546 181.146856 \nL 74.504269 179.913938 \nL 77.170784 177.286412 \nL 78.694507 176.182466 \nL 81.741952 174.514639 \nL 83.265675 173.885518 \nL 88.979636 170.642142 \nL 90.503359 170.169306 \nL 92.027081 169.836075 \nL 95.074527 169.471694 \nL 96.217319 169.625637 \nL 97.741042 170.359112 \nL 99.264765 171.292777 \nL 100.788488 172.400407 \nL 103.835933 173.845999 \nL 106.502448 174.84101 \nL 109.549894 176.155061 \nL 111.073617 176.918634 \nL 112.59734 177.548285 \nL 114.121063 178.52056 \nL 115.644785 180.227101 \nL 116.787578 182.060018 \nL 118.3113 183.737658 \nL 119.835023 184.62439 \nL 121.358746 185.051507 \nL 122.882469 185.087825 \nL 124.406192 184.947583 \nL 127.072707 185.042675 \nL 128.596429 185.126207 \nL 130.120152 185.062645 \nL 131.643875 185.410444 \nL 134.691321 187.357106 \nL 136.215044 187.796119 \nL 137.357836 187.63246 \nL 138.881559 187.136747 \nL 140.405281 186.191538 \nL 143.452727 183.627124 \nL 146.500173 180.795979 \nL 147.642965 179.131039 \nL 150.690411 175.557472 \nL 152.214133 174.093675 \nL 153.737856 173.11565 \nL 155.261579 172.688921 \nL 156.785302 172.946183 \nL 159.451817 174.779187 \nL 160.97554 176.041038 \nL 165.546708 180.430214 \nL 167.070431 181.621607 \nL 168.213223 182.772357 \nL 169.736946 183.626959 \nL 175.831837 186.201732 \nL 178.498352 186.745156 \nL 181.545798 187.101548 \nL 183.069521 187.56639 \nL 184.593244 188.241979 \nL 187.640689 190.455218 \nL 188.783481 191.43121 \nL 190.307204 192.140347 \nL 199.068611 194.807578 \nL 200.592333 194.933823 \nL 202.116056 194.474467 \nL 203.639779 193.103579 \nL 205.163502 190.101288 \nL 206.687225 186.668772 \nL 208.210948 182.182816 \nL 209.35374 177.065242 \nL 210.877463 176.768255 \nL 212.401185 180.203939 \nL 213.924908 182.575964 \nL 215.448631 183.743669 \nL 216.972354 184.474516 \nL 219.638869 184.543934 \nL 221.162592 185.159487 \nL 222.686315 186.243746 \nL 224.210037 188.259297 \nL 225.73376 189.963696 \nL 227.257483 189.624752 \nL 228.781206 188.462253 \nL 229.923998 186.883823 \nL 231.447721 184.433088 \nL 232.971444 180.198941 \nL 234.495167 174.618705 \nL 236.018889 168.327271 \nL 237.542612 159.182568 \nL 239.066335 145.739811 \nL 240.209127 115.328206 \nL 241.73285 69.180805 \nL 243.256573 67.240075 \nL 246.304019 85.042747 \nL 247.827741 138.458867 \nL 249.351464 174.594393 \nL 250.494256 184.043372 \nL 252.017979 183.718913 \nL 253.541702 179.432832 \nL 255.065425 173.39747 \nL 256.589148 166.860442 \nL 258.11287 161.581954 \nL 259.636593 154.126443 \nL 260.779385 143.52271 \nL 262.303108 135.873339 \nL 263.826831 131.96312 \nL 265.350554 127.164623 \nL 266.874277 120.446547 \nL 268.398 115.020326 \nL 269.921722 112.272891 \nL 271.064515 112.037479 \nL 272.588237 110.52344 \nL 274.11196 109.47361 \nL 275.635683 114.111744 \nL 277.159406 124.931956 \nL 278.683129 137.270586 \nL 280.206852 143.92098 \nL 284.397089 159.204522 \nL 285.920812 162.732429 \nL 288.968258 164.779809 \nL 290.491981 165.614127 \nL 291.634773 165.8403 \nL 293.158496 165.404673 \nL 294.682219 164.225929 \nL 296.205941 161.767221 \nL 297.729664 157.591515 \nL 299.253387 151.89588 \nL 300.77711 144.283756 \nL 306.491071 84.230243 \nL 308.014793 69.734068 \nL 309.538516 54.014627 \nL 312.205031 28.856948 \nL 313.728754 21.421089 \nL 315.252477 17.083636 \nL 316.7762 17.153273 \nL 318.299922 25.753368 \nL 319.823645 39.17711 \nL 321.347368 53.961556 \nL 322.49016 67.797869 \nL 324.013883 80.860352 \nL 327.061329 109.674422 \nL 328.585052 121.650573 \nL 330.108774 136.492509 \nL 332.775289 168.019826 \nL 334.299012 177.514034 \nL 337.346458 192.75599 \nL 338.870181 199.512036 \nL 340.393904 202.128098 \nL 341.917626 202.985068 \nL 343.060419 205.522117 \nL 344.584141 209.482363 \nL 346.107864 211.463278 \nL 347.631587 210.996045 \nL 349.15531 211.007273 \nL 350.679033 212.173021 \nL 352.202756 213.148429 \nL 353.345548 213.006187 \nL 354.869271 212.997348 \nL 356.392993 213.294423 \nL 357.916716 213.779242 \nL 359.440439 214.756364 \nL 360.964162 214.3028 \nL 362.487885 212.980344 \nL 363.630677 212.473338 \nL 365.1544 212.46895 \nL 366.678123 213.007079 \nL 368.201845 213.230176 \nL 369.725568 212.541341 \nL 369.725568 212.541341 \n\" style=\"fill:none;stroke:#1f77b4;stroke-linecap:square;stroke-width:1.5;\"/>\n   </g>\n   <g id=\"line2d_17\">\n    <path clip-path=\"url(#p1005b5d1fa)\" d=\"M 65.361932 199.763318 \nL 66.885655 198.802274 \nL 68.409377 198.137279 \nL 69.9331 197.216655 \nL 71.456823 196.079031 \nL 72.980546 195.152978 \nL 74.504269 193.887226 \nL 75.647061 192.682555 \nL 78.694507 189.994382 \nL 80.218229 189.092956 \nL 81.741952 188.026575 \nL 83.265675 187.199914 \nL 88.979636 183.379517 \nL 92.027081 182.305659 \nL 95.074527 181.604351 \nL 96.217319 181.45675 \nL 99.264765 182.513249 \nL 100.788488 183.401038 \nL 102.312211 184.047966 \nL 105.359656 184.931404 \nL 106.502448 185.223121 \nL 111.073617 186.890292 \nL 112.59734 187.43618 \nL 114.121063 188.239544 \nL 115.644785 189.82007 \nL 116.787578 191.469664 \nL 118.3113 192.990916 \nL 119.835023 193.795199 \nL 121.358746 194.139594 \nL 122.882469 194.19336 \nL 124.406192 194.025139 \nL 127.072707 194.099119 \nL 130.120152 194.107887 \nL 131.643875 194.356471 \nL 134.691321 196.054003 \nL 136.215044 196.403486 \nL 137.357836 196.257567 \nL 138.881559 195.766559 \nL 140.405281 194.897378 \nL 143.452727 192.399702 \nL 146.500173 189.622391 \nL 147.642965 188.045122 \nL 150.690411 184.620255 \nL 152.214133 183.166308 \nL 153.737856 182.121148 \nL 155.261579 181.647677 \nL 156.785302 181.795165 \nL 159.451817 183.375679 \nL 160.97554 184.488562 \nL 165.546708 188.574688 \nL 167.070431 189.684955 \nL 168.213223 190.794938 \nL 169.736946 191.59324 \nL 175.831837 193.521734 \nL 178.498352 193.715746 \nL 181.545798 193.818473 \nL 183.069521 194.158983 \nL 184.593244 194.648014 \nL 187.640689 196.49061 \nL 188.783481 197.248512 \nL 190.307204 197.819123 \nL 194.878373 198.811017 \nL 196.402096 198.944223 \nL 199.068611 199.600082 \nL 200.592333 199.713494 \nL 202.116056 199.296202 \nL 203.639779 197.960093 \nL 205.163502 195.07526 \nL 206.687225 191.772552 \nL 208.210948 187.471883 \nL 209.35374 182.516275 \nL 210.877463 182.408818 \nL 212.401185 185.958278 \nL 213.924908 188.248594 \nL 215.448631 189.330157 \nL 216.972354 189.88106 \nL 219.638869 189.585733 \nL 221.162592 189.946624 \nL 222.686315 190.833283 \nL 224.210037 192.526699 \nL 225.73376 193.883801 \nL 227.257483 193.215251 \nL 228.781206 191.80152 \nL 229.923998 190.173894 \nL 231.447721 187.772237 \nL 232.971444 183.750002 \nL 234.495167 178.316514 \nL 236.018889 172.059887 \nL 237.542612 162.813153 \nL 239.066335 148.902802 \nL 240.209127 117.799745 \nL 241.73285 71.464911 \nL 243.256573 69.715861 \nL 246.304019 87.814263 \nL 247.827741 141.206332 \nL 249.351464 177.327001 \nL 250.494256 187.465949 \nL 252.017979 188.128685 \nL 253.541702 185.151879 \nL 255.065425 180.352836 \nL 256.589148 174.925778 \nL 258.11287 170.701007 \nL 259.636593 164.19624 \nL 260.779385 154.576565 \nL 262.303108 147.579942 \nL 263.826831 143.902881 \nL 265.350554 139.240485 \nL 266.874277 132.668154 \nL 268.398 127.562612 \nL 269.921722 125.162129 \nL 271.064515 125.113048 \nL 274.11196 122.039599 \nL 275.635683 125.643601 \nL 277.159406 134.770091 \nL 278.683129 145.002268 \nL 280.206852 149.75705 \nL 281.349644 152.534372 \nL 284.397089 162.043279 \nL 285.920812 165.362093 \nL 290.491981 168.781499 \nL 291.634773 169.207034 \nL 293.158496 168.93891 \nL 294.682219 167.843152 \nL 296.205941 165.560318 \nL 297.729664 161.780617 \nL 299.253387 156.688062 \nL 300.77711 149.94666 \nL 306.491071 96.856595 \nL 309.538516 70.770883 \nL 312.205031 52.498389 \nL 313.728754 48.066172 \nL 315.252477 45.047331 \nL 316.7762 44.496458 \nL 318.299922 51.363882 \nL 319.823645 62.707278 \nL 321.347368 75.559267 \nL 322.49016 87.667151 \nL 324.013883 99.123776 \nL 327.061329 124.611892 \nL 328.585052 135.012505 \nL 330.108774 148.205564 \nL 332.775289 175.637545 \nL 334.299012 182.920831 \nL 338.870181 200.932105 \nL 340.393904 203.006863 \nL 341.917626 203.473551 \nL 343.060419 205.794802 \nL 344.584141 209.52663 \nL 346.107864 211.338434 \nL 347.631587 210.743329 \nL 349.15531 210.622661 \nL 350.679033 211.736523 \nL 352.202756 212.597142 \nL 353.345548 212.468228 \nL 354.869271 212.456437 \nL 356.392993 212.782169 \nL 357.916716 213.357685 \nL 359.440439 214.332065 \nL 360.964162 213.94597 \nL 362.487885 212.666702 \nL 363.630677 212.222703 \nL 365.1544 212.29783 \nL 366.678123 212.840006 \nL 368.201845 213.127029 \nL 369.725568 212.488941 \nL 369.725568 212.488941 \n\" style=\"fill:none;stroke:#ff7f0e;stroke-linecap:square;stroke-width:1.5;\"/>\n   </g>\n   <g id=\"patch_3\">\n    <path d=\"M 50.14375 224.64 \nL 50.14375 7.2 \n\" style=\"fill:none;stroke:#000000;stroke-linecap:square;stroke-linejoin:miter;stroke-width:0.8;\"/>\n   </g>\n   <g id=\"patch_4\">\n    <path d=\"M 384.94375 224.64 \nL 384.94375 7.2 \n\" style=\"fill:none;stroke:#000000;stroke-linecap:square;stroke-linejoin:miter;stroke-width:0.8;\"/>\n   </g>\n   <g id=\"patch_5\">\n    <path d=\"M 50.14375 224.64 \nL 384.94375 224.64 \n\" style=\"fill:none;stroke:#000000;stroke-linecap:square;stroke-linejoin:miter;stroke-width:0.8;\"/>\n   </g>\n   <g id=\"patch_6\">\n    <path d=\"M 50.14375 7.2 \nL 384.94375 7.2 \n\" style=\"fill:none;stroke:#000000;stroke-linecap:square;stroke-linejoin:miter;stroke-width:0.8;\"/>\n   </g>\n   <g id=\"legend_1\">\n    <g id=\"patch_7\">\n     <path d=\"M 57.14375 59.5125 \nL 129.448438 59.5125 \nQ 131.448438 59.5125 131.448438 57.5125 \nL 131.448438 14.2 \nQ 131.448438 12.2 129.448438 12.2 \nL 57.14375 12.2 \nQ 55.14375 12.2 55.14375 14.2 \nL 55.14375 57.5125 \nQ 55.14375 59.5125 57.14375 59.5125 \nz\n\" style=\"fill:#ffffff;opacity:0.8;stroke:#cccccc;stroke-linejoin:miter;\"/>\n    </g>\n    <g id=\"text_18\">\n     <!-- 1yeardeath_x -->\n     <g transform=\"translate(59.14375 23.798437)scale(0.1 -0.1)\">\n      <defs>\n       <path d=\"M 32.171875 -5.078125 \nQ 28.375 -14.84375 24.75 -17.8125 \nQ 21.140625 -20.796875 15.09375 -20.796875 \nL 7.90625 -20.796875 \nL 7.90625 -13.28125 \nL 13.1875 -13.28125 \nQ 16.890625 -13.28125 18.9375 -11.515625 \nQ 21 -9.765625 23.484375 -3.21875 \nL 25.09375 0.875 \nL 2.984375 54.6875 \nL 12.5 54.6875 \nL 29.59375 11.921875 \nL 46.6875 54.6875 \nL 56.203125 54.6875 \nz\n\" id=\"DejaVuSans-121\"/>\n       <path d=\"M 45.40625 46.390625 \nL 45.40625 75.984375 \nL 54.390625 75.984375 \nL 54.390625 0 \nL 45.40625 0 \nL 45.40625 8.203125 \nQ 42.578125 3.328125 38.25 0.953125 \nQ 33.9375 -1.421875 27.875 -1.421875 \nQ 17.96875 -1.421875 11.734375 6.484375 \nQ 5.515625 14.40625 5.515625 27.296875 \nQ 5.515625 40.1875 11.734375 48.09375 \nQ 17.96875 56 27.875 56 \nQ 33.9375 56 38.25 53.625 \nQ 42.578125 51.265625 45.40625 46.390625 \nz\nM 14.796875 27.296875 \nQ 14.796875 17.390625 18.875 11.75 \nQ 22.953125 6.109375 30.078125 6.109375 \nQ 37.203125 6.109375 41.296875 11.75 \nQ 45.40625 17.390625 45.40625 27.296875 \nQ 45.40625 37.203125 41.296875 42.84375 \nQ 37.203125 48.484375 30.078125 48.484375 \nQ 22.953125 48.484375 18.875 42.84375 \nQ 14.796875 37.203125 14.796875 27.296875 \nz\n\" id=\"DejaVuSans-100\"/>\n       <path d=\"M 18.3125 70.21875 \nL 18.3125 54.6875 \nL 36.8125 54.6875 \nL 36.8125 47.703125 \nL 18.3125 47.703125 \nL 18.3125 18.015625 \nQ 18.3125 11.328125 20.140625 9.421875 \nQ 21.96875 7.515625 27.59375 7.515625 \nL 36.8125 7.515625 \nL 36.8125 0 \nL 27.59375 0 \nQ 17.1875 0 13.234375 3.875 \nQ 9.28125 7.765625 9.28125 18.015625 \nL 9.28125 47.703125 \nL 2.6875 47.703125 \nL 2.6875 54.6875 \nL 9.28125 54.6875 \nL 9.28125 70.21875 \nz\n\" id=\"DejaVuSans-116\"/>\n       <path d=\"M 54.890625 33.015625 \nL 54.890625 0 \nL 45.90625 0 \nL 45.90625 32.71875 \nQ 45.90625 40.484375 42.875 44.328125 \nQ 39.84375 48.1875 33.796875 48.1875 \nQ 26.515625 48.1875 22.3125 43.546875 \nQ 18.109375 38.921875 18.109375 30.90625 \nL 18.109375 0 \nL 9.078125 0 \nL 9.078125 75.984375 \nL 18.109375 75.984375 \nL 18.109375 46.1875 \nQ 21.34375 51.125 25.703125 53.5625 \nQ 30.078125 56 35.796875 56 \nQ 45.21875 56 50.046875 50.171875 \nQ 54.890625 44.34375 54.890625 33.015625 \nz\n\" id=\"DejaVuSans-104\"/>\n       <path d=\"M 50.984375 -16.609375 \nL 50.984375 -23.578125 \nL -0.984375 -23.578125 \nL -0.984375 -16.609375 \nz\n\" id=\"DejaVuSans-95\"/>\n       <path d=\"M 54.890625 54.6875 \nL 35.109375 28.078125 \nL 55.90625 0 \nL 45.3125 0 \nL 29.390625 21.484375 \nL 13.484375 0 \nL 2.875 0 \nL 24.125 28.609375 \nL 4.6875 54.6875 \nL 15.28125 54.6875 \nL 29.78125 35.203125 \nL 44.28125 54.6875 \nz\n\" id=\"DejaVuSans-120\"/>\n      </defs>\n      <use xlink:href=\"#DejaVuSans-49\"/>\n      <use x=\"63.623047\" xlink:href=\"#DejaVuSans-121\"/>\n      <use x=\"122.802734\" xlink:href=\"#DejaVuSans-101\"/>\n      <use x=\"184.326172\" xlink:href=\"#DejaVuSans-97\"/>\n      <use x=\"245.605469\" xlink:href=\"#DejaVuSans-114\"/>\n      <use x=\"284.96875\" xlink:href=\"#DejaVuSans-100\"/>\n      <use x=\"348.445312\" xlink:href=\"#DejaVuSans-101\"/>\n      <use x=\"409.96875\" xlink:href=\"#DejaVuSans-97\"/>\n      <use x=\"471.248047\" xlink:href=\"#DejaVuSans-116\"/>\n      <use x=\"510.457031\" xlink:href=\"#DejaVuSans-104\"/>\n      <use x=\"573.835938\" xlink:href=\"#DejaVuSans-95\"/>\n      <use x=\"623.835938\" xlink:href=\"#DejaVuSans-120\"/>\n     </g>\n    </g>\n    <g id=\"line2d_18\">\n     <path d=\"M 66.742188 35.254687 \nL 86.742188 35.254687 \n\" style=\"fill:none;stroke:#1f77b4;stroke-linecap:square;stroke-width:1.5;\"/>\n    </g>\n    <g id=\"line2d_19\"/>\n    <g id=\"text_19\">\n     <!-- False -->\n     <g transform=\"translate(94.742188 38.754687)scale(0.1 -0.1)\">\n      <defs>\n       <path d=\"M 9.8125 72.90625 \nL 51.703125 72.90625 \nL 51.703125 64.59375 \nL 19.671875 64.59375 \nL 19.671875 43.109375 \nL 48.578125 43.109375 \nL 48.578125 34.8125 \nL 19.671875 34.8125 \nL 19.671875 0 \nL 9.8125 0 \nz\n\" id=\"DejaVuSans-70\"/>\n       <path d=\"M 9.421875 75.984375 \nL 18.40625 75.984375 \nL 18.40625 0 \nL 9.421875 0 \nz\n\" id=\"DejaVuSans-108\"/>\n      </defs>\n      <use xlink:href=\"#DejaVuSans-70\"/>\n      <use x=\"48.394531\" xlink:href=\"#DejaVuSans-97\"/>\n      <use x=\"109.673828\" xlink:href=\"#DejaVuSans-108\"/>\n      <use x=\"137.457031\" xlink:href=\"#DejaVuSans-115\"/>\n      <use x=\"189.556641\" xlink:href=\"#DejaVuSans-101\"/>\n     </g>\n    </g>\n    <g id=\"line2d_20\">\n     <path d=\"M 66.742188 49.932812 \nL 86.742188 49.932812 \n\" style=\"fill:none;stroke:#ff7f0e;stroke-linecap:square;stroke-width:1.5;\"/>\n    </g>\n    <g id=\"line2d_21\"/>\n    <g id=\"text_20\">\n     <!-- True -->\n     <g transform=\"translate(94.742188 53.432812)scale(0.1 -0.1)\">\n      <defs>\n       <path d=\"M -0.296875 72.90625 \nL 61.375 72.90625 \nL 61.375 64.59375 \nL 35.5 64.59375 \nL 35.5 0 \nL 25.59375 0 \nL 25.59375 64.59375 \nL -0.296875 64.59375 \nz\n\" id=\"DejaVuSans-84\"/>\n      </defs>\n      <use xlink:href=\"#DejaVuSans-84\"/>\n      <use x=\"46.333984\" xlink:href=\"#DejaVuSans-114\"/>\n      <use x=\"87.447266\" xlink:href=\"#DejaVuSans-117\"/>\n      <use x=\"150.826172\" xlink:href=\"#DejaVuSans-101\"/>\n     </g>\n    </g>\n   </g>\n  </g>\n </g>\n <defs>\n  <clipPath id=\"p1005b5d1fa\">\n   <rect height=\"217.44\" width=\"334.8\" x=\"50.14375\" y=\"7.2\"/>\n  </clipPath>\n </defs>\n</svg>\n",
      "image/png": "[encoded data removed]"
     },
     "metadata": {
      "needs_background": "light"
     }
    }
   ],
   "source": [
    "fig, axes = plt.subplots(nrows = 1, figsize = (6,4), sharex = True)\n",
    "\n",
    "total.groupby(\"1yeardeath_x\").mean().T.plot(ax = axes)\n",
    "axes.set_xlabel(\"Wavenumber $(cm^{-1})$\")\n",
    "axes.set_ylabel(\"Absorbance (a.u)\")\n",
    "#fig.savefig(os.getcwd()+ \"/Plots/Mean_ECS_Spectra.png\", bbox_inches = 'tight')"
   ]
  },
  {
   "cell_type": "code",
   "execution_count": 17,
   "metadata": {},
   "outputs": [
    {
     "output_type": "execute_result",
     "data": {
      "text/plain": [
       "    15.0               0.023463   \n",
       "                                                                                                                                                                                                                                                                                                                                                                                                                                                                                                                                           15.0               0.022842   \n",
       "\n",
       "                                                                                                                                                                                                                                                                                                                                                                                                                                                                                                                                                                1781.0  \\\n",
       "1year 1yeardeath_x 1yeardeath_y 2year 2years 3year 4year 5year ASMA_x ASMA_y Case ID_x Case ID_y Corrected Site AJCC/UICC DODvsAlive Date of death Date of recurrence Diagnosis Age DiedvsAlive ECS_x ECS_y ID     Last seen/reviewed Last updated N stage OUTCOME OUTCOME.updated by Overall Death  Pathogical Stage Patient_Number Patient_nu  Recurrence? T stage TMA TMA site Years advancing front type age @ diag date of diag diff gender_x gender_y lifespan pN pT radiotherapy recurrence site           site of recurrence stage survival (months)             \n",
       "True  False        False        True  1      False False False I      I      3254.0    3254      FOM                      DOD        2007-10-22    2007-08-09         48.0          Died        no    N     2.0-A2 NaT                2012-10-04   2c      DOD     CBarry             yes            pT2N2cMx         3254           3254.0      yes         2       2.0 A2       1.0   islets               48         2006-06-12   mod  f        f        497 days 2c 2  yes          yes        floor of mouth metastases         4     15.0               0.028968   \n",
       "                                                                                                                                                                                                                                                                                                                                                                                                                                                                                                                                           15.0               0.025614   \n",
       "                                                                                                                                                                                                                                                                                                                                                                                                                                                                                                                                           15.0               0.026051   \n",
       "                                                                                                                                                                                                                                                                                                                                                                                                                                                                                                                                           15.0               0.024463   \n",
       "                                                                                                                                                                                                                                                                                                                                                                                                                                                                                                                                           15.0               0.025333   \n",
       "\n",
       "                                                                                                                                                                                                                                                                                                                                                                                                                                                                                                                                                                1785.0  \\\n",
       "1year 1yeardeath_x 1yeardeath_y 2year 2years 3year 4year 5year ASMA_x ASMA_y Case ID_x Case ID_y Corrected Site AJCC/UICC DODvsAlive Date of death Date of recurrence Diagnosis Age DiedvsAlive ECS_x ECS_y ID     Last seen/reviewed Last updated N stage OUTCOME OUTCOME.updated by Overall Death  Pathogical Stage Patient_Number Patient_nu  Recurrence? T stage TMA TMA site Years advancing front type age @ diag date of diag diff gender_x gender_y lifespan pN pT radiotherapy recurrence site           site of recurrence stage survival (months)             \n",
       "True  False        False        True  1      False False False I      I      3254.0    3254      FOM                      DOD        2007-10-22    2007-08-09         48.0          Died        no    N     2.0-A2 NaT                2012-10-04   2c      DOD     CBarry             yes            pT2N2cMx         3254           3254.0      yes         2       2.0 A2       1.0   islets               48         2006-06-12   mod  f        f        497 days 2c 2  yes          yes        floor of mouth metastases         4     15.0               0.028736   \n",
       "                                                                                                                                                                                                                                                                                                                                                                                                                                                                                                                                           15.0               0.024976   \n",
       "                                                                                                                                                                                                                                                                                                                                                                                                                                                                                                                                           15.0               0.025018   \n",
       "                                                                                                                                                                                                                                                                                                                                                                                                                                                                                                                                           15.0               0.024537   \n",
       "                                                                                                                                                                                                                                                                                                                                                                                                                                                                                                                                           15.0               0.025151   \n",
       "\n",
       "                                                                                                                                                                                                                                                                                                                                                                                                                                                                                                                                                                1789.0  \\\n",
       "1year 1yeardeath_x 1yeardeath_y 2year 2years 3year 4year 5year ASMA_x ASMA_y Case ID_x Case ID_y Corrected Site AJCC/UICC DODvsAlive Date of death Date of recurrence Diagnosis Age DiedvsAlive ECS_x ECS_y ID     Last seen/reviewed Last updated N stage OUTCOME OUTCOME.updated by Overall Death  Pathogical Stage Patient_Number Patient_nu  Recurrence? T stage TMA TMA site Years advancing front type age @ diag date of diag diff gender_x gender_y lifespan pN pT radiotherapy recurrence site           site of recurrence stage survival (months)             \n",
       "True  False        False        True  1      False False False I      I      3254.0    3254      FOM                      DOD        2007-10-22    2007-08-09         48.0          Died        no    N     2.0-A2 NaT                2012-10-04   2c      DOD     CBarry             yes            pT2N2cMx         3254           3254.0      yes         2       2.0 A2       1.0   islets               48         2006-06-12   mod  f        f        497 days 2c 2  yes          yes        floor of mouth metastases         4     15.0               0.026354   \n",
       "                                                                                                                                                                                                                                                                                                                                                                                                                                                                                                                                           15.0               0.022729   \n",
       "                                                                                                                                                                                                                                                                                                                                                                                                                                                                                                                                           15.0               0.022382   \n",
       "                                                                                                                                                                                                                                                                                                                                                                                                                                                                                                                                           15.0               0.023112   \n",
       "                                                                                                                                                                                                                                                                                                                                                                                                                                                                                                                                           15.0               0.022800   \n",
       "\n",
       "                                                                                                                                                                                                                                                                                                                                                                                                                                                                                                                                                                1793.0  \\\n",
       "1year 1yeardeath_x 1yeardeath_y 2year 2years 3year 4year 5year ASMA_x ASMA_y Case ID_x Case ID_y Corrected Site AJCC/UICC DODvsAlive Date of death Date of recurrence Diagnosis Age DiedvsAlive ECS_x ECS_y ID     Last seen/reviewed Last updated N stage OUTCOME OUTCOME.updated by Overall Death  Pathogical Stage Patient_Number Patient_nu  Recurrence? T stage TMA TMA site Years advancing front type age @ diag date of diag diff gender_x gender_y lifespan pN pT radiotherapy recurrence site           site of recurrence stage survival (months)             \n",
       "True  False        False        True  1      False False False I      I      3254.0    3254      FOM                      DOD        2007-10-22    2007-08-09         48.0          Died        no    N     2.0-A2 NaT                2012-10-04   2c      DOD     CBarry             yes            pT2N2cMx         3254           3254.0      yes         2       2.0 A2       1.0   islets               48         2006-06-12   mod  f        f        497 days 2c 2  yes          yes        floor of mouth metastases         4     15.0               0.024735   \n",
       "                                                                                                                                                                                                                                                                                                                                                                                                                                                                                                                                           15.0               0.022015   \n",
       "                                                                                                                                                                                                                                                                                                                                                                                                                                                                                                                                           15.0               0.020675   \n",
       "                                                                                                                                                                                                                                                                                                                                                                                                                                                                                                                                           15.0               0.022484   \n",
       "                                                                                                                                                                                                                                                                                                                                                                                                                                                                                                                                           15.0               0.021426   \n",
       "\n",
       "                                                                                                                                                                                                                                                                                                                                                                                                                                                                                                                                                                1797.0  \n",
       "1year 1yeardeath_x 1yeardeath_y 2year 2years 3year 4year 5year ASMA_x ASMA_y Case ID_x Case ID_y Corrected Site AJCC/UICC DODvsAlive Date of death Date of recurrence Diagnosis Age DiedvsAlive ECS_x ECS_y ID     Last seen/reviewed Last updated N stage OUTCOME OUTCOME.updated by Overall Death  Pathogical Stage Patient_Number Patient_nu  Recurrence? T stage TMA TMA site Years advancing front type age @ diag date of diag diff gender_x gender_y lifespan pN pT radiotherapy recurrence site           site of recurrence stage survival (months)            \n",
       "True  False        False        True  1      False False False I      I      3254.0    3254      FOM                      DOD        2007-10-22    2007-08-09         48.0          Died        no    N     2.0-A2 NaT                2012-10-04   2c      DOD     CBarry             yes            pT2N2cMx         3254           3254.0      yes         2       2.0 A2       1.0   islets               48         2006-06-12   mod  f        f        497 days 2c 2  yes          yes        floor of mouth metastases         4     15.0               0.026228  \n",
       "                                                                                                                                                                                                                                                                                                                                                                                                                                                                                                                                           15.0               0.024524  \n",
       "                                                                                                                                                                                                                                                                                                                                                                                                                                                                                                                                           15.0               0.021789  \n",
       "                                                                                                                                                                                                                                                                                                                                                                                                                                                                                                                                           15.0               0.024433  \n",
       "                                                                                                                                                                                                                                                                                                                                                                                                                                                                                                                                           15.0               0.023518  \n",
       "\n",
       "[5 rows x 208 columns]"
      ],
      "text/html": "<div>\n<style scoped>\n    .dataframe tbody tr th:only-of-type {\n        vertical-align: middle;\n    }\n\n    .dataframe tbody tr th {\n        vertical-align: top;\n    }\n\n    .dataframe thead th {\n        text-align: right;\n    }\n</style>\n<table border=\"1\" class=\"dataframe\">\n  <thead>\n    <tr style=\"text-align: right;\">\n      <th></th>\n      <th></th>\n      <th></th>\n      <th></th>\n      <th></th>\n      <th></th>\n      <th></th>\n      <th></th>\n      <th></th>\n      <th></th>\n      <th></th>\n      <th></th>\n      <th></th>\n      <th></th>\n      <th></th>\n      <th></th>\n      <th></th>\n      <th></th>\n      <th></th>\n      <th></th>\n      <th></th>\n      <th></th>\n      <th></th>\n      <th></th>\n      <th></th>\n      <th></th>\n      <th></th>\n      <th></th>\n      <th></th>\n      <th></th>\n      <th></th>\n      <th></th>\n      <th></th>\n      <th></th>\n      <th></th>\n      <th></th>\n      <th></th>\n      <th></th>\n      <th></th>\n      <th></th>\n      <th></th>\n      <th></th>\n      <th></th>\n      <th></th>\n      <th></th>\n      <th></th>\n      <th></th>\n      <th></th>\n      <th></th>\n      <th></th>\n      <th>998.0</th>\n      <th>1002.0</th>\n      <th>1006.0</th>\n      <th>1010.0</th>\n      <th>1014.0</th>\n      <th>1018.0</th>\n      <th>1022.0</th>\n      <th>1025.0</th>\n      <th>1029.0</th>\n      <th>1033.0</th>\n      <th>...</th>\n      <th>1762.0</th>\n      <th>1766.0</th>\n      <th>1770.0</th>\n      <th>1774.0</th>\n      <th>1778.0</th>\n      <th>1781.0</th>\n      <th>1785.0</th>\n      <th>1789.0</th>\n      <th>1793.0</th>\n      <th>1797.0</th>\n    </tr>\n    <tr>\n      <th>1year</th>\n      <th>1yeardeath_x</th>\n      <th>1yeardeath_y</th>\n      <th>2year</th>\n      <th>2years</th>\n      <th>3year</th>\n      <th>4year</th>\n      <th>5year</th>\n      <th>ASMA_x</th>\n      <th>ASMA_y</th>\n      <th>Case ID_x</th>\n      <th>Case ID_y</th>\n      <th>Corrected Site AJCC/UICC</th>\n      <th>DODvsAlive</th>\n      <th>Date of death</th>\n      <th>Date of recurrence</th>\n      <th>Diagnosis Age</th>\n      <th>DiedvsAlive</th>\n      <th>ECS_x</th>\n      <th>ECS_y</th>\n      <th>ID</th>\n      <th>Last seen/reviewed</th>\n      <th>Last updated</th>\n      <th>N stage</th>\n      <th>OUTCOME</th>\n      <th>OUTCOME.updated by</th>\n      <th>Overall Death</th>\n      <th>Pathogical Stage</th>\n      <th>Patient_Number</th>\n      <th>Patient_nu</th>\n      <th>Recurrence?</th>\n      <th>T stage</th>\n      <th>TMA</th>\n      <th>TMA site</th>\n      <th>Years</th>\n      <th>advancing front type</th>\n      <th>age @ diag</th>\n      <th>date of diag</th>\n      <th>diff</th>\n      <th>gender_x</th>\n      <th>gender_y</th>\n      <th>lifespan</th>\n      <th>pN</th>\n      <th>pT</th>\n      <th>radiotherapy</th>\n      <th>recurrence</th>\n      <th>site</th>\n      <th>site of recurrence</th>\n      <th>stage</th>\n      <th>survival (months)</th>\n      <th></th>\n      <th></th>\n      <th></th>\n      <th></th>\n      <th></th>\n      <th></th>\n      <th></th>\n      <th></th>\n      <th></th>\n      <th></th>\n      <th></th>\n      <th></th>\n      <th></th>\n      <th></th>\n      <th></th>\n      <th></th>\n      <th></th>\n      <th></th>\n      <th></th>\n      <th></th>\n      <th></th>\n    </tr>\n  </thead>\n  <tbody>\n    <tr>\n      <th rowspan=\"5\" valign=\"top\">True</th>\n      <th rowspan=\"5\" valign=\"top\">False</th>\n      <th rowspan=\"5\" valign=\"top\">False</th>\n      <th rowspan=\"5\" valign=\"top\">True</th>\n      <th rowspan=\"5\" valign=\"top\">1</th>\n      <th rowspan=\"5\" valign=\"top\">False</th>\n      <th rowspan=\"5\" valign=\"top\">False</th>\n      <th rowspan=\"5\" valign=\"top\">False</th>\n      <th rowspan=\"5\" valign=\"top\">I</th>\n      <th rowspan=\"5\" valign=\"top\">I</th>\n      <th rowspan=\"5\" valign=\"top\">3254.0</th>\n      <th rowspan=\"5\" valign=\"top\">3254</th>\n      <th rowspan=\"5\" valign=\"top\">FOM</th>\n      <th rowspan=\"5\" valign=\"top\">DOD</th>\n      <th rowspan=\"5\" valign=\"top\">2007-10-22</th>\n      <th rowspan=\"5\" valign=\"top\">2007-08-09</th>\n      <th rowspan=\"5\" valign=\"top\">48.0</th>\n      <th rowspan=\"5\" valign=\"top\">Died</th>\n      <th rowspan=\"5\" valign=\"top\">no</th>\n      <th rowspan=\"5\" valign=\"top\">N</th>\n      <th rowspan=\"5\" valign=\"top\">2.0-A2</th>\n      <th rowspan=\"5\" valign=\"top\">NaT</th>\n      <th rowspan=\"5\" valign=\"top\">2012-10-04</th>\n      <th rowspan=\"5\" valign=\"top\">2c</th>\n      <th rowspan=\"5\" valign=\"top\">DOD</th>\n      <th rowspan=\"5\" valign=\"top\">CBarry</th>\n      <th rowspan=\"5\" valign=\"top\">yes</th>\n      <th rowspan=\"5\" valign=\"top\">pT2N2cMx</th>\n      <th rowspan=\"5\" valign=\"top\">3254</th>\n      <th rowspan=\"5\" valign=\"top\">3254.0</th>\n      <th rowspan=\"5\" valign=\"top\">yes</th>\n      <th rowspan=\"5\" valign=\"top\">2</th>\n      <th rowspan=\"5\" valign=\"top\">2.0</th>\n      <th rowspan=\"5\" valign=\"top\">A2</th>\n      <th rowspan=\"5\" valign=\"top\">1.0</th>\n      <th rowspan=\"5\" valign=\"top\">islets</th>\n      <th rowspan=\"5\" valign=\"top\">48</th>\n      <th rowspan=\"5\" valign=\"top\">2006-06-12</th>\n      <th rowspan=\"5\" valign=\"top\">mod</th>\n      <th rowspan=\"5\" valign=\"top\">f</th>\n      <th rowspan=\"5\" valign=\"top\">f</th>\n      <th rowspan=\"5\" valign=\"top\">497 days</th>\n      <th rowspan=\"5\" valign=\"top\">2c</th>\n      <th rowspan=\"5\" valign=\"top\">2</th>\n      <th rowspan=\"5\" valign=\"top\">yes</th>\n      <th rowspan=\"5\" valign=\"top\">yes</th>\n      <th rowspan=\"5\" valign=\"top\">floor of mouth</th>\n      <th rowspan=\"5\" valign=\"top\">metastases</th>\n      <th rowspan=\"5\" valign=\"top\">4</th>\n      <th>15.0</th>\n      <td>0.036930</td>\n      <td>0.035820</td>\n      <td>0.037569</td>\n      <td>0.040046</td>\n      <td>0.042142</td>\n      <td>0.044417</td>\n      <td>0.046207</td>\n      <td>0.047247</td>\n      <td>0.047253</td>\n      <td>0.047721</td>\n      <td>...</td>\n      <td>0.026896</td>\n      <td>0.024733</td>\n      <td>0.020649</td>\n      <td>0.021475</td>\n      <td>0.026599</td>\n      <td>0.028968</td>\n      <td>0.028736</td>\n      <td>0.026354</td>\n      <td>0.024735</td>\n      <td>0.026228</td>\n    </tr>\n    <tr>\n      <th>15.0</th>\n      <td>0.033788</td>\n      <td>0.035410</td>\n      <td>0.036856</td>\n      <td>0.037729</td>\n      <td>0.038609</td>\n      <td>0.038556</td>\n      <td>0.039719</td>\n      <td>0.042784</td>\n      <td>0.044182</td>\n      <td>0.045172</td>\n      <td>...</td>\n      <td>0.023890</td>\n      <td>0.022272</td>\n      <td>0.019167</td>\n      <td>0.020767</td>\n      <td>0.024692</td>\n      <td>0.025614</td>\n      <td>0.024976</td>\n      <td>0.022729</td>\n      <td>0.022015</td>\n      <td>0.024524</td>\n    </tr>\n    <tr>\n      <th>15.0</th>\n      <td>0.032684</td>\n      <td>0.033850</td>\n      <td>0.036214</td>\n      <td>0.037869</td>\n      <td>0.038660</td>\n      <td>0.039014</td>\n      <td>0.039749</td>\n      <td>0.042113</td>\n      <td>0.044680</td>\n      <td>0.045482</td>\n      <td>...</td>\n      <td>0.022561</td>\n      <td>0.021219</td>\n      <td>0.016941</td>\n      <td>0.018362</td>\n      <td>0.024159</td>\n      <td>0.026051</td>\n      <td>0.025018</td>\n      <td>0.022382</td>\n      <td>0.020675</td>\n      <td>0.021789</td>\n    </tr>\n    <tr>\n      <th>15.0</th>\n      <td>0.029283</td>\n      <td>0.028542</td>\n      <td>0.027952</td>\n      <td>0.030105</td>\n      <td>0.032421</td>\n      <td>0.032315</td>\n      <td>0.032645</td>\n      <td>0.035136</td>\n      <td>0.038364</td>\n      <td>0.041433</td>\n      <td>...</td>\n      <td>0.024027</td>\n      <td>0.021587</td>\n      <td>0.017408</td>\n      <td>0.019091</td>\n      <td>0.023463</td>\n      <td>0.024463</td>\n      <td>0.024537</td>\n      <td>0.023112</td>\n      <td>0.022484</td>\n      <td>0.024433</td>\n    </tr>\n    <tr>\n      <th>15.0</th>\n      <td>0.040823</td>\n      <td>0.039177</td>\n      <td>0.039052</td>\n      <td>0.041117</td>\n      <td>0.041872</td>\n      <td>0.039928</td>\n      <td>0.038671</td>\n      <td>0.041491</td>\n      <td>0.045704</td>\n      <td>0.047828</td>\n      <td>...</td>\n      <td>0.024023</td>\n      <td>0.021360</td>\n      <td>0.016554</td>\n      <td>0.017422</td>\n      <td>0.022842</td>\n      <td>0.025333</td>\n      <td>0.025151</td>\n      <td>0.022800</td>\n      <td>0.021426</td>\n      <td>0.023518</td>\n    </tr>\n  </tbody>\n</table>\n<p>5 rows × 208 columns</p>\n</div>"
     },
     "metadata": {},
     "execution_count": 17
    }
   ],
   "source": [
    "total.head()"
   ]
  },
  {
   "source": [
    "# Kaplan Meier"
   ],
   "cell_type": "markdown",
   "metadata": {}
  },
  {
   "cell_type": "code",
   "execution_count": 46,
   "metadata": {},
   "outputs": [],
   "source": [
    "from lifelines import KaplanMeierFitter"
   ]
  },
  {
   "cell_type": "code",
   "execution_count": 47,
   "metadata": {},
   "outputs": [],
   "source": [
    "pats = total.groupby('Patient_nu ').sample(1).reset_index().iloc[:,:-169]"
   ]
  },
  {
   "cell_type": "code",
   "execution_count": 48,
   "metadata": {},
   "outputs": [],
   "source": [
    "duration  = pats['survival (months)']\n",
    "death_obs = np.array([1 if i!='Died' else 0 for i in pats['DiedvsAlive']])"
   ]
  },
  {
   "cell_type": "code",
   "execution_count": 49,
   "metadata": {},
   "outputs": [
    {
     "output_type": "error",
     "ename": "KeyError",
     "evalue": "'ASMA'",
     "traceback": [
      "\u001b[0;31m---------------------------------------------------------------------------\u001b[0m",
      "\u001b[0;31mKeyError\u001b[0m                                  Traceback (most recent call last)",
      "\u001b[0;32m~/miniconda3/envs/PHD/lib/python3.8/site-packages/pandas/core/indexes/base.py\u001b[0m in \u001b[0;36mget_loc\u001b[0;34m(self, key, method, tolerance)\u001b[0m\n\u001b[1;32m   2888\u001b[0m             \u001b[0;32mtry\u001b[0m\u001b[0;34m:\u001b[0m\u001b[0;34m\u001b[0m\u001b[0;34m\u001b[0m\u001b[0m\n\u001b[0;32m-> 2889\u001b[0;31m                 \u001b[0;32mreturn\u001b[0m \u001b[0mself\u001b[0m\u001b[0;34m.\u001b[0m\u001b[0m_engine\u001b[0m\u001b[0;34m.\u001b[0m\u001b[0mget_loc\u001b[0m\u001b[0;34m(\u001b[0m\u001b[0mcasted_key\u001b[0m\u001b[0;34m)\u001b[0m\u001b[0;34m\u001b[0m\u001b[0;34m\u001b[0m\u001b[0m\n\u001b[0m\u001b[1;32m   2890\u001b[0m             \u001b[0;32mexcept\u001b[0m \u001b[0mKeyError\u001b[0m \u001b[0;32mas\u001b[0m \u001b[0merr\u001b[0m\u001b[0;34m:\u001b[0m\u001b[0;34m\u001b[0m\u001b[0;34m\u001b[0m\u001b[0m\n",
      "\u001b[0;32mpandas/_libs/index.pyx\u001b[0m in \u001b[0;36mpandas._libs.index.IndexEngine.get_loc\u001b[0;34m()\u001b[0m\n",
      "\u001b[0;32mpandas/_libs/index.pyx\u001b[0m in \u001b[0;36mpandas._libs.index.IndexEngine.get_loc\u001b[0;34m()\u001b[0m\n",
      "\u001b[0;32mpandas/_libs/hashtable_class_helper.pxi\u001b[0m in \u001b[0;36mpandas._libs.hashtable.PyObjectHashTable.get_item\u001b[0;34m()\u001b[0m\n",
      "\u001b[0;32mpandas/_libs/hashtable_class_helper.pxi\u001b[0m in \u001b[0;36mpandas._libs.hashtable.PyObjectHashTable.get_item\u001b[0;34m()\u001b[0m\n",
      "\u001b[0;31mKeyError\u001b[0m: 'ASMA'",
      "\nThe above exception was the direct cause of the following exception:\n",
      "\u001b[0;31mKeyError\u001b[0m                                  Traceback (most recent call last)",
      "\u001b[0;32m<ipython-input-49-ca69f25052b7>\u001b[0m in \u001b[0;36m<module>\u001b[0;34m\u001b[0m\n\u001b[1;32m      5\u001b[0m \u001b[0mgroup\u001b[0m \u001b[0;34m=\u001b[0m \u001b[0;34m'ASMA'\u001b[0m\u001b[0;34m\u001b[0m\u001b[0;34m\u001b[0m\u001b[0m\n\u001b[1;32m      6\u001b[0m \u001b[0;34m\u001b[0m\u001b[0m\n\u001b[0;32m----> 7\u001b[0;31m \u001b[0;32mfor\u001b[0m \u001b[0mg\u001b[0m \u001b[0;32min\u001b[0m \u001b[0mpats\u001b[0m\u001b[0;34m[\u001b[0m\u001b[0mgroup\u001b[0m\u001b[0;34m]\u001b[0m\u001b[0;34m.\u001b[0m\u001b[0mdropna\u001b[0m\u001b[0;34m(\u001b[0m\u001b[0;34m)\u001b[0m\u001b[0;34m.\u001b[0m\u001b[0munique\u001b[0m\u001b[0;34m(\u001b[0m\u001b[0;34m)\u001b[0m\u001b[0;34m:\u001b[0m\u001b[0;34m\u001b[0m\u001b[0;34m\u001b[0m\u001b[0m\n\u001b[0m\u001b[1;32m      8\u001b[0m \u001b[0;34m\u001b[0m\u001b[0m\n\u001b[1;32m      9\u001b[0m     \u001b[0mkmf\u001b[0m\u001b[0;34m.\u001b[0m\u001b[0mfit\u001b[0m\u001b[0;34m(\u001b[0m\u001b[0mduration\u001b[0m\u001b[0;34m[\u001b[0m\u001b[0;34m(\u001b[0m\u001b[0mpats\u001b[0m\u001b[0;34m[\u001b[0m\u001b[0mgroup\u001b[0m\u001b[0;34m]\u001b[0m\u001b[0;34m==\u001b[0m\u001b[0mg\u001b[0m\u001b[0;34m)\u001b[0m\u001b[0;34m]\u001b[0m\u001b[0;34m,\u001b[0m \u001b[0mdeath_obs\u001b[0m\u001b[0;34m[\u001b[0m\u001b[0;34m(\u001b[0m\u001b[0mpats\u001b[0m\u001b[0;34m[\u001b[0m\u001b[0mgroup\u001b[0m\u001b[0;34m]\u001b[0m\u001b[0;34m==\u001b[0m\u001b[0mg\u001b[0m\u001b[0;34m)\u001b[0m\u001b[0;34m]\u001b[0m\u001b[0;34m,\u001b[0m \u001b[0mlabel\u001b[0m\u001b[0;34m=\u001b[0m\u001b[0mg\u001b[0m\u001b[0;34m)\u001b[0m\u001b[0;34m\u001b[0m\u001b[0;34m\u001b[0m\u001b[0m\n",
      "\u001b[0;32m~/miniconda3/envs/PHD/lib/python3.8/site-packages/pandas/core/frame.py\u001b[0m in \u001b[0;36m__getitem__\u001b[0;34m(self, key)\u001b[0m\n\u001b[1;32m   2897\u001b[0m             \u001b[0;32mif\u001b[0m \u001b[0mself\u001b[0m\u001b[0;34m.\u001b[0m\u001b[0mcolumns\u001b[0m\u001b[0;34m.\u001b[0m\u001b[0mnlevels\u001b[0m \u001b[0;34m>\u001b[0m \u001b[0;36m1\u001b[0m\u001b[0;34m:\u001b[0m\u001b[0;34m\u001b[0m\u001b[0;34m\u001b[0m\u001b[0m\n\u001b[1;32m   2898\u001b[0m                 \u001b[0;32mreturn\u001b[0m \u001b[0mself\u001b[0m\u001b[0;34m.\u001b[0m\u001b[0m_getitem_multilevel\u001b[0m\u001b[0;34m(\u001b[0m\u001b[0mkey\u001b[0m\u001b[0;34m)\u001b[0m\u001b[0;34m\u001b[0m\u001b[0;34m\u001b[0m\u001b[0m\n\u001b[0;32m-> 2899\u001b[0;31m             \u001b[0mindexer\u001b[0m \u001b[0;34m=\u001b[0m \u001b[0mself\u001b[0m\u001b[0;34m.\u001b[0m\u001b[0mcolumns\u001b[0m\u001b[0;34m.\u001b[0m\u001b[0mget_loc\u001b[0m\u001b[0;34m(\u001b[0m\u001b[0mkey\u001b[0m\u001b[0;34m)\u001b[0m\u001b[0;34m\u001b[0m\u001b[0;34m\u001b[0m\u001b[0m\n\u001b[0m\u001b[1;32m   2900\u001b[0m             \u001b[0;32mif\u001b[0m \u001b[0mis_integer\u001b[0m\u001b[0;34m(\u001b[0m\u001b[0mindexer\u001b[0m\u001b[0;34m)\u001b[0m\u001b[0;34m:\u001b[0m\u001b[0;34m\u001b[0m\u001b[0;34m\u001b[0m\u001b[0m\n\u001b[1;32m   2901\u001b[0m                 \u001b[0mindexer\u001b[0m \u001b[0;34m=\u001b[0m \u001b[0;34m[\u001b[0m\u001b[0mindexer\u001b[0m\u001b[0;34m]\u001b[0m\u001b[0;34m\u001b[0m\u001b[0;34m\u001b[0m\u001b[0m\n",
      "\u001b[0;32m~/miniconda3/envs/PHD/lib/python3.8/site-packages/pandas/core/indexes/base.py\u001b[0m in \u001b[0;36mget_loc\u001b[0;34m(self, key, method, tolerance)\u001b[0m\n\u001b[1;32m   2889\u001b[0m                 \u001b[0;32mreturn\u001b[0m \u001b[0mself\u001b[0m\u001b[0;34m.\u001b[0m\u001b[0m_engine\u001b[0m\u001b[0;34m.\u001b[0m\u001b[0mget_loc\u001b[0m\u001b[0;34m(\u001b[0m\u001b[0mcasted_key\u001b[0m\u001b[0;34m)\u001b[0m\u001b[0;34m\u001b[0m\u001b[0;34m\u001b[0m\u001b[0m\n\u001b[1;32m   2890\u001b[0m             \u001b[0;32mexcept\u001b[0m \u001b[0mKeyError\u001b[0m \u001b[0;32mas\u001b[0m \u001b[0merr\u001b[0m\u001b[0;34m:\u001b[0m\u001b[0;34m\u001b[0m\u001b[0;34m\u001b[0m\u001b[0m\n\u001b[0;32m-> 2891\u001b[0;31m                 \u001b[0;32mraise\u001b[0m \u001b[0mKeyError\u001b[0m\u001b[0;34m(\u001b[0m\u001b[0mkey\u001b[0m\u001b[0;34m)\u001b[0m \u001b[0;32mfrom\u001b[0m \u001b[0merr\u001b[0m\u001b[0;34m\u001b[0m\u001b[0;34m\u001b[0m\u001b[0m\n\u001b[0m\u001b[1;32m   2892\u001b[0m \u001b[0;34m\u001b[0m\u001b[0m\n\u001b[1;32m   2893\u001b[0m         \u001b[0;32mif\u001b[0m \u001b[0mtolerance\u001b[0m \u001b[0;32mis\u001b[0m \u001b[0;32mnot\u001b[0m \u001b[0;32mNone\u001b[0m\u001b[0;34m:\u001b[0m\u001b[0;34m\u001b[0m\u001b[0;34m\u001b[0m\u001b[0m\n",
      "\u001b[0;31mKeyError\u001b[0m: 'ASMA'"
     ]
    }
   ],
   "source": [
    "kmf = KaplanMeierFitter()\n",
    "\n",
    "fig, ax = plt.subplots()\n",
    "\n",
    "group = 'ASMA'\n",
    "\n",
    "for g in pats[group].dropna().unique():\n",
    "\n",
    "    kmf.fit(duration[(pats[group]==g)], death_obs[(pats[group]==g)], label=g)\n",
    "    kmf.plot(ax=ax, ci_show=False)"
   ]
  },
  {
   "cell_type": "code",
   "execution_count": null,
   "metadata": {},
   "outputs": [],
   "source": [
    "from sklearn.compose import make_column_selector\n",
    "from sklearn.compose import make_column_transformer\n",
    "from sklearn.compose import ColumnTransformer\n",
    "\n",
    "from sklearn.cross_decomposition import PLSRegression\n",
    "\n",
    "class PLSRegressionWrapper(PLSRegression):\n",
    "\n",
    "    def transform(self, X):\n",
    "        return super().transform(X)\n",
    "\n",
    "    def fit_transform(self, X, Y):\n",
    "        return self.fit(X,Y).transform(X)"
   ]
  },
  {
   "cell_type": "code",
   "execution_count": null,
   "metadata": {},
   "outputs": [],
   "source": [
    "numeric_pipe = Pipeline([\n",
    "(\"Normalise spectra\", FunctionTransformer(robust_scale, kw_args = {\"axis\": 1})),\n",
    "#(\"Normalise spectra\", FunctionTransformer(normalize, kw_args = {\"axis\": 1})),\n",
    "#(\"Normalise spectra\", FunctionTransformer(minmax_scale, kw_args = {\"axis\": 1})),\n",
    "(\"Scaler\", MinMaxScaler()),\n",
    "#(\"Scaler\", StandardScaler()),\n",
    "(\"PCA\", PCA(0.99)),\n",
    "#('PLS', PLSRegressionWrapper(n_components=10))\n",
    "])\n",
    "\n",
    "categorical_pipe = Pipeline([\n",
    "    (\"OneHot\", OneHotEncoder())\n",
    "])\n",
    "\n",
    "in_df = total.reset_index(['ASMA']).dropna().sample(1000)\n",
    "#in_df = total.sample(10000)\n",
    "\n",
    "in_df.columns = [str(col) for col in in_df.columns]\n",
    "\n",
    "ct = make_column_transformer(\n",
    "    (numeric_pipe,     make_column_selector(dtype_include=np.number)),\n",
    "    (categorical_pipe, make_column_selector(dtype_include=object))\n",
    ")"
   ]
  },
  {
   "cell_type": "code",
   "execution_count": null,
   "metadata": {},
   "outputs": [],
   "source": [
    "preproc = pd.DataFrame(ct.fit_transform(in_df, in_df.reset_index()['1yeardeath']), index = in_df.index)"
   ]
  },
  {
   "source": [
    "# Bayesian Logistic Regression"
   ],
   "cell_type": "markdown",
   "metadata": {}
  },
  {
   "cell_type": "code",
   "execution_count": null,
   "metadata": {},
   "outputs": [],
   "source": [
    "import pymc3 as pm\n",
    "import theano as th\n",
    "\n",
    "y = \"1yeardeath\"\n",
    "\n",
    "train_pat, test_pat = train_test_split(pats.reset_index()['Patient_Number'], test_size=0.33, random_state=np.random.randint(0,100))\n",
    "\n",
    "\n",
    "train_data = preproc.query(f\"Patient_Number in {list(train_pat)}\")\n",
    "test_data = preproc.query(f\"Patient_Number in {list(test_pat)}\")\n",
    "\n",
    "X_train = train_data\n",
    "X_test = test_data\n",
    "\n",
    "y_train, y_test = train_data.reset_index()[f\"{y}\"], test_data.reset_index()[f\"{y}\"]\n",
    "\n",
    "print(train_data.reset_index()[y].value_counts())\n",
    "print(test_data.reset_index()[y].value_counts())"
   ]
  },
  {
   "source": [
    "ax=sns.pairplot(preproc.reset_index(['1yeardeath']).sample(100), hue='1yeardeath')"
   ],
   "cell_type": "markdown",
   "metadata": {}
  },
  {
   "cell_type": "code",
   "execution_count": null,
   "metadata": {},
   "outputs": [],
   "source": [
    "ncon = 13\n",
    "ncat = 3\n",
    "\n",
    "with pm.Model() as logistic_model:\n",
    "\n",
    "    data_ = pm.Data('Pred', X_train.T)\n",
    "\n",
    "    ɛ = pm.HalfNormal('ɛ', sd=1, shape = (ncat+ncon+1,1))\n",
    " \n",
    "    # Continuous variables for each PC\n",
    "    β1 = pm.Normal(\"β1\", mu=0, sigma=1, shape = (ncon+1,1))\n",
    "\n",
    "    # Categorical variables \n",
    "    β2 = pm.Categorical(\"β2\", [1/ncat for _ in range(1, ncat+1)], shape=(ncat,1))\n",
    "\n",
    "    # β.T + ɛ\n",
    "    z = pm.math.dot(pm.math.concatenate([(β1[1:]+ɛ[1:-ncat]), (β2 + ɛ[-ncat:])]).T, data_)\n",
    "\n",
    "    # Probability of parameter P given the data\n",
    "    p = pm.Deterministic('P', pm.math.sigmoid(z + (β1[0] + ɛ[0])))"
   ]
  },
  {
   "cell_type": "code",
   "execution_count": null,
   "metadata": {
    "tags": []
   },
   "outputs": [],
   "source": [
    "with logistic_model:\n",
    "\n",
    "    obs = np.array([1.0 if el else 0.0 for el in y_train])\n",
    "\n",
    "    observed = pm.Bernoulli(\"p\", p, observed=obs.T)\n",
    "    start=pm.find_MAP()\n",
    "\n",
    "    #trace = pm.sample(10000, tune=100, start=start, step=step)\n",
    "    trace = pm.sample(1000, tune=3000, start=start, init=\"adapt_diag\", cores=1)"
   ]
  },
  {
   "cell_type": "code",
   "execution_count": null,
   "metadata": {},
   "outputs": [],
   "source": [
    "pm.model_graph.model_to_graphviz(logistic_model)"
   ]
  },
  {
   "cell_type": "code",
   "execution_count": null,
   "metadata": {},
   "outputs": [],
   "source": [
    "def exp_mean(array):\n",
    "\n",
    "    hist, edges = np.histogram(array)\n",
    "    hist = hist/np.sum(hist)\n",
    "\n",
    "    centres = (edges[:-1] + edges[1:])/2\n",
    "\n",
    "    return np.sum(hist*centres)"
   ]
  },
  {
   "cell_type": "code",
   "execution_count": null,
   "metadata": {},
   "outputs": [],
   "source": [
    "trace[\"P\"]"
   ]
  },
  {
   "cell_type": "code",
   "execution_count": null,
   "metadata": {},
   "outputs": [],
   "source": [
    "for i in [25,2,8]:\n",
    "    \n",
    "    plt.hist(trace[\"P\"].squeeze()[:,i], histtype='step', density=True, label=f'Sample {i}')\n",
    "    plt.axvline(trace[\"P\"].squeeze()[:,i].mean(), ls='--', c='r')\n",
    "\n",
    "plt.legend()\n",
    "plt.xlabel('Prediction score')\n",
    "plt.ylabel('Likelihood')"
   ]
  },
  {
   "cell_type": "code",
   "execution_count": null,
   "metadata": {},
   "outputs": [],
   "source": [
    "for i in [9,4,8]:\n",
    "    \n",
    "    plt.hist(trace[\"β1\"].squeeze()[:,i], histtype='step', density=True, label=f'β{i-1}')\n",
    "    #plt.axvline(trace[\"β1\"].squeeze()[:,i].mean(), ls='--', c='r')\n",
    "    plt.axvline(lr.coef_[:,i-1], ls='--', c='r')\n",
    "\n",
    "\n",
    "plt.legend()\n",
    "plt.xlabel('Parameter Value')\n",
    "plt.ylabel('Likelihood')"
   ]
  },
  {
   "cell_type": "code",
   "execution_count": null,
   "metadata": {},
   "outputs": [],
   "source": [
    "p_df = pd.DataFrame(trace['P'].squeeze())"
   ]
  },
  {
   "cell_type": "code",
   "execution_count": null,
   "metadata": {},
   "outputs": [],
   "source": [
    "y_score_U = np.mean(trace['P'], axis=0).flatten()"
   ]
  },
  {
   "cell_type": "code",
   "execution_count": null,
   "metadata": {},
   "outputs": [],
   "source": [
    "y_score_w = p_df.apply(exp_mean, axis=0)"
   ]
  },
  {
   "cell_type": "code",
   "execution_count": null,
   "metadata": {},
   "outputs": [],
   "source": [
    "obs.shape"
   ]
  },
  {
   "cell_type": "code",
   "execution_count": null,
   "metadata": {},
   "outputs": [],
   "source": [
    "from sklearn.metrics import PrecisionRecallDisplay, precision_recall_curve\n",
    "from sklearn.metrics import ConfusionMatrixDisplay, confusion_matrix\n",
    "from sklearn.metrics import RocCurveDisplay, roc_curve\n",
    "\n",
    "fig, (ax1, ax2, ax3) = plt.subplots(ncols=3, figsize = (18,5))\n",
    "\n",
    "preds = [1 if el > 0.5 else 0 for el in y_score_U]\n",
    "\n",
    "cm = confusion_matrix(obs, preds)\n",
    "cm_display = ConfusionMatrixDisplay(cm).plot(ax=ax1)\n",
    "\n",
    "fpr_w, tpr_w, thresh_w = roc_curve(obs, y_score_w);\n",
    "\n",
    "print(\"Weighted: {}\".format(roc_auc_score(obs, y_score_U)))\n",
    "print(\"Unweighted: {}\".format(roc_auc_score(obs, y_score_U.flatten())))\n",
    "\n",
    "RocCurveDisplay(fpr=fpr_w, tpr=tpr_w).plot(label='weighted', ax=ax2)\n",
    "#ax2.plot(fpr_u, tpr_u, label='unweighted')\n",
    "ax2.legend();\n",
    "ax2.set_title(\"ROC Curve\")\n",
    "ax2.plot([0,1],[0,1], ls='--')\n",
    "\n",
    "prec, recall, _ = precision_recall_curve(obs, y_score_U)\n",
    "pr_display = PrecisionRecallDisplay(precision=prec, recall=recall).plot(ax=ax3)\n",
    "ax3.legend()"
   ]
  },
  {
   "cell_type": "code",
   "execution_count": null,
   "metadata": {},
   "outputs": [],
   "source": [
    "with logistic_model:\n",
    "    # update values of predictors:\n",
    "    pm.set_data({\"Pred\": X_test.T})\n",
    "    # use the updated values and predict outcomes and probabilities:\n",
    "    posterior_predictive = pm.sample_posterior_predictive(trace, var_names=[\"P\"])\n",
    "\n",
    "    model_preds = posterior_predictive[\"P\"]\n",
    "\n",
    "t_df = pd.DataFrame(model_preds.squeeze())"
   ]
  },
  {
   "cell_type": "code",
   "execution_count": null,
   "metadata": {},
   "outputs": [],
   "source": []
  },
  {
   "cell_type": "code",
   "execution_count": null,
   "metadata": {},
   "outputs": [],
   "source": [
    "lr = LogisticRegression()\n",
    "lr.fit(X_train,y_train)\n",
    "\n",
    "y_preds = lr.predict_proba(X_test)[:,1]\n",
    "\n",
    "all = []    \n",
    "\n",
    "thresholds = np.linspace(0,1,20)\n",
    "\n",
    "for thresh in thresholds:\n",
    "\n",
    "    preds = [1 if el > thresh else 0 for el in y_preds]\n",
    "\n",
    "    cm = confusion_matrix(y_test, preds)\n",
    "    tn, fp, fn, tp = cm.flatten()\n",
    "\n",
    "    sens, spec = tp/(tp+fn), tn/(tn+fp)\n",
    "\n",
    "    #print(f\"Specificity: {spec}\")\n",
    "    #print(f\"Sensitivity: {sens}\")\n",
    "\n",
    "    all.append(sens+spec)\n",
    "\n",
    "op = thresholds[np.argmax(all)]\n",
    "\n",
    "\n",
    "\n",
    "fig, (ax1, ax2, ax3) = plt.subplots(ncols=3, figsize = (18,5))\n",
    "\n",
    "#y_preds = t_df.mean(axis=0)\n",
    "\n",
    "preds = [1 if el > op else 0 for el in y_preds]\n",
    "\n",
    "cm = confusion_matrix(y_test, preds)\n",
    "cm_display = ConfusionMatrixDisplay(cm).plot(ax=ax1)\n",
    "ax1.set_title(\"Confusion Matrix\")\n",
    "fpr_w, tpr_w, thresh_w = roc_curve(y_test, y_preds);\n",
    "\n",
    "print(\"AUC: {:.2f}\".format(roc_auc_score(y_test, y_preds)))\n",
    "#print(\"Unweighted: {}\".format(roc_auc_score(y_test, y_preds.flatten())))\n",
    "\n",
    "RocCurveDisplay(fpr=fpr_w, tpr=tpr_w).plot(label='weighted', ax=ax2)\n",
    "#ax2.plot(fpr_u, tpr_u, label='unweighted')\n",
    "ax2.legend();\n",
    "ax2.set_title(\"ROC Curve\")\n",
    "ax2.plot([0,1],[0,1], ls='--')\n",
    "\n",
    "prec, recall, _ = precision_recall_curve(y_test, y_preds)\n",
    "pr_display = PrecisionRecallDisplay(precision=prec, recall=recall).plot(ax=ax3)\n",
    "ax3.legend()\n",
    "ax3.set_title(\"Precision Recall Curve\")\n",
    "\n",
    "tn, fp, fn, tp = cm.flatten()\n",
    "\n",
    "print(f\"Specificity: {tn/(tn+fp):.2f}\")\n",
    "print(f\"Sensitivity: {tp/(tp+fn):.2f}\")\n"
   ]
  },
  {
   "cell_type": "code",
   "execution_count": null,
   "metadata": {},
   "outputs": [],
   "source": [
    "all = []    \n",
    "\n",
    "thresholds = np.linspace(0,1,20)\n",
    "\n",
    "for thresh in thresholds:\n",
    "\n",
    "    preds = [1 if el > thresh else 0 for el in y_preds]\n",
    "\n",
    "    cm = confusion_matrix(y_test, preds)\n",
    "    tn, fp, fn, tp = cm.flatten()\n",
    "\n",
    "    sens, spec = tp/(tp+fn), tn/(tn+fp)\n",
    "\n",
    "    #print(f\"Specificity: {spec}\")\n",
    "    #print(f\"Sensitivity: {sens}\")\n",
    "\n",
    "    all.append(sens+spec)\n",
    "\n",
    "op = thresholds[np.argmax(all)]"
   ]
  },
  {
   "cell_type": "code",
   "execution_count": null,
   "metadata": {},
   "outputs": [],
   "source": [
    "def row_max(row):\n",
    "\n",
    "    hist, edges = np.histogram(row, bins=np.linspace(0,1,100))\n",
    "\n",
    "    centres = (edges[:-1] + edges[1:])/2\n",
    "\n",
    "    return centres[np.argmax(hist)]"
   ]
  },
  {
   "cell_type": "code",
   "execution_count": null,
   "metadata": {},
   "outputs": [],
   "source": [
    "def row_sum(row):\n",
    "\n",
    "    hist, edges = np.histogram(row, density=True, bins=np.linspace(0,1,100))\n",
    "\n",
    "    centres = (edges[:-1] + edges[1:])/2\n",
    "\n",
    "    return np.where(centres<0.5, hist, 0)"
   ]
  },
  {
   "cell_type": "code",
   "execution_count": null,
   "metadata": {},
   "outputs": [],
   "source": [
    "fig, (ax1, ax2, ax3) = plt.subplots(ncols=3, figsize = (18,5))\n",
    "\n",
    "y_preds = t_df.apply(row_max, axis=0)\n",
    "#y_preds = t_df.mean(axis=0)\n",
    "\n",
    "\n",
    "all = []    \n",
    "\n",
    "thresholds = np.linspace(0,1,20)\n",
    "\n",
    "for thresh in thresholds:\n",
    "\n",
    "    preds = [1 if el > thresh else 0 for el in y_preds]\n",
    "\n",
    "    cm = confusion_matrix(y_test, preds)\n",
    "    tn, fp, fn, tp = cm.flatten()\n",
    "\n",
    "    sens, spec = tp/(tp+fn), tn/(tn+fp)\n",
    "\n",
    "    #print(f\"Specificity: {spec}\")\n",
    "    #print(f\"Sensitivity: {sens}\")\n",
    "\n",
    "    all.append(sens+spec)\n",
    "\n",
    "op = thresholds[np.argmax(all)]\n",
    "\n",
    "\n",
    "preds = [1 if el > op else 0 for el in y_preds]\n",
    "\n",
    "cm = confusion_matrix(y_test, preds)\n",
    "cm_display = ConfusionMatrixDisplay(cm).plot(ax=ax1)\n",
    "ax1.set_title(\"Confusion Matrix\")\n",
    "fpr_w, tpr_w, thresh_w = roc_curve(y_test, y_preds);\n",
    "\n",
    "print(\"AUC: {:.2f}\".format(roc_auc_score(y_test, y_preds)))\n",
    "#print(\"Unweighted: {}\".format(roc_auc_score(y_test, y_preds.flatten())))\n",
    "\n",
    "RocCurveDisplay(fpr=fpr_w, tpr=tpr_w).plot(label='weighted', ax=ax2)\n",
    "#ax2.plot(fpr_u, tpr_u, label='unweighted')\n",
    "ax2.legend();\n",
    "ax2.set_title(\"ROC Curve\")\n",
    "ax2.plot([0,1],[0,1], ls='--')\n",
    "\n",
    "prec, recall, _ = precision_recall_curve(y_test, y_preds)\n",
    "pr_display = PrecisionRecallDisplay(precision=prec, recall=recall).plot(ax=ax3)\n",
    "ax3.legend()\n",
    "ax3.set_title(\"Precision Recall Curve\")\n",
    "\n",
    "tn, fp, fn, tp = cm.flatten()\n",
    "\n",
    "print(f\"Specificity: {tn/(tn+fp):.2f}\")\n",
    "print(f\"Sensitivity: {tp/(tp+fn):.2f}\")"
   ]
  },
  {
   "cell_type": "code",
   "execution_count": null,
   "metadata": {},
   "outputs": [],
   "source": [
    "import arviz as az"
   ]
  },
  {
   "cell_type": "code",
   "execution_count": null,
   "metadata": {},
   "outputs": [],
   "source": [
    "kmf = KaplanMeierFitter()\n",
    "\n",
    "pats = total.groupby('Patient_Number').sample(1).reset_index().iloc[:,:-169]\n",
    "\n",
    "duration  = pats['survival (months)']\n",
    "death_obs = np.array([1 if i!='Died' else 0 for i in pats['DiedvsAlive']])\n",
    "\n",
    "fig, ax = plt.subplots()\n",
    "\n",
    "group = 'ASMA'\n",
    "\n",
    "for g in pats[group].dropna().unique():\n",
    "\n",
    "    kmf.fit(duration[(pats[group]==g)], death_obs[(pats[group]==g)], label=g)\n",
    "    kmf.plot(ax=ax, ci_show=False)"
   ]
  }
 ]
}
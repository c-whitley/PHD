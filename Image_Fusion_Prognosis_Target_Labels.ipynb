{
 "cells": [
  {
   "cell_type": "code",
   "execution_count": 1,
   "metadata": {},
   "outputs": [],
   "source": [
    "%load_ext autoreload\n",
    "\n",
    "%autoreload 2"
   ]
  },
  {
   "cell_type": "code",
   "execution_count": 96,
   "metadata": {},
   "outputs": [],
   "source": [
    "import pandas as pd\n",
    "import numpy as np\n",
    "import statsmodels.api as sm\n",
    "import matplotlib.pyplot as plt\n",
    "import seaborn as sns\n",
    "import string\n",
    "import sys\n",
    "from tqdm.notebook import tqdm\n",
    "\n",
    "sys.path.append('/mnt/c/Users/conor/Git_Projects/PHD/December_Prognosis/')\n",
    "from optimise_patient import Patient_opt"
   ]
  },
  {
   "cell_type": "code",
   "execution_count": 97,
   "metadata": {},
   "outputs": [],
   "source": [
    "patients = pd.read_pickle('patient_df.pickle')\n",
    "\n",
    "total = pd.read_pickle('/mnt/c/Users/conor/Git_Projects/PHD/December_Prognosis/December_Datat_32.pickle')\n",
    "patients = total.groupby('Patient_Number').sample(1).reset_index().iloc[:,:44]#total = truncate(total, start=1000, end=1800)"
   ]
  },
  {
   "cell_type": "code",
   "execution_count": 106,
   "metadata": {},
   "outputs": [
    {
     "name": "stderr",
     "output_type": "stream",
     "text": [
      "[autoreload of optimise_patient failed: Traceback (most recent call last):\n",
      "  File \"/home/conor/miniconda3/envs/PHD/lib/python3.8/site-packages/IPython/extensions/autoreload.py\", line 245, in check\n",
      "    superreload(m, reload, self.old_objects)\n",
      "  File \"/home/conor/miniconda3/envs/PHD/lib/python3.8/site-packages/IPython/extensions/autoreload.py\", line 394, in superreload\n",
      "    module = reload(module)\n",
      "  File \"/home/conor/miniconda3/envs/PHD/lib/python3.8/imp.py\", line 314, in reload\n",
      "    return importlib.reload(module)\n",
      "  File \"/home/conor/miniconda3/envs/PHD/lib/python3.8/importlib/__init__.py\", line 169, in reload\n",
      "    _bootstrap._exec(spec, module)\n",
      "  File \"<frozen importlib._bootstrap>\", line 604, in _exec\n",
      "  File \"<frozen importlib._bootstrap_external>\", line 839, in exec_module\n",
      "  File \"<frozen importlib._bootstrap_external>\", line 976, in get_code\n",
      "  File \"<frozen importlib._bootstrap_external>\", line 906, in source_to_code\n",
      "  File \"<frozen importlib._bootstrap>\", line 219, in _call_with_frames_removed\n",
      "  File \"/mnt/c/Users/conor/Git_Projects/PHD/optimise_patient.py\", line 23\n",
      "    \"\"\"_summary_\n",
      "\n",
      "        Args:\n",
      "            patients (_type_): _description_\n",
      "            mutpb (float, optional): _description_. Defaults to 0.05.\n",
      "            copb (float, optional): _description_. Defaults to 0.5.\n",
      "            n_indviduals (int, optional): _description_. Defaults to 100.\n",
      "            n_gens (int, optional): _description_. Defaults to 100.\n",
      "        \"\"\"        super().__init__()\n",
      "               ^\n",
      "SyntaxError: invalid syntax\n",
      "]\n",
      "/home/conor/miniconda3/envs/PHD/lib/python3.8/site-packages/deap/creator.py:138: RuntimeWarning: A class named 'FitnessMax' has already been created and it will be overwritten. Consider deleting previous creation of that class or rename it.\n",
      "  warnings.warn(\"A class named '{0}' has already been created and it \"\n",
      "/home/conor/miniconda3/envs/PHD/lib/python3.8/site-packages/deap/creator.py:138: RuntimeWarning: A class named 'solution' has already been created and it will be overwritten. Consider deleting previous creation of that class or rename it.\n",
      "  warnings.warn(\"A class named '{0}' has already been created and it \"\n",
      "100%|██████████| 500/500 [00:47<00:00, 10.55it/s]\n"
     ]
    }
   ],
   "source": [
    "po = Patient_opt(patients, copb=0.2, mutpb=0.10, n_indviduals=500, n_gens=500)\n",
    "\n",
    "po.run_optimisation()"
   ]
  },
  {
   "cell_type": "code",
   "execution_count": 107,
   "metadata": {},
   "outputs": [
    {
     "name": "stderr",
     "output_type": "stream",
     "text": [
      "/home/conor/miniconda3/envs/PHD/lib/python3.8/site-packages/statsmodels/duration/survfunc.py:546: RuntimeWarning: divide by zero encountered in log\n",
      "  denom = np.sqrt(nn) * np.log(self.surv_prob)\n"
     ]
    },
    {
     "name": "stdout",
     "output_type": "stream",
     "text": [
      "38.4891304923675 <0.0001\n"
     ]
    },
    {
     "data": {
      "image/png": "[encoded data removed]",
      "text/plain": [
       "<Figure size 1008x288 with 3 Axes>"
      ]
     },
     "metadata": {
      "needs_background": "light"
     },
     "output_type": "display_data"
    }
   ],
   "source": [
    "fig, (ax1, ax2, ax3) = plt.subplots(figsize=(14,4),ncols=3)\n",
    "\n",
    "best = np.argmax(df['Fitnesses'])\n",
    "\n",
    "duration = patients['survival (months)'].values\n",
    "death_obs = (patients['DiedvsAlive'] == 'Died').values\n",
    "\n",
    "fits = np.array([p['Fitnesses'].max() for p in po.results])\n",
    "df = pd.DataFrame(po.results).iloc[[np.argmax(fits)],:]\n",
    "best_ind = df['Fitnesses'].values[0].argmax()#[0]\n",
    "groups = (df['Individuals'].values[0].squeeze()[best_ind,:]==1)\n",
    "\n",
    "#groups = np.array(df['Individuals'][best])==1\n",
    "\n",
    "patients['Groups'] = groups\n",
    "\n",
    "# Perform log-rank test to determine statistic to maximise\n",
    "stat, p = sm.duration.survdiff(duration, death_obs, groups)\n",
    "\n",
    "sft = sm.SurvfuncRight(duration[groups], death_obs[groups])\n",
    "lcb, ucb = sft.simultaneous_cb()\n",
    "#ax.fill_between(sft.surv_times, lcb, ucb, color='lightblue')\n",
    "\n",
    "sff = sm.SurvfuncRight(duration[~groups], death_obs[~groups])\n",
    "lcb, ucb = sff.simultaneous_cb()\n",
    "#ax.fill_between(sff.surv_times, lcb, ucb, color='orange')\n",
    "\n",
    "ax1.plot(fits)\n",
    "ax1.set_xlabel('Generation')\n",
    "ax1.set_ylabel('Log-rank statistic')\n",
    "\n",
    "sns.boxplot(data=patients, y='survival (months)', x='Opt_Group', ax=ax2)\n",
    "ax2.set_ylabel('Survival (months)')\n",
    "ax2.set_xlabel('Risk group')\n",
    "ax2.set_xticklabels(['Low', 'High'])\n",
    "\n",
    "sft.plot(ax=ax3);\n",
    "sff.plot(ax=ax3);\n",
    "\n",
    "li = ax3.get_lines()\n",
    "li[0].set_color('tab:blue')\n",
    "li[3].set_color('tab:orange')\n",
    "\n",
    "ax3.set_xlabel('Survival (months)')\n",
    "ax3.set_ylabel('Survival probability')\n",
    "\n",
    "[ax.text(-0.05, 1.05, let, size='xx-large', transform=ax.transAxes) for ax, let in zip((ax1, ax2, ax3), string.ascii_uppercase)]\n",
    "\n",
    "if p < 0.0001: p = '<0.0001'\n",
    "ax3.text(0.55, 0.85, f'Log-rank: {stat:0.2f}\\np: {p}', size='medium', transform=ax3.transAxes)\n",
    "\n",
    "print(stat, p)\n",
    "fig.savefig('/mnt/c/Users/conor/Git_Projects/PHD/December_Prognosis/Paper_Plots/Optimisation_Curve.pdf', bbox_inches='tight')"
   ]
  },
  {
   "cell_type": "code",
   "execution_count": 105,
   "metadata": {},
   "outputs": [
    {
     "data": {
      "text/plain": [
       "0.7096774193548387"
      ]
     },
     "execution_count": 105,
     "metadata": {},
     "output_type": "execute_result"
    }
   ],
   "source": [
    "groups.sum()/groups.shape[0]"
   ]
  },
  {
   "cell_type": "code",
   "execution_count": 57,
   "metadata": {},
   "outputs": [
    {
     "data": {
      "image/png": "[encoded data removed]",
      "text/plain": [
       "<Figure size 432x288 with 1 Axes>"
      ]
     },
     "execution_count": 57,
     "metadata": {},
     "output_type": "execute_result"
    },
    {
     "data": {
      "image/png": "[encoded data removed]",
      "text/plain": [
       "<Figure size 432x288 with 1 Axes>"
      ]
     },
     "metadata": {
      "needs_background": "light"
     },
     "output_type": "display_data"
    }
   ],
   "source": [
    "sft.plot()"
   ]
  },
  {
   "cell_type": "code",
   "execution_count": 58,
   "metadata": {},
   "outputs": [
    {
     "data": {
      "text/plain": [
       "<AxesSubplot:xlabel='Risk group', ylabel='Survival (months)'>"
      ]
     },
     "execution_count": 58,
     "metadata": {},
     "output_type": "execute_result"
    }
   ],
   "source": [
    "ax2"
   ]
  }
 ],
 "metadata": {
  "interpreter": {
   "hash": "eaa00e46caca58319536d0032152cd5eb76a9b72fbc9a3af026d9e62232c8082"
  },
  "kernelspec": {
   "display_name": "Python 3.8.0 64-bit ('PHD': conda)",
   "name": "python3"
  },
  "language_info": {
   "codemirror_mode": {
    "name": "ipython",
    "version": 3
   },
   "file_extension": ".py",
   "mimetype": "text/x-python",
   "name": "python",
   "nbconvert_exporter": "python",
   "pygments_lexer": "ipython3",
   "version": "3.8.12"
  },
  "orig_nbformat": 4
 },
 "nbformat": 4,
 "nbformat_minor": 2
}

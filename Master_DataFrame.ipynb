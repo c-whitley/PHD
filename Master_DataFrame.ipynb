{
 "metadata": {
  "language_info": {
   "codemirror_mode": {
    "name": "ipython",
    "version": 3
   },
   "file_extension": ".py",
   "mimetype": "text/x-python",
   "name": "python",
   "nbconvert_exporter": "python",
   "pygments_lexer": "ipython3",
   "version": "3.8.0"
  },
  "orig_nbformat": 2,
  "kernelspec": {
   "name": "python380jvsc74a57bd0eaa00e46caca58319536d0032152cd5eb76a9b72fbc9a3af026d9e62232c8082",
   "display_name": "Python 3.8.0 64-bit ('PHD': conda)"
  }
 },
 "nbformat": 4,
 "nbformat_minor": 2,
 "cells": [
  {
   "cell_type": "code",
   "execution_count": 1,
   "metadata": {},
   "outputs": [],
   "source": [
    "import pandas as pd\n",
    "import numpy as np\n",
    "import matplotlib.pyplot as plt\n",
    "import matplotlib\n",
    "\n",
    "import glob\n",
    "from tqdm.notebook import tqdm"
   ]
  },
  {
   "cell_type": "code",
   "execution_count": 22,
   "metadata": {},
   "outputs": [],
   "source": [
    "ftir_cubes = glob.glob('/mnt/c/Users/conor/OneDrive/Desktop/temp_extraction_test/*')"
   ]
  },
  {
   "cell_type": "code",
   "execution_count": 23,
   "metadata": {},
   "outputs": [
    {
     "output_type": "display_data",
     "data": {
      "text/plain": "HBox(children=(HTML(value=''), FloatProgress(value=0.0, max=91.0), HTML(value='')))",
      "application/vnd.jupyter.widget-view+json": {
       "version_major": 2,
       "version_minor": 0,
       "model_id": "c0c1852128f140c2bbb133b93dbe1d83"
      }
     },
     "metadata": {}
    },
    {
     "output_type": "stream",
     "name": "stdout",
     "text": [
      "\n"
     ]
    }
   ],
   "source": [
    "annotations = dict()\n",
    "\n",
    "for file_name in tqdm(ftir_cubes):\n",
    "    for i in [1,2]:\n",
    "        try:\n",
    "            annotations[f\"{file_name.split('/')[-1][:-4]}\"] = f\"/mnt/c/Users/conor/Google Drive/PHD/Project with Janet/Label_Images/TMA_{i}/{file_name.split('/')[-1][:-4]}.png\"  \n",
    "\n",
    "            #anns.append(f\"{file_name.split('/')[-1][:-4]}\")\n",
    "\n",
    "            continue\n",
    "\n",
    "        except FileNotFoundError as e:\n",
    "\n",
    "            pass"
   ]
  },
  {
   "cell_type": "code",
   "execution_count": 24,
   "metadata": {},
   "outputs": [],
   "source": [
    "HE_ims = np.array(glob.glob('/mnt/c/Users/conor/Google Drive/PhD/H&E_Cores/TMA_[1,2]_*/*.png'))"
   ]
  },
  {
   "cell_type": "code",
   "execution_count": 25,
   "metadata": {},
   "outputs": [],
   "source": [
    "names = [name.split(\"\\\\\")[-1][:-4] for name in np.unique(HE_ims)]"
   ]
  },
  {
   "cell_type": "code",
   "execution_count": 26,
   "metadata": {},
   "outputs": [],
   "source": [
    "master = pd.DataFrame(zip(ftir_cubes, annotations.keys(), annotations.values()), columns=['FTIR', 'REF', 'ANNOTATION'])"
   ]
  },
  {
   "cell_type": "code",
   "execution_count": 27,
   "metadata": {},
   "outputs": [],
   "source": [
    "master['CORE'] = master.apply(lambda row: row[1].split('_')[-1], axis=1)\n",
    "master['DISK'] = master.apply(lambda row: row[1].split('_')[1], axis=1)"
   ]
  },
  {
   "cell_type": "code",
   "execution_count": 28,
   "metadata": {},
   "outputs": [],
   "source": [
    "he = pd.DataFrame(HE_ims, columns=['HE'])"
   ]
  },
  {
   "cell_type": "code",
   "execution_count": 29,
   "metadata": {},
   "outputs": [],
   "source": [
    "he['CORE'] = he.apply(lambda row: row['HE'].split('/')[-1], axis=1)"
   ]
  },
  {
   "cell_type": "code",
   "execution_count": 30,
   "metadata": {},
   "outputs": [
    {
     "output_type": "execute_result",
     "data": {
      "text/plain": [
       "'/mnt/c/Users/conor/OneDrive/Desktop/temp_extraction_test/TMA_1.1_A1.hdf'"
      ]
     },
     "metadata": {},
     "execution_count": 30
    }
   ],
   "source": [
    "master['FTIR'][0]"
   ]
  },
  {
   "cell_type": "code",
   "execution_count": 31,
   "metadata": {
    "tags": []
   },
   "outputs": [
    {
     "output_type": "stream",
     "name": "stdout",
     "text": [
      "Opened: /mnt/c/Users/conor/Google Drive/PhD/H&E_Cores/TMA_1_1/A10.png\nOpened: /mnt/c/Users/conor/Google Drive/PhD/H&E_Cores/TMA_1_1/A11.png\nOpened: /mnt/c/Users/conor/Google Drive/PhD/H&E_Cores/TMA_1_1/A12.png\nOpened: /mnt/c/Users/conor/Google Drive/PhD/H&E_Cores/TMA_1_1/A14.png\nOpened: /mnt/c/Users/conor/Google Drive/PhD/H&E_Cores/TMA_1_1/A5.png\nOpened: /mnt/c/Users/conor/Google Drive/PhD/H&E_Cores/TMA_1_1/A6.png\nOpened: /mnt/c/Users/conor/Google Drive/PhD/H&E_Cores/TMA_1_1/A7.png\nOpened: /mnt/c/Users/conor/Google Drive/PhD/H&E_Cores/TMA_1_1/A8.png\nOpened: /mnt/c/Users/conor/Google Drive/PhD/H&E_Cores/TMA_1_1/A9.png\nOpened: /mnt/c/Users/conor/Google Drive/PhD/H&E_Cores/TMA_1_1/C10.png\nOpened: /mnt/c/Users/conor/Google Drive/PhD/H&E_Cores/TMA_1_1/C11.png\nOpened: /mnt/c/Users/conor/Google Drive/PhD/H&E_Cores/TMA_1_1/C12.png\nOpened: /mnt/c/Users/conor/Google Drive/PhD/H&E_Cores/TMA_1_1/C14.png\nOpened: /mnt/c/Users/conor/Google Drive/PhD/H&E_Cores/TMA_1_1/C3.png\nOpened: /mnt/c/Users/conor/Google Drive/PhD/H&E_Cores/TMA_1_1/C4.png\nOpened: /mnt/c/Users/conor/Google Drive/PhD/H&E_Cores/TMA_1_1/C5.png\nOpened: /mnt/c/Users/conor/Google Drive/PhD/H&E_Cores/TMA_1_1/C6.png\nOpened: /mnt/c/Users/conor/Google Drive/PhD/H&E_Cores/TMA_1_1/C7.png\nOpened: /mnt/c/Users/conor/Google Drive/PhD/H&E_Cores/TMA_1_1/C8.png\nOpened: /mnt/c/Users/conor/Google Drive/PhD/H&E_Cores/TMA_1_1/C9.png\nOpened: /mnt/c/Users/conor/Google Drive/PhD/H&E_Cores/TMA_1_1/D10.png\nOpened: /mnt/c/Users/conor/Google Drive/PhD/H&E_Cores/TMA_1_1/D11.png\nOpened: /mnt/c/Users/conor/Google Drive/PhD/H&E_Cores/TMA_1_1/D12.png\nOpened: /mnt/c/Users/conor/Google Drive/PhD/H&E_Cores/TMA_1_1/D14.png\nOpened: /mnt/c/Users/conor/Google Drive/PhD/H&E_Cores/TMA_1_1/D3.png\nOpened: /mnt/c/Users/conor/Google Drive/PhD/H&E_Cores/TMA_1_1/D4.png\nOpened: /mnt/c/Users/conor/Google Drive/PhD/H&E_Cores/TMA_1_1/D5.png\nOpened: /mnt/c/Users/conor/Google Drive/PhD/H&E_Cores/TMA_1_1/D7.png\nOpened: /mnt/c/Users/conor/Google Drive/PhD/H&E_Cores/TMA_1_1/D8.png\nOpened: /mnt/c/Users/conor/Google Drive/PhD/H&E_Cores/TMA_1_1/D9.png\nOpened: /mnt/c/Users/conor/Google Drive/PhD/H&E_Cores/TMA_1_1/E2.png\nOpened: /mnt/c/Users/conor/Google Drive/PhD/H&E_Cores/TMA_1_4/A10.png\nOpened: /mnt/c/Users/conor/Google Drive/PhD/H&E_Cores/TMA_1_4/A11.png\nOpened: /mnt/c/Users/conor/Google Drive/PhD/H&E_Cores/TMA_1_4/A12.png\nOpened: /mnt/c/Users/conor/Google Drive/PhD/H&E_Cores/TMA_1_4/A14.png\nOpened: /mnt/c/Users/conor/Google Drive/PhD/H&E_Cores/TMA_1_4/A5.png\nOpened: /mnt/c/Users/conor/Google Drive/PhD/H&E_Cores/TMA_1_4/A6.png\nOpened: /mnt/c/Users/conor/Google Drive/PhD/H&E_Cores/TMA_1_4/A7.png\nOpened: /mnt/c/Users/conor/Google Drive/PhD/H&E_Cores/TMA_1_4/A8.png\nOpened: /mnt/c/Users/conor/Google Drive/PhD/H&E_Cores/TMA_1_4/A9.png\nOpened: /mnt/c/Users/conor/Google Drive/PhD/H&E_Cores/TMA_1_4/B10.png\nOpened: /mnt/c/Users/conor/Google Drive/PhD/H&E_Cores/TMA_1_4/B14.png\nOpened: /mnt/c/Users/conor/Google Drive/PhD/H&E_Cores/TMA_1_4/C10.png\nOpened: /mnt/c/Users/conor/Google Drive/PhD/H&E_Cores/TMA_1_4/C11.png\nOpened: /mnt/c/Users/conor/Google Drive/PhD/H&E_Cores/TMA_1_4/C12.png\nOpened: /mnt/c/Users/conor/Google Drive/PhD/H&E_Cores/TMA_1_4/C14.png\nOpened: /mnt/c/Users/conor/Google Drive/PhD/H&E_Cores/TMA_1_4/C2.png\nOpened: /mnt/c/Users/conor/Google Drive/PhD/H&E_Cores/TMA_1_4/C4.png\nOpened: /mnt/c/Users/conor/Google Drive/PhD/H&E_Cores/TMA_1_4/C5.png\nOpened: /mnt/c/Users/conor/Google Drive/PhD/H&E_Cores/TMA_1_4/C7.png\nOpened: /mnt/c/Users/conor/Google Drive/PhD/H&E_Cores/TMA_1_4/C8.png\nOpened: /mnt/c/Users/conor/Google Drive/PhD/H&E_Cores/TMA_1_4/C9.png\nOpened: /mnt/c/Users/conor/Google Drive/PhD/H&E_Cores/TMA_1_4/D10.png\nOpened: /mnt/c/Users/conor/Google Drive/PhD/H&E_Cores/TMA_1_4/D11.png\nOpened: /mnt/c/Users/conor/Google Drive/PhD/H&E_Cores/TMA_1_4/D12.png\nOpened: /mnt/c/Users/conor/Google Drive/PhD/H&E_Cores/TMA_1_4/D4.png\nOpened: /mnt/c/Users/conor/Google Drive/PhD/H&E_Cores/TMA_1_4/D6.png\nOpened: /mnt/c/Users/conor/Google Drive/PhD/H&E_Cores/TMA_1_4/E5.png\nOpened: /mnt/c/Users/conor/Google Drive/PhD/H&E_Cores/TMA_1_4/E7.png\nOpened: /mnt/c/Users/conor/Google Drive/PhD/H&E_Cores/TMA_1_4/E8.png\nOpened: /mnt/c/Users/conor/Google Drive/PhD/H&E_Cores/TMA_1_4/E9.png\nOpened: /mnt/c/Users/conor/Google Drive/PhD/H&E_Cores/TMA_2_1/A1.png\nOpened: /mnt/c/Users/conor/Google Drive/PhD/H&E_Cores/TMA_2_1/A10.png\nOpened: /mnt/c/Users/conor/Google Drive/PhD/H&E_Cores/TMA_2_1/A11.png\nOpened: /mnt/c/Users/conor/Google Drive/PhD/H&E_Cores/TMA_2_1/A12.png\nOpened: /mnt/c/Users/conor/Google Drive/PhD/H&E_Cores/TMA_2_1/A14.png\nOpened: /mnt/c/Users/conor/Google Drive/PhD/H&E_Cores/TMA_2_1/A2.png\nOpened: /mnt/c/Users/conor/Google Drive/PhD/H&E_Cores/TMA_2_1/A5.png\nOpened: /mnt/c/Users/conor/Google Drive/PhD/H&E_Cores/TMA_2_1/A6.png\nOpened: /mnt/c/Users/conor/Google Drive/PhD/H&E_Cores/TMA_2_1/A7.png\nOpened: /mnt/c/Users/conor/Google Drive/PhD/H&E_Cores/TMA_2_1/A8.png\nOpened: /mnt/c/Users/conor/Google Drive/PhD/H&E_Cores/TMA_2_1/A9.png\nOpened: /mnt/c/Users/conor/Google Drive/PhD/H&E_Cores/TMA_2_1/B1.png\nOpened: /mnt/c/Users/conor/Google Drive/PhD/H&E_Cores/TMA_2_1/B10.png\nOpened: /mnt/c/Users/conor/Google Drive/PhD/H&E_Cores/TMA_2_1/B14.png\nOpened: /mnt/c/Users/conor/Google Drive/PhD/H&E_Cores/TMA_2_1/B4.png\nOpened: /mnt/c/Users/conor/Google Drive/PhD/H&E_Cores/TMA_2_1/B5.png\nOpened: /mnt/c/Users/conor/Google Drive/PhD/H&E_Cores/TMA_2_1/B6.png\nOpened: /mnt/c/Users/conor/Google Drive/PhD/H&E_Cores/TMA_2_1/B7.png\nOpened: /mnt/c/Users/conor/Google Drive/PhD/H&E_Cores/TMA_2_1/B8.png\nOpened: /mnt/c/Users/conor/Google Drive/PhD/H&E_Cores/TMA_2_1/C1.png\nOpened: /mnt/c/Users/conor/Google Drive/PhD/H&E_Cores/TMA_2_1/C10.png\nOpened: /mnt/c/Users/conor/Google Drive/PhD/H&E_Cores/TMA_2_1/C11.png\nOpened: /mnt/c/Users/conor/Google Drive/PhD/H&E_Cores/TMA_2_1/C14.png\nOpened: /mnt/c/Users/conor/Google Drive/PhD/H&E_Cores/TMA_2_1/C3.png\nOpened: /mnt/c/Users/conor/Google Drive/PhD/H&E_Cores/TMA_2_1/C4.png\nOpened: /mnt/c/Users/conor/Google Drive/PhD/H&E_Cores/TMA_2_1/C5.png\nOpened: /mnt/c/Users/conor/Google Drive/PhD/H&E_Cores/TMA_2_1/C6.png\nOpened: /mnt/c/Users/conor/Google Drive/PhD/H&E_Cores/TMA_2_1/C7.png\nOpened: /mnt/c/Users/conor/Google Drive/PhD/H&E_Cores/TMA_2_1/C8.png\nOpened: /mnt/c/Users/conor/Google Drive/PhD/H&E_Cores/TMA_2_1/C9.png\nOpened: /mnt/c/Users/conor/Google Drive/PhD/H&E_Cores/TMA_2_1/D10.png\nOpened: /mnt/c/Users/conor/Google Drive/PhD/H&E_Cores/TMA_2_1/D11.png\nOpened: /mnt/c/Users/conor/Google Drive/PhD/H&E_Cores/TMA_2_1/D14.png\nOpened: /mnt/c/Users/conor/Google Drive/PhD/H&E_Cores/TMA_2_1/D2.png\nOpened: /mnt/c/Users/conor/Google Drive/PhD/H&E_Cores/TMA_2_1/D3.png\nOpened: /mnt/c/Users/conor/Google Drive/PhD/H&E_Cores/TMA_2_1/D4.png\nOpened: /mnt/c/Users/conor/Google Drive/PhD/H&E_Cores/TMA_2_1/D5.png\nOpened: /mnt/c/Users/conor/Google Drive/PhD/H&E_Cores/TMA_2_1/D6.png\nOpened: /mnt/c/Users/conor/Google Drive/PhD/H&E_Cores/TMA_2_1/D7.png\nOpened: /mnt/c/Users/conor/Google Drive/PhD/H&E_Cores/TMA_2_1/D9.png\nOpened: /mnt/c/Users/conor/Google Drive/PhD/H&E_Cores/TMA_2_1/E1.png\nOpened: /mnt/c/Users/conor/Google Drive/PhD/H&E_Cores/TMA_2_1/E2.png\nOpened: /mnt/c/Users/conor/Google Drive/PhD/H&E_Cores/TMA_2_1/E3.png\nOpened: /mnt/c/Users/conor/Google Drive/PhD/H&E_Cores/TMA_2_1/E5.png\nOpened: /mnt/c/Users/conor/Google Drive/PhD/H&E_Cores/TMA_2_1/E7.png\nOpened: /mnt/c/Users/conor/Google Drive/PhD/H&E_Cores/TMA_2_1/E8.png\nOpened: /mnt/c/Users/conor/Google Drive/PhD/H&E_Cores/TMA_2_1/E9.png\nOpened: /mnt/c/Users/conor/Google Drive/PhD/H&E_Cores/TMA_2_4/A1.png\nOpened: /mnt/c/Users/conor/Google Drive/PhD/H&E_Cores/TMA_2_4/A10.png\nOpened: /mnt/c/Users/conor/Google Drive/PhD/H&E_Cores/TMA_2_4/A11.png\nOpened: /mnt/c/Users/conor/Google Drive/PhD/H&E_Cores/TMA_2_4/A12.png\nOpened: /mnt/c/Users/conor/Google Drive/PhD/H&E_Cores/TMA_2_4/A14.png\nOpened: /mnt/c/Users/conor/Google Drive/PhD/H&E_Cores/TMA_2_4/A2.png\nOpened: /mnt/c/Users/conor/Google Drive/PhD/H&E_Cores/TMA_2_4/A5.png\nOpened: /mnt/c/Users/conor/Google Drive/PhD/H&E_Cores/TMA_2_4/A6.png\nOpened: /mnt/c/Users/conor/Google Drive/PhD/H&E_Cores/TMA_2_4/A7.png\nOpened: /mnt/c/Users/conor/Google Drive/PhD/H&E_Cores/TMA_2_4/A8.png\nOpened: /mnt/c/Users/conor/Google Drive/PhD/H&E_Cores/TMA_2_4/A9.png\nOpened: /mnt/c/Users/conor/Google Drive/PhD/H&E_Cores/TMA_2_4/B1.png\nOpened: /mnt/c/Users/conor/Google Drive/PhD/H&E_Cores/TMA_2_4/B10.png\nOpened: /mnt/c/Users/conor/Google Drive/PhD/H&E_Cores/TMA_2_4/B14.png\nOpened: /mnt/c/Users/conor/Google Drive/PhD/H&E_Cores/TMA_2_4/B4.png\nOpened: /mnt/c/Users/conor/Google Drive/PhD/H&E_Cores/TMA_2_4/B5.png\nOpened: /mnt/c/Users/conor/Google Drive/PhD/H&E_Cores/TMA_2_4/B6.png\nOpened: /mnt/c/Users/conor/Google Drive/PhD/H&E_Cores/TMA_2_4/B7.png\nOpened: /mnt/c/Users/conor/Google Drive/PhD/H&E_Cores/TMA_2_4/B8.png\nOpened: /mnt/c/Users/conor/Google Drive/PhD/H&E_Cores/TMA_2_4/C1.png\nOpened: /mnt/c/Users/conor/Google Drive/PhD/H&E_Cores/TMA_2_4/C10.png\nOpened: /mnt/c/Users/conor/Google Drive/PhD/H&E_Cores/TMA_2_4/C11.png\nOpened: /mnt/c/Users/conor/Google Drive/PhD/H&E_Cores/TMA_2_4/C14.png\nOpened: /mnt/c/Users/conor/Google Drive/PhD/H&E_Cores/TMA_2_4/C3.png\nOpened: /mnt/c/Users/conor/Google Drive/PhD/H&E_Cores/TMA_2_4/C4.png\nOpened: /mnt/c/Users/conor/Google Drive/PhD/H&E_Cores/TMA_2_4/C5.png\nOpened: /mnt/c/Users/conor/Google Drive/PhD/H&E_Cores/TMA_2_4/C6.png\nOpened: /mnt/c/Users/conor/Google Drive/PhD/H&E_Cores/TMA_2_4/C7.png\nOpened: /mnt/c/Users/conor/Google Drive/PhD/H&E_Cores/TMA_2_4/C8.png\nOpened: /mnt/c/Users/conor/Google Drive/PhD/H&E_Cores/TMA_2_4/C9.png\nOpened: /mnt/c/Users/conor/Google Drive/PhD/H&E_Cores/TMA_2_4/D10.png\nOpened: /mnt/c/Users/conor/Google Drive/PhD/H&E_Cores/TMA_2_4/D11.png\nOpened: /mnt/c/Users/conor/Google Drive/PhD/H&E_Cores/TMA_2_4/D14.png\nOpened: /mnt/c/Users/conor/Google Drive/PhD/H&E_Cores/TMA_2_4/D2.png\nOpened: /mnt/c/Users/conor/Google Drive/PhD/H&E_Cores/TMA_2_4/D3.png\nOpened: /mnt/c/Users/conor/Google Drive/PhD/H&E_Cores/TMA_2_4/D4.png\nOpened: /mnt/c/Users/conor/Google Drive/PhD/H&E_Cores/TMA_2_4/D5.png\nOpened: /mnt/c/Users/conor/Google Drive/PhD/H&E_Cores/TMA_2_4/D6.png\nOpened: /mnt/c/Users/conor/Google Drive/PhD/H&E_Cores/TMA_2_4/D7.png\nOpened: /mnt/c/Users/conor/Google Drive/PhD/H&E_Cores/TMA_2_4/D9.png\nOpened: /mnt/c/Users/conor/Google Drive/PhD/H&E_Cores/TMA_2_4/E1.png\nOpened: /mnt/c/Users/conor/Google Drive/PhD/H&E_Cores/TMA_2_4/E2.png\nOpened: /mnt/c/Users/conor/Google Drive/PhD/H&E_Cores/TMA_2_4/E3.png\nOpened: /mnt/c/Users/conor/Google Drive/PhD/H&E_Cores/TMA_2_4/E5.png\nOpened: /mnt/c/Users/conor/Google Drive/PhD/H&E_Cores/TMA_2_4/E7.png\nOpened: /mnt/c/Users/conor/Google Drive/PhD/H&E_Cores/TMA_2_4/E8.png\nOpened: /mnt/c/Users/conor/Google Drive/PhD/H&E_Cores/TMA_2_4/E9.png\n"
     ]
    }
   ],
   "source": [
    "HE_files=dict()\n",
    "\n",
    "for i, row in he.iterrows():\n",
    "    for i in range(1,3):\n",
    "\n",
    "        core=row['CORE']\n",
    "        hefile = row['HE']\n",
    "\n",
    "        fn = f'/mnt/c/Users/conor/OneDrive/Desktop/temp_extraction_test/TMA_1.{i}_{core[:-4]}.hdf' \n",
    "\n",
    "        try:\n",
    "            open(fn)\n",
    "            print(f'Opened: {hefile}')\n",
    "\n",
    "            HE_files[core[:-4]] = row['HE']\n",
    "\n",
    "        except FileNotFoundError:\n",
    "            pass\n",
    "            #print('File not found')"
   ]
  },
  {
   "cell_type": "code",
   "execution_count": 32,
   "metadata": {},
   "outputs": [],
   "source": [
    "hen=pd.DataFrame(zip(HE_files.keys(), HE_files.values()), columns=['CORE', 'HE'])"
   ]
  },
  {
   "cell_type": "code",
   "execution_count": 33,
   "metadata": {},
   "outputs": [
    {
     "output_type": "execute_result",
     "data": {
      "text/plain": [
       "'/mnt/c/Users/conor/Google Drive/PhD/H&E_Cores/TMA_2_4/C11.png'"
      ]
     },
     "metadata": {},
     "execution_count": 33
    }
   ],
   "source": [
    "hen.iloc[10]['HE']"
   ]
  },
  {
   "cell_type": "code",
   "execution_count": 34,
   "metadata": {},
   "outputs": [],
   "source": [
    "master = master.merge(hen, left_on='CORE', right_on='CORE')"
   ]
  },
  {
   "cell_type": "code",
   "execution_count": 35,
   "metadata": {},
   "outputs": [
    {
     "output_type": "execute_result",
     "data": {
      "text/plain": [
       "                                                 FTIR          REF  \\\n",
       "0   /mnt/c/Users/conor/OneDrive/Desktop/temp_extra...   TMA_1.1_A1   \n",
       "1   /mnt/c/Users/conor/OneDrive/Desktop/temp_extra...   TMA_1.1_A2   \n",
       "2   /mnt/c/Users/conor/OneDrive/Desktop/temp_extra...   TMA_1.1_A5   \n",
       "3   /mnt/c/Users/conor/OneDrive/Desktop/temp_extra...   TMA_1.1_A6   \n",
       "4   /mnt/c/Users/conor/OneDrive/Desktop/temp_extra...   TMA_1.1_A7   \n",
       "5   /mnt/c/Users/conor/OneDrive/Desktop/temp_extra...   TMA_1.1_B1   \n",
       "6   /mnt/c/Users/conor/OneDrive/Desktop/temp_extra...   TMA_1.1_B4   \n",
       "7   /mnt/c/Users/conor/OneDrive/Desktop/temp_extra...   TMA_1.1_B5   \n",
       "8   /mnt/c/Users/conor/OneDrive/Desktop/temp_extra...   TMA_1.1_B6   \n",
       "9   /mnt/c/Users/conor/OneDrive/Desktop/temp_extra...   TMA_1.1_B7   \n",
       "10  /mnt/c/Users/conor/OneDrive/Desktop/temp_extra...   TMA_1.1_C1   \n",
       "11  /mnt/c/Users/conor/OneDrive/Desktop/temp_extra...   TMA_1.1_C2   \n",
       "12  /mnt/c/Users/conor/OneDrive/Desktop/temp_extra...   TMA_1.1_C3   \n",
       "13  /mnt/c/Users/conor/OneDrive/Desktop/temp_extra...   TMA_1.1_C4   \n",
       "14  /mnt/c/Users/conor/OneDrive/Desktop/temp_extra...   TMA_1.1_C5   \n",
       "15  /mnt/c/Users/conor/OneDrive/Desktop/temp_extra...   TMA_1.1_C6   \n",
       "16  /mnt/c/Users/conor/OneDrive/Desktop/temp_extra...   TMA_1.1_C7   \n",
       "17  /mnt/c/Users/conor/OneDrive/Desktop/temp_extra...   TMA_1.1_D2   \n",
       "18  /mnt/c/Users/conor/OneDrive/Desktop/temp_extra...   TMA_1.1_D3   \n",
       "19  /mnt/c/Users/conor/OneDrive/Desktop/temp_extra...   TMA_1.1_D4   \n",
       "20  /mnt/c/Users/conor/OneDrive/Desktop/temp_extra...   TMA_1.1_D5   \n",
       "21  /mnt/c/Users/conor/OneDrive/Desktop/temp_extra...   TMA_1.1_D6   \n",
       "22  /mnt/c/Users/conor/OneDrive/Desktop/temp_extra...   TMA_1.1_D7   \n",
       "23  /mnt/c/Users/conor/OneDrive/Desktop/temp_extra...   TMA_1.1_E1   \n",
       "24  /mnt/c/Users/conor/OneDrive/Desktop/temp_extra...   TMA_1.1_E2   \n",
       "25  /mnt/c/Users/conor/OneDrive/Desktop/temp_extra...   TMA_1.3_E2   \n",
       "26  /mnt/c/Users/conor/OneDrive/Desktop/temp_extra...   TMA_1.1_E3   \n",
       "27  /mnt/c/Users/conor/OneDrive/Desktop/temp_extra...   TMA_1.1_E5   \n",
       "28  /mnt/c/Users/conor/OneDrive/Desktop/temp_extra...   TMA_1.1_E7   \n",
       "29  /mnt/c/Users/conor/OneDrive/Desktop/temp_extra...  TMA_1.2_A10   \n",
       "30  /mnt/c/Users/conor/OneDrive/Desktop/temp_extra...  TMA_1.2_A11   \n",
       "31  /mnt/c/Users/conor/OneDrive/Desktop/temp_extra...  TMA_1.2_A12   \n",
       "32  /mnt/c/Users/conor/OneDrive/Desktop/temp_extra...  TMA_1.2_A14   \n",
       "33  /mnt/c/Users/conor/OneDrive/Desktop/temp_extra...   TMA_1.2_A8   \n",
       "34  /mnt/c/Users/conor/OneDrive/Desktop/temp_extra...   TMA_1.2_A9   \n",
       "35  /mnt/c/Users/conor/OneDrive/Desktop/temp_extra...  TMA_1.2_B10   \n",
       "36  /mnt/c/Users/conor/OneDrive/Desktop/temp_extra...  TMA_1.2_B14   \n",
       "37  /mnt/c/Users/conor/OneDrive/Desktop/temp_extra...   TMA_1.2_B8   \n",
       "38  /mnt/c/Users/conor/OneDrive/Desktop/temp_extra...  TMA_1.2_C10   \n",
       "39  /mnt/c/Users/conor/OneDrive/Desktop/temp_extra...  TMA_1.2_C11   \n",
       "40  /mnt/c/Users/conor/OneDrive/Desktop/temp_extra...  TMA_1.2_C12   \n",
       "41  /mnt/c/Users/conor/OneDrive/Desktop/temp_extra...  TMA_1.2_C14   \n",
       "42  /mnt/c/Users/conor/OneDrive/Desktop/temp_extra...   TMA_1.2_C8   \n",
       "43  /mnt/c/Users/conor/OneDrive/Desktop/temp_extra...   TMA_1.2_C9   \n",
       "44  /mnt/c/Users/conor/OneDrive/Desktop/temp_extra...  TMA_1.2_D10   \n",
       "45  /mnt/c/Users/conor/OneDrive/Desktop/temp_extra...  TMA_1.2_D11   \n",
       "46  /mnt/c/Users/conor/OneDrive/Desktop/temp_extra...  TMA_1.2_D12   \n",
       "47  /mnt/c/Users/conor/OneDrive/Desktop/temp_extra...  TMA_1.2_D14   \n",
       "48  /mnt/c/Users/conor/OneDrive/Desktop/temp_extra...   TMA_1.2_D8   \n",
       "49  /mnt/c/Users/conor/OneDrive/Desktop/temp_extra...   TMA_1.2_D9   \n",
       "50  /mnt/c/Users/conor/OneDrive/Desktop/temp_extra...   TMA_1.2_E8   \n",
       "51  /mnt/c/Users/conor/OneDrive/Desktop/temp_extra...   TMA_1.2_E9   \n",
       "\n",
       "                                           ANNOTATION CORE DISK  \\\n",
       "0   /mnt/c/Users/conor/Google Drive/PHD/Project wi...   A1  1.1   \n",
       "1   /mnt/c/Users/conor/Google Drive/PHD/Project wi...   A2  1.1   \n",
       "2   /mnt/c/Users/conor/Google Drive/PHD/Project wi...   A5  1.1   \n",
       "3   /mnt/c/Users/conor/Google Drive/PHD/Project wi...   A6  1.1   \n",
       "4   /mnt/c/Users/conor/Google Drive/PHD/Project wi...   A7  1.1   \n",
       "5   /mnt/c/Users/conor/Google Drive/PHD/Project wi...   B1  1.1   \n",
       "6   /mnt/c/Users/conor/Google Drive/PHD/Project wi...   B4  1.1   \n",
       "7   /mnt/c/Users/conor/Google Drive/PHD/Project wi...   B5  1.1   \n",
       "8   /mnt/c/Users/conor/Google Drive/PHD/Project wi...   B6  1.1   \n",
       "9   /mnt/c/Users/conor/Google Drive/PHD/Project wi...   B7  1.1   \n",
       "10  /mnt/c/Users/conor/Google Drive/PHD/Project wi...   C1  1.1   \n",
       "11  /mnt/c/Users/conor/Google Drive/PHD/Project wi...   C2  1.1   \n",
       "12  /mnt/c/Users/conor/Google Drive/PHD/Project wi...   C3  1.1   \n",
       "13  /mnt/c/Users/conor/Google Drive/PHD/Project wi...   C4  1.1   \n",
       "14  /mnt/c/Users/conor/Google Drive/PHD/Project wi...   C5  1.1   \n",
       "15  /mnt/c/Users/conor/Google Drive/PHD/Project wi...   C6  1.1   \n",
       "16  /mnt/c/Users/conor/Google Drive/PHD/Project wi...   C7  1.1   \n",
       "17  /mnt/c/Users/conor/Google Drive/PHD/Project wi...   D2  1.1   \n",
       "18  /mnt/c/Users/conor/Google Drive/PHD/Project wi...   D3  1.1   \n",
       "19  /mnt/c/Users/conor/Google Drive/PHD/Project wi...   D4  1.1   \n",
       "20  /mnt/c/Users/conor/Google Drive/PHD/Project wi...   D5  1.1   \n",
       "21  /mnt/c/Users/conor/Google Drive/PHD/Project wi...   D6  1.1   \n",
       "22  /mnt/c/Users/conor/Google Drive/PHD/Project wi...   D7  1.1   \n",
       "23  /mnt/c/Users/conor/Google Drive/PHD/Project wi...   E1  1.1   \n",
       "24  /mnt/c/Users/conor/Google Drive/PHD/Project wi...   E2  1.1   \n",
       "25  /mnt/c/Users/conor/Google Drive/PHD/Project wi...   E2  1.3   \n",
       "26  /mnt/c/Users/conor/Google Drive/PHD/Project wi...   E3  1.1   \n",
       "27  /mnt/c/Users/conor/Google Drive/PHD/Project wi...   E5  1.1   \n",
       "28  /mnt/c/Users/conor/Google Drive/PHD/Project wi...   E7  1.1   \n",
       "29  /mnt/c/Users/conor/Google Drive/PHD/Project wi...  A10  1.2   \n",
       "30  /mnt/c/Users/conor/Google Drive/PHD/Project wi...  A11  1.2   \n",
       "31  /mnt/c/Users/conor/Google Drive/PHD/Project wi...  A12  1.2   \n",
       "32  /mnt/c/Users/conor/Google Drive/PHD/Project wi...  A14  1.2   \n",
       "33  /mnt/c/Users/conor/Google Drive/PHD/Project wi...   A8  1.2   \n",
       "34  /mnt/c/Users/conor/Google Drive/PHD/Project wi...   A9  1.2   \n",
       "35  /mnt/c/Users/conor/Google Drive/PHD/Project wi...  B10  1.2   \n",
       "36  /mnt/c/Users/conor/Google Drive/PHD/Project wi...  B14  1.2   \n",
       "37  /mnt/c/Users/conor/Google Drive/PHD/Project wi...   B8  1.2   \n",
       "38  /mnt/c/Users/conor/Google Drive/PHD/Project wi...  C10  1.2   \n",
       "39  /mnt/c/Users/conor/Google Drive/PHD/Project wi...  C11  1.2   \n",
       "40  /mnt/c/Users/conor/Google Drive/PHD/Project wi...  C12  1.2   \n",
       "41  /mnt/c/Users/conor/Google Drive/PHD/Project wi...  C14  1.2   \n",
       "42  /mnt/c/Users/conor/Google Drive/PHD/Project wi...   C8  1.2   \n",
       "43  /mnt/c/Users/conor/Google Drive/PHD/Project wi...   C9  1.2   \n",
       "44  /mnt/c/Users/conor/Google Drive/PHD/Project wi...  D10  1.2   \n",
       "45  /mnt/c/Users/conor/Google Drive/PHD/Project wi...  D11  1.2   \n",
       "46  /mnt/c/Users/conor/Google Drive/PHD/Project wi...  D12  1.2   \n",
       "47  /mnt/c/Users/conor/Google Drive/PHD/Project wi...  D14  1.2   \n",
       "48  /mnt/c/Users/conor/Google Drive/PHD/Project wi...   D8  1.2   \n",
       "49  /mnt/c/Users/conor/Google Drive/PHD/Project wi...   D9  1.2   \n",
       "50  /mnt/c/Users/conor/Google Drive/PHD/Project wi...   E8  1.2   \n",
       "51  /mnt/c/Users/conor/Google Drive/PHD/Project wi...   E9  1.2   \n",
       "\n",
       "                                                   HE  \n",
       "0   /mnt/c/Users/conor/Google Drive/PhD/H&E_Cores/...  \n",
       "1   /mnt/c/Users/conor/Google Drive/PhD/H&E_Cores/...  \n",
       "2   /mnt/c/Users/conor/Google Drive/PhD/H&E_Cores/...  \n",
       "3   /mnt/c/Users/conor/Google Drive/PhD/H&E_Cores/...  \n",
       "4   /mnt/c/Users/conor/Google Drive/PhD/H&E_Cores/...  \n",
       "5   /mnt/c/Users/conor/Google Drive/PhD/H&E_Cores/...  \n",
       "6   /mnt/c/Users/conor/Google Drive/PhD/H&E_Cores/...  \n",
       "7   /mnt/c/Users/conor/Google Drive/PhD/H&E_Cores/...  \n",
       "8   /mnt/c/Users/conor/Google Drive/PhD/H&E_Cores/...  \n",
       "9   /mnt/c/Users/conor/Google Drive/PhD/H&E_Cores/...  \n",
       "10  /mnt/c/Users/conor/Google Drive/PhD/H&E_Cores/...  \n",
       "11  /mnt/c/Users/conor/Google Drive/PhD/H&E_Cores/...  \n",
       "12  /mnt/c/Users/conor/Google Drive/PhD/H&E_Cores/...  \n",
       "13  /mnt/c/Users/conor/Google Drive/PhD/H&E_Cores/...  \n",
       "14  /mnt/c/Users/conor/Google Drive/PhD/H&E_Cores/...  \n",
       "15  /mnt/c/Users/conor/Google Drive/PhD/H&E_Cores/...  \n",
       "16  /mnt/c/Users/conor/Google Drive/PhD/H&E_Cores/...  \n",
       "17  /mnt/c/Users/conor/Google Drive/PhD/H&E_Cores/...  \n",
       "18  /mnt/c/Users/conor/Google Drive/PhD/H&E_Cores/...  \n",
       "19  /mnt/c/Users/conor/Google Drive/PhD/H&E_Cores/...  \n",
       "20  /mnt/c/Users/conor/Google Drive/PhD/H&E_Cores/...  \n",
       "21  /mnt/c/Users/conor/Google Drive/PhD/H&E_Cores/...  \n",
       "22  /mnt/c/Users/conor/Google Drive/PhD/H&E_Cores/...  \n",
       "23  /mnt/c/Users/conor/Google Drive/PhD/H&E_Cores/...  \n",
       "24  /mnt/c/Users/conor/Google Drive/PhD/H&E_Cores/...  \n",
       "25  /mnt/c/Users/conor/Google Drive/PhD/H&E_Cores/...  \n",
       "26  /mnt/c/Users/conor/Google Drive/PhD/H&E_Cores/...  \n",
       "27  /mnt/c/Users/conor/Google Drive/PhD/H&E_Cores/...  \n",
       "28  /mnt/c/Users/conor/Google Drive/PhD/H&E_Cores/...  \n",
       "29  /mnt/c/Users/conor/Google Drive/PhD/H&E_Cores/...  \n",
       "30  /mnt/c/Users/conor/Google Drive/PhD/H&E_Cores/...  \n",
       "31  /mnt/c/Users/conor/Google Drive/PhD/H&E_Cores/...  \n",
       "32  /mnt/c/Users/conor/Google Drive/PhD/H&E_Cores/...  \n",
       "33  /mnt/c/Users/conor/Google Drive/PhD/H&E_Cores/...  \n",
       "34  /mnt/c/Users/conor/Google Drive/PhD/H&E_Cores/...  \n",
       "35  /mnt/c/Users/conor/Google Drive/PhD/H&E_Cores/...  \n",
       "36  /mnt/c/Users/conor/Google Drive/PhD/H&E_Cores/...  \n",
       "37  /mnt/c/Users/conor/Google Drive/PhD/H&E_Cores/...  \n",
       "38  /mnt/c/Users/conor/Google Drive/PhD/H&E_Cores/...  \n",
       "39  /mnt/c/Users/conor/Google Drive/PhD/H&E_Cores/...  \n",
       "40  /mnt/c/Users/conor/Google Drive/PhD/H&E_Cores/...  \n",
       "41  /mnt/c/Users/conor/Google Drive/PhD/H&E_Cores/...  \n",
       "42  /mnt/c/Users/conor/Google Drive/PhD/H&E_Cores/...  \n",
       "43  /mnt/c/Users/conor/Google Drive/PhD/H&E_Cores/...  \n",
       "44  /mnt/c/Users/conor/Google Drive/PhD/H&E_Cores/...  \n",
       "45  /mnt/c/Users/conor/Google Drive/PhD/H&E_Cores/...  \n",
       "46  /mnt/c/Users/conor/Google Drive/PhD/H&E_Cores/...  \n",
       "47  /mnt/c/Users/conor/Google Drive/PhD/H&E_Cores/...  \n",
       "48  /mnt/c/Users/conor/Google Drive/PhD/H&E_Cores/...  \n",
       "49  /mnt/c/Users/conor/Google Drive/PhD/H&E_Cores/...  \n",
       "50  /mnt/c/Users/conor/Google Drive/PhD/H&E_Cores/...  \n",
       "51  /mnt/c/Users/conor/Google Drive/PhD/H&E_Cores/...  "
      ],
      "text/html": "<div>\n<style scoped>\n    .dataframe tbody tr th:only-of-type {\n        vertical-align: middle;\n    }\n\n    .dataframe tbody tr th {\n        vertical-align: top;\n    }\n\n    .dataframe thead th {\n        text-align: right;\n    }\n</style>\n<table border=\"1\" class=\"dataframe\">\n  <thead>\n    <tr style=\"text-align: right;\">\n      <th></th>\n      <th>FTIR</th>\n      <th>REF</th>\n      <th>ANNOTATION</th>\n      <th>CORE</th>\n      <th>DISK</th>\n      <th>HE</th>\n    </tr>\n  </thead>\n  <tbody>\n    <tr>\n      <th>0</th>\n      <td>/mnt/c/Users/conor/OneDrive/Desktop/temp_extra...</td>\n      <td>TMA_1.1_A1</td>\n      <td>/mnt/c/Users/conor/Google Drive/PHD/Project wi...</td>\n      <td>A1</td>\n      <td>1.1</td>\n      <td>/mnt/c/Users/conor/Google Drive/PhD/H&amp;E_Cores/...</td>\n    </tr>\n    <tr>\n      <th>1</th>\n      <td>/mnt/c/Users/conor/OneDrive/Desktop/temp_extra...</td>\n      <td>TMA_1.1_A2</td>\n      <td>/mnt/c/Users/conor/Google Drive/PHD/Project wi...</td>\n      <td>A2</td>\n      <td>1.1</td>\n      <td>/mnt/c/Users/conor/Google Drive/PhD/H&amp;E_Cores/...</td>\n    </tr>\n    <tr>\n      <th>2</th>\n      <td>/mnt/c/Users/conor/OneDrive/Desktop/temp_extra...</td>\n      <td>TMA_1.1_A5</td>\n      <td>/mnt/c/Users/conor/Google Drive/PHD/Project wi...</td>\n      <td>A5</td>\n      <td>1.1</td>\n      <td>/mnt/c/Users/conor/Google Drive/PhD/H&amp;E_Cores/...</td>\n    </tr>\n    <tr>\n      <th>3</th>\n      <td>/mnt/c/Users/conor/OneDrive/Desktop/temp_extra...</td>\n      <td>TMA_1.1_A6</td>\n      <td>/mnt/c/Users/conor/Google Drive/PHD/Project wi...</td>\n      <td>A6</td>\n      <td>1.1</td>\n      <td>/mnt/c/Users/conor/Google Drive/PhD/H&amp;E_Cores/...</td>\n    </tr>\n    <tr>\n      <th>4</th>\n      <td>/mnt/c/Users/conor/OneDrive/Desktop/temp_extra...</td>\n      <td>TMA_1.1_A7</td>\n      <td>/mnt/c/Users/conor/Google Drive/PHD/Project wi...</td>\n      <td>A7</td>\n      <td>1.1</td>\n      <td>/mnt/c/Users/conor/Google Drive/PhD/H&amp;E_Cores/...</td>\n    </tr>\n    <tr>\n      <th>5</th>\n      <td>/mnt/c/Users/conor/OneDrive/Desktop/temp_extra...</td>\n      <td>TMA_1.1_B1</td>\n      <td>/mnt/c/Users/conor/Google Drive/PHD/Project wi...</td>\n      <td>B1</td>\n      <td>1.1</td>\n      <td>/mnt/c/Users/conor/Google Drive/PhD/H&amp;E_Cores/...</td>\n    </tr>\n    <tr>\n      <th>6</th>\n      <td>/mnt/c/Users/conor/OneDrive/Desktop/temp_extra...</td>\n      <td>TMA_1.1_B4</td>\n      <td>/mnt/c/Users/conor/Google Drive/PHD/Project wi...</td>\n      <td>B4</td>\n      <td>1.1</td>\n      <td>/mnt/c/Users/conor/Google Drive/PhD/H&amp;E_Cores/...</td>\n    </tr>\n    <tr>\n      <th>7</th>\n      <td>/mnt/c/Users/conor/OneDrive/Desktop/temp_extra...</td>\n      <td>TMA_1.1_B5</td>\n      <td>/mnt/c/Users/conor/Google Drive/PHD/Project wi...</td>\n      <td>B5</td>\n      <td>1.1</td>\n      <td>/mnt/c/Users/conor/Google Drive/PhD/H&amp;E_Cores/...</td>\n    </tr>\n    <tr>\n      <th>8</th>\n      <td>/mnt/c/Users/conor/OneDrive/Desktop/temp_extra...</td>\n      <td>TMA_1.1_B6</td>\n      <td>/mnt/c/Users/conor/Google Drive/PHD/Project wi...</td>\n      <td>B6</td>\n      <td>1.1</td>\n      <td>/mnt/c/Users/conor/Google Drive/PhD/H&amp;E_Cores/...</td>\n    </tr>\n    <tr>\n      <th>9</th>\n      <td>/mnt/c/Users/conor/OneDrive/Desktop/temp_extra...</td>\n      <td>TMA_1.1_B7</td>\n      <td>/mnt/c/Users/conor/Google Drive/PHD/Project wi...</td>\n      <td>B7</td>\n      <td>1.1</td>\n      <td>/mnt/c/Users/conor/Google Drive/PhD/H&amp;E_Cores/...</td>\n    </tr>\n    <tr>\n      <th>10</th>\n      <td>/mnt/c/Users/conor/OneDrive/Desktop/temp_extra...</td>\n      <td>TMA_1.1_C1</td>\n      <td>/mnt/c/Users/conor/Google Drive/PHD/Project wi...</td>\n      <td>C1</td>\n      <td>1.1</td>\n      <td>/mnt/c/Users/conor/Google Drive/PhD/H&amp;E_Cores/...</td>\n    </tr>\n    <tr>\n      <th>11</th>\n      <td>/mnt/c/Users/conor/OneDrive/Desktop/temp_extra...</td>\n      <td>TMA_1.1_C2</td>\n      <td>/mnt/c/Users/conor/Google Drive/PHD/Project wi...</td>\n      <td>C2</td>\n      <td>1.1</td>\n      <td>/mnt/c/Users/conor/Google Drive/PhD/H&amp;E_Cores/...</td>\n    </tr>\n    <tr>\n      <th>12</th>\n      <td>/mnt/c/Users/conor/OneDrive/Desktop/temp_extra...</td>\n      <td>TMA_1.1_C3</td>\n      <td>/mnt/c/Users/conor/Google Drive/PHD/Project wi...</td>\n      <td>C3</td>\n      <td>1.1</td>\n      <td>/mnt/c/Users/conor/Google Drive/PhD/H&amp;E_Cores/...</td>\n    </tr>\n    <tr>\n      <th>13</th>\n      <td>/mnt/c/Users/conor/OneDrive/Desktop/temp_extra...</td>\n      <td>TMA_1.1_C4</td>\n      <td>/mnt/c/Users/conor/Google Drive/PHD/Project wi...</td>\n      <td>C4</td>\n      <td>1.1</td>\n      <td>/mnt/c/Users/conor/Google Drive/PhD/H&amp;E_Cores/...</td>\n    </tr>\n    <tr>\n      <th>14</th>\n      <td>/mnt/c/Users/conor/OneDrive/Desktop/temp_extra...</td>\n      <td>TMA_1.1_C5</td>\n      <td>/mnt/c/Users/conor/Google Drive/PHD/Project wi...</td>\n      <td>C5</td>\n      <td>1.1</td>\n      <td>/mnt/c/Users/conor/Google Drive/PhD/H&amp;E_Cores/...</td>\n    </tr>\n    <tr>\n      <th>15</th>\n      <td>/mnt/c/Users/conor/OneDrive/Desktop/temp_extra...</td>\n      <td>TMA_1.1_C6</td>\n      <td>/mnt/c/Users/conor/Google Drive/PHD/Project wi...</td>\n      <td>C6</td>\n      <td>1.1</td>\n      <td>/mnt/c/Users/conor/Google Drive/PhD/H&amp;E_Cores/...</td>\n    </tr>\n    <tr>\n      <th>16</th>\n      <td>/mnt/c/Users/conor/OneDrive/Desktop/temp_extra...</td>\n      <td>TMA_1.1_C7</td>\n      <td>/mnt/c/Users/conor/Google Drive/PHD/Project wi...</td>\n      <td>C7</td>\n      <td>1.1</td>\n      <td>/mnt/c/Users/conor/Google Drive/PhD/H&amp;E_Cores/...</td>\n    </tr>\n    <tr>\n      <th>17</th>\n      <td>/mnt/c/Users/conor/OneDrive/Desktop/temp_extra...</td>\n      <td>TMA_1.1_D2</td>\n      <td>/mnt/c/Users/conor/Google Drive/PHD/Project wi...</td>\n      <td>D2</td>\n      <td>1.1</td>\n      <td>/mnt/c/Users/conor/Google Drive/PhD/H&amp;E_Cores/...</td>\n    </tr>\n    <tr>\n      <th>18</th>\n      <td>/mnt/c/Users/conor/OneDrive/Desktop/temp_extra...</td>\n      <td>TMA_1.1_D3</td>\n      <td>/mnt/c/Users/conor/Google Drive/PHD/Project wi...</td>\n      <td>D3</td>\n      <td>1.1</td>\n      <td>/mnt/c/Users/conor/Google Drive/PhD/H&amp;E_Cores/...</td>\n    </tr>\n    <tr>\n      <th>19</th>\n      <td>/mnt/c/Users/conor/OneDrive/Desktop/temp_extra...</td>\n      <td>TMA_1.1_D4</td>\n      <td>/mnt/c/Users/conor/Google Drive/PHD/Project wi...</td>\n      <td>D4</td>\n      <td>1.1</td>\n      <td>/mnt/c/Users/conor/Google Drive/PhD/H&amp;E_Cores/...</td>\n    </tr>\n    <tr>\n      <th>20</th>\n      <td>/mnt/c/Users/conor/OneDrive/Desktop/temp_extra...</td>\n      <td>TMA_1.1_D5</td>\n      <td>/mnt/c/Users/conor/Google Drive/PHD/Project wi...</td>\n      <td>D5</td>\n      <td>1.1</td>\n      <td>/mnt/c/Users/conor/Google Drive/PhD/H&amp;E_Cores/...</td>\n    </tr>\n    <tr>\n      <th>21</th>\n      <td>/mnt/c/Users/conor/OneDrive/Desktop/temp_extra...</td>\n      <td>TMA_1.1_D6</td>\n      <td>/mnt/c/Users/conor/Google Drive/PHD/Project wi...</td>\n      <td>D6</td>\n      <td>1.1</td>\n      <td>/mnt/c/Users/conor/Google Drive/PhD/H&amp;E_Cores/...</td>\n    </tr>\n    <tr>\n      <th>22</th>\n      <td>/mnt/c/Users/conor/OneDrive/Desktop/temp_extra...</td>\n      <td>TMA_1.1_D7</td>\n      <td>/mnt/c/Users/conor/Google Drive/PHD/Project wi...</td>\n      <td>D7</td>\n      <td>1.1</td>\n      <td>/mnt/c/Users/conor/Google Drive/PhD/H&amp;E_Cores/...</td>\n    </tr>\n    <tr>\n      <th>23</th>\n      <td>/mnt/c/Users/conor/OneDrive/Desktop/temp_extra...</td>\n      <td>TMA_1.1_E1</td>\n      <td>/mnt/c/Users/conor/Google Drive/PHD/Project wi...</td>\n      <td>E1</td>\n      <td>1.1</td>\n      <td>/mnt/c/Users/conor/Google Drive/PhD/H&amp;E_Cores/...</td>\n    </tr>\n    <tr>\n      <th>24</th>\n      <td>/mnt/c/Users/conor/OneDrive/Desktop/temp_extra...</td>\n      <td>TMA_1.1_E2</td>\n      <td>/mnt/c/Users/conor/Google Drive/PHD/Project wi...</td>\n      <td>E2</td>\n      <td>1.1</td>\n      <td>/mnt/c/Users/conor/Google Drive/PhD/H&amp;E_Cores/...</td>\n    </tr>\n    <tr>\n      <th>25</th>\n      <td>/mnt/c/Users/conor/OneDrive/Desktop/temp_extra...</td>\n      <td>TMA_1.3_E2</td>\n      <td>/mnt/c/Users/conor/Google Drive/PHD/Project wi...</td>\n      <td>E2</td>\n      <td>1.3</td>\n      <td>/mnt/c/Users/conor/Google Drive/PhD/H&amp;E_Cores/...</td>\n    </tr>\n    <tr>\n      <th>26</th>\n      <td>/mnt/c/Users/conor/OneDrive/Desktop/temp_extra...</td>\n      <td>TMA_1.1_E3</td>\n      <td>/mnt/c/Users/conor/Google Drive/PHD/Project wi...</td>\n      <td>E3</td>\n      <td>1.1</td>\n      <td>/mnt/c/Users/conor/Google Drive/PhD/H&amp;E_Cores/...</td>\n    </tr>\n    <tr>\n      <th>27</th>\n      <td>/mnt/c/Users/conor/OneDrive/Desktop/temp_extra...</td>\n      <td>TMA_1.1_E5</td>\n      <td>/mnt/c/Users/conor/Google Drive/PHD/Project wi...</td>\n      <td>E5</td>\n      <td>1.1</td>\n      <td>/mnt/c/Users/conor/Google Drive/PhD/H&amp;E_Cores/...</td>\n    </tr>\n    <tr>\n      <th>28</th>\n      <td>/mnt/c/Users/conor/OneDrive/Desktop/temp_extra...</td>\n      <td>TMA_1.1_E7</td>\n      <td>/mnt/c/Users/conor/Google Drive/PHD/Project wi...</td>\n      <td>E7</td>\n      <td>1.1</td>\n      <td>/mnt/c/Users/conor/Google Drive/PhD/H&amp;E_Cores/...</td>\n    </tr>\n    <tr>\n      <th>29</th>\n      <td>/mnt/c/Users/conor/OneDrive/Desktop/temp_extra...</td>\n      <td>TMA_1.2_A10</td>\n      <td>/mnt/c/Users/conor/Google Drive/PHD/Project wi...</td>\n      <td>A10</td>\n      <td>1.2</td>\n      <td>/mnt/c/Users/conor/Google Drive/PhD/H&amp;E_Cores/...</td>\n    </tr>\n    <tr>\n      <th>30</th>\n      <td>/mnt/c/Users/conor/OneDrive/Desktop/temp_extra...</td>\n      <td>TMA_1.2_A11</td>\n      <td>/mnt/c/Users/conor/Google Drive/PHD/Project wi...</td>\n      <td>A11</td>\n      <td>1.2</td>\n      <td>/mnt/c/Users/conor/Google Drive/PhD/H&amp;E_Cores/...</td>\n    </tr>\n    <tr>\n      <th>31</th>\n      <td>/mnt/c/Users/conor/OneDrive/Desktop/temp_extra...</td>\n      <td>TMA_1.2_A12</td>\n      <td>/mnt/c/Users/conor/Google Drive/PHD/Project wi...</td>\n      <td>A12</td>\n      <td>1.2</td>\n      <td>/mnt/c/Users/conor/Google Drive/PhD/H&amp;E_Cores/...</td>\n    </tr>\n    <tr>\n      <th>32</th>\n      <td>/mnt/c/Users/conor/OneDrive/Desktop/temp_extra...</td>\n      <td>TMA_1.2_A14</td>\n      <td>/mnt/c/Users/conor/Google Drive/PHD/Project wi...</td>\n      <td>A14</td>\n      <td>1.2</td>\n      <td>/mnt/c/Users/conor/Google Drive/PhD/H&amp;E_Cores/...</td>\n    </tr>\n    <tr>\n      <th>33</th>\n      <td>/mnt/c/Users/conor/OneDrive/Desktop/temp_extra...</td>\n      <td>TMA_1.2_A8</td>\n      <td>/mnt/c/Users/conor/Google Drive/PHD/Project wi...</td>\n      <td>A8</td>\n      <td>1.2</td>\n      <td>/mnt/c/Users/conor/Google Drive/PhD/H&amp;E_Cores/...</td>\n    </tr>\n    <tr>\n      <th>34</th>\n      <td>/mnt/c/Users/conor/OneDrive/Desktop/temp_extra...</td>\n      <td>TMA_1.2_A9</td>\n      <td>/mnt/c/Users/conor/Google Drive/PHD/Project wi...</td>\n      <td>A9</td>\n      <td>1.2</td>\n      <td>/mnt/c/Users/conor/Google Drive/PhD/H&amp;E_Cores/...</td>\n    </tr>\n    <tr>\n      <th>35</th>\n      <td>/mnt/c/Users/conor/OneDrive/Desktop/temp_extra...</td>\n      <td>TMA_1.2_B10</td>\n      <td>/mnt/c/Users/conor/Google Drive/PHD/Project wi...</td>\n      <td>B10</td>\n      <td>1.2</td>\n      <td>/mnt/c/Users/conor/Google Drive/PhD/H&amp;E_Cores/...</td>\n    </tr>\n    <tr>\n      <th>36</th>\n      <td>/mnt/c/Users/conor/OneDrive/Desktop/temp_extra...</td>\n      <td>TMA_1.2_B14</td>\n      <td>/mnt/c/Users/conor/Google Drive/PHD/Project wi...</td>\n      <td>B14</td>\n      <td>1.2</td>\n      <td>/mnt/c/Users/conor/Google Drive/PhD/H&amp;E_Cores/...</td>\n    </tr>\n    <tr>\n      <th>37</th>\n      <td>/mnt/c/Users/conor/OneDrive/Desktop/temp_extra...</td>\n      <td>TMA_1.2_B8</td>\n      <td>/mnt/c/Users/conor/Google Drive/PHD/Project wi...</td>\n      <td>B8</td>\n      <td>1.2</td>\n      <td>/mnt/c/Users/conor/Google Drive/PhD/H&amp;E_Cores/...</td>\n    </tr>\n    <tr>\n      <th>38</th>\n      <td>/mnt/c/Users/conor/OneDrive/Desktop/temp_extra...</td>\n      <td>TMA_1.2_C10</td>\n      <td>/mnt/c/Users/conor/Google Drive/PHD/Project wi...</td>\n      <td>C10</td>\n      <td>1.2</td>\n      <td>/mnt/c/Users/conor/Google Drive/PhD/H&amp;E_Cores/...</td>\n    </tr>\n    <tr>\n      <th>39</th>\n      <td>/mnt/c/Users/conor/OneDrive/Desktop/temp_extra...</td>\n      <td>TMA_1.2_C11</td>\n      <td>/mnt/c/Users/conor/Google Drive/PHD/Project wi...</td>\n      <td>C11</td>\n      <td>1.2</td>\n      <td>/mnt/c/Users/conor/Google Drive/PhD/H&amp;E_Cores/...</td>\n    </tr>\n    <tr>\n      <th>40</th>\n      <td>/mnt/c/Users/conor/OneDrive/Desktop/temp_extra...</td>\n      <td>TMA_1.2_C12</td>\n      <td>/mnt/c/Users/conor/Google Drive/PHD/Project wi...</td>\n      <td>C12</td>\n      <td>1.2</td>\n      <td>/mnt/c/Users/conor/Google Drive/PhD/H&amp;E_Cores/...</td>\n    </tr>\n    <tr>\n      <th>41</th>\n      <td>/mnt/c/Users/conor/OneDrive/Desktop/temp_extra...</td>\n      <td>TMA_1.2_C14</td>\n      <td>/mnt/c/Users/conor/Google Drive/PHD/Project wi...</td>\n      <td>C14</td>\n      <td>1.2</td>\n      <td>/mnt/c/Users/conor/Google Drive/PhD/H&amp;E_Cores/...</td>\n    </tr>\n    <tr>\n      <th>42</th>\n      <td>/mnt/c/Users/conor/OneDrive/Desktop/temp_extra...</td>\n      <td>TMA_1.2_C8</td>\n      <td>/mnt/c/Users/conor/Google Drive/PHD/Project wi...</td>\n      <td>C8</td>\n      <td>1.2</td>\n      <td>/mnt/c/Users/conor/Google Drive/PhD/H&amp;E_Cores/...</td>\n    </tr>\n    <tr>\n      <th>43</th>\n      <td>/mnt/c/Users/conor/OneDrive/Desktop/temp_extra...</td>\n      <td>TMA_1.2_C9</td>\n      <td>/mnt/c/Users/conor/Google Drive/PHD/Project wi...</td>\n      <td>C9</td>\n      <td>1.2</td>\n      <td>/mnt/c/Users/conor/Google Drive/PhD/H&amp;E_Cores/...</td>\n    </tr>\n    <tr>\n      <th>44</th>\n      <td>/mnt/c/Users/conor/OneDrive/Desktop/temp_extra...</td>\n      <td>TMA_1.2_D10</td>\n      <td>/mnt/c/Users/conor/Google Drive/PHD/Project wi...</td>\n      <td>D10</td>\n      <td>1.2</td>\n      <td>/mnt/c/Users/conor/Google Drive/PhD/H&amp;E_Cores/...</td>\n    </tr>\n    <tr>\n      <th>45</th>\n      <td>/mnt/c/Users/conor/OneDrive/Desktop/temp_extra...</td>\n      <td>TMA_1.2_D11</td>\n      <td>/mnt/c/Users/conor/Google Drive/PHD/Project wi...</td>\n      <td>D11</td>\n      <td>1.2</td>\n      <td>/mnt/c/Users/conor/Google Drive/PhD/H&amp;E_Cores/...</td>\n    </tr>\n    <tr>\n      <th>46</th>\n      <td>/mnt/c/Users/conor/OneDrive/Desktop/temp_extra...</td>\n      <td>TMA_1.2_D12</td>\n      <td>/mnt/c/Users/conor/Google Drive/PHD/Project wi...</td>\n      <td>D12</td>\n      <td>1.2</td>\n      <td>/mnt/c/Users/conor/Google Drive/PhD/H&amp;E_Cores/...</td>\n    </tr>\n    <tr>\n      <th>47</th>\n      <td>/mnt/c/Users/conor/OneDrive/Desktop/temp_extra...</td>\n      <td>TMA_1.2_D14</td>\n      <td>/mnt/c/Users/conor/Google Drive/PHD/Project wi...</td>\n      <td>D14</td>\n      <td>1.2</td>\n      <td>/mnt/c/Users/conor/Google Drive/PhD/H&amp;E_Cores/...</td>\n    </tr>\n    <tr>\n      <th>48</th>\n      <td>/mnt/c/Users/conor/OneDrive/Desktop/temp_extra...</td>\n      <td>TMA_1.2_D8</td>\n      <td>/mnt/c/Users/conor/Google Drive/PHD/Project wi...</td>\n      <td>D8</td>\n      <td>1.2</td>\n      <td>/mnt/c/Users/conor/Google Drive/PhD/H&amp;E_Cores/...</td>\n    </tr>\n    <tr>\n      <th>49</th>\n      <td>/mnt/c/Users/conor/OneDrive/Desktop/temp_extra...</td>\n      <td>TMA_1.2_D9</td>\n      <td>/mnt/c/Users/conor/Google Drive/PHD/Project wi...</td>\n      <td>D9</td>\n      <td>1.2</td>\n      <td>/mnt/c/Users/conor/Google Drive/PhD/H&amp;E_Cores/...</td>\n    </tr>\n    <tr>\n      <th>50</th>\n      <td>/mnt/c/Users/conor/OneDrive/Desktop/temp_extra...</td>\n      <td>TMA_1.2_E8</td>\n      <td>/mnt/c/Users/conor/Google Drive/PHD/Project wi...</td>\n      <td>E8</td>\n      <td>1.2</td>\n      <td>/mnt/c/Users/conor/Google Drive/PhD/H&amp;E_Cores/...</td>\n    </tr>\n    <tr>\n      <th>51</th>\n      <td>/mnt/c/Users/conor/OneDrive/Desktop/temp_extra...</td>\n      <td>TMA_1.2_E9</td>\n      <td>/mnt/c/Users/conor/Google Drive/PHD/Project wi...</td>\n      <td>E9</td>\n      <td>1.2</td>\n      <td>/mnt/c/Users/conor/Google Drive/PhD/H&amp;E_Cores/...</td>\n    </tr>\n  </tbody>\n</table>\n</div>"
     },
     "metadata": {},
     "execution_count": 35
    }
   ],
   "source": [
    "master"
   ]
  },
  {
   "cell_type": "code",
   "execution_count": 36,
   "metadata": {},
   "outputs": [],
   "source": [
    "master.to_excel('./Master.xlsx')"
   ]
  }
 ]
}
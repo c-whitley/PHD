{
 "metadata": {
  "language_info": {
   "codemirror_mode": {
    "name": "ipython",
    "version": 3
   },
   "file_extension": ".py",
   "mimetype": "text/x-python",
   "name": "python",
   "nbconvert_exporter": "python",
   "pygments_lexer": "ipython3",
   "version": "3.8.0"
  },
  "orig_nbformat": 2,
  "kernelspec": {
   "name": "python3",
   "display_name": "Python 3.8.0 64-bit ('PHD': conda)"
  },
  "interpreter": {
   "hash": "eaa00e46caca58319536d0032152cd5eb76a9b72fbc9a3af026d9e62232c8082"
  }
 },
 "nbformat": 4,
 "nbformat_minor": 2,
 "cells": [
  {
   "cell_type": "code",
   "execution_count": 1,
   "metadata": {},
   "outputs": [],
   "source": [
    "import pandas as pd\n",
    "import numpy as np\n",
    "import matplotlib.pyplot as plt\n",
    "import matplotlib as mpl\n",
    "\n",
    "import glob\n",
    "from tqdm.notebook import tqdm"
   ]
  },
  {
   "cell_type": "code",
   "execution_count": 2,
   "metadata": {},
   "outputs": [],
   "source": [
    "ftir_cubes = glob.glob('/mnt/c/Users/conor/OneDrive/Desktop/temp_extraction_new/*.hdf')"
   ]
  },
  {
   "cell_type": "code",
   "execution_count": 9,
   "metadata": {},
   "outputs": [
    {
     "output_type": "execute_result",
     "data": {
      "text/plain": [
       "'/mnt/c/Users/conor/OneDrive/Desktop/temp_extraction_new/TMA_2_I2.hdf'"
      ]
     },
     "metadata": {},
     "execution_count": 9
    }
   ],
   "source": [
    "file_name"
   ]
  },
  {
   "cell_type": "code",
   "execution_count": 10,
   "metadata": {},
   "outputs": [
    {
     "output_type": "display_data",
     "data": {
      "text/plain": "HBox(children=(HTML(value=''), FloatProgress(value=0.0, max=116.0), HTML(value='')))",
      "application/vnd.jupyter.widget-view+json": {
       "version_major": 2,
       "version_minor": 0,
       "model_id": "ffd3363bf02f4bc1bdb7dede9e9b68b1"
      }
     },
     "metadata": {}
    },
    {
     "output_type": "stream",
     "name": "stdout",
     "text": [
      "\n"
     ]
    }
   ],
   "source": [
    "rows = []\n",
    "\n",
    "for file_name in tqdm(ftir_cubes):\n",
    "\n",
    "    try:\n",
    "\n",
    "        data = pd.read_hdf(file_name, key='Data')\n",
    "        tma = data.reset_index()['TMA'][0]\n",
    "\n",
    "        row = dict()\n",
    "        row['TMA'] = tma\n",
    "        row['ANN'] = f\"/mnt/c/Users/conor/Google Drive/PHD/Project with Janet/Label_Images/{tma}/{file_name.split('/')[-1][:-4]}.png\"\n",
    "        row['REF'] = tma + file_name.split('/')[-1][5:-4]\n",
    "        row['FTIR'] = file_name\n",
    "\n",
    "        rows.append(row)\n",
    "\n",
    "    except OSError as e:\n",
    "\n",
    "        print(f'HDF read error: {file_name}')\n",
    "\n",
    "rows = pd.DataFrame(rows)"
   ]
  },
  {
   "cell_type": "code",
   "execution_count": 12,
   "metadata": {},
   "outputs": [],
   "source": [
    "HE_ims = pd.DataFrame(np.array(glob.glob('/mnt/c/Users/conor/Google Drive/PhD/H&E_Cores/TMA_[1,2]_*/*.png')), columns=['HE'])\n",
    "\n",
    "HE_ims['REF'] = HE_ims.apply(lambda row: row['HE'].split('/')[-2][:5] + '_'+row['HE'].split('/')[-1][:-4], axis=1)\n",
    "\n",
    "merged = HE_ims.merge(pd.DataFrame(rows), left_on='REF', right_on='REF')\n",
    "merged.to_excel('./master_xl.xlsx')"
   ]
  },
  {
   "cell_type": "code",
   "execution_count": 11,
   "metadata": {},
   "outputs": [],
   "source": [
    "names = [name.split(\"\\\\\")[-1][:-4] for name in np.unique(HE_ims)]"
   ]
  },
  {
   "cell_type": "code",
   "execution_count": 12,
   "metadata": {},
   "outputs": [
    {
     "output_type": "error",
     "ename": "NameError",
     "evalue": "name 'annotations' is not defined",
     "traceback": [
      "\u001b[0;31m---------------------------------------------------------------------------\u001b[0m",
      "\u001b[0;31mNameError\u001b[0m                                 Traceback (most recent call last)",
      "\u001b[0;32m<ipython-input-12-9e274a87a249>\u001b[0m in \u001b[0;36m<module>\u001b[0;34m\u001b[0m\n\u001b[0;32m----> 1\u001b[0;31m \u001b[0mmaster\u001b[0m \u001b[0;34m=\u001b[0m \u001b[0mpd\u001b[0m\u001b[0;34m.\u001b[0m\u001b[0mDataFrame\u001b[0m\u001b[0;34m(\u001b[0m\u001b[0mzip\u001b[0m\u001b[0;34m(\u001b[0m\u001b[0mftir_cubes\u001b[0m\u001b[0;34m,\u001b[0m \u001b[0mannotations\u001b[0m\u001b[0;34m.\u001b[0m\u001b[0mkeys\u001b[0m\u001b[0;34m(\u001b[0m\u001b[0;34m)\u001b[0m\u001b[0;34m,\u001b[0m \u001b[0mannotations\u001b[0m\u001b[0;34m.\u001b[0m\u001b[0mvalues\u001b[0m\u001b[0;34m(\u001b[0m\u001b[0;34m)\u001b[0m\u001b[0;34m)\u001b[0m\u001b[0;34m,\u001b[0m \u001b[0mcolumns\u001b[0m\u001b[0;34m=\u001b[0m\u001b[0;34m[\u001b[0m\u001b[0;34m'FTIR'\u001b[0m\u001b[0;34m,\u001b[0m \u001b[0;34m'REF'\u001b[0m\u001b[0;34m,\u001b[0m \u001b[0;34m'ANNOTATION'\u001b[0m\u001b[0;34m]\u001b[0m\u001b[0;34m)\u001b[0m\u001b[0;34m\u001b[0m\u001b[0;34m\u001b[0m\u001b[0m\n\u001b[0m",
      "\u001b[0;31mNameError\u001b[0m: name 'annotations' is not defined"
     ]
    }
   ],
   "source": [
    "master = pd.DataFrame(zip(ftir_cubes, annotations.keys(), annotations.values()), columns=['FTIR', 'REF', 'ANNOTATION'])"
   ]
  },
  {
   "cell_type": "code",
   "execution_count": 12,
   "metadata": {},
   "outputs": [],
   "source": [
    "master['CORE'] = master.apply(lambda row: row[1].split('_')[-1], axis=1)\n",
    "master['DISK'] = master.apply(lambda row: row[1].split('_')[1], axis=1)"
   ]
  },
  {
   "cell_type": "code",
   "execution_count": 13,
   "metadata": {},
   "outputs": [],
   "source": [
    "he = pd.DataFrame(HE_ims, columns=['HE'])"
   ]
  },
  {
   "cell_type": "code",
   "execution_count": 14,
   "metadata": {},
   "outputs": [],
   "source": [
    "he['CORE'] = he.apply(lambda row: row['HE'].split('/')[-1], axis=1)"
   ]
  },
  {
   "cell_type": "code",
   "execution_count": 15,
   "metadata": {},
   "outputs": [
    {
     "output_type": "execute_result",
     "data": {
      "text/plain": [
       "'/mnt/c/Users/conor/OneDrive/Desktop/temp_extraction_test/TMA_1.1_A1.hdf'"
      ]
     },
     "metadata": {},
     "execution_count": 15
    }
   ],
   "source": [
    "master['FTIR'][0]"
   ]
  },
  {
   "cell_type": "code",
   "execution_count": 16,
   "metadata": {
    "tags": []
   },
   "outputs": [
    {
     "output_type": "stream",
     "name": "stdout",
     "text": [
      "Opened: /mnt/c/Users/conor/Google Drive/PhD/H&E_Cores/TMA_1_1/A10.png\nOpened: /mnt/c/Users/conor/Google Drive/PhD/H&E_Cores/TMA_1_1/A11.png\nOpened: /mnt/c/Users/conor/Google Drive/PhD/H&E_Cores/TMA_1_1/A12.png\nOpened: /mnt/c/Users/conor/Google Drive/PhD/H&E_Cores/TMA_1_1/A14.png\nOpened: /mnt/c/Users/conor/Google Drive/PhD/H&E_Cores/TMA_1_1/A5.png\nOpened: /mnt/c/Users/conor/Google Drive/PhD/H&E_Cores/TMA_1_1/A6.png\nOpened: /mnt/c/Users/conor/Google Drive/PhD/H&E_Cores/TMA_1_1/A7.png\nOpened: /mnt/c/Users/conor/Google Drive/PhD/H&E_Cores/TMA_1_1/A8.png\nOpened: /mnt/c/Users/conor/Google Drive/PhD/H&E_Cores/TMA_1_1/A9.png\nOpened: /mnt/c/Users/conor/Google Drive/PhD/H&E_Cores/TMA_1_1/C10.png\nOpened: /mnt/c/Users/conor/Google Drive/PhD/H&E_Cores/TMA_1_1/C11.png\nOpened: /mnt/c/Users/conor/Google Drive/PhD/H&E_Cores/TMA_1_1/C12.png\nOpened: /mnt/c/Users/conor/Google Drive/PhD/H&E_Cores/TMA_1_1/C14.png\nOpened: /mnt/c/Users/conor/Google Drive/PhD/H&E_Cores/TMA_1_1/C3.png\nOpened: /mnt/c/Users/conor/Google Drive/PhD/H&E_Cores/TMA_1_1/C4.png\nOpened: /mnt/c/Users/conor/Google Drive/PhD/H&E_Cores/TMA_1_1/C5.png\nOpened: /mnt/c/Users/conor/Google Drive/PhD/H&E_Cores/TMA_1_1/C6.png\nOpened: /mnt/c/Users/conor/Google Drive/PhD/H&E_Cores/TMA_1_1/C7.png\nOpened: /mnt/c/Users/conor/Google Drive/PhD/H&E_Cores/TMA_1_1/C8.png\nOpened: /mnt/c/Users/conor/Google Drive/PhD/H&E_Cores/TMA_1_1/C9.png\nOpened: /mnt/c/Users/conor/Google Drive/PhD/H&E_Cores/TMA_1_1/D10.png\nOpened: /mnt/c/Users/conor/Google Drive/PhD/H&E_Cores/TMA_1_1/D11.png\nOpened: /mnt/c/Users/conor/Google Drive/PhD/H&E_Cores/TMA_1_1/D12.png\nOpened: /mnt/c/Users/conor/Google Drive/PhD/H&E_Cores/TMA_1_1/D14.png\nOpened: /mnt/c/Users/conor/Google Drive/PhD/H&E_Cores/TMA_1_1/D3.png\nOpened: /mnt/c/Users/conor/Google Drive/PhD/H&E_Cores/TMA_1_1/D4.png\nOpened: /mnt/c/Users/conor/Google Drive/PhD/H&E_Cores/TMA_1_1/D5.png\nOpened: /mnt/c/Users/conor/Google Drive/PhD/H&E_Cores/TMA_1_1/D7.png\nOpened: /mnt/c/Users/conor/Google Drive/PhD/H&E_Cores/TMA_1_1/D8.png\nOpened: /mnt/c/Users/conor/Google Drive/PhD/H&E_Cores/TMA_1_1/D9.png\nOpened: /mnt/c/Users/conor/Google Drive/PhD/H&E_Cores/TMA_1_1/E2.png\nOpened: /mnt/c/Users/conor/Google Drive/PhD/H&E_Cores/TMA_1_4/A10.png\nOpened: /mnt/c/Users/conor/Google Drive/PhD/H&E_Cores/TMA_1_4/A11.png\nOpened: /mnt/c/Users/conor/Google Drive/PhD/H&E_Cores/TMA_1_4/A12.png\nOpened: /mnt/c/Users/conor/Google Drive/PhD/H&E_Cores/TMA_1_4/A14.png\nOpened: /mnt/c/Users/conor/Google Drive/PhD/H&E_Cores/TMA_1_4/A5.png\nOpened: /mnt/c/Users/conor/Google Drive/PhD/H&E_Cores/TMA_1_4/A6.png\nOpened: /mnt/c/Users/conor/Google Drive/PhD/H&E_Cores/TMA_1_4/A7.png\nOpened: /mnt/c/Users/conor/Google Drive/PhD/H&E_Cores/TMA_1_4/A8.png\nOpened: /mnt/c/Users/conor/Google Drive/PhD/H&E_Cores/TMA_1_4/A9.png\nOpened: /mnt/c/Users/conor/Google Drive/PhD/H&E_Cores/TMA_1_4/B10.png\nOpened: /mnt/c/Users/conor/Google Drive/PhD/H&E_Cores/TMA_1_4/B14.png\nOpened: /mnt/c/Users/conor/Google Drive/PhD/H&E_Cores/TMA_1_4/C10.png\nOpened: /mnt/c/Users/conor/Google Drive/PhD/H&E_Cores/TMA_1_4/C11.png\nOpened: /mnt/c/Users/conor/Google Drive/PhD/H&E_Cores/TMA_1_4/C12.png\nOpened: /mnt/c/Users/conor/Google Drive/PhD/H&E_Cores/TMA_1_4/C14.png\nOpened: /mnt/c/Users/conor/Google Drive/PhD/H&E_Cores/TMA_1_4/C2.png\nOpened: /mnt/c/Users/conor/Google Drive/PhD/H&E_Cores/TMA_1_4/C4.png\nOpened: /mnt/c/Users/conor/Google Drive/PhD/H&E_Cores/TMA_1_4/C5.png\nOpened: /mnt/c/Users/conor/Google Drive/PhD/H&E_Cores/TMA_1_4/C7.png\nOpened: /mnt/c/Users/conor/Google Drive/PhD/H&E_Cores/TMA_1_4/C8.png\nOpened: /mnt/c/Users/conor/Google Drive/PhD/H&E_Cores/TMA_1_4/C9.png\nOpened: /mnt/c/Users/conor/Google Drive/PhD/H&E_Cores/TMA_1_4/D10.png\nOpened: /mnt/c/Users/conor/Google Drive/PhD/H&E_Cores/TMA_1_4/D11.png\nOpened: /mnt/c/Users/conor/Google Drive/PhD/H&E_Cores/TMA_1_4/D12.png\nOpened: /mnt/c/Users/conor/Google Drive/PhD/H&E_Cores/TMA_1_4/D4.png\nOpened: /mnt/c/Users/conor/Google Drive/PhD/H&E_Cores/TMA_1_4/D6.png\nOpened: /mnt/c/Users/conor/Google Drive/PhD/H&E_Cores/TMA_1_4/E5.png\nOpened: /mnt/c/Users/conor/Google Drive/PhD/H&E_Cores/TMA_1_4/E7.png\nOpened: /mnt/c/Users/conor/Google Drive/PhD/H&E_Cores/TMA_1_4/E8.png\nOpened: /mnt/c/Users/conor/Google Drive/PhD/H&E_Cores/TMA_1_4/E9.png\nOpened: /mnt/c/Users/conor/Google Drive/PhD/H&E_Cores/TMA_2_1/A1.png\nOpened: /mnt/c/Users/conor/Google Drive/PhD/H&E_Cores/TMA_2_1/A10.png\nOpened: /mnt/c/Users/conor/Google Drive/PhD/H&E_Cores/TMA_2_1/A11.png\nOpened: /mnt/c/Users/conor/Google Drive/PhD/H&E_Cores/TMA_2_1/A12.png\nOpened: /mnt/c/Users/conor/Google Drive/PhD/H&E_Cores/TMA_2_1/A14.png\nOpened: /mnt/c/Users/conor/Google Drive/PhD/H&E_Cores/TMA_2_1/A2.png\nOpened: /mnt/c/Users/conor/Google Drive/PhD/H&E_Cores/TMA_2_1/A5.png\nOpened: /mnt/c/Users/conor/Google Drive/PhD/H&E_Cores/TMA_2_1/A6.png\nOpened: /mnt/c/Users/conor/Google Drive/PhD/H&E_Cores/TMA_2_1/A7.png\nOpened: /mnt/c/Users/conor/Google Drive/PhD/H&E_Cores/TMA_2_1/A8.png\nOpened: /mnt/c/Users/conor/Google Drive/PhD/H&E_Cores/TMA_2_1/A9.png\nOpened: /mnt/c/Users/conor/Google Drive/PhD/H&E_Cores/TMA_2_1/B1.png\nOpened: /mnt/c/Users/conor/Google Drive/PhD/H&E_Cores/TMA_2_1/B10.png\nOpened: /mnt/c/Users/conor/Google Drive/PhD/H&E_Cores/TMA_2_1/B14.png\nOpened: /mnt/c/Users/conor/Google Drive/PhD/H&E_Cores/TMA_2_1/B4.png\nOpened: /mnt/c/Users/conor/Google Drive/PhD/H&E_Cores/TMA_2_1/B5.png\nOpened: /mnt/c/Users/conor/Google Drive/PhD/H&E_Cores/TMA_2_1/B6.png\nOpened: /mnt/c/Users/conor/Google Drive/PhD/H&E_Cores/TMA_2_1/B7.png\nOpened: /mnt/c/Users/conor/Google Drive/PhD/H&E_Cores/TMA_2_1/B8.png\nOpened: /mnt/c/Users/conor/Google Drive/PhD/H&E_Cores/TMA_2_1/C1.png\nOpened: /mnt/c/Users/conor/Google Drive/PhD/H&E_Cores/TMA_2_1/C10.png\nOpened: /mnt/c/Users/conor/Google Drive/PhD/H&E_Cores/TMA_2_1/C11.png\nOpened: /mnt/c/Users/conor/Google Drive/PhD/H&E_Cores/TMA_2_1/C14.png\nOpened: /mnt/c/Users/conor/Google Drive/PhD/H&E_Cores/TMA_2_1/C3.png\nOpened: /mnt/c/Users/conor/Google Drive/PhD/H&E_Cores/TMA_2_1/C4.png\nOpened: /mnt/c/Users/conor/Google Drive/PhD/H&E_Cores/TMA_2_1/C5.png\nOpened: /mnt/c/Users/conor/Google Drive/PhD/H&E_Cores/TMA_2_1/C6.png\nOpened: /mnt/c/Users/conor/Google Drive/PhD/H&E_Cores/TMA_2_1/C7.png\nOpened: /mnt/c/Users/conor/Google Drive/PhD/H&E_Cores/TMA_2_1/C8.png\nOpened: /mnt/c/Users/conor/Google Drive/PhD/H&E_Cores/TMA_2_1/C9.png\nOpened: /mnt/c/Users/conor/Google Drive/PhD/H&E_Cores/TMA_2_1/D10.png\nOpened: /mnt/c/Users/conor/Google Drive/PhD/H&E_Cores/TMA_2_1/D11.png\nOpened: /mnt/c/Users/conor/Google Drive/PhD/H&E_Cores/TMA_2_1/D14.png\nOpened: /mnt/c/Users/conor/Google Drive/PhD/H&E_Cores/TMA_2_1/D2.png\nOpened: /mnt/c/Users/conor/Google Drive/PhD/H&E_Cores/TMA_2_1/D3.png\nOpened: /mnt/c/Users/conor/Google Drive/PhD/H&E_Cores/TMA_2_1/D4.png\nOpened: /mnt/c/Users/conor/Google Drive/PhD/H&E_Cores/TMA_2_1/D5.png\nOpened: /mnt/c/Users/conor/Google Drive/PhD/H&E_Cores/TMA_2_1/D6.png\nOpened: /mnt/c/Users/conor/Google Drive/PhD/H&E_Cores/TMA_2_1/D7.png\nOpened: /mnt/c/Users/conor/Google Drive/PhD/H&E_Cores/TMA_2_1/D9.png\nOpened: /mnt/c/Users/conor/Google Drive/PhD/H&E_Cores/TMA_2_1/E1.png\nOpened: /mnt/c/Users/conor/Google Drive/PhD/H&E_Cores/TMA_2_1/E2.png\nOpened: /mnt/c/Users/conor/Google Drive/PhD/H&E_Cores/TMA_2_1/E3.png\nOpened: /mnt/c/Users/conor/Google Drive/PhD/H&E_Cores/TMA_2_1/E5.png\nOpened: /mnt/c/Users/conor/Google Drive/PhD/H&E_Cores/TMA_2_1/E7.png\nOpened: /mnt/c/Users/conor/Google Drive/PhD/H&E_Cores/TMA_2_1/E8.png\nOpened: /mnt/c/Users/conor/Google Drive/PhD/H&E_Cores/TMA_2_1/E9.png\nOpened: /mnt/c/Users/conor/Google Drive/PhD/H&E_Cores/TMA_2_4/A1.png\nOpened: /mnt/c/Users/conor/Google Drive/PhD/H&E_Cores/TMA_2_4/A10.png\nOpened: /mnt/c/Users/conor/Google Drive/PhD/H&E_Cores/TMA_2_4/A11.png\nOpened: /mnt/c/Users/conor/Google Drive/PhD/H&E_Cores/TMA_2_4/A12.png\nOpened: /mnt/c/Users/conor/Google Drive/PhD/H&E_Cores/TMA_2_4/A14.png\nOpened: /mnt/c/Users/conor/Google Drive/PhD/H&E_Cores/TMA_2_4/A2.png\nOpened: /mnt/c/Users/conor/Google Drive/PhD/H&E_Cores/TMA_2_4/A5.png\nOpened: /mnt/c/Users/conor/Google Drive/PhD/H&E_Cores/TMA_2_4/A6.png\nOpened: /mnt/c/Users/conor/Google Drive/PhD/H&E_Cores/TMA_2_4/A7.png\nOpened: /mnt/c/Users/conor/Google Drive/PhD/H&E_Cores/TMA_2_4/A8.png\nOpened: /mnt/c/Users/conor/Google Drive/PhD/H&E_Cores/TMA_2_4/A9.png\nOpened: /mnt/c/Users/conor/Google Drive/PhD/H&E_Cores/TMA_2_4/B1.png\nOpened: /mnt/c/Users/conor/Google Drive/PhD/H&E_Cores/TMA_2_4/B10.png\nOpened: /mnt/c/Users/conor/Google Drive/PhD/H&E_Cores/TMA_2_4/B14.png\nOpened: /mnt/c/Users/conor/Google Drive/PhD/H&E_Cores/TMA_2_4/B4.png\nOpened: /mnt/c/Users/conor/Google Drive/PhD/H&E_Cores/TMA_2_4/B5.png\nOpened: /mnt/c/Users/conor/Google Drive/PhD/H&E_Cores/TMA_2_4/B6.png\nOpened: /mnt/c/Users/conor/Google Drive/PhD/H&E_Cores/TMA_2_4/B7.png\nOpened: /mnt/c/Users/conor/Google Drive/PhD/H&E_Cores/TMA_2_4/B8.png\nOpened: /mnt/c/Users/conor/Google Drive/PhD/H&E_Cores/TMA_2_4/C1.png\nOpened: /mnt/c/Users/conor/Google Drive/PhD/H&E_Cores/TMA_2_4/C10.png\nOpened: /mnt/c/Users/conor/Google Drive/PhD/H&E_Cores/TMA_2_4/C11.png\nOpened: /mnt/c/Users/conor/Google Drive/PhD/H&E_Cores/TMA_2_4/C14.png\nOpened: /mnt/c/Users/conor/Google Drive/PhD/H&E_Cores/TMA_2_4/C3.png\nOpened: /mnt/c/Users/conor/Google Drive/PhD/H&E_Cores/TMA_2_4/C4.png\nOpened: /mnt/c/Users/conor/Google Drive/PhD/H&E_Cores/TMA_2_4/C5.png\nOpened: /mnt/c/Users/conor/Google Drive/PhD/H&E_Cores/TMA_2_4/C6.png\nOpened: /mnt/c/Users/conor/Google Drive/PhD/H&E_Cores/TMA_2_4/C7.png\nOpened: /mnt/c/Users/conor/Google Drive/PhD/H&E_Cores/TMA_2_4/C8.png\nOpened: /mnt/c/Users/conor/Google Drive/PhD/H&E_Cores/TMA_2_4/C9.png\nOpened: /mnt/c/Users/conor/Google Drive/PhD/H&E_Cores/TMA_2_4/D10.png\nOpened: /mnt/c/Users/conor/Google Drive/PhD/H&E_Cores/TMA_2_4/D11.png\nOpened: /mnt/c/Users/conor/Google Drive/PhD/H&E_Cores/TMA_2_4/D14.png\nOpened: /mnt/c/Users/conor/Google Drive/PhD/H&E_Cores/TMA_2_4/D2.png\nOpened: /mnt/c/Users/conor/Google Drive/PhD/H&E_Cores/TMA_2_4/D3.png\nOpened: /mnt/c/Users/conor/Google Drive/PhD/H&E_Cores/TMA_2_4/D4.png\nOpened: /mnt/c/Users/conor/Google Drive/PhD/H&E_Cores/TMA_2_4/D5.png\nOpened: /mnt/c/Users/conor/Google Drive/PhD/H&E_Cores/TMA_2_4/D6.png\nOpened: /mnt/c/Users/conor/Google Drive/PhD/H&E_Cores/TMA_2_4/D7.png\nOpened: /mnt/c/Users/conor/Google Drive/PhD/H&E_Cores/TMA_2_4/D9.png\nOpened: /mnt/c/Users/conor/Google Drive/PhD/H&E_Cores/TMA_2_4/E1.png\nOpened: /mnt/c/Users/conor/Google Drive/PhD/H&E_Cores/TMA_2_4/E2.png\nOpened: /mnt/c/Users/conor/Google Drive/PhD/H&E_Cores/TMA_2_4/E3.png\nOpened: /mnt/c/Users/conor/Google Drive/PhD/H&E_Cores/TMA_2_4/E5.png\nOpened: /mnt/c/Users/conor/Google Drive/PhD/H&E_Cores/TMA_2_4/E7.png\nOpened: /mnt/c/Users/conor/Google Drive/PhD/H&E_Cores/TMA_2_4/E8.png\nOpened: /mnt/c/Users/conor/Google Drive/PhD/H&E_Cores/TMA_2_4/E9.png\n"
     ]
    }
   ],
   "source": [
    "HE_files=dict()\n",
    "\n",
    "for i, row in he.iterrows():\n",
    "    for i in range(1,3):\n",
    "\n",
    "        core=row['CORE']\n",
    "        hefile = row['HE']\n",
    "\n",
    "        fn = f'/mnt/c/Users/conor/OneDrive/Desktop/temp_extraction_test/TMA_1.{i}_{core[:-4]}.hdf' \n",
    "\n",
    "        try:\n",
    "            open(fn)\n",
    "            print(f'Opened: {hefile}')\n",
    "\n",
    "            HE_files[core[:-4]] = row['HE']\n",
    "\n",
    "        except FileNotFoundError:\n",
    "            pass\n",
    "            #print('File not found')"
   ]
  },
  {
   "cell_type": "code",
   "execution_count": 17,
   "metadata": {},
   "outputs": [],
   "source": [
    "hen=pd.DataFrame(zip(HE_files.keys(), HE_files.values()), columns=['CORE', 'HE'])"
   ]
  },
  {
   "cell_type": "code",
   "execution_count": 18,
   "metadata": {},
   "outputs": [],
   "source": [
    "master = master.merge(hen, left_on='CORE', right_on='CORE')"
   ]
  },
  {
   "cell_type": "code",
   "execution_count": 20,
   "metadata": {},
   "outputs": [],
   "source": [
    "master.to_excel('./Master.xlsx')"
   ]
  },
  {
   "cell_type": "code",
   "execution_count": null,
   "metadata": {},
   "outputs": [],
   "source": []
  }
 ]
}
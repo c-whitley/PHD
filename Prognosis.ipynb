{
 "cells": [
  {
   "cell_type": "code",
   "execution_count": 1,
   "metadata": {
    "tags": []
   },
   "outputs": [],
   "source": [
    "%load_ext autoreload\n",
    "\n",
    "%autoreload 2"
   ]
  },
  {
   "cell_type": "code",
   "execution_count": 2,
   "metadata": {},
   "outputs": [],
   "source": [
    "from tqdm.notebook import tqdm\n",
    "import time"
   ]
  },
  {
   "cell_type": "code",
   "execution_count": 3,
   "metadata": {},
   "outputs": [],
   "source": [
    "import numpy as np\n",
    "import pandas as pd\n",
    "import matplotlib.pyplot as plt\n",
    "import seaborn as sns\n",
    "\n",
    "from datetime import datetime\n",
    "\n",
    "import glob\n",
    "import os\n",
    "import sys\n",
    "\n",
    "from tqdm.notebook import tqdm\n",
    "from datetime import datetime\n",
    "\n",
    "import Cross_Eval\n",
    "from Preprocessing_Methods import *"
   ]
  },
  {
   "cell_type": "code",
   "execution_count": 4,
   "metadata": {},
   "outputs": [],
   "source": [
    "from sklearn.pipeline import Pipeline\n",
    "\n",
    "from sklearn.preprocessing import FunctionTransformer, RobustScaler, MinMaxScaler, StandardScaler, LabelBinarizer\n",
    "from sklearn.preprocessing import normalize, robust_scale, minmax_scale\n",
    "\n",
    "from sklearn.preprocessing import OneHotEncoder,KBinsDiscretizer\n",
    "from sklearn.compose import ColumnTransformer\n",
    "\n",
    "from sklearn.decomposition import PCA\n",
    "from sklearn.discriminant_analysis import LinearDiscriminantAnalysis\n",
    "from sklearn.ensemble import RandomForestClassifier\n",
    "from sklearn.linear_model import LogisticRegression\n",
    "\n",
    "from sklearn.calibration import CalibratedClassifierCV\n",
    "\n",
    "from sklearn.kernel_approximation import RBFSampler, Nystroem\n",
    "\n",
    "from sklearn.model_selection import train_test_split\n",
    "from sklearn.model_selection import cross_validate, GroupKFold, KFold\n",
    "\n",
    "from sklearn.metrics import make_scorer, confusion_matrix, roc_auc_score, roc_curve, plot_confusion_matrix, f1_score, recall_score, accuracy_score\n",
    "\n",
    "from sklearn.multiclass import OneVsRestClassifier\n",
    "\n",
    "from mlxtend.evaluate import scoring"
   ]
  },
  {
   "cell_type": "markdown",
   "metadata": {},
   "source": [
    "# Preparing Metadata/Labels"
   ]
  },
  {
   "cell_type": "code",
   "execution_count": 5,
   "metadata": {},
   "outputs": [],
   "source": [
    "all_files = pd.DataFrame(glob.glob(\"/mnt/d/Conor/Extracted_Spectra/*.pickle\"), columns = [\"hdf_loc\"])\n",
    "all_files = pd.DataFrame(glob.glob(\"/mnt/c/Users/conor/Google Drive/PhD/Project with Janet/Extracted_Spectra/*.pickle\"),columns = [\"hdf_loc\"])\n",
    "\n",
    "all_files[\"TMA\"] = all_files.apply(lambda row: float(row[\"hdf_loc\"].split(\"/\")[-1][4:5]), axis = 1)\n",
    "all_files[\"Core\"] = all_files.apply(lambda row: row[\"hdf_loc\"].split(\"/\")[-1][8:-7], axis = 1)"
   ]
  },
  {
   "cell_type": "code",
   "execution_count": 6,
   "metadata": {
    "tags": []
   },
   "outputs": [
    {
     "output_type": "stream",
     "name": "stdout",
     "text": "(79, 18)\n"
    }
   ],
   "source": [
    "try:\n",
    "    metadata = pd.read_excel(\"/mnt/b/Google_Drive/PhD/Project with Janet/Scoring grids Advancing Front (TMAs 1-3).xlsx\"\n",
    "              , sheet_name = \"reformatted\")\n",
    "\n",
    "except:\n",
    "    metadata = pd.read_excel(\"/mnt/c/Users/conor/Google Drive/PhD/Project with Janet/Scoring grids Advancing Front (TMAs 1-3).xlsx\"\n",
    "              , sheet_name = \"reformatted\")\n",
    "\n",
    "metadata = metadata.merge(all_files, left_on = [\"TMA\", \"TMA site\"], right_on = [\"TMA\", \"Core\"])\n",
    "print(metadata.shape)"
   ]
  },
  {
   "cell_type": "code",
   "execution_count": 7,
   "metadata": {},
   "outputs": [],
   "source": [
    "try: new_metadata = pd.read_excel(\"/mnt/b/Google_Drive/PhD/Project with Janet/new_metadata.xlsx\")\n",
    "except: new_metadata = pd.read_excel(\"/mnt/c/Users/conor/Google Drive/PhD/Project with Janet/new_metadata.xlsx\")"
   ]
  },
  {
   "cell_type": "code",
   "execution_count": 8,
   "metadata": {},
   "outputs": [],
   "source": [
    "new_metadata[\"DODvsAlive\"] = new_metadata[\"OUTCOME\"].map(\n",
    "                            {\"DOD\" : \"DOD\",\n",
    "                             \"alive\": \"Other\",\n",
    "                             \"died other\" : \"Other\",\n",
    "                             \"died\" : \"Other\",\n",
    "                             \"Died\" : \"Other\",\n",
    "                             \"Died other\": \"Other\"})\n",
    "\n",
    "new_metadata[\"DiedvsAlive\"] = new_metadata[\"OUTCOME\"].map(\n",
    "                            {\"DOD\" : \"Died\",\n",
    "                             \"alive\": \"Alive\",\n",
    "                             \"died other\" : \"Died\",\n",
    "                             \"died\" : \"Died\",\n",
    "                             \"Died\" : \"Died\",\n",
    "                             \"Died other\": \"Died\"})\n",
    "\n",
    "new_metadata[\"ECS\"] = new_metadata[\"ECS\"].map(\n",
    "                            {\"y\" : \"Y\",\n",
    "                             \"Y\": \"Y\",\n",
    "                             \"N\" : \"N\",\n",
    "                             \"n\" : \"N\"})"
   ]
  },
  {
   "cell_type": "code",
   "execution_count": 9,
   "metadata": {},
   "outputs": [],
   "source": [
    "new_metadata['lifespan'] = new_metadata['Date of death'] - new_metadata['date of diag']\n",
    "new_metadata[\"Years\"] = new_metadata['Date of death'].dt.year - new_metadata['date of diag'].dt.year"
   ]
  },
  {
   "cell_type": "raw",
   "metadata": {},
   "source": [
    "# Did the patient survive beyond n years?\n",
    "\n",
    "new_metadata[\"2year\"] = new_metadata.apply(lambda row: True if (row['Date of death'] - row['date of diag']).days<730 and row.OUTCOME not in ['Alive',\"alive\"] else False, axis = 1)\n",
    "new_metadata[\"5year\"] = new_metadata.apply(lambda row: True if 730<(row['lifespan']).days<1825 and row.OUTCOME not in ['Alive',\"alive\"] else False, axis = 1)"
   ]
  },
  {
   "cell_type": "code",
   "execution_count": 10,
   "metadata": {},
   "outputs": [],
   "source": [
    "# Did the patient survive beyond n years?\n",
    "for i in np.arange(0,5,1):\n",
    "    \n",
    "    s = (365*i)\n",
    "    e = (365*(i+2))\n",
    "    \n",
    "    new_metadata[f\"{i+1}year\"] = new_metadata.apply(lambda row: True if s<(row['lifespan']).days<e and row.OUTCOME not in ['Alive',\"alive\"] else False, axis = 1)"
   ]
  },
  {
   "cell_type": "code",
   "execution_count": 11,
   "metadata": {},
   "outputs": [],
   "source": [
    "new_metadata[f\"1yeardeath\"] = new_metadata.apply(lambda row: True if (row['lifespan']).days<365 and row.OUTCOME not in ['Alive',\"alive\"] else False, axis = 1)"
   ]
  },
  {
   "cell_type": "code",
   "execution_count": 12,
   "metadata": {},
   "outputs": [],
   "source": [
    "bins = np.arange(0, new_metadata[\"Years\"].max(),2)\n",
    "\n",
    "new_metadata[\"2years\"] = np.digitize(new_metadata[\"Years\"], bins)"
   ]
  },
  {
   "cell_type": "markdown",
   "metadata": {},
   "source": [
    "Import ASMA data"
   ]
  },
  {
   "cell_type": "code",
   "execution_count": 13,
   "metadata": {},
   "outputs": [],
   "source": [
    "try: asma = pd.read_excel(\"/mnt/b/Google_Drive/PhD/Project with Janet/ASMA.xlsx\", sheet_name = \"Sheet3\")\n",
    "except: asma = pd.read_excel(\"/mnt/c/Users/conor/Google Drive/PhD/Project with Janet/ASMA.xlsx\", sheet_name = \"Sheet3\")\n",
    "new_metadata = new_metadata.merge(asma, left_on = \"Patient_Number\", right_on = \"Case ID\")"
   ]
  },
  {
   "cell_type": "markdown",
   "metadata": {},
   "source": [
    "# Import data and preprocess"
   ]
  },
  {
   "cell_type": "code",
   "execution_count": 14,
   "metadata": {},
   "outputs": [],
   "source": [
    "from Preprocessing_Methods import *\n",
    "\n",
    "import sys\n",
    "\n",
    "sys.path.append(\"/mnt/b/Git_Projects/Biospec_Analysis/UNET\")"
   ]
  },
  {
   "cell_type": "code",
   "execution_count": 15,
   "metadata": {
    "tags": []
   },
   "outputs": [
    {
     "output_type": "display_data",
     "data": {
      "text/plain": "HBox(children=(FloatProgress(value=0.0, max=79.0), HTML(value='')))",
      "application/vnd.jupyter.widget-view+json": {
       "version_major": 2,
       "version_minor": 0,
       "model_id": "b65be1b702e84143bded5540a39685e5"
      }
     },
     "metadata": {}
    },
    {
     "output_type": "stream",
     "name": "stdout",
     "text": "\n"
    }
   ],
   "source": [
    "select = ['Tumour']\n",
    "\n",
    "total = pd.concat({\"{}-{}\".format(row[\"TMA\"], row[\"Core\"]):\n",
    "                   truncate(pd.read_pickle(row[\"hdf_loc\"]).query(f\"Tissue in {select}\").sample(frac = 1), start = 1000, end = 1800)\n",
    "                   for name, row in tqdm(list(metadata.iterrows()))}, names = [\"ID\"])\n",
    "\n",
    "wn_cols = total.columns\n",
    "#total = total.merge(new_metadata, left_on = \"Patient nu \", right_on = \"Patient Number\")\n",
    "#total = total.drop(np.nan, level = \"Overall Death \")"
   ]
  },
  {
   "cell_type": "code",
   "execution_count": null,
   "metadata": {},
   "outputs": [],
   "source": [
    "total = total.reset_index().merge(new_metadata, left_on = \"Patient nu \", right_on = \"Patient_Number\", how = 'inner')\n",
    "total = total.set_index(list(total.columns.difference(wn_cols))).dropna(axis = 1)"
   ]
  },
  {
   "cell_type": "code",
   "execution_count": 19,
   "metadata": {},
   "outputs": [
    {
     "output_type": "execute_result",
     "data": {
      "text/plain": "                                                                                                                                                                                                                                                                                                                                                                                                                                                                                                                                                                                                                                                    998.0   \\\n1year 1yeardeath 2year 2years 3year 4year 5year ASMA Annotation_loc                                     Case ID Core_x Core_y Corrected Site AJCC/UICC DODvsAlive Date of death Date of recurrence Diagnosis Age DiedvsAlive ECS_x ECS_y ID      Last seen/reviewed Last updated N stage OUTCOME OUTCOME.updated by Overall Death  Pathogical Stage Patient nu  Patient_Number Recurrence? T stage TMA TMA site Tissue Years advancing front type age @ diag date of diag diff envi_loc                                           gender_x gender_y lifespan pN pT radiotherapy recurrence site       site of recurrence stage survival (months)             \nTrue  False      True  1      False False False L    /mnt/b/Google_Drive/PhD/Project with Janet/Labe... 3338    F7     F7     oral tongue              DOD        2008-07-06    2008-01-23         50.0          Died        no    N     1.0-F7  NaT                2012-10-04   2c      DOD     CBarry             yes            pT2N2cMx         3338        3338           yes         2       1.0 F7       Tumour 1.0   non-cohesive         50         2007-06-18   well /mnt/b/Google_Drive/PhD/Project with Janet/Kohl... m        m        384 days 2c 2  yes          yes        tongue     Local only         4     12.0               0.124605   \n                                                                                                                                                                                                                                                                                                                                                                                                                                                                                                                                                                                                                               12.0               0.111135   \nFalse False      False 6      False False False H    /mnt/b/Google_Drive/PhD/Project with Janet/Labe... 3288    F5     F5     oral tongue              Other      NaT           2009-10-14         29.0          Alive       no    N     1.0-F5  2019-10-23         2020-04-01   0       alive   FGD                no             pT1N0Mx          3288        3288           yes         1       1.0 F5       Tumour NaN   non-cohesive         29         2006-11-13   well /mnt/b/Google_Drive/PhD/Project with Janet/Kohl... m        m        NaT      0  1  yes          yes        tongue     regional only      1     131.0              0.033823   \n                                                     /mnt/b/Google_Drive/PhD/Project with Janet/Labe... 3277    G11    G11    oropharynx               Other      NaT           NaT                56.0          Alive       no    N     2.0-G11 2014-12-03         2020-04-01   2b      alive   FGD                no             pT2N2bM0         3277        3277           no          2       2.0 G11      Tumour NaN   islands/islets       56         2006-10-19   mod  /mnt/b/Google_Drive/PhD/Project with Janet/Kohl... m        m        NaT      2b 2  yes          no         oropharynx NaN                4a    99.0               0.084905   \n                 True  2      True  False False I    /mnt/b/Google_Drive/PhD/Project with Janet/Labe... 3270    C1     C1     other                    Other      2009-06-08    NaT                58.0          Died        yes   Y     2.0-C1  NaT                2019-05-16   2b      Died    FG                 yes            pT2N2b           3270        3270           no          2       2.0 C1       Tumour 3.0   non-cohesive         58         2006-09-14   mod  /mnt/b/Google_Drive/PhD/Project with Janet/Kohl... m        m        998 days 2b 2  yes          no         other      NaN                4a    33.0               0.043976   \n\n                                                                                                                                                                                                                                                                                                                                                                                                                                                                                                                                                                                                                                                    1002.0  \\\n1year 1yeardeath 2year 2years 3year 4year 5year ASMA Annotation_loc                                     Case ID Core_x Core_y Corrected Site AJCC/UICC DODvsAlive Date of death Date of recurrence Diagnosis Age DiedvsAlive ECS_x ECS_y ID      Last seen/reviewed Last updated N stage OUTCOME OUTCOME.updated by Overall Death  Pathogical Stage Patient nu  Patient_Number Recurrence? T stage TMA TMA site Tissue Years advancing front type age @ diag date of diag diff envi_loc                                           gender_x gender_y lifespan pN pT radiotherapy recurrence site       site of recurrence stage survival (months)             \nTrue  False      True  1      False False False L    /mnt/b/Google_Drive/PhD/Project with Janet/Labe... 3338    F7     F7     oral tongue              DOD        2008-07-06    2008-01-23         50.0          Died        no    N     1.0-F7  NaT                2012-10-04   2c      DOD     CBarry             yes            pT2N2cMx         3338        3338           yes         2       1.0 F7       Tumour 1.0   non-cohesive         50         2007-06-18   well /mnt/b/Google_Drive/PhD/Project with Janet/Kohl... m        m        384 days 2c 2  yes          yes        tongue     Local only         4     12.0               0.122672   \n                                                                                                                                                                                                                                                                                                                                                                                                                                                                                                                                                                                                                               12.0               0.114026   \nFalse False      False 6      False False False H    /mnt/b/Google_Drive/PhD/Project with Janet/Labe... 3288    F5     F5     oral tongue              Other      NaT           2009-10-14         29.0          Alive       no    N     1.0-F5  2019-10-23         2020-04-01   0       alive   FGD                no             pT1N0Mx          3288        3288           yes         1       1.0 F5       Tumour NaN   non-cohesive         29         2006-11-13   well /mnt/b/Google_Drive/PhD/Project with Janet/Kohl... m        m        NaT      0  1  yes          yes        tongue     regional only      1     131.0              0.033855   \n                                                     /mnt/b/Google_Drive/PhD/Project with Janet/Labe... 3277    G11    G11    oropharynx               Other      NaT           NaT                56.0          Alive       no    N     2.0-G11 2014-12-03         2020-04-01   2b      alive   FGD                no             pT2N2bM0         3277        3277           no          2       2.0 G11      Tumour NaN   islands/islets       56         2006-10-19   mod  /mnt/b/Google_Drive/PhD/Project with Janet/Kohl... m        m        NaT      2b 2  yes          no         oropharynx NaN                4a    99.0               0.095389   \n                 True  2      True  False False I    /mnt/b/Google_Drive/PhD/Project with Janet/Labe... 3270    C1     C1     other                    Other      2009-06-08    NaT                58.0          Died        yes   Y     2.0-C1  NaT                2019-05-16   2b      Died    FG                 yes            pT2N2b           3270        3270           no          2       2.0 C1       Tumour 3.0   non-cohesive         58         2006-09-14   mod  /mnt/b/Google_Drive/PhD/Project with Janet/Kohl... m        m        998 days 2b 2  yes          no         other      NaN                4a    33.0               0.045400   \n\n                                                                                                                                                                                                                                                                                                                                                                                                                                                                                                                                                                                                                                                    1006.0  \\\n1year 1yeardeath 2year 2years 3year 4year 5year ASMA Annotation_loc                                     Case ID Core_x Core_y Corrected Site AJCC/UICC DODvsAlive Date of death Date of recurrence Diagnosis Age DiedvsAlive ECS_x ECS_y ID      Last seen/reviewed Last updated N stage OUTCOME OUTCOME.updated by Overall Death  Pathogical Stage Patient nu  Patient_Number Recurrence? T stage TMA TMA site Tissue Years advancing front type age @ diag date of diag diff envi_loc                                           gender_x gender_y lifespan pN pT radiotherapy recurrence site       site of recurrence stage survival (months)             \nTrue  False      True  1      False False False L    /mnt/b/Google_Drive/PhD/Project with Janet/Labe... 3338    F7     F7     oral tongue              DOD        2008-07-06    2008-01-23         50.0          Died        no    N     1.0-F7  NaT                2012-10-04   2c      DOD     CBarry             yes            pT2N2cMx         3338        3338           yes         2       1.0 F7       Tumour 1.0   non-cohesive         50         2007-06-18   well /mnt/b/Google_Drive/PhD/Project with Janet/Kohl... m        m        384 days 2c 2  yes          yes        tongue     Local only         4     12.0               0.122680   \n                                                                                                                                                                                                                                                                                                                                                                                                                                                                                                                                                                                                                               12.0               0.117156   \nFalse False      False 6      False False False H    /mnt/b/Google_Drive/PhD/Project with Janet/Labe... 3288    F5     F5     oral tongue              Other      NaT           2009-10-14         29.0          Alive       no    N     1.0-F5  2019-10-23         2020-04-01   0       alive   FGD                no             pT1N0Mx          3288        3288           yes         1       1.0 F5       Tumour NaN   non-cohesive         29         2006-11-13   well /mnt/b/Google_Drive/PhD/Project with Janet/Kohl... m        m        NaT      0  1  yes          yes        tongue     regional only      1     131.0              0.035356   \n                                                     /mnt/b/Google_Drive/PhD/Project with Janet/Labe... 3277    G11    G11    oropharynx               Other      NaT           NaT                56.0          Alive       no    N     2.0-G11 2014-12-03         2020-04-01   2b      alive   FGD                no             pT2N2bM0         3277        3277           no          2       2.0 G11      Tumour NaN   islands/islets       56         2006-10-19   mod  /mnt/b/Google_Drive/PhD/Project with Janet/Kohl... m        m        NaT      2b 2  yes          no         oropharynx NaN                4a    99.0               0.104240   \n                 True  2      True  False False I    /mnt/b/Google_Drive/PhD/Project with Janet/Labe... 3270    C1     C1     other                    Other      2009-06-08    NaT                58.0          Died        yes   Y     2.0-C1  NaT                2019-05-16   2b      Died    FG                 yes            pT2N2b           3270        3270           no          2       2.0 C1       Tumour 3.0   non-cohesive         58         2006-09-14   mod  /mnt/b/Google_Drive/PhD/Project with Janet/Kohl... m        m        998 days 2b 2  yes          no         other      NaN                4a    33.0               0.047015   \n\n                                                                                                                                                                                                                                                                                                                                                                                                                                                                                                                                                                                                                                                    1010.0  \\\n1year 1yeardeath 2year 2years 3year 4year 5year ASMA Annotation_loc                                     Case ID Core_x Core_y Corrected Site AJCC/UICC DODvsAlive Date of death Date of recurrence Diagnosis Age DiedvsAlive ECS_x ECS_y ID      Last seen/reviewed Last updated N stage OUTCOME OUTCOME.updated by Overall Death  Pathogical Stage Patient nu  Patient_Number Recurrence? T stage TMA TMA site Tissue Years advancing front type age @ diag date of diag diff envi_loc                                           gender_x gender_y lifespan pN pT radiotherapy recurrence site       site of recurrence stage survival (months)             \nTrue  False      True  1      False False False L    /mnt/b/Google_Drive/PhD/Project with Janet/Labe... 3338    F7     F7     oral tongue              DOD        2008-07-06    2008-01-23         50.0          Died        no    N     1.0-F7  NaT                2012-10-04   2c      DOD     CBarry             yes            pT2N2cMx         3338        3338           yes         2       1.0 F7       Tumour 1.0   non-cohesive         50         2007-06-18   well /mnt/b/Google_Drive/PhD/Project with Janet/Kohl... m        m        384 days 2c 2  yes          yes        tongue     Local only         4     12.0               0.124237   \n                                                                                                                                                                                                                                                                                                                                                                                                                                                                                                                                                                                                                               12.0               0.120476   \nFalse False      False 6      False False False H    /mnt/b/Google_Drive/PhD/Project with Janet/Labe... 3288    F5     F5     oral tongue              Other      NaT           2009-10-14         29.0          Alive       no    N     1.0-F5  2019-10-23         2020-04-01   0       alive   FGD                no             pT1N0Mx          3288        3288           yes         1       1.0 F5       Tumour NaN   non-cohesive         29         2006-11-13   well /mnt/b/Google_Drive/PhD/Project with Janet/Kohl... m        m        NaT      0  1  yes          yes        tongue     regional only      1     131.0              0.037993   \n                                                     /mnt/b/Google_Drive/PhD/Project with Janet/Labe... 3277    G11    G11    oropharynx               Other      NaT           NaT                56.0          Alive       no    N     2.0-G11 2014-12-03         2020-04-01   2b      alive   FGD                no             pT2N2bM0         3277        3277           no          2       2.0 G11      Tumour NaN   islands/islets       56         2006-10-19   mod  /mnt/b/Google_Drive/PhD/Project with Janet/Kohl... m        m        NaT      2b 2  yes          no         oropharynx NaN                4a    99.0               0.111814   \n                 True  2      True  False False I    /mnt/b/Google_Drive/PhD/Project with Janet/Labe... 3270    C1     C1     other                    Other      2009-06-08    NaT                58.0          Died        yes   Y     2.0-C1  NaT                2019-05-16   2b      Died    FG                 yes            pT2N2b           3270        3270           no          2       2.0 C1       Tumour 3.0   non-cohesive         58         2006-09-14   mod  /mnt/b/Google_Drive/PhD/Project with Janet/Kohl... m        m        998 days 2b 2  yes          no         other      NaN                4a    33.0               0.048749   \n\n                                                                                                                                                                                                                                                                                                                                                                                                                                                                                                                                                                                                                                                    1014.0  \\\n1year 1yeardeath 2year 2years 3year 4year 5year ASMA Annotation_loc                                     Case ID Core_x Core_y Corrected Site AJCC/UICC DODvsAlive Date of death Date of recurrence Diagnosis Age DiedvsAlive ECS_x ECS_y ID      Last seen/reviewed Last updated N stage OUTCOME OUTCOME.updated by Overall Death  Pathogical Stage Patient nu  Patient_Number Recurrence? T stage TMA TMA site Tissue Years advancing front type age @ diag date of diag diff envi_loc                                           gender_x gender_y lifespan pN pT radiotherapy recurrence site       site of recurrence stage survival (months)             \nTrue  False      True  1      False False False L    /mnt/b/Google_Drive/PhD/Project with Janet/Labe... 3338    F7     F7     oral tongue              DOD        2008-07-06    2008-01-23         50.0          Died        no    N     1.0-F7  NaT                2012-10-04   2c      DOD     CBarry             yes            pT2N2cMx         3338        3338           yes         2       1.0 F7       Tumour 1.0   non-cohesive         50         2007-06-18   well /mnt/b/Google_Drive/PhD/Project with Janet/Kohl... m        m        384 days 2c 2  yes          yes        tongue     Local only         4     12.0               0.126947   \n                                                                                                                                                                                                                                                                                                                                                                                                                                                                                                                                                                                                                               12.0               0.123936   \nFalse False      False 6      False False False H    /mnt/b/Google_Drive/PhD/Project with Janet/Labe... 3288    F5     F5     oral tongue              Other      NaT           2009-10-14         29.0          Alive       no    N     1.0-F5  2019-10-23         2020-04-01   0       alive   FGD                no             pT1N0Mx          3288        3288           yes         1       1.0 F5       Tumour NaN   non-cohesive         29         2006-11-13   well /mnt/b/Google_Drive/PhD/Project with Janet/Kohl... m        m        NaT      0  1  yes          yes        tongue     regional only      1     131.0              0.041432   \n                                                     /mnt/b/Google_Drive/PhD/Project with Janet/Labe... 3277    G11    G11    oropharynx               Other      NaT           NaT                56.0          Alive       no    N     2.0-G11 2014-12-03         2020-04-01   2b      alive   FGD                no             pT2N2bM0         3277        3277           no          2       2.0 G11      Tumour NaN   islands/islets       56         2006-10-19   mod  /mnt/b/Google_Drive/PhD/Project with Janet/Kohl... m        m        NaT      2b 2  yes          no         oropharynx NaN                4a    99.0               0.118466   \n                 True  2      True  False False I    /mnt/b/Google_Drive/PhD/Project with Janet/Labe... 3270    C1     C1     other                    Other      2009-06-08    NaT                58.0          Died        yes   Y     2.0-C1  NaT                2019-05-16   2b      Died    FG                 yes            pT2N2b           3270        3270           no          2       2.0 C1       Tumour 3.0   non-cohesive         58         2006-09-14   mod  /mnt/b/Google_Drive/PhD/Project with Janet/Kohl... m        m        998 days 2b 2  yes          no         other      NaN                4a    33.0               0.050525   \n\n                                                                                                                                                                                                                                                                                                                                                                                                                                                                                                                                                                                                                                                    1018.0  \\\n1year 1yeardeath 2year 2years 3year 4year 5year ASMA Annotation_loc                                     Case ID Core_x Core_y Corrected Site AJCC/UICC DODvsAlive Date of death Date of recurrence Diagnosis Age DiedvsAlive ECS_x ECS_y ID      Last seen/reviewed Last updated N stage OUTCOME OUTCOME.updated by Overall Death  Pathogical Stage Patient nu  Patient_Number Recurrence? T stage TMA TMA site Tissue Years advancing front type age @ diag date of diag diff envi_loc                                           gender_x gender_y lifespan pN pT radiotherapy recurrence site       site of recurrence stage survival (months)             \nTrue  False      True  1      False False False L    /mnt/b/Google_Drive/PhD/Project with Janet/Labe... 3338    F7     F7     oral tongue              DOD        2008-07-06    2008-01-23         50.0          Died        no    N     1.0-F7  NaT                2012-10-04   2c      DOD     CBarry             yes            pT2N2cMx         3338        3338           yes         2       1.0 F7       Tumour 1.0   non-cohesive         50         2007-06-18   well /mnt/b/Google_Drive/PhD/Project with Janet/Kohl... m        m        384 days 2c 2  yes          yes        tongue     Local only         4     12.0               0.130419   \n                                                                                                                                                                                                                                                                                                                                                                                                                                                                                                                                                                                                                               12.0               0.127485   \nFalse False      False 6      False False False H    /mnt/b/Google_Drive/PhD/Project with Janet/Labe... 3288    F5     F5     oral tongue              Other      NaT           2009-10-14         29.0          Alive       no    N     1.0-F5  2019-10-23         2020-04-01   0       alive   FGD                no             pT1N0Mx          3288        3288           yes         1       1.0 F5       Tumour NaN   non-cohesive         29         2006-11-13   well /mnt/b/Google_Drive/PhD/Project with Janet/Kohl... m        m        NaT      0  1  yes          yes        tongue     regional only      1     131.0              0.045340   \n                                                     /mnt/b/Google_Drive/PhD/Project with Janet/Labe... 3277    G11    G11    oropharynx               Other      NaT           NaT                56.0          Alive       no    N     2.0-G11 2014-12-03         2020-04-01   2b      alive   FGD                no             pT2N2bM0         3277        3277           no          2       2.0 G11      Tumour NaN   islands/islets       56         2006-10-19   mod  /mnt/b/Google_Drive/PhD/Project with Janet/Kohl... m        m        NaT      2b 2  yes          no         oropharynx NaN                4a    99.0               0.124552   \n                 True  2      True  False False I    /mnt/b/Google_Drive/PhD/Project with Janet/Labe... 3270    C1     C1     other                    Other      2009-06-08    NaT                58.0          Died        yes   Y     2.0-C1  NaT                2019-05-16   2b      Died    FG                 yes            pT2N2b           3270        3270           no          2       2.0 C1       Tumour 3.0   non-cohesive         58         2006-09-14   mod  /mnt/b/Google_Drive/PhD/Project with Janet/Kohl... m        m        998 days 2b 2  yes          no         other      NaN                4a    33.0               0.052269   \n\n                                                                                                                                                                                                                                                                                                                                                                                                                                                                                                                                                                                                                                                    1022.0  \\\n1year 1yeardeath 2year 2years 3year 4year 5year ASMA Annotation_loc                                     Case ID Core_x Core_y Corrected Site AJCC/UICC DODvsAlive Date of death Date of recurrence Diagnosis Age DiedvsAlive ECS_x ECS_y ID      Last seen/reviewed Last updated N stage OUTCOME OUTCOME.updated by Overall Death  Pathogical Stage Patient nu  Patient_Number Recurrence? T stage TMA TMA site Tissue Years advancing front type age @ diag date of diag diff envi_loc                                           gender_x gender_y lifespan pN pT radiotherapy recurrence site       site of recurrence stage survival (months)             \nTrue  False      True  1      False False False L    /mnt/b/Google_Drive/PhD/Project with Janet/Labe... 3338    F7     F7     oral tongue              DOD        2008-07-06    2008-01-23         50.0          Died        no    N     1.0-F7  NaT                2012-10-04   2c      DOD     CBarry             yes            pT2N2cMx         3338        3338           yes         2       1.0 F7       Tumour 1.0   non-cohesive         50         2007-06-18   well /mnt/b/Google_Drive/PhD/Project with Janet/Kohl... m        m        384 days 2c 2  yes          yes        tongue     Local only         4     12.0               0.132544   \n                                                                                                                                                                                                                                                                                                                                                                                                                                                                                                                                                                                                                               12.0               0.130242   \nFalse False      False 6      False False False H    /mnt/b/Google_Drive/PhD/Project with Janet/Labe... 3288    F5     F5     oral tongue              Other      NaT           2009-10-14         29.0          Alive       no    N     1.0-F5  2019-10-23         2020-04-01   0       alive   FGD                no             pT1N0Mx          3288        3288           yes         1       1.0 F5       Tumour NaN   non-cohesive         29         2006-11-13   well /mnt/b/Google_Drive/PhD/Project with Janet/Kohl... m        m        NaT      0  1  yes          yes        tongue     regional only      1     131.0              0.047823   \n                                                     /mnt/b/Google_Drive/PhD/Project with Janet/Labe... 3277    G11    G11    oropharynx               Other      NaT           NaT                56.0          Alive       no    N     2.0-G11 2014-12-03         2020-04-01   2b      alive   FGD                no             pT2N2bM0         3277        3277           no          2       2.0 G11      Tumour NaN   islands/islets       56         2006-10-19   mod  /mnt/b/Google_Drive/PhD/Project with Janet/Kohl... m        m        NaT      2b 2  yes          no         oropharynx NaN                4a    99.0               0.131144   \n                 True  2      True  False False I    /mnt/b/Google_Drive/PhD/Project with Janet/Labe... 3270    C1     C1     other                    Other      2009-06-08    NaT                58.0          Died        yes   Y     2.0-C1  NaT                2019-05-16   2b      Died    FG                 yes            pT2N2b           3270        3270           no          2       2.0 C1       Tumour 3.0   non-cohesive         58         2006-09-14   mod  /mnt/b/Google_Drive/PhD/Project with Janet/Kohl... m        m        998 days 2b 2  yes          no         other      NaN                4a    33.0               0.053673   \n\n                                                                                                                                                                                                                                                                                                                                                                                                                                                                                                                                                                                                                                                    1025.0  \\\n1year 1yeardeath 2year 2years 3year 4year 5year ASMA Annotation_loc                                     Case ID Core_x Core_y Corrected Site AJCC/UICC DODvsAlive Date of death Date of recurrence Diagnosis Age DiedvsAlive ECS_x ECS_y ID      Last seen/reviewed Last updated N stage OUTCOME OUTCOME.updated by Overall Death  Pathogical Stage Patient nu  Patient_Number Recurrence? T stage TMA TMA site Tissue Years advancing front type age @ diag date of diag diff envi_loc                                           gender_x gender_y lifespan pN pT radiotherapy recurrence site       site of recurrence stage survival (months)             \nTrue  False      True  1      False False False L    /mnt/b/Google_Drive/PhD/Project with Janet/Labe... 3338    F7     F7     oral tongue              DOD        2008-07-06    2008-01-23         50.0          Died        no    N     1.0-F7  NaT                2012-10-04   2c      DOD     CBarry             yes            pT2N2cMx         3338        3338           yes         2       1.0 F7       Tumour 1.0   non-cohesive         50         2007-06-18   well /mnt/b/Google_Drive/PhD/Project with Janet/Kohl... m        m        384 days 2c 2  yes          yes        tongue     Local only         4     12.0               0.136252   \n                                                                                                                                                                                                                                                                                                                                                                                                                                                                                                                                                                                                                               12.0               0.133824   \nFalse False      False 6      False False False H    /mnt/b/Google_Drive/PhD/Project with Janet/Labe... 3288    F5     F5     oral tongue              Other      NaT           2009-10-14         29.0          Alive       no    N     1.0-F5  2019-10-23         2020-04-01   0       alive   FGD                no             pT1N0Mx          3288        3288           yes         1       1.0 F5       Tumour NaN   non-cohesive         29         2006-11-13   well /mnt/b/Google_Drive/PhD/Project with Janet/Kohl... m        m        NaT      0  1  yes          yes        tongue     regional only      1     131.0              0.051209   \n                                                     /mnt/b/Google_Drive/PhD/Project with Janet/Labe... 3277    G11    G11    oropharynx               Other      NaT           NaT                56.0          Alive       no    N     2.0-G11 2014-12-03         2020-04-01   2b      alive   FGD                no             pT2N2bM0         3277        3277           no          2       2.0 G11      Tumour NaN   islands/islets       56         2006-10-19   mod  /mnt/b/Google_Drive/PhD/Project with Janet/Kohl... m        m        NaT      2b 2  yes          no         oropharynx NaN                4a    99.0               0.137530   \n                 True  2      True  False False I    /mnt/b/Google_Drive/PhD/Project with Janet/Labe... 3270    C1     C1     other                    Other      2009-06-08    NaT                58.0          Died        yes   Y     2.0-C1  NaT                2019-05-16   2b      Died    FG                 yes            pT2N2b           3270        3270           no          2       2.0 C1       Tumour 3.0   non-cohesive         58         2006-09-14   mod  /mnt/b/Google_Drive/PhD/Project with Janet/Kohl... m        m        998 days 2b 2  yes          no         other      NaN                4a    33.0               0.055079   \n\n                                                                                                                                                                                                                                                                                                                                                                                                                                                                                                                                                                                                                                                    1029.0  \\\n1year 1yeardeath 2year 2years 3year 4year 5year ASMA Annotation_loc                                     Case ID Core_x Core_y Corrected Site AJCC/UICC DODvsAlive Date of death Date of recurrence Diagnosis Age DiedvsAlive ECS_x ECS_y ID      Last seen/reviewed Last updated N stage OUTCOME OUTCOME.updated by Overall Death  Pathogical Stage Patient nu  Patient_Number Recurrence? T stage TMA TMA site Tissue Years advancing front type age @ diag date of diag diff envi_loc                                           gender_x gender_y lifespan pN pT radiotherapy recurrence site       site of recurrence stage survival (months)             \nTrue  False      True  1      False False False L    /mnt/b/Google_Drive/PhD/Project with Janet/Labe... 3338    F7     F7     oral tongue              DOD        2008-07-06    2008-01-23         50.0          Died        no    N     1.0-F7  NaT                2012-10-04   2c      DOD     CBarry             yes            pT2N2cMx         3338        3338           yes         2       1.0 F7       Tumour 1.0   non-cohesive         50         2007-06-18   well /mnt/b/Google_Drive/PhD/Project with Janet/Kohl... m        m        384 days 2c 2  yes          yes        tongue     Local only         4     12.0               0.139690   \n                                                                                                                                                                                                                                                                                                                                                                                                                                                                                                                                                                                                                               12.0               0.137311   \nFalse False      False 6      False False False H    /mnt/b/Google_Drive/PhD/Project with Janet/Labe... 3288    F5     F5     oral tongue              Other      NaT           2009-10-14         29.0          Alive       no    N     1.0-F5  2019-10-23         2020-04-01   0       alive   FGD                no             pT1N0Mx          3288        3288           yes         1       1.0 F5       Tumour NaN   non-cohesive         29         2006-11-13   well /mnt/b/Google_Drive/PhD/Project with Janet/Kohl... m        m        NaT      0  1  yes          yes        tongue     regional only      1     131.0              0.054041   \n                                                     /mnt/b/Google_Drive/PhD/Project with Janet/Labe... 3277    G11    G11    oropharynx               Other      NaT           NaT                56.0          Alive       no    N     2.0-G11 2014-12-03         2020-04-01   2b      alive   FGD                no             pT2N2bM0         3277        3277           no          2       2.0 G11      Tumour NaN   islands/islets       56         2006-10-19   mod  /mnt/b/Google_Drive/PhD/Project with Janet/Kohl... m        m        NaT      2b 2  yes          no         oropharynx NaN                4a    99.0               0.142189   \n                 True  2      True  False False I    /mnt/b/Google_Drive/PhD/Project with Janet/Labe... 3270    C1     C1     other                    Other      2009-06-08    NaT                58.0          Died        yes   Y     2.0-C1  NaT                2019-05-16   2b      Died    FG                 yes            pT2N2b           3270        3270           no          2       2.0 C1       Tumour 3.0   non-cohesive         58         2006-09-14   mod  /mnt/b/Google_Drive/PhD/Project with Janet/Kohl... m        m        998 days 2b 2  yes          no         other      NaN                4a    33.0               0.056254   \n\n                                                                                                                                                                                                                                                                                                                                                                                                                                                                                                                                                                                                                                                    1033.0  \\\n1year 1yeardeath 2year 2years 3year 4year 5year ASMA Annotation_loc                                     Case ID Core_x Core_y Corrected Site AJCC/UICC DODvsAlive Date of death Date of recurrence Diagnosis Age DiedvsAlive ECS_x ECS_y ID      Last seen/reviewed Last updated N stage OUTCOME OUTCOME.updated by Overall Death  Pathogical Stage Patient nu  Patient_Number Recurrence? T stage TMA TMA site Tissue Years advancing front type age @ diag date of diag diff envi_loc                                           gender_x gender_y lifespan pN pT radiotherapy recurrence site       site of recurrence stage survival (months)             \nTrue  False      True  1      False False False L    /mnt/b/Google_Drive/PhD/Project with Janet/Labe... 3338    F7     F7     oral tongue              DOD        2008-07-06    2008-01-23         50.0          Died        no    N     1.0-F7  NaT                2012-10-04   2c      DOD     CBarry             yes            pT2N2cMx         3338        3338           yes         2       1.0 F7       Tumour 1.0   non-cohesive         50         2007-06-18   well /mnt/b/Google_Drive/PhD/Project with Janet/Kohl... m        m        384 days 2c 2  yes          yes        tongue     Local only         4     12.0               0.142850   \n                                                                                                                                                                                                                                                                                                                                                                                                                                                                                                                                                                                                                               12.0               0.140549   \nFalse False      False 6      False False False H    /mnt/b/Google_Drive/PhD/Project with Janet/Labe... 3288    F5     F5     oral tongue              Other      NaT           2009-10-14         29.0          Alive       no    N     1.0-F5  2019-10-23         2020-04-01   0       alive   FGD                no             pT1N0Mx          3288        3288           yes         1       1.0 F5       Tumour NaN   non-cohesive         29         2006-11-13   well /mnt/b/Google_Drive/PhD/Project with Janet/Kohl... m        m        NaT      0  1  yes          yes        tongue     regional only      1     131.0              0.056706   \n                                                     /mnt/b/Google_Drive/PhD/Project with Janet/Labe... 3277    G11    G11    oropharynx               Other      NaT           NaT                56.0          Alive       no    N     2.0-G11 2014-12-03         2020-04-01   2b      alive   FGD                no             pT2N2bM0         3277        3277           no          2       2.0 G11      Tumour NaN   islands/islets       56         2006-10-19   mod  /mnt/b/Google_Drive/PhD/Project with Janet/Kohl... m        m        NaT      2b 2  yes          no         oropharynx NaN                4a    99.0               0.148983   \n                 True  2      True  False False I    /mnt/b/Google_Drive/PhD/Project with Janet/Labe... 3270    C1     C1     other                    Other      2009-06-08    NaT                58.0          Died        yes   Y     2.0-C1  NaT                2019-05-16   2b      Died    FG                 yes            pT2N2b           3270        3270           no          2       2.0 C1       Tumour 3.0   non-cohesive         58         2006-09-14   mod  /mnt/b/Google_Drive/PhD/Project with Janet/Kohl... m        m        998 days 2b 2  yes          no         other      NaN                4a    33.0               0.057394   \n\n                                                                                                                                                                                                                                                                                                                                                                                                                                                                                                                                                                                                                                                  ...  \\\n1year 1yeardeath 2year 2years 3year 4year 5year ASMA Annotation_loc                                     Case ID Core_x Core_y Corrected Site AJCC/UICC DODvsAlive Date of death Date of recurrence Diagnosis Age DiedvsAlive ECS_x ECS_y ID      Last seen/reviewed Last updated N stage OUTCOME OUTCOME.updated by Overall Death  Pathogical Stage Patient nu  Patient_Number Recurrence? T stage TMA TMA site Tissue Years advancing front type age @ diag date of diag diff envi_loc                                           gender_x gender_y lifespan pN pT radiotherapy recurrence site       site of recurrence stage survival (months)  ...   \nTrue  False      True  1      False False False L    /mnt/b/Google_Drive/PhD/Project with Janet/Labe... 3338    F7     F7     oral tongue              DOD        2008-07-06    2008-01-23         50.0          Died        no    N     1.0-F7  NaT                2012-10-04   2c      DOD     CBarry             yes            pT2N2cMx         3338        3338           yes         2       1.0 F7       Tumour 1.0   non-cohesive         50         2007-06-18   well /mnt/b/Google_Drive/PhD/Project with Janet/Kohl... m        m        384 days 2c 2  yes          yes        tongue     Local only         4     12.0               ...   \n                                                                                                                                                                                                                                                                                                                                                                                                                                                                                                                                                                                                                               12.0               ...   \nFalse False      False 6      False False False H    /mnt/b/Google_Drive/PhD/Project with Janet/Labe... 3288    F5     F5     oral tongue              Other      NaT           2009-10-14         29.0          Alive       no    N     1.0-F5  2019-10-23         2020-04-01   0       alive   FGD                no             pT1N0Mx          3288        3288           yes         1       1.0 F5       Tumour NaN   non-cohesive         29         2006-11-13   well /mnt/b/Google_Drive/PhD/Project with Janet/Kohl... m        m        NaT      0  1  yes          yes        tongue     regional only      1     131.0              ...   \n                                                     /mnt/b/Google_Drive/PhD/Project with Janet/Labe... 3277    G11    G11    oropharynx               Other      NaT           NaT                56.0          Alive       no    N     2.0-G11 2014-12-03         2020-04-01   2b      alive   FGD                no             pT2N2bM0         3277        3277           no          2       2.0 G11      Tumour NaN   islands/islets       56         2006-10-19   mod  /mnt/b/Google_Drive/PhD/Project with Janet/Kohl... m        m        NaT      2b 2  yes          no         oropharynx NaN                4a    99.0               ...   \n                 True  2      True  False False I    /mnt/b/Google_Drive/PhD/Project with Janet/Labe... 3270    C1     C1     other                    Other      2009-06-08    NaT                58.0          Died        yes   Y     2.0-C1  NaT                2019-05-16   2b      Died    FG                 yes            pT2N2b           3270        3270           no          2       2.0 C1       Tumour 3.0   non-cohesive         58         2006-09-14   mod  /mnt/b/Google_Drive/PhD/Project with Janet/Kohl... m        m        998 days 2b 2  yes          no         other      NaN                4a    33.0               ...   \n\n                                                                                                                                                                                                                                                                                                                                                                                                                                                                                                                                                                                                                                                    1762.0  \\\n1year 1yeardeath 2year 2years 3year 4year 5year ASMA Annotation_loc                                     Case ID Core_x Core_y Corrected Site AJCC/UICC DODvsAlive Date of death Date of recurrence Diagnosis Age DiedvsAlive ECS_x ECS_y ID      Last seen/reviewed Last updated N stage OUTCOME OUTCOME.updated by Overall Death  Pathogical Stage Patient nu  Patient_Number Recurrence? T stage TMA TMA site Tissue Years advancing front type age @ diag date of diag diff envi_loc                                           gender_x gender_y lifespan pN pT radiotherapy recurrence site       site of recurrence stage survival (months)             \nTrue  False      True  1      False False False L    /mnt/b/Google_Drive/PhD/Project with Janet/Labe... 3338    F7     F7     oral tongue              DOD        2008-07-06    2008-01-23         50.0          Died        no    N     1.0-F7  NaT                2012-10-04   2c      DOD     CBarry             yes            pT2N2cMx         3338        3338           yes         2       1.0 F7       Tumour 1.0   non-cohesive         50         2007-06-18   well /mnt/b/Google_Drive/PhD/Project with Janet/Kohl... m        m        384 days 2c 2  yes          yes        tongue     Local only         4     12.0               0.022298   \n                                                                                                                                                                                                                                                                                                                                                                                                                                                                                                                                                                                                                               12.0               0.054822   \nFalse False      False 6      False False False H    /mnt/b/Google_Drive/PhD/Project with Janet/Labe... 3288    F5     F5     oral tongue              Other      NaT           2009-10-14         29.0          Alive       no    N     1.0-F5  2019-10-23         2020-04-01   0       alive   FGD                no             pT1N0Mx          3288        3288           yes         1       1.0 F5       Tumour NaN   non-cohesive         29         2006-11-13   well /mnt/b/Google_Drive/PhD/Project with Janet/Kohl... m        m        NaT      0  1  yes          yes        tongue     regional only      1     131.0             -0.042379   \n                                                     /mnt/b/Google_Drive/PhD/Project with Janet/Labe... 3277    G11    G11    oropharynx               Other      NaT           NaT                56.0          Alive       no    N     2.0-G11 2014-12-03         2020-04-01   2b      alive   FGD                no             pT2N2bM0         3277        3277           no          2       2.0 G11      Tumour NaN   islands/islets       56         2006-10-19   mod  /mnt/b/Google_Drive/PhD/Project with Janet/Kohl... m        m        NaT      2b 2  yes          no         oropharynx NaN                4a    99.0               0.065545   \n                 True  2      True  False False I    /mnt/b/Google_Drive/PhD/Project with Janet/Labe... 3270    C1     C1     other                    Other      2009-06-08    NaT                58.0          Died        yes   Y     2.0-C1  NaT                2019-05-16   2b      Died    FG                 yes            pT2N2b           3270        3270           no          2       2.0 C1       Tumour 3.0   non-cohesive         58         2006-09-14   mod  /mnt/b/Google_Drive/PhD/Project with Janet/Kohl... m        m        998 days 2b 2  yes          no         other      NaN                4a    33.0               0.051101   \n\n                                                                                                                                                                                                                                                                                                                                                                                                                                                                                                                                                                                                                                                    1766.0  \\\n1year 1yeardeath 2year 2years 3year 4year 5year ASMA Annotation_loc                                     Case ID Core_x Core_y Corrected Site AJCC/UICC DODvsAlive Date of death Date of recurrence Diagnosis Age DiedvsAlive ECS_x ECS_y ID      Last seen/reviewed Last updated N stage OUTCOME OUTCOME.updated by Overall Death  Pathogical Stage Patient nu  Patient_Number Recurrence? T stage TMA TMA site Tissue Years advancing front type age @ diag date of diag diff envi_loc                                           gender_x gender_y lifespan pN pT radiotherapy recurrence site       site of recurrence stage survival (months)             \nTrue  False      True  1      False False False L    /mnt/b/Google_Drive/PhD/Project with Janet/Labe... 3338    F7     F7     oral tongue              DOD        2008-07-06    2008-01-23         50.0          Died        no    N     1.0-F7  NaT                2012-10-04   2c      DOD     CBarry             yes            pT2N2cMx         3338        3338           yes         2       1.0 F7       Tumour 1.0   non-cohesive         50         2007-06-18   well /mnt/b/Google_Drive/PhD/Project with Janet/Kohl... m        m        384 days 2c 2  yes          yes        tongue     Local only         4     12.0               0.023199   \n                                                                                                                                                                                                                                                                                                                                                                                                                                                                                                                                                                                                                               12.0               0.054919   \nFalse False      False 6      False False False H    /mnt/b/Google_Drive/PhD/Project with Janet/Labe... 3288    F5     F5     oral tongue              Other      NaT           2009-10-14         29.0          Alive       no    N     1.0-F5  2019-10-23         2020-04-01   0       alive   FGD                no             pT1N0Mx          3288        3288           yes         1       1.0 F5       Tumour NaN   non-cohesive         29         2006-11-13   well /mnt/b/Google_Drive/PhD/Project with Janet/Kohl... m        m        NaT      0  1  yes          yes        tongue     regional only      1     131.0             -0.042014   \n                                                     /mnt/b/Google_Drive/PhD/Project with Janet/Labe... 3277    G11    G11    oropharynx               Other      NaT           NaT                56.0          Alive       no    N     2.0-G11 2014-12-03         2020-04-01   2b      alive   FGD                no             pT2N2bM0         3277        3277           no          2       2.0 G11      Tumour NaN   islands/islets       56         2006-10-19   mod  /mnt/b/Google_Drive/PhD/Project with Janet/Kohl... m        m        NaT      2b 2  yes          no         oropharynx NaN                4a    99.0               0.065537   \n                 True  2      True  False False I    /mnt/b/Google_Drive/PhD/Project with Janet/Labe... 3270    C1     C1     other                    Other      2009-06-08    NaT                58.0          Died        yes   Y     2.0-C1  NaT                2019-05-16   2b      Died    FG                 yes            pT2N2b           3270        3270           no          2       2.0 C1       Tumour 3.0   non-cohesive         58         2006-09-14   mod  /mnt/b/Google_Drive/PhD/Project with Janet/Kohl... m        m        998 days 2b 2  yes          no         other      NaN                4a    33.0               0.050772   \n\n                                                                                                                                                                                                                                                                                                                                                                                                                                                                                                                                                                                                                                                    1770.0  \\\n1year 1yeardeath 2year 2years 3year 4year 5year ASMA Annotation_loc                                     Case ID Core_x Core_y Corrected Site AJCC/UICC DODvsAlive Date of death Date of recurrence Diagnosis Age DiedvsAlive ECS_x ECS_y ID      Last seen/reviewed Last updated N stage OUTCOME OUTCOME.updated by Overall Death  Pathogical Stage Patient nu  Patient_Number Recurrence? T stage TMA TMA site Tissue Years advancing front type age @ diag date of diag diff envi_loc                                           gender_x gender_y lifespan pN pT radiotherapy recurrence site       site of recurrence stage survival (months)             \nTrue  False      True  1      False False False L    /mnt/b/Google_Drive/PhD/Project with Janet/Labe... 3338    F7     F7     oral tongue              DOD        2008-07-06    2008-01-23         50.0          Died        no    N     1.0-F7  NaT                2012-10-04   2c      DOD     CBarry             yes            pT2N2cMx         3338        3338           yes         2       1.0 F7       Tumour 1.0   non-cohesive         50         2007-06-18   well /mnt/b/Google_Drive/PhD/Project with Janet/Kohl... m        m        384 days 2c 2  yes          yes        tongue     Local only         4     12.0               0.024385   \n                                                                                                                                                                                                                                                                                                                                                                                                                                                                                                                                                                                                                               12.0               0.055339   \nFalse False      False 6      False False False H    /mnt/b/Google_Drive/PhD/Project with Janet/Labe... 3288    F5     F5     oral tongue              Other      NaT           2009-10-14         29.0          Alive       no    N     1.0-F5  2019-10-23         2020-04-01   0       alive   FGD                no             pT1N0Mx          3288        3288           yes         1       1.0 F5       Tumour NaN   non-cohesive         29         2006-11-13   well /mnt/b/Google_Drive/PhD/Project with Janet/Kohl... m        m        NaT      0  1  yes          yes        tongue     regional only      1     131.0             -0.041405   \n                                                     /mnt/b/Google_Drive/PhD/Project with Janet/Labe... 3277    G11    G11    oropharynx               Other      NaT           NaT                56.0          Alive       no    N     2.0-G11 2014-12-03         2020-04-01   2b      alive   FGD                no             pT2N2bM0         3277        3277           no          2       2.0 G11      Tumour NaN   islands/islets       56         2006-10-19   mod  /mnt/b/Google_Drive/PhD/Project with Janet/Kohl... m        m        NaT      2b 2  yes          no         oropharynx NaN                4a    99.0               0.066023   \n                 True  2      True  False False I    /mnt/b/Google_Drive/PhD/Project with Janet/Labe... 3270    C1     C1     other                    Other      2009-06-08    NaT                58.0          Died        yes   Y     2.0-C1  NaT                2019-05-16   2b      Died    FG                 yes            pT2N2b           3270        3270           no          2       2.0 C1       Tumour 3.0   non-cohesive         58         2006-09-14   mod  /mnt/b/Google_Drive/PhD/Project with Janet/Kohl... m        m        998 days 2b 2  yes          no         other      NaN                4a    33.0               0.050657   \n\n                                                                                                                                                                                                                                                                                                                                                                                                                                                                                                                                                                                                                                                    1774.0  \\\n1year 1yeardeath 2year 2years 3year 4year 5year ASMA Annotation_loc                                     Case ID Core_x Core_y Corrected Site AJCC/UICC DODvsAlive Date of death Date of recurrence Diagnosis Age DiedvsAlive ECS_x ECS_y ID      Last seen/reviewed Last updated N stage OUTCOME OUTCOME.updated by Overall Death  Pathogical Stage Patient nu  Patient_Number Recurrence? T stage TMA TMA site Tissue Years advancing front type age @ diag date of diag diff envi_loc                                           gender_x gender_y lifespan pN pT radiotherapy recurrence site       site of recurrence stage survival (months)             \nTrue  False      True  1      False False False L    /mnt/b/Google_Drive/PhD/Project with Janet/Labe... 3338    F7     F7     oral tongue              DOD        2008-07-06    2008-01-23         50.0          Died        no    N     1.0-F7  NaT                2012-10-04   2c      DOD     CBarry             yes            pT2N2cMx         3338        3338           yes         2       1.0 F7       Tumour 1.0   non-cohesive         50         2007-06-18   well /mnt/b/Google_Drive/PhD/Project with Janet/Kohl... m        m        384 days 2c 2  yes          yes        tongue     Local only         4     12.0               0.025669   \n                                                                                                                                                                                                                                                                                                                                                                                                                                                                                                                                                                                                                               12.0               0.055655   \nFalse False      False 6      False False False H    /mnt/b/Google_Drive/PhD/Project with Janet/Labe... 3288    F5     F5     oral tongue              Other      NaT           2009-10-14         29.0          Alive       no    N     1.0-F5  2019-10-23         2020-04-01   0       alive   FGD                no             pT1N0Mx          3288        3288           yes         1       1.0 F5       Tumour NaN   non-cohesive         29         2006-11-13   well /mnt/b/Google_Drive/PhD/Project with Janet/Kohl... m        m        NaT      0  1  yes          yes        tongue     regional only      1     131.0             -0.040861   \n                                                     /mnt/b/Google_Drive/PhD/Project with Janet/Labe... 3277    G11    G11    oropharynx               Other      NaT           NaT                56.0          Alive       no    N     2.0-G11 2014-12-03         2020-04-01   2b      alive   FGD                no             pT2N2bM0         3277        3277           no          2       2.0 G11      Tumour NaN   islands/islets       56         2006-10-19   mod  /mnt/b/Google_Drive/PhD/Project with Janet/Kohl... m        m        NaT      2b 2  yes          no         oropharynx NaN                4a    99.0               0.066782   \n                 True  2      True  False False I    /mnt/b/Google_Drive/PhD/Project with Janet/Labe... 3270    C1     C1     other                    Other      2009-06-08    NaT                58.0          Died        yes   Y     2.0-C1  NaT                2019-05-16   2b      Died    FG                 yes            pT2N2b           3270        3270           no          2       2.0 C1       Tumour 3.0   non-cohesive         58         2006-09-14   mod  /mnt/b/Google_Drive/PhD/Project with Janet/Kohl... m        m        998 days 2b 2  yes          no         other      NaN                4a    33.0               0.050385   \n\n                                                                                                                                                                                                                                                                                                                                                                                                                                                                                                                                                                                                                                                    1778.0  \\\n1year 1yeardeath 2year 2years 3year 4year 5year ASMA Annotation_loc                                     Case ID Core_x Core_y Corrected Site AJCC/UICC DODvsAlive Date of death Date of recurrence Diagnosis Age DiedvsAlive ECS_x ECS_y ID      Last seen/reviewed Last updated N stage OUTCOME OUTCOME.updated by Overall Death  Pathogical Stage Patient nu  Patient_Number Recurrence? T stage TMA TMA site Tissue Years advancing front type age @ diag date of diag diff envi_loc                                           gender_x gender_y lifespan pN pT radiotherapy recurrence site       site of recurrence stage survival (months)             \nTrue  False      True  1      False False False L    /mnt/b/Google_Drive/PhD/Project with Janet/Labe... 3338    F7     F7     oral tongue              DOD        2008-07-06    2008-01-23         50.0          Died        no    N     1.0-F7  NaT                2012-10-04   2c      DOD     CBarry             yes            pT2N2cMx         3338        3338           yes         2       1.0 F7       Tumour 1.0   non-cohesive         50         2007-06-18   well /mnt/b/Google_Drive/PhD/Project with Janet/Kohl... m        m        384 days 2c 2  yes          yes        tongue     Local only         4     12.0               0.026725   \n                                                                                                                                                                                                                                                                                                                                                                                                                                                                                                                                                                                                                               12.0               0.055646   \nFalse False      False 6      False False False H    /mnt/b/Google_Drive/PhD/Project with Janet/Labe... 3288    F5     F5     oral tongue              Other      NaT           2009-10-14         29.0          Alive       no    N     1.0-F5  2019-10-23         2020-04-01   0       alive   FGD                no             pT1N0Mx          3288        3288           yes         1       1.0 F5       Tumour NaN   non-cohesive         29         2006-11-13   well /mnt/b/Google_Drive/PhD/Project with Janet/Kohl... m        m        NaT      0  1  yes          yes        tongue     regional only      1     131.0             -0.040564   \n                                                     /mnt/b/Google_Drive/PhD/Project with Janet/Labe... 3277    G11    G11    oropharynx               Other      NaT           NaT                56.0          Alive       no    N     2.0-G11 2014-12-03         2020-04-01   2b      alive   FGD                no             pT2N2bM0         3277        3277           no          2       2.0 G11      Tumour NaN   islands/islets       56         2006-10-19   mod  /mnt/b/Google_Drive/PhD/Project with Janet/Kohl... m        m        NaT      2b 2  yes          no         oropharynx NaN                4a    99.0               0.067194   \n                 True  2      True  False False I    /mnt/b/Google_Drive/PhD/Project with Janet/Labe... 3270    C1     C1     other                    Other      2009-06-08    NaT                58.0          Died        yes   Y     2.0-C1  NaT                2019-05-16   2b      Died    FG                 yes            pT2N2b           3270        3270           no          2       2.0 C1       Tumour 3.0   non-cohesive         58         2006-09-14   mod  /mnt/b/Google_Drive/PhD/Project with Janet/Kohl... m        m        998 days 2b 2  yes          no         other      NaN                4a    33.0               0.050041   \n\n                                                                                                                                                                                                                                                                                                                                                                                                                                                                                                                                                                                                                                                    1781.0  \\\n1year 1yeardeath 2year 2years 3year 4year 5year ASMA Annotation_loc                                     Case ID Core_x Core_y Corrected Site AJCC/UICC DODvsAlive Date of death Date of recurrence Diagnosis Age DiedvsAlive ECS_x ECS_y ID      Last seen/reviewed Last updated N stage OUTCOME OUTCOME.updated by Overall Death  Pathogical Stage Patient nu  Patient_Number Recurrence? T stage TMA TMA site Tissue Years advancing front type age @ diag date of diag diff envi_loc                                           gender_x gender_y lifespan pN pT radiotherapy recurrence site       site of recurrence stage survival (months)             \nTrue  False      True  1      False False False L    /mnt/b/Google_Drive/PhD/Project with Janet/Labe... 3338    F7     F7     oral tongue              DOD        2008-07-06    2008-01-23         50.0          Died        no    N     1.0-F7  NaT                2012-10-04   2c      DOD     CBarry             yes            pT2N2cMx         3338        3338           yes         2       1.0 F7       Tumour 1.0   non-cohesive         50         2007-06-18   well /mnt/b/Google_Drive/PhD/Project with Janet/Kohl... m        m        384 days 2c 2  yes          yes        tongue     Local only         4     12.0               0.028271   \n                                                                                                                                                                                                                                                                                                                                                                                                                                                                                                                                                                                                                               12.0               0.055944   \nFalse False      False 6      False False False H    /mnt/b/Google_Drive/PhD/Project with Janet/Labe... 3288    F5     F5     oral tongue              Other      NaT           2009-10-14         29.0          Alive       no    N     1.0-F5  2019-10-23         2020-04-01   0       alive   FGD                no             pT1N0Mx          3288        3288           yes         1       1.0 F5       Tumour NaN   non-cohesive         29         2006-11-13   well /mnt/b/Google_Drive/PhD/Project with Janet/Kohl... m        m        NaT      0  1  yes          yes        tongue     regional only      1     131.0             -0.039690   \n                                                     /mnt/b/Google_Drive/PhD/Project with Janet/Labe... 3277    G11    G11    oropharynx               Other      NaT           NaT                56.0          Alive       no    N     2.0-G11 2014-12-03         2020-04-01   2b      alive   FGD                no             pT2N2bM0         3277        3277           no          2       2.0 G11      Tumour NaN   islands/islets       56         2006-10-19   mod  /mnt/b/Google_Drive/PhD/Project with Janet/Kohl... m        m        NaT      2b 2  yes          no         oropharynx NaN                4a    99.0               0.067556   \n                 True  2      True  False False I    /mnt/b/Google_Drive/PhD/Project with Janet/Labe... 3270    C1     C1     other                    Other      2009-06-08    NaT                58.0          Died        yes   Y     2.0-C1  NaT                2019-05-16   2b      Died    FG                 yes            pT2N2b           3270        3270           no          2       2.0 C1       Tumour 3.0   non-cohesive         58         2006-09-14   mod  /mnt/b/Google_Drive/PhD/Project with Janet/Kohl... m        m        998 days 2b 2  yes          no         other      NaN                4a    33.0               0.049880   \n\n                                                                                                                                                                                                                                                                                                                                                                                                                                                                                                                                                                                                                                                    1785.0  \\\n1year 1yeardeath 2year 2years 3year 4year 5year ASMA Annotation_loc                                     Case ID Core_x Core_y Corrected Site AJCC/UICC DODvsAlive Date of death Date of recurrence Diagnosis Age DiedvsAlive ECS_x ECS_y ID      Last seen/reviewed Last updated N stage OUTCOME OUTCOME.updated by Overall Death  Pathogical Stage Patient nu  Patient_Number Recurrence? T stage TMA TMA site Tissue Years advancing front type age @ diag date of diag diff envi_loc                                           gender_x gender_y lifespan pN pT radiotherapy recurrence site       site of recurrence stage survival (months)             \nTrue  False      True  1      False False False L    /mnt/b/Google_Drive/PhD/Project with Janet/Labe... 3338    F7     F7     oral tongue              DOD        2008-07-06    2008-01-23         50.0          Died        no    N     1.0-F7  NaT                2012-10-04   2c      DOD     CBarry             yes            pT2N2cMx         3338        3338           yes         2       1.0 F7       Tumour 1.0   non-cohesive         50         2007-06-18   well /mnt/b/Google_Drive/PhD/Project with Janet/Kohl... m        m        384 days 2c 2  yes          yes        tongue     Local only         4     12.0               0.029823   \n                                                                                                                                                                                                                                                                                                                                                                                                                                                                                                                                                                                                                               12.0               0.056368   \nFalse False      False 6      False False False H    /mnt/b/Google_Drive/PhD/Project with Janet/Labe... 3288    F5     F5     oral tongue              Other      NaT           2009-10-14         29.0          Alive       no    N     1.0-F5  2019-10-23         2020-04-01   0       alive   FGD                no             pT1N0Mx          3288        3288           yes         1       1.0 F5       Tumour NaN   non-cohesive         29         2006-11-13   well /mnt/b/Google_Drive/PhD/Project with Janet/Kohl... m        m        NaT      0  1  yes          yes        tongue     regional only      1     131.0             -0.038703   \n                                                     /mnt/b/Google_Drive/PhD/Project with Janet/Labe... 3277    G11    G11    oropharynx               Other      NaT           NaT                56.0          Alive       no    N     2.0-G11 2014-12-03         2020-04-01   2b      alive   FGD                no             pT2N2bM0         3277        3277           no          2       2.0 G11      Tumour NaN   islands/islets       56         2006-10-19   mod  /mnt/b/Google_Drive/PhD/Project with Janet/Kohl... m        m        NaT      2b 2  yes          no         oropharynx NaN                4a    99.0               0.067834   \n                 True  2      True  False False I    /mnt/b/Google_Drive/PhD/Project with Janet/Labe... 3270    C1     C1     other                    Other      2009-06-08    NaT                58.0          Died        yes   Y     2.0-C1  NaT                2019-05-16   2b      Died    FG                 yes            pT2N2b           3270        3270           no          2       2.0 C1       Tumour 3.0   non-cohesive         58         2006-09-14   mod  /mnt/b/Google_Drive/PhD/Project with Janet/Kohl... m        m        998 days 2b 2  yes          no         other      NaN                4a    33.0               0.049969   \n\n                                                                                                                                                                                                                                                                                                                                                                                                                                                                                                                                                                                                                                                    1789.0  \\\n1year 1yeardeath 2year 2years 3year 4year 5year ASMA Annotation_loc                                     Case ID Core_x Core_y Corrected Site AJCC/UICC DODvsAlive Date of death Date of recurrence Diagnosis Age DiedvsAlive ECS_x ECS_y ID      Last seen/reviewed Last updated N stage OUTCOME OUTCOME.updated by Overall Death  Pathogical Stage Patient nu  Patient_Number Recurrence? T stage TMA TMA site Tissue Years advancing front type age @ diag date of diag diff envi_loc                                           gender_x gender_y lifespan pN pT radiotherapy recurrence site       site of recurrence stage survival (months)             \nTrue  False      True  1      False False False L    /mnt/b/Google_Drive/PhD/Project with Janet/Labe... 3338    F7     F7     oral tongue              DOD        2008-07-06    2008-01-23         50.0          Died        no    N     1.0-F7  NaT                2012-10-04   2c      DOD     CBarry             yes            pT2N2cMx         3338        3338           yes         2       1.0 F7       Tumour 1.0   non-cohesive         50         2007-06-18   well /mnt/b/Google_Drive/PhD/Project with Janet/Kohl... m        m        384 days 2c 2  yes          yes        tongue     Local only         4     12.0               0.031243   \n                                                                                                                                                                                                                                                                                                                                                                                                                                                                                                                                                                                                                               12.0               0.056812   \nFalse False      False 6      False False False H    /mnt/b/Google_Drive/PhD/Project with Janet/Labe... 3288    F5     F5     oral tongue              Other      NaT           2009-10-14         29.0          Alive       no    N     1.0-F5  2019-10-23         2020-04-01   0       alive   FGD                no             pT1N0Mx          3288        3288           yes         1       1.0 F5       Tumour NaN   non-cohesive         29         2006-11-13   well /mnt/b/Google_Drive/PhD/Project with Janet/Kohl... m        m        NaT      0  1  yes          yes        tongue     regional only      1     131.0             -0.037745   \n                                                     /mnt/b/Google_Drive/PhD/Project with Janet/Labe... 3277    G11    G11    oropharynx               Other      NaT           NaT                56.0          Alive       no    N     2.0-G11 2014-12-03         2020-04-01   2b      alive   FGD                no             pT2N2bM0         3277        3277           no          2       2.0 G11      Tumour NaN   islands/islets       56         2006-10-19   mod  /mnt/b/Google_Drive/PhD/Project with Janet/Kohl... m        m        NaT      2b 2  yes          no         oropharynx NaN                4a    99.0               0.068426   \n                 True  2      True  False False I    /mnt/b/Google_Drive/PhD/Project with Janet/Labe... 3270    C1     C1     other                    Other      2009-06-08    NaT                58.0          Died        yes   Y     2.0-C1  NaT                2019-05-16   2b      Died    FG                 yes            pT2N2b           3270        3270           no          2       2.0 C1       Tumour 3.0   non-cohesive         58         2006-09-14   mod  /mnt/b/Google_Drive/PhD/Project with Janet/Kohl... m        m        998 days 2b 2  yes          no         other      NaN                4a    33.0               0.050186   \n\n                                                                                                                                                                                                                                                                                                                                                                                                                                                                                                                                                                                                                                                    1793.0  \\\n1year 1yeardeath 2year 2years 3year 4year 5year ASMA Annotation_loc                                     Case ID Core_x Core_y Corrected Site AJCC/UICC DODvsAlive Date of death Date of recurrence Diagnosis Age DiedvsAlive ECS_x ECS_y ID      Last seen/reviewed Last updated N stage OUTCOME OUTCOME.updated by Overall Death  Pathogical Stage Patient nu  Patient_Number Recurrence? T stage TMA TMA site Tissue Years advancing front type age @ diag date of diag diff envi_loc                                           gender_x gender_y lifespan pN pT radiotherapy recurrence site       site of recurrence stage survival (months)             \nTrue  False      True  1      False False False L    /mnt/b/Google_Drive/PhD/Project with Janet/Labe... 3338    F7     F7     oral tongue              DOD        2008-07-06    2008-01-23         50.0          Died        no    N     1.0-F7  NaT                2012-10-04   2c      DOD     CBarry             yes            pT2N2cMx         3338        3338           yes         2       1.0 F7       Tumour 1.0   non-cohesive         50         2007-06-18   well /mnt/b/Google_Drive/PhD/Project with Janet/Kohl... m        m        384 days 2c 2  yes          yes        tongue     Local only         4     12.0               0.032169   \n                                                                                                                                                                                                                                                                                                                                                                                                                                                                                                                                                                                                                               12.0               0.056917   \nFalse False      False 6      False False False H    /mnt/b/Google_Drive/PhD/Project with Janet/Labe... 3288    F5     F5     oral tongue              Other      NaT           2009-10-14         29.0          Alive       no    N     1.0-F5  2019-10-23         2020-04-01   0       alive   FGD                no             pT1N0Mx          3288        3288           yes         1       1.0 F5       Tumour NaN   non-cohesive         29         2006-11-13   well /mnt/b/Google_Drive/PhD/Project with Janet/Kohl... m        m        NaT      0  1  yes          yes        tongue     regional only      1     131.0             -0.037128   \n                                                     /mnt/b/Google_Drive/PhD/Project with Janet/Labe... 3277    G11    G11    oropharynx               Other      NaT           NaT                56.0          Alive       no    N     2.0-G11 2014-12-03         2020-04-01   2b      alive   FGD                no             pT2N2bM0         3277        3277           no          2       2.0 G11      Tumour NaN   islands/islets       56         2006-10-19   mod  /mnt/b/Google_Drive/PhD/Project with Janet/Kohl... m        m        NaT      2b 2  yes          no         oropharynx NaN                4a    99.0               0.069005   \n                 True  2      True  False False I    /mnt/b/Google_Drive/PhD/Project with Janet/Labe... 3270    C1     C1     other                    Other      2009-06-08    NaT                58.0          Died        yes   Y     2.0-C1  NaT                2019-05-16   2b      Died    FG                 yes            pT2N2b           3270        3270           no          2       2.0 C1       Tumour 3.0   non-cohesive         58         2006-09-14   mod  /mnt/b/Google_Drive/PhD/Project with Janet/Kohl... m        m        998 days 2b 2  yes          no         other      NaN                4a    33.0               0.050095   \n\n                                                                                                                                                                                                                                                                                                                                                                                                                                                                                                                                                                                                                                                    1797.0  \n1year 1yeardeath 2year 2years 3year 4year 5year ASMA Annotation_loc                                     Case ID Core_x Core_y Corrected Site AJCC/UICC DODvsAlive Date of death Date of recurrence Diagnosis Age DiedvsAlive ECS_x ECS_y ID      Last seen/reviewed Last updated N stage OUTCOME OUTCOME.updated by Overall Death  Pathogical Stage Patient nu  Patient_Number Recurrence? T stage TMA TMA site Tissue Years advancing front type age @ diag date of diag diff envi_loc                                           gender_x gender_y lifespan pN pT radiotherapy recurrence site       site of recurrence stage survival (months)            \nTrue  False      True  1      False False False L    /mnt/b/Google_Drive/PhD/Project with Janet/Labe... 3338    F7     F7     oral tongue              DOD        2008-07-06    2008-01-23         50.0          Died        no    N     1.0-F7  NaT                2012-10-04   2c      DOD     CBarry             yes            pT2N2cMx         3338        3338           yes         2       1.0 F7       Tumour 1.0   non-cohesive         50         2007-06-18   well /mnt/b/Google_Drive/PhD/Project with Janet/Kohl... m        m        384 days 2c 2  yes          yes        tongue     Local only         4     12.0               0.032949  \n                                                                                                                                                                                                                                                                                                                                                                                                                                                                                                                                                                                                                               12.0               0.057012  \nFalse False      False 6      False False False H    /mnt/b/Google_Drive/PhD/Project with Janet/Labe... 3288    F5     F5     oral tongue              Other      NaT           2009-10-14         29.0          Alive       no    N     1.0-F5  2019-10-23         2020-04-01   0       alive   FGD                no             pT1N0Mx          3288        3288           yes         1       1.0 F5       Tumour NaN   non-cohesive         29         2006-11-13   well /mnt/b/Google_Drive/PhD/Project with Janet/Kohl... m        m        NaT      0  1  yes          yes        tongue     regional only      1     131.0             -0.036602  \n                                                     /mnt/b/Google_Drive/PhD/Project with Janet/Labe... 3277    G11    G11    oropharynx               Other      NaT           NaT                56.0          Alive       no    N     2.0-G11 2014-12-03         2020-04-01   2b      alive   FGD                no             pT2N2bM0         3277        3277           no          2       2.0 G11      Tumour NaN   islands/islets       56         2006-10-19   mod  /mnt/b/Google_Drive/PhD/Project with Janet/Kohl... m        m        NaT      2b 2  yes          no         oropharynx NaN                4a    99.0               0.069523  \n                 True  2      True  False False I    /mnt/b/Google_Drive/PhD/Project with Janet/Labe... 3270    C1     C1     other                    Other      2009-06-08    NaT                58.0          Died        yes   Y     2.0-C1  NaT                2019-05-16   2b      Died    FG                 yes            pT2N2b           3270        3270           no          2       2.0 C1       Tumour 3.0   non-cohesive         58         2006-09-14   mod  /mnt/b/Google_Drive/PhD/Project with Janet/Kohl... m        m        998 days 2b 2  yes          no         other      NaN                4a    33.0               0.049933  \n\n[5 rows x 169 columns]",
      "text/html": "<div>\n<style scoped>\n    .dataframe tbody tr th:only-of-type {\n        vertical-align: middle;\n    }\n\n    .dataframe tbody tr th {\n        vertical-align: top;\n    }\n\n    .dataframe thead th {\n        text-align: right;\n    }\n</style>\n<table border=\"1\" class=\"dataframe\">\n  <thead>\n    <tr style=\"text-align: right;\">\n      <th></th>\n      <th></th>\n      <th></th>\n      <th></th>\n      <th></th>\n      <th></th>\n      <th></th>\n      <th></th>\n      <th></th>\n      <th></th>\n      <th></th>\n      <th></th>\n      <th></th>\n      <th></th>\n      <th></th>\n      <th></th>\n      <th></th>\n      <th></th>\n      <th></th>\n      <th></th>\n      <th></th>\n      <th></th>\n      <th></th>\n      <th></th>\n      <th></th>\n      <th></th>\n      <th></th>\n      <th></th>\n      <th></th>\n      <th></th>\n      <th></th>\n      <th></th>\n      <th></th>\n      <th></th>\n      <th></th>\n      <th></th>\n      <th></th>\n      <th></th>\n      <th></th>\n      <th></th>\n      <th></th>\n      <th></th>\n      <th></th>\n      <th></th>\n      <th></th>\n      <th></th>\n      <th></th>\n      <th></th>\n      <th></th>\n      <th></th>\n      <th></th>\n      <th></th>\n      <th>998.0</th>\n      <th>1002.0</th>\n      <th>1006.0</th>\n      <th>1010.0</th>\n      <th>1014.0</th>\n      <th>1018.0</th>\n      <th>1022.0</th>\n      <th>1025.0</th>\n      <th>1029.0</th>\n      <th>1033.0</th>\n      <th>...</th>\n      <th>1762.0</th>\n      <th>1766.0</th>\n      <th>1770.0</th>\n      <th>1774.0</th>\n      <th>1778.0</th>\n      <th>1781.0</th>\n      <th>1785.0</th>\n      <th>1789.0</th>\n      <th>1793.0</th>\n      <th>1797.0</th>\n    </tr>\n    <tr>\n      <th>1year</th>\n      <th>1yeardeath</th>\n      <th>2year</th>\n      <th>2years</th>\n      <th>3year</th>\n      <th>4year</th>\n      <th>5year</th>\n      <th>ASMA</th>\n      <th>Annotation_loc</th>\n      <th>Case ID</th>\n      <th>Core_x</th>\n      <th>Core_y</th>\n      <th>Corrected Site AJCC/UICC</th>\n      <th>DODvsAlive</th>\n      <th>Date of death</th>\n      <th>Date of recurrence</th>\n      <th>Diagnosis Age</th>\n      <th>DiedvsAlive</th>\n      <th>ECS_x</th>\n      <th>ECS_y</th>\n      <th>ID</th>\n      <th>Last seen/reviewed</th>\n      <th>Last updated</th>\n      <th>N stage</th>\n      <th>OUTCOME</th>\n      <th>OUTCOME.updated by</th>\n      <th>Overall Death</th>\n      <th>Pathogical Stage</th>\n      <th>Patient nu</th>\n      <th>Patient_Number</th>\n      <th>Recurrence?</th>\n      <th>T stage</th>\n      <th>TMA</th>\n      <th>TMA site</th>\n      <th>Tissue</th>\n      <th>Years</th>\n      <th>advancing front type</th>\n      <th>age @ diag</th>\n      <th>date of diag</th>\n      <th>diff</th>\n      <th>envi_loc</th>\n      <th>gender_x</th>\n      <th>gender_y</th>\n      <th>lifespan</th>\n      <th>pN</th>\n      <th>pT</th>\n      <th>radiotherapy</th>\n      <th>recurrence</th>\n      <th>site</th>\n      <th>site of recurrence</th>\n      <th>stage</th>\n      <th>survival (months)</th>\n      <th></th>\n      <th></th>\n      <th></th>\n      <th></th>\n      <th></th>\n      <th></th>\n      <th></th>\n      <th></th>\n      <th></th>\n      <th></th>\n      <th></th>\n      <th></th>\n      <th></th>\n      <th></th>\n      <th></th>\n      <th></th>\n      <th></th>\n      <th></th>\n      <th></th>\n      <th></th>\n      <th></th>\n    </tr>\n  </thead>\n  <tbody>\n    <tr>\n      <th rowspan=\"2\" valign=\"top\">True</th>\n      <th rowspan=\"2\" valign=\"top\">False</th>\n      <th rowspan=\"2\" valign=\"top\">True</th>\n      <th rowspan=\"2\" valign=\"top\">1</th>\n      <th rowspan=\"2\" valign=\"top\">False</th>\n      <th rowspan=\"2\" valign=\"top\">False</th>\n      <th rowspan=\"2\" valign=\"top\">False</th>\n      <th rowspan=\"2\" valign=\"top\">L</th>\n      <th rowspan=\"2\" valign=\"top\">/mnt/b/Google_Drive/PhD/Project with Janet/Label_Images/TMA_1/TMA_1.3_F7.png</th>\n      <th rowspan=\"2\" valign=\"top\">3338</th>\n      <th rowspan=\"2\" valign=\"top\">F7</th>\n      <th rowspan=\"2\" valign=\"top\">F7</th>\n      <th rowspan=\"2\" valign=\"top\">oral tongue</th>\n      <th rowspan=\"2\" valign=\"top\">DOD</th>\n      <th rowspan=\"2\" valign=\"top\">2008-07-06</th>\n      <th rowspan=\"2\" valign=\"top\">2008-01-23</th>\n      <th rowspan=\"2\" valign=\"top\">50.0</th>\n      <th rowspan=\"2\" valign=\"top\">Died</th>\n      <th rowspan=\"2\" valign=\"top\">no</th>\n      <th rowspan=\"2\" valign=\"top\">N</th>\n      <th rowspan=\"2\" valign=\"top\">1.0-F7</th>\n      <th rowspan=\"2\" valign=\"top\">NaT</th>\n      <th rowspan=\"2\" valign=\"top\">2012-10-04</th>\n      <th rowspan=\"2\" valign=\"top\">2c</th>\n      <th rowspan=\"2\" valign=\"top\">DOD</th>\n      <th rowspan=\"2\" valign=\"top\">CBarry</th>\n      <th rowspan=\"2\" valign=\"top\">yes</th>\n      <th rowspan=\"2\" valign=\"top\">pT2N2cMx</th>\n      <th rowspan=\"2\" valign=\"top\">3338</th>\n      <th rowspan=\"2\" valign=\"top\">3338</th>\n      <th rowspan=\"2\" valign=\"top\">yes</th>\n      <th rowspan=\"2\" valign=\"top\">2</th>\n      <th rowspan=\"2\" valign=\"top\">1.0</th>\n      <th rowspan=\"2\" valign=\"top\">F7</th>\n      <th rowspan=\"2\" valign=\"top\">Tumour</th>\n      <th rowspan=\"2\" valign=\"top\">1.0</th>\n      <th rowspan=\"2\" valign=\"top\">non-cohesive</th>\n      <th rowspan=\"2\" valign=\"top\">50</th>\n      <th rowspan=\"2\" valign=\"top\">2007-06-18</th>\n      <th rowspan=\"2\" valign=\"top\">well</th>\n      <th rowspan=\"2\" valign=\"top\">/mnt/b/Google_Drive/PhD/Project with Janet/Kohler_Corrected/TMA_1TMA_1.3_F7.HDR</th>\n      <th rowspan=\"2\" valign=\"top\">m</th>\n      <th rowspan=\"2\" valign=\"top\">m</th>\n      <th rowspan=\"2\" valign=\"top\">384 days</th>\n      <th rowspan=\"2\" valign=\"top\">2c</th>\n      <th rowspan=\"2\" valign=\"top\">2</th>\n      <th rowspan=\"2\" valign=\"top\">yes</th>\n      <th rowspan=\"2\" valign=\"top\">yes</th>\n      <th rowspan=\"2\" valign=\"top\">tongue</th>\n      <th rowspan=\"2\" valign=\"top\">Local only</th>\n      <th rowspan=\"2\" valign=\"top\">4</th>\n      <th>12.0</th>\n      <td>0.124605</td>\n      <td>0.122672</td>\n      <td>0.122680</td>\n      <td>0.124237</td>\n      <td>0.126947</td>\n      <td>0.130419</td>\n      <td>0.132544</td>\n      <td>0.136252</td>\n      <td>0.139690</td>\n      <td>0.142850</td>\n      <td>...</td>\n      <td>0.022298</td>\n      <td>0.023199</td>\n      <td>0.024385</td>\n      <td>0.025669</td>\n      <td>0.026725</td>\n      <td>0.028271</td>\n      <td>0.029823</td>\n      <td>0.031243</td>\n      <td>0.032169</td>\n      <td>0.032949</td>\n    </tr>\n    <tr>\n      <th>12.0</th>\n      <td>0.111135</td>\n      <td>0.114026</td>\n      <td>0.117156</td>\n      <td>0.120476</td>\n      <td>0.123936</td>\n      <td>0.127485</td>\n      <td>0.130242</td>\n      <td>0.133824</td>\n      <td>0.137311</td>\n      <td>0.140549</td>\n      <td>...</td>\n      <td>0.054822</td>\n      <td>0.054919</td>\n      <td>0.055339</td>\n      <td>0.055655</td>\n      <td>0.055646</td>\n      <td>0.055944</td>\n      <td>0.056368</td>\n      <td>0.056812</td>\n      <td>0.056917</td>\n      <td>0.057012</td>\n    </tr>\n    <tr>\n      <th rowspan=\"3\" valign=\"top\">False</th>\n      <th rowspan=\"3\" valign=\"top\">False</th>\n      <th rowspan=\"2\" valign=\"top\">False</th>\n      <th rowspan=\"2\" valign=\"top\">6</th>\n      <th rowspan=\"2\" valign=\"top\">False</th>\n      <th rowspan=\"2\" valign=\"top\">False</th>\n      <th rowspan=\"2\" valign=\"top\">False</th>\n      <th rowspan=\"2\" valign=\"top\">H</th>\n      <th>/mnt/b/Google_Drive/PhD/Project with Janet/Label_Images/TMA_1/TMA_1.3_F5.png</th>\n      <th>3288</th>\n      <th>F5</th>\n      <th>F5</th>\n      <th>oral tongue</th>\n      <th>Other</th>\n      <th>NaT</th>\n      <th>2009-10-14</th>\n      <th>29.0</th>\n      <th>Alive</th>\n      <th>no</th>\n      <th>N</th>\n      <th>1.0-F5</th>\n      <th>2019-10-23</th>\n      <th>2020-04-01</th>\n      <th>0</th>\n      <th>alive</th>\n      <th>FGD</th>\n      <th>no</th>\n      <th>pT1N0Mx</th>\n      <th>3288</th>\n      <th>3288</th>\n      <th>yes</th>\n      <th>1</th>\n      <th>1.0</th>\n      <th>F5</th>\n      <th>Tumour</th>\n      <th>NaN</th>\n      <th>non-cohesive</th>\n      <th>29</th>\n      <th>2006-11-13</th>\n      <th>well</th>\n      <th>/mnt/b/Google_Drive/PhD/Project with Janet/Kohler_Corrected/TMA_1TMA_1.3_F5.HDR</th>\n      <th>m</th>\n      <th>m</th>\n      <th>NaT</th>\n      <th>0</th>\n      <th>1</th>\n      <th>yes</th>\n      <th>yes</th>\n      <th>tongue</th>\n      <th>regional only</th>\n      <th>1</th>\n      <th>131.0</th>\n      <td>0.033823</td>\n      <td>0.033855</td>\n      <td>0.035356</td>\n      <td>0.037993</td>\n      <td>0.041432</td>\n      <td>0.045340</td>\n      <td>0.047823</td>\n      <td>0.051209</td>\n      <td>0.054041</td>\n      <td>0.056706</td>\n      <td>...</td>\n      <td>-0.042379</td>\n      <td>-0.042014</td>\n      <td>-0.041405</td>\n      <td>-0.040861</td>\n      <td>-0.040564</td>\n      <td>-0.039690</td>\n      <td>-0.038703</td>\n      <td>-0.037745</td>\n      <td>-0.037128</td>\n      <td>-0.036602</td>\n    </tr>\n    <tr>\n      <th>/mnt/b/Google_Drive/PhD/Project with Janet/Label_Images/TMA_2/TMA_1.4_G11.png</th>\n      <th>3277</th>\n      <th>G11</th>\n      <th>G11</th>\n      <th>oropharynx</th>\n      <th>Other</th>\n      <th>NaT</th>\n      <th>NaT</th>\n      <th>56.0</th>\n      <th>Alive</th>\n      <th>no</th>\n      <th>N</th>\n      <th>2.0-G11</th>\n      <th>2014-12-03</th>\n      <th>2020-04-01</th>\n      <th>2b</th>\n      <th>alive</th>\n      <th>FGD</th>\n      <th>no</th>\n      <th>pT2N2bM0</th>\n      <th>3277</th>\n      <th>3277</th>\n      <th>no</th>\n      <th>2</th>\n      <th>2.0</th>\n      <th>G11</th>\n      <th>Tumour</th>\n      <th>NaN</th>\n      <th>islands/islets</th>\n      <th>56</th>\n      <th>2006-10-19</th>\n      <th>mod</th>\n      <th>/mnt/b/Google_Drive/PhD/Project with Janet/Kohler_Corrected/TMA_2TMA_1.4_G11.HDR</th>\n      <th>m</th>\n      <th>m</th>\n      <th>NaT</th>\n      <th>2b</th>\n      <th>2</th>\n      <th>yes</th>\n      <th>no</th>\n      <th>oropharynx</th>\n      <th>NaN</th>\n      <th>4a</th>\n      <th>99.0</th>\n      <td>0.084905</td>\n      <td>0.095389</td>\n      <td>0.104240</td>\n      <td>0.111814</td>\n      <td>0.118466</td>\n      <td>0.124552</td>\n      <td>0.131144</td>\n      <td>0.137530</td>\n      <td>0.142189</td>\n      <td>0.148983</td>\n      <td>...</td>\n      <td>0.065545</td>\n      <td>0.065537</td>\n      <td>0.066023</td>\n      <td>0.066782</td>\n      <td>0.067194</td>\n      <td>0.067556</td>\n      <td>0.067834</td>\n      <td>0.068426</td>\n      <td>0.069005</td>\n      <td>0.069523</td>\n    </tr>\n    <tr>\n      <th>True</th>\n      <th>2</th>\n      <th>True</th>\n      <th>False</th>\n      <th>False</th>\n      <th>I</th>\n      <th>/mnt/b/Google_Drive/PhD/Project with Janet/Label_Images/TMA_2/TMA_1.1_C1.png</th>\n      <th>3270</th>\n      <th>C1</th>\n      <th>C1</th>\n      <th>other</th>\n      <th>Other</th>\n      <th>2009-06-08</th>\n      <th>NaT</th>\n      <th>58.0</th>\n      <th>Died</th>\n      <th>yes</th>\n      <th>Y</th>\n      <th>2.0-C1</th>\n      <th>NaT</th>\n      <th>2019-05-16</th>\n      <th>2b</th>\n      <th>Died</th>\n      <th>FG</th>\n      <th>yes</th>\n      <th>pT2N2b</th>\n      <th>3270</th>\n      <th>3270</th>\n      <th>no</th>\n      <th>2</th>\n      <th>2.0</th>\n      <th>C1</th>\n      <th>Tumour</th>\n      <th>3.0</th>\n      <th>non-cohesive</th>\n      <th>58</th>\n      <th>2006-09-14</th>\n      <th>mod</th>\n      <th>/mnt/b/Google_Drive/PhD/Project with Janet/Kohler_Corrected/TMA_2TMA_1.1_C1.HDR</th>\n      <th>m</th>\n      <th>m</th>\n      <th>998 days</th>\n      <th>2b</th>\n      <th>2</th>\n      <th>yes</th>\n      <th>no</th>\n      <th>other</th>\n      <th>NaN</th>\n      <th>4a</th>\n      <th>33.0</th>\n      <td>0.043976</td>\n      <td>0.045400</td>\n      <td>0.047015</td>\n      <td>0.048749</td>\n      <td>0.050525</td>\n      <td>0.052269</td>\n      <td>0.053673</td>\n      <td>0.055079</td>\n      <td>0.056254</td>\n      <td>0.057394</td>\n      <td>...</td>\n      <td>0.051101</td>\n      <td>0.050772</td>\n      <td>0.050657</td>\n      <td>0.050385</td>\n      <td>0.050041</td>\n      <td>0.049880</td>\n      <td>0.049969</td>\n      <td>0.050186</td>\n      <td>0.050095</td>\n      <td>0.049933</td>\n    </tr>\n  </tbody>\n</table>\n<p>5 rows × 169 columns</p>\n</div>"
     },
     "metadata": {},
     "execution_count": 19
    }
   ],
   "source": [
    "total.sample(5)"
   ]
  },
  {
   "cell_type": "code",
   "execution_count": 20,
   "metadata": {},
   "outputs": [
    {
     "output_type": "display_data",
     "data": {
      "text/plain": "<Figure size 432x288 with 1 Axes>",
      "image/svg+xml": "<?xml version=\"1.0\" encoding=\"utf-8\" standalone=\"no\"?>\n<!DOCTYPE svg PUBLIC \"-//W3C//DTD SVG 1.1//EN\"\n  \"http://www.w3.org/Graphics/SVG/1.1/DTD/svg11.dtd\">\n<!-- Created with matplotlib (https://matplotlib.org/) -->\n<svg height=\"262.918125pt\" version=\"1.1\" viewBox=\"0 0 392.14375 262.918125\" width=\"392.14375pt\" xmlns=\"http://www.w3.org/2000/svg\" xmlns:xlink=\"http://www.w3.org/1999/xlink\">\n <defs>\n  <style type=\"text/css\">\n*{stroke-linecap:butt;stroke-linejoin:round;}\n  </style>\n </defs>\n <g id=\"figure_1\">\n  <g id=\"patch_1\">\n   <path d=\"M 0 262.918125 \nL 392.14375 262.918125 \nL 392.14375 0 \nL 0 0 \nz\n\" style=\"fill:none;\"/>\n  </g>\n  <g id=\"axes_1\">\n   <g id=\"patch_2\">\n    <path d=\"M 50.14375 224.64 \nL 384.94375 224.64 \nL 384.94375 7.2 \nL 50.14375 7.2 \nz\n\" style=\"fill:#ffffff;\"/>\n   </g>\n   <g id=\"matplotlib.axis_1\">\n    <g id=\"xtick_1\">\n     <g id=\"line2d_1\">\n      <defs>\n       <path d=\"M 0 0 \nL 0 3.5 \n\" id=\"mbdd886be12\" style=\"stroke:#000000;stroke-width:0.8;\"/>\n      </defs>\n      <g>\n       <use style=\"stroke:#000000;stroke-width:0.8;\" x=\"368.963707\" xlink:href=\"#mbdd886be12\" y=\"224.64\"/>\n      </g>\n     </g>\n     <g id=\"text_1\">\n      <!-- 1000 -->\n      <defs>\n       <path d=\"M 12.40625 8.296875 \nL 28.515625 8.296875 \nL 28.515625 63.921875 \nL 10.984375 60.40625 \nL 10.984375 69.390625 \nL 28.421875 72.90625 \nL 38.28125 72.90625 \nL 38.28125 8.296875 \nL 54.390625 8.296875 \nL 54.390625 0 \nL 12.40625 0 \nz\n\" id=\"DejaVuSans-49\"/>\n       <path d=\"M 31.78125 66.40625 \nQ 24.171875 66.40625 20.328125 58.90625 \nQ 16.5 51.421875 16.5 36.375 \nQ 16.5 21.390625 20.328125 13.890625 \nQ 24.171875 6.390625 31.78125 6.390625 \nQ 39.453125 6.390625 43.28125 13.890625 \nQ 47.125 21.390625 47.125 36.375 \nQ 47.125 51.421875 43.28125 58.90625 \nQ 39.453125 66.40625 31.78125 66.40625 \nz\nM 31.78125 74.21875 \nQ 44.046875 74.21875 50.515625 64.515625 \nQ 56.984375 54.828125 56.984375 36.375 \nQ 56.984375 17.96875 50.515625 8.265625 \nQ 44.046875 -1.421875 31.78125 -1.421875 \nQ 19.53125 -1.421875 13.0625 8.265625 \nQ 6.59375 17.96875 6.59375 36.375 \nQ 6.59375 54.828125 13.0625 64.515625 \nQ 19.53125 74.21875 31.78125 74.21875 \nz\n\" id=\"DejaVuSans-48\"/>\n      </defs>\n      <g transform=\"translate(356.238707 239.238437)scale(0.1 -0.1)\">\n       <use xlink:href=\"#DejaVuSans-49\"/>\n       <use x=\"63.623047\" xlink:href=\"#DejaVuSans-48\"/>\n       <use x=\"127.246094\" xlink:href=\"#DejaVuSans-48\"/>\n       <use x=\"190.869141\" xlink:href=\"#DejaVuSans-48\"/>\n      </g>\n     </g>\n    </g>\n    <g id=\"xtick_2\">\n     <g id=\"line2d_2\">\n      <g>\n       <use style=\"stroke:#000000;stroke-width:0.8;\" x=\"330.870636\" xlink:href=\"#mbdd886be12\" y=\"224.64\"/>\n      </g>\n     </g>\n     <g id=\"text_2\">\n      <!-- 1100 -->\n      <g transform=\"translate(318.145636 239.238437)scale(0.1 -0.1)\">\n       <use xlink:href=\"#DejaVuSans-49\"/>\n       <use x=\"63.623047\" xlink:href=\"#DejaVuSans-49\"/>\n       <use x=\"127.246094\" xlink:href=\"#DejaVuSans-48\"/>\n       <use x=\"190.869141\" xlink:href=\"#DejaVuSans-48\"/>\n      </g>\n     </g>\n    </g>\n    <g id=\"xtick_3\">\n     <g id=\"line2d_3\">\n      <g>\n       <use style=\"stroke:#000000;stroke-width:0.8;\" x=\"292.777565\" xlink:href=\"#mbdd886be12\" y=\"224.64\"/>\n      </g>\n     </g>\n     <g id=\"text_3\">\n      <!-- 1200 -->\n      <defs>\n       <path d=\"M 19.1875 8.296875 \nL 53.609375 8.296875 \nL 53.609375 0 \nL 7.328125 0 \nL 7.328125 8.296875 \nQ 12.9375 14.109375 22.625 23.890625 \nQ 32.328125 33.6875 34.8125 36.53125 \nQ 39.546875 41.84375 41.421875 45.53125 \nQ 43.3125 49.21875 43.3125 52.78125 \nQ 43.3125 58.59375 39.234375 62.25 \nQ 35.15625 65.921875 28.609375 65.921875 \nQ 23.96875 65.921875 18.8125 64.3125 \nQ 13.671875 62.703125 7.8125 59.421875 \nL 7.8125 69.390625 \nQ 13.765625 71.78125 18.9375 73 \nQ 24.125 74.21875 28.421875 74.21875 \nQ 39.75 74.21875 46.484375 68.546875 \nQ 53.21875 62.890625 53.21875 53.421875 \nQ 53.21875 48.921875 51.53125 44.890625 \nQ 49.859375 40.875 45.40625 35.40625 \nQ 44.1875 33.984375 37.640625 27.21875 \nQ 31.109375 20.453125 19.1875 8.296875 \nz\n\" id=\"DejaVuSans-50\"/>\n      </defs>\n      <g transform=\"translate(280.052565 239.238437)scale(0.1 -0.1)\">\n       <use xlink:href=\"#DejaVuSans-49\"/>\n       <use x=\"63.623047\" xlink:href=\"#DejaVuSans-50\"/>\n       <use x=\"127.246094\" xlink:href=\"#DejaVuSans-48\"/>\n       <use x=\"190.869141\" xlink:href=\"#DejaVuSans-48\"/>\n      </g>\n     </g>\n    </g>\n    <g id=\"xtick_4\">\n     <g id=\"line2d_4\">\n      <g>\n       <use style=\"stroke:#000000;stroke-width:0.8;\" x=\"254.684494\" xlink:href=\"#mbdd886be12\" y=\"224.64\"/>\n      </g>\n     </g>\n     <g id=\"text_4\">\n      <!-- 1300 -->\n      <defs>\n       <path d=\"M 40.578125 39.3125 \nQ 47.65625 37.796875 51.625 33 \nQ 55.609375 28.21875 55.609375 21.1875 \nQ 55.609375 10.40625 48.1875 4.484375 \nQ 40.765625 -1.421875 27.09375 -1.421875 \nQ 22.515625 -1.421875 17.65625 -0.515625 \nQ 12.796875 0.390625 7.625 2.203125 \nL 7.625 11.71875 \nQ 11.71875 9.328125 16.59375 8.109375 \nQ 21.484375 6.890625 26.8125 6.890625 \nQ 36.078125 6.890625 40.9375 10.546875 \nQ 45.796875 14.203125 45.796875 21.1875 \nQ 45.796875 27.640625 41.28125 31.265625 \nQ 36.765625 34.90625 28.71875 34.90625 \nL 20.21875 34.90625 \nL 20.21875 43.015625 \nL 29.109375 43.015625 \nQ 36.375 43.015625 40.234375 45.921875 \nQ 44.09375 48.828125 44.09375 54.296875 \nQ 44.09375 59.90625 40.109375 62.90625 \nQ 36.140625 65.921875 28.71875 65.921875 \nQ 24.65625 65.921875 20.015625 65.03125 \nQ 15.375 64.15625 9.8125 62.3125 \nL 9.8125 71.09375 \nQ 15.4375 72.65625 20.34375 73.4375 \nQ 25.25 74.21875 29.59375 74.21875 \nQ 40.828125 74.21875 47.359375 69.109375 \nQ 53.90625 64.015625 53.90625 55.328125 \nQ 53.90625 49.265625 50.4375 45.09375 \nQ 46.96875 40.921875 40.578125 39.3125 \nz\n\" id=\"DejaVuSans-51\"/>\n      </defs>\n      <g transform=\"translate(241.959494 239.238437)scale(0.1 -0.1)\">\n       <use xlink:href=\"#DejaVuSans-49\"/>\n       <use x=\"63.623047\" xlink:href=\"#DejaVuSans-51\"/>\n       <use x=\"127.246094\" xlink:href=\"#DejaVuSans-48\"/>\n       <use x=\"190.869141\" xlink:href=\"#DejaVuSans-48\"/>\n      </g>\n     </g>\n    </g>\n    <g id=\"xtick_5\">\n     <g id=\"line2d_5\">\n      <g>\n       <use style=\"stroke:#000000;stroke-width:0.8;\" x=\"216.591423\" xlink:href=\"#mbdd886be12\" y=\"224.64\"/>\n      </g>\n     </g>\n     <g id=\"text_5\">\n      <!-- 1400 -->\n      <defs>\n       <path d=\"M 37.796875 64.3125 \nL 12.890625 25.390625 \nL 37.796875 25.390625 \nz\nM 35.203125 72.90625 \nL 47.609375 72.90625 \nL 47.609375 25.390625 \nL 58.015625 25.390625 \nL 58.015625 17.1875 \nL 47.609375 17.1875 \nL 47.609375 0 \nL 37.796875 0 \nL 37.796875 17.1875 \nL 4.890625 17.1875 \nL 4.890625 26.703125 \nz\n\" id=\"DejaVuSans-52\"/>\n      </defs>\n      <g transform=\"translate(203.866423 239.238437)scale(0.1 -0.1)\">\n       <use xlink:href=\"#DejaVuSans-49\"/>\n       <use x=\"63.623047\" xlink:href=\"#DejaVuSans-52\"/>\n       <use x=\"127.246094\" xlink:href=\"#DejaVuSans-48\"/>\n       <use x=\"190.869141\" xlink:href=\"#DejaVuSans-48\"/>\n      </g>\n     </g>\n    </g>\n    <g id=\"xtick_6\">\n     <g id=\"line2d_6\">\n      <g>\n       <use style=\"stroke:#000000;stroke-width:0.8;\" x=\"178.498352\" xlink:href=\"#mbdd886be12\" y=\"224.64\"/>\n      </g>\n     </g>\n     <g id=\"text_6\">\n      <!-- 1500 -->\n      <defs>\n       <path d=\"M 10.796875 72.90625 \nL 49.515625 72.90625 \nL 49.515625 64.59375 \nL 19.828125 64.59375 \nL 19.828125 46.734375 \nQ 21.96875 47.46875 24.109375 47.828125 \nQ 26.265625 48.1875 28.421875 48.1875 \nQ 40.625 48.1875 47.75 41.5 \nQ 54.890625 34.8125 54.890625 23.390625 \nQ 54.890625 11.625 47.5625 5.09375 \nQ 40.234375 -1.421875 26.90625 -1.421875 \nQ 22.3125 -1.421875 17.546875 -0.640625 \nQ 12.796875 0.140625 7.71875 1.703125 \nL 7.71875 11.625 \nQ 12.109375 9.234375 16.796875 8.0625 \nQ 21.484375 6.890625 26.703125 6.890625 \nQ 35.15625 6.890625 40.078125 11.328125 \nQ 45.015625 15.765625 45.015625 23.390625 \nQ 45.015625 31 40.078125 35.4375 \nQ 35.15625 39.890625 26.703125 39.890625 \nQ 22.75 39.890625 18.8125 39.015625 \nQ 14.890625 38.140625 10.796875 36.28125 \nz\n\" id=\"DejaVuSans-53\"/>\n      </defs>\n      <g transform=\"translate(165.773352 239.238437)scale(0.1 -0.1)\">\n       <use xlink:href=\"#DejaVuSans-49\"/>\n       <use x=\"63.623047\" xlink:href=\"#DejaVuSans-53\"/>\n       <use x=\"127.246094\" xlink:href=\"#DejaVuSans-48\"/>\n       <use x=\"190.869141\" xlink:href=\"#DejaVuSans-48\"/>\n      </g>\n     </g>\n    </g>\n    <g id=\"xtick_7\">\n     <g id=\"line2d_7\">\n      <g>\n       <use style=\"stroke:#000000;stroke-width:0.8;\" x=\"140.405281\" xlink:href=\"#mbdd886be12\" y=\"224.64\"/>\n      </g>\n     </g>\n     <g id=\"text_7\">\n      <!-- 1600 -->\n      <defs>\n       <path d=\"M 33.015625 40.375 \nQ 26.375 40.375 22.484375 35.828125 \nQ 18.609375 31.296875 18.609375 23.390625 \nQ 18.609375 15.53125 22.484375 10.953125 \nQ 26.375 6.390625 33.015625 6.390625 \nQ 39.65625 6.390625 43.53125 10.953125 \nQ 47.40625 15.53125 47.40625 23.390625 \nQ 47.40625 31.296875 43.53125 35.828125 \nQ 39.65625 40.375 33.015625 40.375 \nz\nM 52.59375 71.296875 \nL 52.59375 62.3125 \nQ 48.875 64.0625 45.09375 64.984375 \nQ 41.3125 65.921875 37.59375 65.921875 \nQ 27.828125 65.921875 22.671875 59.328125 \nQ 17.53125 52.734375 16.796875 39.40625 \nQ 19.671875 43.65625 24.015625 45.921875 \nQ 28.375 48.1875 33.59375 48.1875 \nQ 44.578125 48.1875 50.953125 41.515625 \nQ 57.328125 34.859375 57.328125 23.390625 \nQ 57.328125 12.15625 50.6875 5.359375 \nQ 44.046875 -1.421875 33.015625 -1.421875 \nQ 20.359375 -1.421875 13.671875 8.265625 \nQ 6.984375 17.96875 6.984375 36.375 \nQ 6.984375 53.65625 15.1875 63.9375 \nQ 23.390625 74.21875 37.203125 74.21875 \nQ 40.921875 74.21875 44.703125 73.484375 \nQ 48.484375 72.75 52.59375 71.296875 \nz\n\" id=\"DejaVuSans-54\"/>\n      </defs>\n      <g transform=\"translate(127.680281 239.238437)scale(0.1 -0.1)\">\n       <use xlink:href=\"#DejaVuSans-49\"/>\n       <use x=\"63.623047\" xlink:href=\"#DejaVuSans-54\"/>\n       <use x=\"127.246094\" xlink:href=\"#DejaVuSans-48\"/>\n       <use x=\"190.869141\" xlink:href=\"#DejaVuSans-48\"/>\n      </g>\n     </g>\n    </g>\n    <g id=\"xtick_8\">\n     <g id=\"line2d_8\">\n      <g>\n       <use style=\"stroke:#000000;stroke-width:0.8;\" x=\"102.312211\" xlink:href=\"#mbdd886be12\" y=\"224.64\"/>\n      </g>\n     </g>\n     <g id=\"text_8\">\n      <!-- 1700 -->\n      <defs>\n       <path d=\"M 8.203125 72.90625 \nL 55.078125 72.90625 \nL 55.078125 68.703125 \nL 28.609375 0 \nL 18.3125 0 \nL 43.21875 64.59375 \nL 8.203125 64.59375 \nz\n\" id=\"DejaVuSans-55\"/>\n      </defs>\n      <g transform=\"translate(89.587211 239.238437)scale(0.1 -0.1)\">\n       <use xlink:href=\"#DejaVuSans-49\"/>\n       <use x=\"63.623047\" xlink:href=\"#DejaVuSans-55\"/>\n       <use x=\"127.246094\" xlink:href=\"#DejaVuSans-48\"/>\n       <use x=\"190.869141\" xlink:href=\"#DejaVuSans-48\"/>\n      </g>\n     </g>\n    </g>\n    <g id=\"xtick_9\">\n     <g id=\"line2d_9\">\n      <g>\n       <use style=\"stroke:#000000;stroke-width:0.8;\" x=\"64.21914\" xlink:href=\"#mbdd886be12\" y=\"224.64\"/>\n      </g>\n     </g>\n     <g id=\"text_9\">\n      <!-- 1800 -->\n      <defs>\n       <path d=\"M 31.78125 34.625 \nQ 24.75 34.625 20.71875 30.859375 \nQ 16.703125 27.09375 16.703125 20.515625 \nQ 16.703125 13.921875 20.71875 10.15625 \nQ 24.75 6.390625 31.78125 6.390625 \nQ 38.8125 6.390625 42.859375 10.171875 \nQ 46.921875 13.96875 46.921875 20.515625 \nQ 46.921875 27.09375 42.890625 30.859375 \nQ 38.875 34.625 31.78125 34.625 \nz\nM 21.921875 38.8125 \nQ 15.578125 40.375 12.03125 44.71875 \nQ 8.5 49.078125 8.5 55.328125 \nQ 8.5 64.0625 14.71875 69.140625 \nQ 20.953125 74.21875 31.78125 74.21875 \nQ 42.671875 74.21875 48.875 69.140625 \nQ 55.078125 64.0625 55.078125 55.328125 \nQ 55.078125 49.078125 51.53125 44.71875 \nQ 48 40.375 41.703125 38.8125 \nQ 48.828125 37.15625 52.796875 32.3125 \nQ 56.78125 27.484375 56.78125 20.515625 \nQ 56.78125 9.90625 50.3125 4.234375 \nQ 43.84375 -1.421875 31.78125 -1.421875 \nQ 19.734375 -1.421875 13.25 4.234375 \nQ 6.78125 9.90625 6.78125 20.515625 \nQ 6.78125 27.484375 10.78125 32.3125 \nQ 14.796875 37.15625 21.921875 38.8125 \nz\nM 18.3125 54.390625 \nQ 18.3125 48.734375 21.84375 45.5625 \nQ 25.390625 42.390625 31.78125 42.390625 \nQ 38.140625 42.390625 41.71875 45.5625 \nQ 45.3125 48.734375 45.3125 54.390625 \nQ 45.3125 60.0625 41.71875 63.234375 \nQ 38.140625 66.40625 31.78125 66.40625 \nQ 25.390625 66.40625 21.84375 63.234375 \nQ 18.3125 60.0625 18.3125 54.390625 \nz\n\" id=\"DejaVuSans-56\"/>\n      </defs>\n      <g transform=\"translate(51.49414 239.238437)scale(0.1 -0.1)\">\n       <use xlink:href=\"#DejaVuSans-49\"/>\n       <use x=\"63.623047\" xlink:href=\"#DejaVuSans-56\"/>\n       <use x=\"127.246094\" xlink:href=\"#DejaVuSans-48\"/>\n       <use x=\"190.869141\" xlink:href=\"#DejaVuSans-48\"/>\n      </g>\n     </g>\n    </g>\n    <g id=\"text_10\">\n     <!-- Wavenumber $(cm^{-1})$ -->\n     <defs>\n      <path d=\"M 3.328125 72.90625 \nL 13.28125 72.90625 \nL 28.609375 11.28125 \nL 43.890625 72.90625 \nL 54.984375 72.90625 \nL 70.3125 11.28125 \nL 85.59375 72.90625 \nL 95.609375 72.90625 \nL 77.296875 0 \nL 64.890625 0 \nL 49.515625 63.28125 \nL 33.984375 0 \nL 21.578125 0 \nz\n\" id=\"DejaVuSans-87\"/>\n      <path d=\"M 34.28125 27.484375 \nQ 23.390625 27.484375 19.1875 25 \nQ 14.984375 22.515625 14.984375 16.5 \nQ 14.984375 11.71875 18.140625 8.90625 \nQ 21.296875 6.109375 26.703125 6.109375 \nQ 34.1875 6.109375 38.703125 11.40625 \nQ 43.21875 16.703125 43.21875 25.484375 \nL 43.21875 27.484375 \nz\nM 52.203125 31.203125 \nL 52.203125 0 \nL 43.21875 0 \nL 43.21875 8.296875 \nQ 40.140625 3.328125 35.546875 0.953125 \nQ 30.953125 -1.421875 24.3125 -1.421875 \nQ 15.921875 -1.421875 10.953125 3.296875 \nQ 6 8.015625 6 15.921875 \nQ 6 25.140625 12.171875 29.828125 \nQ 18.359375 34.515625 30.609375 34.515625 \nL 43.21875 34.515625 \nL 43.21875 35.40625 \nQ 43.21875 41.609375 39.140625 45 \nQ 35.0625 48.390625 27.6875 48.390625 \nQ 23 48.390625 18.546875 47.265625 \nQ 14.109375 46.140625 10.015625 43.890625 \nL 10.015625 52.203125 \nQ 14.9375 54.109375 19.578125 55.046875 \nQ 24.21875 56 28.609375 56 \nQ 40.484375 56 46.34375 49.84375 \nQ 52.203125 43.703125 52.203125 31.203125 \nz\n\" id=\"DejaVuSans-97\"/>\n      <path d=\"M 2.984375 54.6875 \nL 12.5 54.6875 \nL 29.59375 8.796875 \nL 46.6875 54.6875 \nL 56.203125 54.6875 \nL 35.6875 0 \nL 23.484375 0 \nz\n\" id=\"DejaVuSans-118\"/>\n      <path d=\"M 56.203125 29.59375 \nL 56.203125 25.203125 \nL 14.890625 25.203125 \nQ 15.484375 15.921875 20.484375 11.0625 \nQ 25.484375 6.203125 34.421875 6.203125 \nQ 39.59375 6.203125 44.453125 7.46875 \nQ 49.3125 8.734375 54.109375 11.28125 \nL 54.109375 2.78125 \nQ 49.265625 0.734375 44.1875 -0.34375 \nQ 39.109375 -1.421875 33.890625 -1.421875 \nQ 20.796875 -1.421875 13.15625 6.1875 \nQ 5.515625 13.8125 5.515625 26.8125 \nQ 5.515625 40.234375 12.765625 48.109375 \nQ 20.015625 56 32.328125 56 \nQ 43.359375 56 49.78125 48.890625 \nQ 56.203125 41.796875 56.203125 29.59375 \nz\nM 47.21875 32.234375 \nQ 47.125 39.59375 43.09375 43.984375 \nQ 39.0625 48.390625 32.421875 48.390625 \nQ 24.90625 48.390625 20.390625 44.140625 \nQ 15.875 39.890625 15.1875 32.171875 \nz\n\" id=\"DejaVuSans-101\"/>\n      <path d=\"M 54.890625 33.015625 \nL 54.890625 0 \nL 45.90625 0 \nL 45.90625 32.71875 \nQ 45.90625 40.484375 42.875 44.328125 \nQ 39.84375 48.1875 33.796875 48.1875 \nQ 26.515625 48.1875 22.3125 43.546875 \nQ 18.109375 38.921875 18.109375 30.90625 \nL 18.109375 0 \nL 9.078125 0 \nL 9.078125 54.6875 \nL 18.109375 54.6875 \nL 18.109375 46.1875 \nQ 21.34375 51.125 25.703125 53.5625 \nQ 30.078125 56 35.796875 56 \nQ 45.21875 56 50.046875 50.171875 \nQ 54.890625 44.34375 54.890625 33.015625 \nz\n\" id=\"DejaVuSans-110\"/>\n      <path d=\"M 8.5 21.578125 \nL 8.5 54.6875 \nL 17.484375 54.6875 \nL 17.484375 21.921875 \nQ 17.484375 14.15625 20.5 10.265625 \nQ 23.53125 6.390625 29.59375 6.390625 \nQ 36.859375 6.390625 41.078125 11.03125 \nQ 45.3125 15.671875 45.3125 23.6875 \nL 45.3125 54.6875 \nL 54.296875 54.6875 \nL 54.296875 0 \nL 45.3125 0 \nL 45.3125 8.40625 \nQ 42.046875 3.421875 37.71875 1 \nQ 33.40625 -1.421875 27.6875 -1.421875 \nQ 18.265625 -1.421875 13.375 4.4375 \nQ 8.5 10.296875 8.5 21.578125 \nz\nM 31.109375 56 \nz\n\" id=\"DejaVuSans-117\"/>\n      <path d=\"M 52 44.1875 \nQ 55.375 50.25 60.0625 53.125 \nQ 64.75 56 71.09375 56 \nQ 79.640625 56 84.28125 50.015625 \nQ 88.921875 44.046875 88.921875 33.015625 \nL 88.921875 0 \nL 79.890625 0 \nL 79.890625 32.71875 \nQ 79.890625 40.578125 77.09375 44.375 \nQ 74.3125 48.1875 68.609375 48.1875 \nQ 61.625 48.1875 57.5625 43.546875 \nQ 53.515625 38.921875 53.515625 30.90625 \nL 53.515625 0 \nL 44.484375 0 \nL 44.484375 32.71875 \nQ 44.484375 40.625 41.703125 44.40625 \nQ 38.921875 48.1875 33.109375 48.1875 \nQ 26.21875 48.1875 22.15625 43.53125 \nQ 18.109375 38.875 18.109375 30.90625 \nL 18.109375 0 \nL 9.078125 0 \nL 9.078125 54.6875 \nL 18.109375 54.6875 \nL 18.109375 46.1875 \nQ 21.1875 51.21875 25.484375 53.609375 \nQ 29.78125 56 35.6875 56 \nQ 41.65625 56 45.828125 52.96875 \nQ 50 49.953125 52 44.1875 \nz\n\" id=\"DejaVuSans-109\"/>\n      <path d=\"M 48.6875 27.296875 \nQ 48.6875 37.203125 44.609375 42.84375 \nQ 40.53125 48.484375 33.40625 48.484375 \nQ 26.265625 48.484375 22.1875 42.84375 \nQ 18.109375 37.203125 18.109375 27.296875 \nQ 18.109375 17.390625 22.1875 11.75 \nQ 26.265625 6.109375 33.40625 6.109375 \nQ 40.53125 6.109375 44.609375 11.75 \nQ 48.6875 17.390625 48.6875 27.296875 \nz\nM 18.109375 46.390625 \nQ 20.953125 51.265625 25.265625 53.625 \nQ 29.59375 56 35.59375 56 \nQ 45.5625 56 51.78125 48.09375 \nQ 58.015625 40.1875 58.015625 27.296875 \nQ 58.015625 14.40625 51.78125 6.484375 \nQ 45.5625 -1.421875 35.59375 -1.421875 \nQ 29.59375 -1.421875 25.265625 0.953125 \nQ 20.953125 3.328125 18.109375 8.203125 \nL 18.109375 0 \nL 9.078125 0 \nL 9.078125 75.984375 \nL 18.109375 75.984375 \nz\n\" id=\"DejaVuSans-98\"/>\n      <path d=\"M 41.109375 46.296875 \nQ 39.59375 47.171875 37.8125 47.578125 \nQ 36.03125 48 33.890625 48 \nQ 26.265625 48 22.1875 43.046875 \nQ 18.109375 38.09375 18.109375 28.8125 \nL 18.109375 0 \nL 9.078125 0 \nL 9.078125 54.6875 \nL 18.109375 54.6875 \nL 18.109375 46.1875 \nQ 20.953125 51.171875 25.484375 53.578125 \nQ 30.03125 56 36.53125 56 \nQ 37.453125 56 38.578125 55.875 \nQ 39.703125 55.765625 41.0625 55.515625 \nz\n\" id=\"DejaVuSans-114\"/>\n      <path id=\"DejaVuSans-32\"/>\n      <path d=\"M 31 75.875 \nQ 24.46875 64.65625 21.28125 53.65625 \nQ 18.109375 42.671875 18.109375 31.390625 \nQ 18.109375 20.125 21.3125 9.0625 \nQ 24.515625 -2 31 -13.1875 \nL 23.1875 -13.1875 \nQ 15.875 -1.703125 12.234375 9.375 \nQ 8.59375 20.453125 8.59375 31.390625 \nQ 8.59375 42.28125 12.203125 53.3125 \nQ 15.828125 64.359375 23.1875 75.875 \nz\n\" id=\"DejaVuSans-40\"/>\n      <path d=\"M 53.609375 52.59375 \nL 51.8125 43.703125 \nQ 48.578125 46.046875 44.9375 47.21875 \nQ 41.3125 48.390625 37.40625 48.390625 \nQ 33.109375 48.390625 29.21875 46.875 \nQ 25.34375 45.359375 22.703125 42.578125 \nQ 18.5 38.328125 16.203125 32.609375 \nQ 13.921875 26.90625 13.921875 20.796875 \nQ 13.921875 13.421875 17.609375 9.8125 \nQ 21.296875 6.203125 28.8125 6.203125 \nQ 32.515625 6.203125 36.6875 7.328125 \nQ 40.875 8.453125 45.40625 10.6875 \nL 43.703125 1.8125 \nQ 39.796875 0.203125 35.671875 -0.609375 \nQ 31.546875 -1.421875 27.203125 -1.421875 \nQ 16.3125 -1.421875 10.453125 4.015625 \nQ 4.59375 9.46875 4.59375 19.578125 \nQ 4.59375 28.078125 7.640625 35.234375 \nQ 10.6875 42.390625 16.703125 48.09375 \nQ 20.796875 52 26.3125 54 \nQ 31.84375 56 38.375 56 \nQ 42.1875 56 45.9375 55.140625 \nQ 49.703125 54.296875 53.609375 52.59375 \nz\n\" id=\"DejaVuSans-Oblique-99\"/>\n      <path d=\"M 89.796875 33.015625 \nL 83.40625 0 \nL 74.421875 0 \nL 80.71875 32.71875 \nQ 81.109375 34.8125 81.296875 36.328125 \nQ 81.5 37.84375 81.5 38.921875 \nQ 81.5 43.3125 79.046875 45.75 \nQ 76.609375 48.1875 72.21875 48.1875 \nQ 65.671875 48.1875 60.546875 43.28125 \nQ 55.421875 38.375 53.90625 30.515625 \nL 47.90625 0 \nL 38.921875 0 \nL 45.3125 32.71875 \nQ 45.703125 34.515625 45.890625 36.046875 \nQ 46.09375 37.59375 46.09375 38.8125 \nQ 46.09375 43.265625 43.65625 45.71875 \nQ 41.21875 48.1875 36.921875 48.1875 \nQ 30.28125 48.1875 25.140625 43.28125 \nQ 20.015625 38.375 18.5 30.515625 \nL 12.5 0 \nL 3.515625 0 \nL 14.203125 54.6875 \nL 23.1875 54.6875 \nL 21.484375 46.1875 \nQ 25.140625 50.984375 30.046875 53.484375 \nQ 34.96875 56 40.578125 56 \nQ 46.53125 56 50.359375 52.875 \nQ 54.203125 49.75 54.984375 44.1875 \nQ 59.078125 49.953125 64.46875 52.96875 \nQ 69.875 56 75.875 56 \nQ 82.90625 56 86.734375 51.953125 \nQ 90.578125 47.90625 90.578125 40.484375 \nQ 90.578125 38.875 90.375 36.9375 \nQ 90.1875 35.015625 89.796875 33.015625 \nz\n\" id=\"DejaVuSans-Oblique-109\"/>\n      <path d=\"M 10.59375 35.5 \nL 73.1875 35.5 \nL 73.1875 27.203125 \nL 10.59375 27.203125 \nz\n\" id=\"DejaVuSans-8722\"/>\n      <path d=\"M 8.015625 75.875 \nL 15.828125 75.875 \nQ 23.140625 64.359375 26.78125 53.3125 \nQ 30.421875 42.28125 30.421875 31.390625 \nQ 30.421875 20.453125 26.78125 9.375 \nQ 23.140625 -1.703125 15.828125 -13.1875 \nL 8.015625 -13.1875 \nQ 14.5 -2 17.703125 9.0625 \nQ 20.90625 20.125 20.90625 31.390625 \nQ 20.90625 42.671875 17.703125 53.65625 \nQ 14.5 64.65625 8.015625 75.875 \nz\n\" id=\"DejaVuSans-41\"/>\n     </defs>\n     <g transform=\"translate(165.34375 253.638437)scale(0.1 -0.1)\">\n      <use transform=\"translate(0 0.684375)\" xlink:href=\"#DejaVuSans-87\"/>\n      <use transform=\"translate(98.876953 0.684375)\" xlink:href=\"#DejaVuSans-97\"/>\n      <use transform=\"translate(160.15625 0.684375)\" xlink:href=\"#DejaVuSans-118\"/>\n      <use transform=\"translate(219.335938 0.684375)\" xlink:href=\"#DejaVuSans-101\"/>\n      <use transform=\"translate(280.859375 0.684375)\" xlink:href=\"#DejaVuSans-110\"/>\n      <use transform=\"translate(344.238281 0.684375)\" xlink:href=\"#DejaVuSans-117\"/>\n      <use transform=\"translate(407.617188 0.684375)\" xlink:href=\"#DejaVuSans-109\"/>\n      <use transform=\"translate(505.029297 0.684375)\" xlink:href=\"#DejaVuSans-98\"/>\n      <use transform=\"translate(568.505859 0.684375)\" xlink:href=\"#DejaVuSans-101\"/>\n      <use transform=\"translate(630.029297 0.684375)\" xlink:href=\"#DejaVuSans-114\"/>\n      <use transform=\"translate(671.142578 0.684375)\" xlink:href=\"#DejaVuSans-32\"/>\n      <use transform=\"translate(702.929688 0.684375)\" xlink:href=\"#DejaVuSans-40\"/>\n      <use transform=\"translate(741.943359 0.684375)\" xlink:href=\"#DejaVuSans-Oblique-99\"/>\n      <use transform=\"translate(796.923828 0.684375)\" xlink:href=\"#DejaVuSans-Oblique-109\"/>\n      <use transform=\"translate(898.985833 38.965625)scale(0.7)\" xlink:href=\"#DejaVuSans-8722\"/>\n      <use transform=\"translate(957.638177 38.965625)scale(0.7)\" xlink:href=\"#DejaVuSans-49\"/>\n      <use transform=\"translate(1004.908685 0.684375)\" xlink:href=\"#DejaVuSans-41\"/>\n     </g>\n    </g>\n   </g>\n   <g id=\"matplotlib.axis_2\">\n    <g id=\"ytick_1\">\n     <g id=\"line2d_10\">\n      <defs>\n       <path d=\"M 0 0 \nL -3.5 0 \n\" id=\"m8bc7c7731e\" style=\"stroke:#000000;stroke-width:0.8;\"/>\n      </defs>\n      <g>\n       <use style=\"stroke:#000000;stroke-width:0.8;\" x=\"50.14375\" xlink:href=\"#m8bc7c7731e\" y=\"211.345276\"/>\n      </g>\n     </g>\n     <g id=\"text_11\">\n      <!-- 0.00 -->\n      <defs>\n       <path d=\"M 10.6875 12.40625 \nL 21 12.40625 \nL 21 0 \nL 10.6875 0 \nz\n\" id=\"DejaVuSans-46\"/>\n      </defs>\n      <g transform=\"translate(20.878125 215.144495)scale(0.1 -0.1)\">\n       <use xlink:href=\"#DejaVuSans-48\"/>\n       <use x=\"63.623047\" xlink:href=\"#DejaVuSans-46\"/>\n       <use x=\"95.410156\" xlink:href=\"#DejaVuSans-48\"/>\n       <use x=\"159.033203\" xlink:href=\"#DejaVuSans-48\"/>\n      </g>\n     </g>\n    </g>\n    <g id=\"ytick_2\">\n     <g id=\"line2d_11\">\n      <g>\n       <use style=\"stroke:#000000;stroke-width:0.8;\" x=\"50.14375\" xlink:href=\"#m8bc7c7731e\" y=\"183.917938\"/>\n      </g>\n     </g>\n     <g id=\"text_12\">\n      <!-- 0.05 -->\n      <g transform=\"translate(20.878125 187.717157)scale(0.1 -0.1)\">\n       <use xlink:href=\"#DejaVuSans-48\"/>\n       <use x=\"63.623047\" xlink:href=\"#DejaVuSans-46\"/>\n       <use x=\"95.410156\" xlink:href=\"#DejaVuSans-48\"/>\n       <use x=\"159.033203\" xlink:href=\"#DejaVuSans-53\"/>\n      </g>\n     </g>\n    </g>\n    <g id=\"ytick_3\">\n     <g id=\"line2d_12\">\n      <g>\n       <use style=\"stroke:#000000;stroke-width:0.8;\" x=\"50.14375\" xlink:href=\"#m8bc7c7731e\" y=\"156.4906\"/>\n      </g>\n     </g>\n     <g id=\"text_13\">\n      <!-- 0.10 -->\n      <g transform=\"translate(20.878125 160.289818)scale(0.1 -0.1)\">\n       <use xlink:href=\"#DejaVuSans-48\"/>\n       <use x=\"63.623047\" xlink:href=\"#DejaVuSans-46\"/>\n       <use x=\"95.410156\" xlink:href=\"#DejaVuSans-49\"/>\n       <use x=\"159.033203\" xlink:href=\"#DejaVuSans-48\"/>\n      </g>\n     </g>\n    </g>\n    <g id=\"ytick_4\">\n     <g id=\"line2d_13\">\n      <g>\n       <use style=\"stroke:#000000;stroke-width:0.8;\" x=\"50.14375\" xlink:href=\"#m8bc7c7731e\" y=\"129.063261\"/>\n      </g>\n     </g>\n     <g id=\"text_14\">\n      <!-- 0.15 -->\n      <g transform=\"translate(20.878125 132.86248)scale(0.1 -0.1)\">\n       <use xlink:href=\"#DejaVuSans-48\"/>\n       <use x=\"63.623047\" xlink:href=\"#DejaVuSans-46\"/>\n       <use x=\"95.410156\" xlink:href=\"#DejaVuSans-49\"/>\n       <use x=\"159.033203\" xlink:href=\"#DejaVuSans-53\"/>\n      </g>\n     </g>\n    </g>\n    <g id=\"ytick_5\">\n     <g id=\"line2d_14\">\n      <g>\n       <use style=\"stroke:#000000;stroke-width:0.8;\" x=\"50.14375\" xlink:href=\"#m8bc7c7731e\" y=\"101.635923\"/>\n      </g>\n     </g>\n     <g id=\"text_15\">\n      <!-- 0.20 -->\n      <g transform=\"translate(20.878125 105.435142)scale(0.1 -0.1)\">\n       <use xlink:href=\"#DejaVuSans-48\"/>\n       <use x=\"63.623047\" xlink:href=\"#DejaVuSans-46\"/>\n       <use x=\"95.410156\" xlink:href=\"#DejaVuSans-50\"/>\n       <use x=\"159.033203\" xlink:href=\"#DejaVuSans-48\"/>\n      </g>\n     </g>\n    </g>\n    <g id=\"ytick_6\">\n     <g id=\"line2d_15\">\n      <g>\n       <use style=\"stroke:#000000;stroke-width:0.8;\" x=\"50.14375\" xlink:href=\"#m8bc7c7731e\" y=\"74.208585\"/>\n      </g>\n     </g>\n     <g id=\"text_16\">\n      <!-- 0.25 -->\n      <g transform=\"translate(20.878125 78.007803)scale(0.1 -0.1)\">\n       <use xlink:href=\"#DejaVuSans-48\"/>\n       <use x=\"63.623047\" xlink:href=\"#DejaVuSans-46\"/>\n       <use x=\"95.410156\" xlink:href=\"#DejaVuSans-50\"/>\n       <use x=\"159.033203\" xlink:href=\"#DejaVuSans-53\"/>\n      </g>\n     </g>\n    </g>\n    <g id=\"ytick_7\">\n     <g id=\"line2d_16\">\n      <g>\n       <use style=\"stroke:#000000;stroke-width:0.8;\" x=\"50.14375\" xlink:href=\"#m8bc7c7731e\" y=\"46.781246\"/>\n      </g>\n     </g>\n     <g id=\"text_17\">\n      <!-- 0.30 -->\n      <g transform=\"translate(20.878125 50.580465)scale(0.1 -0.1)\">\n       <use xlink:href=\"#DejaVuSans-48\"/>\n       <use x=\"63.623047\" xlink:href=\"#DejaVuSans-46\"/>\n       <use x=\"95.410156\" xlink:href=\"#DejaVuSans-51\"/>\n       <use x=\"159.033203\" xlink:href=\"#DejaVuSans-48\"/>\n      </g>\n     </g>\n    </g>\n    <g id=\"ytick_8\">\n     <g id=\"line2d_17\">\n      <g>\n       <use style=\"stroke:#000000;stroke-width:0.8;\" x=\"50.14375\" xlink:href=\"#m8bc7c7731e\" y=\"19.353908\"/>\n      </g>\n     </g>\n     <g id=\"text_18\">\n      <!-- 0.35 -->\n      <g transform=\"translate(20.878125 23.153127)scale(0.1 -0.1)\">\n       <use xlink:href=\"#DejaVuSans-48\"/>\n       <use x=\"63.623047\" xlink:href=\"#DejaVuSans-46\"/>\n       <use x=\"95.410156\" xlink:href=\"#DejaVuSans-51\"/>\n       <use x=\"159.033203\" xlink:href=\"#DejaVuSans-53\"/>\n      </g>\n     </g>\n    </g>\n    <g id=\"text_19\">\n     <!-- Absorbance (a.u) -->\n     <defs>\n      <path d=\"M 34.1875 63.1875 \nL 20.796875 26.90625 \nL 47.609375 26.90625 \nz\nM 28.609375 72.90625 \nL 39.796875 72.90625 \nL 67.578125 0 \nL 57.328125 0 \nL 50.6875 18.703125 \nL 17.828125 18.703125 \nL 11.1875 0 \nL 0.78125 0 \nz\n\" id=\"DejaVuSans-65\"/>\n      <path d=\"M 44.28125 53.078125 \nL 44.28125 44.578125 \nQ 40.484375 46.53125 36.375 47.5 \nQ 32.28125 48.484375 27.875 48.484375 \nQ 21.1875 48.484375 17.84375 46.4375 \nQ 14.5 44.390625 14.5 40.28125 \nQ 14.5 37.15625 16.890625 35.375 \nQ 19.28125 33.59375 26.515625 31.984375 \nL 29.59375 31.296875 \nQ 39.15625 29.25 43.1875 25.515625 \nQ 47.21875 21.78125 47.21875 15.09375 \nQ 47.21875 7.46875 41.1875 3.015625 \nQ 35.15625 -1.421875 24.609375 -1.421875 \nQ 20.21875 -1.421875 15.453125 -0.5625 \nQ 10.6875 0.296875 5.421875 2 \nL 5.421875 11.28125 \nQ 10.40625 8.6875 15.234375 7.390625 \nQ 20.0625 6.109375 24.8125 6.109375 \nQ 31.15625 6.109375 34.5625 8.28125 \nQ 37.984375 10.453125 37.984375 14.40625 \nQ 37.984375 18.0625 35.515625 20.015625 \nQ 33.0625 21.96875 24.703125 23.78125 \nL 21.578125 24.515625 \nQ 13.234375 26.265625 9.515625 29.90625 \nQ 5.8125 33.546875 5.8125 39.890625 \nQ 5.8125 47.609375 11.28125 51.796875 \nQ 16.75 56 26.8125 56 \nQ 31.78125 56 36.171875 55.265625 \nQ 40.578125 54.546875 44.28125 53.078125 \nz\n\" id=\"DejaVuSans-115\"/>\n      <path d=\"M 30.609375 48.390625 \nQ 23.390625 48.390625 19.1875 42.75 \nQ 14.984375 37.109375 14.984375 27.296875 \nQ 14.984375 17.484375 19.15625 11.84375 \nQ 23.34375 6.203125 30.609375 6.203125 \nQ 37.796875 6.203125 41.984375 11.859375 \nQ 46.1875 17.53125 46.1875 27.296875 \nQ 46.1875 37.015625 41.984375 42.703125 \nQ 37.796875 48.390625 30.609375 48.390625 \nz\nM 30.609375 56 \nQ 42.328125 56 49.015625 48.375 \nQ 55.71875 40.765625 55.71875 27.296875 \nQ 55.71875 13.875 49.015625 6.21875 \nQ 42.328125 -1.421875 30.609375 -1.421875 \nQ 18.84375 -1.421875 12.171875 6.21875 \nQ 5.515625 13.875 5.515625 27.296875 \nQ 5.515625 40.765625 12.171875 48.375 \nQ 18.84375 56 30.609375 56 \nz\n\" id=\"DejaVuSans-111\"/>\n      <path d=\"M 48.78125 52.59375 \nL 48.78125 44.1875 \nQ 44.96875 46.296875 41.140625 47.34375 \nQ 37.3125 48.390625 33.40625 48.390625 \nQ 24.65625 48.390625 19.8125 42.84375 \nQ 14.984375 37.3125 14.984375 27.296875 \nQ 14.984375 17.28125 19.8125 11.734375 \nQ 24.65625 6.203125 33.40625 6.203125 \nQ 37.3125 6.203125 41.140625 7.25 \nQ 44.96875 8.296875 48.78125 10.40625 \nL 48.78125 2.09375 \nQ 45.015625 0.34375 40.984375 -0.53125 \nQ 36.96875 -1.421875 32.421875 -1.421875 \nQ 20.0625 -1.421875 12.78125 6.34375 \nQ 5.515625 14.109375 5.515625 27.296875 \nQ 5.515625 40.671875 12.859375 48.328125 \nQ 20.21875 56 33.015625 56 \nQ 37.15625 56 41.109375 55.140625 \nQ 45.0625 54.296875 48.78125 52.59375 \nz\n\" id=\"DejaVuSans-99\"/>\n     </defs>\n     <g transform=\"translate(14.798438 158.779375)rotate(-90)scale(0.1 -0.1)\">\n      <use xlink:href=\"#DejaVuSans-65\"/>\n      <use x=\"68.408203\" xlink:href=\"#DejaVuSans-98\"/>\n      <use x=\"131.884766\" xlink:href=\"#DejaVuSans-115\"/>\n      <use x=\"183.984375\" xlink:href=\"#DejaVuSans-111\"/>\n      <use x=\"245.166016\" xlink:href=\"#DejaVuSans-114\"/>\n      <use x=\"286.279297\" xlink:href=\"#DejaVuSans-98\"/>\n      <use x=\"349.755859\" xlink:href=\"#DejaVuSans-97\"/>\n      <use x=\"411.035156\" xlink:href=\"#DejaVuSans-110\"/>\n      <use x=\"474.414062\" xlink:href=\"#DejaVuSans-99\"/>\n      <use x=\"529.394531\" xlink:href=\"#DejaVuSans-101\"/>\n      <use x=\"590.917969\" xlink:href=\"#DejaVuSans-32\"/>\n      <use x=\"622.705078\" xlink:href=\"#DejaVuSans-40\"/>\n      <use x=\"661.71875\" xlink:href=\"#DejaVuSans-97\"/>\n      <use x=\"722.998047\" xlink:href=\"#DejaVuSans-46\"/>\n      <use x=\"754.785156\" xlink:href=\"#DejaVuSans-117\"/>\n      <use x=\"818.164062\" xlink:href=\"#DejaVuSans-41\"/>\n     </g>\n    </g>\n   </g>\n   <g id=\"line2d_18\">\n    <path clip-path=\"url(#pa1fc4b5bdc)\" d=\"M 369.725568 186.359419 \nL 366.678123 184.077363 \nL 363.630677 181.352866 \nL 360.583231 178.550275 \nL 359.440439 176.978317 \nL 356.392993 173.991621 \nL 353.345548 171.297325 \nL 351.821825 170.043485 \nL 350.298102 168.977875 \nL 349.15531 167.791463 \nL 346.107864 165.600843 \nL 344.584141 164.626839 \nL 343.060419 163.819801 \nL 341.536696 163.207541 \nL 338.870181 162.832507 \nL 337.346458 162.897764 \nL 334.299012 163.350022 \nL 331.251567 163.820231 \nL 328.585052 164.107199 \nL 325.537606 164.312595 \nL 324.013883 164.624673 \nL 322.49016 165.189271 \nL 320.966437 165.974088 \nL 319.442715 166.902926 \nL 318.299922 167.837695 \nL 316.7762 168.669716 \nL 315.252477 169.298745 \nL 313.728754 169.638047 \nL 312.205031 169.677307 \nL 310.681308 169.494876 \nL 308.014793 168.907718 \nL 306.491071 168.820947 \nL 304.967348 168.939842 \nL 298.872456 169.885981 \nL 297.729664 169.792585 \nL 296.205941 169.363606 \nL 294.682219 168.585953 \nL 293.158496 167.558136 \nL 290.11105 164.974941 \nL 288.587327 163.441792 \nL 287.444535 161.918455 \nL 284.397089 159.05132 \nL 282.873367 157.919697 \nL 281.349644 157.131501 \nL 279.825921 156.753973 \nL 278.302198 156.739366 \nL 277.159406 157.179482 \nL 275.635683 157.951637 \nL 272.588237 160.035782 \nL 269.540792 162.229206 \nL 268.017069 163.129586 \nL 266.874277 163.983551 \nL 263.826831 165.377787 \nL 260.779385 166.352081 \nL 259.255663 166.67853 \nL 256.589148 167.065731 \nL 253.541702 167.607217 \nL 252.017979 168.088321 \nL 250.494256 168.746176 \nL 247.446811 170.301718 \nL 246.304019 171.151571 \nL 243.256573 172.566851 \nL 241.73285 173.106559 \nL 183.069521 166.360468 \nL 181.545798 168.532254 \nL 180.022075 162.54464 \nL 178.498352 154.895389 \nL 176.97463 148.13691 \nL 175.450907 141.9616 \nL 174.308115 136.092181 \nL 171.260669 124.848401 \nL 169.736946 119.999634 \nL 168.213223 116.187991 \nL 165.165778 110.12717 \nL 164.022985 108.210526 \nL 162.499263 108.664182 \nL 160.97554 111.590444 \nL 159.451817 116.168578 \nL 157.928094 121.85445 \nL 154.880648 135.255108 \nL 153.737856 141.556015 \nL 152.214133 146.324162 \nL 150.690411 149.504557 \nL 149.166688 151.710257 \nL 147.642965 153.539803 \nL 146.119242 154.822199 \nL 144.595519 155.419157 \nL 143.452727 155.422137 \nL 141.929004 154.963073 \nL 140.405281 154.056767 \nL 138.881559 152.248277 \nL 137.357836 149.067338 \nL 135.834113 143.992688 \nL 134.31039 136.818562 \nL 133.167598 127.651464 \nL 131.643875 116.653459 \nL 130.120152 104.104391 \nL 125.548984 63.905131 \nL 122.882469 42.732486 \nL 121.358746 36.354997 \nL 119.835023 34.028959 \nL 118.3113 36.065392 \nL 116.787578 41.786543 \nL 115.263855 50.474556 \nL 113.740132 61.446953 \nL 112.59734 73.346246 \nL 103.455003 143.95933 \nL 102.312211 154.57868 \nL 100.788488 164.098346 \nL 99.264765 171.933081 \nL 97.741042 177.578043 \nL 96.217319 181.601615 \nL 94.693596 184.860545 \nL 92.027081 189.426334 \nL 90.503359 190.656762 \nL 87.455913 192.660868 \nL 85.93219 193.420719 \nL 84.408467 193.735344 \nL 82.884744 193.855058 \nL 78.694507 194.832074 \nL 77.170784 194.831888 \nL 71.456823 194.272327 \nL 66.885655 193.5228 \nL 65.361932 193.348046 \nL 65.361932 193.348046 \n\" style=\"fill:none;stroke:#1f77b4;stroke-linecap:square;stroke-width:1.5;\"/>\n   </g>\n   <g id=\"line2d_19\">\n    <path clip-path=\"url(#pa1fc4b5bdc)\" d=\"M 369.725568 202.069608 \nL 368.201845 200.702668 \nL 366.678123 199.103495 \nL 363.630677 195.401757 \nL 362.106954 193.395835 \nL 360.583231 191.600432 \nL 359.440439 189.541553 \nL 356.392993 185.764784 \nL 354.869271 184.079505 \nL 351.821825 181.141709 \nL 350.298102 179.983119 \nL 349.15531 178.722449 \nL 344.584141 175.253484 \nL 343.060419 174.218948 \nL 341.536696 173.343441 \nL 338.870181 172.584924 \nL 337.346458 172.614178 \nL 335.822735 172.911421 \nL 329.727844 174.756665 \nL 328.585052 174.975254 \nL 325.537606 175.361013 \nL 324.013883 175.823526 \nL 322.49016 176.590711 \nL 319.442715 178.799781 \nL 318.299922 179.960454 \nL 316.7762 180.948103 \nL 315.252477 181.650691 \nL 313.728754 182.003903 \nL 312.205031 182.025622 \nL 310.681308 181.843052 \nL 308.014793 181.420473 \nL 306.491071 181.567611 \nL 304.967348 181.986973 \nL 300.396179 183.765528 \nL 298.872456 184.043376 \nL 297.729664 184.057819 \nL 296.205941 183.650041 \nL 294.682219 182.816085 \nL 293.158496 181.689395 \nL 291.634773 180.35085 \nL 290.11105 178.861714 \nL 288.587327 177.157507 \nL 287.444535 175.471746 \nL 284.397089 172.211181 \nL 282.873367 170.873994 \nL 281.349644 169.921717 \nL 279.825921 169.462683 \nL 278.302198 169.450507 \nL 277.159406 170.060867 \nL 275.635683 171.125287 \nL 274.11196 172.497188 \nL 269.540792 177.162506 \nL 268.017069 178.43103 \nL 266.874277 179.627252 \nL 265.350554 180.648651 \nL 263.826831 181.516765 \nL 262.303108 182.230092 \nL 259.255663 183.283381 \nL 257.73194 183.573913 \nL 252.017979 185.544184 \nL 250.494256 186.429791 \nL 247.446811 188.445409 \nL 246.304019 189.534809 \nL 243.256573 191.380395 \nL 241.73285 192.135474 \nL 183.069521 189.352282 \nL 181.545798 191.947826 \nL 180.022075 184.879584 \nL 178.498352 175.835415 \nL 175.450907 159.884662 \nL 174.308115 152.368447 \nL 171.260669 137.894348 \nL 169.736946 131.447413 \nL 168.213223 126.014697 \nL 166.6895 121.246641 \nL 164.022985 113.640528 \nL 162.499263 113.100686 \nL 160.97554 115.575269 \nL 159.451817 120.382814 \nL 157.928094 126.961228 \nL 156.404371 134.803904 \nL 154.880648 143.362237 \nL 153.737856 151.374756 \nL 152.214133 157.822398 \nL 150.690411 162.549834 \nL 149.166688 166.044784 \nL 147.642965 168.878312 \nL 146.119242 170.931139 \nL 144.595519 172.082142 \nL 143.452727 172.34823 \nL 141.929004 171.791937 \nL 140.405281 170.363002 \nL 138.881559 167.532952 \nL 137.357836 162.730536 \nL 135.834113 155.375835 \nL 134.31039 145.310293 \nL 133.167598 132.758291 \nL 131.643875 118.137257 \nL 128.596429 85.004668 \nL 125.548984 52.065491 \nL 122.882469 26.593985 \nL 121.358746 19.320888 \nL 119.835023 17.083636 \nL 118.3113 20.23286 \nL 116.787578 28.01271 \nL 115.263855 39.483017 \nL 113.740132 53.607464 \nL 112.59734 68.652107 \nL 104.978726 142.262305 \nL 103.455003 156.18123 \nL 102.312211 168.834259 \nL 100.788488 179.933106 \nL 99.264765 188.951125 \nL 97.741042 195.49972 \nL 96.217319 200.148794 \nL 94.693596 203.781024 \nL 92.027081 208.883034 \nL 90.503359 210.344185 \nL 87.455913 212.589054 \nL 85.93219 213.391115 \nL 84.408467 213.747607 \nL 81.741952 214.190901 \nL 80.218229 214.568806 \nL 78.694507 214.756364 \nL 77.170784 214.688506 \nL 72.599615 214.130618 \nL 66.885655 212.593507 \nL 65.361932 212.233151 \nL 65.361932 212.233151 \n\" style=\"fill:none;stroke:#ff7f0e;stroke-linecap:square;stroke-width:1.5;\"/>\n   </g>\n   <g id=\"patch_3\">\n    <path d=\"M 50.14375 224.64 \nL 50.14375 7.2 \n\" style=\"fill:none;stroke:#000000;stroke-linecap:square;stroke-linejoin:miter;stroke-width:0.8;\"/>\n   </g>\n   <g id=\"patch_4\">\n    <path d=\"M 384.94375 224.64 \nL 384.94375 7.2 \n\" style=\"fill:none;stroke:#000000;stroke-linecap:square;stroke-linejoin:miter;stroke-width:0.8;\"/>\n   </g>\n   <g id=\"patch_5\">\n    <path d=\"M 50.14375 224.64 \nL 384.94375 224.64 \n\" style=\"fill:none;stroke:#000000;stroke-linecap:square;stroke-linejoin:miter;stroke-width:0.8;\"/>\n   </g>\n   <g id=\"patch_6\">\n    <path d=\"M 50.14375 7.2 \nL 384.94375 7.2 \n\" style=\"fill:none;stroke:#000000;stroke-linecap:square;stroke-linejoin:miter;stroke-width:0.8;\"/>\n   </g>\n   <g id=\"legend_1\">\n    <g id=\"patch_7\">\n     <path d=\"M 316.557813 59.234375 \nL 377.94375 59.234375 \nQ 379.94375 59.234375 379.94375 57.234375 \nL 379.94375 14.2 \nQ 379.94375 12.2 377.94375 12.2 \nL 316.557813 12.2 \nQ 314.557813 12.2 314.557813 14.2 \nL 314.557813 57.234375 \nQ 314.557813 59.234375 316.557813 59.234375 \nz\n\" style=\"fill:#ffffff;opacity:0.8;stroke:#cccccc;stroke-linejoin:miter;\"/>\n    </g>\n    <g id=\"text_20\">\n     <!-- 1yeardeath -->\n     <defs>\n      <path d=\"M 32.171875 -5.078125 \nQ 28.375 -14.84375 24.75 -17.8125 \nQ 21.140625 -20.796875 15.09375 -20.796875 \nL 7.90625 -20.796875 \nL 7.90625 -13.28125 \nL 13.1875 -13.28125 \nQ 16.890625 -13.28125 18.9375 -11.515625 \nQ 21 -9.765625 23.484375 -3.21875 \nL 25.09375 0.875 \nL 2.984375 54.6875 \nL 12.5 54.6875 \nL 29.59375 11.921875 \nL 46.6875 54.6875 \nL 56.203125 54.6875 \nz\n\" id=\"DejaVuSans-121\"/>\n      <path d=\"M 45.40625 46.390625 \nL 45.40625 75.984375 \nL 54.390625 75.984375 \nL 54.390625 0 \nL 45.40625 0 \nL 45.40625 8.203125 \nQ 42.578125 3.328125 38.25 0.953125 \nQ 33.9375 -1.421875 27.875 -1.421875 \nQ 17.96875 -1.421875 11.734375 6.484375 \nQ 5.515625 14.40625 5.515625 27.296875 \nQ 5.515625 40.1875 11.734375 48.09375 \nQ 17.96875 56 27.875 56 \nQ 33.9375 56 38.25 53.625 \nQ 42.578125 51.265625 45.40625 46.390625 \nz\nM 14.796875 27.296875 \nQ 14.796875 17.390625 18.875 11.75 \nQ 22.953125 6.109375 30.078125 6.109375 \nQ 37.203125 6.109375 41.296875 11.75 \nQ 45.40625 17.390625 45.40625 27.296875 \nQ 45.40625 37.203125 41.296875 42.84375 \nQ 37.203125 48.484375 30.078125 48.484375 \nQ 22.953125 48.484375 18.875 42.84375 \nQ 14.796875 37.203125 14.796875 27.296875 \nz\n\" id=\"DejaVuSans-100\"/>\n      <path d=\"M 18.3125 70.21875 \nL 18.3125 54.6875 \nL 36.8125 54.6875 \nL 36.8125 47.703125 \nL 18.3125 47.703125 \nL 18.3125 18.015625 \nQ 18.3125 11.328125 20.140625 9.421875 \nQ 21.96875 7.515625 27.59375 7.515625 \nL 36.8125 7.515625 \nL 36.8125 0 \nL 27.59375 0 \nQ 17.1875 0 13.234375 3.875 \nQ 9.28125 7.765625 9.28125 18.015625 \nL 9.28125 47.703125 \nL 2.6875 47.703125 \nL 2.6875 54.6875 \nL 9.28125 54.6875 \nL 9.28125 70.21875 \nz\n\" id=\"DejaVuSans-116\"/>\n      <path d=\"M 54.890625 33.015625 \nL 54.890625 0 \nL 45.90625 0 \nL 45.90625 32.71875 \nQ 45.90625 40.484375 42.875 44.328125 \nQ 39.84375 48.1875 33.796875 48.1875 \nQ 26.515625 48.1875 22.3125 43.546875 \nQ 18.109375 38.921875 18.109375 30.90625 \nL 18.109375 0 \nL 9.078125 0 \nL 9.078125 75.984375 \nL 18.109375 75.984375 \nL 18.109375 46.1875 \nQ 21.34375 51.125 25.703125 53.5625 \nQ 30.078125 56 35.796875 56 \nQ 45.21875 56 50.046875 50.171875 \nQ 54.890625 44.34375 54.890625 33.015625 \nz\n\" id=\"DejaVuSans-104\"/>\n     </defs>\n     <g transform=\"translate(318.557813 23.798438)scale(0.1 -0.1)\">\n      <use xlink:href=\"#DejaVuSans-49\"/>\n      <use x=\"63.623047\" xlink:href=\"#DejaVuSans-121\"/>\n      <use x=\"122.802734\" xlink:href=\"#DejaVuSans-101\"/>\n      <use x=\"184.326172\" xlink:href=\"#DejaVuSans-97\"/>\n      <use x=\"245.605469\" xlink:href=\"#DejaVuSans-114\"/>\n      <use x=\"284.96875\" xlink:href=\"#DejaVuSans-100\"/>\n      <use x=\"348.445312\" xlink:href=\"#DejaVuSans-101\"/>\n      <use x=\"409.96875\" xlink:href=\"#DejaVuSans-97\"/>\n      <use x=\"471.248047\" xlink:href=\"#DejaVuSans-116\"/>\n      <use x=\"510.457031\" xlink:href=\"#DejaVuSans-104\"/>\n     </g>\n    </g>\n    <g id=\"line2d_20\">\n     <path d=\"M 320.696875 34.976562 \nL 340.696875 34.976562 \n\" style=\"fill:none;stroke:#1f77b4;stroke-linecap:square;stroke-width:1.5;\"/>\n    </g>\n    <g id=\"line2d_21\"/>\n    <g id=\"text_21\">\n     <!-- False -->\n     <defs>\n      <path d=\"M 9.8125 72.90625 \nL 51.703125 72.90625 \nL 51.703125 64.59375 \nL 19.671875 64.59375 \nL 19.671875 43.109375 \nL 48.578125 43.109375 \nL 48.578125 34.8125 \nL 19.671875 34.8125 \nL 19.671875 0 \nL 9.8125 0 \nz\n\" id=\"DejaVuSans-70\"/>\n      <path d=\"M 9.421875 75.984375 \nL 18.40625 75.984375 \nL 18.40625 0 \nL 9.421875 0 \nz\n\" id=\"DejaVuSans-108\"/>\n     </defs>\n     <g transform=\"translate(348.696875 38.476562)scale(0.1 -0.1)\">\n      <use xlink:href=\"#DejaVuSans-70\"/>\n      <use x=\"48.394531\" xlink:href=\"#DejaVuSans-97\"/>\n      <use x=\"109.673828\" xlink:href=\"#DejaVuSans-108\"/>\n      <use x=\"137.457031\" xlink:href=\"#DejaVuSans-115\"/>\n      <use x=\"189.556641\" xlink:href=\"#DejaVuSans-101\"/>\n     </g>\n    </g>\n    <g id=\"line2d_22\">\n     <path d=\"M 320.696875 49.654687 \nL 340.696875 49.654687 \n\" style=\"fill:none;stroke:#ff7f0e;stroke-linecap:square;stroke-width:1.5;\"/>\n    </g>\n    <g id=\"line2d_23\"/>\n    <g id=\"text_22\">\n     <!-- True -->\n     <defs>\n      <path d=\"M -0.296875 72.90625 \nL 61.375 72.90625 \nL 61.375 64.59375 \nL 35.5 64.59375 \nL 35.5 0 \nL 25.59375 0 \nL 25.59375 64.59375 \nL -0.296875 64.59375 \nz\n\" id=\"DejaVuSans-84\"/>\n     </defs>\n     <g transform=\"translate(348.696875 53.154687)scale(0.1 -0.1)\">\n      <use xlink:href=\"#DejaVuSans-84\"/>\n      <use x=\"46.333984\" xlink:href=\"#DejaVuSans-114\"/>\n      <use x=\"87.447266\" xlink:href=\"#DejaVuSans-117\"/>\n      <use x=\"150.826172\" xlink:href=\"#DejaVuSans-101\"/>\n     </g>\n    </g>\n   </g>\n  </g>\n </g>\n <defs>\n  <clipPath id=\"pa1fc4b5bdc\">\n   <rect height=\"217.44\" width=\"334.8\" x=\"50.14375\" y=\"7.2\"/>\n  </clipPath>\n </defs>\n</svg>\n",
      "image/png": "[encoded data removed]"
     },
     "metadata": {
      "needs_background": "light"
     }
    }
   ],
   "source": [
    "fig, axes = plt.subplots(nrows = 1, figsize = (6,4), sharex = True)\n",
    "\n",
    "total.groupby(\"1yeardeath\").mean().T.plot(ax = axes)\n",
    "axes.set_xlabel(\"Wavenumber $(cm^{-1})$\")\n",
    "axes.set_ylabel(\"Absorbance (a.u)\")\n",
    "axes.invert_xaxis()\n",
    "#fig.savefig(os.getcwd()+ \"/Plots/Mean_ECS_Spectra.png\", bbox_inches = 'tight')"
   ]
  },
  {
   "cell_type": "code",
   "execution_count": 21,
   "metadata": {},
   "outputs": [],
   "source": [
    "pcapipe = Pipeline([\n",
    "    (\"Normalise spectra\", FunctionTransformer(robust_scale, kw_args = {\"axis\": 1})),\n",
    "    (\"Scaler\", RobustScaler()),\n",
    "    (\"PCA\", PCA())\n",
    "])"
   ]
  },
  {
   "cell_type": "code",
   "execution_count": 22,
   "metadata": {},
   "outputs": [],
   "source": [
    "n = total.reset_index()[\"Patient_Number\"].value_counts().min()\n",
    "total_ = total.groupby(\"Patient_Number\", group_keys=False).apply(lambda g: g.sample(n))"
   ]
  },
  {
   "cell_type": "code",
   "execution_count": 23,
   "metadata": {},
   "outputs": [
    {
     "output_type": "execute_result",
     "data": {
      "text/plain": "Text(0, 0.5, 'N patients')"
     },
     "metadata": {},
     "execution_count": 23
    },
    {
     "output_type": "display_data",
     "data": {
      "text/plain": "<Figure size 432x288 with 1 Axes>",
      "image/svg+xml": "<?xml version=\"1.0\" encoding=\"utf-8\" standalone=\"no\"?>\n<!DOCTYPE svg PUBLIC \"-//W3C//DTD SVG 1.1//EN\"\n  \"http://www.w3.org/Graphics/SVG/1.1/DTD/svg11.dtd\">\n<!-- Created with matplotlib (https://matplotlib.org/) -->\n<svg height=\"260.038437pt\" version=\"1.1\" viewBox=\"0 0 382.603125 260.038437\" width=\"382.603125pt\" xmlns=\"http://www.w3.org/2000/svg\" xmlns:xlink=\"http://www.w3.org/1999/xlink\">\n <defs>\n  <style type=\"text/css\">\n*{stroke-linecap:butt;stroke-linejoin:round;}\n  </style>\n </defs>\n <g id=\"figure_1\">\n  <g id=\"patch_1\">\n   <path d=\"M 0 260.038437 \nL 382.603125 260.038437 \nL 382.603125 0 \nL 0 0 \nz\n\" style=\"fill:none;\"/>\n  </g>\n  <g id=\"axes_1\">\n   <g id=\"patch_2\">\n    <path d=\"M 40.603125 224.64 \nL 375.403125 224.64 \nL 375.403125 7.2 \nL 40.603125 7.2 \nz\n\" style=\"fill:#ffffff;\"/>\n   </g>\n   <g id=\"patch_3\">\n    <path clip-path=\"url(#p5d32793497)\" d=\"M 68.503125 224.64 \nL 96.403125 224.64 \nL 96.403125 63.573333 \nL 68.503125 63.573333 \nz\n\" style=\"fill:#1f77b4;\"/>\n   </g>\n   <g id=\"patch_4\">\n    <path clip-path=\"url(#p5d32793497)\" d=\"M 180.103125 224.64 \nL 208.003125 224.64 \nL 208.003125 78.913016 \nL 180.103125 78.913016 \nz\n\" style=\"fill:#1f77b4;\"/>\n   </g>\n   <g id=\"patch_5\">\n    <path clip-path=\"url(#p5d32793497)\" d=\"M 291.703125 224.64 \nL 319.603125 224.64 \nL 319.603125 17.554286 \nL 291.703125 17.554286 \nz\n\" style=\"fill:#1f77b4;\"/>\n   </g>\n   <g id=\"patch_6\">\n    <path clip-path=\"url(#p5d32793497)\" d=\"M 96.403125 224.64 \nL 124.303125 224.64 \nL 124.303125 170.951111 \nL 96.403125 170.951111 \nz\n\" style=\"fill:#ff7f0e;\"/>\n   </g>\n   <g id=\"patch_7\">\n    <path clip-path=\"url(#p5d32793497)\" d=\"M 208.003125 224.64 \nL 235.903125 224.64 \nL 235.903125 155.611429 \nL 208.003125 155.611429 \nz\n\" style=\"fill:#ff7f0e;\"/>\n   </g>\n   <g id=\"patch_8\">\n    <path clip-path=\"url(#p5d32793497)\" d=\"M 319.603125 224.64 \nL 347.503125 224.64 \nL 347.503125 178.620952 \nL 319.603125 178.620952 \nz\n\" style=\"fill:#ff7f0e;\"/>\n   </g>\n   <g id=\"matplotlib.axis_1\">\n    <g id=\"xtick_1\">\n     <g id=\"line2d_1\">\n      <defs>\n       <path d=\"M 0 0 \nL 0 3.5 \n\" id=\"m562267cc9c\" style=\"stroke:#000000;stroke-width:0.8;\"/>\n      </defs>\n      <g>\n       <use style=\"stroke:#000000;stroke-width:0.8;\" x=\"96.403125\" xlink:href=\"#m562267cc9c\" y=\"224.64\"/>\n      </g>\n     </g>\n     <g id=\"text_1\">\n      <!-- H -->\n      <defs>\n       <path d=\"M 9.8125 72.90625 \nL 19.671875 72.90625 \nL 19.671875 43.015625 \nL 55.515625 43.015625 \nL 55.515625 72.90625 \nL 65.375 72.90625 \nL 65.375 0 \nL 55.515625 0 \nL 55.515625 34.71875 \nL 19.671875 34.71875 \nL 19.671875 0 \nL 9.8125 0 \nz\n\" id=\"DejaVuSans-72\"/>\n      </defs>\n      <g transform=\"translate(99.1625 239.160312)rotate(-90)scale(0.1 -0.1)\">\n       <use xlink:href=\"#DejaVuSans-72\"/>\n      </g>\n     </g>\n    </g>\n    <g id=\"xtick_2\">\n     <g id=\"line2d_2\">\n      <g>\n       <use style=\"stroke:#000000;stroke-width:0.8;\" x=\"208.003125\" xlink:href=\"#m562267cc9c\" y=\"224.64\"/>\n      </g>\n     </g>\n     <g id=\"text_2\">\n      <!-- I -->\n      <defs>\n       <path d=\"M 9.8125 72.90625 \nL 19.671875 72.90625 \nL 19.671875 0 \nL 9.8125 0 \nz\n\" id=\"DejaVuSans-73\"/>\n      </defs>\n      <g transform=\"translate(210.7625 234.59)rotate(-90)scale(0.1 -0.1)\">\n       <use xlink:href=\"#DejaVuSans-73\"/>\n      </g>\n     </g>\n    </g>\n    <g id=\"xtick_3\">\n     <g id=\"line2d_3\">\n      <g>\n       <use style=\"stroke:#000000;stroke-width:0.8;\" x=\"319.603125\" xlink:href=\"#m562267cc9c\" y=\"224.64\"/>\n      </g>\n     </g>\n     <g id=\"text_3\">\n      <!-- L -->\n      <defs>\n       <path d=\"M 9.8125 72.90625 \nL 19.671875 72.90625 \nL 19.671875 8.296875 \nL 55.171875 8.296875 \nL 55.171875 0 \nL 9.8125 0 \nz\n\" id=\"DejaVuSans-76\"/>\n      </defs>\n      <g transform=\"translate(322.3625 237.211875)rotate(-90)scale(0.1 -0.1)\">\n       <use xlink:href=\"#DejaVuSans-76\"/>\n      </g>\n     </g>\n    </g>\n    <g id=\"text_4\">\n     <!-- ASMA -->\n     <defs>\n      <path d=\"M 34.1875 63.1875 \nL 20.796875 26.90625 \nL 47.609375 26.90625 \nz\nM 28.609375 72.90625 \nL 39.796875 72.90625 \nL 67.578125 0 \nL 57.328125 0 \nL 50.6875 18.703125 \nL 17.828125 18.703125 \nL 11.1875 0 \nL 0.78125 0 \nz\n\" id=\"DejaVuSans-65\"/>\n      <path d=\"M 53.515625 70.515625 \nL 53.515625 60.890625 \nQ 47.90625 63.578125 42.921875 64.890625 \nQ 37.9375 66.21875 33.296875 66.21875 \nQ 25.25 66.21875 20.875 63.09375 \nQ 16.5 59.96875 16.5 54.203125 \nQ 16.5 49.359375 19.40625 46.890625 \nQ 22.3125 44.4375 30.421875 42.921875 \nL 36.375 41.703125 \nQ 47.40625 39.59375 52.65625 34.296875 \nQ 57.90625 29 57.90625 20.125 \nQ 57.90625 9.515625 50.796875 4.046875 \nQ 43.703125 -1.421875 29.984375 -1.421875 \nQ 24.8125 -1.421875 18.96875 -0.25 \nQ 13.140625 0.921875 6.890625 3.21875 \nL 6.890625 13.375 \nQ 12.890625 10.015625 18.65625 8.296875 \nQ 24.421875 6.59375 29.984375 6.59375 \nQ 38.421875 6.59375 43.015625 9.90625 \nQ 47.609375 13.234375 47.609375 19.390625 \nQ 47.609375 24.75 44.3125 27.78125 \nQ 41.015625 30.8125 33.5 32.328125 \nL 27.484375 33.5 \nQ 16.453125 35.6875 11.515625 40.375 \nQ 6.59375 45.0625 6.59375 53.421875 \nQ 6.59375 63.09375 13.40625 68.65625 \nQ 20.21875 74.21875 32.171875 74.21875 \nQ 37.3125 74.21875 42.625 73.28125 \nQ 47.953125 72.359375 53.515625 70.515625 \nz\n\" id=\"DejaVuSans-83\"/>\n      <path d=\"M 9.8125 72.90625 \nL 24.515625 72.90625 \nL 43.109375 23.296875 \nL 61.8125 72.90625 \nL 76.515625 72.90625 \nL 76.515625 0 \nL 66.890625 0 \nL 66.890625 64.015625 \nL 48.09375 14.015625 \nL 38.1875 14.015625 \nL 19.390625 64.015625 \nL 19.390625 0 \nL 9.8125 0 \nz\n\" id=\"DejaVuSans-77\"/>\n     </defs>\n     <g transform=\"translate(193.674219 250.75875)scale(0.1 -0.1)\">\n      <use xlink:href=\"#DejaVuSans-65\"/>\n      <use x=\"68.408203\" xlink:href=\"#DejaVuSans-83\"/>\n      <use x=\"131.884766\" xlink:href=\"#DejaVuSans-77\"/>\n      <use x=\"218.164062\" xlink:href=\"#DejaVuSans-65\"/>\n     </g>\n    </g>\n   </g>\n   <g id=\"matplotlib.axis_2\">\n    <g id=\"ytick_1\">\n     <g id=\"line2d_4\">\n      <defs>\n       <path d=\"M 0 0 \nL -3.5 0 \n\" id=\"mdeb88d3047\" style=\"stroke:#000000;stroke-width:0.8;\"/>\n      </defs>\n      <g>\n       <use style=\"stroke:#000000;stroke-width:0.8;\" x=\"40.603125\" xlink:href=\"#mdeb88d3047\" y=\"224.64\"/>\n      </g>\n     </g>\n     <g id=\"text_5\">\n      <!-- 0 -->\n      <defs>\n       <path d=\"M 31.78125 66.40625 \nQ 24.171875 66.40625 20.328125 58.90625 \nQ 16.5 51.421875 16.5 36.375 \nQ 16.5 21.390625 20.328125 13.890625 \nQ 24.171875 6.390625 31.78125 6.390625 \nQ 39.453125 6.390625 43.28125 13.890625 \nQ 47.125 21.390625 47.125 36.375 \nQ 47.125 51.421875 43.28125 58.90625 \nQ 39.453125 66.40625 31.78125 66.40625 \nz\nM 31.78125 74.21875 \nQ 44.046875 74.21875 50.515625 64.515625 \nQ 56.984375 54.828125 56.984375 36.375 \nQ 56.984375 17.96875 50.515625 8.265625 \nQ 44.046875 -1.421875 31.78125 -1.421875 \nQ 19.53125 -1.421875 13.0625 8.265625 \nQ 6.59375 17.96875 6.59375 36.375 \nQ 6.59375 54.828125 13.0625 64.515625 \nQ 19.53125 74.21875 31.78125 74.21875 \nz\n\" id=\"DejaVuSans-48\"/>\n      </defs>\n      <g transform=\"translate(27.240625 228.439219)scale(0.1 -0.1)\">\n       <use xlink:href=\"#DejaVuSans-48\"/>\n      </g>\n     </g>\n    </g>\n    <g id=\"ytick_2\">\n     <g id=\"line2d_5\">\n      <g>\n       <use style=\"stroke:#000000;stroke-width:0.8;\" x=\"40.603125\" xlink:href=\"#mdeb88d3047\" y=\"186.290794\"/>\n      </g>\n     </g>\n     <g id=\"text_6\">\n      <!-- 5 -->\n      <defs>\n       <path d=\"M 10.796875 72.90625 \nL 49.515625 72.90625 \nL 49.515625 64.59375 \nL 19.828125 64.59375 \nL 19.828125 46.734375 \nQ 21.96875 47.46875 24.109375 47.828125 \nQ 26.265625 48.1875 28.421875 48.1875 \nQ 40.625 48.1875 47.75 41.5 \nQ 54.890625 34.8125 54.890625 23.390625 \nQ 54.890625 11.625 47.5625 5.09375 \nQ 40.234375 -1.421875 26.90625 -1.421875 \nQ 22.3125 -1.421875 17.546875 -0.640625 \nQ 12.796875 0.140625 7.71875 1.703125 \nL 7.71875 11.625 \nQ 12.109375 9.234375 16.796875 8.0625 \nQ 21.484375 6.890625 26.703125 6.890625 \nQ 35.15625 6.890625 40.078125 11.328125 \nQ 45.015625 15.765625 45.015625 23.390625 \nQ 45.015625 31 40.078125 35.4375 \nQ 35.15625 39.890625 26.703125 39.890625 \nQ 22.75 39.890625 18.8125 39.015625 \nQ 14.890625 38.140625 10.796875 36.28125 \nz\n\" id=\"DejaVuSans-53\"/>\n      </defs>\n      <g transform=\"translate(27.240625 190.090012)scale(0.1 -0.1)\">\n       <use xlink:href=\"#DejaVuSans-53\"/>\n      </g>\n     </g>\n    </g>\n    <g id=\"ytick_3\">\n     <g id=\"line2d_6\">\n      <g>\n       <use style=\"stroke:#000000;stroke-width:0.8;\" x=\"40.603125\" xlink:href=\"#mdeb88d3047\" y=\"147.941587\"/>\n      </g>\n     </g>\n     <g id=\"text_7\">\n      <!-- 10 -->\n      <defs>\n       <path d=\"M 12.40625 8.296875 \nL 28.515625 8.296875 \nL 28.515625 63.921875 \nL 10.984375 60.40625 \nL 10.984375 69.390625 \nL 28.421875 72.90625 \nL 38.28125 72.90625 \nL 38.28125 8.296875 \nL 54.390625 8.296875 \nL 54.390625 0 \nL 12.40625 0 \nz\n\" id=\"DejaVuSans-49\"/>\n      </defs>\n      <g transform=\"translate(20.878125 151.740806)scale(0.1 -0.1)\">\n       <use xlink:href=\"#DejaVuSans-49\"/>\n       <use x=\"63.623047\" xlink:href=\"#DejaVuSans-48\"/>\n      </g>\n     </g>\n    </g>\n    <g id=\"ytick_4\">\n     <g id=\"line2d_7\">\n      <g>\n       <use style=\"stroke:#000000;stroke-width:0.8;\" x=\"40.603125\" xlink:href=\"#mdeb88d3047\" y=\"109.592381\"/>\n      </g>\n     </g>\n     <g id=\"text_8\">\n      <!-- 15 -->\n      <g transform=\"translate(20.878125 113.3916)scale(0.1 -0.1)\">\n       <use xlink:href=\"#DejaVuSans-49\"/>\n       <use x=\"63.623047\" xlink:href=\"#DejaVuSans-53\"/>\n      </g>\n     </g>\n    </g>\n    <g id=\"ytick_5\">\n     <g id=\"line2d_8\">\n      <g>\n       <use style=\"stroke:#000000;stroke-width:0.8;\" x=\"40.603125\" xlink:href=\"#mdeb88d3047\" y=\"71.243175\"/>\n      </g>\n     </g>\n     <g id=\"text_9\">\n      <!-- 20 -->\n      <defs>\n       <path d=\"M 19.1875 8.296875 \nL 53.609375 8.296875 \nL 53.609375 0 \nL 7.328125 0 \nL 7.328125 8.296875 \nQ 12.9375 14.109375 22.625 23.890625 \nQ 32.328125 33.6875 34.8125 36.53125 \nQ 39.546875 41.84375 41.421875 45.53125 \nQ 43.3125 49.21875 43.3125 52.78125 \nQ 43.3125 58.59375 39.234375 62.25 \nQ 35.15625 65.921875 28.609375 65.921875 \nQ 23.96875 65.921875 18.8125 64.3125 \nQ 13.671875 62.703125 7.8125 59.421875 \nL 7.8125 69.390625 \nQ 13.765625 71.78125 18.9375 73 \nQ 24.125 74.21875 28.421875 74.21875 \nQ 39.75 74.21875 46.484375 68.546875 \nQ 53.21875 62.890625 53.21875 53.421875 \nQ 53.21875 48.921875 51.53125 44.890625 \nQ 49.859375 40.875 45.40625 35.40625 \nQ 44.1875 33.984375 37.640625 27.21875 \nQ 31.109375 20.453125 19.1875 8.296875 \nz\n\" id=\"DejaVuSans-50\"/>\n      </defs>\n      <g transform=\"translate(20.878125 75.042393)scale(0.1 -0.1)\">\n       <use xlink:href=\"#DejaVuSans-50\"/>\n       <use x=\"63.623047\" xlink:href=\"#DejaVuSans-48\"/>\n      </g>\n     </g>\n    </g>\n    <g id=\"ytick_6\">\n     <g id=\"line2d_9\">\n      <g>\n       <use style=\"stroke:#000000;stroke-width:0.8;\" x=\"40.603125\" xlink:href=\"#mdeb88d3047\" y=\"32.893968\"/>\n      </g>\n     </g>\n     <g id=\"text_10\">\n      <!-- 25 -->\n      <g transform=\"translate(20.878125 36.693187)scale(0.1 -0.1)\">\n       <use xlink:href=\"#DejaVuSans-50\"/>\n       <use x=\"63.623047\" xlink:href=\"#DejaVuSans-53\"/>\n      </g>\n     </g>\n    </g>\n    <g id=\"text_11\">\n     <!-- N patients -->\n     <defs>\n      <path d=\"M 9.8125 72.90625 \nL 23.09375 72.90625 \nL 55.421875 11.921875 \nL 55.421875 72.90625 \nL 64.984375 72.90625 \nL 64.984375 0 \nL 51.703125 0 \nL 19.390625 60.984375 \nL 19.390625 0 \nL 9.8125 0 \nz\n\" id=\"DejaVuSans-78\"/>\n      <path id=\"DejaVuSans-32\"/>\n      <path d=\"M 18.109375 8.203125 \nL 18.109375 -20.796875 \nL 9.078125 -20.796875 \nL 9.078125 54.6875 \nL 18.109375 54.6875 \nL 18.109375 46.390625 \nQ 20.953125 51.265625 25.265625 53.625 \nQ 29.59375 56 35.59375 56 \nQ 45.5625 56 51.78125 48.09375 \nQ 58.015625 40.1875 58.015625 27.296875 \nQ 58.015625 14.40625 51.78125 6.484375 \nQ 45.5625 -1.421875 35.59375 -1.421875 \nQ 29.59375 -1.421875 25.265625 0.953125 \nQ 20.953125 3.328125 18.109375 8.203125 \nz\nM 48.6875 27.296875 \nQ 48.6875 37.203125 44.609375 42.84375 \nQ 40.53125 48.484375 33.40625 48.484375 \nQ 26.265625 48.484375 22.1875 42.84375 \nQ 18.109375 37.203125 18.109375 27.296875 \nQ 18.109375 17.390625 22.1875 11.75 \nQ 26.265625 6.109375 33.40625 6.109375 \nQ 40.53125 6.109375 44.609375 11.75 \nQ 48.6875 17.390625 48.6875 27.296875 \nz\n\" id=\"DejaVuSans-112\"/>\n      <path d=\"M 34.28125 27.484375 \nQ 23.390625 27.484375 19.1875 25 \nQ 14.984375 22.515625 14.984375 16.5 \nQ 14.984375 11.71875 18.140625 8.90625 \nQ 21.296875 6.109375 26.703125 6.109375 \nQ 34.1875 6.109375 38.703125 11.40625 \nQ 43.21875 16.703125 43.21875 25.484375 \nL 43.21875 27.484375 \nz\nM 52.203125 31.203125 \nL 52.203125 0 \nL 43.21875 0 \nL 43.21875 8.296875 \nQ 40.140625 3.328125 35.546875 0.953125 \nQ 30.953125 -1.421875 24.3125 -1.421875 \nQ 15.921875 -1.421875 10.953125 3.296875 \nQ 6 8.015625 6 15.921875 \nQ 6 25.140625 12.171875 29.828125 \nQ 18.359375 34.515625 30.609375 34.515625 \nL 43.21875 34.515625 \nL 43.21875 35.40625 \nQ 43.21875 41.609375 39.140625 45 \nQ 35.0625 48.390625 27.6875 48.390625 \nQ 23 48.390625 18.546875 47.265625 \nQ 14.109375 46.140625 10.015625 43.890625 \nL 10.015625 52.203125 \nQ 14.9375 54.109375 19.578125 55.046875 \nQ 24.21875 56 28.609375 56 \nQ 40.484375 56 46.34375 49.84375 \nQ 52.203125 43.703125 52.203125 31.203125 \nz\n\" id=\"DejaVuSans-97\"/>\n      <path d=\"M 18.3125 70.21875 \nL 18.3125 54.6875 \nL 36.8125 54.6875 \nL 36.8125 47.703125 \nL 18.3125 47.703125 \nL 18.3125 18.015625 \nQ 18.3125 11.328125 20.140625 9.421875 \nQ 21.96875 7.515625 27.59375 7.515625 \nL 36.8125 7.515625 \nL 36.8125 0 \nL 27.59375 0 \nQ 17.1875 0 13.234375 3.875 \nQ 9.28125 7.765625 9.28125 18.015625 \nL 9.28125 47.703125 \nL 2.6875 47.703125 \nL 2.6875 54.6875 \nL 9.28125 54.6875 \nL 9.28125 70.21875 \nz\n\" id=\"DejaVuSans-116\"/>\n      <path d=\"M 9.421875 54.6875 \nL 18.40625 54.6875 \nL 18.40625 0 \nL 9.421875 0 \nz\nM 9.421875 75.984375 \nL 18.40625 75.984375 \nL 18.40625 64.59375 \nL 9.421875 64.59375 \nz\n\" id=\"DejaVuSans-105\"/>\n      <path d=\"M 56.203125 29.59375 \nL 56.203125 25.203125 \nL 14.890625 25.203125 \nQ 15.484375 15.921875 20.484375 11.0625 \nQ 25.484375 6.203125 34.421875 6.203125 \nQ 39.59375 6.203125 44.453125 7.46875 \nQ 49.3125 8.734375 54.109375 11.28125 \nL 54.109375 2.78125 \nQ 49.265625 0.734375 44.1875 -0.34375 \nQ 39.109375 -1.421875 33.890625 -1.421875 \nQ 20.796875 -1.421875 13.15625 6.1875 \nQ 5.515625 13.8125 5.515625 26.8125 \nQ 5.515625 40.234375 12.765625 48.109375 \nQ 20.015625 56 32.328125 56 \nQ 43.359375 56 49.78125 48.890625 \nQ 56.203125 41.796875 56.203125 29.59375 \nz\nM 47.21875 32.234375 \nQ 47.125 39.59375 43.09375 43.984375 \nQ 39.0625 48.390625 32.421875 48.390625 \nQ 24.90625 48.390625 20.390625 44.140625 \nQ 15.875 39.890625 15.1875 32.171875 \nz\n\" id=\"DejaVuSans-101\"/>\n      <path d=\"M 54.890625 33.015625 \nL 54.890625 0 \nL 45.90625 0 \nL 45.90625 32.71875 \nQ 45.90625 40.484375 42.875 44.328125 \nQ 39.84375 48.1875 33.796875 48.1875 \nQ 26.515625 48.1875 22.3125 43.546875 \nQ 18.109375 38.921875 18.109375 30.90625 \nL 18.109375 0 \nL 9.078125 0 \nL 9.078125 54.6875 \nL 18.109375 54.6875 \nL 18.109375 46.1875 \nQ 21.34375 51.125 25.703125 53.5625 \nQ 30.078125 56 35.796875 56 \nQ 45.21875 56 50.046875 50.171875 \nQ 54.890625 44.34375 54.890625 33.015625 \nz\n\" id=\"DejaVuSans-110\"/>\n      <path d=\"M 44.28125 53.078125 \nL 44.28125 44.578125 \nQ 40.484375 46.53125 36.375 47.5 \nQ 32.28125 48.484375 27.875 48.484375 \nQ 21.1875 48.484375 17.84375 46.4375 \nQ 14.5 44.390625 14.5 40.28125 \nQ 14.5 37.15625 16.890625 35.375 \nQ 19.28125 33.59375 26.515625 31.984375 \nL 29.59375 31.296875 \nQ 39.15625 29.25 43.1875 25.515625 \nQ 47.21875 21.78125 47.21875 15.09375 \nQ 47.21875 7.46875 41.1875 3.015625 \nQ 35.15625 -1.421875 24.609375 -1.421875 \nQ 20.21875 -1.421875 15.453125 -0.5625 \nQ 10.6875 0.296875 5.421875 2 \nL 5.421875 11.28125 \nQ 10.40625 8.6875 15.234375 7.390625 \nQ 20.0625 6.109375 24.8125 6.109375 \nQ 31.15625 6.109375 34.5625 8.28125 \nQ 37.984375 10.453125 37.984375 14.40625 \nQ 37.984375 18.0625 35.515625 20.015625 \nQ 33.0625 21.96875 24.703125 23.78125 \nL 21.578125 24.515625 \nQ 13.234375 26.265625 9.515625 29.90625 \nQ 5.8125 33.546875 5.8125 39.890625 \nQ 5.8125 47.609375 11.28125 51.796875 \nQ 16.75 56 26.8125 56 \nQ 31.78125 56 36.171875 55.265625 \nQ 40.578125 54.546875 44.28125 53.078125 \nz\n\" id=\"DejaVuSans-115\"/>\n     </defs>\n     <g transform=\"translate(14.798438 141.647344)rotate(-90)scale(0.1 -0.1)\">\n      <use xlink:href=\"#DejaVuSans-78\"/>\n      <use x=\"74.804688\" xlink:href=\"#DejaVuSans-32\"/>\n      <use x=\"106.591797\" xlink:href=\"#DejaVuSans-112\"/>\n      <use x=\"170.068359\" xlink:href=\"#DejaVuSans-97\"/>\n      <use x=\"231.347656\" xlink:href=\"#DejaVuSans-116\"/>\n      <use x=\"270.556641\" xlink:href=\"#DejaVuSans-105\"/>\n      <use x=\"298.339844\" xlink:href=\"#DejaVuSans-101\"/>\n      <use x=\"359.863281\" xlink:href=\"#DejaVuSans-110\"/>\n      <use x=\"423.242188\" xlink:href=\"#DejaVuSans-116\"/>\n      <use x=\"462.451172\" xlink:href=\"#DejaVuSans-115\"/>\n     </g>\n    </g>\n   </g>\n   <g id=\"patch_9\">\n    <path d=\"M 40.603125 224.64 \nL 40.603125 7.2 \n\" style=\"fill:none;stroke:#000000;stroke-linecap:square;stroke-linejoin:miter;stroke-width:0.8;\"/>\n   </g>\n   <g id=\"patch_10\">\n    <path d=\"M 375.403125 224.64 \nL 375.403125 7.2 \n\" style=\"fill:none;stroke:#000000;stroke-linecap:square;stroke-linejoin:miter;stroke-width:0.8;\"/>\n   </g>\n   <g id=\"patch_11\">\n    <path d=\"M 40.603125 224.64 \nL 375.403125 224.64 \n\" style=\"fill:none;stroke:#000000;stroke-linecap:square;stroke-linejoin:miter;stroke-width:0.8;\"/>\n   </g>\n   <g id=\"patch_12\">\n    <path d=\"M 40.603125 7.2 \nL 375.403125 7.2 \n\" style=\"fill:none;stroke:#000000;stroke-linecap:square;stroke-linejoin:miter;stroke-width:0.8;\"/>\n   </g>\n   <g id=\"legend_1\">\n    <g id=\"patch_13\">\n     <path d=\"M 47.603125 59.234375 \nL 108.989063 59.234375 \nQ 110.989063 59.234375 110.989063 57.234375 \nL 110.989063 14.2 \nQ 110.989063 12.2 108.989063 12.2 \nL 47.603125 12.2 \nQ 45.603125 12.2 45.603125 14.2 \nL 45.603125 57.234375 \nQ 45.603125 59.234375 47.603125 59.234375 \nz\n\" style=\"fill:#ffffff;opacity:0.8;stroke:#cccccc;stroke-linejoin:miter;\"/>\n    </g>\n    <g id=\"text_12\">\n     <!-- 1yeardeath -->\n     <defs>\n      <path d=\"M 32.171875 -5.078125 \nQ 28.375 -14.84375 24.75 -17.8125 \nQ 21.140625 -20.796875 15.09375 -20.796875 \nL 7.90625 -20.796875 \nL 7.90625 -13.28125 \nL 13.1875 -13.28125 \nQ 16.890625 -13.28125 18.9375 -11.515625 \nQ 21 -9.765625 23.484375 -3.21875 \nL 25.09375 0.875 \nL 2.984375 54.6875 \nL 12.5 54.6875 \nL 29.59375 11.921875 \nL 46.6875 54.6875 \nL 56.203125 54.6875 \nz\n\" id=\"DejaVuSans-121\"/>\n      <path d=\"M 41.109375 46.296875 \nQ 39.59375 47.171875 37.8125 47.578125 \nQ 36.03125 48 33.890625 48 \nQ 26.265625 48 22.1875 43.046875 \nQ 18.109375 38.09375 18.109375 28.8125 \nL 18.109375 0 \nL 9.078125 0 \nL 9.078125 54.6875 \nL 18.109375 54.6875 \nL 18.109375 46.1875 \nQ 20.953125 51.171875 25.484375 53.578125 \nQ 30.03125 56 36.53125 56 \nQ 37.453125 56 38.578125 55.875 \nQ 39.703125 55.765625 41.0625 55.515625 \nz\n\" id=\"DejaVuSans-114\"/>\n      <path d=\"M 45.40625 46.390625 \nL 45.40625 75.984375 \nL 54.390625 75.984375 \nL 54.390625 0 \nL 45.40625 0 \nL 45.40625 8.203125 \nQ 42.578125 3.328125 38.25 0.953125 \nQ 33.9375 -1.421875 27.875 -1.421875 \nQ 17.96875 -1.421875 11.734375 6.484375 \nQ 5.515625 14.40625 5.515625 27.296875 \nQ 5.515625 40.1875 11.734375 48.09375 \nQ 17.96875 56 27.875 56 \nQ 33.9375 56 38.25 53.625 \nQ 42.578125 51.265625 45.40625 46.390625 \nz\nM 14.796875 27.296875 \nQ 14.796875 17.390625 18.875 11.75 \nQ 22.953125 6.109375 30.078125 6.109375 \nQ 37.203125 6.109375 41.296875 11.75 \nQ 45.40625 17.390625 45.40625 27.296875 \nQ 45.40625 37.203125 41.296875 42.84375 \nQ 37.203125 48.484375 30.078125 48.484375 \nQ 22.953125 48.484375 18.875 42.84375 \nQ 14.796875 37.203125 14.796875 27.296875 \nz\n\" id=\"DejaVuSans-100\"/>\n      <path d=\"M 54.890625 33.015625 \nL 54.890625 0 \nL 45.90625 0 \nL 45.90625 32.71875 \nQ 45.90625 40.484375 42.875 44.328125 \nQ 39.84375 48.1875 33.796875 48.1875 \nQ 26.515625 48.1875 22.3125 43.546875 \nQ 18.109375 38.921875 18.109375 30.90625 \nL 18.109375 0 \nL 9.078125 0 \nL 9.078125 75.984375 \nL 18.109375 75.984375 \nL 18.109375 46.1875 \nQ 21.34375 51.125 25.703125 53.5625 \nQ 30.078125 56 35.796875 56 \nQ 45.21875 56 50.046875 50.171875 \nQ 54.890625 44.34375 54.890625 33.015625 \nz\n\" id=\"DejaVuSans-104\"/>\n     </defs>\n     <g transform=\"translate(49.603125 23.798438)scale(0.1 -0.1)\">\n      <use xlink:href=\"#DejaVuSans-49\"/>\n      <use x=\"63.623047\" xlink:href=\"#DejaVuSans-121\"/>\n      <use x=\"122.802734\" xlink:href=\"#DejaVuSans-101\"/>\n      <use x=\"184.326172\" xlink:href=\"#DejaVuSans-97\"/>\n      <use x=\"245.605469\" xlink:href=\"#DejaVuSans-114\"/>\n      <use x=\"284.96875\" xlink:href=\"#DejaVuSans-100\"/>\n      <use x=\"348.445312\" xlink:href=\"#DejaVuSans-101\"/>\n      <use x=\"409.96875\" xlink:href=\"#DejaVuSans-97\"/>\n      <use x=\"471.248047\" xlink:href=\"#DejaVuSans-116\"/>\n      <use x=\"510.457031\" xlink:href=\"#DejaVuSans-104\"/>\n     </g>\n    </g>\n    <g id=\"patch_14\">\n     <path d=\"M 51.742188 38.476562 \nL 71.742188 38.476562 \nL 71.742188 31.476562 \nL 51.742188 31.476562 \nz\n\" style=\"fill:#1f77b4;\"/>\n    </g>\n    <g id=\"text_13\">\n     <!-- False -->\n     <defs>\n      <path d=\"M 9.8125 72.90625 \nL 51.703125 72.90625 \nL 51.703125 64.59375 \nL 19.671875 64.59375 \nL 19.671875 43.109375 \nL 48.578125 43.109375 \nL 48.578125 34.8125 \nL 19.671875 34.8125 \nL 19.671875 0 \nL 9.8125 0 \nz\n\" id=\"DejaVuSans-70\"/>\n      <path d=\"M 9.421875 75.984375 \nL 18.40625 75.984375 \nL 18.40625 0 \nL 9.421875 0 \nz\n\" id=\"DejaVuSans-108\"/>\n     </defs>\n     <g transform=\"translate(79.742188 38.476562)scale(0.1 -0.1)\">\n      <use xlink:href=\"#DejaVuSans-70\"/>\n      <use x=\"48.394531\" xlink:href=\"#DejaVuSans-97\"/>\n      <use x=\"109.673828\" xlink:href=\"#DejaVuSans-108\"/>\n      <use x=\"137.457031\" xlink:href=\"#DejaVuSans-115\"/>\n      <use x=\"189.556641\" xlink:href=\"#DejaVuSans-101\"/>\n     </g>\n    </g>\n    <g id=\"patch_15\">\n     <path d=\"M 51.742188 53.154687 \nL 71.742188 53.154687 \nL 71.742188 46.154687 \nL 51.742188 46.154687 \nz\n\" style=\"fill:#ff7f0e;\"/>\n    </g>\n    <g id=\"text_14\">\n     <!-- True -->\n     <defs>\n      <path d=\"M -0.296875 72.90625 \nL 61.375 72.90625 \nL 61.375 64.59375 \nL 35.5 64.59375 \nL 35.5 0 \nL 25.59375 0 \nL 25.59375 64.59375 \nL -0.296875 64.59375 \nz\n\" id=\"DejaVuSans-84\"/>\n      <path d=\"M 8.5 21.578125 \nL 8.5 54.6875 \nL 17.484375 54.6875 \nL 17.484375 21.921875 \nQ 17.484375 14.15625 20.5 10.265625 \nQ 23.53125 6.390625 29.59375 6.390625 \nQ 36.859375 6.390625 41.078125 11.03125 \nQ 45.3125 15.671875 45.3125 23.6875 \nL 45.3125 54.6875 \nL 54.296875 54.6875 \nL 54.296875 0 \nL 45.3125 0 \nL 45.3125 8.40625 \nQ 42.046875 3.421875 37.71875 1 \nQ 33.40625 -1.421875 27.6875 -1.421875 \nQ 18.265625 -1.421875 13.375 4.4375 \nQ 8.5 10.296875 8.5 21.578125 \nz\nM 31.109375 56 \nz\n\" id=\"DejaVuSans-117\"/>\n     </defs>\n     <g transform=\"translate(79.742188 53.154687)scale(0.1 -0.1)\">\n      <use xlink:href=\"#DejaVuSans-84\"/>\n      <use x=\"46.333984\" xlink:href=\"#DejaVuSans-114\"/>\n      <use x=\"87.447266\" xlink:href=\"#DejaVuSans-117\"/>\n      <use x=\"150.826172\" xlink:href=\"#DejaVuSans-101\"/>\n     </g>\n    </g>\n   </g>\n  </g>\n </g>\n <defs>\n  <clipPath id=\"p5d32793497\">\n   <rect height=\"217.44\" width=\"334.8\" x=\"40.603125\" y=\"7.2\"/>\n  </clipPath>\n </defs>\n</svg>\n",
      "image/png": "[encoded data removed]"
     },
     "metadata": {
      "needs_background": "light"
     }
    }
   ],
   "source": [
    "ax = pd.crosstab(new_metadata[\"ASMA\"], new_metadata[\"1yeardeath\"]).plot.bar()\n",
    "ax.set_ylabel(\"N patients\")"
   ]
  },
  {
   "cell_type": "raw",
   "metadata": {},
   "source": [
    "trials = {name.split(\"/\")[-2][6:]: pd.read_json(name) for name in tqdm(glob.iglob(\"KerasTuner/**/*.json\", recursive = True)) if \"trial\" in name}"
   ]
  },
  {
   "cell_type": "markdown",
   "metadata": {},
   "source": [
    "## Regression stuff"
   ]
  },
  {
   "cell_type": "raw",
   "metadata": {},
   "source": [
    "from sklearn.linear_model import LinearRegression\n",
    "from sklearn.tree import DecisionTreeRegressor\n",
    "from sklearn.feature_selection import SelectFromModel\n",
    "\n",
    "import xgboost as xgb"
   ]
  },
  {
   "cell_type": "raw",
   "metadata": {},
   "source": [
    "regPipe = Pipeline([\n",
    "(\"Normalise spectra\", FunctionTransformer(robust_scale, kw_args = {\"axis\": 1})),\n",
    "(\"Scaler\", RobustScaler()),\n",
    "(\"PCA\", PCA()),\n",
    "(\"LinearReg\", LinearRegression()),\n",
    "])"
   ]
  },
  {
   "cell_type": "raw",
   "metadata": {},
   "source": [
    "regPipe = Pipeline([\n",
    "(\"Normalise spectra\", FunctionTransformer(robust_scale, kw_args = {\"axis\": 1})),\n",
    "(\"Scaler\", RobustScaler()),\n",
    "(\"SFM\", SelectFromModel(xgb.XGBRegressor(), threshold=\"0.25*mean\")),\n",
    "(\"PCA\", PCA()),\n",
    "(\"reg\", xgb.XGBRegressor()),\n",
    "])"
   ]
  },
  {
   "cell_type": "raw",
   "metadata": {},
   "source": [
    "data = total.copy().sample(frac=0.5)\n",
    "\n",
    "scores = cross_validate(regPipe, data.values, data.reset_index()[\"survival (months)\"], return_estimator=True, verbose=1, n_jobs=4)"
   ]
  },
  {
   "cell_type": "raw",
   "metadata": {},
   "source": [
    "predictions = scores[\"estimator\"][0].predict(data.values)"
   ]
  },
  {
   "cell_type": "raw",
   "metadata": {},
   "source": [
    "results = data.reset_index().loc[:,[\"survival (months)\"]]\n",
    "results[\"Predictions\"] = predictions\n",
    "results[\"Patient_Number\"] = data.reset_index().loc[:,\"Patient_Number\"]"
   ]
  },
  {
   "cell_type": "raw",
   "metadata": {},
   "source": [
    "data = total.copy().sample(frac = 1)#.reset_index([\"ASMA\"]).dropna(subset = [\"ASMA\"]).loc[:,[\"ASMA\"]]\n",
    "unique_patients = data.reset_index()[f\"{group}\"].unique()\n",
    "data[\"sample_weights\"] = Cross_Eval.get_weights(data.reset_index()[f\"{group}\"])\n",
    "   \n",
    "train_pat, valid_pat = train_test_split(unique_patients)\n",
    "\n",
    "train_data = data.query(f\"{group} in {list(train_pat)}\")\n",
    "validation_data = data.query(f\"{group} in {list(valid_pat)}\")\n",
    "\n",
    "w_train, w_test = train_data.reset_index()[\"sample_weights\"], validation_data.reset_index()[\"sample_weights\"]\n",
    "\n",
    "X_train = train_data.drop([\"sample_weights\"], axis = 1)\n",
    "X_valid = validation_data.drop([\"sample_weights\"], axis = 1)\n",
    "\n",
    "y_train, y_valid = train_data.reset_index().loc[:,[\"survival (months)\"]], validation_data.reset_index().loc[:,[\"survival (months)\"]]"
   ]
  },
  {
   "cell_type": "raw",
   "metadata": {},
   "source": [
    "regPipe.fit(X_train, y_train, reg__sample_weight=w_train)\n",
    "\n",
    "predictions = regPipe.predict(X_valid)\n",
    "\n",
    "results = y_valid.copy()\n",
    "results[\"Predictions\"] = predictions\n",
    "results[\"Patient_Number\"] = X_valid.reset_index().loc[:,[\"Patient_Number\"]]\n",
    "results = results.set_index(\"Patient_Number\")"
   ]
  },
  {
   "cell_type": "raw",
   "metadata": {},
   "source": [
    "fig, (ax1,ax2) = plt.subplots(ncols=2, figsize=(12,4))\n",
    "\n",
    "results.sort_values(\"survival (months)\").groupby(\"Patient_Number\").mean().plot(ax=ax1)\n",
    "\n",
    "(results[\"survival (months)\"]-results[\"Predictions\"]).groupby(\"Patient_Number\").plot.hist(histtype=\"step\",ax=ax2);"
   ]
  },
  {
   "cell_type": "markdown",
   "metadata": {},
   "source": [
    "## "
   ]
  },
  {
   "cell_type": "code",
   "execution_count": 24,
   "metadata": {},
   "outputs": [],
   "source": [
    "numeric_features = np.arange(2, len(total.columns)+1)\n",
    "categorical_features = [0,1]\n",
    "\n",
    "numeric_pipe = Pipeline([\n",
    "(\"Normalise spectra\", FunctionTransformer(robust_scale, kw_args = {\"axis\": 1})),\n",
    "(\"Scaler\", RobustScaler()),\n",
    "(\"PCA\", PCA()),\n",
    "])\n",
    "\n",
    "categorical_pipe = Pipeline([\n",
    "    (\"OneHot\", OneHotEncoder())\n",
    "])\n",
    "\n",
    "preprocessing = ColumnTransformer(\n",
    "    [(\"Numerical\", numeric_pipe, numeric_features),\n",
    "     (\"Categorical\", categorical_pipe, categorical_features)])\n",
    "\n",
    "pipe = Pipeline([\n",
    "    (\"Preprocessing\", preprocessing),\n",
    "])"
   ]
  },
  {
   "cell_type": "code",
   "execution_count": 25,
   "metadata": {},
   "outputs": [
    {
     "output_type": "execute_result",
     "data": {
      "text/plain": "<matplotlib.legend.Legend at 0x7f942cd8c490>"
     },
     "metadata": {},
     "execution_count": 25
    },
    {
     "output_type": "display_data",
     "data": {
      "text/plain": "<Figure size 1152x576 with 2 Axes>",
      "image/svg+xml": "<?xml version=\"1.0\" encoding=\"utf-8\" standalone=\"no\"?>\n<!DOCTYPE svg PUBLIC \"-//W3C//DTD SVG 1.1//EN\"\n  \"http://www.w3.org/Graphics/SVG/1.1/DTD/svg11.dtd\">\n<!-- Created with matplotlib (https://matplotlib.org/) -->\n<svg height=\"523.558125pt\" version=\"1.1\" viewBox=\"0 0 930.103125 523.558125\" width=\"930.103125pt\" xmlns=\"http://www.w3.org/2000/svg\" xmlns:xlink=\"http://www.w3.org/1999/xlink\">\n <defs>\n  <style type=\"text/css\">\n*{stroke-linecap:butt;stroke-linejoin:round;}\n  </style>\n </defs>\n <g id=\"figure_1\">\n  <g id=\"patch_1\">\n   <path d=\"M 0 523.558125 \nL 930.103125 523.558125 \nL 930.103125 0 \nL 0 0 \nz\n\" style=\"fill:none;\"/>\n  </g>\n  <g id=\"axes_1\">\n   <g id=\"patch_2\">\n    <path d=\"M 30.103125 499.68 \nL 418.277038 499.68 \nL 418.277038 64.8 \nL 30.103125 64.8 \nz\n\" style=\"fill:#ffffff;\"/>\n   </g>\n   <g id=\"patch_3\">\n    <path clip-path=\"url(#pea931449cd)\" d=\"M 47.747394 499.68 \nL 47.747394 498.968976 \nL 53.711027 498.968976 \nL 53.711027 499.502244 \nL 59.67466 499.502244 \nL 59.67466 498.968976 \nL 65.638293 498.968976 \nL 65.638293 498.435708 \nL 71.601926 498.435708 \nL 71.601926 499.324488 \nL 77.565559 499.324488 \nL 77.565559 496.835904 \nL 83.529192 496.835904 \nL 83.529192 497.01366 \nL 89.492825 497.01366 \nL 89.492825 496.12488 \nL 95.456458 496.12488 \nL 95.456458 491.147713 \nL 101.420091 491.147713 \nL 101.420091 490.792201 \nL 107.383724 490.792201 \nL 107.383724 483.681962 \nL 113.347357 483.681962 \nL 113.347357 473.549871 \nL 119.310991 473.549871 \nL 119.310991 471.772311 \nL 125.274624 471.772311 \nL 125.274624 456.663053 \nL 131.238257 456.663053 \nL 131.238257 441.909307 \nL 137.20189 441.909307 \nL 137.20189 409.024451 \nL 143.165523 409.024451 \nL 143.165523 380.939007 \nL 149.129156 380.939007 \nL 149.129156 346.987615 \nL 155.092789 346.987615 \nL 155.092789 286.017315 \nL 161.056422 286.017315 \nL 161.056422 234.645837 \nL 167.020055 234.645837 \nL 167.020055 163.721202 \nL 172.983688 163.721202 \nL 172.983688 121.948547 \nL 178.947321 121.948547 \nL 178.947321 85.508571 \nL 184.910954 85.508571 \nL 184.910954 104.172949 \nL 190.874587 104.172949 \nL 190.874587 163.721202 \nL 196.83822 163.721202 \nL 196.83822 226.646818 \nL 202.801853 226.646818 \nL 202.801853 286.195071 \nL 208.765486 286.195071 \nL 208.765486 308.236812 \nL 214.72912 308.236812 \nL 214.72912 375.784083 \nL 220.692753 375.784083 \nL 220.692753 408.846695 \nL 226.656386 408.846695 \nL 226.656386 431.243948 \nL 232.620019 431.243948 \nL 232.620019 460.040417 \nL 238.583652 460.040417 \nL 238.583652 478.704795 \nL 244.547285 478.704795 \nL 244.547285 486.348302 \nL 250.510918 486.348302 \nL 250.510918 492.569761 \nL 256.474551 492.569761 \nL 256.474551 495.236101 \nL 262.438184 495.236101 \nL 262.438184 495.947124 \nL 268.401817 495.947124 \nL 268.401817 498.435708 \nL 274.36545 498.435708 \nL 274.36545 498.435708 \nL 280.329083 498.435708 \nL 280.329083 498.435708 \nL 286.292716 498.435708 \nL 286.292716 499.324488 \nL 292.256349 499.324488 \nL 292.256349 498.968976 \nL 298.219982 498.968976 \nL 298.219982 499.68 \nL 304.183615 499.68 \nL 304.183615 499.502244 \nL 310.147248 499.502244 \nL 310.147248 499.68 \nL 316.110882 499.68 \nL 316.110882 499.68 \nL 322.074515 499.68 \nL 322.074515 499.68 \nL 328.038148 499.68 \nL 328.038148 499.502244 \nL 334.001781 499.502244 \nL 334.001781 499.502244 \nL 339.965414 499.502244 \nL 339.965414 499.502244 \nL 345.929047 499.502244 \nL 345.929047 499.68 \n\" style=\"fill:none;stroke:#1f77b4;stroke-linejoin:miter;\"/>\n   </g>\n   <g id=\"patch_4\">\n    <path clip-path=\"url(#pea931449cd)\" d=\"M 122.488207 499.68 \nL 122.488207 499.129369 \nL 128.051099 499.129369 \nL 128.051099 499.68 \nL 133.61399 499.68 \nL 133.61399 499.129369 \nL 139.176881 499.129369 \nL 139.176881 498.578738 \nL 144.739772 498.578738 \nL 144.739772 498.028106 \nL 150.302664 498.028106 \nL 150.302664 498.578738 \nL 155.865555 498.578738 \nL 155.865555 495.274951 \nL 161.428446 495.274951 \nL 161.428446 485.91422 \nL 166.991337 485.91422 \nL 166.991337 473.800335 \nL 172.554229 473.800335 \nL 172.554229 433.604258 \nL 178.11712 433.604258 \nL 178.11712 401.117019 \nL 183.680011 401.117019 \nL 183.680011 387.351239 \nL 189.242902 387.351239 \nL 189.242902 379.091772 \nL 194.805794 379.091772 \nL 194.805794 362.572836 \nL 200.368685 362.572836 \nL 200.368685 360.370311 \nL 205.931576 360.370311 \nL 205.931576 345.50327 \nL 211.494467 345.50327 \nL 211.494467 306.408456 \nL 217.057358 306.408456 \nL 217.057358 271.16806 \nL 222.62025 271.16806 \nL 222.62025 235.927665 \nL 228.183141 235.927665 \nL 228.183141 222.161885 \nL 233.746032 222.161885 \nL 233.746032 216.655573 \nL 239.308923 216.655573 \nL 239.308923 214.453049 \nL 244.871815 214.453049 \nL 244.871815 257.952912 \nL 250.434706 257.952912 \nL 250.434706 276.674372 \nL 255.997597 276.674372 \nL 255.997597 297.598357 \nL 261.560488 297.598357 \nL 261.560488 338.895695 \nL 267.12338 338.895695 \nL 267.12338 314.117292 \nL 272.686271 314.117292 \nL 272.686271 358.718418 \nL 278.249162 358.718418 \nL 278.249162 370.832304 \nL 283.812053 370.832304 \nL 283.812053 385.148715 \nL 289.374945 385.148715 \nL 289.374945 413.230905 \nL 294.937836 413.230905 \nL 294.937836 420.939741 \nL 300.500727 420.939741 \nL 300.500727 431.952365 \nL 306.063618 431.952365 \nL 306.063618 447.920669 \nL 311.62651 447.920669 \nL 311.62651 458.933293 \nL 317.189401 458.933293 \nL 317.189401 474.901597 \nL 322.752292 474.901597 \nL 322.752292 473.800335 \nL 328.315183 473.800335 \nL 328.315183 485.363589 \nL 333.878074 485.363589 \nL 333.878074 489.768639 \nL 339.440966 489.768639 \nL 339.440966 488.116745 \nL 345.003857 488.116745 \nL 345.003857 492.521795 \nL 350.566748 492.521795 \nL 350.566748 495.274951 \nL 356.129639 495.274951 \nL 356.129639 493.072426 \nL 361.692531 493.072426 \nL 361.692531 498.028106 \nL 367.255422 498.028106 \nL 367.255422 498.578738 \nL 372.818313 498.578738 \nL 372.818313 498.028106 \nL 378.381204 498.028106 \nL 378.381204 499.68 \nL 383.944096 499.68 \nL 383.944096 499.68 \nL 389.506987 499.68 \nL 389.506987 499.68 \nL 395.069878 499.68 \nL 395.069878 498.578738 \nL 400.632769 498.578738 \nL 400.632769 499.68 \n\" style=\"fill:none;stroke:#ff7f0e;stroke-linejoin:miter;\"/>\n   </g>\n   <g id=\"matplotlib.axis_1\">\n    <g id=\"xtick_1\">\n     <g id=\"line2d_1\">\n      <path clip-path=\"url(#pea931449cd)\" d=\"M 79.112377 499.68 \nL 79.112377 64.8 \n\" style=\"fill:none;stroke:#b0b0b0;stroke-linecap:square;stroke-width:0.8;\"/>\n     </g>\n     <g id=\"line2d_2\">\n      <defs>\n       <path d=\"M 0 0 \nL 0 3.5 \n\" id=\"m7a8363fa49\" style=\"stroke:#000000;stroke-width:0.8;\"/>\n      </defs>\n      <g>\n       <use style=\"stroke:#000000;stroke-width:0.8;\" x=\"79.112377\" xlink:href=\"#m7a8363fa49\" y=\"499.68\"/>\n      </g>\n     </g>\n     <g id=\"text_1\">\n      <!-- −4 -->\n      <defs>\n       <path d=\"M 10.59375 35.5 \nL 73.1875 35.5 \nL 73.1875 27.203125 \nL 10.59375 27.203125 \nz\n\" id=\"DejaVuSans-8722\"/>\n       <path d=\"M 37.796875 64.3125 \nL 12.890625 25.390625 \nL 37.796875 25.390625 \nz\nM 35.203125 72.90625 \nL 47.609375 72.90625 \nL 47.609375 25.390625 \nL 58.015625 25.390625 \nL 58.015625 17.1875 \nL 47.609375 17.1875 \nL 47.609375 0 \nL 37.796875 0 \nL 37.796875 17.1875 \nL 4.890625 17.1875 \nL 4.890625 26.703125 \nz\n\" id=\"DejaVuSans-52\"/>\n      </defs>\n      <g transform=\"translate(71.741283 514.278437)scale(0.1 -0.1)\">\n       <use xlink:href=\"#DejaVuSans-8722\"/>\n       <use x=\"83.789062\" xlink:href=\"#DejaVuSans-52\"/>\n      </g>\n     </g>\n    </g>\n    <g id=\"xtick_2\">\n     <g id=\"line2d_3\">\n      <path clip-path=\"url(#pea931449cd)\" d=\"M 138.049413 499.68 \nL 138.049413 64.8 \n\" style=\"fill:none;stroke:#b0b0b0;stroke-linecap:square;stroke-width:0.8;\"/>\n     </g>\n     <g id=\"line2d_4\">\n      <g>\n       <use style=\"stroke:#000000;stroke-width:0.8;\" x=\"138.049413\" xlink:href=\"#m7a8363fa49\" y=\"499.68\"/>\n      </g>\n     </g>\n     <g id=\"text_2\">\n      <!-- −2 -->\n      <defs>\n       <path d=\"M 19.1875 8.296875 \nL 53.609375 8.296875 \nL 53.609375 0 \nL 7.328125 0 \nL 7.328125 8.296875 \nQ 12.9375 14.109375 22.625 23.890625 \nQ 32.328125 33.6875 34.8125 36.53125 \nQ 39.546875 41.84375 41.421875 45.53125 \nQ 43.3125 49.21875 43.3125 52.78125 \nQ 43.3125 58.59375 39.234375 62.25 \nQ 35.15625 65.921875 28.609375 65.921875 \nQ 23.96875 65.921875 18.8125 64.3125 \nQ 13.671875 62.703125 7.8125 59.421875 \nL 7.8125 69.390625 \nQ 13.765625 71.78125 18.9375 73 \nQ 24.125 74.21875 28.421875 74.21875 \nQ 39.75 74.21875 46.484375 68.546875 \nQ 53.21875 62.890625 53.21875 53.421875 \nQ 53.21875 48.921875 51.53125 44.890625 \nQ 49.859375 40.875 45.40625 35.40625 \nQ 44.1875 33.984375 37.640625 27.21875 \nQ 31.109375 20.453125 19.1875 8.296875 \nz\n\" id=\"DejaVuSans-50\"/>\n      </defs>\n      <g transform=\"translate(130.67832 514.278437)scale(0.1 -0.1)\">\n       <use xlink:href=\"#DejaVuSans-8722\"/>\n       <use x=\"83.789062\" xlink:href=\"#DejaVuSans-50\"/>\n      </g>\n     </g>\n    </g>\n    <g id=\"xtick_3\">\n     <g id=\"line2d_5\">\n      <path clip-path=\"url(#pea931449cd)\" d=\"M 196.98645 499.68 \nL 196.98645 64.8 \n\" style=\"fill:none;stroke:#b0b0b0;stroke-linecap:square;stroke-width:0.8;\"/>\n     </g>\n     <g id=\"line2d_6\">\n      <g>\n       <use style=\"stroke:#000000;stroke-width:0.8;\" x=\"196.98645\" xlink:href=\"#m7a8363fa49\" y=\"499.68\"/>\n      </g>\n     </g>\n     <g id=\"text_3\">\n      <!-- 0 -->\n      <defs>\n       <path d=\"M 31.78125 66.40625 \nQ 24.171875 66.40625 20.328125 58.90625 \nQ 16.5 51.421875 16.5 36.375 \nQ 16.5 21.390625 20.328125 13.890625 \nQ 24.171875 6.390625 31.78125 6.390625 \nQ 39.453125 6.390625 43.28125 13.890625 \nQ 47.125 21.390625 47.125 36.375 \nQ 47.125 51.421875 43.28125 58.90625 \nQ 39.453125 66.40625 31.78125 66.40625 \nz\nM 31.78125 74.21875 \nQ 44.046875 74.21875 50.515625 64.515625 \nQ 56.984375 54.828125 56.984375 36.375 \nQ 56.984375 17.96875 50.515625 8.265625 \nQ 44.046875 -1.421875 31.78125 -1.421875 \nQ 19.53125 -1.421875 13.0625 8.265625 \nQ 6.59375 17.96875 6.59375 36.375 \nQ 6.59375 54.828125 13.0625 64.515625 \nQ 19.53125 74.21875 31.78125 74.21875 \nz\n\" id=\"DejaVuSans-48\"/>\n      </defs>\n      <g transform=\"translate(193.8052 514.278437)scale(0.1 -0.1)\">\n       <use xlink:href=\"#DejaVuSans-48\"/>\n      </g>\n     </g>\n    </g>\n    <g id=\"xtick_4\">\n     <g id=\"line2d_7\">\n      <path clip-path=\"url(#pea931449cd)\" d=\"M 255.923486 499.68 \nL 255.923486 64.8 \n\" style=\"fill:none;stroke:#b0b0b0;stroke-linecap:square;stroke-width:0.8;\"/>\n     </g>\n     <g id=\"line2d_8\">\n      <g>\n       <use style=\"stroke:#000000;stroke-width:0.8;\" x=\"255.923486\" xlink:href=\"#m7a8363fa49\" y=\"499.68\"/>\n      </g>\n     </g>\n     <g id=\"text_4\">\n      <!-- 2 -->\n      <g transform=\"translate(252.742236 514.278437)scale(0.1 -0.1)\">\n       <use xlink:href=\"#DejaVuSans-50\"/>\n      </g>\n     </g>\n    </g>\n    <g id=\"xtick_5\">\n     <g id=\"line2d_9\">\n      <path clip-path=\"url(#pea931449cd)\" d=\"M 314.860522 499.68 \nL 314.860522 64.8 \n\" style=\"fill:none;stroke:#b0b0b0;stroke-linecap:square;stroke-width:0.8;\"/>\n     </g>\n     <g id=\"line2d_10\">\n      <g>\n       <use style=\"stroke:#000000;stroke-width:0.8;\" x=\"314.860522\" xlink:href=\"#m7a8363fa49\" y=\"499.68\"/>\n      </g>\n     </g>\n     <g id=\"text_5\">\n      <!-- 4 -->\n      <g transform=\"translate(311.679272 514.278437)scale(0.1 -0.1)\">\n       <use xlink:href=\"#DejaVuSans-52\"/>\n      </g>\n     </g>\n    </g>\n    <g id=\"xtick_6\">\n     <g id=\"line2d_11\">\n      <path clip-path=\"url(#pea931449cd)\" d=\"M 373.797559 499.68 \nL 373.797559 64.8 \n\" style=\"fill:none;stroke:#b0b0b0;stroke-linecap:square;stroke-width:0.8;\"/>\n     </g>\n     <g id=\"line2d_12\">\n      <g>\n       <use style=\"stroke:#000000;stroke-width:0.8;\" x=\"373.797559\" xlink:href=\"#m7a8363fa49\" y=\"499.68\"/>\n      </g>\n     </g>\n     <g id=\"text_6\">\n      <!-- 6 -->\n      <defs>\n       <path d=\"M 33.015625 40.375 \nQ 26.375 40.375 22.484375 35.828125 \nQ 18.609375 31.296875 18.609375 23.390625 \nQ 18.609375 15.53125 22.484375 10.953125 \nQ 26.375 6.390625 33.015625 6.390625 \nQ 39.65625 6.390625 43.53125 10.953125 \nQ 47.40625 15.53125 47.40625 23.390625 \nQ 47.40625 31.296875 43.53125 35.828125 \nQ 39.65625 40.375 33.015625 40.375 \nz\nM 52.59375 71.296875 \nL 52.59375 62.3125 \nQ 48.875 64.0625 45.09375 64.984375 \nQ 41.3125 65.921875 37.59375 65.921875 \nQ 27.828125 65.921875 22.671875 59.328125 \nQ 17.53125 52.734375 16.796875 39.40625 \nQ 19.671875 43.65625 24.015625 45.921875 \nQ 28.375 48.1875 33.59375 48.1875 \nQ 44.578125 48.1875 50.953125 41.515625 \nQ 57.328125 34.859375 57.328125 23.390625 \nQ 57.328125 12.15625 50.6875 5.359375 \nQ 44.046875 -1.421875 33.015625 -1.421875 \nQ 20.359375 -1.421875 13.671875 8.265625 \nQ 6.984375 17.96875 6.984375 36.375 \nQ 6.984375 53.65625 15.1875 63.9375 \nQ 23.390625 74.21875 37.203125 74.21875 \nQ 40.921875 74.21875 44.703125 73.484375 \nQ 48.484375 72.75 52.59375 71.296875 \nz\n\" id=\"DejaVuSans-54\"/>\n      </defs>\n      <g transform=\"translate(370.616309 514.278437)scale(0.1 -0.1)\">\n       <use xlink:href=\"#DejaVuSans-54\"/>\n      </g>\n     </g>\n    </g>\n   </g>\n   <g id=\"matplotlib.axis_2\">\n    <g id=\"ytick_1\">\n     <g id=\"line2d_13\">\n      <path clip-path=\"url(#pea931449cd)\" d=\"M 30.103125 499.68 \nL 418.277038 499.68 \n\" style=\"fill:none;stroke:#b0b0b0;stroke-linecap:square;stroke-width:0.8;\"/>\n     </g>\n     <g id=\"line2d_14\">\n      <defs>\n       <path d=\"M 0 0 \nL -3.5 0 \n\" id=\"mbb289c4872\" style=\"stroke:#000000;stroke-width:0.8;\"/>\n      </defs>\n      <g>\n       <use style=\"stroke:#000000;stroke-width:0.8;\" x=\"30.103125\" xlink:href=\"#mbb289c4872\" y=\"499.68\"/>\n      </g>\n     </g>\n     <g id=\"text_7\">\n      <!-- 0.0 -->\n      <defs>\n       <path d=\"M 10.6875 12.40625 \nL 21 12.40625 \nL 21 0 \nL 10.6875 0 \nz\n\" id=\"DejaVuSans-46\"/>\n      </defs>\n      <g transform=\"translate(7.2 503.479219)scale(0.1 -0.1)\">\n       <use xlink:href=\"#DejaVuSans-48\"/>\n       <use x=\"63.623047\" xlink:href=\"#DejaVuSans-46\"/>\n       <use x=\"95.410156\" xlink:href=\"#DejaVuSans-48\"/>\n      </g>\n     </g>\n    </g>\n    <g id=\"ytick_2\">\n     <g id=\"line2d_15\">\n      <path clip-path=\"url(#pea931449cd)\" d=\"M 30.103125 419.611265 \nL 418.277038 419.611265 \n\" style=\"fill:none;stroke:#b0b0b0;stroke-linecap:square;stroke-width:0.8;\"/>\n     </g>\n     <g id=\"line2d_16\">\n      <g>\n       <use style=\"stroke:#000000;stroke-width:0.8;\" x=\"30.103125\" xlink:href=\"#mbb289c4872\" y=\"419.611265\"/>\n      </g>\n     </g>\n     <g id=\"text_8\">\n      <!-- 0.1 -->\n      <defs>\n       <path d=\"M 12.40625 8.296875 \nL 28.515625 8.296875 \nL 28.515625 63.921875 \nL 10.984375 60.40625 \nL 10.984375 69.390625 \nL 28.421875 72.90625 \nL 38.28125 72.90625 \nL 38.28125 8.296875 \nL 54.390625 8.296875 \nL 54.390625 0 \nL 12.40625 0 \nz\n\" id=\"DejaVuSans-49\"/>\n      </defs>\n      <g transform=\"translate(7.2 423.410483)scale(0.1 -0.1)\">\n       <use xlink:href=\"#DejaVuSans-48\"/>\n       <use x=\"63.623047\" xlink:href=\"#DejaVuSans-46\"/>\n       <use x=\"95.410156\" xlink:href=\"#DejaVuSans-49\"/>\n      </g>\n     </g>\n    </g>\n    <g id=\"ytick_3\">\n     <g id=\"line2d_17\">\n      <path clip-path=\"url(#pea931449cd)\" d=\"M 30.103125 339.542529 \nL 418.277038 339.542529 \n\" style=\"fill:none;stroke:#b0b0b0;stroke-linecap:square;stroke-width:0.8;\"/>\n     </g>\n     <g id=\"line2d_18\">\n      <g>\n       <use style=\"stroke:#000000;stroke-width:0.8;\" x=\"30.103125\" xlink:href=\"#mbb289c4872\" y=\"339.542529\"/>\n      </g>\n     </g>\n     <g id=\"text_9\">\n      <!-- 0.2 -->\n      <g transform=\"translate(7.2 343.341748)scale(0.1 -0.1)\">\n       <use xlink:href=\"#DejaVuSans-48\"/>\n       <use x=\"63.623047\" xlink:href=\"#DejaVuSans-46\"/>\n       <use x=\"95.410156\" xlink:href=\"#DejaVuSans-50\"/>\n      </g>\n     </g>\n    </g>\n    <g id=\"ytick_4\">\n     <g id=\"line2d_19\">\n      <path clip-path=\"url(#pea931449cd)\" d=\"M 30.103125 259.473794 \nL 418.277038 259.473794 \n\" style=\"fill:none;stroke:#b0b0b0;stroke-linecap:square;stroke-width:0.8;\"/>\n     </g>\n     <g id=\"line2d_20\">\n      <g>\n       <use style=\"stroke:#000000;stroke-width:0.8;\" x=\"30.103125\" xlink:href=\"#mbb289c4872\" y=\"259.473794\"/>\n      </g>\n     </g>\n     <g id=\"text_10\">\n      <!-- 0.3 -->\n      <defs>\n       <path d=\"M 40.578125 39.3125 \nQ 47.65625 37.796875 51.625 33 \nQ 55.609375 28.21875 55.609375 21.1875 \nQ 55.609375 10.40625 48.1875 4.484375 \nQ 40.765625 -1.421875 27.09375 -1.421875 \nQ 22.515625 -1.421875 17.65625 -0.515625 \nQ 12.796875 0.390625 7.625 2.203125 \nL 7.625 11.71875 \nQ 11.71875 9.328125 16.59375 8.109375 \nQ 21.484375 6.890625 26.8125 6.890625 \nQ 36.078125 6.890625 40.9375 10.546875 \nQ 45.796875 14.203125 45.796875 21.1875 \nQ 45.796875 27.640625 41.28125 31.265625 \nQ 36.765625 34.90625 28.71875 34.90625 \nL 20.21875 34.90625 \nL 20.21875 43.015625 \nL 29.109375 43.015625 \nQ 36.375 43.015625 40.234375 45.921875 \nQ 44.09375 48.828125 44.09375 54.296875 \nQ 44.09375 59.90625 40.109375 62.90625 \nQ 36.140625 65.921875 28.71875 65.921875 \nQ 24.65625 65.921875 20.015625 65.03125 \nQ 15.375 64.15625 9.8125 62.3125 \nL 9.8125 71.09375 \nQ 15.4375 72.65625 20.34375 73.4375 \nQ 25.25 74.21875 29.59375 74.21875 \nQ 40.828125 74.21875 47.359375 69.109375 \nQ 53.90625 64.015625 53.90625 55.328125 \nQ 53.90625 49.265625 50.4375 45.09375 \nQ 46.96875 40.921875 40.578125 39.3125 \nz\n\" id=\"DejaVuSans-51\"/>\n      </defs>\n      <g transform=\"translate(7.2 263.273013)scale(0.1 -0.1)\">\n       <use xlink:href=\"#DejaVuSans-48\"/>\n       <use x=\"63.623047\" xlink:href=\"#DejaVuSans-46\"/>\n       <use x=\"95.410156\" xlink:href=\"#DejaVuSans-51\"/>\n      </g>\n     </g>\n    </g>\n    <g id=\"ytick_5\">\n     <g id=\"line2d_21\">\n      <path clip-path=\"url(#pea931449cd)\" d=\"M 30.103125 179.405058 \nL 418.277038 179.405058 \n\" style=\"fill:none;stroke:#b0b0b0;stroke-linecap:square;stroke-width:0.8;\"/>\n     </g>\n     <g id=\"line2d_22\">\n      <g>\n       <use style=\"stroke:#000000;stroke-width:0.8;\" x=\"30.103125\" xlink:href=\"#mbb289c4872\" y=\"179.405058\"/>\n      </g>\n     </g>\n     <g id=\"text_11\">\n      <!-- 0.4 -->\n      <g transform=\"translate(7.2 183.204277)scale(0.1 -0.1)\">\n       <use xlink:href=\"#DejaVuSans-48\"/>\n       <use x=\"63.623047\" xlink:href=\"#DejaVuSans-46\"/>\n       <use x=\"95.410156\" xlink:href=\"#DejaVuSans-52\"/>\n      </g>\n     </g>\n    </g>\n    <g id=\"ytick_6\">\n     <g id=\"line2d_23\">\n      <path clip-path=\"url(#pea931449cd)\" d=\"M 30.103125 99.336323 \nL 418.277038 99.336323 \n\" style=\"fill:none;stroke:#b0b0b0;stroke-linecap:square;stroke-width:0.8;\"/>\n     </g>\n     <g id=\"line2d_24\">\n      <g>\n       <use style=\"stroke:#000000;stroke-width:0.8;\" x=\"30.103125\" xlink:href=\"#mbb289c4872\" y=\"99.336323\"/>\n      </g>\n     </g>\n     <g id=\"text_12\">\n      <!-- 0.5 -->\n      <defs>\n       <path d=\"M 10.796875 72.90625 \nL 49.515625 72.90625 \nL 49.515625 64.59375 \nL 19.828125 64.59375 \nL 19.828125 46.734375 \nQ 21.96875 47.46875 24.109375 47.828125 \nQ 26.265625 48.1875 28.421875 48.1875 \nQ 40.625 48.1875 47.75 41.5 \nQ 54.890625 34.8125 54.890625 23.390625 \nQ 54.890625 11.625 47.5625 5.09375 \nQ 40.234375 -1.421875 26.90625 -1.421875 \nQ 22.3125 -1.421875 17.546875 -0.640625 \nQ 12.796875 0.140625 7.71875 1.703125 \nL 7.71875 11.625 \nQ 12.109375 9.234375 16.796875 8.0625 \nQ 21.484375 6.890625 26.703125 6.890625 \nQ 35.15625 6.890625 40.078125 11.328125 \nQ 45.015625 15.765625 45.015625 23.390625 \nQ 45.015625 31 40.078125 35.4375 \nQ 35.15625 39.890625 26.703125 39.890625 \nQ 22.75 39.890625 18.8125 39.015625 \nQ 14.890625 38.140625 10.796875 36.28125 \nz\n\" id=\"DejaVuSans-53\"/>\n      </defs>\n      <g transform=\"translate(7.2 103.135542)scale(0.1 -0.1)\">\n       <use xlink:href=\"#DejaVuSans-48\"/>\n       <use x=\"63.623047\" xlink:href=\"#DejaVuSans-46\"/>\n       <use x=\"95.410156\" xlink:href=\"#DejaVuSans-53\"/>\n      </g>\n     </g>\n    </g>\n   </g>\n   <g id=\"patch_5\">\n    <path d=\"M 30.103125 499.68 \nL 30.103125 64.8 \n\" style=\"fill:none;stroke:#000000;stroke-linecap:square;stroke-linejoin:miter;stroke-width:0.8;\"/>\n   </g>\n   <g id=\"patch_6\">\n    <path d=\"M 418.277038 499.68 \nL 418.277038 64.8 \n\" style=\"fill:none;stroke:#000000;stroke-linecap:square;stroke-linejoin:miter;stroke-width:0.8;\"/>\n   </g>\n   <g id=\"patch_7\">\n    <path d=\"M 30.103125 499.68 \nL 418.277038 499.68 \n\" style=\"fill:none;stroke:#000000;stroke-linecap:square;stroke-linejoin:miter;stroke-width:0.8;\"/>\n   </g>\n   <g id=\"patch_8\">\n    <path d=\"M 30.103125 64.8 \nL 418.277038 64.8 \n\" style=\"fill:none;stroke:#000000;stroke-linecap:square;stroke-linejoin:miter;stroke-width:0.8;\"/>\n   </g>\n   <g id=\"text_13\">\n    <!-- LDA -->\n    <defs>\n     <path d=\"M 9.8125 72.90625 \nL 19.671875 72.90625 \nL 19.671875 8.296875 \nL 55.171875 8.296875 \nL 55.171875 0 \nL 9.8125 0 \nz\n\" id=\"DejaVuSans-76\"/>\n     <path d=\"M 19.671875 64.796875 \nL 19.671875 8.109375 \nL 31.59375 8.109375 \nQ 46.6875 8.109375 53.6875 14.9375 \nQ 60.6875 21.78125 60.6875 36.53125 \nQ 60.6875 51.171875 53.6875 57.984375 \nQ 46.6875 64.796875 31.59375 64.796875 \nz\nM 9.8125 72.90625 \nL 30.078125 72.90625 \nQ 51.265625 72.90625 61.171875 64.09375 \nQ 71.09375 55.28125 71.09375 36.53125 \nQ 71.09375 17.671875 61.125 8.828125 \nQ 51.171875 0 30.078125 0 \nL 9.8125 0 \nz\n\" id=\"DejaVuSans-68\"/>\n     <path d=\"M 34.1875 63.1875 \nL 20.796875 26.90625 \nL 47.609375 26.90625 \nz\nM 28.609375 72.90625 \nL 39.796875 72.90625 \nL 67.578125 0 \nL 57.328125 0 \nL 50.6875 18.703125 \nL 17.828125 18.703125 \nL 11.1875 0 \nL 0.78125 0 \nz\n\" id=\"DejaVuSans-65\"/>\n    </defs>\n    <g transform=\"translate(212.227582 58.8)scale(0.12 -0.12)\">\n     <use xlink:href=\"#DejaVuSans-76\"/>\n     <use x=\"55.712891\" xlink:href=\"#DejaVuSans-68\"/>\n     <use x=\"130.964844\" xlink:href=\"#DejaVuSans-65\"/>\n    </g>\n   </g>\n   <g id=\"legend_1\">\n    <g id=\"patch_9\">\n     <path d=\"M 354.169226 102.15625 \nL 411.277038 102.15625 \nQ 413.277038 102.15625 413.277038 100.15625 \nL 413.277038 71.8 \nQ 413.277038 69.8 411.277038 69.8 \nL 354.169226 69.8 \nQ 352.169226 69.8 352.169226 71.8 \nL 352.169226 100.15625 \nQ 352.169226 102.15625 354.169226 102.15625 \nz\n\" style=\"fill:#ffffff;opacity:0.8;stroke:#cccccc;stroke-linejoin:miter;\"/>\n    </g>\n    <g id=\"patch_10\">\n     <path d=\"M 356.169226 81.398438 \nL 376.169226 81.398438 \nL 376.169226 74.398438 \nL 356.169226 74.398438 \nz\n\" style=\"fill:none;stroke:#1f77b4;stroke-linejoin:miter;\"/>\n    </g>\n    <g id=\"text_14\">\n     <!-- False -->\n     <defs>\n      <path d=\"M 9.8125 72.90625 \nL 51.703125 72.90625 \nL 51.703125 64.59375 \nL 19.671875 64.59375 \nL 19.671875 43.109375 \nL 48.578125 43.109375 \nL 48.578125 34.8125 \nL 19.671875 34.8125 \nL 19.671875 0 \nL 9.8125 0 \nz\n\" id=\"DejaVuSans-70\"/>\n      <path d=\"M 34.28125 27.484375 \nQ 23.390625 27.484375 19.1875 25 \nQ 14.984375 22.515625 14.984375 16.5 \nQ 14.984375 11.71875 18.140625 8.90625 \nQ 21.296875 6.109375 26.703125 6.109375 \nQ 34.1875 6.109375 38.703125 11.40625 \nQ 43.21875 16.703125 43.21875 25.484375 \nL 43.21875 27.484375 \nz\nM 52.203125 31.203125 \nL 52.203125 0 \nL 43.21875 0 \nL 43.21875 8.296875 \nQ 40.140625 3.328125 35.546875 0.953125 \nQ 30.953125 -1.421875 24.3125 -1.421875 \nQ 15.921875 -1.421875 10.953125 3.296875 \nQ 6 8.015625 6 15.921875 \nQ 6 25.140625 12.171875 29.828125 \nQ 18.359375 34.515625 30.609375 34.515625 \nL 43.21875 34.515625 \nL 43.21875 35.40625 \nQ 43.21875 41.609375 39.140625 45 \nQ 35.0625 48.390625 27.6875 48.390625 \nQ 23 48.390625 18.546875 47.265625 \nQ 14.109375 46.140625 10.015625 43.890625 \nL 10.015625 52.203125 \nQ 14.9375 54.109375 19.578125 55.046875 \nQ 24.21875 56 28.609375 56 \nQ 40.484375 56 46.34375 49.84375 \nQ 52.203125 43.703125 52.203125 31.203125 \nz\n\" id=\"DejaVuSans-97\"/>\n      <path d=\"M 9.421875 75.984375 \nL 18.40625 75.984375 \nL 18.40625 0 \nL 9.421875 0 \nz\n\" id=\"DejaVuSans-108\"/>\n      <path d=\"M 44.28125 53.078125 \nL 44.28125 44.578125 \nQ 40.484375 46.53125 36.375 47.5 \nQ 32.28125 48.484375 27.875 48.484375 \nQ 21.1875 48.484375 17.84375 46.4375 \nQ 14.5 44.390625 14.5 40.28125 \nQ 14.5 37.15625 16.890625 35.375 \nQ 19.28125 33.59375 26.515625 31.984375 \nL 29.59375 31.296875 \nQ 39.15625 29.25 43.1875 25.515625 \nQ 47.21875 21.78125 47.21875 15.09375 \nQ 47.21875 7.46875 41.1875 3.015625 \nQ 35.15625 -1.421875 24.609375 -1.421875 \nQ 20.21875 -1.421875 15.453125 -0.5625 \nQ 10.6875 0.296875 5.421875 2 \nL 5.421875 11.28125 \nQ 10.40625 8.6875 15.234375 7.390625 \nQ 20.0625 6.109375 24.8125 6.109375 \nQ 31.15625 6.109375 34.5625 8.28125 \nQ 37.984375 10.453125 37.984375 14.40625 \nQ 37.984375 18.0625 35.515625 20.015625 \nQ 33.0625 21.96875 24.703125 23.78125 \nL 21.578125 24.515625 \nQ 13.234375 26.265625 9.515625 29.90625 \nQ 5.8125 33.546875 5.8125 39.890625 \nQ 5.8125 47.609375 11.28125 51.796875 \nQ 16.75 56 26.8125 56 \nQ 31.78125 56 36.171875 55.265625 \nQ 40.578125 54.546875 44.28125 53.078125 \nz\n\" id=\"DejaVuSans-115\"/>\n      <path d=\"M 56.203125 29.59375 \nL 56.203125 25.203125 \nL 14.890625 25.203125 \nQ 15.484375 15.921875 20.484375 11.0625 \nQ 25.484375 6.203125 34.421875 6.203125 \nQ 39.59375 6.203125 44.453125 7.46875 \nQ 49.3125 8.734375 54.109375 11.28125 \nL 54.109375 2.78125 \nQ 49.265625 0.734375 44.1875 -0.34375 \nQ 39.109375 -1.421875 33.890625 -1.421875 \nQ 20.796875 -1.421875 13.15625 6.1875 \nQ 5.515625 13.8125 5.515625 26.8125 \nQ 5.515625 40.234375 12.765625 48.109375 \nQ 20.015625 56 32.328125 56 \nQ 43.359375 56 49.78125 48.890625 \nQ 56.203125 41.796875 56.203125 29.59375 \nz\nM 47.21875 32.234375 \nQ 47.125 39.59375 43.09375 43.984375 \nQ 39.0625 48.390625 32.421875 48.390625 \nQ 24.90625 48.390625 20.390625 44.140625 \nQ 15.875 39.890625 15.1875 32.171875 \nz\n\" id=\"DejaVuSans-101\"/>\n     </defs>\n     <g transform=\"translate(384.169226 81.398438)scale(0.1 -0.1)\">\n      <use xlink:href=\"#DejaVuSans-70\"/>\n      <use x=\"48.394531\" xlink:href=\"#DejaVuSans-97\"/>\n      <use x=\"109.673828\" xlink:href=\"#DejaVuSans-108\"/>\n      <use x=\"137.457031\" xlink:href=\"#DejaVuSans-115\"/>\n      <use x=\"189.556641\" xlink:href=\"#DejaVuSans-101\"/>\n     </g>\n    </g>\n    <g id=\"patch_11\">\n     <path d=\"M 356.169226 96.076563 \nL 376.169226 96.076563 \nL 376.169226 89.076563 \nL 356.169226 89.076563 \nz\n\" style=\"fill:none;stroke:#ff7f0e;stroke-linejoin:miter;\"/>\n    </g>\n    <g id=\"text_15\">\n     <!-- True -->\n     <defs>\n      <path d=\"M -0.296875 72.90625 \nL 61.375 72.90625 \nL 61.375 64.59375 \nL 35.5 64.59375 \nL 35.5 0 \nL 25.59375 0 \nL 25.59375 64.59375 \nL -0.296875 64.59375 \nz\n\" id=\"DejaVuSans-84\"/>\n      <path d=\"M 41.109375 46.296875 \nQ 39.59375 47.171875 37.8125 47.578125 \nQ 36.03125 48 33.890625 48 \nQ 26.265625 48 22.1875 43.046875 \nQ 18.109375 38.09375 18.109375 28.8125 \nL 18.109375 0 \nL 9.078125 0 \nL 9.078125 54.6875 \nL 18.109375 54.6875 \nL 18.109375 46.1875 \nQ 20.953125 51.171875 25.484375 53.578125 \nQ 30.03125 56 36.53125 56 \nQ 37.453125 56 38.578125 55.875 \nQ 39.703125 55.765625 41.0625 55.515625 \nz\n\" id=\"DejaVuSans-114\"/>\n      <path d=\"M 8.5 21.578125 \nL 8.5 54.6875 \nL 17.484375 54.6875 \nL 17.484375 21.921875 \nQ 17.484375 14.15625 20.5 10.265625 \nQ 23.53125 6.390625 29.59375 6.390625 \nQ 36.859375 6.390625 41.078125 11.03125 \nQ 45.3125 15.671875 45.3125 23.6875 \nL 45.3125 54.6875 \nL 54.296875 54.6875 \nL 54.296875 0 \nL 45.3125 0 \nL 45.3125 8.40625 \nQ 42.046875 3.421875 37.71875 1 \nQ 33.40625 -1.421875 27.6875 -1.421875 \nQ 18.265625 -1.421875 13.375 4.4375 \nQ 8.5 10.296875 8.5 21.578125 \nz\nM 31.109375 56 \nz\n\" id=\"DejaVuSans-117\"/>\n     </defs>\n     <g transform=\"translate(384.169226 96.076563)scale(0.1 -0.1)\">\n      <use xlink:href=\"#DejaVuSans-84\"/>\n      <use x=\"46.333984\" xlink:href=\"#DejaVuSans-114\"/>\n      <use x=\"87.447266\" xlink:href=\"#DejaVuSans-117\"/>\n      <use x=\"150.826172\" xlink:href=\"#DejaVuSans-101\"/>\n     </g>\n    </g>\n   </g>\n  </g>\n  <g id=\"axes_2\">\n   <g id=\"patch_12\">\n    <path d=\"M 534.729212 499.68 \nL 922.903125 499.68 \nL 922.903125 64.8 \nL 534.729212 64.8 \nz\n\" style=\"fill:#ffffff;\"/>\n   </g>\n   <g id=\"patch_13\">\n    <path clip-path=\"url(#p50ac8f0e2d)\" d=\"M 568.827087 499.68 \nL 568.827087 498.468086 \nL 575.555719 498.468086 \nL 575.555719 498.771064 \nL 582.284352 498.771064 \nL 582.284352 493.317458 \nL 589.012992 493.317458 \nL 589.012992 493.014472 \nL 595.741625 493.014472 \nL 595.741625 484.834068 \nL 602.470265 484.834068 \nL 602.470265 472.714911 \nL 609.198898 472.714911 \nL 609.198898 455.748161 \nL 615.927538 455.748161 \nL 615.927538 420.299624 \nL 622.656171 420.299624 \nL 622.656171 366.066467 \nL 629.384803 366.066467 \nL 629.384803 313.348406 \nL 636.113443 313.348406 \nL 636.113443 276.081842 \nL 642.842076 276.081842 \nL 642.842076 239.118604 \nL 649.570713 239.118604 \nL 649.570713 186.703175 \nL 656.299345 186.703175 \nL 656.299345 142.165526 \nL 663.027982 142.165526 \nL 663.027982 85.508571 \nL 669.756618 85.508571 \nL 669.756618 89.1442 \nL 676.485253 89.1442 \nL 676.485253 108.837799 \nL 683.213887 108.837799 \nL 683.213887 143.074461 \nL 689.942524 143.074461 \nL 689.942524 183.673519 \nL 696.671159 183.673519 \nL 696.671159 177.007972 \nL 703.399794 177.007972 \nL 703.399794 153.678657 \nL 710.12843 153.678657 \nL 710.12843 155.496504 \nL 716.857065 155.496504 \nL 716.857065 176.705016 \nL 723.5857 176.705016 \nL 723.5857 230.029253 \nL 730.314337 230.029253 \nL 730.314337 314.863145 \nL 737.042971 314.863145 \nL 737.042971 363.945691 \nL 743.771608 363.945691 \nL 743.771608 409.089419 \nL 750.500241 409.089419 \nL 750.500241 436.054543 \nL 757.228877 436.054543 \nL 757.228877 458.171964 \nL 763.957513 458.171964 \nL 763.957513 454.839202 \nL 770.68615 454.839202 \nL 770.68615 437.266422 \nL 777.414783 437.266422 \nL 777.414783 417.269929 \nL 784.143423 417.269929 \nL 784.143423 393.637513 \nL 790.872055 393.637513 \nL 790.872055 369.702209 \nL 797.600688 369.702209 \nL 797.600688 360.613005 \nL 804.329328 360.613005 \nL 804.329328 364.248596 \nL 811.057961 364.248596 \nL 811.057961 402.120912 \nL 817.786594 402.120912 \nL 817.786594 437.872447 \nL 824.515234 437.872447 \nL 824.515234 453.021306 \nL 831.243867 453.021306 \nL 831.243867 457.263005 \nL 837.972499 457.263005 \nL 837.972499 468.77619 \nL 844.701132 468.77619 \nL 844.701132 471.806036 \nL 851.42978 471.806036 \nL 851.42978 474.532782 \nL 858.158412 474.532782 \nL 858.158412 483.016181 \nL 864.887045 483.016181 \nL 864.887045 487.560859 \nL 871.615678 487.560859 \nL 871.615678 491.802558 \nL 878.344311 491.802558 \nL 878.344311 495.438301 \nL 885.072943 495.438301 \nL 885.072943 496.953199 \nL 891.801591 496.953199 \nL 891.801591 497.862129 \nL 898.530223 497.862129 \nL 898.530223 498.771064 \nL 905.258856 498.771064 \nL 905.258856 499.68 \n\" style=\"fill:none;stroke:#1f77b4;stroke-linejoin:miter;\"/>\n   </g>\n   <g id=\"patch_14\">\n    <path clip-path=\"url(#p50ac8f0e2d)\" d=\"M 552.373481 499.68 \nL 552.373481 496.862655 \nL 558.646059 496.862655 \nL 558.646059 497.801765 \nL 564.918622 497.801765 \nL 564.918622 482.775927 \nL 571.1912 482.775927 \nL 571.1912 454.602366 \nL 577.463763 454.602366 \nL 577.463763 456.480652 \nL 583.736334 456.480652 \nL 583.736334 448.028605 \nL 590.008905 448.028605 \nL 590.008905 463.054509 \nL 596.281483 463.054509 \nL 596.281483 467.750047 \nL 602.554053 467.750047 \nL 602.554053 461.176233 \nL 608.826624 461.176233 \nL 608.826624 461.176233 \nL 615.099194 461.176233 \nL 615.099194 449.906838 \nL 621.371765 449.906838 \nL 621.371765 418.916001 \nL 627.644336 418.916001 \nL 627.644336 393.559862 \nL 633.916906 393.559862 \nL 633.916906 364.447258 \nL 640.189477 364.447258 \nL 640.189477 349.421397 \nL 646.462048 349.421397 \nL 646.462048 268.657534 \nL 652.734622 268.657534 \nL 652.734622 238.605678 \nL 659.007193 238.605678 \nL 659.007193 198.223678 \nL 665.279763 198.223678 \nL 665.279763 159.719911 \nL 671.552334 159.719911 \nL 671.552334 165.354609 \nL 677.824904 165.354609 \nL 677.824904 186.954375 \nL 684.097477 186.954375 \nL 684.097477 198.223678 \nL 690.370048 198.223678 \nL 690.370048 209.493116 \nL 696.642619 209.493116 \nL 696.642619 226.397166 \nL 702.91519 226.397166 \nL 702.91519 273.353013 \nL 709.187761 273.353013 \nL 709.187761 262.083619 \nL 715.460333 262.083619 \nL 715.460333 281.805026 \nL 721.732903 281.805026 \nL 721.732903 225.45809 \nL 728.005475 225.45809 \nL 728.005475 203.858376 \nL 734.278046 203.858376 \nL 734.278046 250.814262 \nL 740.550618 250.814262 \nL 740.550618 297.770003 \nL 746.823189 297.770003 \nL 746.823189 353.177862 \nL 753.095759 353.177862 \nL 753.095759 398.255443 \nL 759.36833 398.255443 \nL 759.36833 426.428931 \nL 765.640901 426.428931 \nL 765.640901 441.454826 \nL 771.913475 441.454826 \nL 771.913475 434.880978 \nL 778.186046 434.880978 \nL 778.186046 423.611582 \nL 784.458616 423.611582 \nL 784.458616 386.986048 \nL 790.731187 386.986048 \nL 790.731187 333.456421 \nL 797.003757 333.456421 \nL 797.003757 263.022701 \nL 803.276328 263.022701 \nL 803.276328 282.744142 \nL 809.548899 282.744142 \nL 809.548899 296.830886 \nL 815.821469 296.830886 \nL 815.821469 329.699956 \nL 822.09404 329.699956 \nL 822.09404 358.812725 \nL 828.366618 358.812725 \nL 828.366618 386.046798 \nL 834.639181 386.046798 \nL 834.639181 419.855211 \nL 840.911759 419.855211 \nL 840.911759 443.332958 \nL 847.184323 443.332958 \nL 847.184323 473.384775 \nL 853.456901 473.384775 \nL 853.456901 489.349709 \nL 859.729464 489.349709 \nL 859.729464 495.923539 \nL 866.002042 495.923539 \nL 866.002042 499.68 \n\" style=\"fill:none;stroke:#ff7f0e;stroke-linejoin:miter;\"/>\n   </g>\n   <g id=\"matplotlib.axis_3\">\n    <g id=\"xtick_7\">\n     <g id=\"line2d_25\">\n      <path clip-path=\"url(#p50ac8f0e2d)\" d=\"M 552.261822 499.68 \nL 552.261822 64.8 \n\" style=\"fill:none;stroke:#b0b0b0;stroke-linecap:square;stroke-width:0.8;\"/>\n     </g>\n     <g id=\"line2d_26\">\n      <g>\n       <use style=\"stroke:#000000;stroke-width:0.8;\" x=\"552.261822\" xlink:href=\"#m7a8363fa49\" y=\"499.68\"/>\n      </g>\n     </g>\n     <g id=\"text_16\">\n      <!-- −20 -->\n      <g transform=\"translate(541.709478 514.278437)scale(0.1 -0.1)\">\n       <use xlink:href=\"#DejaVuSans-8722\"/>\n       <use x=\"83.789062\" xlink:href=\"#DejaVuSans-50\"/>\n       <use x=\"147.412109\" xlink:href=\"#DejaVuSans-48\"/>\n      </g>\n     </g>\n    </g>\n    <g id=\"xtick_8\">\n     <g id=\"line2d_27\">\n      <path clip-path=\"url(#p50ac8f0e2d)\" d=\"M 629.431985 499.68 \nL 629.431985 64.8 \n\" style=\"fill:none;stroke:#b0b0b0;stroke-linecap:square;stroke-width:0.8;\"/>\n     </g>\n     <g id=\"line2d_28\">\n      <g>\n       <use style=\"stroke:#000000;stroke-width:0.8;\" x=\"629.431985\" xlink:href=\"#m7a8363fa49\" y=\"499.68\"/>\n      </g>\n     </g>\n     <g id=\"text_17\">\n      <!-- −10 -->\n      <g transform=\"translate(618.879641 514.278437)scale(0.1 -0.1)\">\n       <use xlink:href=\"#DejaVuSans-8722\"/>\n       <use x=\"83.789062\" xlink:href=\"#DejaVuSans-49\"/>\n       <use x=\"147.412109\" xlink:href=\"#DejaVuSans-48\"/>\n      </g>\n     </g>\n    </g>\n    <g id=\"xtick_9\">\n     <g id=\"line2d_29\">\n      <path clip-path=\"url(#p50ac8f0e2d)\" d=\"M 706.602148 499.68 \nL 706.602148 64.8 \n\" style=\"fill:none;stroke:#b0b0b0;stroke-linecap:square;stroke-width:0.8;\"/>\n     </g>\n     <g id=\"line2d_30\">\n      <g>\n       <use style=\"stroke:#000000;stroke-width:0.8;\" x=\"706.602148\" xlink:href=\"#m7a8363fa49\" y=\"499.68\"/>\n      </g>\n     </g>\n     <g id=\"text_18\">\n      <!-- 0 -->\n      <g transform=\"translate(703.420898 514.278437)scale(0.1 -0.1)\">\n       <use xlink:href=\"#DejaVuSans-48\"/>\n      </g>\n     </g>\n    </g>\n    <g id=\"xtick_10\">\n     <g id=\"line2d_31\">\n      <path clip-path=\"url(#p50ac8f0e2d)\" d=\"M 783.772312 499.68 \nL 783.772312 64.8 \n\" style=\"fill:none;stroke:#b0b0b0;stroke-linecap:square;stroke-width:0.8;\"/>\n     </g>\n     <g id=\"line2d_32\">\n      <g>\n       <use style=\"stroke:#000000;stroke-width:0.8;\" x=\"783.772312\" xlink:href=\"#m7a8363fa49\" y=\"499.68\"/>\n      </g>\n     </g>\n     <g id=\"text_19\">\n      <!-- 10 -->\n      <g transform=\"translate(777.409812 514.278437)scale(0.1 -0.1)\">\n       <use xlink:href=\"#DejaVuSans-49\"/>\n       <use x=\"63.623047\" xlink:href=\"#DejaVuSans-48\"/>\n      </g>\n     </g>\n    </g>\n    <g id=\"xtick_11\">\n     <g id=\"line2d_33\">\n      <path clip-path=\"url(#p50ac8f0e2d)\" d=\"M 860.942475 499.68 \nL 860.942475 64.8 \n\" style=\"fill:none;stroke:#b0b0b0;stroke-linecap:square;stroke-width:0.8;\"/>\n     </g>\n     <g id=\"line2d_34\">\n      <g>\n       <use style=\"stroke:#000000;stroke-width:0.8;\" x=\"860.942475\" xlink:href=\"#m7a8363fa49\" y=\"499.68\"/>\n      </g>\n     </g>\n     <g id=\"text_20\">\n      <!-- 20 -->\n      <g transform=\"translate(854.579975 514.278437)scale(0.1 -0.1)\">\n       <use xlink:href=\"#DejaVuSans-50\"/>\n       <use x=\"63.623047\" xlink:href=\"#DejaVuSans-48\"/>\n      </g>\n     </g>\n    </g>\n   </g>\n   <g id=\"matplotlib.axis_4\">\n    <g id=\"ytick_7\">\n     <g id=\"line2d_35\">\n      <path clip-path=\"url(#p50ac8f0e2d)\" d=\"M 534.729212 499.68 \nL 922.903125 499.68 \n\" style=\"fill:none;stroke:#b0b0b0;stroke-linecap:square;stroke-width:0.8;\"/>\n     </g>\n     <g id=\"line2d_36\">\n      <g>\n       <use style=\"stroke:#000000;stroke-width:0.8;\" x=\"534.729212\" xlink:href=\"#mbb289c4872\" y=\"499.68\"/>\n      </g>\n     </g>\n     <g id=\"text_21\">\n      <!-- 0.00 -->\n      <g transform=\"translate(505.463587 503.479219)scale(0.1 -0.1)\">\n       <use xlink:href=\"#DejaVuSans-48\"/>\n       <use x=\"63.623047\" xlink:href=\"#DejaVuSans-46\"/>\n       <use x=\"95.410156\" xlink:href=\"#DejaVuSans-48\"/>\n       <use x=\"159.033203\" xlink:href=\"#DejaVuSans-48\"/>\n      </g>\n     </g>\n    </g>\n    <g id=\"ytick_8\">\n     <g id=\"line2d_37\">\n      <path clip-path=\"url(#p50ac8f0e2d)\" d=\"M 534.729212 440.88026 \nL 922.903125 440.88026 \n\" style=\"fill:none;stroke:#b0b0b0;stroke-linecap:square;stroke-width:0.8;\"/>\n     </g>\n     <g id=\"line2d_38\">\n      <g>\n       <use style=\"stroke:#000000;stroke-width:0.8;\" x=\"534.729212\" xlink:href=\"#mbb289c4872\" y=\"440.88026\"/>\n      </g>\n     </g>\n     <g id=\"text_22\">\n      <!-- 0.01 -->\n      <g transform=\"translate(505.463587 444.679479)scale(0.1 -0.1)\">\n       <use xlink:href=\"#DejaVuSans-48\"/>\n       <use x=\"63.623047\" xlink:href=\"#DejaVuSans-46\"/>\n       <use x=\"95.410156\" xlink:href=\"#DejaVuSans-48\"/>\n       <use x=\"159.033203\" xlink:href=\"#DejaVuSans-49\"/>\n      </g>\n     </g>\n    </g>\n    <g id=\"ytick_9\">\n     <g id=\"line2d_39\">\n      <path clip-path=\"url(#p50ac8f0e2d)\" d=\"M 534.729212 382.080521 \nL 922.903125 382.080521 \n\" style=\"fill:none;stroke:#b0b0b0;stroke-linecap:square;stroke-width:0.8;\"/>\n     </g>\n     <g id=\"line2d_40\">\n      <g>\n       <use style=\"stroke:#000000;stroke-width:0.8;\" x=\"534.729212\" xlink:href=\"#mbb289c4872\" y=\"382.080521\"/>\n      </g>\n     </g>\n     <g id=\"text_23\">\n      <!-- 0.02 -->\n      <g transform=\"translate(505.463587 385.879739)scale(0.1 -0.1)\">\n       <use xlink:href=\"#DejaVuSans-48\"/>\n       <use x=\"63.623047\" xlink:href=\"#DejaVuSans-46\"/>\n       <use x=\"95.410156\" xlink:href=\"#DejaVuSans-48\"/>\n       <use x=\"159.033203\" xlink:href=\"#DejaVuSans-50\"/>\n      </g>\n     </g>\n    </g>\n    <g id=\"ytick_10\">\n     <g id=\"line2d_41\">\n      <path clip-path=\"url(#p50ac8f0e2d)\" d=\"M 534.729212 323.280781 \nL 922.903125 323.280781 \n\" style=\"fill:none;stroke:#b0b0b0;stroke-linecap:square;stroke-width:0.8;\"/>\n     </g>\n     <g id=\"line2d_42\">\n      <g>\n       <use style=\"stroke:#000000;stroke-width:0.8;\" x=\"534.729212\" xlink:href=\"#mbb289c4872\" y=\"323.280781\"/>\n      </g>\n     </g>\n     <g id=\"text_24\">\n      <!-- 0.03 -->\n      <g transform=\"translate(505.463587 327.08)scale(0.1 -0.1)\">\n       <use xlink:href=\"#DejaVuSans-48\"/>\n       <use x=\"63.623047\" xlink:href=\"#DejaVuSans-46\"/>\n       <use x=\"95.410156\" xlink:href=\"#DejaVuSans-48\"/>\n       <use x=\"159.033203\" xlink:href=\"#DejaVuSans-51\"/>\n      </g>\n     </g>\n    </g>\n    <g id=\"ytick_11\">\n     <g id=\"line2d_43\">\n      <path clip-path=\"url(#p50ac8f0e2d)\" d=\"M 534.729212 264.481041 \nL 922.903125 264.481041 \n\" style=\"fill:none;stroke:#b0b0b0;stroke-linecap:square;stroke-width:0.8;\"/>\n     </g>\n     <g id=\"line2d_44\">\n      <g>\n       <use style=\"stroke:#000000;stroke-width:0.8;\" x=\"534.729212\" xlink:href=\"#mbb289c4872\" y=\"264.481041\"/>\n      </g>\n     </g>\n     <g id=\"text_25\">\n      <!-- 0.04 -->\n      <g transform=\"translate(505.463587 268.28026)scale(0.1 -0.1)\">\n       <use xlink:href=\"#DejaVuSans-48\"/>\n       <use x=\"63.623047\" xlink:href=\"#DejaVuSans-46\"/>\n       <use x=\"95.410156\" xlink:href=\"#DejaVuSans-48\"/>\n       <use x=\"159.033203\" xlink:href=\"#DejaVuSans-52\"/>\n      </g>\n     </g>\n    </g>\n    <g id=\"ytick_12\">\n     <g id=\"line2d_45\">\n      <path clip-path=\"url(#p50ac8f0e2d)\" d=\"M 534.729212 205.681302 \nL 922.903125 205.681302 \n\" style=\"fill:none;stroke:#b0b0b0;stroke-linecap:square;stroke-width:0.8;\"/>\n     </g>\n     <g id=\"line2d_46\">\n      <g>\n       <use style=\"stroke:#000000;stroke-width:0.8;\" x=\"534.729212\" xlink:href=\"#mbb289c4872\" y=\"205.681302\"/>\n      </g>\n     </g>\n     <g id=\"text_26\">\n      <!-- 0.05 -->\n      <g transform=\"translate(505.463587 209.48052)scale(0.1 -0.1)\">\n       <use xlink:href=\"#DejaVuSans-48\"/>\n       <use x=\"63.623047\" xlink:href=\"#DejaVuSans-46\"/>\n       <use x=\"95.410156\" xlink:href=\"#DejaVuSans-48\"/>\n       <use x=\"159.033203\" xlink:href=\"#DejaVuSans-53\"/>\n      </g>\n     </g>\n    </g>\n    <g id=\"ytick_13\">\n     <g id=\"line2d_47\">\n      <path clip-path=\"url(#p50ac8f0e2d)\" d=\"M 534.729212 146.881562 \nL 922.903125 146.881562 \n\" style=\"fill:none;stroke:#b0b0b0;stroke-linecap:square;stroke-width:0.8;\"/>\n     </g>\n     <g id=\"line2d_48\">\n      <g>\n       <use style=\"stroke:#000000;stroke-width:0.8;\" x=\"534.729212\" xlink:href=\"#mbb289c4872\" y=\"146.881562\"/>\n      </g>\n     </g>\n     <g id=\"text_27\">\n      <!-- 0.06 -->\n      <g transform=\"translate(505.463587 150.680781)scale(0.1 -0.1)\">\n       <use xlink:href=\"#DejaVuSans-48\"/>\n       <use x=\"63.623047\" xlink:href=\"#DejaVuSans-46\"/>\n       <use x=\"95.410156\" xlink:href=\"#DejaVuSans-48\"/>\n       <use x=\"159.033203\" xlink:href=\"#DejaVuSans-54\"/>\n      </g>\n     </g>\n    </g>\n    <g id=\"ytick_14\">\n     <g id=\"line2d_49\">\n      <path clip-path=\"url(#p50ac8f0e2d)\" d=\"M 534.729212 88.081822 \nL 922.903125 88.081822 \n\" style=\"fill:none;stroke:#b0b0b0;stroke-linecap:square;stroke-width:0.8;\"/>\n     </g>\n     <g id=\"line2d_50\">\n      <g>\n       <use style=\"stroke:#000000;stroke-width:0.8;\" x=\"534.729212\" xlink:href=\"#mbb289c4872\" y=\"88.081822\"/>\n      </g>\n     </g>\n     <g id=\"text_28\">\n      <!-- 0.07 -->\n      <defs>\n       <path d=\"M 8.203125 72.90625 \nL 55.078125 72.90625 \nL 55.078125 68.703125 \nL 28.609375 0 \nL 18.3125 0 \nL 43.21875 64.59375 \nL 8.203125 64.59375 \nz\n\" id=\"DejaVuSans-55\"/>\n      </defs>\n      <g transform=\"translate(505.463587 91.881041)scale(0.1 -0.1)\">\n       <use xlink:href=\"#DejaVuSans-48\"/>\n       <use x=\"63.623047\" xlink:href=\"#DejaVuSans-46\"/>\n       <use x=\"95.410156\" xlink:href=\"#DejaVuSans-48\"/>\n       <use x=\"159.033203\" xlink:href=\"#DejaVuSans-55\"/>\n      </g>\n     </g>\n    </g>\n   </g>\n   <g id=\"patch_15\">\n    <path d=\"M 534.729212 499.68 \nL 534.729212 64.8 \n\" style=\"fill:none;stroke:#000000;stroke-linecap:square;stroke-linejoin:miter;stroke-width:0.8;\"/>\n   </g>\n   <g id=\"patch_16\">\n    <path d=\"M 922.903125 499.68 \nL 922.903125 64.8 \n\" style=\"fill:none;stroke:#000000;stroke-linecap:square;stroke-linejoin:miter;stroke-width:0.8;\"/>\n   </g>\n   <g id=\"patch_17\">\n    <path d=\"M 534.729212 499.68 \nL 922.903125 499.68 \n\" style=\"fill:none;stroke:#000000;stroke-linecap:square;stroke-linejoin:miter;stroke-width:0.8;\"/>\n   </g>\n   <g id=\"patch_18\">\n    <path d=\"M 534.729212 64.8 \nL 922.903125 64.8 \n\" style=\"fill:none;stroke:#000000;stroke-linecap:square;stroke-linejoin:miter;stroke-width:0.8;\"/>\n   </g>\n   <g id=\"text_29\">\n    <!-- PCA -->\n    <defs>\n     <path d=\"M 19.671875 64.796875 \nL 19.671875 37.40625 \nL 32.078125 37.40625 \nQ 38.96875 37.40625 42.71875 40.96875 \nQ 46.484375 44.53125 46.484375 51.125 \nQ 46.484375 57.671875 42.71875 61.234375 \nQ 38.96875 64.796875 32.078125 64.796875 \nz\nM 9.8125 72.90625 \nL 32.078125 72.90625 \nQ 44.34375 72.90625 50.609375 67.359375 \nQ 56.890625 61.8125 56.890625 51.125 \nQ 56.890625 40.328125 50.609375 34.8125 \nQ 44.34375 29.296875 32.078125 29.296875 \nL 19.671875 29.296875 \nL 19.671875 0 \nL 9.8125 0 \nz\n\" id=\"DejaVuSans-80\"/>\n     <path d=\"M 64.40625 67.28125 \nL 64.40625 56.890625 \nQ 59.421875 61.53125 53.78125 63.8125 \nQ 48.140625 66.109375 41.796875 66.109375 \nQ 29.296875 66.109375 22.65625 58.46875 \nQ 16.015625 50.828125 16.015625 36.375 \nQ 16.015625 21.96875 22.65625 14.328125 \nQ 29.296875 6.6875 41.796875 6.6875 \nQ 48.140625 6.6875 53.78125 8.984375 \nQ 59.421875 11.28125 64.40625 15.921875 \nL 64.40625 5.609375 \nQ 59.234375 2.09375 53.4375 0.328125 \nQ 47.65625 -1.421875 41.21875 -1.421875 \nQ 24.65625 -1.421875 15.125 8.703125 \nQ 5.609375 18.84375 5.609375 36.375 \nQ 5.609375 53.953125 15.125 64.078125 \nQ 24.65625 74.21875 41.21875 74.21875 \nQ 47.75 74.21875 53.53125 72.484375 \nQ 59.328125 70.75 64.40625 67.28125 \nz\n\" id=\"DejaVuSans-67\"/>\n    </defs>\n    <g transform=\"translate(716.904293 58.8)scale(0.12 -0.12)\">\n     <use xlink:href=\"#DejaVuSans-80\"/>\n     <use x=\"60.302734\" xlink:href=\"#DejaVuSans-67\"/>\n     <use x=\"130.126953\" xlink:href=\"#DejaVuSans-65\"/>\n    </g>\n   </g>\n   <g id=\"legend_2\">\n    <g id=\"patch_19\">\n     <path d=\"M 858.795313 102.15625 \nL 915.903125 102.15625 \nQ 917.903125 102.15625 917.903125 100.15625 \nL 917.903125 71.8 \nQ 917.903125 69.8 915.903125 69.8 \nL 858.795313 69.8 \nQ 856.795313 69.8 856.795313 71.8 \nL 856.795313 100.15625 \nQ 856.795313 102.15625 858.795313 102.15625 \nz\n\" style=\"fill:#ffffff;opacity:0.8;stroke:#cccccc;stroke-linejoin:miter;\"/>\n    </g>\n    <g id=\"patch_20\">\n     <path d=\"M 860.795313 81.398438 \nL 880.795313 81.398438 \nL 880.795313 74.398438 \nL 860.795313 74.398438 \nz\n\" style=\"fill:none;stroke:#1f77b4;stroke-linejoin:miter;\"/>\n    </g>\n    <g id=\"text_30\">\n     <!-- False -->\n     <g transform=\"translate(888.795313 81.398438)scale(0.1 -0.1)\">\n      <use xlink:href=\"#DejaVuSans-70\"/>\n      <use x=\"48.394531\" xlink:href=\"#DejaVuSans-97\"/>\n      <use x=\"109.673828\" xlink:href=\"#DejaVuSans-108\"/>\n      <use x=\"137.457031\" xlink:href=\"#DejaVuSans-115\"/>\n      <use x=\"189.556641\" xlink:href=\"#DejaVuSans-101\"/>\n     </g>\n    </g>\n    <g id=\"patch_21\">\n     <path d=\"M 860.795313 96.076563 \nL 880.795313 96.076563 \nL 880.795313 89.076563 \nL 860.795313 89.076563 \nz\n\" style=\"fill:none;stroke:#ff7f0e;stroke-linejoin:miter;\"/>\n    </g>\n    <g id=\"text_31\">\n     <!-- True -->\n     <g transform=\"translate(888.795313 96.076563)scale(0.1 -0.1)\">\n      <use xlink:href=\"#DejaVuSans-84\"/>\n      <use x=\"46.333984\" xlink:href=\"#DejaVuSans-114\"/>\n      <use x=\"87.447266\" xlink:href=\"#DejaVuSans-117\"/>\n      <use x=\"150.826172\" xlink:href=\"#DejaVuSans-101\"/>\n     </g>\n    </g>\n   </g>\n  </g>\n  <g id=\"text_32\">\n   <!-- 1yeardeath -->\n   <defs>\n    <path d=\"M 32.171875 -5.078125 \nQ 28.375 -14.84375 24.75 -17.8125 \nQ 21.140625 -20.796875 15.09375 -20.796875 \nL 7.90625 -20.796875 \nL 7.90625 -13.28125 \nL 13.1875 -13.28125 \nQ 16.890625 -13.28125 18.9375 -11.515625 \nQ 21 -9.765625 23.484375 -3.21875 \nL 25.09375 0.875 \nL 2.984375 54.6875 \nL 12.5 54.6875 \nL 29.59375 11.921875 \nL 46.6875 54.6875 \nL 56.203125 54.6875 \nz\n\" id=\"DejaVuSans-121\"/>\n    <path d=\"M 45.40625 46.390625 \nL 45.40625 75.984375 \nL 54.390625 75.984375 \nL 54.390625 0 \nL 45.40625 0 \nL 45.40625 8.203125 \nQ 42.578125 3.328125 38.25 0.953125 \nQ 33.9375 -1.421875 27.875 -1.421875 \nQ 17.96875 -1.421875 11.734375 6.484375 \nQ 5.515625 14.40625 5.515625 27.296875 \nQ 5.515625 40.1875 11.734375 48.09375 \nQ 17.96875 56 27.875 56 \nQ 33.9375 56 38.25 53.625 \nQ 42.578125 51.265625 45.40625 46.390625 \nz\nM 14.796875 27.296875 \nQ 14.796875 17.390625 18.875 11.75 \nQ 22.953125 6.109375 30.078125 6.109375 \nQ 37.203125 6.109375 41.296875 11.75 \nQ 45.40625 17.390625 45.40625 27.296875 \nQ 45.40625 37.203125 41.296875 42.84375 \nQ 37.203125 48.484375 30.078125 48.484375 \nQ 22.953125 48.484375 18.875 42.84375 \nQ 14.796875 37.203125 14.796875 27.296875 \nz\n\" id=\"DejaVuSans-100\"/>\n    <path d=\"M 18.3125 70.21875 \nL 18.3125 54.6875 \nL 36.8125 54.6875 \nL 36.8125 47.703125 \nL 18.3125 47.703125 \nL 18.3125 18.015625 \nQ 18.3125 11.328125 20.140625 9.421875 \nQ 21.96875 7.515625 27.59375 7.515625 \nL 36.8125 7.515625 \nL 36.8125 0 \nL 27.59375 0 \nQ 17.1875 0 13.234375 3.875 \nQ 9.28125 7.765625 9.28125 18.015625 \nL 9.28125 47.703125 \nL 2.6875 47.703125 \nL 2.6875 54.6875 \nL 9.28125 54.6875 \nL 9.28125 70.21875 \nz\n\" id=\"DejaVuSans-116\"/>\n    <path d=\"M 54.890625 33.015625 \nL 54.890625 0 \nL 45.90625 0 \nL 45.90625 32.71875 \nQ 45.90625 40.484375 42.875 44.328125 \nQ 39.84375 48.1875 33.796875 48.1875 \nQ 26.515625 48.1875 22.3125 43.546875 \nQ 18.109375 38.921875 18.109375 30.90625 \nL 18.109375 0 \nL 9.078125 0 \nL 9.078125 75.984375 \nL 18.109375 75.984375 \nL 18.109375 46.1875 \nQ 21.34375 51.125 25.703125 53.5625 \nQ 30.078125 56 35.796875 56 \nQ 45.21875 56 50.046875 50.171875 \nQ 54.890625 44.34375 54.890625 33.015625 \nz\n\" id=\"DejaVuSans-104\"/>\n   </defs>\n   <g transform=\"translate(427.671563 16.318125)scale(0.12 -0.12)\">\n    <use xlink:href=\"#DejaVuSans-49\"/>\n    <use x=\"63.623047\" xlink:href=\"#DejaVuSans-121\"/>\n    <use x=\"122.802734\" xlink:href=\"#DejaVuSans-101\"/>\n    <use x=\"184.326172\" xlink:href=\"#DejaVuSans-97\"/>\n    <use x=\"245.605469\" xlink:href=\"#DejaVuSans-114\"/>\n    <use x=\"284.96875\" xlink:href=\"#DejaVuSans-100\"/>\n    <use x=\"348.445312\" xlink:href=\"#DejaVuSans-101\"/>\n    <use x=\"409.96875\" xlink:href=\"#DejaVuSans-97\"/>\n    <use x=\"471.248047\" xlink:href=\"#DejaVuSans-116\"/>\n    <use x=\"510.457031\" xlink:href=\"#DejaVuSans-104\"/>\n   </g>\n  </g>\n </g>\n <defs>\n  <clipPath id=\"pea931449cd\">\n   <rect height=\"434.88\" width=\"388.173913\" x=\"30.103125\" y=\"64.8\"/>\n  </clipPath>\n  <clipPath id=\"p50ac8f0e2d\">\n   <rect height=\"434.88\" width=\"388.173913\" x=\"534.729212\" y=\"64.8\"/>\n  </clipPath>\n </defs>\n</svg>\n",
      "image/png": "[encoded data removed]"
     },
     "metadata": {
      "needs_background": "light"
     }
    }
   ],
   "source": [
    "y = \"1yeardeath\"\n",
    "\n",
    "fig, (ax1, ax2) = plt.subplots(ncols = 2, figsize = (16,8))\n",
    "fig.suptitle(y)\n",
    "\n",
    "data = total.copy().sample(frac = 0.1)#.drop(np.nan, level = \"DODvsAlive\")\n",
    "\n",
    "total_lda = pd.DataFrame(\n",
    "    LinearDiscriminantAnalysis(n_components = 1).fit_transform(pcapipe.fit_transform(data), data.reset_index()[f\"{y}\"].values)\n",
    "    , index = data.index)\n",
    "\n",
    "\n",
    "for name, df in total_lda.groupby(level = f\"{y}\"):\n",
    "\n",
    "    df.hist(0, bins = 50, ax = ax1, histtype = 'step', label = name, density = True)\n",
    "\n",
    "ax1.set_title(\"LDA\")\n",
    "ax1.legend()\n",
    "    \n",
    "total_pca = pd.DataFrame(\n",
    "    PCA(n_components = 1).fit_transform(pcapipe.fit_transform(data), data.reset_index()[f\"{y}\"])\n",
    "    , index = data.index)\n",
    "\n",
    "\n",
    "for name, df in total_pca.groupby(level = f\"{y}\"):\n",
    "\n",
    "    df.hist(0, bins = 50, ax = ax2, histtype = 'step', label = name, density = True)\n",
    "\n",
    "ax2.set_title(\"PCA\")\n",
    "plt.legend()"
   ]
  },
  {
   "cell_type": "raw",
   "metadata": {
    "jupyter": {
     "source_hidden": true
    }
   },
   "source": [
    "group = \"Patient_Number\"\n",
    "y = \"DODvsAlive\"\n",
    "\n",
    "#data = (total - paraffin.mean(axis = 0)).sample(frac = 0.1)\n",
    "data = total.copy().sample(frac = 0.01)#.query(\"DODvsAlive != 'Other'\")#.drop(np.nan, level = y)\n",
    "\n",
    "\n",
    " \n",
    "data[\"sample_weights\"] = Cross_Eval.get_weights(data.reset_index()[f\"{group}\"]) * Cross_Eval.get_weights(data.reset_index()[f\"{y}\"])\n",
    "\n",
    "# Splt the data set into training and validation sets based on patient number\n",
    "train_pat, valid_pat = train_test_split(data.reset_index()[f\"{group}\"].unique(), test_size = 0.2, shuffle = True)\n",
    "\n",
    "print(f\"N train patients: \\t{len(train_pat)}\\n{train_pat}\")\n",
    "print(f\"N test patients: \\t{len(valid_pat)}\\n{valid_pat}\")\n",
    "\n",
    "\n",
    "train_data = data.query(f\"{group} in {list(train_pat)}\")\n",
    "validation_data = data.query(f\"{group} in {list(valid_pat)}\")\n",
    "\n",
    "\n",
    "X_train, X_valid = train_data.drop([\"sample_weights\"], axis = 1), validation_data.drop([\"sample_weights\"], axis = 1), \n",
    "y_train, y_valid = train_data.reset_index()[f\"{y}\"], validation_data.reset_index()[f\"{y}\"]\n",
    "w_train, w_test = train_data.reset_index()[\"sample_weights\"], validation_data.reset_index()[\"sample_weights\"]\n",
    "\n",
    "\n",
    "y_train.index = X_train.index\n",
    "y_valid.index = X_valid.index\n",
    "\n",
    "groups = X_train.reset_index()[f\"{group}\"]\n",
    "groups.index = X_train.index\n",
    "\n",
    "lb = LabelBinarizer().fit(data.reset_index()[f\"{y}\"])\n",
    "\n",
    "y_train_b = pd.DataFrame(lb.transform(y_train))\n",
    "y_valid_b = pd.DataFrame(lb.transform(y_valid))\n",
    "\n",
    "scorer = make_scorer(roc_auc_score, needs_proba = True, average = 'weighted')\n",
    "\n",
    "date_time = datetime.now().strftime(\"%m.%d.%Y_%H:%M\")\n",
    "\n",
    "file_place = os.path.join(os.getcwd(), \"Plots\", y, date_time)\n",
    "print(file_place)\n",
    "\n",
    "if not os.path.exists(file_place):\n",
    "    os.mkdir(file_place)\n",
    "    \n",
    "print(lb.classes_)"
   ]
  },
  {
   "cell_type": "raw",
   "metadata": {
    "jupyter": {
     "source_hidden": true
    }
   },
   "source": [
    "def build_LDA(hp):\n",
    "    \n",
    "    params = {\n",
    "        'n_components' : hp.Int(\"PCA_components\", 1, len(data.columns) - 1, 1),\n",
    "    }\n",
    "\n",
    "    clf = LinearDiscriminantAnalysis()\n",
    "    clf = clf.set_params(**params)\n",
    "    \n",
    "    #---------------------------------------------------------------------------------------------------\n",
    "    scalers = {\"Normalize\" : normalize,\n",
    "               \"Robust\"    : robust_scale,\n",
    "               \"MinMax\"    : minmax_scale}\n",
    "    \n",
    "    scale1 = hp.Choice('scale1', [\"Normalize\", \"Robust\", \"MinMax\"])\n",
    "    scale2 = hp.Choice('scale2', [\"Normalize\", \"Robust\", \"MinMax\"])\n",
    "\n",
    "    pipe = Pipeline([\n",
    "    (\"Normalise spectra\", FunctionTransformer(scalers[scale1] , kw_args = {\"axis\": 1})),\n",
    "    (\"Scaler\", FunctionTransformer(scalers[scale2] , kw_args = {\"axis\": 0})),\n",
    "    #(\"RBFSampler\", RBFSampler(gamma = hp.Float(\"RBF_gamma\", 0, 5), n_components = hp.Int(\"RB_components\", 1, 169, 1))),\n",
    "    (\"PCA\", PCA(n_components = hp.Int(\"PCA_components\", 1, len(data.columns) - 1, 1))),\n",
    "    (\"LDA\", clf)])\n",
    "    \n",
    "    return pipe"
   ]
  },
  {
   "cell_type": "raw",
   "metadata": {
    "jupyter": {
     "source_hidden": true
    }
   },
   "source": [
    "pipe = Pipeline([\n",
    "(\"Normalise spectra\", FunctionTransformer(robust_scale , kw_args = {\"axis\": 1})),\n",
    "(\"Scaler\", FunctionTransformer(robust_scale , kw_args = {\"axis\": 0})),\n",
    "#(\"RBFSampler\", RBFSampler(gamma = hp.Float(\"RBF_gamma\", 0, 5), n_components = hp.Int(\"RB_components\", 1, 169, 1))),\n",
    "(\"PCA\", PCA()),\n",
    "(\"LDA\", LinearDiscriminantAnalysis())])"
   ]
  },
  {
   "cell_type": "raw",
   "metadata": {
    "jupyter": {
     "source_hidden": true
    }
   },
   "source": [
    "pipe = Pipeline([\n",
    "(\"Normalise spectra\", FunctionTransformer(normalize , kw_args = {\"axis\": 1})),\n",
    "(\"Scaler\", FunctionTransformer(normalize , kw_args = {\"axis\": 0})),\n",
    "#(\"RBFSampler\", RBFSampler(gamma = hp.Float(\"RBF_gamma\", 0, 5), n_components = hp.Int(\"RB_components\", 1, 169, 1))),\n",
    "(\"PCA\", PCA()),\n",
    "(\"LDA\", LinearDiscriminantAnalysis())])"
   ]
  },
  {
   "cell_type": "raw",
   "metadata": {
    "jupyter": {
     "source_hidden": true
    }
   },
   "source": [
    "pipe = Pipeline([\n",
    "(\"Normalise spectra\", FunctionTransformer(minmax_scale , kw_args = {\"axis\": 1})),\n",
    "(\"Scaler\", FunctionTransformer(minmax_scale , kw_args = {\"axis\": 0})),\n",
    "#(\"RBFSampler\", RBFSampler(gamma = hp.Float(\"RBF_gamma\", 0, 5), n_components = hp.Int(\"RB_components\", 1, 169, 1))),\n",
    "(\"PCA\", PCA()),\n",
    "(\"LDA\", LinearDiscriminantAnalysis())])"
   ]
  },
  {
   "cell_type": "raw",
   "metadata": {
    "jupyter": {
     "source_hidden": true
    }
   },
   "source": [
    "pipe = Pipeline([\n",
    "(\"Normalise spectra\", FunctionTransformer(minmax_scale , kw_args = {\"axis\": 1})),\n",
    "(\"Scaler\", FunctionTransformer(robust_scale , kw_args = {\"axis\": 0})),\n",
    "#(\"RBFSampler\", RBFSampler(gamma = hp.Float(\"RBF_gamma\", 0, 5), n_components = hp.Int(\"RB_components\", 1, 169, 1))),\n",
    "(\"PCA\", PCA()),\n",
    "(\"LDA\", LinearDiscriminantAnalysis())])"
   ]
  },
  {
   "cell_type": "raw",
   "metadata": {
    "jupyter": {
     "source_hidden": true
    }
   },
   "source": [
    "pipe = Pipeline([\n",
    "(\"Normalise spectra\", FunctionTransformer(normalize , kw_args = {\"axis\": 1})),\n",
    "(\"Scaler\", FunctionTransformer(robust_scale , kw_args = {\"axis\": 0})),\n",
    "#(\"RBFSampler\", RBFSampler(gamma = hp.Float(\"RBF_gamma\", 0, 5), n_components = hp.Int(\"RB_components\", 1, 169, 1))),\n",
    "(\"PCA\", PCA()),\n",
    "(\"LDA\", LinearDiscriminantAnalysis())])"
   ]
  },
  {
   "cell_type": "raw",
   "metadata": {
    "jupyter": {
     "source_hidden": true
    }
   },
   "source": [
    "pipe = Pipeline([\n",
    "(\"Normalise spectra\", FunctionTransformer(normalize , kw_args = {\"axis\": 1})),\n",
    "(\"Scaler\", FunctionTransformer(minmax_scale , kw_args = {\"axis\": 0})),\n",
    "#(\"RBFSampler\", RBFSampler(gamma = hp.Float(\"RBF_gamma\", 0, 5), n_components = hp.Int(\"RB_components\", 1, 169, 1))),\n",
    "(\"PCA\", PCA()),\n",
    "(\"LDA\", LinearDiscriminantAnalysis())])"
   ]
  },
  {
   "cell_type": "raw",
   "metadata": {
    "jupyter": {
     "source_hidden": true
    }
   },
   "source": [
    "pipe = Pipeline([\n",
    "(\"Normalise spectra\", FunctionTransformer(minmax_scale , kw_args = {\"axis\": 1})),\n",
    "(\"Scaler\", FunctionTransformer(normalize , kw_args = {\"axis\": 0})),\n",
    "#(\"RBFSampler\", RBFSampler(gamma = hp.Float(\"RBF_gamma\", 0, 5), n_components = hp.Int(\"RB_components\", 1, 169, 1))),\n",
    "(\"PCA\", PCA()),\n",
    "(\"LDA\", LinearDiscriminantAnalysis())])"
   ]
  },
  {
   "cell_type": "raw",
   "metadata": {
    "jupyter": {
     "source_hidden": true
    }
   },
   "source": [
    "pipe = Pipeline([\n",
    "(\"Normalise spectra\", FunctionTransformer(minmax_scale , kw_args = {\"axis\": 1})),\n",
    "(\"Scaler\", FunctionTransformer(robust_scale , kw_args = {\"axis\": 0})),\n",
    "#(\"RBFSampler\", RBFSampler(gamma = hp.Float(\"RBF_gamma\", 0, 5), n_components = hp.Int(\"RB_components\", 1, 169, 1))),\n",
    "(\"PCA\", PCA()),\n",
    "(\"LDA\", LinearDiscriminantAnalysis())])"
   ]
  },
  {
   "cell_type": "raw",
   "metadata": {
    "jupyter": {
     "source_hidden": true
    }
   },
   "source": [
    "pipe = Pipeline([\n",
    "(\"Normalise spectra\", FunctionTransformer(robust_scale , kw_args = {\"axis\": 1})),\n",
    "(\"Scaler\", FunctionTransformer(minmax_scale , kw_args = {\"axis\": 0})),\n",
    "#(\"RBFSampler\", RBFSampler(gamma = hp.Float(\"RBF_gamma\", 0, 5), n_components = hp.Int(\"RB_components\", 1, 169, 1))),\n",
    "(\"PCA\", PCA()),\n",
    "(\"LDA\", LinearDiscriminantAnalysis())])"
   ]
  },
  {
   "cell_type": "raw",
   "metadata": {
    "jupyter": {
     "source_hidden": true
    }
   },
   "source": [
    "pipe = Pipeline([\n",
    "(\"Normalise spectra\", FunctionTransformer(robust_scale , kw_args = {\"axis\": 1})),\n",
    "(\"Scaler\", FunctionTransformer(normalize , kw_args = {\"axis\": 0})),\n",
    "#(\"RBFSampler\", RBFSampler(gamma = hp.Float(\"RBF_gamma\", 0, 5), n_components = hp.Int(\"RB_components\", 1, 169, 1))),\n",
    "(\"PCA\", PCA()),\n",
    "(\"LDA\", LinearDiscriminantAnalysis())])"
   ]
  },
  {
   "cell_type": "raw",
   "metadata": {
    "jupyter": {
     "source_hidden": true
    }
   },
   "source": [
    "group = \"Patient_Number\"\n",
    "y = \"DODvsAlive\"\n",
    "\n",
    "#data = (total - paraffin.mean(axis = 0)).sample(frac = 0.1)\n",
    "data = total.copy().sample(frac = 1)\n",
    "data[\"sample_weights\"] = Cross_Eval.get_weights(data.reset_index()[f\"{group}\"]) * Cross_Eval.get_weights(data.reset_index()[f\"{y}\"])\n",
    "unique_patients = data.reset_index()[f\"{group}\"].unique()\n",
    "\n",
    "kfoldscores = []\n",
    "\n",
    "for train_i, valid_i in tqdm(list(KFold(n_splits = 10, shuffle = True).split(unique_patients))):\n",
    "    \n",
    "    train_pat, valid_pat = unique_patients[train_i], unique_patients[valid_i]\n",
    "\n",
    "    train_data = data.query(f\"{group} in {list(train_pat)}\")\n",
    "    validation_data = data.query(f\"{group} in {list(valid_pat)}\")\n",
    "\n",
    "    X_train, X_valid = train_data.drop([\"sample_weights\"], axis = 1), validation_data.drop([\"sample_weights\"], axis = 1), \n",
    "    y_train, y_valid = train_data.reset_index()[f\"{y}\"], validation_data.reset_index()[f\"{y}\"]\n",
    "    w_train, w_test = train_data.reset_index()[\"sample_weights\"], validation_data.reset_index()[\"sample_weights\"]\n",
    "\n",
    "    y_train.index = X_train.index\n",
    "    y_valid.index = X_valid.index\n",
    "\n",
    "    groups = X_train.reset_index()[f\"{group}\"]\n",
    "    groups.index = X_train.index\n",
    "\n",
    "    lb = LabelBinarizer().fit(total.reset_index()[f\"{y}\"].unique())\n",
    "\n",
    "    y_train_b = pd.DataFrame(lb.transform(y_train))\n",
    "    y_valid_b = pd.DataFrame(lb.transform(y_valid))\n",
    "    \n",
    "\n",
    "    opt_results = Cross_Eval.bayes_search(pipe\n",
    "                                      , param_dict\n",
    "                                      , X_train\n",
    "                                      , y_train_b.values.squeeze()\n",
    "                                      , GroupKFold(n_splits = 2)\n",
    "                                      , groups = groups\n",
    "                                      #, sample_weight = w_train.values\n",
    "                                      , verbose = 0\n",
    "                                      , n_iter = 10\n",
    "                                     )\n",
    "    \n",
    "    clf = pipe.set_params(**opt_results.best_params_)\n",
    "    \n",
    "    # Refit the classifier with the best parameters on the full dataset\n",
    "    clf.fit(X_train, y_train_b)\n",
    "    \n",
    "    try: #Try except statement in case of scoring problems\n",
    "        scores = Cross_Eval.score(clf, X_valid, y_valid_b)\n",
    "        \n",
    "    except:\n",
    "        continue\n",
    "        \n",
    "    kfoldscores.append(scores)\n",
    "\n",
    "date_time = datetime.now().strftime(\"%m.%d.%Y_%H:%M\")\n",
    "file_place = os.path.join(os.getcwd(), \"Plots\", y, date_time)\n",
    "\n",
    "if not os.path.exists(file_place):\n",
    "    os.mkdir(file_place)\n",
    "\n",
    "results = pd.DataFrame(kfoldscores)"
   ]
  },
  {
   "cell_type": "raw",
   "metadata": {
    "jupyter": {
     "source_hidden": true
    }
   },
   "source": [
    "results.describe()"
   ]
  },
  {
   "cell_type": "raw",
   "metadata": {
    "jupyter": {
     "source_hidden": true
    }
   },
   "source": [
    "fig, (ax, ax2) = plt.subplots(ncols = 2, figsize = (12, 5))\n",
    "\n",
    "for _, row in results.iterrows():\n",
    "    \n",
    "    ax.plot(row[\"FPR_curve\"], row[\"TPR_curve\"])\n",
    "    \n",
    "ax.plot([0,1],[0,1], c = \"black\", linestyle = '--')\n",
    "ax.set_xlabel('False Positive Rate')\n",
    "ax.set_ylabel('True Positive Rate')\n",
    "ax.set_title('ECS ROC Curve')\n",
    "\n",
    "ax.text(0.65, 0.2, \"AUC:{:.2f} +/- {:.2f}\".format(results[\"AUC\"].mean(), results[\"AUC\"].std()))\n",
    "\n",
    "for _, row in results.iterrows():\n",
    "    \n",
    "    ax2.plot(row[\"rec_curve\"], row[\"prec_curve\"])\n",
    "    \n",
    "ax2.set_xlabel('Recall')\n",
    "ax2.set_ylabel('Precision')\n",
    "ax2.set_title('Precision Recall Curve')\n",
    "\n",
    "fig.savefig(os.path.join(file_place, \"ROC_scores.png\"), bbox_inches = 'tight')"
   ]
  },
  {
   "cell_type": "raw",
   "metadata": {
    "jupyter": {
     "source_hidden": true
    }
   },
   "source": [
    "fig, ax = plt.subplots(ncols = 1)\n",
    "\n",
    "results[[\"AUC\", \"Specificity\", \"Sensitivity\", \"Precision\", \"Recall\", \"F1\"]].plot.box(ax = ax)\n",
    "ax.set_ylabel(\"Score\")\n",
    "\n",
    "results.to_excel(os.path.join(file_place, \"Confusion_Matrix_bad.xlsx\"))\n",
    "fig.savefig(os.path.join(file_place, \"scores.png\"), bbox_inches = 'tight')"
   ]
  },
  {
   "cell_type": "raw",
   "metadata": {},
   "source": [
    "from sklearn.model_selection import cross_val_score\n",
    "from mlxtend.evaluate import BootstrapOutOfBag\n",
    "from sklearn.model_selection import LeaveOneOut"
   ]
  },
  {
   "cell_type": "raw",
   "metadata": {
    "jupyter": {
     "source_hidden": true
    }
   },
   "source": [
    "ldapipe = Pipeline([\n",
    "    (\"Normalise spectra\", FunctionTransformer(robust_scale, kw_args = {\"axis\": 1})),\n",
    "    (\"Scaler\", RobustScaler()),\n",
    "    (\"PCA\", PCA()),\n",
    "    (\"clf\", LinearDiscriminantAnalysis())\n",
    "])\n",
    "\n",
    "#totalpca = pcapipe.fit(total.append(paraffin))\n",
    "#totalpca = pcapipe.fit(total.append(paraffin))"
   ]
  },
  {
   "cell_type": "code",
   "execution_count": 26,
   "metadata": {
    "jupyter": {
     "source_hidden": true
    }
   },
   "outputs": [],
   "source": [
    "ldapipe = Pipeline([\n",
    "    (\"Normalise spectra\", FunctionTransformer(robust_scale, kw_args = {\"axis\": 1})),\n",
    "    (\"Scaler\", RobustScaler()),\n",
    "    (\"PCA\", PCA()),\n",
    "    (\"clf\", LinearDiscriminantAnalysis())\n",
    "])\n",
    "\n",
    "#totalpca = pcapipe.fit(total.append(paraffin))\n",
    "#totalpca = pcapipe.fit(total.append(paraffin))"
   ]
  },
  {
   "cell_type": "raw",
   "metadata": {
    "jupyter": {
     "source_hidden": true
    }
   },
   "source": [
    "def get_weights(column):\n",
    "    \n",
    "    counts = column.value_counts()\n",
    "    weight_dict = dict(zip(counts.index, [(counts.values.sum()/n) for n in counts.values]))\n",
    "    \n",
    "    return column.map(weight_dict).values"
   ]
  },
  {
   "cell_type": "raw",
   "metadata": {
    "jupyter": {
     "source_hidden": true
    }
   },
   "source": [
    "data = total.copy().sample(frac = 1)\n",
    "group = \"Patient_Number\"\n",
    "y = \"DODvsAlive\"\n",
    "\n",
    "scoring_dict = {\n",
    "                \"Accuracy\": make_scorer(accuracy_score)\n",
    "               }\n",
    "\n",
    "\n",
    "patients = data.reset_index()[\"Patient_Number\"].unique()\n",
    "data[\"sample_weights\"] = get_weights(data.reset_index()[f\"{group}\"]) * get_weights(data.reset_index()[f\"{y}\"])\n",
    "\n",
    "results = dict()\n",
    "\n",
    "for train_i, test_i in tqdm(list(LeaveOneOut().split(patients))):\n",
    "    \n",
    "    train_pat , valid_pat = patients[train_i], patients[test_i]\n",
    "    \n",
    "    train_data = data.query(f\"{group} in {list(train_pat)}\")\n",
    "    validation_data = data.query(f\"{group} in {list(valid_pat)}\")\n",
    "\n",
    "    \n",
    "    X_train, X_valid = train_data.drop([\"sample_weights\"], axis = 1), validation_data.drop([\"sample_weights\"], axis = 1), \n",
    "    y_train, y_valid = train_data.reset_index()[f\"{y}\"], validation_data.reset_index()[f\"{y}\"]\n",
    "    w_train, w_test = train_data.reset_index()[\"sample_weights\"], validation_data.reset_index()[\"sample_weights\"]\n",
    "    \n",
    "\n",
    "    y_train.index = X_train.index\n",
    "    y_valid.index = X_valid.index\n",
    "    \n",
    "    groups = X_train.reset_index()[f\"{group}\"]\n",
    "    groups.index = X_train.index\n",
    "\n",
    "\n",
    "    lb = LabelBinarizer().fit(data.reset_index()[f\"{y}\"])\n",
    "\n",
    "    y_train_b = pd.DataFrame(lb.transform(y_train))\n",
    "    y_valid_b = pd.DataFrame(lb.transform(y_valid))\n",
    "\n",
    "    scorer = make_scorer(roc_auc_score, needs_proba = True, average = 'weighted')\n",
    "    \n",
    "    ldapipe.fit(X_train, y_train_b.values.squeeze())\n",
    "    \n",
    "    scores = dict()\n",
    "\n",
    "    for name, scorer in scoring_dict.items():\n",
    "        \n",
    "        scores[name] = scorer(ldapipe, X_valid, y_valid_b)\n",
    "        \n",
    "    results[valid_pat[0]] = scores"
   ]
  },
  {
   "cell_type": "markdown",
   "metadata": {},
   "source": [
    "## Keras Tuner"
   ]
  },
  {
   "cell_type": "code",
   "execution_count": 27,
   "metadata": {},
   "outputs": [],
   "source": [
    "import kerastuner as kt"
   ]
  },
  {
   "cell_type": "code",
   "execution_count": 28,
   "metadata": {},
   "outputs": [],
   "source": [
    "def build_LDA(hp):\n",
    "    \n",
    "    scalers = {\"Normalize\" : normalize,\n",
    "               \"Robust\"    : robust_scale,\n",
    "               \"MinMax\"    : minmax_scale}\n",
    "    \n",
    "    scale1 = hp.Choice('scale1', [\"Normalize\", \"Robust\", \"MinMax\"])\n",
    "    scale2 = hp.Choice('scale2', [\"Normalize\", \"Robust\", \"MinMax\"])\n",
    "\n",
    "\n",
    "    pipe = Pipeline([\n",
    "    (\"Normalise spectra\", FunctionTransformer(scalers[scale1] , kw_args = {\"axis\": 1})),\n",
    "    (\"Scaler\", FunctionTransformer(scalers[scale2] , kw_args = {\"axis\": 0})),\n",
    "    (\"PCA\", PCA(n_components = hp.Int(\"PCA_components\", 1, len(data.columns) - 1, 1))),\n",
    "    (\"clf\", CalibratedClassifierCV(LinearDiscriminantAnalysis()))])\n",
    "    \n",
    "    return pipe"
   ]
  },
  {
   "cell_type": "code",
   "execution_count": 29,
   "metadata": {},
   "outputs": [],
   "source": [
    "def build_LR(hp):\n",
    "    \n",
    "    scalers = {\"Normalize\" : normalize,\n",
    "               \"Robust\"    : robust_scale,\n",
    "               \"MinMax\"    : minmax_scale}\n",
    "    \n",
    "    scale1 = hp.Choice('scale1', [\"Normalize\", \"Robust\", \"MinMax\"])\n",
    "    scale2 = hp.Choice('scale2', [\"Normalize\", \"Robust\", \"MinMax\"])\n",
    "    \n",
    "    params = {\n",
    "        \"penalty\"  : hp.Choice('Penalty', [\"l2\"]),\n",
    "        \"tol\"      : hp.Float('Tolerance', 0, 1),\n",
    "        \"C\"        : hp.Float('C', 1e-5, 1),\n",
    "        \"solver\"   : \"sag\"\n",
    "    }\n",
    "    \n",
    "    clf = LogisticRegression()\n",
    "    clf.set_params(**params)\n",
    "\n",
    "\n",
    "    pipe = Pipeline([\n",
    "    (\"Normalise spectra\", FunctionTransformer(scalers[scale1] , kw_args = {\"axis\": 1})),\n",
    "    (\"Scaler\", FunctionTransformer(scalers[scale2] , kw_args = {\"axis\": 0})),\n",
    "    (\"PCA\", PCA(n_components = hp.Int(\"PCA_components\", 1, len(data.columns) - 1, 1))),\n",
    "    (\"clf\", CalibratedClassifierCV(clf))])\n",
    "    \n",
    "    return pipe"
   ]
  },
  {
   "cell_type": "code",
   "execution_count": 30,
   "metadata": {},
   "outputs": [],
   "source": [
    "from sklearn.naive_bayes import GaussianNB\n",
    "\n",
    "def build_NB(hp):\n",
    "    \n",
    "    scalers = {\"Normalize\" : normalize,\n",
    "               \"Robust\"    : robust_scale,\n",
    "               \"MinMax\"    : minmax_scale}\n",
    "    \n",
    "    scale1 = hp.Choice('scale1', [\"Normalize\", \"Robust\", \"MinMax\"])\n",
    "    scale2 = hp.Choice('scale2', [\"Normalize\", \"Robust\", \"MinMax\"])\n",
    "    \n",
    "    clf = GaussianNB()\n",
    "    \n",
    "    #params = {\n",
    "    #    \"var_smoothing\": hp.Float(\"var_smoothing\", 1e-9, 1)}\n",
    "    \n",
    "    #clf.set_params(**params)\n",
    "\n",
    "\n",
    "    pipe = Pipeline([\n",
    "    (\"Normalise spectra\", FunctionTransformer(scalers[scale1] , kw_args = {\"axis\": 1})),\n",
    "    (\"Scaler\", FunctionTransformer(scalers[scale2] , kw_args = {\"axis\": 0})),\n",
    "    (\"PCA\", PCA(n_components = hp.Int(\"PCA_components\", 1, len(data.columns) - 1, 1))),\n",
    "    (\"clf\", CalibratedClassifierCV(clf))])\n",
    "    \n",
    "    return pipe"
   ]
  },
  {
   "cell_type": "code",
   "execution_count": 31,
   "metadata": {},
   "outputs": [],
   "source": [
    "from keras.wrappers.scikit_learn import KerasClassifier\n",
    "\n",
    "from keras.models import Sequential\n",
    "import keras.layers as Layers\n",
    "\n",
    "import tensorflow as tf\n",
    "\n",
    "def build_NN(hp):\n",
    "    \n",
    "    scalers = {\"Normalize\" : normalize,\n",
    "               \"Robust\"    : robust_scale,\n",
    "               \"MinMax\"    : minmax_scale}\n",
    "    \n",
    "    scale1 = hp.Choice('scale1', [\"Normalize\", \"Robust\", \"MinMax\"])\n",
    "    scale2 = hp.Choice('scale2', [\"Normalize\", \"Robust\", \"MinMax\"])\n",
    "    \n",
    "    pca_comps = hp.Int(\"PCA_components\", 1, len(data.columns) - 1, 1)\n",
    "    \n",
    "    \n",
    "    def build_keras():\n",
    "        \n",
    "        model = Sequential()\n",
    "        model.add(Layers.Input(shape=(pca_comps,)))\n",
    "\n",
    "        for i, layer_n in enumerate(range(hp.Int(\"N_layers\", 2, 20))):\n",
    "\n",
    "            model.add(Layers.Dense(hp.Int(f\"layer_{i}_nodes\", 5, 100), activation=\"relu\"))\n",
    "\n",
    "        model.add(Layers.Dense(1, activation=\"sigmoid\"))\n",
    "        model.compile(loss=\"binary_crossentropy\",optimizer=\"adam\", metrics=[tf.keras.metrics.AUC()])\n",
    "        \n",
    "        return model\n",
    "    \n",
    "    \n",
    "    clf=KerasClassifier(build_fn=build_keras,epochs=2,batch_size=32,verbose=0)    \n",
    "\n",
    "    pipe = Pipeline([\n",
    "    (\"Normalise spectra\", FunctionTransformer(scalers[scale1] , kw_args = {\"axis\": 1})),\n",
    "    (\"Scaler\", FunctionTransformer(scalers[scale2] , kw_args = {\"axis\": 0})),\n",
    "    (\"PCA\", PCA(n_components=pca_comps)),\n",
    "    (\"clf\", clf)])\n",
    "    \n",
    "    return pipe"
   ]
  },
  {
   "cell_type": "code",
   "execution_count": 32,
   "metadata": {
    "jupyter": {
     "source_hidden": true
    }
   },
   "outputs": [],
   "source": [
    "def build_LDA_categorical(hp):\n",
    "\n",
    "    scalers = {\"Normalize\" : normalize,\n",
    "               \"Robust\"    : robust_scale,\n",
    "               \"MinMax\"    : minmax_scale}\n",
    "    \n",
    "    scale1 = hp.Choice('scale1', [\"Normalize\", \"Robust\", \"MinMax\"])\n",
    "    scale2 = hp.Choice('scale2', [\"Normalize\", \"Robust\", \"MinMax\"])\n",
    "    \n",
    "    numeric_features = total.columns\n",
    "    categorical_features = [\"ECS\"]\n",
    "    \n",
    "    numeric_features = np.arange(1, len(total.columns)+1)\n",
    "    categorical_features = [0]\n",
    "    \n",
    "    numeric_pipe = Pipeline([\n",
    "    (\"Normalise spectra\", FunctionTransformer(scalers[scale1] , kw_args = {\"axis\": 1})),\n",
    "    (\"Scaler\", FunctionTransformer(scalers[scale2] , kw_args = {\"axis\": 0})),\n",
    "    (\"PCA\", PCA(n_components = hp.Int(\"PCA_components\", 1, len(data.columns) - len(categorical_features) - 2, 1))),\n",
    "    ])\n",
    "    \n",
    "    OHE = OneHotEncoder()\n",
    "    OHE.fit(data[\"ASMA\"].values.reshape(-1,1))\n",
    "    \n",
    "    categorical_pipe = Pipeline([\n",
    "        (\"OneHot\", OHE)\n",
    "    ])\n",
    "    \n",
    "    preprocessing = ColumnTransformer(\n",
    "        [(\"Numerical\", numeric_pipe, numeric_features),\n",
    "         (\"Categorical\", categorical_pipe, categorical_features)])\n",
    "    \n",
    "    pipe = Pipeline([\n",
    "        (\"Preprocessing\", preprocessing),\n",
    "        (\"clf\", LinearDiscriminantAnalysis())\n",
    "    ])\n",
    "    \n",
    "    return pipe"
   ]
  },
  {
   "cell_type": "code",
   "execution_count": 33,
   "metadata": {
    "jupyter": {
     "source_hidden": true
    }
   },
   "outputs": [],
   "source": [
    "def build_LDA_categorical(hp):\n",
    "\n",
    "    scalers = {\"Normalize\" : normalize,\n",
    "               \"Robust\"    : robust_scale,\n",
    "               \"MinMax\"    : minmax_scale}\n",
    "    \n",
    "    scale1 = hp.Choice('scale1', [\"Normalize\", \"Robust\", \"MinMax\"])\n",
    "    scale2 = hp.Choice('scale2', [\"Normalize\", \"Robust\", \"MinMax\"])\n",
    "    \n",
    "    numeric_features = total.columns\n",
    "    categorical_features = [\"ASMA\"]\n",
    "    \n",
    "    numeric_features = np.arange(1, len(total.columns)+1)\n",
    "    categorical_features = [0]\n",
    "    \n",
    "    numeric_pipe = Pipeline([\n",
    "    (\"Normalise spectra\", FunctionTransformer(scalers[scale1] , kw_args = {\"axis\": 1})),\n",
    "    (\"Scaler\", FunctionTransformer(scalers[scale2] , kw_args = {\"axis\": 0})),\n",
    "    (\"PCA\", PCA(n_components = hp.Int(\"PCA_components\", 1, len(data.columns) - len(categorical_features) - 2, 1))),\n",
    "    ])\n",
    "    \n",
    "    OHE = OneHotEncoder()\n",
    "    OHE.fit(data.reset_index()[\"ASMA\"].values.reshape(-1,1))\n",
    "    \n",
    "    categorical_pipe = Pipeline([\n",
    "        (\"OneHot\", OHE)\n",
    "    ])\n",
    "    \n",
    "    preprocessing = ColumnTransformer(\n",
    "        [(\"Numerical\", numeric_pipe, numeric_features),\n",
    "         (\"Categorical\", categorical_pipe, categorical_features)])\n",
    "    \n",
    "    pipe = Pipeline([\n",
    "        (\"Preprocessing\", preprocessing),\n",
    "        (\"clf\", LinearDiscriminantAnalysis())\n",
    "    ])\n",
    "    \n",
    "    return pipe"
   ]
  },
  {
   "cell_type": "code",
   "execution_count": 34,
   "metadata": {
    "jupyter": {
     "source_hidden": true
    }
   },
   "outputs": [],
   "source": [
    "def build_LDA_categorical_only(hp):\n",
    "\n",
    "    OHE = OneHotEncoder(sparse = False)\n",
    "    #OHE.fit(data.reset_index()[\"ASMA\"].values.reshape(-1,1))\n",
    "    \n",
    "    categorical_pipe = Pipeline([\n",
    "        (\"OneHot\", OHE)\n",
    "    ])\n",
    "\n",
    "    pipe = Pipeline([\n",
    "        (\"Preprocessing\", categorical_pipe),\n",
    "        (\"clf\", LinearDiscriminantAnalysis())\n",
    "    ])\n",
    "    \n",
    "    return pipe"
   ]
  },
  {
   "cell_type": "code",
   "execution_count": 35,
   "metadata": {
    "jupyter": {
     "source_hidden": true
    }
   },
   "outputs": [],
   "source": [
    "from xgboost import XGBClassifier\n",
    "\n",
    "def build_XG(hp):\n",
    "\n",
    "    params = {\n",
    "        'n_estimators': hp.Int(\"n_estimators\", 10, 1000, 10),\n",
    "        'eta': hp.Float('eta', 0, 1, 0.05),\n",
    "        'gamma': hp.Float('gamma', 0, 1, 0.05),\n",
    "        'max_depth' : hp.Int('max_depth', 1, 15, 1),\n",
    "        'min_child_weight' : hp.Int('min_child_weight', 1, 20, 1),\n",
    "        'subsample' : hp.Float('subsample', 0, 1, 0.05),\n",
    "        'colsample_bytree' : hp.Float('colsample_bytree', 0, 1, 0.05),\n",
    "        #'lambda ' : hp.Float('lambda', 0, 1, 0.05),\n",
    "        'alpha' : hp.Float('alpha', 0, 1, 0.05),\n",
    "    }\n",
    "\n",
    "    clf = XGBClassifier(objective = \"binary:logistic\")\n",
    "    clf = clf.set_params(**params)\n",
    "    \n",
    "    #---------------------------------------------------------------------------------------------------\n",
    "    scalers = {\"Normalize\" : normalize,\n",
    "               \"Robust\"    : robust_scale,\n",
    "               \"MinMax\"    : minmax_scale}\n",
    "    \n",
    "    # Decide pre processing steps\n",
    "    scale1 = hp.Choice('scale1', [\"Normalize\", \"Robust\", \"MinMax\"])\n",
    "    scale2 = hp.Choice('scale2', [\"Normalize\", \"Robust\", \"MinMax\"])\n",
    "\n",
    "    pipe = Pipeline([\n",
    "    (\"Normalise spectra\", FunctionTransformer(scalers[scale1] , kw_args = {\"axis\": 1})),\n",
    "    (\"Scaler\", FunctionTransformer(scalers[scale2] , kw_args = {\"axis\": 0})),\n",
    "    (\"PCA\", PCA(n_components = hp.Int(\"PCA_components\", 1, len(data.columns) - 1, 1))),\n",
    "    (\"clf\", CalibratedClassifierCV(clf))])\n",
    "    \n",
    "    return pipe"
   ]
  },
  {
   "cell_type": "markdown",
   "metadata": {},
   "source": [
    "oracle = kt.oracles.BayesianOptimization(objective = kt.Objective('score', 'max')\n",
    "                                         , max_trials = 10)              \n",
    "\n",
    "tuner = kt.tuners.Sklearn(oracle = oracle\n",
    "                          #, cv = GroupKFold(n_splits = 3)\n",
    "                          , hypermodel = build_LDA\n",
    "                          , directory = os.path.join(os.getcwd(), \"KerasTuner\", datetime.now().strftime(\"%d.%m.%Y_%H:%M:%S\"))\n",
    "                          , scoring = make_scorer(roc_auc_score, needs_proba = True, average = 'weighted')\n",
    "                         )"
   ]
  },
  {
   "cell_type": "markdown",
   "metadata": {},
   "source": [
    "tuner.search(X_train.values, y_train_b.values.squeeze()#, sample_weight = w_train.values, groups = groups.values)\n",
    "            #, **{\"clf__sample_weight\": w_train.values}\n",
    "            #, sample_weight = w_train.values\n",
    "            , groups = groups.values\n",
    "            )"
   ]
  },
  {
   "cell_type": "code",
   "execution_count": 36,
   "metadata": {},
   "outputs": [],
   "source": [
    "min_=total.groupby(\"Patient_Number\").count().min()[0]\n",
    "sampled = pd.concat([df.sample(min_) for name, df in total.groupby(\"Patient_Number\")])"
   ]
  },
  {
   "cell_type": "code",
   "execution_count": 39,
   "metadata": {
    "tags": []
   },
   "outputs": [
    {
     "output_type": "stream",
     "name": "stdout",
     "text": "Seed: 33\n"
    },
    {
     "output_type": "display_data",
     "data": {
      "text/plain": "HBox(children=(FloatProgress(value=0.0, max=5.0), HTML(value='')))",
      "application/vnd.jupyter.widget-view+json": {
       "version_major": 2,
       "version_minor": 0,
       "model_id": "455ed515e2ec40bc9e311cbee5be34ba"
      }
     },
     "metadata": {}
    },
    {
     "output_type": "display_data",
     "data": {
      "text/plain": "<IPython.core.display.HTML object>",
      "text/html": "<span style=\"color:#4527A0\"><h1 style=\"font-size:18px\">Trial complete</h1></span>"
     },
     "metadata": {}
    },
    {
     "output_type": "display_data",
     "data": {
      "text/plain": "<IPython.core.display.HTML object>",
      "text/html": "<span style=\"color:#4527A0\"><h1 style=\"font-size:18px\">Trial summary</h1></span>"
     },
     "metadata": {}
    },
    {
     "output_type": "display_data",
     "data": {
      "text/plain": "<IPython.core.display.HTML object>",
      "text/html": "<span style=\"color:cyan\"> |-Trial ID: b6005c3540f429de6ea148195169f549</span>"
     },
     "metadata": {}
    },
    {
     "output_type": "display_data",
     "data": {
      "text/plain": "<IPython.core.display.HTML object>",
      "text/html": "<span style=\"color:cyan\"> |-Score: 0.18918235975992934</span>"
     },
     "metadata": {}
    },
    {
     "output_type": "display_data",
     "data": {
      "text/plain": "<IPython.core.display.HTML object>",
      "text/html": "<span style=\"color:cyan\"> |-Best step: 0</span>"
     },
     "metadata": {}
    },
    {
     "output_type": "display_data",
     "data": {
      "text/plain": "<IPython.core.display.HTML object>",
      "text/html": "<span style=\"color:#7E57C2\"><h2 style=\"font-size:16px\">Hyperparameters:</h2></span>"
     },
     "metadata": {}
    },
    {
     "output_type": "display_data",
     "data": {
      "text/plain": "<IPython.core.display.HTML object>",
      "text/html": "<span style=\"color:cyan\"> |-PCA_components: 85</span>"
     },
     "metadata": {}
    },
    {
     "output_type": "display_data",
     "data": {
      "text/plain": "<IPython.core.display.HTML object>",
      "text/html": "<span style=\"color:blue\"> |-scale1: Robust</span>"
     },
     "metadata": {}
    },
    {
     "output_type": "display_data",
     "data": {
      "text/plain": "<IPython.core.display.HTML object>",
      "text/html": "<span style=\"color:cyan\"> |-scale2: MinMax</span>"
     },
     "metadata": {}
    },
    {
     "output_type": "display_data",
     "data": {
      "text/plain": "<IPython.core.display.HTML object>",
      "text/html": "<span style=\"color:#4527A0\"><h1 style=\"font-size:18px\">Trial complete</h1></span>"
     },
     "metadata": {}
    },
    {
     "output_type": "display_data",
     "data": {
      "text/plain": "<IPython.core.display.HTML object>",
      "text/html": "<span style=\"color:#4527A0\"><h1 style=\"font-size:18px\">Trial summary</h1></span>"
     },
     "metadata": {}
    },
    {
     "output_type": "display_data",
     "data": {
      "text/plain": "<IPython.core.display.HTML object>",
      "text/html": "<span style=\"color:cyan\"> |-Trial ID: 40fe6eee4d2b9da89c18337e9f74c510</span>"
     },
     "metadata": {}
    },
    {
     "output_type": "display_data",
     "data": {
      "text/plain": "<IPython.core.display.HTML object>",
      "text/html": "<span style=\"color:cyan\"> |-Score: 0.3315993623547458</span>"
     },
     "metadata": {}
    },
    {
     "output_type": "display_data",
     "data": {
      "text/plain": "<IPython.core.display.HTML object>",
      "text/html": "<span style=\"color:cyan\"> |-Best step: 0</span>"
     },
     "metadata": {}
    },
    {
     "output_type": "display_data",
     "data": {
      "text/plain": "<IPython.core.display.HTML object>",
      "text/html": "<span style=\"color:#7E57C2\"><h2 style=\"font-size:16px\">Hyperparameters:</h2></span>"
     },
     "metadata": {}
    },
    {
     "output_type": "display_data",
     "data": {
      "text/plain": "<IPython.core.display.HTML object>",
      "text/html": "<span style=\"color:cyan\"> |-PCA_components: 25</span>"
     },
     "metadata": {}
    },
    {
     "output_type": "display_data",
     "data": {
      "text/plain": "<IPython.core.display.HTML object>",
      "text/html": "<span style=\"color:blue\"> |-scale1: Robust</span>"
     },
     "metadata": {}
    },
    {
     "output_type": "display_data",
     "data": {
      "text/plain": "<IPython.core.display.HTML object>",
      "text/html": "<span style=\"color:cyan\"> |-scale2: Normalize</span>"
     },
     "metadata": {}
    },
    {
     "output_type": "display_data",
     "data": {
      "text/plain": "<IPython.core.display.HTML object>",
      "text/html": "<span style=\"color:#4527A0\"><h1 style=\"font-size:18px\">Trial complete</h1></span>"
     },
     "metadata": {}
    },
    {
     "output_type": "display_data",
     "data": {
      "text/plain": "<IPython.core.display.HTML object>",
      "text/html": "<span style=\"color:#4527A0\"><h1 style=\"font-size:18px\">Trial summary</h1></span>"
     },
     "metadata": {}
    },
    {
     "output_type": "display_data",
     "data": {
      "text/plain": "<IPython.core.display.HTML object>",
      "text/html": "<span style=\"color:cyan\"> |-Trial ID: 695cd1a9bd5f04420768bb3e18b6aa08</span>"
     },
     "metadata": {}
    },
    {
     "output_type": "display_data",
     "data": {
      "text/plain": "<IPython.core.display.HTML object>",
      "text/html": "<span style=\"color:cyan\"> |-Score: 0.2385984462515049</span>"
     },
     "metadata": {}
    },
    {
     "output_type": "display_data",
     "data": {
      "text/plain": "<IPython.core.display.HTML object>",
      "text/html": "<span style=\"color:cyan\"> |-Best step: 0</span>"
     },
     "metadata": {}
    },
    {
     "output_type": "display_data",
     "data": {
      "text/plain": "<IPython.core.display.HTML object>",
      "text/html": "<span style=\"color:#7E57C2\"><h2 style=\"font-size:16px\">Hyperparameters:</h2></span>"
     },
     "metadata": {}
    },
    {
     "output_type": "display_data",
     "data": {
      "text/plain": "<IPython.core.display.HTML object>",
      "text/html": "<span style=\"color:cyan\"> |-PCA_components: 67</span>"
     },
     "metadata": {}
    },
    {
     "output_type": "display_data",
     "data": {
      "text/plain": "<IPython.core.display.HTML object>",
      "text/html": "<span style=\"color:blue\"> |-scale1: MinMax</span>"
     },
     "metadata": {}
    },
    {
     "output_type": "display_data",
     "data": {
      "text/plain": "<IPython.core.display.HTML object>",
      "text/html": "<span style=\"color:cyan\"> |-scale2: MinMax</span>"
     },
     "metadata": {}
    },
    {
     "output_type": "display_data",
     "data": {
      "text/plain": "<IPython.core.display.HTML object>",
      "text/html": "<span style=\"color:#4527A0\"><h1 style=\"font-size:18px\">Trial complete</h1></span>"
     },
     "metadata": {}
    },
    {
     "output_type": "display_data",
     "data": {
      "text/plain": "<IPython.core.display.HTML object>",
      "text/html": "<span style=\"color:#4527A0\"><h1 style=\"font-size:18px\">Trial summary</h1></span>"
     },
     "metadata": {}
    },
    {
     "output_type": "display_data",
     "data": {
      "text/plain": "<IPython.core.display.HTML object>",
      "text/html": "<span style=\"color:cyan\"> |-Trial ID: 18cb48f928e1d997411145d85d54d80d</span>"
     },
     "metadata": {}
    },
    {
     "output_type": "display_data",
     "data": {
      "text/plain": "<IPython.core.display.HTML object>",
      "text/html": "<span style=\"color:cyan\"> |-Score: 0.32025137652367247</span>"
     },
     "metadata": {}
    },
    {
     "output_type": "display_data",
     "data": {
      "text/plain": "<IPython.core.display.HTML object>",
      "text/html": "<span style=\"color:cyan\"> |-Best step: 0</span>"
     },
     "metadata": {}
    },
    {
     "output_type": "display_data",
     "data": {
      "text/plain": "<IPython.core.display.HTML object>",
      "text/html": "<span style=\"color:#7E57C2\"><h2 style=\"font-size:16px\">Hyperparameters:</h2></span>"
     },
     "metadata": {}
    },
    {
     "output_type": "display_data",
     "data": {
      "text/plain": "<IPython.core.display.HTML object>",
      "text/html": "<span style=\"color:cyan\"> |-PCA_components: 105</span>"
     },
     "metadata": {}
    },
    {
     "output_type": "display_data",
     "data": {
      "text/plain": "<IPython.core.display.HTML object>",
      "text/html": "<span style=\"color:blue\"> |-scale1: Robust</span>"
     },
     "metadata": {}
    },
    {
     "output_type": "display_data",
     "data": {
      "text/plain": "<IPython.core.display.HTML object>",
      "text/html": "<span style=\"color:cyan\"> |-scale2: Normalize</span>"
     },
     "metadata": {}
    },
    {
     "output_type": "display_data",
     "data": {
      "text/plain": "<IPython.core.display.HTML object>",
      "text/html": "<span style=\"color:#4527A0\"><h1 style=\"font-size:18px\">Trial complete</h1></span>"
     },
     "metadata": {}
    },
    {
     "output_type": "display_data",
     "data": {
      "text/plain": "<IPython.core.display.HTML object>",
      "text/html": "<span style=\"color:#4527A0\"><h1 style=\"font-size:18px\">Trial summary</h1></span>"
     },
     "metadata": {}
    },
    {
     "output_type": "display_data",
     "data": {
      "text/plain": "<IPython.core.display.HTML object>",
      "text/html": "<span style=\"color:cyan\"> |-Trial ID: 977c35a5dd5dfc193c1a7bad334a7aa8</span>"
     },
     "metadata": {}
    },
    {
     "output_type": "display_data",
     "data": {
      "text/plain": "<IPython.core.display.HTML object>",
      "text/html": "<span style=\"color:cyan\"> |-Score: 0.32916733136634047</span>"
     },
     "metadata": {}
    },
    {
     "output_type": "display_data",
     "data": {
      "text/plain": "<IPython.core.display.HTML object>",
      "text/html": "<span style=\"color:cyan\"> |-Best step: 0</span>"
     },
     "metadata": {}
    },
    {
     "output_type": "display_data",
     "data": {
      "text/plain": "<IPython.core.display.HTML object>",
      "text/html": "<span style=\"color:#7E57C2\"><h2 style=\"font-size:16px\">Hyperparameters:</h2></span>"
     },
     "metadata": {}
    },
    {
     "output_type": "display_data",
     "data": {
      "text/plain": "<IPython.core.display.HTML object>",
      "text/html": "<span style=\"color:cyan\"> |-PCA_components: 26</span>"
     },
     "metadata": {}
    },
    {
     "output_type": "display_data",
     "data": {
      "text/plain": "<IPython.core.display.HTML object>",
      "text/html": "<span style=\"color:blue\"> |-scale1: MinMax</span>"
     },
     "metadata": {}
    },
    {
     "output_type": "display_data",
     "data": {
      "text/plain": "<IPython.core.display.HTML object>",
      "text/html": "<span style=\"color:cyan\"> |-scale2: Robust</span>"
     },
     "metadata": {}
    },
    {
     "output_type": "display_data",
     "data": {
      "text/plain": "<IPython.core.display.HTML object>",
      "text/html": "<span style=\"color:#4527A0\"><h1 style=\"font-size:18px\">Trial complete</h1></span>"
     },
     "metadata": {}
    },
    {
     "output_type": "display_data",
     "data": {
      "text/plain": "<IPython.core.display.HTML object>",
      "text/html": "<span style=\"color:#4527A0\"><h1 style=\"font-size:18px\">Trial summary</h1></span>"
     },
     "metadata": {}
    },
    {
     "output_type": "display_data",
     "data": {
      "text/plain": "<IPython.core.display.HTML object>",
      "text/html": "<span style=\"color:cyan\"> |-Trial ID: 5e12a75ed93870b8f3b1dee290f5276c</span>"
     },
     "metadata": {}
    },
    {
     "output_type": "display_data",
     "data": {
      "text/plain": "<IPython.core.display.HTML object>",
      "text/html": "<span style=\"color:cyan\"> |-Score: 0.35780123265293196</span>"
     },
     "metadata": {}
    },
    {
     "output_type": "display_data",
     "data": {
      "text/plain": "<IPython.core.display.HTML object>",
      "text/html": "<span style=\"color:cyan\"> |-Best step: 0</span>"
     },
     "metadata": {}
    },
    {
     "output_type": "display_data",
     "data": {
      "text/plain": "<IPython.core.display.HTML object>",
      "text/html": "<span style=\"color:#7E57C2\"><h2 style=\"font-size:16px\">Hyperparameters:</h2></span>"
     },
     "metadata": {}
    },
    {
     "output_type": "display_data",
     "data": {
      "text/plain": "<IPython.core.display.HTML object>",
      "text/html": "<span style=\"color:cyan\"> |-PCA_components: 160</span>"
     },
     "metadata": {}
    },
    {
     "output_type": "display_data",
     "data": {
      "text/plain": "<IPython.core.display.HTML object>",
      "text/html": "<span style=\"color:blue\"> |-scale1: MinMax</span>"
     },
     "metadata": {}
    },
    {
     "output_type": "display_data",
     "data": {
      "text/plain": "<IPython.core.display.HTML object>",
      "text/html": "<span style=\"color:cyan\"> |-scale2: Robust</span>"
     },
     "metadata": {}
    },
    {
     "output_type": "display_data",
     "data": {
      "text/plain": "<IPython.core.display.HTML object>",
      "text/html": "<span style=\"color:#4527A0\"><h1 style=\"font-size:18px\">Trial complete</h1></span>"
     },
     "metadata": {}
    },
    {
     "output_type": "display_data",
     "data": {
      "text/plain": "<IPython.core.display.HTML object>",
      "text/html": "<span style=\"color:#4527A0\"><h1 style=\"font-size:18px\">Trial summary</h1></span>"
     },
     "metadata": {}
    },
    {
     "output_type": "display_data",
     "data": {
      "text/plain": "<IPython.core.display.HTML object>",
      "text/html": "<span style=\"color:cyan\"> |-Trial ID: dd3f0f07e0072bb436b32a98fdc5df2a</span>"
     },
     "metadata": {}
    },
    {
     "output_type": "display_data",
     "data": {
      "text/plain": "<IPython.core.display.HTML object>",
      "text/html": "<span style=\"color:cyan\"> |-Score: 0.18920490743631632</span>"
     },
     "metadata": {}
    },
    {
     "output_type": "display_data",
     "data": {
      "text/plain": "<IPython.core.display.HTML object>",
      "text/html": "<span style=\"color:cyan\"> |-Best step: 0</span>"
     },
     "metadata": {}
    },
    {
     "output_type": "display_data",
     "data": {
      "text/plain": "<IPython.core.display.HTML object>",
      "text/html": "<span style=\"color:#7E57C2\"><h2 style=\"font-size:16px\">Hyperparameters:</h2></span>"
     },
     "metadata": {}
    },
    {
     "output_type": "display_data",
     "data": {
      "text/plain": "<IPython.core.display.HTML object>",
      "text/html": "<span style=\"color:cyan\"> |-PCA_components: 84</span>"
     },
     "metadata": {}
    },
    {
     "output_type": "display_data",
     "data": {
      "text/plain": "<IPython.core.display.HTML object>",
      "text/html": "<span style=\"color:blue\"> |-scale1: Robust</span>"
     },
     "metadata": {}
    },
    {
     "output_type": "display_data",
     "data": {
      "text/plain": "<IPython.core.display.HTML object>",
      "text/html": "<span style=\"color:cyan\"> |-scale2: MinMax</span>"
     },
     "metadata": {}
    },
    {
     "output_type": "display_data",
     "data": {
      "text/plain": "<IPython.core.display.HTML object>",
      "text/html": "<span style=\"color:#4527A0\"><h1 style=\"font-size:18px\">Trial complete</h1></span>"
     },
     "metadata": {}
    },
    {
     "output_type": "display_data",
     "data": {
      "text/plain": "<IPython.core.display.HTML object>",
      "text/html": "<span style=\"color:#4527A0\"><h1 style=\"font-size:18px\">Trial summary</h1></span>"
     },
     "metadata": {}
    },
    {
     "output_type": "display_data",
     "data": {
      "text/plain": "<IPython.core.display.HTML object>",
      "text/html": "<span style=\"color:cyan\"> |-Trial ID: 60c1adaea3a5c92a4e3ad97abd7c711c</span>"
     },
     "metadata": {}
    },
    {
     "output_type": "display_data",
     "data": {
      "text/plain": "<IPython.core.display.HTML object>",
      "text/html": "<span style=\"color:cyan\"> |-Score: 0.3541958672145423</span>"
     },
     "metadata": {}
    },
    {
     "output_type": "display_data",
     "data": {
      "text/plain": "<IPython.core.display.HTML object>",
      "text/html": "<span style=\"color:cyan\"> |-Best step: 0</span>"
     },
     "metadata": {}
    },
    {
     "output_type": "display_data",
     "data": {
      "text/plain": "<IPython.core.display.HTML object>",
      "text/html": "<span style=\"color:#7E57C2\"><h2 style=\"font-size:16px\">Hyperparameters:</h2></span>"
     },
     "metadata": {}
    },
    {
     "output_type": "display_data",
     "data": {
      "text/plain": "<IPython.core.display.HTML object>",
      "text/html": "<span style=\"color:cyan\"> |-PCA_components: 69</span>"
     },
     "metadata": {}
    },
    {
     "output_type": "display_data",
     "data": {
      "text/plain": "<IPython.core.display.HTML object>",
      "text/html": "<span style=\"color:blue\"> |-scale1: Normalize</span>"
     },
     "metadata": {}
    },
    {
     "output_type": "display_data",
     "data": {
      "text/plain": "<IPython.core.display.HTML object>",
      "text/html": "<span style=\"color:cyan\"> |-scale2: Normalize</span>"
     },
     "metadata": {}
    },
    {
     "output_type": "display_data",
     "data": {
      "text/plain": "<IPython.core.display.HTML object>",
      "text/html": "<span style=\"color:#4527A0\"><h1 style=\"font-size:18px\">Trial complete</h1></span>"
     },
     "metadata": {}
    },
    {
     "output_type": "display_data",
     "data": {
      "text/plain": "<IPython.core.display.HTML object>",
      "text/html": "<span style=\"color:#4527A0\"><h1 style=\"font-size:18px\">Trial summary</h1></span>"
     },
     "metadata": {}
    },
    {
     "output_type": "display_data",
     "data": {
      "text/plain": "<IPython.core.display.HTML object>",
      "text/html": "<span style=\"color:cyan\"> |-Trial ID: 172edc0a93f54a788e90487065211a98</span>"
     },
     "metadata": {}
    },
    {
     "output_type": "display_data",
     "data": {
      "text/plain": "<IPython.core.display.HTML object>",
      "text/html": "<span style=\"color:cyan\"> |-Score: 0.2899465488501249</span>"
     },
     "metadata": {}
    },
    {
     "output_type": "display_data",
     "data": {
      "text/plain": "<IPython.core.display.HTML object>",
      "text/html": "<span style=\"color:cyan\"> |-Best step: 0</span>"
     },
     "metadata": {}
    },
    {
     "output_type": "display_data",
     "data": {
      "text/plain": "<IPython.core.display.HTML object>",
      "text/html": "<span style=\"color:#7E57C2\"><h2 style=\"font-size:16px\">Hyperparameters:</h2></span>"
     },
     "metadata": {}
    },
    {
     "output_type": "display_data",
     "data": {
      "text/plain": "<IPython.core.display.HTML object>",
      "text/html": "<span style=\"color:cyan\"> |-PCA_components: 9</span>"
     },
     "metadata": {}
    },
    {
     "output_type": "display_data",
     "data": {
      "text/plain": "<IPython.core.display.HTML object>",
      "text/html": "<span style=\"color:blue\"> |-scale1: Robust</span>"
     },
     "metadata": {}
    },
    {
     "output_type": "display_data",
     "data": {
      "text/plain": "<IPython.core.display.HTML object>",
      "text/html": "<span style=\"color:cyan\"> |-scale2: MinMax</span>"
     },
     "metadata": {}
    },
    {
     "output_type": "display_data",
     "data": {
      "text/plain": "<IPython.core.display.HTML object>",
      "text/html": "<span style=\"color:#4527A0\"><h1 style=\"font-size:18px\">Trial complete</h1></span>"
     },
     "metadata": {}
    },
    {
     "output_type": "display_data",
     "data": {
      "text/plain": "<IPython.core.display.HTML object>",
      "text/html": "<span style=\"color:#4527A0\"><h1 style=\"font-size:18px\">Trial summary</h1></span>"
     },
     "metadata": {}
    },
    {
     "output_type": "display_data",
     "data": {
      "text/plain": "<IPython.core.display.HTML object>",
      "text/html": "<span style=\"color:cyan\"> |-Trial ID: 7c091558809e4022f998ef196e9660e4</span>"
     },
     "metadata": {}
    },
    {
     "output_type": "display_data",
     "data": {
      "text/plain": "<IPython.core.display.HTML object>",
      "text/html": "<span style=\"color:cyan\"> |-Score: 0.45181400793082016</span>"
     },
     "metadata": {}
    },
    {
     "output_type": "display_data",
     "data": {
      "text/plain": "<IPython.core.display.HTML object>",
      "text/html": "<span style=\"color:cyan\"> |-Best step: 0</span>"
     },
     "metadata": {}
    },
    {
     "output_type": "display_data",
     "data": {
      "text/plain": "<IPython.core.display.HTML object>",
      "text/html": "<span style=\"color:#7E57C2\"><h2 style=\"font-size:16px\">Hyperparameters:</h2></span>"
     },
     "metadata": {}
    },
    {
     "output_type": "display_data",
     "data": {
      "text/plain": "<IPython.core.display.HTML object>",
      "text/html": "<span style=\"color:cyan\"> |-PCA_components: 169</span>"
     },
     "metadata": {}
    },
    {
     "output_type": "display_data",
     "data": {
      "text/plain": "<IPython.core.display.HTML object>",
      "text/html": "<span style=\"color:blue\"> |-scale1: MinMax</span>"
     },
     "metadata": {}
    },
    {
     "output_type": "display_data",
     "data": {
      "text/plain": "<IPython.core.display.HTML object>",
      "text/html": "<span style=\"color:cyan\"> |-scale2: Normalize</span>"
     },
     "metadata": {}
    },
    {
     "output_type": "stream",
     "name": "stdout",
     "text": "INFO:tensorflow:Oracle triggered exit\n\n"
    },
    {
     "output_type": "error",
     "ename": "TypeError",
     "evalue": "score() got an unexpected keyword argument 'opt'",
     "traceback": [
      "\u001b[0;31m---------------------------------------------------------------------------\u001b[0m",
      "\u001b[0;31mTypeError\u001b[0m                                 Traceback (most recent call last)",
      "\u001b[0;32m<ipython-input-39-6d128654031a>\u001b[0m in \u001b[0;36m<module>\u001b[0;34m\u001b[0m\n\u001b[1;32m     67\u001b[0m     \u001b[0;31m#---------------------------------------------------------------------------------------------------\u001b[0m\u001b[0;34m\u001b[0m\u001b[0;34m\u001b[0m\u001b[0;34m\u001b[0m\u001b[0m\n\u001b[1;32m     68\u001b[0m \u001b[0;34m\u001b[0m\u001b[0m\n\u001b[0;32m---> 69\u001b[0;31m     \u001b[0mscores\u001b[0m \u001b[0;34m=\u001b[0m \u001b[0mCross_Eval\u001b[0m\u001b[0;34m.\u001b[0m\u001b[0mscore\u001b[0m\u001b[0;34m(\u001b[0m\u001b[0mclf\u001b[0m\u001b[0;34m,\u001b[0m \u001b[0mX_valid\u001b[0m\u001b[0;34m,\u001b[0m \u001b[0my_valid_b\u001b[0m\u001b[0;34m.\u001b[0m\u001b[0miloc\u001b[0m\u001b[0;34m[\u001b[0m\u001b[0;34m:\u001b[0m\u001b[0;34m,\u001b[0m\u001b[0;36m0\u001b[0m\u001b[0;34m]\u001b[0m\u001b[0;34m,\u001b[0m \u001b[0mopt\u001b[0m\u001b[0;34m=\u001b[0m\u001b[0;32mFalse\u001b[0m\u001b[0;34m)\u001b[0m\u001b[0;34m\u001b[0m\u001b[0;34m\u001b[0m\u001b[0m\n\u001b[0m\u001b[1;32m     70\u001b[0m     \u001b[0mpat_scores\u001b[0m \u001b[0;34m=\u001b[0m \u001b[0;34m{\u001b[0m\u001b[0;34mf\"Pat_{key}\"\u001b[0m\u001b[0;34m:\u001b[0m \u001b[0mvalue\u001b[0m \u001b[0;32mfor\u001b[0m \u001b[0mkey\u001b[0m\u001b[0;34m,\u001b[0m \u001b[0mvalue\u001b[0m \u001b[0;32min\u001b[0m \u001b[0mCross_Eval\u001b[0m\u001b[0;34m.\u001b[0m\u001b[0mpatient_score\u001b[0m\u001b[0;34m(\u001b[0m\u001b[0mclf\u001b[0m\u001b[0;34m,\u001b[0m \u001b[0mX_valid\u001b[0m\u001b[0;34m,\u001b[0m \u001b[0my_valid_b\u001b[0m\u001b[0;34m)\u001b[0m\u001b[0;34m.\u001b[0m\u001b[0mitems\u001b[0m\u001b[0;34m(\u001b[0m\u001b[0;34m)\u001b[0m\u001b[0;34m}\u001b[0m\u001b[0;34m\u001b[0m\u001b[0;34m\u001b[0m\u001b[0m\n\u001b[1;32m     71\u001b[0m \u001b[0;34m\u001b[0m\u001b[0m\n",
      "\u001b[0;31mTypeError\u001b[0m: score() got an unexpected keyword argument 'opt'"
     ]
    }
   ],
   "source": [
    "group = \"Patient_Number\"\n",
    "y = \"1yeardeath\"\n",
    "\n",
    "#data = (total - paraffin.mean(axis = 0)).sample(frac = 0.1)\n",
    "data = total.copy().sample(frac = 0.1)#.reset_index([\"ASMA\"]).dropna(subset = [\"ASMA\"]).loc[:,[\"ASMA\"]]\n",
    "#data=sampled\n",
    "data[\"sample_weights\"] = Cross_Eval.get_weights(data.reset_index()[f\"{group}\"]) * Cross_Eval.get_weights(data.reset_index()[f\"{y}\"])\n",
    "unique_patients = data.reset_index()[f\"{group}\"].unique()\n",
    "\n",
    "\n",
    "kfoldscores = []\n",
    "clfs = []\n",
    "\n",
    "model_func = build_LDA\n",
    "\n",
    "rn = np.random.randint(100)\n",
    "print(f\"Seed: {rn}\")\n",
    "\n",
    "\n",
    "for train_i, valid_i in tqdm(list(KFold(n_splits = 5, shuffle = True, random_state=rn).split(unique_patients))):\n",
    "    \n",
    "    train_pat, valid_pat = unique_patients[train_i], unique_patients[valid_i]\n",
    "\n",
    "    train_data = data.query(f\"{group} in {list(train_pat)}\")\n",
    "    validation_data = data.query(f\"{group} in {list(valid_pat)}\")\n",
    "\n",
    "    X_train = train_data.drop([\"sample_weights\"], axis = 1)\n",
    "    X_valid = validation_data.drop([\"sample_weights\"], axis = 1)\n",
    "    \n",
    "    y_train, y_valid = train_data.reset_index()[f\"{y}\"], validation_data.reset_index()[f\"{y}\"]\n",
    "    w_train, w_test = train_data.reset_index()[\"sample_weights\"], validation_data.reset_index()[\"sample_weights\"]\n",
    "\n",
    "    y_train.index = X_train.index\n",
    "    y_valid.index = X_valid.index\n",
    "\n",
    "    groups = X_train.reset_index(f\"{group}\")[f\"{group}\"]\n",
    "    #groups.index = X_train.index\n",
    "\n",
    "    lb = LabelBinarizer().fit(total.reset_index()[f\"{y}\"].unique())\n",
    "\n",
    "    y_train_b = pd.DataFrame(lb.transform(y_train), index = y_train.index)\n",
    "    y_valid_b = pd.DataFrame(lb.transform(y_valid), index = y_valid.index)\n",
    "    \n",
    "    #---------------------------------------------------------------------------------------------------\n",
    "    oracle = kt.oracles.BayesianOptimization(objective = kt.Objective('score', 'max')\n",
    "                                             , max_trials = 10)\n",
    "                                                          \n",
    "    tuner = kt.tuners.Sklearn(oracle = oracle\n",
    "                              , cv = GroupKFold(n_splits = 2)\n",
    "                              , hypermodel = model_func\n",
    "                              , directory = os.path.join(os.getcwd(), \"KerasTuner\", datetime.now().strftime(\"%d.%m.%Y_%H:%M:%S\"))\n",
    "                              , scoring = make_scorer(f1_score, needs_proba = False, average = 'weighted')\n",
    "                             )\n",
    "\n",
    "    tuner.search(X_train.values.squeeze(),\n",
    "                 y_train_b.values.squeeze(),\n",
    "                 groups=groups,\n",
    "                 sample_weight=w_train\n",
    "                 #validation_data=(X_valid, y_valid_b)\n",
    "                )\n",
    "    \n",
    "    clf = model_func(tuner.get_best_hyperparameters()[0])\n",
    "    \n",
    "    # Refit the classifier with the best parameters on the full dataset\n",
    "    clf.fit(X_train, y_train_b.values.ravel(),clf__sample_weight=w_train)\n",
    "    clfs.append(clf)\n",
    "    #---------------------------------------------------------------------------------------------------\n",
    "     \n",
    "    scores = Cross_Eval.score(clf, X_valid, y_valid_b.iloc[:,0], opt=False)\n",
    "    pat_scores = {f\"Pat_{key}\": value for key, value in Cross_Eval.patient_score(clf, X_valid, y_valid_b).items()}\n",
    "\n",
    "    scores = {**scores, **pat_scores}\n",
    "        \n",
    "    kfoldscores.append(scores)\n",
    "    \n",
    "    \"\"\"\n",
    "    try: #Try except statement in case of scoring problems\n",
    "        scores = Cross_Eval.score(clf, X_valid, y_valid_b.iloc[:,0])\n",
    "        pat_scores = {f\"Pat_{key}\": value for key, value in Cross_Eval.patient_score(clf, X_valid, y_valid_b.iloc[:,0]).items()}\n",
    "\n",
    "        scores = {**scores, **pat_scores}\n",
    "        \n",
    "    except:\n",
    "        continue\n",
    "    \"\"\"\n",
    "\n",
    "    \n",
    "date_time = datetime.now().strftime(\"%d.%m.%Y_%H:%M\")\n",
    "file_place = os.path.join(os.getcwd(), \"Plots\", y, date_time)\n",
    "\n",
    "if not os.path.exists(file_place): os.makedirs(file_place)\n",
    "print(file_place)\n",
    "\n",
    "title = f\"{y}, {date_time}, with ECS\"\n",
    "\n",
    "results = pd.DataFrame(kfoldscores)"
   ]
  },
  {
   "cell_type": "code",
   "execution_count": 38,
   "metadata": {},
   "outputs": [
    {
     "output_type": "error",
     "ename": "NameError",
     "evalue": "name 'results' is not defined",
     "traceback": [
      "\u001b[0;31m---------------------------------------------------------------------------\u001b[0m",
      "\u001b[0;31mNameError\u001b[0m                                 Traceback (most recent call last)",
      "\u001b[0;32m<ipython-input-38-fc715359bfa2>\u001b[0m in \u001b[0;36m<module>\u001b[0;34m\u001b[0m\n\u001b[1;32m      2\u001b[0m \u001b[0;31m#fig.suptitle(y_Var)\u001b[0m\u001b[0;34m\u001b[0m\u001b[0;34m\u001b[0m\u001b[0;34m\u001b[0m\u001b[0m\n\u001b[1;32m      3\u001b[0m \u001b[0;34m\u001b[0m\u001b[0m\n\u001b[0;32m----> 4\u001b[0;31m \u001b[0;32mfor\u001b[0m \u001b[0m_\u001b[0m\u001b[0;34m,\u001b[0m \u001b[0mrow\u001b[0m \u001b[0;32min\u001b[0m \u001b[0mresults\u001b[0m\u001b[0;34m.\u001b[0m\u001b[0miterrows\u001b[0m\u001b[0;34m(\u001b[0m\u001b[0;34m)\u001b[0m\u001b[0;34m:\u001b[0m\u001b[0;34m\u001b[0m\u001b[0;34m\u001b[0m\u001b[0m\n\u001b[0m\u001b[1;32m      5\u001b[0m \u001b[0;34m\u001b[0m\u001b[0m\n\u001b[1;32m      6\u001b[0m     \u001b[0max\u001b[0m\u001b[0;34m.\u001b[0m\u001b[0mplot\u001b[0m\u001b[0;34m(\u001b[0m\u001b[0mrow\u001b[0m\u001b[0;34m[\u001b[0m\u001b[0;34m\"FPR_curve\"\u001b[0m\u001b[0;34m]\u001b[0m\u001b[0;34m,\u001b[0m \u001b[0mrow\u001b[0m\u001b[0;34m[\u001b[0m\u001b[0;34m\"TPR_curve\"\u001b[0m\u001b[0;34m]\u001b[0m\u001b[0;34m)\u001b[0m\u001b[0;34m\u001b[0m\u001b[0;34m\u001b[0m\u001b[0m\n",
      "\u001b[0;31mNameError\u001b[0m: name 'results' is not defined"
     ]
    }
   ],
   "source": [
    "fig, (ax, ax2) = plt.subplots(ncols = 2, figsize = (12, 5))\n",
    "#fig.suptitle(y_Var)\n",
    "\n",
    "for _, row in results.iterrows():\n",
    "    \n",
    "    ax.plot(row[\"FPR_curve\"], row[\"TPR_curve\"])\n",
    "    \n",
    "ax.plot([0,1],[0,1], c = \"black\", linestyle = '--')\n",
    "ax.set_xlabel('False Positive Rate')\n",
    "ax.set_ylabel('True Positive Rate')\n",
    "ax.set_title('ROC Curve')\n",
    "\n",
    "ax.text(0.65, 0.2, \"AUC:{:.2f} +/- {:.2f}\".format(results[\"AUC\"].mean(), results[\"AUC\"].std()))\n",
    "\n",
    "for _, row in results.iterrows():\n",
    "    \n",
    "    ax2.plot(row[\"rec_curve\"], row[\"prec_curve\"])\n",
    "    \n",
    "ax2.set_xlabel('Recall')\n",
    "ax2.set_ylabel('Precision')\n",
    "ax2.set_title('Precision Recall Curve');\n",
    "\n",
    "fig.savefig(os.path.join(file_place, \"ROC_scores.png\"), bbox_inches = 'tight')"
   ]
  },
  {
   "cell_type": "code",
   "execution_count": null,
   "metadata": {},
   "outputs": [],
   "source": [
    "fig, ax = plt.subplots(ncols = 1)\n",
    "\n",
    "results[[\"AUC\", \"Specificity\", \"Sensitivity\", \"Precision\", \"Recall\", \"F1\"]].plot.box(ax = ax)\n",
    "ax.set_ylabel(\"Score\");\n",
    "\n",
    "#results.to_excel(os.path.join(file_place, \"Confusion_Matrix_bad.xlsx\"))\n",
    "#fig.savefig(os.path.join(file_place, \"scores.png\"), bbox_inches = 'tight')"
   ]
  },
  {
   "cell_type": "code",
   "execution_count": 40,
   "metadata": {},
   "outputs": [
    {
     "output_type": "display_data",
     "data": {
      "text/plain": "<Figure size 864x360 with 2 Axes>",
      "image/svg+xml": "<?xml version=\"1.0\" encoding=\"utf-8\" standalone=\"no\"?>\n<!DOCTYPE svg PUBLIC \"-//W3C//DTD SVG 1.1//EN\"\n  \"http://www.w3.org/Graphics/SVG/1.1/DTD/svg11.dtd\">\n<!-- Created with matplotlib (https://matplotlib.org/) -->\n<svg height=\"331.674375pt\" version=\"1.1\" viewBox=\"0 0 720.58125 331.674375\" width=\"720.58125pt\" xmlns=\"http://www.w3.org/2000/svg\" xmlns:xlink=\"http://www.w3.org/1999/xlink\">\n <defs>\n  <style type=\"text/css\">\n*{stroke-linecap:butt;stroke-linejoin:round;}\n  </style>\n </defs>\n <g id=\"figure_1\">\n  <g id=\"patch_1\">\n   <path d=\"M 0 331.674375 \nL 720.58125 331.674375 \nL 720.58125 0 \nL 0 0 \nz\n\" style=\"fill:none;\"/>\n  </g>\n  <g id=\"axes_1\">\n   <g id=\"patch_2\">\n    <path d=\"M 43.78125 294.118125 \nL 348.144886 294.118125 \nL 348.144886 22.318125 \nL 43.78125 22.318125 \nz\n\" style=\"fill:#ffffff;\"/>\n   </g>\n   <g id=\"matplotlib.axis_1\">\n    <g id=\"xtick_1\">\n     <g id=\"line2d_1\">\n      <defs>\n       <path d=\"M 0 0 \nL 0 3.5 \n\" id=\"mf54932b9c8\" style=\"stroke:#000000;stroke-width:0.8;\"/>\n      </defs>\n      <g>\n       <use style=\"stroke:#000000;stroke-width:0.8;\" x=\"57.615961\" xlink:href=\"#mf54932b9c8\" y=\"294.118125\"/>\n      </g>\n     </g>\n     <g id=\"text_1\">\n      <!-- 0.0 -->\n      <defs>\n       <path d=\"M 31.78125 66.40625 \nQ 24.171875 66.40625 20.328125 58.90625 \nQ 16.5 51.421875 16.5 36.375 \nQ 16.5 21.390625 20.328125 13.890625 \nQ 24.171875 6.390625 31.78125 6.390625 \nQ 39.453125 6.390625 43.28125 13.890625 \nQ 47.125 21.390625 47.125 36.375 \nQ 47.125 51.421875 43.28125 58.90625 \nQ 39.453125 66.40625 31.78125 66.40625 \nz\nM 31.78125 74.21875 \nQ 44.046875 74.21875 50.515625 64.515625 \nQ 56.984375 54.828125 56.984375 36.375 \nQ 56.984375 17.96875 50.515625 8.265625 \nQ 44.046875 -1.421875 31.78125 -1.421875 \nQ 19.53125 -1.421875 13.0625 8.265625 \nQ 6.59375 17.96875 6.59375 36.375 \nQ 6.59375 54.828125 13.0625 64.515625 \nQ 19.53125 74.21875 31.78125 74.21875 \nz\n\" id=\"DejaVuSans-48\"/>\n       <path d=\"M 10.6875 12.40625 \nL 21 12.40625 \nL 21 0 \nL 10.6875 0 \nz\n\" id=\"DejaVuSans-46\"/>\n      </defs>\n      <g transform=\"translate(49.664398 308.716563)scale(0.1 -0.1)\">\n       <use xlink:href=\"#DejaVuSans-48\"/>\n       <use x=\"63.623047\" xlink:href=\"#DejaVuSans-46\"/>\n       <use x=\"95.410156\" xlink:href=\"#DejaVuSans-48\"/>\n      </g>\n     </g>\n    </g>\n    <g id=\"xtick_2\">\n     <g id=\"line2d_2\">\n      <g>\n       <use style=\"stroke:#000000;stroke-width:0.8;\" x=\"112.954804\" xlink:href=\"#mf54932b9c8\" y=\"294.118125\"/>\n      </g>\n     </g>\n     <g id=\"text_2\">\n      <!-- 0.2 -->\n      <defs>\n       <path d=\"M 19.1875 8.296875 \nL 53.609375 8.296875 \nL 53.609375 0 \nL 7.328125 0 \nL 7.328125 8.296875 \nQ 12.9375 14.109375 22.625 23.890625 \nQ 32.328125 33.6875 34.8125 36.53125 \nQ 39.546875 41.84375 41.421875 45.53125 \nQ 43.3125 49.21875 43.3125 52.78125 \nQ 43.3125 58.59375 39.234375 62.25 \nQ 35.15625 65.921875 28.609375 65.921875 \nQ 23.96875 65.921875 18.8125 64.3125 \nQ 13.671875 62.703125 7.8125 59.421875 \nL 7.8125 69.390625 \nQ 13.765625 71.78125 18.9375 73 \nQ 24.125 74.21875 28.421875 74.21875 \nQ 39.75 74.21875 46.484375 68.546875 \nQ 53.21875 62.890625 53.21875 53.421875 \nQ 53.21875 48.921875 51.53125 44.890625 \nQ 49.859375 40.875 45.40625 35.40625 \nQ 44.1875 33.984375 37.640625 27.21875 \nQ 31.109375 20.453125 19.1875 8.296875 \nz\n\" id=\"DejaVuSans-50\"/>\n      </defs>\n      <g transform=\"translate(105.003241 308.716563)scale(0.1 -0.1)\">\n       <use xlink:href=\"#DejaVuSans-48\"/>\n       <use x=\"63.623047\" xlink:href=\"#DejaVuSans-46\"/>\n       <use x=\"95.410156\" xlink:href=\"#DejaVuSans-50\"/>\n      </g>\n     </g>\n    </g>\n    <g id=\"xtick_3\">\n     <g id=\"line2d_3\">\n      <g>\n       <use style=\"stroke:#000000;stroke-width:0.8;\" x=\"168.293647\" xlink:href=\"#mf54932b9c8\" y=\"294.118125\"/>\n      </g>\n     </g>\n     <g id=\"text_3\">\n      <!-- 0.4 -->\n      <defs>\n       <path d=\"M 37.796875 64.3125 \nL 12.890625 25.390625 \nL 37.796875 25.390625 \nz\nM 35.203125 72.90625 \nL 47.609375 72.90625 \nL 47.609375 25.390625 \nL 58.015625 25.390625 \nL 58.015625 17.1875 \nL 47.609375 17.1875 \nL 47.609375 0 \nL 37.796875 0 \nL 37.796875 17.1875 \nL 4.890625 17.1875 \nL 4.890625 26.703125 \nz\n\" id=\"DejaVuSans-52\"/>\n      </defs>\n      <g transform=\"translate(160.342084 308.716563)scale(0.1 -0.1)\">\n       <use xlink:href=\"#DejaVuSans-48\"/>\n       <use x=\"63.623047\" xlink:href=\"#DejaVuSans-46\"/>\n       <use x=\"95.410156\" xlink:href=\"#DejaVuSans-52\"/>\n      </g>\n     </g>\n    </g>\n    <g id=\"xtick_4\">\n     <g id=\"line2d_4\">\n      <g>\n       <use style=\"stroke:#000000;stroke-width:0.8;\" x=\"223.63249\" xlink:href=\"#mf54932b9c8\" y=\"294.118125\"/>\n      </g>\n     </g>\n     <g id=\"text_4\">\n      <!-- 0.6 -->\n      <defs>\n       <path d=\"M 33.015625 40.375 \nQ 26.375 40.375 22.484375 35.828125 \nQ 18.609375 31.296875 18.609375 23.390625 \nQ 18.609375 15.53125 22.484375 10.953125 \nQ 26.375 6.390625 33.015625 6.390625 \nQ 39.65625 6.390625 43.53125 10.953125 \nQ 47.40625 15.53125 47.40625 23.390625 \nQ 47.40625 31.296875 43.53125 35.828125 \nQ 39.65625 40.375 33.015625 40.375 \nz\nM 52.59375 71.296875 \nL 52.59375 62.3125 \nQ 48.875 64.0625 45.09375 64.984375 \nQ 41.3125 65.921875 37.59375 65.921875 \nQ 27.828125 65.921875 22.671875 59.328125 \nQ 17.53125 52.734375 16.796875 39.40625 \nQ 19.671875 43.65625 24.015625 45.921875 \nQ 28.375 48.1875 33.59375 48.1875 \nQ 44.578125 48.1875 50.953125 41.515625 \nQ 57.328125 34.859375 57.328125 23.390625 \nQ 57.328125 12.15625 50.6875 5.359375 \nQ 44.046875 -1.421875 33.015625 -1.421875 \nQ 20.359375 -1.421875 13.671875 8.265625 \nQ 6.984375 17.96875 6.984375 36.375 \nQ 6.984375 53.65625 15.1875 63.9375 \nQ 23.390625 74.21875 37.203125 74.21875 \nQ 40.921875 74.21875 44.703125 73.484375 \nQ 48.484375 72.75 52.59375 71.296875 \nz\n\" id=\"DejaVuSans-54\"/>\n      </defs>\n      <g transform=\"translate(215.680927 308.716563)scale(0.1 -0.1)\">\n       <use xlink:href=\"#DejaVuSans-48\"/>\n       <use x=\"63.623047\" xlink:href=\"#DejaVuSans-46\"/>\n       <use x=\"95.410156\" xlink:href=\"#DejaVuSans-54\"/>\n      </g>\n     </g>\n    </g>\n    <g id=\"xtick_5\">\n     <g id=\"line2d_5\">\n      <g>\n       <use style=\"stroke:#000000;stroke-width:0.8;\" x=\"278.971333\" xlink:href=\"#mf54932b9c8\" y=\"294.118125\"/>\n      </g>\n     </g>\n     <g id=\"text_5\">\n      <!-- 0.8 -->\n      <defs>\n       <path d=\"M 31.78125 34.625 \nQ 24.75 34.625 20.71875 30.859375 \nQ 16.703125 27.09375 16.703125 20.515625 \nQ 16.703125 13.921875 20.71875 10.15625 \nQ 24.75 6.390625 31.78125 6.390625 \nQ 38.8125 6.390625 42.859375 10.171875 \nQ 46.921875 13.96875 46.921875 20.515625 \nQ 46.921875 27.09375 42.890625 30.859375 \nQ 38.875 34.625 31.78125 34.625 \nz\nM 21.921875 38.8125 \nQ 15.578125 40.375 12.03125 44.71875 \nQ 8.5 49.078125 8.5 55.328125 \nQ 8.5 64.0625 14.71875 69.140625 \nQ 20.953125 74.21875 31.78125 74.21875 \nQ 42.671875 74.21875 48.875 69.140625 \nQ 55.078125 64.0625 55.078125 55.328125 \nQ 55.078125 49.078125 51.53125 44.71875 \nQ 48 40.375 41.703125 38.8125 \nQ 48.828125 37.15625 52.796875 32.3125 \nQ 56.78125 27.484375 56.78125 20.515625 \nQ 56.78125 9.90625 50.3125 4.234375 \nQ 43.84375 -1.421875 31.78125 -1.421875 \nQ 19.734375 -1.421875 13.25 4.234375 \nQ 6.78125 9.90625 6.78125 20.515625 \nQ 6.78125 27.484375 10.78125 32.3125 \nQ 14.796875 37.15625 21.921875 38.8125 \nz\nM 18.3125 54.390625 \nQ 18.3125 48.734375 21.84375 45.5625 \nQ 25.390625 42.390625 31.78125 42.390625 \nQ 38.140625 42.390625 41.71875 45.5625 \nQ 45.3125 48.734375 45.3125 54.390625 \nQ 45.3125 60.0625 41.71875 63.234375 \nQ 38.140625 66.40625 31.78125 66.40625 \nQ 25.390625 66.40625 21.84375 63.234375 \nQ 18.3125 60.0625 18.3125 54.390625 \nz\n\" id=\"DejaVuSans-56\"/>\n      </defs>\n      <g transform=\"translate(271.01977 308.716563)scale(0.1 -0.1)\">\n       <use xlink:href=\"#DejaVuSans-48\"/>\n       <use x=\"63.623047\" xlink:href=\"#DejaVuSans-46\"/>\n       <use x=\"95.410156\" xlink:href=\"#DejaVuSans-56\"/>\n      </g>\n     </g>\n    </g>\n    <g id=\"xtick_6\">\n     <g id=\"line2d_6\">\n      <g>\n       <use style=\"stroke:#000000;stroke-width:0.8;\" x=\"334.310176\" xlink:href=\"#mf54932b9c8\" y=\"294.118125\"/>\n      </g>\n     </g>\n     <g id=\"text_6\">\n      <!-- 1.0 -->\n      <defs>\n       <path d=\"M 12.40625 8.296875 \nL 28.515625 8.296875 \nL 28.515625 63.921875 \nL 10.984375 60.40625 \nL 10.984375 69.390625 \nL 28.421875 72.90625 \nL 38.28125 72.90625 \nL 38.28125 8.296875 \nL 54.390625 8.296875 \nL 54.390625 0 \nL 12.40625 0 \nz\n\" id=\"DejaVuSans-49\"/>\n      </defs>\n      <g transform=\"translate(326.358613 308.716563)scale(0.1 -0.1)\">\n       <use xlink:href=\"#DejaVuSans-49\"/>\n       <use x=\"63.623047\" xlink:href=\"#DejaVuSans-46\"/>\n       <use x=\"95.410156\" xlink:href=\"#DejaVuSans-48\"/>\n      </g>\n     </g>\n    </g>\n    <g id=\"text_7\">\n     <!-- False Positive Rate -->\n     <defs>\n      <path d=\"M 9.8125 72.90625 \nL 51.703125 72.90625 \nL 51.703125 64.59375 \nL 19.671875 64.59375 \nL 19.671875 43.109375 \nL 48.578125 43.109375 \nL 48.578125 34.8125 \nL 19.671875 34.8125 \nL 19.671875 0 \nL 9.8125 0 \nz\n\" id=\"DejaVuSans-70\"/>\n      <path d=\"M 34.28125 27.484375 \nQ 23.390625 27.484375 19.1875 25 \nQ 14.984375 22.515625 14.984375 16.5 \nQ 14.984375 11.71875 18.140625 8.90625 \nQ 21.296875 6.109375 26.703125 6.109375 \nQ 34.1875 6.109375 38.703125 11.40625 \nQ 43.21875 16.703125 43.21875 25.484375 \nL 43.21875 27.484375 \nz\nM 52.203125 31.203125 \nL 52.203125 0 \nL 43.21875 0 \nL 43.21875 8.296875 \nQ 40.140625 3.328125 35.546875 0.953125 \nQ 30.953125 -1.421875 24.3125 -1.421875 \nQ 15.921875 -1.421875 10.953125 3.296875 \nQ 6 8.015625 6 15.921875 \nQ 6 25.140625 12.171875 29.828125 \nQ 18.359375 34.515625 30.609375 34.515625 \nL 43.21875 34.515625 \nL 43.21875 35.40625 \nQ 43.21875 41.609375 39.140625 45 \nQ 35.0625 48.390625 27.6875 48.390625 \nQ 23 48.390625 18.546875 47.265625 \nQ 14.109375 46.140625 10.015625 43.890625 \nL 10.015625 52.203125 \nQ 14.9375 54.109375 19.578125 55.046875 \nQ 24.21875 56 28.609375 56 \nQ 40.484375 56 46.34375 49.84375 \nQ 52.203125 43.703125 52.203125 31.203125 \nz\n\" id=\"DejaVuSans-97\"/>\n      <path d=\"M 9.421875 75.984375 \nL 18.40625 75.984375 \nL 18.40625 0 \nL 9.421875 0 \nz\n\" id=\"DejaVuSans-108\"/>\n      <path d=\"M 44.28125 53.078125 \nL 44.28125 44.578125 \nQ 40.484375 46.53125 36.375 47.5 \nQ 32.28125 48.484375 27.875 48.484375 \nQ 21.1875 48.484375 17.84375 46.4375 \nQ 14.5 44.390625 14.5 40.28125 \nQ 14.5 37.15625 16.890625 35.375 \nQ 19.28125 33.59375 26.515625 31.984375 \nL 29.59375 31.296875 \nQ 39.15625 29.25 43.1875 25.515625 \nQ 47.21875 21.78125 47.21875 15.09375 \nQ 47.21875 7.46875 41.1875 3.015625 \nQ 35.15625 -1.421875 24.609375 -1.421875 \nQ 20.21875 -1.421875 15.453125 -0.5625 \nQ 10.6875 0.296875 5.421875 2 \nL 5.421875 11.28125 \nQ 10.40625 8.6875 15.234375 7.390625 \nQ 20.0625 6.109375 24.8125 6.109375 \nQ 31.15625 6.109375 34.5625 8.28125 \nQ 37.984375 10.453125 37.984375 14.40625 \nQ 37.984375 18.0625 35.515625 20.015625 \nQ 33.0625 21.96875 24.703125 23.78125 \nL 21.578125 24.515625 \nQ 13.234375 26.265625 9.515625 29.90625 \nQ 5.8125 33.546875 5.8125 39.890625 \nQ 5.8125 47.609375 11.28125 51.796875 \nQ 16.75 56 26.8125 56 \nQ 31.78125 56 36.171875 55.265625 \nQ 40.578125 54.546875 44.28125 53.078125 \nz\n\" id=\"DejaVuSans-115\"/>\n      <path d=\"M 56.203125 29.59375 \nL 56.203125 25.203125 \nL 14.890625 25.203125 \nQ 15.484375 15.921875 20.484375 11.0625 \nQ 25.484375 6.203125 34.421875 6.203125 \nQ 39.59375 6.203125 44.453125 7.46875 \nQ 49.3125 8.734375 54.109375 11.28125 \nL 54.109375 2.78125 \nQ 49.265625 0.734375 44.1875 -0.34375 \nQ 39.109375 -1.421875 33.890625 -1.421875 \nQ 20.796875 -1.421875 13.15625 6.1875 \nQ 5.515625 13.8125 5.515625 26.8125 \nQ 5.515625 40.234375 12.765625 48.109375 \nQ 20.015625 56 32.328125 56 \nQ 43.359375 56 49.78125 48.890625 \nQ 56.203125 41.796875 56.203125 29.59375 \nz\nM 47.21875 32.234375 \nQ 47.125 39.59375 43.09375 43.984375 \nQ 39.0625 48.390625 32.421875 48.390625 \nQ 24.90625 48.390625 20.390625 44.140625 \nQ 15.875 39.890625 15.1875 32.171875 \nz\n\" id=\"DejaVuSans-101\"/>\n      <path id=\"DejaVuSans-32\"/>\n      <path d=\"M 19.671875 64.796875 \nL 19.671875 37.40625 \nL 32.078125 37.40625 \nQ 38.96875 37.40625 42.71875 40.96875 \nQ 46.484375 44.53125 46.484375 51.125 \nQ 46.484375 57.671875 42.71875 61.234375 \nQ 38.96875 64.796875 32.078125 64.796875 \nz\nM 9.8125 72.90625 \nL 32.078125 72.90625 \nQ 44.34375 72.90625 50.609375 67.359375 \nQ 56.890625 61.8125 56.890625 51.125 \nQ 56.890625 40.328125 50.609375 34.8125 \nQ 44.34375 29.296875 32.078125 29.296875 \nL 19.671875 29.296875 \nL 19.671875 0 \nL 9.8125 0 \nz\n\" id=\"DejaVuSans-80\"/>\n      <path d=\"M 30.609375 48.390625 \nQ 23.390625 48.390625 19.1875 42.75 \nQ 14.984375 37.109375 14.984375 27.296875 \nQ 14.984375 17.484375 19.15625 11.84375 \nQ 23.34375 6.203125 30.609375 6.203125 \nQ 37.796875 6.203125 41.984375 11.859375 \nQ 46.1875 17.53125 46.1875 27.296875 \nQ 46.1875 37.015625 41.984375 42.703125 \nQ 37.796875 48.390625 30.609375 48.390625 \nz\nM 30.609375 56 \nQ 42.328125 56 49.015625 48.375 \nQ 55.71875 40.765625 55.71875 27.296875 \nQ 55.71875 13.875 49.015625 6.21875 \nQ 42.328125 -1.421875 30.609375 -1.421875 \nQ 18.84375 -1.421875 12.171875 6.21875 \nQ 5.515625 13.875 5.515625 27.296875 \nQ 5.515625 40.765625 12.171875 48.375 \nQ 18.84375 56 30.609375 56 \nz\n\" id=\"DejaVuSans-111\"/>\n      <path d=\"M 9.421875 54.6875 \nL 18.40625 54.6875 \nL 18.40625 0 \nL 9.421875 0 \nz\nM 9.421875 75.984375 \nL 18.40625 75.984375 \nL 18.40625 64.59375 \nL 9.421875 64.59375 \nz\n\" id=\"DejaVuSans-105\"/>\n      <path d=\"M 18.3125 70.21875 \nL 18.3125 54.6875 \nL 36.8125 54.6875 \nL 36.8125 47.703125 \nL 18.3125 47.703125 \nL 18.3125 18.015625 \nQ 18.3125 11.328125 20.140625 9.421875 \nQ 21.96875 7.515625 27.59375 7.515625 \nL 36.8125 7.515625 \nL 36.8125 0 \nL 27.59375 0 \nQ 17.1875 0 13.234375 3.875 \nQ 9.28125 7.765625 9.28125 18.015625 \nL 9.28125 47.703125 \nL 2.6875 47.703125 \nL 2.6875 54.6875 \nL 9.28125 54.6875 \nL 9.28125 70.21875 \nz\n\" id=\"DejaVuSans-116\"/>\n      <path d=\"M 2.984375 54.6875 \nL 12.5 54.6875 \nL 29.59375 8.796875 \nL 46.6875 54.6875 \nL 56.203125 54.6875 \nL 35.6875 0 \nL 23.484375 0 \nz\n\" id=\"DejaVuSans-118\"/>\n      <path d=\"M 44.390625 34.1875 \nQ 47.5625 33.109375 50.5625 29.59375 \nQ 53.5625 26.078125 56.59375 19.921875 \nL 66.609375 0 \nL 56 0 \nL 46.6875 18.703125 \nQ 43.0625 26.03125 39.671875 28.421875 \nQ 36.28125 30.8125 30.421875 30.8125 \nL 19.671875 30.8125 \nL 19.671875 0 \nL 9.8125 0 \nL 9.8125 72.90625 \nL 32.078125 72.90625 \nQ 44.578125 72.90625 50.734375 67.671875 \nQ 56.890625 62.453125 56.890625 51.90625 \nQ 56.890625 45.015625 53.6875 40.46875 \nQ 50.484375 35.9375 44.390625 34.1875 \nz\nM 19.671875 64.796875 \nL 19.671875 38.921875 \nL 32.078125 38.921875 \nQ 39.203125 38.921875 42.84375 42.21875 \nQ 46.484375 45.515625 46.484375 51.90625 \nQ 46.484375 58.296875 42.84375 61.546875 \nQ 39.203125 64.796875 32.078125 64.796875 \nz\n\" id=\"DejaVuSans-82\"/>\n     </defs>\n     <g transform=\"translate(149.496662 322.394687)scale(0.1 -0.1)\">\n      <use xlink:href=\"#DejaVuSans-70\"/>\n      <use x=\"48.394531\" xlink:href=\"#DejaVuSans-97\"/>\n      <use x=\"109.673828\" xlink:href=\"#DejaVuSans-108\"/>\n      <use x=\"137.457031\" xlink:href=\"#DejaVuSans-115\"/>\n      <use x=\"189.556641\" xlink:href=\"#DejaVuSans-101\"/>\n      <use x=\"251.080078\" xlink:href=\"#DejaVuSans-32\"/>\n      <use x=\"282.867188\" xlink:href=\"#DejaVuSans-80\"/>\n      <use x=\"339.544922\" xlink:href=\"#DejaVuSans-111\"/>\n      <use x=\"400.726562\" xlink:href=\"#DejaVuSans-115\"/>\n      <use x=\"452.826172\" xlink:href=\"#DejaVuSans-105\"/>\n      <use x=\"480.609375\" xlink:href=\"#DejaVuSans-116\"/>\n      <use x=\"519.818359\" xlink:href=\"#DejaVuSans-105\"/>\n      <use x=\"547.601562\" xlink:href=\"#DejaVuSans-118\"/>\n      <use x=\"606.78125\" xlink:href=\"#DejaVuSans-101\"/>\n      <use x=\"668.304688\" xlink:href=\"#DejaVuSans-32\"/>\n      <use x=\"700.091797\" xlink:href=\"#DejaVuSans-82\"/>\n      <use x=\"767.324219\" xlink:href=\"#DejaVuSans-97\"/>\n      <use x=\"828.603516\" xlink:href=\"#DejaVuSans-116\"/>\n      <use x=\"867.8125\" xlink:href=\"#DejaVuSans-101\"/>\n     </g>\n    </g>\n   </g>\n   <g id=\"matplotlib.axis_2\">\n    <g id=\"ytick_1\">\n     <g id=\"line2d_7\">\n      <defs>\n       <path d=\"M 0 0 \nL -3.5 0 \n\" id=\"mf0f22078a1\" style=\"stroke:#000000;stroke-width:0.8;\"/>\n      </defs>\n      <g>\n       <use style=\"stroke:#000000;stroke-width:0.8;\" x=\"43.78125\" xlink:href=\"#mf0f22078a1\" y=\"281.76358\"/>\n      </g>\n     </g>\n     <g id=\"text_8\">\n      <!-- 0.0 -->\n      <g transform=\"translate(20.878125 285.562798)scale(0.1 -0.1)\">\n       <use xlink:href=\"#DejaVuSans-48\"/>\n       <use x=\"63.623047\" xlink:href=\"#DejaVuSans-46\"/>\n       <use x=\"95.410156\" xlink:href=\"#DejaVuSans-48\"/>\n      </g>\n     </g>\n    </g>\n    <g id=\"ytick_2\">\n     <g id=\"line2d_8\">\n      <g>\n       <use style=\"stroke:#000000;stroke-width:0.8;\" x=\"43.78125\" xlink:href=\"#mf0f22078a1\" y=\"232.345398\"/>\n      </g>\n     </g>\n     <g id=\"text_9\">\n      <!-- 0.2 -->\n      <g transform=\"translate(20.878125 236.144616)scale(0.1 -0.1)\">\n       <use xlink:href=\"#DejaVuSans-48\"/>\n       <use x=\"63.623047\" xlink:href=\"#DejaVuSans-46\"/>\n       <use x=\"95.410156\" xlink:href=\"#DejaVuSans-50\"/>\n      </g>\n     </g>\n    </g>\n    <g id=\"ytick_3\">\n     <g id=\"line2d_9\">\n      <g>\n       <use style=\"stroke:#000000;stroke-width:0.8;\" x=\"43.78125\" xlink:href=\"#mf0f22078a1\" y=\"182.927216\"/>\n      </g>\n     </g>\n     <g id=\"text_10\">\n      <!-- 0.4 -->\n      <g transform=\"translate(20.878125 186.726435)scale(0.1 -0.1)\">\n       <use xlink:href=\"#DejaVuSans-48\"/>\n       <use x=\"63.623047\" xlink:href=\"#DejaVuSans-46\"/>\n       <use x=\"95.410156\" xlink:href=\"#DejaVuSans-52\"/>\n      </g>\n     </g>\n    </g>\n    <g id=\"ytick_4\">\n     <g id=\"line2d_10\">\n      <g>\n       <use style=\"stroke:#000000;stroke-width:0.8;\" x=\"43.78125\" xlink:href=\"#mf0f22078a1\" y=\"133.509034\"/>\n      </g>\n     </g>\n     <g id=\"text_11\">\n      <!-- 0.6 -->\n      <g transform=\"translate(20.878125 137.308253)scale(0.1 -0.1)\">\n       <use xlink:href=\"#DejaVuSans-48\"/>\n       <use x=\"63.623047\" xlink:href=\"#DejaVuSans-46\"/>\n       <use x=\"95.410156\" xlink:href=\"#DejaVuSans-54\"/>\n      </g>\n     </g>\n    </g>\n    <g id=\"ytick_5\">\n     <g id=\"line2d_11\">\n      <g>\n       <use style=\"stroke:#000000;stroke-width:0.8;\" x=\"43.78125\" xlink:href=\"#mf0f22078a1\" y=\"84.090852\"/>\n      </g>\n     </g>\n     <g id=\"text_12\">\n      <!-- 0.8 -->\n      <g transform=\"translate(20.878125 87.890071)scale(0.1 -0.1)\">\n       <use xlink:href=\"#DejaVuSans-48\"/>\n       <use x=\"63.623047\" xlink:href=\"#DejaVuSans-46\"/>\n       <use x=\"95.410156\" xlink:href=\"#DejaVuSans-56\"/>\n      </g>\n     </g>\n    </g>\n    <g id=\"ytick_6\">\n     <g id=\"line2d_12\">\n      <g>\n       <use style=\"stroke:#000000;stroke-width:0.8;\" x=\"43.78125\" xlink:href=\"#mf0f22078a1\" y=\"34.67267\"/>\n      </g>\n     </g>\n     <g id=\"text_13\">\n      <!-- 1.0 -->\n      <g transform=\"translate(20.878125 38.471889)scale(0.1 -0.1)\">\n       <use xlink:href=\"#DejaVuSans-49\"/>\n       <use x=\"63.623047\" xlink:href=\"#DejaVuSans-46\"/>\n       <use x=\"95.410156\" xlink:href=\"#DejaVuSans-48\"/>\n      </g>\n     </g>\n    </g>\n    <g id=\"text_14\">\n     <!-- True Positive Rate -->\n     <defs>\n      <path d=\"M -0.296875 72.90625 \nL 61.375 72.90625 \nL 61.375 64.59375 \nL 35.5 64.59375 \nL 35.5 0 \nL 25.59375 0 \nL 25.59375 64.59375 \nL -0.296875 64.59375 \nz\n\" id=\"DejaVuSans-84\"/>\n      <path d=\"M 41.109375 46.296875 \nQ 39.59375 47.171875 37.8125 47.578125 \nQ 36.03125 48 33.890625 48 \nQ 26.265625 48 22.1875 43.046875 \nQ 18.109375 38.09375 18.109375 28.8125 \nL 18.109375 0 \nL 9.078125 0 \nL 9.078125 54.6875 \nL 18.109375 54.6875 \nL 18.109375 46.1875 \nQ 20.953125 51.171875 25.484375 53.578125 \nQ 30.03125 56 36.53125 56 \nQ 37.453125 56 38.578125 55.875 \nQ 39.703125 55.765625 41.0625 55.515625 \nz\n\" id=\"DejaVuSans-114\"/>\n      <path d=\"M 8.5 21.578125 \nL 8.5 54.6875 \nL 17.484375 54.6875 \nL 17.484375 21.921875 \nQ 17.484375 14.15625 20.5 10.265625 \nQ 23.53125 6.390625 29.59375 6.390625 \nQ 36.859375 6.390625 41.078125 11.03125 \nQ 45.3125 15.671875 45.3125 23.6875 \nL 45.3125 54.6875 \nL 54.296875 54.6875 \nL 54.296875 0 \nL 45.3125 0 \nL 45.3125 8.40625 \nQ 42.046875 3.421875 37.71875 1 \nQ 33.40625 -1.421875 27.6875 -1.421875 \nQ 18.265625 -1.421875 13.375 4.4375 \nQ 8.5 10.296875 8.5 21.578125 \nz\nM 31.109375 56 \nz\n\" id=\"DejaVuSans-117\"/>\n     </defs>\n     <g transform=\"translate(14.798438 202.747813)rotate(-90)scale(0.1 -0.1)\">\n      <use xlink:href=\"#DejaVuSans-84\"/>\n      <use x=\"46.333984\" xlink:href=\"#DejaVuSans-114\"/>\n      <use x=\"87.447266\" xlink:href=\"#DejaVuSans-117\"/>\n      <use x=\"150.826172\" xlink:href=\"#DejaVuSans-101\"/>\n      <use x=\"212.349609\" xlink:href=\"#DejaVuSans-32\"/>\n      <use x=\"244.136719\" xlink:href=\"#DejaVuSans-80\"/>\n      <use x=\"300.814453\" xlink:href=\"#DejaVuSans-111\"/>\n      <use x=\"361.996094\" xlink:href=\"#DejaVuSans-115\"/>\n      <use x=\"414.095703\" xlink:href=\"#DejaVuSans-105\"/>\n      <use x=\"441.878906\" xlink:href=\"#DejaVuSans-116\"/>\n      <use x=\"481.087891\" xlink:href=\"#DejaVuSans-105\"/>\n      <use x=\"508.871094\" xlink:href=\"#DejaVuSans-118\"/>\n      <use x=\"568.050781\" xlink:href=\"#DejaVuSans-101\"/>\n      <use x=\"629.574219\" xlink:href=\"#DejaVuSans-32\"/>\n      <use x=\"661.361328\" xlink:href=\"#DejaVuSans-82\"/>\n      <use x=\"728.59375\" xlink:href=\"#DejaVuSans-97\"/>\n      <use x=\"789.873047\" xlink:href=\"#DejaVuSans-116\"/>\n      <use x=\"829.082031\" xlink:href=\"#DejaVuSans-101\"/>\n     </g>\n    </g>\n   </g>\n   <g id=\"line2d_13\">\n    <path clip-path=\"url(#pc77fa00f98)\" d=\"M 57.615961 281.76358 \nL 57.615961 158.218125 \nL 195.963068 158.218125 \nL 195.963068 34.67267 \nL 334.310176 34.67267 \n\" style=\"fill:none;stroke:#1f77b4;stroke-linecap:square;stroke-width:1.5;\"/>\n   </g>\n   <g id=\"line2d_14\">\n    <path clip-path=\"url(#pc77fa00f98)\" d=\"M 57.615961 281.76358 \nL 57.615961 34.67267 \nL 334.310176 34.67267 \n\" style=\"fill:none;stroke:#ff7f0e;stroke-linecap:square;stroke-width:1.5;\"/>\n   </g>\n   <g id=\"line2d_15\">\n    <path clip-path=\"url(#pc77fa00f98)\" d=\"M 57.615961 281.76358 \nL 149.847366 281.76358 \nL 149.847366 199.399943 \nL 242.078771 199.399943 \nL 242.078771 34.67267 \nL 334.310176 34.67267 \n\" style=\"fill:none;stroke:#2ca02c;stroke-linecap:square;stroke-width:1.5;\"/>\n   </g>\n   <g id=\"line2d_16\">\n    <path clip-path=\"url(#pc77fa00f98)\" d=\"M 57.615961 281.76358 \nL 57.615961 158.218125 \nL 265.136622 158.218125 \nL 265.136622 34.67267 \nL 334.310176 34.67267 \n\" style=\"fill:none;stroke:#d62728;stroke-linecap:square;stroke-width:1.5;\"/>\n   </g>\n   <g id=\"line2d_17\">\n    <path clip-path=\"url(#pc77fa00f98)\" d=\"M 57.615961 281.76358 \nL 112.954804 281.76358 \nL 168.293647 281.76358 \nL 168.293647 34.67267 \nL 334.310176 34.67267 \n\" style=\"fill:none;stroke:#9467bd;stroke-linecap:square;stroke-width:1.5;\"/>\n   </g>\n   <g id=\"line2d_18\">\n    <path clip-path=\"url(#pc77fa00f98)\" d=\"M 57.615961 281.76358 \nL 334.310176 34.67267 \n\" style=\"fill:none;stroke:#000000;stroke-dasharray:5.55,2.4;stroke-dashoffset:0;stroke-width:1.5;\"/>\n   </g>\n   <g id=\"patch_3\">\n    <path d=\"M 43.78125 294.118125 \nL 43.78125 22.318125 \n\" style=\"fill:none;stroke:#000000;stroke-linecap:square;stroke-linejoin:miter;stroke-width:0.8;\"/>\n   </g>\n   <g id=\"patch_4\">\n    <path d=\"M 348.144886 294.118125 \nL 348.144886 22.318125 \n\" style=\"fill:none;stroke:#000000;stroke-linecap:square;stroke-linejoin:miter;stroke-width:0.8;\"/>\n   </g>\n   <g id=\"patch_5\">\n    <path d=\"M 43.78125 294.118125 \nL 348.144886 294.118125 \n\" style=\"fill:none;stroke:#000000;stroke-linecap:square;stroke-linejoin:miter;stroke-width:0.8;\"/>\n   </g>\n   <g id=\"patch_6\">\n    <path d=\"M 43.78125 22.318125 \nL 348.144886 22.318125 \n\" style=\"fill:none;stroke:#000000;stroke-linecap:square;stroke-linejoin:miter;stroke-width:0.8;\"/>\n   </g>\n   <g id=\"text_15\">\n    <!-- AUC:0.68 +/- 0.21 -->\n    <defs>\n     <path d=\"M 34.1875 63.1875 \nL 20.796875 26.90625 \nL 47.609375 26.90625 \nz\nM 28.609375 72.90625 \nL 39.796875 72.90625 \nL 67.578125 0 \nL 57.328125 0 \nL 50.6875 18.703125 \nL 17.828125 18.703125 \nL 11.1875 0 \nL 0.78125 0 \nz\n\" id=\"DejaVuSans-65\"/>\n     <path d=\"M 8.6875 72.90625 \nL 18.609375 72.90625 \nL 18.609375 28.609375 \nQ 18.609375 16.890625 22.84375 11.734375 \nQ 27.09375 6.59375 36.625 6.59375 \nQ 46.09375 6.59375 50.34375 11.734375 \nQ 54.59375 16.890625 54.59375 28.609375 \nL 54.59375 72.90625 \nL 64.5 72.90625 \nL 64.5 27.390625 \nQ 64.5 13.140625 57.4375 5.859375 \nQ 50.390625 -1.421875 36.625 -1.421875 \nQ 22.796875 -1.421875 15.734375 5.859375 \nQ 8.6875 13.140625 8.6875 27.390625 \nz\n\" id=\"DejaVuSans-85\"/>\n     <path d=\"M 64.40625 67.28125 \nL 64.40625 56.890625 \nQ 59.421875 61.53125 53.78125 63.8125 \nQ 48.140625 66.109375 41.796875 66.109375 \nQ 29.296875 66.109375 22.65625 58.46875 \nQ 16.015625 50.828125 16.015625 36.375 \nQ 16.015625 21.96875 22.65625 14.328125 \nQ 29.296875 6.6875 41.796875 6.6875 \nQ 48.140625 6.6875 53.78125 8.984375 \nQ 59.421875 11.28125 64.40625 15.921875 \nL 64.40625 5.609375 \nQ 59.234375 2.09375 53.4375 0.328125 \nQ 47.65625 -1.421875 41.21875 -1.421875 \nQ 24.65625 -1.421875 15.125 8.703125 \nQ 5.609375 18.84375 5.609375 36.375 \nQ 5.609375 53.953125 15.125 64.078125 \nQ 24.65625 74.21875 41.21875 74.21875 \nQ 47.75 74.21875 53.53125 72.484375 \nQ 59.328125 70.75 64.40625 67.28125 \nz\n\" id=\"DejaVuSans-67\"/>\n     <path d=\"M 11.71875 12.40625 \nL 22.015625 12.40625 \nL 22.015625 0 \nL 11.71875 0 \nz\nM 11.71875 51.703125 \nL 22.015625 51.703125 \nL 22.015625 39.3125 \nL 11.71875 39.3125 \nz\n\" id=\"DejaVuSans-58\"/>\n     <path d=\"M 46 62.703125 \nL 46 35.5 \nL 73.1875 35.5 \nL 73.1875 27.203125 \nL 46 27.203125 \nL 46 0 \nL 37.796875 0 \nL 37.796875 27.203125 \nL 10.59375 27.203125 \nL 10.59375 35.5 \nL 37.796875 35.5 \nL 37.796875 62.703125 \nz\n\" id=\"DejaVuSans-43\"/>\n     <path d=\"M 25.390625 72.90625 \nL 33.6875 72.90625 \nL 8.296875 -9.28125 \nL 0 -9.28125 \nz\n\" id=\"DejaVuSans-47\"/>\n     <path d=\"M 4.890625 31.390625 \nL 31.203125 31.390625 \nL 31.203125 23.390625 \nL 4.890625 23.390625 \nz\n\" id=\"DejaVuSans-45\"/>\n    </defs>\n    <g transform=\"translate(237.4672 232.345398)scale(0.1 -0.1)\">\n     <use xlink:href=\"#DejaVuSans-65\"/>\n     <use x=\"68.408203\" xlink:href=\"#DejaVuSans-85\"/>\n     <use x=\"141.601562\" xlink:href=\"#DejaVuSans-67\"/>\n     <use x=\"211.425781\" xlink:href=\"#DejaVuSans-58\"/>\n     <use x=\"245.117188\" xlink:href=\"#DejaVuSans-48\"/>\n     <use x=\"308.740234\" xlink:href=\"#DejaVuSans-46\"/>\n     <use x=\"340.527344\" xlink:href=\"#DejaVuSans-54\"/>\n     <use x=\"404.150391\" xlink:href=\"#DejaVuSans-56\"/>\n     <use x=\"467.773438\" xlink:href=\"#DejaVuSans-32\"/>\n     <use x=\"499.560547\" xlink:href=\"#DejaVuSans-43\"/>\n     <use x=\"583.349609\" xlink:href=\"#DejaVuSans-47\"/>\n     <use x=\"617.041016\" xlink:href=\"#DejaVuSans-45\"/>\n     <use x=\"653.125\" xlink:href=\"#DejaVuSans-32\"/>\n     <use x=\"684.912109\" xlink:href=\"#DejaVuSans-48\"/>\n     <use x=\"748.535156\" xlink:href=\"#DejaVuSans-46\"/>\n     <use x=\"780.322266\" xlink:href=\"#DejaVuSans-50\"/>\n     <use x=\"843.945312\" xlink:href=\"#DejaVuSans-49\"/>\n    </g>\n   </g>\n   <g id=\"text_16\">\n    <!-- ROC Curve -->\n    <defs>\n     <path d=\"M 39.40625 66.21875 \nQ 28.65625 66.21875 22.328125 58.203125 \nQ 16.015625 50.203125 16.015625 36.375 \nQ 16.015625 22.609375 22.328125 14.59375 \nQ 28.65625 6.59375 39.40625 6.59375 \nQ 50.140625 6.59375 56.421875 14.59375 \nQ 62.703125 22.609375 62.703125 36.375 \nQ 62.703125 50.203125 56.421875 58.203125 \nQ 50.140625 66.21875 39.40625 66.21875 \nz\nM 39.40625 74.21875 \nQ 54.734375 74.21875 63.90625 63.9375 \nQ 73.09375 53.65625 73.09375 36.375 \nQ 73.09375 19.140625 63.90625 8.859375 \nQ 54.734375 -1.421875 39.40625 -1.421875 \nQ 24.03125 -1.421875 14.8125 8.828125 \nQ 5.609375 19.09375 5.609375 36.375 \nQ 5.609375 53.65625 14.8125 63.9375 \nQ 24.03125 74.21875 39.40625 74.21875 \nz\n\" id=\"DejaVuSans-79\"/>\n    </defs>\n    <g transform=\"translate(163.272443 16.318125)scale(0.12 -0.12)\">\n     <use xlink:href=\"#DejaVuSans-82\"/>\n     <use x=\"69.482422\" xlink:href=\"#DejaVuSans-79\"/>\n     <use x=\"148.193359\" xlink:href=\"#DejaVuSans-67\"/>\n     <use x=\"218.017578\" xlink:href=\"#DejaVuSans-32\"/>\n     <use x=\"249.804688\" xlink:href=\"#DejaVuSans-67\"/>\n     <use x=\"319.628906\" xlink:href=\"#DejaVuSans-117\"/>\n     <use x=\"383.007812\" xlink:href=\"#DejaVuSans-114\"/>\n     <use x=\"424.121094\" xlink:href=\"#DejaVuSans-118\"/>\n     <use x=\"483.300781\" xlink:href=\"#DejaVuSans-101\"/>\n    </g>\n   </g>\n  </g>\n  <g id=\"axes_2\">\n   <g id=\"patch_7\">\n    <path d=\"M 409.017614 294.118125 \nL 713.38125 294.118125 \nL 713.38125 22.318125 \nL 409.017614 22.318125 \nz\n\" style=\"fill:#ffffff;\"/>\n   </g>\n   <g id=\"matplotlib.axis_3\">\n    <g id=\"xtick_7\">\n     <g id=\"line2d_19\">\n      <g>\n       <use style=\"stroke:#000000;stroke-width:0.8;\" x=\"422.852324\" xlink:href=\"#mf54932b9c8\" y=\"294.118125\"/>\n      </g>\n     </g>\n     <g id=\"text_17\">\n      <!-- 0.0 -->\n      <g transform=\"translate(414.900762 308.716563)scale(0.1 -0.1)\">\n       <use xlink:href=\"#DejaVuSans-48\"/>\n       <use x=\"63.623047\" xlink:href=\"#DejaVuSans-46\"/>\n       <use x=\"95.410156\" xlink:href=\"#DejaVuSans-48\"/>\n      </g>\n     </g>\n    </g>\n    <g id=\"xtick_8\">\n     <g id=\"line2d_20\">\n      <g>\n       <use style=\"stroke:#000000;stroke-width:0.8;\" x=\"478.191167\" xlink:href=\"#mf54932b9c8\" y=\"294.118125\"/>\n      </g>\n     </g>\n     <g id=\"text_18\">\n      <!-- 0.2 -->\n      <g transform=\"translate(470.239605 308.716563)scale(0.1 -0.1)\">\n       <use xlink:href=\"#DejaVuSans-48\"/>\n       <use x=\"63.623047\" xlink:href=\"#DejaVuSans-46\"/>\n       <use x=\"95.410156\" xlink:href=\"#DejaVuSans-50\"/>\n      </g>\n     </g>\n    </g>\n    <g id=\"xtick_9\">\n     <g id=\"line2d_21\">\n      <g>\n       <use style=\"stroke:#000000;stroke-width:0.8;\" x=\"533.53001\" xlink:href=\"#mf54932b9c8\" y=\"294.118125\"/>\n      </g>\n     </g>\n     <g id=\"text_19\">\n      <!-- 0.4 -->\n      <g transform=\"translate(525.578448 308.716563)scale(0.1 -0.1)\">\n       <use xlink:href=\"#DejaVuSans-48\"/>\n       <use x=\"63.623047\" xlink:href=\"#DejaVuSans-46\"/>\n       <use x=\"95.410156\" xlink:href=\"#DejaVuSans-52\"/>\n      </g>\n     </g>\n    </g>\n    <g id=\"xtick_10\">\n     <g id=\"line2d_22\">\n      <g>\n       <use style=\"stroke:#000000;stroke-width:0.8;\" x=\"588.868853\" xlink:href=\"#mf54932b9c8\" y=\"294.118125\"/>\n      </g>\n     </g>\n     <g id=\"text_20\">\n      <!-- 0.6 -->\n      <g transform=\"translate(580.917291 308.716563)scale(0.1 -0.1)\">\n       <use xlink:href=\"#DejaVuSans-48\"/>\n       <use x=\"63.623047\" xlink:href=\"#DejaVuSans-46\"/>\n       <use x=\"95.410156\" xlink:href=\"#DejaVuSans-54\"/>\n      </g>\n     </g>\n    </g>\n    <g id=\"xtick_11\">\n     <g id=\"line2d_23\">\n      <g>\n       <use style=\"stroke:#000000;stroke-width:0.8;\" x=\"644.207696\" xlink:href=\"#mf54932b9c8\" y=\"294.118125\"/>\n      </g>\n     </g>\n     <g id=\"text_21\">\n      <!-- 0.8 -->\n      <g transform=\"translate(636.256134 308.716563)scale(0.1 -0.1)\">\n       <use xlink:href=\"#DejaVuSans-48\"/>\n       <use x=\"63.623047\" xlink:href=\"#DejaVuSans-46\"/>\n       <use x=\"95.410156\" xlink:href=\"#DejaVuSans-56\"/>\n      </g>\n     </g>\n    </g>\n    <g id=\"xtick_12\">\n     <g id=\"line2d_24\">\n      <g>\n       <use style=\"stroke:#000000;stroke-width:0.8;\" x=\"699.546539\" xlink:href=\"#mf54932b9c8\" y=\"294.118125\"/>\n      </g>\n     </g>\n     <g id=\"text_22\">\n      <!-- 1.0 -->\n      <g transform=\"translate(691.594977 308.716563)scale(0.1 -0.1)\">\n       <use xlink:href=\"#DejaVuSans-49\"/>\n       <use x=\"63.623047\" xlink:href=\"#DejaVuSans-46\"/>\n       <use x=\"95.410156\" xlink:href=\"#DejaVuSans-48\"/>\n      </g>\n     </g>\n    </g>\n    <g id=\"text_23\">\n     <!-- Recall -->\n     <defs>\n      <path d=\"M 48.78125 52.59375 \nL 48.78125 44.1875 \nQ 44.96875 46.296875 41.140625 47.34375 \nQ 37.3125 48.390625 33.40625 48.390625 \nQ 24.65625 48.390625 19.8125 42.84375 \nQ 14.984375 37.3125 14.984375 27.296875 \nQ 14.984375 17.28125 19.8125 11.734375 \nQ 24.65625 6.203125 33.40625 6.203125 \nQ 37.3125 6.203125 41.140625 7.25 \nQ 44.96875 8.296875 48.78125 10.40625 \nL 48.78125 2.09375 \nQ 45.015625 0.34375 40.984375 -0.53125 \nQ 36.96875 -1.421875 32.421875 -1.421875 \nQ 20.0625 -1.421875 12.78125 6.34375 \nQ 5.515625 14.109375 5.515625 27.296875 \nQ 5.515625 40.671875 12.859375 48.328125 \nQ 20.21875 56 33.015625 56 \nQ 37.15625 56 41.109375 55.140625 \nQ 45.0625 54.296875 48.78125 52.59375 \nz\n\" id=\"DejaVuSans-99\"/>\n     </defs>\n     <g transform=\"translate(546.282244 322.394687)scale(0.1 -0.1)\">\n      <use xlink:href=\"#DejaVuSans-82\"/>\n      <use x=\"64.982422\" xlink:href=\"#DejaVuSans-101\"/>\n      <use x=\"126.505859\" xlink:href=\"#DejaVuSans-99\"/>\n      <use x=\"181.486328\" xlink:href=\"#DejaVuSans-97\"/>\n      <use x=\"242.765625\" xlink:href=\"#DejaVuSans-108\"/>\n      <use x=\"270.548828\" xlink:href=\"#DejaVuSans-108\"/>\n     </g>\n    </g>\n   </g>\n   <g id=\"matplotlib.axis_4\">\n    <g id=\"ytick_7\">\n     <g id=\"line2d_25\">\n      <g>\n       <use style=\"stroke:#000000;stroke-width:0.8;\" x=\"409.017614\" xlink:href=\"#mf0f22078a1\" y=\"281.76358\"/>\n      </g>\n     </g>\n     <g id=\"text_24\">\n      <!-- 0.0 -->\n      <g transform=\"translate(386.114489 285.562798)scale(0.1 -0.1)\">\n       <use xlink:href=\"#DejaVuSans-48\"/>\n       <use x=\"63.623047\" xlink:href=\"#DejaVuSans-46\"/>\n       <use x=\"95.410156\" xlink:href=\"#DejaVuSans-48\"/>\n      </g>\n     </g>\n    </g>\n    <g id=\"ytick_8\">\n     <g id=\"line2d_26\">\n      <g>\n       <use style=\"stroke:#000000;stroke-width:0.8;\" x=\"409.017614\" xlink:href=\"#mf0f22078a1\" y=\"232.345398\"/>\n      </g>\n     </g>\n     <g id=\"text_25\">\n      <!-- 0.2 -->\n      <g transform=\"translate(386.114489 236.144616)scale(0.1 -0.1)\">\n       <use xlink:href=\"#DejaVuSans-48\"/>\n       <use x=\"63.623047\" xlink:href=\"#DejaVuSans-46\"/>\n       <use x=\"95.410156\" xlink:href=\"#DejaVuSans-50\"/>\n      </g>\n     </g>\n    </g>\n    <g id=\"ytick_9\">\n     <g id=\"line2d_27\">\n      <g>\n       <use style=\"stroke:#000000;stroke-width:0.8;\" x=\"409.017614\" xlink:href=\"#mf0f22078a1\" y=\"182.927216\"/>\n      </g>\n     </g>\n     <g id=\"text_26\">\n      <!-- 0.4 -->\n      <g transform=\"translate(386.114489 186.726435)scale(0.1 -0.1)\">\n       <use xlink:href=\"#DejaVuSans-48\"/>\n       <use x=\"63.623047\" xlink:href=\"#DejaVuSans-46\"/>\n       <use x=\"95.410156\" xlink:href=\"#DejaVuSans-52\"/>\n      </g>\n     </g>\n    </g>\n    <g id=\"ytick_10\">\n     <g id=\"line2d_28\">\n      <g>\n       <use style=\"stroke:#000000;stroke-width:0.8;\" x=\"409.017614\" xlink:href=\"#mf0f22078a1\" y=\"133.509034\"/>\n      </g>\n     </g>\n     <g id=\"text_27\">\n      <!-- 0.6 -->\n      <g transform=\"translate(386.114489 137.308253)scale(0.1 -0.1)\">\n       <use xlink:href=\"#DejaVuSans-48\"/>\n       <use x=\"63.623047\" xlink:href=\"#DejaVuSans-46\"/>\n       <use x=\"95.410156\" xlink:href=\"#DejaVuSans-54\"/>\n      </g>\n     </g>\n    </g>\n    <g id=\"ytick_11\">\n     <g id=\"line2d_29\">\n      <g>\n       <use style=\"stroke:#000000;stroke-width:0.8;\" x=\"409.017614\" xlink:href=\"#mf0f22078a1\" y=\"84.090852\"/>\n      </g>\n     </g>\n     <g id=\"text_28\">\n      <!-- 0.8 -->\n      <g transform=\"translate(386.114489 87.890071)scale(0.1 -0.1)\">\n       <use xlink:href=\"#DejaVuSans-48\"/>\n       <use x=\"63.623047\" xlink:href=\"#DejaVuSans-46\"/>\n       <use x=\"95.410156\" xlink:href=\"#DejaVuSans-56\"/>\n      </g>\n     </g>\n    </g>\n    <g id=\"ytick_12\">\n     <g id=\"line2d_30\">\n      <g>\n       <use style=\"stroke:#000000;stroke-width:0.8;\" x=\"409.017614\" xlink:href=\"#mf0f22078a1\" y=\"34.67267\"/>\n      </g>\n     </g>\n     <g id=\"text_29\">\n      <!-- 1.0 -->\n      <g transform=\"translate(386.114489 38.471889)scale(0.1 -0.1)\">\n       <use xlink:href=\"#DejaVuSans-49\"/>\n       <use x=\"63.623047\" xlink:href=\"#DejaVuSans-46\"/>\n       <use x=\"95.410156\" xlink:href=\"#DejaVuSans-48\"/>\n      </g>\n     </g>\n    </g>\n    <g id=\"text_30\">\n     <!-- Precision -->\n     <defs>\n      <path d=\"M 54.890625 33.015625 \nL 54.890625 0 \nL 45.90625 0 \nL 45.90625 32.71875 \nQ 45.90625 40.484375 42.875 44.328125 \nQ 39.84375 48.1875 33.796875 48.1875 \nQ 26.515625 48.1875 22.3125 43.546875 \nQ 18.109375 38.921875 18.109375 30.90625 \nL 18.109375 0 \nL 9.078125 0 \nL 9.078125 54.6875 \nL 18.109375 54.6875 \nL 18.109375 46.1875 \nQ 21.34375 51.125 25.703125 53.5625 \nQ 30.078125 56 35.796875 56 \nQ 45.21875 56 50.046875 50.171875 \nQ 54.890625 44.34375 54.890625 33.015625 \nz\n\" id=\"DejaVuSans-110\"/>\n     </defs>\n     <g transform=\"translate(380.034801 180.525156)rotate(-90)scale(0.1 -0.1)\">\n      <use xlink:href=\"#DejaVuSans-80\"/>\n      <use x=\"58.552734\" xlink:href=\"#DejaVuSans-114\"/>\n      <use x=\"97.416016\" xlink:href=\"#DejaVuSans-101\"/>\n      <use x=\"158.939453\" xlink:href=\"#DejaVuSans-99\"/>\n      <use x=\"213.919922\" xlink:href=\"#DejaVuSans-105\"/>\n      <use x=\"241.703125\" xlink:href=\"#DejaVuSans-115\"/>\n      <use x=\"293.802734\" xlink:href=\"#DejaVuSans-105\"/>\n      <use x=\"321.585938\" xlink:href=\"#DejaVuSans-111\"/>\n      <use x=\"382.767578\" xlink:href=\"#DejaVuSans-110\"/>\n     </g>\n    </g>\n   </g>\n   <g id=\"line2d_31\">\n    <path clip-path=\"url(#p60f2c10fbb)\" d=\"M 699.546539 158.218125 \nL 561.199432 199.399943 \nL 561.199432 158.218125 \nL 561.199432 34.67267 \nL 422.852324 34.67267 \n\" style=\"fill:none;stroke:#1f77b4;stroke-linecap:square;stroke-width:1.5;\"/>\n   </g>\n   <g id=\"line2d_32\">\n    <path clip-path=\"url(#p60f2c10fbb)\" d=\"M 699.546539 34.67267 \nL 422.852324 34.67267 \n\" style=\"fill:none;stroke:#ff7f0e;stroke-linecap:square;stroke-width:1.5;\"/>\n   </g>\n   <g id=\"line2d_33\">\n    <path clip-path=\"url(#p60f2c10fbb)\" d=\"M 699.546539 133.509034 \nL 607.315134 158.218125 \nL 515.083729 199.399943 \nL 515.083729 158.218125 \nL 422.852324 281.76358 \nL 422.852324 34.67267 \n\" style=\"fill:none;stroke:#2ca02c;stroke-linecap:square;stroke-width:1.5;\"/>\n   </g>\n   <g id=\"line2d_34\">\n    <path clip-path=\"url(#p60f2c10fbb)\" d=\"M 699.546539 182.927216 \nL 561.199432 219.990852 \nL 561.199432 199.399943 \nL 561.199432 158.218125 \nL 561.199432 34.67267 \nL 422.852324 34.67267 \n\" style=\"fill:none;stroke:#d62728;stroke-linecap:square;stroke-width:1.5;\"/>\n   </g>\n   <g id=\"line2d_35\">\n    <path clip-path=\"url(#p60f2c10fbb)\" d=\"M 699.546539 199.399943 \nL 422.852324 281.76358 \nL 422.852324 281.76358 \nL 422.852324 34.67267 \n\" style=\"fill:none;stroke:#9467bd;stroke-linecap:square;stroke-width:1.5;\"/>\n   </g>\n   <g id=\"patch_8\">\n    <path d=\"M 409.017614 294.118125 \nL 409.017614 22.318125 \n\" style=\"fill:none;stroke:#000000;stroke-linecap:square;stroke-linejoin:miter;stroke-width:0.8;\"/>\n   </g>\n   <g id=\"patch_9\">\n    <path d=\"M 713.38125 294.118125 \nL 713.38125 22.318125 \n\" style=\"fill:none;stroke:#000000;stroke-linecap:square;stroke-linejoin:miter;stroke-width:0.8;\"/>\n   </g>\n   <g id=\"patch_10\">\n    <path d=\"M 409.017614 294.118125 \nL 713.38125 294.118125 \n\" style=\"fill:none;stroke:#000000;stroke-linecap:square;stroke-linejoin:miter;stroke-width:0.8;\"/>\n   </g>\n   <g id=\"patch_11\">\n    <path d=\"M 409.017614 22.318125 \nL 713.38125 22.318125 \n\" style=\"fill:none;stroke:#000000;stroke-linecap:square;stroke-linejoin:miter;stroke-width:0.8;\"/>\n   </g>\n   <g id=\"text_31\">\n    <!-- Precision Recall Curve -->\n    <g transform=\"translate(495.014744 16.318125)scale(0.12 -0.12)\">\n     <use xlink:href=\"#DejaVuSans-80\"/>\n     <use x=\"58.552734\" xlink:href=\"#DejaVuSans-114\"/>\n     <use x=\"97.416016\" xlink:href=\"#DejaVuSans-101\"/>\n     <use x=\"158.939453\" xlink:href=\"#DejaVuSans-99\"/>\n     <use x=\"213.919922\" xlink:href=\"#DejaVuSans-105\"/>\n     <use x=\"241.703125\" xlink:href=\"#DejaVuSans-115\"/>\n     <use x=\"293.802734\" xlink:href=\"#DejaVuSans-105\"/>\n     <use x=\"321.585938\" xlink:href=\"#DejaVuSans-111\"/>\n     <use x=\"382.767578\" xlink:href=\"#DejaVuSans-110\"/>\n     <use x=\"446.146484\" xlink:href=\"#DejaVuSans-32\"/>\n     <use x=\"477.933594\" xlink:href=\"#DejaVuSans-82\"/>\n     <use x=\"542.916016\" xlink:href=\"#DejaVuSans-101\"/>\n     <use x=\"604.439453\" xlink:href=\"#DejaVuSans-99\"/>\n     <use x=\"659.419922\" xlink:href=\"#DejaVuSans-97\"/>\n     <use x=\"720.699219\" xlink:href=\"#DejaVuSans-108\"/>\n     <use x=\"748.482422\" xlink:href=\"#DejaVuSans-108\"/>\n     <use x=\"776.265625\" xlink:href=\"#DejaVuSans-32\"/>\n     <use x=\"808.052734\" xlink:href=\"#DejaVuSans-67\"/>\n     <use x=\"877.876953\" xlink:href=\"#DejaVuSans-117\"/>\n     <use x=\"941.255859\" xlink:href=\"#DejaVuSans-114\"/>\n     <use x=\"982.369141\" xlink:href=\"#DejaVuSans-118\"/>\n     <use x=\"1041.548828\" xlink:href=\"#DejaVuSans-101\"/>\n    </g>\n   </g>\n  </g>\n </g>\n <defs>\n  <clipPath id=\"pc77fa00f98\">\n   <rect height=\"271.8\" width=\"304.363636\" x=\"43.78125\" y=\"22.318125\"/>\n  </clipPath>\n  <clipPath id=\"p60f2c10fbb\">\n   <rect height=\"271.8\" width=\"304.363636\" x=\"409.017614\" y=\"22.318125\"/>\n  </clipPath>\n </defs>\n</svg>\n",
      "image/png": "[encoded data removed]"
     },
     "metadata": {
      "needs_background": "light"
     }
    }
   ],
   "source": [
    "fig, (ax, ax2) = plt.subplots(ncols = 2, figsize = (12, 5))\n",
    "#fig.suptitle(y_Var)\n",
    "\n",
    "for _, row in results.iterrows():\n",
    "    \n",
    "    ax.plot(row[\"Pat_FPR_curve\"], row[\"Pat_TPR_curve\"])\n",
    "    \n",
    "ax.plot([0,1],[0,1], c = \"black\", linestyle = '--')\n",
    "ax.set_xlabel('False Positive Rate')\n",
    "ax.set_ylabel('True Positive Rate')\n",
    "ax.set_title('ROC Curve')\n",
    "\n",
    "ax.text(0.65, 0.2, \"AUC:{:.2f} +/- {:.2f}\".format(results[\"Pat_AUC\"].mean(), results[\"Pat_AUC\"].std()))\n",
    "\n",
    "for _, row in results.iterrows():\n",
    "    \n",
    "    ax2.plot(row[\"Pat_rec_curve\"], row[\"Pat_prec_curve\"])\n",
    "    \n",
    "ax2.set_xlabel('Recall')\n",
    "ax2.set_ylabel('Precision')\n",
    "ax2.set_title('Precision Recall Curve');\n",
    "\n",
    "fig.savefig(os.path.join(file_place, \"pat_ROC_scores.png\"), bbox_inches = 'tight')"
   ]
  },
  {
   "cell_type": "code",
   "execution_count": 41,
   "metadata": {},
   "outputs": [
    {
     "output_type": "display_data",
     "data": {
      "text/plain": "<Figure size 576x216 with 1 Axes>",
      "image/svg+xml": "<?xml version=\"1.0\" encoding=\"utf-8\" standalone=\"no\"?>\n<!DOCTYPE svg PUBLIC \"-//W3C//DTD SVG 1.1//EN\"\n  \"http://www.w3.org/Graphics/SVG/1.1/DTD/svg11.dtd\">\n<!-- Created with matplotlib (https://matplotlib.org/) -->\n<svg height=\"194.43625pt\" version=\"1.1\" viewBox=\"0 0 497.38125 194.43625\" width=\"497.38125pt\" xmlns=\"http://www.w3.org/2000/svg\" xmlns:xlink=\"http://www.w3.org/1999/xlink\">\n <defs>\n  <style type=\"text/css\">\n*{stroke-linecap:butt;stroke-linejoin:round;}\n  </style>\n </defs>\n <g id=\"figure_1\">\n  <g id=\"patch_1\">\n   <path d=\"M 0 194.43625 \nL 497.38125 194.43625 \nL 497.38125 0 \nL 0 0 \nz\n\" style=\"fill:none;\"/>\n  </g>\n  <g id=\"axes_1\">\n   <g id=\"patch_2\">\n    <path d=\"M 43.78125 170.28 \nL 490.18125 170.28 \nL 490.18125 7.2 \nL 43.78125 7.2 \nz\n\" style=\"fill:#ffffff;\"/>\n   </g>\n   <g id=\"matplotlib.axis_1\">\n    <g id=\"xtick_1\">\n     <g id=\"line2d_1\">\n      <defs>\n       <path d=\"M 0 0 \nL 0 3.5 \n\" id=\"mf0e9a86e3d\" style=\"stroke:#000000;stroke-width:0.8;\"/>\n      </defs>\n      <g>\n       <use style=\"stroke:#000000;stroke-width:0.8;\" x=\"80.98125\" xlink:href=\"#mf0e9a86e3d\" y=\"170.28\"/>\n      </g>\n     </g>\n     <g id=\"text_1\">\n      <!-- Pat_AUC -->\n      <defs>\n       <path d=\"M 19.671875 64.796875 \nL 19.671875 37.40625 \nL 32.078125 37.40625 \nQ 38.96875 37.40625 42.71875 40.96875 \nQ 46.484375 44.53125 46.484375 51.125 \nQ 46.484375 57.671875 42.71875 61.234375 \nQ 38.96875 64.796875 32.078125 64.796875 \nz\nM 9.8125 72.90625 \nL 32.078125 72.90625 \nQ 44.34375 72.90625 50.609375 67.359375 \nQ 56.890625 61.8125 56.890625 51.125 \nQ 56.890625 40.328125 50.609375 34.8125 \nQ 44.34375 29.296875 32.078125 29.296875 \nL 19.671875 29.296875 \nL 19.671875 0 \nL 9.8125 0 \nz\n\" id=\"DejaVuSans-80\"/>\n       <path d=\"M 34.28125 27.484375 \nQ 23.390625 27.484375 19.1875 25 \nQ 14.984375 22.515625 14.984375 16.5 \nQ 14.984375 11.71875 18.140625 8.90625 \nQ 21.296875 6.109375 26.703125 6.109375 \nQ 34.1875 6.109375 38.703125 11.40625 \nQ 43.21875 16.703125 43.21875 25.484375 \nL 43.21875 27.484375 \nz\nM 52.203125 31.203125 \nL 52.203125 0 \nL 43.21875 0 \nL 43.21875 8.296875 \nQ 40.140625 3.328125 35.546875 0.953125 \nQ 30.953125 -1.421875 24.3125 -1.421875 \nQ 15.921875 -1.421875 10.953125 3.296875 \nQ 6 8.015625 6 15.921875 \nQ 6 25.140625 12.171875 29.828125 \nQ 18.359375 34.515625 30.609375 34.515625 \nL 43.21875 34.515625 \nL 43.21875 35.40625 \nQ 43.21875 41.609375 39.140625 45 \nQ 35.0625 48.390625 27.6875 48.390625 \nQ 23 48.390625 18.546875 47.265625 \nQ 14.109375 46.140625 10.015625 43.890625 \nL 10.015625 52.203125 \nQ 14.9375 54.109375 19.578125 55.046875 \nQ 24.21875 56 28.609375 56 \nQ 40.484375 56 46.34375 49.84375 \nQ 52.203125 43.703125 52.203125 31.203125 \nz\n\" id=\"DejaVuSans-97\"/>\n       <path d=\"M 18.3125 70.21875 \nL 18.3125 54.6875 \nL 36.8125 54.6875 \nL 36.8125 47.703125 \nL 18.3125 47.703125 \nL 18.3125 18.015625 \nQ 18.3125 11.328125 20.140625 9.421875 \nQ 21.96875 7.515625 27.59375 7.515625 \nL 36.8125 7.515625 \nL 36.8125 0 \nL 27.59375 0 \nQ 17.1875 0 13.234375 3.875 \nQ 9.28125 7.765625 9.28125 18.015625 \nL 9.28125 47.703125 \nL 2.6875 47.703125 \nL 2.6875 54.6875 \nL 9.28125 54.6875 \nL 9.28125 70.21875 \nz\n\" id=\"DejaVuSans-116\"/>\n       <path d=\"M 50.984375 -16.609375 \nL 50.984375 -23.578125 \nL -0.984375 -23.578125 \nL -0.984375 -16.609375 \nz\n\" id=\"DejaVuSans-95\"/>\n       <path d=\"M 34.1875 63.1875 \nL 20.796875 26.90625 \nL 47.609375 26.90625 \nz\nM 28.609375 72.90625 \nL 39.796875 72.90625 \nL 67.578125 0 \nL 57.328125 0 \nL 50.6875 18.703125 \nL 17.828125 18.703125 \nL 11.1875 0 \nL 0.78125 0 \nz\n\" id=\"DejaVuSans-65\"/>\n       <path d=\"M 8.6875 72.90625 \nL 18.609375 72.90625 \nL 18.609375 28.609375 \nQ 18.609375 16.890625 22.84375 11.734375 \nQ 27.09375 6.59375 36.625 6.59375 \nQ 46.09375 6.59375 50.34375 11.734375 \nQ 54.59375 16.890625 54.59375 28.609375 \nL 54.59375 72.90625 \nL 64.5 72.90625 \nL 64.5 27.390625 \nQ 64.5 13.140625 57.4375 5.859375 \nQ 50.390625 -1.421875 36.625 -1.421875 \nQ 22.796875 -1.421875 15.734375 5.859375 \nQ 8.6875 13.140625 8.6875 27.390625 \nz\n\" id=\"DejaVuSans-85\"/>\n       <path d=\"M 64.40625 67.28125 \nL 64.40625 56.890625 \nQ 59.421875 61.53125 53.78125 63.8125 \nQ 48.140625 66.109375 41.796875 66.109375 \nQ 29.296875 66.109375 22.65625 58.46875 \nQ 16.015625 50.828125 16.015625 36.375 \nQ 16.015625 21.96875 22.65625 14.328125 \nQ 29.296875 6.6875 41.796875 6.6875 \nQ 48.140625 6.6875 53.78125 8.984375 \nQ 59.421875 11.28125 64.40625 15.921875 \nL 64.40625 5.609375 \nQ 59.234375 2.09375 53.4375 0.328125 \nQ 47.65625 -1.421875 41.21875 -1.421875 \nQ 24.65625 -1.421875 15.125 8.703125 \nQ 5.609375 18.84375 5.609375 36.375 \nQ 5.609375 53.953125 15.125 64.078125 \nQ 24.65625 74.21875 41.21875 74.21875 \nQ 47.75 74.21875 53.53125 72.484375 \nQ 59.328125 70.75 64.40625 67.28125 \nz\n\" id=\"DejaVuSans-67\"/>\n      </defs>\n      <g transform=\"translate(60.096094 184.701875)scale(0.1 -0.1)\">\n       <use xlink:href=\"#DejaVuSans-80\"/>\n       <use x=\"55.802734\" xlink:href=\"#DejaVuSans-97\"/>\n       <use x=\"117.082031\" xlink:href=\"#DejaVuSans-116\"/>\n       <use x=\"156.291016\" xlink:href=\"#DejaVuSans-95\"/>\n       <use x=\"206.291016\" xlink:href=\"#DejaVuSans-65\"/>\n       <use x=\"274.699219\" xlink:href=\"#DejaVuSans-85\"/>\n       <use x=\"347.892578\" xlink:href=\"#DejaVuSans-67\"/>\n      </g>\n     </g>\n    </g>\n    <g id=\"xtick_2\">\n     <g id=\"line2d_2\">\n      <g>\n       <use style=\"stroke:#000000;stroke-width:0.8;\" x=\"155.38125\" xlink:href=\"#mf0e9a86e3d\" y=\"170.28\"/>\n      </g>\n     </g>\n     <g id=\"text_2\">\n      <!-- Pat_Specificity -->\n      <defs>\n       <path d=\"M 53.515625 70.515625 \nL 53.515625 60.890625 \nQ 47.90625 63.578125 42.921875 64.890625 \nQ 37.9375 66.21875 33.296875 66.21875 \nQ 25.25 66.21875 20.875 63.09375 \nQ 16.5 59.96875 16.5 54.203125 \nQ 16.5 49.359375 19.40625 46.890625 \nQ 22.3125 44.4375 30.421875 42.921875 \nL 36.375 41.703125 \nQ 47.40625 39.59375 52.65625 34.296875 \nQ 57.90625 29 57.90625 20.125 \nQ 57.90625 9.515625 50.796875 4.046875 \nQ 43.703125 -1.421875 29.984375 -1.421875 \nQ 24.8125 -1.421875 18.96875 -0.25 \nQ 13.140625 0.921875 6.890625 3.21875 \nL 6.890625 13.375 \nQ 12.890625 10.015625 18.65625 8.296875 \nQ 24.421875 6.59375 29.984375 6.59375 \nQ 38.421875 6.59375 43.015625 9.90625 \nQ 47.609375 13.234375 47.609375 19.390625 \nQ 47.609375 24.75 44.3125 27.78125 \nQ 41.015625 30.8125 33.5 32.328125 \nL 27.484375 33.5 \nQ 16.453125 35.6875 11.515625 40.375 \nQ 6.59375 45.0625 6.59375 53.421875 \nQ 6.59375 63.09375 13.40625 68.65625 \nQ 20.21875 74.21875 32.171875 74.21875 \nQ 37.3125 74.21875 42.625 73.28125 \nQ 47.953125 72.359375 53.515625 70.515625 \nz\n\" id=\"DejaVuSans-83\"/>\n       <path d=\"M 18.109375 8.203125 \nL 18.109375 -20.796875 \nL 9.078125 -20.796875 \nL 9.078125 54.6875 \nL 18.109375 54.6875 \nL 18.109375 46.390625 \nQ 20.953125 51.265625 25.265625 53.625 \nQ 29.59375 56 35.59375 56 \nQ 45.5625 56 51.78125 48.09375 \nQ 58.015625 40.1875 58.015625 27.296875 \nQ 58.015625 14.40625 51.78125 6.484375 \nQ 45.5625 -1.421875 35.59375 -1.421875 \nQ 29.59375 -1.421875 25.265625 0.953125 \nQ 20.953125 3.328125 18.109375 8.203125 \nz\nM 48.6875 27.296875 \nQ 48.6875 37.203125 44.609375 42.84375 \nQ 40.53125 48.484375 33.40625 48.484375 \nQ 26.265625 48.484375 22.1875 42.84375 \nQ 18.109375 37.203125 18.109375 27.296875 \nQ 18.109375 17.390625 22.1875 11.75 \nQ 26.265625 6.109375 33.40625 6.109375 \nQ 40.53125 6.109375 44.609375 11.75 \nQ 48.6875 17.390625 48.6875 27.296875 \nz\n\" id=\"DejaVuSans-112\"/>\n       <path d=\"M 56.203125 29.59375 \nL 56.203125 25.203125 \nL 14.890625 25.203125 \nQ 15.484375 15.921875 20.484375 11.0625 \nQ 25.484375 6.203125 34.421875 6.203125 \nQ 39.59375 6.203125 44.453125 7.46875 \nQ 49.3125 8.734375 54.109375 11.28125 \nL 54.109375 2.78125 \nQ 49.265625 0.734375 44.1875 -0.34375 \nQ 39.109375 -1.421875 33.890625 -1.421875 \nQ 20.796875 -1.421875 13.15625 6.1875 \nQ 5.515625 13.8125 5.515625 26.8125 \nQ 5.515625 40.234375 12.765625 48.109375 \nQ 20.015625 56 32.328125 56 \nQ 43.359375 56 49.78125 48.890625 \nQ 56.203125 41.796875 56.203125 29.59375 \nz\nM 47.21875 32.234375 \nQ 47.125 39.59375 43.09375 43.984375 \nQ 39.0625 48.390625 32.421875 48.390625 \nQ 24.90625 48.390625 20.390625 44.140625 \nQ 15.875 39.890625 15.1875 32.171875 \nz\n\" id=\"DejaVuSans-101\"/>\n       <path d=\"M 48.78125 52.59375 \nL 48.78125 44.1875 \nQ 44.96875 46.296875 41.140625 47.34375 \nQ 37.3125 48.390625 33.40625 48.390625 \nQ 24.65625 48.390625 19.8125 42.84375 \nQ 14.984375 37.3125 14.984375 27.296875 \nQ 14.984375 17.28125 19.8125 11.734375 \nQ 24.65625 6.203125 33.40625 6.203125 \nQ 37.3125 6.203125 41.140625 7.25 \nQ 44.96875 8.296875 48.78125 10.40625 \nL 48.78125 2.09375 \nQ 45.015625 0.34375 40.984375 -0.53125 \nQ 36.96875 -1.421875 32.421875 -1.421875 \nQ 20.0625 -1.421875 12.78125 6.34375 \nQ 5.515625 14.109375 5.515625 27.296875 \nQ 5.515625 40.671875 12.859375 48.328125 \nQ 20.21875 56 33.015625 56 \nQ 37.15625 56 41.109375 55.140625 \nQ 45.0625 54.296875 48.78125 52.59375 \nz\n\" id=\"DejaVuSans-99\"/>\n       <path d=\"M 9.421875 54.6875 \nL 18.40625 54.6875 \nL 18.40625 0 \nL 9.421875 0 \nz\nM 9.421875 75.984375 \nL 18.40625 75.984375 \nL 18.40625 64.59375 \nL 9.421875 64.59375 \nz\n\" id=\"DejaVuSans-105\"/>\n       <path d=\"M 37.109375 75.984375 \nL 37.109375 68.5 \nL 28.515625 68.5 \nQ 23.6875 68.5 21.796875 66.546875 \nQ 19.921875 64.59375 19.921875 59.515625 \nL 19.921875 54.6875 \nL 34.71875 54.6875 \nL 34.71875 47.703125 \nL 19.921875 47.703125 \nL 19.921875 0 \nL 10.890625 0 \nL 10.890625 47.703125 \nL 2.296875 47.703125 \nL 2.296875 54.6875 \nL 10.890625 54.6875 \nL 10.890625 58.5 \nQ 10.890625 67.625 15.140625 71.796875 \nQ 19.390625 75.984375 28.609375 75.984375 \nz\n\" id=\"DejaVuSans-102\"/>\n       <path d=\"M 32.171875 -5.078125 \nQ 28.375 -14.84375 24.75 -17.8125 \nQ 21.140625 -20.796875 15.09375 -20.796875 \nL 7.90625 -20.796875 \nL 7.90625 -13.28125 \nL 13.1875 -13.28125 \nQ 16.890625 -13.28125 18.9375 -11.515625 \nQ 21 -9.765625 23.484375 -3.21875 \nL 25.09375 0.875 \nL 2.984375 54.6875 \nL 12.5 54.6875 \nL 29.59375 11.921875 \nL 46.6875 54.6875 \nL 56.203125 54.6875 \nz\n\" id=\"DejaVuSans-121\"/>\n      </defs>\n      <g transform=\"translate(119.296875 184.878438)scale(0.1 -0.1)\">\n       <use xlink:href=\"#DejaVuSans-80\"/>\n       <use x=\"55.802734\" xlink:href=\"#DejaVuSans-97\"/>\n       <use x=\"117.082031\" xlink:href=\"#DejaVuSans-116\"/>\n       <use x=\"156.291016\" xlink:href=\"#DejaVuSans-95\"/>\n       <use x=\"206.291016\" xlink:href=\"#DejaVuSans-83\"/>\n       <use x=\"269.767578\" xlink:href=\"#DejaVuSans-112\"/>\n       <use x=\"333.244141\" xlink:href=\"#DejaVuSans-101\"/>\n       <use x=\"394.767578\" xlink:href=\"#DejaVuSans-99\"/>\n       <use x=\"449.748047\" xlink:href=\"#DejaVuSans-105\"/>\n       <use x=\"477.53125\" xlink:href=\"#DejaVuSans-102\"/>\n       <use x=\"512.736328\" xlink:href=\"#DejaVuSans-105\"/>\n       <use x=\"540.519531\" xlink:href=\"#DejaVuSans-99\"/>\n       <use x=\"595.5\" xlink:href=\"#DejaVuSans-105\"/>\n       <use x=\"623.283203\" xlink:href=\"#DejaVuSans-116\"/>\n       <use x=\"662.492188\" xlink:href=\"#DejaVuSans-121\"/>\n      </g>\n     </g>\n    </g>\n    <g id=\"xtick_3\">\n     <g id=\"line2d_3\">\n      <g>\n       <use style=\"stroke:#000000;stroke-width:0.8;\" x=\"229.78125\" xlink:href=\"#mf0e9a86e3d\" y=\"170.28\"/>\n      </g>\n     </g>\n     <g id=\"text_3\">\n      <!-- Pat_Sensitivity -->\n      <defs>\n       <path d=\"M 54.890625 33.015625 \nL 54.890625 0 \nL 45.90625 0 \nL 45.90625 32.71875 \nQ 45.90625 40.484375 42.875 44.328125 \nQ 39.84375 48.1875 33.796875 48.1875 \nQ 26.515625 48.1875 22.3125 43.546875 \nQ 18.109375 38.921875 18.109375 30.90625 \nL 18.109375 0 \nL 9.078125 0 \nL 9.078125 54.6875 \nL 18.109375 54.6875 \nL 18.109375 46.1875 \nQ 21.34375 51.125 25.703125 53.5625 \nQ 30.078125 56 35.796875 56 \nQ 45.21875 56 50.046875 50.171875 \nQ 54.890625 44.34375 54.890625 33.015625 \nz\n\" id=\"DejaVuSans-110\"/>\n       <path d=\"M 44.28125 53.078125 \nL 44.28125 44.578125 \nQ 40.484375 46.53125 36.375 47.5 \nQ 32.28125 48.484375 27.875 48.484375 \nQ 21.1875 48.484375 17.84375 46.4375 \nQ 14.5 44.390625 14.5 40.28125 \nQ 14.5 37.15625 16.890625 35.375 \nQ 19.28125 33.59375 26.515625 31.984375 \nL 29.59375 31.296875 \nQ 39.15625 29.25 43.1875 25.515625 \nQ 47.21875 21.78125 47.21875 15.09375 \nQ 47.21875 7.46875 41.1875 3.015625 \nQ 35.15625 -1.421875 24.609375 -1.421875 \nQ 20.21875 -1.421875 15.453125 -0.5625 \nQ 10.6875 0.296875 5.421875 2 \nL 5.421875 11.28125 \nQ 10.40625 8.6875 15.234375 7.390625 \nQ 20.0625 6.109375 24.8125 6.109375 \nQ 31.15625 6.109375 34.5625 8.28125 \nQ 37.984375 10.453125 37.984375 14.40625 \nQ 37.984375 18.0625 35.515625 20.015625 \nQ 33.0625 21.96875 24.703125 23.78125 \nL 21.578125 24.515625 \nQ 13.234375 26.265625 9.515625 29.90625 \nQ 5.8125 33.546875 5.8125 39.890625 \nQ 5.8125 47.609375 11.28125 51.796875 \nQ 16.75 56 26.8125 56 \nQ 31.78125 56 36.171875 55.265625 \nQ 40.578125 54.546875 44.28125 53.078125 \nz\n\" id=\"DejaVuSans-115\"/>\n       <path d=\"M 2.984375 54.6875 \nL 12.5 54.6875 \nL 29.59375 8.796875 \nL 46.6875 54.6875 \nL 56.203125 54.6875 \nL 35.6875 0 \nL 23.484375 0 \nz\n\" id=\"DejaVuSans-118\"/>\n      </defs>\n      <g transform=\"translate(193.436719 184.878438)scale(0.1 -0.1)\">\n       <use xlink:href=\"#DejaVuSans-80\"/>\n       <use x=\"55.802734\" xlink:href=\"#DejaVuSans-97\"/>\n       <use x=\"117.082031\" xlink:href=\"#DejaVuSans-116\"/>\n       <use x=\"156.291016\" xlink:href=\"#DejaVuSans-95\"/>\n       <use x=\"206.291016\" xlink:href=\"#DejaVuSans-83\"/>\n       <use x=\"269.767578\" xlink:href=\"#DejaVuSans-101\"/>\n       <use x=\"331.291016\" xlink:href=\"#DejaVuSans-110\"/>\n       <use x=\"394.669922\" xlink:href=\"#DejaVuSans-115\"/>\n       <use x=\"446.769531\" xlink:href=\"#DejaVuSans-105\"/>\n       <use x=\"474.552734\" xlink:href=\"#DejaVuSans-116\"/>\n       <use x=\"513.761719\" xlink:href=\"#DejaVuSans-105\"/>\n       <use x=\"541.544922\" xlink:href=\"#DejaVuSans-118\"/>\n       <use x=\"600.724609\" xlink:href=\"#DejaVuSans-105\"/>\n       <use x=\"628.507812\" xlink:href=\"#DejaVuSans-116\"/>\n       <use x=\"667.716797\" xlink:href=\"#DejaVuSans-121\"/>\n      </g>\n     </g>\n    </g>\n    <g id=\"xtick_4\">\n     <g id=\"line2d_4\">\n      <g>\n       <use style=\"stroke:#000000;stroke-width:0.8;\" x=\"304.18125\" xlink:href=\"#mf0e9a86e3d\" y=\"170.28\"/>\n      </g>\n     </g>\n     <g id=\"text_4\">\n      <!-- Pat_Precision -->\n      <defs>\n       <path d=\"M 41.109375 46.296875 \nQ 39.59375 47.171875 37.8125 47.578125 \nQ 36.03125 48 33.890625 48 \nQ 26.265625 48 22.1875 43.046875 \nQ 18.109375 38.09375 18.109375 28.8125 \nL 18.109375 0 \nL 9.078125 0 \nL 9.078125 54.6875 \nL 18.109375 54.6875 \nL 18.109375 46.1875 \nQ 20.953125 51.171875 25.484375 53.578125 \nQ 30.03125 56 36.53125 56 \nQ 37.453125 56 38.578125 55.875 \nQ 39.703125 55.765625 41.0625 55.515625 \nz\n\" id=\"DejaVuSans-114\"/>\n       <path d=\"M 30.609375 48.390625 \nQ 23.390625 48.390625 19.1875 42.75 \nQ 14.984375 37.109375 14.984375 27.296875 \nQ 14.984375 17.484375 19.15625 11.84375 \nQ 23.34375 6.203125 30.609375 6.203125 \nQ 37.796875 6.203125 41.984375 11.859375 \nQ 46.1875 17.53125 46.1875 27.296875 \nQ 46.1875 37.015625 41.984375 42.703125 \nQ 37.796875 48.390625 30.609375 48.390625 \nz\nM 30.609375 56 \nQ 42.328125 56 49.015625 48.375 \nQ 55.71875 40.765625 55.71875 27.296875 \nQ 55.71875 13.875 49.015625 6.21875 \nQ 42.328125 -1.421875 30.609375 -1.421875 \nQ 18.84375 -1.421875 12.171875 6.21875 \nQ 5.515625 13.875 5.515625 27.296875 \nQ 5.515625 40.765625 12.171875 48.375 \nQ 18.84375 56 30.609375 56 \nz\n\" id=\"DejaVuSans-111\"/>\n      </defs>\n      <g transform=\"translate(271.560156 184.878438)scale(0.1 -0.1)\">\n       <use xlink:href=\"#DejaVuSans-80\"/>\n       <use x=\"55.802734\" xlink:href=\"#DejaVuSans-97\"/>\n       <use x=\"117.082031\" xlink:href=\"#DejaVuSans-116\"/>\n       <use x=\"156.291016\" xlink:href=\"#DejaVuSans-95\"/>\n       <use x=\"206.291016\" xlink:href=\"#DejaVuSans-80\"/>\n       <use x=\"264.84375\" xlink:href=\"#DejaVuSans-114\"/>\n       <use x=\"303.707031\" xlink:href=\"#DejaVuSans-101\"/>\n       <use x=\"365.230469\" xlink:href=\"#DejaVuSans-99\"/>\n       <use x=\"420.210938\" xlink:href=\"#DejaVuSans-105\"/>\n       <use x=\"447.994141\" xlink:href=\"#DejaVuSans-115\"/>\n       <use x=\"500.09375\" xlink:href=\"#DejaVuSans-105\"/>\n       <use x=\"527.876953\" xlink:href=\"#DejaVuSans-111\"/>\n       <use x=\"589.058594\" xlink:href=\"#DejaVuSans-110\"/>\n      </g>\n     </g>\n    </g>\n    <g id=\"xtick_5\">\n     <g id=\"line2d_5\">\n      <g>\n       <use style=\"stroke:#000000;stroke-width:0.8;\" x=\"378.58125\" xlink:href=\"#mf0e9a86e3d\" y=\"170.28\"/>\n      </g>\n     </g>\n     <g id=\"text_5\">\n      <!-- Pat_Recall -->\n      <defs>\n       <path d=\"M 44.390625 34.1875 \nQ 47.5625 33.109375 50.5625 29.59375 \nQ 53.5625 26.078125 56.59375 19.921875 \nL 66.609375 0 \nL 56 0 \nL 46.6875 18.703125 \nQ 43.0625 26.03125 39.671875 28.421875 \nQ 36.28125 30.8125 30.421875 30.8125 \nL 19.671875 30.8125 \nL 19.671875 0 \nL 9.8125 0 \nL 9.8125 72.90625 \nL 32.078125 72.90625 \nQ 44.578125 72.90625 50.734375 67.671875 \nQ 56.890625 62.453125 56.890625 51.90625 \nQ 56.890625 45.015625 53.6875 40.46875 \nQ 50.484375 35.9375 44.390625 34.1875 \nz\nM 19.671875 64.796875 \nL 19.671875 38.921875 \nL 32.078125 38.921875 \nQ 39.203125 38.921875 42.84375 42.21875 \nQ 46.484375 45.515625 46.484375 51.90625 \nQ 46.484375 58.296875 42.84375 61.546875 \nQ 39.203125 64.796875 32.078125 64.796875 \nz\n\" id=\"DejaVuSans-82\"/>\n       <path d=\"M 9.421875 75.984375 \nL 18.40625 75.984375 \nL 18.40625 0 \nL 9.421875 0 \nz\n\" id=\"DejaVuSans-108\"/>\n      </defs>\n      <g transform=\"translate(353.35 184.878438)scale(0.1 -0.1)\">\n       <use xlink:href=\"#DejaVuSans-80\"/>\n       <use x=\"55.802734\" xlink:href=\"#DejaVuSans-97\"/>\n       <use x=\"117.082031\" xlink:href=\"#DejaVuSans-116\"/>\n       <use x=\"156.291016\" xlink:href=\"#DejaVuSans-95\"/>\n       <use x=\"206.291016\" xlink:href=\"#DejaVuSans-82\"/>\n       <use x=\"271.273438\" xlink:href=\"#DejaVuSans-101\"/>\n       <use x=\"332.796875\" xlink:href=\"#DejaVuSans-99\"/>\n       <use x=\"387.777344\" xlink:href=\"#DejaVuSans-97\"/>\n       <use x=\"449.056641\" xlink:href=\"#DejaVuSans-108\"/>\n       <use x=\"476.839844\" xlink:href=\"#DejaVuSans-108\"/>\n      </g>\n     </g>\n    </g>\n    <g id=\"xtick_6\">\n     <g id=\"line2d_6\">\n      <g>\n       <use style=\"stroke:#000000;stroke-width:0.8;\" x=\"452.98125\" xlink:href=\"#mf0e9a86e3d\" y=\"170.28\"/>\n      </g>\n     </g>\n     <g id=\"text_6\">\n      <!-- Pat_F1 -->\n      <defs>\n       <path d=\"M 9.8125 72.90625 \nL 51.703125 72.90625 \nL 51.703125 64.59375 \nL 19.671875 64.59375 \nL 19.671875 43.109375 \nL 48.578125 43.109375 \nL 48.578125 34.8125 \nL 19.671875 34.8125 \nL 19.671875 0 \nL 9.8125 0 \nz\n\" id=\"DejaVuSans-70\"/>\n       <path d=\"M 12.40625 8.296875 \nL 28.515625 8.296875 \nL 28.515625 63.921875 \nL 10.984375 60.40625 \nL 10.984375 69.390625 \nL 28.421875 72.90625 \nL 38.28125 72.90625 \nL 38.28125 8.296875 \nL 54.390625 8.296875 \nL 54.390625 0 \nL 12.40625 0 \nz\n\" id=\"DejaVuSans-49\"/>\n      </defs>\n      <g transform=\"translate(436.610156 184.600313)scale(0.1 -0.1)\">\n       <use xlink:href=\"#DejaVuSans-80\"/>\n       <use x=\"55.802734\" xlink:href=\"#DejaVuSans-97\"/>\n       <use x=\"117.082031\" xlink:href=\"#DejaVuSans-116\"/>\n       <use x=\"156.291016\" xlink:href=\"#DejaVuSans-95\"/>\n       <use x=\"206.291016\" xlink:href=\"#DejaVuSans-70\"/>\n       <use x=\"263.810547\" xlink:href=\"#DejaVuSans-49\"/>\n      </g>\n     </g>\n    </g>\n   </g>\n   <g id=\"matplotlib.axis_2\">\n    <g id=\"ytick_1\">\n     <g id=\"line2d_7\">\n      <defs>\n       <path d=\"M 0 0 \nL -3.5 0 \n\" id=\"md52baac896\" style=\"stroke:#000000;stroke-width:0.8;\"/>\n      </defs>\n      <g>\n       <use style=\"stroke:#000000;stroke-width:0.8;\" x=\"43.78125\" xlink:href=\"#md52baac896\" y=\"170.28\"/>\n      </g>\n     </g>\n     <g id=\"text_7\">\n      <!-- 0.3 -->\n      <defs>\n       <path d=\"M 31.78125 66.40625 \nQ 24.171875 66.40625 20.328125 58.90625 \nQ 16.5 51.421875 16.5 36.375 \nQ 16.5 21.390625 20.328125 13.890625 \nQ 24.171875 6.390625 31.78125 6.390625 \nQ 39.453125 6.390625 43.28125 13.890625 \nQ 47.125 21.390625 47.125 36.375 \nQ 47.125 51.421875 43.28125 58.90625 \nQ 39.453125 66.40625 31.78125 66.40625 \nz\nM 31.78125 74.21875 \nQ 44.046875 74.21875 50.515625 64.515625 \nQ 56.984375 54.828125 56.984375 36.375 \nQ 56.984375 17.96875 50.515625 8.265625 \nQ 44.046875 -1.421875 31.78125 -1.421875 \nQ 19.53125 -1.421875 13.0625 8.265625 \nQ 6.59375 17.96875 6.59375 36.375 \nQ 6.59375 54.828125 13.0625 64.515625 \nQ 19.53125 74.21875 31.78125 74.21875 \nz\n\" id=\"DejaVuSans-48\"/>\n       <path d=\"M 10.6875 12.40625 \nL 21 12.40625 \nL 21 0 \nL 10.6875 0 \nz\n\" id=\"DejaVuSans-46\"/>\n       <path d=\"M 40.578125 39.3125 \nQ 47.65625 37.796875 51.625 33 \nQ 55.609375 28.21875 55.609375 21.1875 \nQ 55.609375 10.40625 48.1875 4.484375 \nQ 40.765625 -1.421875 27.09375 -1.421875 \nQ 22.515625 -1.421875 17.65625 -0.515625 \nQ 12.796875 0.390625 7.625 2.203125 \nL 7.625 11.71875 \nQ 11.71875 9.328125 16.59375 8.109375 \nQ 21.484375 6.890625 26.8125 6.890625 \nQ 36.078125 6.890625 40.9375 10.546875 \nQ 45.796875 14.203125 45.796875 21.1875 \nQ 45.796875 27.640625 41.28125 31.265625 \nQ 36.765625 34.90625 28.71875 34.90625 \nL 20.21875 34.90625 \nL 20.21875 43.015625 \nL 29.109375 43.015625 \nQ 36.375 43.015625 40.234375 45.921875 \nQ 44.09375 48.828125 44.09375 54.296875 \nQ 44.09375 59.90625 40.109375 62.90625 \nQ 36.140625 65.921875 28.71875 65.921875 \nQ 24.65625 65.921875 20.015625 65.03125 \nQ 15.375 64.15625 9.8125 62.3125 \nL 9.8125 71.09375 \nQ 15.4375 72.65625 20.34375 73.4375 \nQ 25.25 74.21875 29.59375 74.21875 \nQ 40.828125 74.21875 47.359375 69.109375 \nQ 53.90625 64.015625 53.90625 55.328125 \nQ 53.90625 49.265625 50.4375 45.09375 \nQ 46.96875 40.921875 40.578125 39.3125 \nz\n\" id=\"DejaVuSans-51\"/>\n      </defs>\n      <g transform=\"translate(20.878125 174.079219)scale(0.1 -0.1)\">\n       <use xlink:href=\"#DejaVuSans-48\"/>\n       <use x=\"63.623047\" xlink:href=\"#DejaVuSans-46\"/>\n       <use x=\"95.410156\" xlink:href=\"#DejaVuSans-51\"/>\n      </g>\n     </g>\n    </g>\n    <g id=\"ytick_2\">\n     <g id=\"line2d_8\">\n      <g>\n       <use style=\"stroke:#000000;stroke-width:0.8;\" x=\"43.78125\" xlink:href=\"#md52baac896\" y=\"148.041818\"/>\n      </g>\n     </g>\n     <g id=\"text_8\">\n      <!-- 0.4 -->\n      <defs>\n       <path d=\"M 37.796875 64.3125 \nL 12.890625 25.390625 \nL 37.796875 25.390625 \nz\nM 35.203125 72.90625 \nL 47.609375 72.90625 \nL 47.609375 25.390625 \nL 58.015625 25.390625 \nL 58.015625 17.1875 \nL 47.609375 17.1875 \nL 47.609375 0 \nL 37.796875 0 \nL 37.796875 17.1875 \nL 4.890625 17.1875 \nL 4.890625 26.703125 \nz\n\" id=\"DejaVuSans-52\"/>\n      </defs>\n      <g transform=\"translate(20.878125 151.841037)scale(0.1 -0.1)\">\n       <use xlink:href=\"#DejaVuSans-48\"/>\n       <use x=\"63.623047\" xlink:href=\"#DejaVuSans-46\"/>\n       <use x=\"95.410156\" xlink:href=\"#DejaVuSans-52\"/>\n      </g>\n     </g>\n    </g>\n    <g id=\"ytick_3\">\n     <g id=\"line2d_9\">\n      <g>\n       <use style=\"stroke:#000000;stroke-width:0.8;\" x=\"43.78125\" xlink:href=\"#md52baac896\" y=\"125.803636\"/>\n      </g>\n     </g>\n     <g id=\"text_9\">\n      <!-- 0.5 -->\n      <defs>\n       <path d=\"M 10.796875 72.90625 \nL 49.515625 72.90625 \nL 49.515625 64.59375 \nL 19.828125 64.59375 \nL 19.828125 46.734375 \nQ 21.96875 47.46875 24.109375 47.828125 \nQ 26.265625 48.1875 28.421875 48.1875 \nQ 40.625 48.1875 47.75 41.5 \nQ 54.890625 34.8125 54.890625 23.390625 \nQ 54.890625 11.625 47.5625 5.09375 \nQ 40.234375 -1.421875 26.90625 -1.421875 \nQ 22.3125 -1.421875 17.546875 -0.640625 \nQ 12.796875 0.140625 7.71875 1.703125 \nL 7.71875 11.625 \nQ 12.109375 9.234375 16.796875 8.0625 \nQ 21.484375 6.890625 26.703125 6.890625 \nQ 35.15625 6.890625 40.078125 11.328125 \nQ 45.015625 15.765625 45.015625 23.390625 \nQ 45.015625 31 40.078125 35.4375 \nQ 35.15625 39.890625 26.703125 39.890625 \nQ 22.75 39.890625 18.8125 39.015625 \nQ 14.890625 38.140625 10.796875 36.28125 \nz\n\" id=\"DejaVuSans-53\"/>\n      </defs>\n      <g transform=\"translate(20.878125 129.602855)scale(0.1 -0.1)\">\n       <use xlink:href=\"#DejaVuSans-48\"/>\n       <use x=\"63.623047\" xlink:href=\"#DejaVuSans-46\"/>\n       <use x=\"95.410156\" xlink:href=\"#DejaVuSans-53\"/>\n      </g>\n     </g>\n    </g>\n    <g id=\"ytick_4\">\n     <g id=\"line2d_10\">\n      <g>\n       <use style=\"stroke:#000000;stroke-width:0.8;\" x=\"43.78125\" xlink:href=\"#md52baac896\" y=\"103.565455\"/>\n      </g>\n     </g>\n     <g id=\"text_10\">\n      <!-- 0.6 -->\n      <defs>\n       <path d=\"M 33.015625 40.375 \nQ 26.375 40.375 22.484375 35.828125 \nQ 18.609375 31.296875 18.609375 23.390625 \nQ 18.609375 15.53125 22.484375 10.953125 \nQ 26.375 6.390625 33.015625 6.390625 \nQ 39.65625 6.390625 43.53125 10.953125 \nQ 47.40625 15.53125 47.40625 23.390625 \nQ 47.40625 31.296875 43.53125 35.828125 \nQ 39.65625 40.375 33.015625 40.375 \nz\nM 52.59375 71.296875 \nL 52.59375 62.3125 \nQ 48.875 64.0625 45.09375 64.984375 \nQ 41.3125 65.921875 37.59375 65.921875 \nQ 27.828125 65.921875 22.671875 59.328125 \nQ 17.53125 52.734375 16.796875 39.40625 \nQ 19.671875 43.65625 24.015625 45.921875 \nQ 28.375 48.1875 33.59375 48.1875 \nQ 44.578125 48.1875 50.953125 41.515625 \nQ 57.328125 34.859375 57.328125 23.390625 \nQ 57.328125 12.15625 50.6875 5.359375 \nQ 44.046875 -1.421875 33.015625 -1.421875 \nQ 20.359375 -1.421875 13.671875 8.265625 \nQ 6.984375 17.96875 6.984375 36.375 \nQ 6.984375 53.65625 15.1875 63.9375 \nQ 23.390625 74.21875 37.203125 74.21875 \nQ 40.921875 74.21875 44.703125 73.484375 \nQ 48.484375 72.75 52.59375 71.296875 \nz\n\" id=\"DejaVuSans-54\"/>\n      </defs>\n      <g transform=\"translate(20.878125 107.364673)scale(0.1 -0.1)\">\n       <use xlink:href=\"#DejaVuSans-48\"/>\n       <use x=\"63.623047\" xlink:href=\"#DejaVuSans-46\"/>\n       <use x=\"95.410156\" xlink:href=\"#DejaVuSans-54\"/>\n      </g>\n     </g>\n    </g>\n    <g id=\"ytick_5\">\n     <g id=\"line2d_11\">\n      <g>\n       <use style=\"stroke:#000000;stroke-width:0.8;\" x=\"43.78125\" xlink:href=\"#md52baac896\" y=\"81.327273\"/>\n      </g>\n     </g>\n     <g id=\"text_11\">\n      <!-- 0.7 -->\n      <defs>\n       <path d=\"M 8.203125 72.90625 \nL 55.078125 72.90625 \nL 55.078125 68.703125 \nL 28.609375 0 \nL 18.3125 0 \nL 43.21875 64.59375 \nL 8.203125 64.59375 \nz\n\" id=\"DejaVuSans-55\"/>\n      </defs>\n      <g transform=\"translate(20.878125 85.126491)scale(0.1 -0.1)\">\n       <use xlink:href=\"#DejaVuSans-48\"/>\n       <use x=\"63.623047\" xlink:href=\"#DejaVuSans-46\"/>\n       <use x=\"95.410156\" xlink:href=\"#DejaVuSans-55\"/>\n      </g>\n     </g>\n    </g>\n    <g id=\"ytick_6\">\n     <g id=\"line2d_12\">\n      <g>\n       <use style=\"stroke:#000000;stroke-width:0.8;\" x=\"43.78125\" xlink:href=\"#md52baac896\" y=\"59.089091\"/>\n      </g>\n     </g>\n     <g id=\"text_12\">\n      <!-- 0.8 -->\n      <defs>\n       <path d=\"M 31.78125 34.625 \nQ 24.75 34.625 20.71875 30.859375 \nQ 16.703125 27.09375 16.703125 20.515625 \nQ 16.703125 13.921875 20.71875 10.15625 \nQ 24.75 6.390625 31.78125 6.390625 \nQ 38.8125 6.390625 42.859375 10.171875 \nQ 46.921875 13.96875 46.921875 20.515625 \nQ 46.921875 27.09375 42.890625 30.859375 \nQ 38.875 34.625 31.78125 34.625 \nz\nM 21.921875 38.8125 \nQ 15.578125 40.375 12.03125 44.71875 \nQ 8.5 49.078125 8.5 55.328125 \nQ 8.5 64.0625 14.71875 69.140625 \nQ 20.953125 74.21875 31.78125 74.21875 \nQ 42.671875 74.21875 48.875 69.140625 \nQ 55.078125 64.0625 55.078125 55.328125 \nQ 55.078125 49.078125 51.53125 44.71875 \nQ 48 40.375 41.703125 38.8125 \nQ 48.828125 37.15625 52.796875 32.3125 \nQ 56.78125 27.484375 56.78125 20.515625 \nQ 56.78125 9.90625 50.3125 4.234375 \nQ 43.84375 -1.421875 31.78125 -1.421875 \nQ 19.734375 -1.421875 13.25 4.234375 \nQ 6.78125 9.90625 6.78125 20.515625 \nQ 6.78125 27.484375 10.78125 32.3125 \nQ 14.796875 37.15625 21.921875 38.8125 \nz\nM 18.3125 54.390625 \nQ 18.3125 48.734375 21.84375 45.5625 \nQ 25.390625 42.390625 31.78125 42.390625 \nQ 38.140625 42.390625 41.71875 45.5625 \nQ 45.3125 48.734375 45.3125 54.390625 \nQ 45.3125 60.0625 41.71875 63.234375 \nQ 38.140625 66.40625 31.78125 66.40625 \nQ 25.390625 66.40625 21.84375 63.234375 \nQ 18.3125 60.0625 18.3125 54.390625 \nz\n\" id=\"DejaVuSans-56\"/>\n      </defs>\n      <g transform=\"translate(20.878125 62.88831)scale(0.1 -0.1)\">\n       <use xlink:href=\"#DejaVuSans-48\"/>\n       <use x=\"63.623047\" xlink:href=\"#DejaVuSans-46\"/>\n       <use x=\"95.410156\" xlink:href=\"#DejaVuSans-56\"/>\n      </g>\n     </g>\n    </g>\n    <g id=\"ytick_7\">\n     <g id=\"line2d_13\">\n      <g>\n       <use style=\"stroke:#000000;stroke-width:0.8;\" x=\"43.78125\" xlink:href=\"#md52baac896\" y=\"36.850909\"/>\n      </g>\n     </g>\n     <g id=\"text_13\">\n      <!-- 0.9 -->\n      <defs>\n       <path d=\"M 10.984375 1.515625 \nL 10.984375 10.5 \nQ 14.703125 8.734375 18.5 7.8125 \nQ 22.3125 6.890625 25.984375 6.890625 \nQ 35.75 6.890625 40.890625 13.453125 \nQ 46.046875 20.015625 46.78125 33.40625 \nQ 43.953125 29.203125 39.59375 26.953125 \nQ 35.25 24.703125 29.984375 24.703125 \nQ 19.046875 24.703125 12.671875 31.3125 \nQ 6.296875 37.9375 6.296875 49.421875 \nQ 6.296875 60.640625 12.9375 67.421875 \nQ 19.578125 74.21875 30.609375 74.21875 \nQ 43.265625 74.21875 49.921875 64.515625 \nQ 56.59375 54.828125 56.59375 36.375 \nQ 56.59375 19.140625 48.40625 8.859375 \nQ 40.234375 -1.421875 26.421875 -1.421875 \nQ 22.703125 -1.421875 18.890625 -0.6875 \nQ 15.09375 0.046875 10.984375 1.515625 \nz\nM 30.609375 32.421875 \nQ 37.25 32.421875 41.125 36.953125 \nQ 45.015625 41.5 45.015625 49.421875 \nQ 45.015625 57.28125 41.125 61.84375 \nQ 37.25 66.40625 30.609375 66.40625 \nQ 23.96875 66.40625 20.09375 61.84375 \nQ 16.21875 57.28125 16.21875 49.421875 \nQ 16.21875 41.5 20.09375 36.953125 \nQ 23.96875 32.421875 30.609375 32.421875 \nz\n\" id=\"DejaVuSans-57\"/>\n      </defs>\n      <g transform=\"translate(20.878125 40.650128)scale(0.1 -0.1)\">\n       <use xlink:href=\"#DejaVuSans-48\"/>\n       <use x=\"63.623047\" xlink:href=\"#DejaVuSans-46\"/>\n       <use x=\"95.410156\" xlink:href=\"#DejaVuSans-57\"/>\n      </g>\n     </g>\n    </g>\n    <g id=\"ytick_8\">\n     <g id=\"line2d_14\">\n      <g>\n       <use style=\"stroke:#000000;stroke-width:0.8;\" x=\"43.78125\" xlink:href=\"#md52baac896\" y=\"14.612727\"/>\n      </g>\n     </g>\n     <g id=\"text_14\">\n      <!-- 1.0 -->\n      <g transform=\"translate(20.878125 18.411946)scale(0.1 -0.1)\">\n       <use xlink:href=\"#DejaVuSans-49\"/>\n       <use x=\"63.623047\" xlink:href=\"#DejaVuSans-46\"/>\n       <use x=\"95.410156\" xlink:href=\"#DejaVuSans-48\"/>\n      </g>\n     </g>\n    </g>\n    <g id=\"text_15\">\n     <!-- Score -->\n     <g transform=\"translate(14.798438 102.742344)rotate(-90)scale(0.1 -0.1)\">\n      <use xlink:href=\"#DejaVuSans-83\"/>\n      <use x=\"63.476562\" xlink:href=\"#DejaVuSans-99\"/>\n      <use x=\"118.457031\" xlink:href=\"#DejaVuSans-111\"/>\n      <use x=\"179.638672\" xlink:href=\"#DejaVuSans-114\"/>\n      <use x=\"218.501953\" xlink:href=\"#DejaVuSans-101\"/>\n     </g>\n    </g>\n   </g>\n   <g id=\"line2d_15\">\n    <path clip-path=\"url(#pe55c63a9ea)\" d=\"M 62.38125 103.565455 \nL 99.58125 103.565455 \nL 99.58125 70.208182 \nL 62.38125 70.208182 \nL 62.38125 103.565455 \n\" style=\"fill:none;stroke:#1f77b4;stroke-linecap:square;\"/>\n   </g>\n   <g id=\"line2d_16\">\n    <path clip-path=\"url(#pe55c63a9ea)\" d=\"M 80.98125 103.565455 \nL 80.98125 138.158182 \n\" style=\"fill:none;stroke:#1f77b4;stroke-linecap:square;\"/>\n   </g>\n   <g id=\"line2d_17\">\n    <path clip-path=\"url(#pe55c63a9ea)\" d=\"M 80.98125 70.208182 \nL 80.98125 70.208182 \n\" style=\"fill:none;stroke:#1f77b4;stroke-linecap:square;\"/>\n   </g>\n   <g id=\"line2d_18\">\n    <path clip-path=\"url(#pe55c63a9ea)\" d=\"M 71.68125 138.158182 \nL 90.28125 138.158182 \n\" style=\"fill:none;stroke:#000000;stroke-linecap:square;\"/>\n   </g>\n   <g id=\"line2d_19\">\n    <path clip-path=\"url(#pe55c63a9ea)\" d=\"M 71.68125 70.208182 \nL 90.28125 70.208182 \n\" style=\"fill:none;stroke:#000000;stroke-linecap:square;\"/>\n   </g>\n   <g id=\"line2d_20\">\n    <defs>\n     <path d=\"M 0 3 \nC 0.795609 3 1.55874 2.683901 2.12132 2.12132 \nC 2.683901 1.55874 3 0.795609 3 0 \nC 3 -0.795609 2.683901 -1.55874 2.12132 -2.12132 \nC 1.55874 -2.683901 0.795609 -3 0 -3 \nC -0.795609 -3 -1.55874 -2.683901 -2.12132 -2.12132 \nC -2.683901 -1.55874 -3 -0.795609 -3 0 \nC -3 0.795609 -2.683901 1.55874 -2.12132 2.12132 \nC -1.55874 2.683901 -0.795609 3 0 3 \nz\n\" id=\"md3d12b2ab4\" style=\"stroke:#000000;\"/>\n    </defs>\n    <g clip-path=\"url(#pe55c63a9ea)\">\n     <use style=\"fill-opacity:0;stroke:#000000;\" x=\"80.98125\" xlink:href=\"#md3d12b2ab4\" y=\"14.612727\"/>\n    </g>\n   </g>\n   <g id=\"line2d_21\">\n    <path clip-path=\"url(#pe55c63a9ea)\" d=\"M 136.78125 103.565455 \nL 173.98125 103.565455 \nL 173.98125 14.612727 \nL 136.78125 14.612727 \nL 136.78125 103.565455 \n\" style=\"fill:none;stroke:#1f77b4;stroke-linecap:square;\"/>\n   </g>\n   <g id=\"line2d_22\">\n    <path clip-path=\"url(#pe55c63a9ea)\" d=\"M 155.38125 103.565455 \nL 155.38125 162.867273 \n\" style=\"fill:none;stroke:#1f77b4;stroke-linecap:square;\"/>\n   </g>\n   <g id=\"line2d_23\">\n    <path clip-path=\"url(#pe55c63a9ea)\" d=\"M 155.38125 14.612727 \nL 155.38125 14.612727 \n\" style=\"fill:none;stroke:#1f77b4;stroke-linecap:square;\"/>\n   </g>\n   <g id=\"line2d_24\">\n    <path clip-path=\"url(#pe55c63a9ea)\" d=\"M 146.08125 162.867273 \nL 164.68125 162.867273 \n\" style=\"fill:none;stroke:#000000;stroke-linecap:square;\"/>\n   </g>\n   <g id=\"line2d_25\">\n    <path clip-path=\"url(#pe55c63a9ea)\" d=\"M 146.08125 14.612727 \nL 164.68125 14.612727 \n\" style=\"fill:none;stroke:#000000;stroke-linecap:square;\"/>\n   </g>\n   <g id=\"line2d_26\"/>\n   <g id=\"line2d_27\">\n    <path clip-path=\"url(#pe55c63a9ea)\" d=\"M 211.18125 125.803636 \nL 248.38125 125.803636 \nL 248.38125 14.612727 \nL 211.18125 14.612727 \nL 211.18125 125.803636 \n\" style=\"fill:none;stroke:#1f77b4;stroke-linecap:square;\"/>\n   </g>\n   <g id=\"line2d_28\">\n    <path clip-path=\"url(#pe55c63a9ea)\" d=\"M 229.78125 125.803636 \nL 229.78125 125.803636 \n\" style=\"fill:none;stroke:#1f77b4;stroke-linecap:square;\"/>\n   </g>\n   <g id=\"line2d_29\">\n    <path clip-path=\"url(#pe55c63a9ea)\" d=\"M 229.78125 14.612727 \nL 229.78125 14.612727 \n\" style=\"fill:none;stroke:#1f77b4;stroke-linecap:square;\"/>\n   </g>\n   <g id=\"line2d_30\">\n    <path clip-path=\"url(#pe55c63a9ea)\" d=\"M 220.48125 125.803636 \nL 239.08125 125.803636 \n\" style=\"fill:none;stroke:#000000;stroke-linecap:square;\"/>\n   </g>\n   <g id=\"line2d_31\">\n    <path clip-path=\"url(#pe55c63a9ea)\" d=\"M 220.48125 14.612727 \nL 239.08125 14.612727 \n\" style=\"fill:none;stroke:#000000;stroke-linecap:square;\"/>\n   </g>\n   <g id=\"line2d_32\"/>\n   <g id=\"line2d_33\">\n    <path clip-path=\"url(#pe55c63a9ea)\" d=\"M 285.58125 103.565455 \nL 322.78125 103.565455 \nL 322.78125 14.612727 \nL 285.58125 14.612727 \nL 285.58125 103.565455 \n\" style=\"fill:none;stroke:#1f77b4;stroke-linecap:square;\"/>\n   </g>\n   <g id=\"line2d_34\">\n    <path clip-path=\"url(#pe55c63a9ea)\" d=\"M 304.18125 103.565455 \nL 304.18125 162.867273 \n\" style=\"fill:none;stroke:#1f77b4;stroke-linecap:square;\"/>\n   </g>\n   <g id=\"line2d_35\">\n    <path clip-path=\"url(#pe55c63a9ea)\" d=\"M 304.18125 14.612727 \nL 304.18125 14.612727 \n\" style=\"fill:none;stroke:#1f77b4;stroke-linecap:square;\"/>\n   </g>\n   <g id=\"line2d_36\">\n    <path clip-path=\"url(#pe55c63a9ea)\" d=\"M 294.88125 162.867273 \nL 313.48125 162.867273 \n\" style=\"fill:none;stroke:#000000;stroke-linecap:square;\"/>\n   </g>\n   <g id=\"line2d_37\">\n    <path clip-path=\"url(#pe55c63a9ea)\" d=\"M 294.88125 14.612727 \nL 313.48125 14.612727 \n\" style=\"fill:none;stroke:#000000;stroke-linecap:square;\"/>\n   </g>\n   <g id=\"line2d_38\"/>\n   <g id=\"line2d_39\">\n    <path clip-path=\"url(#pe55c63a9ea)\" d=\"M 359.98125 125.803636 \nL 397.18125 125.803636 \nL 397.18125 14.612727 \nL 359.98125 14.612727 \nL 359.98125 125.803636 \n\" style=\"fill:none;stroke:#1f77b4;stroke-linecap:square;\"/>\n   </g>\n   <g id=\"line2d_40\">\n    <path clip-path=\"url(#pe55c63a9ea)\" d=\"M 378.58125 125.803636 \nL 378.58125 125.803636 \n\" style=\"fill:none;stroke:#1f77b4;stroke-linecap:square;\"/>\n   </g>\n   <g id=\"line2d_41\">\n    <path clip-path=\"url(#pe55c63a9ea)\" d=\"M 378.58125 14.612727 \nL 378.58125 14.612727 \n\" style=\"fill:none;stroke:#1f77b4;stroke-linecap:square;\"/>\n   </g>\n   <g id=\"line2d_42\">\n    <path clip-path=\"url(#pe55c63a9ea)\" d=\"M 369.28125 125.803636 \nL 387.88125 125.803636 \n\" style=\"fill:none;stroke:#000000;stroke-linecap:square;\"/>\n   </g>\n   <g id=\"line2d_43\">\n    <path clip-path=\"url(#pe55c63a9ea)\" d=\"M 369.28125 14.612727 \nL 387.88125 14.612727 \n\" style=\"fill:none;stroke:#000000;stroke-linecap:square;\"/>\n   </g>\n   <g id=\"line2d_44\"/>\n   <g id=\"line2d_45\">\n    <path clip-path=\"url(#pe55c63a9ea)\" d=\"M 434.38125 88.74 \nL 471.58125 88.74 \nL 471.58125 70.208182 \nL 434.38125 70.208182 \nL 434.38125 88.74 \n\" style=\"fill:none;stroke:#1f77b4;stroke-linecap:square;\"/>\n   </g>\n   <g id=\"line2d_46\">\n    <path clip-path=\"url(#pe55c63a9ea)\" d=\"M 452.98125 88.74 \nL 452.98125 88.74 \n\" style=\"fill:none;stroke:#1f77b4;stroke-linecap:square;\"/>\n   </g>\n   <g id=\"line2d_47\">\n    <path clip-path=\"url(#pe55c63a9ea)\" d=\"M 452.98125 70.208182 \nL 452.98125 70.208182 \n\" style=\"fill:none;stroke:#1f77b4;stroke-linecap:square;\"/>\n   </g>\n   <g id=\"line2d_48\">\n    <path clip-path=\"url(#pe55c63a9ea)\" d=\"M 443.68125 88.74 \nL 462.28125 88.74 \n\" style=\"fill:none;stroke:#000000;stroke-linecap:square;\"/>\n   </g>\n   <g id=\"line2d_49\">\n    <path clip-path=\"url(#pe55c63a9ea)\" d=\"M 443.68125 70.208182 \nL 462.28125 70.208182 \n\" style=\"fill:none;stroke:#000000;stroke-linecap:square;\"/>\n   </g>\n   <g id=\"line2d_50\">\n    <g clip-path=\"url(#pe55c63a9ea)\">\n     <use style=\"fill-opacity:0;stroke:#000000;\" x=\"452.98125\" xlink:href=\"#md3d12b2ab4\" y=\"125.803636\"/>\n     <use style=\"fill-opacity:0;stroke:#000000;\" x=\"452.98125\" xlink:href=\"#md3d12b2ab4\" y=\"14.612727\"/>\n    </g>\n   </g>\n   <g id=\"line2d_51\">\n    <path clip-path=\"url(#pe55c63a9ea)\" d=\"M 62.38125 98.005909 \nL 99.58125 98.005909 \n\" style=\"fill:none;stroke:#2ca02c;stroke-linecap:square;\"/>\n   </g>\n   <g id=\"line2d_52\">\n    <path clip-path=\"url(#pe55c63a9ea)\" d=\"M 136.78125 14.612727 \nL 173.98125 14.612727 \n\" style=\"fill:none;stroke:#2ca02c;stroke-linecap:square;\"/>\n   </g>\n   <g id=\"line2d_53\">\n    <path clip-path=\"url(#pe55c63a9ea)\" d=\"M 211.18125 14.612727 \nL 248.38125 14.612727 \n\" style=\"fill:none;stroke:#2ca02c;stroke-linecap:square;\"/>\n   </g>\n   <g id=\"line2d_54\">\n    <path clip-path=\"url(#pe55c63a9ea)\" d=\"M 285.58125 14.612727 \nL 322.78125 14.612727 \n\" style=\"fill:none;stroke:#2ca02c;stroke-linecap:square;\"/>\n   </g>\n   <g id=\"line2d_55\">\n    <path clip-path=\"url(#pe55c63a9ea)\" d=\"M 359.98125 14.612727 \nL 397.18125 14.612727 \n\" style=\"fill:none;stroke:#2ca02c;stroke-linecap:square;\"/>\n   </g>\n   <g id=\"line2d_56\">\n    <path clip-path=\"url(#pe55c63a9ea)\" d=\"M 434.38125 88.74 \nL 471.58125 88.74 \n\" style=\"fill:none;stroke:#2ca02c;stroke-linecap:square;\"/>\n   </g>\n   <g id=\"patch_3\">\n    <path d=\"M 43.78125 170.28 \nL 43.78125 7.2 \n\" style=\"fill:none;stroke:#000000;stroke-linecap:square;stroke-linejoin:miter;stroke-width:0.8;\"/>\n   </g>\n   <g id=\"patch_4\">\n    <path d=\"M 490.18125 170.28 \nL 490.18125 7.2 \n\" style=\"fill:none;stroke:#000000;stroke-linecap:square;stroke-linejoin:miter;stroke-width:0.8;\"/>\n   </g>\n   <g id=\"patch_5\">\n    <path d=\"M 43.78125 170.28 \nL 490.18125 170.28 \n\" style=\"fill:none;stroke:#000000;stroke-linecap:square;stroke-linejoin:miter;stroke-width:0.8;\"/>\n   </g>\n   <g id=\"patch_6\">\n    <path d=\"M 43.78125 7.2 \nL 490.18125 7.2 \n\" style=\"fill:none;stroke:#000000;stroke-linecap:square;stroke-linejoin:miter;stroke-width:0.8;\"/>\n   </g>\n  </g>\n </g>\n <defs>\n  <clipPath id=\"pe55c63a9ea\">\n   <rect height=\"163.08\" width=\"446.4\" x=\"43.78125\" y=\"7.2\"/>\n  </clipPath>\n </defs>\n</svg>\n",
      "image/png": "[encoded data removed]"
     },
     "metadata": {
      "needs_background": "light"
     }
    }
   ],
   "source": [
    "fig, ax = plt.subplots(ncols = 1, figsize=(8,3))\n",
    "\n",
    "results[[\"Pat_AUC\", \"Pat_Specificity\", \"Pat_Sensitivity\", \"Pat_Precision\", \"Pat_Recall\", \"Pat_F1\"]].plot.box(ax = ax)\n",
    "ax.set_ylabel(\"Score\");\n",
    "\n",
    "#results.to_excel(os.path.join(file_place, \"Confusion_Matrix_bad.xlsx\"))\n",
    "#fig.savefig(os.path.join(file_place, \"pat_scores.png\"), bbox_inches = 'tight')"
   ]
  },
  {
   "cell_type": "code",
   "execution_count": 43,
   "metadata": {},
   "outputs": [],
   "source": [
    "from sklearn.model_selection import StratifiedKFold"
   ]
  },
  {
   "cell_type": "code",
   "execution_count": null,
   "metadata": {},
   "outputs": [],
   "source": [
    "y_Var = \"ECS\"\n",
    "\n",
    "data = new_metadata.copy().dropna(subset = [\"ASMA\"])#.loc[:,[\"ASMA\"]]\n",
    "\n",
    "X = data.loc[:,[\"ASMA\"]]\n",
    "y = pd.DataFrame(lb.fit_transform(data.reset_index()[f\"{y_Var}\"])).iloc[:,0]\n",
    "\n",
    "\n",
    "OHE = OneHotEncoder(sparse = False)\n",
    "#OHE.fit(data.reset_index()[\"ASMA\"].values.reshape(-1,1))\n",
    "\n",
    "categorical_pipe = Pipeline([\n",
    "    (\"OneHot\", OHE)\n",
    "])\n",
    "\n",
    "pipe = Pipeline([\n",
    "    (\"Preprocessing\", categorical_pipe),\n",
    "    (\"clf\", LinearDiscriminantAnalysis())\n",
    "])\n",
    "\n",
    "scores = []\n",
    "\n",
    "for train_i, test_i in StratifiedKFold(5, shuffle = True).split(X, y):\n",
    "    \n",
    "    clf = pipe.fit(X.iloc[train_i], y.iloc[train_i])\n",
    "    \n",
    "    scores.append(Cross_Eval.score(clf, X.iloc[test_i], y.iloc[test_i]))\n",
    "    \n",
    "results = pd.DataFrame(scores)"
   ]
  },
  {
   "cell_type": "code",
   "execution_count": null,
   "metadata": {},
   "outputs": [],
   "source": [
    "fig, (ax, ax2) = plt.subplots(ncols = 2, figsize = (12, 5))\n",
    "#fig.suptitle(y_Var)\n",
    "\n",
    "for _, row in results.iterrows():\n",
    "    \n",
    "    ax.plot(row[\"FPR_curve\"], row[\"TPR_curve\"])\n",
    "    \n",
    "ax.plot([0,1],[0,1], c = \"black\", linestyle = '--')\n",
    "ax.set_xlabel('False Positive Rate')\n",
    "ax.set_ylabel('True Positive Rate')\n",
    "ax.set_title('ROC Curve')\n",
    "\n",
    "ax.text(0.65, 0.2, \"AUC:{:.2f} +/- {:.2f}\".format(results[\"AUC\"].mean(), results[\"AUC\"].std()))\n",
    "\n",
    "for _, row in results.iterrows():\n",
    "    \n",
    "    ax2.plot(row[\"rec_curve\"], row[\"prec_curve\"])\n",
    "    \n",
    "ax2.set_xlabel('Recall')\n",
    "ax2.set_ylabel('Precision')\n",
    "ax2.set_title('Precision Recall Curve');\n",
    "\n",
    "#fig.savefig(os.path.join(file_place, \"ROC_scores.png\"), bbox_inches = 'tight')"
   ]
  },
  {
   "cell_type": "code",
   "execution_count": null,
   "metadata": {},
   "outputs": [],
   "source": [
    "fig, (ax, ax2) = plt.subplots(ncols = 2, figsize = (12, 5))\n",
    "#fig.suptitle(y_Var)\n",
    "\n",
    "for _, row in results.iterrows():\n",
    "    \n",
    "    ax.plot(row[\"FPR_curve\"], row[\"TPR_curve\"])\n",
    "    \n",
    "ax.plot([0,1],[0,1], c = \"black\", linestyle = '--')\n",
    "ax.set_xlabel('False Positive Rate')\n",
    "ax.set_ylabel('True Positive Rate')\n",
    "ax.set_title('ROC Curve')\n",
    "\n",
    "ax.text(0.65, 0.2, \"AUC:{:.2f} +/- {:.2f}\".format(results[\"AUC\"].mean(), results[\"AUC\"].std()))\n",
    "\n",
    "for _, row in results.iterrows():\n",
    "    \n",
    "    ax2.plot(row[\"rec_curve\"], row[\"prec_curve\"])\n",
    "    \n",
    "ax2.set_xlabel('Recall')\n",
    "ax2.set_ylabel('Precision')\n",
    "ax2.set_title('Precision Recall Curve');\n",
    "\n",
    "#fig.savefig(os.path.join(file_place, \"ROC_scores.png\"), bbox_inches = 'tight')"
   ]
  },
  {
   "cell_type": "code",
   "execution_count": null,
   "metadata": {},
   "outputs": [],
   "source": [
    "results.describe()"
   ]
  },
  {
   "cell_type": "code",
   "execution_count": null,
   "metadata": {},
   "outputs": [],
   "source": [
    "fig, ax = plt.subplots(ncols = 1)\n",
    "fig.suptitle(y_Var)\n",
    "\n",
    "results[[\"AUC\", \"Specificity\", \"Sensitivity\", \"Precision\", \"Recall\", \"F1\"]].plot.box(ax = ax)\n",
    "ax.set_ylabel(\"Score\");\n",
    "\n",
    "#results.to_excel(os.path.join(file_place, \"Confusion_Matrix_bad.xlsx\"))\n",
    "#fig.savefig(os.path.join(file_place, \"scores.png\"), bbox_inches = 'tight')"
   ]
  },
  {
   "cell_type": "code",
   "execution_count": null,
   "metadata": {},
   "outputs": [],
   "source": [
    "fig, (ax, ax2) = plt.subplots(ncols = 2, figsize = (12, 5))\n",
    "fig.suptitle(title)\n",
    "\n",
    "for _, row in results.iterrows():\n",
    "    \n",
    "    ax.plot(row[\"FPR_curve\"], row[\"TPR_curve\"])\n",
    "    \n",
    "ax.plot([0,1],[0,1], c = \"black\", linestyle = '--')\n",
    "ax.set_xlabel('False Positive Rate')\n",
    "ax.set_ylabel('True Positive Rate')\n",
    "ax.set_title('ROC Curve')\n",
    "\n",
    "ax.text(0.65, 0.2, \"AUC:{:.2f} +/- {:.2f}\".format(results[\"AUC\"].mean(), results[\"AUC\"].std()))\n",
    "\n",
    "for _, row in results.iterrows():\n",
    "    \n",
    "    ax2.plot(row[\"rec_curve\"], row[\"prec_curve\"])\n",
    "    \n",
    "ax2.set_xlabel('Recall')\n",
    "ax2.set_ylabel('Precision')\n",
    "ax2.set_title('Precision Recall Curve')\n",
    "\n",
    "fig.savefig(os.path.join(file_place, \"ROC_scores.png\"), bbox_inches = 'tight')"
   ]
  },
  {
   "cell_type": "code",
   "execution_count": null,
   "metadata": {},
   "outputs": [],
   "source": [
    "results.describe()"
   ]
  },
  {
   "cell_type": "code",
   "execution_count": null,
   "metadata": {},
   "outputs": [],
   "source": [
    "fig, ax = plt.subplots(ncols = 1)\n",
    "fig.suptitle(title)\n",
    "\n",
    "results[[\"AUC\", \"Specificity\", \"Sensitivity\", \"Precision\", \"Recall\", \"F1\"]].plot.box(ax = ax)\n",
    "ax.set_ylabel(\"Score\")\n",
    "\n",
    "results.to_excel(os.path.join(file_place, \"Confusion_Matrix_bad.xlsx\"))\n",
    "fig.savefig(os.path.join(file_place, \"scores.png\"), bbox_inches = 'tight')"
   ]
  },
  {
   "cell_type": "markdown",
   "metadata": {},
   "source": [
    "## Repeat evaluation on patient basis"
   ]
  },
  {
   "cell_type": "code",
   "execution_count": null,
   "metadata": {},
   "outputs": [],
   "source": [
    "y_pred"
   ]
  },
  {
   "cell_type": "code",
   "execution_count": null,
   "metadata": {},
   "outputs": [],
   "source": [
    "Cross_Eval.patient_score(results)"
   ]
  },
  {
   "cell_type": "code",
   "execution_count": null,
   "metadata": {},
   "outputs": [],
   "source": [
    "results.T"
   ]
  },
  {
   "cell_type": "code",
   "execution_count": null,
   "metadata": {},
   "outputs": [],
   "source": [
    "results.y_true.values[0]"
   ]
  },
  {
   "cell_type": "code",
   "execution_count": null,
   "metadata": {},
   "outputs": [],
   "source": [
    "results"
   ]
  },
  {
   "cell_type": "code",
   "execution_count": null,
   "metadata": {},
   "outputs": [],
   "source": [
    "patient_preds = results.y_pred.copy()\n",
    "patient_preds[\"predictions\"] = predictions\n",
    "patient_preds.index = X_valid.index"
   ]
  },
  {
   "cell_type": "code",
   "execution_count": null,
   "metadata": {},
   "outputs": [],
   "source": [
    "def agg_scores(columns):\n",
    "    \n",
    "    return columns.sum()/columns.size"
   ]
  },
  {
   "cell_type": "code",
   "execution_count": null,
   "metadata": {},
   "outputs": [],
   "source": [
    "patient_preds.groupby(\"Patient_Number\").agg(agg_scores)"
   ]
  },
  {
   "cell_type": "code",
   "execution_count": null,
   "metadata": {},
   "outputs": [],
   "source": [
    "y_true = patient_preds.groupby(\"Patient_Number\").agg(agg_scores).loc[:, 0]\n",
    "y_pred = patient_preds.groupby(\"Patient_Number\").agg(agg_scores).loc[:,\"predictions\"]\n",
    "\n",
    "y_pred_nopt = np.array([0 if score < 0.5 else 1 for score in y_pred])\n",
    "y_pred_opt = np.array([0 if score < opt else 1 for score in y_pred])\n",
    "\n",
    "fpr, tpr, t = roc_curve(y_true, y_pred)\n",
    "AUC = roc_auc_score(y_true, y_pred)\n",
    "\n",
    "scores = np.array([np.sqrt(((1-t)**2)+((0-(f))**2)) for f, t in zip(fpr,tpr)])\n",
    "threshi = np.argmin(scores)\n",
    "\n",
    "prec, rec, _ = precision_recall_curve(y_true, y_pred)\n",
    "\n",
    "opt = t[threshi]"
   ]
  },
  {
   "cell_type": "code",
   "execution_count": null,
   "metadata": {},
   "outputs": [],
   "source": [
    "fig, ax = plt.subplots()\n",
    "\n",
    "ax.plot(t , scores, label = \"Score\")\n",
    "#ax.plot(t , tpr, label = \"True positive rate\")\n",
    "#ax.plot(t , fpr, label = \"False positive rate\")\n",
    "ax.set_title('Optimal decision threshold')\n",
    "ax.set_xlabel(\"Threshold\")\n",
    "ax.set_ylabel(\"$\\sqrt{(1-FPR)^2 + (0-TPR)^2}$\")\n",
    "ax.axvline(opt, c = \"r\")\n",
    "ax.text(opt + 0.1, 0.95, f\"Opt threshold {opt:.2f}\")\n",
    "ax.legend()\n",
    "\n",
    "fig.savefig(os.path.join(file_place, \"Optimal_Thresh.png\"), bbox_inches = 'tight')"
   ]
  },
  {
   "cell_type": "code",
   "execution_count": null,
   "metadata": {},
   "outputs": [],
   "source": [
    "from sklearn.metrics import precision_recall_curve\n",
    "from sklearn.metrics import plot_precision_recall_curve"
   ]
  },
  {
   "cell_type": "code",
   "execution_count": null,
   "metadata": {},
   "outputs": [],
   "source": [
    "fig, (ax, ax2) = plt.subplots(ncols = 2, figsize = (12, 5))\n",
    "\n",
    "ax.plot(fpr, tpr)\n",
    "ax.plot([0,1],[0,1], linestyle = '--')\n",
    "ax.set_xlabel('False Positive Rate')\n",
    "ax.set_ylabel('True Positive Rate')\n",
    "ax.set_title('ECS ROC Curve')\n",
    "ax.plot([0, fpr[threshi]], [1, tpr[threshi]], linestyle = \"--\")\n",
    "ax.text(0.8, 0.2, f\"AUC {AUC:.2f}\")\n",
    "\n",
    "ax2.plot(rec, prec)\n",
    "ax2.set_xlabel('Recall')\n",
    "ax2.set_ylabel('Precision')\n",
    "ax2.set_title('Precision Recall Curve')\n",
    "\n",
    "fig.savefig(os.path.join(file_place, \"ROC_Curve_Opt.png\"), bbox_inches = 'tight')"
   ]
  },
  {
   "cell_type": "code",
   "execution_count": null,
   "metadata": {},
   "outputs": [],
   "source": [
    "scorers = {\n",
    "\"Weighted Accuracy\" : scoring(y_true, y_pred_nopt, metric = 'average per-class accuracy'),\n",
    "\"Specificity\" : scoring(y_true, y_pred_nopt, metric = 'specificity'),\n",
    "\"Sensitivity\": scoring(y_true, y_pred_nopt, metric = 'sensitivity'),\n",
    "\"F1_Score\" : f1_score(y_true, y_pred_nopt, average = 'weighted')\n",
    "    }\n",
    "\n",
    "print(\"weighted accuracy: \\t{:.2f}\".format(scoring(y_true, y_pred_nopt, metric = 'average per-class accuracy')))\n",
    "print(\"specificity: \\t\\t{:.2f}\".format(scoring(y_true, y_pred_nopt, metric = 'specificity')))\n",
    "print(\"sensitivity: \\t\\t{:.2f}\".format(scoring(y_true, y_pred_nopt, metric = 'sensitivity')))\n",
    "print(\"F1: \\t\\t\\t{:.2f}\".format(f1_score(y_true, y_pred_nopt, average = 'weighted')))\n",
    "\n",
    "scorers = pd.DataFrame({\"Score\": scorers}).round(2)\n",
    "scorers.to_excel(os.path.join(os.getcwd(), \"Confusion_Matrix_bad.xlsx\"))\n",
    "\n",
    "fig = plotCM(y_true, y_pred_nopt, np.unique(y_valid))\n",
    "#fig.savefig(os.path.join(file_place, \"Confusion_Matrix_bad.png\"), bbox_inches = 'tight')"
   ]
  },
  {
   "cell_type": "code",
   "execution_count": null,
   "metadata": {},
   "outputs": [],
   "source": [
    "scorers = {\n",
    "#\"Weighted Accuracy\" : scoring(y_valid_b, predictions, metric = 'average per-class accuracy'),\n",
    "\"Specificity\" : scoring(y_true, y_pred_opt, metric = 'specificity'),\n",
    "\"Sensitivity\": scoring(y_true, y_pred_opt, metric = 'sensitivity'),\n",
    "\"F1_Score\" : f1_score(y_true, y_pred_opt, average = 'weighted')\n",
    "    }\n",
    "\n",
    "print(\"weighted accuracy: \\t{:.2f}\".format(scoring(y_true, y_pred_opt, metric = 'average per-class accuracy')))\n",
    "print(\"specificity: \\t\\t{:.2f}\".format(scoring(y_true, y_pred_opt, metric = 'specificity')))\n",
    "print(\"sensitivity: \\t\\t{:.2f}\".format(scoring(y_true, y_pred_opt, metric = 'sensitivity')))\n",
    "print(\"F1: \\t\\t\\t{:.2f}\".format(f1_score(y_true, y_pred_opt, average = 'weighted')))\n",
    "\n",
    "scorers = pd.DataFrame({\"Score\": scorers}).round(2)\n",
    "scorers.to_excel(os.path.join(file_place, \"scores.xlsx\"))\n",
    "\n",
    "fig = plotCM(y_true, y_pred_opt, np.unique(y_valid))\n",
    "#fig.savefig(os.path.join(file_place, \"Confusion_Matrix_good.png\"), bbox_inches = 'tight')"
   ]
  },
  {
   "cell_type": "code",
   "execution_count": null,
   "metadata": {},
   "outputs": [],
   "source": [
    "pred_results = y_valid_b.copy()\n",
    "pred_results.columns = [\"True\"]\n",
    "pred_results['Prediction'] = predictions\n",
    "\n",
    "scores.to_excel(os.path.join(file_place, \"score.xlsx\"))\n",
    "pred_results.to_excel(os.path.join(file_place, \"predictions.xlsx\"))"
   ]
  }
 ],
 "metadata": {
  "kernelspec": {
   "display_name": "Python 3",
   "language": "python",
   "name": "python3"
  },
  "language_info": {
   "codemirror_mode": {
    "name": "ipython",
    "version": 3
   },
   "file_extension": ".py",
   "mimetype": "text/x-python",
   "name": "python",
   "nbconvert_exporter": "python",
   "pygments_lexer": "ipython3",
   "version": "3.8.0-final"
  }
 },
 "nbformat": 4,
 "nbformat_minor": 4
}
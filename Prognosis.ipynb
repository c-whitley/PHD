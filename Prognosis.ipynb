{
 "cells": [
  {
   "cell_type": "code",
   "execution_count": 39,
   "metadata": {
    "tags": []
   },
   "outputs": [
    {
     "name": "stdout",
     "output_type": "stream",
     "text": [
      "The autoreload extension is already loaded. To reload it, use:\n",
      "  %reload_ext autoreload\n"
     ]
    }
   ],
   "source": [
    "%load_ext autoreload\n",
    "\n",
    "%autoreload 2"
   ]
  },
  {
   "cell_type": "code",
   "execution_count": 40,
   "metadata": {},
   "outputs": [],
   "source": [
    "from tqdm.notebook import tqdm\n",
    "import time"
   ]
  },
  {
   "cell_type": "code",
   "execution_count": 41,
   "metadata": {},
   "outputs": [],
   "source": [
    "import numpy as np\n",
    "import pandas as pd\n",
    "import matplotlib.pyplot as plt\n",
    "import seaborn as sns\n",
    "\n",
    "from datetime import datetime\n",
    "\n",
    "import glob\n",
    "import os\n",
    "import sys\n",
    "\n",
    "from tqdm.notebook import tqdm\n",
    "from datetime import datetime\n",
    "\n",
    "import Cross_Eval\n",
    "from Preprocessing_Methods import *"
   ]
  },
  {
   "cell_type": "code",
   "execution_count": 42,
   "metadata": {},
   "outputs": [],
   "source": [
    "from sklearn.pipeline import Pipeline\n",
    "\n",
    "from sklearn.preprocessing import FunctionTransformer, RobustScaler, MinMaxScaler, StandardScaler, LabelBinarizer\n",
    "from sklearn.preprocessing import normalize, robust_scale, minmax_scale\n",
    "\n",
    "from sklearn.preprocessing import OneHotEncoder,KBinsDiscretizer\n",
    "from sklearn.compose import ColumnTransformer\n",
    "\n",
    "from sklearn.decomposition import PCA\n",
    "from sklearn.discriminant_analysis import LinearDiscriminantAnalysis\n",
    "from sklearn.ensemble import RandomForestClassifier\n",
    "from sklearn.linear_model import LogisticRegression\n",
    "\n",
    "from sklearn.calibration import CalibratedClassifierCV\n",
    "\n",
    "from sklearn.kernel_approximation import RBFSampler, Nystroem\n",
    "\n",
    "from sklearn.model_selection import train_test_split\n",
    "from sklearn.model_selection import cross_validate, GroupKFold, KFold\n",
    "\n",
    "from sklearn.metrics import make_scorer, confusion_matrix, roc_auc_score, roc_curve, plot_confusion_matrix, f1_score, recall_score, accuracy_score\n",
    "\n",
    "from sklearn.multiclass import OneVsRestClassifier\n",
    "\n",
    "from mlxtend.evaluate import scoring"
   ]
  },
  {
   "cell_type": "markdown",
   "metadata": {},
   "source": [
    "# Preparing Metadata/Labels"
   ]
  },
  {
   "cell_type": "code",
   "execution_count": 43,
   "metadata": {},
   "outputs": [],
   "source": [
    "all_files = pd.DataFrame(glob.glob(\"/mnt/d/Conor/Extracted_Spectra/*.pickle\"), columns = [\"hdf_loc\"])\n",
    "all_files[\"TMA\"] = all_files.apply(lambda row: float(row[\"hdf_loc\"].split(\"/\")[-1][4:5]), axis = 1)\n",
    "all_files[\"Core\"] = all_files.apply(lambda row: row[\"hdf_loc\"].split(\"/\")[-1][8:-7], axis = 1)"
   ]
  },
  {
   "cell_type": "code",
   "execution_count": 44,
   "metadata": {
    "tags": []
   },
   "outputs": [
    {
     "name": "stdout",
     "output_type": "stream",
     "text": [
      "(79, 18)\n"
     ]
    }
   ],
   "source": [
    "metadata = pd.read_excel(\"/mnt/b/Google_Drive/PhD/Project with Janet/Scoring grids Advancing Front (TMAs 1-3).xlsx\"\n",
    "              , sheet_name = \"reformatted\")\n",
    "\n",
    "metadata = metadata.merge(all_files, left_on = [\"TMA\", \"TMA site\"], right_on = [\"TMA\", \"Core\"])\n",
    "print(metadata.shape)"
   ]
  },
  {
   "cell_type": "code",
   "execution_count": 45,
   "metadata": {},
   "outputs": [],
   "source": [
    "new_metadata = pd.read_excel(\"/mnt/b/Google_Drive/PhD/Project with Janet/new_metadata.xlsx\")"
   ]
  },
  {
   "cell_type": "code",
   "execution_count": 46,
   "metadata": {},
   "outputs": [],
   "source": [
    "new_metadata[\"DODvsAlive\"] = new_metadata[\"OUTCOME\"].map(\n",
    "                            {\"DOD\" : \"DOD\",\n",
    "                             \"alive\": \"Other\",\n",
    "                             \"died other\" : \"Other\",\n",
    "                             \"died\" : \"Other\",\n",
    "                             \"Died\" : \"Other\",\n",
    "                             \"Died other\": \"Other\"})\n",
    "\n",
    "new_metadata[\"DiedvsAlive\"] = new_metadata[\"OUTCOME\"].map(\n",
    "                            {\"DOD\" : \"Died\",\n",
    "                             \"alive\": \"Alive\",\n",
    "                             \"died other\" : \"Died\",\n",
    "                             \"died\" : \"Died\",\n",
    "                             \"Died\" : \"Died\",\n",
    "                             \"Died other\": \"Died\"})\n",
    "\n",
    "new_metadata[\"ECS\"] = new_metadata[\"ECS\"].map(\n",
    "                            {\"y\" : \"Y\",\n",
    "                             \"Y\": \"Y\",\n",
    "                             \"N\" : \"N\",\n",
    "                             \"n\" : \"N\"})"
   ]
  },
  {
   "cell_type": "code",
   "execution_count": 47,
   "metadata": {},
   "outputs": [],
   "source": [
    "new_metadata['lifespan'] = new_metadata['Date of death'] - new_metadata['date of diag']\n",
    "new_metadata[\"Years\"] = new_metadata['Date of death'].dt.year - new_metadata['date of diag'].dt.year"
   ]
  },
  {
   "cell_type": "raw",
   "metadata": {},
   "source": [
    "# Did the patient survive beyond n years?\n",
    "\n",
    "new_metadata[\"2year\"] = new_metadata.apply(lambda row: True if (row['Date of death'] - row['date of diag']).days<730 and row.OUTCOME not in ['Alive',\"alive\"] else False, axis = 1)\n",
    "new_metadata[\"5year\"] = new_metadata.apply(lambda row: True if 730<(row['lifespan']).days<1825 and row.OUTCOME not in ['Alive',\"alive\"] else False, axis = 1)"
   ]
  },
  {
   "cell_type": "code",
   "execution_count": 48,
   "metadata": {},
   "outputs": [],
   "source": [
    "# Did the patient survive beyond n years?\n",
    "for i in np.arange(0,5,1):\n",
    "    \n",
    "    s = (365*i)\n",
    "    e = (365*(i+2))\n",
    "    \n",
    "    new_metadata[f\"{i+1}year\"] = new_metadata.apply(lambda row: True if s<(row['lifespan']).days<e and row.OUTCOME not in ['Alive',\"alive\"] else False, axis = 1)"
   ]
  },
  {
   "cell_type": "code",
   "execution_count": 49,
   "metadata": {},
   "outputs": [],
   "source": [
    "new_metadata[f\"1yeardeath\"] = new_metadata.apply(lambda row: True if (row['lifespan']).days<365 and row.OUTCOME not in ['Alive',\"alive\"] else False, axis = 1)"
   ]
  },
  {
   "cell_type": "code",
   "execution_count": 50,
   "metadata": {},
   "outputs": [],
   "source": [
    "bins = np.arange(0, new_metadata[\"Years\"].max(),2)\n",
    "\n",
    "new_metadata[\"2years\"] = np.digitize(new_metadata[\"Years\"], bins)"
   ]
  },
  {
   "cell_type": "code",
   "execution_count": 51,
   "metadata": {},
   "outputs": [
    {
     "data": {
      "text/html": [
       "<div>\n",
       "<style scoped>\n",
       "    .dataframe tbody tr th:only-of-type {\n",
       "        vertical-align: middle;\n",
       "    }\n",
       "\n",
       "    .dataframe tbody tr th {\n",
       "        vertical-align: top;\n",
       "    }\n",
       "\n",
       "    .dataframe thead th {\n",
       "        text-align: right;\n",
       "    }\n",
       "</style>\n",
       "<table border=\"1\" class=\"dataframe\">\n",
       "  <thead>\n",
       "    <tr style=\"text-align: right;\">\n",
       "      <th></th>\n",
       "      <th>Patient_Number</th>\n",
       "      <th>gender</th>\n",
       "      <th>date of diag</th>\n",
       "      <th>age @ diag</th>\n",
       "      <th>site</th>\n",
       "      <th>pT</th>\n",
       "      <th>pN</th>\n",
       "      <th>stage</th>\n",
       "      <th>ECS</th>\n",
       "      <th>OUTCOME</th>\n",
       "      <th>...</th>\n",
       "      <th>DiedvsAlive</th>\n",
       "      <th>lifespan</th>\n",
       "      <th>Years</th>\n",
       "      <th>1year</th>\n",
       "      <th>2year</th>\n",
       "      <th>3year</th>\n",
       "      <th>4year</th>\n",
       "      <th>5year</th>\n",
       "      <th>1yeardeath</th>\n",
       "      <th>2years</th>\n",
       "    </tr>\n",
       "  </thead>\n",
       "  <tbody>\n",
       "    <tr>\n",
       "      <th>0</th>\n",
       "      <td>3143</td>\n",
       "      <td>m</td>\n",
       "      <td>2004-03-29</td>\n",
       "      <td>58</td>\n",
       "      <td>floor of mouth</td>\n",
       "      <td>4</td>\n",
       "      <td>0</td>\n",
       "      <td>4</td>\n",
       "      <td>N</td>\n",
       "      <td>DOD</td>\n",
       "      <td>...</td>\n",
       "      <td>Died</td>\n",
       "      <td>3341 days</td>\n",
       "      <td>9.0</td>\n",
       "      <td>False</td>\n",
       "      <td>False</td>\n",
       "      <td>False</td>\n",
       "      <td>False</td>\n",
       "      <td>False</td>\n",
       "      <td>False</td>\n",
       "      <td>5</td>\n",
       "    </tr>\n",
       "    <tr>\n",
       "      <th>1</th>\n",
       "      <td>3167</td>\n",
       "      <td>m</td>\n",
       "      <td>2004-09-30</td>\n",
       "      <td>74</td>\n",
       "      <td>floor of mouth</td>\n",
       "      <td>2</td>\n",
       "      <td>2</td>\n",
       "      <td>4</td>\n",
       "      <td>Y</td>\n",
       "      <td>DOD</td>\n",
       "      <td>...</td>\n",
       "      <td>Died</td>\n",
       "      <td>390 days</td>\n",
       "      <td>1.0</td>\n",
       "      <td>True</td>\n",
       "      <td>True</td>\n",
       "      <td>False</td>\n",
       "      <td>False</td>\n",
       "      <td>False</td>\n",
       "      <td>False</td>\n",
       "      <td>1</td>\n",
       "    </tr>\n",
       "    <tr>\n",
       "      <th>2</th>\n",
       "      <td>3169</td>\n",
       "      <td>m</td>\n",
       "      <td>2004-10-28</td>\n",
       "      <td>63</td>\n",
       "      <td>floor of mouth</td>\n",
       "      <td>3</td>\n",
       "      <td>1</td>\n",
       "      <td>3</td>\n",
       "      <td>N</td>\n",
       "      <td>died other</td>\n",
       "      <td>...</td>\n",
       "      <td>Died</td>\n",
       "      <td>652 days</td>\n",
       "      <td>2.0</td>\n",
       "      <td>True</td>\n",
       "      <td>True</td>\n",
       "      <td>False</td>\n",
       "      <td>False</td>\n",
       "      <td>False</td>\n",
       "      <td>False</td>\n",
       "      <td>2</td>\n",
       "    </tr>\n",
       "    <tr>\n",
       "      <th>3</th>\n",
       "      <td>3170</td>\n",
       "      <td>m</td>\n",
       "      <td>2004-11-22</td>\n",
       "      <td>59</td>\n",
       "      <td>other</td>\n",
       "      <td>4</td>\n",
       "      <td>2b</td>\n",
       "      <td>4a</td>\n",
       "      <td>Y</td>\n",
       "      <td>Died other</td>\n",
       "      <td>...</td>\n",
       "      <td>Died</td>\n",
       "      <td>3690 days</td>\n",
       "      <td>10.0</td>\n",
       "      <td>False</td>\n",
       "      <td>False</td>\n",
       "      <td>False</td>\n",
       "      <td>False</td>\n",
       "      <td>False</td>\n",
       "      <td>False</td>\n",
       "      <td>6</td>\n",
       "    </tr>\n",
       "    <tr>\n",
       "      <th>4</th>\n",
       "      <td>3230</td>\n",
       "      <td>m</td>\n",
       "      <td>2006-01-26</td>\n",
       "      <td>74</td>\n",
       "      <td>tongue</td>\n",
       "      <td>2</td>\n",
       "      <td>1</td>\n",
       "      <td>3</td>\n",
       "      <td>Y</td>\n",
       "      <td>DOD</td>\n",
       "      <td>...</td>\n",
       "      <td>Died</td>\n",
       "      <td>161 days</td>\n",
       "      <td>0.0</td>\n",
       "      <td>True</td>\n",
       "      <td>False</td>\n",
       "      <td>False</td>\n",
       "      <td>False</td>\n",
       "      <td>False</td>\n",
       "      <td>True</td>\n",
       "      <td>1</td>\n",
       "    </tr>\n",
       "    <tr>\n",
       "      <th>...</th>\n",
       "      <td>...</td>\n",
       "      <td>...</td>\n",
       "      <td>...</td>\n",
       "      <td>...</td>\n",
       "      <td>...</td>\n",
       "      <td>...</td>\n",
       "      <td>...</td>\n",
       "      <td>...</td>\n",
       "      <td>...</td>\n",
       "      <td>...</td>\n",
       "      <td>...</td>\n",
       "      <td>...</td>\n",
       "      <td>...</td>\n",
       "      <td>...</td>\n",
       "      <td>...</td>\n",
       "      <td>...</td>\n",
       "      <td>...</td>\n",
       "      <td>...</td>\n",
       "      <td>...</td>\n",
       "      <td>...</td>\n",
       "      <td>...</td>\n",
       "    </tr>\n",
       "    <tr>\n",
       "      <th>102</th>\n",
       "      <td>3647</td>\n",
       "      <td>f</td>\n",
       "      <td>2010-10-18</td>\n",
       "      <td>60</td>\n",
       "      <td>tongue</td>\n",
       "      <td>3</td>\n",
       "      <td>2b</td>\n",
       "      <td>NaN</td>\n",
       "      <td>Y</td>\n",
       "      <td>died</td>\n",
       "      <td>...</td>\n",
       "      <td>Died</td>\n",
       "      <td>184 days</td>\n",
       "      <td>1.0</td>\n",
       "      <td>True</td>\n",
       "      <td>False</td>\n",
       "      <td>False</td>\n",
       "      <td>False</td>\n",
       "      <td>False</td>\n",
       "      <td>True</td>\n",
       "      <td>1</td>\n",
       "    </tr>\n",
       "    <tr>\n",
       "      <th>103</th>\n",
       "      <td>3706</td>\n",
       "      <td>f</td>\n",
       "      <td>2011-04-14</td>\n",
       "      <td>64</td>\n",
       "      <td>tongue</td>\n",
       "      <td>3</td>\n",
       "      <td>0</td>\n",
       "      <td>NaN</td>\n",
       "      <td>N</td>\n",
       "      <td>alive</td>\n",
       "      <td>...</td>\n",
       "      <td>Alive</td>\n",
       "      <td>NaT</td>\n",
       "      <td>NaN</td>\n",
       "      <td>False</td>\n",
       "      <td>False</td>\n",
       "      <td>False</td>\n",
       "      <td>False</td>\n",
       "      <td>False</td>\n",
       "      <td>False</td>\n",
       "      <td>6</td>\n",
       "    </tr>\n",
       "    <tr>\n",
       "      <th>104</th>\n",
       "      <td>3743</td>\n",
       "      <td>m</td>\n",
       "      <td>2011-11-17</td>\n",
       "      <td>40</td>\n",
       "      <td>tongue</td>\n",
       "      <td>2</td>\n",
       "      <td>0</td>\n",
       "      <td>NaN</td>\n",
       "      <td>N</td>\n",
       "      <td>alive</td>\n",
       "      <td>...</td>\n",
       "      <td>Alive</td>\n",
       "      <td>NaT</td>\n",
       "      <td>NaN</td>\n",
       "      <td>False</td>\n",
       "      <td>False</td>\n",
       "      <td>False</td>\n",
       "      <td>False</td>\n",
       "      <td>False</td>\n",
       "      <td>False</td>\n",
       "      <td>6</td>\n",
       "    </tr>\n",
       "    <tr>\n",
       "      <th>105</th>\n",
       "      <td>3763</td>\n",
       "      <td>m</td>\n",
       "      <td>2012-02-13</td>\n",
       "      <td>57</td>\n",
       "      <td>floor of mouth</td>\n",
       "      <td>3</td>\n",
       "      <td>2b</td>\n",
       "      <td>4a</td>\n",
       "      <td>Y</td>\n",
       "      <td>died</td>\n",
       "      <td>...</td>\n",
       "      <td>Died</td>\n",
       "      <td>172 days</td>\n",
       "      <td>0.0</td>\n",
       "      <td>True</td>\n",
       "      <td>False</td>\n",
       "      <td>False</td>\n",
       "      <td>False</td>\n",
       "      <td>False</td>\n",
       "      <td>True</td>\n",
       "      <td>1</td>\n",
       "    </tr>\n",
       "    <tr>\n",
       "      <th>106</th>\n",
       "      <td>3773</td>\n",
       "      <td>m</td>\n",
       "      <td>2012-07-02</td>\n",
       "      <td>53</td>\n",
       "      <td>other</td>\n",
       "      <td>2</td>\n",
       "      <td>2b</td>\n",
       "      <td>4a</td>\n",
       "      <td>N</td>\n",
       "      <td>alive</td>\n",
       "      <td>...</td>\n",
       "      <td>Alive</td>\n",
       "      <td>NaT</td>\n",
       "      <td>NaN</td>\n",
       "      <td>False</td>\n",
       "      <td>False</td>\n",
       "      <td>False</td>\n",
       "      <td>False</td>\n",
       "      <td>False</td>\n",
       "      <td>False</td>\n",
       "      <td>6</td>\n",
       "    </tr>\n",
       "  </tbody>\n",
       "</table>\n",
       "<p>107 rows × 28 columns</p>\n",
       "</div>"
      ],
      "text/plain": [
       "     Patient_Number gender date of diag  age @ diag            site pT  pN  \\\n",
       "0              3143      m   2004-03-29          58  floor of mouth  4   0   \n",
       "1              3167      m   2004-09-30          74  floor of mouth  2   2   \n",
       "2              3169      m   2004-10-28          63  floor of mouth  3   1   \n",
       "3              3170      m   2004-11-22          59           other  4  2b   \n",
       "4              3230      m   2006-01-26          74          tongue  2   1   \n",
       "..              ...    ...          ...         ...             ... ..  ..   \n",
       "102            3647      f   2010-10-18          60          tongue  3  2b   \n",
       "103            3706      f   2011-04-14          64          tongue  3   0   \n",
       "104            3743      m   2011-11-17          40          tongue  2   0   \n",
       "105            3763      m   2012-02-13          57  floor of mouth  3  2b   \n",
       "106            3773      m   2012-07-02          53           other  2  2b   \n",
       "\n",
       "    stage ECS     OUTCOME  ... DiedvsAlive  lifespan Years  1year  2year  \\\n",
       "0       4   N         DOD  ...        Died 3341 days   9.0  False  False   \n",
       "1       4   Y         DOD  ...        Died  390 days   1.0   True   True   \n",
       "2       3   N  died other  ...        Died  652 days   2.0   True   True   \n",
       "3      4a   Y  Died other  ...        Died 3690 days  10.0  False  False   \n",
       "4       3   Y         DOD  ...        Died  161 days   0.0   True  False   \n",
       "..    ...  ..         ...  ...         ...       ...   ...    ...    ...   \n",
       "102   NaN   Y        died  ...        Died  184 days   1.0   True  False   \n",
       "103   NaN   N       alive  ...       Alive       NaT   NaN  False  False   \n",
       "104   NaN   N       alive  ...       Alive       NaT   NaN  False  False   \n",
       "105    4a   Y        died  ...        Died  172 days   0.0   True  False   \n",
       "106    4a   N       alive  ...       Alive       NaT   NaN  False  False   \n",
       "\n",
       "     3year  4year  5year 1yeardeath 2years  \n",
       "0    False  False  False      False      5  \n",
       "1    False  False  False      False      1  \n",
       "2    False  False  False      False      2  \n",
       "3    False  False  False      False      6  \n",
       "4    False  False  False       True      1  \n",
       "..     ...    ...    ...        ...    ...  \n",
       "102  False  False  False       True      1  \n",
       "103  False  False  False      False      6  \n",
       "104  False  False  False      False      6  \n",
       "105  False  False  False       True      1  \n",
       "106  False  False  False      False      6  \n",
       "\n",
       "[107 rows x 28 columns]"
      ]
     },
     "execution_count": 51,
     "metadata": {},
     "output_type": "execute_result"
    }
   ],
   "source": [
    "new_metadata"
   ]
  },
  {
   "cell_type": "markdown",
   "metadata": {},
   "source": [
    "Import ASMA data"
   ]
  },
  {
   "cell_type": "code",
   "execution_count": 52,
   "metadata": {},
   "outputs": [],
   "source": [
    "asma = pd.read_excel(\"/mnt/b/Google_Drive/PhD/Project with Janet/ASMA.xlsx\", sheet_name = \"Sheet3\")\n",
    "new_metadata = new_metadata.merge(asma, left_on = \"Patient_Number\", right_on = \"Case ID\")"
   ]
  },
  {
   "cell_type": "markdown",
   "metadata": {},
   "source": [
    "# Import data and preprocess"
   ]
  },
  {
   "cell_type": "code",
   "execution_count": 53,
   "metadata": {},
   "outputs": [],
   "source": [
    "from Preprocessing_Methods import *\n",
    "\n",
    "import sys\n",
    "\n",
    "sys.path.append(\"/mnt/b/Git_Projects/Biospec_Analysis/UNET\")"
   ]
  },
  {
   "cell_type": "code",
   "execution_count": 54,
   "metadata": {
    "tags": []
   },
   "outputs": [
    {
     "data": {
      "application/vnd.jupyter.widget-view+json": {
       "model_id": "7a9731c398324101896bfe502f9c1f52",
       "version_major": 2,
       "version_minor": 0
      },
      "text/plain": [
       "HBox(children=(FloatProgress(value=0.0, max=79.0), HTML(value='')))"
      ]
     },
     "metadata": {},
     "output_type": "display_data"
    },
    {
     "name": "stdout",
     "output_type": "stream",
     "text": [
      "\n"
     ]
    }
   ],
   "source": [
    "select = ['Tumour']\n",
    "\n",
    "total = pd.concat({\"{}-{}\".format(row[\"TMA\"], row[\"Core\"]):\n",
    "                   truncate(pd.read_pickle(row[\"hdf_loc\"]).query(f\"Tissue in {select}\").sample(frac = 1), start = 1000, end = 1800)\n",
    "                   for name, row in tqdm(list(metadata.iterrows()))}, names = [\"ID\"])\n",
    "\n",
    "wn_cols = total.columns\n",
    "#total = total.merge(new_metadata, left_on = \"Patient nu \", right_on = \"Patient Number\")\n",
    "#total = total.drop(np.nan, level = \"Overall Death \")"
   ]
  },
  {
   "cell_type": "code",
   "execution_count": 55,
   "metadata": {},
   "outputs": [],
   "source": [
    "total = total.reset_index().merge(new_metadata, left_on = \"Patient nu \", right_on = \"Patient_Number\", how = 'inner')\n",
    "total = total.set_index(list(total.columns.difference(wn_cols))).dropna(axis = 1)"
   ]
  },
  {
   "cell_type": "code",
   "execution_count": 56,
   "metadata": {},
   "outputs": [
    {
     "data": {
      "text/html": [
       "<div>\n",
       "<style scoped>\n",
       "    .dataframe tbody tr th:only-of-type {\n",
       "        vertical-align: middle;\n",
       "    }\n",
       "\n",
       "    .dataframe tbody tr th {\n",
       "        vertical-align: top;\n",
       "    }\n",
       "\n",
       "    .dataframe thead th {\n",
       "        text-align: right;\n",
       "    }\n",
       "</style>\n",
       "<table border=\"1\" class=\"dataframe\">\n",
       "  <thead>\n",
       "    <tr style=\"text-align: right;\">\n",
       "      <th></th>\n",
       "      <th></th>\n",
       "      <th></th>\n",
       "      <th></th>\n",
       "      <th></th>\n",
       "      <th></th>\n",
       "      <th></th>\n",
       "      <th></th>\n",
       "      <th></th>\n",
       "      <th></th>\n",
       "      <th></th>\n",
       "      <th></th>\n",
       "      <th></th>\n",
       "      <th></th>\n",
       "      <th></th>\n",
       "      <th></th>\n",
       "      <th></th>\n",
       "      <th></th>\n",
       "      <th></th>\n",
       "      <th></th>\n",
       "      <th></th>\n",
       "      <th></th>\n",
       "      <th></th>\n",
       "      <th></th>\n",
       "      <th></th>\n",
       "      <th></th>\n",
       "      <th></th>\n",
       "      <th></th>\n",
       "      <th></th>\n",
       "      <th></th>\n",
       "      <th></th>\n",
       "      <th></th>\n",
       "      <th></th>\n",
       "      <th></th>\n",
       "      <th></th>\n",
       "      <th></th>\n",
       "      <th></th>\n",
       "      <th></th>\n",
       "      <th></th>\n",
       "      <th></th>\n",
       "      <th></th>\n",
       "      <th></th>\n",
       "      <th></th>\n",
       "      <th></th>\n",
       "      <th></th>\n",
       "      <th></th>\n",
       "      <th></th>\n",
       "      <th></th>\n",
       "      <th></th>\n",
       "      <th></th>\n",
       "      <th></th>\n",
       "      <th></th>\n",
       "      <th>998.0</th>\n",
       "      <th>1002.0</th>\n",
       "      <th>1006.0</th>\n",
       "      <th>1010.0</th>\n",
       "      <th>1014.0</th>\n",
       "      <th>1018.0</th>\n",
       "      <th>1022.0</th>\n",
       "      <th>1025.0</th>\n",
       "      <th>1029.0</th>\n",
       "      <th>1033.0</th>\n",
       "      <th>...</th>\n",
       "      <th>1762.0</th>\n",
       "      <th>1766.0</th>\n",
       "      <th>1770.0</th>\n",
       "      <th>1774.0</th>\n",
       "      <th>1778.0</th>\n",
       "      <th>1781.0</th>\n",
       "      <th>1785.0</th>\n",
       "      <th>1789.0</th>\n",
       "      <th>1793.0</th>\n",
       "      <th>1797.0</th>\n",
       "    </tr>\n",
       "    <tr>\n",
       "      <th>1year</th>\n",
       "      <th>1yeardeath</th>\n",
       "      <th>2year</th>\n",
       "      <th>2years</th>\n",
       "      <th>3year</th>\n",
       "      <th>4year</th>\n",
       "      <th>5year</th>\n",
       "      <th>ASMA</th>\n",
       "      <th>Annotation_loc</th>\n",
       "      <th>Case ID</th>\n",
       "      <th>Core_x</th>\n",
       "      <th>Core_y</th>\n",
       "      <th>Corrected Site AJCC/UICC</th>\n",
       "      <th>DODvsAlive</th>\n",
       "      <th>Date of death</th>\n",
       "      <th>Date of recurrence</th>\n",
       "      <th>Diagnosis Age</th>\n",
       "      <th>DiedvsAlive</th>\n",
       "      <th>ECS_x</th>\n",
       "      <th>ECS_y</th>\n",
       "      <th>ID</th>\n",
       "      <th>Last seen/reviewed</th>\n",
       "      <th>Last updated</th>\n",
       "      <th>N stage</th>\n",
       "      <th>OUTCOME</th>\n",
       "      <th>OUTCOME.updated by</th>\n",
       "      <th>Overall Death</th>\n",
       "      <th>Pathogical Stage</th>\n",
       "      <th>Patient nu</th>\n",
       "      <th>Patient_Number</th>\n",
       "      <th>Recurrence?</th>\n",
       "      <th>T stage</th>\n",
       "      <th>TMA</th>\n",
       "      <th>TMA site</th>\n",
       "      <th>Tissue</th>\n",
       "      <th>Years</th>\n",
       "      <th>advancing front type</th>\n",
       "      <th>age @ diag</th>\n",
       "      <th>date of diag</th>\n",
       "      <th>diff</th>\n",
       "      <th>envi_loc</th>\n",
       "      <th>gender_x</th>\n",
       "      <th>gender_y</th>\n",
       "      <th>lifespan</th>\n",
       "      <th>pN</th>\n",
       "      <th>pT</th>\n",
       "      <th>radiotherapy</th>\n",
       "      <th>recurrence</th>\n",
       "      <th>site</th>\n",
       "      <th>site of recurrence</th>\n",
       "      <th>stage</th>\n",
       "      <th>survival (months)</th>\n",
       "      <th></th>\n",
       "      <th></th>\n",
       "      <th></th>\n",
       "      <th></th>\n",
       "      <th></th>\n",
       "      <th></th>\n",
       "      <th></th>\n",
       "      <th></th>\n",
       "      <th></th>\n",
       "      <th></th>\n",
       "      <th></th>\n",
       "      <th></th>\n",
       "      <th></th>\n",
       "      <th></th>\n",
       "      <th></th>\n",
       "      <th></th>\n",
       "      <th></th>\n",
       "      <th></th>\n",
       "      <th></th>\n",
       "      <th></th>\n",
       "      <th></th>\n",
       "    </tr>\n",
       "  </thead>\n",
       "  <tbody>\n",
       "    <tr>\n",
       "      <th>True</th>\n",
       "      <th>True</th>\n",
       "      <th>False</th>\n",
       "      <th>1</th>\n",
       "      <th>False</th>\n",
       "      <th>False</th>\n",
       "      <th>False</th>\n",
       "      <th>I</th>\n",
       "      <th>/mnt/b/Google_Drive/PhD/Project with Janet/Label_Images/TMA_1/TMA_1.4_E14.png</th>\n",
       "      <th>3464</th>\n",
       "      <th>E14</th>\n",
       "      <th>E14</th>\n",
       "      <th>oral tongue</th>\n",
       "      <th>DOD</th>\n",
       "      <th>2009-11-01</th>\n",
       "      <th>2009-09-02</th>\n",
       "      <th>82.0</th>\n",
       "      <th>Died</th>\n",
       "      <th>yes</th>\n",
       "      <th>Y</th>\n",
       "      <th>1.0-E14</th>\n",
       "      <th>NaT</th>\n",
       "      <th>2012-10-04</th>\n",
       "      <th>2b</th>\n",
       "      <th>DOD</th>\n",
       "      <th>CBarry</th>\n",
       "      <th>yes</th>\n",
       "      <th>pT2N2bMx</th>\n",
       "      <th>3464</th>\n",
       "      <th>3464</th>\n",
       "      <th>yes</th>\n",
       "      <th>2</th>\n",
       "      <th>1.0</th>\n",
       "      <th>E14</th>\n",
       "      <th>Tumour</th>\n",
       "      <th>0.0</th>\n",
       "      <th>NaN</th>\n",
       "      <th>82</th>\n",
       "      <th>2009-01-15</th>\n",
       "      <th>mod</th>\n",
       "      <th>/mnt/b/Google_Drive/PhD/Project with Janet/Kohler_Corrected/TMA_1TMA_1.4_E14.HDR</th>\n",
       "      <th>m</th>\n",
       "      <th>m</th>\n",
       "      <th>290 days</th>\n",
       "      <th>2b</th>\n",
       "      <th>2</th>\n",
       "      <th>yes</th>\n",
       "      <th>yes</th>\n",
       "      <th>tongue</th>\n",
       "      <th>loc + regional</th>\n",
       "      <th>4</th>\n",
       "      <th>10.0</th>\n",
       "      <td>0.297633</td>\n",
       "      <td>0.303302</td>\n",
       "      <td>0.310020</td>\n",
       "      <td>0.317358</td>\n",
       "      <td>0.324889</td>\n",
       "      <td>0.332183</td>\n",
       "      <td>0.338116</td>\n",
       "      <td>0.343570</td>\n",
       "      <td>0.347000</td>\n",
       "      <td>0.348664</td>\n",
       "      <td>...</td>\n",
       "      <td>0.265302</td>\n",
       "      <td>0.265724</td>\n",
       "      <td>0.265613</td>\n",
       "      <td>0.265108</td>\n",
       "      <td>0.264352</td>\n",
       "      <td>0.264805</td>\n",
       "      <td>0.266407</td>\n",
       "      <td>0.269021</td>\n",
       "      <td>0.272374</td>\n",
       "      <td>0.276251</td>\n",
       "    </tr>\n",
       "    <tr>\n",
       "      <th rowspan=\"2\" valign=\"top\">False</th>\n",
       "      <th rowspan=\"2\" valign=\"top\">False</th>\n",
       "      <th>False</th>\n",
       "      <th>6</th>\n",
       "      <th>False</th>\n",
       "      <th>False</th>\n",
       "      <th>False</th>\n",
       "      <th>I</th>\n",
       "      <th>/mnt/b/Google_Drive/PhD/Project with Janet/Label_Images/TMA_1/TMA_1.4_F13.png</th>\n",
       "      <th>3535</th>\n",
       "      <th>F13</th>\n",
       "      <th>F13</th>\n",
       "      <th>other</th>\n",
       "      <th>Other</th>\n",
       "      <th>NaT</th>\n",
       "      <th>NaT</th>\n",
       "      <th>57.0</th>\n",
       "      <th>Alive</th>\n",
       "      <th>no</th>\n",
       "      <th>N</th>\n",
       "      <th>1.0-F13</th>\n",
       "      <th>2020-02-05</th>\n",
       "      <th>2020-04-21</th>\n",
       "      <th>0</th>\n",
       "      <th>alive</th>\n",
       "      <th>PG</th>\n",
       "      <th>no</th>\n",
       "      <th>pT4N0M0</th>\n",
       "      <th>3535</th>\n",
       "      <th>3535</th>\n",
       "      <th>no</th>\n",
       "      <th>4</th>\n",
       "      <th>1.0</th>\n",
       "      <th>F13</th>\n",
       "      <th>Tumour</th>\n",
       "      <th>NaN</th>\n",
       "      <th>non-cohesive</th>\n",
       "      <th>57</th>\n",
       "      <th>2009-09-03</th>\n",
       "      <th>mod</th>\n",
       "      <th>/mnt/b/Google_Drive/PhD/Project with Janet/Kohler_Corrected/TMA_1TMA_1.4_F13.HDR</th>\n",
       "      <th>f</th>\n",
       "      <th>f</th>\n",
       "      <th>NaT</th>\n",
       "      <th>0</th>\n",
       "      <th>4</th>\n",
       "      <th>NaN</th>\n",
       "      <th>no</th>\n",
       "      <th>other</th>\n",
       "      <th>multiple primaries</th>\n",
       "      <th>NaN</th>\n",
       "      <th>94.0</th>\n",
       "      <td>0.001786</td>\n",
       "      <td>0.006629</td>\n",
       "      <td>0.010811</td>\n",
       "      <td>0.014471</td>\n",
       "      <td>0.017752</td>\n",
       "      <td>0.020793</td>\n",
       "      <td>0.023667</td>\n",
       "      <td>0.026413</td>\n",
       "      <td>0.029208</td>\n",
       "      <td>0.032877</td>\n",
       "      <td>...</td>\n",
       "      <td>0.005630</td>\n",
       "      <td>0.005724</td>\n",
       "      <td>0.006198</td>\n",
       "      <td>0.006836</td>\n",
       "      <td>0.007336</td>\n",
       "      <td>0.008139</td>\n",
       "      <td>0.008902</td>\n",
       "      <td>0.009515</td>\n",
       "      <td>0.009994</td>\n",
       "      <td>0.010534</td>\n",
       "    </tr>\n",
       "    <tr>\n",
       "      <th>True</th>\n",
       "      <th>2</th>\n",
       "      <th>True</th>\n",
       "      <th>False</th>\n",
       "      <th>False</th>\n",
       "      <th>I</th>\n",
       "      <th>/mnt/b/Google_Drive/PhD/Project with Janet/Label_Images/TMA_2/TMA_1.1_C1.png</th>\n",
       "      <th>3270</th>\n",
       "      <th>C1</th>\n",
       "      <th>C1</th>\n",
       "      <th>other</th>\n",
       "      <th>Other</th>\n",
       "      <th>2009-06-08</th>\n",
       "      <th>NaT</th>\n",
       "      <th>58.0</th>\n",
       "      <th>Died</th>\n",
       "      <th>yes</th>\n",
       "      <th>Y</th>\n",
       "      <th>2.0-C1</th>\n",
       "      <th>NaT</th>\n",
       "      <th>2019-05-16</th>\n",
       "      <th>2b</th>\n",
       "      <th>Died</th>\n",
       "      <th>FG</th>\n",
       "      <th>yes</th>\n",
       "      <th>pT2N2b</th>\n",
       "      <th>3270</th>\n",
       "      <th>3270</th>\n",
       "      <th>no</th>\n",
       "      <th>2</th>\n",
       "      <th>2.0</th>\n",
       "      <th>C1</th>\n",
       "      <th>Tumour</th>\n",
       "      <th>3.0</th>\n",
       "      <th>non-cohesive</th>\n",
       "      <th>58</th>\n",
       "      <th>2006-09-14</th>\n",
       "      <th>mod</th>\n",
       "      <th>/mnt/b/Google_Drive/PhD/Project with Janet/Kohler_Corrected/TMA_2TMA_1.1_C1.HDR</th>\n",
       "      <th>m</th>\n",
       "      <th>m</th>\n",
       "      <th>998 days</th>\n",
       "      <th>2b</th>\n",
       "      <th>2</th>\n",
       "      <th>yes</th>\n",
       "      <th>no</th>\n",
       "      <th>other</th>\n",
       "      <th>NaN</th>\n",
       "      <th>4a</th>\n",
       "      <th>33.0</th>\n",
       "      <td>0.053018</td>\n",
       "      <td>0.053825</td>\n",
       "      <td>0.054481</td>\n",
       "      <td>0.055038</td>\n",
       "      <td>0.055549</td>\n",
       "      <td>0.056066</td>\n",
       "      <td>0.056993</td>\n",
       "      <td>0.057712</td>\n",
       "      <td>0.058399</td>\n",
       "      <td>0.059227</td>\n",
       "      <td>...</td>\n",
       "      <td>0.061652</td>\n",
       "      <td>0.061533</td>\n",
       "      <td>0.061389</td>\n",
       "      <td>0.061028</td>\n",
       "      <td>0.060815</td>\n",
       "      <td>0.060779</td>\n",
       "      <td>0.060854</td>\n",
       "      <td>0.060889</td>\n",
       "      <td>0.060516</td>\n",
       "      <td>0.059964</td>\n",
       "    </tr>\n",
       "    <tr>\n",
       "      <th>True</th>\n",
       "      <th>True</th>\n",
       "      <th>False</th>\n",
       "      <th>1</th>\n",
       "      <th>False</th>\n",
       "      <th>False</th>\n",
       "      <th>False</th>\n",
       "      <th>H</th>\n",
       "      <th>/mnt/b/Google_Drive/PhD/Project with Janet/Label_Images/TMA_2/TMA_1.1_B1.png</th>\n",
       "      <th>3251</th>\n",
       "      <th>B1</th>\n",
       "      <th>B1</th>\n",
       "      <th>oral tongue</th>\n",
       "      <th>DOD</th>\n",
       "      <th>2006-07-21</th>\n",
       "      <th>NaT</th>\n",
       "      <th>70.0</th>\n",
       "      <th>Died</th>\n",
       "      <th>yes</th>\n",
       "      <th>Y</th>\n",
       "      <th>2.0-B1</th>\n",
       "      <th>NaT</th>\n",
       "      <th>2020-03-13</th>\n",
       "      <th>1</th>\n",
       "      <th>DOD</th>\n",
       "      <th>FG</th>\n",
       "      <th>yes</th>\n",
       "      <th>pT4N1M0</th>\n",
       "      <th>3251</th>\n",
       "      <th>3251</th>\n",
       "      <th>no</th>\n",
       "      <th>4</th>\n",
       "      <th>2.0</th>\n",
       "      <th>B1</th>\n",
       "      <th>Tumour</th>\n",
       "      <th>0.0</th>\n",
       "      <th>islands</th>\n",
       "      <th>70</th>\n",
       "      <th>2006-05-31</th>\n",
       "      <th>mod</th>\n",
       "      <th>/mnt/b/Google_Drive/PhD/Project with Janet/Kohler_Corrected/TMA_2TMA_1.1_B1.HDR</th>\n",
       "      <th>m</th>\n",
       "      <th>m</th>\n",
       "      <th>51 days</th>\n",
       "      <th>1</th>\n",
       "      <th>4</th>\n",
       "      <th>no</th>\n",
       "      <th>no</th>\n",
       "      <th>tongue</th>\n",
       "      <th>NaN</th>\n",
       "      <th>4</th>\n",
       "      <th>2.0</th>\n",
       "      <td>0.038062</td>\n",
       "      <td>0.038830</td>\n",
       "      <td>0.039560</td>\n",
       "      <td>0.040336</td>\n",
       "      <td>0.041241</td>\n",
       "      <td>0.042357</td>\n",
       "      <td>0.043628</td>\n",
       "      <td>0.045544</td>\n",
       "      <td>0.047905</td>\n",
       "      <td>0.050205</td>\n",
       "      <td>...</td>\n",
       "      <td>0.037711</td>\n",
       "      <td>0.036994</td>\n",
       "      <td>0.036698</td>\n",
       "      <td>0.036523</td>\n",
       "      <td>0.036370</td>\n",
       "      <td>0.036547</td>\n",
       "      <td>0.036884</td>\n",
       "      <td>0.037273</td>\n",
       "      <td>0.037674</td>\n",
       "      <td>0.038160</td>\n",
       "    </tr>\n",
       "    <tr>\n",
       "      <th>False</th>\n",
       "      <th>False</th>\n",
       "      <th>True</th>\n",
       "      <th>2</th>\n",
       "      <th>True</th>\n",
       "      <th>False</th>\n",
       "      <th>False</th>\n",
       "      <th>I</th>\n",
       "      <th>/mnt/b/Google_Drive/PhD/Project with Janet/Label_Images/TMA_1/TMA_1.4_G9.png</th>\n",
       "      <th>3550</th>\n",
       "      <th>G9</th>\n",
       "      <th>G9</th>\n",
       "      <th>other</th>\n",
       "      <th>Other</th>\n",
       "      <th>2012-08-15</th>\n",
       "      <th>NaT</th>\n",
       "      <th>61.0</th>\n",
       "      <th>Died</th>\n",
       "      <th>no</th>\n",
       "      <th>N</th>\n",
       "      <th>1.0-G9</th>\n",
       "      <th>NaT</th>\n",
       "      <th>NaT</th>\n",
       "      <th>0</th>\n",
       "      <th>died</th>\n",
       "      <th>CBarry</th>\n",
       "      <th>yes</th>\n",
       "      <th>pT4N0</th>\n",
       "      <th>3550</th>\n",
       "      <th>3550</th>\n",
       "      <th>no</th>\n",
       "      <th>4</th>\n",
       "      <th>1.0</th>\n",
       "      <th>G9</th>\n",
       "      <th>Tumour</th>\n",
       "      <th>3.0</th>\n",
       "      <th>dyscohesive</th>\n",
       "      <th>61</th>\n",
       "      <th>2009-12-10</th>\n",
       "      <th>mod</th>\n",
       "      <th>/mnt/b/Google_Drive/PhD/Project with Janet/Kohler_Corrected/TMA_1TMA_1.4_G9.HDR</th>\n",
       "      <th>m</th>\n",
       "      <th>m</th>\n",
       "      <th>979 days</th>\n",
       "      <th>0</th>\n",
       "      <th>2</th>\n",
       "      <th>no</th>\n",
       "      <th>no</th>\n",
       "      <th>other</th>\n",
       "      <th>NaN</th>\n",
       "      <th>2</th>\n",
       "      <th>9.0</th>\n",
       "      <td>-0.006735</td>\n",
       "      <td>-0.004001</td>\n",
       "      <td>-0.000704</td>\n",
       "      <td>0.003022</td>\n",
       "      <td>0.007042</td>\n",
       "      <td>0.011222</td>\n",
       "      <td>0.014987</td>\n",
       "      <td>0.019112</td>\n",
       "      <td>0.022694</td>\n",
       "      <td>0.025918</td>\n",
       "      <td>...</td>\n",
       "      <td>-0.033154</td>\n",
       "      <td>-0.032880</td>\n",
       "      <td>-0.032478</td>\n",
       "      <td>-0.032093</td>\n",
       "      <td>-0.031705</td>\n",
       "      <td>-0.030737</td>\n",
       "      <td>-0.029564</td>\n",
       "      <td>-0.028283</td>\n",
       "      <td>-0.027289</td>\n",
       "      <td>-0.026358</td>\n",
       "    </tr>\n",
       "  </tbody>\n",
       "</table>\n",
       "<p>5 rows × 169 columns</p>\n",
       "</div>"
      ],
      "text/plain": [
       "                                                                                                                                                                                                                                                                                                                                                                                                                                                                                                                                                                                                                                                998.0   \\\n",
       "1year 1yeardeath 2year 2years 3year 4year 5year ASMA Annotation_loc                                     Case ID Core_x Core_y Corrected Site AJCC/UICC DODvsAlive Date of death Date of recurrence Diagnosis Age DiedvsAlive ECS_x ECS_y ID      Last seen/reviewed Last updated N stage OUTCOME OUTCOME.updated by Overall Death  Pathogical Stage Patient nu  Patient_Number Recurrence? T stage TMA TMA site Tissue Years advancing front type age @ diag date of diag diff envi_loc                                           gender_x gender_y lifespan pN pT radiotherapy recurrence site   site of recurrence stage survival (months)             \n",
       "True  True       False 1      False False False I    /mnt/b/Google_Drive/PhD/Project with Janet/Labe... 3464    E14    E14    oral tongue              DOD        2009-11-01    2009-09-02         82.0          Died        yes   Y     1.0-E14 NaT                2012-10-04   2b      DOD     CBarry             yes            pT2N2bMx         3464        3464           yes         2       1.0 E14      Tumour 0.0   NaN                  82         2009-01-15   mod  /mnt/b/Google_Drive/PhD/Project with Janet/Kohl... m        m        290 days 2b 2  yes          yes        tongue loc + regional     4     10.0               0.297633   \n",
       "False False      False 6      False False False I    /mnt/b/Google_Drive/PhD/Project with Janet/Labe... 3535    F13    F13    other                    Other      NaT           NaT                57.0          Alive       no    N     1.0-F13 2020-02-05         2020-04-21   0       alive   PG                 no             pT4N0M0          3535        3535           no          4       1.0 F13      Tumour NaN   non-cohesive         57         2009-09-03   mod  /mnt/b/Google_Drive/PhD/Project with Janet/Kohl... f        f        NaT      0  4  NaN          no         other  multiple primaries NaN   94.0               0.001786   \n",
       "                 True  2      True  False False I    /mnt/b/Google_Drive/PhD/Project with Janet/Labe... 3270    C1     C1     other                    Other      2009-06-08    NaT                58.0          Died        yes   Y     2.0-C1  NaT                2019-05-16   2b      Died    FG                 yes            pT2N2b           3270        3270           no          2       2.0 C1       Tumour 3.0   non-cohesive         58         2006-09-14   mod  /mnt/b/Google_Drive/PhD/Project with Janet/Kohl... m        m        998 days 2b 2  yes          no         other  NaN                4a    33.0               0.053018   \n",
       "True  True       False 1      False False False H    /mnt/b/Google_Drive/PhD/Project with Janet/Labe... 3251    B1     B1     oral tongue              DOD        2006-07-21    NaT                70.0          Died        yes   Y     2.0-B1  NaT                2020-03-13   1       DOD     FG                 yes            pT4N1M0          3251        3251           no          4       2.0 B1       Tumour 0.0   islands              70         2006-05-31   mod  /mnt/b/Google_Drive/PhD/Project with Janet/Kohl... m        m        51 days  1  4  no           no         tongue NaN                4     2.0                0.038062   \n",
       "False False      True  2      True  False False I    /mnt/b/Google_Drive/PhD/Project with Janet/Labe... 3550    G9     G9     other                    Other      2012-08-15    NaT                61.0          Died        no    N     1.0-G9  NaT                NaT          0       died    CBarry             yes            pT4N0            3550        3550           no          4       1.0 G9       Tumour 3.0   dyscohesive          61         2009-12-10   mod  /mnt/b/Google_Drive/PhD/Project with Janet/Kohl... m        m        979 days 0  2  no           no         other  NaN                2     9.0               -0.006735   \n",
       "\n",
       "                                                                                                                                                                                                                                                                                                                                                                                                                                                                                                                                                                                                                                                1002.0  \\\n",
       "1year 1yeardeath 2year 2years 3year 4year 5year ASMA Annotation_loc                                     Case ID Core_x Core_y Corrected Site AJCC/UICC DODvsAlive Date of death Date of recurrence Diagnosis Age DiedvsAlive ECS_x ECS_y ID      Last seen/reviewed Last updated N stage OUTCOME OUTCOME.updated by Overall Death  Pathogical Stage Patient nu  Patient_Number Recurrence? T stage TMA TMA site Tissue Years advancing front type age @ diag date of diag diff envi_loc                                           gender_x gender_y lifespan pN pT radiotherapy recurrence site   site of recurrence stage survival (months)             \n",
       "True  True       False 1      False False False I    /mnt/b/Google_Drive/PhD/Project with Janet/Labe... 3464    E14    E14    oral tongue              DOD        2009-11-01    2009-09-02         82.0          Died        yes   Y     1.0-E14 NaT                2012-10-04   2b      DOD     CBarry             yes            pT2N2bMx         3464        3464           yes         2       1.0 E14      Tumour 0.0   NaN                  82         2009-01-15   mod  /mnt/b/Google_Drive/PhD/Project with Janet/Kohl... m        m        290 days 2b 2  yes          yes        tongue loc + regional     4     10.0               0.303302   \n",
       "False False      False 6      False False False I    /mnt/b/Google_Drive/PhD/Project with Janet/Labe... 3535    F13    F13    other                    Other      NaT           NaT                57.0          Alive       no    N     1.0-F13 2020-02-05         2020-04-21   0       alive   PG                 no             pT4N0M0          3535        3535           no          4       1.0 F13      Tumour NaN   non-cohesive         57         2009-09-03   mod  /mnt/b/Google_Drive/PhD/Project with Janet/Kohl... f        f        NaT      0  4  NaN          no         other  multiple primaries NaN   94.0               0.006629   \n",
       "                 True  2      True  False False I    /mnt/b/Google_Drive/PhD/Project with Janet/Labe... 3270    C1     C1     other                    Other      2009-06-08    NaT                58.0          Died        yes   Y     2.0-C1  NaT                2019-05-16   2b      Died    FG                 yes            pT2N2b           3270        3270           no          2       2.0 C1       Tumour 3.0   non-cohesive         58         2006-09-14   mod  /mnt/b/Google_Drive/PhD/Project with Janet/Kohl... m        m        998 days 2b 2  yes          no         other  NaN                4a    33.0               0.053825   \n",
       "True  True       False 1      False False False H    /mnt/b/Google_Drive/PhD/Project with Janet/Labe... 3251    B1     B1     oral tongue              DOD        2006-07-21    NaT                70.0          Died        yes   Y     2.0-B1  NaT                2020-03-13   1       DOD     FG                 yes            pT4N1M0          3251        3251           no          4       2.0 B1       Tumour 0.0   islands              70         2006-05-31   mod  /mnt/b/Google_Drive/PhD/Project with Janet/Kohl... m        m        51 days  1  4  no           no         tongue NaN                4     2.0                0.038830   \n",
       "False False      True  2      True  False False I    /mnt/b/Google_Drive/PhD/Project with Janet/Labe... 3550    G9     G9     other                    Other      2012-08-15    NaT                61.0          Died        no    N     1.0-G9  NaT                NaT          0       died    CBarry             yes            pT4N0            3550        3550           no          4       1.0 G9       Tumour 3.0   dyscohesive          61         2009-12-10   mod  /mnt/b/Google_Drive/PhD/Project with Janet/Kohl... m        m        979 days 0  2  no           no         other  NaN                2     9.0               -0.004001   \n",
       "\n",
       "                                                                                                                                                                                                                                                                                                                                                                                                                                                                                                                                                                                                                                                1006.0  \\\n",
       "1year 1yeardeath 2year 2years 3year 4year 5year ASMA Annotation_loc                                     Case ID Core_x Core_y Corrected Site AJCC/UICC DODvsAlive Date of death Date of recurrence Diagnosis Age DiedvsAlive ECS_x ECS_y ID      Last seen/reviewed Last updated N stage OUTCOME OUTCOME.updated by Overall Death  Pathogical Stage Patient nu  Patient_Number Recurrence? T stage TMA TMA site Tissue Years advancing front type age @ diag date of diag diff envi_loc                                           gender_x gender_y lifespan pN pT radiotherapy recurrence site   site of recurrence stage survival (months)             \n",
       "True  True       False 1      False False False I    /mnt/b/Google_Drive/PhD/Project with Janet/Labe... 3464    E14    E14    oral tongue              DOD        2009-11-01    2009-09-02         82.0          Died        yes   Y     1.0-E14 NaT                2012-10-04   2b      DOD     CBarry             yes            pT2N2bMx         3464        3464           yes         2       1.0 E14      Tumour 0.0   NaN                  82         2009-01-15   mod  /mnt/b/Google_Drive/PhD/Project with Janet/Kohl... m        m        290 days 2b 2  yes          yes        tongue loc + regional     4     10.0               0.310020   \n",
       "False False      False 6      False False False I    /mnt/b/Google_Drive/PhD/Project with Janet/Labe... 3535    F13    F13    other                    Other      NaT           NaT                57.0          Alive       no    N     1.0-F13 2020-02-05         2020-04-21   0       alive   PG                 no             pT4N0M0          3535        3535           no          4       1.0 F13      Tumour NaN   non-cohesive         57         2009-09-03   mod  /mnt/b/Google_Drive/PhD/Project with Janet/Kohl... f        f        NaT      0  4  NaN          no         other  multiple primaries NaN   94.0               0.010811   \n",
       "                 True  2      True  False False I    /mnt/b/Google_Drive/PhD/Project with Janet/Labe... 3270    C1     C1     other                    Other      2009-06-08    NaT                58.0          Died        yes   Y     2.0-C1  NaT                2019-05-16   2b      Died    FG                 yes            pT2N2b           3270        3270           no          2       2.0 C1       Tumour 3.0   non-cohesive         58         2006-09-14   mod  /mnt/b/Google_Drive/PhD/Project with Janet/Kohl... m        m        998 days 2b 2  yes          no         other  NaN                4a    33.0               0.054481   \n",
       "True  True       False 1      False False False H    /mnt/b/Google_Drive/PhD/Project with Janet/Labe... 3251    B1     B1     oral tongue              DOD        2006-07-21    NaT                70.0          Died        yes   Y     2.0-B1  NaT                2020-03-13   1       DOD     FG                 yes            pT4N1M0          3251        3251           no          4       2.0 B1       Tumour 0.0   islands              70         2006-05-31   mod  /mnt/b/Google_Drive/PhD/Project with Janet/Kohl... m        m        51 days  1  4  no           no         tongue NaN                4     2.0                0.039560   \n",
       "False False      True  2      True  False False I    /mnt/b/Google_Drive/PhD/Project with Janet/Labe... 3550    G9     G9     other                    Other      2012-08-15    NaT                61.0          Died        no    N     1.0-G9  NaT                NaT          0       died    CBarry             yes            pT4N0            3550        3550           no          4       1.0 G9       Tumour 3.0   dyscohesive          61         2009-12-10   mod  /mnt/b/Google_Drive/PhD/Project with Janet/Kohl... m        m        979 days 0  2  no           no         other  NaN                2     9.0               -0.000704   \n",
       "\n",
       "                                                                                                                                                                                                                                                                                                                                                                                                                                                                                                                                                                                                                                                1010.0  \\\n",
       "1year 1yeardeath 2year 2years 3year 4year 5year ASMA Annotation_loc                                     Case ID Core_x Core_y Corrected Site AJCC/UICC DODvsAlive Date of death Date of recurrence Diagnosis Age DiedvsAlive ECS_x ECS_y ID      Last seen/reviewed Last updated N stage OUTCOME OUTCOME.updated by Overall Death  Pathogical Stage Patient nu  Patient_Number Recurrence? T stage TMA TMA site Tissue Years advancing front type age @ diag date of diag diff envi_loc                                           gender_x gender_y lifespan pN pT radiotherapy recurrence site   site of recurrence stage survival (months)             \n",
       "True  True       False 1      False False False I    /mnt/b/Google_Drive/PhD/Project with Janet/Labe... 3464    E14    E14    oral tongue              DOD        2009-11-01    2009-09-02         82.0          Died        yes   Y     1.0-E14 NaT                2012-10-04   2b      DOD     CBarry             yes            pT2N2bMx         3464        3464           yes         2       1.0 E14      Tumour 0.0   NaN                  82         2009-01-15   mod  /mnt/b/Google_Drive/PhD/Project with Janet/Kohl... m        m        290 days 2b 2  yes          yes        tongue loc + regional     4     10.0               0.317358   \n",
       "False False      False 6      False False False I    /mnt/b/Google_Drive/PhD/Project with Janet/Labe... 3535    F13    F13    other                    Other      NaT           NaT                57.0          Alive       no    N     1.0-F13 2020-02-05         2020-04-21   0       alive   PG                 no             pT4N0M0          3535        3535           no          4       1.0 F13      Tumour NaN   non-cohesive         57         2009-09-03   mod  /mnt/b/Google_Drive/PhD/Project with Janet/Kohl... f        f        NaT      0  4  NaN          no         other  multiple primaries NaN   94.0               0.014471   \n",
       "                 True  2      True  False False I    /mnt/b/Google_Drive/PhD/Project with Janet/Labe... 3270    C1     C1     other                    Other      2009-06-08    NaT                58.0          Died        yes   Y     2.0-C1  NaT                2019-05-16   2b      Died    FG                 yes            pT2N2b           3270        3270           no          2       2.0 C1       Tumour 3.0   non-cohesive         58         2006-09-14   mod  /mnt/b/Google_Drive/PhD/Project with Janet/Kohl... m        m        998 days 2b 2  yes          no         other  NaN                4a    33.0               0.055038   \n",
       "True  True       False 1      False False False H    /mnt/b/Google_Drive/PhD/Project with Janet/Labe... 3251    B1     B1     oral tongue              DOD        2006-07-21    NaT                70.0          Died        yes   Y     2.0-B1  NaT                2020-03-13   1       DOD     FG                 yes            pT4N1M0          3251        3251           no          4       2.0 B1       Tumour 0.0   islands              70         2006-05-31   mod  /mnt/b/Google_Drive/PhD/Project with Janet/Kohl... m        m        51 days  1  4  no           no         tongue NaN                4     2.0                0.040336   \n",
       "False False      True  2      True  False False I    /mnt/b/Google_Drive/PhD/Project with Janet/Labe... 3550    G9     G9     other                    Other      2012-08-15    NaT                61.0          Died        no    N     1.0-G9  NaT                NaT          0       died    CBarry             yes            pT4N0            3550        3550           no          4       1.0 G9       Tumour 3.0   dyscohesive          61         2009-12-10   mod  /mnt/b/Google_Drive/PhD/Project with Janet/Kohl... m        m        979 days 0  2  no           no         other  NaN                2     9.0                0.003022   \n",
       "\n",
       "                                                                                                                                                                                                                                                                                                                                                                                                                                                                                                                                                                                                                                                1014.0  \\\n",
       "1year 1yeardeath 2year 2years 3year 4year 5year ASMA Annotation_loc                                     Case ID Core_x Core_y Corrected Site AJCC/UICC DODvsAlive Date of death Date of recurrence Diagnosis Age DiedvsAlive ECS_x ECS_y ID      Last seen/reviewed Last updated N stage OUTCOME OUTCOME.updated by Overall Death  Pathogical Stage Patient nu  Patient_Number Recurrence? T stage TMA TMA site Tissue Years advancing front type age @ diag date of diag diff envi_loc                                           gender_x gender_y lifespan pN pT radiotherapy recurrence site   site of recurrence stage survival (months)             \n",
       "True  True       False 1      False False False I    /mnt/b/Google_Drive/PhD/Project with Janet/Labe... 3464    E14    E14    oral tongue              DOD        2009-11-01    2009-09-02         82.0          Died        yes   Y     1.0-E14 NaT                2012-10-04   2b      DOD     CBarry             yes            pT2N2bMx         3464        3464           yes         2       1.0 E14      Tumour 0.0   NaN                  82         2009-01-15   mod  /mnt/b/Google_Drive/PhD/Project with Janet/Kohl... m        m        290 days 2b 2  yes          yes        tongue loc + regional     4     10.0               0.324889   \n",
       "False False      False 6      False False False I    /mnt/b/Google_Drive/PhD/Project with Janet/Labe... 3535    F13    F13    other                    Other      NaT           NaT                57.0          Alive       no    N     1.0-F13 2020-02-05         2020-04-21   0       alive   PG                 no             pT4N0M0          3535        3535           no          4       1.0 F13      Tumour NaN   non-cohesive         57         2009-09-03   mod  /mnt/b/Google_Drive/PhD/Project with Janet/Kohl... f        f        NaT      0  4  NaN          no         other  multiple primaries NaN   94.0               0.017752   \n",
       "                 True  2      True  False False I    /mnt/b/Google_Drive/PhD/Project with Janet/Labe... 3270    C1     C1     other                    Other      2009-06-08    NaT                58.0          Died        yes   Y     2.0-C1  NaT                2019-05-16   2b      Died    FG                 yes            pT2N2b           3270        3270           no          2       2.0 C1       Tumour 3.0   non-cohesive         58         2006-09-14   mod  /mnt/b/Google_Drive/PhD/Project with Janet/Kohl... m        m        998 days 2b 2  yes          no         other  NaN                4a    33.0               0.055549   \n",
       "True  True       False 1      False False False H    /mnt/b/Google_Drive/PhD/Project with Janet/Labe... 3251    B1     B1     oral tongue              DOD        2006-07-21    NaT                70.0          Died        yes   Y     2.0-B1  NaT                2020-03-13   1       DOD     FG                 yes            pT4N1M0          3251        3251           no          4       2.0 B1       Tumour 0.0   islands              70         2006-05-31   mod  /mnt/b/Google_Drive/PhD/Project with Janet/Kohl... m        m        51 days  1  4  no           no         tongue NaN                4     2.0                0.041241   \n",
       "False False      True  2      True  False False I    /mnt/b/Google_Drive/PhD/Project with Janet/Labe... 3550    G9     G9     other                    Other      2012-08-15    NaT                61.0          Died        no    N     1.0-G9  NaT                NaT          0       died    CBarry             yes            pT4N0            3550        3550           no          4       1.0 G9       Tumour 3.0   dyscohesive          61         2009-12-10   mod  /mnt/b/Google_Drive/PhD/Project with Janet/Kohl... m        m        979 days 0  2  no           no         other  NaN                2     9.0                0.007042   \n",
       "\n",
       "                                                                                                                                                                                                                                                                                                                                                                                                                                                                                                                                                                                                                                                1018.0  \\\n",
       "1year 1yeardeath 2year 2years 3year 4year 5year ASMA Annotation_loc                                     Case ID Core_x Core_y Corrected Site AJCC/UICC DODvsAlive Date of death Date of recurrence Diagnosis Age DiedvsAlive ECS_x ECS_y ID      Last seen/reviewed Last updated N stage OUTCOME OUTCOME.updated by Overall Death  Pathogical Stage Patient nu  Patient_Number Recurrence? T stage TMA TMA site Tissue Years advancing front type age @ diag date of diag diff envi_loc                                           gender_x gender_y lifespan pN pT radiotherapy recurrence site   site of recurrence stage survival (months)             \n",
       "True  True       False 1      False False False I    /mnt/b/Google_Drive/PhD/Project with Janet/Labe... 3464    E14    E14    oral tongue              DOD        2009-11-01    2009-09-02         82.0          Died        yes   Y     1.0-E14 NaT                2012-10-04   2b      DOD     CBarry             yes            pT2N2bMx         3464        3464           yes         2       1.0 E14      Tumour 0.0   NaN                  82         2009-01-15   mod  /mnt/b/Google_Drive/PhD/Project with Janet/Kohl... m        m        290 days 2b 2  yes          yes        tongue loc + regional     4     10.0               0.332183   \n",
       "False False      False 6      False False False I    /mnt/b/Google_Drive/PhD/Project with Janet/Labe... 3535    F13    F13    other                    Other      NaT           NaT                57.0          Alive       no    N     1.0-F13 2020-02-05         2020-04-21   0       alive   PG                 no             pT4N0M0          3535        3535           no          4       1.0 F13      Tumour NaN   non-cohesive         57         2009-09-03   mod  /mnt/b/Google_Drive/PhD/Project with Janet/Kohl... f        f        NaT      0  4  NaN          no         other  multiple primaries NaN   94.0               0.020793   \n",
       "                 True  2      True  False False I    /mnt/b/Google_Drive/PhD/Project with Janet/Labe... 3270    C1     C1     other                    Other      2009-06-08    NaT                58.0          Died        yes   Y     2.0-C1  NaT                2019-05-16   2b      Died    FG                 yes            pT2N2b           3270        3270           no          2       2.0 C1       Tumour 3.0   non-cohesive         58         2006-09-14   mod  /mnt/b/Google_Drive/PhD/Project with Janet/Kohl... m        m        998 days 2b 2  yes          no         other  NaN                4a    33.0               0.056066   \n",
       "True  True       False 1      False False False H    /mnt/b/Google_Drive/PhD/Project with Janet/Labe... 3251    B1     B1     oral tongue              DOD        2006-07-21    NaT                70.0          Died        yes   Y     2.0-B1  NaT                2020-03-13   1       DOD     FG                 yes            pT4N1M0          3251        3251           no          4       2.0 B1       Tumour 0.0   islands              70         2006-05-31   mod  /mnt/b/Google_Drive/PhD/Project with Janet/Kohl... m        m        51 days  1  4  no           no         tongue NaN                4     2.0                0.042357   \n",
       "False False      True  2      True  False False I    /mnt/b/Google_Drive/PhD/Project with Janet/Labe... 3550    G9     G9     other                    Other      2012-08-15    NaT                61.0          Died        no    N     1.0-G9  NaT                NaT          0       died    CBarry             yes            pT4N0            3550        3550           no          4       1.0 G9       Tumour 3.0   dyscohesive          61         2009-12-10   mod  /mnt/b/Google_Drive/PhD/Project with Janet/Kohl... m        m        979 days 0  2  no           no         other  NaN                2     9.0                0.011222   \n",
       "\n",
       "                                                                                                                                                                                                                                                                                                                                                                                                                                                                                                                                                                                                                                                1022.0  \\\n",
       "1year 1yeardeath 2year 2years 3year 4year 5year ASMA Annotation_loc                                     Case ID Core_x Core_y Corrected Site AJCC/UICC DODvsAlive Date of death Date of recurrence Diagnosis Age DiedvsAlive ECS_x ECS_y ID      Last seen/reviewed Last updated N stage OUTCOME OUTCOME.updated by Overall Death  Pathogical Stage Patient nu  Patient_Number Recurrence? T stage TMA TMA site Tissue Years advancing front type age @ diag date of diag diff envi_loc                                           gender_x gender_y lifespan pN pT radiotherapy recurrence site   site of recurrence stage survival (months)             \n",
       "True  True       False 1      False False False I    /mnt/b/Google_Drive/PhD/Project with Janet/Labe... 3464    E14    E14    oral tongue              DOD        2009-11-01    2009-09-02         82.0          Died        yes   Y     1.0-E14 NaT                2012-10-04   2b      DOD     CBarry             yes            pT2N2bMx         3464        3464           yes         2       1.0 E14      Tumour 0.0   NaN                  82         2009-01-15   mod  /mnt/b/Google_Drive/PhD/Project with Janet/Kohl... m        m        290 days 2b 2  yes          yes        tongue loc + regional     4     10.0               0.338116   \n",
       "False False      False 6      False False False I    /mnt/b/Google_Drive/PhD/Project with Janet/Labe... 3535    F13    F13    other                    Other      NaT           NaT                57.0          Alive       no    N     1.0-F13 2020-02-05         2020-04-21   0       alive   PG                 no             pT4N0M0          3535        3535           no          4       1.0 F13      Tumour NaN   non-cohesive         57         2009-09-03   mod  /mnt/b/Google_Drive/PhD/Project with Janet/Kohl... f        f        NaT      0  4  NaN          no         other  multiple primaries NaN   94.0               0.023667   \n",
       "                 True  2      True  False False I    /mnt/b/Google_Drive/PhD/Project with Janet/Labe... 3270    C1     C1     other                    Other      2009-06-08    NaT                58.0          Died        yes   Y     2.0-C1  NaT                2019-05-16   2b      Died    FG                 yes            pT2N2b           3270        3270           no          2       2.0 C1       Tumour 3.0   non-cohesive         58         2006-09-14   mod  /mnt/b/Google_Drive/PhD/Project with Janet/Kohl... m        m        998 days 2b 2  yes          no         other  NaN                4a    33.0               0.056993   \n",
       "True  True       False 1      False False False H    /mnt/b/Google_Drive/PhD/Project with Janet/Labe... 3251    B1     B1     oral tongue              DOD        2006-07-21    NaT                70.0          Died        yes   Y     2.0-B1  NaT                2020-03-13   1       DOD     FG                 yes            pT4N1M0          3251        3251           no          4       2.0 B1       Tumour 0.0   islands              70         2006-05-31   mod  /mnt/b/Google_Drive/PhD/Project with Janet/Kohl... m        m        51 days  1  4  no           no         tongue NaN                4     2.0                0.043628   \n",
       "False False      True  2      True  False False I    /mnt/b/Google_Drive/PhD/Project with Janet/Labe... 3550    G9     G9     other                    Other      2012-08-15    NaT                61.0          Died        no    N     1.0-G9  NaT                NaT          0       died    CBarry             yes            pT4N0            3550        3550           no          4       1.0 G9       Tumour 3.0   dyscohesive          61         2009-12-10   mod  /mnt/b/Google_Drive/PhD/Project with Janet/Kohl... m        m        979 days 0  2  no           no         other  NaN                2     9.0                0.014987   \n",
       "\n",
       "                                                                                                                                                                                                                                                                                                                                                                                                                                                                                                                                                                                                                                                1025.0  \\\n",
       "1year 1yeardeath 2year 2years 3year 4year 5year ASMA Annotation_loc                                     Case ID Core_x Core_y Corrected Site AJCC/UICC DODvsAlive Date of death Date of recurrence Diagnosis Age DiedvsAlive ECS_x ECS_y ID      Last seen/reviewed Last updated N stage OUTCOME OUTCOME.updated by Overall Death  Pathogical Stage Patient nu  Patient_Number Recurrence? T stage TMA TMA site Tissue Years advancing front type age @ diag date of diag diff envi_loc                                           gender_x gender_y lifespan pN pT radiotherapy recurrence site   site of recurrence stage survival (months)             \n",
       "True  True       False 1      False False False I    /mnt/b/Google_Drive/PhD/Project with Janet/Labe... 3464    E14    E14    oral tongue              DOD        2009-11-01    2009-09-02         82.0          Died        yes   Y     1.0-E14 NaT                2012-10-04   2b      DOD     CBarry             yes            pT2N2bMx         3464        3464           yes         2       1.0 E14      Tumour 0.0   NaN                  82         2009-01-15   mod  /mnt/b/Google_Drive/PhD/Project with Janet/Kohl... m        m        290 days 2b 2  yes          yes        tongue loc + regional     4     10.0               0.343570   \n",
       "False False      False 6      False False False I    /mnt/b/Google_Drive/PhD/Project with Janet/Labe... 3535    F13    F13    other                    Other      NaT           NaT                57.0          Alive       no    N     1.0-F13 2020-02-05         2020-04-21   0       alive   PG                 no             pT4N0M0          3535        3535           no          4       1.0 F13      Tumour NaN   non-cohesive         57         2009-09-03   mod  /mnt/b/Google_Drive/PhD/Project with Janet/Kohl... f        f        NaT      0  4  NaN          no         other  multiple primaries NaN   94.0               0.026413   \n",
       "                 True  2      True  False False I    /mnt/b/Google_Drive/PhD/Project with Janet/Labe... 3270    C1     C1     other                    Other      2009-06-08    NaT                58.0          Died        yes   Y     2.0-C1  NaT                2019-05-16   2b      Died    FG                 yes            pT2N2b           3270        3270           no          2       2.0 C1       Tumour 3.0   non-cohesive         58         2006-09-14   mod  /mnt/b/Google_Drive/PhD/Project with Janet/Kohl... m        m        998 days 2b 2  yes          no         other  NaN                4a    33.0               0.057712   \n",
       "True  True       False 1      False False False H    /mnt/b/Google_Drive/PhD/Project with Janet/Labe... 3251    B1     B1     oral tongue              DOD        2006-07-21    NaT                70.0          Died        yes   Y     2.0-B1  NaT                2020-03-13   1       DOD     FG                 yes            pT4N1M0          3251        3251           no          4       2.0 B1       Tumour 0.0   islands              70         2006-05-31   mod  /mnt/b/Google_Drive/PhD/Project with Janet/Kohl... m        m        51 days  1  4  no           no         tongue NaN                4     2.0                0.045544   \n",
       "False False      True  2      True  False False I    /mnt/b/Google_Drive/PhD/Project with Janet/Labe... 3550    G9     G9     other                    Other      2012-08-15    NaT                61.0          Died        no    N     1.0-G9  NaT                NaT          0       died    CBarry             yes            pT4N0            3550        3550           no          4       1.0 G9       Tumour 3.0   dyscohesive          61         2009-12-10   mod  /mnt/b/Google_Drive/PhD/Project with Janet/Kohl... m        m        979 days 0  2  no           no         other  NaN                2     9.0                0.019112   \n",
       "\n",
       "                                                                                                                                                                                                                                                                                                                                                                                                                                                                                                                                                                                                                                                1029.0  \\\n",
       "1year 1yeardeath 2year 2years 3year 4year 5year ASMA Annotation_loc                                     Case ID Core_x Core_y Corrected Site AJCC/UICC DODvsAlive Date of death Date of recurrence Diagnosis Age DiedvsAlive ECS_x ECS_y ID      Last seen/reviewed Last updated N stage OUTCOME OUTCOME.updated by Overall Death  Pathogical Stage Patient nu  Patient_Number Recurrence? T stage TMA TMA site Tissue Years advancing front type age @ diag date of diag diff envi_loc                                           gender_x gender_y lifespan pN pT radiotherapy recurrence site   site of recurrence stage survival (months)             \n",
       "True  True       False 1      False False False I    /mnt/b/Google_Drive/PhD/Project with Janet/Labe... 3464    E14    E14    oral tongue              DOD        2009-11-01    2009-09-02         82.0          Died        yes   Y     1.0-E14 NaT                2012-10-04   2b      DOD     CBarry             yes            pT2N2bMx         3464        3464           yes         2       1.0 E14      Tumour 0.0   NaN                  82         2009-01-15   mod  /mnt/b/Google_Drive/PhD/Project with Janet/Kohl... m        m        290 days 2b 2  yes          yes        tongue loc + regional     4     10.0               0.347000   \n",
       "False False      False 6      False False False I    /mnt/b/Google_Drive/PhD/Project with Janet/Labe... 3535    F13    F13    other                    Other      NaT           NaT                57.0          Alive       no    N     1.0-F13 2020-02-05         2020-04-21   0       alive   PG                 no             pT4N0M0          3535        3535           no          4       1.0 F13      Tumour NaN   non-cohesive         57         2009-09-03   mod  /mnt/b/Google_Drive/PhD/Project with Janet/Kohl... f        f        NaT      0  4  NaN          no         other  multiple primaries NaN   94.0               0.029208   \n",
       "                 True  2      True  False False I    /mnt/b/Google_Drive/PhD/Project with Janet/Labe... 3270    C1     C1     other                    Other      2009-06-08    NaT                58.0          Died        yes   Y     2.0-C1  NaT                2019-05-16   2b      Died    FG                 yes            pT2N2b           3270        3270           no          2       2.0 C1       Tumour 3.0   non-cohesive         58         2006-09-14   mod  /mnt/b/Google_Drive/PhD/Project with Janet/Kohl... m        m        998 days 2b 2  yes          no         other  NaN                4a    33.0               0.058399   \n",
       "True  True       False 1      False False False H    /mnt/b/Google_Drive/PhD/Project with Janet/Labe... 3251    B1     B1     oral tongue              DOD        2006-07-21    NaT                70.0          Died        yes   Y     2.0-B1  NaT                2020-03-13   1       DOD     FG                 yes            pT4N1M0          3251        3251           no          4       2.0 B1       Tumour 0.0   islands              70         2006-05-31   mod  /mnt/b/Google_Drive/PhD/Project with Janet/Kohl... m        m        51 days  1  4  no           no         tongue NaN                4     2.0                0.047905   \n",
       "False False      True  2      True  False False I    /mnt/b/Google_Drive/PhD/Project with Janet/Labe... 3550    G9     G9     other                    Other      2012-08-15    NaT                61.0          Died        no    N     1.0-G9  NaT                NaT          0       died    CBarry             yes            pT4N0            3550        3550           no          4       1.0 G9       Tumour 3.0   dyscohesive          61         2009-12-10   mod  /mnt/b/Google_Drive/PhD/Project with Janet/Kohl... m        m        979 days 0  2  no           no         other  NaN                2     9.0                0.022694   \n",
       "\n",
       "                                                                                                                                                                                                                                                                                                                                                                                                                                                                                                                                                                                                                                                1033.0  \\\n",
       "1year 1yeardeath 2year 2years 3year 4year 5year ASMA Annotation_loc                                     Case ID Core_x Core_y Corrected Site AJCC/UICC DODvsAlive Date of death Date of recurrence Diagnosis Age DiedvsAlive ECS_x ECS_y ID      Last seen/reviewed Last updated N stage OUTCOME OUTCOME.updated by Overall Death  Pathogical Stage Patient nu  Patient_Number Recurrence? T stage TMA TMA site Tissue Years advancing front type age @ diag date of diag diff envi_loc                                           gender_x gender_y lifespan pN pT radiotherapy recurrence site   site of recurrence stage survival (months)             \n",
       "True  True       False 1      False False False I    /mnt/b/Google_Drive/PhD/Project with Janet/Labe... 3464    E14    E14    oral tongue              DOD        2009-11-01    2009-09-02         82.0          Died        yes   Y     1.0-E14 NaT                2012-10-04   2b      DOD     CBarry             yes            pT2N2bMx         3464        3464           yes         2       1.0 E14      Tumour 0.0   NaN                  82         2009-01-15   mod  /mnt/b/Google_Drive/PhD/Project with Janet/Kohl... m        m        290 days 2b 2  yes          yes        tongue loc + regional     4     10.0               0.348664   \n",
       "False False      False 6      False False False I    /mnt/b/Google_Drive/PhD/Project with Janet/Labe... 3535    F13    F13    other                    Other      NaT           NaT                57.0          Alive       no    N     1.0-F13 2020-02-05         2020-04-21   0       alive   PG                 no             pT4N0M0          3535        3535           no          4       1.0 F13      Tumour NaN   non-cohesive         57         2009-09-03   mod  /mnt/b/Google_Drive/PhD/Project with Janet/Kohl... f        f        NaT      0  4  NaN          no         other  multiple primaries NaN   94.0               0.032877   \n",
       "                 True  2      True  False False I    /mnt/b/Google_Drive/PhD/Project with Janet/Labe... 3270    C1     C1     other                    Other      2009-06-08    NaT                58.0          Died        yes   Y     2.0-C1  NaT                2019-05-16   2b      Died    FG                 yes            pT2N2b           3270        3270           no          2       2.0 C1       Tumour 3.0   non-cohesive         58         2006-09-14   mod  /mnt/b/Google_Drive/PhD/Project with Janet/Kohl... m        m        998 days 2b 2  yes          no         other  NaN                4a    33.0               0.059227   \n",
       "True  True       False 1      False False False H    /mnt/b/Google_Drive/PhD/Project with Janet/Labe... 3251    B1     B1     oral tongue              DOD        2006-07-21    NaT                70.0          Died        yes   Y     2.0-B1  NaT                2020-03-13   1       DOD     FG                 yes            pT4N1M0          3251        3251           no          4       2.0 B1       Tumour 0.0   islands              70         2006-05-31   mod  /mnt/b/Google_Drive/PhD/Project with Janet/Kohl... m        m        51 days  1  4  no           no         tongue NaN                4     2.0                0.050205   \n",
       "False False      True  2      True  False False I    /mnt/b/Google_Drive/PhD/Project with Janet/Labe... 3550    G9     G9     other                    Other      2012-08-15    NaT                61.0          Died        no    N     1.0-G9  NaT                NaT          0       died    CBarry             yes            pT4N0            3550        3550           no          4       1.0 G9       Tumour 3.0   dyscohesive          61         2009-12-10   mod  /mnt/b/Google_Drive/PhD/Project with Janet/Kohl... m        m        979 days 0  2  no           no         other  NaN                2     9.0                0.025918   \n",
       "\n",
       "                                                                                                                                                                                                                                                                                                                                                                                                                                                                                                                                                                                                                                              ...  \\\n",
       "1year 1yeardeath 2year 2years 3year 4year 5year ASMA Annotation_loc                                     Case ID Core_x Core_y Corrected Site AJCC/UICC DODvsAlive Date of death Date of recurrence Diagnosis Age DiedvsAlive ECS_x ECS_y ID      Last seen/reviewed Last updated N stage OUTCOME OUTCOME.updated by Overall Death  Pathogical Stage Patient nu  Patient_Number Recurrence? T stage TMA TMA site Tissue Years advancing front type age @ diag date of diag diff envi_loc                                           gender_x gender_y lifespan pN pT radiotherapy recurrence site   site of recurrence stage survival (months)  ...   \n",
       "True  True       False 1      False False False I    /mnt/b/Google_Drive/PhD/Project with Janet/Labe... 3464    E14    E14    oral tongue              DOD        2009-11-01    2009-09-02         82.0          Died        yes   Y     1.0-E14 NaT                2012-10-04   2b      DOD     CBarry             yes            pT2N2bMx         3464        3464           yes         2       1.0 E14      Tumour 0.0   NaN                  82         2009-01-15   mod  /mnt/b/Google_Drive/PhD/Project with Janet/Kohl... m        m        290 days 2b 2  yes          yes        tongue loc + regional     4     10.0               ...   \n",
       "False False      False 6      False False False I    /mnt/b/Google_Drive/PhD/Project with Janet/Labe... 3535    F13    F13    other                    Other      NaT           NaT                57.0          Alive       no    N     1.0-F13 2020-02-05         2020-04-21   0       alive   PG                 no             pT4N0M0          3535        3535           no          4       1.0 F13      Tumour NaN   non-cohesive         57         2009-09-03   mod  /mnt/b/Google_Drive/PhD/Project with Janet/Kohl... f        f        NaT      0  4  NaN          no         other  multiple primaries NaN   94.0               ...   \n",
       "                 True  2      True  False False I    /mnt/b/Google_Drive/PhD/Project with Janet/Labe... 3270    C1     C1     other                    Other      2009-06-08    NaT                58.0          Died        yes   Y     2.0-C1  NaT                2019-05-16   2b      Died    FG                 yes            pT2N2b           3270        3270           no          2       2.0 C1       Tumour 3.0   non-cohesive         58         2006-09-14   mod  /mnt/b/Google_Drive/PhD/Project with Janet/Kohl... m        m        998 days 2b 2  yes          no         other  NaN                4a    33.0               ...   \n",
       "True  True       False 1      False False False H    /mnt/b/Google_Drive/PhD/Project with Janet/Labe... 3251    B1     B1     oral tongue              DOD        2006-07-21    NaT                70.0          Died        yes   Y     2.0-B1  NaT                2020-03-13   1       DOD     FG                 yes            pT4N1M0          3251        3251           no          4       2.0 B1       Tumour 0.0   islands              70         2006-05-31   mod  /mnt/b/Google_Drive/PhD/Project with Janet/Kohl... m        m        51 days  1  4  no           no         tongue NaN                4     2.0                ...   \n",
       "False False      True  2      True  False False I    /mnt/b/Google_Drive/PhD/Project with Janet/Labe... 3550    G9     G9     other                    Other      2012-08-15    NaT                61.0          Died        no    N     1.0-G9  NaT                NaT          0       died    CBarry             yes            pT4N0            3550        3550           no          4       1.0 G9       Tumour 3.0   dyscohesive          61         2009-12-10   mod  /mnt/b/Google_Drive/PhD/Project with Janet/Kohl... m        m        979 days 0  2  no           no         other  NaN                2     9.0                ...   \n",
       "\n",
       "                                                                                                                                                                                                                                                                                                                                                                                                                                                                                                                                                                                                                                                1762.0  \\\n",
       "1year 1yeardeath 2year 2years 3year 4year 5year ASMA Annotation_loc                                     Case ID Core_x Core_y Corrected Site AJCC/UICC DODvsAlive Date of death Date of recurrence Diagnosis Age DiedvsAlive ECS_x ECS_y ID      Last seen/reviewed Last updated N stage OUTCOME OUTCOME.updated by Overall Death  Pathogical Stage Patient nu  Patient_Number Recurrence? T stage TMA TMA site Tissue Years advancing front type age @ diag date of diag diff envi_loc                                           gender_x gender_y lifespan pN pT radiotherapy recurrence site   site of recurrence stage survival (months)             \n",
       "True  True       False 1      False False False I    /mnt/b/Google_Drive/PhD/Project with Janet/Labe... 3464    E14    E14    oral tongue              DOD        2009-11-01    2009-09-02         82.0          Died        yes   Y     1.0-E14 NaT                2012-10-04   2b      DOD     CBarry             yes            pT2N2bMx         3464        3464           yes         2       1.0 E14      Tumour 0.0   NaN                  82         2009-01-15   mod  /mnt/b/Google_Drive/PhD/Project with Janet/Kohl... m        m        290 days 2b 2  yes          yes        tongue loc + regional     4     10.0               0.265302   \n",
       "False False      False 6      False False False I    /mnt/b/Google_Drive/PhD/Project with Janet/Labe... 3535    F13    F13    other                    Other      NaT           NaT                57.0          Alive       no    N     1.0-F13 2020-02-05         2020-04-21   0       alive   PG                 no             pT4N0M0          3535        3535           no          4       1.0 F13      Tumour NaN   non-cohesive         57         2009-09-03   mod  /mnt/b/Google_Drive/PhD/Project with Janet/Kohl... f        f        NaT      0  4  NaN          no         other  multiple primaries NaN   94.0               0.005630   \n",
       "                 True  2      True  False False I    /mnt/b/Google_Drive/PhD/Project with Janet/Labe... 3270    C1     C1     other                    Other      2009-06-08    NaT                58.0          Died        yes   Y     2.0-C1  NaT                2019-05-16   2b      Died    FG                 yes            pT2N2b           3270        3270           no          2       2.0 C1       Tumour 3.0   non-cohesive         58         2006-09-14   mod  /mnt/b/Google_Drive/PhD/Project with Janet/Kohl... m        m        998 days 2b 2  yes          no         other  NaN                4a    33.0               0.061652   \n",
       "True  True       False 1      False False False H    /mnt/b/Google_Drive/PhD/Project with Janet/Labe... 3251    B1     B1     oral tongue              DOD        2006-07-21    NaT                70.0          Died        yes   Y     2.0-B1  NaT                2020-03-13   1       DOD     FG                 yes            pT4N1M0          3251        3251           no          4       2.0 B1       Tumour 0.0   islands              70         2006-05-31   mod  /mnt/b/Google_Drive/PhD/Project with Janet/Kohl... m        m        51 days  1  4  no           no         tongue NaN                4     2.0                0.037711   \n",
       "False False      True  2      True  False False I    /mnt/b/Google_Drive/PhD/Project with Janet/Labe... 3550    G9     G9     other                    Other      2012-08-15    NaT                61.0          Died        no    N     1.0-G9  NaT                NaT          0       died    CBarry             yes            pT4N0            3550        3550           no          4       1.0 G9       Tumour 3.0   dyscohesive          61         2009-12-10   mod  /mnt/b/Google_Drive/PhD/Project with Janet/Kohl... m        m        979 days 0  2  no           no         other  NaN                2     9.0               -0.033154   \n",
       "\n",
       "                                                                                                                                                                                                                                                                                                                                                                                                                                                                                                                                                                                                                                                1766.0  \\\n",
       "1year 1yeardeath 2year 2years 3year 4year 5year ASMA Annotation_loc                                     Case ID Core_x Core_y Corrected Site AJCC/UICC DODvsAlive Date of death Date of recurrence Diagnosis Age DiedvsAlive ECS_x ECS_y ID      Last seen/reviewed Last updated N stage OUTCOME OUTCOME.updated by Overall Death  Pathogical Stage Patient nu  Patient_Number Recurrence? T stage TMA TMA site Tissue Years advancing front type age @ diag date of diag diff envi_loc                                           gender_x gender_y lifespan pN pT radiotherapy recurrence site   site of recurrence stage survival (months)             \n",
       "True  True       False 1      False False False I    /mnt/b/Google_Drive/PhD/Project with Janet/Labe... 3464    E14    E14    oral tongue              DOD        2009-11-01    2009-09-02         82.0          Died        yes   Y     1.0-E14 NaT                2012-10-04   2b      DOD     CBarry             yes            pT2N2bMx         3464        3464           yes         2       1.0 E14      Tumour 0.0   NaN                  82         2009-01-15   mod  /mnt/b/Google_Drive/PhD/Project with Janet/Kohl... m        m        290 days 2b 2  yes          yes        tongue loc + regional     4     10.0               0.265724   \n",
       "False False      False 6      False False False I    /mnt/b/Google_Drive/PhD/Project with Janet/Labe... 3535    F13    F13    other                    Other      NaT           NaT                57.0          Alive       no    N     1.0-F13 2020-02-05         2020-04-21   0       alive   PG                 no             pT4N0M0          3535        3535           no          4       1.0 F13      Tumour NaN   non-cohesive         57         2009-09-03   mod  /mnt/b/Google_Drive/PhD/Project with Janet/Kohl... f        f        NaT      0  4  NaN          no         other  multiple primaries NaN   94.0               0.005724   \n",
       "                 True  2      True  False False I    /mnt/b/Google_Drive/PhD/Project with Janet/Labe... 3270    C1     C1     other                    Other      2009-06-08    NaT                58.0          Died        yes   Y     2.0-C1  NaT                2019-05-16   2b      Died    FG                 yes            pT2N2b           3270        3270           no          2       2.0 C1       Tumour 3.0   non-cohesive         58         2006-09-14   mod  /mnt/b/Google_Drive/PhD/Project with Janet/Kohl... m        m        998 days 2b 2  yes          no         other  NaN                4a    33.0               0.061533   \n",
       "True  True       False 1      False False False H    /mnt/b/Google_Drive/PhD/Project with Janet/Labe... 3251    B1     B1     oral tongue              DOD        2006-07-21    NaT                70.0          Died        yes   Y     2.0-B1  NaT                2020-03-13   1       DOD     FG                 yes            pT4N1M0          3251        3251           no          4       2.0 B1       Tumour 0.0   islands              70         2006-05-31   mod  /mnt/b/Google_Drive/PhD/Project with Janet/Kohl... m        m        51 days  1  4  no           no         tongue NaN                4     2.0                0.036994   \n",
       "False False      True  2      True  False False I    /mnt/b/Google_Drive/PhD/Project with Janet/Labe... 3550    G9     G9     other                    Other      2012-08-15    NaT                61.0          Died        no    N     1.0-G9  NaT                NaT          0       died    CBarry             yes            pT4N0            3550        3550           no          4       1.0 G9       Tumour 3.0   dyscohesive          61         2009-12-10   mod  /mnt/b/Google_Drive/PhD/Project with Janet/Kohl... m        m        979 days 0  2  no           no         other  NaN                2     9.0               -0.032880   \n",
       "\n",
       "                                                                                                                                                                                                                                                                                                                                                                                                                                                                                                                                                                                                                                                1770.0  \\\n",
       "1year 1yeardeath 2year 2years 3year 4year 5year ASMA Annotation_loc                                     Case ID Core_x Core_y Corrected Site AJCC/UICC DODvsAlive Date of death Date of recurrence Diagnosis Age DiedvsAlive ECS_x ECS_y ID      Last seen/reviewed Last updated N stage OUTCOME OUTCOME.updated by Overall Death  Pathogical Stage Patient nu  Patient_Number Recurrence? T stage TMA TMA site Tissue Years advancing front type age @ diag date of diag diff envi_loc                                           gender_x gender_y lifespan pN pT radiotherapy recurrence site   site of recurrence stage survival (months)             \n",
       "True  True       False 1      False False False I    /mnt/b/Google_Drive/PhD/Project with Janet/Labe... 3464    E14    E14    oral tongue              DOD        2009-11-01    2009-09-02         82.0          Died        yes   Y     1.0-E14 NaT                2012-10-04   2b      DOD     CBarry             yes            pT2N2bMx         3464        3464           yes         2       1.0 E14      Tumour 0.0   NaN                  82         2009-01-15   mod  /mnt/b/Google_Drive/PhD/Project with Janet/Kohl... m        m        290 days 2b 2  yes          yes        tongue loc + regional     4     10.0               0.265613   \n",
       "False False      False 6      False False False I    /mnt/b/Google_Drive/PhD/Project with Janet/Labe... 3535    F13    F13    other                    Other      NaT           NaT                57.0          Alive       no    N     1.0-F13 2020-02-05         2020-04-21   0       alive   PG                 no             pT4N0M0          3535        3535           no          4       1.0 F13      Tumour NaN   non-cohesive         57         2009-09-03   mod  /mnt/b/Google_Drive/PhD/Project with Janet/Kohl... f        f        NaT      0  4  NaN          no         other  multiple primaries NaN   94.0               0.006198   \n",
       "                 True  2      True  False False I    /mnt/b/Google_Drive/PhD/Project with Janet/Labe... 3270    C1     C1     other                    Other      2009-06-08    NaT                58.0          Died        yes   Y     2.0-C1  NaT                2019-05-16   2b      Died    FG                 yes            pT2N2b           3270        3270           no          2       2.0 C1       Tumour 3.0   non-cohesive         58         2006-09-14   mod  /mnt/b/Google_Drive/PhD/Project with Janet/Kohl... m        m        998 days 2b 2  yes          no         other  NaN                4a    33.0               0.061389   \n",
       "True  True       False 1      False False False H    /mnt/b/Google_Drive/PhD/Project with Janet/Labe... 3251    B1     B1     oral tongue              DOD        2006-07-21    NaT                70.0          Died        yes   Y     2.0-B1  NaT                2020-03-13   1       DOD     FG                 yes            pT4N1M0          3251        3251           no          4       2.0 B1       Tumour 0.0   islands              70         2006-05-31   mod  /mnt/b/Google_Drive/PhD/Project with Janet/Kohl... m        m        51 days  1  4  no           no         tongue NaN                4     2.0                0.036698   \n",
       "False False      True  2      True  False False I    /mnt/b/Google_Drive/PhD/Project with Janet/Labe... 3550    G9     G9     other                    Other      2012-08-15    NaT                61.0          Died        no    N     1.0-G9  NaT                NaT          0       died    CBarry             yes            pT4N0            3550        3550           no          4       1.0 G9       Tumour 3.0   dyscohesive          61         2009-12-10   mod  /mnt/b/Google_Drive/PhD/Project with Janet/Kohl... m        m        979 days 0  2  no           no         other  NaN                2     9.0               -0.032478   \n",
       "\n",
       "                                                                                                                                                                                                                                                                                                                                                                                                                                                                                                                                                                                                                                                1774.0  \\\n",
       "1year 1yeardeath 2year 2years 3year 4year 5year ASMA Annotation_loc                                     Case ID Core_x Core_y Corrected Site AJCC/UICC DODvsAlive Date of death Date of recurrence Diagnosis Age DiedvsAlive ECS_x ECS_y ID      Last seen/reviewed Last updated N stage OUTCOME OUTCOME.updated by Overall Death  Pathogical Stage Patient nu  Patient_Number Recurrence? T stage TMA TMA site Tissue Years advancing front type age @ diag date of diag diff envi_loc                                           gender_x gender_y lifespan pN pT radiotherapy recurrence site   site of recurrence stage survival (months)             \n",
       "True  True       False 1      False False False I    /mnt/b/Google_Drive/PhD/Project with Janet/Labe... 3464    E14    E14    oral tongue              DOD        2009-11-01    2009-09-02         82.0          Died        yes   Y     1.0-E14 NaT                2012-10-04   2b      DOD     CBarry             yes            pT2N2bMx         3464        3464           yes         2       1.0 E14      Tumour 0.0   NaN                  82         2009-01-15   mod  /mnt/b/Google_Drive/PhD/Project with Janet/Kohl... m        m        290 days 2b 2  yes          yes        tongue loc + regional     4     10.0               0.265108   \n",
       "False False      False 6      False False False I    /mnt/b/Google_Drive/PhD/Project with Janet/Labe... 3535    F13    F13    other                    Other      NaT           NaT                57.0          Alive       no    N     1.0-F13 2020-02-05         2020-04-21   0       alive   PG                 no             pT4N0M0          3535        3535           no          4       1.0 F13      Tumour NaN   non-cohesive         57         2009-09-03   mod  /mnt/b/Google_Drive/PhD/Project with Janet/Kohl... f        f        NaT      0  4  NaN          no         other  multiple primaries NaN   94.0               0.006836   \n",
       "                 True  2      True  False False I    /mnt/b/Google_Drive/PhD/Project with Janet/Labe... 3270    C1     C1     other                    Other      2009-06-08    NaT                58.0          Died        yes   Y     2.0-C1  NaT                2019-05-16   2b      Died    FG                 yes            pT2N2b           3270        3270           no          2       2.0 C1       Tumour 3.0   non-cohesive         58         2006-09-14   mod  /mnt/b/Google_Drive/PhD/Project with Janet/Kohl... m        m        998 days 2b 2  yes          no         other  NaN                4a    33.0               0.061028   \n",
       "True  True       False 1      False False False H    /mnt/b/Google_Drive/PhD/Project with Janet/Labe... 3251    B1     B1     oral tongue              DOD        2006-07-21    NaT                70.0          Died        yes   Y     2.0-B1  NaT                2020-03-13   1       DOD     FG                 yes            pT4N1M0          3251        3251           no          4       2.0 B1       Tumour 0.0   islands              70         2006-05-31   mod  /mnt/b/Google_Drive/PhD/Project with Janet/Kohl... m        m        51 days  1  4  no           no         tongue NaN                4     2.0                0.036523   \n",
       "False False      True  2      True  False False I    /mnt/b/Google_Drive/PhD/Project with Janet/Labe... 3550    G9     G9     other                    Other      2012-08-15    NaT                61.0          Died        no    N     1.0-G9  NaT                NaT          0       died    CBarry             yes            pT4N0            3550        3550           no          4       1.0 G9       Tumour 3.0   dyscohesive          61         2009-12-10   mod  /mnt/b/Google_Drive/PhD/Project with Janet/Kohl... m        m        979 days 0  2  no           no         other  NaN                2     9.0               -0.032093   \n",
       "\n",
       "                                                                                                                                                                                                                                                                                                                                                                                                                                                                                                                                                                                                                                                1778.0  \\\n",
       "1year 1yeardeath 2year 2years 3year 4year 5year ASMA Annotation_loc                                     Case ID Core_x Core_y Corrected Site AJCC/UICC DODvsAlive Date of death Date of recurrence Diagnosis Age DiedvsAlive ECS_x ECS_y ID      Last seen/reviewed Last updated N stage OUTCOME OUTCOME.updated by Overall Death  Pathogical Stage Patient nu  Patient_Number Recurrence? T stage TMA TMA site Tissue Years advancing front type age @ diag date of diag diff envi_loc                                           gender_x gender_y lifespan pN pT radiotherapy recurrence site   site of recurrence stage survival (months)             \n",
       "True  True       False 1      False False False I    /mnt/b/Google_Drive/PhD/Project with Janet/Labe... 3464    E14    E14    oral tongue              DOD        2009-11-01    2009-09-02         82.0          Died        yes   Y     1.0-E14 NaT                2012-10-04   2b      DOD     CBarry             yes            pT2N2bMx         3464        3464           yes         2       1.0 E14      Tumour 0.0   NaN                  82         2009-01-15   mod  /mnt/b/Google_Drive/PhD/Project with Janet/Kohl... m        m        290 days 2b 2  yes          yes        tongue loc + regional     4     10.0               0.264352   \n",
       "False False      False 6      False False False I    /mnt/b/Google_Drive/PhD/Project with Janet/Labe... 3535    F13    F13    other                    Other      NaT           NaT                57.0          Alive       no    N     1.0-F13 2020-02-05         2020-04-21   0       alive   PG                 no             pT4N0M0          3535        3535           no          4       1.0 F13      Tumour NaN   non-cohesive         57         2009-09-03   mod  /mnt/b/Google_Drive/PhD/Project with Janet/Kohl... f        f        NaT      0  4  NaN          no         other  multiple primaries NaN   94.0               0.007336   \n",
       "                 True  2      True  False False I    /mnt/b/Google_Drive/PhD/Project with Janet/Labe... 3270    C1     C1     other                    Other      2009-06-08    NaT                58.0          Died        yes   Y     2.0-C1  NaT                2019-05-16   2b      Died    FG                 yes            pT2N2b           3270        3270           no          2       2.0 C1       Tumour 3.0   non-cohesive         58         2006-09-14   mod  /mnt/b/Google_Drive/PhD/Project with Janet/Kohl... m        m        998 days 2b 2  yes          no         other  NaN                4a    33.0               0.060815   \n",
       "True  True       False 1      False False False H    /mnt/b/Google_Drive/PhD/Project with Janet/Labe... 3251    B1     B1     oral tongue              DOD        2006-07-21    NaT                70.0          Died        yes   Y     2.0-B1  NaT                2020-03-13   1       DOD     FG                 yes            pT4N1M0          3251        3251           no          4       2.0 B1       Tumour 0.0   islands              70         2006-05-31   mod  /mnt/b/Google_Drive/PhD/Project with Janet/Kohl... m        m        51 days  1  4  no           no         tongue NaN                4     2.0                0.036370   \n",
       "False False      True  2      True  False False I    /mnt/b/Google_Drive/PhD/Project with Janet/Labe... 3550    G9     G9     other                    Other      2012-08-15    NaT                61.0          Died        no    N     1.0-G9  NaT                NaT          0       died    CBarry             yes            pT4N0            3550        3550           no          4       1.0 G9       Tumour 3.0   dyscohesive          61         2009-12-10   mod  /mnt/b/Google_Drive/PhD/Project with Janet/Kohl... m        m        979 days 0  2  no           no         other  NaN                2     9.0               -0.031705   \n",
       "\n",
       "                                                                                                                                                                                                                                                                                                                                                                                                                                                                                                                                                                                                                                                1781.0  \\\n",
       "1year 1yeardeath 2year 2years 3year 4year 5year ASMA Annotation_loc                                     Case ID Core_x Core_y Corrected Site AJCC/UICC DODvsAlive Date of death Date of recurrence Diagnosis Age DiedvsAlive ECS_x ECS_y ID      Last seen/reviewed Last updated N stage OUTCOME OUTCOME.updated by Overall Death  Pathogical Stage Patient nu  Patient_Number Recurrence? T stage TMA TMA site Tissue Years advancing front type age @ diag date of diag diff envi_loc                                           gender_x gender_y lifespan pN pT radiotherapy recurrence site   site of recurrence stage survival (months)             \n",
       "True  True       False 1      False False False I    /mnt/b/Google_Drive/PhD/Project with Janet/Labe... 3464    E14    E14    oral tongue              DOD        2009-11-01    2009-09-02         82.0          Died        yes   Y     1.0-E14 NaT                2012-10-04   2b      DOD     CBarry             yes            pT2N2bMx         3464        3464           yes         2       1.0 E14      Tumour 0.0   NaN                  82         2009-01-15   mod  /mnt/b/Google_Drive/PhD/Project with Janet/Kohl... m        m        290 days 2b 2  yes          yes        tongue loc + regional     4     10.0               0.264805   \n",
       "False False      False 6      False False False I    /mnt/b/Google_Drive/PhD/Project with Janet/Labe... 3535    F13    F13    other                    Other      NaT           NaT                57.0          Alive       no    N     1.0-F13 2020-02-05         2020-04-21   0       alive   PG                 no             pT4N0M0          3535        3535           no          4       1.0 F13      Tumour NaN   non-cohesive         57         2009-09-03   mod  /mnt/b/Google_Drive/PhD/Project with Janet/Kohl... f        f        NaT      0  4  NaN          no         other  multiple primaries NaN   94.0               0.008139   \n",
       "                 True  2      True  False False I    /mnt/b/Google_Drive/PhD/Project with Janet/Labe... 3270    C1     C1     other                    Other      2009-06-08    NaT                58.0          Died        yes   Y     2.0-C1  NaT                2019-05-16   2b      Died    FG                 yes            pT2N2b           3270        3270           no          2       2.0 C1       Tumour 3.0   non-cohesive         58         2006-09-14   mod  /mnt/b/Google_Drive/PhD/Project with Janet/Kohl... m        m        998 days 2b 2  yes          no         other  NaN                4a    33.0               0.060779   \n",
       "True  True       False 1      False False False H    /mnt/b/Google_Drive/PhD/Project with Janet/Labe... 3251    B1     B1     oral tongue              DOD        2006-07-21    NaT                70.0          Died        yes   Y     2.0-B1  NaT                2020-03-13   1       DOD     FG                 yes            pT4N1M0          3251        3251           no          4       2.0 B1       Tumour 0.0   islands              70         2006-05-31   mod  /mnt/b/Google_Drive/PhD/Project with Janet/Kohl... m        m        51 days  1  4  no           no         tongue NaN                4     2.0                0.036547   \n",
       "False False      True  2      True  False False I    /mnt/b/Google_Drive/PhD/Project with Janet/Labe... 3550    G9     G9     other                    Other      2012-08-15    NaT                61.0          Died        no    N     1.0-G9  NaT                NaT          0       died    CBarry             yes            pT4N0            3550        3550           no          4       1.0 G9       Tumour 3.0   dyscohesive          61         2009-12-10   mod  /mnt/b/Google_Drive/PhD/Project with Janet/Kohl... m        m        979 days 0  2  no           no         other  NaN                2     9.0               -0.030737   \n",
       "\n",
       "                                                                                                                                                                                                                                                                                                                                                                                                                                                                                                                                                                                                                                                1785.0  \\\n",
       "1year 1yeardeath 2year 2years 3year 4year 5year ASMA Annotation_loc                                     Case ID Core_x Core_y Corrected Site AJCC/UICC DODvsAlive Date of death Date of recurrence Diagnosis Age DiedvsAlive ECS_x ECS_y ID      Last seen/reviewed Last updated N stage OUTCOME OUTCOME.updated by Overall Death  Pathogical Stage Patient nu  Patient_Number Recurrence? T stage TMA TMA site Tissue Years advancing front type age @ diag date of diag diff envi_loc                                           gender_x gender_y lifespan pN pT radiotherapy recurrence site   site of recurrence stage survival (months)             \n",
       "True  True       False 1      False False False I    /mnt/b/Google_Drive/PhD/Project with Janet/Labe... 3464    E14    E14    oral tongue              DOD        2009-11-01    2009-09-02         82.0          Died        yes   Y     1.0-E14 NaT                2012-10-04   2b      DOD     CBarry             yes            pT2N2bMx         3464        3464           yes         2       1.0 E14      Tumour 0.0   NaN                  82         2009-01-15   mod  /mnt/b/Google_Drive/PhD/Project with Janet/Kohl... m        m        290 days 2b 2  yes          yes        tongue loc + regional     4     10.0               0.266407   \n",
       "False False      False 6      False False False I    /mnt/b/Google_Drive/PhD/Project with Janet/Labe... 3535    F13    F13    other                    Other      NaT           NaT                57.0          Alive       no    N     1.0-F13 2020-02-05         2020-04-21   0       alive   PG                 no             pT4N0M0          3535        3535           no          4       1.0 F13      Tumour NaN   non-cohesive         57         2009-09-03   mod  /mnt/b/Google_Drive/PhD/Project with Janet/Kohl... f        f        NaT      0  4  NaN          no         other  multiple primaries NaN   94.0               0.008902   \n",
       "                 True  2      True  False False I    /mnt/b/Google_Drive/PhD/Project with Janet/Labe... 3270    C1     C1     other                    Other      2009-06-08    NaT                58.0          Died        yes   Y     2.0-C1  NaT                2019-05-16   2b      Died    FG                 yes            pT2N2b           3270        3270           no          2       2.0 C1       Tumour 3.0   non-cohesive         58         2006-09-14   mod  /mnt/b/Google_Drive/PhD/Project with Janet/Kohl... m        m        998 days 2b 2  yes          no         other  NaN                4a    33.0               0.060854   \n",
       "True  True       False 1      False False False H    /mnt/b/Google_Drive/PhD/Project with Janet/Labe... 3251    B1     B1     oral tongue              DOD        2006-07-21    NaT                70.0          Died        yes   Y     2.0-B1  NaT                2020-03-13   1       DOD     FG                 yes            pT4N1M0          3251        3251           no          4       2.0 B1       Tumour 0.0   islands              70         2006-05-31   mod  /mnt/b/Google_Drive/PhD/Project with Janet/Kohl... m        m        51 days  1  4  no           no         tongue NaN                4     2.0                0.036884   \n",
       "False False      True  2      True  False False I    /mnt/b/Google_Drive/PhD/Project with Janet/Labe... 3550    G9     G9     other                    Other      2012-08-15    NaT                61.0          Died        no    N     1.0-G9  NaT                NaT          0       died    CBarry             yes            pT4N0            3550        3550           no          4       1.0 G9       Tumour 3.0   dyscohesive          61         2009-12-10   mod  /mnt/b/Google_Drive/PhD/Project with Janet/Kohl... m        m        979 days 0  2  no           no         other  NaN                2     9.0               -0.029564   \n",
       "\n",
       "                                                                                                                                                                                                                                                                                                                                                                                                                                                                                                                                                                                                                                                1789.0  \\\n",
       "1year 1yeardeath 2year 2years 3year 4year 5year ASMA Annotation_loc                                     Case ID Core_x Core_y Corrected Site AJCC/UICC DODvsAlive Date of death Date of recurrence Diagnosis Age DiedvsAlive ECS_x ECS_y ID      Last seen/reviewed Last updated N stage OUTCOME OUTCOME.updated by Overall Death  Pathogical Stage Patient nu  Patient_Number Recurrence? T stage TMA TMA site Tissue Years advancing front type age @ diag date of diag diff envi_loc                                           gender_x gender_y lifespan pN pT radiotherapy recurrence site   site of recurrence stage survival (months)             \n",
       "True  True       False 1      False False False I    /mnt/b/Google_Drive/PhD/Project with Janet/Labe... 3464    E14    E14    oral tongue              DOD        2009-11-01    2009-09-02         82.0          Died        yes   Y     1.0-E14 NaT                2012-10-04   2b      DOD     CBarry             yes            pT2N2bMx         3464        3464           yes         2       1.0 E14      Tumour 0.0   NaN                  82         2009-01-15   mod  /mnt/b/Google_Drive/PhD/Project with Janet/Kohl... m        m        290 days 2b 2  yes          yes        tongue loc + regional     4     10.0               0.269021   \n",
       "False False      False 6      False False False I    /mnt/b/Google_Drive/PhD/Project with Janet/Labe... 3535    F13    F13    other                    Other      NaT           NaT                57.0          Alive       no    N     1.0-F13 2020-02-05         2020-04-21   0       alive   PG                 no             pT4N0M0          3535        3535           no          4       1.0 F13      Tumour NaN   non-cohesive         57         2009-09-03   mod  /mnt/b/Google_Drive/PhD/Project with Janet/Kohl... f        f        NaT      0  4  NaN          no         other  multiple primaries NaN   94.0               0.009515   \n",
       "                 True  2      True  False False I    /mnt/b/Google_Drive/PhD/Project with Janet/Labe... 3270    C1     C1     other                    Other      2009-06-08    NaT                58.0          Died        yes   Y     2.0-C1  NaT                2019-05-16   2b      Died    FG                 yes            pT2N2b           3270        3270           no          2       2.0 C1       Tumour 3.0   non-cohesive         58         2006-09-14   mod  /mnt/b/Google_Drive/PhD/Project with Janet/Kohl... m        m        998 days 2b 2  yes          no         other  NaN                4a    33.0               0.060889   \n",
       "True  True       False 1      False False False H    /mnt/b/Google_Drive/PhD/Project with Janet/Labe... 3251    B1     B1     oral tongue              DOD        2006-07-21    NaT                70.0          Died        yes   Y     2.0-B1  NaT                2020-03-13   1       DOD     FG                 yes            pT4N1M0          3251        3251           no          4       2.0 B1       Tumour 0.0   islands              70         2006-05-31   mod  /mnt/b/Google_Drive/PhD/Project with Janet/Kohl... m        m        51 days  1  4  no           no         tongue NaN                4     2.0                0.037273   \n",
       "False False      True  2      True  False False I    /mnt/b/Google_Drive/PhD/Project with Janet/Labe... 3550    G9     G9     other                    Other      2012-08-15    NaT                61.0          Died        no    N     1.0-G9  NaT                NaT          0       died    CBarry             yes            pT4N0            3550        3550           no          4       1.0 G9       Tumour 3.0   dyscohesive          61         2009-12-10   mod  /mnt/b/Google_Drive/PhD/Project with Janet/Kohl... m        m        979 days 0  2  no           no         other  NaN                2     9.0               -0.028283   \n",
       "\n",
       "                                                                                                                                                                                                                                                                                                                                                                                                                                                                                                                                                                                                                                                1793.0  \\\n",
       "1year 1yeardeath 2year 2years 3year 4year 5year ASMA Annotation_loc                                     Case ID Core_x Core_y Corrected Site AJCC/UICC DODvsAlive Date of death Date of recurrence Diagnosis Age DiedvsAlive ECS_x ECS_y ID      Last seen/reviewed Last updated N stage OUTCOME OUTCOME.updated by Overall Death  Pathogical Stage Patient nu  Patient_Number Recurrence? T stage TMA TMA site Tissue Years advancing front type age @ diag date of diag diff envi_loc                                           gender_x gender_y lifespan pN pT radiotherapy recurrence site   site of recurrence stage survival (months)             \n",
       "True  True       False 1      False False False I    /mnt/b/Google_Drive/PhD/Project with Janet/Labe... 3464    E14    E14    oral tongue              DOD        2009-11-01    2009-09-02         82.0          Died        yes   Y     1.0-E14 NaT                2012-10-04   2b      DOD     CBarry             yes            pT2N2bMx         3464        3464           yes         2       1.0 E14      Tumour 0.0   NaN                  82         2009-01-15   mod  /mnt/b/Google_Drive/PhD/Project with Janet/Kohl... m        m        290 days 2b 2  yes          yes        tongue loc + regional     4     10.0               0.272374   \n",
       "False False      False 6      False False False I    /mnt/b/Google_Drive/PhD/Project with Janet/Labe... 3535    F13    F13    other                    Other      NaT           NaT                57.0          Alive       no    N     1.0-F13 2020-02-05         2020-04-21   0       alive   PG                 no             pT4N0M0          3535        3535           no          4       1.0 F13      Tumour NaN   non-cohesive         57         2009-09-03   mod  /mnt/b/Google_Drive/PhD/Project with Janet/Kohl... f        f        NaT      0  4  NaN          no         other  multiple primaries NaN   94.0               0.009994   \n",
       "                 True  2      True  False False I    /mnt/b/Google_Drive/PhD/Project with Janet/Labe... 3270    C1     C1     other                    Other      2009-06-08    NaT                58.0          Died        yes   Y     2.0-C1  NaT                2019-05-16   2b      Died    FG                 yes            pT2N2b           3270        3270           no          2       2.0 C1       Tumour 3.0   non-cohesive         58         2006-09-14   mod  /mnt/b/Google_Drive/PhD/Project with Janet/Kohl... m        m        998 days 2b 2  yes          no         other  NaN                4a    33.0               0.060516   \n",
       "True  True       False 1      False False False H    /mnt/b/Google_Drive/PhD/Project with Janet/Labe... 3251    B1     B1     oral tongue              DOD        2006-07-21    NaT                70.0          Died        yes   Y     2.0-B1  NaT                2020-03-13   1       DOD     FG                 yes            pT4N1M0          3251        3251           no          4       2.0 B1       Tumour 0.0   islands              70         2006-05-31   mod  /mnt/b/Google_Drive/PhD/Project with Janet/Kohl... m        m        51 days  1  4  no           no         tongue NaN                4     2.0                0.037674   \n",
       "False False      True  2      True  False False I    /mnt/b/Google_Drive/PhD/Project with Janet/Labe... 3550    G9     G9     other                    Other      2012-08-15    NaT                61.0          Died        no    N     1.0-G9  NaT                NaT          0       died    CBarry             yes            pT4N0            3550        3550           no          4       1.0 G9       Tumour 3.0   dyscohesive          61         2009-12-10   mod  /mnt/b/Google_Drive/PhD/Project with Janet/Kohl... m        m        979 days 0  2  no           no         other  NaN                2     9.0               -0.027289   \n",
       "\n",
       "                                                                                                                                                                                                                                                                                                                                                                                                                                                                                                                                                                                                                                                1797.0  \n",
       "1year 1yeardeath 2year 2years 3year 4year 5year ASMA Annotation_loc                                     Case ID Core_x Core_y Corrected Site AJCC/UICC DODvsAlive Date of death Date of recurrence Diagnosis Age DiedvsAlive ECS_x ECS_y ID      Last seen/reviewed Last updated N stage OUTCOME OUTCOME.updated by Overall Death  Pathogical Stage Patient nu  Patient_Number Recurrence? T stage TMA TMA site Tissue Years advancing front type age @ diag date of diag diff envi_loc                                           gender_x gender_y lifespan pN pT radiotherapy recurrence site   site of recurrence stage survival (months)            \n",
       "True  True       False 1      False False False I    /mnt/b/Google_Drive/PhD/Project with Janet/Labe... 3464    E14    E14    oral tongue              DOD        2009-11-01    2009-09-02         82.0          Died        yes   Y     1.0-E14 NaT                2012-10-04   2b      DOD     CBarry             yes            pT2N2bMx         3464        3464           yes         2       1.0 E14      Tumour 0.0   NaN                  82         2009-01-15   mod  /mnt/b/Google_Drive/PhD/Project with Janet/Kohl... m        m        290 days 2b 2  yes          yes        tongue loc + regional     4     10.0               0.276251  \n",
       "False False      False 6      False False False I    /mnt/b/Google_Drive/PhD/Project with Janet/Labe... 3535    F13    F13    other                    Other      NaT           NaT                57.0          Alive       no    N     1.0-F13 2020-02-05         2020-04-21   0       alive   PG                 no             pT4N0M0          3535        3535           no          4       1.0 F13      Tumour NaN   non-cohesive         57         2009-09-03   mod  /mnt/b/Google_Drive/PhD/Project with Janet/Kohl... f        f        NaT      0  4  NaN          no         other  multiple primaries NaN   94.0               0.010534  \n",
       "                 True  2      True  False False I    /mnt/b/Google_Drive/PhD/Project with Janet/Labe... 3270    C1     C1     other                    Other      2009-06-08    NaT                58.0          Died        yes   Y     2.0-C1  NaT                2019-05-16   2b      Died    FG                 yes            pT2N2b           3270        3270           no          2       2.0 C1       Tumour 3.0   non-cohesive         58         2006-09-14   mod  /mnt/b/Google_Drive/PhD/Project with Janet/Kohl... m        m        998 days 2b 2  yes          no         other  NaN                4a    33.0               0.059964  \n",
       "True  True       False 1      False False False H    /mnt/b/Google_Drive/PhD/Project with Janet/Labe... 3251    B1     B1     oral tongue              DOD        2006-07-21    NaT                70.0          Died        yes   Y     2.0-B1  NaT                2020-03-13   1       DOD     FG                 yes            pT4N1M0          3251        3251           no          4       2.0 B1       Tumour 0.0   islands              70         2006-05-31   mod  /mnt/b/Google_Drive/PhD/Project with Janet/Kohl... m        m        51 days  1  4  no           no         tongue NaN                4     2.0                0.038160  \n",
       "False False      True  2      True  False False I    /mnt/b/Google_Drive/PhD/Project with Janet/Labe... 3550    G9     G9     other                    Other      2012-08-15    NaT                61.0          Died        no    N     1.0-G9  NaT                NaT          0       died    CBarry             yes            pT4N0            3550        3550           no          4       1.0 G9       Tumour 3.0   dyscohesive          61         2009-12-10   mod  /mnt/b/Google_Drive/PhD/Project with Janet/Kohl... m        m        979 days 0  2  no           no         other  NaN                2     9.0               -0.026358  \n",
       "\n",
       "[5 rows x 169 columns]"
      ]
     },
     "execution_count": 56,
     "metadata": {},
     "output_type": "execute_result"
    }
   ],
   "source": [
    "total.sample(5)"
   ]
  },
  {
   "cell_type": "code",
   "execution_count": 57,
   "metadata": {},
   "outputs": [
    {
     "data": {
      "image/png": "[encoded data removed]",
      "text/plain": [
       "<Figure size 432x288 with 1 Axes>"
      ]
     },
     "metadata": {
      "needs_background": "light"
     },
     "output_type": "display_data"
    }
   ],
   "source": [
    "fig, axes = plt.subplots(nrows = 1, figsize = (6,4), sharex = True)\n",
    "\n",
    "total.groupby(\"1yeardeath\").mean().T.plot(ax = axes)\n",
    "axes.set_xlabel(\"Wavenumber $(cm^{-1})$\")\n",
    "axes.set_ylabel(\"Absorbance (a.u)\")\n",
    "fig.savefig(os.getcwd()+ \"/Plots/Mean_ECS_Spectra.png\", bbox_inches = 'tight')"
   ]
  },
  {
   "cell_type": "code",
   "execution_count": 58,
   "metadata": {},
   "outputs": [],
   "source": [
    "pcapipe = Pipeline([\n",
    "    (\"Normalise spectra\", FunctionTransformer(robust_scale, kw_args = {\"axis\": 1})),\n",
    "    (\"Scaler\", RobustScaler()),\n",
    "    (\"PCA\", PCA())\n",
    "])"
   ]
  },
  {
   "cell_type": "code",
   "execution_count": 59,
   "metadata": {},
   "outputs": [],
   "source": [
    "n = total.reset_index()[\"Patient_Number\"].value_counts().min()\n",
    "total_ = total.groupby(\"Patient_Number\", group_keys=False).apply(lambda g: g.sample(n))"
   ]
  },
  {
   "cell_type": "code",
   "execution_count": 60,
   "metadata": {},
   "outputs": [
    {
     "data": {
      "text/html": [
       "<div>\n",
       "<style scoped>\n",
       "    .dataframe tbody tr th:only-of-type {\n",
       "        vertical-align: middle;\n",
       "    }\n",
       "\n",
       "    .dataframe tbody tr th {\n",
       "        vertical-align: top;\n",
       "    }\n",
       "\n",
       "    .dataframe thead th {\n",
       "        text-align: right;\n",
       "    }\n",
       "</style>\n",
       "<table border=\"1\" class=\"dataframe\">\n",
       "  <thead>\n",
       "    <tr style=\"text-align: right;\">\n",
       "      <th></th>\n",
       "      <th>Patient_Number</th>\n",
       "      <th>gender</th>\n",
       "      <th>date of diag</th>\n",
       "      <th>age @ diag</th>\n",
       "      <th>site</th>\n",
       "      <th>pT</th>\n",
       "      <th>pN</th>\n",
       "      <th>stage</th>\n",
       "      <th>ECS</th>\n",
       "      <th>OUTCOME</th>\n",
       "      <th>...</th>\n",
       "      <th>Years</th>\n",
       "      <th>1year</th>\n",
       "      <th>2year</th>\n",
       "      <th>3year</th>\n",
       "      <th>4year</th>\n",
       "      <th>5year</th>\n",
       "      <th>1yeardeath</th>\n",
       "      <th>2years</th>\n",
       "      <th>Case ID</th>\n",
       "      <th>ASMA</th>\n",
       "    </tr>\n",
       "  </thead>\n",
       "  <tbody>\n",
       "    <tr>\n",
       "      <th>0</th>\n",
       "      <td>3143</td>\n",
       "      <td>m</td>\n",
       "      <td>2004-03-29</td>\n",
       "      <td>58</td>\n",
       "      <td>floor of mouth</td>\n",
       "      <td>4</td>\n",
       "      <td>0</td>\n",
       "      <td>4</td>\n",
       "      <td>N</td>\n",
       "      <td>DOD</td>\n",
       "      <td>...</td>\n",
       "      <td>9.0</td>\n",
       "      <td>False</td>\n",
       "      <td>False</td>\n",
       "      <td>False</td>\n",
       "      <td>False</td>\n",
       "      <td>False</td>\n",
       "      <td>False</td>\n",
       "      <td>5</td>\n",
       "      <td>3143</td>\n",
       "      <td>H</td>\n",
       "    </tr>\n",
       "    <tr>\n",
       "      <th>1</th>\n",
       "      <td>3167</td>\n",
       "      <td>m</td>\n",
       "      <td>2004-09-30</td>\n",
       "      <td>74</td>\n",
       "      <td>floor of mouth</td>\n",
       "      <td>2</td>\n",
       "      <td>2</td>\n",
       "      <td>4</td>\n",
       "      <td>Y</td>\n",
       "      <td>DOD</td>\n",
       "      <td>...</td>\n",
       "      <td>1.0</td>\n",
       "      <td>True</td>\n",
       "      <td>True</td>\n",
       "      <td>False</td>\n",
       "      <td>False</td>\n",
       "      <td>False</td>\n",
       "      <td>False</td>\n",
       "      <td>1</td>\n",
       "      <td>3167</td>\n",
       "      <td>H</td>\n",
       "    </tr>\n",
       "    <tr>\n",
       "      <th>2</th>\n",
       "      <td>3169</td>\n",
       "      <td>m</td>\n",
       "      <td>2004-10-28</td>\n",
       "      <td>63</td>\n",
       "      <td>floor of mouth</td>\n",
       "      <td>3</td>\n",
       "      <td>1</td>\n",
       "      <td>3</td>\n",
       "      <td>N</td>\n",
       "      <td>died other</td>\n",
       "      <td>...</td>\n",
       "      <td>2.0</td>\n",
       "      <td>True</td>\n",
       "      <td>True</td>\n",
       "      <td>False</td>\n",
       "      <td>False</td>\n",
       "      <td>False</td>\n",
       "      <td>False</td>\n",
       "      <td>2</td>\n",
       "      <td>3169</td>\n",
       "      <td>L</td>\n",
       "    </tr>\n",
       "    <tr>\n",
       "      <th>3</th>\n",
       "      <td>3170</td>\n",
       "      <td>m</td>\n",
       "      <td>2004-11-22</td>\n",
       "      <td>59</td>\n",
       "      <td>other</td>\n",
       "      <td>4</td>\n",
       "      <td>2b</td>\n",
       "      <td>4a</td>\n",
       "      <td>Y</td>\n",
       "      <td>Died other</td>\n",
       "      <td>...</td>\n",
       "      <td>10.0</td>\n",
       "      <td>False</td>\n",
       "      <td>False</td>\n",
       "      <td>False</td>\n",
       "      <td>False</td>\n",
       "      <td>False</td>\n",
       "      <td>False</td>\n",
       "      <td>6</td>\n",
       "      <td>3170</td>\n",
       "      <td>H</td>\n",
       "    </tr>\n",
       "    <tr>\n",
       "      <th>4</th>\n",
       "      <td>3230</td>\n",
       "      <td>m</td>\n",
       "      <td>2006-01-26</td>\n",
       "      <td>74</td>\n",
       "      <td>tongue</td>\n",
       "      <td>2</td>\n",
       "      <td>1</td>\n",
       "      <td>3</td>\n",
       "      <td>Y</td>\n",
       "      <td>DOD</td>\n",
       "      <td>...</td>\n",
       "      <td>0.0</td>\n",
       "      <td>True</td>\n",
       "      <td>False</td>\n",
       "      <td>False</td>\n",
       "      <td>False</td>\n",
       "      <td>False</td>\n",
       "      <td>True</td>\n",
       "      <td>1</td>\n",
       "      <td>3230</td>\n",
       "      <td>H</td>\n",
       "    </tr>\n",
       "    <tr>\n",
       "      <th>...</th>\n",
       "      <td>...</td>\n",
       "      <td>...</td>\n",
       "      <td>...</td>\n",
       "      <td>...</td>\n",
       "      <td>...</td>\n",
       "      <td>...</td>\n",
       "      <td>...</td>\n",
       "      <td>...</td>\n",
       "      <td>...</td>\n",
       "      <td>...</td>\n",
       "      <td>...</td>\n",
       "      <td>...</td>\n",
       "      <td>...</td>\n",
       "      <td>...</td>\n",
       "      <td>...</td>\n",
       "      <td>...</td>\n",
       "      <td>...</td>\n",
       "      <td>...</td>\n",
       "      <td>...</td>\n",
       "      <td>...</td>\n",
       "      <td>...</td>\n",
       "    </tr>\n",
       "    <tr>\n",
       "      <th>97</th>\n",
       "      <td>3568</td>\n",
       "      <td>m</td>\n",
       "      <td>2010-03-04</td>\n",
       "      <td>74</td>\n",
       "      <td>floor of mouth</td>\n",
       "      <td>2</td>\n",
       "      <td>2c</td>\n",
       "      <td>4a</td>\n",
       "      <td>Y</td>\n",
       "      <td>died other</td>\n",
       "      <td>...</td>\n",
       "      <td>0.0</td>\n",
       "      <td>True</td>\n",
       "      <td>False</td>\n",
       "      <td>False</td>\n",
       "      <td>False</td>\n",
       "      <td>False</td>\n",
       "      <td>True</td>\n",
       "      <td>1</td>\n",
       "      <td>3568</td>\n",
       "      <td>H</td>\n",
       "    </tr>\n",
       "    <tr>\n",
       "      <th>98</th>\n",
       "      <td>3574</td>\n",
       "      <td>m</td>\n",
       "      <td>2010-04-15</td>\n",
       "      <td>51</td>\n",
       "      <td>tongue</td>\n",
       "      <td>2</td>\n",
       "      <td>2b</td>\n",
       "      <td>4a</td>\n",
       "      <td>N</td>\n",
       "      <td>died other</td>\n",
       "      <td>...</td>\n",
       "      <td>5.0</td>\n",
       "      <td>False</td>\n",
       "      <td>False</td>\n",
       "      <td>False</td>\n",
       "      <td>False</td>\n",
       "      <td>True</td>\n",
       "      <td>False</td>\n",
       "      <td>3</td>\n",
       "      <td>3574</td>\n",
       "      <td>I</td>\n",
       "    </tr>\n",
       "    <tr>\n",
       "      <th>99</th>\n",
       "      <td>3578</td>\n",
       "      <td>f</td>\n",
       "      <td>2010-04-26</td>\n",
       "      <td>44</td>\n",
       "      <td>other</td>\n",
       "      <td>4</td>\n",
       "      <td>2b</td>\n",
       "      <td>NaN</td>\n",
       "      <td>Y</td>\n",
       "      <td>alive</td>\n",
       "      <td>...</td>\n",
       "      <td>NaN</td>\n",
       "      <td>False</td>\n",
       "      <td>False</td>\n",
       "      <td>False</td>\n",
       "      <td>False</td>\n",
       "      <td>False</td>\n",
       "      <td>False</td>\n",
       "      <td>6</td>\n",
       "      <td>3578</td>\n",
       "      <td>NaN</td>\n",
       "    </tr>\n",
       "    <tr>\n",
       "      <th>100</th>\n",
       "      <td>3583</td>\n",
       "      <td>m</td>\n",
       "      <td>2010-06-07</td>\n",
       "      <td>56</td>\n",
       "      <td>tongue</td>\n",
       "      <td>3</td>\n",
       "      <td>2b</td>\n",
       "      <td>4a</td>\n",
       "      <td>Y</td>\n",
       "      <td>alive</td>\n",
       "      <td>...</td>\n",
       "      <td>NaN</td>\n",
       "      <td>False</td>\n",
       "      <td>False</td>\n",
       "      <td>False</td>\n",
       "      <td>False</td>\n",
       "      <td>False</td>\n",
       "      <td>False</td>\n",
       "      <td>6</td>\n",
       "      <td>3583</td>\n",
       "      <td>L</td>\n",
       "    </tr>\n",
       "    <tr>\n",
       "      <th>101</th>\n",
       "      <td>3585</td>\n",
       "      <td>m</td>\n",
       "      <td>2010-05-13</td>\n",
       "      <td>68</td>\n",
       "      <td>tongue</td>\n",
       "      <td>2</td>\n",
       "      <td>1</td>\n",
       "      <td>3</td>\n",
       "      <td>N</td>\n",
       "      <td>alive</td>\n",
       "      <td>...</td>\n",
       "      <td>NaN</td>\n",
       "      <td>False</td>\n",
       "      <td>False</td>\n",
       "      <td>False</td>\n",
       "      <td>False</td>\n",
       "      <td>False</td>\n",
       "      <td>False</td>\n",
       "      <td>6</td>\n",
       "      <td>3585</td>\n",
       "      <td>H</td>\n",
       "    </tr>\n",
       "  </tbody>\n",
       "</table>\n",
       "<p>102 rows × 30 columns</p>\n",
       "</div>"
      ],
      "text/plain": [
       "    Patient_Number gender date of diag  age @ diag            site pT  pN  \\\n",
       "0             3143      m   2004-03-29          58  floor of mouth  4   0   \n",
       "1             3167      m   2004-09-30          74  floor of mouth  2   2   \n",
       "2             3169      m   2004-10-28          63  floor of mouth  3   1   \n",
       "3             3170      m   2004-11-22          59           other  4  2b   \n",
       "4             3230      m   2006-01-26          74          tongue  2   1   \n",
       "..             ...    ...          ...         ...             ... ..  ..   \n",
       "97            3568      m   2010-03-04          74  floor of mouth  2  2c   \n",
       "98            3574      m   2010-04-15          51          tongue  2  2b   \n",
       "99            3578      f   2010-04-26          44           other  4  2b   \n",
       "100           3583      m   2010-06-07          56          tongue  3  2b   \n",
       "101           3585      m   2010-05-13          68          tongue  2   1   \n",
       "\n",
       "    stage ECS     OUTCOME  ... Years  1year  2year  3year  4year  5year  \\\n",
       "0       4   N         DOD  ...   9.0  False  False  False  False  False   \n",
       "1       4   Y         DOD  ...   1.0   True   True  False  False  False   \n",
       "2       3   N  died other  ...   2.0   True   True  False  False  False   \n",
       "3      4a   Y  Died other  ...  10.0  False  False  False  False  False   \n",
       "4       3   Y         DOD  ...   0.0   True  False  False  False  False   \n",
       "..    ...  ..         ...  ...   ...    ...    ...    ...    ...    ...   \n",
       "97     4a   Y  died other  ...   0.0   True  False  False  False  False   \n",
       "98     4a   N  died other  ...   5.0  False  False  False  False   True   \n",
       "99    NaN   Y       alive  ...   NaN  False  False  False  False  False   \n",
       "100    4a   Y       alive  ...   NaN  False  False  False  False  False   \n",
       "101     3   N       alive  ...   NaN  False  False  False  False  False   \n",
       "\n",
       "    1yeardeath 2years Case ID ASMA  \n",
       "0        False      5    3143    H  \n",
       "1        False      1    3167    H  \n",
       "2        False      2    3169    L  \n",
       "3        False      6    3170    H  \n",
       "4         True      1    3230    H  \n",
       "..         ...    ...     ...  ...  \n",
       "97        True      1    3568    H  \n",
       "98       False      3    3574    I  \n",
       "99       False      6    3578  NaN  \n",
       "100      False      6    3583    L  \n",
       "101      False      6    3585    H  \n",
       "\n",
       "[102 rows x 30 columns]"
      ]
     },
     "execution_count": 60,
     "metadata": {},
     "output_type": "execute_result"
    }
   ],
   "source": [
    "new_metadata"
   ]
  },
  {
   "cell_type": "code",
   "execution_count": 61,
   "metadata": {},
   "outputs": [
    {
     "data": {
      "text/plain": [
       "Text(0, 0.5, 'N patients')"
      ]
     },
     "execution_count": 61,
     "metadata": {},
     "output_type": "execute_result"
    },
    {
     "data": {
      "image/png": "[encoded data removed]",
      "text/plain": [
       "<Figure size 432x288 with 1 Axes>"
      ]
     },
     "metadata": {
      "needs_background": "light"
     },
     "output_type": "display_data"
    }
   ],
   "source": [
    "ax = pd.crosstab(new_metadata[\"ASMA\"], new_metadata[\"1yeardeath\"]).plot.bar()\n",
    "ax.set_ylabel(\"N patients\")"
   ]
  },
  {
   "cell_type": "code",
   "execution_count": 62,
   "metadata": {},
   "outputs": [
    {
     "data": {
      "text/plain": [
       "Text(0, 0.5, 'N patients')"
      ]
     },
     "execution_count": 62,
     "metadata": {},
     "output_type": "execute_result"
    },
    {
     "data": {
      "image/png": "[encoded data removed]",
      "text/plain": [
       "<Figure size 432x288 with 1 Axes>"
      ]
     },
     "metadata": {
      "needs_background": "light"
     },
     "output_type": "display_data"
    }
   ],
   "source": [
    "ax = pd.crosstab(new_metadata[\"ASMA\"], new_metadata[\"DODvsAlive\"]).plot.bar()\n",
    "ax.set_ylabel(\"N patients\")"
   ]
  },
  {
   "cell_type": "raw",
   "metadata": {},
   "source": [
    "trials = {name.split(\"/\")[-2][6:]: pd.read_json(name) for name in tqdm(glob.iglob(\"KerasTuner/**/*.json\", recursive = True)) if \"trial\" in name}"
   ]
  },
  {
   "cell_type": "markdown",
   "metadata": {},
   "source": [
    "## Regression stuff"
   ]
  },
  {
   "cell_type": "raw",
   "metadata": {},
   "source": [
    "from sklearn.linear_model import LinearRegression\n",
    "from sklearn.tree import DecisionTreeRegressor\n",
    "from sklearn.feature_selection import SelectFromModel\n",
    "\n",
    "import xgboost as xgb"
   ]
  },
  {
   "cell_type": "raw",
   "metadata": {},
   "source": [
    "regPipe = Pipeline([\n",
    "(\"Normalise spectra\", FunctionTransformer(robust_scale, kw_args = {\"axis\": 1})),\n",
    "(\"Scaler\", RobustScaler()),\n",
    "(\"PCA\", PCA()),\n",
    "(\"LinearReg\", LinearRegression()),\n",
    "])"
   ]
  },
  {
   "cell_type": "raw",
   "metadata": {},
   "source": [
    "regPipe = Pipeline([\n",
    "(\"Normalise spectra\", FunctionTransformer(robust_scale, kw_args = {\"axis\": 1})),\n",
    "(\"Scaler\", RobustScaler()),\n",
    "(\"SFM\", SelectFromModel(xgb.XGBRegressor(), threshold=\"0.25*mean\")),\n",
    "(\"PCA\", PCA()),\n",
    "(\"reg\", xgb.XGBRegressor()),\n",
    "])"
   ]
  },
  {
   "cell_type": "raw",
   "metadata": {},
   "source": [
    "data = total.copy().sample(frac=0.5)\n",
    "\n",
    "scores = cross_validate(regPipe, data.values, data.reset_index()[\"survival (months)\"], return_estimator=True, verbose=1, n_jobs=4)"
   ]
  },
  {
   "cell_type": "raw",
   "metadata": {},
   "source": [
    "predictions = scores[\"estimator\"][0].predict(data.values)"
   ]
  },
  {
   "cell_type": "raw",
   "metadata": {},
   "source": [
    "results = data.reset_index().loc[:,[\"survival (months)\"]]\n",
    "results[\"Predictions\"] = predictions\n",
    "results[\"Patient_Number\"] = data.reset_index().loc[:,\"Patient_Number\"]"
   ]
  },
  {
   "cell_type": "raw",
   "metadata": {},
   "source": [
    "data = total.copy().sample(frac = 1)#.reset_index([\"ASMA\"]).dropna(subset = [\"ASMA\"]).loc[:,[\"ASMA\"]]\n",
    "unique_patients = data.reset_index()[f\"{group}\"].unique()\n",
    "data[\"sample_weights\"] = Cross_Eval.get_weights(data.reset_index()[f\"{group}\"])\n",
    "   \n",
    "train_pat, valid_pat = train_test_split(unique_patients)\n",
    "\n",
    "train_data = data.query(f\"{group} in {list(train_pat)}\")\n",
    "validation_data = data.query(f\"{group} in {list(valid_pat)}\")\n",
    "\n",
    "w_train, w_test = train_data.reset_index()[\"sample_weights\"], validation_data.reset_index()[\"sample_weights\"]\n",
    "\n",
    "X_train = train_data.drop([\"sample_weights\"], axis = 1)\n",
    "X_valid = validation_data.drop([\"sample_weights\"], axis = 1)\n",
    "\n",
    "y_train, y_valid = train_data.reset_index().loc[:,[\"survival (months)\"]], validation_data.reset_index().loc[:,[\"survival (months)\"]]"
   ]
  },
  {
   "cell_type": "raw",
   "metadata": {},
   "source": [
    "regPipe.fit(X_train, y_train, reg__sample_weight=w_train)\n",
    "\n",
    "predictions = regPipe.predict(X_valid)\n",
    "\n",
    "results = y_valid.copy()\n",
    "results[\"Predictions\"] = predictions\n",
    "results[\"Patient_Number\"] = X_valid.reset_index().loc[:,[\"Patient_Number\"]]\n",
    "results = results.set_index(\"Patient_Number\")"
   ]
  },
  {
   "cell_type": "raw",
   "metadata": {},
   "source": [
    "fig, (ax1,ax2) = plt.subplots(ncols=2, figsize=(12,4))\n",
    "\n",
    "results.sort_values(\"survival (months)\").groupby(\"Patient_Number\").mean().plot(ax=ax1)\n",
    "\n",
    "(results[\"survival (months)\"]-results[\"Predictions\"]).groupby(\"Patient_Number\").plot.hist(histtype=\"step\",ax=ax2);"
   ]
  },
  {
   "cell_type": "markdown",
   "metadata": {},
   "source": [
    "## "
   ]
  },
  {
   "cell_type": "code",
   "execution_count": 23,
   "metadata": {},
   "outputs": [],
   "source": [
    "numeric_features = np.arange(2, len(total.columns)+1)\n",
    "categorical_features = [0,1]\n",
    "\n",
    "numeric_pipe = Pipeline([\n",
    "(\"Normalise spectra\", FunctionTransformer(robust_scale, kw_args = {\"axis\": 1})),\n",
    "(\"Scaler\", RobustScaler()),\n",
    "(\"PCA\", PCA()),\n",
    "])\n",
    "\n",
    "categorical_pipe = Pipeline([\n",
    "    (\"OneHot\", OneHotEncoder())\n",
    "])\n",
    "\n",
    "preprocessing = ColumnTransformer(\n",
    "    [(\"Numerical\", numeric_pipe, numeric_features),\n",
    "     (\"Categorical\", categorical_pipe, categorical_features)])\n",
    "\n",
    "pipe = Pipeline([\n",
    "    (\"Preprocessing\", preprocessing),\n",
    "])"
   ]
  },
  {
   "cell_type": "code",
   "execution_count": 24,
   "metadata": {},
   "outputs": [
    {
     "data": {
      "text/plain": [
       "<matplotlib.legend.Legend at 0x7f6ef718b550>"
      ]
     },
     "execution_count": 24,
     "metadata": {},
     "output_type": "execute_result"
    },
    {
     "data": {
      "image/png": "[encoded data removed]",
      "text/plain": [
       "<Figure size 1152x576 with 2 Axes>"
      ]
     },
     "metadata": {
      "needs_background": "light"
     },
     "output_type": "display_data"
    }
   ],
   "source": [
    "y = \"2years\"\n",
    "\n",
    "fig, (ax1, ax2) = plt.subplots(ncols = 2, figsize = (16,8))\n",
    "fig.suptitle(y)\n",
    "\n",
    "data = total.copy().sample(frac = 0.1)#.drop(np.nan, level = \"DODvsAlive\")\n",
    "\n",
    "total_lda = pd.DataFrame(\n",
    "    LinearDiscriminantAnalysis(n_components = 1).fit_transform(pcapipe.fit_transform(data), data.reset_index()[f\"{y}\"].values)\n",
    "    , index = data.index)\n",
    "\n",
    "\n",
    "for name, df in total_lda.groupby(level = f\"{y}\"):\n",
    "\n",
    "    df.hist(0, bins = 50, ax = ax1, histtype = 'step', label = name, density = True)\n",
    "\n",
    "ax1.set_title(\"LDA\")\n",
    "ax1.legend()\n",
    "    \n",
    "total_pca = pd.DataFrame(\n",
    "    PCA(n_components = 1).fit_transform(pcapipe.fit_transform(data), data.reset_index()[f\"{y}\"])\n",
    "    , index = data.index)\n",
    "\n",
    "\n",
    "for name, df in total_pca.groupby(level = f\"{y}\"):\n",
    "\n",
    "    df.hist(0, bins = 50, ax = ax2, histtype = 'step', label = name, density = True)\n",
    "\n",
    "ax2.set_title(\"PCA\")\n",
    "plt.legend()"
   ]
  },
  {
   "cell_type": "raw",
   "metadata": {
    "jupyter": {
     "source_hidden": true
    }
   },
   "source": [
    "group = \"Patient_Number\"\n",
    "y = \"DODvsAlive\"\n",
    "\n",
    "#data = (total - paraffin.mean(axis = 0)).sample(frac = 0.1)\n",
    "data = total.copy().sample(frac = 0.01)#.query(\"DODvsAlive != 'Other'\")#.drop(np.nan, level = y)\n",
    "\n",
    "\n",
    " \n",
    "data[\"sample_weights\"] = Cross_Eval.get_weights(data.reset_index()[f\"{group}\"]) * Cross_Eval.get_weights(data.reset_index()[f\"{y}\"])\n",
    "\n",
    "# Splt the data set into training and validation sets based on patient number\n",
    "train_pat, valid_pat = train_test_split(data.reset_index()[f\"{group}\"].unique(), test_size = 0.2, shuffle = True)\n",
    "\n",
    "print(f\"N train patients: \\t{len(train_pat)}\\n{train_pat}\")\n",
    "print(f\"N test patients: \\t{len(valid_pat)}\\n{valid_pat}\")\n",
    "\n",
    "\n",
    "train_data = data.query(f\"{group} in {list(train_pat)}\")\n",
    "validation_data = data.query(f\"{group} in {list(valid_pat)}\")\n",
    "\n",
    "\n",
    "X_train, X_valid = train_data.drop([\"sample_weights\"], axis = 1), validation_data.drop([\"sample_weights\"], axis = 1), \n",
    "y_train, y_valid = train_data.reset_index()[f\"{y}\"], validation_data.reset_index()[f\"{y}\"]\n",
    "w_train, w_test = train_data.reset_index()[\"sample_weights\"], validation_data.reset_index()[\"sample_weights\"]\n",
    "\n",
    "\n",
    "y_train.index = X_train.index\n",
    "y_valid.index = X_valid.index\n",
    "\n",
    "groups = X_train.reset_index()[f\"{group}\"]\n",
    "groups.index = X_train.index\n",
    "\n",
    "lb = LabelBinarizer().fit(data.reset_index()[f\"{y}\"])\n",
    "\n",
    "y_train_b = pd.DataFrame(lb.transform(y_train))\n",
    "y_valid_b = pd.DataFrame(lb.transform(y_valid))\n",
    "\n",
    "scorer = make_scorer(roc_auc_score, needs_proba = True, average = 'weighted')\n",
    "\n",
    "date_time = datetime.now().strftime(\"%m.%d.%Y_%H:%M\")\n",
    "\n",
    "file_place = os.path.join(os.getcwd(), \"Plots\", y, date_time)\n",
    "print(file_place)\n",
    "\n",
    "if not os.path.exists(file_place):\n",
    "    os.mkdir(file_place)\n",
    "    \n",
    "print(lb.classes_)"
   ]
  },
  {
   "cell_type": "raw",
   "metadata": {
    "jupyter": {
     "source_hidden": true
    }
   },
   "source": [
    "def build_LDA(hp):\n",
    "    \n",
    "    params = {\n",
    "        'n_components' : hp.Int(\"PCA_components\", 1, len(data.columns) - 1, 1),\n",
    "    }\n",
    "\n",
    "    clf = LinearDiscriminantAnalysis()\n",
    "    clf = clf.set_params(**params)\n",
    "    \n",
    "    #---------------------------------------------------------------------------------------------------\n",
    "    scalers = {\"Normalize\" : normalize,\n",
    "               \"Robust\"    : robust_scale,\n",
    "               \"MinMax\"    : minmax_scale}\n",
    "    \n",
    "    scale1 = hp.Choice('scale1', [\"Normalize\", \"Robust\", \"MinMax\"])\n",
    "    scale2 = hp.Choice('scale2', [\"Normalize\", \"Robust\", \"MinMax\"])\n",
    "\n",
    "    pipe = Pipeline([\n",
    "    (\"Normalise spectra\", FunctionTransformer(scalers[scale1] , kw_args = {\"axis\": 1})),\n",
    "    (\"Scaler\", FunctionTransformer(scalers[scale2] , kw_args = {\"axis\": 0})),\n",
    "    #(\"RBFSampler\", RBFSampler(gamma = hp.Float(\"RBF_gamma\", 0, 5), n_components = hp.Int(\"RB_components\", 1, 169, 1))),\n",
    "    (\"PCA\", PCA(n_components = hp.Int(\"PCA_components\", 1, len(data.columns) - 1, 1))),\n",
    "    (\"LDA\", clf)])\n",
    "    \n",
    "    return pipe"
   ]
  },
  {
   "cell_type": "raw",
   "metadata": {
    "jupyter": {
     "source_hidden": true
    }
   },
   "source": [
    "pipe = Pipeline([\n",
    "(\"Normalise spectra\", FunctionTransformer(robust_scale , kw_args = {\"axis\": 1})),\n",
    "(\"Scaler\", FunctionTransformer(robust_scale , kw_args = {\"axis\": 0})),\n",
    "#(\"RBFSampler\", RBFSampler(gamma = hp.Float(\"RBF_gamma\", 0, 5), n_components = hp.Int(\"RB_components\", 1, 169, 1))),\n",
    "(\"PCA\", PCA()),\n",
    "(\"LDA\", LinearDiscriminantAnalysis())])"
   ]
  },
  {
   "cell_type": "raw",
   "metadata": {
    "jupyter": {
     "source_hidden": true
    }
   },
   "source": [
    "pipe = Pipeline([\n",
    "(\"Normalise spectra\", FunctionTransformer(normalize , kw_args = {\"axis\": 1})),\n",
    "(\"Scaler\", FunctionTransformer(normalize , kw_args = {\"axis\": 0})),\n",
    "#(\"RBFSampler\", RBFSampler(gamma = hp.Float(\"RBF_gamma\", 0, 5), n_components = hp.Int(\"RB_components\", 1, 169, 1))),\n",
    "(\"PCA\", PCA()),\n",
    "(\"LDA\", LinearDiscriminantAnalysis())])"
   ]
  },
  {
   "cell_type": "raw",
   "metadata": {
    "jupyter": {
     "source_hidden": true
    }
   },
   "source": [
    "pipe = Pipeline([\n",
    "(\"Normalise spectra\", FunctionTransformer(minmax_scale , kw_args = {\"axis\": 1})),\n",
    "(\"Scaler\", FunctionTransformer(minmax_scale , kw_args = {\"axis\": 0})),\n",
    "#(\"RBFSampler\", RBFSampler(gamma = hp.Float(\"RBF_gamma\", 0, 5), n_components = hp.Int(\"RB_components\", 1, 169, 1))),\n",
    "(\"PCA\", PCA()),\n",
    "(\"LDA\", LinearDiscriminantAnalysis())])"
   ]
  },
  {
   "cell_type": "raw",
   "metadata": {
    "jupyter": {
     "source_hidden": true
    }
   },
   "source": [
    "pipe = Pipeline([\n",
    "(\"Normalise spectra\", FunctionTransformer(minmax_scale , kw_args = {\"axis\": 1})),\n",
    "(\"Scaler\", FunctionTransformer(robust_scale , kw_args = {\"axis\": 0})),\n",
    "#(\"RBFSampler\", RBFSampler(gamma = hp.Float(\"RBF_gamma\", 0, 5), n_components = hp.Int(\"RB_components\", 1, 169, 1))),\n",
    "(\"PCA\", PCA()),\n",
    "(\"LDA\", LinearDiscriminantAnalysis())])"
   ]
  },
  {
   "cell_type": "raw",
   "metadata": {
    "jupyter": {
     "source_hidden": true
    }
   },
   "source": [
    "pipe = Pipeline([\n",
    "(\"Normalise spectra\", FunctionTransformer(normalize , kw_args = {\"axis\": 1})),\n",
    "(\"Scaler\", FunctionTransformer(robust_scale , kw_args = {\"axis\": 0})),\n",
    "#(\"RBFSampler\", RBFSampler(gamma = hp.Float(\"RBF_gamma\", 0, 5), n_components = hp.Int(\"RB_components\", 1, 169, 1))),\n",
    "(\"PCA\", PCA()),\n",
    "(\"LDA\", LinearDiscriminantAnalysis())])"
   ]
  },
  {
   "cell_type": "raw",
   "metadata": {
    "jupyter": {
     "source_hidden": true
    }
   },
   "source": [
    "pipe = Pipeline([\n",
    "(\"Normalise spectra\", FunctionTransformer(normalize , kw_args = {\"axis\": 1})),\n",
    "(\"Scaler\", FunctionTransformer(minmax_scale , kw_args = {\"axis\": 0})),\n",
    "#(\"RBFSampler\", RBFSampler(gamma = hp.Float(\"RBF_gamma\", 0, 5), n_components = hp.Int(\"RB_components\", 1, 169, 1))),\n",
    "(\"PCA\", PCA()),\n",
    "(\"LDA\", LinearDiscriminantAnalysis())])"
   ]
  },
  {
   "cell_type": "raw",
   "metadata": {
    "jupyter": {
     "source_hidden": true
    }
   },
   "source": [
    "pipe = Pipeline([\n",
    "(\"Normalise spectra\", FunctionTransformer(minmax_scale , kw_args = {\"axis\": 1})),\n",
    "(\"Scaler\", FunctionTransformer(normalize , kw_args = {\"axis\": 0})),\n",
    "#(\"RBFSampler\", RBFSampler(gamma = hp.Float(\"RBF_gamma\", 0, 5), n_components = hp.Int(\"RB_components\", 1, 169, 1))),\n",
    "(\"PCA\", PCA()),\n",
    "(\"LDA\", LinearDiscriminantAnalysis())])"
   ]
  },
  {
   "cell_type": "raw",
   "metadata": {
    "jupyter": {
     "source_hidden": true
    }
   },
   "source": [
    "pipe = Pipeline([\n",
    "(\"Normalise spectra\", FunctionTransformer(minmax_scale , kw_args = {\"axis\": 1})),\n",
    "(\"Scaler\", FunctionTransformer(robust_scale , kw_args = {\"axis\": 0})),\n",
    "#(\"RBFSampler\", RBFSampler(gamma = hp.Float(\"RBF_gamma\", 0, 5), n_components = hp.Int(\"RB_components\", 1, 169, 1))),\n",
    "(\"PCA\", PCA()),\n",
    "(\"LDA\", LinearDiscriminantAnalysis())])"
   ]
  },
  {
   "cell_type": "raw",
   "metadata": {
    "jupyter": {
     "source_hidden": true
    }
   },
   "source": [
    "pipe = Pipeline([\n",
    "(\"Normalise spectra\", FunctionTransformer(robust_scale , kw_args = {\"axis\": 1})),\n",
    "(\"Scaler\", FunctionTransformer(minmax_scale , kw_args = {\"axis\": 0})),\n",
    "#(\"RBFSampler\", RBFSampler(gamma = hp.Float(\"RBF_gamma\", 0, 5), n_components = hp.Int(\"RB_components\", 1, 169, 1))),\n",
    "(\"PCA\", PCA()),\n",
    "(\"LDA\", LinearDiscriminantAnalysis())])"
   ]
  },
  {
   "cell_type": "raw",
   "metadata": {
    "jupyter": {
     "source_hidden": true
    }
   },
   "source": [
    "pipe = Pipeline([\n",
    "(\"Normalise spectra\", FunctionTransformer(robust_scale , kw_args = {\"axis\": 1})),\n",
    "(\"Scaler\", FunctionTransformer(normalize , kw_args = {\"axis\": 0})),\n",
    "#(\"RBFSampler\", RBFSampler(gamma = hp.Float(\"RBF_gamma\", 0, 5), n_components = hp.Int(\"RB_components\", 1, 169, 1))),\n",
    "(\"PCA\", PCA()),\n",
    "(\"LDA\", LinearDiscriminantAnalysis())])"
   ]
  },
  {
   "cell_type": "raw",
   "metadata": {
    "jupyter": {
     "source_hidden": true
    }
   },
   "source": [
    "group = \"Patient_Number\"\n",
    "y = \"DODvsAlive\"\n",
    "\n",
    "#data = (total - paraffin.mean(axis = 0)).sample(frac = 0.1)\n",
    "data = total.copy().sample(frac = 1)\n",
    "data[\"sample_weights\"] = Cross_Eval.get_weights(data.reset_index()[f\"{group}\"]) * Cross_Eval.get_weights(data.reset_index()[f\"{y}\"])\n",
    "unique_patients = data.reset_index()[f\"{group}\"].unique()\n",
    "\n",
    "kfoldscores = []\n",
    "\n",
    "for train_i, valid_i in tqdm(list(KFold(n_splits = 10, shuffle = True).split(unique_patients))):\n",
    "    \n",
    "    train_pat, valid_pat = unique_patients[train_i], unique_patients[valid_i]\n",
    "\n",
    "    train_data = data.query(f\"{group} in {list(train_pat)}\")\n",
    "    validation_data = data.query(f\"{group} in {list(valid_pat)}\")\n",
    "\n",
    "    X_train, X_valid = train_data.drop([\"sample_weights\"], axis = 1), validation_data.drop([\"sample_weights\"], axis = 1), \n",
    "    y_train, y_valid = train_data.reset_index()[f\"{y}\"], validation_data.reset_index()[f\"{y}\"]\n",
    "    w_train, w_test = train_data.reset_index()[\"sample_weights\"], validation_data.reset_index()[\"sample_weights\"]\n",
    "\n",
    "    y_train.index = X_train.index\n",
    "    y_valid.index = X_valid.index\n",
    "\n",
    "    groups = X_train.reset_index()[f\"{group}\"]\n",
    "    groups.index = X_train.index\n",
    "\n",
    "    lb = LabelBinarizer().fit(total.reset_index()[f\"{y}\"].unique())\n",
    "\n",
    "    y_train_b = pd.DataFrame(lb.transform(y_train))\n",
    "    y_valid_b = pd.DataFrame(lb.transform(y_valid))\n",
    "    \n",
    "\n",
    "    opt_results = Cross_Eval.bayes_search(pipe\n",
    "                                      , param_dict\n",
    "                                      , X_train\n",
    "                                      , y_train_b.values.squeeze()\n",
    "                                      , GroupKFold(n_splits = 2)\n",
    "                                      , groups = groups\n",
    "                                      #, sample_weight = w_train.values\n",
    "                                      , verbose = 0\n",
    "                                      , n_iter = 10\n",
    "                                     )\n",
    "    \n",
    "    clf = pipe.set_params(**opt_results.best_params_)\n",
    "    \n",
    "    # Refit the classifier with the best parameters on the full dataset\n",
    "    clf.fit(X_train, y_train_b)\n",
    "    \n",
    "    try: #Try except statement in case of scoring problems\n",
    "        scores = Cross_Eval.score(clf, X_valid, y_valid_b)\n",
    "        \n",
    "    except:\n",
    "        continue\n",
    "        \n",
    "    kfoldscores.append(scores)\n",
    "\n",
    "date_time = datetime.now().strftime(\"%m.%d.%Y_%H:%M\")\n",
    "file_place = os.path.join(os.getcwd(), \"Plots\", y, date_time)\n",
    "\n",
    "if not os.path.exists(file_place):\n",
    "    os.mkdir(file_place)\n",
    "\n",
    "results = pd.DataFrame(kfoldscores)"
   ]
  },
  {
   "cell_type": "raw",
   "metadata": {
    "jupyter": {
     "source_hidden": true
    }
   },
   "source": [
    "results.describe()"
   ]
  },
  {
   "cell_type": "raw",
   "metadata": {
    "jupyter": {
     "source_hidden": true
    }
   },
   "source": [
    "fig, (ax, ax2) = plt.subplots(ncols = 2, figsize = (12, 5))\n",
    "\n",
    "for _, row in results.iterrows():\n",
    "    \n",
    "    ax.plot(row[\"FPR_curve\"], row[\"TPR_curve\"])\n",
    "    \n",
    "ax.plot([0,1],[0,1], c = \"black\", linestyle = '--')\n",
    "ax.set_xlabel('False Positive Rate')\n",
    "ax.set_ylabel('True Positive Rate')\n",
    "ax.set_title('ECS ROC Curve')\n",
    "\n",
    "ax.text(0.65, 0.2, \"AUC:{:.2f} +/- {:.2f}\".format(results[\"AUC\"].mean(), results[\"AUC\"].std()))\n",
    "\n",
    "for _, row in results.iterrows():\n",
    "    \n",
    "    ax2.plot(row[\"rec_curve\"], row[\"prec_curve\"])\n",
    "    \n",
    "ax2.set_xlabel('Recall')\n",
    "ax2.set_ylabel('Precision')\n",
    "ax2.set_title('Precision Recall Curve')\n",
    "\n",
    "fig.savefig(os.path.join(file_place, \"ROC_scores.png\"), bbox_inches = 'tight')"
   ]
  },
  {
   "cell_type": "raw",
   "metadata": {
    "jupyter": {
     "source_hidden": true
    }
   },
   "source": [
    "fig, ax = plt.subplots(ncols = 1)\n",
    "\n",
    "results[[\"AUC\", \"Specificity\", \"Sensitivity\", \"Precision\", \"Recall\", \"F1\"]].plot.box(ax = ax)\n",
    "ax.set_ylabel(\"Score\")\n",
    "\n",
    "results.to_excel(os.path.join(file_place, \"Confusion_Matrix_bad.xlsx\"))\n",
    "fig.savefig(os.path.join(file_place, \"scores.png\"), bbox_inches = 'tight')"
   ]
  },
  {
   "cell_type": "raw",
   "metadata": {},
   "source": [
    "from sklearn.model_selection import cross_val_score\n",
    "from mlxtend.evaluate import BootstrapOutOfBag\n",
    "from sklearn.model_selection import LeaveOneOut"
   ]
  },
  {
   "cell_type": "raw",
   "metadata": {
    "jupyter": {
     "source_hidden": true
    }
   },
   "source": [
    "ldapipe = Pipeline([\n",
    "    (\"Normalise spectra\", FunctionTransformer(robust_scale, kw_args = {\"axis\": 1})),\n",
    "    (\"Scaler\", RobustScaler()),\n",
    "    (\"PCA\", PCA()),\n",
    "    (\"clf\", LinearDiscriminantAnalysis())\n",
    "])\n",
    "\n",
    "#totalpca = pcapipe.fit(total.append(paraffin))\n",
    "#totalpca = pcapipe.fit(total.append(paraffin))"
   ]
  },
  {
   "cell_type": "code",
   "execution_count": 25,
   "metadata": {
    "jupyter": {
     "source_hidden": true
    }
   },
   "outputs": [],
   "source": [
    "ldapipe = Pipeline([\n",
    "    (\"Normalise spectra\", FunctionTransformer(robust_scale, kw_args = {\"axis\": 1})),\n",
    "    (\"Scaler\", RobustScaler()),\n",
    "    (\"PCA\", PCA()),\n",
    "    (\"clf\", LinearDiscriminantAnalysis())\n",
    "])\n",
    "\n",
    "#totalpca = pcapipe.fit(total.append(paraffin))\n",
    "#totalpca = pcapipe.fit(total.append(paraffin))"
   ]
  },
  {
   "cell_type": "raw",
   "metadata": {
    "jupyter": {
     "source_hidden": true
    }
   },
   "source": [
    "def get_weights(column):\n",
    "    \n",
    "    counts = column.value_counts()\n",
    "    weight_dict = dict(zip(counts.index, [(counts.values.sum()/n) for n in counts.values]))\n",
    "    \n",
    "    return column.map(weight_dict).values"
   ]
  },
  {
   "cell_type": "raw",
   "metadata": {
    "jupyter": {
     "source_hidden": true
    }
   },
   "source": [
    "data = total.copy().sample(frac = 1)\n",
    "group = \"Patient_Number\"\n",
    "y = \"DODvsAlive\"\n",
    "\n",
    "scoring_dict = {\n",
    "                \"Accuracy\": make_scorer(accuracy_score)\n",
    "               }\n",
    "\n",
    "\n",
    "patients = data.reset_index()[\"Patient_Number\"].unique()\n",
    "data[\"sample_weights\"] = get_weights(data.reset_index()[f\"{group}\"]) * get_weights(data.reset_index()[f\"{y}\"])\n",
    "\n",
    "results = dict()\n",
    "\n",
    "for train_i, test_i in tqdm(list(LeaveOneOut().split(patients))):\n",
    "    \n",
    "    train_pat , valid_pat = patients[train_i], patients[test_i]\n",
    "    \n",
    "    train_data = data.query(f\"{group} in {list(train_pat)}\")\n",
    "    validation_data = data.query(f\"{group} in {list(valid_pat)}\")\n",
    "\n",
    "    \n",
    "    X_train, X_valid = train_data.drop([\"sample_weights\"], axis = 1), validation_data.drop([\"sample_weights\"], axis = 1), \n",
    "    y_train, y_valid = train_data.reset_index()[f\"{y}\"], validation_data.reset_index()[f\"{y}\"]\n",
    "    w_train, w_test = train_data.reset_index()[\"sample_weights\"], validation_data.reset_index()[\"sample_weights\"]\n",
    "    \n",
    "\n",
    "    y_train.index = X_train.index\n",
    "    y_valid.index = X_valid.index\n",
    "    \n",
    "    groups = X_train.reset_index()[f\"{group}\"]\n",
    "    groups.index = X_train.index\n",
    "\n",
    "\n",
    "    lb = LabelBinarizer().fit(data.reset_index()[f\"{y}\"])\n",
    "\n",
    "    y_train_b = pd.DataFrame(lb.transform(y_train))\n",
    "    y_valid_b = pd.DataFrame(lb.transform(y_valid))\n",
    "\n",
    "    scorer = make_scorer(roc_auc_score, needs_proba = True, average = 'weighted')\n",
    "    \n",
    "    ldapipe.fit(X_train, y_train_b.values.squeeze())\n",
    "    \n",
    "    scores = dict()\n",
    "\n",
    "    for name, scorer in scoring_dict.items():\n",
    "        \n",
    "        scores[name] = scorer(ldapipe, X_valid, y_valid_b)\n",
    "        \n",
    "    results[valid_pat[0]] = scores"
   ]
  },
  {
   "cell_type": "markdown",
   "metadata": {},
   "source": [
    "## Keras Tuner"
   ]
  },
  {
   "cell_type": "code",
   "execution_count": 63,
   "metadata": {},
   "outputs": [],
   "source": [
    "import kerastuner as kt"
   ]
  },
  {
   "cell_type": "code",
   "execution_count": 94,
   "metadata": {},
   "outputs": [],
   "source": [
    "def build_LDA(hp):\n",
    "    \n",
    "    scalers = {\"Normalize\" : normalize,\n",
    "               \"Robust\"    : robust_scale,\n",
    "               \"MinMax\"    : minmax_scale}\n",
    "    \n",
    "    scale1 = hp.Choice('scale1', [\"Normalize\", \"Robust\", \"MinMax\"])\n",
    "    scale2 = hp.Choice('scale2', [\"Normalize\", \"Robust\", \"MinMax\"])\n",
    "\n",
    "\n",
    "    pipe = Pipeline([\n",
    "    (\"Normalise spectra\", FunctionTransformer(scalers[scale1] , kw_args = {\"axis\": 1})),\n",
    "    (\"Scaler\", FunctionTransformer(scalers[scale2] , kw_args = {\"axis\": 0})),\n",
    "    (\"PCA\", PCA(n_components = hp.Int(\"PCA_components\", 1, len(data.columns) - 1, 1))),\n",
    "    (\"clf\", CalibratedClassifierCV(LinearDiscriminantAnalysis()))])\n",
    "    \n",
    "    return pipe"
   ]
  },
  {
   "cell_type": "code",
   "execution_count": 90,
   "metadata": {},
   "outputs": [],
   "source": [
    "def build_LR(hp):\n",
    "    \n",
    "    scalers = {\"Normalize\" : normalize,\n",
    "               \"Robust\"    : robust_scale,\n",
    "               \"MinMax\"    : minmax_scale}\n",
    "    \n",
    "    scale1 = hp.Choice('scale1', [\"Normalize\", \"Robust\", \"MinMax\"])\n",
    "    scale2 = hp.Choice('scale2', [\"Normalize\", \"Robust\", \"MinMax\"])\n",
    "    \n",
    "    params = {\n",
    "        \"penalty\"  : hp.Choice('Penalty', [\"l2\"]),\n",
    "        \"tol\"      : hp.Float('Tolerance', 0, 1),\n",
    "        \"C\"        : hp.Float('C', 1e-5, 1),\n",
    "        \"solver\"   : \"sag\"\n",
    "    }\n",
    "    \n",
    "    clf = LogisticRegression()\n",
    "    clf.set_params(**params)\n",
    "\n",
    "\n",
    "    pipe = Pipeline([\n",
    "    (\"Normalise spectra\", FunctionTransformer(scalers[scale1] , kw_args = {\"axis\": 1})),\n",
    "    (\"Scaler\", FunctionTransformer(scalers[scale2] , kw_args = {\"axis\": 0})),\n",
    "    (\"PCA\", PCA(n_components = hp.Int(\"PCA_components\", 1, len(data.columns) - 1, 1))),\n",
    "    (\"clf\", CalibratedClassifierCV(clf))])\n",
    "    \n",
    "    return pipe"
   ]
  },
  {
   "cell_type": "code",
   "execution_count": 71,
   "metadata": {},
   "outputs": [],
   "source": [
    "from sklearn.naive_bayes import GaussianNB\n",
    "\n",
    "def build_NB(hp):\n",
    "    \n",
    "    scalers = {\"Normalize\" : normalize,\n",
    "               \"Robust\"    : robust_scale,\n",
    "               \"MinMax\"    : minmax_scale}\n",
    "    \n",
    "    scale1 = hp.Choice('scale1', [\"Normalize\", \"Robust\", \"MinMax\"])\n",
    "    scale2 = hp.Choice('scale2', [\"Normalize\", \"Robust\", \"MinMax\"])\n",
    "    \n",
    "    clf = GaussianNB()\n",
    "    \n",
    "    #params = {\n",
    "    #    \"var_smoothing\": hp.Float(\"var_smoothing\", 1e-9, 1)}\n",
    "    \n",
    "    #clf.set_params(**params)\n",
    "\n",
    "\n",
    "    pipe = Pipeline([\n",
    "    (\"Normalise spectra\", FunctionTransformer(scalers[scale1] , kw_args = {\"axis\": 1})),\n",
    "    (\"Scaler\", FunctionTransformer(scalers[scale2] , kw_args = {\"axis\": 0})),\n",
    "    (\"PCA\", PCA(n_components = hp.Int(\"PCA_components\", 1, len(data.columns) - 1, 1))),\n",
    "    (\"clf\", CalibratedClassifierCV(clf))])\n",
    "    \n",
    "    return pipe"
   ]
  },
  {
   "cell_type": "code",
   "execution_count": 30,
   "metadata": {},
   "outputs": [],
   "source": [
    "from keras.wrappers.scikit_learn import KerasClassifier\n",
    "\n",
    "from keras.models import Sequential\n",
    "import keras.layers as Layers\n",
    "\n",
    "import tensorflow as tf\n",
    "\n",
    "def build_NN(hp):\n",
    "    \n",
    "    scalers = {\"Normalize\" : normalize,\n",
    "               \"Robust\"    : robust_scale,\n",
    "               \"MinMax\"    : minmax_scale}\n",
    "    \n",
    "    scale1 = hp.Choice('scale1', [\"Normalize\", \"Robust\", \"MinMax\"])\n",
    "    scale2 = hp.Choice('scale2', [\"Normalize\", \"Robust\", \"MinMax\"])\n",
    "    \n",
    "    pca_comps = hp.Int(\"PCA_components\", 1, len(data.columns) - 1, 1)\n",
    "    \n",
    "    \n",
    "    def build_keras():\n",
    "        \n",
    "        model = Sequential()\n",
    "        model.add(Layers.Input(shape=(pca_comps,)))\n",
    "\n",
    "        for i, layer_n in enumerate(range(hp.Int(\"N_layers\", 2, 20))):\n",
    "\n",
    "            model.add(Layers.Dense(hp.Int(f\"layer_{i}_nodes\", 5, 100), activation=\"relu\"))\n",
    "\n",
    "        model.add(Layers.Dense(1, activation=\"sigmoid\"))\n",
    "        model.compile(loss=\"binary_crossentropy\",optimizer=\"adam\", metrics=[tf.keras.metrics.AUC()])\n",
    "        \n",
    "        return model\n",
    "    \n",
    "    \n",
    "    clf=KerasClassifier(build_fn=build_keras,epochs=2,batch_size=32,verbose=0)    \n",
    "\n",
    "    pipe = Pipeline([\n",
    "    (\"Normalise spectra\", FunctionTransformer(scalers[scale1] , kw_args = {\"axis\": 1})),\n",
    "    (\"Scaler\", FunctionTransformer(scalers[scale2] , kw_args = {\"axis\": 0})),\n",
    "    (\"PCA\", PCA(n_components=pca_comps)),\n",
    "    (\"clf\", clf)])\n",
    "    \n",
    "    return pipe"
   ]
  },
  {
   "cell_type": "code",
   "execution_count": 31,
   "metadata": {
    "jupyter": {
     "source_hidden": true
    }
   },
   "outputs": [],
   "source": [
    "def build_LDA_categorical(hp):\n",
    "\n",
    "    scalers = {\"Normalize\" : normalize,\n",
    "               \"Robust\"    : robust_scale,\n",
    "               \"MinMax\"    : minmax_scale}\n",
    "    \n",
    "    scale1 = hp.Choice('scale1', [\"Normalize\", \"Robust\", \"MinMax\"])\n",
    "    scale2 = hp.Choice('scale2', [\"Normalize\", \"Robust\", \"MinMax\"])\n",
    "    \n",
    "    numeric_features = total.columns\n",
    "    categorical_features = [\"ECS\"]\n",
    "    \n",
    "    numeric_features = np.arange(1, len(total.columns)+1)\n",
    "    categorical_features = [0]\n",
    "    \n",
    "    numeric_pipe = Pipeline([\n",
    "    (\"Normalise spectra\", FunctionTransformer(scalers[scale1] , kw_args = {\"axis\": 1})),\n",
    "    (\"Scaler\", FunctionTransformer(scalers[scale2] , kw_args = {\"axis\": 0})),\n",
    "    (\"PCA\", PCA(n_components = hp.Int(\"PCA_components\", 1, len(data.columns) - len(categorical_features) - 2, 1))),\n",
    "    ])\n",
    "    \n",
    "    OHE = OneHotEncoder()\n",
    "    OHE.fit(data[\"ASMA\"].values.reshape(-1,1))\n",
    "    \n",
    "    categorical_pipe = Pipeline([\n",
    "        (\"OneHot\", OHE)\n",
    "    ])\n",
    "    \n",
    "    preprocessing = ColumnTransformer(\n",
    "        [(\"Numerical\", numeric_pipe, numeric_features),\n",
    "         (\"Categorical\", categorical_pipe, categorical_features)])\n",
    "    \n",
    "    pipe = Pipeline([\n",
    "        (\"Preprocessing\", preprocessing),\n",
    "        (\"clf\", LinearDiscriminantAnalysis())\n",
    "    ])\n",
    "    \n",
    "    return pipe"
   ]
  },
  {
   "cell_type": "code",
   "execution_count": 32,
   "metadata": {
    "jupyter": {
     "source_hidden": true
    }
   },
   "outputs": [],
   "source": [
    "def build_LDA_categorical(hp):\n",
    "\n",
    "    scalers = {\"Normalize\" : normalize,\n",
    "               \"Robust\"    : robust_scale,\n",
    "               \"MinMax\"    : minmax_scale}\n",
    "    \n",
    "    scale1 = hp.Choice('scale1', [\"Normalize\", \"Robust\", \"MinMax\"])\n",
    "    scale2 = hp.Choice('scale2', [\"Normalize\", \"Robust\", \"MinMax\"])\n",
    "    \n",
    "    numeric_features = total.columns\n",
    "    categorical_features = [\"ASMA\"]\n",
    "    \n",
    "    numeric_features = np.arange(1, len(total.columns)+1)\n",
    "    categorical_features = [0]\n",
    "    \n",
    "    numeric_pipe = Pipeline([\n",
    "    (\"Normalise spectra\", FunctionTransformer(scalers[scale1] , kw_args = {\"axis\": 1})),\n",
    "    (\"Scaler\", FunctionTransformer(scalers[scale2] , kw_args = {\"axis\": 0})),\n",
    "    (\"PCA\", PCA(n_components = hp.Int(\"PCA_components\", 1, len(data.columns) - len(categorical_features) - 2, 1))),\n",
    "    ])\n",
    "    \n",
    "    OHE = OneHotEncoder()\n",
    "    OHE.fit(data.reset_index()[\"ASMA\"].values.reshape(-1,1))\n",
    "    \n",
    "    categorical_pipe = Pipeline([\n",
    "        (\"OneHot\", OHE)\n",
    "    ])\n",
    "    \n",
    "    preprocessing = ColumnTransformer(\n",
    "        [(\"Numerical\", numeric_pipe, numeric_features),\n",
    "         (\"Categorical\", categorical_pipe, categorical_features)])\n",
    "    \n",
    "    pipe = Pipeline([\n",
    "        (\"Preprocessing\", preprocessing),\n",
    "        (\"clf\", LinearDiscriminantAnalysis())\n",
    "    ])\n",
    "    \n",
    "    return pipe"
   ]
  },
  {
   "cell_type": "code",
   "execution_count": 33,
   "metadata": {
    "jupyter": {
     "source_hidden": true
    }
   },
   "outputs": [],
   "source": [
    "def build_LDA_categorical_only(hp):\n",
    "\n",
    "    OHE = OneHotEncoder(sparse = False)\n",
    "    #OHE.fit(data.reset_index()[\"ASMA\"].values.reshape(-1,1))\n",
    "    \n",
    "    categorical_pipe = Pipeline([\n",
    "        (\"OneHot\", OHE)\n",
    "    ])\n",
    "\n",
    "    pipe = Pipeline([\n",
    "        (\"Preprocessing\", categorical_pipe),\n",
    "        (\"clf\", LinearDiscriminantAnalysis())\n",
    "    ])\n",
    "    \n",
    "    return pipe"
   ]
  },
  {
   "cell_type": "code",
   "execution_count": 34,
   "metadata": {
    "jupyter": {
     "source_hidden": true
    }
   },
   "outputs": [],
   "source": [
    "from xgboost import XGBClassifier\n",
    "\n",
    "def build_XG(hp):\n",
    "\n",
    "    params = {\n",
    "        'n_estimators': hp.Int(\"n_estimators\", 10, 1000, 10),\n",
    "        'eta': hp.Float('eta', 0, 1, 0.05),\n",
    "        'gamma': hp.Float('gamma', 0, 1, 0.05),\n",
    "        'max_depth' : hp.Int('max_depth', 1, 15, 1),\n",
    "        'min_child_weight' : hp.Int('min_child_weight', 1, 20, 1),\n",
    "        'subsample' : hp.Float('subsample', 0, 1, 0.05),\n",
    "        'colsample_bytree' : hp.Float('colsample_bytree', 0, 1, 0.05),\n",
    "        #'lambda ' : hp.Float('lambda', 0, 1, 0.05),\n",
    "        'alpha' : hp.Float('alpha', 0, 1, 0.05),\n",
    "    }\n",
    "\n",
    "    clf = XGBClassifier(objective = \"binary:logistic\")\n",
    "    clf = clf.set_params(**params)\n",
    "    \n",
    "    #---------------------------------------------------------------------------------------------------\n",
    "    scalers = {\"Normalize\" : normalize,\n",
    "               \"Robust\"    : robust_scale,\n",
    "               \"MinMax\"    : minmax_scale}\n",
    "    \n",
    "    # Decide pre processing steps\n",
    "    scale1 = hp.Choice('scale1', [\"Normalize\", \"Robust\", \"MinMax\"])\n",
    "    scale2 = hp.Choice('scale2', [\"Normalize\", \"Robust\", \"MinMax\"])\n",
    "\n",
    "    pipe = Pipeline([\n",
    "    (\"Normalise spectra\", FunctionTransformer(scalers[scale1] , kw_args = {\"axis\": 1})),\n",
    "    (\"Scaler\", FunctionTransformer(scalers[scale2] , kw_args = {\"axis\": 0})),\n",
    "    (\"PCA\", PCA(n_components = hp.Int(\"PCA_components\", 1, len(data.columns) - 1, 1))),\n",
    "    (\"clf\", CalibratedClassifierCV(clf))])\n",
    "    \n",
    "    return pipe"
   ]
  },
  {
   "cell_type": "markdown",
   "metadata": {},
   "source": [
    "oracle = kt.oracles.BayesianOptimization(objective = kt.Objective('score', 'max')\n",
    "                                         , max_trials = 10)              \n",
    "\n",
    "tuner = kt.tuners.Sklearn(oracle = oracle\n",
    "                          #, cv = GroupKFold(n_splits = 3)\n",
    "                          , hypermodel = build_LDA\n",
    "                          , directory = os.path.join(os.getcwd(), \"KerasTuner\", datetime.now().strftime(\"%d.%m.%Y_%H:%M:%S\"))\n",
    "                          , scoring = make_scorer(roc_auc_score, needs_proba = True, average = 'weighted')\n",
    "                         )"
   ]
  },
  {
   "cell_type": "markdown",
   "metadata": {},
   "source": [
    "tuner.search(X_train.values, y_train_b.values.squeeze()#, sample_weight = w_train.values, groups = groups.values)\n",
    "            #, **{\"clf__sample_weight\": w_train.values}\n",
    "            #, sample_weight = w_train.values\n",
    "            , groups = groups.values\n",
    "            )"
   ]
  },
  {
   "cell_type": "code",
   "execution_count": 29,
   "metadata": {},
   "outputs": [],
   "source": [
    "min_=total.groupby(\"Patient_Number\").count().min()[0]\n",
    "sampled = pd.concat([df.sample(min_) for name, df in total.groupby(\"Patient_Number\")])"
   ]
  },
  {
   "cell_type": "code",
   "execution_count": null,
   "metadata": {
    "tags": []
   },
   "outputs": [
    {
     "name": "stdout",
     "output_type": "stream",
     "text": [
      "Seed: 66\n"
     ]
    },
    {
     "data": {
      "application/vnd.jupyter.widget-view+json": {
       "model_id": "6794c37a4b6c4769a6a44cfff5d77b09",
       "version_major": 2,
       "version_minor": 0
      },
      "text/plain": [
       "HBox(children=(FloatProgress(value=0.0, max=5.0), HTML(value='')))"
      ]
     },
     "metadata": {},
     "output_type": "display_data"
    },
    {
     "name": "stderr",
     "output_type": "stream",
     "text": [
      "/home/conor/miniconda3/envs/PHD/lib/python3.8/site-packages/sklearn/calibration.py:167: UserWarning: Since LinearDiscriminantAnalysis does not support sample_weights, sample weights will only be used for the calibration itself.\n",
      "  warnings.warn(\"Since %s does not support sample_weights, \"\n",
      "/home/conor/miniconda3/envs/PHD/lib/python3.8/site-packages/sklearn/calibration.py:167: UserWarning: Since LinearDiscriminantAnalysis does not support sample_weights, sample weights will only be used for the calibration itself.\n",
      "  warnings.warn(\"Since %s does not support sample_weights, \"\n"
     ]
    },
    {
     "data": {
      "text/html": [
       "<span style=\"color:#4527A0\"><h1 style=\"font-size:18px\">Trial complete</h1></span>"
      ],
      "text/plain": [
       "<IPython.core.display.HTML object>"
      ]
     },
     "metadata": {},
     "output_type": "display_data"
    },
    {
     "data": {
      "text/html": [
       "<span style=\"color:#4527A0\"><h1 style=\"font-size:18px\">Trial summary</h1></span>"
      ],
      "text/plain": [
       "<IPython.core.display.HTML object>"
      ]
     },
     "metadata": {},
     "output_type": "display_data"
    },
    {
     "data": {
      "text/html": [
       "<span style=\"color:cyan\"> |-Trial ID: 6c6cbf5abc2b532f6ac813a2a0d0ab55</span>"
      ],
      "text/plain": [
       "<IPython.core.display.HTML object>"
      ]
     },
     "metadata": {},
     "output_type": "display_data"
    },
    {
     "data": {
      "text/html": [
       "<span style=\"color:cyan\"> |-Score: 0.500047213497407</span>"
      ],
      "text/plain": [
       "<IPython.core.display.HTML object>"
      ]
     },
     "metadata": {},
     "output_type": "display_data"
    },
    {
     "data": {
      "text/html": [
       "<span style=\"color:cyan\"> |-Best step: 0</span>"
      ],
      "text/plain": [
       "<IPython.core.display.HTML object>"
      ]
     },
     "metadata": {},
     "output_type": "display_data"
    },
    {
     "data": {
      "text/html": [
       "<span style=\"color:#7E57C2\"><h2 style=\"font-size:16px\">Hyperparameters:</h2></span>"
      ],
      "text/plain": [
       "<IPython.core.display.HTML object>"
      ]
     },
     "metadata": {},
     "output_type": "display_data"
    },
    {
     "data": {
      "text/html": [
       "<span style=\"color:cyan\"> |-PCA_components: 56</span>"
      ],
      "text/plain": [
       "<IPython.core.display.HTML object>"
      ]
     },
     "metadata": {},
     "output_type": "display_data"
    },
    {
     "data": {
      "text/html": [
       "<span style=\"color:blue\"> |-scale1: Robust</span>"
      ],
      "text/plain": [
       "<IPython.core.display.HTML object>"
      ]
     },
     "metadata": {},
     "output_type": "display_data"
    },
    {
     "data": {
      "text/html": [
       "<span style=\"color:cyan\"> |-scale2: Normalize</span>"
      ],
      "text/plain": [
       "<IPython.core.display.HTML object>"
      ]
     },
     "metadata": {},
     "output_type": "display_data"
    },
    {
     "name": "stderr",
     "output_type": "stream",
     "text": [
      "/home/conor/miniconda3/envs/PHD/lib/python3.8/site-packages/sklearn/calibration.py:167: UserWarning: Since LinearDiscriminantAnalysis does not support sample_weights, sample weights will only be used for the calibration itself.\n",
      "  warnings.warn(\"Since %s does not support sample_weights, \"\n",
      "/home/conor/miniconda3/envs/PHD/lib/python3.8/site-packages/sklearn/calibration.py:167: UserWarning: Since LinearDiscriminantAnalysis does not support sample_weights, sample weights will only be used for the calibration itself.\n",
      "  warnings.warn(\"Since %s does not support sample_weights, \"\n"
     ]
    },
    {
     "data": {
      "text/html": [
       "<span style=\"color:#4527A0\"><h1 style=\"font-size:18px\">Trial complete</h1></span>"
      ],
      "text/plain": [
       "<IPython.core.display.HTML object>"
      ]
     },
     "metadata": {},
     "output_type": "display_data"
    },
    {
     "data": {
      "text/html": [
       "<span style=\"color:#4527A0\"><h1 style=\"font-size:18px\">Trial summary</h1></span>"
      ],
      "text/plain": [
       "<IPython.core.display.HTML object>"
      ]
     },
     "metadata": {},
     "output_type": "display_data"
    },
    {
     "data": {
      "text/html": [
       "<span style=\"color:cyan\"> |-Trial ID: 7d8e5aedc5468cd98fd68bdba2fbd871</span>"
      ],
      "text/plain": [
       "<IPython.core.display.HTML object>"
      ]
     },
     "metadata": {},
     "output_type": "display_data"
    },
    {
     "data": {
      "text/html": [
       "<span style=\"color:cyan\"> |-Score: 0.3846768865300892</span>"
      ],
      "text/plain": [
       "<IPython.core.display.HTML object>"
      ]
     },
     "metadata": {},
     "output_type": "display_data"
    },
    {
     "data": {
      "text/html": [
       "<span style=\"color:cyan\"> |-Best step: 0</span>"
      ],
      "text/plain": [
       "<IPython.core.display.HTML object>"
      ]
     },
     "metadata": {},
     "output_type": "display_data"
    },
    {
     "data": {
      "text/html": [
       "<span style=\"color:#7E57C2\"><h2 style=\"font-size:16px\">Hyperparameters:</h2></span>"
      ],
      "text/plain": [
       "<IPython.core.display.HTML object>"
      ]
     },
     "metadata": {},
     "output_type": "display_data"
    },
    {
     "data": {
      "text/html": [
       "<span style=\"color:cyan\"> |-PCA_components: 149</span>"
      ],
      "text/plain": [
       "<IPython.core.display.HTML object>"
      ]
     },
     "metadata": {},
     "output_type": "display_data"
    },
    {
     "data": {
      "text/html": [
       "<span style=\"color:blue\"> |-scale1: MinMax</span>"
      ],
      "text/plain": [
       "<IPython.core.display.HTML object>"
      ]
     },
     "metadata": {},
     "output_type": "display_data"
    },
    {
     "data": {
      "text/html": [
       "<span style=\"color:cyan\"> |-scale2: MinMax</span>"
      ],
      "text/plain": [
       "<IPython.core.display.HTML object>"
      ]
     },
     "metadata": {},
     "output_type": "display_data"
    },
    {
     "name": "stderr",
     "output_type": "stream",
     "text": [
      "/home/conor/miniconda3/envs/PHD/lib/python3.8/site-packages/sklearn/calibration.py:167: UserWarning: Since LinearDiscriminantAnalysis does not support sample_weights, sample weights will only be used for the calibration itself.\n",
      "  warnings.warn(\"Since %s does not support sample_weights, \"\n",
      "/home/conor/miniconda3/envs/PHD/lib/python3.8/site-packages/sklearn/calibration.py:167: UserWarning: Since LinearDiscriminantAnalysis does not support sample_weights, sample weights will only be used for the calibration itself.\n",
      "  warnings.warn(\"Since %s does not support sample_weights, \"\n"
     ]
    },
    {
     "data": {
      "text/html": [
       "<span style=\"color:#4527A0\"><h1 style=\"font-size:18px\">Trial complete</h1></span>"
      ],
      "text/plain": [
       "<IPython.core.display.HTML object>"
      ]
     },
     "metadata": {},
     "output_type": "display_data"
    },
    {
     "data": {
      "text/html": [
       "<span style=\"color:#4527A0\"><h1 style=\"font-size:18px\">Trial summary</h1></span>"
      ],
      "text/plain": [
       "<IPython.core.display.HTML object>"
      ]
     },
     "metadata": {},
     "output_type": "display_data"
    },
    {
     "data": {
      "text/html": [
       "<span style=\"color:cyan\"> |-Trial ID: a60b7a8d100e03b9fb5e069ba152335b</span>"
      ],
      "text/plain": [
       "<IPython.core.display.HTML object>"
      ]
     },
     "metadata": {},
     "output_type": "display_data"
    },
    {
     "data": {
      "text/html": [
       "<span style=\"color:cyan\"> |-Score: 0.31790406910365365</span>"
      ],
      "text/plain": [
       "<IPython.core.display.HTML object>"
      ]
     },
     "metadata": {},
     "output_type": "display_data"
    },
    {
     "data": {
      "text/html": [
       "<span style=\"color:cyan\"> |-Best step: 0</span>"
      ],
      "text/plain": [
       "<IPython.core.display.HTML object>"
      ]
     },
     "metadata": {},
     "output_type": "display_data"
    },
    {
     "data": {
      "text/html": [
       "<span style=\"color:#7E57C2\"><h2 style=\"font-size:16px\">Hyperparameters:</h2></span>"
      ],
      "text/plain": [
       "<IPython.core.display.HTML object>"
      ]
     },
     "metadata": {},
     "output_type": "display_data"
    },
    {
     "data": {
      "text/html": [
       "<span style=\"color:cyan\"> |-PCA_components: 149</span>"
      ],
      "text/plain": [
       "<IPython.core.display.HTML object>"
      ]
     },
     "metadata": {},
     "output_type": "display_data"
    },
    {
     "data": {
      "text/html": [
       "<span style=\"color:blue\"> |-scale1: Normalize</span>"
      ],
      "text/plain": [
       "<IPython.core.display.HTML object>"
      ]
     },
     "metadata": {},
     "output_type": "display_data"
    },
    {
     "data": {
      "text/html": [
       "<span style=\"color:cyan\"> |-scale2: MinMax</span>"
      ],
      "text/plain": [
       "<IPython.core.display.HTML object>"
      ]
     },
     "metadata": {},
     "output_type": "display_data"
    },
    {
     "name": "stderr",
     "output_type": "stream",
     "text": [
      "/home/conor/miniconda3/envs/PHD/lib/python3.8/site-packages/sklearn/calibration.py:167: UserWarning: Since LinearDiscriminantAnalysis does not support sample_weights, sample weights will only be used for the calibration itself.\n",
      "  warnings.warn(\"Since %s does not support sample_weights, \"\n",
      "/home/conor/miniconda3/envs/PHD/lib/python3.8/site-packages/sklearn/calibration.py:167: UserWarning: Since LinearDiscriminantAnalysis does not support sample_weights, sample weights will only be used for the calibration itself.\n",
      "  warnings.warn(\"Since %s does not support sample_weights, \"\n"
     ]
    },
    {
     "data": {
      "text/html": [
       "<span style=\"color:#4527A0\"><h1 style=\"font-size:18px\">Trial complete</h1></span>"
      ],
      "text/plain": [
       "<IPython.core.display.HTML object>"
      ]
     },
     "metadata": {},
     "output_type": "display_data"
    },
    {
     "data": {
      "text/html": [
       "<span style=\"color:#4527A0\"><h1 style=\"font-size:18px\">Trial summary</h1></span>"
      ],
      "text/plain": [
       "<IPython.core.display.HTML object>"
      ]
     },
     "metadata": {},
     "output_type": "display_data"
    },
    {
     "data": {
      "text/html": [
       "<span style=\"color:cyan\"> |-Trial ID: 119195f82371a2c88d14682c84c16a97</span>"
      ],
      "text/plain": [
       "<IPython.core.display.HTML object>"
      ]
     },
     "metadata": {},
     "output_type": "display_data"
    },
    {
     "data": {
      "text/html": [
       "<span style=\"color:cyan\"> |-Score: 0.47454583104504566</span>"
      ],
      "text/plain": [
       "<IPython.core.display.HTML object>"
      ]
     },
     "metadata": {},
     "output_type": "display_data"
    },
    {
     "data": {
      "text/html": [
       "<span style=\"color:cyan\"> |-Best step: 0</span>"
      ],
      "text/plain": [
       "<IPython.core.display.HTML object>"
      ]
     },
     "metadata": {},
     "output_type": "display_data"
    },
    {
     "data": {
      "text/html": [
       "<span style=\"color:#7E57C2\"><h2 style=\"font-size:16px\">Hyperparameters:</h2></span>"
      ],
      "text/plain": [
       "<IPython.core.display.HTML object>"
      ]
     },
     "metadata": {},
     "output_type": "display_data"
    },
    {
     "data": {
      "text/html": [
       "<span style=\"color:cyan\"> |-PCA_components: 153</span>"
      ],
      "text/plain": [
       "<IPython.core.display.HTML object>"
      ]
     },
     "metadata": {},
     "output_type": "display_data"
    },
    {
     "data": {
      "text/html": [
       "<span style=\"color:blue\"> |-scale1: MinMax</span>"
      ],
      "text/plain": [
       "<IPython.core.display.HTML object>"
      ]
     },
     "metadata": {},
     "output_type": "display_data"
    },
    {
     "data": {
      "text/html": [
       "<span style=\"color:cyan\"> |-scale2: Normalize</span>"
      ],
      "text/plain": [
       "<IPython.core.display.HTML object>"
      ]
     },
     "metadata": {},
     "output_type": "display_data"
    },
    {
     "name": "stderr",
     "output_type": "stream",
     "text": [
      "/home/conor/miniconda3/envs/PHD/lib/python3.8/site-packages/sklearn/calibration.py:167: UserWarning: Since LinearDiscriminantAnalysis does not support sample_weights, sample weights will only be used for the calibration itself.\n",
      "  warnings.warn(\"Since %s does not support sample_weights, \"\n",
      "/home/conor/miniconda3/envs/PHD/lib/python3.8/site-packages/sklearn/calibration.py:167: UserWarning: Since LinearDiscriminantAnalysis does not support sample_weights, sample weights will only be used for the calibration itself.\n",
      "  warnings.warn(\"Since %s does not support sample_weights, \"\n"
     ]
    },
    {
     "data": {
      "text/html": [
       "<span style=\"color:#4527A0\"><h1 style=\"font-size:18px\">Trial complete</h1></span>"
      ],
      "text/plain": [
       "<IPython.core.display.HTML object>"
      ]
     },
     "metadata": {},
     "output_type": "display_data"
    },
    {
     "data": {
      "text/html": [
       "<span style=\"color:#4527A0\"><h1 style=\"font-size:18px\">Trial summary</h1></span>"
      ],
      "text/plain": [
       "<IPython.core.display.HTML object>"
      ]
     },
     "metadata": {},
     "output_type": "display_data"
    },
    {
     "data": {
      "text/html": [
       "<span style=\"color:cyan\"> |-Trial ID: d8a7215bae708c34bd5776c3f34bd900</span>"
      ],
      "text/plain": [
       "<IPython.core.display.HTML object>"
      ]
     },
     "metadata": {},
     "output_type": "display_data"
    },
    {
     "data": {
      "text/html": [
       "<span style=\"color:cyan\"> |-Score: 0.2814655413089836</span>"
      ],
      "text/plain": [
       "<IPython.core.display.HTML object>"
      ]
     },
     "metadata": {},
     "output_type": "display_data"
    },
    {
     "data": {
      "text/html": [
       "<span style=\"color:cyan\"> |-Best step: 0</span>"
      ],
      "text/plain": [
       "<IPython.core.display.HTML object>"
      ]
     },
     "metadata": {},
     "output_type": "display_data"
    },
    {
     "data": {
      "text/html": [
       "<span style=\"color:#7E57C2\"><h2 style=\"font-size:16px\">Hyperparameters:</h2></span>"
      ],
      "text/plain": [
       "<IPython.core.display.HTML object>"
      ]
     },
     "metadata": {},
     "output_type": "display_data"
    },
    {
     "data": {
      "text/html": [
       "<span style=\"color:cyan\"> |-PCA_components: 121</span>"
      ],
      "text/plain": [
       "<IPython.core.display.HTML object>"
      ]
     },
     "metadata": {},
     "output_type": "display_data"
    },
    {
     "data": {
      "text/html": [
       "<span style=\"color:blue\"> |-scale1: Robust</span>"
      ],
      "text/plain": [
       "<IPython.core.display.HTML object>"
      ]
     },
     "metadata": {},
     "output_type": "display_data"
    },
    {
     "data": {
      "text/html": [
       "<span style=\"color:cyan\"> |-scale2: MinMax</span>"
      ],
      "text/plain": [
       "<IPython.core.display.HTML object>"
      ]
     },
     "metadata": {},
     "output_type": "display_data"
    },
    {
     "name": "stderr",
     "output_type": "stream",
     "text": [
      "/home/conor/miniconda3/envs/PHD/lib/python3.8/site-packages/sklearn/calibration.py:167: UserWarning: Since LinearDiscriminantAnalysis does not support sample_weights, sample weights will only be used for the calibration itself.\n",
      "  warnings.warn(\"Since %s does not support sample_weights, \"\n",
      "/home/conor/miniconda3/envs/PHD/lib/python3.8/site-packages/sklearn/calibration.py:167: UserWarning: Since LinearDiscriminantAnalysis does not support sample_weights, sample weights will only be used for the calibration itself.\n",
      "  warnings.warn(\"Since %s does not support sample_weights, \"\n"
     ]
    },
    {
     "data": {
      "text/html": [
       "<span style=\"color:#4527A0\"><h1 style=\"font-size:18px\">Trial complete</h1></span>"
      ],
      "text/plain": [
       "<IPython.core.display.HTML object>"
      ]
     },
     "metadata": {},
     "output_type": "display_data"
    },
    {
     "data": {
      "text/html": [
       "<span style=\"color:#4527A0\"><h1 style=\"font-size:18px\">Trial summary</h1></span>"
      ],
      "text/plain": [
       "<IPython.core.display.HTML object>"
      ]
     },
     "metadata": {},
     "output_type": "display_data"
    },
    {
     "data": {
      "text/html": [
       "<span style=\"color:cyan\"> |-Trial ID: 925a73e33e7f71057cada5d8f5e0cbea</span>"
      ],
      "text/plain": [
       "<IPython.core.display.HTML object>"
      ]
     },
     "metadata": {},
     "output_type": "display_data"
    },
    {
     "data": {
      "text/html": [
       "<span style=\"color:cyan\"> |-Score: 0.46456861424239737</span>"
      ],
      "text/plain": [
       "<IPython.core.display.HTML object>"
      ]
     },
     "metadata": {},
     "output_type": "display_data"
    },
    {
     "data": {
      "text/html": [
       "<span style=\"color:cyan\"> |-Best step: 0</span>"
      ],
      "text/plain": [
       "<IPython.core.display.HTML object>"
      ]
     },
     "metadata": {},
     "output_type": "display_data"
    },
    {
     "data": {
      "text/html": [
       "<span style=\"color:#7E57C2\"><h2 style=\"font-size:16px\">Hyperparameters:</h2></span>"
      ],
      "text/plain": [
       "<IPython.core.display.HTML object>"
      ]
     },
     "metadata": {},
     "output_type": "display_data"
    },
    {
     "data": {
      "text/html": [
       "<span style=\"color:cyan\"> |-PCA_components: 3</span>"
      ],
      "text/plain": [
       "<IPython.core.display.HTML object>"
      ]
     },
     "metadata": {},
     "output_type": "display_data"
    },
    {
     "data": {
      "text/html": [
       "<span style=\"color:blue\"> |-scale1: Normalize</span>"
      ],
      "text/plain": [
       "<IPython.core.display.HTML object>"
      ]
     },
     "metadata": {},
     "output_type": "display_data"
    },
    {
     "data": {
      "text/html": [
       "<span style=\"color:cyan\"> |-scale2: MinMax</span>"
      ],
      "text/plain": [
       "<IPython.core.display.HTML object>"
      ]
     },
     "metadata": {},
     "output_type": "display_data"
    },
    {
     "name": "stderr",
     "output_type": "stream",
     "text": [
      "/home/conor/miniconda3/envs/PHD/lib/python3.8/site-packages/sklearn/calibration.py:167: UserWarning: Since LinearDiscriminantAnalysis does not support sample_weights, sample weights will only be used for the calibration itself.\n",
      "  warnings.warn(\"Since %s does not support sample_weights, \"\n",
      "/home/conor/miniconda3/envs/PHD/lib/python3.8/site-packages/sklearn/calibration.py:167: UserWarning: Since LinearDiscriminantAnalysis does not support sample_weights, sample weights will only be used for the calibration itself.\n",
      "  warnings.warn(\"Since %s does not support sample_weights, \"\n"
     ]
    },
    {
     "data": {
      "text/html": [
       "<span style=\"color:#4527A0\"><h1 style=\"font-size:18px\">Trial complete</h1></span>"
      ],
      "text/plain": [
       "<IPython.core.display.HTML object>"
      ]
     },
     "metadata": {},
     "output_type": "display_data"
    },
    {
     "data": {
      "text/html": [
       "<span style=\"color:#4527A0\"><h1 style=\"font-size:18px\">Trial summary</h1></span>"
      ],
      "text/plain": [
       "<IPython.core.display.HTML object>"
      ]
     },
     "metadata": {},
     "output_type": "display_data"
    },
    {
     "data": {
      "text/html": [
       "<span style=\"color:cyan\"> |-Trial ID: 9ff81b26baf259ffa66be93e9ecdce1c</span>"
      ],
      "text/plain": [
       "<IPython.core.display.HTML object>"
      ]
     },
     "metadata": {},
     "output_type": "display_data"
    },
    {
     "data": {
      "text/html": [
       "<span style=\"color:cyan\"> |-Score: 0.48948485593877816</span>"
      ],
      "text/plain": [
       "<IPython.core.display.HTML object>"
      ]
     },
     "metadata": {},
     "output_type": "display_data"
    },
    {
     "data": {
      "text/html": [
       "<span style=\"color:cyan\"> |-Best step: 0</span>"
      ],
      "text/plain": [
       "<IPython.core.display.HTML object>"
      ]
     },
     "metadata": {},
     "output_type": "display_data"
    },
    {
     "data": {
      "text/html": [
       "<span style=\"color:#7E57C2\"><h2 style=\"font-size:16px\">Hyperparameters:</h2></span>"
      ],
      "text/plain": [
       "<IPython.core.display.HTML object>"
      ]
     },
     "metadata": {},
     "output_type": "display_data"
    },
    {
     "data": {
      "text/html": [
       "<span style=\"color:cyan\"> |-PCA_components: 96</span>"
      ],
      "text/plain": [
       "<IPython.core.display.HTML object>"
      ]
     },
     "metadata": {},
     "output_type": "display_data"
    },
    {
     "data": {
      "text/html": [
       "<span style=\"color:blue\"> |-scale1: Normalize</span>"
      ],
      "text/plain": [
       "<IPython.core.display.HTML object>"
      ]
     },
     "metadata": {},
     "output_type": "display_data"
    },
    {
     "data": {
      "text/html": [
       "<span style=\"color:cyan\"> |-scale2: Normalize</span>"
      ],
      "text/plain": [
       "<IPython.core.display.HTML object>"
      ]
     },
     "metadata": {},
     "output_type": "display_data"
    },
    {
     "name": "stderr",
     "output_type": "stream",
     "text": [
      "/home/conor/miniconda3/envs/PHD/lib/python3.8/site-packages/sklearn/calibration.py:167: UserWarning: Since LinearDiscriminantAnalysis does not support sample_weights, sample weights will only be used for the calibration itself.\n",
      "  warnings.warn(\"Since %s does not support sample_weights, \"\n",
      "/home/conor/miniconda3/envs/PHD/lib/python3.8/site-packages/sklearn/calibration.py:167: UserWarning: Since LinearDiscriminantAnalysis does not support sample_weights, sample weights will only be used for the calibration itself.\n",
      "  warnings.warn(\"Since %s does not support sample_weights, \"\n"
     ]
    }
   ],
   "source": [
    "group = \"Patient_Number\"\n",
    "y = \"1yeardeath\"\n",
    "\n",
    "#data = (total - paraffin.mean(axis = 0)).sample(frac = 0.1)\n",
    "data = total.copy().sample(frac = 0.5)#.reset_index([\"ASMA\"]).dropna(subset = [\"ASMA\"]).loc[:,[\"ASMA\"]]\n",
    "#data=sampled\n",
    "data[\"sample_weights\"] = Cross_Eval.get_weights(data.reset_index()[f\"{group}\"]) * Cross_Eval.get_weights(data.reset_index()[f\"{y}\"])\n",
    "unique_patients = data.reset_index()[f\"{group}\"].unique()\n",
    "\n",
    "\n",
    "kfoldscores = []\n",
    "clfs = []\n",
    "\n",
    "model_func = build_LDA\n",
    "\n",
    "rn = np.random.randint(100)\n",
    "print(f\"Seed: {rn}\")\n",
    "\n",
    "\n",
    "for train_i, valid_i in tqdm(list(KFold(n_splits = 5, shuffle = True, random_state=rn).split(unique_patients))):\n",
    "    \n",
    "    train_pat, valid_pat = unique_patients[train_i], unique_patients[valid_i]\n",
    "\n",
    "    train_data = data.query(f\"{group} in {list(train_pat)}\")\n",
    "    validation_data = data.query(f\"{group} in {list(valid_pat)}\")\n",
    "\n",
    "    X_train = train_data.drop([\"sample_weights\"], axis = 1)\n",
    "    X_valid = validation_data.drop([\"sample_weights\"], axis = 1)\n",
    "    \n",
    "    y_train, y_valid = train_data.reset_index()[f\"{y}\"], validation_data.reset_index()[f\"{y}\"]\n",
    "    w_train, w_test = train_data.reset_index()[\"sample_weights\"], validation_data.reset_index()[\"sample_weights\"]\n",
    "\n",
    "    y_train.index = X_train.index\n",
    "    y_valid.index = X_valid.index\n",
    "\n",
    "    groups = X_train.reset_index(f\"{group}\")[f\"{group}\"]\n",
    "    #groups.index = X_train.index\n",
    "\n",
    "    lb = LabelBinarizer().fit(total.reset_index()[f\"{y}\"].unique())\n",
    "\n",
    "    y_train_b = pd.DataFrame(lb.transform(y_train), index = y_train.index)\n",
    "    y_valid_b = pd.DataFrame(lb.transform(y_valid), index = y_valid.index)\n",
    "    \n",
    "    #---------------------------------------------------------------------------------------------------\n",
    "    oracle = kt.oracles.BayesianOptimization(objective = kt.Objective('score', 'max')\n",
    "                                             , max_trials = 10)\n",
    "                                                          \n",
    "    tuner = kt.tuners.Sklearn(oracle = oracle\n",
    "                              , cv = GroupKFold(n_splits = 2)\n",
    "                              , hypermodel = model_func\n",
    "                              , directory = os.path.join(os.getcwd(), \"KerasTuner\", datetime.now().strftime(\"%d.%m.%Y_%H:%M:%S\"))\n",
    "                              , scoring = make_scorer(f1_score, needs_proba = False, average = 'weighted')\n",
    "                             )\n",
    "\n",
    "    tuner.search(X_train.values.squeeze(),\n",
    "                 y_train_b.values.squeeze(),\n",
    "                 groups=groups,\n",
    "                 sample_weight=w_train\n",
    "                 #validation_data=(X_valid, y_valid_b)\n",
    "                )\n",
    "    \n",
    "    clf = model_func(tuner.get_best_hyperparameters()[0])\n",
    "    \n",
    "    # Refit the classifier with the best parameters on the full dataset\n",
    "    clf.fit(X_train, y_train_b.values.ravel(),clf__sample_weight=w_train)\n",
    "    clfs.append(clf)\n",
    "    #---------------------------------------------------------------------------------------------------\n",
    "     \n",
    "    scores = Cross_Eval.score(clf, X_valid, y_valid_b.iloc[:,0])\n",
    "    pat_scores = {f\"Pat_{key}\": value for key, value in Cross_Eval.patient_score(clf, X_valid, y_valid_b).items()}\n",
    "\n",
    "    scores = {**scores, **pat_scores}\n",
    "        \n",
    "    kfoldscores.append(scores)\n",
    "    \n",
    "    \"\"\"\n",
    "    try: #Try except statement in case of scoring problems\n",
    "        scores = Cross_Eval.score(clf, X_valid, y_valid_b.iloc[:,0])\n",
    "        pat_scores = {f\"Pat_{key}\": value for key, value in Cross_Eval.patient_score(clf, X_valid, y_valid_b.iloc[:,0]).items()}\n",
    "\n",
    "        scores = {**scores, **pat_scores}\n",
    "        \n",
    "    except:\n",
    "        continue\n",
    "    \"\"\"\n",
    "\n",
    "    \n",
    "date_time = datetime.now().strftime(\"%d.%m.%Y_%H:%M\")\n",
    "file_place = os.path.join(os.getcwd(), \"Plots\", y, date_time)\n",
    "\n",
    "if not os.path.exists(file_place): os.makedirs(file_place)\n",
    "print(file_place)\n",
    "\n",
    "title = f\"{y}, {date_time}, with ECS\"\n",
    "\n",
    "results = pd.DataFrame(kfoldscores)"
   ]
  },
  {
   "cell_type": "code",
   "execution_count": null,
   "metadata": {},
   "outputs": [],
   "source": [
    "fig, (ax, ax2) = plt.subplots(ncols = 2, figsize = (12, 5))\n",
    "#fig.suptitle(y_Var)\n",
    "\n",
    "for _, row in results.iterrows():\n",
    "    \n",
    "    ax.plot(row[\"FPR_curve\"], row[\"TPR_curve\"])\n",
    "    \n",
    "ax.plot([0,1],[0,1], c = \"black\", linestyle = '--')\n",
    "ax.set_xlabel('False Positive Rate')\n",
    "ax.set_ylabel('True Positive Rate')\n",
    "ax.set_title('ROC Curve')\n",
    "\n",
    "ax.text(0.65, 0.2, \"AUC:{:.2f} +/- {:.2f}\".format(results[\"AUC\"].mean(), results[\"AUC\"].std()))\n",
    "\n",
    "for _, row in results.iterrows():\n",
    "    \n",
    "    ax2.plot(row[\"rec_curve\"], row[\"prec_curve\"])\n",
    "    \n",
    "ax2.set_xlabel('Recall')\n",
    "ax2.set_ylabel('Precision')\n",
    "ax2.set_title('Precision Recall Curve');\n",
    "\n",
    "fig.savefig(os.path.join(file_place, \"ROC_scores.png\"), bbox_inches = 'tight')"
   ]
  },
  {
   "cell_type": "code",
   "execution_count": null,
   "metadata": {},
   "outputs": [],
   "source": [
    "fig, ax = plt.subplots(ncols = 1)\n",
    "\n",
    "results[[\"AUC\", \"Specificity\", \"Sensitivity\", \"Precision\", \"Recall\", \"F1\"]].plot.box(ax = ax)\n",
    "ax.set_ylabel(\"Score\");\n",
    "\n",
    "results.to_excel(os.path.join(file_place, \"Confusion_Matrix_bad.xlsx\"))\n",
    "fig.savefig(os.path.join(file_place, \"scores.png\"), bbox_inches = 'tight')"
   ]
  },
  {
   "cell_type": "code",
   "execution_count": null,
   "metadata": {},
   "outputs": [],
   "source": [
    "fig, (ax, ax2) = plt.subplots(ncols = 2, figsize = (12, 5))\n",
    "#fig.suptitle(y_Var)\n",
    "\n",
    "for _, row in results.iterrows():\n",
    "    \n",
    "    ax.plot(row[\"Pat_FPR_curve\"], row[\"Pat_TPR_curve\"])\n",
    "    \n",
    "ax.plot([0,1],[0,1], c = \"black\", linestyle = '--')\n",
    "ax.set_xlabel('False Positive Rate')\n",
    "ax.set_ylabel('True Positive Rate')\n",
    "ax.set_title('ROC Curve')\n",
    "\n",
    "ax.text(0.65, 0.2, \"AUC:{:.2f} +/- {:.2f}\".format(results[\"Pat_AUC\"].mean(), results[\"Pat_AUC\"].std()))\n",
    "\n",
    "for _, row in results.iterrows():\n",
    "    \n",
    "    ax2.plot(row[\"Pat_rec_curve\"], row[\"Pat_prec_curve\"])\n",
    "    \n",
    "ax2.set_xlabel('Recall')\n",
    "ax2.set_ylabel('Precision')\n",
    "ax2.set_title('Precision Recall Curve');\n",
    "\n",
    "fig.savefig(os.path.join(file_place, \"pat_ROC_scores.png\"), bbox_inches = 'tight')"
   ]
  },
  {
   "cell_type": "code",
   "execution_count": null,
   "metadata": {},
   "outputs": [],
   "source": [
    "fig, ax = plt.subplots(ncols = 1, figsize=(8,3))\n",
    "\n",
    "results[[\"Pat_AUC\", \"Pat_Specificity\", \"Pat_Sensitivity\", \"Pat_Precision\", \"Pat_Recall\", \"Pat_F1\"]].plot.box(ax = ax)\n",
    "ax.set_ylabel(\"Score\");\n",
    "\n",
    "results.to_excel(os.path.join(file_place, \"Confusion_Matrix_bad.xlsx\"))\n",
    "fig.savefig(os.path.join(file_place, \"pat_scores.png\"), bbox_inches = 'tight')"
   ]
  },
  {
   "cell_type": "code",
   "execution_count": 43,
   "metadata": {},
   "outputs": [],
   "source": [
    "from sklearn.model_selection import StratifiedKFold"
   ]
  },
  {
   "cell_type": "code",
   "execution_count": null,
   "metadata": {},
   "outputs": [],
   "source": [
    "y_Var = \"ECS\"\n",
    "\n",
    "data = new_metadata.copy().dropna(subset = [\"ASMA\"])#.loc[:,[\"ASMA\"]]\n",
    "\n",
    "X = data.loc[:,[\"ASMA\"]]\n",
    "y = pd.DataFrame(lb.fit_transform(data.reset_index()[f\"{y_Var}\"])).iloc[:,0]\n",
    "\n",
    "\n",
    "OHE = OneHotEncoder(sparse = False)\n",
    "#OHE.fit(data.reset_index()[\"ASMA\"].values.reshape(-1,1))\n",
    "\n",
    "categorical_pipe = Pipeline([\n",
    "    (\"OneHot\", OHE)\n",
    "])\n",
    "\n",
    "pipe = Pipeline([\n",
    "    (\"Preprocessing\", categorical_pipe),\n",
    "    (\"clf\", LinearDiscriminantAnalysis())\n",
    "])\n",
    "\n",
    "scores = []\n",
    "\n",
    "for train_i, test_i in StratifiedKFold(5, shuffle = True).split(X, y):\n",
    "    \n",
    "    clf = pipe.fit(X.iloc[train_i], y.iloc[train_i])\n",
    "    \n",
    "    scores.append(Cross_Eval.score(clf, X.iloc[test_i], y.iloc[test_i]))\n",
    "    \n",
    "results = pd.DataFrame(scores)"
   ]
  },
  {
   "cell_type": "code",
   "execution_count": null,
   "metadata": {},
   "outputs": [],
   "source": [
    "fig, (ax, ax2) = plt.subplots(ncols = 2, figsize = (12, 5))\n",
    "#fig.suptitle(y_Var)\n",
    "\n",
    "for _, row in results.iterrows():\n",
    "    \n",
    "    ax.plot(row[\"FPR_curve\"], row[\"TPR_curve\"])\n",
    "    \n",
    "ax.plot([0,1],[0,1], c = \"black\", linestyle = '--')\n",
    "ax.set_xlabel('False Positive Rate')\n",
    "ax.set_ylabel('True Positive Rate')\n",
    "ax.set_title('ROC Curve')\n",
    "\n",
    "ax.text(0.65, 0.2, \"AUC:{:.2f} +/- {:.2f}\".format(results[\"AUC\"].mean(), results[\"AUC\"].std()))\n",
    "\n",
    "for _, row in results.iterrows():\n",
    "    \n",
    "    ax2.plot(row[\"rec_curve\"], row[\"prec_curve\"])\n",
    "    \n",
    "ax2.set_xlabel('Recall')\n",
    "ax2.set_ylabel('Precision')\n",
    "ax2.set_title('Precision Recall Curve');\n",
    "\n",
    "#fig.savefig(os.path.join(file_place, \"ROC_scores.png\"), bbox_inches = 'tight')"
   ]
  },
  {
   "cell_type": "code",
   "execution_count": null,
   "metadata": {},
   "outputs": [],
   "source": [
    "fig, (ax, ax2) = plt.subplots(ncols = 2, figsize = (12, 5))\n",
    "#fig.suptitle(y_Var)\n",
    "\n",
    "for _, row in results.iterrows():\n",
    "    \n",
    "    ax.plot(row[\"FPR_curve\"], row[\"TPR_curve\"])\n",
    "    \n",
    "ax.plot([0,1],[0,1], c = \"black\", linestyle = '--')\n",
    "ax.set_xlabel('False Positive Rate')\n",
    "ax.set_ylabel('True Positive Rate')\n",
    "ax.set_title('ROC Curve')\n",
    "\n",
    "ax.text(0.65, 0.2, \"AUC:{:.2f} +/- {:.2f}\".format(results[\"AUC\"].mean(), results[\"AUC\"].std()))\n",
    "\n",
    "for _, row in results.iterrows():\n",
    "    \n",
    "    ax2.plot(row[\"rec_curve\"], row[\"prec_curve\"])\n",
    "    \n",
    "ax2.set_xlabel('Recall')\n",
    "ax2.set_ylabel('Precision')\n",
    "ax2.set_title('Precision Recall Curve');\n",
    "\n",
    "#fig.savefig(os.path.join(file_place, \"ROC_scores.png\"), bbox_inches = 'tight')"
   ]
  },
  {
   "cell_type": "code",
   "execution_count": null,
   "metadata": {},
   "outputs": [],
   "source": [
    "results.describe()"
   ]
  },
  {
   "cell_type": "code",
   "execution_count": null,
   "metadata": {},
   "outputs": [],
   "source": [
    "fig, ax = plt.subplots(ncols = 1)\n",
    "fig.suptitle(y_Var)\n",
    "\n",
    "results[[\"AUC\", \"Specificity\", \"Sensitivity\", \"Precision\", \"Recall\", \"F1\"]].plot.box(ax = ax)\n",
    "ax.set_ylabel(\"Score\");\n",
    "\n",
    "#results.to_excel(os.path.join(file_place, \"Confusion_Matrix_bad.xlsx\"))\n",
    "#fig.savefig(os.path.join(file_place, \"scores.png\"), bbox_inches = 'tight')"
   ]
  },
  {
   "cell_type": "code",
   "execution_count": null,
   "metadata": {},
   "outputs": [],
   "source": [
    "fig, (ax, ax2) = plt.subplots(ncols = 2, figsize = (12, 5))\n",
    "fig.suptitle(title)\n",
    "\n",
    "for _, row in results.iterrows():\n",
    "    \n",
    "    ax.plot(row[\"FPR_curve\"], row[\"TPR_curve\"])\n",
    "    \n",
    "ax.plot([0,1],[0,1], c = \"black\", linestyle = '--')\n",
    "ax.set_xlabel('False Positive Rate')\n",
    "ax.set_ylabel('True Positive Rate')\n",
    "ax.set_title('ROC Curve')\n",
    "\n",
    "ax.text(0.65, 0.2, \"AUC:{:.2f} +/- {:.2f}\".format(results[\"AUC\"].mean(), results[\"AUC\"].std()))\n",
    "\n",
    "for _, row in results.iterrows():\n",
    "    \n",
    "    ax2.plot(row[\"rec_curve\"], row[\"prec_curve\"])\n",
    "    \n",
    "ax2.set_xlabel('Recall')\n",
    "ax2.set_ylabel('Precision')\n",
    "ax2.set_title('Precision Recall Curve')\n",
    "\n",
    "fig.savefig(os.path.join(file_place, \"ROC_scores.png\"), bbox_inches = 'tight')"
   ]
  },
  {
   "cell_type": "code",
   "execution_count": null,
   "metadata": {},
   "outputs": [],
   "source": [
    "results.describe()"
   ]
  },
  {
   "cell_type": "code",
   "execution_count": null,
   "metadata": {},
   "outputs": [],
   "source": [
    "fig, ax = plt.subplots(ncols = 1)\n",
    "fig.suptitle(title)\n",
    "\n",
    "results[[\"AUC\", \"Specificity\", \"Sensitivity\", \"Precision\", \"Recall\", \"F1\"]].plot.box(ax = ax)\n",
    "ax.set_ylabel(\"Score\")\n",
    "\n",
    "results.to_excel(os.path.join(file_place, \"Confusion_Matrix_bad.xlsx\"))\n",
    "fig.savefig(os.path.join(file_place, \"scores.png\"), bbox_inches = 'tight')"
   ]
  },
  {
   "cell_type": "markdown",
   "metadata": {},
   "source": [
    "## Repeat evaluation on patient basis"
   ]
  },
  {
   "cell_type": "code",
   "execution_count": null,
   "metadata": {},
   "outputs": [],
   "source": [
    "y_pred"
   ]
  },
  {
   "cell_type": "code",
   "execution_count": null,
   "metadata": {},
   "outputs": [],
   "source": [
    "Cross_Eval.patient_score(results)"
   ]
  },
  {
   "cell_type": "code",
   "execution_count": null,
   "metadata": {},
   "outputs": [],
   "source": [
    "results.T"
   ]
  },
  {
   "cell_type": "code",
   "execution_count": null,
   "metadata": {},
   "outputs": [],
   "source": [
    "results.y_true.values[0]"
   ]
  },
  {
   "cell_type": "code",
   "execution_count": null,
   "metadata": {},
   "outputs": [],
   "source": [
    "results"
   ]
  },
  {
   "cell_type": "code",
   "execution_count": null,
   "metadata": {},
   "outputs": [],
   "source": [
    "patient_preds = results.y_pred.copy()\n",
    "patient_preds[\"predictions\"] = predictions\n",
    "patient_preds.index = X_valid.index"
   ]
  },
  {
   "cell_type": "code",
   "execution_count": null,
   "metadata": {},
   "outputs": [],
   "source": [
    "def agg_scores(columns):\n",
    "    \n",
    "    return columns.sum()/columns.size"
   ]
  },
  {
   "cell_type": "code",
   "execution_count": null,
   "metadata": {},
   "outputs": [],
   "source": [
    "patient_preds.groupby(\"Patient_Number\").agg(agg_scores)"
   ]
  },
  {
   "cell_type": "code",
   "execution_count": null,
   "metadata": {},
   "outputs": [],
   "source": [
    "y_true = patient_preds.groupby(\"Patient_Number\").agg(agg_scores).loc[:, 0]\n",
    "y_pred = patient_preds.groupby(\"Patient_Number\").agg(agg_scores).loc[:,\"predictions\"]\n",
    "\n",
    "y_pred_nopt = np.array([0 if score < 0.5 else 1 for score in y_pred])\n",
    "y_pred_opt = np.array([0 if score < opt else 1 for score in y_pred])\n",
    "\n",
    "fpr, tpr, t = roc_curve(y_true, y_pred)\n",
    "AUC = roc_auc_score(y_true, y_pred)\n",
    "\n",
    "scores = np.array([np.sqrt(((1-t)**2)+((0-(f))**2)) for f, t in zip(fpr,tpr)])\n",
    "threshi = np.argmin(scores)\n",
    "\n",
    "prec, rec, _ = precision_recall_curve(y_true, y_pred)\n",
    "\n",
    "opt = t[threshi]"
   ]
  },
  {
   "cell_type": "code",
   "execution_count": null,
   "metadata": {},
   "outputs": [],
   "source": [
    "fig, ax = plt.subplots()\n",
    "\n",
    "ax.plot(t , scores, label = \"Score\")\n",
    "#ax.plot(t , tpr, label = \"True positive rate\")\n",
    "#ax.plot(t , fpr, label = \"False positive rate\")\n",
    "ax.set_title('Optimal decision threshold')\n",
    "ax.set_xlabel(\"Threshold\")\n",
    "ax.set_ylabel(\"$\\sqrt{(1-FPR)^2 + (0-TPR)^2}$\")\n",
    "ax.axvline(opt, c = \"r\")\n",
    "ax.text(opt + 0.1, 0.95, f\"Opt threshold {opt:.2f}\")\n",
    "ax.legend()\n",
    "\n",
    "fig.savefig(os.path.join(file_place, \"Optimal_Thresh.png\"), bbox_inches = 'tight')"
   ]
  },
  {
   "cell_type": "code",
   "execution_count": null,
   "metadata": {},
   "outputs": [],
   "source": [
    "from sklearn.metrics import precision_recall_curve\n",
    "from sklearn.metrics import plot_precision_recall_curve"
   ]
  },
  {
   "cell_type": "code",
   "execution_count": null,
   "metadata": {},
   "outputs": [],
   "source": [
    "fig, (ax, ax2) = plt.subplots(ncols = 2, figsize = (12, 5))\n",
    "\n",
    "ax.plot(fpr, tpr)\n",
    "ax.plot([0,1],[0,1], linestyle = '--')\n",
    "ax.set_xlabel('False Positive Rate')\n",
    "ax.set_ylabel('True Positive Rate')\n",
    "ax.set_title('ECS ROC Curve')\n",
    "ax.plot([0, fpr[threshi]], [1, tpr[threshi]], linestyle = \"--\")\n",
    "ax.text(0.8, 0.2, f\"AUC {AUC:.2f}\")\n",
    "\n",
    "ax2.plot(rec, prec)\n",
    "ax2.set_xlabel('Recall')\n",
    "ax2.set_ylabel('Precision')\n",
    "ax2.set_title('Precision Recall Curve')\n",
    "\n",
    "fig.savefig(os.path.join(file_place, \"ROC_Curve_Opt.png\"), bbox_inches = 'tight')"
   ]
  },
  {
   "cell_type": "code",
   "execution_count": null,
   "metadata": {},
   "outputs": [],
   "source": [
    "scorers = {\n",
    "\"Weighted Accuracy\" : scoring(y_true, y_pred_nopt, metric = 'average per-class accuracy'),\n",
    "\"Specificity\" : scoring(y_true, y_pred_nopt, metric = 'specificity'),\n",
    "\"Sensitivity\": scoring(y_true, y_pred_nopt, metric = 'sensitivity'),\n",
    "\"F1_Score\" : f1_score(y_true, y_pred_nopt, average = 'weighted')\n",
    "    }\n",
    "\n",
    "print(\"weighted accuracy: \\t{:.2f}\".format(scoring(y_true, y_pred_nopt, metric = 'average per-class accuracy')))\n",
    "print(\"specificity: \\t\\t{:.2f}\".format(scoring(y_true, y_pred_nopt, metric = 'specificity')))\n",
    "print(\"sensitivity: \\t\\t{:.2f}\".format(scoring(y_true, y_pred_nopt, metric = 'sensitivity')))\n",
    "print(\"F1: \\t\\t\\t{:.2f}\".format(f1_score(y_true, y_pred_nopt, average = 'weighted')))\n",
    "\n",
    "scorers = pd.DataFrame({\"Score\": scorers}).round(2)\n",
    "scorers.to_excel(os.path.join(os.getcwd(), \"Confusion_Matrix_bad.xlsx\"))\n",
    "\n",
    "fig = plotCM(y_true, y_pred_nopt, np.unique(y_valid))\n",
    "#fig.savefig(os.path.join(file_place, \"Confusion_Matrix_bad.png\"), bbox_inches = 'tight')"
   ]
  },
  {
   "cell_type": "code",
   "execution_count": null,
   "metadata": {},
   "outputs": [],
   "source": [
    "scorers = {\n",
    "#\"Weighted Accuracy\" : scoring(y_valid_b, predictions, metric = 'average per-class accuracy'),\n",
    "\"Specificity\" : scoring(y_true, y_pred_opt, metric = 'specificity'),\n",
    "\"Sensitivity\": scoring(y_true, y_pred_opt, metric = 'sensitivity'),\n",
    "\"F1_Score\" : f1_score(y_true, y_pred_opt, average = 'weighted')\n",
    "    }\n",
    "\n",
    "print(\"weighted accuracy: \\t{:.2f}\".format(scoring(y_true, y_pred_opt, metric = 'average per-class accuracy')))\n",
    "print(\"specificity: \\t\\t{:.2f}\".format(scoring(y_true, y_pred_opt, metric = 'specificity')))\n",
    "print(\"sensitivity: \\t\\t{:.2f}\".format(scoring(y_true, y_pred_opt, metric = 'sensitivity')))\n",
    "print(\"F1: \\t\\t\\t{:.2f}\".format(f1_score(y_true, y_pred_opt, average = 'weighted')))\n",
    "\n",
    "scorers = pd.DataFrame({\"Score\": scorers}).round(2)\n",
    "scorers.to_excel(os.path.join(file_place, \"scores.xlsx\"))\n",
    "\n",
    "fig = plotCM(y_true, y_pred_opt, np.unique(y_valid))\n",
    "#fig.savefig(os.path.join(file_place, \"Confusion_Matrix_good.png\"), bbox_inches = 'tight')"
   ]
  },
  {
   "cell_type": "code",
   "execution_count": null,
   "metadata": {},
   "outputs": [],
   "source": [
    "pred_results = y_valid_b.copy()\n",
    "pred_results.columns = [\"True\"]\n",
    "pred_results['Prediction'] = predictions\n",
    "\n",
    "scores.to_excel(os.path.join(file_place, \"score.xlsx\"))\n",
    "pred_results.to_excel(os.path.join(file_place, \"predictions.xlsx\"))"
   ]
  }
 ],
 "metadata": {
  "kernelspec": {
   "display_name": "Python 3",
   "language": "python",
   "name": "python3"
  },
  "language_info": {
   "codemirror_mode": {
    "name": "ipython",
    "version": 3
   },
   "file_extension": ".py",
   "mimetype": "text/x-python",
   "name": "python",
   "nbconvert_exporter": "python",
   "pygments_lexer": "ipython3",
   "version": "3.8.3"
  }
 },
 "nbformat": 4,
 "nbformat_minor": 4
}

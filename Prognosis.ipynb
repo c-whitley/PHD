{
 "cells": [
  {
   "cell_type": "code",
   "execution_count": 1,
   "metadata": {
    "tags": []
   },
   "outputs": [],
   "source": [
    "%load_ext autoreload\n",
    "\n",
    "%autoreload 2"
   ]
  },
  {
   "cell_type": "code",
   "execution_count": 2,
   "metadata": {},
   "outputs": [],
   "source": [
    "from tqdm.notebook import tqdm\n",
    "import time"
   ]
  },
  {
   "cell_type": "code",
   "execution_count": 3,
   "metadata": {},
   "outputs": [],
   "source": [
    "import numpy as np\n",
    "import pandas as pd\n",
    "import matplotlib.pyplot as plt\n",
    "import seaborn as sns\n",
    "\n",
    "from datetime import datetime\n",
    "\n",
    "import glob\n",
    "import os\n",
    "import sys\n",
    "\n",
    "from tqdm.notebook import tqdm\n",
    "from datetime import datetime\n",
    "\n",
    "import Cross_Eval\n",
    "from Preprocessing_Methods import *"
   ]
  },
  {
   "cell_type": "code",
   "execution_count": 4,
   "metadata": {},
   "outputs": [],
   "source": [
    "from sklearn.pipeline import Pipeline\n",
    "\n",
    "from sklearn.preprocessing import FunctionTransformer, RobustScaler, MinMaxScaler, StandardScaler, LabelBinarizer\n",
    "from sklearn.preprocessing import normalize, robust_scale, minmax_scale\n",
    "\n",
    "from sklearn.preprocessing import OneHotEncoder,KBinsDiscretizer\n",
    "from sklearn.compose import ColumnTransformer\n",
    "\n",
    "from sklearn.decomposition import PCA\n",
    "from sklearn.discriminant_analysis import LinearDiscriminantAnalysis\n",
    "from sklearn.ensemble import RandomForestClassifier\n",
    "from sklearn.linear_model import LogisticRegression\n",
    "\n",
    "from sklearn.calibration import CalibratedClassifierCV\n",
    "\n",
    "from sklearn.kernel_approximation import RBFSampler, Nystroem\n",
    "\n",
    "from sklearn.model_selection import train_test_split\n",
    "from sklearn.model_selection import cross_validate, GroupKFold, KFold\n",
    "\n",
    "from sklearn.metrics import make_scorer, confusion_matrix, roc_auc_score, roc_curve, plot_confusion_matrix, f1_score, recall_score, accuracy_score\n",
    "\n",
    "from sklearn.multiclass import OneVsRestClassifier\n",
    "\n",
    "from sklearn.utils import compute_class_weight, compute_sample_weight\n",
    "\n",
    "from mlxtend.evaluate import scoring\n",
    "from mlxtend.evaluate import BootstrapOutOfBag"
   ]
  },
  {
   "cell_type": "markdown",
   "metadata": {},
   "source": [
    "# Preparing Metadata/Labels"
   ]
  },
  {
   "cell_type": "code",
   "execution_count": 5,
   "metadata": {},
   "outputs": [],
   "source": [
    "all_files = pd.DataFrame(glob.glob(\"/mnt/c/Users/conor/Google Drive/PhD/Project with Janet/Extracted_Spectra/*.pickle\"), columns = [\"hdf_loc\"])"
   ]
  },
  {
   "cell_type": "code",
   "execution_count": 6,
   "metadata": {},
   "outputs": [],
   "source": [
    "try:all_files = pd.DataFrame(glob.glob(\"/mnt/d/Conor/Extracted_Spectra/*.pickle\"), columns = [\"hdf_loc\"])\n",
    "except:all_files = pd.DataFrame(glob.glob(\"/mnt/c/Users/conor/Google Drive/PhD/Project with Janet/Extracted_Spectra/*.pickle\"), columns = [\"hdf_loc\"])\n",
    "\n",
    "all_files = pd.DataFrame(glob.glob(\"/mnt/c/Users/conor/Google Drive/PhD/Project with Janet/Extracted_Spectra/*.pickle\"), columns = [\"hdf_loc\"])\n",
    "\n",
    "all_files[\"TMA\"] = all_files.apply(lambda row: float(row[\"hdf_loc\"].split(\"/\")[-1][4:5]), axis = 1)\n",
    "all_files[\"Core\"] = all_files.apply(lambda row: row[\"hdf_loc\"].split(\"/\")[-1][8:-7], axis = 1)"
   ]
  },
  {
   "cell_type": "code",
   "execution_count": 7,
   "metadata": {
    "tags": []
   },
   "outputs": [
    {
     "output_type": "stream",
     "name": "stdout",
     "text": "(79, 18)\n"
    }
   ],
   "source": [
    "try:metadata = pd.read_excel(\"/mnt/b/Google_Drive/PhD/Project with Janet/Scoring grids Advancing Front (TMAs 1-3).xlsx\", sheet_name = \"reformatted\")\n",
    "except:metadata = pd.read_excel(\"/mnt/c/Users/conor/Google Drive/PhD/Project with Janet/Scoring grids Advancing Front (TMAs 1-3).xlsx\", sheet_name = \"reformatted\")\n",
    "\n",
    "metadata = metadata.merge(all_files, left_on = [\"TMA\", \"TMA site\"], right_on = [\"TMA\", \"Core\"])\n",
    "print(metadata.shape)"
   ]
  },
  {
   "cell_type": "code",
   "execution_count": 8,
   "metadata": {},
   "outputs": [],
   "source": [
    "try:new_metadata = pd.read_excel(\"/mnt/b/Google_Drive/PhD/Project with Janet/new_metadata.xlsx\")\n",
    "except:new_metadata = pd.read_excel(\"/mnt/c/Users/conor/Google Drive/PhD/Project with Janet/new_metadata.xlsx\")"
   ]
  },
  {
   "cell_type": "code",
   "execution_count": 9,
   "metadata": {},
   "outputs": [],
   "source": [
    "new_metadata[\"DODvsAlive\"] = new_metadata[\"OUTCOME\"].map(\n",
    "                            {\"DOD\" : \"DOD\",\n",
    "                             \"alive\": \"Other\",\n",
    "                             \"died other\" : \"Other\",\n",
    "                             \"died\" : \"Other\",\n",
    "                             \"Died\" : \"Other\",\n",
    "                             \"Died other\": \"Other\"})\n",
    "\n",
    "new_metadata[\"DiedvsAlive\"] = new_metadata[\"OUTCOME\"].map(\n",
    "                            {\"DOD\" : \"Died\",\n",
    "                             \"alive\": \"Alive\",\n",
    "                             \"died other\" : \"Died\",\n",
    "                             \"died\" : \"Died\",\n",
    "                             \"Died\" : \"Died\",\n",
    "                             \"Died other\": \"Died\"})\n",
    "\n",
    "new_metadata[\"ECS\"] = new_metadata[\"ECS\"].map(\n",
    "                            {\"y\" : \"Y\",\n",
    "                             \"Y\": \"Y\",\n",
    "                             \"N\" : \"N\",\n",
    "                             \"n\" : \"N\"})"
   ]
  },
  {
   "cell_type": "code",
   "execution_count": 10,
   "metadata": {},
   "outputs": [],
   "source": [
    "new_metadata['lifespan'] = new_metadata['Date of death'] - new_metadata['date of diag']\n",
    "new_metadata[\"Years\"] = new_metadata['Date of death'].dt.year - new_metadata['date of diag'].dt.year"
   ]
  },
  {
   "cell_type": "raw",
   "metadata": {},
   "source": [
    "# Did the patient survive beyond n years?\n",
    "\n",
    "new_metadata[\"2year\"] = new_metadata.apply(lambda row: True if (row['Date of death'] - row['date of diag']).days<730 and row.OUTCOME not in ['Alive',\"alive\"] else False, axis = 1)\n",
    "new_metadata[\"5year\"] = new_metadata.apply(lambda row: True if 730<(row['lifespan']).days<1825 and row.OUTCOME not in ['Alive',\"alive\"] else False, axis = 1)"
   ]
  },
  {
   "cell_type": "code",
   "execution_count": 11,
   "metadata": {},
   "outputs": [],
   "source": [
    "# Did the patient survive beyond n years?\n",
    "for i in np.arange(0,5,1):\n",
    "    \n",
    "    s = (365*i)\n",
    "    e = (365*(i+2))\n",
    "    \n",
    "    new_metadata[f\"{i+1}year\"] = new_metadata.apply(lambda row: True if s<(row['lifespan']).days<e and row.OUTCOME not in ['Alive',\"alive\"] else False, axis = 1)"
   ]
  },
  {
   "cell_type": "code",
   "execution_count": 12,
   "metadata": {},
   "outputs": [],
   "source": [
    "new_metadata[f\"1yeardeath\"] = new_metadata.apply(lambda row: True if (row['lifespan']).days<365 and row.OUTCOME not in ['Alive',\"alive\"] else False, axis = 1)"
   ]
  },
  {
   "cell_type": "code",
   "execution_count": 13,
   "metadata": {},
   "outputs": [],
   "source": [
    "bins = np.arange(0, new_metadata[\"Years\"].max(),2)\n",
    "\n",
    "new_metadata[\"2years\"] = np.digitize(new_metadata[\"Years\"], bins)"
   ]
  },
  {
   "cell_type": "code",
   "execution_count": 14,
   "metadata": {},
   "outputs": [
    {
     "output_type": "execute_result",
     "data": {
      "text/plain": "     Patient_Number gender date of diag  age @ diag            site pT  pN  \\\n0              3143      m   2004-03-29          58  floor of mouth  4   0   \n1              3167      m   2004-09-30          74  floor of mouth  2   2   \n2              3169      m   2004-10-28          63  floor of mouth  3   1   \n3              3170      m   2004-11-22          59           other  4  2b   \n4              3230      m   2006-01-26          74          tongue  2   1   \n..              ...    ...          ...         ...             ... ..  ..   \n102            3647      f   2010-10-18          60          tongue  3  2b   \n103            3706      f   2011-04-14          64          tongue  3   0   \n104            3743      m   2011-11-17          40          tongue  2   0   \n105            3763      m   2012-02-13          57  floor of mouth  3  2b   \n106            3773      m   2012-07-02          53           other  2  2b   \n\n    stage ECS     OUTCOME  ... DiedvsAlive  lifespan Years  1year  2year  \\\n0       4   N         DOD  ...        Died 3341 days   9.0  False  False   \n1       4   Y         DOD  ...        Died  390 days   1.0   True   True   \n2       3   N  died other  ...        Died  652 days   2.0   True   True   \n3      4a   Y  Died other  ...        Died 3690 days  10.0  False  False   \n4       3   Y         DOD  ...        Died  161 days   0.0   True  False   \n..    ...  ..         ...  ...         ...       ...   ...    ...    ...   \n102   NaN   Y        died  ...        Died  184 days   1.0   True  False   \n103   NaN   N       alive  ...       Alive       NaT   NaN  False  False   \n104   NaN   N       alive  ...       Alive       NaT   NaN  False  False   \n105    4a   Y        died  ...        Died  172 days   0.0   True  False   \n106    4a   N       alive  ...       Alive       NaT   NaN  False  False   \n\n     3year  4year  5year 1yeardeath 2years  \n0    False  False  False      False      5  \n1    False  False  False      False      1  \n2    False  False  False      False      2  \n3    False  False  False      False      6  \n4    False  False  False       True      1  \n..     ...    ...    ...        ...    ...  \n102  False  False  False       True      1  \n103  False  False  False      False      6  \n104  False  False  False      False      6  \n105  False  False  False       True      1  \n106  False  False  False      False      6  \n\n[107 rows x 28 columns]",
      "text/html": "<div>\n<style scoped>\n    .dataframe tbody tr th:only-of-type {\n        vertical-align: middle;\n    }\n\n    .dataframe tbody tr th {\n        vertical-align: top;\n    }\n\n    .dataframe thead th {\n        text-align: right;\n    }\n</style>\n<table border=\"1\" class=\"dataframe\">\n  <thead>\n    <tr style=\"text-align: right;\">\n      <th></th>\n      <th>Patient_Number</th>\n      <th>gender</th>\n      <th>date of diag</th>\n      <th>age @ diag</th>\n      <th>site</th>\n      <th>pT</th>\n      <th>pN</th>\n      <th>stage</th>\n      <th>ECS</th>\n      <th>OUTCOME</th>\n      <th>...</th>\n      <th>DiedvsAlive</th>\n      <th>lifespan</th>\n      <th>Years</th>\n      <th>1year</th>\n      <th>2year</th>\n      <th>3year</th>\n      <th>4year</th>\n      <th>5year</th>\n      <th>1yeardeath</th>\n      <th>2years</th>\n    </tr>\n  </thead>\n  <tbody>\n    <tr>\n      <th>0</th>\n      <td>3143</td>\n      <td>m</td>\n      <td>2004-03-29</td>\n      <td>58</td>\n      <td>floor of mouth</td>\n      <td>4</td>\n      <td>0</td>\n      <td>4</td>\n      <td>N</td>\n      <td>DOD</td>\n      <td>...</td>\n      <td>Died</td>\n      <td>3341 days</td>\n      <td>9.0</td>\n      <td>False</td>\n      <td>False</td>\n      <td>False</td>\n      <td>False</td>\n      <td>False</td>\n      <td>False</td>\n      <td>5</td>\n    </tr>\n    <tr>\n      <th>1</th>\n      <td>3167</td>\n      <td>m</td>\n      <td>2004-09-30</td>\n      <td>74</td>\n      <td>floor of mouth</td>\n      <td>2</td>\n      <td>2</td>\n      <td>4</td>\n      <td>Y</td>\n      <td>DOD</td>\n      <td>...</td>\n      <td>Died</td>\n      <td>390 days</td>\n      <td>1.0</td>\n      <td>True</td>\n      <td>True</td>\n      <td>False</td>\n      <td>False</td>\n      <td>False</td>\n      <td>False</td>\n      <td>1</td>\n    </tr>\n    <tr>\n      <th>2</th>\n      <td>3169</td>\n      <td>m</td>\n      <td>2004-10-28</td>\n      <td>63</td>\n      <td>floor of mouth</td>\n      <td>3</td>\n      <td>1</td>\n      <td>3</td>\n      <td>N</td>\n      <td>died other</td>\n      <td>...</td>\n      <td>Died</td>\n      <td>652 days</td>\n      <td>2.0</td>\n      <td>True</td>\n      <td>True</td>\n      <td>False</td>\n      <td>False</td>\n      <td>False</td>\n      <td>False</td>\n      <td>2</td>\n    </tr>\n    <tr>\n      <th>3</th>\n      <td>3170</td>\n      <td>m</td>\n      <td>2004-11-22</td>\n      <td>59</td>\n      <td>other</td>\n      <td>4</td>\n      <td>2b</td>\n      <td>4a</td>\n      <td>Y</td>\n      <td>Died other</td>\n      <td>...</td>\n      <td>Died</td>\n      <td>3690 days</td>\n      <td>10.0</td>\n      <td>False</td>\n      <td>False</td>\n      <td>False</td>\n      <td>False</td>\n      <td>False</td>\n      <td>False</td>\n      <td>6</td>\n    </tr>\n    <tr>\n      <th>4</th>\n      <td>3230</td>\n      <td>m</td>\n      <td>2006-01-26</td>\n      <td>74</td>\n      <td>tongue</td>\n      <td>2</td>\n      <td>1</td>\n      <td>3</td>\n      <td>Y</td>\n      <td>DOD</td>\n      <td>...</td>\n      <td>Died</td>\n      <td>161 days</td>\n      <td>0.0</td>\n      <td>True</td>\n      <td>False</td>\n      <td>False</td>\n      <td>False</td>\n      <td>False</td>\n      <td>True</td>\n      <td>1</td>\n    </tr>\n    <tr>\n      <th>...</th>\n      <td>...</td>\n      <td>...</td>\n      <td>...</td>\n      <td>...</td>\n      <td>...</td>\n      <td>...</td>\n      <td>...</td>\n      <td>...</td>\n      <td>...</td>\n      <td>...</td>\n      <td>...</td>\n      <td>...</td>\n      <td>...</td>\n      <td>...</td>\n      <td>...</td>\n      <td>...</td>\n      <td>...</td>\n      <td>...</td>\n      <td>...</td>\n      <td>...</td>\n      <td>...</td>\n    </tr>\n    <tr>\n      <th>102</th>\n      <td>3647</td>\n      <td>f</td>\n      <td>2010-10-18</td>\n      <td>60</td>\n      <td>tongue</td>\n      <td>3</td>\n      <td>2b</td>\n      <td>NaN</td>\n      <td>Y</td>\n      <td>died</td>\n      <td>...</td>\n      <td>Died</td>\n      <td>184 days</td>\n      <td>1.0</td>\n      <td>True</td>\n      <td>False</td>\n      <td>False</td>\n      <td>False</td>\n      <td>False</td>\n      <td>True</td>\n      <td>1</td>\n    </tr>\n    <tr>\n      <th>103</th>\n      <td>3706</td>\n      <td>f</td>\n      <td>2011-04-14</td>\n      <td>64</td>\n      <td>tongue</td>\n      <td>3</td>\n      <td>0</td>\n      <td>NaN</td>\n      <td>N</td>\n      <td>alive</td>\n      <td>...</td>\n      <td>Alive</td>\n      <td>NaT</td>\n      <td>NaN</td>\n      <td>False</td>\n      <td>False</td>\n      <td>False</td>\n      <td>False</td>\n      <td>False</td>\n      <td>False</td>\n      <td>6</td>\n    </tr>\n    <tr>\n      <th>104</th>\n      <td>3743</td>\n      <td>m</td>\n      <td>2011-11-17</td>\n      <td>40</td>\n      <td>tongue</td>\n      <td>2</td>\n      <td>0</td>\n      <td>NaN</td>\n      <td>N</td>\n      <td>alive</td>\n      <td>...</td>\n      <td>Alive</td>\n      <td>NaT</td>\n      <td>NaN</td>\n      <td>False</td>\n      <td>False</td>\n      <td>False</td>\n      <td>False</td>\n      <td>False</td>\n      <td>False</td>\n      <td>6</td>\n    </tr>\n    <tr>\n      <th>105</th>\n      <td>3763</td>\n      <td>m</td>\n      <td>2012-02-13</td>\n      <td>57</td>\n      <td>floor of mouth</td>\n      <td>3</td>\n      <td>2b</td>\n      <td>4a</td>\n      <td>Y</td>\n      <td>died</td>\n      <td>...</td>\n      <td>Died</td>\n      <td>172 days</td>\n      <td>0.0</td>\n      <td>True</td>\n      <td>False</td>\n      <td>False</td>\n      <td>False</td>\n      <td>False</td>\n      <td>True</td>\n      <td>1</td>\n    </tr>\n    <tr>\n      <th>106</th>\n      <td>3773</td>\n      <td>m</td>\n      <td>2012-07-02</td>\n      <td>53</td>\n      <td>other</td>\n      <td>2</td>\n      <td>2b</td>\n      <td>4a</td>\n      <td>N</td>\n      <td>alive</td>\n      <td>...</td>\n      <td>Alive</td>\n      <td>NaT</td>\n      <td>NaN</td>\n      <td>False</td>\n      <td>False</td>\n      <td>False</td>\n      <td>False</td>\n      <td>False</td>\n      <td>False</td>\n      <td>6</td>\n    </tr>\n  </tbody>\n</table>\n<p>107 rows × 28 columns</p>\n</div>"
     },
     "metadata": {},
     "execution_count": 14
    }
   ],
   "source": [
    "new_metadata"
   ]
  },
  {
   "cell_type": "markdown",
   "metadata": {},
   "source": [
    "Import ASMA data"
   ]
  },
  {
   "cell_type": "code",
   "execution_count": 15,
   "metadata": {},
   "outputs": [],
   "source": [
    "try:asma = pd.read_excel(\"/mnt/b/Google_Drive/PhD/Project with Janet/ASMA.xlsx\", sheet_name = \"Sheet3\")\n",
    "except:asma = pd.read_excel(\"/mnt/c/Users/conor/Google Drive/PhD/Project with Janet/ASMA.xlsx\", sheet_name = \"Sheet3\")\n",
    "\n",
    "new_metadata = new_metadata.merge(asma, left_on = \"Patient_Number\", right_on = \"Case ID\")"
   ]
  },
  {
   "cell_type": "markdown",
   "metadata": {},
   "source": [
    "# Import data and preprocess"
   ]
  },
  {
   "cell_type": "code",
   "execution_count": 16,
   "metadata": {},
   "outputs": [],
   "source": [
    "from Preprocessing_Methods import *\n",
    "\n",
    "import sys\n",
    "\n",
    "sys.path.append(\"/mnt/b/Git_Projects/Biospec_Analysis/UNET\")"
   ]
  },
  {
   "cell_type": "code",
   "execution_count": 17,
   "metadata": {
    "tags": []
   },
   "outputs": [
    {
     "output_type": "display_data",
     "data": {
      "text/plain": "HBox(children=(FloatProgress(value=0.0, max=79.0), HTML(value='')))",
      "application/vnd.jupyter.widget-view+json": {
       "version_major": 2,
       "version_minor": 0,
       "model_id": "32d8768de46b42a5899ffaf46fe17de7"
      }
     },
     "metadata": {}
    },
    {
     "output_type": "stream",
     "name": "stdout",
     "text": "\n"
    }
   ],
   "source": [
    "select = ['Tumour']\n",
    "\n",
    "total = pd.concat({\"{}-{}\".format(row[\"TMA\"], row[\"Core\"]):\n",
    "                   truncate(pd.read_pickle(row[\"hdf_loc\"]).query(f\"Tissue in {select}\").sample(frac = 1), start = 1000, end = 1800)\n",
    "                   for name, row in tqdm(list(metadata.iterrows()))}, names = [\"ID\"])\n",
    "\n",
    "wn_cols = total.columns\n",
    "#total = total.merge(new_metadata, left_on = \"Patient nu \", right_on = \"Patient Number\")\n",
    "#total = total.drop(np.nan, level = \"Overall Death \")"
   ]
  },
  {
   "cell_type": "code",
   "execution_count": null,
   "metadata": {},
   "outputs": [],
   "source": [
    "total = total.reset_index().merge(new_metadata, left_on = \"Patient nu \", right_on = \"Patient_Number\", how = 'inner')\n",
    "total = total.set_index(list(total.columns.difference(wn_cols))).dropna(axis = 1)"
   ]
  },
  {
   "cell_type": "code",
   "execution_count": 20,
   "metadata": {},
   "outputs": [
    {
     "output_type": "execute_result",
     "data": {
      "text/plain": "                                                                                                                                                                                                                                                                                                                                                                                                                                                                                                                                                                                                                                                           998.0   \\\n1year 1yeardeath 2year 2years 3year 4year 5year ASMA Annotation_loc                                     Case ID Core_x Core_y Corrected Site AJCC/UICC DODvsAlive Date of death Date of recurrence Diagnosis Age DiedvsAlive ECS_x ECS_y ID      Last seen/reviewed Last updated N stage OUTCOME    OUTCOME.updated by Overall Death  Pathogical Stage Patient nu  Patient_Number Recurrence? T stage TMA TMA site Tissue Years advancing front type age @ diag date of diag diff envi_loc                                           gender_x gender_y lifespan pN pT radiotherapy recurrence site           site of recurrence stage survival (months)             \nFalse False      False 6      False False False I    /mnt/b/Google_Drive/PhD/Project with Janet/Labe... 3261    D10    D10    other                    Other      NaT           2008-11-17         56.0          Alive       no    N     1.0-D10 2019-08-08         2020-05-11   0       alive      FGD                no             pT4aN0M0         3261        3261           yes         4a      1.0 D10      Tumour NaN   cords/islands        56         2006-08-14   mod  /mnt/b/Google_Drive/PhD/Project with Janet/Kohl... f        f        NaT      0  4a yes          yes        other          local              4a    135.0              0.024157   \nTrue  True       False 1      False False False H    /mnt/b/Google_Drive/PhD/Project with Janet/Labe... 3568    C5     C5     FOM                      Other      2010-04-17    NaT                74.0          Died        yes   Y     1.0-C5  NaT                2020-04-01   2c      died other FGD                yes            pT2N2cMx         3568        3568           no          2       1.0 C5       Tumour 0.0   NaN                  74         2010-03-04   NaN  /mnt/b/Google_Drive/PhD/Project with Janet/Kohl... m        m        44 days  2c 2  no           no         floor of mouth NaN                4a    1.0               -0.248440   \nFalse False      False 6      False False False H    /mnt/b/Google_Drive/PhD/Project with Janet/Labe... 3585    E11    E11    oral tongue              Other      NaT           NaT                68.0          Alive       no    N     1.0-E11 2015-05-06         2019-05-16   1       alive      FG                 no             pT2N1            3585        3585           no          2       1.0 E11      Tumour NaN   non-cohesive         68         2010-05-13   mod  /mnt/b/Google_Drive/PhD/Project with Janet/Kohl... m        m        NaT      1  2  yes          no         tongue         NaN                3     60.0               0.035776   \nTrue  True       False 1      False False False I    /mnt/b/Google_Drive/PhD/Project with Janet/Labe... 3485    G2     G2     oral tongue              DOD        2009-10-27    2009-09-30         74.0          Died        yes   Y     1.0-G2  NaT                NaT          2b      DOD        CBarry             yes            pT2N2bMx         3485        3485           yes         2       1.0 G2       Tumour 0.0   dyscohesive type 3   74         2009-02-02   mod  /mnt/b/Google_Drive/PhD/Project with Janet/Kohl... NaN      m        267 days 2b 2  yes          yes        tongue         Local only         4     9.0                0.080664   \nFalse False      False 6      False False False I    /mnt/b/Google_Drive/PhD/Project with Janet/Labe... 3271    A10    A10    FOM                      Other      NaT           2010-07-23         59.0          Alive       yes   Y     1.0-A10 2010-07-23         2020-04-01   2b      alive      FGD                no             pT4N2bM0         3271        3271           yes         4       1.0 A10      Tumour NaN   poorly cohesive      59         2006-09-16   mod  /mnt/b/Google_Drive/PhD/Project with Janet/Kohl... m        m        NaT      2b 4  yes          yes        floor of mouth lung mets          4a    46.0               0.024869   \n\n                                                                                                                                                                                                                                                                                                                                                                                                                                                                                                                                                                                                                                                           1002.0  \\\n1year 1yeardeath 2year 2years 3year 4year 5year ASMA Annotation_loc                                     Case ID Core_x Core_y Corrected Site AJCC/UICC DODvsAlive Date of death Date of recurrence Diagnosis Age DiedvsAlive ECS_x ECS_y ID      Last seen/reviewed Last updated N stage OUTCOME    OUTCOME.updated by Overall Death  Pathogical Stage Patient nu  Patient_Number Recurrence? T stage TMA TMA site Tissue Years advancing front type age @ diag date of diag diff envi_loc                                           gender_x gender_y lifespan pN pT radiotherapy recurrence site           site of recurrence stage survival (months)             \nFalse False      False 6      False False False I    /mnt/b/Google_Drive/PhD/Project with Janet/Labe... 3261    D10    D10    other                    Other      NaT           2008-11-17         56.0          Alive       no    N     1.0-D10 2019-08-08         2020-05-11   0       alive      FGD                no             pT4aN0M0         3261        3261           yes         4a      1.0 D10      Tumour NaN   cords/islands        56         2006-08-14   mod  /mnt/b/Google_Drive/PhD/Project with Janet/Kohl... f        f        NaT      0  4a yes          yes        other          local              4a    135.0              0.028441   \nTrue  True       False 1      False False False H    /mnt/b/Google_Drive/PhD/Project with Janet/Labe... 3568    C5     C5     FOM                      Other      2010-04-17    NaT                74.0          Died        yes   Y     1.0-C5  NaT                2020-04-01   2c      died other FGD                yes            pT2N2cMx         3568        3568           no          2       1.0 C5       Tumour 0.0   NaN                  74         2010-03-04   NaN  /mnt/b/Google_Drive/PhD/Project with Janet/Kohl... m        m        44 days  2c 2  no           no         floor of mouth NaN                4a    1.0               -0.238875   \nFalse False      False 6      False False False H    /mnt/b/Google_Drive/PhD/Project with Janet/Labe... 3585    E11    E11    oral tongue              Other      NaT           NaT                68.0          Alive       no    N     1.0-E11 2015-05-06         2019-05-16   1       alive      FG                 no             pT2N1            3585        3585           no          2       1.0 E11      Tumour NaN   non-cohesive         68         2010-05-13   mod  /mnt/b/Google_Drive/PhD/Project with Janet/Kohl... m        m        NaT      1  2  yes          no         tongue         NaN                3     60.0               0.039668   \nTrue  True       False 1      False False False I    /mnt/b/Google_Drive/PhD/Project with Janet/Labe... 3485    G2     G2     oral tongue              DOD        2009-10-27    2009-09-30         74.0          Died        yes   Y     1.0-G2  NaT                NaT          2b      DOD        CBarry             yes            pT2N2bMx         3485        3485           yes         2       1.0 G2       Tumour 0.0   dyscohesive type 3   74         2009-02-02   mod  /mnt/b/Google_Drive/PhD/Project with Janet/Kohl... NaN      m        267 days 2b 2  yes          yes        tongue         Local only         4     9.0                0.079328   \nFalse False      False 6      False False False I    /mnt/b/Google_Drive/PhD/Project with Janet/Labe... 3271    A10    A10    FOM                      Other      NaT           2010-07-23         59.0          Alive       yes   Y     1.0-A10 2010-07-23         2020-04-01   2b      alive      FGD                no             pT4N2bM0         3271        3271           yes         4       1.0 A10      Tumour NaN   poorly cohesive      59         2006-09-16   mod  /mnt/b/Google_Drive/PhD/Project with Janet/Kohl... m        m        NaT      2b 4  yes          yes        floor of mouth lung mets          4a    46.0               0.027725   \n\n                                                                                                                                                                                                                                                                                                                                                                                                                                                                                                                                                                                                                                                           1006.0  \\\n1year 1yeardeath 2year 2years 3year 4year 5year ASMA Annotation_loc                                     Case ID Core_x Core_y Corrected Site AJCC/UICC DODvsAlive Date of death Date of recurrence Diagnosis Age DiedvsAlive ECS_x ECS_y ID      Last seen/reviewed Last updated N stage OUTCOME    OUTCOME.updated by Overall Death  Pathogical Stage Patient nu  Patient_Number Recurrence? T stage TMA TMA site Tissue Years advancing front type age @ diag date of diag diff envi_loc                                           gender_x gender_y lifespan pN pT radiotherapy recurrence site           site of recurrence stage survival (months)             \nFalse False      False 6      False False False I    /mnt/b/Google_Drive/PhD/Project with Janet/Labe... 3261    D10    D10    other                    Other      NaT           2008-11-17         56.0          Alive       no    N     1.0-D10 2019-08-08         2020-05-11   0       alive      FGD                no             pT4aN0M0         3261        3261           yes         4a      1.0 D10      Tumour NaN   cords/islands        56         2006-08-14   mod  /mnt/b/Google_Drive/PhD/Project with Janet/Kohl... f        f        NaT      0  4a yes          yes        other          local              4a    135.0              0.032647   \nTrue  True       False 1      False False False H    /mnt/b/Google_Drive/PhD/Project with Janet/Labe... 3568    C5     C5     FOM                      Other      2010-04-17    NaT                74.0          Died        yes   Y     1.0-C5  NaT                2020-04-01   2c      died other FGD                yes            pT2N2cMx         3568        3568           no          2       1.0 C5       Tumour 0.0   NaN                  74         2010-03-04   NaN  /mnt/b/Google_Drive/PhD/Project with Janet/Kohl... m        m        44 days  2c 2  no           no         floor of mouth NaN                4a    1.0               -0.231567   \nFalse False      False 6      False False False H    /mnt/b/Google_Drive/PhD/Project with Janet/Labe... 3585    E11    E11    oral tongue              Other      NaT           NaT                68.0          Alive       no    N     1.0-E11 2015-05-06         2019-05-16   1       alive      FG                 no             pT2N1            3585        3585           no          2       1.0 E11      Tumour NaN   non-cohesive         68         2010-05-13   mod  /mnt/b/Google_Drive/PhD/Project with Janet/Kohl... m        m        NaT      1  2  yes          no         tongue         NaN                3     60.0               0.043755   \nTrue  True       False 1      False False False I    /mnt/b/Google_Drive/PhD/Project with Janet/Labe... 3485    G2     G2     oral tongue              DOD        2009-10-27    2009-09-30         74.0          Died        yes   Y     1.0-G2  NaT                NaT          2b      DOD        CBarry             yes            pT2N2bMx         3485        3485           yes         2       1.0 G2       Tumour 0.0   dyscohesive type 3   74         2009-02-02   mod  /mnt/b/Google_Drive/PhD/Project with Janet/Kohl... NaN      m        267 days 2b 2  yes          yes        tongue         Local only         4     9.0                0.078121   \nFalse False      False 6      False False False I    /mnt/b/Google_Drive/PhD/Project with Janet/Labe... 3271    A10    A10    FOM                      Other      NaT           2010-07-23         59.0          Alive       yes   Y     1.0-A10 2010-07-23         2020-04-01   2b      alive      FGD                no             pT4N2bM0         3271        3271           yes         4       1.0 A10      Tumour NaN   poorly cohesive      59         2006-09-16   mod  /mnt/b/Google_Drive/PhD/Project with Janet/Kohl... m        m        NaT      2b 4  yes          yes        floor of mouth lung mets          4a    46.0               0.029137   \n\n                                                                                                                                                                                                                                                                                                                                                                                                                                                                                                                                                                                                                                                           1010.0  \\\n1year 1yeardeath 2year 2years 3year 4year 5year ASMA Annotation_loc                                     Case ID Core_x Core_y Corrected Site AJCC/UICC DODvsAlive Date of death Date of recurrence Diagnosis Age DiedvsAlive ECS_x ECS_y ID      Last seen/reviewed Last updated N stage OUTCOME    OUTCOME.updated by Overall Death  Pathogical Stage Patient nu  Patient_Number Recurrence? T stage TMA TMA site Tissue Years advancing front type age @ diag date of diag diff envi_loc                                           gender_x gender_y lifespan pN pT radiotherapy recurrence site           site of recurrence stage survival (months)             \nFalse False      False 6      False False False I    /mnt/b/Google_Drive/PhD/Project with Janet/Labe... 3261    D10    D10    other                    Other      NaT           2008-11-17         56.0          Alive       no    N     1.0-D10 2019-08-08         2020-05-11   0       alive      FGD                no             pT4aN0M0         3261        3261           yes         4a      1.0 D10      Tumour NaN   cords/islands        56         2006-08-14   mod  /mnt/b/Google_Drive/PhD/Project with Janet/Kohl... f        f        NaT      0  4a yes          yes        other          local              4a    135.0              0.036790   \nTrue  True       False 1      False False False H    /mnt/b/Google_Drive/PhD/Project with Janet/Labe... 3568    C5     C5     FOM                      Other      2010-04-17    NaT                74.0          Died        yes   Y     1.0-C5  NaT                2020-04-01   2c      died other FGD                yes            pT2N2cMx         3568        3568           no          2       1.0 C5       Tumour 0.0   NaN                  74         2010-03-04   NaN  /mnt/b/Google_Drive/PhD/Project with Janet/Kohl... m        m        44 days  2c 2  no           no         floor of mouth NaN                4a    1.0               -0.225881   \nFalse False      False 6      False False False H    /mnt/b/Google_Drive/PhD/Project with Janet/Labe... 3585    E11    E11    oral tongue              Other      NaT           NaT                68.0          Alive       no    N     1.0-E11 2015-05-06         2019-05-16   1       alive      FG                 no             pT2N1            3585        3585           no          2       1.0 E11      Tumour NaN   non-cohesive         68         2010-05-13   mod  /mnt/b/Google_Drive/PhD/Project with Janet/Kohl... m        m        NaT      1  2  yes          no         tongue         NaN                3     60.0               0.047868   \nTrue  True       False 1      False False False I    /mnt/b/Google_Drive/PhD/Project with Janet/Labe... 3485    G2     G2     oral tongue              DOD        2009-10-27    2009-09-30         74.0          Died        yes   Y     1.0-G2  NaT                NaT          2b      DOD        CBarry             yes            pT2N2bMx         3485        3485           yes         2       1.0 G2       Tumour 0.0   dyscohesive type 3   74         2009-02-02   mod  /mnt/b/Google_Drive/PhD/Project with Janet/Kohl... NaN      m        267 days 2b 2  yes          yes        tongue         Local only         4     9.0                0.077043   \nFalse False      False 6      False False False I    /mnt/b/Google_Drive/PhD/Project with Janet/Labe... 3271    A10    A10    FOM                      Other      NaT           2010-07-23         59.0          Alive       yes   Y     1.0-A10 2010-07-23         2020-04-01   2b      alive      FGD                no             pT4N2bM0         3271        3271           yes         4       1.0 A10      Tumour NaN   poorly cohesive      59         2006-09-16   mod  /mnt/b/Google_Drive/PhD/Project with Janet/Kohl... m        m        NaT      2b 4  yes          yes        floor of mouth lung mets          4a    46.0               0.029508   \n\n                                                                                                                                                                                                                                                                                                                                                                                                                                                                                                                                                                                                                                                           1014.0  \\\n1year 1yeardeath 2year 2years 3year 4year 5year ASMA Annotation_loc                                     Case ID Core_x Core_y Corrected Site AJCC/UICC DODvsAlive Date of death Date of recurrence Diagnosis Age DiedvsAlive ECS_x ECS_y ID      Last seen/reviewed Last updated N stage OUTCOME    OUTCOME.updated by Overall Death  Pathogical Stage Patient nu  Patient_Number Recurrence? T stage TMA TMA site Tissue Years advancing front type age @ diag date of diag diff envi_loc                                           gender_x gender_y lifespan pN pT radiotherapy recurrence site           site of recurrence stage survival (months)             \nFalse False      False 6      False False False I    /mnt/b/Google_Drive/PhD/Project with Janet/Labe... 3261    D10    D10    other                    Other      NaT           2008-11-17         56.0          Alive       no    N     1.0-D10 2019-08-08         2020-05-11   0       alive      FGD                no             pT4aN0M0         3261        3261           yes         4a      1.0 D10      Tumour NaN   cords/islands        56         2006-08-14   mod  /mnt/b/Google_Drive/PhD/Project with Janet/Kohl... f        f        NaT      0  4a yes          yes        other          local              4a    135.0              0.040882   \nTrue  True       False 1      False False False H    /mnt/b/Google_Drive/PhD/Project with Janet/Labe... 3568    C5     C5     FOM                      Other      2010-04-17    NaT                74.0          Died        yes   Y     1.0-C5  NaT                2020-04-01   2c      died other FGD                yes            pT2N2cMx         3568        3568           no          2       1.0 C5       Tumour 0.0   NaN                  74         2010-03-04   NaN  /mnt/b/Google_Drive/PhD/Project with Janet/Kohl... m        m        44 days  2c 2  no           no         floor of mouth NaN                4a    1.0               -0.221180   \nFalse False      False 6      False False False H    /mnt/b/Google_Drive/PhD/Project with Janet/Labe... 3585    E11    E11    oral tongue              Other      NaT           NaT                68.0          Alive       no    N     1.0-E11 2015-05-06         2019-05-16   1       alive      FG                 no             pT2N1            3585        3585           no          2       1.0 E11      Tumour NaN   non-cohesive         68         2010-05-13   mod  /mnt/b/Google_Drive/PhD/Project with Janet/Kohl... m        m        NaT      1  2  yes          no         tongue         NaN                3     60.0               0.051840   \nTrue  True       False 1      False False False I    /mnt/b/Google_Drive/PhD/Project with Janet/Labe... 3485    G2     G2     oral tongue              DOD        2009-10-27    2009-09-30         74.0          Died        yes   Y     1.0-G2  NaT                NaT          2b      DOD        CBarry             yes            pT2N2bMx         3485        3485           yes         2       1.0 G2       Tumour 0.0   dyscohesive type 3   74         2009-02-02   mod  /mnt/b/Google_Drive/PhD/Project with Janet/Kohl... NaN      m        267 days 2b 2  yes          yes        tongue         Local only         4     9.0                0.076093   \nFalse False      False 6      False False False I    /mnt/b/Google_Drive/PhD/Project with Janet/Labe... 3271    A10    A10    FOM                      Other      NaT           2010-07-23         59.0          Alive       yes   Y     1.0-A10 2010-07-23         2020-04-01   2b      alive      FGD                no             pT4N2bM0         3271        3271           yes         4       1.0 A10      Tumour NaN   poorly cohesive      59         2006-09-16   mod  /mnt/b/Google_Drive/PhD/Project with Janet/Kohl... m        m        NaT      2b 4  yes          yes        floor of mouth lung mets          4a    46.0               0.029237   \n\n                                                                                                                                                                                                                                                                                                                                                                                                                                                                                                                                                                                                                                                           1018.0  \\\n1year 1yeardeath 2year 2years 3year 4year 5year ASMA Annotation_loc                                     Case ID Core_x Core_y Corrected Site AJCC/UICC DODvsAlive Date of death Date of recurrence Diagnosis Age DiedvsAlive ECS_x ECS_y ID      Last seen/reviewed Last updated N stage OUTCOME    OUTCOME.updated by Overall Death  Pathogical Stage Patient nu  Patient_Number Recurrence? T stage TMA TMA site Tissue Years advancing front type age @ diag date of diag diff envi_loc                                           gender_x gender_y lifespan pN pT radiotherapy recurrence site           site of recurrence stage survival (months)             \nFalse False      False 6      False False False I    /mnt/b/Google_Drive/PhD/Project with Janet/Labe... 3261    D10    D10    other                    Other      NaT           2008-11-17         56.0          Alive       no    N     1.0-D10 2019-08-08         2020-05-11   0       alive      FGD                no             pT4aN0M0         3261        3261           yes         4a      1.0 D10      Tumour NaN   cords/islands        56         2006-08-14   mod  /mnt/b/Google_Drive/PhD/Project with Janet/Kohl... f        f        NaT      0  4a yes          yes        other          local              4a    135.0              0.044937   \nTrue  True       False 1      False False False H    /mnt/b/Google_Drive/PhD/Project with Janet/Labe... 3568    C5     C5     FOM                      Other      2010-04-17    NaT                74.0          Died        yes   Y     1.0-C5  NaT                2020-04-01   2c      died other FGD                yes            pT2N2cMx         3568        3568           no          2       1.0 C5       Tumour 0.0   NaN                  74         2010-03-04   NaN  /mnt/b/Google_Drive/PhD/Project with Janet/Kohl... m        m        44 days  2c 2  no           no         floor of mouth NaN                4a    1.0               -0.216830   \nFalse False      False 6      False False False H    /mnt/b/Google_Drive/PhD/Project with Janet/Labe... 3585    E11    E11    oral tongue              Other      NaT           NaT                68.0          Alive       no    N     1.0-E11 2015-05-06         2019-05-16   1       alive      FG                 no             pT2N1            3585        3585           no          2       1.0 E11      Tumour NaN   non-cohesive         68         2010-05-13   mod  /mnt/b/Google_Drive/PhD/Project with Janet/Kohl... m        m        NaT      1  2  yes          no         tongue         NaN                3     60.0               0.055503   \nTrue  True       False 1      False False False I    /mnt/b/Google_Drive/PhD/Project with Janet/Labe... 3485    G2     G2     oral tongue              DOD        2009-10-27    2009-09-30         74.0          Died        yes   Y     1.0-G2  NaT                NaT          2b      DOD        CBarry             yes            pT2N2bMx         3485        3485           yes         2       1.0 G2       Tumour 0.0   dyscohesive type 3   74         2009-02-02   mod  /mnt/b/Google_Drive/PhD/Project with Janet/Kohl... NaN      m        267 days 2b 2  yes          yes        tongue         Local only         4     9.0                0.075271   \nFalse False      False 6      False False False I    /mnt/b/Google_Drive/PhD/Project with Janet/Labe... 3271    A10    A10    FOM                      Other      NaT           2010-07-23         59.0          Alive       yes   Y     1.0-A10 2010-07-23         2020-04-01   2b      alive      FGD                no             pT4N2bM0         3271        3271           yes         4       1.0 A10      Tumour NaN   poorly cohesive      59         2006-09-16   mod  /mnt/b/Google_Drive/PhD/Project with Janet/Kohl... m        m        NaT      2b 4  yes          yes        floor of mouth lung mets          4a    46.0               0.028727   \n\n                                                                                                                                                                                                                                                                                                                                                                                                                                                                                                                                                                                                                                                           1022.0  \\\n1year 1yeardeath 2year 2years 3year 4year 5year ASMA Annotation_loc                                     Case ID Core_x Core_y Corrected Site AJCC/UICC DODvsAlive Date of death Date of recurrence Diagnosis Age DiedvsAlive ECS_x ECS_y ID      Last seen/reviewed Last updated N stage OUTCOME    OUTCOME.updated by Overall Death  Pathogical Stage Patient nu  Patient_Number Recurrence? T stage TMA TMA site Tissue Years advancing front type age @ diag date of diag diff envi_loc                                           gender_x gender_y lifespan pN pT radiotherapy recurrence site           site of recurrence stage survival (months)             \nFalse False      False 6      False False False I    /mnt/b/Google_Drive/PhD/Project with Janet/Labe... 3261    D10    D10    other                    Other      NaT           2008-11-17         56.0          Alive       no    N     1.0-D10 2019-08-08         2020-05-11   0       alive      FGD                no             pT4aN0M0         3261        3261           yes         4a      1.0 D10      Tumour NaN   cords/islands        56         2006-08-14   mod  /mnt/b/Google_Drive/PhD/Project with Janet/Kohl... f        f        NaT      0  4a yes          yes        other          local              4a    135.0              0.048544   \nTrue  True       False 1      False False False H    /mnt/b/Google_Drive/PhD/Project with Janet/Labe... 3568    C5     C5     FOM                      Other      2010-04-17    NaT                74.0          Died        yes   Y     1.0-C5  NaT                2020-04-01   2c      died other FGD                yes            pT2N2cMx         3568        3568           no          2       1.0 C5       Tumour 0.0   NaN                  74         2010-03-04   NaN  /mnt/b/Google_Drive/PhD/Project with Janet/Kohl... m        m        44 days  2c 2  no           no         floor of mouth NaN                4a    1.0               -0.212749   \nFalse False      False 6      False False False H    /mnt/b/Google_Drive/PhD/Project with Janet/Labe... 3585    E11    E11    oral tongue              Other      NaT           NaT                68.0          Alive       no    N     1.0-E11 2015-05-06         2019-05-16   1       alive      FG                 no             pT2N1            3585        3585           no          2       1.0 E11      Tumour NaN   non-cohesive         68         2010-05-13   mod  /mnt/b/Google_Drive/PhD/Project with Janet/Kohl... m        m        NaT      1  2  yes          no         tongue         NaN                3     60.0               0.057988   \nTrue  True       False 1      False False False I    /mnt/b/Google_Drive/PhD/Project with Janet/Labe... 3485    G2     G2     oral tongue              DOD        2009-10-27    2009-09-30         74.0          Died        yes   Y     1.0-G2  NaT                NaT          2b      DOD        CBarry             yes            pT2N2bMx         3485        3485           yes         2       1.0 G2       Tumour 0.0   dyscohesive type 3   74         2009-02-02   mod  /mnt/b/Google_Drive/PhD/Project with Janet/Kohl... NaN      m        267 days 2b 2  yes          yes        tongue         Local only         4     9.0                0.074492   \nFalse False      False 6      False False False I    /mnt/b/Google_Drive/PhD/Project with Janet/Labe... 3271    A10    A10    FOM                      Other      NaT           2010-07-23         59.0          Alive       yes   Y     1.0-A10 2010-07-23         2020-04-01   2b      alive      FGD                no             pT4N2bM0         3271        3271           yes         4       1.0 A10      Tumour NaN   poorly cohesive      59         2006-09-16   mod  /mnt/b/Google_Drive/PhD/Project with Janet/Kohl... m        m        NaT      2b 4  yes          yes        floor of mouth lung mets          4a    46.0               0.028858   \n\n                                                                                                                                                                                                                                                                                                                                                                                                                                                                                                                                                                                                                                                           1025.0  \\\n1year 1yeardeath 2year 2years 3year 4year 5year ASMA Annotation_loc                                     Case ID Core_x Core_y Corrected Site AJCC/UICC DODvsAlive Date of death Date of recurrence Diagnosis Age DiedvsAlive ECS_x ECS_y ID      Last seen/reviewed Last updated N stage OUTCOME    OUTCOME.updated by Overall Death  Pathogical Stage Patient nu  Patient_Number Recurrence? T stage TMA TMA site Tissue Years advancing front type age @ diag date of diag diff envi_loc                                           gender_x gender_y lifespan pN pT radiotherapy recurrence site           site of recurrence stage survival (months)             \nFalse False      False 6      False False False I    /mnt/b/Google_Drive/PhD/Project with Janet/Labe... 3261    D10    D10    other                    Other      NaT           2008-11-17         56.0          Alive       no    N     1.0-D10 2019-08-08         2020-05-11   0       alive      FGD                no             pT4aN0M0         3261        3261           yes         4a      1.0 D10      Tumour NaN   cords/islands        56         2006-08-14   mod  /mnt/b/Google_Drive/PhD/Project with Janet/Kohl... f        f        NaT      0  4a yes          yes        other          local              4a    135.0              0.052691   \nTrue  True       False 1      False False False H    /mnt/b/Google_Drive/PhD/Project with Janet/Labe... 3568    C5     C5     FOM                      Other      2010-04-17    NaT                74.0          Died        yes   Y     1.0-C5  NaT                2020-04-01   2c      died other FGD                yes            pT2N2cMx         3568        3568           no          2       1.0 C5       Tumour 0.0   NaN                  74         2010-03-04   NaN  /mnt/b/Google_Drive/PhD/Project with Janet/Kohl... m        m        44 days  2c 2  no           no         floor of mouth NaN                4a    1.0               -0.205735   \nFalse False      False 6      False False False H    /mnt/b/Google_Drive/PhD/Project with Janet/Labe... 3585    E11    E11    oral tongue              Other      NaT           NaT                68.0          Alive       no    N     1.0-E11 2015-05-06         2019-05-16   1       alive      FG                 no             pT2N1            3585        3585           no          2       1.0 E11      Tumour NaN   non-cohesive         68         2010-05-13   mod  /mnt/b/Google_Drive/PhD/Project with Janet/Kohl... m        m        NaT      1  2  yes          no         tongue         NaN                3     60.0               0.060164   \nTrue  True       False 1      False False False I    /mnt/b/Google_Drive/PhD/Project with Janet/Labe... 3485    G2     G2     oral tongue              DOD        2009-10-27    2009-09-30         74.0          Died        yes   Y     1.0-G2  NaT                NaT          2b      DOD        CBarry             yes            pT2N2bMx         3485        3485           yes         2       1.0 G2       Tumour 0.0   dyscohesive type 3   74         2009-02-02   mod  /mnt/b/Google_Drive/PhD/Project with Janet/Kohl... NaN      m        267 days 2b 2  yes          yes        tongue         Local only         4     9.0                0.073941   \nFalse False      False 6      False False False I    /mnt/b/Google_Drive/PhD/Project with Janet/Labe... 3271    A10    A10    FOM                      Other      NaT           2010-07-23         59.0          Alive       yes   Y     1.0-A10 2010-07-23         2020-04-01   2b      alive      FGD                no             pT4N2bM0         3271        3271           yes         4       1.0 A10      Tumour NaN   poorly cohesive      59         2006-09-16   mod  /mnt/b/Google_Drive/PhD/Project with Janet/Kohl... m        m        NaT      2b 4  yes          yes        floor of mouth lung mets          4a    46.0               0.029821   \n\n                                                                                                                                                                                                                                                                                                                                                                                                                                                                                                                                                                                                                                                           1029.0  \\\n1year 1yeardeath 2year 2years 3year 4year 5year ASMA Annotation_loc                                     Case ID Core_x Core_y Corrected Site AJCC/UICC DODvsAlive Date of death Date of recurrence Diagnosis Age DiedvsAlive ECS_x ECS_y ID      Last seen/reviewed Last updated N stage OUTCOME    OUTCOME.updated by Overall Death  Pathogical Stage Patient nu  Patient_Number Recurrence? T stage TMA TMA site Tissue Years advancing front type age @ diag date of diag diff envi_loc                                           gender_x gender_y lifespan pN pT radiotherapy recurrence site           site of recurrence stage survival (months)             \nFalse False      False 6      False False False I    /mnt/b/Google_Drive/PhD/Project with Janet/Labe... 3261    D10    D10    other                    Other      NaT           2008-11-17         56.0          Alive       no    N     1.0-D10 2019-08-08         2020-05-11   0       alive      FGD                no             pT4aN0M0         3261        3261           yes         4a      1.0 D10      Tumour NaN   cords/islands        56         2006-08-14   mod  /mnt/b/Google_Drive/PhD/Project with Janet/Kohl... f        f        NaT      0  4a yes          yes        other          local              4a    135.0              0.056592   \nTrue  True       False 1      False False False H    /mnt/b/Google_Drive/PhD/Project with Janet/Labe... 3568    C5     C5     FOM                      Other      2010-04-17    NaT                74.0          Died        yes   Y     1.0-C5  NaT                2020-04-01   2c      died other FGD                yes            pT2N2cMx         3568        3568           no          2       1.0 C5       Tumour 0.0   NaN                  74         2010-03-04   NaN  /mnt/b/Google_Drive/PhD/Project with Janet/Kohl... m        m        44 days  2c 2  no           no         floor of mouth NaN                4a    1.0               -0.197345   \nFalse False      False 6      False False False H    /mnt/b/Google_Drive/PhD/Project with Janet/Labe... 3585    E11    E11    oral tongue              Other      NaT           NaT                68.0          Alive       no    N     1.0-E11 2015-05-06         2019-05-16   1       alive      FG                 no             pT2N1            3585        3585           no          2       1.0 E11      Tumour NaN   non-cohesive         68         2010-05-13   mod  /mnt/b/Google_Drive/PhD/Project with Janet/Kohl... m        m        NaT      1  2  yes          no         tongue         NaN                3     60.0               0.062025   \nTrue  True       False 1      False False False I    /mnt/b/Google_Drive/PhD/Project with Janet/Labe... 3485    G2     G2     oral tongue              DOD        2009-10-27    2009-09-30         74.0          Died        yes   Y     1.0-G2  NaT                NaT          2b      DOD        CBarry             yes            pT2N2bMx         3485        3485           yes         2       1.0 G2       Tumour 0.0   dyscohesive type 3   74         2009-02-02   mod  /mnt/b/Google_Drive/PhD/Project with Janet/Kohl... NaN      m        267 days 2b 2  yes          yes        tongue         Local only         4     9.0                0.073519   \nFalse False      False 6      False False False I    /mnt/b/Google_Drive/PhD/Project with Janet/Labe... 3271    A10    A10    FOM                      Other      NaT           2010-07-23         59.0          Alive       yes   Y     1.0-A10 2010-07-23         2020-04-01   2b      alive      FGD                no             pT4N2bM0         3271        3271           yes         4       1.0 A10      Tumour NaN   poorly cohesive      59         2006-09-16   mod  /mnt/b/Google_Drive/PhD/Project with Janet/Kohl... m        m        NaT      2b 4  yes          yes        floor of mouth lung mets          4a    46.0               0.030819   \n\n                                                                                                                                                                                                                                                                                                                                                                                                                                                                                                                                                                                                                                                           1033.0  \\\n1year 1yeardeath 2year 2years 3year 4year 5year ASMA Annotation_loc                                     Case ID Core_x Core_y Corrected Site AJCC/UICC DODvsAlive Date of death Date of recurrence Diagnosis Age DiedvsAlive ECS_x ECS_y ID      Last seen/reviewed Last updated N stage OUTCOME    OUTCOME.updated by Overall Death  Pathogical Stage Patient nu  Patient_Number Recurrence? T stage TMA TMA site Tissue Years advancing front type age @ diag date of diag diff envi_loc                                           gender_x gender_y lifespan pN pT radiotherapy recurrence site           site of recurrence stage survival (months)             \nFalse False      False 6      False False False I    /mnt/b/Google_Drive/PhD/Project with Janet/Labe... 3261    D10    D10    other                    Other      NaT           2008-11-17         56.0          Alive       no    N     1.0-D10 2019-08-08         2020-05-11   0       alive      FGD                no             pT4aN0M0         3261        3261           yes         4a      1.0 D10      Tumour NaN   cords/islands        56         2006-08-14   mod  /mnt/b/Google_Drive/PhD/Project with Janet/Kohl... f        f        NaT      0  4a yes          yes        other          local              4a    135.0              0.060382   \nTrue  True       False 1      False False False H    /mnt/b/Google_Drive/PhD/Project with Janet/Labe... 3568    C5     C5     FOM                      Other      2010-04-17    NaT                74.0          Died        yes   Y     1.0-C5  NaT                2020-04-01   2c      died other FGD                yes            pT2N2cMx         3568        3568           no          2       1.0 C5       Tumour 0.0   NaN                  74         2010-03-04   NaN  /mnt/b/Google_Drive/PhD/Project with Janet/Kohl... m        m        44 days  2c 2  no           no         floor of mouth NaN                4a    1.0               -0.188805   \nFalse False      False 6      False False False H    /mnt/b/Google_Drive/PhD/Project with Janet/Labe... 3585    E11    E11    oral tongue              Other      NaT           NaT                68.0          Alive       no    N     1.0-E11 2015-05-06         2019-05-16   1       alive      FG                 no             pT2N1            3585        3585           no          2       1.0 E11      Tumour NaN   non-cohesive         68         2010-05-13   mod  /mnt/b/Google_Drive/PhD/Project with Janet/Kohl... m        m        NaT      1  2  yes          no         tongue         NaN                3     60.0               0.063404   \nTrue  True       False 1      False False False I    /mnt/b/Google_Drive/PhD/Project with Janet/Labe... 3485    G2     G2     oral tongue              DOD        2009-10-27    2009-09-30         74.0          Died        yes   Y     1.0-G2  NaT                NaT          2b      DOD        CBarry             yes            pT2N2bMx         3485        3485           yes         2       1.0 G2       Tumour 0.0   dyscohesive type 3   74         2009-02-02   mod  /mnt/b/Google_Drive/PhD/Project with Janet/Kohl... NaN      m        267 days 2b 2  yes          yes        tongue         Local only         4     9.0                0.073197   \nFalse False      False 6      False False False I    /mnt/b/Google_Drive/PhD/Project with Janet/Labe... 3271    A10    A10    FOM                      Other      NaT           2010-07-23         59.0          Alive       yes   Y     1.0-A10 2010-07-23         2020-04-01   2b      alive      FGD                no             pT4N2bM0         3271        3271           yes         4       1.0 A10      Tumour NaN   poorly cohesive      59         2006-09-16   mod  /mnt/b/Google_Drive/PhD/Project with Janet/Kohl... m        m        NaT      2b 4  yes          yes        floor of mouth lung mets          4a    46.0               0.032017   \n\n                                                                                                                                                                                                                                                                                                                                                                                                                                                                                                                                                                                                                                                         ...  \\\n1year 1yeardeath 2year 2years 3year 4year 5year ASMA Annotation_loc                                     Case ID Core_x Core_y Corrected Site AJCC/UICC DODvsAlive Date of death Date of recurrence Diagnosis Age DiedvsAlive ECS_x ECS_y ID      Last seen/reviewed Last updated N stage OUTCOME    OUTCOME.updated by Overall Death  Pathogical Stage Patient nu  Patient_Number Recurrence? T stage TMA TMA site Tissue Years advancing front type age @ diag date of diag diff envi_loc                                           gender_x gender_y lifespan pN pT radiotherapy recurrence site           site of recurrence stage survival (months)  ...   \nFalse False      False 6      False False False I    /mnt/b/Google_Drive/PhD/Project with Janet/Labe... 3261    D10    D10    other                    Other      NaT           2008-11-17         56.0          Alive       no    N     1.0-D10 2019-08-08         2020-05-11   0       alive      FGD                no             pT4aN0M0         3261        3261           yes         4a      1.0 D10      Tumour NaN   cords/islands        56         2006-08-14   mod  /mnt/b/Google_Drive/PhD/Project with Janet/Kohl... f        f        NaT      0  4a yes          yes        other          local              4a    135.0              ...   \nTrue  True       False 1      False False False H    /mnt/b/Google_Drive/PhD/Project with Janet/Labe... 3568    C5     C5     FOM                      Other      2010-04-17    NaT                74.0          Died        yes   Y     1.0-C5  NaT                2020-04-01   2c      died other FGD                yes            pT2N2cMx         3568        3568           no          2       1.0 C5       Tumour 0.0   NaN                  74         2010-03-04   NaN  /mnt/b/Google_Drive/PhD/Project with Janet/Kohl... m        m        44 days  2c 2  no           no         floor of mouth NaN                4a    1.0                ...   \nFalse False      False 6      False False False H    /mnt/b/Google_Drive/PhD/Project with Janet/Labe... 3585    E11    E11    oral tongue              Other      NaT           NaT                68.0          Alive       no    N     1.0-E11 2015-05-06         2019-05-16   1       alive      FG                 no             pT2N1            3585        3585           no          2       1.0 E11      Tumour NaN   non-cohesive         68         2010-05-13   mod  /mnt/b/Google_Drive/PhD/Project with Janet/Kohl... m        m        NaT      1  2  yes          no         tongue         NaN                3     60.0               ...   \nTrue  True       False 1      False False False I    /mnt/b/Google_Drive/PhD/Project with Janet/Labe... 3485    G2     G2     oral tongue              DOD        2009-10-27    2009-09-30         74.0          Died        yes   Y     1.0-G2  NaT                NaT          2b      DOD        CBarry             yes            pT2N2bMx         3485        3485           yes         2       1.0 G2       Tumour 0.0   dyscohesive type 3   74         2009-02-02   mod  /mnt/b/Google_Drive/PhD/Project with Janet/Kohl... NaN      m        267 days 2b 2  yes          yes        tongue         Local only         4     9.0                ...   \nFalse False      False 6      False False False I    /mnt/b/Google_Drive/PhD/Project with Janet/Labe... 3271    A10    A10    FOM                      Other      NaT           2010-07-23         59.0          Alive       yes   Y     1.0-A10 2010-07-23         2020-04-01   2b      alive      FGD                no             pT4N2bM0         3271        3271           yes         4       1.0 A10      Tumour NaN   poorly cohesive      59         2006-09-16   mod  /mnt/b/Google_Drive/PhD/Project with Janet/Kohl... m        m        NaT      2b 4  yes          yes        floor of mouth lung mets          4a    46.0               ...   \n\n                                                                                                                                                                                                                                                                                                                                                                                                                                                                                                                                                                                                                                                           1762.0  \\\n1year 1yeardeath 2year 2years 3year 4year 5year ASMA Annotation_loc                                     Case ID Core_x Core_y Corrected Site AJCC/UICC DODvsAlive Date of death Date of recurrence Diagnosis Age DiedvsAlive ECS_x ECS_y ID      Last seen/reviewed Last updated N stage OUTCOME    OUTCOME.updated by Overall Death  Pathogical Stage Patient nu  Patient_Number Recurrence? T stage TMA TMA site Tissue Years advancing front type age @ diag date of diag diff envi_loc                                           gender_x gender_y lifespan pN pT radiotherapy recurrence site           site of recurrence stage survival (months)             \nFalse False      False 6      False False False I    /mnt/b/Google_Drive/PhD/Project with Janet/Labe... 3261    D10    D10    other                    Other      NaT           2008-11-17         56.0          Alive       no    N     1.0-D10 2019-08-08         2020-05-11   0       alive      FGD                no             pT4aN0M0         3261        3261           yes         4a      1.0 D10      Tumour NaN   cords/islands        56         2006-08-14   mod  /mnt/b/Google_Drive/PhD/Project with Janet/Kohl... f        f        NaT      0  4a yes          yes        other          local              4a    135.0              0.009589   \nTrue  True       False 1      False False False H    /mnt/b/Google_Drive/PhD/Project with Janet/Labe... 3568    C5     C5     FOM                      Other      2010-04-17    NaT                74.0          Died        yes   Y     1.0-C5  NaT                2020-04-01   2c      died other FGD                yes            pT2N2cMx         3568        3568           no          2       1.0 C5       Tumour 0.0   NaN                  74         2010-03-04   NaN  /mnt/b/Google_Drive/PhD/Project with Janet/Kohl... m        m        44 days  2c 2  no           no         floor of mouth NaN                4a    1.0               -0.278590   \nFalse False      False 6      False False False H    /mnt/b/Google_Drive/PhD/Project with Janet/Labe... 3585    E11    E11    oral tongue              Other      NaT           NaT                68.0          Alive       no    N     1.0-E11 2015-05-06         2019-05-16   1       alive      FG                 no             pT2N1            3585        3585           no          2       1.0 E11      Tumour NaN   non-cohesive         68         2010-05-13   mod  /mnt/b/Google_Drive/PhD/Project with Janet/Kohl... m        m        NaT      1  2  yes          no         tongue         NaN                3     60.0               0.048949   \nTrue  True       False 1      False False False I    /mnt/b/Google_Drive/PhD/Project with Janet/Labe... 3485    G2     G2     oral tongue              DOD        2009-10-27    2009-09-30         74.0          Died        yes   Y     1.0-G2  NaT                NaT          2b      DOD        CBarry             yes            pT2N2bMx         3485        3485           yes         2       1.0 G2       Tumour 0.0   dyscohesive type 3   74         2009-02-02   mod  /mnt/b/Google_Drive/PhD/Project with Janet/Kohl... NaN      m        267 days 2b 2  yes          yes        tongue         Local only         4     9.0                0.028070   \nFalse False      False 6      False False False I    /mnt/b/Google_Drive/PhD/Project with Janet/Labe... 3271    A10    A10    FOM                      Other      NaT           2010-07-23         59.0          Alive       yes   Y     1.0-A10 2010-07-23         2020-04-01   2b      alive      FGD                no             pT4N2bM0         3271        3271           yes         4       1.0 A10      Tumour NaN   poorly cohesive      59         2006-09-16   mod  /mnt/b/Google_Drive/PhD/Project with Janet/Kohl... m        m        NaT      2b 4  yes          yes        floor of mouth lung mets          4a    46.0               0.017081   \n\n                                                                                                                                                                                                                                                                                                                                                                                                                                                                                                                                                                                                                                                           1766.0  \\\n1year 1yeardeath 2year 2years 3year 4year 5year ASMA Annotation_loc                                     Case ID Core_x Core_y Corrected Site AJCC/UICC DODvsAlive Date of death Date of recurrence Diagnosis Age DiedvsAlive ECS_x ECS_y ID      Last seen/reviewed Last updated N stage OUTCOME    OUTCOME.updated by Overall Death  Pathogical Stage Patient nu  Patient_Number Recurrence? T stage TMA TMA site Tissue Years advancing front type age @ diag date of diag diff envi_loc                                           gender_x gender_y lifespan pN pT radiotherapy recurrence site           site of recurrence stage survival (months)             \nFalse False      False 6      False False False I    /mnt/b/Google_Drive/PhD/Project with Janet/Labe... 3261    D10    D10    other                    Other      NaT           2008-11-17         56.0          Alive       no    N     1.0-D10 2019-08-08         2020-05-11   0       alive      FGD                no             pT4aN0M0         3261        3261           yes         4a      1.0 D10      Tumour NaN   cords/islands        56         2006-08-14   mod  /mnt/b/Google_Drive/PhD/Project with Janet/Kohl... f        f        NaT      0  4a yes          yes        other          local              4a    135.0              0.009562   \nTrue  True       False 1      False False False H    /mnt/b/Google_Drive/PhD/Project with Janet/Labe... 3568    C5     C5     FOM                      Other      2010-04-17    NaT                74.0          Died        yes   Y     1.0-C5  NaT                2020-04-01   2c      died other FGD                yes            pT2N2cMx         3568        3568           no          2       1.0 C5       Tumour 0.0   NaN                  74         2010-03-04   NaN  /mnt/b/Google_Drive/PhD/Project with Janet/Kohl... m        m        44 days  2c 2  no           no         floor of mouth NaN                4a    1.0               -0.278038   \nFalse False      False 6      False False False H    /mnt/b/Google_Drive/PhD/Project with Janet/Labe... 3585    E11    E11    oral tongue              Other      NaT           NaT                68.0          Alive       no    N     1.0-E11 2015-05-06         2019-05-16   1       alive      FG                 no             pT2N1            3585        3585           no          2       1.0 E11      Tumour NaN   non-cohesive         68         2010-05-13   mod  /mnt/b/Google_Drive/PhD/Project with Janet/Kohl... m        m        NaT      1  2  yes          no         tongue         NaN                3     60.0               0.048368   \nTrue  True       False 1      False False False I    /mnt/b/Google_Drive/PhD/Project with Janet/Labe... 3485    G2     G2     oral tongue              DOD        2009-10-27    2009-09-30         74.0          Died        yes   Y     1.0-G2  NaT                NaT          2b      DOD        CBarry             yes            pT2N2bMx         3485        3485           yes         2       1.0 G2       Tumour 0.0   dyscohesive type 3   74         2009-02-02   mod  /mnt/b/Google_Drive/PhD/Project with Janet/Kohl... NaN      m        267 days 2b 2  yes          yes        tongue         Local only         4     9.0                0.027981   \nFalse False      False 6      False False False I    /mnt/b/Google_Drive/PhD/Project with Janet/Labe... 3271    A10    A10    FOM                      Other      NaT           2010-07-23         59.0          Alive       yes   Y     1.0-A10 2010-07-23         2020-04-01   2b      alive      FGD                no             pT4N2bM0         3271        3271           yes         4       1.0 A10      Tumour NaN   poorly cohesive      59         2006-09-16   mod  /mnt/b/Google_Drive/PhD/Project with Janet/Kohl... m        m        NaT      2b 4  yes          yes        floor of mouth lung mets          4a    46.0               0.016795   \n\n                                                                                                                                                                                                                                                                                                                                                                                                                                                                                                                                                                                                                                                           1770.0  \\\n1year 1yeardeath 2year 2years 3year 4year 5year ASMA Annotation_loc                                     Case ID Core_x Core_y Corrected Site AJCC/UICC DODvsAlive Date of death Date of recurrence Diagnosis Age DiedvsAlive ECS_x ECS_y ID      Last seen/reviewed Last updated N stage OUTCOME    OUTCOME.updated by Overall Death  Pathogical Stage Patient nu  Patient_Number Recurrence? T stage TMA TMA site Tissue Years advancing front type age @ diag date of diag diff envi_loc                                           gender_x gender_y lifespan pN pT radiotherapy recurrence site           site of recurrence stage survival (months)             \nFalse False      False 6      False False False I    /mnt/b/Google_Drive/PhD/Project with Janet/Labe... 3261    D10    D10    other                    Other      NaT           2008-11-17         56.0          Alive       no    N     1.0-D10 2019-08-08         2020-05-11   0       alive      FGD                no             pT4aN0M0         3261        3261           yes         4a      1.0 D10      Tumour NaN   cords/islands        56         2006-08-14   mod  /mnt/b/Google_Drive/PhD/Project with Janet/Kohl... f        f        NaT      0  4a yes          yes        other          local              4a    135.0              0.009926   \nTrue  True       False 1      False False False H    /mnt/b/Google_Drive/PhD/Project with Janet/Labe... 3568    C5     C5     FOM                      Other      2010-04-17    NaT                74.0          Died        yes   Y     1.0-C5  NaT                2020-04-01   2c      died other FGD                yes            pT2N2cMx         3568        3568           no          2       1.0 C5       Tumour 0.0   NaN                  74         2010-03-04   NaN  /mnt/b/Google_Drive/PhD/Project with Janet/Kohl... m        m        44 days  2c 2  no           no         floor of mouth NaN                4a    1.0               -0.277599   \nFalse False      False 6      False False False H    /mnt/b/Google_Drive/PhD/Project with Janet/Labe... 3585    E11    E11    oral tongue              Other      NaT           NaT                68.0          Alive       no    N     1.0-E11 2015-05-06         2019-05-16   1       alive      FG                 no             pT2N1            3585        3585           no          2       1.0 E11      Tumour NaN   non-cohesive         68         2010-05-13   mod  /mnt/b/Google_Drive/PhD/Project with Janet/Kohl... m        m        NaT      1  2  yes          no         tongue         NaN                3     60.0               0.047841   \nTrue  True       False 1      False False False I    /mnt/b/Google_Drive/PhD/Project with Janet/Labe... 3485    G2     G2     oral tongue              DOD        2009-10-27    2009-09-30         74.0          Died        yes   Y     1.0-G2  NaT                NaT          2b      DOD        CBarry             yes            pT2N2bMx         3485        3485           yes         2       1.0 G2       Tumour 0.0   dyscohesive type 3   74         2009-02-02   mod  /mnt/b/Google_Drive/PhD/Project with Janet/Kohl... NaN      m        267 days 2b 2  yes          yes        tongue         Local only         4     9.0                0.028012   \nFalse False      False 6      False False False I    /mnt/b/Google_Drive/PhD/Project with Janet/Labe... 3271    A10    A10    FOM                      Other      NaT           2010-07-23         59.0          Alive       yes   Y     1.0-A10 2010-07-23         2020-04-01   2b      alive      FGD                no             pT4N2bM0         3271        3271           yes         4       1.0 A10      Tumour NaN   poorly cohesive      59         2006-09-16   mod  /mnt/b/Google_Drive/PhD/Project with Janet/Kohl... m        m        NaT      2b 4  yes          yes        floor of mouth lung mets          4a    46.0               0.016629   \n\n                                                                                                                                                                                                                                                                                                                                                                                                                                                                                                                                                                                                                                                           1774.0  \\\n1year 1yeardeath 2year 2years 3year 4year 5year ASMA Annotation_loc                                     Case ID Core_x Core_y Corrected Site AJCC/UICC DODvsAlive Date of death Date of recurrence Diagnosis Age DiedvsAlive ECS_x ECS_y ID      Last seen/reviewed Last updated N stage OUTCOME    OUTCOME.updated by Overall Death  Pathogical Stage Patient nu  Patient_Number Recurrence? T stage TMA TMA site Tissue Years advancing front type age @ diag date of diag diff envi_loc                                           gender_x gender_y lifespan pN pT radiotherapy recurrence site           site of recurrence stage survival (months)             \nFalse False      False 6      False False False I    /mnt/b/Google_Drive/PhD/Project with Janet/Labe... 3261    D10    D10    other                    Other      NaT           2008-11-17         56.0          Alive       no    N     1.0-D10 2019-08-08         2020-05-11   0       alive      FGD                no             pT4aN0M0         3261        3261           yes         4a      1.0 D10      Tumour NaN   cords/islands        56         2006-08-14   mod  /mnt/b/Google_Drive/PhD/Project with Janet/Kohl... f        f        NaT      0  4a yes          yes        other          local              4a    135.0              0.010603   \nTrue  True       False 1      False False False H    /mnt/b/Google_Drive/PhD/Project with Janet/Labe... 3568    C5     C5     FOM                      Other      2010-04-17    NaT                74.0          Died        yes   Y     1.0-C5  NaT                2020-04-01   2c      died other FGD                yes            pT2N2cMx         3568        3568           no          2       1.0 C5       Tumour 0.0   NaN                  74         2010-03-04   NaN  /mnt/b/Google_Drive/PhD/Project with Janet/Kohl... m        m        44 days  2c 2  no           no         floor of mouth NaN                4a    1.0               -0.277013   \nFalse False      False 6      False False False H    /mnt/b/Google_Drive/PhD/Project with Janet/Labe... 3585    E11    E11    oral tongue              Other      NaT           NaT                68.0          Alive       no    N     1.0-E11 2015-05-06         2019-05-16   1       alive      FG                 no             pT2N1            3585        3585           no          2       1.0 E11      Tumour NaN   non-cohesive         68         2010-05-13   mod  /mnt/b/Google_Drive/PhD/Project with Janet/Kohl... m        m        NaT      1  2  yes          no         tongue         NaN                3     60.0               0.047349   \nTrue  True       False 1      False False False I    /mnt/b/Google_Drive/PhD/Project with Janet/Labe... 3485    G2     G2     oral tongue              DOD        2009-10-27    2009-09-30         74.0          Died        yes   Y     1.0-G2  NaT                NaT          2b      DOD        CBarry             yes            pT2N2bMx         3485        3485           yes         2       1.0 G2       Tumour 0.0   dyscohesive type 3   74         2009-02-02   mod  /mnt/b/Google_Drive/PhD/Project with Janet/Kohl... NaN      m        267 days 2b 2  yes          yes        tongue         Local only         4     9.0                0.028011   \nFalse False      False 6      False False False I    /mnt/b/Google_Drive/PhD/Project with Janet/Labe... 3271    A10    A10    FOM                      Other      NaT           2010-07-23         59.0          Alive       yes   Y     1.0-A10 2010-07-23         2020-04-01   2b      alive      FGD                no             pT4N2bM0         3271        3271           yes         4       1.0 A10      Tumour NaN   poorly cohesive      59         2006-09-16   mod  /mnt/b/Google_Drive/PhD/Project with Janet/Kohl... m        m        NaT      2b 4  yes          yes        floor of mouth lung mets          4a    46.0               0.016504   \n\n                                                                                                                                                                                                                                                                                                                                                                                                                                                                                                                                                                                                                                                           1778.0  \\\n1year 1yeardeath 2year 2years 3year 4year 5year ASMA Annotation_loc                                     Case ID Core_x Core_y Corrected Site AJCC/UICC DODvsAlive Date of death Date of recurrence Diagnosis Age DiedvsAlive ECS_x ECS_y ID      Last seen/reviewed Last updated N stage OUTCOME    OUTCOME.updated by Overall Death  Pathogical Stage Patient nu  Patient_Number Recurrence? T stage TMA TMA site Tissue Years advancing front type age @ diag date of diag diff envi_loc                                           gender_x gender_y lifespan pN pT radiotherapy recurrence site           site of recurrence stage survival (months)             \nFalse False      False 6      False False False I    /mnt/b/Google_Drive/PhD/Project with Janet/Labe... 3261    D10    D10    other                    Other      NaT           2008-11-17         56.0          Alive       no    N     1.0-D10 2019-08-08         2020-05-11   0       alive      FGD                no             pT4aN0M0         3261        3261           yes         4a      1.0 D10      Tumour NaN   cords/islands        56         2006-08-14   mod  /mnt/b/Google_Drive/PhD/Project with Janet/Kohl... f        f        NaT      0  4a yes          yes        other          local              4a    135.0              0.011194   \nTrue  True       False 1      False False False H    /mnt/b/Google_Drive/PhD/Project with Janet/Labe... 3568    C5     C5     FOM                      Other      2010-04-17    NaT                74.0          Died        yes   Y     1.0-C5  NaT                2020-04-01   2c      died other FGD                yes            pT2N2cMx         3568        3568           no          2       1.0 C5       Tumour 0.0   NaN                  74         2010-03-04   NaN  /mnt/b/Google_Drive/PhD/Project with Janet/Kohl... m        m        44 days  2c 2  no           no         floor of mouth NaN                4a    1.0               -0.277076   \nFalse False      False 6      False False False H    /mnt/b/Google_Drive/PhD/Project with Janet/Labe... 3585    E11    E11    oral tongue              Other      NaT           NaT                68.0          Alive       no    N     1.0-E11 2015-05-06         2019-05-16   1       alive      FG                 no             pT2N1            3585        3585           no          2       1.0 E11      Tumour NaN   non-cohesive         68         2010-05-13   mod  /mnt/b/Google_Drive/PhD/Project with Janet/Kohl... m        m        NaT      1  2  yes          no         tongue         NaN                3     60.0               0.046861   \nTrue  True       False 1      False False False I    /mnt/b/Google_Drive/PhD/Project with Janet/Labe... 3485    G2     G2     oral tongue              DOD        2009-10-27    2009-09-30         74.0          Died        yes   Y     1.0-G2  NaT                NaT          2b      DOD        CBarry             yes            pT2N2bMx         3485        3485           yes         2       1.0 G2       Tumour 0.0   dyscohesive type 3   74         2009-02-02   mod  /mnt/b/Google_Drive/PhD/Project with Janet/Kohl... NaN      m        267 days 2b 2  yes          yes        tongue         Local only         4     9.0                0.027842   \nFalse False      False 6      False False False I    /mnt/b/Google_Drive/PhD/Project with Janet/Labe... 3271    A10    A10    FOM                      Other      NaT           2010-07-23         59.0          Alive       yes   Y     1.0-A10 2010-07-23         2020-04-01   2b      alive      FGD                no             pT4N2bM0         3271        3271           yes         4       1.0 A10      Tumour NaN   poorly cohesive      59         2006-09-16   mod  /mnt/b/Google_Drive/PhD/Project with Janet/Kohl... m        m        NaT      2b 4  yes          yes        floor of mouth lung mets          4a    46.0               0.016351   \n\n                                                                                                                                                                                                                                                                                                                                                                                                                                                                                                                                                                                                                                                           1781.0  \\\n1year 1yeardeath 2year 2years 3year 4year 5year ASMA Annotation_loc                                     Case ID Core_x Core_y Corrected Site AJCC/UICC DODvsAlive Date of death Date of recurrence Diagnosis Age DiedvsAlive ECS_x ECS_y ID      Last seen/reviewed Last updated N stage OUTCOME    OUTCOME.updated by Overall Death  Pathogical Stage Patient nu  Patient_Number Recurrence? T stage TMA TMA site Tissue Years advancing front type age @ diag date of diag diff envi_loc                                           gender_x gender_y lifespan pN pT radiotherapy recurrence site           site of recurrence stage survival (months)             \nFalse False      False 6      False False False I    /mnt/b/Google_Drive/PhD/Project with Janet/Labe... 3261    D10    D10    other                    Other      NaT           2008-11-17         56.0          Alive       no    N     1.0-D10 2019-08-08         2020-05-11   0       alive      FGD                no             pT4aN0M0         3261        3261           yes         4a      1.0 D10      Tumour NaN   cords/islands        56         2006-08-14   mod  /mnt/b/Google_Drive/PhD/Project with Janet/Kohl... f        f        NaT      0  4a yes          yes        other          local              4a    135.0              0.011951   \nTrue  True       False 1      False False False H    /mnt/b/Google_Drive/PhD/Project with Janet/Labe... 3568    C5     C5     FOM                      Other      2010-04-17    NaT                74.0          Died        yes   Y     1.0-C5  NaT                2020-04-01   2c      died other FGD                yes            pT2N2cMx         3568        3568           no          2       1.0 C5       Tumour 0.0   NaN                  74         2010-03-04   NaN  /mnt/b/Google_Drive/PhD/Project with Janet/Kohl... m        m        44 days  2c 2  no           no         floor of mouth NaN                4a    1.0               -0.276265   \nFalse False      False 6      False False False H    /mnt/b/Google_Drive/PhD/Project with Janet/Labe... 3585    E11    E11    oral tongue              Other      NaT           NaT                68.0          Alive       no    N     1.0-E11 2015-05-06         2019-05-16   1       alive      FG                 no             pT2N1            3585        3585           no          2       1.0 E11      Tumour NaN   non-cohesive         68         2010-05-13   mod  /mnt/b/Google_Drive/PhD/Project with Janet/Kohl... m        m        NaT      1  2  yes          no         tongue         NaN                3     60.0               0.046941   \nTrue  True       False 1      False False False I    /mnt/b/Google_Drive/PhD/Project with Janet/Labe... 3485    G2     G2     oral tongue              DOD        2009-10-27    2009-09-30         74.0          Died        yes   Y     1.0-G2  NaT                NaT          2b      DOD        CBarry             yes            pT2N2bMx         3485        3485           yes         2       1.0 G2       Tumour 0.0   dyscohesive type 3   74         2009-02-02   mod  /mnt/b/Google_Drive/PhD/Project with Janet/Kohl... NaN      m        267 days 2b 2  yes          yes        tongue         Local only         4     9.0                0.027617   \nFalse False      False 6      False False False I    /mnt/b/Google_Drive/PhD/Project with Janet/Labe... 3271    A10    A10    FOM                      Other      NaT           2010-07-23         59.0          Alive       yes   Y     1.0-A10 2010-07-23         2020-04-01   2b      alive      FGD                no             pT4N2bM0         3271        3271           yes         4       1.0 A10      Tumour NaN   poorly cohesive      59         2006-09-16   mod  /mnt/b/Google_Drive/PhD/Project with Janet/Kohl... m        m        NaT      2b 4  yes          yes        floor of mouth lung mets          4a    46.0               0.016359   \n\n                                                                                                                                                                                                                                                                                                                                                                                                                                                                                                                                                                                                                                                           1785.0  \\\n1year 1yeardeath 2year 2years 3year 4year 5year ASMA Annotation_loc                                     Case ID Core_x Core_y Corrected Site AJCC/UICC DODvsAlive Date of death Date of recurrence Diagnosis Age DiedvsAlive ECS_x ECS_y ID      Last seen/reviewed Last updated N stage OUTCOME    OUTCOME.updated by Overall Death  Pathogical Stage Patient nu  Patient_Number Recurrence? T stage TMA TMA site Tissue Years advancing front type age @ diag date of diag diff envi_loc                                           gender_x gender_y lifespan pN pT radiotherapy recurrence site           site of recurrence stage survival (months)             \nFalse False      False 6      False False False I    /mnt/b/Google_Drive/PhD/Project with Janet/Labe... 3261    D10    D10    other                    Other      NaT           2008-11-17         56.0          Alive       no    N     1.0-D10 2019-08-08         2020-05-11   0       alive      FGD                no             pT4aN0M0         3261        3261           yes         4a      1.0 D10      Tumour NaN   cords/islands        56         2006-08-14   mod  /mnt/b/Google_Drive/PhD/Project with Janet/Kohl... f        f        NaT      0  4a yes          yes        other          local              4a    135.0              0.012476   \nTrue  True       False 1      False False False H    /mnt/b/Google_Drive/PhD/Project with Janet/Labe... 3568    C5     C5     FOM                      Other      2010-04-17    NaT                74.0          Died        yes   Y     1.0-C5  NaT                2020-04-01   2c      died other FGD                yes            pT2N2cMx         3568        3568           no          2       1.0 C5       Tumour 0.0   NaN                  74         2010-03-04   NaN  /mnt/b/Google_Drive/PhD/Project with Janet/Kohl... m        m        44 days  2c 2  no           no         floor of mouth NaN                4a    1.0               -0.274839   \nFalse False      False 6      False False False H    /mnt/b/Google_Drive/PhD/Project with Janet/Labe... 3585    E11    E11    oral tongue              Other      NaT           NaT                68.0          Alive       no    N     1.0-E11 2015-05-06         2019-05-16   1       alive      FG                 no             pT2N1            3585        3585           no          2       1.0 E11      Tumour NaN   non-cohesive         68         2010-05-13   mod  /mnt/b/Google_Drive/PhD/Project with Janet/Kohl... m        m        NaT      1  2  yes          no         tongue         NaN                3     60.0               0.047528   \nTrue  True       False 1      False False False I    /mnt/b/Google_Drive/PhD/Project with Janet/Labe... 3485    G2     G2     oral tongue              DOD        2009-10-27    2009-09-30         74.0          Died        yes   Y     1.0-G2  NaT                NaT          2b      DOD        CBarry             yes            pT2N2bMx         3485        3485           yes         2       1.0 G2       Tumour 0.0   dyscohesive type 3   74         2009-02-02   mod  /mnt/b/Google_Drive/PhD/Project with Janet/Kohl... NaN      m        267 days 2b 2  yes          yes        tongue         Local only         4     9.0                0.027380   \nFalse False      False 6      False False False I    /mnt/b/Google_Drive/PhD/Project with Janet/Labe... 3271    A10    A10    FOM                      Other      NaT           2010-07-23         59.0          Alive       yes   Y     1.0-A10 2010-07-23         2020-04-01   2b      alive      FGD                no             pT4N2bM0         3271        3271           yes         4       1.0 A10      Tumour NaN   poorly cohesive      59         2006-09-16   mod  /mnt/b/Google_Drive/PhD/Project with Janet/Kohl... m        m        NaT      2b 4  yes          yes        floor of mouth lung mets          4a    46.0               0.016474   \n\n                                                                                                                                                                                                                                                                                                                                                                                                                                                                                                                                                                                                                                                           1789.0  \\\n1year 1yeardeath 2year 2years 3year 4year 5year ASMA Annotation_loc                                     Case ID Core_x Core_y Corrected Site AJCC/UICC DODvsAlive Date of death Date of recurrence Diagnosis Age DiedvsAlive ECS_x ECS_y ID      Last seen/reviewed Last updated N stage OUTCOME    OUTCOME.updated by Overall Death  Pathogical Stage Patient nu  Patient_Number Recurrence? T stage TMA TMA site Tissue Years advancing front type age @ diag date of diag diff envi_loc                                           gender_x gender_y lifespan pN pT radiotherapy recurrence site           site of recurrence stage survival (months)             \nFalse False      False 6      False False False I    /mnt/b/Google_Drive/PhD/Project with Janet/Labe... 3261    D10    D10    other                    Other      NaT           2008-11-17         56.0          Alive       no    N     1.0-D10 2019-08-08         2020-05-11   0       alive      FGD                no             pT4aN0M0         3261        3261           yes         4a      1.0 D10      Tumour NaN   cords/islands        56         2006-08-14   mod  /mnt/b/Google_Drive/PhD/Project with Janet/Kohl... f        f        NaT      0  4a yes          yes        other          local              4a    135.0              0.012913   \nTrue  True       False 1      False False False H    /mnt/b/Google_Drive/PhD/Project with Janet/Labe... 3568    C5     C5     FOM                      Other      2010-04-17    NaT                74.0          Died        yes   Y     1.0-C5  NaT                2020-04-01   2c      died other FGD                yes            pT2N2cMx         3568        3568           no          2       1.0 C5       Tumour 0.0   NaN                  74         2010-03-04   NaN  /mnt/b/Google_Drive/PhD/Project with Janet/Kohl... m        m        44 days  2c 2  no           no         floor of mouth NaN                4a    1.0               -0.272862   \nFalse False      False 6      False False False H    /mnt/b/Google_Drive/PhD/Project with Janet/Labe... 3585    E11    E11    oral tongue              Other      NaT           NaT                68.0          Alive       no    N     1.0-E11 2015-05-06         2019-05-16   1       alive      FG                 no             pT2N1            3585        3585           no          2       1.0 E11      Tumour NaN   non-cohesive         68         2010-05-13   mod  /mnt/b/Google_Drive/PhD/Project with Janet/Kohl... m        m        NaT      1  2  yes          no         tongue         NaN                3     60.0               0.048656   \nTrue  True       False 1      False False False I    /mnt/b/Google_Drive/PhD/Project with Janet/Labe... 3485    G2     G2     oral tongue              DOD        2009-10-27    2009-09-30         74.0          Died        yes   Y     1.0-G2  NaT                NaT          2b      DOD        CBarry             yes            pT2N2bMx         3485        3485           yes         2       1.0 G2       Tumour 0.0   dyscohesive type 3   74         2009-02-02   mod  /mnt/b/Google_Drive/PhD/Project with Janet/Kohl... NaN      m        267 days 2b 2  yes          yes        tongue         Local only         4     9.0                0.027134   \nFalse False      False 6      False False False I    /mnt/b/Google_Drive/PhD/Project with Janet/Labe... 3271    A10    A10    FOM                      Other      NaT           2010-07-23         59.0          Alive       yes   Y     1.0-A10 2010-07-23         2020-04-01   2b      alive      FGD                no             pT4N2bM0         3271        3271           yes         4       1.0 A10      Tumour NaN   poorly cohesive      59         2006-09-16   mod  /mnt/b/Google_Drive/PhD/Project with Janet/Kohl... m        m        NaT      2b 4  yes          yes        floor of mouth lung mets          4a    46.0               0.016522   \n\n                                                                                                                                                                                                                                                                                                                                                                                                                                                                                                                                                                                                                                                           1793.0  \\\n1year 1yeardeath 2year 2years 3year 4year 5year ASMA Annotation_loc                                     Case ID Core_x Core_y Corrected Site AJCC/UICC DODvsAlive Date of death Date of recurrence Diagnosis Age DiedvsAlive ECS_x ECS_y ID      Last seen/reviewed Last updated N stage OUTCOME    OUTCOME.updated by Overall Death  Pathogical Stage Patient nu  Patient_Number Recurrence? T stage TMA TMA site Tissue Years advancing front type age @ diag date of diag diff envi_loc                                           gender_x gender_y lifespan pN pT radiotherapy recurrence site           site of recurrence stage survival (months)             \nFalse False      False 6      False False False I    /mnt/b/Google_Drive/PhD/Project with Janet/Labe... 3261    D10    D10    other                    Other      NaT           2008-11-17         56.0          Alive       no    N     1.0-D10 2019-08-08         2020-05-11   0       alive      FGD                no             pT4aN0M0         3261        3261           yes         4a      1.0 D10      Tumour NaN   cords/islands        56         2006-08-14   mod  /mnt/b/Google_Drive/PhD/Project with Janet/Kohl... f        f        NaT      0  4a yes          yes        other          local              4a    135.0              0.013260   \nTrue  True       False 1      False False False H    /mnt/b/Google_Drive/PhD/Project with Janet/Labe... 3568    C5     C5     FOM                      Other      2010-04-17    NaT                74.0          Died        yes   Y     1.0-C5  NaT                2020-04-01   2c      died other FGD                yes            pT2N2cMx         3568        3568           no          2       1.0 C5       Tumour 0.0   NaN                  74         2010-03-04   NaN  /mnt/b/Google_Drive/PhD/Project with Janet/Kohl... m        m        44 days  2c 2  no           no         floor of mouth NaN                4a    1.0               -0.270506   \nFalse False      False 6      False False False H    /mnt/b/Google_Drive/PhD/Project with Janet/Labe... 3585    E11    E11    oral tongue              Other      NaT           NaT                68.0          Alive       no    N     1.0-E11 2015-05-06         2019-05-16   1       alive      FG                 no             pT2N1            3585        3585           no          2       1.0 E11      Tumour NaN   non-cohesive         68         2010-05-13   mod  /mnt/b/Google_Drive/PhD/Project with Janet/Kohl... m        m        NaT      1  2  yes          no         tongue         NaN                3     60.0               0.049992   \nTrue  True       False 1      False False False I    /mnt/b/Google_Drive/PhD/Project with Janet/Labe... 3485    G2     G2     oral tongue              DOD        2009-10-27    2009-09-30         74.0          Died        yes   Y     1.0-G2  NaT                NaT          2b      DOD        CBarry             yes            pT2N2bMx         3485        3485           yes         2       1.0 G2       Tumour 0.0   dyscohesive type 3   74         2009-02-02   mod  /mnt/b/Google_Drive/PhD/Project with Janet/Kohl... NaN      m        267 days 2b 2  yes          yes        tongue         Local only         4     9.0                0.026847   \nFalse False      False 6      False False False I    /mnt/b/Google_Drive/PhD/Project with Janet/Labe... 3271    A10    A10    FOM                      Other      NaT           2010-07-23         59.0          Alive       yes   Y     1.0-A10 2010-07-23         2020-04-01   2b      alive      FGD                no             pT4N2bM0         3271        3271           yes         4       1.0 A10      Tumour NaN   poorly cohesive      59         2006-09-16   mod  /mnt/b/Google_Drive/PhD/Project with Janet/Kohl... m        m        NaT      2b 4  yes          yes        floor of mouth lung mets          4a    46.0               0.016520   \n\n                                                                                                                                                                                                                                                                                                                                                                                                                                                                                                                                                                                                                                                           1797.0  \n1year 1yeardeath 2year 2years 3year 4year 5year ASMA Annotation_loc                                     Case ID Core_x Core_y Corrected Site AJCC/UICC DODvsAlive Date of death Date of recurrence Diagnosis Age DiedvsAlive ECS_x ECS_y ID      Last seen/reviewed Last updated N stage OUTCOME    OUTCOME.updated by Overall Death  Pathogical Stage Patient nu  Patient_Number Recurrence? T stage TMA TMA site Tissue Years advancing front type age @ diag date of diag diff envi_loc                                           gender_x gender_y lifespan pN pT radiotherapy recurrence site           site of recurrence stage survival (months)            \nFalse False      False 6      False False False I    /mnt/b/Google_Drive/PhD/Project with Janet/Labe... 3261    D10    D10    other                    Other      NaT           2008-11-17         56.0          Alive       no    N     1.0-D10 2019-08-08         2020-05-11   0       alive      FGD                no             pT4aN0M0         3261        3261           yes         4a      1.0 D10      Tumour NaN   cords/islands        56         2006-08-14   mod  /mnt/b/Google_Drive/PhD/Project with Janet/Kohl... f        f        NaT      0  4a yes          yes        other          local              4a    135.0              0.013634  \nTrue  True       False 1      False False False H    /mnt/b/Google_Drive/PhD/Project with Janet/Labe... 3568    C5     C5     FOM                      Other      2010-04-17    NaT                74.0          Died        yes   Y     1.0-C5  NaT                2020-04-01   2c      died other FGD                yes            pT2N2cMx         3568        3568           no          2       1.0 C5       Tumour 0.0   NaN                  74         2010-03-04   NaN  /mnt/b/Google_Drive/PhD/Project with Janet/Kohl... m        m        44 days  2c 2  no           no         floor of mouth NaN                4a    1.0               -0.268150  \nFalse False      False 6      False False False H    /mnt/b/Google_Drive/PhD/Project with Janet/Labe... 3585    E11    E11    oral tongue              Other      NaT           NaT                68.0          Alive       no    N     1.0-E11 2015-05-06         2019-05-16   1       alive      FG                 no             pT2N1            3585        3585           no          2       1.0 E11      Tumour NaN   non-cohesive         68         2010-05-13   mod  /mnt/b/Google_Drive/PhD/Project with Janet/Kohl... m        m        NaT      1  2  yes          no         tongue         NaN                3     60.0               0.051028  \nTrue  True       False 1      False False False I    /mnt/b/Google_Drive/PhD/Project with Janet/Labe... 3485    G2     G2     oral tongue              DOD        2009-10-27    2009-09-30         74.0          Died        yes   Y     1.0-G2  NaT                NaT          2b      DOD        CBarry             yes            pT2N2bMx         3485        3485           yes         2       1.0 G2       Tumour 0.0   dyscohesive type 3   74         2009-02-02   mod  /mnt/b/Google_Drive/PhD/Project with Janet/Kohl... NaN      m        267 days 2b 2  yes          yes        tongue         Local only         4     9.0                0.026569  \nFalse False      False 6      False False False I    /mnt/b/Google_Drive/PhD/Project with Janet/Labe... 3271    A10    A10    FOM                      Other      NaT           2010-07-23         59.0          Alive       yes   Y     1.0-A10 2010-07-23         2020-04-01   2b      alive      FGD                no             pT4N2bM0         3271        3271           yes         4       1.0 A10      Tumour NaN   poorly cohesive      59         2006-09-16   mod  /mnt/b/Google_Drive/PhD/Project with Janet/Kohl... m        m        NaT      2b 4  yes          yes        floor of mouth lung mets          4a    46.0               0.016591  \n\n[5 rows x 169 columns]",
      "text/html": "<div>\n<style scoped>\n    .dataframe tbody tr th:only-of-type {\n        vertical-align: middle;\n    }\n\n    .dataframe tbody tr th {\n        vertical-align: top;\n    }\n\n    .dataframe thead th {\n        text-align: right;\n    }\n</style>\n<table border=\"1\" class=\"dataframe\">\n  <thead>\n    <tr style=\"text-align: right;\">\n      <th></th>\n      <th></th>\n      <th></th>\n      <th></th>\n      <th></th>\n      <th></th>\n      <th></th>\n      <th></th>\n      <th></th>\n      <th></th>\n      <th></th>\n      <th></th>\n      <th></th>\n      <th></th>\n      <th></th>\n      <th></th>\n      <th></th>\n      <th></th>\n      <th></th>\n      <th></th>\n      <th></th>\n      <th></th>\n      <th></th>\n      <th></th>\n      <th></th>\n      <th></th>\n      <th></th>\n      <th></th>\n      <th></th>\n      <th></th>\n      <th></th>\n      <th></th>\n      <th></th>\n      <th></th>\n      <th></th>\n      <th></th>\n      <th></th>\n      <th></th>\n      <th></th>\n      <th></th>\n      <th></th>\n      <th></th>\n      <th></th>\n      <th></th>\n      <th></th>\n      <th></th>\n      <th></th>\n      <th></th>\n      <th></th>\n      <th></th>\n      <th></th>\n      <th></th>\n      <th>998.0</th>\n      <th>1002.0</th>\n      <th>1006.0</th>\n      <th>1010.0</th>\n      <th>1014.0</th>\n      <th>1018.0</th>\n      <th>1022.0</th>\n      <th>1025.0</th>\n      <th>1029.0</th>\n      <th>1033.0</th>\n      <th>...</th>\n      <th>1762.0</th>\n      <th>1766.0</th>\n      <th>1770.0</th>\n      <th>1774.0</th>\n      <th>1778.0</th>\n      <th>1781.0</th>\n      <th>1785.0</th>\n      <th>1789.0</th>\n      <th>1793.0</th>\n      <th>1797.0</th>\n    </tr>\n    <tr>\n      <th>1year</th>\n      <th>1yeardeath</th>\n      <th>2year</th>\n      <th>2years</th>\n      <th>3year</th>\n      <th>4year</th>\n      <th>5year</th>\n      <th>ASMA</th>\n      <th>Annotation_loc</th>\n      <th>Case ID</th>\n      <th>Core_x</th>\n      <th>Core_y</th>\n      <th>Corrected Site AJCC/UICC</th>\n      <th>DODvsAlive</th>\n      <th>Date of death</th>\n      <th>Date of recurrence</th>\n      <th>Diagnosis Age</th>\n      <th>DiedvsAlive</th>\n      <th>ECS_x</th>\n      <th>ECS_y</th>\n      <th>ID</th>\n      <th>Last seen/reviewed</th>\n      <th>Last updated</th>\n      <th>N stage</th>\n      <th>OUTCOME</th>\n      <th>OUTCOME.updated by</th>\n      <th>Overall Death</th>\n      <th>Pathogical Stage</th>\n      <th>Patient nu</th>\n      <th>Patient_Number</th>\n      <th>Recurrence?</th>\n      <th>T stage</th>\n      <th>TMA</th>\n      <th>TMA site</th>\n      <th>Tissue</th>\n      <th>Years</th>\n      <th>advancing front type</th>\n      <th>age @ diag</th>\n      <th>date of diag</th>\n      <th>diff</th>\n      <th>envi_loc</th>\n      <th>gender_x</th>\n      <th>gender_y</th>\n      <th>lifespan</th>\n      <th>pN</th>\n      <th>pT</th>\n      <th>radiotherapy</th>\n      <th>recurrence</th>\n      <th>site</th>\n      <th>site of recurrence</th>\n      <th>stage</th>\n      <th>survival (months)</th>\n      <th></th>\n      <th></th>\n      <th></th>\n      <th></th>\n      <th></th>\n      <th></th>\n      <th></th>\n      <th></th>\n      <th></th>\n      <th></th>\n      <th></th>\n      <th></th>\n      <th></th>\n      <th></th>\n      <th></th>\n      <th></th>\n      <th></th>\n      <th></th>\n      <th></th>\n      <th></th>\n      <th></th>\n    </tr>\n  </thead>\n  <tbody>\n    <tr>\n      <th>False</th>\n      <th>False</th>\n      <th>False</th>\n      <th>6</th>\n      <th>False</th>\n      <th>False</th>\n      <th>False</th>\n      <th>I</th>\n      <th>/mnt/b/Google_Drive/PhD/Project with Janet/Label_Images/TMA_1/TMA_1.2_D10.png</th>\n      <th>3261</th>\n      <th>D10</th>\n      <th>D10</th>\n      <th>other</th>\n      <th>Other</th>\n      <th>NaT</th>\n      <th>2008-11-17</th>\n      <th>56.0</th>\n      <th>Alive</th>\n      <th>no</th>\n      <th>N</th>\n      <th>1.0-D10</th>\n      <th>2019-08-08</th>\n      <th>2020-05-11</th>\n      <th>0</th>\n      <th>alive</th>\n      <th>FGD</th>\n      <th>no</th>\n      <th>pT4aN0M0</th>\n      <th>3261</th>\n      <th>3261</th>\n      <th>yes</th>\n      <th>4a</th>\n      <th>1.0</th>\n      <th>D10</th>\n      <th>Tumour</th>\n      <th>NaN</th>\n      <th>cords/islands</th>\n      <th>56</th>\n      <th>2006-08-14</th>\n      <th>mod</th>\n      <th>/mnt/b/Google_Drive/PhD/Project with Janet/Kohler_Corrected/TMA_1TMA_1.2_D10.HDR</th>\n      <th>f</th>\n      <th>f</th>\n      <th>NaT</th>\n      <th>0</th>\n      <th>4a</th>\n      <th>yes</th>\n      <th>yes</th>\n      <th>other</th>\n      <th>local</th>\n      <th>4a</th>\n      <th>135.0</th>\n      <td>0.024157</td>\n      <td>0.028441</td>\n      <td>0.032647</td>\n      <td>0.036790</td>\n      <td>0.040882</td>\n      <td>0.044937</td>\n      <td>0.048544</td>\n      <td>0.052691</td>\n      <td>0.056592</td>\n      <td>0.060382</td>\n      <td>...</td>\n      <td>0.009589</td>\n      <td>0.009562</td>\n      <td>0.009926</td>\n      <td>0.010603</td>\n      <td>0.011194</td>\n      <td>0.011951</td>\n      <td>0.012476</td>\n      <td>0.012913</td>\n      <td>0.013260</td>\n      <td>0.013634</td>\n    </tr>\n    <tr>\n      <th>True</th>\n      <th>True</th>\n      <th>False</th>\n      <th>1</th>\n      <th>False</th>\n      <th>False</th>\n      <th>False</th>\n      <th>H</th>\n      <th>/mnt/b/Google_Drive/PhD/Project with Janet/Label_Images/TMA_1/TMA_1.1_C5.png</th>\n      <th>3568</th>\n      <th>C5</th>\n      <th>C5</th>\n      <th>FOM</th>\n      <th>Other</th>\n      <th>2010-04-17</th>\n      <th>NaT</th>\n      <th>74.0</th>\n      <th>Died</th>\n      <th>yes</th>\n      <th>Y</th>\n      <th>1.0-C5</th>\n      <th>NaT</th>\n      <th>2020-04-01</th>\n      <th>2c</th>\n      <th>died other</th>\n      <th>FGD</th>\n      <th>yes</th>\n      <th>pT2N2cMx</th>\n      <th>3568</th>\n      <th>3568</th>\n      <th>no</th>\n      <th>2</th>\n      <th>1.0</th>\n      <th>C5</th>\n      <th>Tumour</th>\n      <th>0.0</th>\n      <th>NaN</th>\n      <th>74</th>\n      <th>2010-03-04</th>\n      <th>NaN</th>\n      <th>/mnt/b/Google_Drive/PhD/Project with Janet/Kohler_Corrected/TMA_1TMA_1.1_C5.HDR</th>\n      <th>m</th>\n      <th>m</th>\n      <th>44 days</th>\n      <th>2c</th>\n      <th>2</th>\n      <th>no</th>\n      <th>no</th>\n      <th>floor of mouth</th>\n      <th>NaN</th>\n      <th>4a</th>\n      <th>1.0</th>\n      <td>-0.248440</td>\n      <td>-0.238875</td>\n      <td>-0.231567</td>\n      <td>-0.225881</td>\n      <td>-0.221180</td>\n      <td>-0.216830</td>\n      <td>-0.212749</td>\n      <td>-0.205735</td>\n      <td>-0.197345</td>\n      <td>-0.188805</td>\n      <td>...</td>\n      <td>-0.278590</td>\n      <td>-0.278038</td>\n      <td>-0.277599</td>\n      <td>-0.277013</td>\n      <td>-0.277076</td>\n      <td>-0.276265</td>\n      <td>-0.274839</td>\n      <td>-0.272862</td>\n      <td>-0.270506</td>\n      <td>-0.268150</td>\n    </tr>\n    <tr>\n      <th>False</th>\n      <th>False</th>\n      <th>False</th>\n      <th>6</th>\n      <th>False</th>\n      <th>False</th>\n      <th>False</th>\n      <th>H</th>\n      <th>/mnt/b/Google_Drive/PhD/Project with Janet/Label_Images/TMA_1/TMA_1.4_E11.png</th>\n      <th>3585</th>\n      <th>E11</th>\n      <th>E11</th>\n      <th>oral tongue</th>\n      <th>Other</th>\n      <th>NaT</th>\n      <th>NaT</th>\n      <th>68.0</th>\n      <th>Alive</th>\n      <th>no</th>\n      <th>N</th>\n      <th>1.0-E11</th>\n      <th>2015-05-06</th>\n      <th>2019-05-16</th>\n      <th>1</th>\n      <th>alive</th>\n      <th>FG</th>\n      <th>no</th>\n      <th>pT2N1</th>\n      <th>3585</th>\n      <th>3585</th>\n      <th>no</th>\n      <th>2</th>\n      <th>1.0</th>\n      <th>E11</th>\n      <th>Tumour</th>\n      <th>NaN</th>\n      <th>non-cohesive</th>\n      <th>68</th>\n      <th>2010-05-13</th>\n      <th>mod</th>\n      <th>/mnt/b/Google_Drive/PhD/Project with Janet/Kohler_Corrected/TMA_1TMA_1.4_E11.HDR</th>\n      <th>m</th>\n      <th>m</th>\n      <th>NaT</th>\n      <th>1</th>\n      <th>2</th>\n      <th>yes</th>\n      <th>no</th>\n      <th>tongue</th>\n      <th>NaN</th>\n      <th>3</th>\n      <th>60.0</th>\n      <td>0.035776</td>\n      <td>0.039668</td>\n      <td>0.043755</td>\n      <td>0.047868</td>\n      <td>0.051840</td>\n      <td>0.055503</td>\n      <td>0.057988</td>\n      <td>0.060164</td>\n      <td>0.062025</td>\n      <td>0.063404</td>\n      <td>...</td>\n      <td>0.048949</td>\n      <td>0.048368</td>\n      <td>0.047841</td>\n      <td>0.047349</td>\n      <td>0.046861</td>\n      <td>0.046941</td>\n      <td>0.047528</td>\n      <td>0.048656</td>\n      <td>0.049992</td>\n      <td>0.051028</td>\n    </tr>\n    <tr>\n      <th>True</th>\n      <th>True</th>\n      <th>False</th>\n      <th>1</th>\n      <th>False</th>\n      <th>False</th>\n      <th>False</th>\n      <th>I</th>\n      <th>/mnt/b/Google_Drive/PhD/Project with Janet/Label_Images/TMA_1/TMA_1.3_G2.png</th>\n      <th>3485</th>\n      <th>G2</th>\n      <th>G2</th>\n      <th>oral tongue</th>\n      <th>DOD</th>\n      <th>2009-10-27</th>\n      <th>2009-09-30</th>\n      <th>74.0</th>\n      <th>Died</th>\n      <th>yes</th>\n      <th>Y</th>\n      <th>1.0-G2</th>\n      <th>NaT</th>\n      <th>NaT</th>\n      <th>2b</th>\n      <th>DOD</th>\n      <th>CBarry</th>\n      <th>yes</th>\n      <th>pT2N2bMx</th>\n      <th>3485</th>\n      <th>3485</th>\n      <th>yes</th>\n      <th>2</th>\n      <th>1.0</th>\n      <th>G2</th>\n      <th>Tumour</th>\n      <th>0.0</th>\n      <th>dyscohesive type 3</th>\n      <th>74</th>\n      <th>2009-02-02</th>\n      <th>mod</th>\n      <th>/mnt/b/Google_Drive/PhD/Project with Janet/Kohler_Corrected/TMA_1TMA_1.3_G2.HDR</th>\n      <th>NaN</th>\n      <th>m</th>\n      <th>267 days</th>\n      <th>2b</th>\n      <th>2</th>\n      <th>yes</th>\n      <th>yes</th>\n      <th>tongue</th>\n      <th>Local only</th>\n      <th>4</th>\n      <th>9.0</th>\n      <td>0.080664</td>\n      <td>0.079328</td>\n      <td>0.078121</td>\n      <td>0.077043</td>\n      <td>0.076093</td>\n      <td>0.075271</td>\n      <td>0.074492</td>\n      <td>0.073941</td>\n      <td>0.073519</td>\n      <td>0.073197</td>\n      <td>...</td>\n      <td>0.028070</td>\n      <td>0.027981</td>\n      <td>0.028012</td>\n      <td>0.028011</td>\n      <td>0.027842</td>\n      <td>0.027617</td>\n      <td>0.027380</td>\n      <td>0.027134</td>\n      <td>0.026847</td>\n      <td>0.026569</td>\n    </tr>\n    <tr>\n      <th>False</th>\n      <th>False</th>\n      <th>False</th>\n      <th>6</th>\n      <th>False</th>\n      <th>False</th>\n      <th>False</th>\n      <th>I</th>\n      <th>/mnt/b/Google_Drive/PhD/Project with Janet/Label_Images/TMA_1/TMA_1.2_A10.png</th>\n      <th>3271</th>\n      <th>A10</th>\n      <th>A10</th>\n      <th>FOM</th>\n      <th>Other</th>\n      <th>NaT</th>\n      <th>2010-07-23</th>\n      <th>59.0</th>\n      <th>Alive</th>\n      <th>yes</th>\n      <th>Y</th>\n      <th>1.0-A10</th>\n      <th>2010-07-23</th>\n      <th>2020-04-01</th>\n      <th>2b</th>\n      <th>alive</th>\n      <th>FGD</th>\n      <th>no</th>\n      <th>pT4N2bM0</th>\n      <th>3271</th>\n      <th>3271</th>\n      <th>yes</th>\n      <th>4</th>\n      <th>1.0</th>\n      <th>A10</th>\n      <th>Tumour</th>\n      <th>NaN</th>\n      <th>poorly cohesive</th>\n      <th>59</th>\n      <th>2006-09-16</th>\n      <th>mod</th>\n      <th>/mnt/b/Google_Drive/PhD/Project with Janet/Kohler_Corrected/TMA_1TMA_1.2_A10.HDR</th>\n      <th>m</th>\n      <th>m</th>\n      <th>NaT</th>\n      <th>2b</th>\n      <th>4</th>\n      <th>yes</th>\n      <th>yes</th>\n      <th>floor of mouth</th>\n      <th>lung mets</th>\n      <th>4a</th>\n      <th>46.0</th>\n      <td>0.024869</td>\n      <td>0.027725</td>\n      <td>0.029137</td>\n      <td>0.029508</td>\n      <td>0.029237</td>\n      <td>0.028727</td>\n      <td>0.028858</td>\n      <td>0.029821</td>\n      <td>0.030819</td>\n      <td>0.032017</td>\n      <td>...</td>\n      <td>0.017081</td>\n      <td>0.016795</td>\n      <td>0.016629</td>\n      <td>0.016504</td>\n      <td>0.016351</td>\n      <td>0.016359</td>\n      <td>0.016474</td>\n      <td>0.016522</td>\n      <td>0.016520</td>\n      <td>0.016591</td>\n    </tr>\n  </tbody>\n</table>\n<p>5 rows × 169 columns</p>\n</div>"
     },
     "metadata": {},
     "execution_count": 20
    }
   ],
   "source": [
    "total.sample(5)"
   ]
  },
  {
   "cell_type": "code",
   "execution_count": 21,
   "metadata": {},
   "outputs": [
    {
     "output_type": "display_data",
     "data": {
      "text/plain": "<Figure size 432x288 with 1 Axes>",
      "image/svg+xml": "<?xml version=\"1.0\" encoding=\"utf-8\" standalone=\"no\"?>\n<!DOCTYPE svg PUBLIC \"-//W3C//DTD SVG 1.1//EN\"\n  \"http://www.w3.org/Graphics/SVG/1.1/DTD/svg11.dtd\">\n<!-- Created with matplotlib (https://matplotlib.org/) -->\n<svg height=\"262.918125pt\" version=\"1.1\" viewBox=\"0 0 392.14375 262.918125\" width=\"392.14375pt\" xmlns=\"http://www.w3.org/2000/svg\" xmlns:xlink=\"http://www.w3.org/1999/xlink\">\n <defs>\n  <style type=\"text/css\">\n*{stroke-linecap:butt;stroke-linejoin:round;}\n  </style>\n </defs>\n <g id=\"figure_1\">\n  <g id=\"patch_1\">\n   <path d=\"M 0 262.918125 \nL 392.14375 262.918125 \nL 392.14375 0 \nL 0 0 \nz\n\" style=\"fill:none;\"/>\n  </g>\n  <g id=\"axes_1\">\n   <g id=\"patch_2\">\n    <path d=\"M 50.14375 224.64 \nL 384.94375 224.64 \nL 384.94375 7.2 \nL 50.14375 7.2 \nz\n\" style=\"fill:#ffffff;\"/>\n   </g>\n   <g id=\"matplotlib.axis_1\">\n    <g id=\"xtick_1\">\n     <g id=\"line2d_1\">\n      <defs>\n       <path d=\"M 0 0 \nL 0 3.5 \n\" id=\"m03e9a55c4b\" style=\"stroke:#000000;stroke-width:0.8;\"/>\n      </defs>\n      <g>\n       <use style=\"stroke:#000000;stroke-width:0.8;\" x=\"66.123793\" xlink:href=\"#m03e9a55c4b\" y=\"224.64\"/>\n      </g>\n     </g>\n     <g id=\"text_1\">\n      <!-- 1000 -->\n      <defs>\n       <path d=\"M 12.40625 8.296875 \nL 28.515625 8.296875 \nL 28.515625 63.921875 \nL 10.984375 60.40625 \nL 10.984375 69.390625 \nL 28.421875 72.90625 \nL 38.28125 72.90625 \nL 38.28125 8.296875 \nL 54.390625 8.296875 \nL 54.390625 0 \nL 12.40625 0 \nz\n\" id=\"DejaVuSans-49\"/>\n       <path d=\"M 31.78125 66.40625 \nQ 24.171875 66.40625 20.328125 58.90625 \nQ 16.5 51.421875 16.5 36.375 \nQ 16.5 21.390625 20.328125 13.890625 \nQ 24.171875 6.390625 31.78125 6.390625 \nQ 39.453125 6.390625 43.28125 13.890625 \nQ 47.125 21.390625 47.125 36.375 \nQ 47.125 51.421875 43.28125 58.90625 \nQ 39.453125 66.40625 31.78125 66.40625 \nz\nM 31.78125 74.21875 \nQ 44.046875 74.21875 50.515625 64.515625 \nQ 56.984375 54.828125 56.984375 36.375 \nQ 56.984375 17.96875 50.515625 8.265625 \nQ 44.046875 -1.421875 31.78125 -1.421875 \nQ 19.53125 -1.421875 13.0625 8.265625 \nQ 6.59375 17.96875 6.59375 36.375 \nQ 6.59375 54.828125 13.0625 64.515625 \nQ 19.53125 74.21875 31.78125 74.21875 \nz\n\" id=\"DejaVuSans-48\"/>\n      </defs>\n      <g transform=\"translate(53.398793 239.238437)scale(0.1 -0.1)\">\n       <use xlink:href=\"#DejaVuSans-49\"/>\n       <use x=\"63.623047\" xlink:href=\"#DejaVuSans-48\"/>\n       <use x=\"127.246094\" xlink:href=\"#DejaVuSans-48\"/>\n       <use x=\"190.869141\" xlink:href=\"#DejaVuSans-48\"/>\n      </g>\n     </g>\n    </g>\n    <g id=\"xtick_2\">\n     <g id=\"line2d_2\">\n      <g>\n       <use style=\"stroke:#000000;stroke-width:0.8;\" x=\"104.216864\" xlink:href=\"#m03e9a55c4b\" y=\"224.64\"/>\n      </g>\n     </g>\n     <g id=\"text_2\">\n      <!-- 1100 -->\n      <g transform=\"translate(91.491864 239.238437)scale(0.1 -0.1)\">\n       <use xlink:href=\"#DejaVuSans-49\"/>\n       <use x=\"63.623047\" xlink:href=\"#DejaVuSans-49\"/>\n       <use x=\"127.246094\" xlink:href=\"#DejaVuSans-48\"/>\n       <use x=\"190.869141\" xlink:href=\"#DejaVuSans-48\"/>\n      </g>\n     </g>\n    </g>\n    <g id=\"xtick_3\">\n     <g id=\"line2d_3\">\n      <g>\n       <use style=\"stroke:#000000;stroke-width:0.8;\" x=\"142.309935\" xlink:href=\"#m03e9a55c4b\" y=\"224.64\"/>\n      </g>\n     </g>\n     <g id=\"text_3\">\n      <!-- 1200 -->\n      <defs>\n       <path d=\"M 19.1875 8.296875 \nL 53.609375 8.296875 \nL 53.609375 0 \nL 7.328125 0 \nL 7.328125 8.296875 \nQ 12.9375 14.109375 22.625 23.890625 \nQ 32.328125 33.6875 34.8125 36.53125 \nQ 39.546875 41.84375 41.421875 45.53125 \nQ 43.3125 49.21875 43.3125 52.78125 \nQ 43.3125 58.59375 39.234375 62.25 \nQ 35.15625 65.921875 28.609375 65.921875 \nQ 23.96875 65.921875 18.8125 64.3125 \nQ 13.671875 62.703125 7.8125 59.421875 \nL 7.8125 69.390625 \nQ 13.765625 71.78125 18.9375 73 \nQ 24.125 74.21875 28.421875 74.21875 \nQ 39.75 74.21875 46.484375 68.546875 \nQ 53.21875 62.890625 53.21875 53.421875 \nQ 53.21875 48.921875 51.53125 44.890625 \nQ 49.859375 40.875 45.40625 35.40625 \nQ 44.1875 33.984375 37.640625 27.21875 \nQ 31.109375 20.453125 19.1875 8.296875 \nz\n\" id=\"DejaVuSans-50\"/>\n      </defs>\n      <g transform=\"translate(129.584935 239.238437)scale(0.1 -0.1)\">\n       <use xlink:href=\"#DejaVuSans-49\"/>\n       <use x=\"63.623047\" xlink:href=\"#DejaVuSans-50\"/>\n       <use x=\"127.246094\" xlink:href=\"#DejaVuSans-48\"/>\n       <use x=\"190.869141\" xlink:href=\"#DejaVuSans-48\"/>\n      </g>\n     </g>\n    </g>\n    <g id=\"xtick_4\">\n     <g id=\"line2d_4\">\n      <g>\n       <use style=\"stroke:#000000;stroke-width:0.8;\" x=\"180.403006\" xlink:href=\"#m03e9a55c4b\" y=\"224.64\"/>\n      </g>\n     </g>\n     <g id=\"text_4\">\n      <!-- 1300 -->\n      <defs>\n       <path d=\"M 40.578125 39.3125 \nQ 47.65625 37.796875 51.625 33 \nQ 55.609375 28.21875 55.609375 21.1875 \nQ 55.609375 10.40625 48.1875 4.484375 \nQ 40.765625 -1.421875 27.09375 -1.421875 \nQ 22.515625 -1.421875 17.65625 -0.515625 \nQ 12.796875 0.390625 7.625 2.203125 \nL 7.625 11.71875 \nQ 11.71875 9.328125 16.59375 8.109375 \nQ 21.484375 6.890625 26.8125 6.890625 \nQ 36.078125 6.890625 40.9375 10.546875 \nQ 45.796875 14.203125 45.796875 21.1875 \nQ 45.796875 27.640625 41.28125 31.265625 \nQ 36.765625 34.90625 28.71875 34.90625 \nL 20.21875 34.90625 \nL 20.21875 43.015625 \nL 29.109375 43.015625 \nQ 36.375 43.015625 40.234375 45.921875 \nQ 44.09375 48.828125 44.09375 54.296875 \nQ 44.09375 59.90625 40.109375 62.90625 \nQ 36.140625 65.921875 28.71875 65.921875 \nQ 24.65625 65.921875 20.015625 65.03125 \nQ 15.375 64.15625 9.8125 62.3125 \nL 9.8125 71.09375 \nQ 15.4375 72.65625 20.34375 73.4375 \nQ 25.25 74.21875 29.59375 74.21875 \nQ 40.828125 74.21875 47.359375 69.109375 \nQ 53.90625 64.015625 53.90625 55.328125 \nQ 53.90625 49.265625 50.4375 45.09375 \nQ 46.96875 40.921875 40.578125 39.3125 \nz\n\" id=\"DejaVuSans-51\"/>\n      </defs>\n      <g transform=\"translate(167.678006 239.238437)scale(0.1 -0.1)\">\n       <use xlink:href=\"#DejaVuSans-49\"/>\n       <use x=\"63.623047\" xlink:href=\"#DejaVuSans-51\"/>\n       <use x=\"127.246094\" xlink:href=\"#DejaVuSans-48\"/>\n       <use x=\"190.869141\" xlink:href=\"#DejaVuSans-48\"/>\n      </g>\n     </g>\n    </g>\n    <g id=\"xtick_5\">\n     <g id=\"line2d_5\">\n      <g>\n       <use style=\"stroke:#000000;stroke-width:0.8;\" x=\"218.496077\" xlink:href=\"#m03e9a55c4b\" y=\"224.64\"/>\n      </g>\n     </g>\n     <g id=\"text_5\">\n      <!-- 1400 -->\n      <defs>\n       <path d=\"M 37.796875 64.3125 \nL 12.890625 25.390625 \nL 37.796875 25.390625 \nz\nM 35.203125 72.90625 \nL 47.609375 72.90625 \nL 47.609375 25.390625 \nL 58.015625 25.390625 \nL 58.015625 17.1875 \nL 47.609375 17.1875 \nL 47.609375 0 \nL 37.796875 0 \nL 37.796875 17.1875 \nL 4.890625 17.1875 \nL 4.890625 26.703125 \nz\n\" id=\"DejaVuSans-52\"/>\n      </defs>\n      <g transform=\"translate(205.771077 239.238437)scale(0.1 -0.1)\">\n       <use xlink:href=\"#DejaVuSans-49\"/>\n       <use x=\"63.623047\" xlink:href=\"#DejaVuSans-52\"/>\n       <use x=\"127.246094\" xlink:href=\"#DejaVuSans-48\"/>\n       <use x=\"190.869141\" xlink:href=\"#DejaVuSans-48\"/>\n      </g>\n     </g>\n    </g>\n    <g id=\"xtick_6\">\n     <g id=\"line2d_6\">\n      <g>\n       <use style=\"stroke:#000000;stroke-width:0.8;\" x=\"256.589148\" xlink:href=\"#m03e9a55c4b\" y=\"224.64\"/>\n      </g>\n     </g>\n     <g id=\"text_6\">\n      <!-- 1500 -->\n      <defs>\n       <path d=\"M 10.796875 72.90625 \nL 49.515625 72.90625 \nL 49.515625 64.59375 \nL 19.828125 64.59375 \nL 19.828125 46.734375 \nQ 21.96875 47.46875 24.109375 47.828125 \nQ 26.265625 48.1875 28.421875 48.1875 \nQ 40.625 48.1875 47.75 41.5 \nQ 54.890625 34.8125 54.890625 23.390625 \nQ 54.890625 11.625 47.5625 5.09375 \nQ 40.234375 -1.421875 26.90625 -1.421875 \nQ 22.3125 -1.421875 17.546875 -0.640625 \nQ 12.796875 0.140625 7.71875 1.703125 \nL 7.71875 11.625 \nQ 12.109375 9.234375 16.796875 8.0625 \nQ 21.484375 6.890625 26.703125 6.890625 \nQ 35.15625 6.890625 40.078125 11.328125 \nQ 45.015625 15.765625 45.015625 23.390625 \nQ 45.015625 31 40.078125 35.4375 \nQ 35.15625 39.890625 26.703125 39.890625 \nQ 22.75 39.890625 18.8125 39.015625 \nQ 14.890625 38.140625 10.796875 36.28125 \nz\n\" id=\"DejaVuSans-53\"/>\n      </defs>\n      <g transform=\"translate(243.864148 239.238437)scale(0.1 -0.1)\">\n       <use xlink:href=\"#DejaVuSans-49\"/>\n       <use x=\"63.623047\" xlink:href=\"#DejaVuSans-53\"/>\n       <use x=\"127.246094\" xlink:href=\"#DejaVuSans-48\"/>\n       <use x=\"190.869141\" xlink:href=\"#DejaVuSans-48\"/>\n      </g>\n     </g>\n    </g>\n    <g id=\"xtick_7\">\n     <g id=\"line2d_7\">\n      <g>\n       <use style=\"stroke:#000000;stroke-width:0.8;\" x=\"294.682219\" xlink:href=\"#m03e9a55c4b\" y=\"224.64\"/>\n      </g>\n     </g>\n     <g id=\"text_7\">\n      <!-- 1600 -->\n      <defs>\n       <path d=\"M 33.015625 40.375 \nQ 26.375 40.375 22.484375 35.828125 \nQ 18.609375 31.296875 18.609375 23.390625 \nQ 18.609375 15.53125 22.484375 10.953125 \nQ 26.375 6.390625 33.015625 6.390625 \nQ 39.65625 6.390625 43.53125 10.953125 \nQ 47.40625 15.53125 47.40625 23.390625 \nQ 47.40625 31.296875 43.53125 35.828125 \nQ 39.65625 40.375 33.015625 40.375 \nz\nM 52.59375 71.296875 \nL 52.59375 62.3125 \nQ 48.875 64.0625 45.09375 64.984375 \nQ 41.3125 65.921875 37.59375 65.921875 \nQ 27.828125 65.921875 22.671875 59.328125 \nQ 17.53125 52.734375 16.796875 39.40625 \nQ 19.671875 43.65625 24.015625 45.921875 \nQ 28.375 48.1875 33.59375 48.1875 \nQ 44.578125 48.1875 50.953125 41.515625 \nQ 57.328125 34.859375 57.328125 23.390625 \nQ 57.328125 12.15625 50.6875 5.359375 \nQ 44.046875 -1.421875 33.015625 -1.421875 \nQ 20.359375 -1.421875 13.671875 8.265625 \nQ 6.984375 17.96875 6.984375 36.375 \nQ 6.984375 53.65625 15.1875 63.9375 \nQ 23.390625 74.21875 37.203125 74.21875 \nQ 40.921875 74.21875 44.703125 73.484375 \nQ 48.484375 72.75 52.59375 71.296875 \nz\n\" id=\"DejaVuSans-54\"/>\n      </defs>\n      <g transform=\"translate(281.957219 239.238437)scale(0.1 -0.1)\">\n       <use xlink:href=\"#DejaVuSans-49\"/>\n       <use x=\"63.623047\" xlink:href=\"#DejaVuSans-54\"/>\n       <use x=\"127.246094\" xlink:href=\"#DejaVuSans-48\"/>\n       <use x=\"190.869141\" xlink:href=\"#DejaVuSans-48\"/>\n      </g>\n     </g>\n    </g>\n    <g id=\"xtick_8\">\n     <g id=\"line2d_8\">\n      <g>\n       <use style=\"stroke:#000000;stroke-width:0.8;\" x=\"332.775289\" xlink:href=\"#m03e9a55c4b\" y=\"224.64\"/>\n      </g>\n     </g>\n     <g id=\"text_8\">\n      <!-- 1700 -->\n      <defs>\n       <path d=\"M 8.203125 72.90625 \nL 55.078125 72.90625 \nL 55.078125 68.703125 \nL 28.609375 0 \nL 18.3125 0 \nL 43.21875 64.59375 \nL 8.203125 64.59375 \nz\n\" id=\"DejaVuSans-55\"/>\n      </defs>\n      <g transform=\"translate(320.050289 239.238437)scale(0.1 -0.1)\">\n       <use xlink:href=\"#DejaVuSans-49\"/>\n       <use x=\"63.623047\" xlink:href=\"#DejaVuSans-55\"/>\n       <use x=\"127.246094\" xlink:href=\"#DejaVuSans-48\"/>\n       <use x=\"190.869141\" xlink:href=\"#DejaVuSans-48\"/>\n      </g>\n     </g>\n    </g>\n    <g id=\"xtick_9\">\n     <g id=\"line2d_9\">\n      <g>\n       <use style=\"stroke:#000000;stroke-width:0.8;\" x=\"370.86836\" xlink:href=\"#m03e9a55c4b\" y=\"224.64\"/>\n      </g>\n     </g>\n     <g id=\"text_9\">\n      <!-- 1800 -->\n      <defs>\n       <path d=\"M 31.78125 34.625 \nQ 24.75 34.625 20.71875 30.859375 \nQ 16.703125 27.09375 16.703125 20.515625 \nQ 16.703125 13.921875 20.71875 10.15625 \nQ 24.75 6.390625 31.78125 6.390625 \nQ 38.8125 6.390625 42.859375 10.171875 \nQ 46.921875 13.96875 46.921875 20.515625 \nQ 46.921875 27.09375 42.890625 30.859375 \nQ 38.875 34.625 31.78125 34.625 \nz\nM 21.921875 38.8125 \nQ 15.578125 40.375 12.03125 44.71875 \nQ 8.5 49.078125 8.5 55.328125 \nQ 8.5 64.0625 14.71875 69.140625 \nQ 20.953125 74.21875 31.78125 74.21875 \nQ 42.671875 74.21875 48.875 69.140625 \nQ 55.078125 64.0625 55.078125 55.328125 \nQ 55.078125 49.078125 51.53125 44.71875 \nQ 48 40.375 41.703125 38.8125 \nQ 48.828125 37.15625 52.796875 32.3125 \nQ 56.78125 27.484375 56.78125 20.515625 \nQ 56.78125 9.90625 50.3125 4.234375 \nQ 43.84375 -1.421875 31.78125 -1.421875 \nQ 19.734375 -1.421875 13.25 4.234375 \nQ 6.78125 9.90625 6.78125 20.515625 \nQ 6.78125 27.484375 10.78125 32.3125 \nQ 14.796875 37.15625 21.921875 38.8125 \nz\nM 18.3125 54.390625 \nQ 18.3125 48.734375 21.84375 45.5625 \nQ 25.390625 42.390625 31.78125 42.390625 \nQ 38.140625 42.390625 41.71875 45.5625 \nQ 45.3125 48.734375 45.3125 54.390625 \nQ 45.3125 60.0625 41.71875 63.234375 \nQ 38.140625 66.40625 31.78125 66.40625 \nQ 25.390625 66.40625 21.84375 63.234375 \nQ 18.3125 60.0625 18.3125 54.390625 \nz\n\" id=\"DejaVuSans-56\"/>\n      </defs>\n      <g transform=\"translate(358.14336 239.238437)scale(0.1 -0.1)\">\n       <use xlink:href=\"#DejaVuSans-49\"/>\n       <use x=\"63.623047\" xlink:href=\"#DejaVuSans-56\"/>\n       <use x=\"127.246094\" xlink:href=\"#DejaVuSans-48\"/>\n       <use x=\"190.869141\" xlink:href=\"#DejaVuSans-48\"/>\n      </g>\n     </g>\n    </g>\n    <g id=\"text_10\">\n     <!-- Wavenumber $(cm^{-1})$ -->\n     <defs>\n      <path d=\"M 3.328125 72.90625 \nL 13.28125 72.90625 \nL 28.609375 11.28125 \nL 43.890625 72.90625 \nL 54.984375 72.90625 \nL 70.3125 11.28125 \nL 85.59375 72.90625 \nL 95.609375 72.90625 \nL 77.296875 0 \nL 64.890625 0 \nL 49.515625 63.28125 \nL 33.984375 0 \nL 21.578125 0 \nz\n\" id=\"DejaVuSans-87\"/>\n      <path d=\"M 34.28125 27.484375 \nQ 23.390625 27.484375 19.1875 25 \nQ 14.984375 22.515625 14.984375 16.5 \nQ 14.984375 11.71875 18.140625 8.90625 \nQ 21.296875 6.109375 26.703125 6.109375 \nQ 34.1875 6.109375 38.703125 11.40625 \nQ 43.21875 16.703125 43.21875 25.484375 \nL 43.21875 27.484375 \nz\nM 52.203125 31.203125 \nL 52.203125 0 \nL 43.21875 0 \nL 43.21875 8.296875 \nQ 40.140625 3.328125 35.546875 0.953125 \nQ 30.953125 -1.421875 24.3125 -1.421875 \nQ 15.921875 -1.421875 10.953125 3.296875 \nQ 6 8.015625 6 15.921875 \nQ 6 25.140625 12.171875 29.828125 \nQ 18.359375 34.515625 30.609375 34.515625 \nL 43.21875 34.515625 \nL 43.21875 35.40625 \nQ 43.21875 41.609375 39.140625 45 \nQ 35.0625 48.390625 27.6875 48.390625 \nQ 23 48.390625 18.546875 47.265625 \nQ 14.109375 46.140625 10.015625 43.890625 \nL 10.015625 52.203125 \nQ 14.9375 54.109375 19.578125 55.046875 \nQ 24.21875 56 28.609375 56 \nQ 40.484375 56 46.34375 49.84375 \nQ 52.203125 43.703125 52.203125 31.203125 \nz\n\" id=\"DejaVuSans-97\"/>\n      <path d=\"M 2.984375 54.6875 \nL 12.5 54.6875 \nL 29.59375 8.796875 \nL 46.6875 54.6875 \nL 56.203125 54.6875 \nL 35.6875 0 \nL 23.484375 0 \nz\n\" id=\"DejaVuSans-118\"/>\n      <path d=\"M 56.203125 29.59375 \nL 56.203125 25.203125 \nL 14.890625 25.203125 \nQ 15.484375 15.921875 20.484375 11.0625 \nQ 25.484375 6.203125 34.421875 6.203125 \nQ 39.59375 6.203125 44.453125 7.46875 \nQ 49.3125 8.734375 54.109375 11.28125 \nL 54.109375 2.78125 \nQ 49.265625 0.734375 44.1875 -0.34375 \nQ 39.109375 -1.421875 33.890625 -1.421875 \nQ 20.796875 -1.421875 13.15625 6.1875 \nQ 5.515625 13.8125 5.515625 26.8125 \nQ 5.515625 40.234375 12.765625 48.109375 \nQ 20.015625 56 32.328125 56 \nQ 43.359375 56 49.78125 48.890625 \nQ 56.203125 41.796875 56.203125 29.59375 \nz\nM 47.21875 32.234375 \nQ 47.125 39.59375 43.09375 43.984375 \nQ 39.0625 48.390625 32.421875 48.390625 \nQ 24.90625 48.390625 20.390625 44.140625 \nQ 15.875 39.890625 15.1875 32.171875 \nz\n\" id=\"DejaVuSans-101\"/>\n      <path d=\"M 54.890625 33.015625 \nL 54.890625 0 \nL 45.90625 0 \nL 45.90625 32.71875 \nQ 45.90625 40.484375 42.875 44.328125 \nQ 39.84375 48.1875 33.796875 48.1875 \nQ 26.515625 48.1875 22.3125 43.546875 \nQ 18.109375 38.921875 18.109375 30.90625 \nL 18.109375 0 \nL 9.078125 0 \nL 9.078125 54.6875 \nL 18.109375 54.6875 \nL 18.109375 46.1875 \nQ 21.34375 51.125 25.703125 53.5625 \nQ 30.078125 56 35.796875 56 \nQ 45.21875 56 50.046875 50.171875 \nQ 54.890625 44.34375 54.890625 33.015625 \nz\n\" id=\"DejaVuSans-110\"/>\n      <path d=\"M 8.5 21.578125 \nL 8.5 54.6875 \nL 17.484375 54.6875 \nL 17.484375 21.921875 \nQ 17.484375 14.15625 20.5 10.265625 \nQ 23.53125 6.390625 29.59375 6.390625 \nQ 36.859375 6.390625 41.078125 11.03125 \nQ 45.3125 15.671875 45.3125 23.6875 \nL 45.3125 54.6875 \nL 54.296875 54.6875 \nL 54.296875 0 \nL 45.3125 0 \nL 45.3125 8.40625 \nQ 42.046875 3.421875 37.71875 1 \nQ 33.40625 -1.421875 27.6875 -1.421875 \nQ 18.265625 -1.421875 13.375 4.4375 \nQ 8.5 10.296875 8.5 21.578125 \nz\nM 31.109375 56 \nz\n\" id=\"DejaVuSans-117\"/>\n      <path d=\"M 52 44.1875 \nQ 55.375 50.25 60.0625 53.125 \nQ 64.75 56 71.09375 56 \nQ 79.640625 56 84.28125 50.015625 \nQ 88.921875 44.046875 88.921875 33.015625 \nL 88.921875 0 \nL 79.890625 0 \nL 79.890625 32.71875 \nQ 79.890625 40.578125 77.09375 44.375 \nQ 74.3125 48.1875 68.609375 48.1875 \nQ 61.625 48.1875 57.5625 43.546875 \nQ 53.515625 38.921875 53.515625 30.90625 \nL 53.515625 0 \nL 44.484375 0 \nL 44.484375 32.71875 \nQ 44.484375 40.625 41.703125 44.40625 \nQ 38.921875 48.1875 33.109375 48.1875 \nQ 26.21875 48.1875 22.15625 43.53125 \nQ 18.109375 38.875 18.109375 30.90625 \nL 18.109375 0 \nL 9.078125 0 \nL 9.078125 54.6875 \nL 18.109375 54.6875 \nL 18.109375 46.1875 \nQ 21.1875 51.21875 25.484375 53.609375 \nQ 29.78125 56 35.6875 56 \nQ 41.65625 56 45.828125 52.96875 \nQ 50 49.953125 52 44.1875 \nz\n\" id=\"DejaVuSans-109\"/>\n      <path d=\"M 48.6875 27.296875 \nQ 48.6875 37.203125 44.609375 42.84375 \nQ 40.53125 48.484375 33.40625 48.484375 \nQ 26.265625 48.484375 22.1875 42.84375 \nQ 18.109375 37.203125 18.109375 27.296875 \nQ 18.109375 17.390625 22.1875 11.75 \nQ 26.265625 6.109375 33.40625 6.109375 \nQ 40.53125 6.109375 44.609375 11.75 \nQ 48.6875 17.390625 48.6875 27.296875 \nz\nM 18.109375 46.390625 \nQ 20.953125 51.265625 25.265625 53.625 \nQ 29.59375 56 35.59375 56 \nQ 45.5625 56 51.78125 48.09375 \nQ 58.015625 40.1875 58.015625 27.296875 \nQ 58.015625 14.40625 51.78125 6.484375 \nQ 45.5625 -1.421875 35.59375 -1.421875 \nQ 29.59375 -1.421875 25.265625 0.953125 \nQ 20.953125 3.328125 18.109375 8.203125 \nL 18.109375 0 \nL 9.078125 0 \nL 9.078125 75.984375 \nL 18.109375 75.984375 \nz\n\" id=\"DejaVuSans-98\"/>\n      <path d=\"M 41.109375 46.296875 \nQ 39.59375 47.171875 37.8125 47.578125 \nQ 36.03125 48 33.890625 48 \nQ 26.265625 48 22.1875 43.046875 \nQ 18.109375 38.09375 18.109375 28.8125 \nL 18.109375 0 \nL 9.078125 0 \nL 9.078125 54.6875 \nL 18.109375 54.6875 \nL 18.109375 46.1875 \nQ 20.953125 51.171875 25.484375 53.578125 \nQ 30.03125 56 36.53125 56 \nQ 37.453125 56 38.578125 55.875 \nQ 39.703125 55.765625 41.0625 55.515625 \nz\n\" id=\"DejaVuSans-114\"/>\n      <path id=\"DejaVuSans-32\"/>\n      <path d=\"M 31 75.875 \nQ 24.46875 64.65625 21.28125 53.65625 \nQ 18.109375 42.671875 18.109375 31.390625 \nQ 18.109375 20.125 21.3125 9.0625 \nQ 24.515625 -2 31 -13.1875 \nL 23.1875 -13.1875 \nQ 15.875 -1.703125 12.234375 9.375 \nQ 8.59375 20.453125 8.59375 31.390625 \nQ 8.59375 42.28125 12.203125 53.3125 \nQ 15.828125 64.359375 23.1875 75.875 \nz\n\" id=\"DejaVuSans-40\"/>\n      <path d=\"M 53.609375 52.59375 \nL 51.8125 43.703125 \nQ 48.578125 46.046875 44.9375 47.21875 \nQ 41.3125 48.390625 37.40625 48.390625 \nQ 33.109375 48.390625 29.21875 46.875 \nQ 25.34375 45.359375 22.703125 42.578125 \nQ 18.5 38.328125 16.203125 32.609375 \nQ 13.921875 26.90625 13.921875 20.796875 \nQ 13.921875 13.421875 17.609375 9.8125 \nQ 21.296875 6.203125 28.8125 6.203125 \nQ 32.515625 6.203125 36.6875 7.328125 \nQ 40.875 8.453125 45.40625 10.6875 \nL 43.703125 1.8125 \nQ 39.796875 0.203125 35.671875 -0.609375 \nQ 31.546875 -1.421875 27.203125 -1.421875 \nQ 16.3125 -1.421875 10.453125 4.015625 \nQ 4.59375 9.46875 4.59375 19.578125 \nQ 4.59375 28.078125 7.640625 35.234375 \nQ 10.6875 42.390625 16.703125 48.09375 \nQ 20.796875 52 26.3125 54 \nQ 31.84375 56 38.375 56 \nQ 42.1875 56 45.9375 55.140625 \nQ 49.703125 54.296875 53.609375 52.59375 \nz\n\" id=\"DejaVuSans-Oblique-99\"/>\n      <path d=\"M 89.796875 33.015625 \nL 83.40625 0 \nL 74.421875 0 \nL 80.71875 32.71875 \nQ 81.109375 34.8125 81.296875 36.328125 \nQ 81.5 37.84375 81.5 38.921875 \nQ 81.5 43.3125 79.046875 45.75 \nQ 76.609375 48.1875 72.21875 48.1875 \nQ 65.671875 48.1875 60.546875 43.28125 \nQ 55.421875 38.375 53.90625 30.515625 \nL 47.90625 0 \nL 38.921875 0 \nL 45.3125 32.71875 \nQ 45.703125 34.515625 45.890625 36.046875 \nQ 46.09375 37.59375 46.09375 38.8125 \nQ 46.09375 43.265625 43.65625 45.71875 \nQ 41.21875 48.1875 36.921875 48.1875 \nQ 30.28125 48.1875 25.140625 43.28125 \nQ 20.015625 38.375 18.5 30.515625 \nL 12.5 0 \nL 3.515625 0 \nL 14.203125 54.6875 \nL 23.1875 54.6875 \nL 21.484375 46.1875 \nQ 25.140625 50.984375 30.046875 53.484375 \nQ 34.96875 56 40.578125 56 \nQ 46.53125 56 50.359375 52.875 \nQ 54.203125 49.75 54.984375 44.1875 \nQ 59.078125 49.953125 64.46875 52.96875 \nQ 69.875 56 75.875 56 \nQ 82.90625 56 86.734375 51.953125 \nQ 90.578125 47.90625 90.578125 40.484375 \nQ 90.578125 38.875 90.375 36.9375 \nQ 90.1875 35.015625 89.796875 33.015625 \nz\n\" id=\"DejaVuSans-Oblique-109\"/>\n      <path d=\"M 10.59375 35.5 \nL 73.1875 35.5 \nL 73.1875 27.203125 \nL 10.59375 27.203125 \nz\n\" id=\"DejaVuSans-8722\"/>\n      <path d=\"M 8.015625 75.875 \nL 15.828125 75.875 \nQ 23.140625 64.359375 26.78125 53.3125 \nQ 30.421875 42.28125 30.421875 31.390625 \nQ 30.421875 20.453125 26.78125 9.375 \nQ 23.140625 -1.703125 15.828125 -13.1875 \nL 8.015625 -13.1875 \nQ 14.5 -2 17.703125 9.0625 \nQ 20.90625 20.125 20.90625 31.390625 \nQ 20.90625 42.671875 17.703125 53.65625 \nQ 14.5 64.65625 8.015625 75.875 \nz\n\" id=\"DejaVuSans-41\"/>\n     </defs>\n     <g transform=\"translate(165.34375 253.638437)scale(0.1 -0.1)\">\n      <use transform=\"translate(0 0.684375)\" xlink:href=\"#DejaVuSans-87\"/>\n      <use transform=\"translate(98.876953 0.684375)\" xlink:href=\"#DejaVuSans-97\"/>\n      <use transform=\"translate(160.15625 0.684375)\" xlink:href=\"#DejaVuSans-118\"/>\n      <use transform=\"translate(219.335938 0.684375)\" xlink:href=\"#DejaVuSans-101\"/>\n      <use transform=\"translate(280.859375 0.684375)\" xlink:href=\"#DejaVuSans-110\"/>\n      <use transform=\"translate(344.238281 0.684375)\" xlink:href=\"#DejaVuSans-117\"/>\n      <use transform=\"translate(407.617188 0.684375)\" xlink:href=\"#DejaVuSans-109\"/>\n      <use transform=\"translate(505.029297 0.684375)\" xlink:href=\"#DejaVuSans-98\"/>\n      <use transform=\"translate(568.505859 0.684375)\" xlink:href=\"#DejaVuSans-101\"/>\n      <use transform=\"translate(630.029297 0.684375)\" xlink:href=\"#DejaVuSans-114\"/>\n      <use transform=\"translate(671.142578 0.684375)\" xlink:href=\"#DejaVuSans-32\"/>\n      <use transform=\"translate(702.929688 0.684375)\" xlink:href=\"#DejaVuSans-40\"/>\n      <use transform=\"translate(741.943359 0.684375)\" xlink:href=\"#DejaVuSans-Oblique-99\"/>\n      <use transform=\"translate(796.923828 0.684375)\" xlink:href=\"#DejaVuSans-Oblique-109\"/>\n      <use transform=\"translate(898.985833 38.965625)scale(0.7)\" xlink:href=\"#DejaVuSans-8722\"/>\n      <use transform=\"translate(957.638177 38.965625)scale(0.7)\" xlink:href=\"#DejaVuSans-49\"/>\n      <use transform=\"translate(1004.908685 0.684375)\" xlink:href=\"#DejaVuSans-41\"/>\n     </g>\n    </g>\n   </g>\n   <g id=\"matplotlib.axis_2\">\n    <g id=\"ytick_1\">\n     <g id=\"line2d_10\">\n      <defs>\n       <path d=\"M 0 0 \nL -3.5 0 \n\" id=\"mb5f2bbdc92\" style=\"stroke:#000000;stroke-width:0.8;\"/>\n      </defs>\n      <g>\n       <use style=\"stroke:#000000;stroke-width:0.8;\" x=\"50.14375\" xlink:href=\"#mb5f2bbdc92\" y=\"211.345276\"/>\n      </g>\n     </g>\n     <g id=\"text_11\">\n      <!-- 0.00 -->\n      <defs>\n       <path d=\"M 10.6875 12.40625 \nL 21 12.40625 \nL 21 0 \nL 10.6875 0 \nz\n\" id=\"DejaVuSans-46\"/>\n      </defs>\n      <g transform=\"translate(20.878125 215.144495)scale(0.1 -0.1)\">\n       <use xlink:href=\"#DejaVuSans-48\"/>\n       <use x=\"63.623047\" xlink:href=\"#DejaVuSans-46\"/>\n       <use x=\"95.410156\" xlink:href=\"#DejaVuSans-48\"/>\n       <use x=\"159.033203\" xlink:href=\"#DejaVuSans-48\"/>\n      </g>\n     </g>\n    </g>\n    <g id=\"ytick_2\">\n     <g id=\"line2d_11\">\n      <g>\n       <use style=\"stroke:#000000;stroke-width:0.8;\" x=\"50.14375\" xlink:href=\"#mb5f2bbdc92\" y=\"183.917938\"/>\n      </g>\n     </g>\n     <g id=\"text_12\">\n      <!-- 0.05 -->\n      <g transform=\"translate(20.878125 187.717157)scale(0.1 -0.1)\">\n       <use xlink:href=\"#DejaVuSans-48\"/>\n       <use x=\"63.623047\" xlink:href=\"#DejaVuSans-46\"/>\n       <use x=\"95.410156\" xlink:href=\"#DejaVuSans-48\"/>\n       <use x=\"159.033203\" xlink:href=\"#DejaVuSans-53\"/>\n      </g>\n     </g>\n    </g>\n    <g id=\"ytick_3\">\n     <g id=\"line2d_12\">\n      <g>\n       <use style=\"stroke:#000000;stroke-width:0.8;\" x=\"50.14375\" xlink:href=\"#mb5f2bbdc92\" y=\"156.4906\"/>\n      </g>\n     </g>\n     <g id=\"text_13\">\n      <!-- 0.10 -->\n      <g transform=\"translate(20.878125 160.289818)scale(0.1 -0.1)\">\n       <use xlink:href=\"#DejaVuSans-48\"/>\n       <use x=\"63.623047\" xlink:href=\"#DejaVuSans-46\"/>\n       <use x=\"95.410156\" xlink:href=\"#DejaVuSans-49\"/>\n       <use x=\"159.033203\" xlink:href=\"#DejaVuSans-48\"/>\n      </g>\n     </g>\n    </g>\n    <g id=\"ytick_4\">\n     <g id=\"line2d_13\">\n      <g>\n       <use style=\"stroke:#000000;stroke-width:0.8;\" x=\"50.14375\" xlink:href=\"#mb5f2bbdc92\" y=\"129.063261\"/>\n      </g>\n     </g>\n     <g id=\"text_14\">\n      <!-- 0.15 -->\n      <g transform=\"translate(20.878125 132.86248)scale(0.1 -0.1)\">\n       <use xlink:href=\"#DejaVuSans-48\"/>\n       <use x=\"63.623047\" xlink:href=\"#DejaVuSans-46\"/>\n       <use x=\"95.410156\" xlink:href=\"#DejaVuSans-49\"/>\n       <use x=\"159.033203\" xlink:href=\"#DejaVuSans-53\"/>\n      </g>\n     </g>\n    </g>\n    <g id=\"ytick_5\">\n     <g id=\"line2d_14\">\n      <g>\n       <use style=\"stroke:#000000;stroke-width:0.8;\" x=\"50.14375\" xlink:href=\"#mb5f2bbdc92\" y=\"101.635923\"/>\n      </g>\n     </g>\n     <g id=\"text_15\">\n      <!-- 0.20 -->\n      <g transform=\"translate(20.878125 105.435142)scale(0.1 -0.1)\">\n       <use xlink:href=\"#DejaVuSans-48\"/>\n       <use x=\"63.623047\" xlink:href=\"#DejaVuSans-46\"/>\n       <use x=\"95.410156\" xlink:href=\"#DejaVuSans-50\"/>\n       <use x=\"159.033203\" xlink:href=\"#DejaVuSans-48\"/>\n      </g>\n     </g>\n    </g>\n    <g id=\"ytick_6\">\n     <g id=\"line2d_15\">\n      <g>\n       <use style=\"stroke:#000000;stroke-width:0.8;\" x=\"50.14375\" xlink:href=\"#mb5f2bbdc92\" y=\"74.208585\"/>\n      </g>\n     </g>\n     <g id=\"text_16\">\n      <!-- 0.25 -->\n      <g transform=\"translate(20.878125 78.007803)scale(0.1 -0.1)\">\n       <use xlink:href=\"#DejaVuSans-48\"/>\n       <use x=\"63.623047\" xlink:href=\"#DejaVuSans-46\"/>\n       <use x=\"95.410156\" xlink:href=\"#DejaVuSans-50\"/>\n       <use x=\"159.033203\" xlink:href=\"#DejaVuSans-53\"/>\n      </g>\n     </g>\n    </g>\n    <g id=\"ytick_7\">\n     <g id=\"line2d_16\">\n      <g>\n       <use style=\"stroke:#000000;stroke-width:0.8;\" x=\"50.14375\" xlink:href=\"#mb5f2bbdc92\" y=\"46.781246\"/>\n      </g>\n     </g>\n     <g id=\"text_17\">\n      <!-- 0.30 -->\n      <g transform=\"translate(20.878125 50.580465)scale(0.1 -0.1)\">\n       <use xlink:href=\"#DejaVuSans-48\"/>\n       <use x=\"63.623047\" xlink:href=\"#DejaVuSans-46\"/>\n       <use x=\"95.410156\" xlink:href=\"#DejaVuSans-51\"/>\n       <use x=\"159.033203\" xlink:href=\"#DejaVuSans-48\"/>\n      </g>\n     </g>\n    </g>\n    <g id=\"ytick_8\">\n     <g id=\"line2d_17\">\n      <g>\n       <use style=\"stroke:#000000;stroke-width:0.8;\" x=\"50.14375\" xlink:href=\"#mb5f2bbdc92\" y=\"19.353908\"/>\n      </g>\n     </g>\n     <g id=\"text_18\">\n      <!-- 0.35 -->\n      <g transform=\"translate(20.878125 23.153127)scale(0.1 -0.1)\">\n       <use xlink:href=\"#DejaVuSans-48\"/>\n       <use x=\"63.623047\" xlink:href=\"#DejaVuSans-46\"/>\n       <use x=\"95.410156\" xlink:href=\"#DejaVuSans-51\"/>\n       <use x=\"159.033203\" xlink:href=\"#DejaVuSans-53\"/>\n      </g>\n     </g>\n    </g>\n    <g id=\"text_19\">\n     <!-- Absorbance (a.u) -->\n     <defs>\n      <path d=\"M 34.1875 63.1875 \nL 20.796875 26.90625 \nL 47.609375 26.90625 \nz\nM 28.609375 72.90625 \nL 39.796875 72.90625 \nL 67.578125 0 \nL 57.328125 0 \nL 50.6875 18.703125 \nL 17.828125 18.703125 \nL 11.1875 0 \nL 0.78125 0 \nz\n\" id=\"DejaVuSans-65\"/>\n      <path d=\"M 44.28125 53.078125 \nL 44.28125 44.578125 \nQ 40.484375 46.53125 36.375 47.5 \nQ 32.28125 48.484375 27.875 48.484375 \nQ 21.1875 48.484375 17.84375 46.4375 \nQ 14.5 44.390625 14.5 40.28125 \nQ 14.5 37.15625 16.890625 35.375 \nQ 19.28125 33.59375 26.515625 31.984375 \nL 29.59375 31.296875 \nQ 39.15625 29.25 43.1875 25.515625 \nQ 47.21875 21.78125 47.21875 15.09375 \nQ 47.21875 7.46875 41.1875 3.015625 \nQ 35.15625 -1.421875 24.609375 -1.421875 \nQ 20.21875 -1.421875 15.453125 -0.5625 \nQ 10.6875 0.296875 5.421875 2 \nL 5.421875 11.28125 \nQ 10.40625 8.6875 15.234375 7.390625 \nQ 20.0625 6.109375 24.8125 6.109375 \nQ 31.15625 6.109375 34.5625 8.28125 \nQ 37.984375 10.453125 37.984375 14.40625 \nQ 37.984375 18.0625 35.515625 20.015625 \nQ 33.0625 21.96875 24.703125 23.78125 \nL 21.578125 24.515625 \nQ 13.234375 26.265625 9.515625 29.90625 \nQ 5.8125 33.546875 5.8125 39.890625 \nQ 5.8125 47.609375 11.28125 51.796875 \nQ 16.75 56 26.8125 56 \nQ 31.78125 56 36.171875 55.265625 \nQ 40.578125 54.546875 44.28125 53.078125 \nz\n\" id=\"DejaVuSans-115\"/>\n      <path d=\"M 30.609375 48.390625 \nQ 23.390625 48.390625 19.1875 42.75 \nQ 14.984375 37.109375 14.984375 27.296875 \nQ 14.984375 17.484375 19.15625 11.84375 \nQ 23.34375 6.203125 30.609375 6.203125 \nQ 37.796875 6.203125 41.984375 11.859375 \nQ 46.1875 17.53125 46.1875 27.296875 \nQ 46.1875 37.015625 41.984375 42.703125 \nQ 37.796875 48.390625 30.609375 48.390625 \nz\nM 30.609375 56 \nQ 42.328125 56 49.015625 48.375 \nQ 55.71875 40.765625 55.71875 27.296875 \nQ 55.71875 13.875 49.015625 6.21875 \nQ 42.328125 -1.421875 30.609375 -1.421875 \nQ 18.84375 -1.421875 12.171875 6.21875 \nQ 5.515625 13.875 5.515625 27.296875 \nQ 5.515625 40.765625 12.171875 48.375 \nQ 18.84375 56 30.609375 56 \nz\n\" id=\"DejaVuSans-111\"/>\n      <path d=\"M 48.78125 52.59375 \nL 48.78125 44.1875 \nQ 44.96875 46.296875 41.140625 47.34375 \nQ 37.3125 48.390625 33.40625 48.390625 \nQ 24.65625 48.390625 19.8125 42.84375 \nQ 14.984375 37.3125 14.984375 27.296875 \nQ 14.984375 17.28125 19.8125 11.734375 \nQ 24.65625 6.203125 33.40625 6.203125 \nQ 37.3125 6.203125 41.140625 7.25 \nQ 44.96875 8.296875 48.78125 10.40625 \nL 48.78125 2.09375 \nQ 45.015625 0.34375 40.984375 -0.53125 \nQ 36.96875 -1.421875 32.421875 -1.421875 \nQ 20.0625 -1.421875 12.78125 6.34375 \nQ 5.515625 14.109375 5.515625 27.296875 \nQ 5.515625 40.671875 12.859375 48.328125 \nQ 20.21875 56 33.015625 56 \nQ 37.15625 56 41.109375 55.140625 \nQ 45.0625 54.296875 48.78125 52.59375 \nz\n\" id=\"DejaVuSans-99\"/>\n     </defs>\n     <g transform=\"translate(14.798438 158.779375)rotate(-90)scale(0.1 -0.1)\">\n      <use xlink:href=\"#DejaVuSans-65\"/>\n      <use x=\"68.408203\" xlink:href=\"#DejaVuSans-98\"/>\n      <use x=\"131.884766\" xlink:href=\"#DejaVuSans-115\"/>\n      <use x=\"183.984375\" xlink:href=\"#DejaVuSans-111\"/>\n      <use x=\"245.166016\" xlink:href=\"#DejaVuSans-114\"/>\n      <use x=\"286.279297\" xlink:href=\"#DejaVuSans-98\"/>\n      <use x=\"349.755859\" xlink:href=\"#DejaVuSans-97\"/>\n      <use x=\"411.035156\" xlink:href=\"#DejaVuSans-110\"/>\n      <use x=\"474.414062\" xlink:href=\"#DejaVuSans-99\"/>\n      <use x=\"529.394531\" xlink:href=\"#DejaVuSans-101\"/>\n      <use x=\"590.917969\" xlink:href=\"#DejaVuSans-32\"/>\n      <use x=\"622.705078\" xlink:href=\"#DejaVuSans-40\"/>\n      <use x=\"661.71875\" xlink:href=\"#DejaVuSans-97\"/>\n      <use x=\"722.998047\" xlink:href=\"#DejaVuSans-46\"/>\n      <use x=\"754.785156\" xlink:href=\"#DejaVuSans-117\"/>\n      <use x=\"818.164062\" xlink:href=\"#DejaVuSans-41\"/>\n     </g>\n    </g>\n   </g>\n   <g id=\"line2d_18\">\n    <path clip-path=\"url(#pe163efa6c0)\" d=\"M 65.361932 186.359419 \nL 68.409377 184.077363 \nL 71.456823 181.352866 \nL 74.504269 178.550275 \nL 75.647061 176.978317 \nL 78.694507 173.991621 \nL 81.741952 171.297325 \nL 83.265675 170.043485 \nL 84.789398 168.977875 \nL 85.93219 167.791463 \nL 88.979636 165.600843 \nL 90.503359 164.626839 \nL 92.027081 163.819801 \nL 93.550804 163.207541 \nL 96.217319 162.832507 \nL 97.741042 162.897764 \nL 100.788488 163.350022 \nL 103.835933 163.820231 \nL 106.502448 164.107199 \nL 109.549894 164.312595 \nL 111.073617 164.624673 \nL 112.59734 165.189271 \nL 114.121063 165.974088 \nL 115.644785 166.902926 \nL 116.787578 167.837695 \nL 118.3113 168.669716 \nL 119.835023 169.298745 \nL 121.358746 169.638047 \nL 122.882469 169.677307 \nL 124.406192 169.494876 \nL 127.072707 168.907718 \nL 128.596429 168.820947 \nL 130.120152 168.939842 \nL 136.215044 169.885981 \nL 137.357836 169.792585 \nL 138.881559 169.363606 \nL 140.405281 168.585953 \nL 141.929004 167.558136 \nL 144.97645 164.974941 \nL 146.500173 163.441792 \nL 147.642965 161.918455 \nL 150.690411 159.05132 \nL 152.214133 157.919697 \nL 153.737856 157.131501 \nL 155.261579 156.753973 \nL 156.785302 156.739366 \nL 157.928094 157.179482 \nL 159.451817 157.951637 \nL 162.499263 160.035782 \nL 165.546708 162.229206 \nL 167.070431 163.129586 \nL 168.213223 163.983551 \nL 171.260669 165.377787 \nL 174.308115 166.352081 \nL 175.831837 166.67853 \nL 178.498352 167.065731 \nL 181.545798 167.607217 \nL 183.069521 168.088321 \nL 184.593244 168.746176 \nL 187.640689 170.301718 \nL 188.783481 171.151571 \nL 191.830927 172.566851 \nL 193.35465 173.106559 \nL 252.017979 166.360468 \nL 253.541702 168.532254 \nL 255.065425 162.54464 \nL 256.589148 154.895389 \nL 258.11287 148.13691 \nL 259.636593 141.9616 \nL 260.779385 136.092181 \nL 263.826831 124.848401 \nL 265.350554 119.999634 \nL 266.874277 116.187991 \nL 269.921722 110.12717 \nL 271.064515 108.210526 \nL 272.588237 108.664182 \nL 274.11196 111.590444 \nL 275.635683 116.168578 \nL 277.159406 121.85445 \nL 280.206852 135.255108 \nL 281.349644 141.556015 \nL 282.873367 146.324162 \nL 284.397089 149.504557 \nL 285.920812 151.710257 \nL 287.444535 153.539803 \nL 288.968258 154.822199 \nL 290.491981 155.419157 \nL 291.634773 155.422137 \nL 293.158496 154.963073 \nL 294.682219 154.056767 \nL 296.205941 152.248277 \nL 297.729664 149.067338 \nL 299.253387 143.992688 \nL 300.77711 136.818562 \nL 301.919902 127.651464 \nL 303.443625 116.653459 \nL 304.967348 104.104391 \nL 309.538516 63.905131 \nL 312.205031 42.732486 \nL 313.728754 36.354997 \nL 315.252477 34.028959 \nL 316.7762 36.065392 \nL 318.299922 41.786543 \nL 319.823645 50.474556 \nL 321.347368 61.446953 \nL 322.49016 73.346246 \nL 331.632497 143.95933 \nL 332.775289 154.57868 \nL 334.299012 164.098346 \nL 335.822735 171.933081 \nL 337.346458 177.578043 \nL 338.870181 181.601615 \nL 340.393904 184.860545 \nL 343.060419 189.426334 \nL 344.584141 190.656762 \nL 347.631587 192.660868 \nL 349.15531 193.420719 \nL 350.679033 193.735344 \nL 352.202756 193.855058 \nL 356.392993 194.832074 \nL 357.916716 194.831888 \nL 363.630677 194.272327 \nL 368.201845 193.5228 \nL 369.725568 193.348046 \nL 369.725568 193.348046 \n\" style=\"fill:none;stroke:#1f77b4;stroke-linecap:square;stroke-width:1.5;\"/>\n   </g>\n   <g id=\"line2d_19\">\n    <path clip-path=\"url(#pe163efa6c0)\" d=\"M 65.361932 202.069608 \nL 66.885655 200.702668 \nL 68.409377 199.103495 \nL 71.456823 195.401757 \nL 72.980546 193.395835 \nL 74.504269 191.600432 \nL 75.647061 189.541553 \nL 78.694507 185.764784 \nL 80.218229 184.079505 \nL 83.265675 181.141709 \nL 84.789398 179.983119 \nL 85.93219 178.722449 \nL 90.503359 175.253484 \nL 92.027081 174.218948 \nL 93.550804 173.343441 \nL 96.217319 172.584924 \nL 97.741042 172.614178 \nL 99.264765 172.911421 \nL 105.359656 174.756665 \nL 106.502448 174.975254 \nL 109.549894 175.361013 \nL 111.073617 175.823526 \nL 112.59734 176.590711 \nL 115.644785 178.799781 \nL 116.787578 179.960454 \nL 118.3113 180.948103 \nL 119.835023 181.650691 \nL 121.358746 182.003903 \nL 122.882469 182.025622 \nL 124.406192 181.843052 \nL 127.072707 181.420473 \nL 128.596429 181.567611 \nL 130.120152 181.986973 \nL 134.691321 183.765528 \nL 136.215044 184.043376 \nL 137.357836 184.057819 \nL 138.881559 183.650041 \nL 140.405281 182.816085 \nL 141.929004 181.689395 \nL 143.452727 180.35085 \nL 144.97645 178.861714 \nL 146.500173 177.157507 \nL 147.642965 175.471746 \nL 150.690411 172.211181 \nL 152.214133 170.873994 \nL 153.737856 169.921717 \nL 155.261579 169.462683 \nL 156.785302 169.450507 \nL 157.928094 170.060867 \nL 159.451817 171.125287 \nL 160.97554 172.497188 \nL 165.546708 177.162506 \nL 167.070431 178.43103 \nL 168.213223 179.627252 \nL 169.736946 180.648651 \nL 171.260669 181.516765 \nL 172.784392 182.230092 \nL 175.831837 183.283381 \nL 177.35556 183.573913 \nL 183.069521 185.544184 \nL 184.593244 186.429791 \nL 187.640689 188.445409 \nL 188.783481 189.534809 \nL 191.830927 191.380395 \nL 193.35465 192.135474 \nL 252.017979 189.352282 \nL 253.541702 191.947826 \nL 255.065425 184.879584 \nL 256.589148 175.835415 \nL 259.636593 159.884662 \nL 260.779385 152.368447 \nL 263.826831 137.894348 \nL 265.350554 131.447413 \nL 266.874277 126.014697 \nL 268.398 121.246641 \nL 271.064515 113.640528 \nL 272.588237 113.100686 \nL 274.11196 115.575269 \nL 275.635683 120.382814 \nL 277.159406 126.961228 \nL 278.683129 134.803904 \nL 280.206852 143.362237 \nL 281.349644 151.374756 \nL 282.873367 157.822398 \nL 284.397089 162.549834 \nL 285.920812 166.044784 \nL 287.444535 168.878312 \nL 288.968258 170.931139 \nL 290.491981 172.082142 \nL 291.634773 172.34823 \nL 293.158496 171.791937 \nL 294.682219 170.363002 \nL 296.205941 167.532952 \nL 297.729664 162.730536 \nL 299.253387 155.375835 \nL 300.77711 145.310293 \nL 301.919902 132.758291 \nL 303.443625 118.137257 \nL 306.491071 85.004668 \nL 309.538516 52.065491 \nL 312.205031 26.593985 \nL 313.728754 19.320888 \nL 315.252477 17.083636 \nL 316.7762 20.23286 \nL 318.299922 28.01271 \nL 319.823645 39.483017 \nL 321.347368 53.607464 \nL 322.49016 68.652107 \nL 330.108774 142.262305 \nL 331.632497 156.18123 \nL 332.775289 168.834259 \nL 334.299012 179.933106 \nL 335.822735 188.951125 \nL 337.346458 195.49972 \nL 338.870181 200.148794 \nL 340.393904 203.781024 \nL 343.060419 208.883034 \nL 344.584141 210.344185 \nL 347.631587 212.589054 \nL 349.15531 213.391115 \nL 350.679033 213.747607 \nL 353.345548 214.190901 \nL 354.869271 214.568806 \nL 356.392993 214.756364 \nL 357.916716 214.688506 \nL 362.487885 214.130618 \nL 368.201845 212.593507 \nL 369.725568 212.233151 \nL 369.725568 212.233151 \n\" style=\"fill:none;stroke:#ff7f0e;stroke-linecap:square;stroke-width:1.5;\"/>\n   </g>\n   <g id=\"patch_3\">\n    <path d=\"M 50.14375 224.64 \nL 50.14375 7.2 \n\" style=\"fill:none;stroke:#000000;stroke-linecap:square;stroke-linejoin:miter;stroke-width:0.8;\"/>\n   </g>\n   <g id=\"patch_4\">\n    <path d=\"M 384.94375 224.64 \nL 384.94375 7.2 \n\" style=\"fill:none;stroke:#000000;stroke-linecap:square;stroke-linejoin:miter;stroke-width:0.8;\"/>\n   </g>\n   <g id=\"patch_5\">\n    <path d=\"M 50.14375 224.64 \nL 384.94375 224.64 \n\" style=\"fill:none;stroke:#000000;stroke-linecap:square;stroke-linejoin:miter;stroke-width:0.8;\"/>\n   </g>\n   <g id=\"patch_6\">\n    <path d=\"M 50.14375 7.2 \nL 384.94375 7.2 \n\" style=\"fill:none;stroke:#000000;stroke-linecap:square;stroke-linejoin:miter;stroke-width:0.8;\"/>\n   </g>\n   <g id=\"legend_1\">\n    <g id=\"patch_7\">\n     <path d=\"M 57.14375 59.234375 \nL 118.529688 59.234375 \nQ 120.529688 59.234375 120.529688 57.234375 \nL 120.529688 14.2 \nQ 120.529688 12.2 118.529688 12.2 \nL 57.14375 12.2 \nQ 55.14375 12.2 55.14375 14.2 \nL 55.14375 57.234375 \nQ 55.14375 59.234375 57.14375 59.234375 \nz\n\" style=\"fill:#ffffff;opacity:0.8;stroke:#cccccc;stroke-linejoin:miter;\"/>\n    </g>\n    <g id=\"text_20\">\n     <!-- 1yeardeath -->\n     <defs>\n      <path d=\"M 32.171875 -5.078125 \nQ 28.375 -14.84375 24.75 -17.8125 \nQ 21.140625 -20.796875 15.09375 -20.796875 \nL 7.90625 -20.796875 \nL 7.90625 -13.28125 \nL 13.1875 -13.28125 \nQ 16.890625 -13.28125 18.9375 -11.515625 \nQ 21 -9.765625 23.484375 -3.21875 \nL 25.09375 0.875 \nL 2.984375 54.6875 \nL 12.5 54.6875 \nL 29.59375 11.921875 \nL 46.6875 54.6875 \nL 56.203125 54.6875 \nz\n\" id=\"DejaVuSans-121\"/>\n      <path d=\"M 45.40625 46.390625 \nL 45.40625 75.984375 \nL 54.390625 75.984375 \nL 54.390625 0 \nL 45.40625 0 \nL 45.40625 8.203125 \nQ 42.578125 3.328125 38.25 0.953125 \nQ 33.9375 -1.421875 27.875 -1.421875 \nQ 17.96875 -1.421875 11.734375 6.484375 \nQ 5.515625 14.40625 5.515625 27.296875 \nQ 5.515625 40.1875 11.734375 48.09375 \nQ 17.96875 56 27.875 56 \nQ 33.9375 56 38.25 53.625 \nQ 42.578125 51.265625 45.40625 46.390625 \nz\nM 14.796875 27.296875 \nQ 14.796875 17.390625 18.875 11.75 \nQ 22.953125 6.109375 30.078125 6.109375 \nQ 37.203125 6.109375 41.296875 11.75 \nQ 45.40625 17.390625 45.40625 27.296875 \nQ 45.40625 37.203125 41.296875 42.84375 \nQ 37.203125 48.484375 30.078125 48.484375 \nQ 22.953125 48.484375 18.875 42.84375 \nQ 14.796875 37.203125 14.796875 27.296875 \nz\n\" id=\"DejaVuSans-100\"/>\n      <path d=\"M 18.3125 70.21875 \nL 18.3125 54.6875 \nL 36.8125 54.6875 \nL 36.8125 47.703125 \nL 18.3125 47.703125 \nL 18.3125 18.015625 \nQ 18.3125 11.328125 20.140625 9.421875 \nQ 21.96875 7.515625 27.59375 7.515625 \nL 36.8125 7.515625 \nL 36.8125 0 \nL 27.59375 0 \nQ 17.1875 0 13.234375 3.875 \nQ 9.28125 7.765625 9.28125 18.015625 \nL 9.28125 47.703125 \nL 2.6875 47.703125 \nL 2.6875 54.6875 \nL 9.28125 54.6875 \nL 9.28125 70.21875 \nz\n\" id=\"DejaVuSans-116\"/>\n      <path d=\"M 54.890625 33.015625 \nL 54.890625 0 \nL 45.90625 0 \nL 45.90625 32.71875 \nQ 45.90625 40.484375 42.875 44.328125 \nQ 39.84375 48.1875 33.796875 48.1875 \nQ 26.515625 48.1875 22.3125 43.546875 \nQ 18.109375 38.921875 18.109375 30.90625 \nL 18.109375 0 \nL 9.078125 0 \nL 9.078125 75.984375 \nL 18.109375 75.984375 \nL 18.109375 46.1875 \nQ 21.34375 51.125 25.703125 53.5625 \nQ 30.078125 56 35.796875 56 \nQ 45.21875 56 50.046875 50.171875 \nQ 54.890625 44.34375 54.890625 33.015625 \nz\n\" id=\"DejaVuSans-104\"/>\n     </defs>\n     <g transform=\"translate(59.14375 23.798438)scale(0.1 -0.1)\">\n      <use xlink:href=\"#DejaVuSans-49\"/>\n      <use x=\"63.623047\" xlink:href=\"#DejaVuSans-121\"/>\n      <use x=\"122.802734\" xlink:href=\"#DejaVuSans-101\"/>\n      <use x=\"184.326172\" xlink:href=\"#DejaVuSans-97\"/>\n      <use x=\"245.605469\" xlink:href=\"#DejaVuSans-114\"/>\n      <use x=\"284.96875\" xlink:href=\"#DejaVuSans-100\"/>\n      <use x=\"348.445312\" xlink:href=\"#DejaVuSans-101\"/>\n      <use x=\"409.96875\" xlink:href=\"#DejaVuSans-97\"/>\n      <use x=\"471.248047\" xlink:href=\"#DejaVuSans-116\"/>\n      <use x=\"510.457031\" xlink:href=\"#DejaVuSans-104\"/>\n     </g>\n    </g>\n    <g id=\"line2d_20\">\n     <path d=\"M 61.282813 34.976562 \nL 81.282813 34.976562 \n\" style=\"fill:none;stroke:#1f77b4;stroke-linecap:square;stroke-width:1.5;\"/>\n    </g>\n    <g id=\"line2d_21\"/>\n    <g id=\"text_21\">\n     <!-- False -->\n     <defs>\n      <path d=\"M 9.8125 72.90625 \nL 51.703125 72.90625 \nL 51.703125 64.59375 \nL 19.671875 64.59375 \nL 19.671875 43.109375 \nL 48.578125 43.109375 \nL 48.578125 34.8125 \nL 19.671875 34.8125 \nL 19.671875 0 \nL 9.8125 0 \nz\n\" id=\"DejaVuSans-70\"/>\n      <path d=\"M 9.421875 75.984375 \nL 18.40625 75.984375 \nL 18.40625 0 \nL 9.421875 0 \nz\n\" id=\"DejaVuSans-108\"/>\n     </defs>\n     <g transform=\"translate(89.282813 38.476562)scale(0.1 -0.1)\">\n      <use xlink:href=\"#DejaVuSans-70\"/>\n      <use x=\"48.394531\" xlink:href=\"#DejaVuSans-97\"/>\n      <use x=\"109.673828\" xlink:href=\"#DejaVuSans-108\"/>\n      <use x=\"137.457031\" xlink:href=\"#DejaVuSans-115\"/>\n      <use x=\"189.556641\" xlink:href=\"#DejaVuSans-101\"/>\n     </g>\n    </g>\n    <g id=\"line2d_22\">\n     <path d=\"M 61.282813 49.654687 \nL 81.282813 49.654687 \n\" style=\"fill:none;stroke:#ff7f0e;stroke-linecap:square;stroke-width:1.5;\"/>\n    </g>\n    <g id=\"line2d_23\"/>\n    <g id=\"text_22\">\n     <!-- True -->\n     <defs>\n      <path d=\"M -0.296875 72.90625 \nL 61.375 72.90625 \nL 61.375 64.59375 \nL 35.5 64.59375 \nL 35.5 0 \nL 25.59375 0 \nL 25.59375 64.59375 \nL -0.296875 64.59375 \nz\n\" id=\"DejaVuSans-84\"/>\n     </defs>\n     <g transform=\"translate(89.282813 53.154687)scale(0.1 -0.1)\">\n      <use xlink:href=\"#DejaVuSans-84\"/>\n      <use x=\"46.333984\" xlink:href=\"#DejaVuSans-114\"/>\n      <use x=\"87.447266\" xlink:href=\"#DejaVuSans-117\"/>\n      <use x=\"150.826172\" xlink:href=\"#DejaVuSans-101\"/>\n     </g>\n    </g>\n   </g>\n  </g>\n </g>\n <defs>\n  <clipPath id=\"pe163efa6c0\">\n   <rect height=\"217.44\" width=\"334.8\" x=\"50.14375\" y=\"7.2\"/>\n  </clipPath>\n </defs>\n</svg>\n",
      "image/png": "[encoded data removed]"
     },
     "metadata": {
      "needs_background": "light"
     }
    }
   ],
   "source": [
    "fig, axes = plt.subplots(nrows = 1, figsize = (6,4), sharex = True)\n",
    "\n",
    "total.groupby(\"1yeardeath\").mean().T.plot(ax = axes)\n",
    "axes.set_xlabel(\"Wavenumber $(cm^{-1})$\")\n",
    "axes.set_ylabel(\"Absorbance (a.u)\")\n",
    "fig.savefig(os.getcwd()+ \"/Plots/Mean_ECS_Spectra.png\", bbox_inches = 'tight')"
   ]
  },
  {
   "cell_type": "code",
   "execution_count": 22,
   "metadata": {},
   "outputs": [],
   "source": [
    "pcapipe = Pipeline([\n",
    "    (\"Normalise spectra\", FunctionTransformer(robust_scale, kw_args = {\"axis\": 1})),\n",
    "    (\"Scaler\", RobustScaler()),\n",
    "    (\"PCA\", PCA())\n",
    "])"
   ]
  },
  {
   "cell_type": "code",
   "execution_count": 23,
   "metadata": {},
   "outputs": [],
   "source": [
    "n = total.reset_index()[\"Patient_Number\"].value_counts().min()\n",
    "total_ = total.groupby(\"Patient_Number\", group_keys=False).apply(lambda g: g.sample(n))"
   ]
  },
  {
   "cell_type": "code",
   "execution_count": 24,
   "metadata": {},
   "outputs": [
    {
     "output_type": "execute_result",
     "data": {
      "text/plain": "    Patient_Number gender date of diag  age @ diag            site pT  pN  \\\n0             3143      m   2004-03-29          58  floor of mouth  4   0   \n1             3167      m   2004-09-30          74  floor of mouth  2   2   \n2             3169      m   2004-10-28          63  floor of mouth  3   1   \n3             3170      m   2004-11-22          59           other  4  2b   \n4             3230      m   2006-01-26          74          tongue  2   1   \n..             ...    ...          ...         ...             ... ..  ..   \n97            3568      m   2010-03-04          74  floor of mouth  2  2c   \n98            3574      m   2010-04-15          51          tongue  2  2b   \n99            3578      f   2010-04-26          44           other  4  2b   \n100           3583      m   2010-06-07          56          tongue  3  2b   \n101           3585      m   2010-05-13          68          tongue  2   1   \n\n    stage ECS     OUTCOME  ... Years  1year  2year  3year  4year  5year  \\\n0       4   N         DOD  ...   9.0  False  False  False  False  False   \n1       4   Y         DOD  ...   1.0   True   True  False  False  False   \n2       3   N  died other  ...   2.0   True   True  False  False  False   \n3      4a   Y  Died other  ...  10.0  False  False  False  False  False   \n4       3   Y         DOD  ...   0.0   True  False  False  False  False   \n..    ...  ..         ...  ...   ...    ...    ...    ...    ...    ...   \n97     4a   Y  died other  ...   0.0   True  False  False  False  False   \n98     4a   N  died other  ...   5.0  False  False  False  False   True   \n99    NaN   Y       alive  ...   NaN  False  False  False  False  False   \n100    4a   Y       alive  ...   NaN  False  False  False  False  False   \n101     3   N       alive  ...   NaN  False  False  False  False  False   \n\n    1yeardeath 2years Case ID ASMA  \n0        False      5    3143    H  \n1        False      1    3167    H  \n2        False      2    3169    L  \n3        False      6    3170    H  \n4         True      1    3230    H  \n..         ...    ...     ...  ...  \n97        True      1    3568    H  \n98       False      3    3574    I  \n99       False      6    3578  NaN  \n100      False      6    3583    L  \n101      False      6    3585    H  \n\n[102 rows x 30 columns]",
      "text/html": "<div>\n<style scoped>\n    .dataframe tbody tr th:only-of-type {\n        vertical-align: middle;\n    }\n\n    .dataframe tbody tr th {\n        vertical-align: top;\n    }\n\n    .dataframe thead th {\n        text-align: right;\n    }\n</style>\n<table border=\"1\" class=\"dataframe\">\n  <thead>\n    <tr style=\"text-align: right;\">\n      <th></th>\n      <th>Patient_Number</th>\n      <th>gender</th>\n      <th>date of diag</th>\n      <th>age @ diag</th>\n      <th>site</th>\n      <th>pT</th>\n      <th>pN</th>\n      <th>stage</th>\n      <th>ECS</th>\n      <th>OUTCOME</th>\n      <th>...</th>\n      <th>Years</th>\n      <th>1year</th>\n      <th>2year</th>\n      <th>3year</th>\n      <th>4year</th>\n      <th>5year</th>\n      <th>1yeardeath</th>\n      <th>2years</th>\n      <th>Case ID</th>\n      <th>ASMA</th>\n    </tr>\n  </thead>\n  <tbody>\n    <tr>\n      <th>0</th>\n      <td>3143</td>\n      <td>m</td>\n      <td>2004-03-29</td>\n      <td>58</td>\n      <td>floor of mouth</td>\n      <td>4</td>\n      <td>0</td>\n      <td>4</td>\n      <td>N</td>\n      <td>DOD</td>\n      <td>...</td>\n      <td>9.0</td>\n      <td>False</td>\n      <td>False</td>\n      <td>False</td>\n      <td>False</td>\n      <td>False</td>\n      <td>False</td>\n      <td>5</td>\n      <td>3143</td>\n      <td>H</td>\n    </tr>\n    <tr>\n      <th>1</th>\n      <td>3167</td>\n      <td>m</td>\n      <td>2004-09-30</td>\n      <td>74</td>\n      <td>floor of mouth</td>\n      <td>2</td>\n      <td>2</td>\n      <td>4</td>\n      <td>Y</td>\n      <td>DOD</td>\n      <td>...</td>\n      <td>1.0</td>\n      <td>True</td>\n      <td>True</td>\n      <td>False</td>\n      <td>False</td>\n      <td>False</td>\n      <td>False</td>\n      <td>1</td>\n      <td>3167</td>\n      <td>H</td>\n    </tr>\n    <tr>\n      <th>2</th>\n      <td>3169</td>\n      <td>m</td>\n      <td>2004-10-28</td>\n      <td>63</td>\n      <td>floor of mouth</td>\n      <td>3</td>\n      <td>1</td>\n      <td>3</td>\n      <td>N</td>\n      <td>died other</td>\n      <td>...</td>\n      <td>2.0</td>\n      <td>True</td>\n      <td>True</td>\n      <td>False</td>\n      <td>False</td>\n      <td>False</td>\n      <td>False</td>\n      <td>2</td>\n      <td>3169</td>\n      <td>L</td>\n    </tr>\n    <tr>\n      <th>3</th>\n      <td>3170</td>\n      <td>m</td>\n      <td>2004-11-22</td>\n      <td>59</td>\n      <td>other</td>\n      <td>4</td>\n      <td>2b</td>\n      <td>4a</td>\n      <td>Y</td>\n      <td>Died other</td>\n      <td>...</td>\n      <td>10.0</td>\n      <td>False</td>\n      <td>False</td>\n      <td>False</td>\n      <td>False</td>\n      <td>False</td>\n      <td>False</td>\n      <td>6</td>\n      <td>3170</td>\n      <td>H</td>\n    </tr>\n    <tr>\n      <th>4</th>\n      <td>3230</td>\n      <td>m</td>\n      <td>2006-01-26</td>\n      <td>74</td>\n      <td>tongue</td>\n      <td>2</td>\n      <td>1</td>\n      <td>3</td>\n      <td>Y</td>\n      <td>DOD</td>\n      <td>...</td>\n      <td>0.0</td>\n      <td>True</td>\n      <td>False</td>\n      <td>False</td>\n      <td>False</td>\n      <td>False</td>\n      <td>True</td>\n      <td>1</td>\n      <td>3230</td>\n      <td>H</td>\n    </tr>\n    <tr>\n      <th>...</th>\n      <td>...</td>\n      <td>...</td>\n      <td>...</td>\n      <td>...</td>\n      <td>...</td>\n      <td>...</td>\n      <td>...</td>\n      <td>...</td>\n      <td>...</td>\n      <td>...</td>\n      <td>...</td>\n      <td>...</td>\n      <td>...</td>\n      <td>...</td>\n      <td>...</td>\n      <td>...</td>\n      <td>...</td>\n      <td>...</td>\n      <td>...</td>\n      <td>...</td>\n      <td>...</td>\n    </tr>\n    <tr>\n      <th>97</th>\n      <td>3568</td>\n      <td>m</td>\n      <td>2010-03-04</td>\n      <td>74</td>\n      <td>floor of mouth</td>\n      <td>2</td>\n      <td>2c</td>\n      <td>4a</td>\n      <td>Y</td>\n      <td>died other</td>\n      <td>...</td>\n      <td>0.0</td>\n      <td>True</td>\n      <td>False</td>\n      <td>False</td>\n      <td>False</td>\n      <td>False</td>\n      <td>True</td>\n      <td>1</td>\n      <td>3568</td>\n      <td>H</td>\n    </tr>\n    <tr>\n      <th>98</th>\n      <td>3574</td>\n      <td>m</td>\n      <td>2010-04-15</td>\n      <td>51</td>\n      <td>tongue</td>\n      <td>2</td>\n      <td>2b</td>\n      <td>4a</td>\n      <td>N</td>\n      <td>died other</td>\n      <td>...</td>\n      <td>5.0</td>\n      <td>False</td>\n      <td>False</td>\n      <td>False</td>\n      <td>False</td>\n      <td>True</td>\n      <td>False</td>\n      <td>3</td>\n      <td>3574</td>\n      <td>I</td>\n    </tr>\n    <tr>\n      <th>99</th>\n      <td>3578</td>\n      <td>f</td>\n      <td>2010-04-26</td>\n      <td>44</td>\n      <td>other</td>\n      <td>4</td>\n      <td>2b</td>\n      <td>NaN</td>\n      <td>Y</td>\n      <td>alive</td>\n      <td>...</td>\n      <td>NaN</td>\n      <td>False</td>\n      <td>False</td>\n      <td>False</td>\n      <td>False</td>\n      <td>False</td>\n      <td>False</td>\n      <td>6</td>\n      <td>3578</td>\n      <td>NaN</td>\n    </tr>\n    <tr>\n      <th>100</th>\n      <td>3583</td>\n      <td>m</td>\n      <td>2010-06-07</td>\n      <td>56</td>\n      <td>tongue</td>\n      <td>3</td>\n      <td>2b</td>\n      <td>4a</td>\n      <td>Y</td>\n      <td>alive</td>\n      <td>...</td>\n      <td>NaN</td>\n      <td>False</td>\n      <td>False</td>\n      <td>False</td>\n      <td>False</td>\n      <td>False</td>\n      <td>False</td>\n      <td>6</td>\n      <td>3583</td>\n      <td>L</td>\n    </tr>\n    <tr>\n      <th>101</th>\n      <td>3585</td>\n      <td>m</td>\n      <td>2010-05-13</td>\n      <td>68</td>\n      <td>tongue</td>\n      <td>2</td>\n      <td>1</td>\n      <td>3</td>\n      <td>N</td>\n      <td>alive</td>\n      <td>...</td>\n      <td>NaN</td>\n      <td>False</td>\n      <td>False</td>\n      <td>False</td>\n      <td>False</td>\n      <td>False</td>\n      <td>False</td>\n      <td>6</td>\n      <td>3585</td>\n      <td>H</td>\n    </tr>\n  </tbody>\n</table>\n<p>102 rows × 30 columns</p>\n</div>"
     },
     "metadata": {},
     "execution_count": 24
    }
   ],
   "source": [
    "new_metadata"
   ]
  },
  {
   "cell_type": "code",
   "execution_count": 74,
   "metadata": {},
   "outputs": [
    {
     "output_type": "display_data",
     "data": {
      "text/plain": "<Figure size 432x288 with 1 Axes>",
      "image/svg+xml": "<?xml version=\"1.0\" encoding=\"utf-8\" standalone=\"no\"?>\n<!DOCTYPE svg PUBLIC \"-//W3C//DTD SVG 1.1//EN\"\n  \"http://www.w3.org/Graphics/SVG/1.1/DTD/svg11.dtd\">\n<!-- Created with matplotlib (https://matplotlib.org/) -->\n<svg height=\"260.038437pt\" version=\"1.1\" viewBox=\"0 0 382.603125 260.038437\" width=\"382.603125pt\" xmlns=\"http://www.w3.org/2000/svg\" xmlns:xlink=\"http://www.w3.org/1999/xlink\">\n <defs>\n  <style type=\"text/css\">\n*{stroke-linecap:butt;stroke-linejoin:round;}\n  </style>\n </defs>\n <g id=\"figure_1\">\n  <g id=\"patch_1\">\n   <path d=\"M 0 260.038437 \nL 382.603125 260.038437 \nL 382.603125 0 \nL 0 0 \nz\n\" style=\"fill:none;\"/>\n  </g>\n  <g id=\"axes_1\">\n   <g id=\"patch_2\">\n    <path d=\"M 40.603125 224.64 \nL 375.403125 224.64 \nL 375.403125 7.2 \nL 40.603125 7.2 \nz\n\" style=\"fill:#ffffff;\"/>\n   </g>\n   <g id=\"patch_3\">\n    <path clip-path=\"url(#p372a73a2a2)\" d=\"M 68.503125 224.64 \nL 96.403125 224.64 \nL 96.403125 63.573333 \nL 68.503125 63.573333 \nz\n\" style=\"fill:#1f77b4;\"/>\n   </g>\n   <g id=\"patch_4\">\n    <path clip-path=\"url(#p372a73a2a2)\" d=\"M 180.103125 224.64 \nL 208.003125 224.64 \nL 208.003125 78.913016 \nL 180.103125 78.913016 \nz\n\" style=\"fill:#1f77b4;\"/>\n   </g>\n   <g id=\"patch_5\">\n    <path clip-path=\"url(#p372a73a2a2)\" d=\"M 291.703125 224.64 \nL 319.603125 224.64 \nL 319.603125 17.554286 \nL 291.703125 17.554286 \nz\n\" style=\"fill:#1f77b4;\"/>\n   </g>\n   <g id=\"patch_6\">\n    <path clip-path=\"url(#p372a73a2a2)\" d=\"M 96.403125 224.64 \nL 124.303125 224.64 \nL 124.303125 170.951111 \nL 96.403125 170.951111 \nz\n\" style=\"fill:#ff7f0e;\"/>\n   </g>\n   <g id=\"patch_7\">\n    <path clip-path=\"url(#p372a73a2a2)\" d=\"M 208.003125 224.64 \nL 235.903125 224.64 \nL 235.903125 155.611429 \nL 208.003125 155.611429 \nz\n\" style=\"fill:#ff7f0e;\"/>\n   </g>\n   <g id=\"patch_8\">\n    <path clip-path=\"url(#p372a73a2a2)\" d=\"M 319.603125 224.64 \nL 347.503125 224.64 \nL 347.503125 178.620952 \nL 319.603125 178.620952 \nz\n\" style=\"fill:#ff7f0e;\"/>\n   </g>\n   <g id=\"matplotlib.axis_1\">\n    <g id=\"xtick_1\">\n     <g id=\"line2d_1\">\n      <defs>\n       <path d=\"M 0 0 \nL 0 3.5 \n\" id=\"m1633278db3\" style=\"stroke:#000000;stroke-width:0.8;\"/>\n      </defs>\n      <g>\n       <use style=\"stroke:#000000;stroke-width:0.8;\" x=\"96.403125\" xlink:href=\"#m1633278db3\" y=\"224.64\"/>\n      </g>\n     </g>\n     <g id=\"text_1\">\n      <!-- H -->\n      <defs>\n       <path d=\"M 9.8125 72.90625 \nL 19.671875 72.90625 \nL 19.671875 43.015625 \nL 55.515625 43.015625 \nL 55.515625 72.90625 \nL 65.375 72.90625 \nL 65.375 0 \nL 55.515625 0 \nL 55.515625 34.71875 \nL 19.671875 34.71875 \nL 19.671875 0 \nL 9.8125 0 \nz\n\" id=\"DejaVuSans-72\"/>\n      </defs>\n      <g transform=\"translate(99.1625 239.160312)rotate(-90)scale(0.1 -0.1)\">\n       <use xlink:href=\"#DejaVuSans-72\"/>\n      </g>\n     </g>\n    </g>\n    <g id=\"xtick_2\">\n     <g id=\"line2d_2\">\n      <g>\n       <use style=\"stroke:#000000;stroke-width:0.8;\" x=\"208.003125\" xlink:href=\"#m1633278db3\" y=\"224.64\"/>\n      </g>\n     </g>\n     <g id=\"text_2\">\n      <!-- I -->\n      <defs>\n       <path d=\"M 9.8125 72.90625 \nL 19.671875 72.90625 \nL 19.671875 0 \nL 9.8125 0 \nz\n\" id=\"DejaVuSans-73\"/>\n      </defs>\n      <g transform=\"translate(210.7625 234.59)rotate(-90)scale(0.1 -0.1)\">\n       <use xlink:href=\"#DejaVuSans-73\"/>\n      </g>\n     </g>\n    </g>\n    <g id=\"xtick_3\">\n     <g id=\"line2d_3\">\n      <g>\n       <use style=\"stroke:#000000;stroke-width:0.8;\" x=\"319.603125\" xlink:href=\"#m1633278db3\" y=\"224.64\"/>\n      </g>\n     </g>\n     <g id=\"text_3\">\n      <!-- L -->\n      <defs>\n       <path d=\"M 9.8125 72.90625 \nL 19.671875 72.90625 \nL 19.671875 8.296875 \nL 55.171875 8.296875 \nL 55.171875 0 \nL 9.8125 0 \nz\n\" id=\"DejaVuSans-76\"/>\n      </defs>\n      <g transform=\"translate(322.3625 237.211875)rotate(-90)scale(0.1 -0.1)\">\n       <use xlink:href=\"#DejaVuSans-76\"/>\n      </g>\n     </g>\n    </g>\n    <g id=\"text_4\">\n     <!-- ASMA -->\n     <defs>\n      <path d=\"M 34.1875 63.1875 \nL 20.796875 26.90625 \nL 47.609375 26.90625 \nz\nM 28.609375 72.90625 \nL 39.796875 72.90625 \nL 67.578125 0 \nL 57.328125 0 \nL 50.6875 18.703125 \nL 17.828125 18.703125 \nL 11.1875 0 \nL 0.78125 0 \nz\n\" id=\"DejaVuSans-65\"/>\n      <path d=\"M 53.515625 70.515625 \nL 53.515625 60.890625 \nQ 47.90625 63.578125 42.921875 64.890625 \nQ 37.9375 66.21875 33.296875 66.21875 \nQ 25.25 66.21875 20.875 63.09375 \nQ 16.5 59.96875 16.5 54.203125 \nQ 16.5 49.359375 19.40625 46.890625 \nQ 22.3125 44.4375 30.421875 42.921875 \nL 36.375 41.703125 \nQ 47.40625 39.59375 52.65625 34.296875 \nQ 57.90625 29 57.90625 20.125 \nQ 57.90625 9.515625 50.796875 4.046875 \nQ 43.703125 -1.421875 29.984375 -1.421875 \nQ 24.8125 -1.421875 18.96875 -0.25 \nQ 13.140625 0.921875 6.890625 3.21875 \nL 6.890625 13.375 \nQ 12.890625 10.015625 18.65625 8.296875 \nQ 24.421875 6.59375 29.984375 6.59375 \nQ 38.421875 6.59375 43.015625 9.90625 \nQ 47.609375 13.234375 47.609375 19.390625 \nQ 47.609375 24.75 44.3125 27.78125 \nQ 41.015625 30.8125 33.5 32.328125 \nL 27.484375 33.5 \nQ 16.453125 35.6875 11.515625 40.375 \nQ 6.59375 45.0625 6.59375 53.421875 \nQ 6.59375 63.09375 13.40625 68.65625 \nQ 20.21875 74.21875 32.171875 74.21875 \nQ 37.3125 74.21875 42.625 73.28125 \nQ 47.953125 72.359375 53.515625 70.515625 \nz\n\" id=\"DejaVuSans-83\"/>\n      <path d=\"M 9.8125 72.90625 \nL 24.515625 72.90625 \nL 43.109375 23.296875 \nL 61.8125 72.90625 \nL 76.515625 72.90625 \nL 76.515625 0 \nL 66.890625 0 \nL 66.890625 64.015625 \nL 48.09375 14.015625 \nL 38.1875 14.015625 \nL 19.390625 64.015625 \nL 19.390625 0 \nL 9.8125 0 \nz\n\" id=\"DejaVuSans-77\"/>\n     </defs>\n     <g transform=\"translate(193.674219 250.75875)scale(0.1 -0.1)\">\n      <use xlink:href=\"#DejaVuSans-65\"/>\n      <use x=\"68.408203\" xlink:href=\"#DejaVuSans-83\"/>\n      <use x=\"131.884766\" xlink:href=\"#DejaVuSans-77\"/>\n      <use x=\"218.164062\" xlink:href=\"#DejaVuSans-65\"/>\n     </g>\n    </g>\n   </g>\n   <g id=\"matplotlib.axis_2\">\n    <g id=\"ytick_1\">\n     <g id=\"line2d_4\">\n      <defs>\n       <path d=\"M 0 0 \nL -3.5 0 \n\" id=\"mfa1d8b481a\" style=\"stroke:#000000;stroke-width:0.8;\"/>\n      </defs>\n      <g>\n       <use style=\"stroke:#000000;stroke-width:0.8;\" x=\"40.603125\" xlink:href=\"#mfa1d8b481a\" y=\"224.64\"/>\n      </g>\n     </g>\n     <g id=\"text_5\">\n      <!-- 0 -->\n      <defs>\n       <path d=\"M 31.78125 66.40625 \nQ 24.171875 66.40625 20.328125 58.90625 \nQ 16.5 51.421875 16.5 36.375 \nQ 16.5 21.390625 20.328125 13.890625 \nQ 24.171875 6.390625 31.78125 6.390625 \nQ 39.453125 6.390625 43.28125 13.890625 \nQ 47.125 21.390625 47.125 36.375 \nQ 47.125 51.421875 43.28125 58.90625 \nQ 39.453125 66.40625 31.78125 66.40625 \nz\nM 31.78125 74.21875 \nQ 44.046875 74.21875 50.515625 64.515625 \nQ 56.984375 54.828125 56.984375 36.375 \nQ 56.984375 17.96875 50.515625 8.265625 \nQ 44.046875 -1.421875 31.78125 -1.421875 \nQ 19.53125 -1.421875 13.0625 8.265625 \nQ 6.59375 17.96875 6.59375 36.375 \nQ 6.59375 54.828125 13.0625 64.515625 \nQ 19.53125 74.21875 31.78125 74.21875 \nz\n\" id=\"DejaVuSans-48\"/>\n      </defs>\n      <g transform=\"translate(27.240625 228.439219)scale(0.1 -0.1)\">\n       <use xlink:href=\"#DejaVuSans-48\"/>\n      </g>\n     </g>\n    </g>\n    <g id=\"ytick_2\">\n     <g id=\"line2d_5\">\n      <g>\n       <use style=\"stroke:#000000;stroke-width:0.8;\" x=\"40.603125\" xlink:href=\"#mfa1d8b481a\" y=\"186.290794\"/>\n      </g>\n     </g>\n     <g id=\"text_6\">\n      <!-- 5 -->\n      <defs>\n       <path d=\"M 10.796875 72.90625 \nL 49.515625 72.90625 \nL 49.515625 64.59375 \nL 19.828125 64.59375 \nL 19.828125 46.734375 \nQ 21.96875 47.46875 24.109375 47.828125 \nQ 26.265625 48.1875 28.421875 48.1875 \nQ 40.625 48.1875 47.75 41.5 \nQ 54.890625 34.8125 54.890625 23.390625 \nQ 54.890625 11.625 47.5625 5.09375 \nQ 40.234375 -1.421875 26.90625 -1.421875 \nQ 22.3125 -1.421875 17.546875 -0.640625 \nQ 12.796875 0.140625 7.71875 1.703125 \nL 7.71875 11.625 \nQ 12.109375 9.234375 16.796875 8.0625 \nQ 21.484375 6.890625 26.703125 6.890625 \nQ 35.15625 6.890625 40.078125 11.328125 \nQ 45.015625 15.765625 45.015625 23.390625 \nQ 45.015625 31 40.078125 35.4375 \nQ 35.15625 39.890625 26.703125 39.890625 \nQ 22.75 39.890625 18.8125 39.015625 \nQ 14.890625 38.140625 10.796875 36.28125 \nz\n\" id=\"DejaVuSans-53\"/>\n      </defs>\n      <g transform=\"translate(27.240625 190.090012)scale(0.1 -0.1)\">\n       <use xlink:href=\"#DejaVuSans-53\"/>\n      </g>\n     </g>\n    </g>\n    <g id=\"ytick_3\">\n     <g id=\"line2d_6\">\n      <g>\n       <use style=\"stroke:#000000;stroke-width:0.8;\" x=\"40.603125\" xlink:href=\"#mfa1d8b481a\" y=\"147.941587\"/>\n      </g>\n     </g>\n     <g id=\"text_7\">\n      <!-- 10 -->\n      <defs>\n       <path d=\"M 12.40625 8.296875 \nL 28.515625 8.296875 \nL 28.515625 63.921875 \nL 10.984375 60.40625 \nL 10.984375 69.390625 \nL 28.421875 72.90625 \nL 38.28125 72.90625 \nL 38.28125 8.296875 \nL 54.390625 8.296875 \nL 54.390625 0 \nL 12.40625 0 \nz\n\" id=\"DejaVuSans-49\"/>\n      </defs>\n      <g transform=\"translate(20.878125 151.740806)scale(0.1 -0.1)\">\n       <use xlink:href=\"#DejaVuSans-49\"/>\n       <use x=\"63.623047\" xlink:href=\"#DejaVuSans-48\"/>\n      </g>\n     </g>\n    </g>\n    <g id=\"ytick_4\">\n     <g id=\"line2d_7\">\n      <g>\n       <use style=\"stroke:#000000;stroke-width:0.8;\" x=\"40.603125\" xlink:href=\"#mfa1d8b481a\" y=\"109.592381\"/>\n      </g>\n     </g>\n     <g id=\"text_8\">\n      <!-- 15 -->\n      <g transform=\"translate(20.878125 113.3916)scale(0.1 -0.1)\">\n       <use xlink:href=\"#DejaVuSans-49\"/>\n       <use x=\"63.623047\" xlink:href=\"#DejaVuSans-53\"/>\n      </g>\n     </g>\n    </g>\n    <g id=\"ytick_5\">\n     <g id=\"line2d_8\">\n      <g>\n       <use style=\"stroke:#000000;stroke-width:0.8;\" x=\"40.603125\" xlink:href=\"#mfa1d8b481a\" y=\"71.243175\"/>\n      </g>\n     </g>\n     <g id=\"text_9\">\n      <!-- 20 -->\n      <defs>\n       <path d=\"M 19.1875 8.296875 \nL 53.609375 8.296875 \nL 53.609375 0 \nL 7.328125 0 \nL 7.328125 8.296875 \nQ 12.9375 14.109375 22.625 23.890625 \nQ 32.328125 33.6875 34.8125 36.53125 \nQ 39.546875 41.84375 41.421875 45.53125 \nQ 43.3125 49.21875 43.3125 52.78125 \nQ 43.3125 58.59375 39.234375 62.25 \nQ 35.15625 65.921875 28.609375 65.921875 \nQ 23.96875 65.921875 18.8125 64.3125 \nQ 13.671875 62.703125 7.8125 59.421875 \nL 7.8125 69.390625 \nQ 13.765625 71.78125 18.9375 73 \nQ 24.125 74.21875 28.421875 74.21875 \nQ 39.75 74.21875 46.484375 68.546875 \nQ 53.21875 62.890625 53.21875 53.421875 \nQ 53.21875 48.921875 51.53125 44.890625 \nQ 49.859375 40.875 45.40625 35.40625 \nQ 44.1875 33.984375 37.640625 27.21875 \nQ 31.109375 20.453125 19.1875 8.296875 \nz\n\" id=\"DejaVuSans-50\"/>\n      </defs>\n      <g transform=\"translate(20.878125 75.042393)scale(0.1 -0.1)\">\n       <use xlink:href=\"#DejaVuSans-50\"/>\n       <use x=\"63.623047\" xlink:href=\"#DejaVuSans-48\"/>\n      </g>\n     </g>\n    </g>\n    <g id=\"ytick_6\">\n     <g id=\"line2d_9\">\n      <g>\n       <use style=\"stroke:#000000;stroke-width:0.8;\" x=\"40.603125\" xlink:href=\"#mfa1d8b481a\" y=\"32.893968\"/>\n      </g>\n     </g>\n     <g id=\"text_10\">\n      <!-- 25 -->\n      <g transform=\"translate(20.878125 36.693187)scale(0.1 -0.1)\">\n       <use xlink:href=\"#DejaVuSans-50\"/>\n       <use x=\"63.623047\" xlink:href=\"#DejaVuSans-53\"/>\n      </g>\n     </g>\n    </g>\n    <g id=\"text_11\">\n     <!-- N patients -->\n     <defs>\n      <path d=\"M 9.8125 72.90625 \nL 23.09375 72.90625 \nL 55.421875 11.921875 \nL 55.421875 72.90625 \nL 64.984375 72.90625 \nL 64.984375 0 \nL 51.703125 0 \nL 19.390625 60.984375 \nL 19.390625 0 \nL 9.8125 0 \nz\n\" id=\"DejaVuSans-78\"/>\n      <path id=\"DejaVuSans-32\"/>\n      <path d=\"M 18.109375 8.203125 \nL 18.109375 -20.796875 \nL 9.078125 -20.796875 \nL 9.078125 54.6875 \nL 18.109375 54.6875 \nL 18.109375 46.390625 \nQ 20.953125 51.265625 25.265625 53.625 \nQ 29.59375 56 35.59375 56 \nQ 45.5625 56 51.78125 48.09375 \nQ 58.015625 40.1875 58.015625 27.296875 \nQ 58.015625 14.40625 51.78125 6.484375 \nQ 45.5625 -1.421875 35.59375 -1.421875 \nQ 29.59375 -1.421875 25.265625 0.953125 \nQ 20.953125 3.328125 18.109375 8.203125 \nz\nM 48.6875 27.296875 \nQ 48.6875 37.203125 44.609375 42.84375 \nQ 40.53125 48.484375 33.40625 48.484375 \nQ 26.265625 48.484375 22.1875 42.84375 \nQ 18.109375 37.203125 18.109375 27.296875 \nQ 18.109375 17.390625 22.1875 11.75 \nQ 26.265625 6.109375 33.40625 6.109375 \nQ 40.53125 6.109375 44.609375 11.75 \nQ 48.6875 17.390625 48.6875 27.296875 \nz\n\" id=\"DejaVuSans-112\"/>\n      <path d=\"M 34.28125 27.484375 \nQ 23.390625 27.484375 19.1875 25 \nQ 14.984375 22.515625 14.984375 16.5 \nQ 14.984375 11.71875 18.140625 8.90625 \nQ 21.296875 6.109375 26.703125 6.109375 \nQ 34.1875 6.109375 38.703125 11.40625 \nQ 43.21875 16.703125 43.21875 25.484375 \nL 43.21875 27.484375 \nz\nM 52.203125 31.203125 \nL 52.203125 0 \nL 43.21875 0 \nL 43.21875 8.296875 \nQ 40.140625 3.328125 35.546875 0.953125 \nQ 30.953125 -1.421875 24.3125 -1.421875 \nQ 15.921875 -1.421875 10.953125 3.296875 \nQ 6 8.015625 6 15.921875 \nQ 6 25.140625 12.171875 29.828125 \nQ 18.359375 34.515625 30.609375 34.515625 \nL 43.21875 34.515625 \nL 43.21875 35.40625 \nQ 43.21875 41.609375 39.140625 45 \nQ 35.0625 48.390625 27.6875 48.390625 \nQ 23 48.390625 18.546875 47.265625 \nQ 14.109375 46.140625 10.015625 43.890625 \nL 10.015625 52.203125 \nQ 14.9375 54.109375 19.578125 55.046875 \nQ 24.21875 56 28.609375 56 \nQ 40.484375 56 46.34375 49.84375 \nQ 52.203125 43.703125 52.203125 31.203125 \nz\n\" id=\"DejaVuSans-97\"/>\n      <path d=\"M 18.3125 70.21875 \nL 18.3125 54.6875 \nL 36.8125 54.6875 \nL 36.8125 47.703125 \nL 18.3125 47.703125 \nL 18.3125 18.015625 \nQ 18.3125 11.328125 20.140625 9.421875 \nQ 21.96875 7.515625 27.59375 7.515625 \nL 36.8125 7.515625 \nL 36.8125 0 \nL 27.59375 0 \nQ 17.1875 0 13.234375 3.875 \nQ 9.28125 7.765625 9.28125 18.015625 \nL 9.28125 47.703125 \nL 2.6875 47.703125 \nL 2.6875 54.6875 \nL 9.28125 54.6875 \nL 9.28125 70.21875 \nz\n\" id=\"DejaVuSans-116\"/>\n      <path d=\"M 9.421875 54.6875 \nL 18.40625 54.6875 \nL 18.40625 0 \nL 9.421875 0 \nz\nM 9.421875 75.984375 \nL 18.40625 75.984375 \nL 18.40625 64.59375 \nL 9.421875 64.59375 \nz\n\" id=\"DejaVuSans-105\"/>\n      <path d=\"M 56.203125 29.59375 \nL 56.203125 25.203125 \nL 14.890625 25.203125 \nQ 15.484375 15.921875 20.484375 11.0625 \nQ 25.484375 6.203125 34.421875 6.203125 \nQ 39.59375 6.203125 44.453125 7.46875 \nQ 49.3125 8.734375 54.109375 11.28125 \nL 54.109375 2.78125 \nQ 49.265625 0.734375 44.1875 -0.34375 \nQ 39.109375 -1.421875 33.890625 -1.421875 \nQ 20.796875 -1.421875 13.15625 6.1875 \nQ 5.515625 13.8125 5.515625 26.8125 \nQ 5.515625 40.234375 12.765625 48.109375 \nQ 20.015625 56 32.328125 56 \nQ 43.359375 56 49.78125 48.890625 \nQ 56.203125 41.796875 56.203125 29.59375 \nz\nM 47.21875 32.234375 \nQ 47.125 39.59375 43.09375 43.984375 \nQ 39.0625 48.390625 32.421875 48.390625 \nQ 24.90625 48.390625 20.390625 44.140625 \nQ 15.875 39.890625 15.1875 32.171875 \nz\n\" id=\"DejaVuSans-101\"/>\n      <path d=\"M 54.890625 33.015625 \nL 54.890625 0 \nL 45.90625 0 \nL 45.90625 32.71875 \nQ 45.90625 40.484375 42.875 44.328125 \nQ 39.84375 48.1875 33.796875 48.1875 \nQ 26.515625 48.1875 22.3125 43.546875 \nQ 18.109375 38.921875 18.109375 30.90625 \nL 18.109375 0 \nL 9.078125 0 \nL 9.078125 54.6875 \nL 18.109375 54.6875 \nL 18.109375 46.1875 \nQ 21.34375 51.125 25.703125 53.5625 \nQ 30.078125 56 35.796875 56 \nQ 45.21875 56 50.046875 50.171875 \nQ 54.890625 44.34375 54.890625 33.015625 \nz\n\" id=\"DejaVuSans-110\"/>\n      <path d=\"M 44.28125 53.078125 \nL 44.28125 44.578125 \nQ 40.484375 46.53125 36.375 47.5 \nQ 32.28125 48.484375 27.875 48.484375 \nQ 21.1875 48.484375 17.84375 46.4375 \nQ 14.5 44.390625 14.5 40.28125 \nQ 14.5 37.15625 16.890625 35.375 \nQ 19.28125 33.59375 26.515625 31.984375 \nL 29.59375 31.296875 \nQ 39.15625 29.25 43.1875 25.515625 \nQ 47.21875 21.78125 47.21875 15.09375 \nQ 47.21875 7.46875 41.1875 3.015625 \nQ 35.15625 -1.421875 24.609375 -1.421875 \nQ 20.21875 -1.421875 15.453125 -0.5625 \nQ 10.6875 0.296875 5.421875 2 \nL 5.421875 11.28125 \nQ 10.40625 8.6875 15.234375 7.390625 \nQ 20.0625 6.109375 24.8125 6.109375 \nQ 31.15625 6.109375 34.5625 8.28125 \nQ 37.984375 10.453125 37.984375 14.40625 \nQ 37.984375 18.0625 35.515625 20.015625 \nQ 33.0625 21.96875 24.703125 23.78125 \nL 21.578125 24.515625 \nQ 13.234375 26.265625 9.515625 29.90625 \nQ 5.8125 33.546875 5.8125 39.890625 \nQ 5.8125 47.609375 11.28125 51.796875 \nQ 16.75 56 26.8125 56 \nQ 31.78125 56 36.171875 55.265625 \nQ 40.578125 54.546875 44.28125 53.078125 \nz\n\" id=\"DejaVuSans-115\"/>\n     </defs>\n     <g transform=\"translate(14.798438 141.647344)rotate(-90)scale(0.1 -0.1)\">\n      <use xlink:href=\"#DejaVuSans-78\"/>\n      <use x=\"74.804688\" xlink:href=\"#DejaVuSans-32\"/>\n      <use x=\"106.591797\" xlink:href=\"#DejaVuSans-112\"/>\n      <use x=\"170.068359\" xlink:href=\"#DejaVuSans-97\"/>\n      <use x=\"231.347656\" xlink:href=\"#DejaVuSans-116\"/>\n      <use x=\"270.556641\" xlink:href=\"#DejaVuSans-105\"/>\n      <use x=\"298.339844\" xlink:href=\"#DejaVuSans-101\"/>\n      <use x=\"359.863281\" xlink:href=\"#DejaVuSans-110\"/>\n      <use x=\"423.242188\" xlink:href=\"#DejaVuSans-116\"/>\n      <use x=\"462.451172\" xlink:href=\"#DejaVuSans-115\"/>\n     </g>\n    </g>\n   </g>\n   <g id=\"patch_9\">\n    <path d=\"M 40.603125 224.64 \nL 40.603125 7.2 \n\" style=\"fill:none;stroke:#000000;stroke-linecap:square;stroke-linejoin:miter;stroke-width:0.8;\"/>\n   </g>\n   <g id=\"patch_10\">\n    <path d=\"M 375.403125 224.64 \nL 375.403125 7.2 \n\" style=\"fill:none;stroke:#000000;stroke-linecap:square;stroke-linejoin:miter;stroke-width:0.8;\"/>\n   </g>\n   <g id=\"patch_11\">\n    <path d=\"M 40.603125 224.64 \nL 375.403125 224.64 \n\" style=\"fill:none;stroke:#000000;stroke-linecap:square;stroke-linejoin:miter;stroke-width:0.8;\"/>\n   </g>\n   <g id=\"patch_12\">\n    <path d=\"M 40.603125 7.2 \nL 375.403125 7.2 \n\" style=\"fill:none;stroke:#000000;stroke-linecap:square;stroke-linejoin:miter;stroke-width:0.8;\"/>\n   </g>\n   <g id=\"legend_1\">\n    <g id=\"patch_13\">\n     <path d=\"M 47.603125 59.234375 \nL 108.989063 59.234375 \nQ 110.989063 59.234375 110.989063 57.234375 \nL 110.989063 14.2 \nQ 110.989063 12.2 108.989063 12.2 \nL 47.603125 12.2 \nQ 45.603125 12.2 45.603125 14.2 \nL 45.603125 57.234375 \nQ 45.603125 59.234375 47.603125 59.234375 \nz\n\" style=\"fill:#ffffff;opacity:0.8;stroke:#cccccc;stroke-linejoin:miter;\"/>\n    </g>\n    <g id=\"text_12\">\n     <!-- 1yeardeath -->\n     <defs>\n      <path d=\"M 32.171875 -5.078125 \nQ 28.375 -14.84375 24.75 -17.8125 \nQ 21.140625 -20.796875 15.09375 -20.796875 \nL 7.90625 -20.796875 \nL 7.90625 -13.28125 \nL 13.1875 -13.28125 \nQ 16.890625 -13.28125 18.9375 -11.515625 \nQ 21 -9.765625 23.484375 -3.21875 \nL 25.09375 0.875 \nL 2.984375 54.6875 \nL 12.5 54.6875 \nL 29.59375 11.921875 \nL 46.6875 54.6875 \nL 56.203125 54.6875 \nz\n\" id=\"DejaVuSans-121\"/>\n      <path d=\"M 41.109375 46.296875 \nQ 39.59375 47.171875 37.8125 47.578125 \nQ 36.03125 48 33.890625 48 \nQ 26.265625 48 22.1875 43.046875 \nQ 18.109375 38.09375 18.109375 28.8125 \nL 18.109375 0 \nL 9.078125 0 \nL 9.078125 54.6875 \nL 18.109375 54.6875 \nL 18.109375 46.1875 \nQ 20.953125 51.171875 25.484375 53.578125 \nQ 30.03125 56 36.53125 56 \nQ 37.453125 56 38.578125 55.875 \nQ 39.703125 55.765625 41.0625 55.515625 \nz\n\" id=\"DejaVuSans-114\"/>\n      <path d=\"M 45.40625 46.390625 \nL 45.40625 75.984375 \nL 54.390625 75.984375 \nL 54.390625 0 \nL 45.40625 0 \nL 45.40625 8.203125 \nQ 42.578125 3.328125 38.25 0.953125 \nQ 33.9375 -1.421875 27.875 -1.421875 \nQ 17.96875 -1.421875 11.734375 6.484375 \nQ 5.515625 14.40625 5.515625 27.296875 \nQ 5.515625 40.1875 11.734375 48.09375 \nQ 17.96875 56 27.875 56 \nQ 33.9375 56 38.25 53.625 \nQ 42.578125 51.265625 45.40625 46.390625 \nz\nM 14.796875 27.296875 \nQ 14.796875 17.390625 18.875 11.75 \nQ 22.953125 6.109375 30.078125 6.109375 \nQ 37.203125 6.109375 41.296875 11.75 \nQ 45.40625 17.390625 45.40625 27.296875 \nQ 45.40625 37.203125 41.296875 42.84375 \nQ 37.203125 48.484375 30.078125 48.484375 \nQ 22.953125 48.484375 18.875 42.84375 \nQ 14.796875 37.203125 14.796875 27.296875 \nz\n\" id=\"DejaVuSans-100\"/>\n      <path d=\"M 54.890625 33.015625 \nL 54.890625 0 \nL 45.90625 0 \nL 45.90625 32.71875 \nQ 45.90625 40.484375 42.875 44.328125 \nQ 39.84375 48.1875 33.796875 48.1875 \nQ 26.515625 48.1875 22.3125 43.546875 \nQ 18.109375 38.921875 18.109375 30.90625 \nL 18.109375 0 \nL 9.078125 0 \nL 9.078125 75.984375 \nL 18.109375 75.984375 \nL 18.109375 46.1875 \nQ 21.34375 51.125 25.703125 53.5625 \nQ 30.078125 56 35.796875 56 \nQ 45.21875 56 50.046875 50.171875 \nQ 54.890625 44.34375 54.890625 33.015625 \nz\n\" id=\"DejaVuSans-104\"/>\n     </defs>\n     <g transform=\"translate(49.603125 23.798438)scale(0.1 -0.1)\">\n      <use xlink:href=\"#DejaVuSans-49\"/>\n      <use x=\"63.623047\" xlink:href=\"#DejaVuSans-121\"/>\n      <use x=\"122.802734\" xlink:href=\"#DejaVuSans-101\"/>\n      <use x=\"184.326172\" xlink:href=\"#DejaVuSans-97\"/>\n      <use x=\"245.605469\" xlink:href=\"#DejaVuSans-114\"/>\n      <use x=\"284.96875\" xlink:href=\"#DejaVuSans-100\"/>\n      <use x=\"348.445312\" xlink:href=\"#DejaVuSans-101\"/>\n      <use x=\"409.96875\" xlink:href=\"#DejaVuSans-97\"/>\n      <use x=\"471.248047\" xlink:href=\"#DejaVuSans-116\"/>\n      <use x=\"510.457031\" xlink:href=\"#DejaVuSans-104\"/>\n     </g>\n    </g>\n    <g id=\"patch_14\">\n     <path d=\"M 51.742188 38.476562 \nL 71.742188 38.476562 \nL 71.742188 31.476562 \nL 51.742188 31.476562 \nz\n\" style=\"fill:#1f77b4;\"/>\n    </g>\n    <g id=\"text_13\">\n     <!-- False -->\n     <defs>\n      <path d=\"M 9.8125 72.90625 \nL 51.703125 72.90625 \nL 51.703125 64.59375 \nL 19.671875 64.59375 \nL 19.671875 43.109375 \nL 48.578125 43.109375 \nL 48.578125 34.8125 \nL 19.671875 34.8125 \nL 19.671875 0 \nL 9.8125 0 \nz\n\" id=\"DejaVuSans-70\"/>\n      <path d=\"M 9.421875 75.984375 \nL 18.40625 75.984375 \nL 18.40625 0 \nL 9.421875 0 \nz\n\" id=\"DejaVuSans-108\"/>\n     </defs>\n     <g transform=\"translate(79.742188 38.476562)scale(0.1 -0.1)\">\n      <use xlink:href=\"#DejaVuSans-70\"/>\n      <use x=\"48.394531\" xlink:href=\"#DejaVuSans-97\"/>\n      <use x=\"109.673828\" xlink:href=\"#DejaVuSans-108\"/>\n      <use x=\"137.457031\" xlink:href=\"#DejaVuSans-115\"/>\n      <use x=\"189.556641\" xlink:href=\"#DejaVuSans-101\"/>\n     </g>\n    </g>\n    <g id=\"patch_15\">\n     <path d=\"M 51.742188 53.154687 \nL 71.742188 53.154687 \nL 71.742188 46.154687 \nL 51.742188 46.154687 \nz\n\" style=\"fill:#ff7f0e;\"/>\n    </g>\n    <g id=\"text_14\">\n     <!-- True -->\n     <defs>\n      <path d=\"M -0.296875 72.90625 \nL 61.375 72.90625 \nL 61.375 64.59375 \nL 35.5 64.59375 \nL 35.5 0 \nL 25.59375 0 \nL 25.59375 64.59375 \nL -0.296875 64.59375 \nz\n\" id=\"DejaVuSans-84\"/>\n      <path d=\"M 8.5 21.578125 \nL 8.5 54.6875 \nL 17.484375 54.6875 \nL 17.484375 21.921875 \nQ 17.484375 14.15625 20.5 10.265625 \nQ 23.53125 6.390625 29.59375 6.390625 \nQ 36.859375 6.390625 41.078125 11.03125 \nQ 45.3125 15.671875 45.3125 23.6875 \nL 45.3125 54.6875 \nL 54.296875 54.6875 \nL 54.296875 0 \nL 45.3125 0 \nL 45.3125 8.40625 \nQ 42.046875 3.421875 37.71875 1 \nQ 33.40625 -1.421875 27.6875 -1.421875 \nQ 18.265625 -1.421875 13.375 4.4375 \nQ 8.5 10.296875 8.5 21.578125 \nz\nM 31.109375 56 \nz\n\" id=\"DejaVuSans-117\"/>\n     </defs>\n     <g transform=\"translate(79.742188 53.154687)scale(0.1 -0.1)\">\n      <use xlink:href=\"#DejaVuSans-84\"/>\n      <use x=\"46.333984\" xlink:href=\"#DejaVuSans-114\"/>\n      <use x=\"87.447266\" xlink:href=\"#DejaVuSans-117\"/>\n      <use x=\"150.826172\" xlink:href=\"#DejaVuSans-101\"/>\n     </g>\n    </g>\n   </g>\n  </g>\n </g>\n <defs>\n  <clipPath id=\"p372a73a2a2\">\n   <rect height=\"217.44\" width=\"334.8\" x=\"40.603125\" y=\"7.2\"/>\n  </clipPath>\n </defs>\n</svg>\n",
      "image/png": "[encoded data removed]"
     },
     "metadata": {
      "needs_background": "light"
     }
    }
   ],
   "source": [
    "fig, ax =plt.subplots(1)\n",
    "\n",
    "pd.crosstab(new_metadata[\"ASMA\"], new_metadata[\"1yeardeath\"]).plot.bar(ax=ax)\n",
    "ax.set_ylabel(\"N patients\")\n",
    "fig.savefig(os.getcwd()+ \"/Plots/1yeardeath/Crosstab_ASMA.png\", bbox_inches = 'tight')"
   ]
  },
  {
   "cell_type": "code",
   "execution_count": 26,
   "metadata": {},
   "outputs": [
    {
     "output_type": "execute_result",
     "data": {
      "text/plain": "Text(0, 0.5, 'N patients')"
     },
     "metadata": {},
     "execution_count": 26
    },
    {
     "output_type": "display_data",
     "data": {
      "text/plain": "<Figure size 432x288 with 1 Axes>",
      "image/svg+xml": "<?xml version=\"1.0\" encoding=\"utf-8\" standalone=\"no\"?>\n<!DOCTYPE svg PUBLIC \"-//W3C//DTD SVG 1.1//EN\"\n  \"http://www.w3.org/Graphics/SVG/1.1/DTD/svg11.dtd\">\n<!-- Created with matplotlib (https://matplotlib.org/) -->\n<svg height=\"260.038437pt\" version=\"1.1\" viewBox=\"0 0 382.603125 260.038437\" width=\"382.603125pt\" xmlns=\"http://www.w3.org/2000/svg\" xmlns:xlink=\"http://www.w3.org/1999/xlink\">\n <defs>\n  <style type=\"text/css\">\n*{stroke-linecap:butt;stroke-linejoin:round;}\n  </style>\n </defs>\n <g id=\"figure_1\">\n  <g id=\"patch_1\">\n   <path d=\"M 0 260.038437 \nL 382.603125 260.038437 \nL 382.603125 0 \nL 0 0 \nz\n\" style=\"fill:none;\"/>\n  </g>\n  <g id=\"axes_1\">\n   <g id=\"patch_2\">\n    <path d=\"M 40.603125 224.64 \nL 375.403125 224.64 \nL 375.403125 7.2 \nL 40.603125 7.2 \nz\n\" style=\"fill:#ffffff;\"/>\n   </g>\n   <g id=\"patch_3\">\n    <path clip-path=\"url(#p7858091a95)\" d=\"M 68.503125 224.64 \nL 96.403125 224.64 \nL 96.403125 92.858182 \nL 68.503125 92.858182 \nz\n\" style=\"fill:#1f77b4;\"/>\n   </g>\n   <g id=\"patch_4\">\n    <path clip-path=\"url(#p7858091a95)\" d=\"M 180.103125 224.64 \nL 208.003125 224.64 \nL 208.003125 92.858182 \nL 180.103125 92.858182 \nz\n\" style=\"fill:#1f77b4;\"/>\n   </g>\n   <g id=\"patch_5\">\n    <path clip-path=\"url(#p7858091a95)\" d=\"M 291.703125 224.64 \nL 319.603125 224.64 \nL 319.603125 121.097143 \nL 291.703125 121.097143 \nz\n\" style=\"fill:#1f77b4;\"/>\n   </g>\n   <g id=\"patch_6\">\n    <path clip-path=\"url(#p7858091a95)\" d=\"M 96.403125 224.64 \nL 124.303125 224.64 \nL 124.303125 92.858182 \nL 96.403125 92.858182 \nz\n\" style=\"fill:#ff7f0e;\"/>\n   </g>\n   <g id=\"patch_7\">\n    <path clip-path=\"url(#p7858091a95)\" d=\"M 208.003125 224.64 \nL 235.903125 224.64 \nL 235.903125 92.858182 \nL 208.003125 92.858182 \nz\n\" style=\"fill:#ff7f0e;\"/>\n   </g>\n   <g id=\"patch_8\">\n    <path clip-path=\"url(#p7858091a95)\" d=\"M 319.603125 224.64 \nL 347.503125 224.64 \nL 347.503125 17.554286 \nL 319.603125 17.554286 \nz\n\" style=\"fill:#ff7f0e;\"/>\n   </g>\n   <g id=\"matplotlib.axis_1\">\n    <g id=\"xtick_1\">\n     <g id=\"line2d_1\">\n      <defs>\n       <path d=\"M 0 0 \nL 0 3.5 \n\" id=\"m00364a9576\" style=\"stroke:#000000;stroke-width:0.8;\"/>\n      </defs>\n      <g>\n       <use style=\"stroke:#000000;stroke-width:0.8;\" x=\"96.403125\" xlink:href=\"#m00364a9576\" y=\"224.64\"/>\n      </g>\n     </g>\n     <g id=\"text_1\">\n      <!-- H -->\n      <defs>\n       <path d=\"M 9.8125 72.90625 \nL 19.671875 72.90625 \nL 19.671875 43.015625 \nL 55.515625 43.015625 \nL 55.515625 72.90625 \nL 65.375 72.90625 \nL 65.375 0 \nL 55.515625 0 \nL 55.515625 34.71875 \nL 19.671875 34.71875 \nL 19.671875 0 \nL 9.8125 0 \nz\n\" id=\"DejaVuSans-72\"/>\n      </defs>\n      <g transform=\"translate(99.1625 239.160312)rotate(-90)scale(0.1 -0.1)\">\n       <use xlink:href=\"#DejaVuSans-72\"/>\n      </g>\n     </g>\n    </g>\n    <g id=\"xtick_2\">\n     <g id=\"line2d_2\">\n      <g>\n       <use style=\"stroke:#000000;stroke-width:0.8;\" x=\"208.003125\" xlink:href=\"#m00364a9576\" y=\"224.64\"/>\n      </g>\n     </g>\n     <g id=\"text_2\">\n      <!-- I -->\n      <defs>\n       <path d=\"M 9.8125 72.90625 \nL 19.671875 72.90625 \nL 19.671875 0 \nL 9.8125 0 \nz\n\" id=\"DejaVuSans-73\"/>\n      </defs>\n      <g transform=\"translate(210.7625 234.59)rotate(-90)scale(0.1 -0.1)\">\n       <use xlink:href=\"#DejaVuSans-73\"/>\n      </g>\n     </g>\n    </g>\n    <g id=\"xtick_3\">\n     <g id=\"line2d_3\">\n      <g>\n       <use style=\"stroke:#000000;stroke-width:0.8;\" x=\"319.603125\" xlink:href=\"#m00364a9576\" y=\"224.64\"/>\n      </g>\n     </g>\n     <g id=\"text_3\">\n      <!-- L -->\n      <defs>\n       <path d=\"M 9.8125 72.90625 \nL 19.671875 72.90625 \nL 19.671875 8.296875 \nL 55.171875 8.296875 \nL 55.171875 0 \nL 9.8125 0 \nz\n\" id=\"DejaVuSans-76\"/>\n      </defs>\n      <g transform=\"translate(322.3625 237.211875)rotate(-90)scale(0.1 -0.1)\">\n       <use xlink:href=\"#DejaVuSans-76\"/>\n      </g>\n     </g>\n    </g>\n    <g id=\"text_4\">\n     <!-- ASMA -->\n     <defs>\n      <path d=\"M 34.1875 63.1875 \nL 20.796875 26.90625 \nL 47.609375 26.90625 \nz\nM 28.609375 72.90625 \nL 39.796875 72.90625 \nL 67.578125 0 \nL 57.328125 0 \nL 50.6875 18.703125 \nL 17.828125 18.703125 \nL 11.1875 0 \nL 0.78125 0 \nz\n\" id=\"DejaVuSans-65\"/>\n      <path d=\"M 53.515625 70.515625 \nL 53.515625 60.890625 \nQ 47.90625 63.578125 42.921875 64.890625 \nQ 37.9375 66.21875 33.296875 66.21875 \nQ 25.25 66.21875 20.875 63.09375 \nQ 16.5 59.96875 16.5 54.203125 \nQ 16.5 49.359375 19.40625 46.890625 \nQ 22.3125 44.4375 30.421875 42.921875 \nL 36.375 41.703125 \nQ 47.40625 39.59375 52.65625 34.296875 \nQ 57.90625 29 57.90625 20.125 \nQ 57.90625 9.515625 50.796875 4.046875 \nQ 43.703125 -1.421875 29.984375 -1.421875 \nQ 24.8125 -1.421875 18.96875 -0.25 \nQ 13.140625 0.921875 6.890625 3.21875 \nL 6.890625 13.375 \nQ 12.890625 10.015625 18.65625 8.296875 \nQ 24.421875 6.59375 29.984375 6.59375 \nQ 38.421875 6.59375 43.015625 9.90625 \nQ 47.609375 13.234375 47.609375 19.390625 \nQ 47.609375 24.75 44.3125 27.78125 \nQ 41.015625 30.8125 33.5 32.328125 \nL 27.484375 33.5 \nQ 16.453125 35.6875 11.515625 40.375 \nQ 6.59375 45.0625 6.59375 53.421875 \nQ 6.59375 63.09375 13.40625 68.65625 \nQ 20.21875 74.21875 32.171875 74.21875 \nQ 37.3125 74.21875 42.625 73.28125 \nQ 47.953125 72.359375 53.515625 70.515625 \nz\n\" id=\"DejaVuSans-83\"/>\n      <path d=\"M 9.8125 72.90625 \nL 24.515625 72.90625 \nL 43.109375 23.296875 \nL 61.8125 72.90625 \nL 76.515625 72.90625 \nL 76.515625 0 \nL 66.890625 0 \nL 66.890625 64.015625 \nL 48.09375 14.015625 \nL 38.1875 14.015625 \nL 19.390625 64.015625 \nL 19.390625 0 \nL 9.8125 0 \nz\n\" id=\"DejaVuSans-77\"/>\n     </defs>\n     <g transform=\"translate(193.674219 250.75875)scale(0.1 -0.1)\">\n      <use xlink:href=\"#DejaVuSans-65\"/>\n      <use x=\"68.408203\" xlink:href=\"#DejaVuSans-83\"/>\n      <use x=\"131.884766\" xlink:href=\"#DejaVuSans-77\"/>\n      <use x=\"218.164062\" xlink:href=\"#DejaVuSans-65\"/>\n     </g>\n    </g>\n   </g>\n   <g id=\"matplotlib.axis_2\">\n    <g id=\"ytick_1\">\n     <g id=\"line2d_4\">\n      <defs>\n       <path d=\"M 0 0 \nL -3.5 0 \n\" id=\"m2c0e868dfc\" style=\"stroke:#000000;stroke-width:0.8;\"/>\n      </defs>\n      <g>\n       <use style=\"stroke:#000000;stroke-width:0.8;\" x=\"40.603125\" xlink:href=\"#m2c0e868dfc\" y=\"224.64\"/>\n      </g>\n     </g>\n     <g id=\"text_5\">\n      <!-- 0 -->\n      <defs>\n       <path d=\"M 31.78125 66.40625 \nQ 24.171875 66.40625 20.328125 58.90625 \nQ 16.5 51.421875 16.5 36.375 \nQ 16.5 21.390625 20.328125 13.890625 \nQ 24.171875 6.390625 31.78125 6.390625 \nQ 39.453125 6.390625 43.28125 13.890625 \nQ 47.125 21.390625 47.125 36.375 \nQ 47.125 51.421875 43.28125 58.90625 \nQ 39.453125 66.40625 31.78125 66.40625 \nz\nM 31.78125 74.21875 \nQ 44.046875 74.21875 50.515625 64.515625 \nQ 56.984375 54.828125 56.984375 36.375 \nQ 56.984375 17.96875 50.515625 8.265625 \nQ 44.046875 -1.421875 31.78125 -1.421875 \nQ 19.53125 -1.421875 13.0625 8.265625 \nQ 6.59375 17.96875 6.59375 36.375 \nQ 6.59375 54.828125 13.0625 64.515625 \nQ 19.53125 74.21875 31.78125 74.21875 \nz\n\" id=\"DejaVuSans-48\"/>\n      </defs>\n      <g transform=\"translate(27.240625 228.439219)scale(0.1 -0.1)\">\n       <use xlink:href=\"#DejaVuSans-48\"/>\n      </g>\n     </g>\n    </g>\n    <g id=\"ytick_2\">\n     <g id=\"line2d_5\">\n      <g>\n       <use style=\"stroke:#000000;stroke-width:0.8;\" x=\"40.603125\" xlink:href=\"#m2c0e868dfc\" y=\"177.575065\"/>\n      </g>\n     </g>\n     <g id=\"text_6\">\n      <!-- 5 -->\n      <defs>\n       <path d=\"M 10.796875 72.90625 \nL 49.515625 72.90625 \nL 49.515625 64.59375 \nL 19.828125 64.59375 \nL 19.828125 46.734375 \nQ 21.96875 47.46875 24.109375 47.828125 \nQ 26.265625 48.1875 28.421875 48.1875 \nQ 40.625 48.1875 47.75 41.5 \nQ 54.890625 34.8125 54.890625 23.390625 \nQ 54.890625 11.625 47.5625 5.09375 \nQ 40.234375 -1.421875 26.90625 -1.421875 \nQ 22.3125 -1.421875 17.546875 -0.640625 \nQ 12.796875 0.140625 7.71875 1.703125 \nL 7.71875 11.625 \nQ 12.109375 9.234375 16.796875 8.0625 \nQ 21.484375 6.890625 26.703125 6.890625 \nQ 35.15625 6.890625 40.078125 11.328125 \nQ 45.015625 15.765625 45.015625 23.390625 \nQ 45.015625 31 40.078125 35.4375 \nQ 35.15625 39.890625 26.703125 39.890625 \nQ 22.75 39.890625 18.8125 39.015625 \nQ 14.890625 38.140625 10.796875 36.28125 \nz\n\" id=\"DejaVuSans-53\"/>\n      </defs>\n      <g transform=\"translate(27.240625 181.374284)scale(0.1 -0.1)\">\n       <use xlink:href=\"#DejaVuSans-53\"/>\n      </g>\n     </g>\n    </g>\n    <g id=\"ytick_3\">\n     <g id=\"line2d_6\">\n      <g>\n       <use style=\"stroke:#000000;stroke-width:0.8;\" x=\"40.603125\" xlink:href=\"#m2c0e868dfc\" y=\"130.51013\"/>\n      </g>\n     </g>\n     <g id=\"text_7\">\n      <!-- 10 -->\n      <defs>\n       <path d=\"M 12.40625 8.296875 \nL 28.515625 8.296875 \nL 28.515625 63.921875 \nL 10.984375 60.40625 \nL 10.984375 69.390625 \nL 28.421875 72.90625 \nL 38.28125 72.90625 \nL 38.28125 8.296875 \nL 54.390625 8.296875 \nL 54.390625 0 \nL 12.40625 0 \nz\n\" id=\"DejaVuSans-49\"/>\n      </defs>\n      <g transform=\"translate(20.878125 134.309349)scale(0.1 -0.1)\">\n       <use xlink:href=\"#DejaVuSans-49\"/>\n       <use x=\"63.623047\" xlink:href=\"#DejaVuSans-48\"/>\n      </g>\n     </g>\n    </g>\n    <g id=\"ytick_4\">\n     <g id=\"line2d_7\">\n      <g>\n       <use style=\"stroke:#000000;stroke-width:0.8;\" x=\"40.603125\" xlink:href=\"#m2c0e868dfc\" y=\"83.445195\"/>\n      </g>\n     </g>\n     <g id=\"text_8\">\n      <!-- 15 -->\n      <g transform=\"translate(20.878125 87.244414)scale(0.1 -0.1)\">\n       <use xlink:href=\"#DejaVuSans-49\"/>\n       <use x=\"63.623047\" xlink:href=\"#DejaVuSans-53\"/>\n      </g>\n     </g>\n    </g>\n    <g id=\"ytick_5\">\n     <g id=\"line2d_8\">\n      <g>\n       <use style=\"stroke:#000000;stroke-width:0.8;\" x=\"40.603125\" xlink:href=\"#m2c0e868dfc\" y=\"36.38026\"/>\n      </g>\n     </g>\n     <g id=\"text_9\">\n      <!-- 20 -->\n      <defs>\n       <path d=\"M 19.1875 8.296875 \nL 53.609375 8.296875 \nL 53.609375 0 \nL 7.328125 0 \nL 7.328125 8.296875 \nQ 12.9375 14.109375 22.625 23.890625 \nQ 32.328125 33.6875 34.8125 36.53125 \nQ 39.546875 41.84375 41.421875 45.53125 \nQ 43.3125 49.21875 43.3125 52.78125 \nQ 43.3125 58.59375 39.234375 62.25 \nQ 35.15625 65.921875 28.609375 65.921875 \nQ 23.96875 65.921875 18.8125 64.3125 \nQ 13.671875 62.703125 7.8125 59.421875 \nL 7.8125 69.390625 \nQ 13.765625 71.78125 18.9375 73 \nQ 24.125 74.21875 28.421875 74.21875 \nQ 39.75 74.21875 46.484375 68.546875 \nQ 53.21875 62.890625 53.21875 53.421875 \nQ 53.21875 48.921875 51.53125 44.890625 \nQ 49.859375 40.875 45.40625 35.40625 \nQ 44.1875 33.984375 37.640625 27.21875 \nQ 31.109375 20.453125 19.1875 8.296875 \nz\n\" id=\"DejaVuSans-50\"/>\n      </defs>\n      <g transform=\"translate(20.878125 40.179478)scale(0.1 -0.1)\">\n       <use xlink:href=\"#DejaVuSans-50\"/>\n       <use x=\"63.623047\" xlink:href=\"#DejaVuSans-48\"/>\n      </g>\n     </g>\n    </g>\n    <g id=\"text_10\">\n     <!-- N patients -->\n     <defs>\n      <path d=\"M 9.8125 72.90625 \nL 23.09375 72.90625 \nL 55.421875 11.921875 \nL 55.421875 72.90625 \nL 64.984375 72.90625 \nL 64.984375 0 \nL 51.703125 0 \nL 19.390625 60.984375 \nL 19.390625 0 \nL 9.8125 0 \nz\n\" id=\"DejaVuSans-78\"/>\n      <path id=\"DejaVuSans-32\"/>\n      <path d=\"M 18.109375 8.203125 \nL 18.109375 -20.796875 \nL 9.078125 -20.796875 \nL 9.078125 54.6875 \nL 18.109375 54.6875 \nL 18.109375 46.390625 \nQ 20.953125 51.265625 25.265625 53.625 \nQ 29.59375 56 35.59375 56 \nQ 45.5625 56 51.78125 48.09375 \nQ 58.015625 40.1875 58.015625 27.296875 \nQ 58.015625 14.40625 51.78125 6.484375 \nQ 45.5625 -1.421875 35.59375 -1.421875 \nQ 29.59375 -1.421875 25.265625 0.953125 \nQ 20.953125 3.328125 18.109375 8.203125 \nz\nM 48.6875 27.296875 \nQ 48.6875 37.203125 44.609375 42.84375 \nQ 40.53125 48.484375 33.40625 48.484375 \nQ 26.265625 48.484375 22.1875 42.84375 \nQ 18.109375 37.203125 18.109375 27.296875 \nQ 18.109375 17.390625 22.1875 11.75 \nQ 26.265625 6.109375 33.40625 6.109375 \nQ 40.53125 6.109375 44.609375 11.75 \nQ 48.6875 17.390625 48.6875 27.296875 \nz\n\" id=\"DejaVuSans-112\"/>\n      <path d=\"M 34.28125 27.484375 \nQ 23.390625 27.484375 19.1875 25 \nQ 14.984375 22.515625 14.984375 16.5 \nQ 14.984375 11.71875 18.140625 8.90625 \nQ 21.296875 6.109375 26.703125 6.109375 \nQ 34.1875 6.109375 38.703125 11.40625 \nQ 43.21875 16.703125 43.21875 25.484375 \nL 43.21875 27.484375 \nz\nM 52.203125 31.203125 \nL 52.203125 0 \nL 43.21875 0 \nL 43.21875 8.296875 \nQ 40.140625 3.328125 35.546875 0.953125 \nQ 30.953125 -1.421875 24.3125 -1.421875 \nQ 15.921875 -1.421875 10.953125 3.296875 \nQ 6 8.015625 6 15.921875 \nQ 6 25.140625 12.171875 29.828125 \nQ 18.359375 34.515625 30.609375 34.515625 \nL 43.21875 34.515625 \nL 43.21875 35.40625 \nQ 43.21875 41.609375 39.140625 45 \nQ 35.0625 48.390625 27.6875 48.390625 \nQ 23 48.390625 18.546875 47.265625 \nQ 14.109375 46.140625 10.015625 43.890625 \nL 10.015625 52.203125 \nQ 14.9375 54.109375 19.578125 55.046875 \nQ 24.21875 56 28.609375 56 \nQ 40.484375 56 46.34375 49.84375 \nQ 52.203125 43.703125 52.203125 31.203125 \nz\n\" id=\"DejaVuSans-97\"/>\n      <path d=\"M 18.3125 70.21875 \nL 18.3125 54.6875 \nL 36.8125 54.6875 \nL 36.8125 47.703125 \nL 18.3125 47.703125 \nL 18.3125 18.015625 \nQ 18.3125 11.328125 20.140625 9.421875 \nQ 21.96875 7.515625 27.59375 7.515625 \nL 36.8125 7.515625 \nL 36.8125 0 \nL 27.59375 0 \nQ 17.1875 0 13.234375 3.875 \nQ 9.28125 7.765625 9.28125 18.015625 \nL 9.28125 47.703125 \nL 2.6875 47.703125 \nL 2.6875 54.6875 \nL 9.28125 54.6875 \nL 9.28125 70.21875 \nz\n\" id=\"DejaVuSans-116\"/>\n      <path d=\"M 9.421875 54.6875 \nL 18.40625 54.6875 \nL 18.40625 0 \nL 9.421875 0 \nz\nM 9.421875 75.984375 \nL 18.40625 75.984375 \nL 18.40625 64.59375 \nL 9.421875 64.59375 \nz\n\" id=\"DejaVuSans-105\"/>\n      <path d=\"M 56.203125 29.59375 \nL 56.203125 25.203125 \nL 14.890625 25.203125 \nQ 15.484375 15.921875 20.484375 11.0625 \nQ 25.484375 6.203125 34.421875 6.203125 \nQ 39.59375 6.203125 44.453125 7.46875 \nQ 49.3125 8.734375 54.109375 11.28125 \nL 54.109375 2.78125 \nQ 49.265625 0.734375 44.1875 -0.34375 \nQ 39.109375 -1.421875 33.890625 -1.421875 \nQ 20.796875 -1.421875 13.15625 6.1875 \nQ 5.515625 13.8125 5.515625 26.8125 \nQ 5.515625 40.234375 12.765625 48.109375 \nQ 20.015625 56 32.328125 56 \nQ 43.359375 56 49.78125 48.890625 \nQ 56.203125 41.796875 56.203125 29.59375 \nz\nM 47.21875 32.234375 \nQ 47.125 39.59375 43.09375 43.984375 \nQ 39.0625 48.390625 32.421875 48.390625 \nQ 24.90625 48.390625 20.390625 44.140625 \nQ 15.875 39.890625 15.1875 32.171875 \nz\n\" id=\"DejaVuSans-101\"/>\n      <path d=\"M 54.890625 33.015625 \nL 54.890625 0 \nL 45.90625 0 \nL 45.90625 32.71875 \nQ 45.90625 40.484375 42.875 44.328125 \nQ 39.84375 48.1875 33.796875 48.1875 \nQ 26.515625 48.1875 22.3125 43.546875 \nQ 18.109375 38.921875 18.109375 30.90625 \nL 18.109375 0 \nL 9.078125 0 \nL 9.078125 54.6875 \nL 18.109375 54.6875 \nL 18.109375 46.1875 \nQ 21.34375 51.125 25.703125 53.5625 \nQ 30.078125 56 35.796875 56 \nQ 45.21875 56 50.046875 50.171875 \nQ 54.890625 44.34375 54.890625 33.015625 \nz\n\" id=\"DejaVuSans-110\"/>\n      <path d=\"M 44.28125 53.078125 \nL 44.28125 44.578125 \nQ 40.484375 46.53125 36.375 47.5 \nQ 32.28125 48.484375 27.875 48.484375 \nQ 21.1875 48.484375 17.84375 46.4375 \nQ 14.5 44.390625 14.5 40.28125 \nQ 14.5 37.15625 16.890625 35.375 \nQ 19.28125 33.59375 26.515625 31.984375 \nL 29.59375 31.296875 \nQ 39.15625 29.25 43.1875 25.515625 \nQ 47.21875 21.78125 47.21875 15.09375 \nQ 47.21875 7.46875 41.1875 3.015625 \nQ 35.15625 -1.421875 24.609375 -1.421875 \nQ 20.21875 -1.421875 15.453125 -0.5625 \nQ 10.6875 0.296875 5.421875 2 \nL 5.421875 11.28125 \nQ 10.40625 8.6875 15.234375 7.390625 \nQ 20.0625 6.109375 24.8125 6.109375 \nQ 31.15625 6.109375 34.5625 8.28125 \nQ 37.984375 10.453125 37.984375 14.40625 \nQ 37.984375 18.0625 35.515625 20.015625 \nQ 33.0625 21.96875 24.703125 23.78125 \nL 21.578125 24.515625 \nQ 13.234375 26.265625 9.515625 29.90625 \nQ 5.8125 33.546875 5.8125 39.890625 \nQ 5.8125 47.609375 11.28125 51.796875 \nQ 16.75 56 26.8125 56 \nQ 31.78125 56 36.171875 55.265625 \nQ 40.578125 54.546875 44.28125 53.078125 \nz\n\" id=\"DejaVuSans-115\"/>\n     </defs>\n     <g transform=\"translate(14.798438 141.647344)rotate(-90)scale(0.1 -0.1)\">\n      <use xlink:href=\"#DejaVuSans-78\"/>\n      <use x=\"74.804688\" xlink:href=\"#DejaVuSans-32\"/>\n      <use x=\"106.591797\" xlink:href=\"#DejaVuSans-112\"/>\n      <use x=\"170.068359\" xlink:href=\"#DejaVuSans-97\"/>\n      <use x=\"231.347656\" xlink:href=\"#DejaVuSans-116\"/>\n      <use x=\"270.556641\" xlink:href=\"#DejaVuSans-105\"/>\n      <use x=\"298.339844\" xlink:href=\"#DejaVuSans-101\"/>\n      <use x=\"359.863281\" xlink:href=\"#DejaVuSans-110\"/>\n      <use x=\"423.242188\" xlink:href=\"#DejaVuSans-116\"/>\n      <use x=\"462.451172\" xlink:href=\"#DejaVuSans-115\"/>\n     </g>\n    </g>\n   </g>\n   <g id=\"patch_9\">\n    <path d=\"M 40.603125 224.64 \nL 40.603125 7.2 \n\" style=\"fill:none;stroke:#000000;stroke-linecap:square;stroke-linejoin:miter;stroke-width:0.8;\"/>\n   </g>\n   <g id=\"patch_10\">\n    <path d=\"M 375.403125 224.64 \nL 375.403125 7.2 \n\" style=\"fill:none;stroke:#000000;stroke-linecap:square;stroke-linejoin:miter;stroke-width:0.8;\"/>\n   </g>\n   <g id=\"patch_11\">\n    <path d=\"M 40.603125 224.64 \nL 375.403125 224.64 \n\" style=\"fill:none;stroke:#000000;stroke-linecap:square;stroke-linejoin:miter;stroke-width:0.8;\"/>\n   </g>\n   <g id=\"patch_12\">\n    <path d=\"M 40.603125 7.2 \nL 375.403125 7.2 \n\" style=\"fill:none;stroke:#000000;stroke-linecap:square;stroke-linejoin:miter;stroke-width:0.8;\"/>\n   </g>\n   <g id=\"legend_1\">\n    <g id=\"patch_13\">\n     <path d=\"M 47.603125 59.234375 \nL 110.471875 59.234375 \nQ 112.471875 59.234375 112.471875 57.234375 \nL 112.471875 14.2 \nQ 112.471875 12.2 110.471875 12.2 \nL 47.603125 12.2 \nQ 45.603125 12.2 45.603125 14.2 \nL 45.603125 57.234375 \nQ 45.603125 59.234375 47.603125 59.234375 \nz\n\" style=\"fill:#ffffff;opacity:0.8;stroke:#cccccc;stroke-linejoin:miter;\"/>\n    </g>\n    <g id=\"text_11\">\n     <!-- DODvsAlive -->\n     <defs>\n      <path d=\"M 19.671875 64.796875 \nL 19.671875 8.109375 \nL 31.59375 8.109375 \nQ 46.6875 8.109375 53.6875 14.9375 \nQ 60.6875 21.78125 60.6875 36.53125 \nQ 60.6875 51.171875 53.6875 57.984375 \nQ 46.6875 64.796875 31.59375 64.796875 \nz\nM 9.8125 72.90625 \nL 30.078125 72.90625 \nQ 51.265625 72.90625 61.171875 64.09375 \nQ 71.09375 55.28125 71.09375 36.53125 \nQ 71.09375 17.671875 61.125 8.828125 \nQ 51.171875 0 30.078125 0 \nL 9.8125 0 \nz\n\" id=\"DejaVuSans-68\"/>\n      <path d=\"M 39.40625 66.21875 \nQ 28.65625 66.21875 22.328125 58.203125 \nQ 16.015625 50.203125 16.015625 36.375 \nQ 16.015625 22.609375 22.328125 14.59375 \nQ 28.65625 6.59375 39.40625 6.59375 \nQ 50.140625 6.59375 56.421875 14.59375 \nQ 62.703125 22.609375 62.703125 36.375 \nQ 62.703125 50.203125 56.421875 58.203125 \nQ 50.140625 66.21875 39.40625 66.21875 \nz\nM 39.40625 74.21875 \nQ 54.734375 74.21875 63.90625 63.9375 \nQ 73.09375 53.65625 73.09375 36.375 \nQ 73.09375 19.140625 63.90625 8.859375 \nQ 54.734375 -1.421875 39.40625 -1.421875 \nQ 24.03125 -1.421875 14.8125 8.828125 \nQ 5.609375 19.09375 5.609375 36.375 \nQ 5.609375 53.65625 14.8125 63.9375 \nQ 24.03125 74.21875 39.40625 74.21875 \nz\n\" id=\"DejaVuSans-79\"/>\n      <path d=\"M 2.984375 54.6875 \nL 12.5 54.6875 \nL 29.59375 8.796875 \nL 46.6875 54.6875 \nL 56.203125 54.6875 \nL 35.6875 0 \nL 23.484375 0 \nz\n\" id=\"DejaVuSans-118\"/>\n      <path d=\"M 9.421875 75.984375 \nL 18.40625 75.984375 \nL 18.40625 0 \nL 9.421875 0 \nz\n\" id=\"DejaVuSans-108\"/>\n     </defs>\n     <g transform=\"translate(49.603125 23.798438)scale(0.1 -0.1)\">\n      <use xlink:href=\"#DejaVuSans-68\"/>\n      <use x=\"77.001953\" xlink:href=\"#DejaVuSans-79\"/>\n      <use x=\"155.712891\" xlink:href=\"#DejaVuSans-68\"/>\n      <use x=\"232.714844\" xlink:href=\"#DejaVuSans-118\"/>\n      <use x=\"291.894531\" xlink:href=\"#DejaVuSans-115\"/>\n      <use x=\"343.994141\" xlink:href=\"#DejaVuSans-65\"/>\n      <use x=\"412.402344\" xlink:href=\"#DejaVuSans-108\"/>\n      <use x=\"440.185547\" xlink:href=\"#DejaVuSans-105\"/>\n      <use x=\"467.96875\" xlink:href=\"#DejaVuSans-118\"/>\n      <use x=\"527.148438\" xlink:href=\"#DejaVuSans-101\"/>\n     </g>\n    </g>\n    <g id=\"patch_14\">\n     <path d=\"M 50.840625 38.476562 \nL 70.840625 38.476562 \nL 70.840625 31.476562 \nL 50.840625 31.476562 \nz\n\" style=\"fill:#1f77b4;\"/>\n    </g>\n    <g id=\"text_12\">\n     <!-- DOD -->\n     <g transform=\"translate(78.840625 38.476562)scale(0.1 -0.1)\">\n      <use xlink:href=\"#DejaVuSans-68\"/>\n      <use x=\"77.001953\" xlink:href=\"#DejaVuSans-79\"/>\n      <use x=\"155.712891\" xlink:href=\"#DejaVuSans-68\"/>\n     </g>\n    </g>\n    <g id=\"patch_15\">\n     <path d=\"M 50.840625 53.154687 \nL 70.840625 53.154687 \nL 70.840625 46.154687 \nL 50.840625 46.154687 \nz\n\" style=\"fill:#ff7f0e;\"/>\n    </g>\n    <g id=\"text_13\">\n     <!-- Other -->\n     <defs>\n      <path d=\"M 54.890625 33.015625 \nL 54.890625 0 \nL 45.90625 0 \nL 45.90625 32.71875 \nQ 45.90625 40.484375 42.875 44.328125 \nQ 39.84375 48.1875 33.796875 48.1875 \nQ 26.515625 48.1875 22.3125 43.546875 \nQ 18.109375 38.921875 18.109375 30.90625 \nL 18.109375 0 \nL 9.078125 0 \nL 9.078125 75.984375 \nL 18.109375 75.984375 \nL 18.109375 46.1875 \nQ 21.34375 51.125 25.703125 53.5625 \nQ 30.078125 56 35.796875 56 \nQ 45.21875 56 50.046875 50.171875 \nQ 54.890625 44.34375 54.890625 33.015625 \nz\n\" id=\"DejaVuSans-104\"/>\n      <path d=\"M 41.109375 46.296875 \nQ 39.59375 47.171875 37.8125 47.578125 \nQ 36.03125 48 33.890625 48 \nQ 26.265625 48 22.1875 43.046875 \nQ 18.109375 38.09375 18.109375 28.8125 \nL 18.109375 0 \nL 9.078125 0 \nL 9.078125 54.6875 \nL 18.109375 54.6875 \nL 18.109375 46.1875 \nQ 20.953125 51.171875 25.484375 53.578125 \nQ 30.03125 56 36.53125 56 \nQ 37.453125 56 38.578125 55.875 \nQ 39.703125 55.765625 41.0625 55.515625 \nz\n\" id=\"DejaVuSans-114\"/>\n     </defs>\n     <g transform=\"translate(78.840625 53.154687)scale(0.1 -0.1)\">\n      <use xlink:href=\"#DejaVuSans-79\"/>\n      <use x=\"78.710938\" xlink:href=\"#DejaVuSans-116\"/>\n      <use x=\"117.919922\" xlink:href=\"#DejaVuSans-104\"/>\n      <use x=\"181.298828\" xlink:href=\"#DejaVuSans-101\"/>\n      <use x=\"242.822266\" xlink:href=\"#DejaVuSans-114\"/>\n     </g>\n    </g>\n   </g>\n  </g>\n </g>\n <defs>\n  <clipPath id=\"p7858091a95\">\n   <rect height=\"217.44\" width=\"334.8\" x=\"40.603125\" y=\"7.2\"/>\n  </clipPath>\n </defs>\n</svg>\n",
      "image/png": "[encoded data removed]"
     },
     "metadata": {
      "needs_background": "light"
     }
    }
   ],
   "source": [
    "ax = pd.crosstab(new_metadata[\"ASMA\"], new_metadata[\"DODvsAlive\"]).plot.bar()\n",
    "ax.set_ylabel(\"N patients\")"
   ]
  },
  {
   "cell_type": "raw",
   "metadata": {},
   "source": [
    "trials = {name.split(\"/\")[-2][6:]: pd.read_json(name) for name in tqdm(glob.iglob(\"KerasTuner/**/*.json\", recursive = True)) if \"trial\" in name}"
   ]
  },
  {
   "cell_type": "markdown",
   "metadata": {},
   "source": [
    "## Regression stuff"
   ]
  },
  {
   "cell_type": "raw",
   "metadata": {},
   "source": [
    "from sklearn.linear_model import LinearRegression\n",
    "from sklearn.tree import DecisionTreeRegressor\n",
    "from sklearn.feature_selection import SelectFromModel\n",
    "\n",
    "import xgboost as xgb"
   ]
  },
  {
   "cell_type": "raw",
   "metadata": {},
   "source": [
    "regPipe = Pipeline([\n",
    "(\"Normalise spectra\", FunctionTransformer(robust_scale, kw_args = {\"axis\": 1})),\n",
    "(\"Scaler\", RobustScaler()),\n",
    "(\"PCA\", PCA()),\n",
    "(\"LinearReg\", LinearRegression()),\n",
    "])"
   ]
  },
  {
   "cell_type": "raw",
   "metadata": {},
   "source": [
    "regPipe = Pipeline([\n",
    "(\"Normalise spectra\", FunctionTransformer(robust_scale, kw_args = {\"axis\": 1})),\n",
    "(\"Scaler\", RobustScaler()),\n",
    "(\"SFM\", SelectFromModel(xgb.XGBRegressor(), threshold=\"0.25*mean\")),\n",
    "(\"PCA\", PCA()),\n",
    "(\"reg\", xgb.XGBRegressor()),\n",
    "])"
   ]
  },
  {
   "cell_type": "raw",
   "metadata": {},
   "source": [
    "data = total.copy().sample(frac=0.5)\n",
    "\n",
    "scores = cross_validate(regPipe, data.values, data.reset_index()[\"survival (months)\"], return_estimator=True, verbose=1, n_jobs=4)"
   ]
  },
  {
   "cell_type": "raw",
   "metadata": {},
   "source": [
    "predictions = scores[\"estimator\"][0].predict(data.values)"
   ]
  },
  {
   "cell_type": "raw",
   "metadata": {},
   "source": [
    "results = data.reset_index().loc[:,[\"survival (months)\"]]\n",
    "results[\"Predictions\"] = predictions\n",
    "results[\"Patient_Number\"] = data.reset_index().loc[:,\"Patient_Number\"]"
   ]
  },
  {
   "cell_type": "raw",
   "metadata": {},
   "source": [
    "data = total.copy().sample(frac = 1)#.reset_index([\"ASMA\"]).dropna(subset = [\"ASMA\"]).loc[:,[\"ASMA\"]]\n",
    "unique_patients = data.reset_index()[f\"{group}\"].unique()\n",
    "data[\"sample_weights\"] = Cross_Eval.get_weights(data.reset_index()[f\"{group}\"])\n",
    "   \n",
    "train_pat, valid_pat = train_test_split(unique_patients)\n",
    "\n",
    "train_data = data.query(f\"{group} in {list(train_pat)}\")\n",
    "validation_data = data.query(f\"{group} in {list(valid_pat)}\")\n",
    "\n",
    "w_train, w_test = train_data.reset_index()[\"sample_weights\"], validation_data.reset_index()[\"sample_weights\"]\n",
    "\n",
    "X_train = train_data.drop([\"sample_weights\"], axis = 1)\n",
    "X_valid = validation_data.drop([\"sample_weights\"], axis = 1)\n",
    "\n",
    "y_train, y_valid = train_data.reset_index().loc[:,[\"survival (months)\"]], validation_data.reset_index().loc[:,[\"survival (months)\"]]"
   ]
  },
  {
   "cell_type": "raw",
   "metadata": {},
   "source": [
    "regPipe.fit(X_train, y_train, reg__sample_weight=w_train)\n",
    "\n",
    "predictions = regPipe.predict(X_valid)\n",
    "\n",
    "results = y_valid.copy()\n",
    "results[\"Predictions\"] = predictions\n",
    "results[\"Patient_Number\"] = X_valid.reset_index().loc[:,[\"Patient_Number\"]]\n",
    "results = results.set_index(\"Patient_Number\")"
   ]
  },
  {
   "cell_type": "raw",
   "metadata": {},
   "source": [
    "fig, (ax1,ax2) = plt.subplots(ncols=2, figsize=(12,4))\n",
    "\n",
    "results.sort_values(\"survival (months)\").groupby(\"Patient_Number\").mean().plot(ax=ax1)\n",
    "\n",
    "(results[\"survival (months)\"]-results[\"Predictions\"]).groupby(\"Patient_Number\").plot.hist(histtype=\"step\",ax=ax2);"
   ]
  },
  {
   "cell_type": "markdown",
   "metadata": {},
   "source": [
    "## "
   ]
  },
  {
   "cell_type": "code",
   "execution_count": 27,
   "metadata": {},
   "outputs": [],
   "source": [
    "numeric_features = np.arange(2, len(total.columns)+1)\n",
    "categorical_features = [0,1]\n",
    "\n",
    "numeric_pipe = Pipeline([\n",
    "(\"Normalise spectra\", FunctionTransformer(robust_scale, kw_args = {\"axis\": 1})),\n",
    "(\"Scaler\", RobustScaler()),\n",
    "(\"PCA\", PCA()),\n",
    "])\n",
    "\n",
    "categorical_pipe = Pipeline([\n",
    "    (\"OneHot\", OneHotEncoder())\n",
    "])\n",
    "\n",
    "preprocessing = ColumnTransformer(\n",
    "    [(\"Numerical\", numeric_pipe, numeric_features),\n",
    "     (\"Categorical\", categorical_pipe, categorical_features)])\n",
    "\n",
    "pipe = Pipeline([\n",
    "    (\"Preprocessing\", preprocessing),\n",
    "])"
   ]
  },
  {
   "cell_type": "code",
   "execution_count": 62,
   "metadata": {},
   "outputs": [
    {
     "output_type": "execute_result",
     "data": {
      "text/plain": "                                                                                                                                                                                                                                                                                                                                                                                                                                                                                                                                                                                                                                                           998.0   \\\n1year 1yeardeath 2year 2years 3year 4year 5year Annotation_loc                                     Case ID Core_x Core_y Corrected Site AJCC/UICC DODvsAlive Date of death Date of recurrence Diagnosis Age DiedvsAlive ECS_x ECS_y ID      Last seen/reviewed Last updated N stage OUTCOME    OUTCOME.updated by Overall Death  Pathogical Stage Patient nu  Patient_Number Recurrence? T stage TMA TMA site Tissue Years advancing front type age @ diag date of diag diff     envi_loc                                           gender_x gender_y lifespan  pN pT radiotherapy recurrence site           site of recurrence stage survival (months)             \nFalse False      False 6      False False False /mnt/b/Google_Drive/PhD/Project with Janet/Labe... 3535    F13    F13    other                    Other      NaT           NaT                57.0          Alive       no    N     1.0-F13 2020-02-05         2020-04-21   0       alive      PG                 no             pT4N0M0          3535        3535           no          4       1.0 F13      Tumour NaN   non-cohesive         57         2009-09-03   mod      /mnt/b/Google_Drive/PhD/Project with Janet/Kohl... f        f        NaT       0  4  NaN          no         other          multiple primaries NaN   94.0               0.015120   \nTrue  False      True  1      False False False /mnt/b/Google_Drive/PhD/Project with Janet/Labe... 3338    D2     D2     oral tongue              DOD        2008-07-06    2008-01-23         50.0          Died        no    N     2.0-D2  NaT                2012-10-04   2c      DOD        CBarry             yes            pT2N2cMx         3338        3338           yes         2       2.0 D2       Tumour 1.0   non-cohesive         50         2007-06-18   well     /mnt/b/Google_Drive/PhD/Project with Janet/Kohl... m        m        384 days  2c 2  yes          yes        tongue         Local only         4     12.0               0.019596   \nFalse False      False 6      False False False /mnt/b/Google_Drive/PhD/Project with Janet/Labe... 3271    E1     E1     FOM                      Other      NaT           2010-07-23         59.0          Alive       yes   Y     2.0-E1  2010-07-23         2020-04-01   2b      alive      FGD                no             pT4N2bM0         3271        3271           yes         4       2.0 E1       Tumour NaN   poorly cohesive      59         2006-09-16   mod      /mnt/b/Google_Drive/PhD/Project with Janet/Kohl... m        m        NaT       2b 4  yes          yes        floor of mouth lung mets          4a    46.0               0.138121   \nTrue  False      True  1      False False False /mnt/b/Google_Drive/PhD/Project with Janet/Labe... 3237    D9     D9     other                    Other      2007-10-19    NaT                59.0          Died        yes   Y     1.0-D9  NaT                NaT          2a      Died other CBarry             yes            pT4aN2aMx        3237        3237           no          4a      1.0 D9       Tumour 1.0   non-cohesive         59         2006-03-24   mod well /mnt/b/Google_Drive/PhD/Project with Janet/Kohl... m        m        574 days  2a 4a yes          yes        other          NaN                4     2.0                0.047121   \nFalse False      False 4      False False True  /mnt/b/Google_Drive/PhD/Project with Janet/Labe... 3544    F8     F8     FOM                      Other      2015-03-23    NaT                62.0          Died        no    N     2.0-F8  NaT                2020-04-21   0       died other PG                 yes            pT4aN0Mx         3544        3544           no          4a      2.0 F8       Tumour 6.0   dyscohesive          62         2009-11-09   mod      /mnt/b/Google_Drive/PhD/Project with Janet/Kohl... m        m        1960 days 0  4a yes          no         other          NaN                4a    64.0               0.177172   \n\n                                                                                                                                                                                                                                                                                                                                                                                                                                                                                                                                                                                                                                                           1002.0  \\\n1year 1yeardeath 2year 2years 3year 4year 5year Annotation_loc                                     Case ID Core_x Core_y Corrected Site AJCC/UICC DODvsAlive Date of death Date of recurrence Diagnosis Age DiedvsAlive ECS_x ECS_y ID      Last seen/reviewed Last updated N stage OUTCOME    OUTCOME.updated by Overall Death  Pathogical Stage Patient nu  Patient_Number Recurrence? T stage TMA TMA site Tissue Years advancing front type age @ diag date of diag diff     envi_loc                                           gender_x gender_y lifespan  pN pT radiotherapy recurrence site           site of recurrence stage survival (months)             \nFalse False      False 6      False False False /mnt/b/Google_Drive/PhD/Project with Janet/Labe... 3535    F13    F13    other                    Other      NaT           NaT                57.0          Alive       no    N     1.0-F13 2020-02-05         2020-04-21   0       alive      PG                 no             pT4N0M0          3535        3535           no          4       1.0 F13      Tumour NaN   non-cohesive         57         2009-09-03   mod      /mnt/b/Google_Drive/PhD/Project with Janet/Kohl... f        f        NaT       0  4  NaN          no         other          multiple primaries NaN   94.0               0.019334   \nTrue  False      True  1      False False False /mnt/b/Google_Drive/PhD/Project with Janet/Labe... 3338    D2     D2     oral tongue              DOD        2008-07-06    2008-01-23         50.0          Died        no    N     2.0-D2  NaT                2012-10-04   2c      DOD        CBarry             yes            pT2N2cMx         3338        3338           yes         2       2.0 D2       Tumour 1.0   non-cohesive         50         2007-06-18   well     /mnt/b/Google_Drive/PhD/Project with Janet/Kohl... m        m        384 days  2c 2  yes          yes        tongue         Local only         4     12.0               0.022388   \nFalse False      False 6      False False False /mnt/b/Google_Drive/PhD/Project with Janet/Labe... 3271    E1     E1     FOM                      Other      NaT           2010-07-23         59.0          Alive       yes   Y     2.0-E1  2010-07-23         2020-04-01   2b      alive      FGD                no             pT4N2bM0         3271        3271           yes         4       2.0 E1       Tumour NaN   poorly cohesive      59         2006-09-16   mod      /mnt/b/Google_Drive/PhD/Project with Janet/Kohl... m        m        NaT       2b 4  yes          yes        floor of mouth lung mets          4a    46.0               0.141925   \nTrue  False      True  1      False False False /mnt/b/Google_Drive/PhD/Project with Janet/Labe... 3237    D9     D9     other                    Other      2007-10-19    NaT                59.0          Died        yes   Y     1.0-D9  NaT                NaT          2a      Died other CBarry             yes            pT4aN2aMx        3237        3237           no          4a      1.0 D9       Tumour 1.0   non-cohesive         59         2006-03-24   mod well /mnt/b/Google_Drive/PhD/Project with Janet/Kohl... m        m        574 days  2a 4a yes          yes        other          NaN                4     2.0                0.049681   \nFalse False      False 4      False False True  /mnt/b/Google_Drive/PhD/Project with Janet/Labe... 3544    F8     F8     FOM                      Other      2015-03-23    NaT                62.0          Died        no    N     2.0-F8  NaT                2020-04-21   0       died other PG                 yes            pT4aN0Mx         3544        3544           no          4a      2.0 F8       Tumour 6.0   dyscohesive          62         2009-11-09   mod      /mnt/b/Google_Drive/PhD/Project with Janet/Kohl... m        m        1960 days 0  4a yes          no         other          NaN                4a    64.0               0.181304   \n\n                                                                                                                                                                                                                                                                                                                                                                                                                                                                                                                                                                                                                                                           1006.0  \\\n1year 1yeardeath 2year 2years 3year 4year 5year Annotation_loc                                     Case ID Core_x Core_y Corrected Site AJCC/UICC DODvsAlive Date of death Date of recurrence Diagnosis Age DiedvsAlive ECS_x ECS_y ID      Last seen/reviewed Last updated N stage OUTCOME    OUTCOME.updated by Overall Death  Pathogical Stage Patient nu  Patient_Number Recurrence? T stage TMA TMA site Tissue Years advancing front type age @ diag date of diag diff     envi_loc                                           gender_x gender_y lifespan  pN pT radiotherapy recurrence site           site of recurrence stage survival (months)             \nFalse False      False 6      False False False /mnt/b/Google_Drive/PhD/Project with Janet/Labe... 3535    F13    F13    other                    Other      NaT           NaT                57.0          Alive       no    N     1.0-F13 2020-02-05         2020-04-21   0       alive      PG                 no             pT4N0M0          3535        3535           no          4       1.0 F13      Tumour NaN   non-cohesive         57         2009-09-03   mod      /mnt/b/Google_Drive/PhD/Project with Janet/Kohl... f        f        NaT       0  4  NaN          no         other          multiple primaries NaN   94.0               0.022947   \nTrue  False      True  1      False False False /mnt/b/Google_Drive/PhD/Project with Janet/Labe... 3338    D2     D2     oral tongue              DOD        2008-07-06    2008-01-23         50.0          Died        no    N     2.0-D2  NaT                2012-10-04   2c      DOD        CBarry             yes            pT2N2cMx         3338        3338           yes         2       2.0 D2       Tumour 1.0   non-cohesive         50         2007-06-18   well     /mnt/b/Google_Drive/PhD/Project with Janet/Kohl... m        m        384 days  2c 2  yes          yes        tongue         Local only         4     12.0               0.024784   \nFalse False      False 6      False False False /mnt/b/Google_Drive/PhD/Project with Janet/Labe... 3271    E1     E1     FOM                      Other      NaT           2010-07-23         59.0          Alive       yes   Y     2.0-E1  2010-07-23         2020-04-01   2b      alive      FGD                no             pT4N2bM0         3271        3271           yes         4       2.0 E1       Tumour NaN   poorly cohesive      59         2006-09-16   mod      /mnt/b/Google_Drive/PhD/Project with Janet/Kohl... m        m        NaT       2b 4  yes          yes        floor of mouth lung mets          4a    46.0               0.145251   \nTrue  False      True  1      False False False /mnt/b/Google_Drive/PhD/Project with Janet/Labe... 3237    D9     D9     other                    Other      2007-10-19    NaT                59.0          Died        yes   Y     1.0-D9  NaT                NaT          2a      Died other CBarry             yes            pT4aN2aMx        3237        3237           no          4a      1.0 D9       Tumour 1.0   non-cohesive         59         2006-03-24   mod well /mnt/b/Google_Drive/PhD/Project with Janet/Kohl... m        m        574 days  2a 4a yes          yes        other          NaN                4     2.0                0.052072   \nFalse False      False 4      False False True  /mnt/b/Google_Drive/PhD/Project with Janet/Labe... 3544    F8     F8     FOM                      Other      2015-03-23    NaT                62.0          Died        no    N     2.0-F8  NaT                2020-04-21   0       died other PG                 yes            pT4aN0Mx         3544        3544           no          4a      2.0 F8       Tumour 6.0   dyscohesive          62         2009-11-09   mod      /mnt/b/Google_Drive/PhD/Project with Janet/Kohl... m        m        1960 days 0  4a yes          no         other          NaN                4a    64.0               0.186477   \n\n                                                                                                                                                                                                                                                                                                                                                                                                                                                                                                                                                                                                                                                           1010.0  \\\n1year 1yeardeath 2year 2years 3year 4year 5year Annotation_loc                                     Case ID Core_x Core_y Corrected Site AJCC/UICC DODvsAlive Date of death Date of recurrence Diagnosis Age DiedvsAlive ECS_x ECS_y ID      Last seen/reviewed Last updated N stage OUTCOME    OUTCOME.updated by Overall Death  Pathogical Stage Patient nu  Patient_Number Recurrence? T stage TMA TMA site Tissue Years advancing front type age @ diag date of diag diff     envi_loc                                           gender_x gender_y lifespan  pN pT radiotherapy recurrence site           site of recurrence stage survival (months)             \nFalse False      False 6      False False False /mnt/b/Google_Drive/PhD/Project with Janet/Labe... 3535    F13    F13    other                    Other      NaT           NaT                57.0          Alive       no    N     1.0-F13 2020-02-05         2020-04-21   0       alive      PG                 no             pT4N0M0          3535        3535           no          4       1.0 F13      Tumour NaN   non-cohesive         57         2009-09-03   mod      /mnt/b/Google_Drive/PhD/Project with Janet/Kohl... f        f        NaT       0  4  NaN          no         other          multiple primaries NaN   94.0               0.026028   \nTrue  False      True  1      False False False /mnt/b/Google_Drive/PhD/Project with Janet/Labe... 3338    D2     D2     oral tongue              DOD        2008-07-06    2008-01-23         50.0          Died        no    N     2.0-D2  NaT                2012-10-04   2c      DOD        CBarry             yes            pT2N2cMx         3338        3338           yes         2       2.0 D2       Tumour 1.0   non-cohesive         50         2007-06-18   well     /mnt/b/Google_Drive/PhD/Project with Janet/Kohl... m        m        384 days  2c 2  yes          yes        tongue         Local only         4     12.0               0.026872   \nFalse False      False 6      False False False /mnt/b/Google_Drive/PhD/Project with Janet/Labe... 3271    E1     E1     FOM                      Other      NaT           2010-07-23         59.0          Alive       yes   Y     2.0-E1  2010-07-23         2020-04-01   2b      alive      FGD                no             pT4N2bM0         3271        3271           yes         4       2.0 E1       Tumour NaN   poorly cohesive      59         2006-09-16   mod      /mnt/b/Google_Drive/PhD/Project with Janet/Kohl... m        m        NaT       2b 4  yes          yes        floor of mouth lung mets          4a    46.0               0.148186   \nTrue  False      True  1      False False False /mnt/b/Google_Drive/PhD/Project with Janet/Labe... 3237    D9     D9     other                    Other      2007-10-19    NaT                59.0          Died        yes   Y     1.0-D9  NaT                NaT          2a      Died other CBarry             yes            pT4aN2aMx        3237        3237           no          4a      1.0 D9       Tumour 1.0   non-cohesive         59         2006-03-24   mod well /mnt/b/Google_Drive/PhD/Project with Janet/Kohl... m        m        574 days  2a 4a yes          yes        other          NaN                4     2.0                0.054330   \nFalse False      False 4      False False True  /mnt/b/Google_Drive/PhD/Project with Janet/Labe... 3544    F8     F8     FOM                      Other      2015-03-23    NaT                62.0          Died        no    N     2.0-F8  NaT                2020-04-21   0       died other PG                 yes            pT4aN0Mx         3544        3544           no          4a      2.0 F8       Tumour 6.0   dyscohesive          62         2009-11-09   mod      /mnt/b/Google_Drive/PhD/Project with Janet/Kohl... m        m        1960 days 0  4a yes          no         other          NaN                4a    64.0               0.192546   \n\n                                                                                                                                                                                                                                                                                                                                                                                                                                                                                                                                                                                                                                                           1014.0  \\\n1year 1yeardeath 2year 2years 3year 4year 5year Annotation_loc                                     Case ID Core_x Core_y Corrected Site AJCC/UICC DODvsAlive Date of death Date of recurrence Diagnosis Age DiedvsAlive ECS_x ECS_y ID      Last seen/reviewed Last updated N stage OUTCOME    OUTCOME.updated by Overall Death  Pathogical Stage Patient nu  Patient_Number Recurrence? T stage TMA TMA site Tissue Years advancing front type age @ diag date of diag diff     envi_loc                                           gender_x gender_y lifespan  pN pT radiotherapy recurrence site           site of recurrence stage survival (months)             \nFalse False      False 6      False False False /mnt/b/Google_Drive/PhD/Project with Janet/Labe... 3535    F13    F13    other                    Other      NaT           NaT                57.0          Alive       no    N     1.0-F13 2020-02-05         2020-04-21   0       alive      PG                 no             pT4N0M0          3535        3535           no          4       1.0 F13      Tumour NaN   non-cohesive         57         2009-09-03   mod      /mnt/b/Google_Drive/PhD/Project with Janet/Kohl... f        f        NaT       0  4  NaN          no         other          multiple primaries NaN   94.0               0.028650   \nTrue  False      True  1      False False False /mnt/b/Google_Drive/PhD/Project with Janet/Labe... 3338    D2     D2     oral tongue              DOD        2008-07-06    2008-01-23         50.0          Died        no    N     2.0-D2  NaT                2012-10-04   2c      DOD        CBarry             yes            pT2N2cMx         3338        3338           yes         2       2.0 D2       Tumour 1.0   non-cohesive         50         2007-06-18   well     /mnt/b/Google_Drive/PhD/Project with Janet/Kohl... m        m        384 days  2c 2  yes          yes        tongue         Local only         4     12.0               0.028736   \nFalse False      False 6      False False False /mnt/b/Google_Drive/PhD/Project with Janet/Labe... 3271    E1     E1     FOM                      Other      NaT           2010-07-23         59.0          Alive       yes   Y     2.0-E1  2010-07-23         2020-04-01   2b      alive      FGD                no             pT4N2bM0         3271        3271           yes         4       2.0 E1       Tumour NaN   poorly cohesive      59         2006-09-16   mod      /mnt/b/Google_Drive/PhD/Project with Janet/Kohl... m        m        NaT       2b 4  yes          yes        floor of mouth lung mets          4a    46.0               0.150816   \nTrue  False      True  1      False False False /mnt/b/Google_Drive/PhD/Project with Janet/Labe... 3237    D9     D9     other                    Other      2007-10-19    NaT                59.0          Died        yes   Y     1.0-D9  NaT                NaT          2a      Died other CBarry             yes            pT4aN2aMx        3237        3237           no          4a      1.0 D9       Tumour 1.0   non-cohesive         59         2006-03-24   mod well /mnt/b/Google_Drive/PhD/Project with Janet/Kohl... m        m        574 days  2a 4a yes          yes        other          NaN                4     2.0                0.056489   \nFalse False      False 4      False False True  /mnt/b/Google_Drive/PhD/Project with Janet/Labe... 3544    F8     F8     FOM                      Other      2015-03-23    NaT                62.0          Died        no    N     2.0-F8  NaT                2020-04-21   0       died other PG                 yes            pT4aN0Mx         3544        3544           no          4a      2.0 F8       Tumour 6.0   dyscohesive          62         2009-11-09   mod      /mnt/b/Google_Drive/PhD/Project with Janet/Kohl... m        m        1960 days 0  4a yes          no         other          NaN                4a    64.0               0.199366   \n\n                                                                                                                                                                                                                                                                                                                                                                                                                                                                                                                                                                                                                                                           1018.0  \\\n1year 1yeardeath 2year 2years 3year 4year 5year Annotation_loc                                     Case ID Core_x Core_y Corrected Site AJCC/UICC DODvsAlive Date of death Date of recurrence Diagnosis Age DiedvsAlive ECS_x ECS_y ID      Last seen/reviewed Last updated N stage OUTCOME    OUTCOME.updated by Overall Death  Pathogical Stage Patient nu  Patient_Number Recurrence? T stage TMA TMA site Tissue Years advancing front type age @ diag date of diag diff     envi_loc                                           gender_x gender_y lifespan  pN pT radiotherapy recurrence site           site of recurrence stage survival (months)             \nFalse False      False 6      False False False /mnt/b/Google_Drive/PhD/Project with Janet/Labe... 3535    F13    F13    other                    Other      NaT           NaT                57.0          Alive       no    N     1.0-F13 2020-02-05         2020-04-21   0       alive      PG                 no             pT4N0M0          3535        3535           no          4       1.0 F13      Tumour NaN   non-cohesive         57         2009-09-03   mod      /mnt/b/Google_Drive/PhD/Project with Janet/Kohl... f        f        NaT       0  4  NaN          no         other          multiple primaries NaN   94.0               0.030883   \nTrue  False      True  1      False False False /mnt/b/Google_Drive/PhD/Project with Janet/Labe... 3338    D2     D2     oral tongue              DOD        2008-07-06    2008-01-23         50.0          Died        no    N     2.0-D2  NaT                2012-10-04   2c      DOD        CBarry             yes            pT2N2cMx         3338        3338           yes         2       2.0 D2       Tumour 1.0   non-cohesive         50         2007-06-18   well     /mnt/b/Google_Drive/PhD/Project with Janet/Kohl... m        m        384 days  2c 2  yes          yes        tongue         Local only         4     12.0               0.030464   \nFalse False      False 6      False False False /mnt/b/Google_Drive/PhD/Project with Janet/Labe... 3271    E1     E1     FOM                      Other      NaT           2010-07-23         59.0          Alive       yes   Y     2.0-E1  2010-07-23         2020-04-01   2b      alive      FGD                no             pT4N2bM0         3271        3271           yes         4       2.0 E1       Tumour NaN   poorly cohesive      59         2006-09-16   mod      /mnt/b/Google_Drive/PhD/Project with Janet/Kohl... m        m        NaT       2b 4  yes          yes        floor of mouth lung mets          4a    46.0               0.153227   \nTrue  False      True  1      False False False /mnt/b/Google_Drive/PhD/Project with Janet/Labe... 3237    D9     D9     other                    Other      2007-10-19    NaT                59.0          Died        yes   Y     1.0-D9  NaT                NaT          2a      Died other CBarry             yes            pT4aN2aMx        3237        3237           no          4a      1.0 D9       Tumour 1.0   non-cohesive         59         2006-03-24   mod well /mnt/b/Google_Drive/PhD/Project with Janet/Kohl... m        m        574 days  2a 4a yes          yes        other          NaN                4     2.0                0.058585   \nFalse False      False 4      False False True  /mnt/b/Google_Drive/PhD/Project with Janet/Labe... 3544    F8     F8     FOM                      Other      2015-03-23    NaT                62.0          Died        no    N     2.0-F8  NaT                2020-04-21   0       died other PG                 yes            pT4aN0Mx         3544        3544           no          4a      2.0 F8       Tumour 6.0   dyscohesive          62         2009-11-09   mod      /mnt/b/Google_Drive/PhD/Project with Janet/Kohl... m        m        1960 days 0  4a yes          no         other          NaN                4a    64.0               0.206793   \n\n                                                                                                                                                                                                                                                                                                                                                                                                                                                                                                                                                                                                                                                           1022.0  \\\n1year 1yeardeath 2year 2years 3year 4year 5year Annotation_loc                                     Case ID Core_x Core_y Corrected Site AJCC/UICC DODvsAlive Date of death Date of recurrence Diagnosis Age DiedvsAlive ECS_x ECS_y ID      Last seen/reviewed Last updated N stage OUTCOME    OUTCOME.updated by Overall Death  Pathogical Stage Patient nu  Patient_Number Recurrence? T stage TMA TMA site Tissue Years advancing front type age @ diag date of diag diff     envi_loc                                           gender_x gender_y lifespan  pN pT radiotherapy recurrence site           site of recurrence stage survival (months)             \nFalse False      False 6      False False False /mnt/b/Google_Drive/PhD/Project with Janet/Labe... 3535    F13    F13    other                    Other      NaT           NaT                57.0          Alive       no    N     1.0-F13 2020-02-05         2020-04-21   0       alive      PG                 no             pT4N0M0          3535        3535           no          4       1.0 F13      Tumour NaN   non-cohesive         57         2009-09-03   mod      /mnt/b/Google_Drive/PhD/Project with Janet/Kohl... f        f        NaT       0  4  NaN          no         other          multiple primaries NaN   94.0               0.032409   \nTrue  False      True  1      False False False /mnt/b/Google_Drive/PhD/Project with Janet/Labe... 3338    D2     D2     oral tongue              DOD        2008-07-06    2008-01-23         50.0          Died        no    N     2.0-D2  NaT                2012-10-04   2c      DOD        CBarry             yes            pT2N2cMx         3338        3338           yes         2       2.0 D2       Tumour 1.0   non-cohesive         50         2007-06-18   well     /mnt/b/Google_Drive/PhD/Project with Janet/Kohl... m        m        384 days  2c 2  yes          yes        tongue         Local only         4     12.0               0.031998   \nFalse False      False 6      False False False /mnt/b/Google_Drive/PhD/Project with Janet/Labe... 3271    E1     E1     FOM                      Other      NaT           2010-07-23         59.0          Alive       yes   Y     2.0-E1  2010-07-23         2020-04-01   2b      alive      FGD                no             pT4N2bM0         3271        3271           yes         4       2.0 E1       Tumour NaN   poorly cohesive      59         2006-09-16   mod      /mnt/b/Google_Drive/PhD/Project with Janet/Kohl... m        m        NaT       2b 4  yes          yes        floor of mouth lung mets          4a    46.0               0.155084   \nTrue  False      True  1      False False False /mnt/b/Google_Drive/PhD/Project with Janet/Labe... 3237    D9     D9     other                    Other      2007-10-19    NaT                59.0          Died        yes   Y     1.0-D9  NaT                NaT          2a      Died other CBarry             yes            pT4aN2aMx        3237        3237           no          4a      1.0 D9       Tumour 1.0   non-cohesive         59         2006-03-24   mod well /mnt/b/Google_Drive/PhD/Project with Janet/Kohl... m        m        574 days  2a 4a yes          yes        other          NaN                4     2.0                0.060588   \nFalse False      False 4      False False True  /mnt/b/Google_Drive/PhD/Project with Janet/Labe... 3544    F8     F8     FOM                      Other      2015-03-23    NaT                62.0          Died        no    N     2.0-F8  NaT                2020-04-21   0       died other PG                 yes            pT4aN0Mx         3544        3544           no          4a      2.0 F8       Tumour 6.0   dyscohesive          62         2009-11-09   mod      /mnt/b/Google_Drive/PhD/Project with Janet/Kohl... m        m        1960 days 0  4a yes          no         other          NaN                4a    64.0               0.214629   \n\n                                                                                                                                                                                                                                                                                                                                                                                                                                                                                                                                                                                                                                                           1025.0  \\\n1year 1yeardeath 2year 2years 3year 4year 5year Annotation_loc                                     Case ID Core_x Core_y Corrected Site AJCC/UICC DODvsAlive Date of death Date of recurrence Diagnosis Age DiedvsAlive ECS_x ECS_y ID      Last seen/reviewed Last updated N stage OUTCOME    OUTCOME.updated by Overall Death  Pathogical Stage Patient nu  Patient_Number Recurrence? T stage TMA TMA site Tissue Years advancing front type age @ diag date of diag diff     envi_loc                                           gender_x gender_y lifespan  pN pT radiotherapy recurrence site           site of recurrence stage survival (months)             \nFalse False      False 6      False False False /mnt/b/Google_Drive/PhD/Project with Janet/Labe... 3535    F13    F13    other                    Other      NaT           NaT                57.0          Alive       no    N     1.0-F13 2020-02-05         2020-04-21   0       alive      PG                 no             pT4N0M0          3535        3535           no          4       1.0 F13      Tumour NaN   non-cohesive         57         2009-09-03   mod      /mnt/b/Google_Drive/PhD/Project with Janet/Kohl... f        f        NaT       0  4  NaN          no         other          multiple primaries NaN   94.0               0.034104   \nTrue  False      True  1      False False False /mnt/b/Google_Drive/PhD/Project with Janet/Labe... 3338    D2     D2     oral tongue              DOD        2008-07-06    2008-01-23         50.0          Died        no    N     2.0-D2  NaT                2012-10-04   2c      DOD        CBarry             yes            pT2N2cMx         3338        3338           yes         2       2.0 D2       Tumour 1.0   non-cohesive         50         2007-06-18   well     /mnt/b/Google_Drive/PhD/Project with Janet/Kohl... m        m        384 days  2c 2  yes          yes        tongue         Local only         4     12.0               0.033520   \nFalse False      False 6      False False False /mnt/b/Google_Drive/PhD/Project with Janet/Labe... 3271    E1     E1     FOM                      Other      NaT           2010-07-23         59.0          Alive       yes   Y     2.0-E1  2010-07-23         2020-04-01   2b      alive      FGD                no             pT4N2bM0         3271        3271           yes         4       2.0 E1       Tumour NaN   poorly cohesive      59         2006-09-16   mod      /mnt/b/Google_Drive/PhD/Project with Janet/Kohl... m        m        NaT       2b 4  yes          yes        floor of mouth lung mets          4a    46.0               0.157378   \nTrue  False      True  1      False False False /mnt/b/Google_Drive/PhD/Project with Janet/Labe... 3237    D9     D9     other                    Other      2007-10-19    NaT                59.0          Died        yes   Y     1.0-D9  NaT                NaT          2a      Died other CBarry             yes            pT4aN2aMx        3237        3237           no          4a      1.0 D9       Tumour 1.0   non-cohesive         59         2006-03-24   mod well /mnt/b/Google_Drive/PhD/Project with Janet/Kohl... m        m        574 days  2a 4a yes          yes        other          NaN                4     2.0                0.062694   \nFalse False      False 4      False False True  /mnt/b/Google_Drive/PhD/Project with Janet/Labe... 3544    F8     F8     FOM                      Other      2015-03-23    NaT                62.0          Died        no    N     2.0-F8  NaT                2020-04-21   0       died other PG                 yes            pT4aN0Mx         3544        3544           no          4a      2.0 F8       Tumour 6.0   dyscohesive          62         2009-11-09   mod      /mnt/b/Google_Drive/PhD/Project with Janet/Kohl... m        m        1960 days 0  4a yes          no         other          NaN                4a    64.0               0.223113   \n\n                                                                                                                                                                                                                                                                                                                                                                                                                                                                                                                                                                                                                                                           1029.0  \\\n1year 1yeardeath 2year 2years 3year 4year 5year Annotation_loc                                     Case ID Core_x Core_y Corrected Site AJCC/UICC DODvsAlive Date of death Date of recurrence Diagnosis Age DiedvsAlive ECS_x ECS_y ID      Last seen/reviewed Last updated N stage OUTCOME    OUTCOME.updated by Overall Death  Pathogical Stage Patient nu  Patient_Number Recurrence? T stage TMA TMA site Tissue Years advancing front type age @ diag date of diag diff     envi_loc                                           gender_x gender_y lifespan  pN pT radiotherapy recurrence site           site of recurrence stage survival (months)             \nFalse False      False 6      False False False /mnt/b/Google_Drive/PhD/Project with Janet/Labe... 3535    F13    F13    other                    Other      NaT           NaT                57.0          Alive       no    N     1.0-F13 2020-02-05         2020-04-21   0       alive      PG                 no             pT4N0M0          3535        3535           no          4       1.0 F13      Tumour NaN   non-cohesive         57         2009-09-03   mod      /mnt/b/Google_Drive/PhD/Project with Janet/Kohl... f        f        NaT       0  4  NaN          no         other          multiple primaries NaN   94.0               0.035740   \nTrue  False      True  1      False False False /mnt/b/Google_Drive/PhD/Project with Janet/Labe... 3338    D2     D2     oral tongue              DOD        2008-07-06    2008-01-23         50.0          Died        no    N     2.0-D2  NaT                2012-10-04   2c      DOD        CBarry             yes            pT2N2cMx         3338        3338           yes         2       2.0 D2       Tumour 1.0   non-cohesive         50         2007-06-18   well     /mnt/b/Google_Drive/PhD/Project with Janet/Kohl... m        m        384 days  2c 2  yes          yes        tongue         Local only         4     12.0               0.035577   \nFalse False      False 6      False False False /mnt/b/Google_Drive/PhD/Project with Janet/Labe... 3271    E1     E1     FOM                      Other      NaT           2010-07-23         59.0          Alive       yes   Y     2.0-E1  2010-07-23         2020-04-01   2b      alive      FGD                no             pT4N2bM0         3271        3271           yes         4       2.0 E1       Tumour NaN   poorly cohesive      59         2006-09-16   mod      /mnt/b/Google_Drive/PhD/Project with Janet/Kohl... m        m        NaT       2b 4  yes          yes        floor of mouth lung mets          4a    46.0               0.159815   \nTrue  False      True  1      False False False /mnt/b/Google_Drive/PhD/Project with Janet/Labe... 3237    D9     D9     other                    Other      2007-10-19    NaT                59.0          Died        yes   Y     1.0-D9  NaT                NaT          2a      Died other CBarry             yes            pT4aN2aMx        3237        3237           no          4a      1.0 D9       Tumour 1.0   non-cohesive         59         2006-03-24   mod well /mnt/b/Google_Drive/PhD/Project with Janet/Kohl... m        m        574 days  2a 4a yes          yes        other          NaN                4     2.0                0.064715   \nFalse False      False 4      False False True  /mnt/b/Google_Drive/PhD/Project with Janet/Labe... 3544    F8     F8     FOM                      Other      2015-03-23    NaT                62.0          Died        no    N     2.0-F8  NaT                2020-04-21   0       died other PG                 yes            pT4aN0Mx         3544        3544           no          4a      2.0 F8       Tumour 6.0   dyscohesive          62         2009-11-09   mod      /mnt/b/Google_Drive/PhD/Project with Janet/Kohl... m        m        1960 days 0  4a yes          no         other          NaN                4a    64.0               0.230831   \n\n                                                                                                                                                                                                                                                                                                                                                                                                                                                                                                                                                                                                                                                           1033.0  \\\n1year 1yeardeath 2year 2years 3year 4year 5year Annotation_loc                                     Case ID Core_x Core_y Corrected Site AJCC/UICC DODvsAlive Date of death Date of recurrence Diagnosis Age DiedvsAlive ECS_x ECS_y ID      Last seen/reviewed Last updated N stage OUTCOME    OUTCOME.updated by Overall Death  Pathogical Stage Patient nu  Patient_Number Recurrence? T stage TMA TMA site Tissue Years advancing front type age @ diag date of diag diff     envi_loc                                           gender_x gender_y lifespan  pN pT radiotherapy recurrence site           site of recurrence stage survival (months)             \nFalse False      False 6      False False False /mnt/b/Google_Drive/PhD/Project with Janet/Labe... 3535    F13    F13    other                    Other      NaT           NaT                57.0          Alive       no    N     1.0-F13 2020-02-05         2020-04-21   0       alive      PG                 no             pT4N0M0          3535        3535           no          4       1.0 F13      Tumour NaN   non-cohesive         57         2009-09-03   mod      /mnt/b/Google_Drive/PhD/Project with Janet/Kohl... f        f        NaT       0  4  NaN          no         other          multiple primaries NaN   94.0               0.037572   \nTrue  False      True  1      False False False /mnt/b/Google_Drive/PhD/Project with Janet/Labe... 3338    D2     D2     oral tongue              DOD        2008-07-06    2008-01-23         50.0          Died        no    N     2.0-D2  NaT                2012-10-04   2c      DOD        CBarry             yes            pT2N2cMx         3338        3338           yes         2       2.0 D2       Tumour 1.0   non-cohesive         50         2007-06-18   well     /mnt/b/Google_Drive/PhD/Project with Janet/Kohl... m        m        384 days  2c 2  yes          yes        tongue         Local only         4     12.0               0.038099   \nFalse False      False 6      False False False /mnt/b/Google_Drive/PhD/Project with Janet/Labe... 3271    E1     E1     FOM                      Other      NaT           2010-07-23         59.0          Alive       yes   Y     2.0-E1  2010-07-23         2020-04-01   2b      alive      FGD                no             pT4N2bM0         3271        3271           yes         4       2.0 E1       Tumour NaN   poorly cohesive      59         2006-09-16   mod      /mnt/b/Google_Drive/PhD/Project with Janet/Kohl... m        m        NaT       2b 4  yes          yes        floor of mouth lung mets          4a    46.0               0.162497   \nTrue  False      True  1      False False False /mnt/b/Google_Drive/PhD/Project with Janet/Labe... 3237    D9     D9     other                    Other      2007-10-19    NaT                59.0          Died        yes   Y     1.0-D9  NaT                NaT          2a      Died other CBarry             yes            pT4aN2aMx        3237        3237           no          4a      1.0 D9       Tumour 1.0   non-cohesive         59         2006-03-24   mod well /mnt/b/Google_Drive/PhD/Project with Janet/Kohl... m        m        574 days  2a 4a yes          yes        other          NaN                4     2.0                0.066841   \nFalse False      False 4      False False True  /mnt/b/Google_Drive/PhD/Project with Janet/Labe... 3544    F8     F8     FOM                      Other      2015-03-23    NaT                62.0          Died        no    N     2.0-F8  NaT                2020-04-21   0       died other PG                 yes            pT4aN0Mx         3544        3544           no          4a      2.0 F8       Tumour 6.0   dyscohesive          62         2009-11-09   mod      /mnt/b/Google_Drive/PhD/Project with Janet/Kohl... m        m        1960 days 0  4a yes          no         other          NaN                4a    64.0               0.238191   \n\n                                                                                                                                                                                                                                                                                                                                                                                                                                                                                                                                                                                                                                                         ...  \\\n1year 1yeardeath 2year 2years 3year 4year 5year Annotation_loc                                     Case ID Core_x Core_y Corrected Site AJCC/UICC DODvsAlive Date of death Date of recurrence Diagnosis Age DiedvsAlive ECS_x ECS_y ID      Last seen/reviewed Last updated N stage OUTCOME    OUTCOME.updated by Overall Death  Pathogical Stage Patient nu  Patient_Number Recurrence? T stage TMA TMA site Tissue Years advancing front type age @ diag date of diag diff     envi_loc                                           gender_x gender_y lifespan  pN pT radiotherapy recurrence site           site of recurrence stage survival (months)  ...   \nFalse False      False 6      False False False /mnt/b/Google_Drive/PhD/Project with Janet/Labe... 3535    F13    F13    other                    Other      NaT           NaT                57.0          Alive       no    N     1.0-F13 2020-02-05         2020-04-21   0       alive      PG                 no             pT4N0M0          3535        3535           no          4       1.0 F13      Tumour NaN   non-cohesive         57         2009-09-03   mod      /mnt/b/Google_Drive/PhD/Project with Janet/Kohl... f        f        NaT       0  4  NaN          no         other          multiple primaries NaN   94.0               ...   \nTrue  False      True  1      False False False /mnt/b/Google_Drive/PhD/Project with Janet/Labe... 3338    D2     D2     oral tongue              DOD        2008-07-06    2008-01-23         50.0          Died        no    N     2.0-D2  NaT                2012-10-04   2c      DOD        CBarry             yes            pT2N2cMx         3338        3338           yes         2       2.0 D2       Tumour 1.0   non-cohesive         50         2007-06-18   well     /mnt/b/Google_Drive/PhD/Project with Janet/Kohl... m        m        384 days  2c 2  yes          yes        tongue         Local only         4     12.0               ...   \nFalse False      False 6      False False False /mnt/b/Google_Drive/PhD/Project with Janet/Labe... 3271    E1     E1     FOM                      Other      NaT           2010-07-23         59.0          Alive       yes   Y     2.0-E1  2010-07-23         2020-04-01   2b      alive      FGD                no             pT4N2bM0         3271        3271           yes         4       2.0 E1       Tumour NaN   poorly cohesive      59         2006-09-16   mod      /mnt/b/Google_Drive/PhD/Project with Janet/Kohl... m        m        NaT       2b 4  yes          yes        floor of mouth lung mets          4a    46.0               ...   \nTrue  False      True  1      False False False /mnt/b/Google_Drive/PhD/Project with Janet/Labe... 3237    D9     D9     other                    Other      2007-10-19    NaT                59.0          Died        yes   Y     1.0-D9  NaT                NaT          2a      Died other CBarry             yes            pT4aN2aMx        3237        3237           no          4a      1.0 D9       Tumour 1.0   non-cohesive         59         2006-03-24   mod well /mnt/b/Google_Drive/PhD/Project with Janet/Kohl... m        m        574 days  2a 4a yes          yes        other          NaN                4     2.0                ...   \nFalse False      False 4      False False True  /mnt/b/Google_Drive/PhD/Project with Janet/Labe... 3544    F8     F8     FOM                      Other      2015-03-23    NaT                62.0          Died        no    N     2.0-F8  NaT                2020-04-21   0       died other PG                 yes            pT4aN0Mx         3544        3544           no          4a      2.0 F8       Tumour 6.0   dyscohesive          62         2009-11-09   mod      /mnt/b/Google_Drive/PhD/Project with Janet/Kohl... m        m        1960 days 0  4a yes          no         other          NaN                4a    64.0               ...   \n\n                                                                                                                                                                                                                                                                                                                                                                                                                                                                                                                                                                                                                                                           1762.0  \\\n1year 1yeardeath 2year 2years 3year 4year 5year Annotation_loc                                     Case ID Core_x Core_y Corrected Site AJCC/UICC DODvsAlive Date of death Date of recurrence Diagnosis Age DiedvsAlive ECS_x ECS_y ID      Last seen/reviewed Last updated N stage OUTCOME    OUTCOME.updated by Overall Death  Pathogical Stage Patient nu  Patient_Number Recurrence? T stage TMA TMA site Tissue Years advancing front type age @ diag date of diag diff     envi_loc                                           gender_x gender_y lifespan  pN pT radiotherapy recurrence site           site of recurrence stage survival (months)             \nFalse False      False 6      False False False /mnt/b/Google_Drive/PhD/Project with Janet/Labe... 3535    F13    F13    other                    Other      NaT           NaT                57.0          Alive       no    N     1.0-F13 2020-02-05         2020-04-21   0       alive      PG                 no             pT4N0M0          3535        3535           no          4       1.0 F13      Tumour NaN   non-cohesive         57         2009-09-03   mod      /mnt/b/Google_Drive/PhD/Project with Janet/Kohl... f        f        NaT       0  4  NaN          no         other          multiple primaries NaN   94.0               0.024294   \nTrue  False      True  1      False False False /mnt/b/Google_Drive/PhD/Project with Janet/Labe... 3338    D2     D2     oral tongue              DOD        2008-07-06    2008-01-23         50.0          Died        no    N     2.0-D2  NaT                2012-10-04   2c      DOD        CBarry             yes            pT2N2cMx         3338        3338           yes         2       2.0 D2       Tumour 1.0   non-cohesive         50         2007-06-18   well     /mnt/b/Google_Drive/PhD/Project with Janet/Kohl... m        m        384 days  2c 2  yes          yes        tongue         Local only         4     12.0               0.012784   \nFalse False      False 6      False False False /mnt/b/Google_Drive/PhD/Project with Janet/Labe... 3271    E1     E1     FOM                      Other      NaT           2010-07-23         59.0          Alive       yes   Y     2.0-E1  2010-07-23         2020-04-01   2b      alive      FGD                no             pT4N2bM0         3271        3271           yes         4       2.0 E1       Tumour NaN   poorly cohesive      59         2006-09-16   mod      /mnt/b/Google_Drive/PhD/Project with Janet/Kohl... m        m        NaT       2b 4  yes          yes        floor of mouth lung mets          4a    46.0               0.131722   \nTrue  False      True  1      False False False /mnt/b/Google_Drive/PhD/Project with Janet/Labe... 3237    D9     D9     other                    Other      2007-10-19    NaT                59.0          Died        yes   Y     1.0-D9  NaT                NaT          2a      Died other CBarry             yes            pT4aN2aMx        3237        3237           no          4a      1.0 D9       Tumour 1.0   non-cohesive         59         2006-03-24   mod well /mnt/b/Google_Drive/PhD/Project with Janet/Kohl... m        m        574 days  2a 4a yes          yes        other          NaN                4     2.0                0.052938   \nFalse False      False 4      False False True  /mnt/b/Google_Drive/PhD/Project with Janet/Labe... 3544    F8     F8     FOM                      Other      2015-03-23    NaT                62.0          Died        no    N     2.0-F8  NaT                2020-04-21   0       died other PG                 yes            pT4aN0Mx         3544        3544           no          4a      2.0 F8       Tumour 6.0   dyscohesive          62         2009-11-09   mod      /mnt/b/Google_Drive/PhD/Project with Janet/Kohl... m        m        1960 days 0  4a yes          no         other          NaN                4a    64.0               0.166671   \n\n                                                                                                                                                                                                                                                                                                                                                                                                                                                                                                                                                                                                                                                           1766.0  \\\n1year 1yeardeath 2year 2years 3year 4year 5year Annotation_loc                                     Case ID Core_x Core_y Corrected Site AJCC/UICC DODvsAlive Date of death Date of recurrence Diagnosis Age DiedvsAlive ECS_x ECS_y ID      Last seen/reviewed Last updated N stage OUTCOME    OUTCOME.updated by Overall Death  Pathogical Stage Patient nu  Patient_Number Recurrence? T stage TMA TMA site Tissue Years advancing front type age @ diag date of diag diff     envi_loc                                           gender_x gender_y lifespan  pN pT radiotherapy recurrence site           site of recurrence stage survival (months)             \nFalse False      False 6      False False False /mnt/b/Google_Drive/PhD/Project with Janet/Labe... 3535    F13    F13    other                    Other      NaT           NaT                57.0          Alive       no    N     1.0-F13 2020-02-05         2020-04-21   0       alive      PG                 no             pT4N0M0          3535        3535           no          4       1.0 F13      Tumour NaN   non-cohesive         57         2009-09-03   mod      /mnt/b/Google_Drive/PhD/Project with Janet/Kohl... f        f        NaT       0  4  NaN          no         other          multiple primaries NaN   94.0               0.024016   \nTrue  False      True  1      False False False /mnt/b/Google_Drive/PhD/Project with Janet/Labe... 3338    D2     D2     oral tongue              DOD        2008-07-06    2008-01-23         50.0          Died        no    N     2.0-D2  NaT                2012-10-04   2c      DOD        CBarry             yes            pT2N2cMx         3338        3338           yes         2       2.0 D2       Tumour 1.0   non-cohesive         50         2007-06-18   well     /mnt/b/Google_Drive/PhD/Project with Janet/Kohl... m        m        384 days  2c 2  yes          yes        tongue         Local only         4     12.0               0.013072   \nFalse False      False 6      False False False /mnt/b/Google_Drive/PhD/Project with Janet/Labe... 3271    E1     E1     FOM                      Other      NaT           2010-07-23         59.0          Alive       yes   Y     2.0-E1  2010-07-23         2020-04-01   2b      alive      FGD                no             pT4N2bM0         3271        3271           yes         4       2.0 E1       Tumour NaN   poorly cohesive      59         2006-09-16   mod      /mnt/b/Google_Drive/PhD/Project with Janet/Kohl... m        m        NaT       2b 4  yes          yes        floor of mouth lung mets          4a    46.0               0.132211   \nTrue  False      True  1      False False False /mnt/b/Google_Drive/PhD/Project with Janet/Labe... 3237    D9     D9     other                    Other      2007-10-19    NaT                59.0          Died        yes   Y     1.0-D9  NaT                NaT          2a      Died other CBarry             yes            pT4aN2aMx        3237        3237           no          4a      1.0 D9       Tumour 1.0   non-cohesive         59         2006-03-24   mod well /mnt/b/Google_Drive/PhD/Project with Janet/Kohl... m        m        574 days  2a 4a yes          yes        other          NaN                4     2.0                0.052294   \nFalse False      False 4      False False True  /mnt/b/Google_Drive/PhD/Project with Janet/Labe... 3544    F8     F8     FOM                      Other      2015-03-23    NaT                62.0          Died        no    N     2.0-F8  NaT                2020-04-21   0       died other PG                 yes            pT4aN0Mx         3544        3544           no          4a      2.0 F8       Tumour 6.0   dyscohesive          62         2009-11-09   mod      /mnt/b/Google_Drive/PhD/Project with Janet/Kohl... m        m        1960 days 0  4a yes          no         other          NaN                4a    64.0               0.165676   \n\n                                                                                                                                                                                                                                                                                                                                                                                                                                                                                                                                                                                                                                                           1770.0  \\\n1year 1yeardeath 2year 2years 3year 4year 5year Annotation_loc                                     Case ID Core_x Core_y Corrected Site AJCC/UICC DODvsAlive Date of death Date of recurrence Diagnosis Age DiedvsAlive ECS_x ECS_y ID      Last seen/reviewed Last updated N stage OUTCOME    OUTCOME.updated by Overall Death  Pathogical Stage Patient nu  Patient_Number Recurrence? T stage TMA TMA site Tissue Years advancing front type age @ diag date of diag diff     envi_loc                                           gender_x gender_y lifespan  pN pT radiotherapy recurrence site           site of recurrence stage survival (months)             \nFalse False      False 6      False False False /mnt/b/Google_Drive/PhD/Project with Janet/Labe... 3535    F13    F13    other                    Other      NaT           NaT                57.0          Alive       no    N     1.0-F13 2020-02-05         2020-04-21   0       alive      PG                 no             pT4N0M0          3535        3535           no          4       1.0 F13      Tumour NaN   non-cohesive         57         2009-09-03   mod      /mnt/b/Google_Drive/PhD/Project with Janet/Kohl... f        f        NaT       0  4  NaN          no         other          multiple primaries NaN   94.0               0.023833   \nTrue  False      True  1      False False False /mnt/b/Google_Drive/PhD/Project with Janet/Labe... 3338    D2     D2     oral tongue              DOD        2008-07-06    2008-01-23         50.0          Died        no    N     2.0-D2  NaT                2012-10-04   2c      DOD        CBarry             yes            pT2N2cMx         3338        3338           yes         2       2.0 D2       Tumour 1.0   non-cohesive         50         2007-06-18   well     /mnt/b/Google_Drive/PhD/Project with Janet/Kohl... m        m        384 days  2c 2  yes          yes        tongue         Local only         4     12.0               0.013663   \nFalse False      False 6      False False False /mnt/b/Google_Drive/PhD/Project with Janet/Labe... 3271    E1     E1     FOM                      Other      NaT           2010-07-23         59.0          Alive       yes   Y     2.0-E1  2010-07-23         2020-04-01   2b      alive      FGD                no             pT4N2bM0         3271        3271           yes         4       2.0 E1       Tumour NaN   poorly cohesive      59         2006-09-16   mod      /mnt/b/Google_Drive/PhD/Project with Janet/Kohl... m        m        NaT       2b 4  yes          yes        floor of mouth lung mets          4a    46.0               0.133000   \nTrue  False      True  1      False False False /mnt/b/Google_Drive/PhD/Project with Janet/Labe... 3237    D9     D9     other                    Other      2007-10-19    NaT                59.0          Died        yes   Y     1.0-D9  NaT                NaT          2a      Died other CBarry             yes            pT4aN2aMx        3237        3237           no          4a      1.0 D9       Tumour 1.0   non-cohesive         59         2006-03-24   mod well /mnt/b/Google_Drive/PhD/Project with Janet/Kohl... m        m        574 days  2a 4a yes          yes        other          NaN                4     2.0                0.052040   \nFalse False      False 4      False False True  /mnt/b/Google_Drive/PhD/Project with Janet/Labe... 3544    F8     F8     FOM                      Other      2015-03-23    NaT                62.0          Died        no    N     2.0-F8  NaT                2020-04-21   0       died other PG                 yes            pT4aN0Mx         3544        3544           no          4a      2.0 F8       Tumour 6.0   dyscohesive          62         2009-11-09   mod      /mnt/b/Google_Drive/PhD/Project with Janet/Kohl... m        m        1960 days 0  4a yes          no         other          NaN                4a    64.0               0.165544   \n\n                                                                                                                                                                                                                                                                                                                                                                                                                                                                                                                                                                                                                                                           1774.0  \\\n1year 1yeardeath 2year 2years 3year 4year 5year Annotation_loc                                     Case ID Core_x Core_y Corrected Site AJCC/UICC DODvsAlive Date of death Date of recurrence Diagnosis Age DiedvsAlive ECS_x ECS_y ID      Last seen/reviewed Last updated N stage OUTCOME    OUTCOME.updated by Overall Death  Pathogical Stage Patient nu  Patient_Number Recurrence? T stage TMA TMA site Tissue Years advancing front type age @ diag date of diag diff     envi_loc                                           gender_x gender_y lifespan  pN pT radiotherapy recurrence site           site of recurrence stage survival (months)             \nFalse False      False 6      False False False /mnt/b/Google_Drive/PhD/Project with Janet/Labe... 3535    F13    F13    other                    Other      NaT           NaT                57.0          Alive       no    N     1.0-F13 2020-02-05         2020-04-21   0       alive      PG                 no             pT4N0M0          3535        3535           no          4       1.0 F13      Tumour NaN   non-cohesive         57         2009-09-03   mod      /mnt/b/Google_Drive/PhD/Project with Janet/Kohl... f        f        NaT       0  4  NaN          no         other          multiple primaries NaN   94.0               0.023943   \nTrue  False      True  1      False False False /mnt/b/Google_Drive/PhD/Project with Janet/Labe... 3338    D2     D2     oral tongue              DOD        2008-07-06    2008-01-23         50.0          Died        no    N     2.0-D2  NaT                2012-10-04   2c      DOD        CBarry             yes            pT2N2cMx         3338        3338           yes         2       2.0 D2       Tumour 1.0   non-cohesive         50         2007-06-18   well     /mnt/b/Google_Drive/PhD/Project with Janet/Kohl... m        m        384 days  2c 2  yes          yes        tongue         Local only         4     12.0               0.014338   \nFalse False      False 6      False False False /mnt/b/Google_Drive/PhD/Project with Janet/Labe... 3271    E1     E1     FOM                      Other      NaT           2010-07-23         59.0          Alive       yes   Y     2.0-E1  2010-07-23         2020-04-01   2b      alive      FGD                no             pT4N2bM0         3271        3271           yes         4       2.0 E1       Tumour NaN   poorly cohesive      59         2006-09-16   mod      /mnt/b/Google_Drive/PhD/Project with Janet/Kohl... m        m        NaT       2b 4  yes          yes        floor of mouth lung mets          4a    46.0               0.133534   \nTrue  False      True  1      False False False /mnt/b/Google_Drive/PhD/Project with Janet/Labe... 3237    D9     D9     other                    Other      2007-10-19    NaT                59.0          Died        yes   Y     1.0-D9  NaT                NaT          2a      Died other CBarry             yes            pT4aN2aMx        3237        3237           no          4a      1.0 D9       Tumour 1.0   non-cohesive         59         2006-03-24   mod well /mnt/b/Google_Drive/PhD/Project with Janet/Kohl... m        m        574 days  2a 4a yes          yes        other          NaN                4     2.0                0.051960   \nFalse False      False 4      False False True  /mnt/b/Google_Drive/PhD/Project with Janet/Labe... 3544    F8     F8     FOM                      Other      2015-03-23    NaT                62.0          Died        no    N     2.0-F8  NaT                2020-04-21   0       died other PG                 yes            pT4aN0Mx         3544        3544           no          4a      2.0 F8       Tumour 6.0   dyscohesive          62         2009-11-09   mod      /mnt/b/Google_Drive/PhD/Project with Janet/Kohl... m        m        1960 days 0  4a yes          no         other          NaN                4a    64.0               0.165572   \n\n                                                                                                                                                                                                                                                                                                                                                                                                                                                                                                                                                                                                                                                           1778.0  \\\n1year 1yeardeath 2year 2years 3year 4year 5year Annotation_loc                                     Case ID Core_x Core_y Corrected Site AJCC/UICC DODvsAlive Date of death Date of recurrence Diagnosis Age DiedvsAlive ECS_x ECS_y ID      Last seen/reviewed Last updated N stage OUTCOME    OUTCOME.updated by Overall Death  Pathogical Stage Patient nu  Patient_Number Recurrence? T stage TMA TMA site Tissue Years advancing front type age @ diag date of diag diff     envi_loc                                           gender_x gender_y lifespan  pN pT radiotherapy recurrence site           site of recurrence stage survival (months)             \nFalse False      False 6      False False False /mnt/b/Google_Drive/PhD/Project with Janet/Labe... 3535    F13    F13    other                    Other      NaT           NaT                57.0          Alive       no    N     1.0-F13 2020-02-05         2020-04-21   0       alive      PG                 no             pT4N0M0          3535        3535           no          4       1.0 F13      Tumour NaN   non-cohesive         57         2009-09-03   mod      /mnt/b/Google_Drive/PhD/Project with Janet/Kohl... f        f        NaT       0  4  NaN          no         other          multiple primaries NaN   94.0               0.024104   \nTrue  False      True  1      False False False /mnt/b/Google_Drive/PhD/Project with Janet/Labe... 3338    D2     D2     oral tongue              DOD        2008-07-06    2008-01-23         50.0          Died        no    N     2.0-D2  NaT                2012-10-04   2c      DOD        CBarry             yes            pT2N2cMx         3338        3338           yes         2       2.0 D2       Tumour 1.0   non-cohesive         50         2007-06-18   well     /mnt/b/Google_Drive/PhD/Project with Janet/Kohl... m        m        384 days  2c 2  yes          yes        tongue         Local only         4     12.0               0.014883   \nFalse False      False 6      False False False /mnt/b/Google_Drive/PhD/Project with Janet/Labe... 3271    E1     E1     FOM                      Other      NaT           2010-07-23         59.0          Alive       yes   Y     2.0-E1  2010-07-23         2020-04-01   2b      alive      FGD                no             pT4N2bM0         3271        3271           yes         4       2.0 E1       Tumour NaN   poorly cohesive      59         2006-09-16   mod      /mnt/b/Google_Drive/PhD/Project with Janet/Kohl... m        m        NaT       2b 4  yes          yes        floor of mouth lung mets          4a    46.0               0.133612   \nTrue  False      True  1      False False False /mnt/b/Google_Drive/PhD/Project with Janet/Labe... 3237    D9     D9     other                    Other      2007-10-19    NaT                59.0          Died        yes   Y     1.0-D9  NaT                NaT          2a      Died other CBarry             yes            pT4aN2aMx        3237        3237           no          4a      1.0 D9       Tumour 1.0   non-cohesive         59         2006-03-24   mod well /mnt/b/Google_Drive/PhD/Project with Janet/Kohl... m        m        574 days  2a 4a yes          yes        other          NaN                4     2.0                0.051819   \nFalse False      False 4      False False True  /mnt/b/Google_Drive/PhD/Project with Janet/Labe... 3544    F8     F8     FOM                      Other      2015-03-23    NaT                62.0          Died        no    N     2.0-F8  NaT                2020-04-21   0       died other PG                 yes            pT4aN0Mx         3544        3544           no          4a      2.0 F8       Tumour 6.0   dyscohesive          62         2009-11-09   mod      /mnt/b/Google_Drive/PhD/Project with Janet/Kohl... m        m        1960 days 0  4a yes          no         other          NaN                4a    64.0               0.165644   \n\n                                                                                                                                                                                                                                                                                                                                                                                                                                                                                                                                                                                                                                                           1781.0  \\\n1year 1yeardeath 2year 2years 3year 4year 5year Annotation_loc                                     Case ID Core_x Core_y Corrected Site AJCC/UICC DODvsAlive Date of death Date of recurrence Diagnosis Age DiedvsAlive ECS_x ECS_y ID      Last seen/reviewed Last updated N stage OUTCOME    OUTCOME.updated by Overall Death  Pathogical Stage Patient nu  Patient_Number Recurrence? T stage TMA TMA site Tissue Years advancing front type age @ diag date of diag diff     envi_loc                                           gender_x gender_y lifespan  pN pT radiotherapy recurrence site           site of recurrence stage survival (months)             \nFalse False      False 6      False False False /mnt/b/Google_Drive/PhD/Project with Janet/Labe... 3535    F13    F13    other                    Other      NaT           NaT                57.0          Alive       no    N     1.0-F13 2020-02-05         2020-04-21   0       alive      PG                 no             pT4N0M0          3535        3535           no          4       1.0 F13      Tumour NaN   non-cohesive         57         2009-09-03   mod      /mnt/b/Google_Drive/PhD/Project with Janet/Kohl... f        f        NaT       0  4  NaN          no         other          multiple primaries NaN   94.0               0.024383   \nTrue  False      True  1      False False False /mnt/b/Google_Drive/PhD/Project with Janet/Labe... 3338    D2     D2     oral tongue              DOD        2008-07-06    2008-01-23         50.0          Died        no    N     2.0-D2  NaT                2012-10-04   2c      DOD        CBarry             yes            pT2N2cMx         3338        3338           yes         2       2.0 D2       Tumour 1.0   non-cohesive         50         2007-06-18   well     /mnt/b/Google_Drive/PhD/Project with Janet/Kohl... m        m        384 days  2c 2  yes          yes        tongue         Local only         4     12.0               0.015457   \nFalse False      False 6      False False False /mnt/b/Google_Drive/PhD/Project with Janet/Labe... 3271    E1     E1     FOM                      Other      NaT           2010-07-23         59.0          Alive       yes   Y     2.0-E1  2010-07-23         2020-04-01   2b      alive      FGD                no             pT4N2bM0         3271        3271           yes         4       2.0 E1       Tumour NaN   poorly cohesive      59         2006-09-16   mod      /mnt/b/Google_Drive/PhD/Project with Janet/Kohl... m        m        NaT       2b 4  yes          yes        floor of mouth lung mets          4a    46.0               0.133770   \nTrue  False      True  1      False False False /mnt/b/Google_Drive/PhD/Project with Janet/Labe... 3237    D9     D9     other                    Other      2007-10-19    NaT                59.0          Died        yes   Y     1.0-D9  NaT                NaT          2a      Died other CBarry             yes            pT4aN2aMx        3237        3237           no          4a      1.0 D9       Tumour 1.0   non-cohesive         59         2006-03-24   mod well /mnt/b/Google_Drive/PhD/Project with Janet/Kohl... m        m        574 days  2a 4a yes          yes        other          NaN                4     2.0                0.051749   \nFalse False      False 4      False False True  /mnt/b/Google_Drive/PhD/Project with Janet/Labe... 3544    F8     F8     FOM                      Other      2015-03-23    NaT                62.0          Died        no    N     2.0-F8  NaT                2020-04-21   0       died other PG                 yes            pT4aN0Mx         3544        3544           no          4a      2.0 F8       Tumour 6.0   dyscohesive          62         2009-11-09   mod      /mnt/b/Google_Drive/PhD/Project with Janet/Kohl... m        m        1960 days 0  4a yes          no         other          NaN                4a    64.0               0.165890   \n\n                                                                                                                                                                                                                                                                                                                                                                                                                                                                                                                                                                                                                                                           1785.0  \\\n1year 1yeardeath 2year 2years 3year 4year 5year Annotation_loc                                     Case ID Core_x Core_y Corrected Site AJCC/UICC DODvsAlive Date of death Date of recurrence Diagnosis Age DiedvsAlive ECS_x ECS_y ID      Last seen/reviewed Last updated N stage OUTCOME    OUTCOME.updated by Overall Death  Pathogical Stage Patient nu  Patient_Number Recurrence? T stage TMA TMA site Tissue Years advancing front type age @ diag date of diag diff     envi_loc                                           gender_x gender_y lifespan  pN pT radiotherapy recurrence site           site of recurrence stage survival (months)             \nFalse False      False 6      False False False /mnt/b/Google_Drive/PhD/Project with Janet/Labe... 3535    F13    F13    other                    Other      NaT           NaT                57.0          Alive       no    N     1.0-F13 2020-02-05         2020-04-21   0       alive      PG                 no             pT4N0M0          3535        3535           no          4       1.0 F13      Tumour NaN   non-cohesive         57         2009-09-03   mod      /mnt/b/Google_Drive/PhD/Project with Janet/Kohl... f        f        NaT       0  4  NaN          no         other          multiple primaries NaN   94.0               0.024727   \nTrue  False      True  1      False False False /mnt/b/Google_Drive/PhD/Project with Janet/Labe... 3338    D2     D2     oral tongue              DOD        2008-07-06    2008-01-23         50.0          Died        no    N     2.0-D2  NaT                2012-10-04   2c      DOD        CBarry             yes            pT2N2cMx         3338        3338           yes         2       2.0 D2       Tumour 1.0   non-cohesive         50         2007-06-18   well     /mnt/b/Google_Drive/PhD/Project with Janet/Kohl... m        m        384 days  2c 2  yes          yes        tongue         Local only         4     12.0               0.015850   \nFalse False      False 6      False False False /mnt/b/Google_Drive/PhD/Project with Janet/Labe... 3271    E1     E1     FOM                      Other      NaT           2010-07-23         59.0          Alive       yes   Y     2.0-E1  2010-07-23         2020-04-01   2b      alive      FGD                no             pT4N2bM0         3271        3271           yes         4       2.0 E1       Tumour NaN   poorly cohesive      59         2006-09-16   mod      /mnt/b/Google_Drive/PhD/Project with Janet/Kohl... m        m        NaT       2b 4  yes          yes        floor of mouth lung mets          4a    46.0               0.134065   \nTrue  False      True  1      False False False /mnt/b/Google_Drive/PhD/Project with Janet/Labe... 3237    D9     D9     other                    Other      2007-10-19    NaT                59.0          Died        yes   Y     1.0-D9  NaT                NaT          2a      Died other CBarry             yes            pT4aN2aMx        3237        3237           no          4a      1.0 D9       Tumour 1.0   non-cohesive         59         2006-03-24   mod well /mnt/b/Google_Drive/PhD/Project with Janet/Kohl... m        m        574 days  2a 4a yes          yes        other          NaN                4     2.0                0.051665   \nFalse False      False 4      False False True  /mnt/b/Google_Drive/PhD/Project with Janet/Labe... 3544    F8     F8     FOM                      Other      2015-03-23    NaT                62.0          Died        no    N     2.0-F8  NaT                2020-04-21   0       died other PG                 yes            pT4aN0Mx         3544        3544           no          4a      2.0 F8       Tumour 6.0   dyscohesive          62         2009-11-09   mod      /mnt/b/Google_Drive/PhD/Project with Janet/Kohl... m        m        1960 days 0  4a yes          no         other          NaN                4a    64.0               0.165984   \n\n                                                                                                                                                                                                                                                                                                                                                                                                                                                                                                                                                                                                                                                           1789.0  \\\n1year 1yeardeath 2year 2years 3year 4year 5year Annotation_loc                                     Case ID Core_x Core_y Corrected Site AJCC/UICC DODvsAlive Date of death Date of recurrence Diagnosis Age DiedvsAlive ECS_x ECS_y ID      Last seen/reviewed Last updated N stage OUTCOME    OUTCOME.updated by Overall Death  Pathogical Stage Patient nu  Patient_Number Recurrence? T stage TMA TMA site Tissue Years advancing front type age @ diag date of diag diff     envi_loc                                           gender_x gender_y lifespan  pN pT radiotherapy recurrence site           site of recurrence stage survival (months)             \nFalse False      False 6      False False False /mnt/b/Google_Drive/PhD/Project with Janet/Labe... 3535    F13    F13    other                    Other      NaT           NaT                57.0          Alive       no    N     1.0-F13 2020-02-05         2020-04-21   0       alive      PG                 no             pT4N0M0          3535        3535           no          4       1.0 F13      Tumour NaN   non-cohesive         57         2009-09-03   mod      /mnt/b/Google_Drive/PhD/Project with Janet/Kohl... f        f        NaT       0  4  NaN          no         other          multiple primaries NaN   94.0               0.025327   \nTrue  False      True  1      False False False /mnt/b/Google_Drive/PhD/Project with Janet/Labe... 3338    D2     D2     oral tongue              DOD        2008-07-06    2008-01-23         50.0          Died        no    N     2.0-D2  NaT                2012-10-04   2c      DOD        CBarry             yes            pT2N2cMx         3338        3338           yes         2       2.0 D2       Tumour 1.0   non-cohesive         50         2007-06-18   well     /mnt/b/Google_Drive/PhD/Project with Janet/Kohl... m        m        384 days  2c 2  yes          yes        tongue         Local only         4     12.0               0.016102   \nFalse False      False 6      False False False /mnt/b/Google_Drive/PhD/Project with Janet/Labe... 3271    E1     E1     FOM                      Other      NaT           2010-07-23         59.0          Alive       yes   Y     2.0-E1  2010-07-23         2020-04-01   2b      alive      FGD                no             pT4N2bM0         3271        3271           yes         4       2.0 E1       Tumour NaN   poorly cohesive      59         2006-09-16   mod      /mnt/b/Google_Drive/PhD/Project with Janet/Kohl... m        m        NaT       2b 4  yes          yes        floor of mouth lung mets          4a    46.0               0.134438   \nTrue  False      True  1      False False False /mnt/b/Google_Drive/PhD/Project with Janet/Labe... 3237    D9     D9     other                    Other      2007-10-19    NaT                59.0          Died        yes   Y     1.0-D9  NaT                NaT          2a      Died other CBarry             yes            pT4aN2aMx        3237        3237           no          4a      1.0 D9       Tumour 1.0   non-cohesive         59         2006-03-24   mod well /mnt/b/Google_Drive/PhD/Project with Janet/Kohl... m        m        574 days  2a 4a yes          yes        other          NaN                4     2.0                0.051722   \nFalse False      False 4      False False True  /mnt/b/Google_Drive/PhD/Project with Janet/Labe... 3544    F8     F8     FOM                      Other      2015-03-23    NaT                62.0          Died        no    N     2.0-F8  NaT                2020-04-21   0       died other PG                 yes            pT4aN0Mx         3544        3544           no          4a      2.0 F8       Tumour 6.0   dyscohesive          62         2009-11-09   mod      /mnt/b/Google_Drive/PhD/Project with Janet/Kohl... m        m        1960 days 0  4a yes          no         other          NaN                4a    64.0               0.166039   \n\n                                                                                                                                                                                                                                                                                                                                                                                                                                                                                                                                                                                                                                                           1793.0  \\\n1year 1yeardeath 2year 2years 3year 4year 5year Annotation_loc                                     Case ID Core_x Core_y Corrected Site AJCC/UICC DODvsAlive Date of death Date of recurrence Diagnosis Age DiedvsAlive ECS_x ECS_y ID      Last seen/reviewed Last updated N stage OUTCOME    OUTCOME.updated by Overall Death  Pathogical Stage Patient nu  Patient_Number Recurrence? T stage TMA TMA site Tissue Years advancing front type age @ diag date of diag diff     envi_loc                                           gender_x gender_y lifespan  pN pT radiotherapy recurrence site           site of recurrence stage survival (months)             \nFalse False      False 6      False False False /mnt/b/Google_Drive/PhD/Project with Janet/Labe... 3535    F13    F13    other                    Other      NaT           NaT                57.0          Alive       no    N     1.0-F13 2020-02-05         2020-04-21   0       alive      PG                 no             pT4N0M0          3535        3535           no          4       1.0 F13      Tumour NaN   non-cohesive         57         2009-09-03   mod      /mnt/b/Google_Drive/PhD/Project with Janet/Kohl... f        f        NaT       0  4  NaN          no         other          multiple primaries NaN   94.0               0.026003   \nTrue  False      True  1      False False False /mnt/b/Google_Drive/PhD/Project with Janet/Labe... 3338    D2     D2     oral tongue              DOD        2008-07-06    2008-01-23         50.0          Died        no    N     2.0-D2  NaT                2012-10-04   2c      DOD        CBarry             yes            pT2N2cMx         3338        3338           yes         2       2.0 D2       Tumour 1.0   non-cohesive         50         2007-06-18   well     /mnt/b/Google_Drive/PhD/Project with Janet/Kohl... m        m        384 days  2c 2  yes          yes        tongue         Local only         4     12.0               0.016195   \nFalse False      False 6      False False False /mnt/b/Google_Drive/PhD/Project with Janet/Labe... 3271    E1     E1     FOM                      Other      NaT           2010-07-23         59.0          Alive       yes   Y     2.0-E1  2010-07-23         2020-04-01   2b      alive      FGD                no             pT4N2bM0         3271        3271           yes         4       2.0 E1       Tumour NaN   poorly cohesive      59         2006-09-16   mod      /mnt/b/Google_Drive/PhD/Project with Janet/Kohl... m        m        NaT       2b 4  yes          yes        floor of mouth lung mets          4a    46.0               0.134568   \nTrue  False      True  1      False False False /mnt/b/Google_Drive/PhD/Project with Janet/Labe... 3237    D9     D9     other                    Other      2007-10-19    NaT                59.0          Died        yes   Y     1.0-D9  NaT                NaT          2a      Died other CBarry             yes            pT4aN2aMx        3237        3237           no          4a      1.0 D9       Tumour 1.0   non-cohesive         59         2006-03-24   mod well /mnt/b/Google_Drive/PhD/Project with Janet/Kohl... m        m        574 days  2a 4a yes          yes        other          NaN                4     2.0                0.051847   \nFalse False      False 4      False False True  /mnt/b/Google_Drive/PhD/Project with Janet/Labe... 3544    F8     F8     FOM                      Other      2015-03-23    NaT                62.0          Died        no    N     2.0-F8  NaT                2020-04-21   0       died other PG                 yes            pT4aN0Mx         3544        3544           no          4a      2.0 F8       Tumour 6.0   dyscohesive          62         2009-11-09   mod      /mnt/b/Google_Drive/PhD/Project with Janet/Kohl... m        m        1960 days 0  4a yes          no         other          NaN                4a    64.0               0.166452   \n\n                                                                                                                                                                                                                                                                                                                                                                                                                                                                                                                                                                                                                                                           1797.0  \n1year 1yeardeath 2year 2years 3year 4year 5year Annotation_loc                                     Case ID Core_x Core_y Corrected Site AJCC/UICC DODvsAlive Date of death Date of recurrence Diagnosis Age DiedvsAlive ECS_x ECS_y ID      Last seen/reviewed Last updated N stage OUTCOME    OUTCOME.updated by Overall Death  Pathogical Stage Patient nu  Patient_Number Recurrence? T stage TMA TMA site Tissue Years advancing front type age @ diag date of diag diff     envi_loc                                           gender_x gender_y lifespan  pN pT radiotherapy recurrence site           site of recurrence stage survival (months)            \nFalse False      False 6      False False False /mnt/b/Google_Drive/PhD/Project with Janet/Labe... 3535    F13    F13    other                    Other      NaT           NaT                57.0          Alive       no    N     1.0-F13 2020-02-05         2020-04-21   0       alive      PG                 no             pT4N0M0          3535        3535           no          4       1.0 F13      Tumour NaN   non-cohesive         57         2009-09-03   mod      /mnt/b/Google_Drive/PhD/Project with Janet/Kohl... f        f        NaT       0  4  NaN          no         other          multiple primaries NaN   94.0               0.026540  \nTrue  False      True  1      False False False /mnt/b/Google_Drive/PhD/Project with Janet/Labe... 3338    D2     D2     oral tongue              DOD        2008-07-06    2008-01-23         50.0          Died        no    N     2.0-D2  NaT                2012-10-04   2c      DOD        CBarry             yes            pT2N2cMx         3338        3338           yes         2       2.0 D2       Tumour 1.0   non-cohesive         50         2007-06-18   well     /mnt/b/Google_Drive/PhD/Project with Janet/Kohl... m        m        384 days  2c 2  yes          yes        tongue         Local only         4     12.0               0.016251  \nFalse False      False 6      False False False /mnt/b/Google_Drive/PhD/Project with Janet/Labe... 3271    E1     E1     FOM                      Other      NaT           2010-07-23         59.0          Alive       yes   Y     2.0-E1  2010-07-23         2020-04-01   2b      alive      FGD                no             pT4N2bM0         3271        3271           yes         4       2.0 E1       Tumour NaN   poorly cohesive      59         2006-09-16   mod      /mnt/b/Google_Drive/PhD/Project with Janet/Kohl... m        m        NaT       2b 4  yes          yes        floor of mouth lung mets          4a    46.0               0.134756  \nTrue  False      True  1      False False False /mnt/b/Google_Drive/PhD/Project with Janet/Labe... 3237    D9     D9     other                    Other      2007-10-19    NaT                59.0          Died        yes   Y     1.0-D9  NaT                NaT          2a      Died other CBarry             yes            pT4aN2aMx        3237        3237           no          4a      1.0 D9       Tumour 1.0   non-cohesive         59         2006-03-24   mod well /mnt/b/Google_Drive/PhD/Project with Janet/Kohl... m        m        574 days  2a 4a yes          yes        other          NaN                4     2.0                0.051940  \nFalse False      False 4      False False True  /mnt/b/Google_Drive/PhD/Project with Janet/Labe... 3544    F8     F8     FOM                      Other      2015-03-23    NaT                62.0          Died        no    N     2.0-F8  NaT                2020-04-21   0       died other PG                 yes            pT4aN0Mx         3544        3544           no          4a      2.0 F8       Tumour 6.0   dyscohesive          62         2009-11-09   mod      /mnt/b/Google_Drive/PhD/Project with Janet/Kohl... m        m        1960 days 0  4a yes          no         other          NaN                4a    64.0               0.167469  \n\n[5 rows x 169 columns]",
      "text/html": "<div>\n<style scoped>\n    .dataframe tbody tr th:only-of-type {\n        vertical-align: middle;\n    }\n\n    .dataframe tbody tr th {\n        vertical-align: top;\n    }\n\n    .dataframe thead th {\n        text-align: right;\n    }\n</style>\n<table border=\"1\" class=\"dataframe\">\n  <thead>\n    <tr style=\"text-align: right;\">\n      <th></th>\n      <th></th>\n      <th></th>\n      <th></th>\n      <th></th>\n      <th></th>\n      <th></th>\n      <th></th>\n      <th></th>\n      <th></th>\n      <th></th>\n      <th></th>\n      <th></th>\n      <th></th>\n      <th></th>\n      <th></th>\n      <th></th>\n      <th></th>\n      <th></th>\n      <th></th>\n      <th></th>\n      <th></th>\n      <th></th>\n      <th></th>\n      <th></th>\n      <th></th>\n      <th></th>\n      <th></th>\n      <th></th>\n      <th></th>\n      <th></th>\n      <th></th>\n      <th></th>\n      <th></th>\n      <th></th>\n      <th></th>\n      <th></th>\n      <th></th>\n      <th></th>\n      <th></th>\n      <th></th>\n      <th></th>\n      <th></th>\n      <th></th>\n      <th></th>\n      <th></th>\n      <th></th>\n      <th></th>\n      <th></th>\n      <th></th>\n      <th></th>\n      <th>998.0</th>\n      <th>1002.0</th>\n      <th>1006.0</th>\n      <th>1010.0</th>\n      <th>1014.0</th>\n      <th>1018.0</th>\n      <th>1022.0</th>\n      <th>1025.0</th>\n      <th>1029.0</th>\n      <th>1033.0</th>\n      <th>...</th>\n      <th>1762.0</th>\n      <th>1766.0</th>\n      <th>1770.0</th>\n      <th>1774.0</th>\n      <th>1778.0</th>\n      <th>1781.0</th>\n      <th>1785.0</th>\n      <th>1789.0</th>\n      <th>1793.0</th>\n      <th>1797.0</th>\n    </tr>\n    <tr>\n      <th>1year</th>\n      <th>1yeardeath</th>\n      <th>2year</th>\n      <th>2years</th>\n      <th>3year</th>\n      <th>4year</th>\n      <th>5year</th>\n      <th>Annotation_loc</th>\n      <th>Case ID</th>\n      <th>Core_x</th>\n      <th>Core_y</th>\n      <th>Corrected Site AJCC/UICC</th>\n      <th>DODvsAlive</th>\n      <th>Date of death</th>\n      <th>Date of recurrence</th>\n      <th>Diagnosis Age</th>\n      <th>DiedvsAlive</th>\n      <th>ECS_x</th>\n      <th>ECS_y</th>\n      <th>ID</th>\n      <th>Last seen/reviewed</th>\n      <th>Last updated</th>\n      <th>N stage</th>\n      <th>OUTCOME</th>\n      <th>OUTCOME.updated by</th>\n      <th>Overall Death</th>\n      <th>Pathogical Stage</th>\n      <th>Patient nu</th>\n      <th>Patient_Number</th>\n      <th>Recurrence?</th>\n      <th>T stage</th>\n      <th>TMA</th>\n      <th>TMA site</th>\n      <th>Tissue</th>\n      <th>Years</th>\n      <th>advancing front type</th>\n      <th>age @ diag</th>\n      <th>date of diag</th>\n      <th>diff</th>\n      <th>envi_loc</th>\n      <th>gender_x</th>\n      <th>gender_y</th>\n      <th>lifespan</th>\n      <th>pN</th>\n      <th>pT</th>\n      <th>radiotherapy</th>\n      <th>recurrence</th>\n      <th>site</th>\n      <th>site of recurrence</th>\n      <th>stage</th>\n      <th>survival (months)</th>\n      <th></th>\n      <th></th>\n      <th></th>\n      <th></th>\n      <th></th>\n      <th></th>\n      <th></th>\n      <th></th>\n      <th></th>\n      <th></th>\n      <th></th>\n      <th></th>\n      <th></th>\n      <th></th>\n      <th></th>\n      <th></th>\n      <th></th>\n      <th></th>\n      <th></th>\n      <th></th>\n      <th></th>\n    </tr>\n  </thead>\n  <tbody>\n    <tr>\n      <th>False</th>\n      <th>False</th>\n      <th>False</th>\n      <th>6</th>\n      <th>False</th>\n      <th>False</th>\n      <th>False</th>\n      <th>/mnt/b/Google_Drive/PhD/Project with Janet/Label_Images/TMA_1/TMA_1.4_F13.png</th>\n      <th>3535</th>\n      <th>F13</th>\n      <th>F13</th>\n      <th>other</th>\n      <th>Other</th>\n      <th>NaT</th>\n      <th>NaT</th>\n      <th>57.0</th>\n      <th>Alive</th>\n      <th>no</th>\n      <th>N</th>\n      <th>1.0-F13</th>\n      <th>2020-02-05</th>\n      <th>2020-04-21</th>\n      <th>0</th>\n      <th>alive</th>\n      <th>PG</th>\n      <th>no</th>\n      <th>pT4N0M0</th>\n      <th>3535</th>\n      <th>3535</th>\n      <th>no</th>\n      <th>4</th>\n      <th>1.0</th>\n      <th>F13</th>\n      <th>Tumour</th>\n      <th>NaN</th>\n      <th>non-cohesive</th>\n      <th>57</th>\n      <th>2009-09-03</th>\n      <th>mod</th>\n      <th>/mnt/b/Google_Drive/PhD/Project with Janet/Kohler_Corrected/TMA_1TMA_1.4_F13.HDR</th>\n      <th>f</th>\n      <th>f</th>\n      <th>NaT</th>\n      <th>0</th>\n      <th>4</th>\n      <th>NaN</th>\n      <th>no</th>\n      <th>other</th>\n      <th>multiple primaries</th>\n      <th>NaN</th>\n      <th>94.0</th>\n      <td>0.015120</td>\n      <td>0.019334</td>\n      <td>0.022947</td>\n      <td>0.026028</td>\n      <td>0.028650</td>\n      <td>0.030883</td>\n      <td>0.032409</td>\n      <td>0.034104</td>\n      <td>0.035740</td>\n      <td>0.037572</td>\n      <td>...</td>\n      <td>0.024294</td>\n      <td>0.024016</td>\n      <td>0.023833</td>\n      <td>0.023943</td>\n      <td>0.024104</td>\n      <td>0.024383</td>\n      <td>0.024727</td>\n      <td>0.025327</td>\n      <td>0.026003</td>\n      <td>0.026540</td>\n    </tr>\n    <tr>\n      <th>True</th>\n      <th>False</th>\n      <th>True</th>\n      <th>1</th>\n      <th>False</th>\n      <th>False</th>\n      <th>False</th>\n      <th>/mnt/b/Google_Drive/PhD/Project with Janet/Label_Images/TMA_2/TMA_1.1_D2.png</th>\n      <th>3338</th>\n      <th>D2</th>\n      <th>D2</th>\n      <th>oral tongue</th>\n      <th>DOD</th>\n      <th>2008-07-06</th>\n      <th>2008-01-23</th>\n      <th>50.0</th>\n      <th>Died</th>\n      <th>no</th>\n      <th>N</th>\n      <th>2.0-D2</th>\n      <th>NaT</th>\n      <th>2012-10-04</th>\n      <th>2c</th>\n      <th>DOD</th>\n      <th>CBarry</th>\n      <th>yes</th>\n      <th>pT2N2cMx</th>\n      <th>3338</th>\n      <th>3338</th>\n      <th>yes</th>\n      <th>2</th>\n      <th>2.0</th>\n      <th>D2</th>\n      <th>Tumour</th>\n      <th>1.0</th>\n      <th>non-cohesive</th>\n      <th>50</th>\n      <th>2007-06-18</th>\n      <th>well</th>\n      <th>/mnt/b/Google_Drive/PhD/Project with Janet/Kohler_Corrected/TMA_2TMA_1.1_D2.HDR</th>\n      <th>m</th>\n      <th>m</th>\n      <th>384 days</th>\n      <th>2c</th>\n      <th>2</th>\n      <th>yes</th>\n      <th>yes</th>\n      <th>tongue</th>\n      <th>Local only</th>\n      <th>4</th>\n      <th>12.0</th>\n      <td>0.019596</td>\n      <td>0.022388</td>\n      <td>0.024784</td>\n      <td>0.026872</td>\n      <td>0.028736</td>\n      <td>0.030464</td>\n      <td>0.031998</td>\n      <td>0.033520</td>\n      <td>0.035577</td>\n      <td>0.038099</td>\n      <td>...</td>\n      <td>0.012784</td>\n      <td>0.013072</td>\n      <td>0.013663</td>\n      <td>0.014338</td>\n      <td>0.014883</td>\n      <td>0.015457</td>\n      <td>0.015850</td>\n      <td>0.016102</td>\n      <td>0.016195</td>\n      <td>0.016251</td>\n    </tr>\n    <tr>\n      <th>False</th>\n      <th>False</th>\n      <th>False</th>\n      <th>6</th>\n      <th>False</th>\n      <th>False</th>\n      <th>False</th>\n      <th>/mnt/b/Google_Drive/PhD/Project with Janet/Label_Images/TMA_2/TMA_1.1_E1.png</th>\n      <th>3271</th>\n      <th>E1</th>\n      <th>E1</th>\n      <th>FOM</th>\n      <th>Other</th>\n      <th>NaT</th>\n      <th>2010-07-23</th>\n      <th>59.0</th>\n      <th>Alive</th>\n      <th>yes</th>\n      <th>Y</th>\n      <th>2.0-E1</th>\n      <th>2010-07-23</th>\n      <th>2020-04-01</th>\n      <th>2b</th>\n      <th>alive</th>\n      <th>FGD</th>\n      <th>no</th>\n      <th>pT4N2bM0</th>\n      <th>3271</th>\n      <th>3271</th>\n      <th>yes</th>\n      <th>4</th>\n      <th>2.0</th>\n      <th>E1</th>\n      <th>Tumour</th>\n      <th>NaN</th>\n      <th>poorly cohesive</th>\n      <th>59</th>\n      <th>2006-09-16</th>\n      <th>mod</th>\n      <th>/mnt/b/Google_Drive/PhD/Project with Janet/Kohler_Corrected/TMA_2TMA_1.1_E1.HDR</th>\n      <th>m</th>\n      <th>m</th>\n      <th>NaT</th>\n      <th>2b</th>\n      <th>4</th>\n      <th>yes</th>\n      <th>yes</th>\n      <th>floor of mouth</th>\n      <th>lung mets</th>\n      <th>4a</th>\n      <th>46.0</th>\n      <td>0.138121</td>\n      <td>0.141925</td>\n      <td>0.145251</td>\n      <td>0.148186</td>\n      <td>0.150816</td>\n      <td>0.153227</td>\n      <td>0.155084</td>\n      <td>0.157378</td>\n      <td>0.159815</td>\n      <td>0.162497</td>\n      <td>...</td>\n      <td>0.131722</td>\n      <td>0.132211</td>\n      <td>0.133000</td>\n      <td>0.133534</td>\n      <td>0.133612</td>\n      <td>0.133770</td>\n      <td>0.134065</td>\n      <td>0.134438</td>\n      <td>0.134568</td>\n      <td>0.134756</td>\n    </tr>\n    <tr>\n      <th>True</th>\n      <th>False</th>\n      <th>True</th>\n      <th>1</th>\n      <th>False</th>\n      <th>False</th>\n      <th>False</th>\n      <th>/mnt/b/Google_Drive/PhD/Project with Janet/Label_Images/TMA_1/TMA_1.2_D9.png</th>\n      <th>3237</th>\n      <th>D9</th>\n      <th>D9</th>\n      <th>other</th>\n      <th>Other</th>\n      <th>2007-10-19</th>\n      <th>NaT</th>\n      <th>59.0</th>\n      <th>Died</th>\n      <th>yes</th>\n      <th>Y</th>\n      <th>1.0-D9</th>\n      <th>NaT</th>\n      <th>NaT</th>\n      <th>2a</th>\n      <th>Died other</th>\n      <th>CBarry</th>\n      <th>yes</th>\n      <th>pT4aN2aMx</th>\n      <th>3237</th>\n      <th>3237</th>\n      <th>no</th>\n      <th>4a</th>\n      <th>1.0</th>\n      <th>D9</th>\n      <th>Tumour</th>\n      <th>1.0</th>\n      <th>non-cohesive</th>\n      <th>59</th>\n      <th>2006-03-24</th>\n      <th>mod well</th>\n      <th>/mnt/b/Google_Drive/PhD/Project with Janet/Kohler_Corrected/TMA_1TMA_1.2_D9.HDR</th>\n      <th>m</th>\n      <th>m</th>\n      <th>574 days</th>\n      <th>2a</th>\n      <th>4a</th>\n      <th>yes</th>\n      <th>yes</th>\n      <th>other</th>\n      <th>NaN</th>\n      <th>4</th>\n      <th>2.0</th>\n      <td>0.047121</td>\n      <td>0.049681</td>\n      <td>0.052072</td>\n      <td>0.054330</td>\n      <td>0.056489</td>\n      <td>0.058585</td>\n      <td>0.060588</td>\n      <td>0.062694</td>\n      <td>0.064715</td>\n      <td>0.066841</td>\n      <td>...</td>\n      <td>0.052938</td>\n      <td>0.052294</td>\n      <td>0.052040</td>\n      <td>0.051960</td>\n      <td>0.051819</td>\n      <td>0.051749</td>\n      <td>0.051665</td>\n      <td>0.051722</td>\n      <td>0.051847</td>\n      <td>0.051940</td>\n    </tr>\n    <tr>\n      <th>False</th>\n      <th>False</th>\n      <th>False</th>\n      <th>4</th>\n      <th>False</th>\n      <th>False</th>\n      <th>True</th>\n      <th>/mnt/b/Google_Drive/PhD/Project with Janet/Label_Images/TMA_2/TMA_1.4_F8.png</th>\n      <th>3544</th>\n      <th>F8</th>\n      <th>F8</th>\n      <th>FOM</th>\n      <th>Other</th>\n      <th>2015-03-23</th>\n      <th>NaT</th>\n      <th>62.0</th>\n      <th>Died</th>\n      <th>no</th>\n      <th>N</th>\n      <th>2.0-F8</th>\n      <th>NaT</th>\n      <th>2020-04-21</th>\n      <th>0</th>\n      <th>died other</th>\n      <th>PG</th>\n      <th>yes</th>\n      <th>pT4aN0Mx</th>\n      <th>3544</th>\n      <th>3544</th>\n      <th>no</th>\n      <th>4a</th>\n      <th>2.0</th>\n      <th>F8</th>\n      <th>Tumour</th>\n      <th>6.0</th>\n      <th>dyscohesive</th>\n      <th>62</th>\n      <th>2009-11-09</th>\n      <th>mod</th>\n      <th>/mnt/b/Google_Drive/PhD/Project with Janet/Kohler_Corrected/TMA_2TMA_1.4_F8.HDR</th>\n      <th>m</th>\n      <th>m</th>\n      <th>1960 days</th>\n      <th>0</th>\n      <th>4a</th>\n      <th>yes</th>\n      <th>no</th>\n      <th>other</th>\n      <th>NaN</th>\n      <th>4a</th>\n      <th>64.0</th>\n      <td>0.177172</td>\n      <td>0.181304</td>\n      <td>0.186477</td>\n      <td>0.192546</td>\n      <td>0.199366</td>\n      <td>0.206793</td>\n      <td>0.214629</td>\n      <td>0.223113</td>\n      <td>0.230831</td>\n      <td>0.238191</td>\n      <td>...</td>\n      <td>0.166671</td>\n      <td>0.165676</td>\n      <td>0.165544</td>\n      <td>0.165572</td>\n      <td>0.165644</td>\n      <td>0.165890</td>\n      <td>0.165984</td>\n      <td>0.166039</td>\n      <td>0.166452</td>\n      <td>0.167469</td>\n    </tr>\n  </tbody>\n</table>\n<p>5 rows × 169 columns</p>\n</div>"
     },
     "metadata": {},
     "execution_count": 62
    }
   ],
   "source": [
    "data.iloc[:,:-3].head()"
   ]
  },
  {
   "cell_type": "code",
   "execution_count": 64,
   "metadata": {},
   "outputs": [],
   "source": [
    "all=data"
   ]
  },
  {
   "cell_type": "code",
   "execution_count": 68,
   "metadata": {},
   "outputs": [
    {
     "output_type": "error",
     "ename": "AttributeError",
     "evalue": "'DataFrame' object has no attribute 'cross_tab'",
     "traceback": [
      "\u001b[0;31m---------------------------------------------------------------------------\u001b[0m",
      "\u001b[0;31mAttributeError\u001b[0m                            Traceback (most recent call last)",
      "\u001b[0;32m<ipython-input-68-ad2d0ef8dfae>\u001b[0m in \u001b[0;36m<module>\u001b[0;34m\u001b[0m\n\u001b[0;32m----> 1\u001b[0;31m \u001b[0mdata\u001b[0m\u001b[0;34m.\u001b[0m\u001b[0mcross_tab\u001b[0m\u001b[0;34m(\u001b[0m\u001b[0;34m)\u001b[0m\u001b[0;34m\u001b[0m\u001b[0;34m\u001b[0m\u001b[0m\n\u001b[0m",
      "\u001b[0;32m~/miniconda3/envs/PHD/lib/python3.8/site-packages/pandas/core/generic.py\u001b[0m in \u001b[0;36m__getattr__\u001b[0;34m(self, name)\u001b[0m\n\u001b[1;32m   5128\u001b[0m             \u001b[0;32mif\u001b[0m \u001b[0mself\u001b[0m\u001b[0;34m.\u001b[0m\u001b[0m_info_axis\u001b[0m\u001b[0;34m.\u001b[0m\u001b[0m_can_hold_identifiers_and_holds_name\u001b[0m\u001b[0;34m(\u001b[0m\u001b[0mname\u001b[0m\u001b[0;34m)\u001b[0m\u001b[0;34m:\u001b[0m\u001b[0;34m\u001b[0m\u001b[0;34m\u001b[0m\u001b[0m\n\u001b[1;32m   5129\u001b[0m                 \u001b[0;32mreturn\u001b[0m \u001b[0mself\u001b[0m\u001b[0;34m[\u001b[0m\u001b[0mname\u001b[0m\u001b[0;34m]\u001b[0m\u001b[0;34m\u001b[0m\u001b[0;34m\u001b[0m\u001b[0m\n\u001b[0;32m-> 5130\u001b[0;31m             \u001b[0;32mreturn\u001b[0m \u001b[0mobject\u001b[0m\u001b[0;34m.\u001b[0m\u001b[0m__getattribute__\u001b[0m\u001b[0;34m(\u001b[0m\u001b[0mself\u001b[0m\u001b[0;34m,\u001b[0m \u001b[0mname\u001b[0m\u001b[0;34m)\u001b[0m\u001b[0;34m\u001b[0m\u001b[0;34m\u001b[0m\u001b[0m\n\u001b[0m\u001b[1;32m   5131\u001b[0m \u001b[0;34m\u001b[0m\u001b[0m\n\u001b[1;32m   5132\u001b[0m     \u001b[0;32mdef\u001b[0m \u001b[0m__setattr__\u001b[0m\u001b[0;34m(\u001b[0m\u001b[0mself\u001b[0m\u001b[0;34m,\u001b[0m \u001b[0mname\u001b[0m\u001b[0;34m:\u001b[0m \u001b[0mstr\u001b[0m\u001b[0;34m,\u001b[0m \u001b[0mvalue\u001b[0m\u001b[0;34m)\u001b[0m \u001b[0;34m->\u001b[0m \u001b[0;32mNone\u001b[0m\u001b[0;34m:\u001b[0m\u001b[0;34m\u001b[0m\u001b[0;34m\u001b[0m\u001b[0m\n",
      "\u001b[0;31mAttributeError\u001b[0m: 'DataFrame' object has no attribute 'cross_tab'"
     ]
    }
   ],
   "source": [
    "pd.cross"
   ]
  },
  {
   "cell_type": "code",
   "execution_count": 67,
   "metadata": {},
   "outputs": [
    {
     "output_type": "display_data",
     "data": {
      "text/plain": "<Figure size 1152x576 with 2 Axes>",
      "image/svg+xml": "<?xml version=\"1.0\" encoding=\"utf-8\" standalone=\"no\"?>\n<!DOCTYPE svg PUBLIC \"-//W3C//DTD SVG 1.1//EN\"\n  \"http://www.w3.org/Graphics/SVG/1.1/DTD/svg11.dtd\">\n<!-- Created with matplotlib (https://matplotlib.org/) -->\n<svg height=\"523.558125pt\" version=\"1.1\" viewBox=\"0 0 930.103125 523.558125\" width=\"930.103125pt\" xmlns=\"http://www.w3.org/2000/svg\" xmlns:xlink=\"http://www.w3.org/1999/xlink\">\n <defs>\n  <style type=\"text/css\">\n*{stroke-linecap:butt;stroke-linejoin:round;}\n  </style>\n </defs>\n <g id=\"figure_1\">\n  <g id=\"patch_1\">\n   <path d=\"M 0 523.558125 \nL 930.103125 523.558125 \nL 930.103125 0 \nL 0 0 \nz\n\" style=\"fill:none;\"/>\n  </g>\n  <g id=\"axes_1\">\n   <g id=\"patch_2\">\n    <path d=\"M 30.103125 499.68 \nL 418.277038 499.68 \nL 418.277038 64.8 \nL 30.103125 64.8 \nz\n\" style=\"fill:#ffffff;\"/>\n   </g>\n   <g id=\"patch_3\">\n    <path clip-path=\"url(#p0c16a8b74d)\" d=\"M 47.747394 499.68 \nL 47.747394 499.654642 \nL 54.110887 499.654642 \nL 54.110887 499.68 \nL 60.474381 499.68 \nL 60.474381 499.68 \nL 66.837874 499.68 \nL 66.837874 499.654642 \nL 73.201368 499.654642 \nL 73.201368 499.68 \nL 79.564861 499.68 \nL 79.564861 499.654642 \nL 85.928355 499.654642 \nL 85.928355 499.603926 \nL 92.291849 499.603926 \nL 92.291849 499.55321 \nL 98.655342 499.55321 \nL 98.655342 499.502494 \nL 105.018836 499.502494 \nL 105.018836 499.274273 \nL 111.382329 499.274273 \nL 111.382329 498.868546 \nL 117.745823 498.868546 \nL 117.745823 498.336029 \nL 124.109316 498.336029 \nL 124.109316 497.220279 \nL 130.47281 497.220279 \nL 130.47281 495.521296 \nL 136.836303 495.521296 \nL 136.836303 492.300836 \nL 143.199797 492.300836 \nL 143.199797 486.92495 \nL 149.56329 486.92495 \nL 149.56329 478.404678 \nL 155.926784 478.404678 \nL 155.926784 465.928566 \nL 162.290278 465.928566 \nL 162.290278 445.718278 \nL 168.653771 445.718278 \nL 168.653771 428.018428 \nL 175.017265 428.018428 \nL 175.017265 395.103806 \nL 181.380758 395.103806 \nL 181.380758 339.519176 \nL 187.744252 339.519176 \nL 187.744252 259.438764 \nL 194.107745 259.438764 \nL 194.107745 164.650739 \nL 200.471239 164.650739 \nL 200.471239 85.508571 \nL 206.834732 85.508571 \nL 206.834732 109.826847 \nL 213.198226 109.826847 \nL 213.198226 220.10858 \nL 219.561719 220.10858 \nL 219.561719 303.029083 \nL 225.925213 303.029083 \nL 225.925213 359.374452 \nL 232.288707 359.374452 \nL 232.288707 405.880936 \nL 238.6522 405.880936 \nL 238.6522 431.94891 \nL 245.015694 431.94891 \nL 245.015694 453.173516 \nL 251.379187 453.173516 \nL 251.379187 465.548197 \nL 257.742681 465.548197 \nL 257.742681 473.003435 \nL 264.106174 473.003435 \nL 264.106174 474.778491 \nL 270.469668 474.778491 \nL 270.469668 478.125741 \nL 276.833161 478.125741 \nL 276.833161 487.584257 \nL 283.196655 487.584257 \nL 283.196655 493.644807 \nL 289.560148 493.644807 \nL 289.560148 496.941341 \nL 295.923642 496.941341 \nL 295.923642 498.43746 \nL 302.287136 498.43746 \nL 302.287136 499.071409 \nL 308.650629 499.071409 \nL 308.650629 499.401063 \nL 315.014123 499.401063 \nL 315.014123 499.502494 \nL 321.377616 499.502494 \nL 321.377616 499.578568 \nL 327.74111 499.578568 \nL 327.74111 499.603926 \nL 334.104603 499.603926 \nL 334.104603 499.68 \nL 340.468097 499.68 \nL 340.468097 499.654642 \nL 346.83159 499.654642 \nL 346.83159 499.654642 \nL 353.195084 499.654642 \nL 353.195084 499.68 \nL 359.558577 499.68 \nL 359.558577 499.654642 \nL 365.922071 499.654642 \nL 365.922071 499.68 \n\" style=\"fill:none;stroke:#1f77b4;stroke-linejoin:miter;\"/>\n   </g>\n   <g id=\"patch_4\">\n    <path clip-path=\"url(#p0c16a8b74d)\" d=\"M 147.584801 499.68 \nL 147.584801 499.494981 \nL 152.64576 499.494981 \nL 152.64576 499.587491 \nL 157.70672 499.587491 \nL 157.70672 499.494981 \nL 162.767679 499.494981 \nL 162.767679 499.587491 \nL 167.828638 499.587491 \nL 167.828638 499.124943 \nL 172.889598 499.124943 \nL 172.889598 499.032434 \nL 177.950557 499.032434 \nL 177.950557 498.847415 \nL 183.011517 498.847415 \nL 183.011517 498.199848 \nL 188.072476 498.199848 \nL 188.072476 497.459772 \nL 193.133435 497.459772 \nL 193.133435 496.16464 \nL 198.194395 496.16464 \nL 198.194395 494.31445 \nL 203.255354 494.31445 \nL 203.255354 493.574374 \nL 208.316313 493.574374 \nL 208.316313 492.55677 \nL 213.377273 492.55677 \nL 213.377273 491.169128 \nL 218.438232 491.169128 \nL 218.438232 488.208824 \nL 223.499191 488.208824 \nL 223.499191 487.931296 \nL 228.560151 487.931296 \nL 228.560151 476.182592 \nL 233.62111 476.182592 \nL 233.62111 464.896435 \nL 238.68207 464.896435 \nL 238.68207 437.698648 \nL 243.743029 437.698648 \nL 243.743029 385.338281 \nL 248.803988 385.338281 \nL 248.803988 309.758035 \nL 253.864948 309.758035 \nL 253.864948 241.671057 \nL 258.925907 241.671057 \nL 258.925907 196.988978 \nL 263.986866 196.988978 \nL 263.986866 155.174693 \nL 269.047826 155.174693 \nL 269.047826 144.443593 \nL 274.108785 144.443593 \nL 274.108785 168.403548 \nL 279.169745 168.403548 \nL 279.169745 205.684869 \nL 284.230704 205.684869 \nL 284.230704 262.393181 \nL 289.291663 262.393181 \nL 289.291663 307.537808 \nL 294.352623 307.537808 \nL 294.352623 333.532972 \nL 299.413582 333.532972 \nL 299.413582 361.655854 \nL 304.474541 361.655854 \nL 304.474541 388.576113 \nL 309.535501 388.576113 \nL 309.535501 414.478768 \nL 314.59646 414.478768 \nL 314.59646 433.535721 \nL 319.657419 433.535721 \nL 319.657419 444.636859 \nL 324.718379 444.636859 \nL 324.718379 465.266473 \nL 329.779338 465.266473 \nL 329.779338 474.332402 \nL 334.840298 474.332402 \nL 334.840298 481.548142 \nL 339.901257 481.548142 \nL 339.901257 487.376239 \nL 344.962216 487.376239 \nL 344.962216 491.724185 \nL 350.023176 491.724185 \nL 350.023176 494.40696 \nL 355.084135 494.40696 \nL 355.084135 496.997225 \nL 360.145094 496.997225 \nL 360.145094 498.292358 \nL 365.206054 498.292358 \nL 365.206054 498.199848 \nL 370.267013 498.199848 \nL 370.267013 498.847415 \nL 375.327972 498.847415 \nL 375.327972 498.939924 \nL 380.388932 498.939924 \nL 380.388932 499.217453 \nL 385.449891 499.217453 \nL 385.449891 499.494981 \nL 390.510851 499.494981 \nL 390.510851 499.587491 \nL 395.57181 499.587491 \nL 395.57181 499.587491 \nL 400.632769 499.587491 \nL 400.632769 499.68 \n\" style=\"fill:none;stroke:#ff7f0e;stroke-linejoin:miter;\"/>\n   </g>\n   <g id=\"matplotlib.axis_1\">\n    <g id=\"xtick_1\">\n     <g id=\"line2d_1\">\n      <path clip-path=\"url(#p0c16a8b74d)\" d=\"M 34.541026 499.68 \nL 34.541026 64.8 \n\" style=\"fill:none;stroke:#b0b0b0;stroke-linecap:square;stroke-width:0.8;\"/>\n     </g>\n     <g id=\"line2d_2\">\n      <defs>\n       <path d=\"M 0 0 \nL 0 3.5 \n\" id=\"m89fd1f1b2a\" style=\"stroke:#000000;stroke-width:0.8;\"/>\n      </defs>\n      <g>\n       <use style=\"stroke:#000000;stroke-width:0.8;\" x=\"34.541026\" xlink:href=\"#m89fd1f1b2a\" y=\"499.68\"/>\n      </g>\n     </g>\n     <g id=\"text_1\">\n      <!-- −8 -->\n      <defs>\n       <path d=\"M 10.59375 35.5 \nL 73.1875 35.5 \nL 73.1875 27.203125 \nL 10.59375 27.203125 \nz\n\" id=\"DejaVuSans-8722\"/>\n       <path d=\"M 31.78125 34.625 \nQ 24.75 34.625 20.71875 30.859375 \nQ 16.703125 27.09375 16.703125 20.515625 \nQ 16.703125 13.921875 20.71875 10.15625 \nQ 24.75 6.390625 31.78125 6.390625 \nQ 38.8125 6.390625 42.859375 10.171875 \nQ 46.921875 13.96875 46.921875 20.515625 \nQ 46.921875 27.09375 42.890625 30.859375 \nQ 38.875 34.625 31.78125 34.625 \nz\nM 21.921875 38.8125 \nQ 15.578125 40.375 12.03125 44.71875 \nQ 8.5 49.078125 8.5 55.328125 \nQ 8.5 64.0625 14.71875 69.140625 \nQ 20.953125 74.21875 31.78125 74.21875 \nQ 42.671875 74.21875 48.875 69.140625 \nQ 55.078125 64.0625 55.078125 55.328125 \nQ 55.078125 49.078125 51.53125 44.71875 \nQ 48 40.375 41.703125 38.8125 \nQ 48.828125 37.15625 52.796875 32.3125 \nQ 56.78125 27.484375 56.78125 20.515625 \nQ 56.78125 9.90625 50.3125 4.234375 \nQ 43.84375 -1.421875 31.78125 -1.421875 \nQ 19.734375 -1.421875 13.25 4.234375 \nQ 6.78125 9.90625 6.78125 20.515625 \nQ 6.78125 27.484375 10.78125 32.3125 \nQ 14.796875 37.15625 21.921875 38.8125 \nz\nM 18.3125 54.390625 \nQ 18.3125 48.734375 21.84375 45.5625 \nQ 25.390625 42.390625 31.78125 42.390625 \nQ 38.140625 42.390625 41.71875 45.5625 \nQ 45.3125 48.734375 45.3125 54.390625 \nQ 45.3125 60.0625 41.71875 63.234375 \nQ 38.140625 66.40625 31.78125 66.40625 \nQ 25.390625 66.40625 21.84375 63.234375 \nQ 18.3125 60.0625 18.3125 54.390625 \nz\n\" id=\"DejaVuSans-56\"/>\n      </defs>\n      <g transform=\"translate(27.169932 514.278437)scale(0.1 -0.1)\">\n       <use xlink:href=\"#DejaVuSans-8722\"/>\n       <use x=\"83.789062\" xlink:href=\"#DejaVuSans-56\"/>\n      </g>\n     </g>\n    </g>\n    <g id=\"xtick_2\">\n     <g id=\"line2d_3\">\n      <path clip-path=\"url(#p0c16a8b74d)\" d=\"M 82.123483 499.68 \nL 82.123483 64.8 \n\" style=\"fill:none;stroke:#b0b0b0;stroke-linecap:square;stroke-width:0.8;\"/>\n     </g>\n     <g id=\"line2d_4\">\n      <g>\n       <use style=\"stroke:#000000;stroke-width:0.8;\" x=\"82.123483\" xlink:href=\"#m89fd1f1b2a\" y=\"499.68\"/>\n      </g>\n     </g>\n     <g id=\"text_2\">\n      <!-- −6 -->\n      <defs>\n       <path d=\"M 33.015625 40.375 \nQ 26.375 40.375 22.484375 35.828125 \nQ 18.609375 31.296875 18.609375 23.390625 \nQ 18.609375 15.53125 22.484375 10.953125 \nQ 26.375 6.390625 33.015625 6.390625 \nQ 39.65625 6.390625 43.53125 10.953125 \nQ 47.40625 15.53125 47.40625 23.390625 \nQ 47.40625 31.296875 43.53125 35.828125 \nQ 39.65625 40.375 33.015625 40.375 \nz\nM 52.59375 71.296875 \nL 52.59375 62.3125 \nQ 48.875 64.0625 45.09375 64.984375 \nQ 41.3125 65.921875 37.59375 65.921875 \nQ 27.828125 65.921875 22.671875 59.328125 \nQ 17.53125 52.734375 16.796875 39.40625 \nQ 19.671875 43.65625 24.015625 45.921875 \nQ 28.375 48.1875 33.59375 48.1875 \nQ 44.578125 48.1875 50.953125 41.515625 \nQ 57.328125 34.859375 57.328125 23.390625 \nQ 57.328125 12.15625 50.6875 5.359375 \nQ 44.046875 -1.421875 33.015625 -1.421875 \nQ 20.359375 -1.421875 13.671875 8.265625 \nQ 6.984375 17.96875 6.984375 36.375 \nQ 6.984375 53.65625 15.1875 63.9375 \nQ 23.390625 74.21875 37.203125 74.21875 \nQ 40.921875 74.21875 44.703125 73.484375 \nQ 48.484375 72.75 52.59375 71.296875 \nz\n\" id=\"DejaVuSans-54\"/>\n      </defs>\n      <g transform=\"translate(74.752389 514.278437)scale(0.1 -0.1)\">\n       <use xlink:href=\"#DejaVuSans-8722\"/>\n       <use x=\"83.789062\" xlink:href=\"#DejaVuSans-54\"/>\n      </g>\n     </g>\n    </g>\n    <g id=\"xtick_3\">\n     <g id=\"line2d_5\">\n      <path clip-path=\"url(#p0c16a8b74d)\" d=\"M 129.70594 499.68 \nL 129.70594 64.8 \n\" style=\"fill:none;stroke:#b0b0b0;stroke-linecap:square;stroke-width:0.8;\"/>\n     </g>\n     <g id=\"line2d_6\">\n      <g>\n       <use style=\"stroke:#000000;stroke-width:0.8;\" x=\"129.70594\" xlink:href=\"#m89fd1f1b2a\" y=\"499.68\"/>\n      </g>\n     </g>\n     <g id=\"text_3\">\n      <!-- −4 -->\n      <defs>\n       <path d=\"M 37.796875 64.3125 \nL 12.890625 25.390625 \nL 37.796875 25.390625 \nz\nM 35.203125 72.90625 \nL 47.609375 72.90625 \nL 47.609375 25.390625 \nL 58.015625 25.390625 \nL 58.015625 17.1875 \nL 47.609375 17.1875 \nL 47.609375 0 \nL 37.796875 0 \nL 37.796875 17.1875 \nL 4.890625 17.1875 \nL 4.890625 26.703125 \nz\n\" id=\"DejaVuSans-52\"/>\n      </defs>\n      <g transform=\"translate(122.334846 514.278437)scale(0.1 -0.1)\">\n       <use xlink:href=\"#DejaVuSans-8722\"/>\n       <use x=\"83.789062\" xlink:href=\"#DejaVuSans-52\"/>\n      </g>\n     </g>\n    </g>\n    <g id=\"xtick_4\">\n     <g id=\"line2d_7\">\n      <path clip-path=\"url(#p0c16a8b74d)\" d=\"M 177.288396 499.68 \nL 177.288396 64.8 \n\" style=\"fill:none;stroke:#b0b0b0;stroke-linecap:square;stroke-width:0.8;\"/>\n     </g>\n     <g id=\"line2d_8\">\n      <g>\n       <use style=\"stroke:#000000;stroke-width:0.8;\" x=\"177.288396\" xlink:href=\"#m89fd1f1b2a\" y=\"499.68\"/>\n      </g>\n     </g>\n     <g id=\"text_4\">\n      <!-- −2 -->\n      <defs>\n       <path d=\"M 19.1875 8.296875 \nL 53.609375 8.296875 \nL 53.609375 0 \nL 7.328125 0 \nL 7.328125 8.296875 \nQ 12.9375 14.109375 22.625 23.890625 \nQ 32.328125 33.6875 34.8125 36.53125 \nQ 39.546875 41.84375 41.421875 45.53125 \nQ 43.3125 49.21875 43.3125 52.78125 \nQ 43.3125 58.59375 39.234375 62.25 \nQ 35.15625 65.921875 28.609375 65.921875 \nQ 23.96875 65.921875 18.8125 64.3125 \nQ 13.671875 62.703125 7.8125 59.421875 \nL 7.8125 69.390625 \nQ 13.765625 71.78125 18.9375 73 \nQ 24.125 74.21875 28.421875 74.21875 \nQ 39.75 74.21875 46.484375 68.546875 \nQ 53.21875 62.890625 53.21875 53.421875 \nQ 53.21875 48.921875 51.53125 44.890625 \nQ 49.859375 40.875 45.40625 35.40625 \nQ 44.1875 33.984375 37.640625 27.21875 \nQ 31.109375 20.453125 19.1875 8.296875 \nz\n\" id=\"DejaVuSans-50\"/>\n      </defs>\n      <g transform=\"translate(169.917303 514.278437)scale(0.1 -0.1)\">\n       <use xlink:href=\"#DejaVuSans-8722\"/>\n       <use x=\"83.789062\" xlink:href=\"#DejaVuSans-50\"/>\n      </g>\n     </g>\n    </g>\n    <g id=\"xtick_5\">\n     <g id=\"line2d_9\">\n      <path clip-path=\"url(#p0c16a8b74d)\" d=\"M 224.870853 499.68 \nL 224.870853 64.8 \n\" style=\"fill:none;stroke:#b0b0b0;stroke-linecap:square;stroke-width:0.8;\"/>\n     </g>\n     <g id=\"line2d_10\">\n      <g>\n       <use style=\"stroke:#000000;stroke-width:0.8;\" x=\"224.870853\" xlink:href=\"#m89fd1f1b2a\" y=\"499.68\"/>\n      </g>\n     </g>\n     <g id=\"text_5\">\n      <!-- 0 -->\n      <defs>\n       <path d=\"M 31.78125 66.40625 \nQ 24.171875 66.40625 20.328125 58.90625 \nQ 16.5 51.421875 16.5 36.375 \nQ 16.5 21.390625 20.328125 13.890625 \nQ 24.171875 6.390625 31.78125 6.390625 \nQ 39.453125 6.390625 43.28125 13.890625 \nQ 47.125 21.390625 47.125 36.375 \nQ 47.125 51.421875 43.28125 58.90625 \nQ 39.453125 66.40625 31.78125 66.40625 \nz\nM 31.78125 74.21875 \nQ 44.046875 74.21875 50.515625 64.515625 \nQ 56.984375 54.828125 56.984375 36.375 \nQ 56.984375 17.96875 50.515625 8.265625 \nQ 44.046875 -1.421875 31.78125 -1.421875 \nQ 19.53125 -1.421875 13.0625 8.265625 \nQ 6.59375 17.96875 6.59375 36.375 \nQ 6.59375 54.828125 13.0625 64.515625 \nQ 19.53125 74.21875 31.78125 74.21875 \nz\n\" id=\"DejaVuSans-48\"/>\n      </defs>\n      <g transform=\"translate(221.689603 514.278437)scale(0.1 -0.1)\">\n       <use xlink:href=\"#DejaVuSans-48\"/>\n      </g>\n     </g>\n    </g>\n    <g id=\"xtick_6\">\n     <g id=\"line2d_11\">\n      <path clip-path=\"url(#p0c16a8b74d)\" d=\"M 272.45331 499.68 \nL 272.45331 64.8 \n\" style=\"fill:none;stroke:#b0b0b0;stroke-linecap:square;stroke-width:0.8;\"/>\n     </g>\n     <g id=\"line2d_12\">\n      <g>\n       <use style=\"stroke:#000000;stroke-width:0.8;\" x=\"272.45331\" xlink:href=\"#m89fd1f1b2a\" y=\"499.68\"/>\n      </g>\n     </g>\n     <g id=\"text_6\">\n      <!-- 2 -->\n      <g transform=\"translate(269.27206 514.278437)scale(0.1 -0.1)\">\n       <use xlink:href=\"#DejaVuSans-50\"/>\n      </g>\n     </g>\n    </g>\n    <g id=\"xtick_7\">\n     <g id=\"line2d_13\">\n      <path clip-path=\"url(#p0c16a8b74d)\" d=\"M 320.035766 499.68 \nL 320.035766 64.8 \n\" style=\"fill:none;stroke:#b0b0b0;stroke-linecap:square;stroke-width:0.8;\"/>\n     </g>\n     <g id=\"line2d_14\">\n      <g>\n       <use style=\"stroke:#000000;stroke-width:0.8;\" x=\"320.035766\" xlink:href=\"#m89fd1f1b2a\" y=\"499.68\"/>\n      </g>\n     </g>\n     <g id=\"text_7\">\n      <!-- 4 -->\n      <g transform=\"translate(316.854516 514.278437)scale(0.1 -0.1)\">\n       <use xlink:href=\"#DejaVuSans-52\"/>\n      </g>\n     </g>\n    </g>\n    <g id=\"xtick_8\">\n     <g id=\"line2d_15\">\n      <path clip-path=\"url(#p0c16a8b74d)\" d=\"M 367.618223 499.68 \nL 367.618223 64.8 \n\" style=\"fill:none;stroke:#b0b0b0;stroke-linecap:square;stroke-width:0.8;\"/>\n     </g>\n     <g id=\"line2d_16\">\n      <g>\n       <use style=\"stroke:#000000;stroke-width:0.8;\" x=\"367.618223\" xlink:href=\"#m89fd1f1b2a\" y=\"499.68\"/>\n      </g>\n     </g>\n     <g id=\"text_8\">\n      <!-- 6 -->\n      <g transform=\"translate(364.436973 514.278437)scale(0.1 -0.1)\">\n       <use xlink:href=\"#DejaVuSans-54\"/>\n      </g>\n     </g>\n    </g>\n    <g id=\"xtick_9\">\n     <g id=\"line2d_17\">\n      <path clip-path=\"url(#p0c16a8b74d)\" d=\"M 415.20068 499.68 \nL 415.20068 64.8 \n\" style=\"fill:none;stroke:#b0b0b0;stroke-linecap:square;stroke-width:0.8;\"/>\n     </g>\n     <g id=\"line2d_18\">\n      <g>\n       <use style=\"stroke:#000000;stroke-width:0.8;\" x=\"415.20068\" xlink:href=\"#m89fd1f1b2a\" y=\"499.68\"/>\n      </g>\n     </g>\n     <g id=\"text_9\">\n      <!-- 8 -->\n      <g transform=\"translate(412.01943 514.278437)scale(0.1 -0.1)\">\n       <use xlink:href=\"#DejaVuSans-56\"/>\n      </g>\n     </g>\n    </g>\n   </g>\n   <g id=\"matplotlib.axis_2\">\n    <g id=\"ytick_1\">\n     <g id=\"line2d_19\">\n      <path clip-path=\"url(#p0c16a8b74d)\" d=\"M 30.103125 499.68 \nL 418.277038 499.68 \n\" style=\"fill:none;stroke:#b0b0b0;stroke-linecap:square;stroke-width:0.8;\"/>\n     </g>\n     <g id=\"line2d_20\">\n      <defs>\n       <path d=\"M 0 0 \nL -3.5 0 \n\" id=\"mc11e88228d\" style=\"stroke:#000000;stroke-width:0.8;\"/>\n      </defs>\n      <g>\n       <use style=\"stroke:#000000;stroke-width:0.8;\" x=\"30.103125\" xlink:href=\"#mc11e88228d\" y=\"499.68\"/>\n      </g>\n     </g>\n     <g id=\"text_10\">\n      <!-- 0.0 -->\n      <defs>\n       <path d=\"M 10.6875 12.40625 \nL 21 12.40625 \nL 21 0 \nL 10.6875 0 \nz\n\" id=\"DejaVuSans-46\"/>\n      </defs>\n      <g transform=\"translate(7.2 503.479219)scale(0.1 -0.1)\">\n       <use xlink:href=\"#DejaVuSans-48\"/>\n       <use x=\"63.623047\" xlink:href=\"#DejaVuSans-46\"/>\n       <use x=\"95.410156\" xlink:href=\"#DejaVuSans-48\"/>\n      </g>\n     </g>\n    </g>\n    <g id=\"ytick_2\">\n     <g id=\"line2d_21\">\n      <path clip-path=\"url(#p0c16a8b74d)\" d=\"M 30.103125 424.528005 \nL 418.277038 424.528005 \n\" style=\"fill:none;stroke:#b0b0b0;stroke-linecap:square;stroke-width:0.8;\"/>\n     </g>\n     <g id=\"line2d_22\">\n      <g>\n       <use style=\"stroke:#000000;stroke-width:0.8;\" x=\"30.103125\" xlink:href=\"#mc11e88228d\" y=\"424.528005\"/>\n      </g>\n     </g>\n     <g id=\"text_11\">\n      <!-- 0.1 -->\n      <defs>\n       <path d=\"M 12.40625 8.296875 \nL 28.515625 8.296875 \nL 28.515625 63.921875 \nL 10.984375 60.40625 \nL 10.984375 69.390625 \nL 28.421875 72.90625 \nL 38.28125 72.90625 \nL 38.28125 8.296875 \nL 54.390625 8.296875 \nL 54.390625 0 \nL 12.40625 0 \nz\n\" id=\"DejaVuSans-49\"/>\n      </defs>\n      <g transform=\"translate(7.2 428.327223)scale(0.1 -0.1)\">\n       <use xlink:href=\"#DejaVuSans-48\"/>\n       <use x=\"63.623047\" xlink:href=\"#DejaVuSans-46\"/>\n       <use x=\"95.410156\" xlink:href=\"#DejaVuSans-49\"/>\n      </g>\n     </g>\n    </g>\n    <g id=\"ytick_3\">\n     <g id=\"line2d_23\">\n      <path clip-path=\"url(#p0c16a8b74d)\" d=\"M 30.103125 349.376009 \nL 418.277038 349.376009 \n\" style=\"fill:none;stroke:#b0b0b0;stroke-linecap:square;stroke-width:0.8;\"/>\n     </g>\n     <g id=\"line2d_24\">\n      <g>\n       <use style=\"stroke:#000000;stroke-width:0.8;\" x=\"30.103125\" xlink:href=\"#mc11e88228d\" y=\"349.376009\"/>\n      </g>\n     </g>\n     <g id=\"text_12\">\n      <!-- 0.2 -->\n      <g transform=\"translate(7.2 353.175228)scale(0.1 -0.1)\">\n       <use xlink:href=\"#DejaVuSans-48\"/>\n       <use x=\"63.623047\" xlink:href=\"#DejaVuSans-46\"/>\n       <use x=\"95.410156\" xlink:href=\"#DejaVuSans-50\"/>\n      </g>\n     </g>\n    </g>\n    <g id=\"ytick_4\">\n     <g id=\"line2d_25\">\n      <path clip-path=\"url(#p0c16a8b74d)\" d=\"M 30.103125 274.224014 \nL 418.277038 274.224014 \n\" style=\"fill:none;stroke:#b0b0b0;stroke-linecap:square;stroke-width:0.8;\"/>\n     </g>\n     <g id=\"line2d_26\">\n      <g>\n       <use style=\"stroke:#000000;stroke-width:0.8;\" x=\"30.103125\" xlink:href=\"#mc11e88228d\" y=\"274.224014\"/>\n      </g>\n     </g>\n     <g id=\"text_13\">\n      <!-- 0.3 -->\n      <defs>\n       <path d=\"M 40.578125 39.3125 \nQ 47.65625 37.796875 51.625 33 \nQ 55.609375 28.21875 55.609375 21.1875 \nQ 55.609375 10.40625 48.1875 4.484375 \nQ 40.765625 -1.421875 27.09375 -1.421875 \nQ 22.515625 -1.421875 17.65625 -0.515625 \nQ 12.796875 0.390625 7.625 2.203125 \nL 7.625 11.71875 \nQ 11.71875 9.328125 16.59375 8.109375 \nQ 21.484375 6.890625 26.8125 6.890625 \nQ 36.078125 6.890625 40.9375 10.546875 \nQ 45.796875 14.203125 45.796875 21.1875 \nQ 45.796875 27.640625 41.28125 31.265625 \nQ 36.765625 34.90625 28.71875 34.90625 \nL 20.21875 34.90625 \nL 20.21875 43.015625 \nL 29.109375 43.015625 \nQ 36.375 43.015625 40.234375 45.921875 \nQ 44.09375 48.828125 44.09375 54.296875 \nQ 44.09375 59.90625 40.109375 62.90625 \nQ 36.140625 65.921875 28.71875 65.921875 \nQ 24.65625 65.921875 20.015625 65.03125 \nQ 15.375 64.15625 9.8125 62.3125 \nL 9.8125 71.09375 \nQ 15.4375 72.65625 20.34375 73.4375 \nQ 25.25 74.21875 29.59375 74.21875 \nQ 40.828125 74.21875 47.359375 69.109375 \nQ 53.90625 64.015625 53.90625 55.328125 \nQ 53.90625 49.265625 50.4375 45.09375 \nQ 46.96875 40.921875 40.578125 39.3125 \nz\n\" id=\"DejaVuSans-51\"/>\n      </defs>\n      <g transform=\"translate(7.2 278.023233)scale(0.1 -0.1)\">\n       <use xlink:href=\"#DejaVuSans-48\"/>\n       <use x=\"63.623047\" xlink:href=\"#DejaVuSans-46\"/>\n       <use x=\"95.410156\" xlink:href=\"#DejaVuSans-51\"/>\n      </g>\n     </g>\n    </g>\n    <g id=\"ytick_5\">\n     <g id=\"line2d_27\">\n      <path clip-path=\"url(#p0c16a8b74d)\" d=\"M 30.103125 199.072019 \nL 418.277038 199.072019 \n\" style=\"fill:none;stroke:#b0b0b0;stroke-linecap:square;stroke-width:0.8;\"/>\n     </g>\n     <g id=\"line2d_28\">\n      <g>\n       <use style=\"stroke:#000000;stroke-width:0.8;\" x=\"30.103125\" xlink:href=\"#mc11e88228d\" y=\"199.072019\"/>\n      </g>\n     </g>\n     <g id=\"text_14\">\n      <!-- 0.4 -->\n      <g transform=\"translate(7.2 202.871237)scale(0.1 -0.1)\">\n       <use xlink:href=\"#DejaVuSans-48\"/>\n       <use x=\"63.623047\" xlink:href=\"#DejaVuSans-46\"/>\n       <use x=\"95.410156\" xlink:href=\"#DejaVuSans-52\"/>\n      </g>\n     </g>\n    </g>\n    <g id=\"ytick_6\">\n     <g id=\"line2d_29\">\n      <path clip-path=\"url(#p0c16a8b74d)\" d=\"M 30.103125 123.920023 \nL 418.277038 123.920023 \n\" style=\"fill:none;stroke:#b0b0b0;stroke-linecap:square;stroke-width:0.8;\"/>\n     </g>\n     <g id=\"line2d_30\">\n      <g>\n       <use style=\"stroke:#000000;stroke-width:0.8;\" x=\"30.103125\" xlink:href=\"#mc11e88228d\" y=\"123.920023\"/>\n      </g>\n     </g>\n     <g id=\"text_15\">\n      <!-- 0.5 -->\n      <defs>\n       <path d=\"M 10.796875 72.90625 \nL 49.515625 72.90625 \nL 49.515625 64.59375 \nL 19.828125 64.59375 \nL 19.828125 46.734375 \nQ 21.96875 47.46875 24.109375 47.828125 \nQ 26.265625 48.1875 28.421875 48.1875 \nQ 40.625 48.1875 47.75 41.5 \nQ 54.890625 34.8125 54.890625 23.390625 \nQ 54.890625 11.625 47.5625 5.09375 \nQ 40.234375 -1.421875 26.90625 -1.421875 \nQ 22.3125 -1.421875 17.546875 -0.640625 \nQ 12.796875 0.140625 7.71875 1.703125 \nL 7.71875 11.625 \nQ 12.109375 9.234375 16.796875 8.0625 \nQ 21.484375 6.890625 26.703125 6.890625 \nQ 35.15625 6.890625 40.078125 11.328125 \nQ 45.015625 15.765625 45.015625 23.390625 \nQ 45.015625 31 40.078125 35.4375 \nQ 35.15625 39.890625 26.703125 39.890625 \nQ 22.75 39.890625 18.8125 39.015625 \nQ 14.890625 38.140625 10.796875 36.28125 \nz\n\" id=\"DejaVuSans-53\"/>\n      </defs>\n      <g transform=\"translate(7.2 127.719242)scale(0.1 -0.1)\">\n       <use xlink:href=\"#DejaVuSans-48\"/>\n       <use x=\"63.623047\" xlink:href=\"#DejaVuSans-46\"/>\n       <use x=\"95.410156\" xlink:href=\"#DejaVuSans-53\"/>\n      </g>\n     </g>\n    </g>\n   </g>\n   <g id=\"patch_5\">\n    <path d=\"M 30.103125 499.68 \nL 30.103125 64.8 \n\" style=\"fill:none;stroke:#000000;stroke-linecap:square;stroke-linejoin:miter;stroke-width:0.8;\"/>\n   </g>\n   <g id=\"patch_6\">\n    <path d=\"M 418.277038 499.68 \nL 418.277038 64.8 \n\" style=\"fill:none;stroke:#000000;stroke-linecap:square;stroke-linejoin:miter;stroke-width:0.8;\"/>\n   </g>\n   <g id=\"patch_7\">\n    <path d=\"M 30.103125 499.68 \nL 418.277038 499.68 \n\" style=\"fill:none;stroke:#000000;stroke-linecap:square;stroke-linejoin:miter;stroke-width:0.8;\"/>\n   </g>\n   <g id=\"patch_8\">\n    <path d=\"M 30.103125 64.8 \nL 418.277038 64.8 \n\" style=\"fill:none;stroke:#000000;stroke-linecap:square;stroke-linejoin:miter;stroke-width:0.8;\"/>\n   </g>\n   <g id=\"text_16\">\n    <!-- LDA -->\n    <defs>\n     <path d=\"M 9.8125 72.90625 \nL 19.671875 72.90625 \nL 19.671875 8.296875 \nL 55.171875 8.296875 \nL 55.171875 0 \nL 9.8125 0 \nz\n\" id=\"DejaVuSans-76\"/>\n     <path d=\"M 19.671875 64.796875 \nL 19.671875 8.109375 \nL 31.59375 8.109375 \nQ 46.6875 8.109375 53.6875 14.9375 \nQ 60.6875 21.78125 60.6875 36.53125 \nQ 60.6875 51.171875 53.6875 57.984375 \nQ 46.6875 64.796875 31.59375 64.796875 \nz\nM 9.8125 72.90625 \nL 30.078125 72.90625 \nQ 51.265625 72.90625 61.171875 64.09375 \nQ 71.09375 55.28125 71.09375 36.53125 \nQ 71.09375 17.671875 61.125 8.828125 \nQ 51.171875 0 30.078125 0 \nL 9.8125 0 \nz\n\" id=\"DejaVuSans-68\"/>\n     <path d=\"M 34.1875 63.1875 \nL 20.796875 26.90625 \nL 47.609375 26.90625 \nz\nM 28.609375 72.90625 \nL 39.796875 72.90625 \nL 67.578125 0 \nL 57.328125 0 \nL 50.6875 18.703125 \nL 17.828125 18.703125 \nL 11.1875 0 \nL 0.78125 0 \nz\n\" id=\"DejaVuSans-65\"/>\n    </defs>\n    <g transform=\"translate(212.227582 58.8)scale(0.12 -0.12)\">\n     <use xlink:href=\"#DejaVuSans-76\"/>\n     <use x=\"55.712891\" xlink:href=\"#DejaVuSans-68\"/>\n     <use x=\"130.964844\" xlink:href=\"#DejaVuSans-65\"/>\n    </g>\n   </g>\n   <g id=\"legend_1\">\n    <g id=\"patch_9\">\n     <path d=\"M 354.169226 102.15625 \nL 411.277038 102.15625 \nQ 413.277038 102.15625 413.277038 100.15625 \nL 413.277038 71.8 \nQ 413.277038 69.8 411.277038 69.8 \nL 354.169226 69.8 \nQ 352.169226 69.8 352.169226 71.8 \nL 352.169226 100.15625 \nQ 352.169226 102.15625 354.169226 102.15625 \nz\n\" style=\"fill:#ffffff;opacity:0.8;stroke:#cccccc;stroke-linejoin:miter;\"/>\n    </g>\n    <g id=\"patch_10\">\n     <path d=\"M 356.169226 81.398438 \nL 376.169226 81.398438 \nL 376.169226 74.398438 \nL 356.169226 74.398438 \nz\n\" style=\"fill:none;stroke:#1f77b4;stroke-linejoin:miter;\"/>\n    </g>\n    <g id=\"text_17\">\n     <!-- False -->\n     <defs>\n      <path d=\"M 9.8125 72.90625 \nL 51.703125 72.90625 \nL 51.703125 64.59375 \nL 19.671875 64.59375 \nL 19.671875 43.109375 \nL 48.578125 43.109375 \nL 48.578125 34.8125 \nL 19.671875 34.8125 \nL 19.671875 0 \nL 9.8125 0 \nz\n\" id=\"DejaVuSans-70\"/>\n      <path d=\"M 34.28125 27.484375 \nQ 23.390625 27.484375 19.1875 25 \nQ 14.984375 22.515625 14.984375 16.5 \nQ 14.984375 11.71875 18.140625 8.90625 \nQ 21.296875 6.109375 26.703125 6.109375 \nQ 34.1875 6.109375 38.703125 11.40625 \nQ 43.21875 16.703125 43.21875 25.484375 \nL 43.21875 27.484375 \nz\nM 52.203125 31.203125 \nL 52.203125 0 \nL 43.21875 0 \nL 43.21875 8.296875 \nQ 40.140625 3.328125 35.546875 0.953125 \nQ 30.953125 -1.421875 24.3125 -1.421875 \nQ 15.921875 -1.421875 10.953125 3.296875 \nQ 6 8.015625 6 15.921875 \nQ 6 25.140625 12.171875 29.828125 \nQ 18.359375 34.515625 30.609375 34.515625 \nL 43.21875 34.515625 \nL 43.21875 35.40625 \nQ 43.21875 41.609375 39.140625 45 \nQ 35.0625 48.390625 27.6875 48.390625 \nQ 23 48.390625 18.546875 47.265625 \nQ 14.109375 46.140625 10.015625 43.890625 \nL 10.015625 52.203125 \nQ 14.9375 54.109375 19.578125 55.046875 \nQ 24.21875 56 28.609375 56 \nQ 40.484375 56 46.34375 49.84375 \nQ 52.203125 43.703125 52.203125 31.203125 \nz\n\" id=\"DejaVuSans-97\"/>\n      <path d=\"M 9.421875 75.984375 \nL 18.40625 75.984375 \nL 18.40625 0 \nL 9.421875 0 \nz\n\" id=\"DejaVuSans-108\"/>\n      <path d=\"M 44.28125 53.078125 \nL 44.28125 44.578125 \nQ 40.484375 46.53125 36.375 47.5 \nQ 32.28125 48.484375 27.875 48.484375 \nQ 21.1875 48.484375 17.84375 46.4375 \nQ 14.5 44.390625 14.5 40.28125 \nQ 14.5 37.15625 16.890625 35.375 \nQ 19.28125 33.59375 26.515625 31.984375 \nL 29.59375 31.296875 \nQ 39.15625 29.25 43.1875 25.515625 \nQ 47.21875 21.78125 47.21875 15.09375 \nQ 47.21875 7.46875 41.1875 3.015625 \nQ 35.15625 -1.421875 24.609375 -1.421875 \nQ 20.21875 -1.421875 15.453125 -0.5625 \nQ 10.6875 0.296875 5.421875 2 \nL 5.421875 11.28125 \nQ 10.40625 8.6875 15.234375 7.390625 \nQ 20.0625 6.109375 24.8125 6.109375 \nQ 31.15625 6.109375 34.5625 8.28125 \nQ 37.984375 10.453125 37.984375 14.40625 \nQ 37.984375 18.0625 35.515625 20.015625 \nQ 33.0625 21.96875 24.703125 23.78125 \nL 21.578125 24.515625 \nQ 13.234375 26.265625 9.515625 29.90625 \nQ 5.8125 33.546875 5.8125 39.890625 \nQ 5.8125 47.609375 11.28125 51.796875 \nQ 16.75 56 26.8125 56 \nQ 31.78125 56 36.171875 55.265625 \nQ 40.578125 54.546875 44.28125 53.078125 \nz\n\" id=\"DejaVuSans-115\"/>\n      <path d=\"M 56.203125 29.59375 \nL 56.203125 25.203125 \nL 14.890625 25.203125 \nQ 15.484375 15.921875 20.484375 11.0625 \nQ 25.484375 6.203125 34.421875 6.203125 \nQ 39.59375 6.203125 44.453125 7.46875 \nQ 49.3125 8.734375 54.109375 11.28125 \nL 54.109375 2.78125 \nQ 49.265625 0.734375 44.1875 -0.34375 \nQ 39.109375 -1.421875 33.890625 -1.421875 \nQ 20.796875 -1.421875 13.15625 6.1875 \nQ 5.515625 13.8125 5.515625 26.8125 \nQ 5.515625 40.234375 12.765625 48.109375 \nQ 20.015625 56 32.328125 56 \nQ 43.359375 56 49.78125 48.890625 \nQ 56.203125 41.796875 56.203125 29.59375 \nz\nM 47.21875 32.234375 \nQ 47.125 39.59375 43.09375 43.984375 \nQ 39.0625 48.390625 32.421875 48.390625 \nQ 24.90625 48.390625 20.390625 44.140625 \nQ 15.875 39.890625 15.1875 32.171875 \nz\n\" id=\"DejaVuSans-101\"/>\n     </defs>\n     <g transform=\"translate(384.169226 81.398438)scale(0.1 -0.1)\">\n      <use xlink:href=\"#DejaVuSans-70\"/>\n      <use x=\"48.394531\" xlink:href=\"#DejaVuSans-97\"/>\n      <use x=\"109.673828\" xlink:href=\"#DejaVuSans-108\"/>\n      <use x=\"137.457031\" xlink:href=\"#DejaVuSans-115\"/>\n      <use x=\"189.556641\" xlink:href=\"#DejaVuSans-101\"/>\n     </g>\n    </g>\n    <g id=\"patch_11\">\n     <path d=\"M 356.169226 96.076563 \nL 376.169226 96.076563 \nL 376.169226 89.076563 \nL 356.169226 89.076563 \nz\n\" style=\"fill:none;stroke:#ff7f0e;stroke-linejoin:miter;\"/>\n    </g>\n    <g id=\"text_18\">\n     <!-- True -->\n     <defs>\n      <path d=\"M -0.296875 72.90625 \nL 61.375 72.90625 \nL 61.375 64.59375 \nL 35.5 64.59375 \nL 35.5 0 \nL 25.59375 0 \nL 25.59375 64.59375 \nL -0.296875 64.59375 \nz\n\" id=\"DejaVuSans-84\"/>\n      <path d=\"M 41.109375 46.296875 \nQ 39.59375 47.171875 37.8125 47.578125 \nQ 36.03125 48 33.890625 48 \nQ 26.265625 48 22.1875 43.046875 \nQ 18.109375 38.09375 18.109375 28.8125 \nL 18.109375 0 \nL 9.078125 0 \nL 9.078125 54.6875 \nL 18.109375 54.6875 \nL 18.109375 46.1875 \nQ 20.953125 51.171875 25.484375 53.578125 \nQ 30.03125 56 36.53125 56 \nQ 37.453125 56 38.578125 55.875 \nQ 39.703125 55.765625 41.0625 55.515625 \nz\n\" id=\"DejaVuSans-114\"/>\n      <path d=\"M 8.5 21.578125 \nL 8.5 54.6875 \nL 17.484375 54.6875 \nL 17.484375 21.921875 \nQ 17.484375 14.15625 20.5 10.265625 \nQ 23.53125 6.390625 29.59375 6.390625 \nQ 36.859375 6.390625 41.078125 11.03125 \nQ 45.3125 15.671875 45.3125 23.6875 \nL 45.3125 54.6875 \nL 54.296875 54.6875 \nL 54.296875 0 \nL 45.3125 0 \nL 45.3125 8.40625 \nQ 42.046875 3.421875 37.71875 1 \nQ 33.40625 -1.421875 27.6875 -1.421875 \nQ 18.265625 -1.421875 13.375 4.4375 \nQ 8.5 10.296875 8.5 21.578125 \nz\nM 31.109375 56 \nz\n\" id=\"DejaVuSans-117\"/>\n     </defs>\n     <g transform=\"translate(384.169226 96.076563)scale(0.1 -0.1)\">\n      <use xlink:href=\"#DejaVuSans-84\"/>\n      <use x=\"46.333984\" xlink:href=\"#DejaVuSans-114\"/>\n      <use x=\"87.447266\" xlink:href=\"#DejaVuSans-117\"/>\n      <use x=\"150.826172\" xlink:href=\"#DejaVuSans-101\"/>\n     </g>\n    </g>\n   </g>\n  </g>\n  <g id=\"axes_2\">\n   <g id=\"patch_12\">\n    <path d=\"M 534.729212 499.68 \nL 922.903125 499.68 \nL 922.903125 64.8 \nL 534.729212 64.8 \nz\n\" style=\"fill:#ffffff;\"/>\n   </g>\n   <g id=\"patch_13\">\n    <path clip-path=\"url(#pc56475c5ec)\" d=\"M 566.553959 499.68 \nL 566.553959 499.429365 \nL 573.328057 499.429365 \nL 573.328057 498.272587 \nL 580.102155 498.272587 \nL 580.102155 495.602358 \nL 586.876253 495.602358 \nL 586.876253 489.317199 \nL 593.650351 489.317199 \nL 593.650351 471.512462 \nL 600.424449 471.512462 \nL 600.424449 469.55558 \nL 607.198546 469.55558 \nL 607.198546 322.837604 \nL 613.972644 322.837604 \nL 613.972644 130.504026 \nL 620.746742 130.504026 \nL 620.746742 348.450591 \nL 627.52084 348.450591 \nL 627.52084 424.258092 \nL 634.294938 424.258092 \nL 634.294938 458.903585 \nL 641.069036 458.903585 \nL 641.069036 497.08689 \nL 647.843134 497.08689 \nL 647.843134 499.67036 \nL 654.617232 499.67036 \nL 654.617232 499.66072 \nL 661.39133 499.66072 \nL 661.39133 499.622161 \nL 668.165428 499.622161 \nL 668.165428 499.429365 \nL 674.939526 499.429365 \nL 674.939526 496.633819 \nL 681.713624 496.633819 \nL 681.713624 490.194423 \nL 688.487722 490.194423 \nL 688.487722 477.739782 \nL 695.26182 477.739782 \nL 695.26182 484.892525 \nL 702.035918 484.892525 \nL 702.035918 497.115809 \nL 708.810016 497.115809 \nL 708.810016 498.831696 \nL 715.584114 498.831696 \nL 715.584114 498.802777 \nL 722.358212 498.802777 \nL 722.358212 498.542502 \nL 729.13231 498.542502 \nL 729.13231 497.231487 \nL 735.906407 497.231487 \nL 735.906407 495.02397 \nL 742.680505 495.02397 \nL 742.680505 493.481599 \nL 749.454603 493.481599 \nL 749.454603 494.917932 \nL 756.228701 494.917932 \nL 756.228701 495.149287 \nL 763.002799 495.149287 \nL 763.002799 488.652052 \nL 769.776897 488.652052 \nL 769.776897 478.472408 \nL 776.550995 478.472408 \nL 776.550995 473.045193 \nL 783.325093 473.045193 \nL 783.325093 480.072617 \nL 790.099191 480.072617 \nL 790.099191 489.461797 \nL 796.873289 489.461797 \nL 796.873289 495.255325 \nL 803.647387 495.255325 \nL 803.647387 497.135089 \nL 810.421485 497.135089 \nL 810.421485 498.050871 \nL 817.195583 498.050871 \nL 817.195583 498.561782 \nL 823.969681 498.561782 \nL 823.969681 499.034132 \nL 830.743779 499.034132 \nL 830.743779 499.198009 \nL 837.517877 499.198009 \nL 837.517877 499.477564 \nL 844.291975 499.477564 \nL 844.291975 499.554682 \nL 851.066073 499.554682 \nL 851.066073 499.66072 \nL 857.840171 499.66072 \nL 857.840171 499.622161 \nL 864.614269 499.622161 \nL 864.614269 499.651081 \nL 871.388366 499.651081 \nL 871.388366 499.66072 \nL 878.162464 499.66072 \nL 878.162464 499.66072 \nL 884.936562 499.66072 \nL 884.936562 499.66072 \nL 891.71066 499.66072 \nL 891.71066 499.67036 \nL 898.484758 499.67036 \nL 898.484758 499.66072 \nL 905.258856 499.66072 \nL 905.258856 499.68 \n\" style=\"fill:none;stroke:#1f77b4;stroke-linejoin:miter;\"/>\n   </g>\n   <g id=\"patch_14\">\n    <path clip-path=\"url(#pc56475c5ec)\" d=\"M 552.373481 499.68 \nL 552.373481 499.420386 \nL 554.562865 499.420386 \nL 554.562865 499.68 \nL 556.75225 499.68 \nL 556.75225 499.420386 \nL 558.941634 499.420386 \nL 558.941634 498.381928 \nL 561.131018 498.381928 \nL 561.131018 498.29539 \nL 563.320403 498.29539 \nL 563.320403 497.776161 \nL 565.509787 497.776161 \nL 565.509787 496.997318 \nL 567.699172 496.997318 \nL 567.699172 497.776161 \nL 569.888556 497.776161 \nL 569.888556 496.997318 \nL 572.07794 496.997318 \nL 572.07794 496.564628 \nL 574.267325 496.564628 \nL 574.267325 496.737704 \nL 576.456709 496.737704 \nL 576.456709 497.256933 \nL 578.646093 497.256933 \nL 578.646093 497.343471 \nL 580.835478 497.343471 \nL 580.835478 496.131937 \nL 583.024862 496.131937 \nL 583.024862 495.52617 \nL 585.214247 495.52617 \nL 585.214247 496.564628 \nL 587.403631 496.564628 \nL 587.403631 496.47809 \nL 589.593015 496.47809 \nL 589.593015 497.170395 \nL 591.7824 497.170395 \nL 591.7824 496.824242 \nL 593.971784 496.824242 \nL 593.971784 497.083856 \nL 596.161169 497.083856 \nL 596.161169 497.516547 \nL 598.350553 497.516547 \nL 598.350553 498.035776 \nL 600.539937 498.035776 \nL 600.539937 497.8627 \nL 602.729322 497.8627 \nL 602.729322 497.776161 \nL 604.918706 497.776161 \nL 604.918706 493.795408 \nL 607.108091 493.795408 \nL 607.108091 477.18009 \nL 609.297475 477.18009 \nL 609.297475 401.978466 \nL 611.486859 401.978466 \nL 611.486859 242.575254 \nL 613.676244 242.575254 \nL 613.676244 128.950706 \nL 615.865628 128.950706 \nL 615.865628 85.508571 \nL 618.055013 85.508571 \nL 618.055013 142.191038 \nL 620.244397 142.191038 \nL 620.244397 220.940725 \nL 622.433781 220.940725 \nL 622.433781 274.94051 \nL 624.623166 274.94051 \nL 624.623166 215.056133 \nL 626.81255 215.056133 \nL 626.81255 272.257828 \nL 629.001935 272.257828 \nL 629.001935 391.074663 \nL 631.191319 391.074663 \nL 631.191319 417.382251 \nL 633.380703 417.382251 \nL 633.380703 296.05581 \nL 635.570088 296.05581 \nL 635.570088 298.565416 \nL 637.759472 298.565416 \nL 637.759472 430.449506 \nL 639.948857 430.449506 \nL 639.948857 463.766681 \nL 642.138241 463.766681 \nL 642.138241 493.276179 \nL 644.327625 493.276179 \nL 644.327625 497.689623 \nL 646.51701 497.689623 \nL 646.51701 498.901157 \nL 648.706394 498.901157 \nL 648.706394 499.333848 \nL 650.895779 499.333848 \nL 650.895779 499.420386 \nL 653.085163 499.420386 \nL 653.085163 499.420386 \nL 655.274547 499.420386 \nL 655.274547 499.593462 \nL 657.463932 499.593462 \nL 657.463932 499.68 \nL 659.653316 499.68 \nL 659.653316 499.593462 \nL 661.842701 499.593462 \nL 661.842701 499.68 \n\" style=\"fill:none;stroke:#ff7f0e;stroke-linejoin:miter;\"/>\n   </g>\n   <g id=\"matplotlib.axis_3\">\n    <g id=\"xtick_10\">\n     <g id=\"line2d_31\">\n      <path clip-path=\"url(#pc56475c5ec)\" d=\"M 546.367613 499.68 \nL 546.367613 64.8 \n\" style=\"fill:none;stroke:#b0b0b0;stroke-linecap:square;stroke-width:0.8;\"/>\n     </g>\n     <g id=\"line2d_32\">\n      <g>\n       <use style=\"stroke:#000000;stroke-width:0.8;\" x=\"546.367613\" xlink:href=\"#m89fd1f1b2a\" y=\"499.68\"/>\n      </g>\n     </g>\n     <g id=\"text_19\">\n      <!-- −20 -->\n      <g transform=\"translate(535.815269 514.278437)scale(0.1 -0.1)\">\n       <use xlink:href=\"#DejaVuSans-8722\"/>\n       <use x=\"83.789062\" xlink:href=\"#DejaVuSans-50\"/>\n       <use x=\"147.412109\" xlink:href=\"#DejaVuSans-48\"/>\n      </g>\n     </g>\n    </g>\n    <g id=\"xtick_11\">\n     <g id=\"line2d_33\">\n      <path clip-path=\"url(#pc56475c5ec)\" d=\"M 590.854655 499.68 \nL 590.854655 64.8 \n\" style=\"fill:none;stroke:#b0b0b0;stroke-linecap:square;stroke-width:0.8;\"/>\n     </g>\n     <g id=\"line2d_34\">\n      <g>\n       <use style=\"stroke:#000000;stroke-width:0.8;\" x=\"590.854655\" xlink:href=\"#m89fd1f1b2a\" y=\"499.68\"/>\n      </g>\n     </g>\n     <g id=\"text_20\">\n      <!-- −10 -->\n      <g transform=\"translate(580.302311 514.278437)scale(0.1 -0.1)\">\n       <use xlink:href=\"#DejaVuSans-8722\"/>\n       <use x=\"83.789062\" xlink:href=\"#DejaVuSans-49\"/>\n       <use x=\"147.412109\" xlink:href=\"#DejaVuSans-48\"/>\n      </g>\n     </g>\n    </g>\n    <g id=\"xtick_12\">\n     <g id=\"line2d_35\">\n      <path clip-path=\"url(#pc56475c5ec)\" d=\"M 635.341697 499.68 \nL 635.341697 64.8 \n\" style=\"fill:none;stroke:#b0b0b0;stroke-linecap:square;stroke-width:0.8;\"/>\n     </g>\n     <g id=\"line2d_36\">\n      <g>\n       <use style=\"stroke:#000000;stroke-width:0.8;\" x=\"635.341697\" xlink:href=\"#m89fd1f1b2a\" y=\"499.68\"/>\n      </g>\n     </g>\n     <g id=\"text_21\">\n      <!-- 0 -->\n      <g transform=\"translate(632.160447 514.278437)scale(0.1 -0.1)\">\n       <use xlink:href=\"#DejaVuSans-48\"/>\n      </g>\n     </g>\n    </g>\n    <g id=\"xtick_13\">\n     <g id=\"line2d_37\">\n      <path clip-path=\"url(#pc56475c5ec)\" d=\"M 679.828739 499.68 \nL 679.828739 64.8 \n\" style=\"fill:none;stroke:#b0b0b0;stroke-linecap:square;stroke-width:0.8;\"/>\n     </g>\n     <g id=\"line2d_38\">\n      <g>\n       <use style=\"stroke:#000000;stroke-width:0.8;\" x=\"679.828739\" xlink:href=\"#m89fd1f1b2a\" y=\"499.68\"/>\n      </g>\n     </g>\n     <g id=\"text_22\">\n      <!-- 10 -->\n      <g transform=\"translate(673.466239 514.278437)scale(0.1 -0.1)\">\n       <use xlink:href=\"#DejaVuSans-49\"/>\n       <use x=\"63.623047\" xlink:href=\"#DejaVuSans-48\"/>\n      </g>\n     </g>\n    </g>\n    <g id=\"xtick_14\">\n     <g id=\"line2d_39\">\n      <path clip-path=\"url(#pc56475c5ec)\" d=\"M 724.315781 499.68 \nL 724.315781 64.8 \n\" style=\"fill:none;stroke:#b0b0b0;stroke-linecap:square;stroke-width:0.8;\"/>\n     </g>\n     <g id=\"line2d_40\">\n      <g>\n       <use style=\"stroke:#000000;stroke-width:0.8;\" x=\"724.315781\" xlink:href=\"#m89fd1f1b2a\" y=\"499.68\"/>\n      </g>\n     </g>\n     <g id=\"text_23\">\n      <!-- 20 -->\n      <g transform=\"translate(717.953281 514.278437)scale(0.1 -0.1)\">\n       <use xlink:href=\"#DejaVuSans-50\"/>\n       <use x=\"63.623047\" xlink:href=\"#DejaVuSans-48\"/>\n      </g>\n     </g>\n    </g>\n    <g id=\"xtick_15\">\n     <g id=\"line2d_41\">\n      <path clip-path=\"url(#pc56475c5ec)\" d=\"M 768.802822 499.68 \nL 768.802822 64.8 \n\" style=\"fill:none;stroke:#b0b0b0;stroke-linecap:square;stroke-width:0.8;\"/>\n     </g>\n     <g id=\"line2d_42\">\n      <g>\n       <use style=\"stroke:#000000;stroke-width:0.8;\" x=\"768.802822\" xlink:href=\"#m89fd1f1b2a\" y=\"499.68\"/>\n      </g>\n     </g>\n     <g id=\"text_24\">\n      <!-- 30 -->\n      <g transform=\"translate(762.440322 514.278437)scale(0.1 -0.1)\">\n       <use xlink:href=\"#DejaVuSans-51\"/>\n       <use x=\"63.623047\" xlink:href=\"#DejaVuSans-48\"/>\n      </g>\n     </g>\n    </g>\n    <g id=\"xtick_16\">\n     <g id=\"line2d_43\">\n      <path clip-path=\"url(#pc56475c5ec)\" d=\"M 813.289864 499.68 \nL 813.289864 64.8 \n\" style=\"fill:none;stroke:#b0b0b0;stroke-linecap:square;stroke-width:0.8;\"/>\n     </g>\n     <g id=\"line2d_44\">\n      <g>\n       <use style=\"stroke:#000000;stroke-width:0.8;\" x=\"813.289864\" xlink:href=\"#m89fd1f1b2a\" y=\"499.68\"/>\n      </g>\n     </g>\n     <g id=\"text_25\">\n      <!-- 40 -->\n      <g transform=\"translate(806.927364 514.278437)scale(0.1 -0.1)\">\n       <use xlink:href=\"#DejaVuSans-52\"/>\n       <use x=\"63.623047\" xlink:href=\"#DejaVuSans-48\"/>\n      </g>\n     </g>\n    </g>\n    <g id=\"xtick_17\">\n     <g id=\"line2d_45\">\n      <path clip-path=\"url(#pc56475c5ec)\" d=\"M 857.776906 499.68 \nL 857.776906 64.8 \n\" style=\"fill:none;stroke:#b0b0b0;stroke-linecap:square;stroke-width:0.8;\"/>\n     </g>\n     <g id=\"line2d_46\">\n      <g>\n       <use style=\"stroke:#000000;stroke-width:0.8;\" x=\"857.776906\" xlink:href=\"#m89fd1f1b2a\" y=\"499.68\"/>\n      </g>\n     </g>\n     <g id=\"text_26\">\n      <!-- 50 -->\n      <g transform=\"translate(851.414406 514.278437)scale(0.1 -0.1)\">\n       <use xlink:href=\"#DejaVuSans-53\"/>\n       <use x=\"63.623047\" xlink:href=\"#DejaVuSans-48\"/>\n      </g>\n     </g>\n    </g>\n    <g id=\"xtick_18\">\n     <g id=\"line2d_47\">\n      <path clip-path=\"url(#pc56475c5ec)\" d=\"M 902.263948 499.68 \nL 902.263948 64.8 \n\" style=\"fill:none;stroke:#b0b0b0;stroke-linecap:square;stroke-width:0.8;\"/>\n     </g>\n     <g id=\"line2d_48\">\n      <g>\n       <use style=\"stroke:#000000;stroke-width:0.8;\" x=\"902.263948\" xlink:href=\"#m89fd1f1b2a\" y=\"499.68\"/>\n      </g>\n     </g>\n     <g id=\"text_27\">\n      <!-- 60 -->\n      <g transform=\"translate(895.901448 514.278437)scale(0.1 -0.1)\">\n       <use xlink:href=\"#DejaVuSans-54\"/>\n       <use x=\"63.623047\" xlink:href=\"#DejaVuSans-48\"/>\n      </g>\n     </g>\n    </g>\n   </g>\n   <g id=\"matplotlib.axis_4\">\n    <g id=\"ytick_7\">\n     <g id=\"line2d_49\">\n      <path clip-path=\"url(#pc56475c5ec)\" d=\"M 534.729212 499.68 \nL 922.903125 499.68 \n\" style=\"fill:none;stroke:#b0b0b0;stroke-linecap:square;stroke-width:0.8;\"/>\n     </g>\n     <g id=\"line2d_50\">\n      <g>\n       <use style=\"stroke:#000000;stroke-width:0.8;\" x=\"534.729212\" xlink:href=\"#mc11e88228d\" y=\"499.68\"/>\n      </g>\n     </g>\n     <g id=\"text_28\">\n      <!-- 0.00 -->\n      <g transform=\"translate(505.463587 503.479219)scale(0.1 -0.1)\">\n       <use xlink:href=\"#DejaVuSans-48\"/>\n       <use x=\"63.623047\" xlink:href=\"#DejaVuSans-46\"/>\n       <use x=\"95.410156\" xlink:href=\"#DejaVuSans-48\"/>\n       <use x=\"159.033203\" xlink:href=\"#DejaVuSans-48\"/>\n      </g>\n     </g>\n    </g>\n    <g id=\"ytick_8\">\n     <g id=\"line2d_51\">\n      <path clip-path=\"url(#pc56475c5ec)\" d=\"M 534.729212 418.358717 \nL 922.903125 418.358717 \n\" style=\"fill:none;stroke:#b0b0b0;stroke-linecap:square;stroke-width:0.8;\"/>\n     </g>\n     <g id=\"line2d_52\">\n      <g>\n       <use style=\"stroke:#000000;stroke-width:0.8;\" x=\"534.729212\" xlink:href=\"#mc11e88228d\" y=\"418.358717\"/>\n      </g>\n     </g>\n     <g id=\"text_29\">\n      <!-- 0.05 -->\n      <g transform=\"translate(505.463587 422.157936)scale(0.1 -0.1)\">\n       <use xlink:href=\"#DejaVuSans-48\"/>\n       <use x=\"63.623047\" xlink:href=\"#DejaVuSans-46\"/>\n       <use x=\"95.410156\" xlink:href=\"#DejaVuSans-48\"/>\n       <use x=\"159.033203\" xlink:href=\"#DejaVuSans-53\"/>\n      </g>\n     </g>\n    </g>\n    <g id=\"ytick_9\">\n     <g id=\"line2d_53\">\n      <path clip-path=\"url(#pc56475c5ec)\" d=\"M 534.729212 337.037434 \nL 922.903125 337.037434 \n\" style=\"fill:none;stroke:#b0b0b0;stroke-linecap:square;stroke-width:0.8;\"/>\n     </g>\n     <g id=\"line2d_54\">\n      <g>\n       <use style=\"stroke:#000000;stroke-width:0.8;\" x=\"534.729212\" xlink:href=\"#mc11e88228d\" y=\"337.037434\"/>\n      </g>\n     </g>\n     <g id=\"text_30\">\n      <!-- 0.10 -->\n      <g transform=\"translate(505.463587 340.836653)scale(0.1 -0.1)\">\n       <use xlink:href=\"#DejaVuSans-48\"/>\n       <use x=\"63.623047\" xlink:href=\"#DejaVuSans-46\"/>\n       <use x=\"95.410156\" xlink:href=\"#DejaVuSans-49\"/>\n       <use x=\"159.033203\" xlink:href=\"#DejaVuSans-48\"/>\n      </g>\n     </g>\n    </g>\n    <g id=\"ytick_10\">\n     <g id=\"line2d_55\">\n      <path clip-path=\"url(#pc56475c5ec)\" d=\"M 534.729212 255.716151 \nL 922.903125 255.716151 \n\" style=\"fill:none;stroke:#b0b0b0;stroke-linecap:square;stroke-width:0.8;\"/>\n     </g>\n     <g id=\"line2d_56\">\n      <g>\n       <use style=\"stroke:#000000;stroke-width:0.8;\" x=\"534.729212\" xlink:href=\"#mc11e88228d\" y=\"255.716151\"/>\n      </g>\n     </g>\n     <g id=\"text_31\">\n      <!-- 0.15 -->\n      <g transform=\"translate(505.463587 259.515369)scale(0.1 -0.1)\">\n       <use xlink:href=\"#DejaVuSans-48\"/>\n       <use x=\"63.623047\" xlink:href=\"#DejaVuSans-46\"/>\n       <use x=\"95.410156\" xlink:href=\"#DejaVuSans-49\"/>\n       <use x=\"159.033203\" xlink:href=\"#DejaVuSans-53\"/>\n      </g>\n     </g>\n    </g>\n    <g id=\"ytick_11\">\n     <g id=\"line2d_57\">\n      <path clip-path=\"url(#pc56475c5ec)\" d=\"M 534.729212 174.394868 \nL 922.903125 174.394868 \n\" style=\"fill:none;stroke:#b0b0b0;stroke-linecap:square;stroke-width:0.8;\"/>\n     </g>\n     <g id=\"line2d_58\">\n      <g>\n       <use style=\"stroke:#000000;stroke-width:0.8;\" x=\"534.729212\" xlink:href=\"#mc11e88228d\" y=\"174.394868\"/>\n      </g>\n     </g>\n     <g id=\"text_32\">\n      <!-- 0.20 -->\n      <g transform=\"translate(505.463587 178.194086)scale(0.1 -0.1)\">\n       <use xlink:href=\"#DejaVuSans-48\"/>\n       <use x=\"63.623047\" xlink:href=\"#DejaVuSans-46\"/>\n       <use x=\"95.410156\" xlink:href=\"#DejaVuSans-50\"/>\n       <use x=\"159.033203\" xlink:href=\"#DejaVuSans-48\"/>\n      </g>\n     </g>\n    </g>\n    <g id=\"ytick_12\">\n     <g id=\"line2d_59\">\n      <path clip-path=\"url(#pc56475c5ec)\" d=\"M 534.729212 93.073584 \nL 922.903125 93.073584 \n\" style=\"fill:none;stroke:#b0b0b0;stroke-linecap:square;stroke-width:0.8;\"/>\n     </g>\n     <g id=\"line2d_60\">\n      <g>\n       <use style=\"stroke:#000000;stroke-width:0.8;\" x=\"534.729212\" xlink:href=\"#mc11e88228d\" y=\"93.073584\"/>\n      </g>\n     </g>\n     <g id=\"text_33\">\n      <!-- 0.25 -->\n      <g transform=\"translate(505.463587 96.872803)scale(0.1 -0.1)\">\n       <use xlink:href=\"#DejaVuSans-48\"/>\n       <use x=\"63.623047\" xlink:href=\"#DejaVuSans-46\"/>\n       <use x=\"95.410156\" xlink:href=\"#DejaVuSans-50\"/>\n       <use x=\"159.033203\" xlink:href=\"#DejaVuSans-53\"/>\n      </g>\n     </g>\n    </g>\n   </g>\n   <g id=\"patch_15\">\n    <path d=\"M 534.729212 499.68 \nL 534.729212 64.8 \n\" style=\"fill:none;stroke:#000000;stroke-linecap:square;stroke-linejoin:miter;stroke-width:0.8;\"/>\n   </g>\n   <g id=\"patch_16\">\n    <path d=\"M 922.903125 499.68 \nL 922.903125 64.8 \n\" style=\"fill:none;stroke:#000000;stroke-linecap:square;stroke-linejoin:miter;stroke-width:0.8;\"/>\n   </g>\n   <g id=\"patch_17\">\n    <path d=\"M 534.729212 499.68 \nL 922.903125 499.68 \n\" style=\"fill:none;stroke:#000000;stroke-linecap:square;stroke-linejoin:miter;stroke-width:0.8;\"/>\n   </g>\n   <g id=\"patch_18\">\n    <path d=\"M 534.729212 64.8 \nL 922.903125 64.8 \n\" style=\"fill:none;stroke:#000000;stroke-linecap:square;stroke-linejoin:miter;stroke-width:0.8;\"/>\n   </g>\n   <g id=\"text_34\">\n    <!-- PCA -->\n    <defs>\n     <path d=\"M 19.671875 64.796875 \nL 19.671875 37.40625 \nL 32.078125 37.40625 \nQ 38.96875 37.40625 42.71875 40.96875 \nQ 46.484375 44.53125 46.484375 51.125 \nQ 46.484375 57.671875 42.71875 61.234375 \nQ 38.96875 64.796875 32.078125 64.796875 \nz\nM 9.8125 72.90625 \nL 32.078125 72.90625 \nQ 44.34375 72.90625 50.609375 67.359375 \nQ 56.890625 61.8125 56.890625 51.125 \nQ 56.890625 40.328125 50.609375 34.8125 \nQ 44.34375 29.296875 32.078125 29.296875 \nL 19.671875 29.296875 \nL 19.671875 0 \nL 9.8125 0 \nz\n\" id=\"DejaVuSans-80\"/>\n     <path d=\"M 64.40625 67.28125 \nL 64.40625 56.890625 \nQ 59.421875 61.53125 53.78125 63.8125 \nQ 48.140625 66.109375 41.796875 66.109375 \nQ 29.296875 66.109375 22.65625 58.46875 \nQ 16.015625 50.828125 16.015625 36.375 \nQ 16.015625 21.96875 22.65625 14.328125 \nQ 29.296875 6.6875 41.796875 6.6875 \nQ 48.140625 6.6875 53.78125 8.984375 \nQ 59.421875 11.28125 64.40625 15.921875 \nL 64.40625 5.609375 \nQ 59.234375 2.09375 53.4375 0.328125 \nQ 47.65625 -1.421875 41.21875 -1.421875 \nQ 24.65625 -1.421875 15.125 8.703125 \nQ 5.609375 18.84375 5.609375 36.375 \nQ 5.609375 53.953125 15.125 64.078125 \nQ 24.65625 74.21875 41.21875 74.21875 \nQ 47.75 74.21875 53.53125 72.484375 \nQ 59.328125 70.75 64.40625 67.28125 \nz\n\" id=\"DejaVuSans-67\"/>\n    </defs>\n    <g transform=\"translate(716.904293 58.8)scale(0.12 -0.12)\">\n     <use xlink:href=\"#DejaVuSans-80\"/>\n     <use x=\"60.302734\" xlink:href=\"#DejaVuSans-67\"/>\n     <use x=\"130.126953\" xlink:href=\"#DejaVuSans-65\"/>\n    </g>\n   </g>\n   <g id=\"legend_2\">\n    <g id=\"patch_19\">\n     <path d=\"M 858.795313 102.15625 \nL 915.903125 102.15625 \nQ 917.903125 102.15625 917.903125 100.15625 \nL 917.903125 71.8 \nQ 917.903125 69.8 915.903125 69.8 \nL 858.795313 69.8 \nQ 856.795313 69.8 856.795313 71.8 \nL 856.795313 100.15625 \nQ 856.795313 102.15625 858.795313 102.15625 \nz\n\" style=\"fill:#ffffff;opacity:0.8;stroke:#cccccc;stroke-linejoin:miter;\"/>\n    </g>\n    <g id=\"patch_20\">\n     <path d=\"M 860.795313 81.398438 \nL 880.795313 81.398438 \nL 880.795313 74.398438 \nL 860.795313 74.398438 \nz\n\" style=\"fill:none;stroke:#1f77b4;stroke-linejoin:miter;\"/>\n    </g>\n    <g id=\"text_35\">\n     <!-- False -->\n     <g transform=\"translate(888.795313 81.398438)scale(0.1 -0.1)\">\n      <use xlink:href=\"#DejaVuSans-70\"/>\n      <use x=\"48.394531\" xlink:href=\"#DejaVuSans-97\"/>\n      <use x=\"109.673828\" xlink:href=\"#DejaVuSans-108\"/>\n      <use x=\"137.457031\" xlink:href=\"#DejaVuSans-115\"/>\n      <use x=\"189.556641\" xlink:href=\"#DejaVuSans-101\"/>\n     </g>\n    </g>\n    <g id=\"patch_21\">\n     <path d=\"M 860.795313 96.076563 \nL 880.795313 96.076563 \nL 880.795313 89.076563 \nL 860.795313 89.076563 \nz\n\" style=\"fill:none;stroke:#ff7f0e;stroke-linejoin:miter;\"/>\n    </g>\n    <g id=\"text_36\">\n     <!-- True -->\n     <g transform=\"translate(888.795313 96.076563)scale(0.1 -0.1)\">\n      <use xlink:href=\"#DejaVuSans-84\"/>\n      <use x=\"46.333984\" xlink:href=\"#DejaVuSans-114\"/>\n      <use x=\"87.447266\" xlink:href=\"#DejaVuSans-117\"/>\n      <use x=\"150.826172\" xlink:href=\"#DejaVuSans-101\"/>\n     </g>\n    </g>\n   </g>\n  </g>\n  <g id=\"text_37\">\n   <!-- 1yeardeath -->\n   <defs>\n    <path d=\"M 32.171875 -5.078125 \nQ 28.375 -14.84375 24.75 -17.8125 \nQ 21.140625 -20.796875 15.09375 -20.796875 \nL 7.90625 -20.796875 \nL 7.90625 -13.28125 \nL 13.1875 -13.28125 \nQ 16.890625 -13.28125 18.9375 -11.515625 \nQ 21 -9.765625 23.484375 -3.21875 \nL 25.09375 0.875 \nL 2.984375 54.6875 \nL 12.5 54.6875 \nL 29.59375 11.921875 \nL 46.6875 54.6875 \nL 56.203125 54.6875 \nz\n\" id=\"DejaVuSans-121\"/>\n    <path d=\"M 45.40625 46.390625 \nL 45.40625 75.984375 \nL 54.390625 75.984375 \nL 54.390625 0 \nL 45.40625 0 \nL 45.40625 8.203125 \nQ 42.578125 3.328125 38.25 0.953125 \nQ 33.9375 -1.421875 27.875 -1.421875 \nQ 17.96875 -1.421875 11.734375 6.484375 \nQ 5.515625 14.40625 5.515625 27.296875 \nQ 5.515625 40.1875 11.734375 48.09375 \nQ 17.96875 56 27.875 56 \nQ 33.9375 56 38.25 53.625 \nQ 42.578125 51.265625 45.40625 46.390625 \nz\nM 14.796875 27.296875 \nQ 14.796875 17.390625 18.875 11.75 \nQ 22.953125 6.109375 30.078125 6.109375 \nQ 37.203125 6.109375 41.296875 11.75 \nQ 45.40625 17.390625 45.40625 27.296875 \nQ 45.40625 37.203125 41.296875 42.84375 \nQ 37.203125 48.484375 30.078125 48.484375 \nQ 22.953125 48.484375 18.875 42.84375 \nQ 14.796875 37.203125 14.796875 27.296875 \nz\n\" id=\"DejaVuSans-100\"/>\n    <path d=\"M 18.3125 70.21875 \nL 18.3125 54.6875 \nL 36.8125 54.6875 \nL 36.8125 47.703125 \nL 18.3125 47.703125 \nL 18.3125 18.015625 \nQ 18.3125 11.328125 20.140625 9.421875 \nQ 21.96875 7.515625 27.59375 7.515625 \nL 36.8125 7.515625 \nL 36.8125 0 \nL 27.59375 0 \nQ 17.1875 0 13.234375 3.875 \nQ 9.28125 7.765625 9.28125 18.015625 \nL 9.28125 47.703125 \nL 2.6875 47.703125 \nL 2.6875 54.6875 \nL 9.28125 54.6875 \nL 9.28125 70.21875 \nz\n\" id=\"DejaVuSans-116\"/>\n    <path d=\"M 54.890625 33.015625 \nL 54.890625 0 \nL 45.90625 0 \nL 45.90625 32.71875 \nQ 45.90625 40.484375 42.875 44.328125 \nQ 39.84375 48.1875 33.796875 48.1875 \nQ 26.515625 48.1875 22.3125 43.546875 \nQ 18.109375 38.921875 18.109375 30.90625 \nL 18.109375 0 \nL 9.078125 0 \nL 9.078125 75.984375 \nL 18.109375 75.984375 \nL 18.109375 46.1875 \nQ 21.34375 51.125 25.703125 53.5625 \nQ 30.078125 56 35.796875 56 \nQ 45.21875 56 50.046875 50.171875 \nQ 54.890625 44.34375 54.890625 33.015625 \nz\n\" id=\"DejaVuSans-104\"/>\n   </defs>\n   <g transform=\"translate(427.671563 16.318125)scale(0.12 -0.12)\">\n    <use xlink:href=\"#DejaVuSans-49\"/>\n    <use x=\"63.623047\" xlink:href=\"#DejaVuSans-121\"/>\n    <use x=\"122.802734\" xlink:href=\"#DejaVuSans-101\"/>\n    <use x=\"184.326172\" xlink:href=\"#DejaVuSans-97\"/>\n    <use x=\"245.605469\" xlink:href=\"#DejaVuSans-114\"/>\n    <use x=\"284.96875\" xlink:href=\"#DejaVuSans-100\"/>\n    <use x=\"348.445312\" xlink:href=\"#DejaVuSans-101\"/>\n    <use x=\"409.96875\" xlink:href=\"#DejaVuSans-97\"/>\n    <use x=\"471.248047\" xlink:href=\"#DejaVuSans-116\"/>\n    <use x=\"510.457031\" xlink:href=\"#DejaVuSans-104\"/>\n   </g>\n  </g>\n </g>\n <defs>\n  <clipPath id=\"p0c16a8b74d\">\n   <rect height=\"434.88\" width=\"388.173913\" x=\"30.103125\" y=\"64.8\"/>\n  </clipPath>\n  <clipPath id=\"pc56475c5ec\">\n   <rect height=\"434.88\" width=\"388.173913\" x=\"534.729212\" y=\"64.8\"/>\n  </clipPath>\n </defs>\n</svg>\n",
      "image/png": "[encoded data removed]"
     },
     "metadata": {
      "needs_background": "light"
     }
    }
   ],
   "source": [
    "y = \"1yeardeath\"\n",
    "\n",
    "fig, (ax1, ax2) = plt.subplots(ncols = 2, figsize = (16,8))\n",
    "fig.suptitle(y)\n",
    "\n",
    "#data = total.copy().sample(frac = 0.1)#.drop(np.nan, level = \"DODvsAlive\")\n",
    "#data=data.iloc[:,:-1]\n",
    "data=all.iloc[:,:]\n",
    "\n",
    "total_lda = pd.DataFrame(\n",
    "    LinearDiscriminantAnalysis(n_components = 1).fit_transform(pcapipe.fit_transform(data), data.reset_index()[f\"{y}\"].values)\n",
    "    , index = data.index)\n",
    "\n",
    "\n",
    "for name, df in total_lda.groupby(level = f\"{y}\"):\n",
    "\n",
    "    df.hist(0, bins = 50, ax = ax1, histtype = 'step', label = name, density = True)\n",
    "\n",
    "ax1.set_title(\"LDA\")\n",
    "ax1.legend()\n",
    "    \n",
    "total_pca = pd.DataFrame(\n",
    "    PCA(n_components = 1).fit_transform(pcapipe.fit_transform(data), data.reset_index()[f\"{y}\"])\n",
    "    , index = data.index)\n",
    "\n",
    "\n",
    "for name, df in total_pca.groupby(level = f\"{y}\"):\n",
    "\n",
    "    df.hist(0, bins = 50, ax = ax2, histtype = 'step', label = name, density = True)\n",
    "\n",
    "ax2.set_title(\"PCA\")\n",
    "plt.legend()\n",
    "fig.savefig(os.path.join(os.getcwd(),'Plots/1yeardeath/ldaplot_IRASMA.png'))"
   ]
  },
  {
   "cell_type": "raw",
   "metadata": {
    "jupyter": {
     "source_hidden": true
    }
   },
   "source": [
    "group = \"Patient_Number\"\n",
    "y = \"DODvsAlive\"\n",
    "\n",
    "#data = (total - paraffin.mean(axis = 0)).sample(frac = 0.1)\n",
    "data = total.copy().sample(frac = 0.01)#.query(\"DODvsAlive != 'Other'\")#.drop(np.nan, level = y)\n",
    "\n",
    "\n",
    " \n",
    "data[\"sample_weights\"] = Cross_Eval.get_weights(data.reset_index()[f\"{group}\"]) * Cross_Eval.get_weights(data.reset_index()[f\"{y}\"])\n",
    "\n",
    "# Splt the data set into training and validation sets based on patient number\n",
    "train_pat, valid_pat = train_test_split(data.reset_index()[f\"{group}\"].unique(), test_size = 0.2, shuffle = True)\n",
    "\n",
    "print(f\"N train patients: \\t{len(train_pat)}\\n{train_pat}\")\n",
    "print(f\"N test patients: \\t{len(valid_pat)}\\n{valid_pat}\")\n",
    "\n",
    "\n",
    "train_data = data.query(f\"{group} in {list(train_pat)}\")\n",
    "validation_data = data.query(f\"{group} in {list(valid_pat)}\")\n",
    "\n",
    "\n",
    "X_train, X_valid = train_data.drop([\"sample_weights\"], axis = 1), validation_data.drop([\"sample_weights\"], axis = 1), \n",
    "y_train, y_valid = train_data.reset_index()[f\"{y}\"], validation_data.reset_index()[f\"{y}\"]\n",
    "w_train, w_test = train_data.reset_index()[\"sample_weights\"], validation_data.reset_index()[\"sample_weights\"]\n",
    "\n",
    "\n",
    "y_train.index = X_train.index\n",
    "y_valid.index = X_valid.index\n",
    "\n",
    "groups = X_train.reset_index()[f\"{group}\"]\n",
    "groups.index = X_train.index\n",
    "\n",
    "lb = LabelBinarizer().fit(data.reset_index()[f\"{y}\"])\n",
    "\n",
    "y_train_b = pd.DataFrame(lb.transform(y_train))\n",
    "y_valid_b = pd.DataFrame(lb.transform(y_valid))\n",
    "\n",
    "scorer = make_scorer(roc_auc_score, needs_proba = True, average = 'weighted')\n",
    "\n",
    "date_time = datetime.now().strftime(\"%m.%d.%Y_%H:%M\")\n",
    "\n",
    "file_place = os.path.join(os.getcwd(), \"Plots\", y, date_time)\n",
    "print(file_place)\n",
    "\n",
    "if not os.path.exists(file_place):\n",
    "    os.mkdir(file_place)\n",
    "    \n",
    "print(lb.classes_)"
   ]
  },
  {
   "cell_type": "raw",
   "metadata": {
    "jupyter": {
     "source_hidden": true
    }
   },
   "source": [
    "def build_LDA(hp):\n",
    "    \n",
    "    params = {\n",
    "        'n_components' : hp.Int(\"PCA_components\", 1, len(data.columns) - 1, 1),\n",
    "    }\n",
    "\n",
    "    clf = LinearDiscriminantAnalysis()\n",
    "    clf = clf.set_params(**params)\n",
    "    \n",
    "    #---------------------------------------------------------------------------------------------------\n",
    "    scalers = {\"Normalize\" : normalize,\n",
    "               \"Robust\"    : robust_scale,\n",
    "               \"MinMax\"    : minmax_scale}\n",
    "    \n",
    "    scale1 = hp.Choice('scale1', [\"Normalize\", \"Robust\", \"MinMax\"])\n",
    "    scale2 = hp.Choice('scale2', [\"Normalize\", \"Robust\", \"MinMax\"])\n",
    "\n",
    "    pipe = Pipeline([\n",
    "    (\"Normalise spectra\", FunctionTransformer(scalers[scale1] , kw_args = {\"axis\": 1})),\n",
    "    (\"Scaler\", FunctionTransformer(scalers[scale2] , kw_args = {\"axis\": 0})),\n",
    "    #(\"RBFSampler\", RBFSampler(gamma = hp.Float(\"RBF_gamma\", 0, 5), n_components = hp.Int(\"RB_components\", 1, 169, 1))),\n",
    "    (\"PCA\", PCA(n_components = hp.Int(\"PCA_components\", 1, len(data.columns) - 1, 1))),\n",
    "    (\"LDA\", clf)])\n",
    "    \n",
    "    return pipe"
   ]
  },
  {
   "cell_type": "raw",
   "metadata": {
    "jupyter": {
     "source_hidden": true
    }
   },
   "source": [
    "pipe = Pipeline([\n",
    "(\"Normalise spectra\", FunctionTransformer(robust_scale , kw_args = {\"axis\": 1})),\n",
    "(\"Scaler\", FunctionTransformer(robust_scale , kw_args = {\"axis\": 0})),\n",
    "#(\"RBFSampler\", RBFSampler(gamma = hp.Float(\"RBF_gamma\", 0, 5), n_components = hp.Int(\"RB_components\", 1, 169, 1))),\n",
    "(\"PCA\", PCA()),\n",
    "(\"LDA\", LinearDiscriminantAnalysis())])"
   ]
  },
  {
   "cell_type": "raw",
   "metadata": {
    "jupyter": {
     "source_hidden": true
    }
   },
   "source": [
    "pipe = Pipeline([\n",
    "(\"Normalise spectra\", FunctionTransformer(normalize , kw_args = {\"axis\": 1})),\n",
    "(\"Scaler\", FunctionTransformer(normalize , kw_args = {\"axis\": 0})),\n",
    "#(\"RBFSampler\", RBFSampler(gamma = hp.Float(\"RBF_gamma\", 0, 5), n_components = hp.Int(\"RB_components\", 1, 169, 1))),\n",
    "(\"PCA\", PCA()),\n",
    "(\"LDA\", LinearDiscriminantAnalysis())])"
   ]
  },
  {
   "cell_type": "raw",
   "metadata": {
    "jupyter": {
     "source_hidden": true
    }
   },
   "source": [
    "pipe = Pipeline([\n",
    "(\"Normalise spectra\", FunctionTransformer(minmax_scale , kw_args = {\"axis\": 1})),\n",
    "(\"Scaler\", FunctionTransformer(minmax_scale , kw_args = {\"axis\": 0})),\n",
    "#(\"RBFSampler\", RBFSampler(gamma = hp.Float(\"RBF_gamma\", 0, 5), n_components = hp.Int(\"RB_components\", 1, 169, 1))),\n",
    "(\"PCA\", PCA()),\n",
    "(\"LDA\", LinearDiscriminantAnalysis())])"
   ]
  },
  {
   "cell_type": "raw",
   "metadata": {
    "jupyter": {
     "source_hidden": true
    }
   },
   "source": [
    "pipe = Pipeline([\n",
    "(\"Normalise spectra\", FunctionTransformer(minmax_scale , kw_args = {\"axis\": 1})),\n",
    "(\"Scaler\", FunctionTransformer(robust_scale , kw_args = {\"axis\": 0})),\n",
    "#(\"RBFSampler\", RBFSampler(gamma = hp.Float(\"RBF_gamma\", 0, 5), n_components = hp.Int(\"RB_components\", 1, 169, 1))),\n",
    "(\"PCA\", PCA()),\n",
    "(\"LDA\", LinearDiscriminantAnalysis())])"
   ]
  },
  {
   "cell_type": "raw",
   "metadata": {
    "jupyter": {
     "source_hidden": true
    }
   },
   "source": [
    "pipe = Pipeline([\n",
    "(\"Normalise spectra\", FunctionTransformer(normalize , kw_args = {\"axis\": 1})),\n",
    "(\"Scaler\", FunctionTransformer(robust_scale , kw_args = {\"axis\": 0})),\n",
    "#(\"RBFSampler\", RBFSampler(gamma = hp.Float(\"RBF_gamma\", 0, 5), n_components = hp.Int(\"RB_components\", 1, 169, 1))),\n",
    "(\"PCA\", PCA()),\n",
    "(\"LDA\", LinearDiscriminantAnalysis())])"
   ]
  },
  {
   "cell_type": "raw",
   "metadata": {
    "jupyter": {
     "source_hidden": true
    }
   },
   "source": [
    "pipe = Pipeline([\n",
    "(\"Normalise spectra\", FunctionTransformer(normalize , kw_args = {\"axis\": 1})),\n",
    "(\"Scaler\", FunctionTransformer(minmax_scale , kw_args = {\"axis\": 0})),\n",
    "#(\"RBFSampler\", RBFSampler(gamma = hp.Float(\"RBF_gamma\", 0, 5), n_components = hp.Int(\"RB_components\", 1, 169, 1))),\n",
    "(\"PCA\", PCA()),\n",
    "(\"LDA\", LinearDiscriminantAnalysis())])"
   ]
  },
  {
   "cell_type": "raw",
   "metadata": {
    "jupyter": {
     "source_hidden": true
    }
   },
   "source": [
    "pipe = Pipeline([\n",
    "(\"Normalise spectra\", FunctionTransformer(minmax_scale , kw_args = {\"axis\": 1})),\n",
    "(\"Scaler\", FunctionTransformer(normalize , kw_args = {\"axis\": 0})),\n",
    "#(\"RBFSampler\", RBFSampler(gamma = hp.Float(\"RBF_gamma\", 0, 5), n_components = hp.Int(\"RB_components\", 1, 169, 1))),\n",
    "(\"PCA\", PCA()),\n",
    "(\"LDA\", LinearDiscriminantAnalysis())])"
   ]
  },
  {
   "cell_type": "raw",
   "metadata": {
    "jupyter": {
     "source_hidden": true
    }
   },
   "source": [
    "pipe = Pipeline([\n",
    "(\"Normalise spectra\", FunctionTransformer(minmax_scale , kw_args = {\"axis\": 1})),\n",
    "(\"Scaler\", FunctionTransformer(robust_scale , kw_args = {\"axis\": 0})),\n",
    "#(\"RBFSampler\", RBFSampler(gamma = hp.Float(\"RBF_gamma\", 0, 5), n_components = hp.Int(\"RB_components\", 1, 169, 1))),\n",
    "(\"PCA\", PCA()),\n",
    "(\"LDA\", LinearDiscriminantAnalysis())])"
   ]
  },
  {
   "cell_type": "raw",
   "metadata": {
    "jupyter": {
     "source_hidden": true
    }
   },
   "source": [
    "pipe = Pipeline([\n",
    "(\"Normalise spectra\", FunctionTransformer(robust_scale , kw_args = {\"axis\": 1})),\n",
    "(\"Scaler\", FunctionTransformer(minmax_scale , kw_args = {\"axis\": 0})),\n",
    "#(\"RBFSampler\", RBFSampler(gamma = hp.Float(\"RBF_gamma\", 0, 5), n_components = hp.Int(\"RB_components\", 1, 169, 1))),\n",
    "(\"PCA\", PCA()),\n",
    "(\"LDA\", LinearDiscriminantAnalysis())])"
   ]
  },
  {
   "cell_type": "raw",
   "metadata": {
    "jupyter": {
     "source_hidden": true
    }
   },
   "source": [
    "pipe = Pipeline([\n",
    "(\"Normalise spectra\", FunctionTransformer(robust_scale , kw_args = {\"axis\": 1})),\n",
    "(\"Scaler\", FunctionTransformer(normalize , kw_args = {\"axis\": 0})),\n",
    "#(\"RBFSampler\", RBFSampler(gamma = hp.Float(\"RBF_gamma\", 0, 5), n_components = hp.Int(\"RB_components\", 1, 169, 1))),\n",
    "(\"PCA\", PCA()),\n",
    "(\"LDA\", LinearDiscriminantAnalysis())])"
   ]
  },
  {
   "cell_type": "raw",
   "metadata": {
    "jupyter": {
     "source_hidden": true
    }
   },
   "source": [
    "group = \"Patient_Number\"\n",
    "y = \"DODvsAlive\"\n",
    "\n",
    "#data = (total - paraffin.mean(axis = 0)).sample(frac = 0.1)\n",
    "data = total.copy().sample(frac = 1)\n",
    "data[\"sample_weights\"] = Cross_Eval.get_weights(data.reset_index()[f\"{group}\"]) * Cross_Eval.get_weights(data.reset_index()[f\"{y}\"])\n",
    "unique_patients = data.reset_index()[f\"{group}\"].unique()\n",
    "\n",
    "kfoldscores = []\n",
    "\n",
    "for train_i, valid_i in tqdm(list(KFold(n_splits = 10, shuffle = True).split(unique_patients))):\n",
    "    \n",
    "    train_pat, valid_pat = unique_patients[train_i], unique_patients[valid_i]\n",
    "\n",
    "    train_data = data.query(f\"{group} in {list(train_pat)}\")\n",
    "    validation_data = data.query(f\"{group} in {list(valid_pat)}\")\n",
    "\n",
    "    X_train, X_valid = train_data.drop([\"sample_weights\"], axis = 1), validation_data.drop([\"sample_weights\"], axis = 1), \n",
    "    y_train, y_valid = train_data.reset_index()[f\"{y}\"], validation_data.reset_index()[f\"{y}\"]\n",
    "    w_train, w_test = train_data.reset_index()[\"sample_weights\"], validation_data.reset_index()[\"sample_weights\"]\n",
    "\n",
    "    y_train.index = X_train.index\n",
    "    y_valid.index = X_valid.index\n",
    "\n",
    "    groups = X_train.reset_index()[f\"{group}\"]\n",
    "    groups.index = X_train.index\n",
    "\n",
    "    lb = LabelBinarizer().fit(total.reset_index()[f\"{y}\"].unique())\n",
    "\n",
    "    y_train_b = pd.DataFrame(lb.transform(y_train))\n",
    "    y_valid_b = pd.DataFrame(lb.transform(y_valid))\n",
    "    \n",
    "\n",
    "    opt_results = Cross_Eval.bayes_search(pipe\n",
    "                                      , param_dict\n",
    "                                      , X_train\n",
    "                                      , y_train_b.values.squeeze()\n",
    "                                      , GroupKFold(n_splits = 2)\n",
    "                                      , groups = groups\n",
    "                                      #, sample_weight = w_train.values\n",
    "                                      , verbose = 0\n",
    "                                      , n_iter = 10\n",
    "                                     )\n",
    "    \n",
    "    clf = pipe.set_params(**opt_results.best_params_)\n",
    "    \n",
    "    # Refit the classifier with the best parameters on the full dataset\n",
    "    clf.fit(X_train, y_train_b)\n",
    "    \n",
    "    try: #Try except statement in case of scoring problems\n",
    "        scores = Cross_Eval.score(clf, X_valid, y_valid_b)\n",
    "        \n",
    "    except:\n",
    "        continue\n",
    "        \n",
    "    kfoldscores.append(scores)\n",
    "\n",
    "date_time = datetime.now().strftime(\"%m.%d.%Y_%H:%M\")\n",
    "file_place = os.path.join(os.getcwd(), \"Plots\", y, date_time)\n",
    "\n",
    "if not os.path.exists(file_place):\n",
    "    os.mkdir(file_place)\n",
    "\n",
    "results = pd.DataFrame(kfoldscores)"
   ]
  },
  {
   "cell_type": "raw",
   "metadata": {
    "jupyter": {
     "source_hidden": true
    }
   },
   "source": [
    "results.describe()"
   ]
  },
  {
   "cell_type": "raw",
   "metadata": {
    "jupyter": {
     "source_hidden": true
    }
   },
   "source": [
    "fig, (ax, ax2) = plt.subplots(ncols = 2, figsize = (12, 5))\n",
    "\n",
    "for _, row in results.iterrows():\n",
    "    \n",
    "    ax.plot(row[\"FPR_curve\"], row[\"TPR_curve\"])\n",
    "    \n",
    "ax.plot([0,1],[0,1], c = \"black\", linestyle = '--')\n",
    "ax.set_xlabel('False Positive Rate')\n",
    "ax.set_ylabel('True Positive Rate')\n",
    "ax.set_title('ECS ROC Curve')\n",
    "\n",
    "ax.text(0.65, 0.2, \"AUC:{:.2f} +/- {:.2f}\".format(results[\"AUC\"].mean(), results[\"AUC\"].std()))\n",
    "\n",
    "for _, row in results.iterrows():\n",
    "    \n",
    "    ax2.plot(row[\"rec_curve\"], row[\"prec_curve\"])\n",
    "    \n",
    "ax2.set_xlabel('Recall')\n",
    "ax2.set_ylabel('Precision')\n",
    "ax2.set_title('Precision Recall Curve')\n",
    "\n",
    "fig.savefig(os.path.join(file_place, \"ROC_scores.png\"), bbox_inches = 'tight')"
   ]
  },
  {
   "cell_type": "raw",
   "metadata": {
    "jupyter": {
     "source_hidden": true
    }
   },
   "source": [
    "fig, ax = plt.subplots(ncols = 1)\n",
    "\n",
    "results[[\"AUC\", \"Specificity\", \"Sensitivity\", \"Precision\", \"Recall\", \"F1\"]].plot.box(ax = ax)\n",
    "ax.set_ylabel(\"Score\")\n",
    "\n",
    "results.to_excel(os.path.join(file_place, \"Confusion_Matrix_bad.xlsx\"))\n",
    "fig.savefig(os.path.join(file_place, \"scores.png\"), bbox_inches = 'tight')"
   ]
  },
  {
   "cell_type": "raw",
   "metadata": {},
   "source": [
    "from sklearn.model_selection import cross_val_score\n",
    "from mlxtend.evaluate import BootstrapOutOfBag\n",
    "from sklearn.model_selection import LeaveOneOut"
   ]
  },
  {
   "cell_type": "raw",
   "metadata": {
    "jupyter": {
     "source_hidden": true
    }
   },
   "source": [
    "ldapipe = Pipeline([\n",
    "    (\"Normalise spectra\", FunctionTransformer(robust_scale, kw_args = {\"axis\": 1})),\n",
    "    (\"Scaler\", RobustScaler()),\n",
    "    (\"PCA\", PCA()),\n",
    "    (\"clf\", LinearDiscriminantAnalysis())\n",
    "])\n",
    "\n",
    "#totalpca = pcapipe.fit(total.append(paraffin))\n",
    "#totalpca = pcapipe.fit(total.append(paraffin))"
   ]
  },
  {
   "cell_type": "code",
   "execution_count": 29,
   "metadata": {
    "jupyter": {
     "source_hidden": true
    }
   },
   "outputs": [],
   "source": [
    "ldapipe = Pipeline([\n",
    "    (\"Normalise spectra\", FunctionTransformer(robust_scale, kw_args = {\"axis\": 1})),\n",
    "    (\"Scaler\", RobustScaler()),\n",
    "    (\"PCA\", PCA()),\n",
    "    (\"clf\", LinearDiscriminantAnalysis())\n",
    "])\n",
    "\n",
    "#totalpca = pcapipe.fit(total.append(paraffin))\n",
    "#totalpca = pcapipe.fit(total.append(paraffin))"
   ]
  },
  {
   "cell_type": "raw",
   "metadata": {
    "jupyter": {
     "source_hidden": true
    }
   },
   "source": [
    "def get_weights(column):\n",
    "    \n",
    "    counts = column.value_counts()\n",
    "    weight_dict = dict(zip(counts.index, [(counts.values.sum()/n) for n in counts.values]))\n",
    "    \n",
    "    return column.map(weight_dict).values"
   ]
  },
  {
   "cell_type": "raw",
   "metadata": {
    "jupyter": {
     "source_hidden": true
    }
   },
   "source": [
    "data = total.copy().sample(frac = 1)\n",
    "group = \"Patient_Number\"\n",
    "y = \"DODvsAlive\"\n",
    "\n",
    "scoring_dict = {\n",
    "                \"Accuracy\": make_scorer(accuracy_score)\n",
    "               }\n",
    "\n",
    "\n",
    "patients = data.reset_index()[\"Patient_Number\"].unique()\n",
    "data[\"sample_weights\"] = get_weights(data.reset_index()[f\"{group}\"]) * get_weights(data.reset_index()[f\"{y}\"])\n",
    "\n",
    "results = dict()\n",
    "\n",
    "for train_i, test_i in tqdm(list(LeaveOneOut().split(patients))):\n",
    "    \n",
    "    train_pat , valid_pat = patients[train_i], patients[test_i]\n",
    "    \n",
    "    train_data = data.query(f\"{group} in {list(train_pat)}\")\n",
    "    validation_data = data.query(f\"{group} in {list(valid_pat)}\")\n",
    "\n",
    "    \n",
    "    X_train, X_valid = train_data.drop([\"sample_weights\"], axis = 1), validation_data.drop([\"sample_weights\"], axis = 1), \n",
    "    y_train, y_valid = train_data.reset_index()[f\"{y}\"], validation_data.reset_index()[f\"{y}\"]\n",
    "    w_train, w_test = train_data.reset_index()[\"sample_weights\"], validation_data.reset_index()[\"sample_weights\"]\n",
    "    \n",
    "\n",
    "    y_train.index = X_train.index\n",
    "    y_valid.index = X_valid.index\n",
    "    \n",
    "    groups = X_train.reset_index()[f\"{group}\"]\n",
    "    groups.index = X_train.index\n",
    "\n",
    "\n",
    "    lb = LabelBinarizer().fit(data.reset_index()[f\"{y}\"])\n",
    "\n",
    "    y_train_b = pd.DataFrame(lb.transform(y_train))\n",
    "    y_valid_b = pd.DataFrame(lb.transform(y_valid))\n",
    "\n",
    "    scorer = make_scorer(roc_auc_score, needs_proba = True, average = 'weighted')\n",
    "    \n",
    "    ldapipe.fit(X_train, y_train_b.values.squeeze())\n",
    "    \n",
    "    scores = dict()\n",
    "\n",
    "    for name, scorer in scoring_dict.items():\n",
    "        \n",
    "        scores[name] = scorer(ldapipe, X_valid, y_valid_b)\n",
    "        \n",
    "    results[valid_pat[0]] = scores"
   ]
  },
  {
   "cell_type": "markdown",
   "metadata": {},
   "source": [
    "## Keras Tuner"
   ]
  },
  {
   "cell_type": "code",
   "execution_count": 30,
   "metadata": {},
   "outputs": [],
   "source": [
    "import kerastuner as kt"
   ]
  },
  {
   "cell_type": "code",
   "execution_count": null,
   "metadata": {},
   "outputs": [],
   "source": [
    "def build_LDA(hp):\n",
    "    \n",
    "    scalers = {\"Normalize\" : normalize,\n",
    "               \"Robust\"    : robust_scale,\n",
    "               \"MinMax\"    : minmax_scale}\n",
    "    \n",
    "    scale1 = hp.Choice('scale1', [\"Normalize\", \"Robust\", \"MinMax\"])\n",
    "    scale2 = hp.Choice('scale2', [\"Normalize\", \"Robust\", \"MinMax\"])\n",
    "\n",
    "\n",
    "    pipe = Pipeline([\n",
    "    (\"Normalise spectra\", FunctionTransformer(scalers[scale1] , kw_args = {\"axis\": 1})),\n",
    "    (\"Scaler\", FunctionTransformer(scalers[scale2] , kw_args = {\"axis\": 0})),\n",
    "    (\"PCA\", PCA(n_components = hp.Int(\"PCA_components\", 1, len(data.columns) - 1, 1))),\n",
    "    (\"clf\", CalibratedClassifierCV(LinearDiscriminantAnalysis()))])\n",
    "    \n",
    "    return pipe"
   ]
  },
  {
   "cell_type": "code",
   "execution_count": 33,
   "metadata": {},
   "outputs": [],
   "source": [
    "def build_LR(hp):\n",
    "    \n",
    "    scalers = {\"Normalize\" : normalize,\n",
    "               \"Robust\"    : robust_scale,\n",
    "               \"MinMax\"    : minmax_scale}\n",
    "    \n",
    "    scale1 = hp.Choice('scale1', [\"Normalize\", \"Robust\", \"MinMax\"])\n",
    "    scale2 = hp.Choice('scale2', [\"Normalize\", \"Robust\", \"MinMax\"])\n",
    "    \n",
    "    params = {\n",
    "        \"penalty\"  : hp.Choice('Penalty', [\"l2\"]),\n",
    "        \"tol\"      : hp.Float('Tolerance', 0, 1),\n",
    "        \"C\"        : hp.Float('C', 1e-5, 1),\n",
    "        \"solver\"   : \"sag\"\n",
    "    }\n",
    "    \n",
    "    clf = LogisticRegression()\n",
    "    clf.set_params(**params)\n",
    "\n",
    "\n",
    "    pipe = Pipeline([\n",
    "    (\"Normalise spectra\", FunctionTransformer(scalers[scale1] , kw_args = {\"axis\": 1})),\n",
    "    (\"Scaler\", FunctionTransformer(scalers[scale2] , kw_args = {\"axis\": 0})),\n",
    "    (\"PCA\", PCA(n_components = hp.Int(\"PCA_components\", 1, len(data.columns) - 1, 1))),\n",
    "    (\"clf\", CalibratedClassifierCV(clf))])\n",
    "    \n",
    "    return pipe"
   ]
  },
  {
   "cell_type": "code",
   "execution_count": 34,
   "metadata": {},
   "outputs": [],
   "source": [
    "from sklearn.naive_bayes import GaussianNB\n",
    "\n",
    "def build_NB(hp):\n",
    "    \n",
    "    scalers = {\"Normalize\" : normalize,\n",
    "               \"Robust\"    : robust_scale,\n",
    "               \"MinMax\"    : minmax_scale}\n",
    "    \n",
    "    scale1 = hp.Choice('scale1', [\"Normalize\", \"Robust\", \"MinMax\"])\n",
    "    scale2 = hp.Choice('scale2', [\"Normalize\", \"Robust\", \"MinMax\"])\n",
    "    \n",
    "    clf = GaussianNB()\n",
    "    \n",
    "    #params = {\n",
    "    #    \"var_smoothing\": hp.Float(\"var_smoothing\", 1e-9, 1)}\n",
    "    \n",
    "    #clf.set_params(**params)\n",
    "\n",
    "\n",
    "    pipe = Pipeline([\n",
    "    (\"Normalise spectra\", FunctionTransformer(scalers[scale1] , kw_args = {\"axis\": 1})),\n",
    "    (\"Scaler\", FunctionTransformer(scalers[scale2] , kw_args = {\"axis\": 0})),\n",
    "    (\"PCA\", PCA(n_components = hp.Int(\"PCA_components\", 1, len(data.columns) - 1, 1))),\n",
    "    (\"clf\", CalibratedClassifierCV(clf))])\n",
    "    \n",
    "    return pipe"
   ]
  },
  {
   "cell_type": "code",
   "execution_count": 35,
   "metadata": {},
   "outputs": [],
   "source": [
    "from sklearn.svm import SVC\n",
    "\n",
    "def build_SVC(hp):\n",
    "    \n",
    "    scalers = {\"Normalize\" : normalize,\n",
    "               \"Robust\"    : robust_scale,\n",
    "               \"MinMax\"    : minmax_scale}\n",
    "    \n",
    "    scale1 = hp.Choice('scale1', [\"Normalize\", \"Robust\", \"MinMax\"])\n",
    "    scale2 = hp.Choice('scale2', [\"Normalize\", \"Robust\", \"MinMax\"])\n",
    "    \n",
    "    clf = SVC(probability=True, class_weight='balanced')\n",
    "    \n",
    "    params = {\n",
    "        \"degree\"  : hp.Int('degree', 1, 3),\n",
    "        \"C\"        : hp.Float('C', 1e-5, 1)\n",
    "    }\n",
    "    \n",
    "    clf.set_params(**params)\n",
    "\n",
    "\n",
    "    pipe = Pipeline([\n",
    "    (\"Normalise spectra\", FunctionTransformer(scalers[scale1] , kw_args = {\"axis\": 1})),\n",
    "    (\"Scaler\", FunctionTransformer(scalers[scale2] , kw_args = {\"axis\": 0})),\n",
    "    (\"PCA\", PCA(n_components = hp.Int(\"PCA_components\", 1, len(data.columns) - 1, 1))),\n",
    "    (\"clf\", CalibratedClassifierCV(clf))])\n",
    "    \n",
    "    return pipe"
   ]
  },
  {
   "cell_type": "code",
   "execution_count": 36,
   "metadata": {},
   "outputs": [],
   "source": [
    "from keras.wrappers.scikit_learn import KerasClassifier\n",
    "\n",
    "from keras.models import Sequential\n",
    "import keras.layers as Layers\n",
    "\n",
    "import tensorflow as tf\n",
    "\n",
    "def build_NN(hp):\n",
    "    \n",
    "    scalers = {\"Normalize\" : normalize,\n",
    "               \"Robust\"    : robust_scale,\n",
    "               \"MinMax\"    : minmax_scale}\n",
    "    \n",
    "    scale1 = hp.Choice('scale1', [\"Normalize\", \"Robust\", \"MinMax\"])\n",
    "    scale2 = hp.Choice('scale2', [\"Normalize\", \"Robust\", \"MinMax\"])\n",
    "    \n",
    "    pca_comps = hp.Int(\"PCA_components\", 1, len(data.columns) - 1, 1)\n",
    "    \n",
    "    \n",
    "    def build_keras():\n",
    "        \n",
    "        model = Sequential()\n",
    "        model.add(Layers.Input(shape=(pca_comps,)))\n",
    "\n",
    "        for i, layer_n in enumerate(range(hp.Int(\"N_layers\", 2, 20))):\n",
    "\n",
    "            model.add(Layers.Dense(hp.Int(f\"layer_{i}_nodes\", 5, 100), activation=\"relu\"))\n",
    "\n",
    "        model.add(Layers.Dense(1, activation=\"sigmoid\"))\n",
    "        model.compile(loss=\"binary_crossentropy\",optimizer=\"adam\", metrics=[tf.keras.metrics.AUC()])\n",
    "        \n",
    "        return model\n",
    "    \n",
    "    \n",
    "    clf=KerasClassifier(build_fn=build_keras,epochs=2,batch_size=32,verbose=0)    \n",
    "\n",
    "    pipe = Pipeline([\n",
    "    (\"Normalise spectra\", FunctionTransformer(scalers[scale1] , kw_args = {\"axis\": 1})),\n",
    "    (\"Scaler\", FunctionTransformer(scalers[scale2] , kw_args = {\"axis\": 0})),\n",
    "    (\"PCA\", PCA(n_components=pca_comps)),\n",
    "    (\"clf\", clf)])\n",
    "    \n",
    "    return pipe"
   ]
  },
  {
   "cell_type": "code",
   "execution_count": 37,
   "metadata": {
    "jupyter": {
     "source_hidden": true
    }
   },
   "outputs": [],
   "source": [
    "def build_LDA_categorical(hp):\n",
    "\n",
    "    scalers = {\"Normalize\" : normalize,\n",
    "               \"Robust\"    : robust_scale,\n",
    "               \"MinMax\"    : minmax_scale}\n",
    "    \n",
    "    scale1 = hp.Choice('scale1', [\"Normalize\", \"Robust\", \"MinMax\"])\n",
    "    scale2 = hp.Choice('scale2', [\"Normalize\", \"Robust\", \"MinMax\"])\n",
    "    \n",
    "    numeric_features = total.columns\n",
    "    categorical_features = [\"ECS_y\", \"ASMA\"]\n",
    "    \n",
    "    numeric_features = np.arange(1, len(total.columns)+1)\n",
    "    categorical_features = [0]\n",
    "    \n",
    "    numeric_pipe = Pipeline([\n",
    "    (\"Normalise spectra\", FunctionTransformer(scalers[scale1] , kw_args = {\"axis\": 1})),\n",
    "    (\"Scaler\", FunctionTransformer(scalers[scale2] , kw_args = {\"axis\": 0})),\n",
    "    (\"PCA\", PCA(n_components = hp.Int(\"PCA_components\", 1, len(data.columns) - len(categorical_features) - 2, 1))),\n",
    "    ])\n",
    "    \n",
    "    OHE = OneHotEncoder()\n",
    "    OHE.fit(data[\"ASMA\", \"ECS_y\"].values.reshape(-1,1))\n",
    "    \n",
    "    categorical_pipe = Pipeline([\n",
    "        (\"OneHot\", OHE)\n",
    "    ])\n",
    "    \n",
    "    preprocessing = ColumnTransformer(\n",
    "        [(\"Numerical\", numeric_pipe, numeric_features),\n",
    "         (\"Categorical\", categorical_pipe, categorical_features)])\n",
    "    \n",
    "    pipe = Pipeline([\n",
    "        (\"Preprocessing\", preprocessing),\n",
    "        (\"clf\", LinearDiscriminantAnalysis())\n",
    "    ])\n",
    "    \n",
    "    return pipe"
   ]
  },
  {
   "cell_type": "code",
   "execution_count": 38,
   "metadata": {
    "jupyter": {
     "source_hidden": true
    }
   },
   "outputs": [],
   "source": [
    "def build_LDA_categorical(hp):\n",
    "\n",
    "    scalers = {\"Normalize\" : normalize,\n",
    "               \"Robust\"    : robust_scale,\n",
    "               \"MinMax\"    : minmax_scale}\n",
    "    \n",
    "    scale1 = hp.Choice('scale1', [\"Normalize\", \"Robust\", \"MinMax\"])\n",
    "    scale2 = hp.Choice('scale2', [\"Normalize\", \"Robust\", \"MinMax\"])\n",
    "    \n",
    "    numeric_features = total.columns\n",
    "    categorical_features = [\"ASMA\"]\n",
    "    \n",
    "    numeric_features = np.arange(1, len(total.columns)+1)\n",
    "    categorical_features = [0]\n",
    "    \n",
    "    numeric_pipe = Pipeline([\n",
    "    (\"Normalise spectra\", FunctionTransformer(scalers[scale1] , kw_args = {\"axis\": 1})),\n",
    "    (\"Scaler\", FunctionTransformer(scalers[scale2] , kw_args = {\"axis\": 0})),\n",
    "    (\"PCA\", PCA(n_components = hp.Int(\"PCA_components\", 1, len(data.columns) - len(categorical_features) - 2, 1))),\n",
    "    ])\n",
    "    \n",
    "    OHE = OneHotEncoder()\n",
    "    OHE.fit(data.reset_index()[\"ASMA\"].unique().reshape(-1,1))\n",
    "    \n",
    "    categorical_pipe = Pipeline([\n",
    "        (\"OneHot\", OHE)\n",
    "    ])\n",
    "    \n",
    "    preprocessing = ColumnTransformer(\n",
    "        [(\"Numerical\", numeric_pipe, numeric_features),\n",
    "         (\"Categorical\", categorical_pipe, categorical_features)])\n",
    "    \n",
    "    pipe = Pipeline([\n",
    "        (\"Preprocessing\", preprocessing),\n",
    "        (\"clf\", CalibratedClassifierCV(LinearDiscriminantAnalysis()))\n",
    "    ])\n",
    "    \n",
    "    return pipe"
   ]
  },
  {
   "cell_type": "code",
   "execution_count": 39,
   "metadata": {
    "jupyter": {
     "source_hidden": true
    }
   },
   "outputs": [],
   "source": [
    "def build_LDA_categorical_only(hp):\n",
    "\n",
    "    OHE = OneHotEncoder(sparse = False)\n",
    "    #OHE.fit(data.reset_index()[\"ASMA\"].values.reshape(-1,1))\n",
    "    \n",
    "    categorical_pipe = Pipeline([\n",
    "        (\"OneHot\", OHE)\n",
    "    ])\n",
    "\n",
    "    pipe = Pipeline([\n",
    "        (\"Preprocessing\", categorical_pipe),\n",
    "        (\"clf\", LinearDiscriminantAnalysis())\n",
    "    ])\n",
    "    \n",
    "    return pipe"
   ]
  },
  {
   "cell_type": "code",
   "execution_count": 40,
   "metadata": {
    "jupyter": {
     "source_hidden": true
    }
   },
   "outputs": [],
   "source": [
    "from xgboost import XGBClassifier\n",
    "\n",
    "def build_XG(hp):\n",
    "\n",
    "    params = {\n",
    "        'n_estimators': hp.Int(\"n_estimators\", 10, 1000, 10),\n",
    "        'eta': hp.Float('eta', 0, 1, 0.05),\n",
    "        'gamma': hp.Float('gamma', 0, 1, 0.05),\n",
    "        'max_depth' : hp.Int('max_depth', 1, 15, 1),\n",
    "        'min_child_weight' : hp.Int('min_child_weight', 1, 20, 1),\n",
    "        'subsample' : hp.Float('subsample', 0, 1, 0.05),\n",
    "        'colsample_bytree' : hp.Float('colsample_bytree', 0, 1, 0.05),\n",
    "        #'lambda ' : hp.Float('lambda', 0, 1, 0.05),\n",
    "        'alpha' : hp.Float('alpha', 0, 1, 0.05),\n",
    "    }\n",
    "\n",
    "    clf = XGBClassifier(objective = \"binary:logistic\", n_jobs=4)\n",
    "    clf = clf.set_params(**params)\n",
    "    \n",
    "    #---------------------------------------------------------------------------------------------------\n",
    "    scalers = {\"Normalize\" : normalize,\n",
    "               \"Robust\"    : robust_scale,\n",
    "               \"MinMax\"    : minmax_scale}\n",
    "    \n",
    "    # Decide pre processing steps\n",
    "    scale1 = hp.Choice('scale1', [\"Normalize\", \"Robust\", \"MinMax\"])\n",
    "    scale2 = hp.Choice('scale2', [\"Normalize\", \"Robust\", \"MinMax\"])\n",
    "\n",
    "    pipe = Pipeline([\n",
    "    (\"Normalise spectra\", FunctionTransformer(scalers[scale1] , kw_args = {\"axis\": 1})),\n",
    "    (\"Scaler\", FunctionTransformer(scalers[scale2] , kw_args = {\"axis\": 0})),\n",
    "    (\"PCA\", PCA(n_components = hp.Int(\"PCA_components\", 1, len(data.columns) - 1, 1))),\n",
    "    (\"clf\", CalibratedClassifierCV(clf))])\n",
    "    \n",
    "    return pipe"
   ]
  },
  {
   "cell_type": "markdown",
   "metadata": {},
   "source": [
    "oracle = kt.oracles.BayesianOptimization(objective = kt.Objective('score', 'max')\n",
    "                                         , max_trials = 10)              \n",
    "\n",
    "tuner = kt.tuners.Sklearn(oracle = oracle\n",
    "                          #, cv = GroupKFold(n_splits = 3)\n",
    "                          , hypermodel = build_LDA\n",
    "                          , directory = os.path.join(os.getcwd(), \"KerasTuner\", datetime.now().strftime(\"%d.%m.%Y_%H:%M:%S\"))\n",
    "                          , scoring = make_scorer(roc_auc_score, needs_proba = True, average = 'weighted')\n",
    "                         )"
   ]
  },
  {
   "cell_type": "markdown",
   "metadata": {},
   "source": [
    "tuner.search(X_train.values, y_train_b.values.squeeze()#, sample_weight = w_train.values, groups = groups.values)\n",
    "            #, **{\"clf__sample_weight\": w_train.values}\n",
    "            #, sample_weight = w_train.values\n",
    "            , groups = groups.values\n",
    "            )"
   ]
  },
  {
   "cell_type": "code",
   "execution_count": 41,
   "metadata": {},
   "outputs": [],
   "source": [
    "min_=total.groupby(\"Patient_Number\").count().min()[0]\n",
    "sampled = pd.concat([df.sample(min_) for name, df in total.groupby(\"Patient_Number\")])"
   ]
  },
  {
   "cell_type": "code",
   "execution_count": 56,
   "metadata": {
    "tags": []
   },
   "outputs": [
    {
     "output_type": "stream",
     "name": "stdout",
     "text": "Seed: 55\n"
    },
    {
     "output_type": "display_data",
     "data": {
      "text/plain": "HBox(children=(FloatProgress(value=0.0, max=5.0), HTML(value='')))",
      "application/vnd.jupyter.widget-view+json": {
       "version_major": 2,
       "version_minor": 0,
       "model_id": "6e6430a60397467e95430b53272c40db"
      }
     },
     "metadata": {}
    },
    {
     "output_type": "display_data",
     "data": {
      "text/plain": "<IPython.core.display.HTML object>",
      "text/html": "<span style=\"color:#4527A0\"><h1 style=\"font-size:18px\">Trial complete</h1></span>"
     },
     "metadata": {}
    },
    {
     "output_type": "display_data",
     "data": {
      "text/plain": "<IPython.core.display.HTML object>",
      "text/html": "<span style=\"color:#4527A0\"><h1 style=\"font-size:18px\">Trial summary</h1></span>"
     },
     "metadata": {}
    },
    {
     "output_type": "display_data",
     "data": {
      "text/plain": "<IPython.core.display.HTML object>",
      "text/html": "<span style=\"color:cyan\"> |-Trial ID: e98011d5fbb6283e3c1d0aa96a5058ee</span>"
     },
     "metadata": {}
    },
    {
     "output_type": "display_data",
     "data": {
      "text/plain": "<IPython.core.display.HTML object>",
      "text/html": "<span style=\"color:cyan\"> |-Score: 0.4450942967239965</span>"
     },
     "metadata": {}
    },
    {
     "output_type": "display_data",
     "data": {
      "text/plain": "<IPython.core.display.HTML object>",
      "text/html": "<span style=\"color:cyan\"> |-Best step: 0</span>"
     },
     "metadata": {}
    },
    {
     "output_type": "display_data",
     "data": {
      "text/plain": "<IPython.core.display.HTML object>",
      "text/html": "<span style=\"color:#7E57C2\"><h2 style=\"font-size:16px\">Hyperparameters:</h2></span>"
     },
     "metadata": {}
    },
    {
     "output_type": "display_data",
     "data": {
      "text/plain": "<IPython.core.display.HTML object>",
      "text/html": "<span style=\"color:cyan\"> |-PCA_components: 45</span>"
     },
     "metadata": {}
    },
    {
     "output_type": "display_data",
     "data": {
      "text/plain": "<IPython.core.display.HTML object>",
      "text/html": "<span style=\"color:blue\"> |-scale1: MinMax</span>"
     },
     "metadata": {}
    },
    {
     "output_type": "display_data",
     "data": {
      "text/plain": "<IPython.core.display.HTML object>",
      "text/html": "<span style=\"color:cyan\"> |-scale2: Normalize</span>"
     },
     "metadata": {}
    },
    {
     "output_type": "display_data",
     "data": {
      "text/plain": "<IPython.core.display.HTML object>",
      "text/html": "<span style=\"color:#4527A0\"><h1 style=\"font-size:18px\">Trial complete</h1></span>"
     },
     "metadata": {}
    },
    {
     "output_type": "display_data",
     "data": {
      "text/plain": "<IPython.core.display.HTML object>",
      "text/html": "<span style=\"color:#4527A0\"><h1 style=\"font-size:18px\">Trial summary</h1></span>"
     },
     "metadata": {}
    },
    {
     "output_type": "display_data",
     "data": {
      "text/plain": "<IPython.core.display.HTML object>",
      "text/html": "<span style=\"color:cyan\"> |-Trial ID: a845c71405b8ac6dc4406bc31ef9d70e</span>"
     },
     "metadata": {}
    },
    {
     "output_type": "display_data",
     "data": {
      "text/plain": "<IPython.core.display.HTML object>",
      "text/html": "<span style=\"color:cyan\"> |-Score: 0.3657991375197377</span>"
     },
     "metadata": {}
    },
    {
     "output_type": "display_data",
     "data": {
      "text/plain": "<IPython.core.display.HTML object>",
      "text/html": "<span style=\"color:cyan\"> |-Best step: 0</span>"
     },
     "metadata": {}
    },
    {
     "output_type": "display_data",
     "data": {
      "text/plain": "<IPython.core.display.HTML object>",
      "text/html": "<span style=\"color:#7E57C2\"><h2 style=\"font-size:16px\">Hyperparameters:</h2></span>"
     },
     "metadata": {}
    },
    {
     "output_type": "display_data",
     "data": {
      "text/plain": "<IPython.core.display.HTML object>",
      "text/html": "<span style=\"color:cyan\"> |-PCA_components: 32</span>"
     },
     "metadata": {}
    },
    {
     "output_type": "display_data",
     "data": {
      "text/plain": "<IPython.core.display.HTML object>",
      "text/html": "<span style=\"color:blue\"> |-scale1: MinMax</span>"
     },
     "metadata": {}
    },
    {
     "output_type": "display_data",
     "data": {
      "text/plain": "<IPython.core.display.HTML object>",
      "text/html": "<span style=\"color:cyan\"> |-scale2: Robust</span>"
     },
     "metadata": {}
    },
    {
     "output_type": "stream",
     "name": "stdout",
     "text": "INFO:tensorflow:Oracle triggered exit\n"
    },
    {
     "output_type": "display_data",
     "data": {
      "text/plain": "<IPython.core.display.HTML object>",
      "text/html": "<span style=\"color:#4527A0\"><h1 style=\"font-size:18px\">Trial complete</h1></span>"
     },
     "metadata": {}
    },
    {
     "output_type": "display_data",
     "data": {
      "text/plain": "<IPython.core.display.HTML object>",
      "text/html": "<span style=\"color:#4527A0\"><h1 style=\"font-size:18px\">Trial summary</h1></span>"
     },
     "metadata": {}
    },
    {
     "output_type": "display_data",
     "data": {
      "text/plain": "<IPython.core.display.HTML object>",
      "text/html": "<span style=\"color:cyan\"> |-Trial ID: acdfe7aaec6bdf845c1532ff2560cd80</span>"
     },
     "metadata": {}
    },
    {
     "output_type": "display_data",
     "data": {
      "text/plain": "<IPython.core.display.HTML object>",
      "text/html": "<span style=\"color:cyan\"> |-Score: 0.22590921691299326</span>"
     },
     "metadata": {}
    },
    {
     "output_type": "display_data",
     "data": {
      "text/plain": "<IPython.core.display.HTML object>",
      "text/html": "<span style=\"color:cyan\"> |-Best step: 0</span>"
     },
     "metadata": {}
    },
    {
     "output_type": "display_data",
     "data": {
      "text/plain": "<IPython.core.display.HTML object>",
      "text/html": "<span style=\"color:#7E57C2\"><h2 style=\"font-size:16px\">Hyperparameters:</h2></span>"
     },
     "metadata": {}
    },
    {
     "output_type": "display_data",
     "data": {
      "text/plain": "<IPython.core.display.HTML object>",
      "text/html": "<span style=\"color:cyan\"> |-PCA_components: 143</span>"
     },
     "metadata": {}
    },
    {
     "output_type": "display_data",
     "data": {
      "text/plain": "<IPython.core.display.HTML object>",
      "text/html": "<span style=\"color:blue\"> |-scale1: MinMax</span>"
     },
     "metadata": {}
    },
    {
     "output_type": "display_data",
     "data": {
      "text/plain": "<IPython.core.display.HTML object>",
      "text/html": "<span style=\"color:cyan\"> |-scale2: Normalize</span>"
     },
     "metadata": {}
    },
    {
     "output_type": "display_data",
     "data": {
      "text/plain": "<IPython.core.display.HTML object>",
      "text/html": "<span style=\"color:#4527A0\"><h1 style=\"font-size:18px\">Trial complete</h1></span>"
     },
     "metadata": {}
    },
    {
     "output_type": "display_data",
     "data": {
      "text/plain": "<IPython.core.display.HTML object>",
      "text/html": "<span style=\"color:#4527A0\"><h1 style=\"font-size:18px\">Trial summary</h1></span>"
     },
     "metadata": {}
    },
    {
     "output_type": "display_data",
     "data": {
      "text/plain": "<IPython.core.display.HTML object>",
      "text/html": "<span style=\"color:cyan\"> |-Trial ID: 0ac81c12a618ef35b1db750e221efd6b</span>"
     },
     "metadata": {}
    },
    {
     "output_type": "display_data",
     "data": {
      "text/plain": "<IPython.core.display.HTML object>",
      "text/html": "<span style=\"color:cyan\"> |-Score: 0.4473699527329223</span>"
     },
     "metadata": {}
    },
    {
     "output_type": "display_data",
     "data": {
      "text/plain": "<IPython.core.display.HTML object>",
      "text/html": "<span style=\"color:cyan\"> |-Best step: 0</span>"
     },
     "metadata": {}
    },
    {
     "output_type": "display_data",
     "data": {
      "text/plain": "<IPython.core.display.HTML object>",
      "text/html": "<span style=\"color:#7E57C2\"><h2 style=\"font-size:16px\">Hyperparameters:</h2></span>"
     },
     "metadata": {}
    },
    {
     "output_type": "display_data",
     "data": {
      "text/plain": "<IPython.core.display.HTML object>",
      "text/html": "<span style=\"color:cyan\"> |-PCA_components: 38</span>"
     },
     "metadata": {}
    },
    {
     "output_type": "display_data",
     "data": {
      "text/plain": "<IPython.core.display.HTML object>",
      "text/html": "<span style=\"color:blue\"> |-scale1: MinMax</span>"
     },
     "metadata": {}
    },
    {
     "output_type": "display_data",
     "data": {
      "text/plain": "<IPython.core.display.HTML object>",
      "text/html": "<span style=\"color:cyan\"> |-scale2: Normalize</span>"
     },
     "metadata": {}
    },
    {
     "output_type": "stream",
     "name": "stdout",
     "text": "INFO:tensorflow:Oracle triggered exit\n"
    },
    {
     "output_type": "display_data",
     "data": {
      "text/plain": "<IPython.core.display.HTML object>",
      "text/html": "<span style=\"color:#4527A0\"><h1 style=\"font-size:18px\">Trial complete</h1></span>"
     },
     "metadata": {}
    },
    {
     "output_type": "display_data",
     "data": {
      "text/plain": "<IPython.core.display.HTML object>",
      "text/html": "<span style=\"color:#4527A0\"><h1 style=\"font-size:18px\">Trial summary</h1></span>"
     },
     "metadata": {}
    },
    {
     "output_type": "display_data",
     "data": {
      "text/plain": "<IPython.core.display.HTML object>",
      "text/html": "<span style=\"color:cyan\"> |-Trial ID: 42b49c530454394c634ae3f1c358461e</span>"
     },
     "metadata": {}
    },
    {
     "output_type": "display_data",
     "data": {
      "text/plain": "<IPython.core.display.HTML object>",
      "text/html": "<span style=\"color:cyan\"> |-Score: 0.24867020561799447</span>"
     },
     "metadata": {}
    },
    {
     "output_type": "display_data",
     "data": {
      "text/plain": "<IPython.core.display.HTML object>",
      "text/html": "<span style=\"color:cyan\"> |-Best step: 0</span>"
     },
     "metadata": {}
    },
    {
     "output_type": "display_data",
     "data": {
      "text/plain": "<IPython.core.display.HTML object>",
      "text/html": "<span style=\"color:#7E57C2\"><h2 style=\"font-size:16px\">Hyperparameters:</h2></span>"
     },
     "metadata": {}
    },
    {
     "output_type": "display_data",
     "data": {
      "text/plain": "<IPython.core.display.HTML object>",
      "text/html": "<span style=\"color:cyan\"> |-PCA_components: 104</span>"
     },
     "metadata": {}
    },
    {
     "output_type": "display_data",
     "data": {
      "text/plain": "<IPython.core.display.HTML object>",
      "text/html": "<span style=\"color:blue\"> |-scale1: MinMax</span>"
     },
     "metadata": {}
    },
    {
     "output_type": "display_data",
     "data": {
      "text/plain": "<IPython.core.display.HTML object>",
      "text/html": "<span style=\"color:cyan\"> |-scale2: MinMax</span>"
     },
     "metadata": {}
    },
    {
     "output_type": "display_data",
     "data": {
      "text/plain": "<IPython.core.display.HTML object>",
      "text/html": "<span style=\"color:#4527A0\"><h1 style=\"font-size:18px\">Trial complete</h1></span>"
     },
     "metadata": {}
    },
    {
     "output_type": "display_data",
     "data": {
      "text/plain": "<IPython.core.display.HTML object>",
      "text/html": "<span style=\"color:#4527A0\"><h1 style=\"font-size:18px\">Trial summary</h1></span>"
     },
     "metadata": {}
    },
    {
     "output_type": "display_data",
     "data": {
      "text/plain": "<IPython.core.display.HTML object>",
      "text/html": "<span style=\"color:cyan\"> |-Trial ID: 734fb833a89feaa2c5ce283366976f16</span>"
     },
     "metadata": {}
    },
    {
     "output_type": "display_data",
     "data": {
      "text/plain": "<IPython.core.display.HTML object>",
      "text/html": "<span style=\"color:cyan\"> |-Score: 0.50581326706272</span>"
     },
     "metadata": {}
    },
    {
     "output_type": "display_data",
     "data": {
      "text/plain": "<IPython.core.display.HTML object>",
      "text/html": "<span style=\"color:cyan\"> |-Best step: 0</span>"
     },
     "metadata": {}
    },
    {
     "output_type": "display_data",
     "data": {
      "text/plain": "<IPython.core.display.HTML object>",
      "text/html": "<span style=\"color:#7E57C2\"><h2 style=\"font-size:16px\">Hyperparameters:</h2></span>"
     },
     "metadata": {}
    },
    {
     "output_type": "display_data",
     "data": {
      "text/plain": "<IPython.core.display.HTML object>",
      "text/html": "<span style=\"color:cyan\"> |-PCA_components: 83</span>"
     },
     "metadata": {}
    },
    {
     "output_type": "display_data",
     "data": {
      "text/plain": "<IPython.core.display.HTML object>",
      "text/html": "<span style=\"color:blue\"> |-scale1: Robust</span>"
     },
     "metadata": {}
    },
    {
     "output_type": "display_data",
     "data": {
      "text/plain": "<IPython.core.display.HTML object>",
      "text/html": "<span style=\"color:cyan\"> |-scale2: Normalize</span>"
     },
     "metadata": {}
    },
    {
     "output_type": "stream",
     "name": "stdout",
     "text": "INFO:tensorflow:Oracle triggered exit\n"
    },
    {
     "output_type": "display_data",
     "data": {
      "text/plain": "<IPython.core.display.HTML object>",
      "text/html": "<span style=\"color:#4527A0\"><h1 style=\"font-size:18px\">Trial complete</h1></span>"
     },
     "metadata": {}
    },
    {
     "output_type": "display_data",
     "data": {
      "text/plain": "<IPython.core.display.HTML object>",
      "text/html": "<span style=\"color:#4527A0\"><h1 style=\"font-size:18px\">Trial summary</h1></span>"
     },
     "metadata": {}
    },
    {
     "output_type": "display_data",
     "data": {
      "text/plain": "<IPython.core.display.HTML object>",
      "text/html": "<span style=\"color:cyan\"> |-Trial ID: f5f28eefea22409702870922b35cf4a6</span>"
     },
     "metadata": {}
    },
    {
     "output_type": "display_data",
     "data": {
      "text/plain": "<IPython.core.display.HTML object>",
      "text/html": "<span style=\"color:cyan\"> |-Score: 0.23080197001420677</span>"
     },
     "metadata": {}
    },
    {
     "output_type": "display_data",
     "data": {
      "text/plain": "<IPython.core.display.HTML object>",
      "text/html": "<span style=\"color:cyan\"> |-Best step: 0</span>"
     },
     "metadata": {}
    },
    {
     "output_type": "display_data",
     "data": {
      "text/plain": "<IPython.core.display.HTML object>",
      "text/html": "<span style=\"color:#7E57C2\"><h2 style=\"font-size:16px\">Hyperparameters:</h2></span>"
     },
     "metadata": {}
    },
    {
     "output_type": "display_data",
     "data": {
      "text/plain": "<IPython.core.display.HTML object>",
      "text/html": "<span style=\"color:cyan\"> |-PCA_components: 19</span>"
     },
     "metadata": {}
    },
    {
     "output_type": "display_data",
     "data": {
      "text/plain": "<IPython.core.display.HTML object>",
      "text/html": "<span style=\"color:blue\"> |-scale1: MinMax</span>"
     },
     "metadata": {}
    },
    {
     "output_type": "display_data",
     "data": {
      "text/plain": "<IPython.core.display.HTML object>",
      "text/html": "<span style=\"color:cyan\"> |-scale2: MinMax</span>"
     },
     "metadata": {}
    },
    {
     "output_type": "display_data",
     "data": {
      "text/plain": "<IPython.core.display.HTML object>",
      "text/html": "<span style=\"color:#4527A0\"><h1 style=\"font-size:18px\">Trial complete</h1></span>"
     },
     "metadata": {}
    },
    {
     "output_type": "display_data",
     "data": {
      "text/plain": "<IPython.core.display.HTML object>",
      "text/html": "<span style=\"color:#4527A0\"><h1 style=\"font-size:18px\">Trial summary</h1></span>"
     },
     "metadata": {}
    },
    {
     "output_type": "display_data",
     "data": {
      "text/plain": "<IPython.core.display.HTML object>",
      "text/html": "<span style=\"color:cyan\"> |-Trial ID: 0d424301e5aee098d21cf4fd10f868d5</span>"
     },
     "metadata": {}
    },
    {
     "output_type": "display_data",
     "data": {
      "text/plain": "<IPython.core.display.HTML object>",
      "text/html": "<span style=\"color:cyan\"> |-Score: 0.4722707667278793</span>"
     },
     "metadata": {}
    },
    {
     "output_type": "display_data",
     "data": {
      "text/plain": "<IPython.core.display.HTML object>",
      "text/html": "<span style=\"color:cyan\"> |-Best step: 0</span>"
     },
     "metadata": {}
    },
    {
     "output_type": "display_data",
     "data": {
      "text/plain": "<IPython.core.display.HTML object>",
      "text/html": "<span style=\"color:#7E57C2\"><h2 style=\"font-size:16px\">Hyperparameters:</h2></span>"
     },
     "metadata": {}
    },
    {
     "output_type": "display_data",
     "data": {
      "text/plain": "<IPython.core.display.HTML object>",
      "text/html": "<span style=\"color:cyan\"> |-PCA_components: 89</span>"
     },
     "metadata": {}
    },
    {
     "output_type": "display_data",
     "data": {
      "text/plain": "<IPython.core.display.HTML object>",
      "text/html": "<span style=\"color:blue\"> |-scale1: Normalize</span>"
     },
     "metadata": {}
    },
    {
     "output_type": "display_data",
     "data": {
      "text/plain": "<IPython.core.display.HTML object>",
      "text/html": "<span style=\"color:cyan\"> |-scale2: MinMax</span>"
     },
     "metadata": {}
    },
    {
     "output_type": "stream",
     "name": "stdout",
     "text": "INFO:tensorflow:Oracle triggered exit\n\n"
    },
    {
     "output_type": "error",
     "ename": "ValueError",
     "evalue": "Only one class present in y_true. ROC AUC score is not defined in that case.",
     "traceback": [
      "\u001b[0;31m---------------------------------------------------------------------------\u001b[0m",
      "\u001b[0;31mValueError\u001b[0m                                Traceback (most recent call last)",
      "\u001b[0;32m<ipython-input-56-09aee8a2d334>\u001b[0m in \u001b[0;36m<module>\u001b[0;34m\u001b[0m\n\u001b[1;32m     75\u001b[0m     \u001b[0;31m#---------------------------------------------------------------------------------------------------\u001b[0m\u001b[0;34m\u001b[0m\u001b[0;34m\u001b[0m\u001b[0;34m\u001b[0m\u001b[0m\n\u001b[1;32m     76\u001b[0m \u001b[0;34m\u001b[0m\u001b[0m\n\u001b[0;32m---> 77\u001b[0;31m     \u001b[0mscores\u001b[0m \u001b[0;34m=\u001b[0m \u001b[0mCross_Eval\u001b[0m\u001b[0;34m.\u001b[0m\u001b[0mscore\u001b[0m\u001b[0;34m(\u001b[0m\u001b[0mclf\u001b[0m\u001b[0;34m,\u001b[0m \u001b[0mX_valid\u001b[0m\u001b[0;34m,\u001b[0m \u001b[0my_valid_b\u001b[0m\u001b[0;34m.\u001b[0m\u001b[0miloc\u001b[0m\u001b[0;34m[\u001b[0m\u001b[0;34m:\u001b[0m\u001b[0;34m,\u001b[0m\u001b[0;36m0\u001b[0m\u001b[0;34m]\u001b[0m\u001b[0;34m)\u001b[0m\u001b[0;34m\u001b[0m\u001b[0;34m\u001b[0m\u001b[0m\n\u001b[0m\u001b[1;32m     78\u001b[0m     \u001b[0mpat_scores\u001b[0m \u001b[0;34m=\u001b[0m \u001b[0;34m{\u001b[0m\u001b[0;34mf\"Pat_{key}\"\u001b[0m\u001b[0;34m:\u001b[0m \u001b[0mvalue\u001b[0m \u001b[0;32mfor\u001b[0m \u001b[0mkey\u001b[0m\u001b[0;34m,\u001b[0m \u001b[0mvalue\u001b[0m \u001b[0;32min\u001b[0m \u001b[0mCross_Eval\u001b[0m\u001b[0;34m.\u001b[0m\u001b[0mpatient_score\u001b[0m\u001b[0;34m(\u001b[0m\u001b[0mclf\u001b[0m\u001b[0;34m,\u001b[0m \u001b[0mX_valid\u001b[0m\u001b[0;34m,\u001b[0m \u001b[0my_valid_b\u001b[0m\u001b[0;34m)\u001b[0m\u001b[0;34m.\u001b[0m\u001b[0mitems\u001b[0m\u001b[0;34m(\u001b[0m\u001b[0;34m)\u001b[0m\u001b[0;34m}\u001b[0m\u001b[0;34m\u001b[0m\u001b[0;34m\u001b[0m\u001b[0m\n\u001b[1;32m     79\u001b[0m \u001b[0;34m\u001b[0m\u001b[0m\n",
      "\u001b[0;32m/mnt/c/Users/conor/Git_Projects/PHD/Cross_Eval.py\u001b[0m in \u001b[0;36mscore\u001b[0;34m(clf, X_valid, y_true, opt)\u001b[0m\n\u001b[1;32m    116\u001b[0m \u001b[0;32mdef\u001b[0m \u001b[0mscore\u001b[0m\u001b[0;34m(\u001b[0m\u001b[0mclf\u001b[0m\u001b[0;34m,\u001b[0m \u001b[0mX_valid\u001b[0m\u001b[0;34m,\u001b[0m \u001b[0my_true\u001b[0m\u001b[0;34m,\u001b[0m \u001b[0mopt\u001b[0m\u001b[0;34m=\u001b[0m\u001b[0;32mTrue\u001b[0m\u001b[0;34m)\u001b[0m\u001b[0;34m:\u001b[0m\u001b[0;34m\u001b[0m\u001b[0;34m\u001b[0m\u001b[0m\n\u001b[1;32m    117\u001b[0m \u001b[0;34m\u001b[0m\u001b[0m\n\u001b[0;32m--> 118\u001b[0;31m     \u001b[0;32mif\u001b[0m \u001b[0mroc_auc_score\u001b[0m\u001b[0;34m(\u001b[0m\u001b[0my_true\u001b[0m\u001b[0;34m,\u001b[0m \u001b[0mclf\u001b[0m\u001b[0;34m.\u001b[0m\u001b[0mpredict_proba\u001b[0m\u001b[0;34m(\u001b[0m\u001b[0mX_valid\u001b[0m\u001b[0;34m)\u001b[0m\u001b[0;34m[\u001b[0m\u001b[0;34m:\u001b[0m\u001b[0;34m,\u001b[0m\u001b[0;36m0\u001b[0m\u001b[0;34m]\u001b[0m\u001b[0;34m)\u001b[0m \u001b[0;34m>\u001b[0m \u001b[0;36m0.5\u001b[0m\u001b[0;34m:\u001b[0m\u001b[0;34m\u001b[0m\u001b[0;34m\u001b[0m\u001b[0m\n\u001b[0m\u001b[1;32m    119\u001b[0m \u001b[0;34m\u001b[0m\u001b[0m\n\u001b[1;32m    120\u001b[0m         \u001b[0my_prob\u001b[0m \u001b[0;34m=\u001b[0m \u001b[0mclf\u001b[0m\u001b[0;34m.\u001b[0m\u001b[0mpredict_proba\u001b[0m\u001b[0;34m(\u001b[0m\u001b[0mX_valid\u001b[0m\u001b[0;34m)\u001b[0m\u001b[0;34m[\u001b[0m\u001b[0;34m:\u001b[0m\u001b[0;34m,\u001b[0m\u001b[0;36m0\u001b[0m\u001b[0;34m]\u001b[0m\u001b[0;34m\u001b[0m\u001b[0;34m\u001b[0m\u001b[0m\n",
      "\u001b[0;32m~/miniconda3/envs/PHD/lib/python3.8/site-packages/sklearn/utils/validation.py\u001b[0m in \u001b[0;36minner_f\u001b[0;34m(*args, **kwargs)\u001b[0m\n\u001b[1;32m     71\u001b[0m                           FutureWarning)\n\u001b[1;32m     72\u001b[0m         \u001b[0mkwargs\u001b[0m\u001b[0;34m.\u001b[0m\u001b[0mupdate\u001b[0m\u001b[0;34m(\u001b[0m\u001b[0;34m{\u001b[0m\u001b[0mk\u001b[0m\u001b[0;34m:\u001b[0m \u001b[0marg\u001b[0m \u001b[0;32mfor\u001b[0m \u001b[0mk\u001b[0m\u001b[0;34m,\u001b[0m \u001b[0marg\u001b[0m \u001b[0;32min\u001b[0m \u001b[0mzip\u001b[0m\u001b[0;34m(\u001b[0m\u001b[0msig\u001b[0m\u001b[0;34m.\u001b[0m\u001b[0mparameters\u001b[0m\u001b[0;34m,\u001b[0m \u001b[0margs\u001b[0m\u001b[0;34m)\u001b[0m\u001b[0;34m}\u001b[0m\u001b[0;34m)\u001b[0m\u001b[0;34m\u001b[0m\u001b[0;34m\u001b[0m\u001b[0m\n\u001b[0;32m---> 73\u001b[0;31m         \u001b[0;32mreturn\u001b[0m \u001b[0mf\u001b[0m\u001b[0;34m(\u001b[0m\u001b[0;34m**\u001b[0m\u001b[0mkwargs\u001b[0m\u001b[0;34m)\u001b[0m\u001b[0;34m\u001b[0m\u001b[0;34m\u001b[0m\u001b[0m\n\u001b[0m\u001b[1;32m     74\u001b[0m     \u001b[0;32mreturn\u001b[0m \u001b[0minner_f\u001b[0m\u001b[0;34m\u001b[0m\u001b[0;34m\u001b[0m\u001b[0m\n\u001b[1;32m     75\u001b[0m \u001b[0;34m\u001b[0m\u001b[0m\n",
      "\u001b[0;32m~/miniconda3/envs/PHD/lib/python3.8/site-packages/sklearn/metrics/_ranking.py\u001b[0m in \u001b[0;36mroc_auc_score\u001b[0;34m(y_true, y_score, average, sample_weight, max_fpr, multi_class, labels)\u001b[0m\n\u001b[1;32m    388\u001b[0m         \u001b[0mlabels\u001b[0m \u001b[0;34m=\u001b[0m \u001b[0mnp\u001b[0m\u001b[0;34m.\u001b[0m\u001b[0munique\u001b[0m\u001b[0;34m(\u001b[0m\u001b[0my_true\u001b[0m\u001b[0;34m)\u001b[0m\u001b[0;34m\u001b[0m\u001b[0;34m\u001b[0m\u001b[0m\n\u001b[1;32m    389\u001b[0m         \u001b[0my_true\u001b[0m \u001b[0;34m=\u001b[0m \u001b[0mlabel_binarize\u001b[0m\u001b[0;34m(\u001b[0m\u001b[0my_true\u001b[0m\u001b[0;34m,\u001b[0m \u001b[0mclasses\u001b[0m\u001b[0;34m=\u001b[0m\u001b[0mlabels\u001b[0m\u001b[0;34m)\u001b[0m\u001b[0;34m[\u001b[0m\u001b[0;34m:\u001b[0m\u001b[0;34m,\u001b[0m \u001b[0;36m0\u001b[0m\u001b[0;34m]\u001b[0m\u001b[0;34m\u001b[0m\u001b[0;34m\u001b[0m\u001b[0m\n\u001b[0;32m--> 390\u001b[0;31m         return _average_binary_score(partial(_binary_roc_auc_score,\n\u001b[0m\u001b[1;32m    391\u001b[0m                                              max_fpr=max_fpr),\n\u001b[1;32m    392\u001b[0m                                      \u001b[0my_true\u001b[0m\u001b[0;34m,\u001b[0m \u001b[0my_score\u001b[0m\u001b[0;34m,\u001b[0m \u001b[0maverage\u001b[0m\u001b[0;34m,\u001b[0m\u001b[0;34m\u001b[0m\u001b[0;34m\u001b[0m\u001b[0m\n",
      "\u001b[0;32m~/miniconda3/envs/PHD/lib/python3.8/site-packages/sklearn/metrics/_base.py\u001b[0m in \u001b[0;36m_average_binary_score\u001b[0;34m(binary_metric, y_true, y_score, average, sample_weight)\u001b[0m\n\u001b[1;32m     75\u001b[0m \u001b[0;34m\u001b[0m\u001b[0m\n\u001b[1;32m     76\u001b[0m     \u001b[0;32mif\u001b[0m \u001b[0my_type\u001b[0m \u001b[0;34m==\u001b[0m \u001b[0;34m\"binary\"\u001b[0m\u001b[0;34m:\u001b[0m\u001b[0;34m\u001b[0m\u001b[0;34m\u001b[0m\u001b[0m\n\u001b[0;32m---> 77\u001b[0;31m         \u001b[0;32mreturn\u001b[0m \u001b[0mbinary_metric\u001b[0m\u001b[0;34m(\u001b[0m\u001b[0my_true\u001b[0m\u001b[0;34m,\u001b[0m \u001b[0my_score\u001b[0m\u001b[0;34m,\u001b[0m \u001b[0msample_weight\u001b[0m\u001b[0;34m=\u001b[0m\u001b[0msample_weight\u001b[0m\u001b[0;34m)\u001b[0m\u001b[0;34m\u001b[0m\u001b[0;34m\u001b[0m\u001b[0m\n\u001b[0m\u001b[1;32m     78\u001b[0m \u001b[0;34m\u001b[0m\u001b[0m\n\u001b[1;32m     79\u001b[0m     \u001b[0mcheck_consistent_length\u001b[0m\u001b[0;34m(\u001b[0m\u001b[0my_true\u001b[0m\u001b[0;34m,\u001b[0m \u001b[0my_score\u001b[0m\u001b[0;34m,\u001b[0m \u001b[0msample_weight\u001b[0m\u001b[0;34m)\u001b[0m\u001b[0;34m\u001b[0m\u001b[0;34m\u001b[0m\u001b[0m\n",
      "\u001b[0;32m~/miniconda3/envs/PHD/lib/python3.8/site-packages/sklearn/metrics/_ranking.py\u001b[0m in \u001b[0;36m_binary_roc_auc_score\u001b[0;34m(y_true, y_score, sample_weight, max_fpr)\u001b[0m\n\u001b[1;32m    221\u001b[0m     \u001b[0;34m\"\"\"Binary roc auc score\"\"\"\u001b[0m\u001b[0;34m\u001b[0m\u001b[0;34m\u001b[0m\u001b[0m\n\u001b[1;32m    222\u001b[0m     \u001b[0;32mif\u001b[0m \u001b[0mlen\u001b[0m\u001b[0;34m(\u001b[0m\u001b[0mnp\u001b[0m\u001b[0;34m.\u001b[0m\u001b[0munique\u001b[0m\u001b[0;34m(\u001b[0m\u001b[0my_true\u001b[0m\u001b[0;34m)\u001b[0m\u001b[0;34m)\u001b[0m \u001b[0;34m!=\u001b[0m \u001b[0;36m2\u001b[0m\u001b[0;34m:\u001b[0m\u001b[0;34m\u001b[0m\u001b[0;34m\u001b[0m\u001b[0m\n\u001b[0;32m--> 223\u001b[0;31m         raise ValueError(\"Only one class present in y_true. ROC AUC score \"\n\u001b[0m\u001b[1;32m    224\u001b[0m                          \"is not defined in that case.\")\n\u001b[1;32m    225\u001b[0m \u001b[0;34m\u001b[0m\u001b[0m\n",
      "\u001b[0;31mValueError\u001b[0m: Only one class present in y_true. ROC AUC score is not defined in that case."
     ]
    }
   ],
   "source": [
    "group = \"Patient_Number\"\n",
    "y = \"1yeardeath\"\n",
    "\n",
    "data = total.copy().sample(frac = 0.5).reset_index([\"ASMA\"]).dropna(subset = [\"ASMA\"]).loc[:,:]\n",
    "OHE = OneHotEncoder(sparse = False)\n",
    "\n",
    "fitted = pd.DataFrame(OHE.fit_transform(data.reset_index()[\"ASMA\"].values.reshape(-1,1)), index = data.index)\n",
    "data = pd.concat([data, fitted],axis=1)\n",
    "data=data.drop(columns=\"ASMA\")\n",
    "\n",
    "#data=sampled\n",
    "data[\"sample_weights\"] = compute_sample_weight(class_weight='balanced', y=data.reset_index()[f\"{group}\"]) * compute_sample_weight(class_weight='balanced', y=data.reset_index()[f\"{y}\"])\n",
    "\n",
    "unique_patients = data.reset_index()[f\"{group}\"].unique()\n",
    "\n",
    "\n",
    "kfoldscores = []\n",
    "clfs = []\n",
    "\n",
    "model_func = build_NB\n",
    "\n",
    "rn = np.random.randint(100)\n",
    "rn=55\n",
    "print(f\"Seed: {rn}\")\n",
    "\n",
    "\n",
    "for train_i, valid_i in tqdm(list(KFold(n_splits = 5, shuffle = True, random_state=rn).split(unique_patients))):\n",
    "#for train_i, valid_i in tqdm(list(BootstrapOutOfBag(n_splits=5).split(unique_patients))):\n",
    "    \n",
    "    train_pat, valid_pat = unique_patients[train_i], unique_patients[valid_i]\n",
    "\n",
    "    train_data = data.query(f\"{group} in {list(train_pat)}\")\n",
    "    validation_data = data.query(f\"{group} in {list(valid_pat)}\")\n",
    "\n",
    "    X_train = train_data.drop([\"sample_weights\"], axis = 1)\n",
    "    X_valid = validation_data.drop([\"sample_weights\"], axis = 1)\n",
    "    \n",
    "    y_train, y_valid = train_data.reset_index()[f\"{y}\"], validation_data.reset_index()[f\"{y}\"]\n",
    "    w_train, w_test = train_data.reset_index()[\"sample_weights\"], validation_data.reset_index()[\"sample_weights\"]\n",
    "\n",
    "    y_train.index = X_train.index\n",
    "    y_valid.index = X_valid.index\n",
    "\n",
    "    groups = X_train.reset_index(f\"{group}\")[f\"{group}\"]\n",
    "    #groups.index = X_train.index\n",
    "\n",
    "    lb = LabelBinarizer().fit(total.reset_index()[f\"{y}\"].unique())\n",
    "\n",
    "    y_train_b = pd.DataFrame(lb.transform(y_train), index = y_train.index)\n",
    "    y_valid_b = pd.DataFrame(lb.transform(y_valid), index = y_valid.index)\n",
    "    \n",
    "    #---------------------------------------------------------------------------------------------------\n",
    "    oracle = kt.oracles.BayesianOptimization(objective = kt.Objective('score', 'max')\n",
    "                                             , max_trials = 2)\n",
    "                                                          \n",
    "    tuner = kt.tuners.Sklearn(oracle = oracle\n",
    "                              , cv = GroupKFold(n_splits = 2)\n",
    "                              , hypermodel = model_func\n",
    "                              , directory = os.path.join(os.getcwd(), \"KerasTuner\", datetime.now().strftime(\"%d.%m.%Y_%H:%M:%S\"))\n",
    "                              , scoring = make_scorer(f1_score, needs_proba = False, average = 'weighted')\n",
    "                             )\n",
    "\n",
    "    tuner.search(X_train.values.squeeze(),\n",
    "                 y_train_b.values.squeeze(),\n",
    "                 groups=groups,\n",
    "                 sample_weight=w_train\n",
    "                 #validation_data=(X_valid, y_valid_b)\n",
    "                )\n",
    "    \n",
    "    clf = model_func(tuner.get_best_hyperparameters()[0])\n",
    "    \n",
    "    # Refit the classifier with the best parameters on the full dataset\n",
    "    clf.fit(X_train, y_train_b.values.ravel(),clf__sample_weight=w_train)\n",
    "    clfs.append(clf)\n",
    "    #---------------------------------------------------------------------------------------------------\n",
    "     \n",
    "    scores = Cross_Eval.score(clf, X_valid, y_valid_b.iloc[:,0])\n",
    "    pat_scores = {f\"Pat_{key}\": value for key, value in Cross_Eval.patient_score(clf, X_valid, y_valid_b).items()}\n",
    "\n",
    "    scores = {**scores, **pat_scores}\n",
    "        \n",
    "    kfoldscores.append(scores)\n",
    "    \n",
    "    \"\"\"\n",
    "    try: #Try except statement in case of scoring problems\n",
    "        scores = Cross_Eval.score(clf, X_valid, y_valid_b.iloc[:,0])\n",
    "        pat_scores = {f\"Pat_{key}\": value for key, value in Cross_Eval.patient_score(clf, X_valid, y_valid_b.iloc[:,0]).items()}\n",
    "\n",
    "        scores = {**scores, **pat_scores}\n",
    "        \n",
    "    except:\n",
    "        continue\n",
    "    \"\"\"\n",
    "\n",
    "    \n",
    "date_time = datetime.now().strftime(\"%d.%m.%Y_%H:%M\")\n",
    "file_place = os.path.join(os.getcwd(), \"Plots\", model_func.__name__, y, date_time)\n",
    "\n",
    "if not os.path.exists(file_place): os.makedirs(file_place)\n",
    "print(file_place)\n",
    "\n",
    "title = f\"{y}, {date_time}\"\n",
    "\n",
    "results = pd.DataFrame(kfoldscores)"
   ]
  },
  {
   "cell_type": "code",
   "execution_count": null,
   "metadata": {},
   "outputs": [],
   "source": [
    "fig, (ax, ax2) = plt.subplots(ncols = 2, figsize = (12, 5))\n",
    "#fig.suptitle(y_Var)\n",
    "\n",
    "for _, row in results.iterrows():\n",
    "    \n",
    "    ax.plot(row[\"FPR_curve\"], row[\"TPR_curve\"])\n",
    "\n",
    "ax.plot([0,1],[0,1], c = \"black\", linestyle = '--')\n",
    "ax.set_xlabel('False Positive Rate')\n",
    "ax.set_ylabel('True Positive Rate')\n",
    "ax.set_title('ROC Curve')\n",
    "\n",
    "ax.text(0.65, 0.2, \"AUC:{:.2f} +/- {:.2f}\".format(results[\"AUC\"].mean(), results[\"AUC\"].std()/np.sqrt(results.shape[0])))\n",
    "\n",
    "for _, row in results.iterrows():\n",
    "    \n",
    "    ax2.plot(row[\"rec_curve\"], row[\"prec_curve\"])\n",
    "    \n",
    "ax2.set_xlabel('Recall')\n",
    "ax2.set_ylabel('Precision')\n",
    "ax2.set_title('Precision Recall Curve');\n",
    "\n",
    "fig.savefig(os.path.join(file_place, \"ROC_scores.png\"), bbox_inches = 'tight')"
   ]
  },
  {
   "cell_type": "code",
   "execution_count": null,
   "metadata": {},
   "outputs": [],
   "source": [
    "fig, ax = plt.subplots(ncols = 1)\n",
    "\n",
    "results[[\"AUC\", \"Specificity\", \"Sensitivity\", \"Precision\", \"Recall\", \"F1\"]].plot.box(ax = ax)\n",
    "ax.set_ylabel(\"Score\");\n",
    "\n",
    "results.to_excel(os.path.join(file_place, \"Confusion_Matrix_bad.xlsx\"))\n",
    "fig.savefig(os.path.join(file_place, \"scores.png\"), bbox_inches = 'tight')"
   ]
  },
  {
   "cell_type": "code",
   "execution_count": null,
   "metadata": {},
   "outputs": [],
   "source": [
    "fig, (ax, ax2) = plt.subplots(ncols = 2, figsize = (12, 5))\n",
    "#fig.suptitle(y_Var)\n",
    "\n",
    "for _, row in results.iterrows():\n",
    "    \n",
    "    ax.plot(row[\"Pat_FPR_curve\"], row[\"Pat_TPR_curve\"])\n",
    "    \n",
    "ax.plot([0,1],[0,1], c = \"black\", linestyle = '--')\n",
    "ax.set_xlabel('False Positive Rate')\n",
    "ax.set_ylabel('True Positive Rate')\n",
    "ax.set_title('ROC Curve')\n",
    "\n",
    "ax.text(0.65, 0.2, \"AUC:{:.2f} +/- {:.2f}\".format(results[\"Pat_AUC\"].mean(), results[\"Pat_AUC\"].std()/np.sqrt(results.shape[0])))\n",
    "\n",
    "for _, row in results.iterrows():\n",
    "    \n",
    "    ax2.plot(row[\"Pat_rec_curve\"], row[\"Pat_prec_curve\"])\n",
    "    \n",
    "ax2.set_xlabel('Recall')\n",
    "ax2.set_ylabel('Precision')\n",
    "ax2.set_title('Precision Recall Curve');\n",
    "\n",
    "fig.savefig(os.path.join(file_place, \"pat_ROC_scores.png\"), bbox_inches = 'tight')"
   ]
  },
  {
   "cell_type": "code",
   "execution_count": null,
   "metadata": {},
   "outputs": [],
   "source": [
    "fig, ax = plt.subplots(ncols = 1)\n",
    "\n",
    "results[[\"Pat_AUC\", \"Pat_Specificity\", \"Pat_Sensitivity\", \"Pat_Precision\", \"Pat_Recall\", \"Pat_F1\"]].plot.box(ax = ax)\n",
    "ax.set_ylabel(\"Score\");\n",
    "\n",
    "results.to_excel(os.path.join(file_place, \"Confusion_Matrix_bad.xlsx\"))\n",
    "fig.savefig(os.path.join(file_place, \"pat_scores.png\"), bbox_inches = 'tight')"
   ]
  },
  {
   "cell_type": "code",
   "execution_count": 49,
   "metadata": {},
   "outputs": [
    {
     "output_type": "execute_result",
     "data": {
      "text/plain": "    Pat_AUC  Pat_Specificity  Pat_Sensitivity  Pat_Precision  Pat_Recall  \\\n0  0.555556         0.666667         0.666667       0.666667    0.666667   \n1  0.500000         0.750000         0.500000       0.500000    0.500000   \n2  0.800000         0.800000         1.000000       0.500000    1.000000   \n3  1.000000         1.000000         1.000000       1.000000    1.000000   \n4  0.666667         1.000000         0.500000       1.000000    0.500000   \n\n     Pat_F1  \n0  0.666667  \n1  0.500000  \n2  0.666667  \n3  1.000000  \n4  0.666667  ",
      "text/html": "<div>\n<style scoped>\n    .dataframe tbody tr th:only-of-type {\n        vertical-align: middle;\n    }\n\n    .dataframe tbody tr th {\n        vertical-align: top;\n    }\n\n    .dataframe thead th {\n        text-align: right;\n    }\n</style>\n<table border=\"1\" class=\"dataframe\">\n  <thead>\n    <tr style=\"text-align: right;\">\n      <th></th>\n      <th>Pat_AUC</th>\n      <th>Pat_Specificity</th>\n      <th>Pat_Sensitivity</th>\n      <th>Pat_Precision</th>\n      <th>Pat_Recall</th>\n      <th>Pat_F1</th>\n    </tr>\n  </thead>\n  <tbody>\n    <tr>\n      <th>0</th>\n      <td>0.555556</td>\n      <td>0.666667</td>\n      <td>0.666667</td>\n      <td>0.666667</td>\n      <td>0.666667</td>\n      <td>0.666667</td>\n    </tr>\n    <tr>\n      <th>1</th>\n      <td>0.500000</td>\n      <td>0.750000</td>\n      <td>0.500000</td>\n      <td>0.500000</td>\n      <td>0.500000</td>\n      <td>0.500000</td>\n    </tr>\n    <tr>\n      <th>2</th>\n      <td>0.800000</td>\n      <td>0.800000</td>\n      <td>1.000000</td>\n      <td>0.500000</td>\n      <td>1.000000</td>\n      <td>0.666667</td>\n    </tr>\n    <tr>\n      <th>3</th>\n      <td>1.000000</td>\n      <td>1.000000</td>\n      <td>1.000000</td>\n      <td>1.000000</td>\n      <td>1.000000</td>\n      <td>1.000000</td>\n    </tr>\n    <tr>\n      <th>4</th>\n      <td>0.666667</td>\n      <td>1.000000</td>\n      <td>0.500000</td>\n      <td>1.000000</td>\n      <td>0.500000</td>\n      <td>0.666667</td>\n    </tr>\n  </tbody>\n</table>\n</div>"
     },
     "metadata": {},
     "execution_count": 49
    }
   ],
   "source": [
    "results[[\"Pat_AUC\", \"Pat_Specificity\", \"Pat_Sensitivity\", \"Pat_Precision\", \"Pat_Recall\", \"Pat_F1\"]]"
   ]
  },
  {
   "cell_type": "code",
   "execution_count": 54,
   "metadata": {},
   "outputs": [
    {
     "output_type": "error",
     "ename": "NameError",
     "evalue": "name 'y_Var' is not defined",
     "traceback": [
      "\u001b[0;31m---------------------------------------------------------------------------\u001b[0m",
      "\u001b[0;31mNameError\u001b[0m                                 Traceback (most recent call last)",
      "\u001b[0;32m<ipython-input-54-cba16d1534b9>\u001b[0m in \u001b[0;36m<module>\u001b[0;34m\u001b[0m\n\u001b[1;32m      1\u001b[0m \u001b[0mfig\u001b[0m\u001b[0;34m,\u001b[0m \u001b[0max\u001b[0m \u001b[0;34m=\u001b[0m \u001b[0mplt\u001b[0m\u001b[0;34m.\u001b[0m\u001b[0msubplots\u001b[0m\u001b[0;34m(\u001b[0m\u001b[0mncols\u001b[0m \u001b[0;34m=\u001b[0m \u001b[0;36m1\u001b[0m\u001b[0;34m)\u001b[0m\u001b[0;34m\u001b[0m\u001b[0;34m\u001b[0m\u001b[0m\n\u001b[0;32m----> 2\u001b[0;31m \u001b[0mfig\u001b[0m\u001b[0;34m.\u001b[0m\u001b[0msuptitle\u001b[0m\u001b[0;34m(\u001b[0m\u001b[0my_Var\u001b[0m\u001b[0;34m)\u001b[0m\u001b[0;34m\u001b[0m\u001b[0;34m\u001b[0m\u001b[0m\n\u001b[0m\u001b[1;32m      3\u001b[0m \u001b[0;34m\u001b[0m\u001b[0m\n\u001b[1;32m      4\u001b[0m \u001b[0mresults\u001b[0m\u001b[0;34m[\u001b[0m\u001b[0;34m[\u001b[0m\u001b[0;34m\"AUC\"\u001b[0m\u001b[0;34m,\u001b[0m \u001b[0;34m\"Specificity\"\u001b[0m\u001b[0;34m,\u001b[0m \u001b[0;34m\"Sensitivity\"\u001b[0m\u001b[0;34m,\u001b[0m \u001b[0;34m\"Precision\"\u001b[0m\u001b[0;34m,\u001b[0m \u001b[0;34m\"Recall\"\u001b[0m\u001b[0;34m,\u001b[0m \u001b[0;34m\"F1\"\u001b[0m\u001b[0;34m]\u001b[0m\u001b[0;34m]\u001b[0m\u001b[0;34m.\u001b[0m\u001b[0mplot\u001b[0m\u001b[0;34m.\u001b[0m\u001b[0mbox\u001b[0m\u001b[0;34m(\u001b[0m\u001b[0max\u001b[0m \u001b[0;34m=\u001b[0m \u001b[0max\u001b[0m\u001b[0;34m)\u001b[0m\u001b[0;34m\u001b[0m\u001b[0;34m\u001b[0m\u001b[0m\n\u001b[1;32m      5\u001b[0m \u001b[0max\u001b[0m\u001b[0;34m.\u001b[0m\u001b[0mset_ylabel\u001b[0m\u001b[0;34m(\u001b[0m\u001b[0;34m\"Score\"\u001b[0m\u001b[0;34m)\u001b[0m\u001b[0;34m;\u001b[0m\u001b[0;34m\u001b[0m\u001b[0;34m\u001b[0m\u001b[0m\n",
      "\u001b[0;31mNameError\u001b[0m: name 'y_Var' is not defined"
     ]
    }
   ],
   "source": [
    "fig, ax = plt.subplots(ncols = 1)\n",
    "fig.suptitle(y_Var)\n",
    "\n",
    "results[[\"AUC\", \"Specificity\", \"Sensitivity\", \"Precision\", \"Recall\", \"F1\"]].plot.box(ax = ax)\n",
    "ax.set_ylabel(\"Score\");\n",
    "\n",
    "#results.to_excel(os.path.join(file_place, \"Confusion_Matrix_bad.xlsx\"))\n",
    "#fig.savefig(os.path.join(file_place, \"scores.png\"), bbox_inches = 'tight')"
   ]
  },
  {
   "cell_type": "code",
   "execution_count": null,
   "metadata": {},
   "outputs": [],
   "source": [
    "fig, (ax, ax2) = plt.subplots(ncols = 2, figsize = (12, 5))\n",
    "fig.suptitle(title)\n",
    "\n",
    "for _, row in results.iterrows():\n",
    "    \n",
    "    ax.plot(row[\"FPR_curve\"], row[\"TPR_curve\"])\n",
    "    \n",
    "ax.plot([0,1],[0,1], c = \"black\", linestyle = '--')\n",
    "ax.set_xlabel('False Positive Rate')\n",
    "ax.set_ylabel('True Positive Rate')\n",
    "ax.set_title('ROC Curve')\n",
    "\n",
    "ax.text(0.65, 0.2, \"AUC:{:.2f} +/- {:.2f}\".format(results[\"AUC\"].mean(), results[\"AUC\"].std()))\n",
    "\n",
    "for _, row in results.iterrows():\n",
    "    \n",
    "    ax2.plot(row[\"rec_curve\"], row[\"prec_curve\"])\n",
    "    \n",
    "ax2.set_xlabel('Recall')\n",
    "ax2.set_ylabel('Precision')\n",
    "ax2.set_title('Precision Recall Curve')\n",
    "\n",
    "fig.savefig(os.path.join(file_place, \"ROC_scores.png\"), bbox_inches = 'tight')"
   ]
  },
  {
   "cell_type": "code",
   "execution_count": null,
   "metadata": {},
   "outputs": [],
   "source": [
    "results.describe()"
   ]
  },
  {
   "cell_type": "code",
   "execution_count": null,
   "metadata": {},
   "outputs": [],
   "source": [
    "fig, ax = plt.subplots(ncols = 1)\n",
    "fig.suptitle(title)\n",
    "\n",
    "results[[\"AUC\", \"Specificity\", \"Sensitivity\", \"Precision\", \"Recall\", \"F1\"]].plot.box(ax = ax)\n",
    "ax.set_ylabel(\"Score\")\n",
    "\n",
    "results.to_excel(os.path.join(file_place, \"Confusion_Matrix_bad.xlsx\"))\n",
    "fig.savefig(os.path.join(file_place, \"scores.png\"), bbox_inches = 'tight')"
   ]
  },
  {
   "cell_type": "markdown",
   "metadata": {},
   "source": [
    "## Repeat evaluation on patient basis"
   ]
  },
  {
   "cell_type": "code",
   "execution_count": null,
   "metadata": {},
   "outputs": [],
   "source": [
    "y_pred"
   ]
  },
  {
   "cell_type": "code",
   "execution_count": null,
   "metadata": {},
   "outputs": [],
   "source": [
    "Cross_Eval.patient_score(results)"
   ]
  },
  {
   "cell_type": "code",
   "execution_count": null,
   "metadata": {},
   "outputs": [],
   "source": [
    "results.T"
   ]
  },
  {
   "cell_type": "code",
   "execution_count": null,
   "metadata": {},
   "outputs": [],
   "source": [
    "results.y_true.values[0]"
   ]
  },
  {
   "cell_type": "code",
   "execution_count": null,
   "metadata": {},
   "outputs": [],
   "source": [
    "results"
   ]
  },
  {
   "cell_type": "code",
   "execution_count": null,
   "metadata": {},
   "outputs": [],
   "source": [
    "patient_preds = results.y_pred.copy()\n",
    "patient_preds[\"predictions\"] = predictions\n",
    "patient_preds.index = X_valid.index"
   ]
  },
  {
   "cell_type": "code",
   "execution_count": null,
   "metadata": {},
   "outputs": [],
   "source": [
    "def agg_scores(columns):\n",
    "    \n",
    "    return columns.sum()/columns.size"
   ]
  },
  {
   "cell_type": "code",
   "execution_count": null,
   "metadata": {},
   "outputs": [],
   "source": [
    "patient_preds.groupby(\"Patient_Number\").agg(agg_scores)"
   ]
  },
  {
   "cell_type": "code",
   "execution_count": null,
   "metadata": {},
   "outputs": [],
   "source": [
    "y_true = patient_preds.groupby(\"Patient_Number\").agg(agg_scores).loc[:, 0]\n",
    "y_pred = patient_preds.groupby(\"Patient_Number\").agg(agg_scores).loc[:,\"predictions\"]\n",
    "\n",
    "y_pred_nopt = np.array([0 if score < 0.5 else 1 for score in y_pred])\n",
    "y_pred_opt = np.array([0 if score < opt else 1 for score in y_pred])\n",
    "\n",
    "fpr, tpr, t = roc_curve(y_true, y_pred)\n",
    "AUC = roc_auc_score(y_true, y_pred)\n",
    "\n",
    "scores = np.array([np.sqrt(((1-t)**2)+((0-(f))**2)) for f, t in zip(fpr,tpr)])\n",
    "threshi = np.argmin(scores)\n",
    "\n",
    "prec, rec, _ = precision_recall_curve(y_true, y_pred)\n",
    "\n",
    "opt = t[threshi]"
   ]
  },
  {
   "cell_type": "code",
   "execution_count": null,
   "metadata": {},
   "outputs": [],
   "source": [
    "fig, ax = plt.subplots()\n",
    "\n",
    "ax.plot(t , scores, label = \"Score\")\n",
    "#ax.plot(t , tpr, label = \"True positive rate\")\n",
    "#ax.plot(t , fpr, label = \"False positive rate\")\n",
    "ax.set_title('Optimal decision threshold')\n",
    "ax.set_xlabel(\"Threshold\")\n",
    "ax.set_ylabel(\"$\\sqrt{(1-FPR)^2 + (0-TPR)^2}$\")\n",
    "ax.axvline(opt, c = \"r\")\n",
    "ax.text(opt + 0.1, 0.95, f\"Opt threshold {opt:.2f}\")\n",
    "ax.legend()\n",
    "\n",
    "fig.savefig(os.path.join(file_place, \"Optimal_Thresh.png\"), bbox_inches = 'tight')"
   ]
  },
  {
   "cell_type": "code",
   "execution_count": null,
   "metadata": {},
   "outputs": [],
   "source": [
    "from sklearn.metrics import precision_recall_curve\n",
    "from sklearn.metrics import plot_precision_recall_curve"
   ]
  },
  {
   "cell_type": "code",
   "execution_count": null,
   "metadata": {},
   "outputs": [],
   "source": [
    "fig, (ax, ax2) = plt.subplots(ncols = 2, figsize = (12, 5))\n",
    "\n",
    "ax.plot(fpr, tpr)\n",
    "ax.plot([0,1],[0,1], linestyle = '--')\n",
    "ax.set_xlabel('False Positive Rate')\n",
    "ax.set_ylabel('True Positive Rate')\n",
    "ax.set_title('ECS ROC Curve')\n",
    "ax.plot([0, fpr[threshi]], [1, tpr[threshi]], linestyle = \"--\")\n",
    "ax.text(0.8, 0.2, f\"AUC {AUC:.2f}\")\n",
    "\n",
    "ax2.plot(rec, prec)\n",
    "ax2.set_xlabel('Recall')\n",
    "ax2.set_ylabel('Precision')\n",
    "ax2.set_title('Precision Recall Curve')\n",
    "\n",
    "fig.savefig(os.path.join(file_place, \"ROC_Curve_Opt.png\"), bbox_inches = 'tight')"
   ]
  },
  {
   "cell_type": "code",
   "execution_count": null,
   "metadata": {},
   "outputs": [],
   "source": [
    "scorers = {\n",
    "\"Weighted Accuracy\" : scoring(y_true, y_pred_nopt, metric = 'average per-class accuracy'),\n",
    "\"Specificity\" : scoring(y_true, y_pred_nopt, metric = 'specificity'),\n",
    "\"Sensitivity\": scoring(y_true, y_pred_nopt, metric = 'sensitivity'),\n",
    "\"F1_Score\" : f1_score(y_true, y_pred_nopt, average = 'weighted')\n",
    "    }\n",
    "\n",
    "print(\"weighted accuracy: \\t{:.2f}\".format(scoring(y_true, y_pred_nopt, metric = 'average per-class accuracy')))\n",
    "print(\"specificity: \\t\\t{:.2f}\".format(scoring(y_true, y_pred_nopt, metric = 'specificity')))\n",
    "print(\"sensitivity: \\t\\t{:.2f}\".format(scoring(y_true, y_pred_nopt, metric = 'sensitivity')))\n",
    "print(\"F1: \\t\\t\\t{:.2f}\".format(f1_score(y_true, y_pred_nopt, average = 'weighted')))\n",
    "\n",
    "scorers = pd.DataFrame({\"Score\": scorers}).round(2)\n",
    "scorers.to_excel(os.path.join(os.getcwd(), \"Confusion_Matrix_bad.xlsx\"))\n",
    "\n",
    "fig = plotCM(y_true, y_pred_nopt, np.unique(y_valid))\n",
    "#fig.savefig(os.path.join(file_place, \"Confusion_Matrix_bad.png\"), bbox_inches = 'tight')"
   ]
  },
  {
   "cell_type": "code",
   "execution_count": null,
   "metadata": {},
   "outputs": [],
   "source": [
    "scorers = {\n",
    "#\"Weighted Accuracy\" : scoring(y_valid_b, predictions, metric = 'average per-class accuracy'),\n",
    "\"Specificity\" : scoring(y_true, y_pred_opt, metric = 'specificity'),\n",
    "\"Sensitivity\": scoring(y_true, y_pred_opt, metric = 'sensitivity'),\n",
    "\"F1_Score\" : f1_score(y_true, y_pred_opt, average = 'weighted')\n",
    "    }\n",
    "\n",
    "print(\"weighted accuracy: \\t{:.2f}\".format(scoring(y_true, y_pred_opt, metric = 'average per-class accuracy')))\n",
    "print(\"specificity: \\t\\t{:.2f}\".format(scoring(y_true, y_pred_opt, metric = 'specificity')))\n",
    "print(\"sensitivity: \\t\\t{:.2f}\".format(scoring(y_true, y_pred_opt, metric = 'sensitivity')))\n",
    "print(\"F1: \\t\\t\\t{:.2f}\".format(f1_score(y_true, y_pred_opt, average = 'weighted')))\n",
    "\n",
    "scorers = pd.DataFrame({\"Score\": scorers}).round(2)\n",
    "scorers.to_excel(os.path.join(file_place, \"scores.xlsx\"))\n",
    "\n",
    "fig = plotCM(y_true, y_pred_opt, np.unique(y_valid))\n",
    "#fig.savefig(os.path.join(file_place, \"Confusion_Matrix_good.png\"), bbox_inches = 'tight')"
   ]
  },
  {
   "cell_type": "code",
   "execution_count": null,
   "metadata": {},
   "outputs": [],
   "source": [
    "pred_results = y_valid_b.copy()\n",
    "pred_results.columns = [\"True\"]\n",
    "pred_results['Prediction'] = predictions\n",
    "\n",
    "scores.to_excel(os.path.join(file_place, \"score.xlsx\"))\n",
    "pred_results.to_excel(os.path.join(file_place, \"predictions.xlsx\"))"
   ]
  }
 ],
 "metadata": {
  "kernelspec": {
   "display_name": "Python 3",
   "language": "python",
   "name": "python3"
  },
  "language_info": {
   "codemirror_mode": {
    "name": "ipython",
    "version": 3
   },
   "file_extension": ".py",
   "mimetype": "text/x-python",
   "name": "python",
   "nbconvert_exporter": "python",
   "pygments_lexer": "ipython3",
   "version": "3.8.0-final"
  }
 },
 "nbformat": 4,
 "nbformat_minor": 4
}
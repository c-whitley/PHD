{
 "cells": [
  {
   "cell_type": "code",
   "execution_count": 2,
   "metadata": {
    "tags": []
   },
   "outputs": [],
   "source": [
    "%load_ext autoreload\n",
    "\n",
    "%autoreload 2"
   ]
  },
  {
   "cell_type": "code",
   "execution_count": 3,
   "metadata": {},
   "outputs": [],
   "source": [
    "from tqdm.notebook import tqdm\n",
    "import time"
   ]
  },
  {
   "cell_type": "code",
   "execution_count": 4,
   "metadata": {},
   "outputs": [],
   "source": [
    "import numpy as np\n",
    "import pandas as pd\n",
    "import matplotlib.pyplot as plt\n",
    "import seaborn as sns\n",
    "\n",
    "from datetime import datetime\n",
    "\n",
    "import glob\n",
    "import os\n",
    "import sys\n",
    "\n",
    "from tqdm.notebook import tqdm\n",
    "from datetime import datetime\n",
    "\n",
    "import Cross_Eval\n",
    "from Preprocessing_Methods import *"
   ]
  },
  {
   "cell_type": "code",
   "execution_count": 5,
   "metadata": {},
   "outputs": [],
   "source": [
    "from sklearn.pipeline import Pipeline\n",
    "\n",
    "from sklearn.preprocessing import FunctionTransformer, RobustScaler, MinMaxScaler, StandardScaler, LabelBinarizer\n",
    "from sklearn.preprocessing import normalize, robust_scale, minmax_scale\n",
    "\n",
    "from sklearn.preprocessing import OneHotEncoder,KBinsDiscretizer\n",
    "from sklearn.compose import ColumnTransformer\n",
    "\n",
    "from sklearn.decomposition import PCA\n",
    "from sklearn.discriminant_analysis import LinearDiscriminantAnalysis\n",
    "from sklearn.ensemble import RandomForestClassifier\n",
    "from sklearn.linear_model import LogisticRegression\n",
    "\n",
    "from sklearn.calibration import CalibratedClassifierCV\n",
    "\n",
    "from sklearn.kernel_approximation import RBFSampler, Nystroem\n",
    "\n",
    "from sklearn.model_selection import train_test_split\n",
    "from sklearn.model_selection import cross_validate, GroupKFold, KFold\n",
    "\n",
    "from sklearn.metrics import make_scorer, confusion_matrix, roc_auc_score, roc_curve, plot_confusion_matrix, f1_score, recall_score, accuracy_score\n",
    "\n",
    "from sklearn.multiclass import OneVsRestClassifier\n",
    "\n",
    "from mlxtend.evaluate import scoring"
   ]
  },
  {
   "cell_type": "markdown",
   "metadata": {},
   "source": [
    "# Preparing Metadata/Labels"
   ]
  },
  {
   "cell_type": "code",
   "execution_count": 6,
   "metadata": {},
   "outputs": [],
   "source": [
    "all_files = pd.DataFrame(glob.glob(\"/mnt/d/Conor/Extracted_Spectra/*.pickle\"), columns = [\"hdf_loc\"])\n",
    "all_files[\"TMA\"] = all_files.apply(lambda row: float(row[\"hdf_loc\"].split(\"/\")[-1][4:5]), axis = 1)\n",
    "all_files[\"Core\"] = all_files.apply(lambda row: row[\"hdf_loc\"].split(\"/\")[-1][8:-7], axis = 1)"
   ]
  },
  {
   "cell_type": "code",
   "execution_count": 7,
   "metadata": {
    "tags": []
   },
   "outputs": [
    {
     "name": "stdout",
     "output_type": "stream",
     "text": [
      "(79, 18)\n"
     ]
    }
   ],
   "source": [
    "metadata = pd.read_excel(\"/mnt/b/Google_Drive/PhD/Project with Janet/Scoring grids Advancing Front (TMAs 1-3).xlsx\"\n",
    "              , sheet_name = \"reformatted\")\n",
    "\n",
    "metadata = metadata.merge(all_files, left_on = [\"TMA\", \"TMA site\"], right_on = [\"TMA\", \"Core\"])\n",
    "print(metadata.shape)"
   ]
  },
  {
   "cell_type": "code",
   "execution_count": 8,
   "metadata": {},
   "outputs": [],
   "source": [
    "new_metadata = pd.read_excel(\"/mnt/b/Google_Drive/PhD/Project with Janet/new_metadata.xlsx\")"
   ]
  },
  {
   "cell_type": "code",
   "execution_count": 9,
   "metadata": {},
   "outputs": [],
   "source": [
    "new_metadata[\"DODvsAlive\"] = new_metadata[\"OUTCOME\"].map(\n",
    "                            {\"DOD\" : \"DOD\",\n",
    "                             \"alive\": \"Other\",\n",
    "                             \"died other\" : \"Other\",\n",
    "                             \"died\" : \"Other\",\n",
    "                             \"Died\" : \"Other\",\n",
    "                             \"Died other\": \"Other\"})\n",
    "\n",
    "new_metadata[\"DiedvsAlive\"] = new_metadata[\"OUTCOME\"].map(\n",
    "                            {\"DOD\" : \"Died\",\n",
    "                             \"alive\": \"Alive\",\n",
    "                             \"died other\" : \"Died\",\n",
    "                             \"died\" : \"Died\",\n",
    "                             \"Died\" : \"Died\",\n",
    "                             \"Died other\": \"Died\"})\n",
    "\n",
    "new_metadata[\"ECS\"] = new_metadata[\"ECS\"].map(\n",
    "                            {\"y\" : \"Y\",\n",
    "                             \"Y\": \"Y\",\n",
    "                             \"N\" : \"N\",\n",
    "                             \"n\" : \"N\"})"
   ]
  },
  {
   "cell_type": "code",
   "execution_count": 10,
   "metadata": {},
   "outputs": [],
   "source": [
    "new_metadata['lifespan'] = new_metadata['Date of death'] - new_metadata['date of diag']\n",
    "new_metadata[\"Years\"] = new_metadata['Date of death'].dt.year - new_metadata['date of diag'].dt.year"
   ]
  },
  {
   "cell_type": "raw",
   "metadata": {},
   "source": [
    "# Did the patient survive beyond n years?\n",
    "\n",
    "new_metadata[\"2year\"] = new_metadata.apply(lambda row: True if (row['Date of death'] - row['date of diag']).days<730 and row.OUTCOME not in ['Alive',\"alive\"] else False, axis = 1)\n",
    "new_metadata[\"5year\"] = new_metadata.apply(lambda row: True if 730<(row['lifespan']).days<1825 and row.OUTCOME not in ['Alive',\"alive\"] else False, axis = 1)"
   ]
  },
  {
   "cell_type": "code",
   "execution_count": 11,
   "metadata": {},
   "outputs": [],
   "source": [
    "# Did the patient survive beyond n years?\n",
    "for i in np.arange(0,5,1):\n",
    "    \n",
    "    s = (365*i)\n",
    "    e = (365*(i+2))\n",
    "    \n",
    "    new_metadata[f\"{i+1}year\"] = new_metadata.apply(lambda row: True if s<(row['lifespan']).days<e and row.OUTCOME not in ['Alive',\"alive\"] else False, axis = 1)"
   ]
  },
  {
   "cell_type": "code",
   "execution_count": 12,
   "metadata": {},
   "outputs": [],
   "source": [
    "bins = np.arange(0, new_metadata[\"Years\"].max(),2)\n",
    "\n",
    "new_metadata[\"2years\"] = np.digitize(new_metadata[\"Years\"], bins)"
   ]
  },
  {
   "cell_type": "code",
   "execution_count": 13,
   "metadata": {},
   "outputs": [
    {
     "data": {
      "text/html": [
       "<div>\n",
       "<style scoped>\n",
       "    .dataframe tbody tr th:only-of-type {\n",
       "        vertical-align: middle;\n",
       "    }\n",
       "\n",
       "    .dataframe tbody tr th {\n",
       "        vertical-align: top;\n",
       "    }\n",
       "\n",
       "    .dataframe thead th {\n",
       "        text-align: right;\n",
       "    }\n",
       "</style>\n",
       "<table border=\"1\" class=\"dataframe\">\n",
       "  <thead>\n",
       "    <tr style=\"text-align: right;\">\n",
       "      <th></th>\n",
       "      <th>Patient_Number</th>\n",
       "      <th>gender</th>\n",
       "      <th>date of diag</th>\n",
       "      <th>age @ diag</th>\n",
       "      <th>site</th>\n",
       "      <th>pT</th>\n",
       "      <th>pN</th>\n",
       "      <th>stage</th>\n",
       "      <th>ECS</th>\n",
       "      <th>OUTCOME</th>\n",
       "      <th>...</th>\n",
       "      <th>DODvsAlive</th>\n",
       "      <th>DiedvsAlive</th>\n",
       "      <th>lifespan</th>\n",
       "      <th>Years</th>\n",
       "      <th>1year</th>\n",
       "      <th>2year</th>\n",
       "      <th>3year</th>\n",
       "      <th>4year</th>\n",
       "      <th>5year</th>\n",
       "      <th>2years</th>\n",
       "    </tr>\n",
       "  </thead>\n",
       "  <tbody>\n",
       "    <tr>\n",
       "      <th>0</th>\n",
       "      <td>3143</td>\n",
       "      <td>m</td>\n",
       "      <td>2004-03-29</td>\n",
       "      <td>58</td>\n",
       "      <td>floor of mouth</td>\n",
       "      <td>4</td>\n",
       "      <td>0</td>\n",
       "      <td>4</td>\n",
       "      <td>N</td>\n",
       "      <td>DOD</td>\n",
       "      <td>...</td>\n",
       "      <td>DOD</td>\n",
       "      <td>Died</td>\n",
       "      <td>3341 days</td>\n",
       "      <td>9.0</td>\n",
       "      <td>False</td>\n",
       "      <td>False</td>\n",
       "      <td>False</td>\n",
       "      <td>False</td>\n",
       "      <td>False</td>\n",
       "      <td>5</td>\n",
       "    </tr>\n",
       "    <tr>\n",
       "      <th>1</th>\n",
       "      <td>3167</td>\n",
       "      <td>m</td>\n",
       "      <td>2004-09-30</td>\n",
       "      <td>74</td>\n",
       "      <td>floor of mouth</td>\n",
       "      <td>2</td>\n",
       "      <td>2</td>\n",
       "      <td>4</td>\n",
       "      <td>Y</td>\n",
       "      <td>DOD</td>\n",
       "      <td>...</td>\n",
       "      <td>DOD</td>\n",
       "      <td>Died</td>\n",
       "      <td>390 days</td>\n",
       "      <td>1.0</td>\n",
       "      <td>True</td>\n",
       "      <td>True</td>\n",
       "      <td>False</td>\n",
       "      <td>False</td>\n",
       "      <td>False</td>\n",
       "      <td>1</td>\n",
       "    </tr>\n",
       "    <tr>\n",
       "      <th>2</th>\n",
       "      <td>3169</td>\n",
       "      <td>m</td>\n",
       "      <td>2004-10-28</td>\n",
       "      <td>63</td>\n",
       "      <td>floor of mouth</td>\n",
       "      <td>3</td>\n",
       "      <td>1</td>\n",
       "      <td>3</td>\n",
       "      <td>N</td>\n",
       "      <td>died other</td>\n",
       "      <td>...</td>\n",
       "      <td>Other</td>\n",
       "      <td>Died</td>\n",
       "      <td>652 days</td>\n",
       "      <td>2.0</td>\n",
       "      <td>True</td>\n",
       "      <td>True</td>\n",
       "      <td>False</td>\n",
       "      <td>False</td>\n",
       "      <td>False</td>\n",
       "      <td>2</td>\n",
       "    </tr>\n",
       "    <tr>\n",
       "      <th>3</th>\n",
       "      <td>3170</td>\n",
       "      <td>m</td>\n",
       "      <td>2004-11-22</td>\n",
       "      <td>59</td>\n",
       "      <td>other</td>\n",
       "      <td>4</td>\n",
       "      <td>2b</td>\n",
       "      <td>4a</td>\n",
       "      <td>Y</td>\n",
       "      <td>Died other</td>\n",
       "      <td>...</td>\n",
       "      <td>Other</td>\n",
       "      <td>Died</td>\n",
       "      <td>3690 days</td>\n",
       "      <td>10.0</td>\n",
       "      <td>False</td>\n",
       "      <td>False</td>\n",
       "      <td>False</td>\n",
       "      <td>False</td>\n",
       "      <td>False</td>\n",
       "      <td>6</td>\n",
       "    </tr>\n",
       "    <tr>\n",
       "      <th>4</th>\n",
       "      <td>3230</td>\n",
       "      <td>m</td>\n",
       "      <td>2006-01-26</td>\n",
       "      <td>74</td>\n",
       "      <td>tongue</td>\n",
       "      <td>2</td>\n",
       "      <td>1</td>\n",
       "      <td>3</td>\n",
       "      <td>Y</td>\n",
       "      <td>DOD</td>\n",
       "      <td>...</td>\n",
       "      <td>DOD</td>\n",
       "      <td>Died</td>\n",
       "      <td>161 days</td>\n",
       "      <td>0.0</td>\n",
       "      <td>True</td>\n",
       "      <td>False</td>\n",
       "      <td>False</td>\n",
       "      <td>False</td>\n",
       "      <td>False</td>\n",
       "      <td>1</td>\n",
       "    </tr>\n",
       "    <tr>\n",
       "      <th>...</th>\n",
       "      <td>...</td>\n",
       "      <td>...</td>\n",
       "      <td>...</td>\n",
       "      <td>...</td>\n",
       "      <td>...</td>\n",
       "      <td>...</td>\n",
       "      <td>...</td>\n",
       "      <td>...</td>\n",
       "      <td>...</td>\n",
       "      <td>...</td>\n",
       "      <td>...</td>\n",
       "      <td>...</td>\n",
       "      <td>...</td>\n",
       "      <td>...</td>\n",
       "      <td>...</td>\n",
       "      <td>...</td>\n",
       "      <td>...</td>\n",
       "      <td>...</td>\n",
       "      <td>...</td>\n",
       "      <td>...</td>\n",
       "      <td>...</td>\n",
       "    </tr>\n",
       "    <tr>\n",
       "      <th>102</th>\n",
       "      <td>3647</td>\n",
       "      <td>f</td>\n",
       "      <td>2010-10-18</td>\n",
       "      <td>60</td>\n",
       "      <td>tongue</td>\n",
       "      <td>3</td>\n",
       "      <td>2b</td>\n",
       "      <td>NaN</td>\n",
       "      <td>Y</td>\n",
       "      <td>died</td>\n",
       "      <td>...</td>\n",
       "      <td>Other</td>\n",
       "      <td>Died</td>\n",
       "      <td>184 days</td>\n",
       "      <td>1.0</td>\n",
       "      <td>True</td>\n",
       "      <td>False</td>\n",
       "      <td>False</td>\n",
       "      <td>False</td>\n",
       "      <td>False</td>\n",
       "      <td>1</td>\n",
       "    </tr>\n",
       "    <tr>\n",
       "      <th>103</th>\n",
       "      <td>3706</td>\n",
       "      <td>f</td>\n",
       "      <td>2011-04-14</td>\n",
       "      <td>64</td>\n",
       "      <td>tongue</td>\n",
       "      <td>3</td>\n",
       "      <td>0</td>\n",
       "      <td>NaN</td>\n",
       "      <td>N</td>\n",
       "      <td>alive</td>\n",
       "      <td>...</td>\n",
       "      <td>Other</td>\n",
       "      <td>Alive</td>\n",
       "      <td>NaT</td>\n",
       "      <td>NaN</td>\n",
       "      <td>False</td>\n",
       "      <td>False</td>\n",
       "      <td>False</td>\n",
       "      <td>False</td>\n",
       "      <td>False</td>\n",
       "      <td>6</td>\n",
       "    </tr>\n",
       "    <tr>\n",
       "      <th>104</th>\n",
       "      <td>3743</td>\n",
       "      <td>m</td>\n",
       "      <td>2011-11-17</td>\n",
       "      <td>40</td>\n",
       "      <td>tongue</td>\n",
       "      <td>2</td>\n",
       "      <td>0</td>\n",
       "      <td>NaN</td>\n",
       "      <td>N</td>\n",
       "      <td>alive</td>\n",
       "      <td>...</td>\n",
       "      <td>Other</td>\n",
       "      <td>Alive</td>\n",
       "      <td>NaT</td>\n",
       "      <td>NaN</td>\n",
       "      <td>False</td>\n",
       "      <td>False</td>\n",
       "      <td>False</td>\n",
       "      <td>False</td>\n",
       "      <td>False</td>\n",
       "      <td>6</td>\n",
       "    </tr>\n",
       "    <tr>\n",
       "      <th>105</th>\n",
       "      <td>3763</td>\n",
       "      <td>m</td>\n",
       "      <td>2012-02-13</td>\n",
       "      <td>57</td>\n",
       "      <td>floor of mouth</td>\n",
       "      <td>3</td>\n",
       "      <td>2b</td>\n",
       "      <td>4a</td>\n",
       "      <td>Y</td>\n",
       "      <td>died</td>\n",
       "      <td>...</td>\n",
       "      <td>Other</td>\n",
       "      <td>Died</td>\n",
       "      <td>172 days</td>\n",
       "      <td>0.0</td>\n",
       "      <td>True</td>\n",
       "      <td>False</td>\n",
       "      <td>False</td>\n",
       "      <td>False</td>\n",
       "      <td>False</td>\n",
       "      <td>1</td>\n",
       "    </tr>\n",
       "    <tr>\n",
       "      <th>106</th>\n",
       "      <td>3773</td>\n",
       "      <td>m</td>\n",
       "      <td>2012-07-02</td>\n",
       "      <td>53</td>\n",
       "      <td>other</td>\n",
       "      <td>2</td>\n",
       "      <td>2b</td>\n",
       "      <td>4a</td>\n",
       "      <td>N</td>\n",
       "      <td>alive</td>\n",
       "      <td>...</td>\n",
       "      <td>Other</td>\n",
       "      <td>Alive</td>\n",
       "      <td>NaT</td>\n",
       "      <td>NaN</td>\n",
       "      <td>False</td>\n",
       "      <td>False</td>\n",
       "      <td>False</td>\n",
       "      <td>False</td>\n",
       "      <td>False</td>\n",
       "      <td>6</td>\n",
       "    </tr>\n",
       "  </tbody>\n",
       "</table>\n",
       "<p>107 rows × 27 columns</p>\n",
       "</div>"
      ],
      "text/plain": [
       "     Patient_Number gender date of diag  age @ diag            site pT  pN  \\\n",
       "0              3143      m   2004-03-29          58  floor of mouth  4   0   \n",
       "1              3167      m   2004-09-30          74  floor of mouth  2   2   \n",
       "2              3169      m   2004-10-28          63  floor of mouth  3   1   \n",
       "3              3170      m   2004-11-22          59           other  4  2b   \n",
       "4              3230      m   2006-01-26          74          tongue  2   1   \n",
       "..              ...    ...          ...         ...             ... ..  ..   \n",
       "102            3647      f   2010-10-18          60          tongue  3  2b   \n",
       "103            3706      f   2011-04-14          64          tongue  3   0   \n",
       "104            3743      m   2011-11-17          40          tongue  2   0   \n",
       "105            3763      m   2012-02-13          57  floor of mouth  3  2b   \n",
       "106            3773      m   2012-07-02          53           other  2  2b   \n",
       "\n",
       "    stage ECS     OUTCOME  ... DODvsAlive DiedvsAlive  lifespan Years  1year  \\\n",
       "0       4   N         DOD  ...        DOD        Died 3341 days   9.0  False   \n",
       "1       4   Y         DOD  ...        DOD        Died  390 days   1.0   True   \n",
       "2       3   N  died other  ...      Other        Died  652 days   2.0   True   \n",
       "3      4a   Y  Died other  ...      Other        Died 3690 days  10.0  False   \n",
       "4       3   Y         DOD  ...        DOD        Died  161 days   0.0   True   \n",
       "..    ...  ..         ...  ...        ...         ...       ...   ...    ...   \n",
       "102   NaN   Y        died  ...      Other        Died  184 days   1.0   True   \n",
       "103   NaN   N       alive  ...      Other       Alive       NaT   NaN  False   \n",
       "104   NaN   N       alive  ...      Other       Alive       NaT   NaN  False   \n",
       "105    4a   Y        died  ...      Other        Died  172 days   0.0   True   \n",
       "106    4a   N       alive  ...      Other       Alive       NaT   NaN  False   \n",
       "\n",
       "     2year  3year  4year  5year 2years  \n",
       "0    False  False  False  False      5  \n",
       "1     True  False  False  False      1  \n",
       "2     True  False  False  False      2  \n",
       "3    False  False  False  False      6  \n",
       "4    False  False  False  False      1  \n",
       "..     ...    ...    ...    ...    ...  \n",
       "102  False  False  False  False      1  \n",
       "103  False  False  False  False      6  \n",
       "104  False  False  False  False      6  \n",
       "105  False  False  False  False      1  \n",
       "106  False  False  False  False      6  \n",
       "\n",
       "[107 rows x 27 columns]"
      ]
     },
     "execution_count": 13,
     "metadata": {},
     "output_type": "execute_result"
    }
   ],
   "source": [
    "new_metadata"
   ]
  },
  {
   "cell_type": "markdown",
   "metadata": {},
   "source": [
    "Import ASMA data"
   ]
  },
  {
   "cell_type": "code",
   "execution_count": 14,
   "metadata": {},
   "outputs": [],
   "source": [
    "asma = pd.read_excel(\"/mnt/b/Google_Drive/PhD/Project with Janet/ASMA.xlsx\", sheet_name = \"Sheet3\")\n",
    "new_metadata = new_metadata.merge(asma, left_on = \"Patient_Number\", right_on = \"Case ID\")"
   ]
  },
  {
   "cell_type": "markdown",
   "metadata": {},
   "source": [
    "# Import data and preprocess"
   ]
  },
  {
   "cell_type": "code",
   "execution_count": 15,
   "metadata": {},
   "outputs": [],
   "source": [
    "from Preprocessing_Methods import *\n",
    "\n",
    "import sys\n",
    "\n",
    "sys.path.append(\"/mnt/b/Git_Projects/Biospec_Analysis/UNET\")"
   ]
  },
  {
   "cell_type": "code",
   "execution_count": 16,
   "metadata": {
    "tags": []
   },
   "outputs": [
    {
     "data": {
      "application/vnd.jupyter.widget-view+json": {
       "model_id": "a1273f091f1b474995765ca94eb69b64",
       "version_major": 2,
       "version_minor": 0
      },
      "text/plain": [
       "HBox(children=(FloatProgress(value=0.0, max=79.0), HTML(value='')))"
      ]
     },
     "metadata": {},
     "output_type": "display_data"
    },
    {
     "name": "stdout",
     "output_type": "stream",
     "text": [
      "\n"
     ]
    }
   ],
   "source": [
    "select = ['Tumour']\n",
    "\n",
    "total = pd.concat({\"{}-{}\".format(row[\"TMA\"], row[\"Core\"]):\n",
    "                   truncate(pd.read_pickle(row[\"hdf_loc\"]).query(f\"Tissue in {select}\").sample(frac = 1), start = 1000, end = 1800)\n",
    "                   for name, row in tqdm(list(metadata.iterrows()))}, names = [\"ID\"])\n",
    "\n",
    "wn_cols = total.columns\n",
    "#total = total.merge(new_metadata, left_on = \"Patient nu \", right_on = \"Patient Number\")\n",
    "#total = total.drop(np.nan, level = \"Overall Death \")"
   ]
  },
  {
   "cell_type": "code",
   "execution_count": 17,
   "metadata": {},
   "outputs": [],
   "source": [
    "total = total.reset_index().merge(new_metadata, left_on = \"Patient nu \", right_on = \"Patient_Number\", how = 'inner')\n",
    "total = total.set_index(list(total.columns.difference(wn_cols))).dropna(axis = 1)"
   ]
  },
  {
   "cell_type": "code",
   "execution_count": 18,
   "metadata": {},
   "outputs": [
    {
     "data": {
      "text/html": [
       "<div>\n",
       "<style scoped>\n",
       "    .dataframe tbody tr th:only-of-type {\n",
       "        vertical-align: middle;\n",
       "    }\n",
       "\n",
       "    .dataframe tbody tr th {\n",
       "        vertical-align: top;\n",
       "    }\n",
       "\n",
       "    .dataframe thead th {\n",
       "        text-align: right;\n",
       "    }\n",
       "</style>\n",
       "<table border=\"1\" class=\"dataframe\">\n",
       "  <thead>\n",
       "    <tr style=\"text-align: right;\">\n",
       "      <th></th>\n",
       "      <th></th>\n",
       "      <th></th>\n",
       "      <th></th>\n",
       "      <th></th>\n",
       "      <th></th>\n",
       "      <th></th>\n",
       "      <th></th>\n",
       "      <th></th>\n",
       "      <th></th>\n",
       "      <th></th>\n",
       "      <th></th>\n",
       "      <th></th>\n",
       "      <th></th>\n",
       "      <th></th>\n",
       "      <th></th>\n",
       "      <th></th>\n",
       "      <th></th>\n",
       "      <th></th>\n",
       "      <th></th>\n",
       "      <th></th>\n",
       "      <th></th>\n",
       "      <th></th>\n",
       "      <th></th>\n",
       "      <th></th>\n",
       "      <th></th>\n",
       "      <th></th>\n",
       "      <th></th>\n",
       "      <th></th>\n",
       "      <th></th>\n",
       "      <th></th>\n",
       "      <th></th>\n",
       "      <th></th>\n",
       "      <th></th>\n",
       "      <th></th>\n",
       "      <th></th>\n",
       "      <th></th>\n",
       "      <th></th>\n",
       "      <th></th>\n",
       "      <th></th>\n",
       "      <th></th>\n",
       "      <th></th>\n",
       "      <th></th>\n",
       "      <th></th>\n",
       "      <th></th>\n",
       "      <th></th>\n",
       "      <th></th>\n",
       "      <th></th>\n",
       "      <th></th>\n",
       "      <th></th>\n",
       "      <th></th>\n",
       "      <th>998.0</th>\n",
       "      <th>1002.0</th>\n",
       "      <th>1006.0</th>\n",
       "      <th>1010.0</th>\n",
       "      <th>1014.0</th>\n",
       "      <th>1018.0</th>\n",
       "      <th>1022.0</th>\n",
       "      <th>1025.0</th>\n",
       "      <th>1029.0</th>\n",
       "      <th>1033.0</th>\n",
       "      <th>...</th>\n",
       "      <th>1762.0</th>\n",
       "      <th>1766.0</th>\n",
       "      <th>1770.0</th>\n",
       "      <th>1774.0</th>\n",
       "      <th>1778.0</th>\n",
       "      <th>1781.0</th>\n",
       "      <th>1785.0</th>\n",
       "      <th>1789.0</th>\n",
       "      <th>1793.0</th>\n",
       "      <th>1797.0</th>\n",
       "    </tr>\n",
       "    <tr>\n",
       "      <th>1year</th>\n",
       "      <th>2year</th>\n",
       "      <th>2years</th>\n",
       "      <th>3year</th>\n",
       "      <th>4year</th>\n",
       "      <th>5year</th>\n",
       "      <th>ASMA</th>\n",
       "      <th>Annotation_loc</th>\n",
       "      <th>Case ID</th>\n",
       "      <th>Core_x</th>\n",
       "      <th>Core_y</th>\n",
       "      <th>Corrected Site AJCC/UICC</th>\n",
       "      <th>DODvsAlive</th>\n",
       "      <th>Date of death</th>\n",
       "      <th>Date of recurrence</th>\n",
       "      <th>Diagnosis Age</th>\n",
       "      <th>DiedvsAlive</th>\n",
       "      <th>ECS_x</th>\n",
       "      <th>ECS_y</th>\n",
       "      <th>ID</th>\n",
       "      <th>Last seen/reviewed</th>\n",
       "      <th>Last updated</th>\n",
       "      <th>N stage</th>\n",
       "      <th>OUTCOME</th>\n",
       "      <th>OUTCOME.updated by</th>\n",
       "      <th>Overall Death</th>\n",
       "      <th>Pathogical Stage</th>\n",
       "      <th>Patient nu</th>\n",
       "      <th>Patient_Number</th>\n",
       "      <th>Recurrence?</th>\n",
       "      <th>T stage</th>\n",
       "      <th>TMA</th>\n",
       "      <th>TMA site</th>\n",
       "      <th>Tissue</th>\n",
       "      <th>Years</th>\n",
       "      <th>advancing front type</th>\n",
       "      <th>age @ diag</th>\n",
       "      <th>date of diag</th>\n",
       "      <th>diff</th>\n",
       "      <th>envi_loc</th>\n",
       "      <th>gender_x</th>\n",
       "      <th>gender_y</th>\n",
       "      <th>lifespan</th>\n",
       "      <th>pN</th>\n",
       "      <th>pT</th>\n",
       "      <th>radiotherapy</th>\n",
       "      <th>recurrence</th>\n",
       "      <th>site</th>\n",
       "      <th>site of recurrence</th>\n",
       "      <th>stage</th>\n",
       "      <th>survival (months)</th>\n",
       "      <th></th>\n",
       "      <th></th>\n",
       "      <th></th>\n",
       "      <th></th>\n",
       "      <th></th>\n",
       "      <th></th>\n",
       "      <th></th>\n",
       "      <th></th>\n",
       "      <th></th>\n",
       "      <th></th>\n",
       "      <th></th>\n",
       "      <th></th>\n",
       "      <th></th>\n",
       "      <th></th>\n",
       "      <th></th>\n",
       "      <th></th>\n",
       "      <th></th>\n",
       "      <th></th>\n",
       "      <th></th>\n",
       "      <th></th>\n",
       "      <th></th>\n",
       "    </tr>\n",
       "  </thead>\n",
       "  <tbody>\n",
       "    <tr>\n",
       "      <th rowspan=\"3\" valign=\"top\">True</th>\n",
       "      <th rowspan=\"2\" valign=\"top\">False</th>\n",
       "      <th rowspan=\"2\" valign=\"top\">1</th>\n",
       "      <th rowspan=\"2\" valign=\"top\">False</th>\n",
       "      <th rowspan=\"2\" valign=\"top\">False</th>\n",
       "      <th rowspan=\"2\" valign=\"top\">False</th>\n",
       "      <th rowspan=\"2\" valign=\"top\">H</th>\n",
       "      <th>/mnt/b/Google_Drive/PhD/Project with Janet/Label_Images/TMA_1/TMA_1.1_C5.png</th>\n",
       "      <th>3568</th>\n",
       "      <th>C5</th>\n",
       "      <th>C5</th>\n",
       "      <th>FOM</th>\n",
       "      <th>Other</th>\n",
       "      <th>2010-04-17</th>\n",
       "      <th>NaT</th>\n",
       "      <th>74.0</th>\n",
       "      <th>Died</th>\n",
       "      <th>yes</th>\n",
       "      <th>Y</th>\n",
       "      <th>1.0-C5</th>\n",
       "      <th>NaT</th>\n",
       "      <th>2020-04-01</th>\n",
       "      <th>2c</th>\n",
       "      <th>died other</th>\n",
       "      <th>FGD</th>\n",
       "      <th>yes</th>\n",
       "      <th>pT2N2cMx</th>\n",
       "      <th>3568</th>\n",
       "      <th>3568</th>\n",
       "      <th>no</th>\n",
       "      <th>2</th>\n",
       "      <th>1.0</th>\n",
       "      <th>C5</th>\n",
       "      <th>Tumour</th>\n",
       "      <th>0.0</th>\n",
       "      <th>NaN</th>\n",
       "      <th>74</th>\n",
       "      <th>2010-03-04</th>\n",
       "      <th>NaN</th>\n",
       "      <th>/mnt/b/Google_Drive/PhD/Project with Janet/Kohler_Corrected/TMA_1TMA_1.1_C5.HDR</th>\n",
       "      <th>m</th>\n",
       "      <th>m</th>\n",
       "      <th>44 days</th>\n",
       "      <th>2c</th>\n",
       "      <th>2</th>\n",
       "      <th>no</th>\n",
       "      <th>no</th>\n",
       "      <th>floor of mouth</th>\n",
       "      <th>NaN</th>\n",
       "      <th>4a</th>\n",
       "      <th>1.0</th>\n",
       "      <td>-0.238798</td>\n",
       "      <td>-0.233185</td>\n",
       "      <td>-0.227662</td>\n",
       "      <td>-0.221963</td>\n",
       "      <td>-0.215823</td>\n",
       "      <td>-0.208976</td>\n",
       "      <td>-0.199743</td>\n",
       "      <td>-0.189330</td>\n",
       "      <td>-0.179678</td>\n",
       "      <td>-0.171440</td>\n",
       "      <td>...</td>\n",
       "      <td>-0.284733</td>\n",
       "      <td>-0.283587</td>\n",
       "      <td>-0.282838</td>\n",
       "      <td>-0.282237</td>\n",
       "      <td>-0.281628</td>\n",
       "      <td>-0.279458</td>\n",
       "      <td>-0.276396</td>\n",
       "      <td>-0.272636</td>\n",
       "      <td>-0.268095</td>\n",
       "      <td>-0.263030</td>\n",
       "    </tr>\n",
       "    <tr>\n",
       "      <th>/mnt/b/Google_Drive/PhD/Project with Janet/Label_Images/TMA_2/TMA_1.1_B1.png</th>\n",
       "      <th>3251</th>\n",
       "      <th>B1</th>\n",
       "      <th>B1</th>\n",
       "      <th>oral tongue</th>\n",
       "      <th>DOD</th>\n",
       "      <th>2006-07-21</th>\n",
       "      <th>NaT</th>\n",
       "      <th>70.0</th>\n",
       "      <th>Died</th>\n",
       "      <th>yes</th>\n",
       "      <th>Y</th>\n",
       "      <th>2.0-B1</th>\n",
       "      <th>NaT</th>\n",
       "      <th>2020-03-13</th>\n",
       "      <th>1</th>\n",
       "      <th>DOD</th>\n",
       "      <th>FG</th>\n",
       "      <th>yes</th>\n",
       "      <th>pT4N1M0</th>\n",
       "      <th>3251</th>\n",
       "      <th>3251</th>\n",
       "      <th>no</th>\n",
       "      <th>4</th>\n",
       "      <th>2.0</th>\n",
       "      <th>B1</th>\n",
       "      <th>Tumour</th>\n",
       "      <th>0.0</th>\n",
       "      <th>islands</th>\n",
       "      <th>70</th>\n",
       "      <th>2006-05-31</th>\n",
       "      <th>mod</th>\n",
       "      <th>/mnt/b/Google_Drive/PhD/Project with Janet/Kohler_Corrected/TMA_2TMA_1.1_B1.HDR</th>\n",
       "      <th>m</th>\n",
       "      <th>m</th>\n",
       "      <th>51 days</th>\n",
       "      <th>1</th>\n",
       "      <th>4</th>\n",
       "      <th>no</th>\n",
       "      <th>no</th>\n",
       "      <th>tongue</th>\n",
       "      <th>NaN</th>\n",
       "      <th>4</th>\n",
       "      <th>2.0</th>\n",
       "      <td>0.044504</td>\n",
       "      <td>0.045182</td>\n",
       "      <td>0.046197</td>\n",
       "      <td>0.047466</td>\n",
       "      <td>0.048908</td>\n",
       "      <td>0.050442</td>\n",
       "      <td>0.051687</td>\n",
       "      <td>0.053041</td>\n",
       "      <td>0.054683</td>\n",
       "      <td>0.056420</td>\n",
       "      <td>...</td>\n",
       "      <td>0.044130</td>\n",
       "      <td>0.044457</td>\n",
       "      <td>0.044754</td>\n",
       "      <td>0.044919</td>\n",
       "      <td>0.044975</td>\n",
       "      <td>0.045008</td>\n",
       "      <td>0.044998</td>\n",
       "      <td>0.044897</td>\n",
       "      <td>0.044839</td>\n",
       "      <td>0.045020</td>\n",
       "    </tr>\n",
       "    <tr>\n",
       "      <th>True</th>\n",
       "      <th>1</th>\n",
       "      <th>False</th>\n",
       "      <th>False</th>\n",
       "      <th>False</th>\n",
       "      <th>I</th>\n",
       "      <th>/mnt/b/Google_Drive/PhD/Project with Janet/Label_Images/TMA_2/TMA_1.1_A2.png</th>\n",
       "      <th>3254</th>\n",
       "      <th>A2</th>\n",
       "      <th>A2</th>\n",
       "      <th>FOM</th>\n",
       "      <th>DOD</th>\n",
       "      <th>2007-10-22</th>\n",
       "      <th>2007-08-09</th>\n",
       "      <th>48.0</th>\n",
       "      <th>Died</th>\n",
       "      <th>no</th>\n",
       "      <th>N</th>\n",
       "      <th>2.0-A2</th>\n",
       "      <th>NaT</th>\n",
       "      <th>2012-10-04</th>\n",
       "      <th>2c</th>\n",
       "      <th>DOD</th>\n",
       "      <th>CBarry</th>\n",
       "      <th>yes</th>\n",
       "      <th>pT2N2cMx</th>\n",
       "      <th>3254</th>\n",
       "      <th>3254</th>\n",
       "      <th>yes</th>\n",
       "      <th>2</th>\n",
       "      <th>2.0</th>\n",
       "      <th>A2</th>\n",
       "      <th>Tumour</th>\n",
       "      <th>1.0</th>\n",
       "      <th>islets</th>\n",
       "      <th>48</th>\n",
       "      <th>2006-06-12</th>\n",
       "      <th>mod</th>\n",
       "      <th>/mnt/b/Google_Drive/PhD/Project with Janet/Kohler_Corrected/TMA_2TMA_1.1_A2.HDR</th>\n",
       "      <th>f</th>\n",
       "      <th>f</th>\n",
       "      <th>497 days</th>\n",
       "      <th>2c</th>\n",
       "      <th>2</th>\n",
       "      <th>yes</th>\n",
       "      <th>yes</th>\n",
       "      <th>floor of mouth</th>\n",
       "      <th>metastases</th>\n",
       "      <th>4</th>\n",
       "      <th>15.0</th>\n",
       "      <td>0.017278</td>\n",
       "      <td>0.020873</td>\n",
       "      <td>0.023867</td>\n",
       "      <td>0.026390</td>\n",
       "      <td>0.028574</td>\n",
       "      <td>0.030550</td>\n",
       "      <td>0.032386</td>\n",
       "      <td>0.034457</td>\n",
       "      <td>0.036573</td>\n",
       "      <td>0.038921</td>\n",
       "      <td>...</td>\n",
       "      <td>0.011259</td>\n",
       "      <td>0.011511</td>\n",
       "      <td>0.012302</td>\n",
       "      <td>0.013056</td>\n",
       "      <td>0.013667</td>\n",
       "      <td>0.014463</td>\n",
       "      <td>0.015292</td>\n",
       "      <td>0.016065</td>\n",
       "      <td>0.016364</td>\n",
       "      <td>0.016570</td>\n",
       "    </tr>\n",
       "    <tr>\n",
       "      <th rowspan=\"2\" valign=\"top\">False</th>\n",
       "      <th rowspan=\"2\" valign=\"top\">False</th>\n",
       "      <th rowspan=\"2\" valign=\"top\">6</th>\n",
       "      <th rowspan=\"2\" valign=\"top\">False</th>\n",
       "      <th rowspan=\"2\" valign=\"top\">False</th>\n",
       "      <th rowspan=\"2\" valign=\"top\">False</th>\n",
       "      <th>L</th>\n",
       "      <th>/mnt/b/Google_Drive/PhD/Project with Janet/Label_Images/TMA_1/TMA_1.1_C3.png</th>\n",
       "      <th>3481</th>\n",
       "      <th>C3</th>\n",
       "      <th>C3</th>\n",
       "      <th>oropharynx</th>\n",
       "      <th>Other</th>\n",
       "      <th>NaT</th>\n",
       "      <th>NaT</th>\n",
       "      <th>60.0</th>\n",
       "      <th>Alive</th>\n",
       "      <th>no</th>\n",
       "      <th>N</th>\n",
       "      <th>1.0-C3</th>\n",
       "      <th>2020-01-29</th>\n",
       "      <th>2020-04-24</th>\n",
       "      <th>1</th>\n",
       "      <th>alive</th>\n",
       "      <th>FGD</th>\n",
       "      <th>no</th>\n",
       "      <th>pT2N1Mx</th>\n",
       "      <th>3481</th>\n",
       "      <th>3481</th>\n",
       "      <th>no</th>\n",
       "      <th>2</th>\n",
       "      <th>1.0</th>\n",
       "      <th>C3</th>\n",
       "      <th>Tumour</th>\n",
       "      <th>NaN</th>\n",
       "      <th>non cohesive type 4</th>\n",
       "      <th>72</th>\n",
       "      <th>2009-02-23</th>\n",
       "      <th>poorly</th>\n",
       "      <th>/mnt/b/Google_Drive/PhD/Project with Janet/Kohler_Corrected/TMA_1TMA_1.1_C3.HDR</th>\n",
       "      <th>m</th>\n",
       "      <th>m</th>\n",
       "      <th>NaT</th>\n",
       "      <th>1</th>\n",
       "      <th>2</th>\n",
       "      <th>yes</th>\n",
       "      <th>yes</th>\n",
       "      <th>oropharynx</th>\n",
       "      <th>NaN</th>\n",
       "      <th>NaN</th>\n",
       "      <th>91.0</th>\n",
       "      <td>0.057470</td>\n",
       "      <td>0.060647</td>\n",
       "      <td>0.064278</td>\n",
       "      <td>0.068306</td>\n",
       "      <td>0.072674</td>\n",
       "      <td>0.077325</td>\n",
       "      <td>0.081957</td>\n",
       "      <td>0.087096</td>\n",
       "      <td>0.091883</td>\n",
       "      <td>0.096552</td>\n",
       "      <td>...</td>\n",
       "      <td>0.046334</td>\n",
       "      <td>0.045954</td>\n",
       "      <td>0.045936</td>\n",
       "      <td>0.046207</td>\n",
       "      <td>0.046482</td>\n",
       "      <td>0.046894</td>\n",
       "      <td>0.047369</td>\n",
       "      <td>0.047817</td>\n",
       "      <td>0.048067</td>\n",
       "      <td>0.048183</td>\n",
       "    </tr>\n",
       "    <tr>\n",
       "      <th>I</th>\n",
       "      <th>/mnt/b/Google_Drive/PhD/Project with Janet/Label_Images/TMA_1/TMA_1.2_A10.png</th>\n",
       "      <th>3271</th>\n",
       "      <th>A10</th>\n",
       "      <th>A10</th>\n",
       "      <th>FOM</th>\n",
       "      <th>Other</th>\n",
       "      <th>NaT</th>\n",
       "      <th>2010-07-23</th>\n",
       "      <th>59.0</th>\n",
       "      <th>Alive</th>\n",
       "      <th>yes</th>\n",
       "      <th>Y</th>\n",
       "      <th>1.0-A10</th>\n",
       "      <th>2010-07-23</th>\n",
       "      <th>2020-04-01</th>\n",
       "      <th>2b</th>\n",
       "      <th>alive</th>\n",
       "      <th>FGD</th>\n",
       "      <th>no</th>\n",
       "      <th>pT4N2bM0</th>\n",
       "      <th>3271</th>\n",
       "      <th>3271</th>\n",
       "      <th>yes</th>\n",
       "      <th>4</th>\n",
       "      <th>1.0</th>\n",
       "      <th>A10</th>\n",
       "      <th>Tumour</th>\n",
       "      <th>NaN</th>\n",
       "      <th>poorly cohesive</th>\n",
       "      <th>59</th>\n",
       "      <th>2006-09-16</th>\n",
       "      <th>mod</th>\n",
       "      <th>/mnt/b/Google_Drive/PhD/Project with Janet/Kohler_Corrected/TMA_1TMA_1.2_A10.HDR</th>\n",
       "      <th>m</th>\n",
       "      <th>m</th>\n",
       "      <th>NaT</th>\n",
       "      <th>2b</th>\n",
       "      <th>4</th>\n",
       "      <th>yes</th>\n",
       "      <th>yes</th>\n",
       "      <th>floor of mouth</th>\n",
       "      <th>lung mets</th>\n",
       "      <th>4a</th>\n",
       "      <th>46.0</th>\n",
       "      <td>0.017562</td>\n",
       "      <td>0.017122</td>\n",
       "      <td>0.017636</td>\n",
       "      <td>0.018895</td>\n",
       "      <td>0.020689</td>\n",
       "      <td>0.022809</td>\n",
       "      <td>0.024217</td>\n",
       "      <td>0.026406</td>\n",
       "      <td>0.028721</td>\n",
       "      <td>0.030804</td>\n",
       "      <td>...</td>\n",
       "      <td>0.018349</td>\n",
       "      <td>0.017933</td>\n",
       "      <td>0.017620</td>\n",
       "      <td>0.017392</td>\n",
       "      <td>0.017162</td>\n",
       "      <td>0.016997</td>\n",
       "      <td>0.016860</td>\n",
       "      <td>0.016851</td>\n",
       "      <td>0.016995</td>\n",
       "      <td>0.017087</td>\n",
       "    </tr>\n",
       "  </tbody>\n",
       "</table>\n",
       "<p>5 rows × 169 columns</p>\n",
       "</div>"
      ],
      "text/plain": [
       "                                                                                                                                                                                                                                                                                                                                                                                                                                                                                                                                                                                                                                                  998.0   \\\n",
       "1year 2year 2years 3year 4year 5year ASMA Annotation_loc                                     Case ID Core_x Core_y Corrected Site AJCC/UICC DODvsAlive Date of death Date of recurrence Diagnosis Age DiedvsAlive ECS_x ECS_y ID      Last seen/reviewed Last updated N stage OUTCOME    OUTCOME.updated by Overall Death  Pathogical Stage Patient nu  Patient_Number Recurrence? T stage TMA TMA site Tissue Years advancing front type age @ diag date of diag diff   envi_loc                                           gender_x gender_y lifespan pN pT radiotherapy recurrence site           site of recurrence stage survival (months)             \n",
       "True  False 1      False False False H    /mnt/b/Google_Drive/PhD/Project with Janet/Labe... 3568    C5     C5     FOM                      Other      2010-04-17    NaT                74.0          Died        yes   Y     1.0-C5  NaT                2020-04-01   2c      died other FGD                yes            pT2N2cMx         3568        3568           no          2       1.0 C5       Tumour 0.0   NaN                  74         2010-03-04   NaN    /mnt/b/Google_Drive/PhD/Project with Janet/Kohl... m        m        44 days  2c 2  no           no         floor of mouth NaN                4a    1.0               -0.238798   \n",
       "                                          /mnt/b/Google_Drive/PhD/Project with Janet/Labe... 3251    B1     B1     oral tongue              DOD        2006-07-21    NaT                70.0          Died        yes   Y     2.0-B1  NaT                2020-03-13   1       DOD        FG                 yes            pT4N1M0          3251        3251           no          4       2.0 B1       Tumour 0.0   islands              70         2006-05-31   mod    /mnt/b/Google_Drive/PhD/Project with Janet/Kohl... m        m        51 days  1  4  no           no         tongue         NaN                4     2.0                0.044504   \n",
       "      True  1      False False False I    /mnt/b/Google_Drive/PhD/Project with Janet/Labe... 3254    A2     A2     FOM                      DOD        2007-10-22    2007-08-09         48.0          Died        no    N     2.0-A2  NaT                2012-10-04   2c      DOD        CBarry             yes            pT2N2cMx         3254        3254           yes         2       2.0 A2       Tumour 1.0   islets               48         2006-06-12   mod    /mnt/b/Google_Drive/PhD/Project with Janet/Kohl... f        f        497 days 2c 2  yes          yes        floor of mouth metastases         4     15.0               0.017278   \n",
       "False False 6      False False False L    /mnt/b/Google_Drive/PhD/Project with Janet/Labe... 3481    C3     C3     oropharynx               Other      NaT           NaT                60.0          Alive       no    N     1.0-C3  2020-01-29         2020-04-24   1       alive      FGD                no             pT2N1Mx          3481        3481           no          2       1.0 C3       Tumour NaN   non cohesive type 4  72         2009-02-23   poorly /mnt/b/Google_Drive/PhD/Project with Janet/Kohl... m        m        NaT      1  2  yes          yes        oropharynx     NaN                NaN   91.0               0.057470   \n",
       "                                     I    /mnt/b/Google_Drive/PhD/Project with Janet/Labe... 3271    A10    A10    FOM                      Other      NaT           2010-07-23         59.0          Alive       yes   Y     1.0-A10 2010-07-23         2020-04-01   2b      alive      FGD                no             pT4N2bM0         3271        3271           yes         4       1.0 A10      Tumour NaN   poorly cohesive      59         2006-09-16   mod    /mnt/b/Google_Drive/PhD/Project with Janet/Kohl... m        m        NaT      2b 4  yes          yes        floor of mouth lung mets          4a    46.0               0.017562   \n",
       "\n",
       "                                                                                                                                                                                                                                                                                                                                                                                                                                                                                                                                                                                                                                                  1002.0  \\\n",
       "1year 2year 2years 3year 4year 5year ASMA Annotation_loc                                     Case ID Core_x Core_y Corrected Site AJCC/UICC DODvsAlive Date of death Date of recurrence Diagnosis Age DiedvsAlive ECS_x ECS_y ID      Last seen/reviewed Last updated N stage OUTCOME    OUTCOME.updated by Overall Death  Pathogical Stage Patient nu  Patient_Number Recurrence? T stage TMA TMA site Tissue Years advancing front type age @ diag date of diag diff   envi_loc                                           gender_x gender_y lifespan pN pT radiotherapy recurrence site           site of recurrence stage survival (months)             \n",
       "True  False 1      False False False H    /mnt/b/Google_Drive/PhD/Project with Janet/Labe... 3568    C5     C5     FOM                      Other      2010-04-17    NaT                74.0          Died        yes   Y     1.0-C5  NaT                2020-04-01   2c      died other FGD                yes            pT2N2cMx         3568        3568           no          2       1.0 C5       Tumour 0.0   NaN                  74         2010-03-04   NaN    /mnt/b/Google_Drive/PhD/Project with Janet/Kohl... m        m        44 days  2c 2  no           no         floor of mouth NaN                4a    1.0               -0.233185   \n",
       "                                          /mnt/b/Google_Drive/PhD/Project with Janet/Labe... 3251    B1     B1     oral tongue              DOD        2006-07-21    NaT                70.0          Died        yes   Y     2.0-B1  NaT                2020-03-13   1       DOD        FG                 yes            pT4N1M0          3251        3251           no          4       2.0 B1       Tumour 0.0   islands              70         2006-05-31   mod    /mnt/b/Google_Drive/PhD/Project with Janet/Kohl... m        m        51 days  1  4  no           no         tongue         NaN                4     2.0                0.045182   \n",
       "      True  1      False False False I    /mnt/b/Google_Drive/PhD/Project with Janet/Labe... 3254    A2     A2     FOM                      DOD        2007-10-22    2007-08-09         48.0          Died        no    N     2.0-A2  NaT                2012-10-04   2c      DOD        CBarry             yes            pT2N2cMx         3254        3254           yes         2       2.0 A2       Tumour 1.0   islets               48         2006-06-12   mod    /mnt/b/Google_Drive/PhD/Project with Janet/Kohl... f        f        497 days 2c 2  yes          yes        floor of mouth metastases         4     15.0               0.020873   \n",
       "False False 6      False False False L    /mnt/b/Google_Drive/PhD/Project with Janet/Labe... 3481    C3     C3     oropharynx               Other      NaT           NaT                60.0          Alive       no    N     1.0-C3  2020-01-29         2020-04-24   1       alive      FGD                no             pT2N1Mx          3481        3481           no          2       1.0 C3       Tumour NaN   non cohesive type 4  72         2009-02-23   poorly /mnt/b/Google_Drive/PhD/Project with Janet/Kohl... m        m        NaT      1  2  yes          yes        oropharynx     NaN                NaN   91.0               0.060647   \n",
       "                                     I    /mnt/b/Google_Drive/PhD/Project with Janet/Labe... 3271    A10    A10    FOM                      Other      NaT           2010-07-23         59.0          Alive       yes   Y     1.0-A10 2010-07-23         2020-04-01   2b      alive      FGD                no             pT4N2bM0         3271        3271           yes         4       1.0 A10      Tumour NaN   poorly cohesive      59         2006-09-16   mod    /mnt/b/Google_Drive/PhD/Project with Janet/Kohl... m        m        NaT      2b 4  yes          yes        floor of mouth lung mets          4a    46.0               0.017122   \n",
       "\n",
       "                                                                                                                                                                                                                                                                                                                                                                                                                                                                                                                                                                                                                                                  1006.0  \\\n",
       "1year 2year 2years 3year 4year 5year ASMA Annotation_loc                                     Case ID Core_x Core_y Corrected Site AJCC/UICC DODvsAlive Date of death Date of recurrence Diagnosis Age DiedvsAlive ECS_x ECS_y ID      Last seen/reviewed Last updated N stage OUTCOME    OUTCOME.updated by Overall Death  Pathogical Stage Patient nu  Patient_Number Recurrence? T stage TMA TMA site Tissue Years advancing front type age @ diag date of diag diff   envi_loc                                           gender_x gender_y lifespan pN pT radiotherapy recurrence site           site of recurrence stage survival (months)             \n",
       "True  False 1      False False False H    /mnt/b/Google_Drive/PhD/Project with Janet/Labe... 3568    C5     C5     FOM                      Other      2010-04-17    NaT                74.0          Died        yes   Y     1.0-C5  NaT                2020-04-01   2c      died other FGD                yes            pT2N2cMx         3568        3568           no          2       1.0 C5       Tumour 0.0   NaN                  74         2010-03-04   NaN    /mnt/b/Google_Drive/PhD/Project with Janet/Kohl... m        m        44 days  2c 2  no           no         floor of mouth NaN                4a    1.0               -0.227662   \n",
       "                                          /mnt/b/Google_Drive/PhD/Project with Janet/Labe... 3251    B1     B1     oral tongue              DOD        2006-07-21    NaT                70.0          Died        yes   Y     2.0-B1  NaT                2020-03-13   1       DOD        FG                 yes            pT4N1M0          3251        3251           no          4       2.0 B1       Tumour 0.0   islands              70         2006-05-31   mod    /mnt/b/Google_Drive/PhD/Project with Janet/Kohl... m        m        51 days  1  4  no           no         tongue         NaN                4     2.0                0.046197   \n",
       "      True  1      False False False I    /mnt/b/Google_Drive/PhD/Project with Janet/Labe... 3254    A2     A2     FOM                      DOD        2007-10-22    2007-08-09         48.0          Died        no    N     2.0-A2  NaT                2012-10-04   2c      DOD        CBarry             yes            pT2N2cMx         3254        3254           yes         2       2.0 A2       Tumour 1.0   islets               48         2006-06-12   mod    /mnt/b/Google_Drive/PhD/Project with Janet/Kohl... f        f        497 days 2c 2  yes          yes        floor of mouth metastases         4     15.0               0.023867   \n",
       "False False 6      False False False L    /mnt/b/Google_Drive/PhD/Project with Janet/Labe... 3481    C3     C3     oropharynx               Other      NaT           NaT                60.0          Alive       no    N     1.0-C3  2020-01-29         2020-04-24   1       alive      FGD                no             pT2N1Mx          3481        3481           no          2       1.0 C3       Tumour NaN   non cohesive type 4  72         2009-02-23   poorly /mnt/b/Google_Drive/PhD/Project with Janet/Kohl... m        m        NaT      1  2  yes          yes        oropharynx     NaN                NaN   91.0               0.064278   \n",
       "                                     I    /mnt/b/Google_Drive/PhD/Project with Janet/Labe... 3271    A10    A10    FOM                      Other      NaT           2010-07-23         59.0          Alive       yes   Y     1.0-A10 2010-07-23         2020-04-01   2b      alive      FGD                no             pT4N2bM0         3271        3271           yes         4       1.0 A10      Tumour NaN   poorly cohesive      59         2006-09-16   mod    /mnt/b/Google_Drive/PhD/Project with Janet/Kohl... m        m        NaT      2b 4  yes          yes        floor of mouth lung mets          4a    46.0               0.017636   \n",
       "\n",
       "                                                                                                                                                                                                                                                                                                                                                                                                                                                                                                                                                                                                                                                  1010.0  \\\n",
       "1year 2year 2years 3year 4year 5year ASMA Annotation_loc                                     Case ID Core_x Core_y Corrected Site AJCC/UICC DODvsAlive Date of death Date of recurrence Diagnosis Age DiedvsAlive ECS_x ECS_y ID      Last seen/reviewed Last updated N stage OUTCOME    OUTCOME.updated by Overall Death  Pathogical Stage Patient nu  Patient_Number Recurrence? T stage TMA TMA site Tissue Years advancing front type age @ diag date of diag diff   envi_loc                                           gender_x gender_y lifespan pN pT radiotherapy recurrence site           site of recurrence stage survival (months)             \n",
       "True  False 1      False False False H    /mnt/b/Google_Drive/PhD/Project with Janet/Labe... 3568    C5     C5     FOM                      Other      2010-04-17    NaT                74.0          Died        yes   Y     1.0-C5  NaT                2020-04-01   2c      died other FGD                yes            pT2N2cMx         3568        3568           no          2       1.0 C5       Tumour 0.0   NaN                  74         2010-03-04   NaN    /mnt/b/Google_Drive/PhD/Project with Janet/Kohl... m        m        44 days  2c 2  no           no         floor of mouth NaN                4a    1.0               -0.221963   \n",
       "                                          /mnt/b/Google_Drive/PhD/Project with Janet/Labe... 3251    B1     B1     oral tongue              DOD        2006-07-21    NaT                70.0          Died        yes   Y     2.0-B1  NaT                2020-03-13   1       DOD        FG                 yes            pT4N1M0          3251        3251           no          4       2.0 B1       Tumour 0.0   islands              70         2006-05-31   mod    /mnt/b/Google_Drive/PhD/Project with Janet/Kohl... m        m        51 days  1  4  no           no         tongue         NaN                4     2.0                0.047466   \n",
       "      True  1      False False False I    /mnt/b/Google_Drive/PhD/Project with Janet/Labe... 3254    A2     A2     FOM                      DOD        2007-10-22    2007-08-09         48.0          Died        no    N     2.0-A2  NaT                2012-10-04   2c      DOD        CBarry             yes            pT2N2cMx         3254        3254           yes         2       2.0 A2       Tumour 1.0   islets               48         2006-06-12   mod    /mnt/b/Google_Drive/PhD/Project with Janet/Kohl... f        f        497 days 2c 2  yes          yes        floor of mouth metastases         4     15.0               0.026390   \n",
       "False False 6      False False False L    /mnt/b/Google_Drive/PhD/Project with Janet/Labe... 3481    C3     C3     oropharynx               Other      NaT           NaT                60.0          Alive       no    N     1.0-C3  2020-01-29         2020-04-24   1       alive      FGD                no             pT2N1Mx          3481        3481           no          2       1.0 C3       Tumour NaN   non cohesive type 4  72         2009-02-23   poorly /mnt/b/Google_Drive/PhD/Project with Janet/Kohl... m        m        NaT      1  2  yes          yes        oropharynx     NaN                NaN   91.0               0.068306   \n",
       "                                     I    /mnt/b/Google_Drive/PhD/Project with Janet/Labe... 3271    A10    A10    FOM                      Other      NaT           2010-07-23         59.0          Alive       yes   Y     1.0-A10 2010-07-23         2020-04-01   2b      alive      FGD                no             pT4N2bM0         3271        3271           yes         4       1.0 A10      Tumour NaN   poorly cohesive      59         2006-09-16   mod    /mnt/b/Google_Drive/PhD/Project with Janet/Kohl... m        m        NaT      2b 4  yes          yes        floor of mouth lung mets          4a    46.0               0.018895   \n",
       "\n",
       "                                                                                                                                                                                                                                                                                                                                                                                                                                                                                                                                                                                                                                                  1014.0  \\\n",
       "1year 2year 2years 3year 4year 5year ASMA Annotation_loc                                     Case ID Core_x Core_y Corrected Site AJCC/UICC DODvsAlive Date of death Date of recurrence Diagnosis Age DiedvsAlive ECS_x ECS_y ID      Last seen/reviewed Last updated N stage OUTCOME    OUTCOME.updated by Overall Death  Pathogical Stage Patient nu  Patient_Number Recurrence? T stage TMA TMA site Tissue Years advancing front type age @ diag date of diag diff   envi_loc                                           gender_x gender_y lifespan pN pT radiotherapy recurrence site           site of recurrence stage survival (months)             \n",
       "True  False 1      False False False H    /mnt/b/Google_Drive/PhD/Project with Janet/Labe... 3568    C5     C5     FOM                      Other      2010-04-17    NaT                74.0          Died        yes   Y     1.0-C5  NaT                2020-04-01   2c      died other FGD                yes            pT2N2cMx         3568        3568           no          2       1.0 C5       Tumour 0.0   NaN                  74         2010-03-04   NaN    /mnt/b/Google_Drive/PhD/Project with Janet/Kohl... m        m        44 days  2c 2  no           no         floor of mouth NaN                4a    1.0               -0.215823   \n",
       "                                          /mnt/b/Google_Drive/PhD/Project with Janet/Labe... 3251    B1     B1     oral tongue              DOD        2006-07-21    NaT                70.0          Died        yes   Y     2.0-B1  NaT                2020-03-13   1       DOD        FG                 yes            pT4N1M0          3251        3251           no          4       2.0 B1       Tumour 0.0   islands              70         2006-05-31   mod    /mnt/b/Google_Drive/PhD/Project with Janet/Kohl... m        m        51 days  1  4  no           no         tongue         NaN                4     2.0                0.048908   \n",
       "      True  1      False False False I    /mnt/b/Google_Drive/PhD/Project with Janet/Labe... 3254    A2     A2     FOM                      DOD        2007-10-22    2007-08-09         48.0          Died        no    N     2.0-A2  NaT                2012-10-04   2c      DOD        CBarry             yes            pT2N2cMx         3254        3254           yes         2       2.0 A2       Tumour 1.0   islets               48         2006-06-12   mod    /mnt/b/Google_Drive/PhD/Project with Janet/Kohl... f        f        497 days 2c 2  yes          yes        floor of mouth metastases         4     15.0               0.028574   \n",
       "False False 6      False False False L    /mnt/b/Google_Drive/PhD/Project with Janet/Labe... 3481    C3     C3     oropharynx               Other      NaT           NaT                60.0          Alive       no    N     1.0-C3  2020-01-29         2020-04-24   1       alive      FGD                no             pT2N1Mx          3481        3481           no          2       1.0 C3       Tumour NaN   non cohesive type 4  72         2009-02-23   poorly /mnt/b/Google_Drive/PhD/Project with Janet/Kohl... m        m        NaT      1  2  yes          yes        oropharynx     NaN                NaN   91.0               0.072674   \n",
       "                                     I    /mnt/b/Google_Drive/PhD/Project with Janet/Labe... 3271    A10    A10    FOM                      Other      NaT           2010-07-23         59.0          Alive       yes   Y     1.0-A10 2010-07-23         2020-04-01   2b      alive      FGD                no             pT4N2bM0         3271        3271           yes         4       1.0 A10      Tumour NaN   poorly cohesive      59         2006-09-16   mod    /mnt/b/Google_Drive/PhD/Project with Janet/Kohl... m        m        NaT      2b 4  yes          yes        floor of mouth lung mets          4a    46.0               0.020689   \n",
       "\n",
       "                                                                                                                                                                                                                                                                                                                                                                                                                                                                                                                                                                                                                                                  1018.0  \\\n",
       "1year 2year 2years 3year 4year 5year ASMA Annotation_loc                                     Case ID Core_x Core_y Corrected Site AJCC/UICC DODvsAlive Date of death Date of recurrence Diagnosis Age DiedvsAlive ECS_x ECS_y ID      Last seen/reviewed Last updated N stage OUTCOME    OUTCOME.updated by Overall Death  Pathogical Stage Patient nu  Patient_Number Recurrence? T stage TMA TMA site Tissue Years advancing front type age @ diag date of diag diff   envi_loc                                           gender_x gender_y lifespan pN pT radiotherapy recurrence site           site of recurrence stage survival (months)             \n",
       "True  False 1      False False False H    /mnt/b/Google_Drive/PhD/Project with Janet/Labe... 3568    C5     C5     FOM                      Other      2010-04-17    NaT                74.0          Died        yes   Y     1.0-C5  NaT                2020-04-01   2c      died other FGD                yes            pT2N2cMx         3568        3568           no          2       1.0 C5       Tumour 0.0   NaN                  74         2010-03-04   NaN    /mnt/b/Google_Drive/PhD/Project with Janet/Kohl... m        m        44 days  2c 2  no           no         floor of mouth NaN                4a    1.0               -0.208976   \n",
       "                                          /mnt/b/Google_Drive/PhD/Project with Janet/Labe... 3251    B1     B1     oral tongue              DOD        2006-07-21    NaT                70.0          Died        yes   Y     2.0-B1  NaT                2020-03-13   1       DOD        FG                 yes            pT4N1M0          3251        3251           no          4       2.0 B1       Tumour 0.0   islands              70         2006-05-31   mod    /mnt/b/Google_Drive/PhD/Project with Janet/Kohl... m        m        51 days  1  4  no           no         tongue         NaN                4     2.0                0.050442   \n",
       "      True  1      False False False I    /mnt/b/Google_Drive/PhD/Project with Janet/Labe... 3254    A2     A2     FOM                      DOD        2007-10-22    2007-08-09         48.0          Died        no    N     2.0-A2  NaT                2012-10-04   2c      DOD        CBarry             yes            pT2N2cMx         3254        3254           yes         2       2.0 A2       Tumour 1.0   islets               48         2006-06-12   mod    /mnt/b/Google_Drive/PhD/Project with Janet/Kohl... f        f        497 days 2c 2  yes          yes        floor of mouth metastases         4     15.0               0.030550   \n",
       "False False 6      False False False L    /mnt/b/Google_Drive/PhD/Project with Janet/Labe... 3481    C3     C3     oropharynx               Other      NaT           NaT                60.0          Alive       no    N     1.0-C3  2020-01-29         2020-04-24   1       alive      FGD                no             pT2N1Mx          3481        3481           no          2       1.0 C3       Tumour NaN   non cohesive type 4  72         2009-02-23   poorly /mnt/b/Google_Drive/PhD/Project with Janet/Kohl... m        m        NaT      1  2  yes          yes        oropharynx     NaN                NaN   91.0               0.077325   \n",
       "                                     I    /mnt/b/Google_Drive/PhD/Project with Janet/Labe... 3271    A10    A10    FOM                      Other      NaT           2010-07-23         59.0          Alive       yes   Y     1.0-A10 2010-07-23         2020-04-01   2b      alive      FGD                no             pT4N2bM0         3271        3271           yes         4       1.0 A10      Tumour NaN   poorly cohesive      59         2006-09-16   mod    /mnt/b/Google_Drive/PhD/Project with Janet/Kohl... m        m        NaT      2b 4  yes          yes        floor of mouth lung mets          4a    46.0               0.022809   \n",
       "\n",
       "                                                                                                                                                                                                                                                                                                                                                                                                                                                                                                                                                                                                                                                  1022.0  \\\n",
       "1year 2year 2years 3year 4year 5year ASMA Annotation_loc                                     Case ID Core_x Core_y Corrected Site AJCC/UICC DODvsAlive Date of death Date of recurrence Diagnosis Age DiedvsAlive ECS_x ECS_y ID      Last seen/reviewed Last updated N stage OUTCOME    OUTCOME.updated by Overall Death  Pathogical Stage Patient nu  Patient_Number Recurrence? T stage TMA TMA site Tissue Years advancing front type age @ diag date of diag diff   envi_loc                                           gender_x gender_y lifespan pN pT radiotherapy recurrence site           site of recurrence stage survival (months)             \n",
       "True  False 1      False False False H    /mnt/b/Google_Drive/PhD/Project with Janet/Labe... 3568    C5     C5     FOM                      Other      2010-04-17    NaT                74.0          Died        yes   Y     1.0-C5  NaT                2020-04-01   2c      died other FGD                yes            pT2N2cMx         3568        3568           no          2       1.0 C5       Tumour 0.0   NaN                  74         2010-03-04   NaN    /mnt/b/Google_Drive/PhD/Project with Janet/Kohl... m        m        44 days  2c 2  no           no         floor of mouth NaN                4a    1.0               -0.199743   \n",
       "                                          /mnt/b/Google_Drive/PhD/Project with Janet/Labe... 3251    B1     B1     oral tongue              DOD        2006-07-21    NaT                70.0          Died        yes   Y     2.0-B1  NaT                2020-03-13   1       DOD        FG                 yes            pT4N1M0          3251        3251           no          4       2.0 B1       Tumour 0.0   islands              70         2006-05-31   mod    /mnt/b/Google_Drive/PhD/Project with Janet/Kohl... m        m        51 days  1  4  no           no         tongue         NaN                4     2.0                0.051687   \n",
       "      True  1      False False False I    /mnt/b/Google_Drive/PhD/Project with Janet/Labe... 3254    A2     A2     FOM                      DOD        2007-10-22    2007-08-09         48.0          Died        no    N     2.0-A2  NaT                2012-10-04   2c      DOD        CBarry             yes            pT2N2cMx         3254        3254           yes         2       2.0 A2       Tumour 1.0   islets               48         2006-06-12   mod    /mnt/b/Google_Drive/PhD/Project with Janet/Kohl... f        f        497 days 2c 2  yes          yes        floor of mouth metastases         4     15.0               0.032386   \n",
       "False False 6      False False False L    /mnt/b/Google_Drive/PhD/Project with Janet/Labe... 3481    C3     C3     oropharynx               Other      NaT           NaT                60.0          Alive       no    N     1.0-C3  2020-01-29         2020-04-24   1       alive      FGD                no             pT2N1Mx          3481        3481           no          2       1.0 C3       Tumour NaN   non cohesive type 4  72         2009-02-23   poorly /mnt/b/Google_Drive/PhD/Project with Janet/Kohl... m        m        NaT      1  2  yes          yes        oropharynx     NaN                NaN   91.0               0.081957   \n",
       "                                     I    /mnt/b/Google_Drive/PhD/Project with Janet/Labe... 3271    A10    A10    FOM                      Other      NaT           2010-07-23         59.0          Alive       yes   Y     1.0-A10 2010-07-23         2020-04-01   2b      alive      FGD                no             pT4N2bM0         3271        3271           yes         4       1.0 A10      Tumour NaN   poorly cohesive      59         2006-09-16   mod    /mnt/b/Google_Drive/PhD/Project with Janet/Kohl... m        m        NaT      2b 4  yes          yes        floor of mouth lung mets          4a    46.0               0.024217   \n",
       "\n",
       "                                                                                                                                                                                                                                                                                                                                                                                                                                                                                                                                                                                                                                                  1025.0  \\\n",
       "1year 2year 2years 3year 4year 5year ASMA Annotation_loc                                     Case ID Core_x Core_y Corrected Site AJCC/UICC DODvsAlive Date of death Date of recurrence Diagnosis Age DiedvsAlive ECS_x ECS_y ID      Last seen/reviewed Last updated N stage OUTCOME    OUTCOME.updated by Overall Death  Pathogical Stage Patient nu  Patient_Number Recurrence? T stage TMA TMA site Tissue Years advancing front type age @ diag date of diag diff   envi_loc                                           gender_x gender_y lifespan pN pT radiotherapy recurrence site           site of recurrence stage survival (months)             \n",
       "True  False 1      False False False H    /mnt/b/Google_Drive/PhD/Project with Janet/Labe... 3568    C5     C5     FOM                      Other      2010-04-17    NaT                74.0          Died        yes   Y     1.0-C5  NaT                2020-04-01   2c      died other FGD                yes            pT2N2cMx         3568        3568           no          2       1.0 C5       Tumour 0.0   NaN                  74         2010-03-04   NaN    /mnt/b/Google_Drive/PhD/Project with Janet/Kohl... m        m        44 days  2c 2  no           no         floor of mouth NaN                4a    1.0               -0.189330   \n",
       "                                          /mnt/b/Google_Drive/PhD/Project with Janet/Labe... 3251    B1     B1     oral tongue              DOD        2006-07-21    NaT                70.0          Died        yes   Y     2.0-B1  NaT                2020-03-13   1       DOD        FG                 yes            pT4N1M0          3251        3251           no          4       2.0 B1       Tumour 0.0   islands              70         2006-05-31   mod    /mnt/b/Google_Drive/PhD/Project with Janet/Kohl... m        m        51 days  1  4  no           no         tongue         NaN                4     2.0                0.053041   \n",
       "      True  1      False False False I    /mnt/b/Google_Drive/PhD/Project with Janet/Labe... 3254    A2     A2     FOM                      DOD        2007-10-22    2007-08-09         48.0          Died        no    N     2.0-A2  NaT                2012-10-04   2c      DOD        CBarry             yes            pT2N2cMx         3254        3254           yes         2       2.0 A2       Tumour 1.0   islets               48         2006-06-12   mod    /mnt/b/Google_Drive/PhD/Project with Janet/Kohl... f        f        497 days 2c 2  yes          yes        floor of mouth metastases         4     15.0               0.034457   \n",
       "False False 6      False False False L    /mnt/b/Google_Drive/PhD/Project with Janet/Labe... 3481    C3     C3     oropharynx               Other      NaT           NaT                60.0          Alive       no    N     1.0-C3  2020-01-29         2020-04-24   1       alive      FGD                no             pT2N1Mx          3481        3481           no          2       1.0 C3       Tumour NaN   non cohesive type 4  72         2009-02-23   poorly /mnt/b/Google_Drive/PhD/Project with Janet/Kohl... m        m        NaT      1  2  yes          yes        oropharynx     NaN                NaN   91.0               0.087096   \n",
       "                                     I    /mnt/b/Google_Drive/PhD/Project with Janet/Labe... 3271    A10    A10    FOM                      Other      NaT           2010-07-23         59.0          Alive       yes   Y     1.0-A10 2010-07-23         2020-04-01   2b      alive      FGD                no             pT4N2bM0         3271        3271           yes         4       1.0 A10      Tumour NaN   poorly cohesive      59         2006-09-16   mod    /mnt/b/Google_Drive/PhD/Project with Janet/Kohl... m        m        NaT      2b 4  yes          yes        floor of mouth lung mets          4a    46.0               0.026406   \n",
       "\n",
       "                                                                                                                                                                                                                                                                                                                                                                                                                                                                                                                                                                                                                                                  1029.0  \\\n",
       "1year 2year 2years 3year 4year 5year ASMA Annotation_loc                                     Case ID Core_x Core_y Corrected Site AJCC/UICC DODvsAlive Date of death Date of recurrence Diagnosis Age DiedvsAlive ECS_x ECS_y ID      Last seen/reviewed Last updated N stage OUTCOME    OUTCOME.updated by Overall Death  Pathogical Stage Patient nu  Patient_Number Recurrence? T stage TMA TMA site Tissue Years advancing front type age @ diag date of diag diff   envi_loc                                           gender_x gender_y lifespan pN pT radiotherapy recurrence site           site of recurrence stage survival (months)             \n",
       "True  False 1      False False False H    /mnt/b/Google_Drive/PhD/Project with Janet/Labe... 3568    C5     C5     FOM                      Other      2010-04-17    NaT                74.0          Died        yes   Y     1.0-C5  NaT                2020-04-01   2c      died other FGD                yes            pT2N2cMx         3568        3568           no          2       1.0 C5       Tumour 0.0   NaN                  74         2010-03-04   NaN    /mnt/b/Google_Drive/PhD/Project with Janet/Kohl... m        m        44 days  2c 2  no           no         floor of mouth NaN                4a    1.0               -0.179678   \n",
       "                                          /mnt/b/Google_Drive/PhD/Project with Janet/Labe... 3251    B1     B1     oral tongue              DOD        2006-07-21    NaT                70.0          Died        yes   Y     2.0-B1  NaT                2020-03-13   1       DOD        FG                 yes            pT4N1M0          3251        3251           no          4       2.0 B1       Tumour 0.0   islands              70         2006-05-31   mod    /mnt/b/Google_Drive/PhD/Project with Janet/Kohl... m        m        51 days  1  4  no           no         tongue         NaN                4     2.0                0.054683   \n",
       "      True  1      False False False I    /mnt/b/Google_Drive/PhD/Project with Janet/Labe... 3254    A2     A2     FOM                      DOD        2007-10-22    2007-08-09         48.0          Died        no    N     2.0-A2  NaT                2012-10-04   2c      DOD        CBarry             yes            pT2N2cMx         3254        3254           yes         2       2.0 A2       Tumour 1.0   islets               48         2006-06-12   mod    /mnt/b/Google_Drive/PhD/Project with Janet/Kohl... f        f        497 days 2c 2  yes          yes        floor of mouth metastases         4     15.0               0.036573   \n",
       "False False 6      False False False L    /mnt/b/Google_Drive/PhD/Project with Janet/Labe... 3481    C3     C3     oropharynx               Other      NaT           NaT                60.0          Alive       no    N     1.0-C3  2020-01-29         2020-04-24   1       alive      FGD                no             pT2N1Mx          3481        3481           no          2       1.0 C3       Tumour NaN   non cohesive type 4  72         2009-02-23   poorly /mnt/b/Google_Drive/PhD/Project with Janet/Kohl... m        m        NaT      1  2  yes          yes        oropharynx     NaN                NaN   91.0               0.091883   \n",
       "                                     I    /mnt/b/Google_Drive/PhD/Project with Janet/Labe... 3271    A10    A10    FOM                      Other      NaT           2010-07-23         59.0          Alive       yes   Y     1.0-A10 2010-07-23         2020-04-01   2b      alive      FGD                no             pT4N2bM0         3271        3271           yes         4       1.0 A10      Tumour NaN   poorly cohesive      59         2006-09-16   mod    /mnt/b/Google_Drive/PhD/Project with Janet/Kohl... m        m        NaT      2b 4  yes          yes        floor of mouth lung mets          4a    46.0               0.028721   \n",
       "\n",
       "                                                                                                                                                                                                                                                                                                                                                                                                                                                                                                                                                                                                                                                  1033.0  \\\n",
       "1year 2year 2years 3year 4year 5year ASMA Annotation_loc                                     Case ID Core_x Core_y Corrected Site AJCC/UICC DODvsAlive Date of death Date of recurrence Diagnosis Age DiedvsAlive ECS_x ECS_y ID      Last seen/reviewed Last updated N stage OUTCOME    OUTCOME.updated by Overall Death  Pathogical Stage Patient nu  Patient_Number Recurrence? T stage TMA TMA site Tissue Years advancing front type age @ diag date of diag diff   envi_loc                                           gender_x gender_y lifespan pN pT radiotherapy recurrence site           site of recurrence stage survival (months)             \n",
       "True  False 1      False False False H    /mnt/b/Google_Drive/PhD/Project with Janet/Labe... 3568    C5     C5     FOM                      Other      2010-04-17    NaT                74.0          Died        yes   Y     1.0-C5  NaT                2020-04-01   2c      died other FGD                yes            pT2N2cMx         3568        3568           no          2       1.0 C5       Tumour 0.0   NaN                  74         2010-03-04   NaN    /mnt/b/Google_Drive/PhD/Project with Janet/Kohl... m        m        44 days  2c 2  no           no         floor of mouth NaN                4a    1.0               -0.171440   \n",
       "                                          /mnt/b/Google_Drive/PhD/Project with Janet/Labe... 3251    B1     B1     oral tongue              DOD        2006-07-21    NaT                70.0          Died        yes   Y     2.0-B1  NaT                2020-03-13   1       DOD        FG                 yes            pT4N1M0          3251        3251           no          4       2.0 B1       Tumour 0.0   islands              70         2006-05-31   mod    /mnt/b/Google_Drive/PhD/Project with Janet/Kohl... m        m        51 days  1  4  no           no         tongue         NaN                4     2.0                0.056420   \n",
       "      True  1      False False False I    /mnt/b/Google_Drive/PhD/Project with Janet/Labe... 3254    A2     A2     FOM                      DOD        2007-10-22    2007-08-09         48.0          Died        no    N     2.0-A2  NaT                2012-10-04   2c      DOD        CBarry             yes            pT2N2cMx         3254        3254           yes         2       2.0 A2       Tumour 1.0   islets               48         2006-06-12   mod    /mnt/b/Google_Drive/PhD/Project with Janet/Kohl... f        f        497 days 2c 2  yes          yes        floor of mouth metastases         4     15.0               0.038921   \n",
       "False False 6      False False False L    /mnt/b/Google_Drive/PhD/Project with Janet/Labe... 3481    C3     C3     oropharynx               Other      NaT           NaT                60.0          Alive       no    N     1.0-C3  2020-01-29         2020-04-24   1       alive      FGD                no             pT2N1Mx          3481        3481           no          2       1.0 C3       Tumour NaN   non cohesive type 4  72         2009-02-23   poorly /mnt/b/Google_Drive/PhD/Project with Janet/Kohl... m        m        NaT      1  2  yes          yes        oropharynx     NaN                NaN   91.0               0.096552   \n",
       "                                     I    /mnt/b/Google_Drive/PhD/Project with Janet/Labe... 3271    A10    A10    FOM                      Other      NaT           2010-07-23         59.0          Alive       yes   Y     1.0-A10 2010-07-23         2020-04-01   2b      alive      FGD                no             pT4N2bM0         3271        3271           yes         4       1.0 A10      Tumour NaN   poorly cohesive      59         2006-09-16   mod    /mnt/b/Google_Drive/PhD/Project with Janet/Kohl... m        m        NaT      2b 4  yes          yes        floor of mouth lung mets          4a    46.0               0.030804   \n",
       "\n",
       "                                                                                                                                                                                                                                                                                                                                                                                                                                                                                                                                                                                                                                                ...  \\\n",
       "1year 2year 2years 3year 4year 5year ASMA Annotation_loc                                     Case ID Core_x Core_y Corrected Site AJCC/UICC DODvsAlive Date of death Date of recurrence Diagnosis Age DiedvsAlive ECS_x ECS_y ID      Last seen/reviewed Last updated N stage OUTCOME    OUTCOME.updated by Overall Death  Pathogical Stage Patient nu  Patient_Number Recurrence? T stage TMA TMA site Tissue Years advancing front type age @ diag date of diag diff   envi_loc                                           gender_x gender_y lifespan pN pT radiotherapy recurrence site           site of recurrence stage survival (months)  ...   \n",
       "True  False 1      False False False H    /mnt/b/Google_Drive/PhD/Project with Janet/Labe... 3568    C5     C5     FOM                      Other      2010-04-17    NaT                74.0          Died        yes   Y     1.0-C5  NaT                2020-04-01   2c      died other FGD                yes            pT2N2cMx         3568        3568           no          2       1.0 C5       Tumour 0.0   NaN                  74         2010-03-04   NaN    /mnt/b/Google_Drive/PhD/Project with Janet/Kohl... m        m        44 days  2c 2  no           no         floor of mouth NaN                4a    1.0                ...   \n",
       "                                          /mnt/b/Google_Drive/PhD/Project with Janet/Labe... 3251    B1     B1     oral tongue              DOD        2006-07-21    NaT                70.0          Died        yes   Y     2.0-B1  NaT                2020-03-13   1       DOD        FG                 yes            pT4N1M0          3251        3251           no          4       2.0 B1       Tumour 0.0   islands              70         2006-05-31   mod    /mnt/b/Google_Drive/PhD/Project with Janet/Kohl... m        m        51 days  1  4  no           no         tongue         NaN                4     2.0                ...   \n",
       "      True  1      False False False I    /mnt/b/Google_Drive/PhD/Project with Janet/Labe... 3254    A2     A2     FOM                      DOD        2007-10-22    2007-08-09         48.0          Died        no    N     2.0-A2  NaT                2012-10-04   2c      DOD        CBarry             yes            pT2N2cMx         3254        3254           yes         2       2.0 A2       Tumour 1.0   islets               48         2006-06-12   mod    /mnt/b/Google_Drive/PhD/Project with Janet/Kohl... f        f        497 days 2c 2  yes          yes        floor of mouth metastases         4     15.0               ...   \n",
       "False False 6      False False False L    /mnt/b/Google_Drive/PhD/Project with Janet/Labe... 3481    C3     C3     oropharynx               Other      NaT           NaT                60.0          Alive       no    N     1.0-C3  2020-01-29         2020-04-24   1       alive      FGD                no             pT2N1Mx          3481        3481           no          2       1.0 C3       Tumour NaN   non cohesive type 4  72         2009-02-23   poorly /mnt/b/Google_Drive/PhD/Project with Janet/Kohl... m        m        NaT      1  2  yes          yes        oropharynx     NaN                NaN   91.0               ...   \n",
       "                                     I    /mnt/b/Google_Drive/PhD/Project with Janet/Labe... 3271    A10    A10    FOM                      Other      NaT           2010-07-23         59.0          Alive       yes   Y     1.0-A10 2010-07-23         2020-04-01   2b      alive      FGD                no             pT4N2bM0         3271        3271           yes         4       1.0 A10      Tumour NaN   poorly cohesive      59         2006-09-16   mod    /mnt/b/Google_Drive/PhD/Project with Janet/Kohl... m        m        NaT      2b 4  yes          yes        floor of mouth lung mets          4a    46.0               ...   \n",
       "\n",
       "                                                                                                                                                                                                                                                                                                                                                                                                                                                                                                                                                                                                                                                  1762.0  \\\n",
       "1year 2year 2years 3year 4year 5year ASMA Annotation_loc                                     Case ID Core_x Core_y Corrected Site AJCC/UICC DODvsAlive Date of death Date of recurrence Diagnosis Age DiedvsAlive ECS_x ECS_y ID      Last seen/reviewed Last updated N stage OUTCOME    OUTCOME.updated by Overall Death  Pathogical Stage Patient nu  Patient_Number Recurrence? T stage TMA TMA site Tissue Years advancing front type age @ diag date of diag diff   envi_loc                                           gender_x gender_y lifespan pN pT radiotherapy recurrence site           site of recurrence stage survival (months)             \n",
       "True  False 1      False False False H    /mnt/b/Google_Drive/PhD/Project with Janet/Labe... 3568    C5     C5     FOM                      Other      2010-04-17    NaT                74.0          Died        yes   Y     1.0-C5  NaT                2020-04-01   2c      died other FGD                yes            pT2N2cMx         3568        3568           no          2       1.0 C5       Tumour 0.0   NaN                  74         2010-03-04   NaN    /mnt/b/Google_Drive/PhD/Project with Janet/Kohl... m        m        44 days  2c 2  no           no         floor of mouth NaN                4a    1.0               -0.284733   \n",
       "                                          /mnt/b/Google_Drive/PhD/Project with Janet/Labe... 3251    B1     B1     oral tongue              DOD        2006-07-21    NaT                70.0          Died        yes   Y     2.0-B1  NaT                2020-03-13   1       DOD        FG                 yes            pT4N1M0          3251        3251           no          4       2.0 B1       Tumour 0.0   islands              70         2006-05-31   mod    /mnt/b/Google_Drive/PhD/Project with Janet/Kohl... m        m        51 days  1  4  no           no         tongue         NaN                4     2.0                0.044130   \n",
       "      True  1      False False False I    /mnt/b/Google_Drive/PhD/Project with Janet/Labe... 3254    A2     A2     FOM                      DOD        2007-10-22    2007-08-09         48.0          Died        no    N     2.0-A2  NaT                2012-10-04   2c      DOD        CBarry             yes            pT2N2cMx         3254        3254           yes         2       2.0 A2       Tumour 1.0   islets               48         2006-06-12   mod    /mnt/b/Google_Drive/PhD/Project with Janet/Kohl... f        f        497 days 2c 2  yes          yes        floor of mouth metastases         4     15.0               0.011259   \n",
       "False False 6      False False False L    /mnt/b/Google_Drive/PhD/Project with Janet/Labe... 3481    C3     C3     oropharynx               Other      NaT           NaT                60.0          Alive       no    N     1.0-C3  2020-01-29         2020-04-24   1       alive      FGD                no             pT2N1Mx          3481        3481           no          2       1.0 C3       Tumour NaN   non cohesive type 4  72         2009-02-23   poorly /mnt/b/Google_Drive/PhD/Project with Janet/Kohl... m        m        NaT      1  2  yes          yes        oropharynx     NaN                NaN   91.0               0.046334   \n",
       "                                     I    /mnt/b/Google_Drive/PhD/Project with Janet/Labe... 3271    A10    A10    FOM                      Other      NaT           2010-07-23         59.0          Alive       yes   Y     1.0-A10 2010-07-23         2020-04-01   2b      alive      FGD                no             pT4N2bM0         3271        3271           yes         4       1.0 A10      Tumour NaN   poorly cohesive      59         2006-09-16   mod    /mnt/b/Google_Drive/PhD/Project with Janet/Kohl... m        m        NaT      2b 4  yes          yes        floor of mouth lung mets          4a    46.0               0.018349   \n",
       "\n",
       "                                                                                                                                                                                                                                                                                                                                                                                                                                                                                                                                                                                                                                                  1766.0  \\\n",
       "1year 2year 2years 3year 4year 5year ASMA Annotation_loc                                     Case ID Core_x Core_y Corrected Site AJCC/UICC DODvsAlive Date of death Date of recurrence Diagnosis Age DiedvsAlive ECS_x ECS_y ID      Last seen/reviewed Last updated N stage OUTCOME    OUTCOME.updated by Overall Death  Pathogical Stage Patient nu  Patient_Number Recurrence? T stage TMA TMA site Tissue Years advancing front type age @ diag date of diag diff   envi_loc                                           gender_x gender_y lifespan pN pT radiotherapy recurrence site           site of recurrence stage survival (months)             \n",
       "True  False 1      False False False H    /mnt/b/Google_Drive/PhD/Project with Janet/Labe... 3568    C5     C5     FOM                      Other      2010-04-17    NaT                74.0          Died        yes   Y     1.0-C5  NaT                2020-04-01   2c      died other FGD                yes            pT2N2cMx         3568        3568           no          2       1.0 C5       Tumour 0.0   NaN                  74         2010-03-04   NaN    /mnt/b/Google_Drive/PhD/Project with Janet/Kohl... m        m        44 days  2c 2  no           no         floor of mouth NaN                4a    1.0               -0.283587   \n",
       "                                          /mnt/b/Google_Drive/PhD/Project with Janet/Labe... 3251    B1     B1     oral tongue              DOD        2006-07-21    NaT                70.0          Died        yes   Y     2.0-B1  NaT                2020-03-13   1       DOD        FG                 yes            pT4N1M0          3251        3251           no          4       2.0 B1       Tumour 0.0   islands              70         2006-05-31   mod    /mnt/b/Google_Drive/PhD/Project with Janet/Kohl... m        m        51 days  1  4  no           no         tongue         NaN                4     2.0                0.044457   \n",
       "      True  1      False False False I    /mnt/b/Google_Drive/PhD/Project with Janet/Labe... 3254    A2     A2     FOM                      DOD        2007-10-22    2007-08-09         48.0          Died        no    N     2.0-A2  NaT                2012-10-04   2c      DOD        CBarry             yes            pT2N2cMx         3254        3254           yes         2       2.0 A2       Tumour 1.0   islets               48         2006-06-12   mod    /mnt/b/Google_Drive/PhD/Project with Janet/Kohl... f        f        497 days 2c 2  yes          yes        floor of mouth metastases         4     15.0               0.011511   \n",
       "False False 6      False False False L    /mnt/b/Google_Drive/PhD/Project with Janet/Labe... 3481    C3     C3     oropharynx               Other      NaT           NaT                60.0          Alive       no    N     1.0-C3  2020-01-29         2020-04-24   1       alive      FGD                no             pT2N1Mx          3481        3481           no          2       1.0 C3       Tumour NaN   non cohesive type 4  72         2009-02-23   poorly /mnt/b/Google_Drive/PhD/Project with Janet/Kohl... m        m        NaT      1  2  yes          yes        oropharynx     NaN                NaN   91.0               0.045954   \n",
       "                                     I    /mnt/b/Google_Drive/PhD/Project with Janet/Labe... 3271    A10    A10    FOM                      Other      NaT           2010-07-23         59.0          Alive       yes   Y     1.0-A10 2010-07-23         2020-04-01   2b      alive      FGD                no             pT4N2bM0         3271        3271           yes         4       1.0 A10      Tumour NaN   poorly cohesive      59         2006-09-16   mod    /mnt/b/Google_Drive/PhD/Project with Janet/Kohl... m        m        NaT      2b 4  yes          yes        floor of mouth lung mets          4a    46.0               0.017933   \n",
       "\n",
       "                                                                                                                                                                                                                                                                                                                                                                                                                                                                                                                                                                                                                                                  1770.0  \\\n",
       "1year 2year 2years 3year 4year 5year ASMA Annotation_loc                                     Case ID Core_x Core_y Corrected Site AJCC/UICC DODvsAlive Date of death Date of recurrence Diagnosis Age DiedvsAlive ECS_x ECS_y ID      Last seen/reviewed Last updated N stage OUTCOME    OUTCOME.updated by Overall Death  Pathogical Stage Patient nu  Patient_Number Recurrence? T stage TMA TMA site Tissue Years advancing front type age @ diag date of diag diff   envi_loc                                           gender_x gender_y lifespan pN pT radiotherapy recurrence site           site of recurrence stage survival (months)             \n",
       "True  False 1      False False False H    /mnt/b/Google_Drive/PhD/Project with Janet/Labe... 3568    C5     C5     FOM                      Other      2010-04-17    NaT                74.0          Died        yes   Y     1.0-C5  NaT                2020-04-01   2c      died other FGD                yes            pT2N2cMx         3568        3568           no          2       1.0 C5       Tumour 0.0   NaN                  74         2010-03-04   NaN    /mnt/b/Google_Drive/PhD/Project with Janet/Kohl... m        m        44 days  2c 2  no           no         floor of mouth NaN                4a    1.0               -0.282838   \n",
       "                                          /mnt/b/Google_Drive/PhD/Project with Janet/Labe... 3251    B1     B1     oral tongue              DOD        2006-07-21    NaT                70.0          Died        yes   Y     2.0-B1  NaT                2020-03-13   1       DOD        FG                 yes            pT4N1M0          3251        3251           no          4       2.0 B1       Tumour 0.0   islands              70         2006-05-31   mod    /mnt/b/Google_Drive/PhD/Project with Janet/Kohl... m        m        51 days  1  4  no           no         tongue         NaN                4     2.0                0.044754   \n",
       "      True  1      False False False I    /mnt/b/Google_Drive/PhD/Project with Janet/Labe... 3254    A2     A2     FOM                      DOD        2007-10-22    2007-08-09         48.0          Died        no    N     2.0-A2  NaT                2012-10-04   2c      DOD        CBarry             yes            pT2N2cMx         3254        3254           yes         2       2.0 A2       Tumour 1.0   islets               48         2006-06-12   mod    /mnt/b/Google_Drive/PhD/Project with Janet/Kohl... f        f        497 days 2c 2  yes          yes        floor of mouth metastases         4     15.0               0.012302   \n",
       "False False 6      False False False L    /mnt/b/Google_Drive/PhD/Project with Janet/Labe... 3481    C3     C3     oropharynx               Other      NaT           NaT                60.0          Alive       no    N     1.0-C3  2020-01-29         2020-04-24   1       alive      FGD                no             pT2N1Mx          3481        3481           no          2       1.0 C3       Tumour NaN   non cohesive type 4  72         2009-02-23   poorly /mnt/b/Google_Drive/PhD/Project with Janet/Kohl... m        m        NaT      1  2  yes          yes        oropharynx     NaN                NaN   91.0               0.045936   \n",
       "                                     I    /mnt/b/Google_Drive/PhD/Project with Janet/Labe... 3271    A10    A10    FOM                      Other      NaT           2010-07-23         59.0          Alive       yes   Y     1.0-A10 2010-07-23         2020-04-01   2b      alive      FGD                no             pT4N2bM0         3271        3271           yes         4       1.0 A10      Tumour NaN   poorly cohesive      59         2006-09-16   mod    /mnt/b/Google_Drive/PhD/Project with Janet/Kohl... m        m        NaT      2b 4  yes          yes        floor of mouth lung mets          4a    46.0               0.017620   \n",
       "\n",
       "                                                                                                                                                                                                                                                                                                                                                                                                                                                                                                                                                                                                                                                  1774.0  \\\n",
       "1year 2year 2years 3year 4year 5year ASMA Annotation_loc                                     Case ID Core_x Core_y Corrected Site AJCC/UICC DODvsAlive Date of death Date of recurrence Diagnosis Age DiedvsAlive ECS_x ECS_y ID      Last seen/reviewed Last updated N stage OUTCOME    OUTCOME.updated by Overall Death  Pathogical Stage Patient nu  Patient_Number Recurrence? T stage TMA TMA site Tissue Years advancing front type age @ diag date of diag diff   envi_loc                                           gender_x gender_y lifespan pN pT radiotherapy recurrence site           site of recurrence stage survival (months)             \n",
       "True  False 1      False False False H    /mnt/b/Google_Drive/PhD/Project with Janet/Labe... 3568    C5     C5     FOM                      Other      2010-04-17    NaT                74.0          Died        yes   Y     1.0-C5  NaT                2020-04-01   2c      died other FGD                yes            pT2N2cMx         3568        3568           no          2       1.0 C5       Tumour 0.0   NaN                  74         2010-03-04   NaN    /mnt/b/Google_Drive/PhD/Project with Janet/Kohl... m        m        44 days  2c 2  no           no         floor of mouth NaN                4a    1.0               -0.282237   \n",
       "                                          /mnt/b/Google_Drive/PhD/Project with Janet/Labe... 3251    B1     B1     oral tongue              DOD        2006-07-21    NaT                70.0          Died        yes   Y     2.0-B1  NaT                2020-03-13   1       DOD        FG                 yes            pT4N1M0          3251        3251           no          4       2.0 B1       Tumour 0.0   islands              70         2006-05-31   mod    /mnt/b/Google_Drive/PhD/Project with Janet/Kohl... m        m        51 days  1  4  no           no         tongue         NaN                4     2.0                0.044919   \n",
       "      True  1      False False False I    /mnt/b/Google_Drive/PhD/Project with Janet/Labe... 3254    A2     A2     FOM                      DOD        2007-10-22    2007-08-09         48.0          Died        no    N     2.0-A2  NaT                2012-10-04   2c      DOD        CBarry             yes            pT2N2cMx         3254        3254           yes         2       2.0 A2       Tumour 1.0   islets               48         2006-06-12   mod    /mnt/b/Google_Drive/PhD/Project with Janet/Kohl... f        f        497 days 2c 2  yes          yes        floor of mouth metastases         4     15.0               0.013056   \n",
       "False False 6      False False False L    /mnt/b/Google_Drive/PhD/Project with Janet/Labe... 3481    C3     C3     oropharynx               Other      NaT           NaT                60.0          Alive       no    N     1.0-C3  2020-01-29         2020-04-24   1       alive      FGD                no             pT2N1Mx          3481        3481           no          2       1.0 C3       Tumour NaN   non cohesive type 4  72         2009-02-23   poorly /mnt/b/Google_Drive/PhD/Project with Janet/Kohl... m        m        NaT      1  2  yes          yes        oropharynx     NaN                NaN   91.0               0.046207   \n",
       "                                     I    /mnt/b/Google_Drive/PhD/Project with Janet/Labe... 3271    A10    A10    FOM                      Other      NaT           2010-07-23         59.0          Alive       yes   Y     1.0-A10 2010-07-23         2020-04-01   2b      alive      FGD                no             pT4N2bM0         3271        3271           yes         4       1.0 A10      Tumour NaN   poorly cohesive      59         2006-09-16   mod    /mnt/b/Google_Drive/PhD/Project with Janet/Kohl... m        m        NaT      2b 4  yes          yes        floor of mouth lung mets          4a    46.0               0.017392   \n",
       "\n",
       "                                                                                                                                                                                                                                                                                                                                                                                                                                                                                                                                                                                                                                                  1778.0  \\\n",
       "1year 2year 2years 3year 4year 5year ASMA Annotation_loc                                     Case ID Core_x Core_y Corrected Site AJCC/UICC DODvsAlive Date of death Date of recurrence Diagnosis Age DiedvsAlive ECS_x ECS_y ID      Last seen/reviewed Last updated N stage OUTCOME    OUTCOME.updated by Overall Death  Pathogical Stage Patient nu  Patient_Number Recurrence? T stage TMA TMA site Tissue Years advancing front type age @ diag date of diag diff   envi_loc                                           gender_x gender_y lifespan pN pT radiotherapy recurrence site           site of recurrence stage survival (months)             \n",
       "True  False 1      False False False H    /mnt/b/Google_Drive/PhD/Project with Janet/Labe... 3568    C5     C5     FOM                      Other      2010-04-17    NaT                74.0          Died        yes   Y     1.0-C5  NaT                2020-04-01   2c      died other FGD                yes            pT2N2cMx         3568        3568           no          2       1.0 C5       Tumour 0.0   NaN                  74         2010-03-04   NaN    /mnt/b/Google_Drive/PhD/Project with Janet/Kohl... m        m        44 days  2c 2  no           no         floor of mouth NaN                4a    1.0               -0.281628   \n",
       "                                          /mnt/b/Google_Drive/PhD/Project with Janet/Labe... 3251    B1     B1     oral tongue              DOD        2006-07-21    NaT                70.0          Died        yes   Y     2.0-B1  NaT                2020-03-13   1       DOD        FG                 yes            pT4N1M0          3251        3251           no          4       2.0 B1       Tumour 0.0   islands              70         2006-05-31   mod    /mnt/b/Google_Drive/PhD/Project with Janet/Kohl... m        m        51 days  1  4  no           no         tongue         NaN                4     2.0                0.044975   \n",
       "      True  1      False False False I    /mnt/b/Google_Drive/PhD/Project with Janet/Labe... 3254    A2     A2     FOM                      DOD        2007-10-22    2007-08-09         48.0          Died        no    N     2.0-A2  NaT                2012-10-04   2c      DOD        CBarry             yes            pT2N2cMx         3254        3254           yes         2       2.0 A2       Tumour 1.0   islets               48         2006-06-12   mod    /mnt/b/Google_Drive/PhD/Project with Janet/Kohl... f        f        497 days 2c 2  yes          yes        floor of mouth metastases         4     15.0               0.013667   \n",
       "False False 6      False False False L    /mnt/b/Google_Drive/PhD/Project with Janet/Labe... 3481    C3     C3     oropharynx               Other      NaT           NaT                60.0          Alive       no    N     1.0-C3  2020-01-29         2020-04-24   1       alive      FGD                no             pT2N1Mx          3481        3481           no          2       1.0 C3       Tumour NaN   non cohesive type 4  72         2009-02-23   poorly /mnt/b/Google_Drive/PhD/Project with Janet/Kohl... m        m        NaT      1  2  yes          yes        oropharynx     NaN                NaN   91.0               0.046482   \n",
       "                                     I    /mnt/b/Google_Drive/PhD/Project with Janet/Labe... 3271    A10    A10    FOM                      Other      NaT           2010-07-23         59.0          Alive       yes   Y     1.0-A10 2010-07-23         2020-04-01   2b      alive      FGD                no             pT4N2bM0         3271        3271           yes         4       1.0 A10      Tumour NaN   poorly cohesive      59         2006-09-16   mod    /mnt/b/Google_Drive/PhD/Project with Janet/Kohl... m        m        NaT      2b 4  yes          yes        floor of mouth lung mets          4a    46.0               0.017162   \n",
       "\n",
       "                                                                                                                                                                                                                                                                                                                                                                                                                                                                                                                                                                                                                                                  1781.0  \\\n",
       "1year 2year 2years 3year 4year 5year ASMA Annotation_loc                                     Case ID Core_x Core_y Corrected Site AJCC/UICC DODvsAlive Date of death Date of recurrence Diagnosis Age DiedvsAlive ECS_x ECS_y ID      Last seen/reviewed Last updated N stage OUTCOME    OUTCOME.updated by Overall Death  Pathogical Stage Patient nu  Patient_Number Recurrence? T stage TMA TMA site Tissue Years advancing front type age @ diag date of diag diff   envi_loc                                           gender_x gender_y lifespan pN pT radiotherapy recurrence site           site of recurrence stage survival (months)             \n",
       "True  False 1      False False False H    /mnt/b/Google_Drive/PhD/Project with Janet/Labe... 3568    C5     C5     FOM                      Other      2010-04-17    NaT                74.0          Died        yes   Y     1.0-C5  NaT                2020-04-01   2c      died other FGD                yes            pT2N2cMx         3568        3568           no          2       1.0 C5       Tumour 0.0   NaN                  74         2010-03-04   NaN    /mnt/b/Google_Drive/PhD/Project with Janet/Kohl... m        m        44 days  2c 2  no           no         floor of mouth NaN                4a    1.0               -0.279458   \n",
       "                                          /mnt/b/Google_Drive/PhD/Project with Janet/Labe... 3251    B1     B1     oral tongue              DOD        2006-07-21    NaT                70.0          Died        yes   Y     2.0-B1  NaT                2020-03-13   1       DOD        FG                 yes            pT4N1M0          3251        3251           no          4       2.0 B1       Tumour 0.0   islands              70         2006-05-31   mod    /mnt/b/Google_Drive/PhD/Project with Janet/Kohl... m        m        51 days  1  4  no           no         tongue         NaN                4     2.0                0.045008   \n",
       "      True  1      False False False I    /mnt/b/Google_Drive/PhD/Project with Janet/Labe... 3254    A2     A2     FOM                      DOD        2007-10-22    2007-08-09         48.0          Died        no    N     2.0-A2  NaT                2012-10-04   2c      DOD        CBarry             yes            pT2N2cMx         3254        3254           yes         2       2.0 A2       Tumour 1.0   islets               48         2006-06-12   mod    /mnt/b/Google_Drive/PhD/Project with Janet/Kohl... f        f        497 days 2c 2  yes          yes        floor of mouth metastases         4     15.0               0.014463   \n",
       "False False 6      False False False L    /mnt/b/Google_Drive/PhD/Project with Janet/Labe... 3481    C3     C3     oropharynx               Other      NaT           NaT                60.0          Alive       no    N     1.0-C3  2020-01-29         2020-04-24   1       alive      FGD                no             pT2N1Mx          3481        3481           no          2       1.0 C3       Tumour NaN   non cohesive type 4  72         2009-02-23   poorly /mnt/b/Google_Drive/PhD/Project with Janet/Kohl... m        m        NaT      1  2  yes          yes        oropharynx     NaN                NaN   91.0               0.046894   \n",
       "                                     I    /mnt/b/Google_Drive/PhD/Project with Janet/Labe... 3271    A10    A10    FOM                      Other      NaT           2010-07-23         59.0          Alive       yes   Y     1.0-A10 2010-07-23         2020-04-01   2b      alive      FGD                no             pT4N2bM0         3271        3271           yes         4       1.0 A10      Tumour NaN   poorly cohesive      59         2006-09-16   mod    /mnt/b/Google_Drive/PhD/Project with Janet/Kohl... m        m        NaT      2b 4  yes          yes        floor of mouth lung mets          4a    46.0               0.016997   \n",
       "\n",
       "                                                                                                                                                                                                                                                                                                                                                                                                                                                                                                                                                                                                                                                  1785.0  \\\n",
       "1year 2year 2years 3year 4year 5year ASMA Annotation_loc                                     Case ID Core_x Core_y Corrected Site AJCC/UICC DODvsAlive Date of death Date of recurrence Diagnosis Age DiedvsAlive ECS_x ECS_y ID      Last seen/reviewed Last updated N stage OUTCOME    OUTCOME.updated by Overall Death  Pathogical Stage Patient nu  Patient_Number Recurrence? T stage TMA TMA site Tissue Years advancing front type age @ diag date of diag diff   envi_loc                                           gender_x gender_y lifespan pN pT radiotherapy recurrence site           site of recurrence stage survival (months)             \n",
       "True  False 1      False False False H    /mnt/b/Google_Drive/PhD/Project with Janet/Labe... 3568    C5     C5     FOM                      Other      2010-04-17    NaT                74.0          Died        yes   Y     1.0-C5  NaT                2020-04-01   2c      died other FGD                yes            pT2N2cMx         3568        3568           no          2       1.0 C5       Tumour 0.0   NaN                  74         2010-03-04   NaN    /mnt/b/Google_Drive/PhD/Project with Janet/Kohl... m        m        44 days  2c 2  no           no         floor of mouth NaN                4a    1.0               -0.276396   \n",
       "                                          /mnt/b/Google_Drive/PhD/Project with Janet/Labe... 3251    B1     B1     oral tongue              DOD        2006-07-21    NaT                70.0          Died        yes   Y     2.0-B1  NaT                2020-03-13   1       DOD        FG                 yes            pT4N1M0          3251        3251           no          4       2.0 B1       Tumour 0.0   islands              70         2006-05-31   mod    /mnt/b/Google_Drive/PhD/Project with Janet/Kohl... m        m        51 days  1  4  no           no         tongue         NaN                4     2.0                0.044998   \n",
       "      True  1      False False False I    /mnt/b/Google_Drive/PhD/Project with Janet/Labe... 3254    A2     A2     FOM                      DOD        2007-10-22    2007-08-09         48.0          Died        no    N     2.0-A2  NaT                2012-10-04   2c      DOD        CBarry             yes            pT2N2cMx         3254        3254           yes         2       2.0 A2       Tumour 1.0   islets               48         2006-06-12   mod    /mnt/b/Google_Drive/PhD/Project with Janet/Kohl... f        f        497 days 2c 2  yes          yes        floor of mouth metastases         4     15.0               0.015292   \n",
       "False False 6      False False False L    /mnt/b/Google_Drive/PhD/Project with Janet/Labe... 3481    C3     C3     oropharynx               Other      NaT           NaT                60.0          Alive       no    N     1.0-C3  2020-01-29         2020-04-24   1       alive      FGD                no             pT2N1Mx          3481        3481           no          2       1.0 C3       Tumour NaN   non cohesive type 4  72         2009-02-23   poorly /mnt/b/Google_Drive/PhD/Project with Janet/Kohl... m        m        NaT      1  2  yes          yes        oropharynx     NaN                NaN   91.0               0.047369   \n",
       "                                     I    /mnt/b/Google_Drive/PhD/Project with Janet/Labe... 3271    A10    A10    FOM                      Other      NaT           2010-07-23         59.0          Alive       yes   Y     1.0-A10 2010-07-23         2020-04-01   2b      alive      FGD                no             pT4N2bM0         3271        3271           yes         4       1.0 A10      Tumour NaN   poorly cohesive      59         2006-09-16   mod    /mnt/b/Google_Drive/PhD/Project with Janet/Kohl... m        m        NaT      2b 4  yes          yes        floor of mouth lung mets          4a    46.0               0.016860   \n",
       "\n",
       "                                                                                                                                                                                                                                                                                                                                                                                                                                                                                                                                                                                                                                                  1789.0  \\\n",
       "1year 2year 2years 3year 4year 5year ASMA Annotation_loc                                     Case ID Core_x Core_y Corrected Site AJCC/UICC DODvsAlive Date of death Date of recurrence Diagnosis Age DiedvsAlive ECS_x ECS_y ID      Last seen/reviewed Last updated N stage OUTCOME    OUTCOME.updated by Overall Death  Pathogical Stage Patient nu  Patient_Number Recurrence? T stage TMA TMA site Tissue Years advancing front type age @ diag date of diag diff   envi_loc                                           gender_x gender_y lifespan pN pT radiotherapy recurrence site           site of recurrence stage survival (months)             \n",
       "True  False 1      False False False H    /mnt/b/Google_Drive/PhD/Project with Janet/Labe... 3568    C5     C5     FOM                      Other      2010-04-17    NaT                74.0          Died        yes   Y     1.0-C5  NaT                2020-04-01   2c      died other FGD                yes            pT2N2cMx         3568        3568           no          2       1.0 C5       Tumour 0.0   NaN                  74         2010-03-04   NaN    /mnt/b/Google_Drive/PhD/Project with Janet/Kohl... m        m        44 days  2c 2  no           no         floor of mouth NaN                4a    1.0               -0.272636   \n",
       "                                          /mnt/b/Google_Drive/PhD/Project with Janet/Labe... 3251    B1     B1     oral tongue              DOD        2006-07-21    NaT                70.0          Died        yes   Y     2.0-B1  NaT                2020-03-13   1       DOD        FG                 yes            pT4N1M0          3251        3251           no          4       2.0 B1       Tumour 0.0   islands              70         2006-05-31   mod    /mnt/b/Google_Drive/PhD/Project with Janet/Kohl... m        m        51 days  1  4  no           no         tongue         NaN                4     2.0                0.044897   \n",
       "      True  1      False False False I    /mnt/b/Google_Drive/PhD/Project with Janet/Labe... 3254    A2     A2     FOM                      DOD        2007-10-22    2007-08-09         48.0          Died        no    N     2.0-A2  NaT                2012-10-04   2c      DOD        CBarry             yes            pT2N2cMx         3254        3254           yes         2       2.0 A2       Tumour 1.0   islets               48         2006-06-12   mod    /mnt/b/Google_Drive/PhD/Project with Janet/Kohl... f        f        497 days 2c 2  yes          yes        floor of mouth metastases         4     15.0               0.016065   \n",
       "False False 6      False False False L    /mnt/b/Google_Drive/PhD/Project with Janet/Labe... 3481    C3     C3     oropharynx               Other      NaT           NaT                60.0          Alive       no    N     1.0-C3  2020-01-29         2020-04-24   1       alive      FGD                no             pT2N1Mx          3481        3481           no          2       1.0 C3       Tumour NaN   non cohesive type 4  72         2009-02-23   poorly /mnt/b/Google_Drive/PhD/Project with Janet/Kohl... m        m        NaT      1  2  yes          yes        oropharynx     NaN                NaN   91.0               0.047817   \n",
       "                                     I    /mnt/b/Google_Drive/PhD/Project with Janet/Labe... 3271    A10    A10    FOM                      Other      NaT           2010-07-23         59.0          Alive       yes   Y     1.0-A10 2010-07-23         2020-04-01   2b      alive      FGD                no             pT4N2bM0         3271        3271           yes         4       1.0 A10      Tumour NaN   poorly cohesive      59         2006-09-16   mod    /mnt/b/Google_Drive/PhD/Project with Janet/Kohl... m        m        NaT      2b 4  yes          yes        floor of mouth lung mets          4a    46.0               0.016851   \n",
       "\n",
       "                                                                                                                                                                                                                                                                                                                                                                                                                                                                                                                                                                                                                                                  1793.0  \\\n",
       "1year 2year 2years 3year 4year 5year ASMA Annotation_loc                                     Case ID Core_x Core_y Corrected Site AJCC/UICC DODvsAlive Date of death Date of recurrence Diagnosis Age DiedvsAlive ECS_x ECS_y ID      Last seen/reviewed Last updated N stage OUTCOME    OUTCOME.updated by Overall Death  Pathogical Stage Patient nu  Patient_Number Recurrence? T stage TMA TMA site Tissue Years advancing front type age @ diag date of diag diff   envi_loc                                           gender_x gender_y lifespan pN pT radiotherapy recurrence site           site of recurrence stage survival (months)             \n",
       "True  False 1      False False False H    /mnt/b/Google_Drive/PhD/Project with Janet/Labe... 3568    C5     C5     FOM                      Other      2010-04-17    NaT                74.0          Died        yes   Y     1.0-C5  NaT                2020-04-01   2c      died other FGD                yes            pT2N2cMx         3568        3568           no          2       1.0 C5       Tumour 0.0   NaN                  74         2010-03-04   NaN    /mnt/b/Google_Drive/PhD/Project with Janet/Kohl... m        m        44 days  2c 2  no           no         floor of mouth NaN                4a    1.0               -0.268095   \n",
       "                                          /mnt/b/Google_Drive/PhD/Project with Janet/Labe... 3251    B1     B1     oral tongue              DOD        2006-07-21    NaT                70.0          Died        yes   Y     2.0-B1  NaT                2020-03-13   1       DOD        FG                 yes            pT4N1M0          3251        3251           no          4       2.0 B1       Tumour 0.0   islands              70         2006-05-31   mod    /mnt/b/Google_Drive/PhD/Project with Janet/Kohl... m        m        51 days  1  4  no           no         tongue         NaN                4     2.0                0.044839   \n",
       "      True  1      False False False I    /mnt/b/Google_Drive/PhD/Project with Janet/Labe... 3254    A2     A2     FOM                      DOD        2007-10-22    2007-08-09         48.0          Died        no    N     2.0-A2  NaT                2012-10-04   2c      DOD        CBarry             yes            pT2N2cMx         3254        3254           yes         2       2.0 A2       Tumour 1.0   islets               48         2006-06-12   mod    /mnt/b/Google_Drive/PhD/Project with Janet/Kohl... f        f        497 days 2c 2  yes          yes        floor of mouth metastases         4     15.0               0.016364   \n",
       "False False 6      False False False L    /mnt/b/Google_Drive/PhD/Project with Janet/Labe... 3481    C3     C3     oropharynx               Other      NaT           NaT                60.0          Alive       no    N     1.0-C3  2020-01-29         2020-04-24   1       alive      FGD                no             pT2N1Mx          3481        3481           no          2       1.0 C3       Tumour NaN   non cohesive type 4  72         2009-02-23   poorly /mnt/b/Google_Drive/PhD/Project with Janet/Kohl... m        m        NaT      1  2  yes          yes        oropharynx     NaN                NaN   91.0               0.048067   \n",
       "                                     I    /mnt/b/Google_Drive/PhD/Project with Janet/Labe... 3271    A10    A10    FOM                      Other      NaT           2010-07-23         59.0          Alive       yes   Y     1.0-A10 2010-07-23         2020-04-01   2b      alive      FGD                no             pT4N2bM0         3271        3271           yes         4       1.0 A10      Tumour NaN   poorly cohesive      59         2006-09-16   mod    /mnt/b/Google_Drive/PhD/Project with Janet/Kohl... m        m        NaT      2b 4  yes          yes        floor of mouth lung mets          4a    46.0               0.016995   \n",
       "\n",
       "                                                                                                                                                                                                                                                                                                                                                                                                                                                                                                                                                                                                                                                  1797.0  \n",
       "1year 2year 2years 3year 4year 5year ASMA Annotation_loc                                     Case ID Core_x Core_y Corrected Site AJCC/UICC DODvsAlive Date of death Date of recurrence Diagnosis Age DiedvsAlive ECS_x ECS_y ID      Last seen/reviewed Last updated N stage OUTCOME    OUTCOME.updated by Overall Death  Pathogical Stage Patient nu  Patient_Number Recurrence? T stage TMA TMA site Tissue Years advancing front type age @ diag date of diag diff   envi_loc                                           gender_x gender_y lifespan pN pT radiotherapy recurrence site           site of recurrence stage survival (months)            \n",
       "True  False 1      False False False H    /mnt/b/Google_Drive/PhD/Project with Janet/Labe... 3568    C5     C5     FOM                      Other      2010-04-17    NaT                74.0          Died        yes   Y     1.0-C5  NaT                2020-04-01   2c      died other FGD                yes            pT2N2cMx         3568        3568           no          2       1.0 C5       Tumour 0.0   NaN                  74         2010-03-04   NaN    /mnt/b/Google_Drive/PhD/Project with Janet/Kohl... m        m        44 days  2c 2  no           no         floor of mouth NaN                4a    1.0               -0.263030  \n",
       "                                          /mnt/b/Google_Drive/PhD/Project with Janet/Labe... 3251    B1     B1     oral tongue              DOD        2006-07-21    NaT                70.0          Died        yes   Y     2.0-B1  NaT                2020-03-13   1       DOD        FG                 yes            pT4N1M0          3251        3251           no          4       2.0 B1       Tumour 0.0   islands              70         2006-05-31   mod    /mnt/b/Google_Drive/PhD/Project with Janet/Kohl... m        m        51 days  1  4  no           no         tongue         NaN                4     2.0                0.045020  \n",
       "      True  1      False False False I    /mnt/b/Google_Drive/PhD/Project with Janet/Labe... 3254    A2     A2     FOM                      DOD        2007-10-22    2007-08-09         48.0          Died        no    N     2.0-A2  NaT                2012-10-04   2c      DOD        CBarry             yes            pT2N2cMx         3254        3254           yes         2       2.0 A2       Tumour 1.0   islets               48         2006-06-12   mod    /mnt/b/Google_Drive/PhD/Project with Janet/Kohl... f        f        497 days 2c 2  yes          yes        floor of mouth metastases         4     15.0               0.016570  \n",
       "False False 6      False False False L    /mnt/b/Google_Drive/PhD/Project with Janet/Labe... 3481    C3     C3     oropharynx               Other      NaT           NaT                60.0          Alive       no    N     1.0-C3  2020-01-29         2020-04-24   1       alive      FGD                no             pT2N1Mx          3481        3481           no          2       1.0 C3       Tumour NaN   non cohesive type 4  72         2009-02-23   poorly /mnt/b/Google_Drive/PhD/Project with Janet/Kohl... m        m        NaT      1  2  yes          yes        oropharynx     NaN                NaN   91.0               0.048183  \n",
       "                                     I    /mnt/b/Google_Drive/PhD/Project with Janet/Labe... 3271    A10    A10    FOM                      Other      NaT           2010-07-23         59.0          Alive       yes   Y     1.0-A10 2010-07-23         2020-04-01   2b      alive      FGD                no             pT4N2bM0         3271        3271           yes         4       1.0 A10      Tumour NaN   poorly cohesive      59         2006-09-16   mod    /mnt/b/Google_Drive/PhD/Project with Janet/Kohl... m        m        NaT      2b 4  yes          yes        floor of mouth lung mets          4a    46.0               0.017087  \n",
       "\n",
       "[5 rows x 169 columns]"
      ]
     },
     "execution_count": 18,
     "metadata": {},
     "output_type": "execute_result"
    }
   ],
   "source": [
    "total.sample(5)"
   ]
  },
  {
   "cell_type": "code",
   "execution_count": 19,
   "metadata": {},
   "outputs": [
    {
     "data": {
      "image/png": "[encoded data removed]",
      "text/plain": [
       "<Figure size 432x288 with 1 Axes>"
      ]
     },
     "metadata": {
      "needs_background": "light"
     },
     "output_type": "display_data"
    }
   ],
   "source": [
    "fig, axes = plt.subplots(nrows = 1, figsize = (6,4), sharex = True)\n",
    "\n",
    "total.groupby(\"2years\").mean().T.plot(ax = axes)\n",
    "axes.set_xlabel(\"Wavenumber $(cm^{-1})$\")\n",
    "axes.set_ylabel(\"Absorbance (a.u)\")\n",
    "fig.savefig(os.getcwd()+ \"/Plots/Mean_ECS_Spectra.png\", bbox_inches = 'tight')"
   ]
  },
  {
   "cell_type": "code",
   "execution_count": 20,
   "metadata": {},
   "outputs": [],
   "source": [
    "pcapipe = Pipeline([\n",
    "    (\"Normalise spectra\", FunctionTransformer(robust_scale, kw_args = {\"axis\": 1})),\n",
    "    (\"Scaler\", RobustScaler()),\n",
    "    (\"PCA\", PCA())\n",
    "])"
   ]
  },
  {
   "cell_type": "code",
   "execution_count": 21,
   "metadata": {},
   "outputs": [],
   "source": [
    "n = total.reset_index()[\"Patient_Number\"].value_counts().min()\n",
    "total_ = total.groupby(\"Patient_Number\", group_keys=False).apply(lambda g: g.sample(n))"
   ]
  },
  {
   "cell_type": "code",
   "execution_count": 22,
   "metadata": {},
   "outputs": [
    {
     "data": {
      "text/plain": [
       "Text(0, 0.5, 'N patients')"
      ]
     },
     "execution_count": 22,
     "metadata": {},
     "output_type": "execute_result"
    },
    {
     "data": {
      "image/png": "[encoded data removed]",
      "text/plain": [
       "<Figure size 432x288 with 1 Axes>"
      ]
     },
     "metadata": {
      "needs_background": "light"
     },
     "output_type": "display_data"
    }
   ],
   "source": [
    "ax = pd.crosstab(new_metadata[\"ASMA\"], new_metadata[\"1year\"]).plot.bar()\n",
    "ax.set_ylabel(\"N patients\")"
   ]
  },
  {
   "cell_type": "code",
   "execution_count": 23,
   "metadata": {},
   "outputs": [
    {
     "data": {
      "text/plain": [
       "Text(0, 0.5, 'N patients')"
      ]
     },
     "execution_count": 23,
     "metadata": {},
     "output_type": "execute_result"
    },
    {
     "data": {
      "image/png": "[encoded data removed]",
      "text/plain": [
       "<Figure size 432x288 with 1 Axes>"
      ]
     },
     "metadata": {
      "needs_background": "light"
     },
     "output_type": "display_data"
    }
   ],
   "source": [
    "ax = pd.crosstab(new_metadata[\"ASMA\"], new_metadata[\"DODvsAlive\"]).plot.bar()\n",
    "ax.set_ylabel(\"N patients\")"
   ]
  },
  {
   "cell_type": "raw",
   "metadata": {},
   "source": [
    "trials = {name.split(\"/\")[-2][6:]: pd.read_json(name) for name in tqdm(glob.iglob(\"KerasTuner/**/*.json\", recursive = True)) if \"trial\" in name}"
   ]
  },
  {
   "cell_type": "markdown",
   "metadata": {},
   "source": [
    "## Regression stuff"
   ]
  },
  {
   "cell_type": "raw",
   "metadata": {},
   "source": [
    "from sklearn.linear_model import LinearRegression\n",
    "from sklearn.tree import DecisionTreeRegressor\n",
    "from sklearn.feature_selection import SelectFromModel\n",
    "\n",
    "import xgboost as xgb"
   ]
  },
  {
   "cell_type": "raw",
   "metadata": {},
   "source": [
    "regPipe = Pipeline([\n",
    "(\"Normalise spectra\", FunctionTransformer(robust_scale, kw_args = {\"axis\": 1})),\n",
    "(\"Scaler\", RobustScaler()),\n",
    "(\"PCA\", PCA()),\n",
    "(\"LinearReg\", LinearRegression()),\n",
    "])"
   ]
  },
  {
   "cell_type": "raw",
   "metadata": {},
   "source": [
    "regPipe = Pipeline([\n",
    "(\"Normalise spectra\", FunctionTransformer(robust_scale, kw_args = {\"axis\": 1})),\n",
    "(\"Scaler\", RobustScaler()),\n",
    "(\"SFM\", SelectFromModel(xgb.XGBRegressor(), threshold=\"0.25*mean\")),\n",
    "(\"PCA\", PCA()),\n",
    "(\"reg\", xgb.XGBRegressor()),\n",
    "])"
   ]
  },
  {
   "cell_type": "raw",
   "metadata": {},
   "source": [
    "data = total.copy().sample(frac=0.5)\n",
    "\n",
    "scores = cross_validate(regPipe, data.values, data.reset_index()[\"survival (months)\"], return_estimator=True, verbose=1, n_jobs=4)"
   ]
  },
  {
   "cell_type": "raw",
   "metadata": {},
   "source": [
    "predictions = scores[\"estimator\"][0].predict(data.values)"
   ]
  },
  {
   "cell_type": "raw",
   "metadata": {},
   "source": [
    "results = data.reset_index().loc[:,[\"survival (months)\"]]\n",
    "results[\"Predictions\"] = predictions\n",
    "results[\"Patient_Number\"] = data.reset_index().loc[:,\"Patient_Number\"]"
   ]
  },
  {
   "cell_type": "raw",
   "metadata": {},
   "source": [
    "data = total.copy().sample(frac = 1)#.reset_index([\"ASMA\"]).dropna(subset = [\"ASMA\"]).loc[:,[\"ASMA\"]]\n",
    "unique_patients = data.reset_index()[f\"{group}\"].unique()\n",
    "data[\"sample_weights\"] = Cross_Eval.get_weights(data.reset_index()[f\"{group}\"])\n",
    "   \n",
    "train_pat, valid_pat = train_test_split(unique_patients)\n",
    "\n",
    "train_data = data.query(f\"{group} in {list(train_pat)}\")\n",
    "validation_data = data.query(f\"{group} in {list(valid_pat)}\")\n",
    "\n",
    "w_train, w_test = train_data.reset_index()[\"sample_weights\"], validation_data.reset_index()[\"sample_weights\"]\n",
    "\n",
    "X_train = train_data.drop([\"sample_weights\"], axis = 1)\n",
    "X_valid = validation_data.drop([\"sample_weights\"], axis = 1)\n",
    "\n",
    "y_train, y_valid = train_data.reset_index().loc[:,[\"survival (months)\"]], validation_data.reset_index().loc[:,[\"survival (months)\"]]"
   ]
  },
  {
   "cell_type": "raw",
   "metadata": {},
   "source": [
    "regPipe.fit(X_train, y_train, reg__sample_weight=w_train)\n",
    "\n",
    "predictions = regPipe.predict(X_valid)\n",
    "\n",
    "results = y_valid.copy()\n",
    "results[\"Predictions\"] = predictions\n",
    "results[\"Patient_Number\"] = X_valid.reset_index().loc[:,[\"Patient_Number\"]]\n",
    "results = results.set_index(\"Patient_Number\")"
   ]
  },
  {
   "cell_type": "raw",
   "metadata": {},
   "source": [
    "fig, (ax1,ax2) = plt.subplots(ncols=2, figsize=(12,4))\n",
    "\n",
    "results.sort_values(\"survival (months)\").groupby(\"Patient_Number\").mean().plot(ax=ax1)\n",
    "\n",
    "(results[\"survival (months)\"]-results[\"Predictions\"]).groupby(\"Patient_Number\").plot.hist(histtype=\"step\",ax=ax2);"
   ]
  },
  {
   "cell_type": "markdown",
   "metadata": {},
   "source": [
    "## "
   ]
  },
  {
   "cell_type": "code",
   "execution_count": 24,
   "metadata": {},
   "outputs": [],
   "source": [
    "numeric_features = np.arange(2, len(total.columns)+1)\n",
    "categorical_features = [0,1]\n",
    "\n",
    "numeric_pipe = Pipeline([\n",
    "(\"Normalise spectra\", FunctionTransformer(robust_scale, kw_args = {\"axis\": 1})),\n",
    "(\"Scaler\", RobustScaler()),\n",
    "(\"PCA\", PCA()),\n",
    "])\n",
    "\n",
    "categorical_pipe = Pipeline([\n",
    "    (\"OneHot\", OneHotEncoder())\n",
    "])\n",
    "\n",
    "preprocessing = ColumnTransformer(\n",
    "    [(\"Numerical\", numeric_pipe, numeric_features),\n",
    "     (\"Categorical\", categorical_pipe, categorical_features)])\n",
    "\n",
    "pipe = Pipeline([\n",
    "    (\"Preprocessing\", preprocessing),\n",
    "])"
   ]
  },
  {
   "cell_type": "code",
   "execution_count": 25,
   "metadata": {},
   "outputs": [
    {
     "data": {
      "text/plain": [
       "<matplotlib.legend.Legend at 0x7f80f085d5e0>"
      ]
     },
     "execution_count": 25,
     "metadata": {},
     "output_type": "execute_result"
    },
    {
     "data": {
      "image/png": "[encoded data removed]",
      "text/plain": [
       "<Figure size 1152x576 with 2 Axes>"
      ]
     },
     "metadata": {
      "needs_background": "light"
     },
     "output_type": "display_data"
    }
   ],
   "source": [
    "y = \"2years\"\n",
    "\n",
    "fig, (ax1, ax2) = plt.subplots(ncols = 2, figsize = (16,8))\n",
    "fig.suptitle(y)\n",
    "\n",
    "data = total.copy().sample(frac = 0.1)#.drop(np.nan, level = \"DODvsAlive\")\n",
    "\n",
    "total_lda = pd.DataFrame(\n",
    "    LinearDiscriminantAnalysis(n_components = 1).fit_transform(pcapipe.fit_transform(data), data.reset_index()[f\"{y}\"].values)\n",
    "    , index = data.index)\n",
    "\n",
    "\n",
    "for name, df in total_lda.groupby(level = f\"{y}\"):\n",
    "\n",
    "    df.hist(0, bins = 50, ax = ax1, histtype = 'step', label = name, density = True)\n",
    "\n",
    "ax1.set_title(\"LDA\")\n",
    "ax1.legend()\n",
    "    \n",
    "total_pca = pd.DataFrame(\n",
    "    PCA(n_components = 1).fit_transform(pcapipe.fit_transform(data), data.reset_index()[f\"{y}\"])\n",
    "    , index = data.index)\n",
    "\n",
    "\n",
    "for name, df in total_pca.groupby(level = f\"{y}\"):\n",
    "\n",
    "    df.hist(0, bins = 50, ax = ax2, histtype = 'step', label = name, density = True)\n",
    "\n",
    "ax2.set_title(\"PCA\")\n",
    "plt.legend()"
   ]
  },
  {
   "cell_type": "raw",
   "metadata": {
    "jupyter": {
     "source_hidden": true
    }
   },
   "source": [
    "group = \"Patient_Number\"\n",
    "y = \"DODvsAlive\"\n",
    "\n",
    "#data = (total - paraffin.mean(axis = 0)).sample(frac = 0.1)\n",
    "data = total.copy().sample(frac = 0.01)#.query(\"DODvsAlive != 'Other'\")#.drop(np.nan, level = y)\n",
    "\n",
    "\n",
    " \n",
    "data[\"sample_weights\"] = Cross_Eval.get_weights(data.reset_index()[f\"{group}\"]) * Cross_Eval.get_weights(data.reset_index()[f\"{y}\"])\n",
    "\n",
    "# Splt the data set into training and validation sets based on patient number\n",
    "train_pat, valid_pat = train_test_split(data.reset_index()[f\"{group}\"].unique(), test_size = 0.2, shuffle = True)\n",
    "\n",
    "print(f\"N train patients: \\t{len(train_pat)}\\n{train_pat}\")\n",
    "print(f\"N test patients: \\t{len(valid_pat)}\\n{valid_pat}\")\n",
    "\n",
    "\n",
    "train_data = data.query(f\"{group} in {list(train_pat)}\")\n",
    "validation_data = data.query(f\"{group} in {list(valid_pat)}\")\n",
    "\n",
    "\n",
    "X_train, X_valid = train_data.drop([\"sample_weights\"], axis = 1), validation_data.drop([\"sample_weights\"], axis = 1), \n",
    "y_train, y_valid = train_data.reset_index()[f\"{y}\"], validation_data.reset_index()[f\"{y}\"]\n",
    "w_train, w_test = train_data.reset_index()[\"sample_weights\"], validation_data.reset_index()[\"sample_weights\"]\n",
    "\n",
    "\n",
    "y_train.index = X_train.index\n",
    "y_valid.index = X_valid.index\n",
    "\n",
    "groups = X_train.reset_index()[f\"{group}\"]\n",
    "groups.index = X_train.index\n",
    "\n",
    "lb = LabelBinarizer().fit(data.reset_index()[f\"{y}\"])\n",
    "\n",
    "y_train_b = pd.DataFrame(lb.transform(y_train))\n",
    "y_valid_b = pd.DataFrame(lb.transform(y_valid))\n",
    "\n",
    "scorer = make_scorer(roc_auc_score, needs_proba = True, average = 'weighted')\n",
    "\n",
    "date_time = datetime.now().strftime(\"%m.%d.%Y_%H:%M\")\n",
    "\n",
    "file_place = os.path.join(os.getcwd(), \"Plots\", y, date_time)\n",
    "print(file_place)\n",
    "\n",
    "if not os.path.exists(file_place):\n",
    "    os.mkdir(file_place)\n",
    "    \n",
    "print(lb.classes_)"
   ]
  },
  {
   "cell_type": "raw",
   "metadata": {
    "jupyter": {
     "source_hidden": true
    }
   },
   "source": [
    "def build_LDA(hp):\n",
    "    \n",
    "    params = {\n",
    "        'n_components' : hp.Int(\"PCA_components\", 1, len(data.columns) - 1, 1),\n",
    "    }\n",
    "\n",
    "    clf = LinearDiscriminantAnalysis()\n",
    "    clf = clf.set_params(**params)\n",
    "    \n",
    "    #---------------------------------------------------------------------------------------------------\n",
    "    scalers = {\"Normalize\" : normalize,\n",
    "               \"Robust\"    : robust_scale,\n",
    "               \"MinMax\"    : minmax_scale}\n",
    "    \n",
    "    scale1 = hp.Choice('scale1', [\"Normalize\", \"Robust\", \"MinMax\"])\n",
    "    scale2 = hp.Choice('scale2', [\"Normalize\", \"Robust\", \"MinMax\"])\n",
    "\n",
    "    pipe = Pipeline([\n",
    "    (\"Normalise spectra\", FunctionTransformer(scalers[scale1] , kw_args = {\"axis\": 1})),\n",
    "    (\"Scaler\", FunctionTransformer(scalers[scale2] , kw_args = {\"axis\": 0})),\n",
    "    #(\"RBFSampler\", RBFSampler(gamma = hp.Float(\"RBF_gamma\", 0, 5), n_components = hp.Int(\"RB_components\", 1, 169, 1))),\n",
    "    (\"PCA\", PCA(n_components = hp.Int(\"PCA_components\", 1, len(data.columns) - 1, 1))),\n",
    "    (\"LDA\", clf)])\n",
    "    \n",
    "    return pipe"
   ]
  },
  {
   "cell_type": "raw",
   "metadata": {
    "jupyter": {
     "source_hidden": true
    }
   },
   "source": [
    "pipe = Pipeline([\n",
    "(\"Normalise spectra\", FunctionTransformer(robust_scale , kw_args = {\"axis\": 1})),\n",
    "(\"Scaler\", FunctionTransformer(robust_scale , kw_args = {\"axis\": 0})),\n",
    "#(\"RBFSampler\", RBFSampler(gamma = hp.Float(\"RBF_gamma\", 0, 5), n_components = hp.Int(\"RB_components\", 1, 169, 1))),\n",
    "(\"PCA\", PCA()),\n",
    "(\"LDA\", LinearDiscriminantAnalysis())])"
   ]
  },
  {
   "cell_type": "raw",
   "metadata": {
    "jupyter": {
     "source_hidden": true
    }
   },
   "source": [
    "pipe = Pipeline([\n",
    "(\"Normalise spectra\", FunctionTransformer(normalize , kw_args = {\"axis\": 1})),\n",
    "(\"Scaler\", FunctionTransformer(normalize , kw_args = {\"axis\": 0})),\n",
    "#(\"RBFSampler\", RBFSampler(gamma = hp.Float(\"RBF_gamma\", 0, 5), n_components = hp.Int(\"RB_components\", 1, 169, 1))),\n",
    "(\"PCA\", PCA()),\n",
    "(\"LDA\", LinearDiscriminantAnalysis())])"
   ]
  },
  {
   "cell_type": "raw",
   "metadata": {
    "jupyter": {
     "source_hidden": true
    }
   },
   "source": [
    "pipe = Pipeline([\n",
    "(\"Normalise spectra\", FunctionTransformer(minmax_scale , kw_args = {\"axis\": 1})),\n",
    "(\"Scaler\", FunctionTransformer(minmax_scale , kw_args = {\"axis\": 0})),\n",
    "#(\"RBFSampler\", RBFSampler(gamma = hp.Float(\"RBF_gamma\", 0, 5), n_components = hp.Int(\"RB_components\", 1, 169, 1))),\n",
    "(\"PCA\", PCA()),\n",
    "(\"LDA\", LinearDiscriminantAnalysis())])"
   ]
  },
  {
   "cell_type": "raw",
   "metadata": {
    "jupyter": {
     "source_hidden": true
    }
   },
   "source": [
    "pipe = Pipeline([\n",
    "(\"Normalise spectra\", FunctionTransformer(minmax_scale , kw_args = {\"axis\": 1})),\n",
    "(\"Scaler\", FunctionTransformer(robust_scale , kw_args = {\"axis\": 0})),\n",
    "#(\"RBFSampler\", RBFSampler(gamma = hp.Float(\"RBF_gamma\", 0, 5), n_components = hp.Int(\"RB_components\", 1, 169, 1))),\n",
    "(\"PCA\", PCA()),\n",
    "(\"LDA\", LinearDiscriminantAnalysis())])"
   ]
  },
  {
   "cell_type": "raw",
   "metadata": {
    "jupyter": {
     "source_hidden": true
    }
   },
   "source": [
    "pipe = Pipeline([\n",
    "(\"Normalise spectra\", FunctionTransformer(normalize , kw_args = {\"axis\": 1})),\n",
    "(\"Scaler\", FunctionTransformer(robust_scale , kw_args = {\"axis\": 0})),\n",
    "#(\"RBFSampler\", RBFSampler(gamma = hp.Float(\"RBF_gamma\", 0, 5), n_components = hp.Int(\"RB_components\", 1, 169, 1))),\n",
    "(\"PCA\", PCA()),\n",
    "(\"LDA\", LinearDiscriminantAnalysis())])"
   ]
  },
  {
   "cell_type": "raw",
   "metadata": {
    "jupyter": {
     "source_hidden": true
    }
   },
   "source": [
    "pipe = Pipeline([\n",
    "(\"Normalise spectra\", FunctionTransformer(normalize , kw_args = {\"axis\": 1})),\n",
    "(\"Scaler\", FunctionTransformer(minmax_scale , kw_args = {\"axis\": 0})),\n",
    "#(\"RBFSampler\", RBFSampler(gamma = hp.Float(\"RBF_gamma\", 0, 5), n_components = hp.Int(\"RB_components\", 1, 169, 1))),\n",
    "(\"PCA\", PCA()),\n",
    "(\"LDA\", LinearDiscriminantAnalysis())])"
   ]
  },
  {
   "cell_type": "raw",
   "metadata": {
    "jupyter": {
     "source_hidden": true
    }
   },
   "source": [
    "pipe = Pipeline([\n",
    "(\"Normalise spectra\", FunctionTransformer(minmax_scale , kw_args = {\"axis\": 1})),\n",
    "(\"Scaler\", FunctionTransformer(normalize , kw_args = {\"axis\": 0})),\n",
    "#(\"RBFSampler\", RBFSampler(gamma = hp.Float(\"RBF_gamma\", 0, 5), n_components = hp.Int(\"RB_components\", 1, 169, 1))),\n",
    "(\"PCA\", PCA()),\n",
    "(\"LDA\", LinearDiscriminantAnalysis())])"
   ]
  },
  {
   "cell_type": "raw",
   "metadata": {
    "jupyter": {
     "source_hidden": true
    }
   },
   "source": [
    "pipe = Pipeline([\n",
    "(\"Normalise spectra\", FunctionTransformer(minmax_scale , kw_args = {\"axis\": 1})),\n",
    "(\"Scaler\", FunctionTransformer(robust_scale , kw_args = {\"axis\": 0})),\n",
    "#(\"RBFSampler\", RBFSampler(gamma = hp.Float(\"RBF_gamma\", 0, 5), n_components = hp.Int(\"RB_components\", 1, 169, 1))),\n",
    "(\"PCA\", PCA()),\n",
    "(\"LDA\", LinearDiscriminantAnalysis())])"
   ]
  },
  {
   "cell_type": "raw",
   "metadata": {
    "jupyter": {
     "source_hidden": true
    }
   },
   "source": [
    "pipe = Pipeline([\n",
    "(\"Normalise spectra\", FunctionTransformer(robust_scale , kw_args = {\"axis\": 1})),\n",
    "(\"Scaler\", FunctionTransformer(minmax_scale , kw_args = {\"axis\": 0})),\n",
    "#(\"RBFSampler\", RBFSampler(gamma = hp.Float(\"RBF_gamma\", 0, 5), n_components = hp.Int(\"RB_components\", 1, 169, 1))),\n",
    "(\"PCA\", PCA()),\n",
    "(\"LDA\", LinearDiscriminantAnalysis())])"
   ]
  },
  {
   "cell_type": "raw",
   "metadata": {
    "jupyter": {
     "source_hidden": true
    }
   },
   "source": [
    "pipe = Pipeline([\n",
    "(\"Normalise spectra\", FunctionTransformer(robust_scale , kw_args = {\"axis\": 1})),\n",
    "(\"Scaler\", FunctionTransformer(normalize , kw_args = {\"axis\": 0})),\n",
    "#(\"RBFSampler\", RBFSampler(gamma = hp.Float(\"RBF_gamma\", 0, 5), n_components = hp.Int(\"RB_components\", 1, 169, 1))),\n",
    "(\"PCA\", PCA()),\n",
    "(\"LDA\", LinearDiscriminantAnalysis())])"
   ]
  },
  {
   "cell_type": "raw",
   "metadata": {
    "jupyter": {
     "source_hidden": true
    }
   },
   "source": [
    "group = \"Patient_Number\"\n",
    "y = \"DODvsAlive\"\n",
    "\n",
    "#data = (total - paraffin.mean(axis = 0)).sample(frac = 0.1)\n",
    "data = total.copy().sample(frac = 1)\n",
    "data[\"sample_weights\"] = Cross_Eval.get_weights(data.reset_index()[f\"{group}\"]) * Cross_Eval.get_weights(data.reset_index()[f\"{y}\"])\n",
    "unique_patients = data.reset_index()[f\"{group}\"].unique()\n",
    "\n",
    "kfoldscores = []\n",
    "\n",
    "for train_i, valid_i in tqdm(list(KFold(n_splits = 10, shuffle = True).split(unique_patients))):\n",
    "    \n",
    "    train_pat, valid_pat = unique_patients[train_i], unique_patients[valid_i]\n",
    "\n",
    "    train_data = data.query(f\"{group} in {list(train_pat)}\")\n",
    "    validation_data = data.query(f\"{group} in {list(valid_pat)}\")\n",
    "\n",
    "    X_train, X_valid = train_data.drop([\"sample_weights\"], axis = 1), validation_data.drop([\"sample_weights\"], axis = 1), \n",
    "    y_train, y_valid = train_data.reset_index()[f\"{y}\"], validation_data.reset_index()[f\"{y}\"]\n",
    "    w_train, w_test = train_data.reset_index()[\"sample_weights\"], validation_data.reset_index()[\"sample_weights\"]\n",
    "\n",
    "    y_train.index = X_train.index\n",
    "    y_valid.index = X_valid.index\n",
    "\n",
    "    groups = X_train.reset_index()[f\"{group}\"]\n",
    "    groups.index = X_train.index\n",
    "\n",
    "    lb = LabelBinarizer().fit(total.reset_index()[f\"{y}\"].unique())\n",
    "\n",
    "    y_train_b = pd.DataFrame(lb.transform(y_train))\n",
    "    y_valid_b = pd.DataFrame(lb.transform(y_valid))\n",
    "    \n",
    "\n",
    "    opt_results = Cross_Eval.bayes_search(pipe\n",
    "                                      , param_dict\n",
    "                                      , X_train\n",
    "                                      , y_train_b.values.squeeze()\n",
    "                                      , GroupKFold(n_splits = 2)\n",
    "                                      , groups = groups\n",
    "                                      #, sample_weight = w_train.values\n",
    "                                      , verbose = 0\n",
    "                                      , n_iter = 10\n",
    "                                     )\n",
    "    \n",
    "    clf = pipe.set_params(**opt_results.best_params_)\n",
    "    \n",
    "    # Refit the classifier with the best parameters on the full dataset\n",
    "    clf.fit(X_train, y_train_b)\n",
    "    \n",
    "    try: #Try except statement in case of scoring problems\n",
    "        scores = Cross_Eval.score(clf, X_valid, y_valid_b)\n",
    "        \n",
    "    except:\n",
    "        continue\n",
    "        \n",
    "    kfoldscores.append(scores)\n",
    "\n",
    "date_time = datetime.now().strftime(\"%m.%d.%Y_%H:%M\")\n",
    "file_place = os.path.join(os.getcwd(), \"Plots\", y, date_time)\n",
    "\n",
    "if not os.path.exists(file_place):\n",
    "    os.mkdir(file_place)\n",
    "\n",
    "results = pd.DataFrame(kfoldscores)"
   ]
  },
  {
   "cell_type": "raw",
   "metadata": {
    "jupyter": {
     "source_hidden": true
    }
   },
   "source": [
    "results.describe()"
   ]
  },
  {
   "cell_type": "raw",
   "metadata": {
    "jupyter": {
     "source_hidden": true
    }
   },
   "source": [
    "fig, (ax, ax2) = plt.subplots(ncols = 2, figsize = (12, 5))\n",
    "\n",
    "for _, row in results.iterrows():\n",
    "    \n",
    "    ax.plot(row[\"FPR_curve\"], row[\"TPR_curve\"])\n",
    "    \n",
    "ax.plot([0,1],[0,1], c = \"black\", linestyle = '--')\n",
    "ax.set_xlabel('False Positive Rate')\n",
    "ax.set_ylabel('True Positive Rate')\n",
    "ax.set_title('ECS ROC Curve')\n",
    "\n",
    "ax.text(0.65, 0.2, \"AUC:{:.2f} +/- {:.2f}\".format(results[\"AUC\"].mean(), results[\"AUC\"].std()))\n",
    "\n",
    "for _, row in results.iterrows():\n",
    "    \n",
    "    ax2.plot(row[\"rec_curve\"], row[\"prec_curve\"])\n",
    "    \n",
    "ax2.set_xlabel('Recall')\n",
    "ax2.set_ylabel('Precision')\n",
    "ax2.set_title('Precision Recall Curve')\n",
    "\n",
    "fig.savefig(os.path.join(file_place, \"ROC_scores.png\"), bbox_inches = 'tight')"
   ]
  },
  {
   "cell_type": "raw",
   "metadata": {
    "jupyter": {
     "source_hidden": true
    }
   },
   "source": [
    "fig, ax = plt.subplots(ncols = 1)\n",
    "\n",
    "results[[\"AUC\", \"Specificity\", \"Sensitivity\", \"Precision\", \"Recall\", \"F1\"]].plot.box(ax = ax)\n",
    "ax.set_ylabel(\"Score\")\n",
    "\n",
    "results.to_excel(os.path.join(file_place, \"Confusion_Matrix_bad.xlsx\"))\n",
    "fig.savefig(os.path.join(file_place, \"scores.png\"), bbox_inches = 'tight')"
   ]
  },
  {
   "cell_type": "raw",
   "metadata": {},
   "source": [
    "from sklearn.model_selection import cross_val_score\n",
    "from mlxtend.evaluate import BootstrapOutOfBag\n",
    "from sklearn.model_selection import LeaveOneOut"
   ]
  },
  {
   "cell_type": "raw",
   "metadata": {
    "jupyter": {
     "source_hidden": true
    }
   },
   "source": [
    "ldapipe = Pipeline([\n",
    "    (\"Normalise spectra\", FunctionTransformer(robust_scale, kw_args = {\"axis\": 1})),\n",
    "    (\"Scaler\", RobustScaler()),\n",
    "    (\"PCA\", PCA()),\n",
    "    (\"clf\", LinearDiscriminantAnalysis())\n",
    "])\n",
    "\n",
    "#totalpca = pcapipe.fit(total.append(paraffin))\n",
    "#totalpca = pcapipe.fit(total.append(paraffin))"
   ]
  },
  {
   "cell_type": "code",
   "execution_count": 25,
   "metadata": {
    "jupyter": {
     "source_hidden": true
    }
   },
   "outputs": [],
   "source": [
    "ldapipe = Pipeline([\n",
    "    (\"Normalise spectra\", FunctionTransformer(robust_scale, kw_args = {\"axis\": 1})),\n",
    "    (\"Scaler\", RobustScaler()),\n",
    "    (\"PCA\", PCA()),\n",
    "    (\"clf\", LinearDiscriminantAnalysis())\n",
    "])\n",
    "\n",
    "#totalpca = pcapipe.fit(total.append(paraffin))\n",
    "#totalpca = pcapipe.fit(total.append(paraffin))"
   ]
  },
  {
   "cell_type": "raw",
   "metadata": {
    "jupyter": {
     "source_hidden": true
    }
   },
   "source": [
    "def get_weights(column):\n",
    "    \n",
    "    counts = column.value_counts()\n",
    "    weight_dict = dict(zip(counts.index, [(counts.values.sum()/n) for n in counts.values]))\n",
    "    \n",
    "    return column.map(weight_dict).values"
   ]
  },
  {
   "cell_type": "raw",
   "metadata": {
    "jupyter": {
     "source_hidden": true
    }
   },
   "source": [
    "data = total.copy().sample(frac = 1)\n",
    "group = \"Patient_Number\"\n",
    "y = \"DODvsAlive\"\n",
    "\n",
    "scoring_dict = {\n",
    "                \"Accuracy\": make_scorer(accuracy_score)\n",
    "               }\n",
    "\n",
    "\n",
    "patients = data.reset_index()[\"Patient_Number\"].unique()\n",
    "data[\"sample_weights\"] = get_weights(data.reset_index()[f\"{group}\"]) * get_weights(data.reset_index()[f\"{y}\"])\n",
    "\n",
    "results = dict()\n",
    "\n",
    "for train_i, test_i in tqdm(list(LeaveOneOut().split(patients))):\n",
    "    \n",
    "    train_pat , valid_pat = patients[train_i], patients[test_i]\n",
    "    \n",
    "    train_data = data.query(f\"{group} in {list(train_pat)}\")\n",
    "    validation_data = data.query(f\"{group} in {list(valid_pat)}\")\n",
    "\n",
    "    \n",
    "    X_train, X_valid = train_data.drop([\"sample_weights\"], axis = 1), validation_data.drop([\"sample_weights\"], axis = 1), \n",
    "    y_train, y_valid = train_data.reset_index()[f\"{y}\"], validation_data.reset_index()[f\"{y}\"]\n",
    "    w_train, w_test = train_data.reset_index()[\"sample_weights\"], validation_data.reset_index()[\"sample_weights\"]\n",
    "    \n",
    "\n",
    "    y_train.index = X_train.index\n",
    "    y_valid.index = X_valid.index\n",
    "    \n",
    "    groups = X_train.reset_index()[f\"{group}\"]\n",
    "    groups.index = X_train.index\n",
    "\n",
    "\n",
    "    lb = LabelBinarizer().fit(data.reset_index()[f\"{y}\"])\n",
    "\n",
    "    y_train_b = pd.DataFrame(lb.transform(y_train))\n",
    "    y_valid_b = pd.DataFrame(lb.transform(y_valid))\n",
    "\n",
    "    scorer = make_scorer(roc_auc_score, needs_proba = True, average = 'weighted')\n",
    "    \n",
    "    ldapipe.fit(X_train, y_train_b.values.squeeze())\n",
    "    \n",
    "    scores = dict()\n",
    "\n",
    "    for name, scorer in scoring_dict.items():\n",
    "        \n",
    "        scores[name] = scorer(ldapipe, X_valid, y_valid_b)\n",
    "        \n",
    "    results[valid_pat[0]] = scores"
   ]
  },
  {
   "cell_type": "markdown",
   "metadata": {},
   "source": [
    "## Keras Tuner"
   ]
  },
  {
   "cell_type": "code",
   "execution_count": 26,
   "metadata": {},
   "outputs": [],
   "source": [
    "import kerastuner as kt"
   ]
  },
  {
   "cell_type": "code",
   "execution_count": 27,
   "metadata": {
    "jupyter": {
     "source_hidden": true
    }
   },
   "outputs": [],
   "source": [
    "def build_LDA(hp):\n",
    "    \n",
    "    scalers = {\"Normalize\" : normalize,\n",
    "               \"Robust\"    : robust_scale,\n",
    "               \"MinMax\"    : minmax_scale}\n",
    "    \n",
    "    scale1 = hp.Choice('scale1', [\"Normalize\", \"Robust\", \"MinMax\"])\n",
    "    scale2 = hp.Choice('scale2', [\"Normalize\", \"Robust\", \"MinMax\"])\n",
    "\n",
    "\n",
    "    pipe = Pipeline([\n",
    "    (\"Normalise spectra\", FunctionTransformer(scalers[scale1] , kw_args = {\"axis\": 1})),\n",
    "    (\"Scaler\", FunctionTransformer(scalers[scale2] , kw_args = {\"axis\": 0})),\n",
    "    (\"PCA\", PCA(n_components = hp.Int(\"PCA_components\", 1, len(data.columns) - 1, 1))),\n",
    "    (\"clf\", CalibratedClassifierCV(LinearDiscriminantAnalysis()))])\n",
    "    \n",
    "    return pipe"
   ]
  },
  {
   "cell_type": "code",
   "execution_count": 27,
   "metadata": {},
   "outputs": [],
   "source": [
    "def build_LR(hp):\n",
    "    \n",
    "    scalers = {\"Normalize\" : normalize,\n",
    "               \"Robust\"    : robust_scale,\n",
    "               \"MinMax\"    : minmax_scale}\n",
    "    \n",
    "    scale1 = hp.Choice('scale1', [\"Normalize\", \"Robust\", \"MinMax\"])\n",
    "    scale2 = hp.Choice('scale2', [\"Normalize\", \"Robust\", \"MinMax\"])\n",
    "    \n",
    "    params = {\n",
    "        \"penalty\"  : hp.Choice('Penalty', [\"l2\"]),\n",
    "        \"tol\"      : hp.Float('Tolerance', 0, 1),\n",
    "        \"C\"        : hp.Float('C', 1e-5, 1),\n",
    "        \"solver\"   : \"sag\"\n",
    "    }\n",
    "    \n",
    "    clf = LogisticRegression()\n",
    "    clf.set_params(**params)\n",
    "\n",
    "\n",
    "    pipe = Pipeline([\n",
    "    (\"Normalise spectra\", FunctionTransformer(scalers[scale1] , kw_args = {\"axis\": 1})),\n",
    "    (\"Scaler\", FunctionTransformer(scalers[scale2] , kw_args = {\"axis\": 0})),\n",
    "    (\"PCA\", PCA(n_components = hp.Int(\"PCA_components\", 1, len(data.columns) - 1, 1))),\n",
    "    (\"clf\", CalibratedClassifierCV(clf))])\n",
    "    \n",
    "    return pipe"
   ]
  },
  {
   "cell_type": "code",
   "execution_count": 35,
   "metadata": {},
   "outputs": [],
   "source": [
    "from sklearn.naive_bayes import GaussianNB\n",
    "\n",
    "def build_NB(hp):\n",
    "    \n",
    "    scalers = {\"Normalize\" : normalize,\n",
    "               \"Robust\"    : robust_scale,\n",
    "               \"MinMax\"    : minmax_scale}\n",
    "    \n",
    "    scale1 = hp.Choice('scale1', [\"Normalize\", \"Robust\", \"MinMax\"])\n",
    "    scale2 = hp.Choice('scale2', [\"Normalize\", \"Robust\", \"MinMax\"])\n",
    "    \n",
    "    clf = GaussianNB()\n",
    "    \n",
    "    #params = {\n",
    "    #    \"var_smoothing\": hp.Float(\"var_smoothing\", 1e-9, 1)}\n",
    "    \n",
    "    #clf.set_params(**params)\n",
    "\n",
    "\n",
    "    pipe = Pipeline([\n",
    "    (\"Normalise spectra\", FunctionTransformer(scalers[scale1] , kw_args = {\"axis\": 1})),\n",
    "    (\"Scaler\", FunctionTransformer(scalers[scale2] , kw_args = {\"axis\": 0})),\n",
    "    (\"PCA\", PCA(n_components = hp.Int(\"PCA_components\", 1, len(data.columns) - 1, 1))),\n",
    "    (\"clf\", CalibratedClassifierCV(clf))])\n",
    "    \n",
    "    return pipe"
   ]
  },
  {
   "cell_type": "code",
   "execution_count": 30,
   "metadata": {},
   "outputs": [],
   "source": [
    "from keras.wrappers.scikit_learn import KerasClassifier\n",
    "\n",
    "from keras.models import Sequential\n",
    "import keras.layers as Layers\n",
    "\n",
    "import tensorflow as tf\n",
    "\n",
    "def build_NN(hp):\n",
    "    \n",
    "    scalers = {\"Normalize\" : normalize,\n",
    "               \"Robust\"    : robust_scale,\n",
    "               \"MinMax\"    : minmax_scale}\n",
    "    \n",
    "    scale1 = hp.Choice('scale1', [\"Normalize\", \"Robust\", \"MinMax\"])\n",
    "    scale2 = hp.Choice('scale2', [\"Normalize\", \"Robust\", \"MinMax\"])\n",
    "    \n",
    "    pca_comps = hp.Int(\"PCA_components\", 1, len(data.columns) - 1, 1)\n",
    "    \n",
    "    \n",
    "    def build_keras():\n",
    "        \n",
    "        model = Sequential()\n",
    "        model.add(Layers.Input(shape=(pca_comps,)))\n",
    "\n",
    "        for i, layer_n in enumerate(range(hp.Int(\"N_layers\", 2, 20))):\n",
    "\n",
    "            model.add(Layers.Dense(hp.Int(f\"layer_{i}_nodes\", 5, 100), activation=\"relu\"))\n",
    "\n",
    "        model.add(Layers.Dense(1, activation=\"sigmoid\"))\n",
    "        model.compile(loss=\"binary_crossentropy\",optimizer=\"adam\", metrics=[tf.keras.metrics.AUC()])\n",
    "        \n",
    "        return model\n",
    "    \n",
    "    \n",
    "    clf=KerasClassifier(build_fn=build_keras,epochs=2,batch_size=32,verbose=0)    \n",
    "\n",
    "    pipe = Pipeline([\n",
    "    (\"Normalise spectra\", FunctionTransformer(scalers[scale1] , kw_args = {\"axis\": 1})),\n",
    "    (\"Scaler\", FunctionTransformer(scalers[scale2] , kw_args = {\"axis\": 0})),\n",
    "    (\"PCA\", PCA(n_components=pca_comps)),\n",
    "    (\"clf\", clf)])\n",
    "    \n",
    "    return pipe"
   ]
  },
  {
   "cell_type": "code",
   "execution_count": 31,
   "metadata": {
    "jupyter": {
     "source_hidden": true
    }
   },
   "outputs": [],
   "source": [
    "def build_LDA_categorical(hp):\n",
    "\n",
    "    scalers = {\"Normalize\" : normalize,\n",
    "               \"Robust\"    : robust_scale,\n",
    "               \"MinMax\"    : minmax_scale}\n",
    "    \n",
    "    scale1 = hp.Choice('scale1', [\"Normalize\", \"Robust\", \"MinMax\"])\n",
    "    scale2 = hp.Choice('scale2', [\"Normalize\", \"Robust\", \"MinMax\"])\n",
    "    \n",
    "    numeric_features = total.columns\n",
    "    categorical_features = [\"ECS\"]\n",
    "    \n",
    "    numeric_features = np.arange(1, len(total.columns)+1)\n",
    "    categorical_features = [0]\n",
    "    \n",
    "    numeric_pipe = Pipeline([\n",
    "    (\"Normalise spectra\", FunctionTransformer(scalers[scale1] , kw_args = {\"axis\": 1})),\n",
    "    (\"Scaler\", FunctionTransformer(scalers[scale2] , kw_args = {\"axis\": 0})),\n",
    "    (\"PCA\", PCA(n_components = hp.Int(\"PCA_components\", 1, len(data.columns) - len(categorical_features) - 2, 1))),\n",
    "    ])\n",
    "    \n",
    "    OHE = OneHotEncoder()\n",
    "    OHE.fit(data[\"ASMA\"].values.reshape(-1,1))\n",
    "    \n",
    "    categorical_pipe = Pipeline([\n",
    "        (\"OneHot\", OHE)\n",
    "    ])\n",
    "    \n",
    "    preprocessing = ColumnTransformer(\n",
    "        [(\"Numerical\", numeric_pipe, numeric_features),\n",
    "         (\"Categorical\", categorical_pipe, categorical_features)])\n",
    "    \n",
    "    pipe = Pipeline([\n",
    "        (\"Preprocessing\", preprocessing),\n",
    "        (\"clf\", LinearDiscriminantAnalysis())\n",
    "    ])\n",
    "    \n",
    "    return pipe"
   ]
  },
  {
   "cell_type": "code",
   "execution_count": 32,
   "metadata": {
    "jupyter": {
     "source_hidden": true
    }
   },
   "outputs": [],
   "source": [
    "def build_LDA_categorical(hp):\n",
    "\n",
    "    scalers = {\"Normalize\" : normalize,\n",
    "               \"Robust\"    : robust_scale,\n",
    "               \"MinMax\"    : minmax_scale}\n",
    "    \n",
    "    scale1 = hp.Choice('scale1', [\"Normalize\", \"Robust\", \"MinMax\"])\n",
    "    scale2 = hp.Choice('scale2', [\"Normalize\", \"Robust\", \"MinMax\"])\n",
    "    \n",
    "    numeric_features = total.columns\n",
    "    categorical_features = [\"ASMA\"]\n",
    "    \n",
    "    numeric_features = np.arange(1, len(total.columns)+1)\n",
    "    categorical_features = [0]\n",
    "    \n",
    "    numeric_pipe = Pipeline([\n",
    "    (\"Normalise spectra\", FunctionTransformer(scalers[scale1] , kw_args = {\"axis\": 1})),\n",
    "    (\"Scaler\", FunctionTransformer(scalers[scale2] , kw_args = {\"axis\": 0})),\n",
    "    (\"PCA\", PCA(n_components = hp.Int(\"PCA_components\", 1, len(data.columns) - len(categorical_features) - 2, 1))),\n",
    "    ])\n",
    "    \n",
    "    OHE = OneHotEncoder()\n",
    "    OHE.fit(data.reset_index()[\"ASMA\"].values.reshape(-1,1))\n",
    "    \n",
    "    categorical_pipe = Pipeline([\n",
    "        (\"OneHot\", OHE)\n",
    "    ])\n",
    "    \n",
    "    preprocessing = ColumnTransformer(\n",
    "        [(\"Numerical\", numeric_pipe, numeric_features),\n",
    "         (\"Categorical\", categorical_pipe, categorical_features)])\n",
    "    \n",
    "    pipe = Pipeline([\n",
    "        (\"Preprocessing\", preprocessing),\n",
    "        (\"clf\", LinearDiscriminantAnalysis())\n",
    "    ])\n",
    "    \n",
    "    return pipe"
   ]
  },
  {
   "cell_type": "code",
   "execution_count": 33,
   "metadata": {
    "jupyter": {
     "source_hidden": true
    }
   },
   "outputs": [],
   "source": [
    "def build_LDA_categorical_only(hp):\n",
    "\n",
    "    OHE = OneHotEncoder(sparse = False)\n",
    "    #OHE.fit(data.reset_index()[\"ASMA\"].values.reshape(-1,1))\n",
    "    \n",
    "    categorical_pipe = Pipeline([\n",
    "        (\"OneHot\", OHE)\n",
    "    ])\n",
    "\n",
    "    pipe = Pipeline([\n",
    "        (\"Preprocessing\", categorical_pipe),\n",
    "        (\"clf\", LinearDiscriminantAnalysis())\n",
    "    ])\n",
    "    \n",
    "    return pipe"
   ]
  },
  {
   "cell_type": "code",
   "execution_count": 34,
   "metadata": {
    "jupyter": {
     "source_hidden": true
    }
   },
   "outputs": [],
   "source": [
    "from xgboost import XGBClassifier\n",
    "\n",
    "def build_XG(hp):\n",
    "\n",
    "    params = {\n",
    "        'n_estimators': hp.Int(\"n_estimators\", 10, 1000, 10),\n",
    "        'eta': hp.Float('eta', 0, 1, 0.05),\n",
    "        'gamma': hp.Float('gamma', 0, 1, 0.05),\n",
    "        'max_depth' : hp.Int('max_depth', 1, 15, 1),\n",
    "        'min_child_weight' : hp.Int('min_child_weight', 1, 20, 1),\n",
    "        'subsample' : hp.Float('subsample', 0, 1, 0.05),\n",
    "        'colsample_bytree' : hp.Float('colsample_bytree', 0, 1, 0.05),\n",
    "        #'lambda ' : hp.Float('lambda', 0, 1, 0.05),\n",
    "        'alpha' : hp.Float('alpha', 0, 1, 0.05),\n",
    "    }\n",
    "\n",
    "    clf = XGBClassifier(objective = \"binary:logistic\")\n",
    "    clf = clf.set_params(**params)\n",
    "    \n",
    "    #---------------------------------------------------------------------------------------------------\n",
    "    scalers = {\"Normalize\" : normalize,\n",
    "               \"Robust\"    : robust_scale,\n",
    "               \"MinMax\"    : minmax_scale}\n",
    "    \n",
    "    # Decide pre processing steps\n",
    "    scale1 = hp.Choice('scale1', [\"Normalize\", \"Robust\", \"MinMax\"])\n",
    "    scale2 = hp.Choice('scale2', [\"Normalize\", \"Robust\", \"MinMax\"])\n",
    "\n",
    "    pipe = Pipeline([\n",
    "    (\"Normalise spectra\", FunctionTransformer(scalers[scale1] , kw_args = {\"axis\": 1})),\n",
    "    (\"Scaler\", FunctionTransformer(scalers[scale2] , kw_args = {\"axis\": 0})),\n",
    "    (\"PCA\", PCA(n_components = hp.Int(\"PCA_components\", 1, len(data.columns) - 1, 1))),\n",
    "    (\"clf\", CalibratedClassifierCV(clf))])\n",
    "    \n",
    "    return pipe"
   ]
  },
  {
   "cell_type": "markdown",
   "metadata": {},
   "source": [
    "oracle = kt.oracles.BayesianOptimization(objective = kt.Objective('score', 'max')\n",
    "                                         , max_trials = 10)              \n",
    "\n",
    "tuner = kt.tuners.Sklearn(oracle = oracle\n",
    "                          #, cv = GroupKFold(n_splits = 3)\n",
    "                          , hypermodel = build_LDA\n",
    "                          , directory = os.path.join(os.getcwd(), \"KerasTuner\", datetime.now().strftime(\"%d.%m.%Y_%H:%M:%S\"))\n",
    "                          , scoring = make_scorer(roc_auc_score, needs_proba = True, average = 'weighted')\n",
    "                         )"
   ]
  },
  {
   "cell_type": "markdown",
   "metadata": {},
   "source": [
    "tuner.search(X_train.values, y_train_b.values.squeeze()#, sample_weight = w_train.values, groups = groups.values)\n",
    "            #, **{\"clf__sample_weight\": w_train.values}\n",
    "            #, sample_weight = w_train.values\n",
    "            , groups = groups.values\n",
    "            )"
   ]
  },
  {
   "cell_type": "code",
   "execution_count": 29,
   "metadata": {},
   "outputs": [],
   "source": [
    "min_=total.groupby(\"Patient_Number\").count().min()[0]\n",
    "sampled = pd.concat([df.sample(min_) for name, df in total.groupby(\"Patient_Number\")])"
   ]
  },
  {
   "cell_type": "code",
   "execution_count": 36,
   "metadata": {},
   "outputs": [
    {
     "data": {
      "text/html": [
       "<div>\n",
       "<style scoped>\n",
       "    .dataframe tbody tr th:only-of-type {\n",
       "        vertical-align: middle;\n",
       "    }\n",
       "\n",
       "    .dataframe tbody tr th {\n",
       "        vertical-align: top;\n",
       "    }\n",
       "\n",
       "    .dataframe thead th {\n",
       "        text-align: right;\n",
       "    }\n",
       "</style>\n",
       "<table border=\"1\" class=\"dataframe\">\n",
       "  <thead>\n",
       "    <tr style=\"text-align: right;\">\n",
       "      <th></th>\n",
       "      <th></th>\n",
       "      <th></th>\n",
       "      <th></th>\n",
       "      <th></th>\n",
       "      <th></th>\n",
       "      <th></th>\n",
       "      <th></th>\n",
       "      <th></th>\n",
       "      <th></th>\n",
       "      <th></th>\n",
       "      <th></th>\n",
       "      <th></th>\n",
       "      <th></th>\n",
       "      <th></th>\n",
       "      <th></th>\n",
       "      <th></th>\n",
       "      <th></th>\n",
       "      <th></th>\n",
       "      <th></th>\n",
       "      <th></th>\n",
       "      <th></th>\n",
       "      <th></th>\n",
       "      <th></th>\n",
       "      <th></th>\n",
       "      <th></th>\n",
       "      <th></th>\n",
       "      <th></th>\n",
       "      <th></th>\n",
       "      <th></th>\n",
       "      <th></th>\n",
       "      <th></th>\n",
       "      <th></th>\n",
       "      <th></th>\n",
       "      <th></th>\n",
       "      <th></th>\n",
       "      <th></th>\n",
       "      <th></th>\n",
       "      <th></th>\n",
       "      <th></th>\n",
       "      <th></th>\n",
       "      <th></th>\n",
       "      <th></th>\n",
       "      <th></th>\n",
       "      <th></th>\n",
       "      <th></th>\n",
       "      <th></th>\n",
       "      <th></th>\n",
       "      <th></th>\n",
       "      <th></th>\n",
       "      <th></th>\n",
       "      <th>998.0</th>\n",
       "      <th>1002.0</th>\n",
       "      <th>1006.0</th>\n",
       "      <th>1010.0</th>\n",
       "      <th>1014.0</th>\n",
       "      <th>1018.0</th>\n",
       "      <th>1022.0</th>\n",
       "      <th>1025.0</th>\n",
       "      <th>1029.0</th>\n",
       "      <th>1033.0</th>\n",
       "      <th>...</th>\n",
       "      <th>1762.0</th>\n",
       "      <th>1766.0</th>\n",
       "      <th>1770.0</th>\n",
       "      <th>1774.0</th>\n",
       "      <th>1778.0</th>\n",
       "      <th>1781.0</th>\n",
       "      <th>1785.0</th>\n",
       "      <th>1789.0</th>\n",
       "      <th>1793.0</th>\n",
       "      <th>1797.0</th>\n",
       "    </tr>\n",
       "    <tr>\n",
       "      <th>1year</th>\n",
       "      <th>2year</th>\n",
       "      <th>2years</th>\n",
       "      <th>3year</th>\n",
       "      <th>4year</th>\n",
       "      <th>5year</th>\n",
       "      <th>ASMA</th>\n",
       "      <th>Annotation_loc</th>\n",
       "      <th>Case ID</th>\n",
       "      <th>Core_x</th>\n",
       "      <th>Core_y</th>\n",
       "      <th>Corrected Site AJCC/UICC</th>\n",
       "      <th>DODvsAlive</th>\n",
       "      <th>Date of death</th>\n",
       "      <th>Date of recurrence</th>\n",
       "      <th>Diagnosis Age</th>\n",
       "      <th>DiedvsAlive</th>\n",
       "      <th>ECS_x</th>\n",
       "      <th>ECS_y</th>\n",
       "      <th>ID</th>\n",
       "      <th>Last seen/reviewed</th>\n",
       "      <th>Last updated</th>\n",
       "      <th>N stage</th>\n",
       "      <th>OUTCOME</th>\n",
       "      <th>OUTCOME.updated by</th>\n",
       "      <th>Overall Death</th>\n",
       "      <th>Pathogical Stage</th>\n",
       "      <th>Patient nu</th>\n",
       "      <th>Patient_Number</th>\n",
       "      <th>Recurrence?</th>\n",
       "      <th>T stage</th>\n",
       "      <th>TMA</th>\n",
       "      <th>TMA site</th>\n",
       "      <th>Tissue</th>\n",
       "      <th>Years</th>\n",
       "      <th>advancing front type</th>\n",
       "      <th>age @ diag</th>\n",
       "      <th>date of diag</th>\n",
       "      <th>diff</th>\n",
       "      <th>envi_loc</th>\n",
       "      <th>gender_x</th>\n",
       "      <th>gender_y</th>\n",
       "      <th>lifespan</th>\n",
       "      <th>pN</th>\n",
       "      <th>pT</th>\n",
       "      <th>radiotherapy</th>\n",
       "      <th>recurrence</th>\n",
       "      <th>site</th>\n",
       "      <th>site of recurrence</th>\n",
       "      <th>stage</th>\n",
       "      <th>survival (months)</th>\n",
       "      <th></th>\n",
       "      <th></th>\n",
       "      <th></th>\n",
       "      <th></th>\n",
       "      <th></th>\n",
       "      <th></th>\n",
       "      <th></th>\n",
       "      <th></th>\n",
       "      <th></th>\n",
       "      <th></th>\n",
       "      <th></th>\n",
       "      <th></th>\n",
       "      <th></th>\n",
       "      <th></th>\n",
       "      <th></th>\n",
       "      <th></th>\n",
       "      <th></th>\n",
       "      <th></th>\n",
       "      <th></th>\n",
       "      <th></th>\n",
       "      <th></th>\n",
       "    </tr>\n",
       "  </thead>\n",
       "  <tbody>\n",
       "    <tr>\n",
       "      <th rowspan=\"5\" valign=\"top\">True</th>\n",
       "      <th rowspan=\"5\" valign=\"top\">True</th>\n",
       "      <th rowspan=\"5\" valign=\"top\">1</th>\n",
       "      <th rowspan=\"5\" valign=\"top\">False</th>\n",
       "      <th rowspan=\"5\" valign=\"top\">False</th>\n",
       "      <th rowspan=\"5\" valign=\"top\">False</th>\n",
       "      <th rowspan=\"5\" valign=\"top\">I</th>\n",
       "      <th rowspan=\"3\" valign=\"top\">/mnt/b/Google_Drive/PhD/Project with Janet/Label_Images/TMA_1/TMA_1.2_D9.png</th>\n",
       "      <th rowspan=\"3\" valign=\"top\">3237</th>\n",
       "      <th rowspan=\"3\" valign=\"top\">D9</th>\n",
       "      <th rowspan=\"3\" valign=\"top\">D9</th>\n",
       "      <th rowspan=\"3\" valign=\"top\">other</th>\n",
       "      <th rowspan=\"3\" valign=\"top\">Other</th>\n",
       "      <th rowspan=\"3\" valign=\"top\">2007-10-19</th>\n",
       "      <th rowspan=\"3\" valign=\"top\">NaT</th>\n",
       "      <th rowspan=\"3\" valign=\"top\">59.0</th>\n",
       "      <th rowspan=\"3\" valign=\"top\">Died</th>\n",
       "      <th rowspan=\"3\" valign=\"top\">yes</th>\n",
       "      <th rowspan=\"3\" valign=\"top\">Y</th>\n",
       "      <th rowspan=\"3\" valign=\"top\">1.0-D9</th>\n",
       "      <th rowspan=\"3\" valign=\"top\">NaT</th>\n",
       "      <th rowspan=\"3\" valign=\"top\">NaT</th>\n",
       "      <th rowspan=\"3\" valign=\"top\">2a</th>\n",
       "      <th rowspan=\"3\" valign=\"top\">Died other</th>\n",
       "      <th rowspan=\"3\" valign=\"top\">CBarry</th>\n",
       "      <th rowspan=\"3\" valign=\"top\">yes</th>\n",
       "      <th rowspan=\"3\" valign=\"top\">pT4aN2aMx</th>\n",
       "      <th rowspan=\"3\" valign=\"top\">3237</th>\n",
       "      <th rowspan=\"3\" valign=\"top\">3237</th>\n",
       "      <th rowspan=\"3\" valign=\"top\">no</th>\n",
       "      <th rowspan=\"3\" valign=\"top\">4a</th>\n",
       "      <th rowspan=\"3\" valign=\"top\">1.0</th>\n",
       "      <th rowspan=\"3\" valign=\"top\">D9</th>\n",
       "      <th rowspan=\"3\" valign=\"top\">Tumour</th>\n",
       "      <th rowspan=\"3\" valign=\"top\">1.0</th>\n",
       "      <th rowspan=\"3\" valign=\"top\">non-cohesive</th>\n",
       "      <th rowspan=\"3\" valign=\"top\">59</th>\n",
       "      <th rowspan=\"3\" valign=\"top\">2006-03-24</th>\n",
       "      <th rowspan=\"3\" valign=\"top\">mod well</th>\n",
       "      <th rowspan=\"3\" valign=\"top\">/mnt/b/Google_Drive/PhD/Project with Janet/Kohler_Corrected/TMA_1TMA_1.2_D9.HDR</th>\n",
       "      <th rowspan=\"3\" valign=\"top\">m</th>\n",
       "      <th rowspan=\"3\" valign=\"top\">m</th>\n",
       "      <th rowspan=\"3\" valign=\"top\">574 days</th>\n",
       "      <th rowspan=\"3\" valign=\"top\">2a</th>\n",
       "      <th rowspan=\"3\" valign=\"top\">4a</th>\n",
       "      <th rowspan=\"3\" valign=\"top\">yes</th>\n",
       "      <th rowspan=\"3\" valign=\"top\">yes</th>\n",
       "      <th rowspan=\"3\" valign=\"top\">other</th>\n",
       "      <th rowspan=\"3\" valign=\"top\">NaN</th>\n",
       "      <th rowspan=\"3\" valign=\"top\">4</th>\n",
       "      <th>2.0</th>\n",
       "      <td>0.047017</td>\n",
       "      <td>0.047418</td>\n",
       "      <td>0.048709</td>\n",
       "      <td>0.050717</td>\n",
       "      <td>0.053275</td>\n",
       "      <td>0.056212</td>\n",
       "      <td>0.058977</td>\n",
       "      <td>0.062173</td>\n",
       "      <td>0.065253</td>\n",
       "      <td>0.068090</td>\n",
       "      <td>...</td>\n",
       "      <td>0.046913</td>\n",
       "      <td>0.046558</td>\n",
       "      <td>0.046403</td>\n",
       "      <td>0.046348</td>\n",
       "      <td>0.046332</td>\n",
       "      <td>0.046510</td>\n",
       "      <td>0.046708</td>\n",
       "      <td>0.046879</td>\n",
       "      <td>0.047003</td>\n",
       "      <td>0.047217</td>\n",
       "    </tr>\n",
       "    <tr>\n",
       "      <th>2.0</th>\n",
       "      <td>0.053835</td>\n",
       "      <td>0.054666</td>\n",
       "      <td>0.055673</td>\n",
       "      <td>0.056849</td>\n",
       "      <td>0.058188</td>\n",
       "      <td>0.059683</td>\n",
       "      <td>0.061088</td>\n",
       "      <td>0.062973</td>\n",
       "      <td>0.064962</td>\n",
       "      <td>0.066987</td>\n",
       "      <td>...</td>\n",
       "      <td>0.054788</td>\n",
       "      <td>0.054131</td>\n",
       "      <td>0.053585</td>\n",
       "      <td>0.053179</td>\n",
       "      <td>0.052928</td>\n",
       "      <td>0.052899</td>\n",
       "      <td>0.052897</td>\n",
       "      <td>0.052930</td>\n",
       "      <td>0.052869</td>\n",
       "      <td>0.052797</td>\n",
       "    </tr>\n",
       "    <tr>\n",
       "      <th>2.0</th>\n",
       "      <td>0.043627</td>\n",
       "      <td>0.045923</td>\n",
       "      <td>0.048177</td>\n",
       "      <td>0.050443</td>\n",
       "      <td>0.052778</td>\n",
       "      <td>0.055237</td>\n",
       "      <td>0.057742</td>\n",
       "      <td>0.060791</td>\n",
       "      <td>0.064110</td>\n",
       "      <td>0.067322</td>\n",
       "      <td>...</td>\n",
       "      <td>0.048729</td>\n",
       "      <td>0.048310</td>\n",
       "      <td>0.048095</td>\n",
       "      <td>0.048082</td>\n",
       "      <td>0.048139</td>\n",
       "      <td>0.048305</td>\n",
       "      <td>0.048442</td>\n",
       "      <td>0.048683</td>\n",
       "      <td>0.048814</td>\n",
       "      <td>0.048934</td>\n",
       "    </tr>\n",
       "    <tr>\n",
       "      <th>/mnt/b/Google_Drive/PhD/Project with Janet/Label_Images/TMA_2/TMA_1.1_B5.png</th>\n",
       "      <th>3237</th>\n",
       "      <th>B5</th>\n",
       "      <th>B5</th>\n",
       "      <th>other</th>\n",
       "      <th>Other</th>\n",
       "      <th>2007-10-19</th>\n",
       "      <th>NaT</th>\n",
       "      <th>59.0</th>\n",
       "      <th>Died</th>\n",
       "      <th>yes</th>\n",
       "      <th>Y</th>\n",
       "      <th>2.0-B5</th>\n",
       "      <th>NaT</th>\n",
       "      <th>NaT</th>\n",
       "      <th>2a</th>\n",
       "      <th>Died other</th>\n",
       "      <th>CBarry</th>\n",
       "      <th>yes</th>\n",
       "      <th>pT4aN2aMx</th>\n",
       "      <th>3237</th>\n",
       "      <th>3237</th>\n",
       "      <th>no</th>\n",
       "      <th>4a</th>\n",
       "      <th>2.0</th>\n",
       "      <th>B5</th>\n",
       "      <th>Tumour</th>\n",
       "      <th>1.0</th>\n",
       "      <th>non-cohesive</th>\n",
       "      <th>59</th>\n",
       "      <th>2006-03-24</th>\n",
       "      <th>mod well</th>\n",
       "      <th>/mnt/b/Google_Drive/PhD/Project with Janet/Kohler_Corrected/TMA_2TMA_1.1_B5.HDR</th>\n",
       "      <th>m</th>\n",
       "      <th>m</th>\n",
       "      <th>574 days</th>\n",
       "      <th>2a</th>\n",
       "      <th>4a</th>\n",
       "      <th>yes</th>\n",
       "      <th>yes</th>\n",
       "      <th>other</th>\n",
       "      <th>NaN</th>\n",
       "      <th>4</th>\n",
       "      <th>2.0</th>\n",
       "      <td>0.036255</td>\n",
       "      <td>0.037289</td>\n",
       "      <td>0.038593</td>\n",
       "      <td>0.040178</td>\n",
       "      <td>0.042050</td>\n",
       "      <td>0.044221</td>\n",
       "      <td>0.046440</td>\n",
       "      <td>0.049578</td>\n",
       "      <td>0.052740</td>\n",
       "      <td>0.055728</td>\n",
       "      <td>...</td>\n",
       "      <td>0.036537</td>\n",
       "      <td>0.036897</td>\n",
       "      <td>0.037486</td>\n",
       "      <td>0.037684</td>\n",
       "      <td>0.037438</td>\n",
       "      <td>0.037322</td>\n",
       "      <td>0.037420</td>\n",
       "      <td>0.037717</td>\n",
       "      <td>0.037995</td>\n",
       "      <td>0.038375</td>\n",
       "    </tr>\n",
       "    <tr>\n",
       "      <th>/mnt/b/Google_Drive/PhD/Project with Janet/Label_Images/TMA_1/TMA_1.2_D9.png</th>\n",
       "      <th>3237</th>\n",
       "      <th>D9</th>\n",
       "      <th>D9</th>\n",
       "      <th>other</th>\n",
       "      <th>Other</th>\n",
       "      <th>2007-10-19</th>\n",
       "      <th>NaT</th>\n",
       "      <th>59.0</th>\n",
       "      <th>Died</th>\n",
       "      <th>yes</th>\n",
       "      <th>Y</th>\n",
       "      <th>1.0-D9</th>\n",
       "      <th>NaT</th>\n",
       "      <th>NaT</th>\n",
       "      <th>2a</th>\n",
       "      <th>Died other</th>\n",
       "      <th>CBarry</th>\n",
       "      <th>yes</th>\n",
       "      <th>pT4aN2aMx</th>\n",
       "      <th>3237</th>\n",
       "      <th>3237</th>\n",
       "      <th>no</th>\n",
       "      <th>4a</th>\n",
       "      <th>1.0</th>\n",
       "      <th>D9</th>\n",
       "      <th>Tumour</th>\n",
       "      <th>1.0</th>\n",
       "      <th>non-cohesive</th>\n",
       "      <th>59</th>\n",
       "      <th>2006-03-24</th>\n",
       "      <th>mod well</th>\n",
       "      <th>/mnt/b/Google_Drive/PhD/Project with Janet/Kohler_Corrected/TMA_1TMA_1.2_D9.HDR</th>\n",
       "      <th>m</th>\n",
       "      <th>m</th>\n",
       "      <th>574 days</th>\n",
       "      <th>2a</th>\n",
       "      <th>4a</th>\n",
       "      <th>yes</th>\n",
       "      <th>yes</th>\n",
       "      <th>other</th>\n",
       "      <th>NaN</th>\n",
       "      <th>4</th>\n",
       "      <th>2.0</th>\n",
       "      <td>0.058800</td>\n",
       "      <td>0.059051</td>\n",
       "      <td>0.059667</td>\n",
       "      <td>0.060602</td>\n",
       "      <td>0.061812</td>\n",
       "      <td>0.063252</td>\n",
       "      <td>0.064742</td>\n",
       "      <td>0.066381</td>\n",
       "      <td>0.068135</td>\n",
       "      <td>0.070117</td>\n",
       "      <td>...</td>\n",
       "      <td>0.063776</td>\n",
       "      <td>0.063387</td>\n",
       "      <td>0.063112</td>\n",
       "      <td>0.062866</td>\n",
       "      <td>0.062493</td>\n",
       "      <td>0.062032</td>\n",
       "      <td>0.061509</td>\n",
       "      <td>0.061170</td>\n",
       "      <td>0.060976</td>\n",
       "      <td>0.060927</td>\n",
       "    </tr>\n",
       "    <tr>\n",
       "      <th>...</th>\n",
       "      <th>...</th>\n",
       "      <th>...</th>\n",
       "      <th>...</th>\n",
       "      <th>...</th>\n",
       "      <th>...</th>\n",
       "      <th>...</th>\n",
       "      <th>...</th>\n",
       "      <th>...</th>\n",
       "      <th>...</th>\n",
       "      <th>...</th>\n",
       "      <th>...</th>\n",
       "      <th>...</th>\n",
       "      <th>...</th>\n",
       "      <th>...</th>\n",
       "      <th>...</th>\n",
       "      <th>...</th>\n",
       "      <th>...</th>\n",
       "      <th>...</th>\n",
       "      <th>...</th>\n",
       "      <th>...</th>\n",
       "      <th>...</th>\n",
       "      <th>...</th>\n",
       "      <th>...</th>\n",
       "      <th>...</th>\n",
       "      <th>...</th>\n",
       "      <th>...</th>\n",
       "      <th>...</th>\n",
       "      <th>...</th>\n",
       "      <th>...</th>\n",
       "      <th>...</th>\n",
       "      <th>...</th>\n",
       "      <th>...</th>\n",
       "      <th>...</th>\n",
       "      <th>...</th>\n",
       "      <th>...</th>\n",
       "      <th>...</th>\n",
       "      <th>...</th>\n",
       "      <th>...</th>\n",
       "      <th>...</th>\n",
       "      <th>...</th>\n",
       "      <th>...</th>\n",
       "      <th>...</th>\n",
       "      <th>...</th>\n",
       "      <th>...</th>\n",
       "      <th>...</th>\n",
       "      <th>...</th>\n",
       "      <th>...</th>\n",
       "      <th>...</th>\n",
       "      <th>...</th>\n",
       "      <th>...</th>\n",
       "      <td>...</td>\n",
       "      <td>...</td>\n",
       "      <td>...</td>\n",
       "      <td>...</td>\n",
       "      <td>...</td>\n",
       "      <td>...</td>\n",
       "      <td>...</td>\n",
       "      <td>...</td>\n",
       "      <td>...</td>\n",
       "      <td>...</td>\n",
       "      <td>...</td>\n",
       "      <td>...</td>\n",
       "      <td>...</td>\n",
       "      <td>...</td>\n",
       "      <td>...</td>\n",
       "      <td>...</td>\n",
       "      <td>...</td>\n",
       "      <td>...</td>\n",
       "      <td>...</td>\n",
       "      <td>...</td>\n",
       "      <td>...</td>\n",
       "    </tr>\n",
       "    <tr>\n",
       "      <th rowspan=\"5\" valign=\"top\">False</th>\n",
       "      <th rowspan=\"5\" valign=\"top\">False</th>\n",
       "      <th rowspan=\"5\" valign=\"top\">6</th>\n",
       "      <th rowspan=\"5\" valign=\"top\">False</th>\n",
       "      <th rowspan=\"5\" valign=\"top\">False</th>\n",
       "      <th rowspan=\"5\" valign=\"top\">False</th>\n",
       "      <th rowspan=\"5\" valign=\"top\">H</th>\n",
       "      <th rowspan=\"5\" valign=\"top\">/mnt/b/Google_Drive/PhD/Project with Janet/Label_Images/TMA_1/TMA_1.4_E11.png</th>\n",
       "      <th rowspan=\"5\" valign=\"top\">3585</th>\n",
       "      <th rowspan=\"5\" valign=\"top\">E11</th>\n",
       "      <th rowspan=\"5\" valign=\"top\">E11</th>\n",
       "      <th rowspan=\"5\" valign=\"top\">oral tongue</th>\n",
       "      <th rowspan=\"5\" valign=\"top\">Other</th>\n",
       "      <th rowspan=\"5\" valign=\"top\">NaT</th>\n",
       "      <th rowspan=\"5\" valign=\"top\">NaT</th>\n",
       "      <th rowspan=\"5\" valign=\"top\">68.0</th>\n",
       "      <th rowspan=\"5\" valign=\"top\">Alive</th>\n",
       "      <th rowspan=\"5\" valign=\"top\">no</th>\n",
       "      <th rowspan=\"5\" valign=\"top\">N</th>\n",
       "      <th rowspan=\"5\" valign=\"top\">1.0-E11</th>\n",
       "      <th rowspan=\"5\" valign=\"top\">2015-05-06</th>\n",
       "      <th rowspan=\"5\" valign=\"top\">2019-05-16</th>\n",
       "      <th rowspan=\"5\" valign=\"top\">1</th>\n",
       "      <th rowspan=\"5\" valign=\"top\">alive</th>\n",
       "      <th rowspan=\"5\" valign=\"top\">FG</th>\n",
       "      <th rowspan=\"5\" valign=\"top\">no</th>\n",
       "      <th rowspan=\"5\" valign=\"top\">pT2N1</th>\n",
       "      <th rowspan=\"5\" valign=\"top\">3585</th>\n",
       "      <th rowspan=\"5\" valign=\"top\">3585</th>\n",
       "      <th rowspan=\"5\" valign=\"top\">no</th>\n",
       "      <th rowspan=\"5\" valign=\"top\">2</th>\n",
       "      <th rowspan=\"5\" valign=\"top\">1.0</th>\n",
       "      <th rowspan=\"5\" valign=\"top\">E11</th>\n",
       "      <th rowspan=\"5\" valign=\"top\">Tumour</th>\n",
       "      <th rowspan=\"5\" valign=\"top\">NaN</th>\n",
       "      <th rowspan=\"5\" valign=\"top\">non-cohesive</th>\n",
       "      <th rowspan=\"5\" valign=\"top\">68</th>\n",
       "      <th rowspan=\"5\" valign=\"top\">2010-05-13</th>\n",
       "      <th rowspan=\"5\" valign=\"top\">mod</th>\n",
       "      <th rowspan=\"5\" valign=\"top\">/mnt/b/Google_Drive/PhD/Project with Janet/Kohler_Corrected/TMA_1TMA_1.4_E11.HDR</th>\n",
       "      <th rowspan=\"5\" valign=\"top\">m</th>\n",
       "      <th rowspan=\"5\" valign=\"top\">m</th>\n",
       "      <th rowspan=\"5\" valign=\"top\">NaT</th>\n",
       "      <th rowspan=\"5\" valign=\"top\">1</th>\n",
       "      <th rowspan=\"5\" valign=\"top\">2</th>\n",
       "      <th rowspan=\"5\" valign=\"top\">yes</th>\n",
       "      <th rowspan=\"5\" valign=\"top\">no</th>\n",
       "      <th rowspan=\"5\" valign=\"top\">tongue</th>\n",
       "      <th rowspan=\"5\" valign=\"top\">NaN</th>\n",
       "      <th rowspan=\"5\" valign=\"top\">3</th>\n",
       "      <th>60.0</th>\n",
       "      <td>0.044434</td>\n",
       "      <td>0.045614</td>\n",
       "      <td>0.046807</td>\n",
       "      <td>0.048108</td>\n",
       "      <td>0.049613</td>\n",
       "      <td>0.051417</td>\n",
       "      <td>0.053871</td>\n",
       "      <td>0.056697</td>\n",
       "      <td>0.059598</td>\n",
       "      <td>0.062220</td>\n",
       "      <td>...</td>\n",
       "      <td>0.054350</td>\n",
       "      <td>0.054070</td>\n",
       "      <td>0.053940</td>\n",
       "      <td>0.054269</td>\n",
       "      <td>0.054679</td>\n",
       "      <td>0.054876</td>\n",
       "      <td>0.054544</td>\n",
       "      <td>0.053862</td>\n",
       "      <td>0.053211</td>\n",
       "      <td>0.053001</td>\n",
       "    </tr>\n",
       "    <tr>\n",
       "      <th>60.0</th>\n",
       "      <td>0.020171</td>\n",
       "      <td>0.022977</td>\n",
       "      <td>0.026929</td>\n",
       "      <td>0.031691</td>\n",
       "      <td>0.036929</td>\n",
       "      <td>0.042310</td>\n",
       "      <td>0.046269</td>\n",
       "      <td>0.050636</td>\n",
       "      <td>0.055169</td>\n",
       "      <td>0.059252</td>\n",
       "      <td>...</td>\n",
       "      <td>0.028992</td>\n",
       "      <td>0.027976</td>\n",
       "      <td>0.027416</td>\n",
       "      <td>0.027271</td>\n",
       "      <td>0.026863</td>\n",
       "      <td>0.026528</td>\n",
       "      <td>0.026514</td>\n",
       "      <td>0.027015</td>\n",
       "      <td>0.027357</td>\n",
       "      <td>0.027378</td>\n",
       "    </tr>\n",
       "    <tr>\n",
       "      <th>60.0</th>\n",
       "      <td>0.022660</td>\n",
       "      <td>0.024566</td>\n",
       "      <td>0.027935</td>\n",
       "      <td>0.032428</td>\n",
       "      <td>0.037703</td>\n",
       "      <td>0.043421</td>\n",
       "      <td>0.048430</td>\n",
       "      <td>0.053875</td>\n",
       "      <td>0.058763</td>\n",
       "      <td>0.062655</td>\n",
       "      <td>...</td>\n",
       "      <td>0.027016</td>\n",
       "      <td>0.026332</td>\n",
       "      <td>0.026220</td>\n",
       "      <td>0.026740</td>\n",
       "      <td>0.027350</td>\n",
       "      <td>0.028445</td>\n",
       "      <td>0.029869</td>\n",
       "      <td>0.031009</td>\n",
       "      <td>0.031494</td>\n",
       "      <td>0.031878</td>\n",
       "    </tr>\n",
       "    <tr>\n",
       "      <th>60.0</th>\n",
       "      <td>0.032894</td>\n",
       "      <td>0.035737</td>\n",
       "      <td>0.039905</td>\n",
       "      <td>0.044861</td>\n",
       "      <td>0.050066</td>\n",
       "      <td>0.054983</td>\n",
       "      <td>0.057988</td>\n",
       "      <td>0.059789</td>\n",
       "      <td>0.060413</td>\n",
       "      <td>0.061070</td>\n",
       "      <td>...</td>\n",
       "      <td>0.055888</td>\n",
       "      <td>0.054810</td>\n",
       "      <td>0.054197</td>\n",
       "      <td>0.053718</td>\n",
       "      <td>0.053198</td>\n",
       "      <td>0.052836</td>\n",
       "      <td>0.052563</td>\n",
       "      <td>0.052329</td>\n",
       "      <td>0.052205</td>\n",
       "      <td>0.052629</td>\n",
       "    </tr>\n",
       "    <tr>\n",
       "      <th>60.0</th>\n",
       "      <td>0.027809</td>\n",
       "      <td>0.033379</td>\n",
       "      <td>0.037745</td>\n",
       "      <td>0.041279</td>\n",
       "      <td>0.044352</td>\n",
       "      <td>0.047336</td>\n",
       "      <td>0.051053</td>\n",
       "      <td>0.055869</td>\n",
       "      <td>0.060737</td>\n",
       "      <td>0.065282</td>\n",
       "      <td>...</td>\n",
       "      <td>0.032332</td>\n",
       "      <td>0.031611</td>\n",
       "      <td>0.031457</td>\n",
       "      <td>0.031991</td>\n",
       "      <td>0.032967</td>\n",
       "      <td>0.034736</td>\n",
       "      <td>0.036867</td>\n",
       "      <td>0.038622</td>\n",
       "      <td>0.039268</td>\n",
       "      <td>0.038827</td>\n",
       "    </tr>\n",
       "  </tbody>\n",
       "</table>\n",
       "<p>6480 rows × 169 columns</p>\n",
       "</div>"
      ],
      "text/plain": [
       "                                                                                                                                                                                                                                                                                                                                                                                                                                                                                                                                                                                                                                            998.0   \\\n",
       "1year 2year 2years 3year 4year 5year ASMA Annotation_loc                                     Case ID Core_x Core_y Corrected Site AJCC/UICC DODvsAlive Date of death Date of recurrence Diagnosis Age DiedvsAlive ECS_x ECS_y ID      Last seen/reviewed Last updated N stage OUTCOME    OUTCOME.updated by Overall Death  Pathogical Stage Patient nu  Patient_Number Recurrence? T stage TMA TMA site Tissue Years advancing front type age @ diag date of diag diff     envi_loc                                           gender_x gender_y lifespan pN pT radiotherapy recurrence site   site of recurrence stage survival (months)             \n",
       "True  True  1      False False False I    /mnt/b/Google_Drive/PhD/Project with Janet/Labe... 3237    D9     D9     other                    Other      2007-10-19    NaT                59.0          Died        yes   Y     1.0-D9  NaT                NaT          2a      Died other CBarry             yes            pT4aN2aMx        3237        3237           no          4a      1.0 D9       Tumour 1.0   non-cohesive         59         2006-03-24   mod well /mnt/b/Google_Drive/PhD/Project with Janet/Kohl... m        m        574 days 2a 4a yes          yes        other  NaN                4     2.0                0.047017   \n",
       "                                                                                                                                                                                                                                                                                                                                                                                                                                                                                                                                                                                                                       2.0                0.053835   \n",
       "                                                                                                                                                                                                                                                                                                                                                                                                                                                                                                                                                                                                                       2.0                0.043627   \n",
       "                                          /mnt/b/Google_Drive/PhD/Project with Janet/Labe... 3237    B5     B5     other                    Other      2007-10-19    NaT                59.0          Died        yes   Y     2.0-B5  NaT                NaT          2a      Died other CBarry             yes            pT4aN2aMx        3237        3237           no          4a      2.0 B5       Tumour 1.0   non-cohesive         59         2006-03-24   mod well /mnt/b/Google_Drive/PhD/Project with Janet/Kohl... m        m        574 days 2a 4a yes          yes        other  NaN                4     2.0                0.036255   \n",
       "                                          /mnt/b/Google_Drive/PhD/Project with Janet/Labe... 3237    D9     D9     other                    Other      2007-10-19    NaT                59.0          Died        yes   Y     1.0-D9  NaT                NaT          2a      Died other CBarry             yes            pT4aN2aMx        3237        3237           no          4a      1.0 D9       Tumour 1.0   non-cohesive         59         2006-03-24   mod well /mnt/b/Google_Drive/PhD/Project with Janet/Kohl... m        m        574 days 2a 4a yes          yes        other  NaN                4     2.0                0.058800   \n",
       "...                                                                                                                                                                                                                                                                                                                                                                                                                                                                                                                                                                                                                                            ...   \n",
       "False False 6      False False False H    /mnt/b/Google_Drive/PhD/Project with Janet/Labe... 3585    E11    E11    oral tongue              Other      NaT           NaT                68.0          Alive       no    N     1.0-E11 2015-05-06         2019-05-16   1       alive      FG                 no             pT2N1            3585        3585           no          2       1.0 E11      Tumour NaN   non-cohesive         68         2010-05-13   mod      /mnt/b/Google_Drive/PhD/Project with Janet/Kohl... m        m        NaT      1  2  yes          no         tongue NaN                3     60.0               0.044434   \n",
       "                                                                                                                                                                                                                                                                                                                                                                                                                                                                                                                                                                                                                       60.0               0.020171   \n",
       "                                                                                                                                                                                                                                                                                                                                                                                                                                                                                                                                                                                                                       60.0               0.022660   \n",
       "                                                                                                                                                                                                                                                                                                                                                                                                                                                                                                                                                                                                                       60.0               0.032894   \n",
       "                                                                                                                                                                                                                                                                                                                                                                                                                                                                                                                                                                                                                       60.0               0.027809   \n",
       "\n",
       "                                                                                                                                                                                                                                                                                                                                                                                                                                                                                                                                                                                                                                            1002.0  \\\n",
       "1year 2year 2years 3year 4year 5year ASMA Annotation_loc                                     Case ID Core_x Core_y Corrected Site AJCC/UICC DODvsAlive Date of death Date of recurrence Diagnosis Age DiedvsAlive ECS_x ECS_y ID      Last seen/reviewed Last updated N stage OUTCOME    OUTCOME.updated by Overall Death  Pathogical Stage Patient nu  Patient_Number Recurrence? T stage TMA TMA site Tissue Years advancing front type age @ diag date of diag diff     envi_loc                                           gender_x gender_y lifespan pN pT radiotherapy recurrence site   site of recurrence stage survival (months)             \n",
       "True  True  1      False False False I    /mnt/b/Google_Drive/PhD/Project with Janet/Labe... 3237    D9     D9     other                    Other      2007-10-19    NaT                59.0          Died        yes   Y     1.0-D9  NaT                NaT          2a      Died other CBarry             yes            pT4aN2aMx        3237        3237           no          4a      1.0 D9       Tumour 1.0   non-cohesive         59         2006-03-24   mod well /mnt/b/Google_Drive/PhD/Project with Janet/Kohl... m        m        574 days 2a 4a yes          yes        other  NaN                4     2.0                0.047418   \n",
       "                                                                                                                                                                                                                                                                                                                                                                                                                                                                                                                                                                                                                       2.0                0.054666   \n",
       "                                                                                                                                                                                                                                                                                                                                                                                                                                                                                                                                                                                                                       2.0                0.045923   \n",
       "                                          /mnt/b/Google_Drive/PhD/Project with Janet/Labe... 3237    B5     B5     other                    Other      2007-10-19    NaT                59.0          Died        yes   Y     2.0-B5  NaT                NaT          2a      Died other CBarry             yes            pT4aN2aMx        3237        3237           no          4a      2.0 B5       Tumour 1.0   non-cohesive         59         2006-03-24   mod well /mnt/b/Google_Drive/PhD/Project with Janet/Kohl... m        m        574 days 2a 4a yes          yes        other  NaN                4     2.0                0.037289   \n",
       "                                          /mnt/b/Google_Drive/PhD/Project with Janet/Labe... 3237    D9     D9     other                    Other      2007-10-19    NaT                59.0          Died        yes   Y     1.0-D9  NaT                NaT          2a      Died other CBarry             yes            pT4aN2aMx        3237        3237           no          4a      1.0 D9       Tumour 1.0   non-cohesive         59         2006-03-24   mod well /mnt/b/Google_Drive/PhD/Project with Janet/Kohl... m        m        574 days 2a 4a yes          yes        other  NaN                4     2.0                0.059051   \n",
       "...                                                                                                                                                                                                                                                                                                                                                                                                                                                                                                                                                                                                                                            ...   \n",
       "False False 6      False False False H    /mnt/b/Google_Drive/PhD/Project with Janet/Labe... 3585    E11    E11    oral tongue              Other      NaT           NaT                68.0          Alive       no    N     1.0-E11 2015-05-06         2019-05-16   1       alive      FG                 no             pT2N1            3585        3585           no          2       1.0 E11      Tumour NaN   non-cohesive         68         2010-05-13   mod      /mnt/b/Google_Drive/PhD/Project with Janet/Kohl... m        m        NaT      1  2  yes          no         tongue NaN                3     60.0               0.045614   \n",
       "                                                                                                                                                                                                                                                                                                                                                                                                                                                                                                                                                                                                                       60.0               0.022977   \n",
       "                                                                                                                                                                                                                                                                                                                                                                                                                                                                                                                                                                                                                       60.0               0.024566   \n",
       "                                                                                                                                                                                                                                                                                                                                                                                                                                                                                                                                                                                                                       60.0               0.035737   \n",
       "                                                                                                                                                                                                                                                                                                                                                                                                                                                                                                                                                                                                                       60.0               0.033379   \n",
       "\n",
       "                                                                                                                                                                                                                                                                                                                                                                                                                                                                                                                                                                                                                                            1006.0  \\\n",
       "1year 2year 2years 3year 4year 5year ASMA Annotation_loc                                     Case ID Core_x Core_y Corrected Site AJCC/UICC DODvsAlive Date of death Date of recurrence Diagnosis Age DiedvsAlive ECS_x ECS_y ID      Last seen/reviewed Last updated N stage OUTCOME    OUTCOME.updated by Overall Death  Pathogical Stage Patient nu  Patient_Number Recurrence? T stage TMA TMA site Tissue Years advancing front type age @ diag date of diag diff     envi_loc                                           gender_x gender_y lifespan pN pT radiotherapy recurrence site   site of recurrence stage survival (months)             \n",
       "True  True  1      False False False I    /mnt/b/Google_Drive/PhD/Project with Janet/Labe... 3237    D9     D9     other                    Other      2007-10-19    NaT                59.0          Died        yes   Y     1.0-D9  NaT                NaT          2a      Died other CBarry             yes            pT4aN2aMx        3237        3237           no          4a      1.0 D9       Tumour 1.0   non-cohesive         59         2006-03-24   mod well /mnt/b/Google_Drive/PhD/Project with Janet/Kohl... m        m        574 days 2a 4a yes          yes        other  NaN                4     2.0                0.048709   \n",
       "                                                                                                                                                                                                                                                                                                                                                                                                                                                                                                                                                                                                                       2.0                0.055673   \n",
       "                                                                                                                                                                                                                                                                                                                                                                                                                                                                                                                                                                                                                       2.0                0.048177   \n",
       "                                          /mnt/b/Google_Drive/PhD/Project with Janet/Labe... 3237    B5     B5     other                    Other      2007-10-19    NaT                59.0          Died        yes   Y     2.0-B5  NaT                NaT          2a      Died other CBarry             yes            pT4aN2aMx        3237        3237           no          4a      2.0 B5       Tumour 1.0   non-cohesive         59         2006-03-24   mod well /mnt/b/Google_Drive/PhD/Project with Janet/Kohl... m        m        574 days 2a 4a yes          yes        other  NaN                4     2.0                0.038593   \n",
       "                                          /mnt/b/Google_Drive/PhD/Project with Janet/Labe... 3237    D9     D9     other                    Other      2007-10-19    NaT                59.0          Died        yes   Y     1.0-D9  NaT                NaT          2a      Died other CBarry             yes            pT4aN2aMx        3237        3237           no          4a      1.0 D9       Tumour 1.0   non-cohesive         59         2006-03-24   mod well /mnt/b/Google_Drive/PhD/Project with Janet/Kohl... m        m        574 days 2a 4a yes          yes        other  NaN                4     2.0                0.059667   \n",
       "...                                                                                                                                                                                                                                                                                                                                                                                                                                                                                                                                                                                                                                            ...   \n",
       "False False 6      False False False H    /mnt/b/Google_Drive/PhD/Project with Janet/Labe... 3585    E11    E11    oral tongue              Other      NaT           NaT                68.0          Alive       no    N     1.0-E11 2015-05-06         2019-05-16   1       alive      FG                 no             pT2N1            3585        3585           no          2       1.0 E11      Tumour NaN   non-cohesive         68         2010-05-13   mod      /mnt/b/Google_Drive/PhD/Project with Janet/Kohl... m        m        NaT      1  2  yes          no         tongue NaN                3     60.0               0.046807   \n",
       "                                                                                                                                                                                                                                                                                                                                                                                                                                                                                                                                                                                                                       60.0               0.026929   \n",
       "                                                                                                                                                                                                                                                                                                                                                                                                                                                                                                                                                                                                                       60.0               0.027935   \n",
       "                                                                                                                                                                                                                                                                                                                                                                                                                                                                                                                                                                                                                       60.0               0.039905   \n",
       "                                                                                                                                                                                                                                                                                                                                                                                                                                                                                                                                                                                                                       60.0               0.037745   \n",
       "\n",
       "                                                                                                                                                                                                                                                                                                                                                                                                                                                                                                                                                                                                                                            1010.0  \\\n",
       "1year 2year 2years 3year 4year 5year ASMA Annotation_loc                                     Case ID Core_x Core_y Corrected Site AJCC/UICC DODvsAlive Date of death Date of recurrence Diagnosis Age DiedvsAlive ECS_x ECS_y ID      Last seen/reviewed Last updated N stage OUTCOME    OUTCOME.updated by Overall Death  Pathogical Stage Patient nu  Patient_Number Recurrence? T stage TMA TMA site Tissue Years advancing front type age @ diag date of diag diff     envi_loc                                           gender_x gender_y lifespan pN pT radiotherapy recurrence site   site of recurrence stage survival (months)             \n",
       "True  True  1      False False False I    /mnt/b/Google_Drive/PhD/Project with Janet/Labe... 3237    D9     D9     other                    Other      2007-10-19    NaT                59.0          Died        yes   Y     1.0-D9  NaT                NaT          2a      Died other CBarry             yes            pT4aN2aMx        3237        3237           no          4a      1.0 D9       Tumour 1.0   non-cohesive         59         2006-03-24   mod well /mnt/b/Google_Drive/PhD/Project with Janet/Kohl... m        m        574 days 2a 4a yes          yes        other  NaN                4     2.0                0.050717   \n",
       "                                                                                                                                                                                                                                                                                                                                                                                                                                                                                                                                                                                                                       2.0                0.056849   \n",
       "                                                                                                                                                                                                                                                                                                                                                                                                                                                                                                                                                                                                                       2.0                0.050443   \n",
       "                                          /mnt/b/Google_Drive/PhD/Project with Janet/Labe... 3237    B5     B5     other                    Other      2007-10-19    NaT                59.0          Died        yes   Y     2.0-B5  NaT                NaT          2a      Died other CBarry             yes            pT4aN2aMx        3237        3237           no          4a      2.0 B5       Tumour 1.0   non-cohesive         59         2006-03-24   mod well /mnt/b/Google_Drive/PhD/Project with Janet/Kohl... m        m        574 days 2a 4a yes          yes        other  NaN                4     2.0                0.040178   \n",
       "                                          /mnt/b/Google_Drive/PhD/Project with Janet/Labe... 3237    D9     D9     other                    Other      2007-10-19    NaT                59.0          Died        yes   Y     1.0-D9  NaT                NaT          2a      Died other CBarry             yes            pT4aN2aMx        3237        3237           no          4a      1.0 D9       Tumour 1.0   non-cohesive         59         2006-03-24   mod well /mnt/b/Google_Drive/PhD/Project with Janet/Kohl... m        m        574 days 2a 4a yes          yes        other  NaN                4     2.0                0.060602   \n",
       "...                                                                                                                                                                                                                                                                                                                                                                                                                                                                                                                                                                                                                                            ...   \n",
       "False False 6      False False False H    /mnt/b/Google_Drive/PhD/Project with Janet/Labe... 3585    E11    E11    oral tongue              Other      NaT           NaT                68.0          Alive       no    N     1.0-E11 2015-05-06         2019-05-16   1       alive      FG                 no             pT2N1            3585        3585           no          2       1.0 E11      Tumour NaN   non-cohesive         68         2010-05-13   mod      /mnt/b/Google_Drive/PhD/Project with Janet/Kohl... m        m        NaT      1  2  yes          no         tongue NaN                3     60.0               0.048108   \n",
       "                                                                                                                                                                                                                                                                                                                                                                                                                                                                                                                                                                                                                       60.0               0.031691   \n",
       "                                                                                                                                                                                                                                                                                                                                                                                                                                                                                                                                                                                                                       60.0               0.032428   \n",
       "                                                                                                                                                                                                                                                                                                                                                                                                                                                                                                                                                                                                                       60.0               0.044861   \n",
       "                                                                                                                                                                                                                                                                                                                                                                                                                                                                                                                                                                                                                       60.0               0.041279   \n",
       "\n",
       "                                                                                                                                                                                                                                                                                                                                                                                                                                                                                                                                                                                                                                            1014.0  \\\n",
       "1year 2year 2years 3year 4year 5year ASMA Annotation_loc                                     Case ID Core_x Core_y Corrected Site AJCC/UICC DODvsAlive Date of death Date of recurrence Diagnosis Age DiedvsAlive ECS_x ECS_y ID      Last seen/reviewed Last updated N stage OUTCOME    OUTCOME.updated by Overall Death  Pathogical Stage Patient nu  Patient_Number Recurrence? T stage TMA TMA site Tissue Years advancing front type age @ diag date of diag diff     envi_loc                                           gender_x gender_y lifespan pN pT radiotherapy recurrence site   site of recurrence stage survival (months)             \n",
       "True  True  1      False False False I    /mnt/b/Google_Drive/PhD/Project with Janet/Labe... 3237    D9     D9     other                    Other      2007-10-19    NaT                59.0          Died        yes   Y     1.0-D9  NaT                NaT          2a      Died other CBarry             yes            pT4aN2aMx        3237        3237           no          4a      1.0 D9       Tumour 1.0   non-cohesive         59         2006-03-24   mod well /mnt/b/Google_Drive/PhD/Project with Janet/Kohl... m        m        574 days 2a 4a yes          yes        other  NaN                4     2.0                0.053275   \n",
       "                                                                                                                                                                                                                                                                                                                                                                                                                                                                                                                                                                                                                       2.0                0.058188   \n",
       "                                                                                                                                                                                                                                                                                                                                                                                                                                                                                                                                                                                                                       2.0                0.052778   \n",
       "                                          /mnt/b/Google_Drive/PhD/Project with Janet/Labe... 3237    B5     B5     other                    Other      2007-10-19    NaT                59.0          Died        yes   Y     2.0-B5  NaT                NaT          2a      Died other CBarry             yes            pT4aN2aMx        3237        3237           no          4a      2.0 B5       Tumour 1.0   non-cohesive         59         2006-03-24   mod well /mnt/b/Google_Drive/PhD/Project with Janet/Kohl... m        m        574 days 2a 4a yes          yes        other  NaN                4     2.0                0.042050   \n",
       "                                          /mnt/b/Google_Drive/PhD/Project with Janet/Labe... 3237    D9     D9     other                    Other      2007-10-19    NaT                59.0          Died        yes   Y     1.0-D9  NaT                NaT          2a      Died other CBarry             yes            pT4aN2aMx        3237        3237           no          4a      1.0 D9       Tumour 1.0   non-cohesive         59         2006-03-24   mod well /mnt/b/Google_Drive/PhD/Project with Janet/Kohl... m        m        574 days 2a 4a yes          yes        other  NaN                4     2.0                0.061812   \n",
       "...                                                                                                                                                                                                                                                                                                                                                                                                                                                                                                                                                                                                                                            ...   \n",
       "False False 6      False False False H    /mnt/b/Google_Drive/PhD/Project with Janet/Labe... 3585    E11    E11    oral tongue              Other      NaT           NaT                68.0          Alive       no    N     1.0-E11 2015-05-06         2019-05-16   1       alive      FG                 no             pT2N1            3585        3585           no          2       1.0 E11      Tumour NaN   non-cohesive         68         2010-05-13   mod      /mnt/b/Google_Drive/PhD/Project with Janet/Kohl... m        m        NaT      1  2  yes          no         tongue NaN                3     60.0               0.049613   \n",
       "                                                                                                                                                                                                                                                                                                                                                                                                                                                                                                                                                                                                                       60.0               0.036929   \n",
       "                                                                                                                                                                                                                                                                                                                                                                                                                                                                                                                                                                                                                       60.0               0.037703   \n",
       "                                                                                                                                                                                                                                                                                                                                                                                                                                                                                                                                                                                                                       60.0               0.050066   \n",
       "                                                                                                                                                                                                                                                                                                                                                                                                                                                                                                                                                                                                                       60.0               0.044352   \n",
       "\n",
       "                                                                                                                                                                                                                                                                                                                                                                                                                                                                                                                                                                                                                                            1018.0  \\\n",
       "1year 2year 2years 3year 4year 5year ASMA Annotation_loc                                     Case ID Core_x Core_y Corrected Site AJCC/UICC DODvsAlive Date of death Date of recurrence Diagnosis Age DiedvsAlive ECS_x ECS_y ID      Last seen/reviewed Last updated N stage OUTCOME    OUTCOME.updated by Overall Death  Pathogical Stage Patient nu  Patient_Number Recurrence? T stage TMA TMA site Tissue Years advancing front type age @ diag date of diag diff     envi_loc                                           gender_x gender_y lifespan pN pT radiotherapy recurrence site   site of recurrence stage survival (months)             \n",
       "True  True  1      False False False I    /mnt/b/Google_Drive/PhD/Project with Janet/Labe... 3237    D9     D9     other                    Other      2007-10-19    NaT                59.0          Died        yes   Y     1.0-D9  NaT                NaT          2a      Died other CBarry             yes            pT4aN2aMx        3237        3237           no          4a      1.0 D9       Tumour 1.0   non-cohesive         59         2006-03-24   mod well /mnt/b/Google_Drive/PhD/Project with Janet/Kohl... m        m        574 days 2a 4a yes          yes        other  NaN                4     2.0                0.056212   \n",
       "                                                                                                                                                                                                                                                                                                                                                                                                                                                                                                                                                                                                                       2.0                0.059683   \n",
       "                                                                                                                                                                                                                                                                                                                                                                                                                                                                                                                                                                                                                       2.0                0.055237   \n",
       "                                          /mnt/b/Google_Drive/PhD/Project with Janet/Labe... 3237    B5     B5     other                    Other      2007-10-19    NaT                59.0          Died        yes   Y     2.0-B5  NaT                NaT          2a      Died other CBarry             yes            pT4aN2aMx        3237        3237           no          4a      2.0 B5       Tumour 1.0   non-cohesive         59         2006-03-24   mod well /mnt/b/Google_Drive/PhD/Project with Janet/Kohl... m        m        574 days 2a 4a yes          yes        other  NaN                4     2.0                0.044221   \n",
       "                                          /mnt/b/Google_Drive/PhD/Project with Janet/Labe... 3237    D9     D9     other                    Other      2007-10-19    NaT                59.0          Died        yes   Y     1.0-D9  NaT                NaT          2a      Died other CBarry             yes            pT4aN2aMx        3237        3237           no          4a      1.0 D9       Tumour 1.0   non-cohesive         59         2006-03-24   mod well /mnt/b/Google_Drive/PhD/Project with Janet/Kohl... m        m        574 days 2a 4a yes          yes        other  NaN                4     2.0                0.063252   \n",
       "...                                                                                                                                                                                                                                                                                                                                                                                                                                                                                                                                                                                                                                            ...   \n",
       "False False 6      False False False H    /mnt/b/Google_Drive/PhD/Project with Janet/Labe... 3585    E11    E11    oral tongue              Other      NaT           NaT                68.0          Alive       no    N     1.0-E11 2015-05-06         2019-05-16   1       alive      FG                 no             pT2N1            3585        3585           no          2       1.0 E11      Tumour NaN   non-cohesive         68         2010-05-13   mod      /mnt/b/Google_Drive/PhD/Project with Janet/Kohl... m        m        NaT      1  2  yes          no         tongue NaN                3     60.0               0.051417   \n",
       "                                                                                                                                                                                                                                                                                                                                                                                                                                                                                                                                                                                                                       60.0               0.042310   \n",
       "                                                                                                                                                                                                                                                                                                                                                                                                                                                                                                                                                                                                                       60.0               0.043421   \n",
       "                                                                                                                                                                                                                                                                                                                                                                                                                                                                                                                                                                                                                       60.0               0.054983   \n",
       "                                                                                                                                                                                                                                                                                                                                                                                                                                                                                                                                                                                                                       60.0               0.047336   \n",
       "\n",
       "                                                                                                                                                                                                                                                                                                                                                                                                                                                                                                                                                                                                                                            1022.0  \\\n",
       "1year 2year 2years 3year 4year 5year ASMA Annotation_loc                                     Case ID Core_x Core_y Corrected Site AJCC/UICC DODvsAlive Date of death Date of recurrence Diagnosis Age DiedvsAlive ECS_x ECS_y ID      Last seen/reviewed Last updated N stage OUTCOME    OUTCOME.updated by Overall Death  Pathogical Stage Patient nu  Patient_Number Recurrence? T stage TMA TMA site Tissue Years advancing front type age @ diag date of diag diff     envi_loc                                           gender_x gender_y lifespan pN pT radiotherapy recurrence site   site of recurrence stage survival (months)             \n",
       "True  True  1      False False False I    /mnt/b/Google_Drive/PhD/Project with Janet/Labe... 3237    D9     D9     other                    Other      2007-10-19    NaT                59.0          Died        yes   Y     1.0-D9  NaT                NaT          2a      Died other CBarry             yes            pT4aN2aMx        3237        3237           no          4a      1.0 D9       Tumour 1.0   non-cohesive         59         2006-03-24   mod well /mnt/b/Google_Drive/PhD/Project with Janet/Kohl... m        m        574 days 2a 4a yes          yes        other  NaN                4     2.0                0.058977   \n",
       "                                                                                                                                                                                                                                                                                                                                                                                                                                                                                                                                                                                                                       2.0                0.061088   \n",
       "                                                                                                                                                                                                                                                                                                                                                                                                                                                                                                                                                                                                                       2.0                0.057742   \n",
       "                                          /mnt/b/Google_Drive/PhD/Project with Janet/Labe... 3237    B5     B5     other                    Other      2007-10-19    NaT                59.0          Died        yes   Y     2.0-B5  NaT                NaT          2a      Died other CBarry             yes            pT4aN2aMx        3237        3237           no          4a      2.0 B5       Tumour 1.0   non-cohesive         59         2006-03-24   mod well /mnt/b/Google_Drive/PhD/Project with Janet/Kohl... m        m        574 days 2a 4a yes          yes        other  NaN                4     2.0                0.046440   \n",
       "                                          /mnt/b/Google_Drive/PhD/Project with Janet/Labe... 3237    D9     D9     other                    Other      2007-10-19    NaT                59.0          Died        yes   Y     1.0-D9  NaT                NaT          2a      Died other CBarry             yes            pT4aN2aMx        3237        3237           no          4a      1.0 D9       Tumour 1.0   non-cohesive         59         2006-03-24   mod well /mnt/b/Google_Drive/PhD/Project with Janet/Kohl... m        m        574 days 2a 4a yes          yes        other  NaN                4     2.0                0.064742   \n",
       "...                                                                                                                                                                                                                                                                                                                                                                                                                                                                                                                                                                                                                                            ...   \n",
       "False False 6      False False False H    /mnt/b/Google_Drive/PhD/Project with Janet/Labe... 3585    E11    E11    oral tongue              Other      NaT           NaT                68.0          Alive       no    N     1.0-E11 2015-05-06         2019-05-16   1       alive      FG                 no             pT2N1            3585        3585           no          2       1.0 E11      Tumour NaN   non-cohesive         68         2010-05-13   mod      /mnt/b/Google_Drive/PhD/Project with Janet/Kohl... m        m        NaT      1  2  yes          no         tongue NaN                3     60.0               0.053871   \n",
       "                                                                                                                                                                                                                                                                                                                                                                                                                                                                                                                                                                                                                       60.0               0.046269   \n",
       "                                                                                                                                                                                                                                                                                                                                                                                                                                                                                                                                                                                                                       60.0               0.048430   \n",
       "                                                                                                                                                                                                                                                                                                                                                                                                                                                                                                                                                                                                                       60.0               0.057988   \n",
       "                                                                                                                                                                                                                                                                                                                                                                                                                                                                                                                                                                                                                       60.0               0.051053   \n",
       "\n",
       "                                                                                                                                                                                                                                                                                                                                                                                                                                                                                                                                                                                                                                            1025.0  \\\n",
       "1year 2year 2years 3year 4year 5year ASMA Annotation_loc                                     Case ID Core_x Core_y Corrected Site AJCC/UICC DODvsAlive Date of death Date of recurrence Diagnosis Age DiedvsAlive ECS_x ECS_y ID      Last seen/reviewed Last updated N stage OUTCOME    OUTCOME.updated by Overall Death  Pathogical Stage Patient nu  Patient_Number Recurrence? T stage TMA TMA site Tissue Years advancing front type age @ diag date of diag diff     envi_loc                                           gender_x gender_y lifespan pN pT radiotherapy recurrence site   site of recurrence stage survival (months)             \n",
       "True  True  1      False False False I    /mnt/b/Google_Drive/PhD/Project with Janet/Labe... 3237    D9     D9     other                    Other      2007-10-19    NaT                59.0          Died        yes   Y     1.0-D9  NaT                NaT          2a      Died other CBarry             yes            pT4aN2aMx        3237        3237           no          4a      1.0 D9       Tumour 1.0   non-cohesive         59         2006-03-24   mod well /mnt/b/Google_Drive/PhD/Project with Janet/Kohl... m        m        574 days 2a 4a yes          yes        other  NaN                4     2.0                0.062173   \n",
       "                                                                                                                                                                                                                                                                                                                                                                                                                                                                                                                                                                                                                       2.0                0.062973   \n",
       "                                                                                                                                                                                                                                                                                                                                                                                                                                                                                                                                                                                                                       2.0                0.060791   \n",
       "                                          /mnt/b/Google_Drive/PhD/Project with Janet/Labe... 3237    B5     B5     other                    Other      2007-10-19    NaT                59.0          Died        yes   Y     2.0-B5  NaT                NaT          2a      Died other CBarry             yes            pT4aN2aMx        3237        3237           no          4a      2.0 B5       Tumour 1.0   non-cohesive         59         2006-03-24   mod well /mnt/b/Google_Drive/PhD/Project with Janet/Kohl... m        m        574 days 2a 4a yes          yes        other  NaN                4     2.0                0.049578   \n",
       "                                          /mnt/b/Google_Drive/PhD/Project with Janet/Labe... 3237    D9     D9     other                    Other      2007-10-19    NaT                59.0          Died        yes   Y     1.0-D9  NaT                NaT          2a      Died other CBarry             yes            pT4aN2aMx        3237        3237           no          4a      1.0 D9       Tumour 1.0   non-cohesive         59         2006-03-24   mod well /mnt/b/Google_Drive/PhD/Project with Janet/Kohl... m        m        574 days 2a 4a yes          yes        other  NaN                4     2.0                0.066381   \n",
       "...                                                                                                                                                                                                                                                                                                                                                                                                                                                                                                                                                                                                                                            ...   \n",
       "False False 6      False False False H    /mnt/b/Google_Drive/PhD/Project with Janet/Labe... 3585    E11    E11    oral tongue              Other      NaT           NaT                68.0          Alive       no    N     1.0-E11 2015-05-06         2019-05-16   1       alive      FG                 no             pT2N1            3585        3585           no          2       1.0 E11      Tumour NaN   non-cohesive         68         2010-05-13   mod      /mnt/b/Google_Drive/PhD/Project with Janet/Kohl... m        m        NaT      1  2  yes          no         tongue NaN                3     60.0               0.056697   \n",
       "                                                                                                                                                                                                                                                                                                                                                                                                                                                                                                                                                                                                                       60.0               0.050636   \n",
       "                                                                                                                                                                                                                                                                                                                                                                                                                                                                                                                                                                                                                       60.0               0.053875   \n",
       "                                                                                                                                                                                                                                                                                                                                                                                                                                                                                                                                                                                                                       60.0               0.059789   \n",
       "                                                                                                                                                                                                                                                                                                                                                                                                                                                                                                                                                                                                                       60.0               0.055869   \n",
       "\n",
       "                                                                                                                                                                                                                                                                                                                                                                                                                                                                                                                                                                                                                                            1029.0  \\\n",
       "1year 2year 2years 3year 4year 5year ASMA Annotation_loc                                     Case ID Core_x Core_y Corrected Site AJCC/UICC DODvsAlive Date of death Date of recurrence Diagnosis Age DiedvsAlive ECS_x ECS_y ID      Last seen/reviewed Last updated N stage OUTCOME    OUTCOME.updated by Overall Death  Pathogical Stage Patient nu  Patient_Number Recurrence? T stage TMA TMA site Tissue Years advancing front type age @ diag date of diag diff     envi_loc                                           gender_x gender_y lifespan pN pT radiotherapy recurrence site   site of recurrence stage survival (months)             \n",
       "True  True  1      False False False I    /mnt/b/Google_Drive/PhD/Project with Janet/Labe... 3237    D9     D9     other                    Other      2007-10-19    NaT                59.0          Died        yes   Y     1.0-D9  NaT                NaT          2a      Died other CBarry             yes            pT4aN2aMx        3237        3237           no          4a      1.0 D9       Tumour 1.0   non-cohesive         59         2006-03-24   mod well /mnt/b/Google_Drive/PhD/Project with Janet/Kohl... m        m        574 days 2a 4a yes          yes        other  NaN                4     2.0                0.065253   \n",
       "                                                                                                                                                                                                                                                                                                                                                                                                                                                                                                                                                                                                                       2.0                0.064962   \n",
       "                                                                                                                                                                                                                                                                                                                                                                                                                                                                                                                                                                                                                       2.0                0.064110   \n",
       "                                          /mnt/b/Google_Drive/PhD/Project with Janet/Labe... 3237    B5     B5     other                    Other      2007-10-19    NaT                59.0          Died        yes   Y     2.0-B5  NaT                NaT          2a      Died other CBarry             yes            pT4aN2aMx        3237        3237           no          4a      2.0 B5       Tumour 1.0   non-cohesive         59         2006-03-24   mod well /mnt/b/Google_Drive/PhD/Project with Janet/Kohl... m        m        574 days 2a 4a yes          yes        other  NaN                4     2.0                0.052740   \n",
       "                                          /mnt/b/Google_Drive/PhD/Project with Janet/Labe... 3237    D9     D9     other                    Other      2007-10-19    NaT                59.0          Died        yes   Y     1.0-D9  NaT                NaT          2a      Died other CBarry             yes            pT4aN2aMx        3237        3237           no          4a      1.0 D9       Tumour 1.0   non-cohesive         59         2006-03-24   mod well /mnt/b/Google_Drive/PhD/Project with Janet/Kohl... m        m        574 days 2a 4a yes          yes        other  NaN                4     2.0                0.068135   \n",
       "...                                                                                                                                                                                                                                                                                                                                                                                                                                                                                                                                                                                                                                            ...   \n",
       "False False 6      False False False H    /mnt/b/Google_Drive/PhD/Project with Janet/Labe... 3585    E11    E11    oral tongue              Other      NaT           NaT                68.0          Alive       no    N     1.0-E11 2015-05-06         2019-05-16   1       alive      FG                 no             pT2N1            3585        3585           no          2       1.0 E11      Tumour NaN   non-cohesive         68         2010-05-13   mod      /mnt/b/Google_Drive/PhD/Project with Janet/Kohl... m        m        NaT      1  2  yes          no         tongue NaN                3     60.0               0.059598   \n",
       "                                                                                                                                                                                                                                                                                                                                                                                                                                                                                                                                                                                                                       60.0               0.055169   \n",
       "                                                                                                                                                                                                                                                                                                                                                                                                                                                                                                                                                                                                                       60.0               0.058763   \n",
       "                                                                                                                                                                                                                                                                                                                                                                                                                                                                                                                                                                                                                       60.0               0.060413   \n",
       "                                                                                                                                                                                                                                                                                                                                                                                                                                                                                                                                                                                                                       60.0               0.060737   \n",
       "\n",
       "                                                                                                                                                                                                                                                                                                                                                                                                                                                                                                                                                                                                                                            1033.0  \\\n",
       "1year 2year 2years 3year 4year 5year ASMA Annotation_loc                                     Case ID Core_x Core_y Corrected Site AJCC/UICC DODvsAlive Date of death Date of recurrence Diagnosis Age DiedvsAlive ECS_x ECS_y ID      Last seen/reviewed Last updated N stage OUTCOME    OUTCOME.updated by Overall Death  Pathogical Stage Patient nu  Patient_Number Recurrence? T stage TMA TMA site Tissue Years advancing front type age @ diag date of diag diff     envi_loc                                           gender_x gender_y lifespan pN pT radiotherapy recurrence site   site of recurrence stage survival (months)             \n",
       "True  True  1      False False False I    /mnt/b/Google_Drive/PhD/Project with Janet/Labe... 3237    D9     D9     other                    Other      2007-10-19    NaT                59.0          Died        yes   Y     1.0-D9  NaT                NaT          2a      Died other CBarry             yes            pT4aN2aMx        3237        3237           no          4a      1.0 D9       Tumour 1.0   non-cohesive         59         2006-03-24   mod well /mnt/b/Google_Drive/PhD/Project with Janet/Kohl... m        m        574 days 2a 4a yes          yes        other  NaN                4     2.0                0.068090   \n",
       "                                                                                                                                                                                                                                                                                                                                                                                                                                                                                                                                                                                                                       2.0                0.066987   \n",
       "                                                                                                                                                                                                                                                                                                                                                                                                                                                                                                                                                                                                                       2.0                0.067322   \n",
       "                                          /mnt/b/Google_Drive/PhD/Project with Janet/Labe... 3237    B5     B5     other                    Other      2007-10-19    NaT                59.0          Died        yes   Y     2.0-B5  NaT                NaT          2a      Died other CBarry             yes            pT4aN2aMx        3237        3237           no          4a      2.0 B5       Tumour 1.0   non-cohesive         59         2006-03-24   mod well /mnt/b/Google_Drive/PhD/Project with Janet/Kohl... m        m        574 days 2a 4a yes          yes        other  NaN                4     2.0                0.055728   \n",
       "                                          /mnt/b/Google_Drive/PhD/Project with Janet/Labe... 3237    D9     D9     other                    Other      2007-10-19    NaT                59.0          Died        yes   Y     1.0-D9  NaT                NaT          2a      Died other CBarry             yes            pT4aN2aMx        3237        3237           no          4a      1.0 D9       Tumour 1.0   non-cohesive         59         2006-03-24   mod well /mnt/b/Google_Drive/PhD/Project with Janet/Kohl... m        m        574 days 2a 4a yes          yes        other  NaN                4     2.0                0.070117   \n",
       "...                                                                                                                                                                                                                                                                                                                                                                                                                                                                                                                                                                                                                                            ...   \n",
       "False False 6      False False False H    /mnt/b/Google_Drive/PhD/Project with Janet/Labe... 3585    E11    E11    oral tongue              Other      NaT           NaT                68.0          Alive       no    N     1.0-E11 2015-05-06         2019-05-16   1       alive      FG                 no             pT2N1            3585        3585           no          2       1.0 E11      Tumour NaN   non-cohesive         68         2010-05-13   mod      /mnt/b/Google_Drive/PhD/Project with Janet/Kohl... m        m        NaT      1  2  yes          no         tongue NaN                3     60.0               0.062220   \n",
       "                                                                                                                                                                                                                                                                                                                                                                                                                                                                                                                                                                                                                       60.0               0.059252   \n",
       "                                                                                                                                                                                                                                                                                                                                                                                                                                                                                                                                                                                                                       60.0               0.062655   \n",
       "                                                                                                                                                                                                                                                                                                                                                                                                                                                                                                                                                                                                                       60.0               0.061070   \n",
       "                                                                                                                                                                                                                                                                                                                                                                                                                                                                                                                                                                                                                       60.0               0.065282   \n",
       "\n",
       "                                                                                                                                                                                                                                                                                                                                                                                                                                                                                                                                                                                                                                          ...  \\\n",
       "1year 2year 2years 3year 4year 5year ASMA Annotation_loc                                     Case ID Core_x Core_y Corrected Site AJCC/UICC DODvsAlive Date of death Date of recurrence Diagnosis Age DiedvsAlive ECS_x ECS_y ID      Last seen/reviewed Last updated N stage OUTCOME    OUTCOME.updated by Overall Death  Pathogical Stage Patient nu  Patient_Number Recurrence? T stage TMA TMA site Tissue Years advancing front type age @ diag date of diag diff     envi_loc                                           gender_x gender_y lifespan pN pT radiotherapy recurrence site   site of recurrence stage survival (months)  ...   \n",
       "True  True  1      False False False I    /mnt/b/Google_Drive/PhD/Project with Janet/Labe... 3237    D9     D9     other                    Other      2007-10-19    NaT                59.0          Died        yes   Y     1.0-D9  NaT                NaT          2a      Died other CBarry             yes            pT4aN2aMx        3237        3237           no          4a      1.0 D9       Tumour 1.0   non-cohesive         59         2006-03-24   mod well /mnt/b/Google_Drive/PhD/Project with Janet/Kohl... m        m        574 days 2a 4a yes          yes        other  NaN                4     2.0                ...   \n",
       "                                                                                                                                                                                                                                                                                                                                                                                                                                                                                                                                                                                                                       2.0                ...   \n",
       "                                                                                                                                                                                                                                                                                                                                                                                                                                                                                                                                                                                                                       2.0                ...   \n",
       "                                          /mnt/b/Google_Drive/PhD/Project with Janet/Labe... 3237    B5     B5     other                    Other      2007-10-19    NaT                59.0          Died        yes   Y     2.0-B5  NaT                NaT          2a      Died other CBarry             yes            pT4aN2aMx        3237        3237           no          4a      2.0 B5       Tumour 1.0   non-cohesive         59         2006-03-24   mod well /mnt/b/Google_Drive/PhD/Project with Janet/Kohl... m        m        574 days 2a 4a yes          yes        other  NaN                4     2.0                ...   \n",
       "                                          /mnt/b/Google_Drive/PhD/Project with Janet/Labe... 3237    D9     D9     other                    Other      2007-10-19    NaT                59.0          Died        yes   Y     1.0-D9  NaT                NaT          2a      Died other CBarry             yes            pT4aN2aMx        3237        3237           no          4a      1.0 D9       Tumour 1.0   non-cohesive         59         2006-03-24   mod well /mnt/b/Google_Drive/PhD/Project with Janet/Kohl... m        m        574 days 2a 4a yes          yes        other  NaN                4     2.0                ...   \n",
       "...                                                                                                                                                                                                                                                                                                                                                                                                                                                                                                                                                                                                                                       ...   \n",
       "False False 6      False False False H    /mnt/b/Google_Drive/PhD/Project with Janet/Labe... 3585    E11    E11    oral tongue              Other      NaT           NaT                68.0          Alive       no    N     1.0-E11 2015-05-06         2019-05-16   1       alive      FG                 no             pT2N1            3585        3585           no          2       1.0 E11      Tumour NaN   non-cohesive         68         2010-05-13   mod      /mnt/b/Google_Drive/PhD/Project with Janet/Kohl... m        m        NaT      1  2  yes          no         tongue NaN                3     60.0               ...   \n",
       "                                                                                                                                                                                                                                                                                                                                                                                                                                                                                                                                                                                                                       60.0               ...   \n",
       "                                                                                                                                                                                                                                                                                                                                                                                                                                                                                                                                                                                                                       60.0               ...   \n",
       "                                                                                                                                                                                                                                                                                                                                                                                                                                                                                                                                                                                                                       60.0               ...   \n",
       "                                                                                                                                                                                                                                                                                                                                                                                                                                                                                                                                                                                                                       60.0               ...   \n",
       "\n",
       "                                                                                                                                                                                                                                                                                                                                                                                                                                                                                                                                                                                                                                            1762.0  \\\n",
       "1year 2year 2years 3year 4year 5year ASMA Annotation_loc                                     Case ID Core_x Core_y Corrected Site AJCC/UICC DODvsAlive Date of death Date of recurrence Diagnosis Age DiedvsAlive ECS_x ECS_y ID      Last seen/reviewed Last updated N stage OUTCOME    OUTCOME.updated by Overall Death  Pathogical Stage Patient nu  Patient_Number Recurrence? T stage TMA TMA site Tissue Years advancing front type age @ diag date of diag diff     envi_loc                                           gender_x gender_y lifespan pN pT radiotherapy recurrence site   site of recurrence stage survival (months)             \n",
       "True  True  1      False False False I    /mnt/b/Google_Drive/PhD/Project with Janet/Labe... 3237    D9     D9     other                    Other      2007-10-19    NaT                59.0          Died        yes   Y     1.0-D9  NaT                NaT          2a      Died other CBarry             yes            pT4aN2aMx        3237        3237           no          4a      1.0 D9       Tumour 1.0   non-cohesive         59         2006-03-24   mod well /mnt/b/Google_Drive/PhD/Project with Janet/Kohl... m        m        574 days 2a 4a yes          yes        other  NaN                4     2.0                0.046913   \n",
       "                                                                                                                                                                                                                                                                                                                                                                                                                                                                                                                                                                                                                       2.0                0.054788   \n",
       "                                                                                                                                                                                                                                                                                                                                                                                                                                                                                                                                                                                                                       2.0                0.048729   \n",
       "                                          /mnt/b/Google_Drive/PhD/Project with Janet/Labe... 3237    B5     B5     other                    Other      2007-10-19    NaT                59.0          Died        yes   Y     2.0-B5  NaT                NaT          2a      Died other CBarry             yes            pT4aN2aMx        3237        3237           no          4a      2.0 B5       Tumour 1.0   non-cohesive         59         2006-03-24   mod well /mnt/b/Google_Drive/PhD/Project with Janet/Kohl... m        m        574 days 2a 4a yes          yes        other  NaN                4     2.0                0.036537   \n",
       "                                          /mnt/b/Google_Drive/PhD/Project with Janet/Labe... 3237    D9     D9     other                    Other      2007-10-19    NaT                59.0          Died        yes   Y     1.0-D9  NaT                NaT          2a      Died other CBarry             yes            pT4aN2aMx        3237        3237           no          4a      1.0 D9       Tumour 1.0   non-cohesive         59         2006-03-24   mod well /mnt/b/Google_Drive/PhD/Project with Janet/Kohl... m        m        574 days 2a 4a yes          yes        other  NaN                4     2.0                0.063776   \n",
       "...                                                                                                                                                                                                                                                                                                                                                                                                                                                                                                                                                                                                                                            ...   \n",
       "False False 6      False False False H    /mnt/b/Google_Drive/PhD/Project with Janet/Labe... 3585    E11    E11    oral tongue              Other      NaT           NaT                68.0          Alive       no    N     1.0-E11 2015-05-06         2019-05-16   1       alive      FG                 no             pT2N1            3585        3585           no          2       1.0 E11      Tumour NaN   non-cohesive         68         2010-05-13   mod      /mnt/b/Google_Drive/PhD/Project with Janet/Kohl... m        m        NaT      1  2  yes          no         tongue NaN                3     60.0               0.054350   \n",
       "                                                                                                                                                                                                                                                                                                                                                                                                                                                                                                                                                                                                                       60.0               0.028992   \n",
       "                                                                                                                                                                                                                                                                                                                                                                                                                                                                                                                                                                                                                       60.0               0.027016   \n",
       "                                                                                                                                                                                                                                                                                                                                                                                                                                                                                                                                                                                                                       60.0               0.055888   \n",
       "                                                                                                                                                                                                                                                                                                                                                                                                                                                                                                                                                                                                                       60.0               0.032332   \n",
       "\n",
       "                                                                                                                                                                                                                                                                                                                                                                                                                                                                                                                                                                                                                                            1766.0  \\\n",
       "1year 2year 2years 3year 4year 5year ASMA Annotation_loc                                     Case ID Core_x Core_y Corrected Site AJCC/UICC DODvsAlive Date of death Date of recurrence Diagnosis Age DiedvsAlive ECS_x ECS_y ID      Last seen/reviewed Last updated N stage OUTCOME    OUTCOME.updated by Overall Death  Pathogical Stage Patient nu  Patient_Number Recurrence? T stage TMA TMA site Tissue Years advancing front type age @ diag date of diag diff     envi_loc                                           gender_x gender_y lifespan pN pT radiotherapy recurrence site   site of recurrence stage survival (months)             \n",
       "True  True  1      False False False I    /mnt/b/Google_Drive/PhD/Project with Janet/Labe... 3237    D9     D9     other                    Other      2007-10-19    NaT                59.0          Died        yes   Y     1.0-D9  NaT                NaT          2a      Died other CBarry             yes            pT4aN2aMx        3237        3237           no          4a      1.0 D9       Tumour 1.0   non-cohesive         59         2006-03-24   mod well /mnt/b/Google_Drive/PhD/Project with Janet/Kohl... m        m        574 days 2a 4a yes          yes        other  NaN                4     2.0                0.046558   \n",
       "                                                                                                                                                                                                                                                                                                                                                                                                                                                                                                                                                                                                                       2.0                0.054131   \n",
       "                                                                                                                                                                                                                                                                                                                                                                                                                                                                                                                                                                                                                       2.0                0.048310   \n",
       "                                          /mnt/b/Google_Drive/PhD/Project with Janet/Labe... 3237    B5     B5     other                    Other      2007-10-19    NaT                59.0          Died        yes   Y     2.0-B5  NaT                NaT          2a      Died other CBarry             yes            pT4aN2aMx        3237        3237           no          4a      2.0 B5       Tumour 1.0   non-cohesive         59         2006-03-24   mod well /mnt/b/Google_Drive/PhD/Project with Janet/Kohl... m        m        574 days 2a 4a yes          yes        other  NaN                4     2.0                0.036897   \n",
       "                                          /mnt/b/Google_Drive/PhD/Project with Janet/Labe... 3237    D9     D9     other                    Other      2007-10-19    NaT                59.0          Died        yes   Y     1.0-D9  NaT                NaT          2a      Died other CBarry             yes            pT4aN2aMx        3237        3237           no          4a      1.0 D9       Tumour 1.0   non-cohesive         59         2006-03-24   mod well /mnt/b/Google_Drive/PhD/Project with Janet/Kohl... m        m        574 days 2a 4a yes          yes        other  NaN                4     2.0                0.063387   \n",
       "...                                                                                                                                                                                                                                                                                                                                                                                                                                                                                                                                                                                                                                            ...   \n",
       "False False 6      False False False H    /mnt/b/Google_Drive/PhD/Project with Janet/Labe... 3585    E11    E11    oral tongue              Other      NaT           NaT                68.0          Alive       no    N     1.0-E11 2015-05-06         2019-05-16   1       alive      FG                 no             pT2N1            3585        3585           no          2       1.0 E11      Tumour NaN   non-cohesive         68         2010-05-13   mod      /mnt/b/Google_Drive/PhD/Project with Janet/Kohl... m        m        NaT      1  2  yes          no         tongue NaN                3     60.0               0.054070   \n",
       "                                                                                                                                                                                                                                                                                                                                                                                                                                                                                                                                                                                                                       60.0               0.027976   \n",
       "                                                                                                                                                                                                                                                                                                                                                                                                                                                                                                                                                                                                                       60.0               0.026332   \n",
       "                                                                                                                                                                                                                                                                                                                                                                                                                                                                                                                                                                                                                       60.0               0.054810   \n",
       "                                                                                                                                                                                                                                                                                                                                                                                                                                                                                                                                                                                                                       60.0               0.031611   \n",
       "\n",
       "                                                                                                                                                                                                                                                                                                                                                                                                                                                                                                                                                                                                                                            1770.0  \\\n",
       "1year 2year 2years 3year 4year 5year ASMA Annotation_loc                                     Case ID Core_x Core_y Corrected Site AJCC/UICC DODvsAlive Date of death Date of recurrence Diagnosis Age DiedvsAlive ECS_x ECS_y ID      Last seen/reviewed Last updated N stage OUTCOME    OUTCOME.updated by Overall Death  Pathogical Stage Patient nu  Patient_Number Recurrence? T stage TMA TMA site Tissue Years advancing front type age @ diag date of diag diff     envi_loc                                           gender_x gender_y lifespan pN pT radiotherapy recurrence site   site of recurrence stage survival (months)             \n",
       "True  True  1      False False False I    /mnt/b/Google_Drive/PhD/Project with Janet/Labe... 3237    D9     D9     other                    Other      2007-10-19    NaT                59.0          Died        yes   Y     1.0-D9  NaT                NaT          2a      Died other CBarry             yes            pT4aN2aMx        3237        3237           no          4a      1.0 D9       Tumour 1.0   non-cohesive         59         2006-03-24   mod well /mnt/b/Google_Drive/PhD/Project with Janet/Kohl... m        m        574 days 2a 4a yes          yes        other  NaN                4     2.0                0.046403   \n",
       "                                                                                                                                                                                                                                                                                                                                                                                                                                                                                                                                                                                                                       2.0                0.053585   \n",
       "                                                                                                                                                                                                                                                                                                                                                                                                                                                                                                                                                                                                                       2.0                0.048095   \n",
       "                                          /mnt/b/Google_Drive/PhD/Project with Janet/Labe... 3237    B5     B5     other                    Other      2007-10-19    NaT                59.0          Died        yes   Y     2.0-B5  NaT                NaT          2a      Died other CBarry             yes            pT4aN2aMx        3237        3237           no          4a      2.0 B5       Tumour 1.0   non-cohesive         59         2006-03-24   mod well /mnt/b/Google_Drive/PhD/Project with Janet/Kohl... m        m        574 days 2a 4a yes          yes        other  NaN                4     2.0                0.037486   \n",
       "                                          /mnt/b/Google_Drive/PhD/Project with Janet/Labe... 3237    D9     D9     other                    Other      2007-10-19    NaT                59.0          Died        yes   Y     1.0-D9  NaT                NaT          2a      Died other CBarry             yes            pT4aN2aMx        3237        3237           no          4a      1.0 D9       Tumour 1.0   non-cohesive         59         2006-03-24   mod well /mnt/b/Google_Drive/PhD/Project with Janet/Kohl... m        m        574 days 2a 4a yes          yes        other  NaN                4     2.0                0.063112   \n",
       "...                                                                                                                                                                                                                                                                                                                                                                                                                                                                                                                                                                                                                                            ...   \n",
       "False False 6      False False False H    /mnt/b/Google_Drive/PhD/Project with Janet/Labe... 3585    E11    E11    oral tongue              Other      NaT           NaT                68.0          Alive       no    N     1.0-E11 2015-05-06         2019-05-16   1       alive      FG                 no             pT2N1            3585        3585           no          2       1.0 E11      Tumour NaN   non-cohesive         68         2010-05-13   mod      /mnt/b/Google_Drive/PhD/Project with Janet/Kohl... m        m        NaT      1  2  yes          no         tongue NaN                3     60.0               0.053940   \n",
       "                                                                                                                                                                                                                                                                                                                                                                                                                                                                                                                                                                                                                       60.0               0.027416   \n",
       "                                                                                                                                                                                                                                                                                                                                                                                                                                                                                                                                                                                                                       60.0               0.026220   \n",
       "                                                                                                                                                                                                                                                                                                                                                                                                                                                                                                                                                                                                                       60.0               0.054197   \n",
       "                                                                                                                                                                                                                                                                                                                                                                                                                                                                                                                                                                                                                       60.0               0.031457   \n",
       "\n",
       "                                                                                                                                                                                                                                                                                                                                                                                                                                                                                                                                                                                                                                            1774.0  \\\n",
       "1year 2year 2years 3year 4year 5year ASMA Annotation_loc                                     Case ID Core_x Core_y Corrected Site AJCC/UICC DODvsAlive Date of death Date of recurrence Diagnosis Age DiedvsAlive ECS_x ECS_y ID      Last seen/reviewed Last updated N stage OUTCOME    OUTCOME.updated by Overall Death  Pathogical Stage Patient nu  Patient_Number Recurrence? T stage TMA TMA site Tissue Years advancing front type age @ diag date of diag diff     envi_loc                                           gender_x gender_y lifespan pN pT radiotherapy recurrence site   site of recurrence stage survival (months)             \n",
       "True  True  1      False False False I    /mnt/b/Google_Drive/PhD/Project with Janet/Labe... 3237    D9     D9     other                    Other      2007-10-19    NaT                59.0          Died        yes   Y     1.0-D9  NaT                NaT          2a      Died other CBarry             yes            pT4aN2aMx        3237        3237           no          4a      1.0 D9       Tumour 1.0   non-cohesive         59         2006-03-24   mod well /mnt/b/Google_Drive/PhD/Project with Janet/Kohl... m        m        574 days 2a 4a yes          yes        other  NaN                4     2.0                0.046348   \n",
       "                                                                                                                                                                                                                                                                                                                                                                                                                                                                                                                                                                                                                       2.0                0.053179   \n",
       "                                                                                                                                                                                                                                                                                                                                                                                                                                                                                                                                                                                                                       2.0                0.048082   \n",
       "                                          /mnt/b/Google_Drive/PhD/Project with Janet/Labe... 3237    B5     B5     other                    Other      2007-10-19    NaT                59.0          Died        yes   Y     2.0-B5  NaT                NaT          2a      Died other CBarry             yes            pT4aN2aMx        3237        3237           no          4a      2.0 B5       Tumour 1.0   non-cohesive         59         2006-03-24   mod well /mnt/b/Google_Drive/PhD/Project with Janet/Kohl... m        m        574 days 2a 4a yes          yes        other  NaN                4     2.0                0.037684   \n",
       "                                          /mnt/b/Google_Drive/PhD/Project with Janet/Labe... 3237    D9     D9     other                    Other      2007-10-19    NaT                59.0          Died        yes   Y     1.0-D9  NaT                NaT          2a      Died other CBarry             yes            pT4aN2aMx        3237        3237           no          4a      1.0 D9       Tumour 1.0   non-cohesive         59         2006-03-24   mod well /mnt/b/Google_Drive/PhD/Project with Janet/Kohl... m        m        574 days 2a 4a yes          yes        other  NaN                4     2.0                0.062866   \n",
       "...                                                                                                                                                                                                                                                                                                                                                                                                                                                                                                                                                                                                                                            ...   \n",
       "False False 6      False False False H    /mnt/b/Google_Drive/PhD/Project with Janet/Labe... 3585    E11    E11    oral tongue              Other      NaT           NaT                68.0          Alive       no    N     1.0-E11 2015-05-06         2019-05-16   1       alive      FG                 no             pT2N1            3585        3585           no          2       1.0 E11      Tumour NaN   non-cohesive         68         2010-05-13   mod      /mnt/b/Google_Drive/PhD/Project with Janet/Kohl... m        m        NaT      1  2  yes          no         tongue NaN                3     60.0               0.054269   \n",
       "                                                                                                                                                                                                                                                                                                                                                                                                                                                                                                                                                                                                                       60.0               0.027271   \n",
       "                                                                                                                                                                                                                                                                                                                                                                                                                                                                                                                                                                                                                       60.0               0.026740   \n",
       "                                                                                                                                                                                                                                                                                                                                                                                                                                                                                                                                                                                                                       60.0               0.053718   \n",
       "                                                                                                                                                                                                                                                                                                                                                                                                                                                                                                                                                                                                                       60.0               0.031991   \n",
       "\n",
       "                                                                                                                                                                                                                                                                                                                                                                                                                                                                                                                                                                                                                                            1778.0  \\\n",
       "1year 2year 2years 3year 4year 5year ASMA Annotation_loc                                     Case ID Core_x Core_y Corrected Site AJCC/UICC DODvsAlive Date of death Date of recurrence Diagnosis Age DiedvsAlive ECS_x ECS_y ID      Last seen/reviewed Last updated N stage OUTCOME    OUTCOME.updated by Overall Death  Pathogical Stage Patient nu  Patient_Number Recurrence? T stage TMA TMA site Tissue Years advancing front type age @ diag date of diag diff     envi_loc                                           gender_x gender_y lifespan pN pT radiotherapy recurrence site   site of recurrence stage survival (months)             \n",
       "True  True  1      False False False I    /mnt/b/Google_Drive/PhD/Project with Janet/Labe... 3237    D9     D9     other                    Other      2007-10-19    NaT                59.0          Died        yes   Y     1.0-D9  NaT                NaT          2a      Died other CBarry             yes            pT4aN2aMx        3237        3237           no          4a      1.0 D9       Tumour 1.0   non-cohesive         59         2006-03-24   mod well /mnt/b/Google_Drive/PhD/Project with Janet/Kohl... m        m        574 days 2a 4a yes          yes        other  NaN                4     2.0                0.046332   \n",
       "                                                                                                                                                                                                                                                                                                                                                                                                                                                                                                                                                                                                                       2.0                0.052928   \n",
       "                                                                                                                                                                                                                                                                                                                                                                                                                                                                                                                                                                                                                       2.0                0.048139   \n",
       "                                          /mnt/b/Google_Drive/PhD/Project with Janet/Labe... 3237    B5     B5     other                    Other      2007-10-19    NaT                59.0          Died        yes   Y     2.0-B5  NaT                NaT          2a      Died other CBarry             yes            pT4aN2aMx        3237        3237           no          4a      2.0 B5       Tumour 1.0   non-cohesive         59         2006-03-24   mod well /mnt/b/Google_Drive/PhD/Project with Janet/Kohl... m        m        574 days 2a 4a yes          yes        other  NaN                4     2.0                0.037438   \n",
       "                                          /mnt/b/Google_Drive/PhD/Project with Janet/Labe... 3237    D9     D9     other                    Other      2007-10-19    NaT                59.0          Died        yes   Y     1.0-D9  NaT                NaT          2a      Died other CBarry             yes            pT4aN2aMx        3237        3237           no          4a      1.0 D9       Tumour 1.0   non-cohesive         59         2006-03-24   mod well /mnt/b/Google_Drive/PhD/Project with Janet/Kohl... m        m        574 days 2a 4a yes          yes        other  NaN                4     2.0                0.062493   \n",
       "...                                                                                                                                                                                                                                                                                                                                                                                                                                                                                                                                                                                                                                            ...   \n",
       "False False 6      False False False H    /mnt/b/Google_Drive/PhD/Project with Janet/Labe... 3585    E11    E11    oral tongue              Other      NaT           NaT                68.0          Alive       no    N     1.0-E11 2015-05-06         2019-05-16   1       alive      FG                 no             pT2N1            3585        3585           no          2       1.0 E11      Tumour NaN   non-cohesive         68         2010-05-13   mod      /mnt/b/Google_Drive/PhD/Project with Janet/Kohl... m        m        NaT      1  2  yes          no         tongue NaN                3     60.0               0.054679   \n",
       "                                                                                                                                                                                                                                                                                                                                                                                                                                                                                                                                                                                                                       60.0               0.026863   \n",
       "                                                                                                                                                                                                                                                                                                                                                                                                                                                                                                                                                                                                                       60.0               0.027350   \n",
       "                                                                                                                                                                                                                                                                                                                                                                                                                                                                                                                                                                                                                       60.0               0.053198   \n",
       "                                                                                                                                                                                                                                                                                                                                                                                                                                                                                                                                                                                                                       60.0               0.032967   \n",
       "\n",
       "                                                                                                                                                                                                                                                                                                                                                                                                                                                                                                                                                                                                                                            1781.0  \\\n",
       "1year 2year 2years 3year 4year 5year ASMA Annotation_loc                                     Case ID Core_x Core_y Corrected Site AJCC/UICC DODvsAlive Date of death Date of recurrence Diagnosis Age DiedvsAlive ECS_x ECS_y ID      Last seen/reviewed Last updated N stage OUTCOME    OUTCOME.updated by Overall Death  Pathogical Stage Patient nu  Patient_Number Recurrence? T stage TMA TMA site Tissue Years advancing front type age @ diag date of diag diff     envi_loc                                           gender_x gender_y lifespan pN pT radiotherapy recurrence site   site of recurrence stage survival (months)             \n",
       "True  True  1      False False False I    /mnt/b/Google_Drive/PhD/Project with Janet/Labe... 3237    D9     D9     other                    Other      2007-10-19    NaT                59.0          Died        yes   Y     1.0-D9  NaT                NaT          2a      Died other CBarry             yes            pT4aN2aMx        3237        3237           no          4a      1.0 D9       Tumour 1.0   non-cohesive         59         2006-03-24   mod well /mnt/b/Google_Drive/PhD/Project with Janet/Kohl... m        m        574 days 2a 4a yes          yes        other  NaN                4     2.0                0.046510   \n",
       "                                                                                                                                                                                                                                                                                                                                                                                                                                                                                                                                                                                                                       2.0                0.052899   \n",
       "                                                                                                                                                                                                                                                                                                                                                                                                                                                                                                                                                                                                                       2.0                0.048305   \n",
       "                                          /mnt/b/Google_Drive/PhD/Project with Janet/Labe... 3237    B5     B5     other                    Other      2007-10-19    NaT                59.0          Died        yes   Y     2.0-B5  NaT                NaT          2a      Died other CBarry             yes            pT4aN2aMx        3237        3237           no          4a      2.0 B5       Tumour 1.0   non-cohesive         59         2006-03-24   mod well /mnt/b/Google_Drive/PhD/Project with Janet/Kohl... m        m        574 days 2a 4a yes          yes        other  NaN                4     2.0                0.037322   \n",
       "                                          /mnt/b/Google_Drive/PhD/Project with Janet/Labe... 3237    D9     D9     other                    Other      2007-10-19    NaT                59.0          Died        yes   Y     1.0-D9  NaT                NaT          2a      Died other CBarry             yes            pT4aN2aMx        3237        3237           no          4a      1.0 D9       Tumour 1.0   non-cohesive         59         2006-03-24   mod well /mnt/b/Google_Drive/PhD/Project with Janet/Kohl... m        m        574 days 2a 4a yes          yes        other  NaN                4     2.0                0.062032   \n",
       "...                                                                                                                                                                                                                                                                                                                                                                                                                                                                                                                                                                                                                                            ...   \n",
       "False False 6      False False False H    /mnt/b/Google_Drive/PhD/Project with Janet/Labe... 3585    E11    E11    oral tongue              Other      NaT           NaT                68.0          Alive       no    N     1.0-E11 2015-05-06         2019-05-16   1       alive      FG                 no             pT2N1            3585        3585           no          2       1.0 E11      Tumour NaN   non-cohesive         68         2010-05-13   mod      /mnt/b/Google_Drive/PhD/Project with Janet/Kohl... m        m        NaT      1  2  yes          no         tongue NaN                3     60.0               0.054876   \n",
       "                                                                                                                                                                                                                                                                                                                                                                                                                                                                                                                                                                                                                       60.0               0.026528   \n",
       "                                                                                                                                                                                                                                                                                                                                                                                                                                                                                                                                                                                                                       60.0               0.028445   \n",
       "                                                                                                                                                                                                                                                                                                                                                                                                                                                                                                                                                                                                                       60.0               0.052836   \n",
       "                                                                                                                                                                                                                                                                                                                                                                                                                                                                                                                                                                                                                       60.0               0.034736   \n",
       "\n",
       "                                                                                                                                                                                                                                                                                                                                                                                                                                                                                                                                                                                                                                            1785.0  \\\n",
       "1year 2year 2years 3year 4year 5year ASMA Annotation_loc                                     Case ID Core_x Core_y Corrected Site AJCC/UICC DODvsAlive Date of death Date of recurrence Diagnosis Age DiedvsAlive ECS_x ECS_y ID      Last seen/reviewed Last updated N stage OUTCOME    OUTCOME.updated by Overall Death  Pathogical Stage Patient nu  Patient_Number Recurrence? T stage TMA TMA site Tissue Years advancing front type age @ diag date of diag diff     envi_loc                                           gender_x gender_y lifespan pN pT radiotherapy recurrence site   site of recurrence stage survival (months)             \n",
       "True  True  1      False False False I    /mnt/b/Google_Drive/PhD/Project with Janet/Labe... 3237    D9     D9     other                    Other      2007-10-19    NaT                59.0          Died        yes   Y     1.0-D9  NaT                NaT          2a      Died other CBarry             yes            pT4aN2aMx        3237        3237           no          4a      1.0 D9       Tumour 1.0   non-cohesive         59         2006-03-24   mod well /mnt/b/Google_Drive/PhD/Project with Janet/Kohl... m        m        574 days 2a 4a yes          yes        other  NaN                4     2.0                0.046708   \n",
       "                                                                                                                                                                                                                                                                                                                                                                                                                                                                                                                                                                                                                       2.0                0.052897   \n",
       "                                                                                                                                                                                                                                                                                                                                                                                                                                                                                                                                                                                                                       2.0                0.048442   \n",
       "                                          /mnt/b/Google_Drive/PhD/Project with Janet/Labe... 3237    B5     B5     other                    Other      2007-10-19    NaT                59.0          Died        yes   Y     2.0-B5  NaT                NaT          2a      Died other CBarry             yes            pT4aN2aMx        3237        3237           no          4a      2.0 B5       Tumour 1.0   non-cohesive         59         2006-03-24   mod well /mnt/b/Google_Drive/PhD/Project with Janet/Kohl... m        m        574 days 2a 4a yes          yes        other  NaN                4     2.0                0.037420   \n",
       "                                          /mnt/b/Google_Drive/PhD/Project with Janet/Labe... 3237    D9     D9     other                    Other      2007-10-19    NaT                59.0          Died        yes   Y     1.0-D9  NaT                NaT          2a      Died other CBarry             yes            pT4aN2aMx        3237        3237           no          4a      1.0 D9       Tumour 1.0   non-cohesive         59         2006-03-24   mod well /mnt/b/Google_Drive/PhD/Project with Janet/Kohl... m        m        574 days 2a 4a yes          yes        other  NaN                4     2.0                0.061509   \n",
       "...                                                                                                                                                                                                                                                                                                                                                                                                                                                                                                                                                                                                                                            ...   \n",
       "False False 6      False False False H    /mnt/b/Google_Drive/PhD/Project with Janet/Labe... 3585    E11    E11    oral tongue              Other      NaT           NaT                68.0          Alive       no    N     1.0-E11 2015-05-06         2019-05-16   1       alive      FG                 no             pT2N1            3585        3585           no          2       1.0 E11      Tumour NaN   non-cohesive         68         2010-05-13   mod      /mnt/b/Google_Drive/PhD/Project with Janet/Kohl... m        m        NaT      1  2  yes          no         tongue NaN                3     60.0               0.054544   \n",
       "                                                                                                                                                                                                                                                                                                                                                                                                                                                                                                                                                                                                                       60.0               0.026514   \n",
       "                                                                                                                                                                                                                                                                                                                                                                                                                                                                                                                                                                                                                       60.0               0.029869   \n",
       "                                                                                                                                                                                                                                                                                                                                                                                                                                                                                                                                                                                                                       60.0               0.052563   \n",
       "                                                                                                                                                                                                                                                                                                                                                                                                                                                                                                                                                                                                                       60.0               0.036867   \n",
       "\n",
       "                                                                                                                                                                                                                                                                                                                                                                                                                                                                                                                                                                                                                                            1789.0  \\\n",
       "1year 2year 2years 3year 4year 5year ASMA Annotation_loc                                     Case ID Core_x Core_y Corrected Site AJCC/UICC DODvsAlive Date of death Date of recurrence Diagnosis Age DiedvsAlive ECS_x ECS_y ID      Last seen/reviewed Last updated N stage OUTCOME    OUTCOME.updated by Overall Death  Pathogical Stage Patient nu  Patient_Number Recurrence? T stage TMA TMA site Tissue Years advancing front type age @ diag date of diag diff     envi_loc                                           gender_x gender_y lifespan pN pT radiotherapy recurrence site   site of recurrence stage survival (months)             \n",
       "True  True  1      False False False I    /mnt/b/Google_Drive/PhD/Project with Janet/Labe... 3237    D9     D9     other                    Other      2007-10-19    NaT                59.0          Died        yes   Y     1.0-D9  NaT                NaT          2a      Died other CBarry             yes            pT4aN2aMx        3237        3237           no          4a      1.0 D9       Tumour 1.0   non-cohesive         59         2006-03-24   mod well /mnt/b/Google_Drive/PhD/Project with Janet/Kohl... m        m        574 days 2a 4a yes          yes        other  NaN                4     2.0                0.046879   \n",
       "                                                                                                                                                                                                                                                                                                                                                                                                                                                                                                                                                                                                                       2.0                0.052930   \n",
       "                                                                                                                                                                                                                                                                                                                                                                                                                                                                                                                                                                                                                       2.0                0.048683   \n",
       "                                          /mnt/b/Google_Drive/PhD/Project with Janet/Labe... 3237    B5     B5     other                    Other      2007-10-19    NaT                59.0          Died        yes   Y     2.0-B5  NaT                NaT          2a      Died other CBarry             yes            pT4aN2aMx        3237        3237           no          4a      2.0 B5       Tumour 1.0   non-cohesive         59         2006-03-24   mod well /mnt/b/Google_Drive/PhD/Project with Janet/Kohl... m        m        574 days 2a 4a yes          yes        other  NaN                4     2.0                0.037717   \n",
       "                                          /mnt/b/Google_Drive/PhD/Project with Janet/Labe... 3237    D9     D9     other                    Other      2007-10-19    NaT                59.0          Died        yes   Y     1.0-D9  NaT                NaT          2a      Died other CBarry             yes            pT4aN2aMx        3237        3237           no          4a      1.0 D9       Tumour 1.0   non-cohesive         59         2006-03-24   mod well /mnt/b/Google_Drive/PhD/Project with Janet/Kohl... m        m        574 days 2a 4a yes          yes        other  NaN                4     2.0                0.061170   \n",
       "...                                                                                                                                                                                                                                                                                                                                                                                                                                                                                                                                                                                                                                            ...   \n",
       "False False 6      False False False H    /mnt/b/Google_Drive/PhD/Project with Janet/Labe... 3585    E11    E11    oral tongue              Other      NaT           NaT                68.0          Alive       no    N     1.0-E11 2015-05-06         2019-05-16   1       alive      FG                 no             pT2N1            3585        3585           no          2       1.0 E11      Tumour NaN   non-cohesive         68         2010-05-13   mod      /mnt/b/Google_Drive/PhD/Project with Janet/Kohl... m        m        NaT      1  2  yes          no         tongue NaN                3     60.0               0.053862   \n",
       "                                                                                                                                                                                                                                                                                                                                                                                                                                                                                                                                                                                                                       60.0               0.027015   \n",
       "                                                                                                                                                                                                                                                                                                                                                                                                                                                                                                                                                                                                                       60.0               0.031009   \n",
       "                                                                                                                                                                                                                                                                                                                                                                                                                                                                                                                                                                                                                       60.0               0.052329   \n",
       "                                                                                                                                                                                                                                                                                                                                                                                                                                                                                                                                                                                                                       60.0               0.038622   \n",
       "\n",
       "                                                                                                                                                                                                                                                                                                                                                                                                                                                                                                                                                                                                                                            1793.0  \\\n",
       "1year 2year 2years 3year 4year 5year ASMA Annotation_loc                                     Case ID Core_x Core_y Corrected Site AJCC/UICC DODvsAlive Date of death Date of recurrence Diagnosis Age DiedvsAlive ECS_x ECS_y ID      Last seen/reviewed Last updated N stage OUTCOME    OUTCOME.updated by Overall Death  Pathogical Stage Patient nu  Patient_Number Recurrence? T stage TMA TMA site Tissue Years advancing front type age @ diag date of diag diff     envi_loc                                           gender_x gender_y lifespan pN pT radiotherapy recurrence site   site of recurrence stage survival (months)             \n",
       "True  True  1      False False False I    /mnt/b/Google_Drive/PhD/Project with Janet/Labe... 3237    D9     D9     other                    Other      2007-10-19    NaT                59.0          Died        yes   Y     1.0-D9  NaT                NaT          2a      Died other CBarry             yes            pT4aN2aMx        3237        3237           no          4a      1.0 D9       Tumour 1.0   non-cohesive         59         2006-03-24   mod well /mnt/b/Google_Drive/PhD/Project with Janet/Kohl... m        m        574 days 2a 4a yes          yes        other  NaN                4     2.0                0.047003   \n",
       "                                                                                                                                                                                                                                                                                                                                                                                                                                                                                                                                                                                                                       2.0                0.052869   \n",
       "                                                                                                                                                                                                                                                                                                                                                                                                                                                                                                                                                                                                                       2.0                0.048814   \n",
       "                                          /mnt/b/Google_Drive/PhD/Project with Janet/Labe... 3237    B5     B5     other                    Other      2007-10-19    NaT                59.0          Died        yes   Y     2.0-B5  NaT                NaT          2a      Died other CBarry             yes            pT4aN2aMx        3237        3237           no          4a      2.0 B5       Tumour 1.0   non-cohesive         59         2006-03-24   mod well /mnt/b/Google_Drive/PhD/Project with Janet/Kohl... m        m        574 days 2a 4a yes          yes        other  NaN                4     2.0                0.037995   \n",
       "                                          /mnt/b/Google_Drive/PhD/Project with Janet/Labe... 3237    D9     D9     other                    Other      2007-10-19    NaT                59.0          Died        yes   Y     1.0-D9  NaT                NaT          2a      Died other CBarry             yes            pT4aN2aMx        3237        3237           no          4a      1.0 D9       Tumour 1.0   non-cohesive         59         2006-03-24   mod well /mnt/b/Google_Drive/PhD/Project with Janet/Kohl... m        m        574 days 2a 4a yes          yes        other  NaN                4     2.0                0.060976   \n",
       "...                                                                                                                                                                                                                                                                                                                                                                                                                                                                                                                                                                                                                                            ...   \n",
       "False False 6      False False False H    /mnt/b/Google_Drive/PhD/Project with Janet/Labe... 3585    E11    E11    oral tongue              Other      NaT           NaT                68.0          Alive       no    N     1.0-E11 2015-05-06         2019-05-16   1       alive      FG                 no             pT2N1            3585        3585           no          2       1.0 E11      Tumour NaN   non-cohesive         68         2010-05-13   mod      /mnt/b/Google_Drive/PhD/Project with Janet/Kohl... m        m        NaT      1  2  yes          no         tongue NaN                3     60.0               0.053211   \n",
       "                                                                                                                                                                                                                                                                                                                                                                                                                                                                                                                                                                                                                       60.0               0.027357   \n",
       "                                                                                                                                                                                                                                                                                                                                                                                                                                                                                                                                                                                                                       60.0               0.031494   \n",
       "                                                                                                                                                                                                                                                                                                                                                                                                                                                                                                                                                                                                                       60.0               0.052205   \n",
       "                                                                                                                                                                                                                                                                                                                                                                                                                                                                                                                                                                                                                       60.0               0.039268   \n",
       "\n",
       "                                                                                                                                                                                                                                                                                                                                                                                                                                                                                                                                                                                                                                            1797.0  \n",
       "1year 2year 2years 3year 4year 5year ASMA Annotation_loc                                     Case ID Core_x Core_y Corrected Site AJCC/UICC DODvsAlive Date of death Date of recurrence Diagnosis Age DiedvsAlive ECS_x ECS_y ID      Last seen/reviewed Last updated N stage OUTCOME    OUTCOME.updated by Overall Death  Pathogical Stage Patient nu  Patient_Number Recurrence? T stage TMA TMA site Tissue Years advancing front type age @ diag date of diag diff     envi_loc                                           gender_x gender_y lifespan pN pT radiotherapy recurrence site   site of recurrence stage survival (months)            \n",
       "True  True  1      False False False I    /mnt/b/Google_Drive/PhD/Project with Janet/Labe... 3237    D9     D9     other                    Other      2007-10-19    NaT                59.0          Died        yes   Y     1.0-D9  NaT                NaT          2a      Died other CBarry             yes            pT4aN2aMx        3237        3237           no          4a      1.0 D9       Tumour 1.0   non-cohesive         59         2006-03-24   mod well /mnt/b/Google_Drive/PhD/Project with Janet/Kohl... m        m        574 days 2a 4a yes          yes        other  NaN                4     2.0                0.047217  \n",
       "                                                                                                                                                                                                                                                                                                                                                                                                                                                                                                                                                                                                                       2.0                0.052797  \n",
       "                                                                                                                                                                                                                                                                                                                                                                                                                                                                                                                                                                                                                       2.0                0.048934  \n",
       "                                          /mnt/b/Google_Drive/PhD/Project with Janet/Labe... 3237    B5     B5     other                    Other      2007-10-19    NaT                59.0          Died        yes   Y     2.0-B5  NaT                NaT          2a      Died other CBarry             yes            pT4aN2aMx        3237        3237           no          4a      2.0 B5       Tumour 1.0   non-cohesive         59         2006-03-24   mod well /mnt/b/Google_Drive/PhD/Project with Janet/Kohl... m        m        574 days 2a 4a yes          yes        other  NaN                4     2.0                0.038375  \n",
       "                                          /mnt/b/Google_Drive/PhD/Project with Janet/Labe... 3237    D9     D9     other                    Other      2007-10-19    NaT                59.0          Died        yes   Y     1.0-D9  NaT                NaT          2a      Died other CBarry             yes            pT4aN2aMx        3237        3237           no          4a      1.0 D9       Tumour 1.0   non-cohesive         59         2006-03-24   mod well /mnt/b/Google_Drive/PhD/Project with Janet/Kohl... m        m        574 days 2a 4a yes          yes        other  NaN                4     2.0                0.060927  \n",
       "...                                                                                                                                                                                                                                                                                                                                                                                                                                                                                                                                                                                                                                            ...  \n",
       "False False 6      False False False H    /mnt/b/Google_Drive/PhD/Project with Janet/Labe... 3585    E11    E11    oral tongue              Other      NaT           NaT                68.0          Alive       no    N     1.0-E11 2015-05-06         2019-05-16   1       alive      FG                 no             pT2N1            3585        3585           no          2       1.0 E11      Tumour NaN   non-cohesive         68         2010-05-13   mod      /mnt/b/Google_Drive/PhD/Project with Janet/Kohl... m        m        NaT      1  2  yes          no         tongue NaN                3     60.0               0.053001  \n",
       "                                                                                                                                                                                                                                                                                                                                                                                                                                                                                                                                                                                                                       60.0               0.027378  \n",
       "                                                                                                                                                                                                                                                                                                                                                                                                                                                                                                                                                                                                                       60.0               0.031878  \n",
       "                                                                                                                                                                                                                                                                                                                                                                                                                                                                                                                                                                                                                       60.0               0.052629  \n",
       "                                                                                                                                                                                                                                                                                                                                                                                                                                                                                                                                                                                                                       60.0               0.038827  \n",
       "\n",
       "[6480 rows x 169 columns]"
      ]
     },
     "execution_count": 36,
     "metadata": {},
     "output_type": "execute_result"
    }
   ],
   "source": [
    "total_"
   ]
  },
  {
   "cell_type": "code",
   "execution_count": 37,
   "metadata": {},
   "outputs": [
    {
     "data": {
      "text/html": [
       "<div>\n",
       "<style scoped>\n",
       "    .dataframe tbody tr th:only-of-type {\n",
       "        vertical-align: middle;\n",
       "    }\n",
       "\n",
       "    .dataframe tbody tr th {\n",
       "        vertical-align: top;\n",
       "    }\n",
       "\n",
       "    .dataframe thead th {\n",
       "        text-align: right;\n",
       "    }\n",
       "</style>\n",
       "<table border=\"1\" class=\"dataframe\">\n",
       "  <thead>\n",
       "    <tr style=\"text-align: right;\">\n",
       "      <th></th>\n",
       "      <th></th>\n",
       "      <th></th>\n",
       "      <th></th>\n",
       "      <th></th>\n",
       "      <th></th>\n",
       "      <th></th>\n",
       "      <th></th>\n",
       "      <th></th>\n",
       "      <th></th>\n",
       "      <th></th>\n",
       "      <th></th>\n",
       "      <th></th>\n",
       "      <th></th>\n",
       "      <th></th>\n",
       "      <th></th>\n",
       "      <th></th>\n",
       "      <th></th>\n",
       "      <th></th>\n",
       "      <th></th>\n",
       "      <th></th>\n",
       "      <th></th>\n",
       "      <th></th>\n",
       "      <th></th>\n",
       "      <th></th>\n",
       "      <th></th>\n",
       "      <th></th>\n",
       "      <th></th>\n",
       "      <th></th>\n",
       "      <th></th>\n",
       "      <th></th>\n",
       "      <th></th>\n",
       "      <th></th>\n",
       "      <th></th>\n",
       "      <th></th>\n",
       "      <th></th>\n",
       "      <th></th>\n",
       "      <th></th>\n",
       "      <th></th>\n",
       "      <th></th>\n",
       "      <th></th>\n",
       "      <th></th>\n",
       "      <th></th>\n",
       "      <th></th>\n",
       "      <th></th>\n",
       "      <th></th>\n",
       "      <th></th>\n",
       "      <th></th>\n",
       "      <th></th>\n",
       "      <th></th>\n",
       "      <th></th>\n",
       "      <th>998.0</th>\n",
       "      <th>1002.0</th>\n",
       "      <th>1006.0</th>\n",
       "      <th>1010.0</th>\n",
       "      <th>1014.0</th>\n",
       "      <th>1018.0</th>\n",
       "      <th>1022.0</th>\n",
       "      <th>1025.0</th>\n",
       "      <th>1029.0</th>\n",
       "      <th>1033.0</th>\n",
       "      <th>...</th>\n",
       "      <th>1762.0</th>\n",
       "      <th>1766.0</th>\n",
       "      <th>1770.0</th>\n",
       "      <th>1774.0</th>\n",
       "      <th>1778.0</th>\n",
       "      <th>1781.0</th>\n",
       "      <th>1785.0</th>\n",
       "      <th>1789.0</th>\n",
       "      <th>1793.0</th>\n",
       "      <th>1797.0</th>\n",
       "    </tr>\n",
       "    <tr>\n",
       "      <th>1year</th>\n",
       "      <th>2year</th>\n",
       "      <th>2years</th>\n",
       "      <th>3year</th>\n",
       "      <th>4year</th>\n",
       "      <th>5year</th>\n",
       "      <th>ASMA</th>\n",
       "      <th>Annotation_loc</th>\n",
       "      <th>Case ID</th>\n",
       "      <th>Core_x</th>\n",
       "      <th>Core_y</th>\n",
       "      <th>Corrected Site AJCC/UICC</th>\n",
       "      <th>DODvsAlive</th>\n",
       "      <th>Date of death</th>\n",
       "      <th>Date of recurrence</th>\n",
       "      <th>Diagnosis Age</th>\n",
       "      <th>DiedvsAlive</th>\n",
       "      <th>ECS_x</th>\n",
       "      <th>ECS_y</th>\n",
       "      <th>ID</th>\n",
       "      <th>Last seen/reviewed</th>\n",
       "      <th>Last updated</th>\n",
       "      <th>N stage</th>\n",
       "      <th>OUTCOME</th>\n",
       "      <th>OUTCOME.updated by</th>\n",
       "      <th>Overall Death</th>\n",
       "      <th>Pathogical Stage</th>\n",
       "      <th>Patient nu</th>\n",
       "      <th>Patient_Number</th>\n",
       "      <th>Recurrence?</th>\n",
       "      <th>T stage</th>\n",
       "      <th>TMA</th>\n",
       "      <th>TMA site</th>\n",
       "      <th>Tissue</th>\n",
       "      <th>Years</th>\n",
       "      <th>advancing front type</th>\n",
       "      <th>age @ diag</th>\n",
       "      <th>date of diag</th>\n",
       "      <th>diff</th>\n",
       "      <th>envi_loc</th>\n",
       "      <th>gender_x</th>\n",
       "      <th>gender_y</th>\n",
       "      <th>lifespan</th>\n",
       "      <th>pN</th>\n",
       "      <th>pT</th>\n",
       "      <th>radiotherapy</th>\n",
       "      <th>recurrence</th>\n",
       "      <th>site</th>\n",
       "      <th>site of recurrence</th>\n",
       "      <th>stage</th>\n",
       "      <th>survival (months)</th>\n",
       "      <th></th>\n",
       "      <th></th>\n",
       "      <th></th>\n",
       "      <th></th>\n",
       "      <th></th>\n",
       "      <th></th>\n",
       "      <th></th>\n",
       "      <th></th>\n",
       "      <th></th>\n",
       "      <th></th>\n",
       "      <th></th>\n",
       "      <th></th>\n",
       "      <th></th>\n",
       "      <th></th>\n",
       "      <th></th>\n",
       "      <th></th>\n",
       "      <th></th>\n",
       "      <th></th>\n",
       "      <th></th>\n",
       "      <th></th>\n",
       "      <th></th>\n",
       "    </tr>\n",
       "  </thead>\n",
       "  <tbody>\n",
       "    <tr>\n",
       "      <th rowspan=\"5\" valign=\"top\">True</th>\n",
       "      <th rowspan=\"5\" valign=\"top\">True</th>\n",
       "      <th rowspan=\"5\" valign=\"top\">1</th>\n",
       "      <th rowspan=\"5\" valign=\"top\">False</th>\n",
       "      <th rowspan=\"5\" valign=\"top\">False</th>\n",
       "      <th rowspan=\"5\" valign=\"top\">False</th>\n",
       "      <th rowspan=\"5\" valign=\"top\">I</th>\n",
       "      <th>/mnt/b/Google_Drive/PhD/Project with Janet/Label_Images/TMA_2/TMA_1.1_B5.png</th>\n",
       "      <th>3237</th>\n",
       "      <th>B5</th>\n",
       "      <th>B5</th>\n",
       "      <th>other</th>\n",
       "      <th>Other</th>\n",
       "      <th>2007-10-19</th>\n",
       "      <th>NaT</th>\n",
       "      <th>59.0</th>\n",
       "      <th>Died</th>\n",
       "      <th>yes</th>\n",
       "      <th>Y</th>\n",
       "      <th>2.0-B5</th>\n",
       "      <th>NaT</th>\n",
       "      <th>NaT</th>\n",
       "      <th>2a</th>\n",
       "      <th>Died other</th>\n",
       "      <th>CBarry</th>\n",
       "      <th>yes</th>\n",
       "      <th>pT4aN2aMx</th>\n",
       "      <th>3237</th>\n",
       "      <th>3237</th>\n",
       "      <th>no</th>\n",
       "      <th>4a</th>\n",
       "      <th>2.0</th>\n",
       "      <th>B5</th>\n",
       "      <th>Tumour</th>\n",
       "      <th>1.0</th>\n",
       "      <th>non-cohesive</th>\n",
       "      <th>59</th>\n",
       "      <th>2006-03-24</th>\n",
       "      <th>mod well</th>\n",
       "      <th>/mnt/b/Google_Drive/PhD/Project with Janet/Kohler_Corrected/TMA_2TMA_1.1_B5.HDR</th>\n",
       "      <th>m</th>\n",
       "      <th>m</th>\n",
       "      <th>574 days</th>\n",
       "      <th>2a</th>\n",
       "      <th>4a</th>\n",
       "      <th>yes</th>\n",
       "      <th>yes</th>\n",
       "      <th>other</th>\n",
       "      <th>NaN</th>\n",
       "      <th>4</th>\n",
       "      <th>2.0</th>\n",
       "      <td>0.037591</td>\n",
       "      <td>0.037418</td>\n",
       "      <td>0.038701</td>\n",
       "      <td>0.041082</td>\n",
       "      <td>0.044206</td>\n",
       "      <td>0.047714</td>\n",
       "      <td>0.050632</td>\n",
       "      <td>0.053512</td>\n",
       "      <td>0.055884</td>\n",
       "      <td>0.057546</td>\n",
       "      <td>...</td>\n",
       "      <td>0.036164</td>\n",
       "      <td>0.035900</td>\n",
       "      <td>0.035866</td>\n",
       "      <td>0.035935</td>\n",
       "      <td>0.036360</td>\n",
       "      <td>0.037296</td>\n",
       "      <td>0.038146</td>\n",
       "      <td>0.038658</td>\n",
       "      <td>0.038563</td>\n",
       "      <td>0.038214</td>\n",
       "    </tr>\n",
       "    <tr>\n",
       "      <th rowspan=\"2\" valign=\"top\">/mnt/b/Google_Drive/PhD/Project with Janet/Label_Images/TMA_1/TMA_1.2_D9.png</th>\n",
       "      <th rowspan=\"2\" valign=\"top\">3237</th>\n",
       "      <th rowspan=\"2\" valign=\"top\">D9</th>\n",
       "      <th rowspan=\"2\" valign=\"top\">D9</th>\n",
       "      <th rowspan=\"2\" valign=\"top\">other</th>\n",
       "      <th rowspan=\"2\" valign=\"top\">Other</th>\n",
       "      <th rowspan=\"2\" valign=\"top\">2007-10-19</th>\n",
       "      <th rowspan=\"2\" valign=\"top\">NaT</th>\n",
       "      <th rowspan=\"2\" valign=\"top\">59.0</th>\n",
       "      <th rowspan=\"2\" valign=\"top\">Died</th>\n",
       "      <th rowspan=\"2\" valign=\"top\">yes</th>\n",
       "      <th rowspan=\"2\" valign=\"top\">Y</th>\n",
       "      <th rowspan=\"2\" valign=\"top\">1.0-D9</th>\n",
       "      <th rowspan=\"2\" valign=\"top\">NaT</th>\n",
       "      <th rowspan=\"2\" valign=\"top\">NaT</th>\n",
       "      <th rowspan=\"2\" valign=\"top\">2a</th>\n",
       "      <th rowspan=\"2\" valign=\"top\">Died other</th>\n",
       "      <th rowspan=\"2\" valign=\"top\">CBarry</th>\n",
       "      <th rowspan=\"2\" valign=\"top\">yes</th>\n",
       "      <th rowspan=\"2\" valign=\"top\">pT4aN2aMx</th>\n",
       "      <th rowspan=\"2\" valign=\"top\">3237</th>\n",
       "      <th rowspan=\"2\" valign=\"top\">3237</th>\n",
       "      <th rowspan=\"2\" valign=\"top\">no</th>\n",
       "      <th rowspan=\"2\" valign=\"top\">4a</th>\n",
       "      <th rowspan=\"2\" valign=\"top\">1.0</th>\n",
       "      <th rowspan=\"2\" valign=\"top\">D9</th>\n",
       "      <th rowspan=\"2\" valign=\"top\">Tumour</th>\n",
       "      <th rowspan=\"2\" valign=\"top\">1.0</th>\n",
       "      <th rowspan=\"2\" valign=\"top\">non-cohesive</th>\n",
       "      <th rowspan=\"2\" valign=\"top\">59</th>\n",
       "      <th rowspan=\"2\" valign=\"top\">2006-03-24</th>\n",
       "      <th rowspan=\"2\" valign=\"top\">mod well</th>\n",
       "      <th rowspan=\"2\" valign=\"top\">/mnt/b/Google_Drive/PhD/Project with Janet/Kohler_Corrected/TMA_1TMA_1.2_D9.HDR</th>\n",
       "      <th rowspan=\"2\" valign=\"top\">m</th>\n",
       "      <th rowspan=\"2\" valign=\"top\">m</th>\n",
       "      <th rowspan=\"2\" valign=\"top\">574 days</th>\n",
       "      <th rowspan=\"2\" valign=\"top\">2a</th>\n",
       "      <th rowspan=\"2\" valign=\"top\">4a</th>\n",
       "      <th rowspan=\"2\" valign=\"top\">yes</th>\n",
       "      <th rowspan=\"2\" valign=\"top\">yes</th>\n",
       "      <th rowspan=\"2\" valign=\"top\">other</th>\n",
       "      <th rowspan=\"2\" valign=\"top\">NaN</th>\n",
       "      <th rowspan=\"2\" valign=\"top\">4</th>\n",
       "      <th>2.0</th>\n",
       "      <td>0.053059</td>\n",
       "      <td>0.054728</td>\n",
       "      <td>0.056193</td>\n",
       "      <td>0.057533</td>\n",
       "      <td>0.058827</td>\n",
       "      <td>0.060153</td>\n",
       "      <td>0.061420</td>\n",
       "      <td>0.063013</td>\n",
       "      <td>0.064908</td>\n",
       "      <td>0.067327</td>\n",
       "      <td>...</td>\n",
       "      <td>0.058228</td>\n",
       "      <td>0.057794</td>\n",
       "      <td>0.057549</td>\n",
       "      <td>0.057371</td>\n",
       "      <td>0.057141</td>\n",
       "      <td>0.056917</td>\n",
       "      <td>0.056639</td>\n",
       "      <td>0.056443</td>\n",
       "      <td>0.056302</td>\n",
       "      <td>0.056236</td>\n",
       "    </tr>\n",
       "    <tr>\n",
       "      <th>2.0</th>\n",
       "      <td>0.043940</td>\n",
       "      <td>0.046852</td>\n",
       "      <td>0.049490</td>\n",
       "      <td>0.051934</td>\n",
       "      <td>0.054266</td>\n",
       "      <td>0.056567</td>\n",
       "      <td>0.058929</td>\n",
       "      <td>0.061567</td>\n",
       "      <td>0.064258</td>\n",
       "      <td>0.066934</td>\n",
       "      <td>...</td>\n",
       "      <td>0.049527</td>\n",
       "      <td>0.049357</td>\n",
       "      <td>0.049270</td>\n",
       "      <td>0.049157</td>\n",
       "      <td>0.049043</td>\n",
       "      <td>0.049009</td>\n",
       "      <td>0.048927</td>\n",
       "      <td>0.048955</td>\n",
       "      <td>0.048972</td>\n",
       "      <td>0.048998</td>\n",
       "    </tr>\n",
       "    <tr>\n",
       "      <th>/mnt/b/Google_Drive/PhD/Project with Janet/Label_Images/TMA_2/TMA_1.1_B5.png</th>\n",
       "      <th>3237</th>\n",
       "      <th>B5</th>\n",
       "      <th>B5</th>\n",
       "      <th>other</th>\n",
       "      <th>Other</th>\n",
       "      <th>2007-10-19</th>\n",
       "      <th>NaT</th>\n",
       "      <th>59.0</th>\n",
       "      <th>Died</th>\n",
       "      <th>yes</th>\n",
       "      <th>Y</th>\n",
       "      <th>2.0-B5</th>\n",
       "      <th>NaT</th>\n",
       "      <th>NaT</th>\n",
       "      <th>2a</th>\n",
       "      <th>Died other</th>\n",
       "      <th>CBarry</th>\n",
       "      <th>yes</th>\n",
       "      <th>pT4aN2aMx</th>\n",
       "      <th>3237</th>\n",
       "      <th>3237</th>\n",
       "      <th>no</th>\n",
       "      <th>4a</th>\n",
       "      <th>2.0</th>\n",
       "      <th>B5</th>\n",
       "      <th>Tumour</th>\n",
       "      <th>1.0</th>\n",
       "      <th>non-cohesive</th>\n",
       "      <th>59</th>\n",
       "      <th>2006-03-24</th>\n",
       "      <th>mod well</th>\n",
       "      <th>/mnt/b/Google_Drive/PhD/Project with Janet/Kohler_Corrected/TMA_2TMA_1.1_B5.HDR</th>\n",
       "      <th>m</th>\n",
       "      <th>m</th>\n",
       "      <th>574 days</th>\n",
       "      <th>2a</th>\n",
       "      <th>4a</th>\n",
       "      <th>yes</th>\n",
       "      <th>yes</th>\n",
       "      <th>other</th>\n",
       "      <th>NaN</th>\n",
       "      <th>4</th>\n",
       "      <th>2.0</th>\n",
       "      <td>0.039571</td>\n",
       "      <td>0.042106</td>\n",
       "      <td>0.044260</td>\n",
       "      <td>0.046173</td>\n",
       "      <td>0.047983</td>\n",
       "      <td>0.049829</td>\n",
       "      <td>0.052072</td>\n",
       "      <td>0.054628</td>\n",
       "      <td>0.057536</td>\n",
       "      <td>0.060363</td>\n",
       "      <td>...</td>\n",
       "      <td>0.045484</td>\n",
       "      <td>0.045865</td>\n",
       "      <td>0.046032</td>\n",
       "      <td>0.045992</td>\n",
       "      <td>0.045900</td>\n",
       "      <td>0.046088</td>\n",
       "      <td>0.046505</td>\n",
       "      <td>0.046780</td>\n",
       "      <td>0.046712</td>\n",
       "      <td>0.046926</td>\n",
       "    </tr>\n",
       "    <tr>\n",
       "      <th>/mnt/b/Google_Drive/PhD/Project with Janet/Label_Images/TMA_1/TMA_1.2_D9.png</th>\n",
       "      <th>3237</th>\n",
       "      <th>D9</th>\n",
       "      <th>D9</th>\n",
       "      <th>other</th>\n",
       "      <th>Other</th>\n",
       "      <th>2007-10-19</th>\n",
       "      <th>NaT</th>\n",
       "      <th>59.0</th>\n",
       "      <th>Died</th>\n",
       "      <th>yes</th>\n",
       "      <th>Y</th>\n",
       "      <th>1.0-D9</th>\n",
       "      <th>NaT</th>\n",
       "      <th>NaT</th>\n",
       "      <th>2a</th>\n",
       "      <th>Died other</th>\n",
       "      <th>CBarry</th>\n",
       "      <th>yes</th>\n",
       "      <th>pT4aN2aMx</th>\n",
       "      <th>3237</th>\n",
       "      <th>3237</th>\n",
       "      <th>no</th>\n",
       "      <th>4a</th>\n",
       "      <th>1.0</th>\n",
       "      <th>D9</th>\n",
       "      <th>Tumour</th>\n",
       "      <th>1.0</th>\n",
       "      <th>non-cohesive</th>\n",
       "      <th>59</th>\n",
       "      <th>2006-03-24</th>\n",
       "      <th>mod well</th>\n",
       "      <th>/mnt/b/Google_Drive/PhD/Project with Janet/Kohler_Corrected/TMA_1TMA_1.2_D9.HDR</th>\n",
       "      <th>m</th>\n",
       "      <th>m</th>\n",
       "      <th>574 days</th>\n",
       "      <th>2a</th>\n",
       "      <th>4a</th>\n",
       "      <th>yes</th>\n",
       "      <th>yes</th>\n",
       "      <th>other</th>\n",
       "      <th>NaN</th>\n",
       "      <th>4</th>\n",
       "      <th>2.0</th>\n",
       "      <td>0.047895</td>\n",
       "      <td>0.050326</td>\n",
       "      <td>0.052413</td>\n",
       "      <td>0.054267</td>\n",
       "      <td>0.055997</td>\n",
       "      <td>0.057713</td>\n",
       "      <td>0.059505</td>\n",
       "      <td>0.061706</td>\n",
       "      <td>0.064177</td>\n",
       "      <td>0.066845</td>\n",
       "      <td>...</td>\n",
       "      <td>0.049855</td>\n",
       "      <td>0.049544</td>\n",
       "      <td>0.049357</td>\n",
       "      <td>0.049343</td>\n",
       "      <td>0.049408</td>\n",
       "      <td>0.049651</td>\n",
       "      <td>0.049779</td>\n",
       "      <td>0.049833</td>\n",
       "      <td>0.049813</td>\n",
       "      <td>0.049819</td>\n",
       "    </tr>\n",
       "    <tr>\n",
       "      <th>...</th>\n",
       "      <th>...</th>\n",
       "      <th>...</th>\n",
       "      <th>...</th>\n",
       "      <th>...</th>\n",
       "      <th>...</th>\n",
       "      <th>...</th>\n",
       "      <th>...</th>\n",
       "      <th>...</th>\n",
       "      <th>...</th>\n",
       "      <th>...</th>\n",
       "      <th>...</th>\n",
       "      <th>...</th>\n",
       "      <th>...</th>\n",
       "      <th>...</th>\n",
       "      <th>...</th>\n",
       "      <th>...</th>\n",
       "      <th>...</th>\n",
       "      <th>...</th>\n",
       "      <th>...</th>\n",
       "      <th>...</th>\n",
       "      <th>...</th>\n",
       "      <th>...</th>\n",
       "      <th>...</th>\n",
       "      <th>...</th>\n",
       "      <th>...</th>\n",
       "      <th>...</th>\n",
       "      <th>...</th>\n",
       "      <th>...</th>\n",
       "      <th>...</th>\n",
       "      <th>...</th>\n",
       "      <th>...</th>\n",
       "      <th>...</th>\n",
       "      <th>...</th>\n",
       "      <th>...</th>\n",
       "      <th>...</th>\n",
       "      <th>...</th>\n",
       "      <th>...</th>\n",
       "      <th>...</th>\n",
       "      <th>...</th>\n",
       "      <th>...</th>\n",
       "      <th>...</th>\n",
       "      <th>...</th>\n",
       "      <th>...</th>\n",
       "      <th>...</th>\n",
       "      <th>...</th>\n",
       "      <th>...</th>\n",
       "      <th>...</th>\n",
       "      <th>...</th>\n",
       "      <th>...</th>\n",
       "      <th>...</th>\n",
       "      <td>...</td>\n",
       "      <td>...</td>\n",
       "      <td>...</td>\n",
       "      <td>...</td>\n",
       "      <td>...</td>\n",
       "      <td>...</td>\n",
       "      <td>...</td>\n",
       "      <td>...</td>\n",
       "      <td>...</td>\n",
       "      <td>...</td>\n",
       "      <td>...</td>\n",
       "      <td>...</td>\n",
       "      <td>...</td>\n",
       "      <td>...</td>\n",
       "      <td>...</td>\n",
       "      <td>...</td>\n",
       "      <td>...</td>\n",
       "      <td>...</td>\n",
       "      <td>...</td>\n",
       "      <td>...</td>\n",
       "      <td>...</td>\n",
       "    </tr>\n",
       "    <tr>\n",
       "      <th rowspan=\"5\" valign=\"top\">False</th>\n",
       "      <th rowspan=\"5\" valign=\"top\">False</th>\n",
       "      <th rowspan=\"5\" valign=\"top\">6</th>\n",
       "      <th rowspan=\"5\" valign=\"top\">False</th>\n",
       "      <th rowspan=\"5\" valign=\"top\">False</th>\n",
       "      <th rowspan=\"5\" valign=\"top\">False</th>\n",
       "      <th rowspan=\"5\" valign=\"top\">H</th>\n",
       "      <th rowspan=\"5\" valign=\"top\">/mnt/b/Google_Drive/PhD/Project with Janet/Label_Images/TMA_1/TMA_1.4_E11.png</th>\n",
       "      <th rowspan=\"5\" valign=\"top\">3585</th>\n",
       "      <th rowspan=\"5\" valign=\"top\">E11</th>\n",
       "      <th rowspan=\"5\" valign=\"top\">E11</th>\n",
       "      <th rowspan=\"5\" valign=\"top\">oral tongue</th>\n",
       "      <th rowspan=\"5\" valign=\"top\">Other</th>\n",
       "      <th rowspan=\"5\" valign=\"top\">NaT</th>\n",
       "      <th rowspan=\"5\" valign=\"top\">NaT</th>\n",
       "      <th rowspan=\"5\" valign=\"top\">68.0</th>\n",
       "      <th rowspan=\"5\" valign=\"top\">Alive</th>\n",
       "      <th rowspan=\"5\" valign=\"top\">no</th>\n",
       "      <th rowspan=\"5\" valign=\"top\">N</th>\n",
       "      <th rowspan=\"5\" valign=\"top\">1.0-E11</th>\n",
       "      <th rowspan=\"5\" valign=\"top\">2015-05-06</th>\n",
       "      <th rowspan=\"5\" valign=\"top\">2019-05-16</th>\n",
       "      <th rowspan=\"5\" valign=\"top\">1</th>\n",
       "      <th rowspan=\"5\" valign=\"top\">alive</th>\n",
       "      <th rowspan=\"5\" valign=\"top\">FG</th>\n",
       "      <th rowspan=\"5\" valign=\"top\">no</th>\n",
       "      <th rowspan=\"5\" valign=\"top\">pT2N1</th>\n",
       "      <th rowspan=\"5\" valign=\"top\">3585</th>\n",
       "      <th rowspan=\"5\" valign=\"top\">3585</th>\n",
       "      <th rowspan=\"5\" valign=\"top\">no</th>\n",
       "      <th rowspan=\"5\" valign=\"top\">2</th>\n",
       "      <th rowspan=\"5\" valign=\"top\">1.0</th>\n",
       "      <th rowspan=\"5\" valign=\"top\">E11</th>\n",
       "      <th rowspan=\"5\" valign=\"top\">Tumour</th>\n",
       "      <th rowspan=\"5\" valign=\"top\">NaN</th>\n",
       "      <th rowspan=\"5\" valign=\"top\">non-cohesive</th>\n",
       "      <th rowspan=\"5\" valign=\"top\">68</th>\n",
       "      <th rowspan=\"5\" valign=\"top\">2010-05-13</th>\n",
       "      <th rowspan=\"5\" valign=\"top\">mod</th>\n",
       "      <th rowspan=\"5\" valign=\"top\">/mnt/b/Google_Drive/PhD/Project with Janet/Kohler_Corrected/TMA_1TMA_1.4_E11.HDR</th>\n",
       "      <th rowspan=\"5\" valign=\"top\">m</th>\n",
       "      <th rowspan=\"5\" valign=\"top\">m</th>\n",
       "      <th rowspan=\"5\" valign=\"top\">NaT</th>\n",
       "      <th rowspan=\"5\" valign=\"top\">1</th>\n",
       "      <th rowspan=\"5\" valign=\"top\">2</th>\n",
       "      <th rowspan=\"5\" valign=\"top\">yes</th>\n",
       "      <th rowspan=\"5\" valign=\"top\">no</th>\n",
       "      <th rowspan=\"5\" valign=\"top\">tongue</th>\n",
       "      <th rowspan=\"5\" valign=\"top\">NaN</th>\n",
       "      <th rowspan=\"5\" valign=\"top\">3</th>\n",
       "      <th>60.0</th>\n",
       "      <td>0.040274</td>\n",
       "      <td>0.039911</td>\n",
       "      <td>0.040508</td>\n",
       "      <td>0.041967</td>\n",
       "      <td>0.044185</td>\n",
       "      <td>0.047064</td>\n",
       "      <td>0.050644</td>\n",
       "      <td>0.054330</td>\n",
       "      <td>0.057739</td>\n",
       "      <td>0.061302</td>\n",
       "      <td>...</td>\n",
       "      <td>0.058569</td>\n",
       "      <td>0.058287</td>\n",
       "      <td>0.058275</td>\n",
       "      <td>0.058358</td>\n",
       "      <td>0.058097</td>\n",
       "      <td>0.057727</td>\n",
       "      <td>0.057634</td>\n",
       "      <td>0.057952</td>\n",
       "      <td>0.058651</td>\n",
       "      <td>0.059507</td>\n",
       "    </tr>\n",
       "    <tr>\n",
       "      <th>60.0</th>\n",
       "      <td>0.027568</td>\n",
       "      <td>0.034411</td>\n",
       "      <td>0.039789</td>\n",
       "      <td>0.044005</td>\n",
       "      <td>0.047362</td>\n",
       "      <td>0.050160</td>\n",
       "      <td>0.053008</td>\n",
       "      <td>0.055576</td>\n",
       "      <td>0.058459</td>\n",
       "      <td>0.061657</td>\n",
       "      <td>...</td>\n",
       "      <td>0.040369</td>\n",
       "      <td>0.040116</td>\n",
       "      <td>0.040143</td>\n",
       "      <td>0.040307</td>\n",
       "      <td>0.040710</td>\n",
       "      <td>0.041502</td>\n",
       "      <td>0.042180</td>\n",
       "      <td>0.042915</td>\n",
       "      <td>0.043563</td>\n",
       "      <td>0.043874</td>\n",
       "    </tr>\n",
       "    <tr>\n",
       "      <th>60.0</th>\n",
       "      <td>0.050146</td>\n",
       "      <td>0.047091</td>\n",
       "      <td>0.046470</td>\n",
       "      <td>0.047728</td>\n",
       "      <td>0.050311</td>\n",
       "      <td>0.053665</td>\n",
       "      <td>0.056426</td>\n",
       "      <td>0.059197</td>\n",
       "      <td>0.061457</td>\n",
       "      <td>0.062814</td>\n",
       "      <td>...</td>\n",
       "      <td>0.080481</td>\n",
       "      <td>0.080648</td>\n",
       "      <td>0.080758</td>\n",
       "      <td>0.080318</td>\n",
       "      <td>0.079345</td>\n",
       "      <td>0.078336</td>\n",
       "      <td>0.077732</td>\n",
       "      <td>0.077488</td>\n",
       "      <td>0.077462</td>\n",
       "      <td>0.077686</td>\n",
       "    </tr>\n",
       "    <tr>\n",
       "      <th>60.0</th>\n",
       "      <td>0.054159</td>\n",
       "      <td>0.046562</td>\n",
       "      <td>0.043024</td>\n",
       "      <td>0.042718</td>\n",
       "      <td>0.044814</td>\n",
       "      <td>0.048485</td>\n",
       "      <td>0.051563</td>\n",
       "      <td>0.056123</td>\n",
       "      <td>0.059679</td>\n",
       "      <td>0.061500</td>\n",
       "      <td>...</td>\n",
       "      <td>0.044469</td>\n",
       "      <td>0.042406</td>\n",
       "      <td>0.041482</td>\n",
       "      <td>0.042035</td>\n",
       "      <td>0.043267</td>\n",
       "      <td>0.045106</td>\n",
       "      <td>0.047127</td>\n",
       "      <td>0.048588</td>\n",
       "      <td>0.049284</td>\n",
       "      <td>0.049451</td>\n",
       "    </tr>\n",
       "    <tr>\n",
       "      <th>60.0</th>\n",
       "      <td>0.036394</td>\n",
       "      <td>0.038202</td>\n",
       "      <td>0.040873</td>\n",
       "      <td>0.044236</td>\n",
       "      <td>0.048120</td>\n",
       "      <td>0.052357</td>\n",
       "      <td>0.056401</td>\n",
       "      <td>0.060964</td>\n",
       "      <td>0.065056</td>\n",
       "      <td>0.067931</td>\n",
       "      <td>...</td>\n",
       "      <td>0.053220</td>\n",
       "      <td>0.053173</td>\n",
       "      <td>0.053623</td>\n",
       "      <td>0.054036</td>\n",
       "      <td>0.053684</td>\n",
       "      <td>0.052897</td>\n",
       "      <td>0.051977</td>\n",
       "      <td>0.051408</td>\n",
       "      <td>0.051487</td>\n",
       "      <td>0.051826</td>\n",
       "    </tr>\n",
       "  </tbody>\n",
       "</table>\n",
       "<p>6480 rows × 169 columns</p>\n",
       "</div>"
      ],
      "text/plain": [
       "                                                                                                                                                                                                                                                                                                                                                                                                                                                                                                                                                                                                                                            998.0   \\\n",
       "1year 2year 2years 3year 4year 5year ASMA Annotation_loc                                     Case ID Core_x Core_y Corrected Site AJCC/UICC DODvsAlive Date of death Date of recurrence Diagnosis Age DiedvsAlive ECS_x ECS_y ID      Last seen/reviewed Last updated N stage OUTCOME    OUTCOME.updated by Overall Death  Pathogical Stage Patient nu  Patient_Number Recurrence? T stage TMA TMA site Tissue Years advancing front type age @ diag date of diag diff     envi_loc                                           gender_x gender_y lifespan pN pT radiotherapy recurrence site   site of recurrence stage survival (months)             \n",
       "True  True  1      False False False I    /mnt/b/Google_Drive/PhD/Project with Janet/Labe... 3237    B5     B5     other                    Other      2007-10-19    NaT                59.0          Died        yes   Y     2.0-B5  NaT                NaT          2a      Died other CBarry             yes            pT4aN2aMx        3237        3237           no          4a      2.0 B5       Tumour 1.0   non-cohesive         59         2006-03-24   mod well /mnt/b/Google_Drive/PhD/Project with Janet/Kohl... m        m        574 days 2a 4a yes          yes        other  NaN                4     2.0                0.037591   \n",
       "                                          /mnt/b/Google_Drive/PhD/Project with Janet/Labe... 3237    D9     D9     other                    Other      2007-10-19    NaT                59.0          Died        yes   Y     1.0-D9  NaT                NaT          2a      Died other CBarry             yes            pT4aN2aMx        3237        3237           no          4a      1.0 D9       Tumour 1.0   non-cohesive         59         2006-03-24   mod well /mnt/b/Google_Drive/PhD/Project with Janet/Kohl... m        m        574 days 2a 4a yes          yes        other  NaN                4     2.0                0.053059   \n",
       "                                                                                                                                                                                                                                                                                                                                                                                                                                                                                                                                                                                                                       2.0                0.043940   \n",
       "                                          /mnt/b/Google_Drive/PhD/Project with Janet/Labe... 3237    B5     B5     other                    Other      2007-10-19    NaT                59.0          Died        yes   Y     2.0-B5  NaT                NaT          2a      Died other CBarry             yes            pT4aN2aMx        3237        3237           no          4a      2.0 B5       Tumour 1.0   non-cohesive         59         2006-03-24   mod well /mnt/b/Google_Drive/PhD/Project with Janet/Kohl... m        m        574 days 2a 4a yes          yes        other  NaN                4     2.0                0.039571   \n",
       "                                          /mnt/b/Google_Drive/PhD/Project with Janet/Labe... 3237    D9     D9     other                    Other      2007-10-19    NaT                59.0          Died        yes   Y     1.0-D9  NaT                NaT          2a      Died other CBarry             yes            pT4aN2aMx        3237        3237           no          4a      1.0 D9       Tumour 1.0   non-cohesive         59         2006-03-24   mod well /mnt/b/Google_Drive/PhD/Project with Janet/Kohl... m        m        574 days 2a 4a yes          yes        other  NaN                4     2.0                0.047895   \n",
       "...                                                                                                                                                                                                                                                                                                                                                                                                                                                                                                                                                                                                                                            ...   \n",
       "False False 6      False False False H    /mnt/b/Google_Drive/PhD/Project with Janet/Labe... 3585    E11    E11    oral tongue              Other      NaT           NaT                68.0          Alive       no    N     1.0-E11 2015-05-06         2019-05-16   1       alive      FG                 no             pT2N1            3585        3585           no          2       1.0 E11      Tumour NaN   non-cohesive         68         2010-05-13   mod      /mnt/b/Google_Drive/PhD/Project with Janet/Kohl... m        m        NaT      1  2  yes          no         tongue NaN                3     60.0               0.040274   \n",
       "                                                                                                                                                                                                                                                                                                                                                                                                                                                                                                                                                                                                                       60.0               0.027568   \n",
       "                                                                                                                                                                                                                                                                                                                                                                                                                                                                                                                                                                                                                       60.0               0.050146   \n",
       "                                                                                                                                                                                                                                                                                                                                                                                                                                                                                                                                                                                                                       60.0               0.054159   \n",
       "                                                                                                                                                                                                                                                                                                                                                                                                                                                                                                                                                                                                                       60.0               0.036394   \n",
       "\n",
       "                                                                                                                                                                                                                                                                                                                                                                                                                                                                                                                                                                                                                                            1002.0  \\\n",
       "1year 2year 2years 3year 4year 5year ASMA Annotation_loc                                     Case ID Core_x Core_y Corrected Site AJCC/UICC DODvsAlive Date of death Date of recurrence Diagnosis Age DiedvsAlive ECS_x ECS_y ID      Last seen/reviewed Last updated N stage OUTCOME    OUTCOME.updated by Overall Death  Pathogical Stage Patient nu  Patient_Number Recurrence? T stage TMA TMA site Tissue Years advancing front type age @ diag date of diag diff     envi_loc                                           gender_x gender_y lifespan pN pT radiotherapy recurrence site   site of recurrence stage survival (months)             \n",
       "True  True  1      False False False I    /mnt/b/Google_Drive/PhD/Project with Janet/Labe... 3237    B5     B5     other                    Other      2007-10-19    NaT                59.0          Died        yes   Y     2.0-B5  NaT                NaT          2a      Died other CBarry             yes            pT4aN2aMx        3237        3237           no          4a      2.0 B5       Tumour 1.0   non-cohesive         59         2006-03-24   mod well /mnt/b/Google_Drive/PhD/Project with Janet/Kohl... m        m        574 days 2a 4a yes          yes        other  NaN                4     2.0                0.037418   \n",
       "                                          /mnt/b/Google_Drive/PhD/Project with Janet/Labe... 3237    D9     D9     other                    Other      2007-10-19    NaT                59.0          Died        yes   Y     1.0-D9  NaT                NaT          2a      Died other CBarry             yes            pT4aN2aMx        3237        3237           no          4a      1.0 D9       Tumour 1.0   non-cohesive         59         2006-03-24   mod well /mnt/b/Google_Drive/PhD/Project with Janet/Kohl... m        m        574 days 2a 4a yes          yes        other  NaN                4     2.0                0.054728   \n",
       "                                                                                                                                                                                                                                                                                                                                                                                                                                                                                                                                                                                                                       2.0                0.046852   \n",
       "                                          /mnt/b/Google_Drive/PhD/Project with Janet/Labe... 3237    B5     B5     other                    Other      2007-10-19    NaT                59.0          Died        yes   Y     2.0-B5  NaT                NaT          2a      Died other CBarry             yes            pT4aN2aMx        3237        3237           no          4a      2.0 B5       Tumour 1.0   non-cohesive         59         2006-03-24   mod well /mnt/b/Google_Drive/PhD/Project with Janet/Kohl... m        m        574 days 2a 4a yes          yes        other  NaN                4     2.0                0.042106   \n",
       "                                          /mnt/b/Google_Drive/PhD/Project with Janet/Labe... 3237    D9     D9     other                    Other      2007-10-19    NaT                59.0          Died        yes   Y     1.0-D9  NaT                NaT          2a      Died other CBarry             yes            pT4aN2aMx        3237        3237           no          4a      1.0 D9       Tumour 1.0   non-cohesive         59         2006-03-24   mod well /mnt/b/Google_Drive/PhD/Project with Janet/Kohl... m        m        574 days 2a 4a yes          yes        other  NaN                4     2.0                0.050326   \n",
       "...                                                                                                                                                                                                                                                                                                                                                                                                                                                                                                                                                                                                                                            ...   \n",
       "False False 6      False False False H    /mnt/b/Google_Drive/PhD/Project with Janet/Labe... 3585    E11    E11    oral tongue              Other      NaT           NaT                68.0          Alive       no    N     1.0-E11 2015-05-06         2019-05-16   1       alive      FG                 no             pT2N1            3585        3585           no          2       1.0 E11      Tumour NaN   non-cohesive         68         2010-05-13   mod      /mnt/b/Google_Drive/PhD/Project with Janet/Kohl... m        m        NaT      1  2  yes          no         tongue NaN                3     60.0               0.039911   \n",
       "                                                                                                                                                                                                                                                                                                                                                                                                                                                                                                                                                                                                                       60.0               0.034411   \n",
       "                                                                                                                                                                                                                                                                                                                                                                                                                                                                                                                                                                                                                       60.0               0.047091   \n",
       "                                                                                                                                                                                                                                                                                                                                                                                                                                                                                                                                                                                                                       60.0               0.046562   \n",
       "                                                                                                                                                                                                                                                                                                                                                                                                                                                                                                                                                                                                                       60.0               0.038202   \n",
       "\n",
       "                                                                                                                                                                                                                                                                                                                                                                                                                                                                                                                                                                                                                                            1006.0  \\\n",
       "1year 2year 2years 3year 4year 5year ASMA Annotation_loc                                     Case ID Core_x Core_y Corrected Site AJCC/UICC DODvsAlive Date of death Date of recurrence Diagnosis Age DiedvsAlive ECS_x ECS_y ID      Last seen/reviewed Last updated N stage OUTCOME    OUTCOME.updated by Overall Death  Pathogical Stage Patient nu  Patient_Number Recurrence? T stage TMA TMA site Tissue Years advancing front type age @ diag date of diag diff     envi_loc                                           gender_x gender_y lifespan pN pT radiotherapy recurrence site   site of recurrence stage survival (months)             \n",
       "True  True  1      False False False I    /mnt/b/Google_Drive/PhD/Project with Janet/Labe... 3237    B5     B5     other                    Other      2007-10-19    NaT                59.0          Died        yes   Y     2.0-B5  NaT                NaT          2a      Died other CBarry             yes            pT4aN2aMx        3237        3237           no          4a      2.0 B5       Tumour 1.0   non-cohesive         59         2006-03-24   mod well /mnt/b/Google_Drive/PhD/Project with Janet/Kohl... m        m        574 days 2a 4a yes          yes        other  NaN                4     2.0                0.038701   \n",
       "                                          /mnt/b/Google_Drive/PhD/Project with Janet/Labe... 3237    D9     D9     other                    Other      2007-10-19    NaT                59.0          Died        yes   Y     1.0-D9  NaT                NaT          2a      Died other CBarry             yes            pT4aN2aMx        3237        3237           no          4a      1.0 D9       Tumour 1.0   non-cohesive         59         2006-03-24   mod well /mnt/b/Google_Drive/PhD/Project with Janet/Kohl... m        m        574 days 2a 4a yes          yes        other  NaN                4     2.0                0.056193   \n",
       "                                                                                                                                                                                                                                                                                                                                                                                                                                                                                                                                                                                                                       2.0                0.049490   \n",
       "                                          /mnt/b/Google_Drive/PhD/Project with Janet/Labe... 3237    B5     B5     other                    Other      2007-10-19    NaT                59.0          Died        yes   Y     2.0-B5  NaT                NaT          2a      Died other CBarry             yes            pT4aN2aMx        3237        3237           no          4a      2.0 B5       Tumour 1.0   non-cohesive         59         2006-03-24   mod well /mnt/b/Google_Drive/PhD/Project with Janet/Kohl... m        m        574 days 2a 4a yes          yes        other  NaN                4     2.0                0.044260   \n",
       "                                          /mnt/b/Google_Drive/PhD/Project with Janet/Labe... 3237    D9     D9     other                    Other      2007-10-19    NaT                59.0          Died        yes   Y     1.0-D9  NaT                NaT          2a      Died other CBarry             yes            pT4aN2aMx        3237        3237           no          4a      1.0 D9       Tumour 1.0   non-cohesive         59         2006-03-24   mod well /mnt/b/Google_Drive/PhD/Project with Janet/Kohl... m        m        574 days 2a 4a yes          yes        other  NaN                4     2.0                0.052413   \n",
       "...                                                                                                                                                                                                                                                                                                                                                                                                                                                                                                                                                                                                                                            ...   \n",
       "False False 6      False False False H    /mnt/b/Google_Drive/PhD/Project with Janet/Labe... 3585    E11    E11    oral tongue              Other      NaT           NaT                68.0          Alive       no    N     1.0-E11 2015-05-06         2019-05-16   1       alive      FG                 no             pT2N1            3585        3585           no          2       1.0 E11      Tumour NaN   non-cohesive         68         2010-05-13   mod      /mnt/b/Google_Drive/PhD/Project with Janet/Kohl... m        m        NaT      1  2  yes          no         tongue NaN                3     60.0               0.040508   \n",
       "                                                                                                                                                                                                                                                                                                                                                                                                                                                                                                                                                                                                                       60.0               0.039789   \n",
       "                                                                                                                                                                                                                                                                                                                                                                                                                                                                                                                                                                                                                       60.0               0.046470   \n",
       "                                                                                                                                                                                                                                                                                                                                                                                                                                                                                                                                                                                                                       60.0               0.043024   \n",
       "                                                                                                                                                                                                                                                                                                                                                                                                                                                                                                                                                                                                                       60.0               0.040873   \n",
       "\n",
       "                                                                                                                                                                                                                                                                                                                                                                                                                                                                                                                                                                                                                                            1010.0  \\\n",
       "1year 2year 2years 3year 4year 5year ASMA Annotation_loc                                     Case ID Core_x Core_y Corrected Site AJCC/UICC DODvsAlive Date of death Date of recurrence Diagnosis Age DiedvsAlive ECS_x ECS_y ID      Last seen/reviewed Last updated N stage OUTCOME    OUTCOME.updated by Overall Death  Pathogical Stage Patient nu  Patient_Number Recurrence? T stage TMA TMA site Tissue Years advancing front type age @ diag date of diag diff     envi_loc                                           gender_x gender_y lifespan pN pT radiotherapy recurrence site   site of recurrence stage survival (months)             \n",
       "True  True  1      False False False I    /mnt/b/Google_Drive/PhD/Project with Janet/Labe... 3237    B5     B5     other                    Other      2007-10-19    NaT                59.0          Died        yes   Y     2.0-B5  NaT                NaT          2a      Died other CBarry             yes            pT4aN2aMx        3237        3237           no          4a      2.0 B5       Tumour 1.0   non-cohesive         59         2006-03-24   mod well /mnt/b/Google_Drive/PhD/Project with Janet/Kohl... m        m        574 days 2a 4a yes          yes        other  NaN                4     2.0                0.041082   \n",
       "                                          /mnt/b/Google_Drive/PhD/Project with Janet/Labe... 3237    D9     D9     other                    Other      2007-10-19    NaT                59.0          Died        yes   Y     1.0-D9  NaT                NaT          2a      Died other CBarry             yes            pT4aN2aMx        3237        3237           no          4a      1.0 D9       Tumour 1.0   non-cohesive         59         2006-03-24   mod well /mnt/b/Google_Drive/PhD/Project with Janet/Kohl... m        m        574 days 2a 4a yes          yes        other  NaN                4     2.0                0.057533   \n",
       "                                                                                                                                                                                                                                                                                                                                                                                                                                                                                                                                                                                                                       2.0                0.051934   \n",
       "                                          /mnt/b/Google_Drive/PhD/Project with Janet/Labe... 3237    B5     B5     other                    Other      2007-10-19    NaT                59.0          Died        yes   Y     2.0-B5  NaT                NaT          2a      Died other CBarry             yes            pT4aN2aMx        3237        3237           no          4a      2.0 B5       Tumour 1.0   non-cohesive         59         2006-03-24   mod well /mnt/b/Google_Drive/PhD/Project with Janet/Kohl... m        m        574 days 2a 4a yes          yes        other  NaN                4     2.0                0.046173   \n",
       "                                          /mnt/b/Google_Drive/PhD/Project with Janet/Labe... 3237    D9     D9     other                    Other      2007-10-19    NaT                59.0          Died        yes   Y     1.0-D9  NaT                NaT          2a      Died other CBarry             yes            pT4aN2aMx        3237        3237           no          4a      1.0 D9       Tumour 1.0   non-cohesive         59         2006-03-24   mod well /mnt/b/Google_Drive/PhD/Project with Janet/Kohl... m        m        574 days 2a 4a yes          yes        other  NaN                4     2.0                0.054267   \n",
       "...                                                                                                                                                                                                                                                                                                                                                                                                                                                                                                                                                                                                                                            ...   \n",
       "False False 6      False False False H    /mnt/b/Google_Drive/PhD/Project with Janet/Labe... 3585    E11    E11    oral tongue              Other      NaT           NaT                68.0          Alive       no    N     1.0-E11 2015-05-06         2019-05-16   1       alive      FG                 no             pT2N1            3585        3585           no          2       1.0 E11      Tumour NaN   non-cohesive         68         2010-05-13   mod      /mnt/b/Google_Drive/PhD/Project with Janet/Kohl... m        m        NaT      1  2  yes          no         tongue NaN                3     60.0               0.041967   \n",
       "                                                                                                                                                                                                                                                                                                                                                                                                                                                                                                                                                                                                                       60.0               0.044005   \n",
       "                                                                                                                                                                                                                                                                                                                                                                                                                                                                                                                                                                                                                       60.0               0.047728   \n",
       "                                                                                                                                                                                                                                                                                                                                                                                                                                                                                                                                                                                                                       60.0               0.042718   \n",
       "                                                                                                                                                                                                                                                                                                                                                                                                                                                                                                                                                                                                                       60.0               0.044236   \n",
       "\n",
       "                                                                                                                                                                                                                                                                                                                                                                                                                                                                                                                                                                                                                                            1014.0  \\\n",
       "1year 2year 2years 3year 4year 5year ASMA Annotation_loc                                     Case ID Core_x Core_y Corrected Site AJCC/UICC DODvsAlive Date of death Date of recurrence Diagnosis Age DiedvsAlive ECS_x ECS_y ID      Last seen/reviewed Last updated N stage OUTCOME    OUTCOME.updated by Overall Death  Pathogical Stage Patient nu  Patient_Number Recurrence? T stage TMA TMA site Tissue Years advancing front type age @ diag date of diag diff     envi_loc                                           gender_x gender_y lifespan pN pT radiotherapy recurrence site   site of recurrence stage survival (months)             \n",
       "True  True  1      False False False I    /mnt/b/Google_Drive/PhD/Project with Janet/Labe... 3237    B5     B5     other                    Other      2007-10-19    NaT                59.0          Died        yes   Y     2.0-B5  NaT                NaT          2a      Died other CBarry             yes            pT4aN2aMx        3237        3237           no          4a      2.0 B5       Tumour 1.0   non-cohesive         59         2006-03-24   mod well /mnt/b/Google_Drive/PhD/Project with Janet/Kohl... m        m        574 days 2a 4a yes          yes        other  NaN                4     2.0                0.044206   \n",
       "                                          /mnt/b/Google_Drive/PhD/Project with Janet/Labe... 3237    D9     D9     other                    Other      2007-10-19    NaT                59.0          Died        yes   Y     1.0-D9  NaT                NaT          2a      Died other CBarry             yes            pT4aN2aMx        3237        3237           no          4a      1.0 D9       Tumour 1.0   non-cohesive         59         2006-03-24   mod well /mnt/b/Google_Drive/PhD/Project with Janet/Kohl... m        m        574 days 2a 4a yes          yes        other  NaN                4     2.0                0.058827   \n",
       "                                                                                                                                                                                                                                                                                                                                                                                                                                                                                                                                                                                                                       2.0                0.054266   \n",
       "                                          /mnt/b/Google_Drive/PhD/Project with Janet/Labe... 3237    B5     B5     other                    Other      2007-10-19    NaT                59.0          Died        yes   Y     2.0-B5  NaT                NaT          2a      Died other CBarry             yes            pT4aN2aMx        3237        3237           no          4a      2.0 B5       Tumour 1.0   non-cohesive         59         2006-03-24   mod well /mnt/b/Google_Drive/PhD/Project with Janet/Kohl... m        m        574 days 2a 4a yes          yes        other  NaN                4     2.0                0.047983   \n",
       "                                          /mnt/b/Google_Drive/PhD/Project with Janet/Labe... 3237    D9     D9     other                    Other      2007-10-19    NaT                59.0          Died        yes   Y     1.0-D9  NaT                NaT          2a      Died other CBarry             yes            pT4aN2aMx        3237        3237           no          4a      1.0 D9       Tumour 1.0   non-cohesive         59         2006-03-24   mod well /mnt/b/Google_Drive/PhD/Project with Janet/Kohl... m        m        574 days 2a 4a yes          yes        other  NaN                4     2.0                0.055997   \n",
       "...                                                                                                                                                                                                                                                                                                                                                                                                                                                                                                                                                                                                                                            ...   \n",
       "False False 6      False False False H    /mnt/b/Google_Drive/PhD/Project with Janet/Labe... 3585    E11    E11    oral tongue              Other      NaT           NaT                68.0          Alive       no    N     1.0-E11 2015-05-06         2019-05-16   1       alive      FG                 no             pT2N1            3585        3585           no          2       1.0 E11      Tumour NaN   non-cohesive         68         2010-05-13   mod      /mnt/b/Google_Drive/PhD/Project with Janet/Kohl... m        m        NaT      1  2  yes          no         tongue NaN                3     60.0               0.044185   \n",
       "                                                                                                                                                                                                                                                                                                                                                                                                                                                                                                                                                                                                                       60.0               0.047362   \n",
       "                                                                                                                                                                                                                                                                                                                                                                                                                                                                                                                                                                                                                       60.0               0.050311   \n",
       "                                                                                                                                                                                                                                                                                                                                                                                                                                                                                                                                                                                                                       60.0               0.044814   \n",
       "                                                                                                                                                                                                                                                                                                                                                                                                                                                                                                                                                                                                                       60.0               0.048120   \n",
       "\n",
       "                                                                                                                                                                                                                                                                                                                                                                                                                                                                                                                                                                                                                                            1018.0  \\\n",
       "1year 2year 2years 3year 4year 5year ASMA Annotation_loc                                     Case ID Core_x Core_y Corrected Site AJCC/UICC DODvsAlive Date of death Date of recurrence Diagnosis Age DiedvsAlive ECS_x ECS_y ID      Last seen/reviewed Last updated N stage OUTCOME    OUTCOME.updated by Overall Death  Pathogical Stage Patient nu  Patient_Number Recurrence? T stage TMA TMA site Tissue Years advancing front type age @ diag date of diag diff     envi_loc                                           gender_x gender_y lifespan pN pT radiotherapy recurrence site   site of recurrence stage survival (months)             \n",
       "True  True  1      False False False I    /mnt/b/Google_Drive/PhD/Project with Janet/Labe... 3237    B5     B5     other                    Other      2007-10-19    NaT                59.0          Died        yes   Y     2.0-B5  NaT                NaT          2a      Died other CBarry             yes            pT4aN2aMx        3237        3237           no          4a      2.0 B5       Tumour 1.0   non-cohesive         59         2006-03-24   mod well /mnt/b/Google_Drive/PhD/Project with Janet/Kohl... m        m        574 days 2a 4a yes          yes        other  NaN                4     2.0                0.047714   \n",
       "                                          /mnt/b/Google_Drive/PhD/Project with Janet/Labe... 3237    D9     D9     other                    Other      2007-10-19    NaT                59.0          Died        yes   Y     1.0-D9  NaT                NaT          2a      Died other CBarry             yes            pT4aN2aMx        3237        3237           no          4a      1.0 D9       Tumour 1.0   non-cohesive         59         2006-03-24   mod well /mnt/b/Google_Drive/PhD/Project with Janet/Kohl... m        m        574 days 2a 4a yes          yes        other  NaN                4     2.0                0.060153   \n",
       "                                                                                                                                                                                                                                                                                                                                                                                                                                                                                                                                                                                                                       2.0                0.056567   \n",
       "                                          /mnt/b/Google_Drive/PhD/Project with Janet/Labe... 3237    B5     B5     other                    Other      2007-10-19    NaT                59.0          Died        yes   Y     2.0-B5  NaT                NaT          2a      Died other CBarry             yes            pT4aN2aMx        3237        3237           no          4a      2.0 B5       Tumour 1.0   non-cohesive         59         2006-03-24   mod well /mnt/b/Google_Drive/PhD/Project with Janet/Kohl... m        m        574 days 2a 4a yes          yes        other  NaN                4     2.0                0.049829   \n",
       "                                          /mnt/b/Google_Drive/PhD/Project with Janet/Labe... 3237    D9     D9     other                    Other      2007-10-19    NaT                59.0          Died        yes   Y     1.0-D9  NaT                NaT          2a      Died other CBarry             yes            pT4aN2aMx        3237        3237           no          4a      1.0 D9       Tumour 1.0   non-cohesive         59         2006-03-24   mod well /mnt/b/Google_Drive/PhD/Project with Janet/Kohl... m        m        574 days 2a 4a yes          yes        other  NaN                4     2.0                0.057713   \n",
       "...                                                                                                                                                                                                                                                                                                                                                                                                                                                                                                                                                                                                                                            ...   \n",
       "False False 6      False False False H    /mnt/b/Google_Drive/PhD/Project with Janet/Labe... 3585    E11    E11    oral tongue              Other      NaT           NaT                68.0          Alive       no    N     1.0-E11 2015-05-06         2019-05-16   1       alive      FG                 no             pT2N1            3585        3585           no          2       1.0 E11      Tumour NaN   non-cohesive         68         2010-05-13   mod      /mnt/b/Google_Drive/PhD/Project with Janet/Kohl... m        m        NaT      1  2  yes          no         tongue NaN                3     60.0               0.047064   \n",
       "                                                                                                                                                                                                                                                                                                                                                                                                                                                                                                                                                                                                                       60.0               0.050160   \n",
       "                                                                                                                                                                                                                                                                                                                                                                                                                                                                                                                                                                                                                       60.0               0.053665   \n",
       "                                                                                                                                                                                                                                                                                                                                                                                                                                                                                                                                                                                                                       60.0               0.048485   \n",
       "                                                                                                                                                                                                                                                                                                                                                                                                                                                                                                                                                                                                                       60.0               0.052357   \n",
       "\n",
       "                                                                                                                                                                                                                                                                                                                                                                                                                                                                                                                                                                                                                                            1022.0  \\\n",
       "1year 2year 2years 3year 4year 5year ASMA Annotation_loc                                     Case ID Core_x Core_y Corrected Site AJCC/UICC DODvsAlive Date of death Date of recurrence Diagnosis Age DiedvsAlive ECS_x ECS_y ID      Last seen/reviewed Last updated N stage OUTCOME    OUTCOME.updated by Overall Death  Pathogical Stage Patient nu  Patient_Number Recurrence? T stage TMA TMA site Tissue Years advancing front type age @ diag date of diag diff     envi_loc                                           gender_x gender_y lifespan pN pT radiotherapy recurrence site   site of recurrence stage survival (months)             \n",
       "True  True  1      False False False I    /mnt/b/Google_Drive/PhD/Project with Janet/Labe... 3237    B5     B5     other                    Other      2007-10-19    NaT                59.0          Died        yes   Y     2.0-B5  NaT                NaT          2a      Died other CBarry             yes            pT4aN2aMx        3237        3237           no          4a      2.0 B5       Tumour 1.0   non-cohesive         59         2006-03-24   mod well /mnt/b/Google_Drive/PhD/Project with Janet/Kohl... m        m        574 days 2a 4a yes          yes        other  NaN                4     2.0                0.050632   \n",
       "                                          /mnt/b/Google_Drive/PhD/Project with Janet/Labe... 3237    D9     D9     other                    Other      2007-10-19    NaT                59.0          Died        yes   Y     1.0-D9  NaT                NaT          2a      Died other CBarry             yes            pT4aN2aMx        3237        3237           no          4a      1.0 D9       Tumour 1.0   non-cohesive         59         2006-03-24   mod well /mnt/b/Google_Drive/PhD/Project with Janet/Kohl... m        m        574 days 2a 4a yes          yes        other  NaN                4     2.0                0.061420   \n",
       "                                                                                                                                                                                                                                                                                                                                                                                                                                                                                                                                                                                                                       2.0                0.058929   \n",
       "                                          /mnt/b/Google_Drive/PhD/Project with Janet/Labe... 3237    B5     B5     other                    Other      2007-10-19    NaT                59.0          Died        yes   Y     2.0-B5  NaT                NaT          2a      Died other CBarry             yes            pT4aN2aMx        3237        3237           no          4a      2.0 B5       Tumour 1.0   non-cohesive         59         2006-03-24   mod well /mnt/b/Google_Drive/PhD/Project with Janet/Kohl... m        m        574 days 2a 4a yes          yes        other  NaN                4     2.0                0.052072   \n",
       "                                          /mnt/b/Google_Drive/PhD/Project with Janet/Labe... 3237    D9     D9     other                    Other      2007-10-19    NaT                59.0          Died        yes   Y     1.0-D9  NaT                NaT          2a      Died other CBarry             yes            pT4aN2aMx        3237        3237           no          4a      1.0 D9       Tumour 1.0   non-cohesive         59         2006-03-24   mod well /mnt/b/Google_Drive/PhD/Project with Janet/Kohl... m        m        574 days 2a 4a yes          yes        other  NaN                4     2.0                0.059505   \n",
       "...                                                                                                                                                                                                                                                                                                                                                                                                                                                                                                                                                                                                                                            ...   \n",
       "False False 6      False False False H    /mnt/b/Google_Drive/PhD/Project with Janet/Labe... 3585    E11    E11    oral tongue              Other      NaT           NaT                68.0          Alive       no    N     1.0-E11 2015-05-06         2019-05-16   1       alive      FG                 no             pT2N1            3585        3585           no          2       1.0 E11      Tumour NaN   non-cohesive         68         2010-05-13   mod      /mnt/b/Google_Drive/PhD/Project with Janet/Kohl... m        m        NaT      1  2  yes          no         tongue NaN                3     60.0               0.050644   \n",
       "                                                                                                                                                                                                                                                                                                                                                                                                                                                                                                                                                                                                                       60.0               0.053008   \n",
       "                                                                                                                                                                                                                                                                                                                                                                                                                                                                                                                                                                                                                       60.0               0.056426   \n",
       "                                                                                                                                                                                                                                                                                                                                                                                                                                                                                                                                                                                                                       60.0               0.051563   \n",
       "                                                                                                                                                                                                                                                                                                                                                                                                                                                                                                                                                                                                                       60.0               0.056401   \n",
       "\n",
       "                                                                                                                                                                                                                                                                                                                                                                                                                                                                                                                                                                                                                                            1025.0  \\\n",
       "1year 2year 2years 3year 4year 5year ASMA Annotation_loc                                     Case ID Core_x Core_y Corrected Site AJCC/UICC DODvsAlive Date of death Date of recurrence Diagnosis Age DiedvsAlive ECS_x ECS_y ID      Last seen/reviewed Last updated N stage OUTCOME    OUTCOME.updated by Overall Death  Pathogical Stage Patient nu  Patient_Number Recurrence? T stage TMA TMA site Tissue Years advancing front type age @ diag date of diag diff     envi_loc                                           gender_x gender_y lifespan pN pT radiotherapy recurrence site   site of recurrence stage survival (months)             \n",
       "True  True  1      False False False I    /mnt/b/Google_Drive/PhD/Project with Janet/Labe... 3237    B5     B5     other                    Other      2007-10-19    NaT                59.0          Died        yes   Y     2.0-B5  NaT                NaT          2a      Died other CBarry             yes            pT4aN2aMx        3237        3237           no          4a      2.0 B5       Tumour 1.0   non-cohesive         59         2006-03-24   mod well /mnt/b/Google_Drive/PhD/Project with Janet/Kohl... m        m        574 days 2a 4a yes          yes        other  NaN                4     2.0                0.053512   \n",
       "                                          /mnt/b/Google_Drive/PhD/Project with Janet/Labe... 3237    D9     D9     other                    Other      2007-10-19    NaT                59.0          Died        yes   Y     1.0-D9  NaT                NaT          2a      Died other CBarry             yes            pT4aN2aMx        3237        3237           no          4a      1.0 D9       Tumour 1.0   non-cohesive         59         2006-03-24   mod well /mnt/b/Google_Drive/PhD/Project with Janet/Kohl... m        m        574 days 2a 4a yes          yes        other  NaN                4     2.0                0.063013   \n",
       "                                                                                                                                                                                                                                                                                                                                                                                                                                                                                                                                                                                                                       2.0                0.061567   \n",
       "                                          /mnt/b/Google_Drive/PhD/Project with Janet/Labe... 3237    B5     B5     other                    Other      2007-10-19    NaT                59.0          Died        yes   Y     2.0-B5  NaT                NaT          2a      Died other CBarry             yes            pT4aN2aMx        3237        3237           no          4a      2.0 B5       Tumour 1.0   non-cohesive         59         2006-03-24   mod well /mnt/b/Google_Drive/PhD/Project with Janet/Kohl... m        m        574 days 2a 4a yes          yes        other  NaN                4     2.0                0.054628   \n",
       "                                          /mnt/b/Google_Drive/PhD/Project with Janet/Labe... 3237    D9     D9     other                    Other      2007-10-19    NaT                59.0          Died        yes   Y     1.0-D9  NaT                NaT          2a      Died other CBarry             yes            pT4aN2aMx        3237        3237           no          4a      1.0 D9       Tumour 1.0   non-cohesive         59         2006-03-24   mod well /mnt/b/Google_Drive/PhD/Project with Janet/Kohl... m        m        574 days 2a 4a yes          yes        other  NaN                4     2.0                0.061706   \n",
       "...                                                                                                                                                                                                                                                                                                                                                                                                                                                                                                                                                                                                                                            ...   \n",
       "False False 6      False False False H    /mnt/b/Google_Drive/PhD/Project with Janet/Labe... 3585    E11    E11    oral tongue              Other      NaT           NaT                68.0          Alive       no    N     1.0-E11 2015-05-06         2019-05-16   1       alive      FG                 no             pT2N1            3585        3585           no          2       1.0 E11      Tumour NaN   non-cohesive         68         2010-05-13   mod      /mnt/b/Google_Drive/PhD/Project with Janet/Kohl... m        m        NaT      1  2  yes          no         tongue NaN                3     60.0               0.054330   \n",
       "                                                                                                                                                                                                                                                                                                                                                                                                                                                                                                                                                                                                                       60.0               0.055576   \n",
       "                                                                                                                                                                                                                                                                                                                                                                                                                                                                                                                                                                                                                       60.0               0.059197   \n",
       "                                                                                                                                                                                                                                                                                                                                                                                                                                                                                                                                                                                                                       60.0               0.056123   \n",
       "                                                                                                                                                                                                                                                                                                                                                                                                                                                                                                                                                                                                                       60.0               0.060964   \n",
       "\n",
       "                                                                                                                                                                                                                                                                                                                                                                                                                                                                                                                                                                                                                                            1029.0  \\\n",
       "1year 2year 2years 3year 4year 5year ASMA Annotation_loc                                     Case ID Core_x Core_y Corrected Site AJCC/UICC DODvsAlive Date of death Date of recurrence Diagnosis Age DiedvsAlive ECS_x ECS_y ID      Last seen/reviewed Last updated N stage OUTCOME    OUTCOME.updated by Overall Death  Pathogical Stage Patient nu  Patient_Number Recurrence? T stage TMA TMA site Tissue Years advancing front type age @ diag date of diag diff     envi_loc                                           gender_x gender_y lifespan pN pT radiotherapy recurrence site   site of recurrence stage survival (months)             \n",
       "True  True  1      False False False I    /mnt/b/Google_Drive/PhD/Project with Janet/Labe... 3237    B5     B5     other                    Other      2007-10-19    NaT                59.0          Died        yes   Y     2.0-B5  NaT                NaT          2a      Died other CBarry             yes            pT4aN2aMx        3237        3237           no          4a      2.0 B5       Tumour 1.0   non-cohesive         59         2006-03-24   mod well /mnt/b/Google_Drive/PhD/Project with Janet/Kohl... m        m        574 days 2a 4a yes          yes        other  NaN                4     2.0                0.055884   \n",
       "                                          /mnt/b/Google_Drive/PhD/Project with Janet/Labe... 3237    D9     D9     other                    Other      2007-10-19    NaT                59.0          Died        yes   Y     1.0-D9  NaT                NaT          2a      Died other CBarry             yes            pT4aN2aMx        3237        3237           no          4a      1.0 D9       Tumour 1.0   non-cohesive         59         2006-03-24   mod well /mnt/b/Google_Drive/PhD/Project with Janet/Kohl... m        m        574 days 2a 4a yes          yes        other  NaN                4     2.0                0.064908   \n",
       "                                                                                                                                                                                                                                                                                                                                                                                                                                                                                                                                                                                                                       2.0                0.064258   \n",
       "                                          /mnt/b/Google_Drive/PhD/Project with Janet/Labe... 3237    B5     B5     other                    Other      2007-10-19    NaT                59.0          Died        yes   Y     2.0-B5  NaT                NaT          2a      Died other CBarry             yes            pT4aN2aMx        3237        3237           no          4a      2.0 B5       Tumour 1.0   non-cohesive         59         2006-03-24   mod well /mnt/b/Google_Drive/PhD/Project with Janet/Kohl... m        m        574 days 2a 4a yes          yes        other  NaN                4     2.0                0.057536   \n",
       "                                          /mnt/b/Google_Drive/PhD/Project with Janet/Labe... 3237    D9     D9     other                    Other      2007-10-19    NaT                59.0          Died        yes   Y     1.0-D9  NaT                NaT          2a      Died other CBarry             yes            pT4aN2aMx        3237        3237           no          4a      1.0 D9       Tumour 1.0   non-cohesive         59         2006-03-24   mod well /mnt/b/Google_Drive/PhD/Project with Janet/Kohl... m        m        574 days 2a 4a yes          yes        other  NaN                4     2.0                0.064177   \n",
       "...                                                                                                                                                                                                                                                                                                                                                                                                                                                                                                                                                                                                                                            ...   \n",
       "False False 6      False False False H    /mnt/b/Google_Drive/PhD/Project with Janet/Labe... 3585    E11    E11    oral tongue              Other      NaT           NaT                68.0          Alive       no    N     1.0-E11 2015-05-06         2019-05-16   1       alive      FG                 no             pT2N1            3585        3585           no          2       1.0 E11      Tumour NaN   non-cohesive         68         2010-05-13   mod      /mnt/b/Google_Drive/PhD/Project with Janet/Kohl... m        m        NaT      1  2  yes          no         tongue NaN                3     60.0               0.057739   \n",
       "                                                                                                                                                                                                                                                                                                                                                                                                                                                                                                                                                                                                                       60.0               0.058459   \n",
       "                                                                                                                                                                                                                                                                                                                                                                                                                                                                                                                                                                                                                       60.0               0.061457   \n",
       "                                                                                                                                                                                                                                                                                                                                                                                                                                                                                                                                                                                                                       60.0               0.059679   \n",
       "                                                                                                                                                                                                                                                                                                                                                                                                                                                                                                                                                                                                                       60.0               0.065056   \n",
       "\n",
       "                                                                                                                                                                                                                                                                                                                                                                                                                                                                                                                                                                                                                                            1033.0  \\\n",
       "1year 2year 2years 3year 4year 5year ASMA Annotation_loc                                     Case ID Core_x Core_y Corrected Site AJCC/UICC DODvsAlive Date of death Date of recurrence Diagnosis Age DiedvsAlive ECS_x ECS_y ID      Last seen/reviewed Last updated N stage OUTCOME    OUTCOME.updated by Overall Death  Pathogical Stage Patient nu  Patient_Number Recurrence? T stage TMA TMA site Tissue Years advancing front type age @ diag date of diag diff     envi_loc                                           gender_x gender_y lifespan pN pT radiotherapy recurrence site   site of recurrence stage survival (months)             \n",
       "True  True  1      False False False I    /mnt/b/Google_Drive/PhD/Project with Janet/Labe... 3237    B5     B5     other                    Other      2007-10-19    NaT                59.0          Died        yes   Y     2.0-B5  NaT                NaT          2a      Died other CBarry             yes            pT4aN2aMx        3237        3237           no          4a      2.0 B5       Tumour 1.0   non-cohesive         59         2006-03-24   mod well /mnt/b/Google_Drive/PhD/Project with Janet/Kohl... m        m        574 days 2a 4a yes          yes        other  NaN                4     2.0                0.057546   \n",
       "                                          /mnt/b/Google_Drive/PhD/Project with Janet/Labe... 3237    D9     D9     other                    Other      2007-10-19    NaT                59.0          Died        yes   Y     1.0-D9  NaT                NaT          2a      Died other CBarry             yes            pT4aN2aMx        3237        3237           no          4a      1.0 D9       Tumour 1.0   non-cohesive         59         2006-03-24   mod well /mnt/b/Google_Drive/PhD/Project with Janet/Kohl... m        m        574 days 2a 4a yes          yes        other  NaN                4     2.0                0.067327   \n",
       "                                                                                                                                                                                                                                                                                                                                                                                                                                                                                                                                                                                                                       2.0                0.066934   \n",
       "                                          /mnt/b/Google_Drive/PhD/Project with Janet/Labe... 3237    B5     B5     other                    Other      2007-10-19    NaT                59.0          Died        yes   Y     2.0-B5  NaT                NaT          2a      Died other CBarry             yes            pT4aN2aMx        3237        3237           no          4a      2.0 B5       Tumour 1.0   non-cohesive         59         2006-03-24   mod well /mnt/b/Google_Drive/PhD/Project with Janet/Kohl... m        m        574 days 2a 4a yes          yes        other  NaN                4     2.0                0.060363   \n",
       "                                          /mnt/b/Google_Drive/PhD/Project with Janet/Labe... 3237    D9     D9     other                    Other      2007-10-19    NaT                59.0          Died        yes   Y     1.0-D9  NaT                NaT          2a      Died other CBarry             yes            pT4aN2aMx        3237        3237           no          4a      1.0 D9       Tumour 1.0   non-cohesive         59         2006-03-24   mod well /mnt/b/Google_Drive/PhD/Project with Janet/Kohl... m        m        574 days 2a 4a yes          yes        other  NaN                4     2.0                0.066845   \n",
       "...                                                                                                                                                                                                                                                                                                                                                                                                                                                                                                                                                                                                                                            ...   \n",
       "False False 6      False False False H    /mnt/b/Google_Drive/PhD/Project with Janet/Labe... 3585    E11    E11    oral tongue              Other      NaT           NaT                68.0          Alive       no    N     1.0-E11 2015-05-06         2019-05-16   1       alive      FG                 no             pT2N1            3585        3585           no          2       1.0 E11      Tumour NaN   non-cohesive         68         2010-05-13   mod      /mnt/b/Google_Drive/PhD/Project with Janet/Kohl... m        m        NaT      1  2  yes          no         tongue NaN                3     60.0               0.061302   \n",
       "                                                                                                                                                                                                                                                                                                                                                                                                                                                                                                                                                                                                                       60.0               0.061657   \n",
       "                                                                                                                                                                                                                                                                                                                                                                                                                                                                                                                                                                                                                       60.0               0.062814   \n",
       "                                                                                                                                                                                                                                                                                                                                                                                                                                                                                                                                                                                                                       60.0               0.061500   \n",
       "                                                                                                                                                                                                                                                                                                                                                                                                                                                                                                                                                                                                                       60.0               0.067931   \n",
       "\n",
       "                                                                                                                                                                                                                                                                                                                                                                                                                                                                                                                                                                                                                                          ...  \\\n",
       "1year 2year 2years 3year 4year 5year ASMA Annotation_loc                                     Case ID Core_x Core_y Corrected Site AJCC/UICC DODvsAlive Date of death Date of recurrence Diagnosis Age DiedvsAlive ECS_x ECS_y ID      Last seen/reviewed Last updated N stage OUTCOME    OUTCOME.updated by Overall Death  Pathogical Stage Patient nu  Patient_Number Recurrence? T stage TMA TMA site Tissue Years advancing front type age @ diag date of diag diff     envi_loc                                           gender_x gender_y lifespan pN pT radiotherapy recurrence site   site of recurrence stage survival (months)  ...   \n",
       "True  True  1      False False False I    /mnt/b/Google_Drive/PhD/Project with Janet/Labe... 3237    B5     B5     other                    Other      2007-10-19    NaT                59.0          Died        yes   Y     2.0-B5  NaT                NaT          2a      Died other CBarry             yes            pT4aN2aMx        3237        3237           no          4a      2.0 B5       Tumour 1.0   non-cohesive         59         2006-03-24   mod well /mnt/b/Google_Drive/PhD/Project with Janet/Kohl... m        m        574 days 2a 4a yes          yes        other  NaN                4     2.0                ...   \n",
       "                                          /mnt/b/Google_Drive/PhD/Project with Janet/Labe... 3237    D9     D9     other                    Other      2007-10-19    NaT                59.0          Died        yes   Y     1.0-D9  NaT                NaT          2a      Died other CBarry             yes            pT4aN2aMx        3237        3237           no          4a      1.0 D9       Tumour 1.0   non-cohesive         59         2006-03-24   mod well /mnt/b/Google_Drive/PhD/Project with Janet/Kohl... m        m        574 days 2a 4a yes          yes        other  NaN                4     2.0                ...   \n",
       "                                                                                                                                                                                                                                                                                                                                                                                                                                                                                                                                                                                                                       2.0                ...   \n",
       "                                          /mnt/b/Google_Drive/PhD/Project with Janet/Labe... 3237    B5     B5     other                    Other      2007-10-19    NaT                59.0          Died        yes   Y     2.0-B5  NaT                NaT          2a      Died other CBarry             yes            pT4aN2aMx        3237        3237           no          4a      2.0 B5       Tumour 1.0   non-cohesive         59         2006-03-24   mod well /mnt/b/Google_Drive/PhD/Project with Janet/Kohl... m        m        574 days 2a 4a yes          yes        other  NaN                4     2.0                ...   \n",
       "                                          /mnt/b/Google_Drive/PhD/Project with Janet/Labe... 3237    D9     D9     other                    Other      2007-10-19    NaT                59.0          Died        yes   Y     1.0-D9  NaT                NaT          2a      Died other CBarry             yes            pT4aN2aMx        3237        3237           no          4a      1.0 D9       Tumour 1.0   non-cohesive         59         2006-03-24   mod well /mnt/b/Google_Drive/PhD/Project with Janet/Kohl... m        m        574 days 2a 4a yes          yes        other  NaN                4     2.0                ...   \n",
       "...                                                                                                                                                                                                                                                                                                                                                                                                                                                                                                                                                                                                                                       ...   \n",
       "False False 6      False False False H    /mnt/b/Google_Drive/PhD/Project with Janet/Labe... 3585    E11    E11    oral tongue              Other      NaT           NaT                68.0          Alive       no    N     1.0-E11 2015-05-06         2019-05-16   1       alive      FG                 no             pT2N1            3585        3585           no          2       1.0 E11      Tumour NaN   non-cohesive         68         2010-05-13   mod      /mnt/b/Google_Drive/PhD/Project with Janet/Kohl... m        m        NaT      1  2  yes          no         tongue NaN                3     60.0               ...   \n",
       "                                                                                                                                                                                                                                                                                                                                                                                                                                                                                                                                                                                                                       60.0               ...   \n",
       "                                                                                                                                                                                                                                                                                                                                                                                                                                                                                                                                                                                                                       60.0               ...   \n",
       "                                                                                                                                                                                                                                                                                                                                                                                                                                                                                                                                                                                                                       60.0               ...   \n",
       "                                                                                                                                                                                                                                                                                                                                                                                                                                                                                                                                                                                                                       60.0               ...   \n",
       "\n",
       "                                                                                                                                                                                                                                                                                                                                                                                                                                                                                                                                                                                                                                            1762.0  \\\n",
       "1year 2year 2years 3year 4year 5year ASMA Annotation_loc                                     Case ID Core_x Core_y Corrected Site AJCC/UICC DODvsAlive Date of death Date of recurrence Diagnosis Age DiedvsAlive ECS_x ECS_y ID      Last seen/reviewed Last updated N stage OUTCOME    OUTCOME.updated by Overall Death  Pathogical Stage Patient nu  Patient_Number Recurrence? T stage TMA TMA site Tissue Years advancing front type age @ diag date of diag diff     envi_loc                                           gender_x gender_y lifespan pN pT radiotherapy recurrence site   site of recurrence stage survival (months)             \n",
       "True  True  1      False False False I    /mnt/b/Google_Drive/PhD/Project with Janet/Labe... 3237    B5     B5     other                    Other      2007-10-19    NaT                59.0          Died        yes   Y     2.0-B5  NaT                NaT          2a      Died other CBarry             yes            pT4aN2aMx        3237        3237           no          4a      2.0 B5       Tumour 1.0   non-cohesive         59         2006-03-24   mod well /mnt/b/Google_Drive/PhD/Project with Janet/Kohl... m        m        574 days 2a 4a yes          yes        other  NaN                4     2.0                0.036164   \n",
       "                                          /mnt/b/Google_Drive/PhD/Project with Janet/Labe... 3237    D9     D9     other                    Other      2007-10-19    NaT                59.0          Died        yes   Y     1.0-D9  NaT                NaT          2a      Died other CBarry             yes            pT4aN2aMx        3237        3237           no          4a      1.0 D9       Tumour 1.0   non-cohesive         59         2006-03-24   mod well /mnt/b/Google_Drive/PhD/Project with Janet/Kohl... m        m        574 days 2a 4a yes          yes        other  NaN                4     2.0                0.058228   \n",
       "                                                                                                                                                                                                                                                                                                                                                                                                                                                                                                                                                                                                                       2.0                0.049527   \n",
       "                                          /mnt/b/Google_Drive/PhD/Project with Janet/Labe... 3237    B5     B5     other                    Other      2007-10-19    NaT                59.0          Died        yes   Y     2.0-B5  NaT                NaT          2a      Died other CBarry             yes            pT4aN2aMx        3237        3237           no          4a      2.0 B5       Tumour 1.0   non-cohesive         59         2006-03-24   mod well /mnt/b/Google_Drive/PhD/Project with Janet/Kohl... m        m        574 days 2a 4a yes          yes        other  NaN                4     2.0                0.045484   \n",
       "                                          /mnt/b/Google_Drive/PhD/Project with Janet/Labe... 3237    D9     D9     other                    Other      2007-10-19    NaT                59.0          Died        yes   Y     1.0-D9  NaT                NaT          2a      Died other CBarry             yes            pT4aN2aMx        3237        3237           no          4a      1.0 D9       Tumour 1.0   non-cohesive         59         2006-03-24   mod well /mnt/b/Google_Drive/PhD/Project with Janet/Kohl... m        m        574 days 2a 4a yes          yes        other  NaN                4     2.0                0.049855   \n",
       "...                                                                                                                                                                                                                                                                                                                                                                                                                                                                                                                                                                                                                                            ...   \n",
       "False False 6      False False False H    /mnt/b/Google_Drive/PhD/Project with Janet/Labe... 3585    E11    E11    oral tongue              Other      NaT           NaT                68.0          Alive       no    N     1.0-E11 2015-05-06         2019-05-16   1       alive      FG                 no             pT2N1            3585        3585           no          2       1.0 E11      Tumour NaN   non-cohesive         68         2010-05-13   mod      /mnt/b/Google_Drive/PhD/Project with Janet/Kohl... m        m        NaT      1  2  yes          no         tongue NaN                3     60.0               0.058569   \n",
       "                                                                                                                                                                                                                                                                                                                                                                                                                                                                                                                                                                                                                       60.0               0.040369   \n",
       "                                                                                                                                                                                                                                                                                                                                                                                                                                                                                                                                                                                                                       60.0               0.080481   \n",
       "                                                                                                                                                                                                                                                                                                                                                                                                                                                                                                                                                                                                                       60.0               0.044469   \n",
       "                                                                                                                                                                                                                                                                                                                                                                                                                                                                                                                                                                                                                       60.0               0.053220   \n",
       "\n",
       "                                                                                                                                                                                                                                                                                                                                                                                                                                                                                                                                                                                                                                            1766.0  \\\n",
       "1year 2year 2years 3year 4year 5year ASMA Annotation_loc                                     Case ID Core_x Core_y Corrected Site AJCC/UICC DODvsAlive Date of death Date of recurrence Diagnosis Age DiedvsAlive ECS_x ECS_y ID      Last seen/reviewed Last updated N stage OUTCOME    OUTCOME.updated by Overall Death  Pathogical Stage Patient nu  Patient_Number Recurrence? T stage TMA TMA site Tissue Years advancing front type age @ diag date of diag diff     envi_loc                                           gender_x gender_y lifespan pN pT radiotherapy recurrence site   site of recurrence stage survival (months)             \n",
       "True  True  1      False False False I    /mnt/b/Google_Drive/PhD/Project with Janet/Labe... 3237    B5     B5     other                    Other      2007-10-19    NaT                59.0          Died        yes   Y     2.0-B5  NaT                NaT          2a      Died other CBarry             yes            pT4aN2aMx        3237        3237           no          4a      2.0 B5       Tumour 1.0   non-cohesive         59         2006-03-24   mod well /mnt/b/Google_Drive/PhD/Project with Janet/Kohl... m        m        574 days 2a 4a yes          yes        other  NaN                4     2.0                0.035900   \n",
       "                                          /mnt/b/Google_Drive/PhD/Project with Janet/Labe... 3237    D9     D9     other                    Other      2007-10-19    NaT                59.0          Died        yes   Y     1.0-D9  NaT                NaT          2a      Died other CBarry             yes            pT4aN2aMx        3237        3237           no          4a      1.0 D9       Tumour 1.0   non-cohesive         59         2006-03-24   mod well /mnt/b/Google_Drive/PhD/Project with Janet/Kohl... m        m        574 days 2a 4a yes          yes        other  NaN                4     2.0                0.057794   \n",
       "                                                                                                                                                                                                                                                                                                                                                                                                                                                                                                                                                                                                                       2.0                0.049357   \n",
       "                                          /mnt/b/Google_Drive/PhD/Project with Janet/Labe... 3237    B5     B5     other                    Other      2007-10-19    NaT                59.0          Died        yes   Y     2.0-B5  NaT                NaT          2a      Died other CBarry             yes            pT4aN2aMx        3237        3237           no          4a      2.0 B5       Tumour 1.0   non-cohesive         59         2006-03-24   mod well /mnt/b/Google_Drive/PhD/Project with Janet/Kohl... m        m        574 days 2a 4a yes          yes        other  NaN                4     2.0                0.045865   \n",
       "                                          /mnt/b/Google_Drive/PhD/Project with Janet/Labe... 3237    D9     D9     other                    Other      2007-10-19    NaT                59.0          Died        yes   Y     1.0-D9  NaT                NaT          2a      Died other CBarry             yes            pT4aN2aMx        3237        3237           no          4a      1.0 D9       Tumour 1.0   non-cohesive         59         2006-03-24   mod well /mnt/b/Google_Drive/PhD/Project with Janet/Kohl... m        m        574 days 2a 4a yes          yes        other  NaN                4     2.0                0.049544   \n",
       "...                                                                                                                                                                                                                                                                                                                                                                                                                                                                                                                                                                                                                                            ...   \n",
       "False False 6      False False False H    /mnt/b/Google_Drive/PhD/Project with Janet/Labe... 3585    E11    E11    oral tongue              Other      NaT           NaT                68.0          Alive       no    N     1.0-E11 2015-05-06         2019-05-16   1       alive      FG                 no             pT2N1            3585        3585           no          2       1.0 E11      Tumour NaN   non-cohesive         68         2010-05-13   mod      /mnt/b/Google_Drive/PhD/Project with Janet/Kohl... m        m        NaT      1  2  yes          no         tongue NaN                3     60.0               0.058287   \n",
       "                                                                                                                                                                                                                                                                                                                                                                                                                                                                                                                                                                                                                       60.0               0.040116   \n",
       "                                                                                                                                                                                                                                                                                                                                                                                                                                                                                                                                                                                                                       60.0               0.080648   \n",
       "                                                                                                                                                                                                                                                                                                                                                                                                                                                                                                                                                                                                                       60.0               0.042406   \n",
       "                                                                                                                                                                                                                                                                                                                                                                                                                                                                                                                                                                                                                       60.0               0.053173   \n",
       "\n",
       "                                                                                                                                                                                                                                                                                                                                                                                                                                                                                                                                                                                                                                            1770.0  \\\n",
       "1year 2year 2years 3year 4year 5year ASMA Annotation_loc                                     Case ID Core_x Core_y Corrected Site AJCC/UICC DODvsAlive Date of death Date of recurrence Diagnosis Age DiedvsAlive ECS_x ECS_y ID      Last seen/reviewed Last updated N stage OUTCOME    OUTCOME.updated by Overall Death  Pathogical Stage Patient nu  Patient_Number Recurrence? T stage TMA TMA site Tissue Years advancing front type age @ diag date of diag diff     envi_loc                                           gender_x gender_y lifespan pN pT radiotherapy recurrence site   site of recurrence stage survival (months)             \n",
       "True  True  1      False False False I    /mnt/b/Google_Drive/PhD/Project with Janet/Labe... 3237    B5     B5     other                    Other      2007-10-19    NaT                59.0          Died        yes   Y     2.0-B5  NaT                NaT          2a      Died other CBarry             yes            pT4aN2aMx        3237        3237           no          4a      2.0 B5       Tumour 1.0   non-cohesive         59         2006-03-24   mod well /mnt/b/Google_Drive/PhD/Project with Janet/Kohl... m        m        574 days 2a 4a yes          yes        other  NaN                4     2.0                0.035866   \n",
       "                                          /mnt/b/Google_Drive/PhD/Project with Janet/Labe... 3237    D9     D9     other                    Other      2007-10-19    NaT                59.0          Died        yes   Y     1.0-D9  NaT                NaT          2a      Died other CBarry             yes            pT4aN2aMx        3237        3237           no          4a      1.0 D9       Tumour 1.0   non-cohesive         59         2006-03-24   mod well /mnt/b/Google_Drive/PhD/Project with Janet/Kohl... m        m        574 days 2a 4a yes          yes        other  NaN                4     2.0                0.057549   \n",
       "                                                                                                                                                                                                                                                                                                                                                                                                                                                                                                                                                                                                                       2.0                0.049270   \n",
       "                                          /mnt/b/Google_Drive/PhD/Project with Janet/Labe... 3237    B5     B5     other                    Other      2007-10-19    NaT                59.0          Died        yes   Y     2.0-B5  NaT                NaT          2a      Died other CBarry             yes            pT4aN2aMx        3237        3237           no          4a      2.0 B5       Tumour 1.0   non-cohesive         59         2006-03-24   mod well /mnt/b/Google_Drive/PhD/Project with Janet/Kohl... m        m        574 days 2a 4a yes          yes        other  NaN                4     2.0                0.046032   \n",
       "                                          /mnt/b/Google_Drive/PhD/Project with Janet/Labe... 3237    D9     D9     other                    Other      2007-10-19    NaT                59.0          Died        yes   Y     1.0-D9  NaT                NaT          2a      Died other CBarry             yes            pT4aN2aMx        3237        3237           no          4a      1.0 D9       Tumour 1.0   non-cohesive         59         2006-03-24   mod well /mnt/b/Google_Drive/PhD/Project with Janet/Kohl... m        m        574 days 2a 4a yes          yes        other  NaN                4     2.0                0.049357   \n",
       "...                                                                                                                                                                                                                                                                                                                                                                                                                                                                                                                                                                                                                                            ...   \n",
       "False False 6      False False False H    /mnt/b/Google_Drive/PhD/Project with Janet/Labe... 3585    E11    E11    oral tongue              Other      NaT           NaT                68.0          Alive       no    N     1.0-E11 2015-05-06         2019-05-16   1       alive      FG                 no             pT2N1            3585        3585           no          2       1.0 E11      Tumour NaN   non-cohesive         68         2010-05-13   mod      /mnt/b/Google_Drive/PhD/Project with Janet/Kohl... m        m        NaT      1  2  yes          no         tongue NaN                3     60.0               0.058275   \n",
       "                                                                                                                                                                                                                                                                                                                                                                                                                                                                                                                                                                                                                       60.0               0.040143   \n",
       "                                                                                                                                                                                                                                                                                                                                                                                                                                                                                                                                                                                                                       60.0               0.080758   \n",
       "                                                                                                                                                                                                                                                                                                                                                                                                                                                                                                                                                                                                                       60.0               0.041482   \n",
       "                                                                                                                                                                                                                                                                                                                                                                                                                                                                                                                                                                                                                       60.0               0.053623   \n",
       "\n",
       "                                                                                                                                                                                                                                                                                                                                                                                                                                                                                                                                                                                                                                            1774.0  \\\n",
       "1year 2year 2years 3year 4year 5year ASMA Annotation_loc                                     Case ID Core_x Core_y Corrected Site AJCC/UICC DODvsAlive Date of death Date of recurrence Diagnosis Age DiedvsAlive ECS_x ECS_y ID      Last seen/reviewed Last updated N stage OUTCOME    OUTCOME.updated by Overall Death  Pathogical Stage Patient nu  Patient_Number Recurrence? T stage TMA TMA site Tissue Years advancing front type age @ diag date of diag diff     envi_loc                                           gender_x gender_y lifespan pN pT radiotherapy recurrence site   site of recurrence stage survival (months)             \n",
       "True  True  1      False False False I    /mnt/b/Google_Drive/PhD/Project with Janet/Labe... 3237    B5     B5     other                    Other      2007-10-19    NaT                59.0          Died        yes   Y     2.0-B5  NaT                NaT          2a      Died other CBarry             yes            pT4aN2aMx        3237        3237           no          4a      2.0 B5       Tumour 1.0   non-cohesive         59         2006-03-24   mod well /mnt/b/Google_Drive/PhD/Project with Janet/Kohl... m        m        574 days 2a 4a yes          yes        other  NaN                4     2.0                0.035935   \n",
       "                                          /mnt/b/Google_Drive/PhD/Project with Janet/Labe... 3237    D9     D9     other                    Other      2007-10-19    NaT                59.0          Died        yes   Y     1.0-D9  NaT                NaT          2a      Died other CBarry             yes            pT4aN2aMx        3237        3237           no          4a      1.0 D9       Tumour 1.0   non-cohesive         59         2006-03-24   mod well /mnt/b/Google_Drive/PhD/Project with Janet/Kohl... m        m        574 days 2a 4a yes          yes        other  NaN                4     2.0                0.057371   \n",
       "                                                                                                                                                                                                                                                                                                                                                                                                                                                                                                                                                                                                                       2.0                0.049157   \n",
       "                                          /mnt/b/Google_Drive/PhD/Project with Janet/Labe... 3237    B5     B5     other                    Other      2007-10-19    NaT                59.0          Died        yes   Y     2.0-B5  NaT                NaT          2a      Died other CBarry             yes            pT4aN2aMx        3237        3237           no          4a      2.0 B5       Tumour 1.0   non-cohesive         59         2006-03-24   mod well /mnt/b/Google_Drive/PhD/Project with Janet/Kohl... m        m        574 days 2a 4a yes          yes        other  NaN                4     2.0                0.045992   \n",
       "                                          /mnt/b/Google_Drive/PhD/Project with Janet/Labe... 3237    D9     D9     other                    Other      2007-10-19    NaT                59.0          Died        yes   Y     1.0-D9  NaT                NaT          2a      Died other CBarry             yes            pT4aN2aMx        3237        3237           no          4a      1.0 D9       Tumour 1.0   non-cohesive         59         2006-03-24   mod well /mnt/b/Google_Drive/PhD/Project with Janet/Kohl... m        m        574 days 2a 4a yes          yes        other  NaN                4     2.0                0.049343   \n",
       "...                                                                                                                                                                                                                                                                                                                                                                                                                                                                                                                                                                                                                                            ...   \n",
       "False False 6      False False False H    /mnt/b/Google_Drive/PhD/Project with Janet/Labe... 3585    E11    E11    oral tongue              Other      NaT           NaT                68.0          Alive       no    N     1.0-E11 2015-05-06         2019-05-16   1       alive      FG                 no             pT2N1            3585        3585           no          2       1.0 E11      Tumour NaN   non-cohesive         68         2010-05-13   mod      /mnt/b/Google_Drive/PhD/Project with Janet/Kohl... m        m        NaT      1  2  yes          no         tongue NaN                3     60.0               0.058358   \n",
       "                                                                                                                                                                                                                                                                                                                                                                                                                                                                                                                                                                                                                       60.0               0.040307   \n",
       "                                                                                                                                                                                                                                                                                                                                                                                                                                                                                                                                                                                                                       60.0               0.080318   \n",
       "                                                                                                                                                                                                                                                                                                                                                                                                                                                                                                                                                                                                                       60.0               0.042035   \n",
       "                                                                                                                                                                                                                                                                                                                                                                                                                                                                                                                                                                                                                       60.0               0.054036   \n",
       "\n",
       "                                                                                                                                                                                                                                                                                                                                                                                                                                                                                                                                                                                                                                            1778.0  \\\n",
       "1year 2year 2years 3year 4year 5year ASMA Annotation_loc                                     Case ID Core_x Core_y Corrected Site AJCC/UICC DODvsAlive Date of death Date of recurrence Diagnosis Age DiedvsAlive ECS_x ECS_y ID      Last seen/reviewed Last updated N stage OUTCOME    OUTCOME.updated by Overall Death  Pathogical Stage Patient nu  Patient_Number Recurrence? T stage TMA TMA site Tissue Years advancing front type age @ diag date of diag diff     envi_loc                                           gender_x gender_y lifespan pN pT radiotherapy recurrence site   site of recurrence stage survival (months)             \n",
       "True  True  1      False False False I    /mnt/b/Google_Drive/PhD/Project with Janet/Labe... 3237    B5     B5     other                    Other      2007-10-19    NaT                59.0          Died        yes   Y     2.0-B5  NaT                NaT          2a      Died other CBarry             yes            pT4aN2aMx        3237        3237           no          4a      2.0 B5       Tumour 1.0   non-cohesive         59         2006-03-24   mod well /mnt/b/Google_Drive/PhD/Project with Janet/Kohl... m        m        574 days 2a 4a yes          yes        other  NaN                4     2.0                0.036360   \n",
       "                                          /mnt/b/Google_Drive/PhD/Project with Janet/Labe... 3237    D9     D9     other                    Other      2007-10-19    NaT                59.0          Died        yes   Y     1.0-D9  NaT                NaT          2a      Died other CBarry             yes            pT4aN2aMx        3237        3237           no          4a      1.0 D9       Tumour 1.0   non-cohesive         59         2006-03-24   mod well /mnt/b/Google_Drive/PhD/Project with Janet/Kohl... m        m        574 days 2a 4a yes          yes        other  NaN                4     2.0                0.057141   \n",
       "                                                                                                                                                                                                                                                                                                                                                                                                                                                                                                                                                                                                                       2.0                0.049043   \n",
       "                                          /mnt/b/Google_Drive/PhD/Project with Janet/Labe... 3237    B5     B5     other                    Other      2007-10-19    NaT                59.0          Died        yes   Y     2.0-B5  NaT                NaT          2a      Died other CBarry             yes            pT4aN2aMx        3237        3237           no          4a      2.0 B5       Tumour 1.0   non-cohesive         59         2006-03-24   mod well /mnt/b/Google_Drive/PhD/Project with Janet/Kohl... m        m        574 days 2a 4a yes          yes        other  NaN                4     2.0                0.045900   \n",
       "                                          /mnt/b/Google_Drive/PhD/Project with Janet/Labe... 3237    D9     D9     other                    Other      2007-10-19    NaT                59.0          Died        yes   Y     1.0-D9  NaT                NaT          2a      Died other CBarry             yes            pT4aN2aMx        3237        3237           no          4a      1.0 D9       Tumour 1.0   non-cohesive         59         2006-03-24   mod well /mnt/b/Google_Drive/PhD/Project with Janet/Kohl... m        m        574 days 2a 4a yes          yes        other  NaN                4     2.0                0.049408   \n",
       "...                                                                                                                                                                                                                                                                                                                                                                                                                                                                                                                                                                                                                                            ...   \n",
       "False False 6      False False False H    /mnt/b/Google_Drive/PhD/Project with Janet/Labe... 3585    E11    E11    oral tongue              Other      NaT           NaT                68.0          Alive       no    N     1.0-E11 2015-05-06         2019-05-16   1       alive      FG                 no             pT2N1            3585        3585           no          2       1.0 E11      Tumour NaN   non-cohesive         68         2010-05-13   mod      /mnt/b/Google_Drive/PhD/Project with Janet/Kohl... m        m        NaT      1  2  yes          no         tongue NaN                3     60.0               0.058097   \n",
       "                                                                                                                                                                                                                                                                                                                                                                                                                                                                                                                                                                                                                       60.0               0.040710   \n",
       "                                                                                                                                                                                                                                                                                                                                                                                                                                                                                                                                                                                                                       60.0               0.079345   \n",
       "                                                                                                                                                                                                                                                                                                                                                                                                                                                                                                                                                                                                                       60.0               0.043267   \n",
       "                                                                                                                                                                                                                                                                                                                                                                                                                                                                                                                                                                                                                       60.0               0.053684   \n",
       "\n",
       "                                                                                                                                                                                                                                                                                                                                                                                                                                                                                                                                                                                                                                            1781.0  \\\n",
       "1year 2year 2years 3year 4year 5year ASMA Annotation_loc                                     Case ID Core_x Core_y Corrected Site AJCC/UICC DODvsAlive Date of death Date of recurrence Diagnosis Age DiedvsAlive ECS_x ECS_y ID      Last seen/reviewed Last updated N stage OUTCOME    OUTCOME.updated by Overall Death  Pathogical Stage Patient nu  Patient_Number Recurrence? T stage TMA TMA site Tissue Years advancing front type age @ diag date of diag diff     envi_loc                                           gender_x gender_y lifespan pN pT radiotherapy recurrence site   site of recurrence stage survival (months)             \n",
       "True  True  1      False False False I    /mnt/b/Google_Drive/PhD/Project with Janet/Labe... 3237    B5     B5     other                    Other      2007-10-19    NaT                59.0          Died        yes   Y     2.0-B5  NaT                NaT          2a      Died other CBarry             yes            pT4aN2aMx        3237        3237           no          4a      2.0 B5       Tumour 1.0   non-cohesive         59         2006-03-24   mod well /mnt/b/Google_Drive/PhD/Project with Janet/Kohl... m        m        574 days 2a 4a yes          yes        other  NaN                4     2.0                0.037296   \n",
       "                                          /mnt/b/Google_Drive/PhD/Project with Janet/Labe... 3237    D9     D9     other                    Other      2007-10-19    NaT                59.0          Died        yes   Y     1.0-D9  NaT                NaT          2a      Died other CBarry             yes            pT4aN2aMx        3237        3237           no          4a      1.0 D9       Tumour 1.0   non-cohesive         59         2006-03-24   mod well /mnt/b/Google_Drive/PhD/Project with Janet/Kohl... m        m        574 days 2a 4a yes          yes        other  NaN                4     2.0                0.056917   \n",
       "                                                                                                                                                                                                                                                                                                                                                                                                                                                                                                                                                                                                                       2.0                0.049009   \n",
       "                                          /mnt/b/Google_Drive/PhD/Project with Janet/Labe... 3237    B5     B5     other                    Other      2007-10-19    NaT                59.0          Died        yes   Y     2.0-B5  NaT                NaT          2a      Died other CBarry             yes            pT4aN2aMx        3237        3237           no          4a      2.0 B5       Tumour 1.0   non-cohesive         59         2006-03-24   mod well /mnt/b/Google_Drive/PhD/Project with Janet/Kohl... m        m        574 days 2a 4a yes          yes        other  NaN                4     2.0                0.046088   \n",
       "                                          /mnt/b/Google_Drive/PhD/Project with Janet/Labe... 3237    D9     D9     other                    Other      2007-10-19    NaT                59.0          Died        yes   Y     1.0-D9  NaT                NaT          2a      Died other CBarry             yes            pT4aN2aMx        3237        3237           no          4a      1.0 D9       Tumour 1.0   non-cohesive         59         2006-03-24   mod well /mnt/b/Google_Drive/PhD/Project with Janet/Kohl... m        m        574 days 2a 4a yes          yes        other  NaN                4     2.0                0.049651   \n",
       "...                                                                                                                                                                                                                                                                                                                                                                                                                                                                                                                                                                                                                                            ...   \n",
       "False False 6      False False False H    /mnt/b/Google_Drive/PhD/Project with Janet/Labe... 3585    E11    E11    oral tongue              Other      NaT           NaT                68.0          Alive       no    N     1.0-E11 2015-05-06         2019-05-16   1       alive      FG                 no             pT2N1            3585        3585           no          2       1.0 E11      Tumour NaN   non-cohesive         68         2010-05-13   mod      /mnt/b/Google_Drive/PhD/Project with Janet/Kohl... m        m        NaT      1  2  yes          no         tongue NaN                3     60.0               0.057727   \n",
       "                                                                                                                                                                                                                                                                                                                                                                                                                                                                                                                                                                                                                       60.0               0.041502   \n",
       "                                                                                                                                                                                                                                                                                                                                                                                                                                                                                                                                                                                                                       60.0               0.078336   \n",
       "                                                                                                                                                                                                                                                                                                                                                                                                                                                                                                                                                                                                                       60.0               0.045106   \n",
       "                                                                                                                                                                                                                                                                                                                                                                                                                                                                                                                                                                                                                       60.0               0.052897   \n",
       "\n",
       "                                                                                                                                                                                                                                                                                                                                                                                                                                                                                                                                                                                                                                            1785.0  \\\n",
       "1year 2year 2years 3year 4year 5year ASMA Annotation_loc                                     Case ID Core_x Core_y Corrected Site AJCC/UICC DODvsAlive Date of death Date of recurrence Diagnosis Age DiedvsAlive ECS_x ECS_y ID      Last seen/reviewed Last updated N stage OUTCOME    OUTCOME.updated by Overall Death  Pathogical Stage Patient nu  Patient_Number Recurrence? T stage TMA TMA site Tissue Years advancing front type age @ diag date of diag diff     envi_loc                                           gender_x gender_y lifespan pN pT radiotherapy recurrence site   site of recurrence stage survival (months)             \n",
       "True  True  1      False False False I    /mnt/b/Google_Drive/PhD/Project with Janet/Labe... 3237    B5     B5     other                    Other      2007-10-19    NaT                59.0          Died        yes   Y     2.0-B5  NaT                NaT          2a      Died other CBarry             yes            pT4aN2aMx        3237        3237           no          4a      2.0 B5       Tumour 1.0   non-cohesive         59         2006-03-24   mod well /mnt/b/Google_Drive/PhD/Project with Janet/Kohl... m        m        574 days 2a 4a yes          yes        other  NaN                4     2.0                0.038146   \n",
       "                                          /mnt/b/Google_Drive/PhD/Project with Janet/Labe... 3237    D9     D9     other                    Other      2007-10-19    NaT                59.0          Died        yes   Y     1.0-D9  NaT                NaT          2a      Died other CBarry             yes            pT4aN2aMx        3237        3237           no          4a      1.0 D9       Tumour 1.0   non-cohesive         59         2006-03-24   mod well /mnt/b/Google_Drive/PhD/Project with Janet/Kohl... m        m        574 days 2a 4a yes          yes        other  NaN                4     2.0                0.056639   \n",
       "                                                                                                                                                                                                                                                                                                                                                                                                                                                                                                                                                                                                                       2.0                0.048927   \n",
       "                                          /mnt/b/Google_Drive/PhD/Project with Janet/Labe... 3237    B5     B5     other                    Other      2007-10-19    NaT                59.0          Died        yes   Y     2.0-B5  NaT                NaT          2a      Died other CBarry             yes            pT4aN2aMx        3237        3237           no          4a      2.0 B5       Tumour 1.0   non-cohesive         59         2006-03-24   mod well /mnt/b/Google_Drive/PhD/Project with Janet/Kohl... m        m        574 days 2a 4a yes          yes        other  NaN                4     2.0                0.046505   \n",
       "                                          /mnt/b/Google_Drive/PhD/Project with Janet/Labe... 3237    D9     D9     other                    Other      2007-10-19    NaT                59.0          Died        yes   Y     1.0-D9  NaT                NaT          2a      Died other CBarry             yes            pT4aN2aMx        3237        3237           no          4a      1.0 D9       Tumour 1.0   non-cohesive         59         2006-03-24   mod well /mnt/b/Google_Drive/PhD/Project with Janet/Kohl... m        m        574 days 2a 4a yes          yes        other  NaN                4     2.0                0.049779   \n",
       "...                                                                                                                                                                                                                                                                                                                                                                                                                                                                                                                                                                                                                                            ...   \n",
       "False False 6      False False False H    /mnt/b/Google_Drive/PhD/Project with Janet/Labe... 3585    E11    E11    oral tongue              Other      NaT           NaT                68.0          Alive       no    N     1.0-E11 2015-05-06         2019-05-16   1       alive      FG                 no             pT2N1            3585        3585           no          2       1.0 E11      Tumour NaN   non-cohesive         68         2010-05-13   mod      /mnt/b/Google_Drive/PhD/Project with Janet/Kohl... m        m        NaT      1  2  yes          no         tongue NaN                3     60.0               0.057634   \n",
       "                                                                                                                                                                                                                                                                                                                                                                                                                                                                                                                                                                                                                       60.0               0.042180   \n",
       "                                                                                                                                                                                                                                                                                                                                                                                                                                                                                                                                                                                                                       60.0               0.077732   \n",
       "                                                                                                                                                                                                                                                                                                                                                                                                                                                                                                                                                                                                                       60.0               0.047127   \n",
       "                                                                                                                                                                                                                                                                                                                                                                                                                                                                                                                                                                                                                       60.0               0.051977   \n",
       "\n",
       "                                                                                                                                                                                                                                                                                                                                                                                                                                                                                                                                                                                                                                            1789.0  \\\n",
       "1year 2year 2years 3year 4year 5year ASMA Annotation_loc                                     Case ID Core_x Core_y Corrected Site AJCC/UICC DODvsAlive Date of death Date of recurrence Diagnosis Age DiedvsAlive ECS_x ECS_y ID      Last seen/reviewed Last updated N stage OUTCOME    OUTCOME.updated by Overall Death  Pathogical Stage Patient nu  Patient_Number Recurrence? T stage TMA TMA site Tissue Years advancing front type age @ diag date of diag diff     envi_loc                                           gender_x gender_y lifespan pN pT radiotherapy recurrence site   site of recurrence stage survival (months)             \n",
       "True  True  1      False False False I    /mnt/b/Google_Drive/PhD/Project with Janet/Labe... 3237    B5     B5     other                    Other      2007-10-19    NaT                59.0          Died        yes   Y     2.0-B5  NaT                NaT          2a      Died other CBarry             yes            pT4aN2aMx        3237        3237           no          4a      2.0 B5       Tumour 1.0   non-cohesive         59         2006-03-24   mod well /mnt/b/Google_Drive/PhD/Project with Janet/Kohl... m        m        574 days 2a 4a yes          yes        other  NaN                4     2.0                0.038658   \n",
       "                                          /mnt/b/Google_Drive/PhD/Project with Janet/Labe... 3237    D9     D9     other                    Other      2007-10-19    NaT                59.0          Died        yes   Y     1.0-D9  NaT                NaT          2a      Died other CBarry             yes            pT4aN2aMx        3237        3237           no          4a      1.0 D9       Tumour 1.0   non-cohesive         59         2006-03-24   mod well /mnt/b/Google_Drive/PhD/Project with Janet/Kohl... m        m        574 days 2a 4a yes          yes        other  NaN                4     2.0                0.056443   \n",
       "                                                                                                                                                                                                                                                                                                                                                                                                                                                                                                                                                                                                                       2.0                0.048955   \n",
       "                                          /mnt/b/Google_Drive/PhD/Project with Janet/Labe... 3237    B5     B5     other                    Other      2007-10-19    NaT                59.0          Died        yes   Y     2.0-B5  NaT                NaT          2a      Died other CBarry             yes            pT4aN2aMx        3237        3237           no          4a      2.0 B5       Tumour 1.0   non-cohesive         59         2006-03-24   mod well /mnt/b/Google_Drive/PhD/Project with Janet/Kohl... m        m        574 days 2a 4a yes          yes        other  NaN                4     2.0                0.046780   \n",
       "                                          /mnt/b/Google_Drive/PhD/Project with Janet/Labe... 3237    D9     D9     other                    Other      2007-10-19    NaT                59.0          Died        yes   Y     1.0-D9  NaT                NaT          2a      Died other CBarry             yes            pT4aN2aMx        3237        3237           no          4a      1.0 D9       Tumour 1.0   non-cohesive         59         2006-03-24   mod well /mnt/b/Google_Drive/PhD/Project with Janet/Kohl... m        m        574 days 2a 4a yes          yes        other  NaN                4     2.0                0.049833   \n",
       "...                                                                                                                                                                                                                                                                                                                                                                                                                                                                                                                                                                                                                                            ...   \n",
       "False False 6      False False False H    /mnt/b/Google_Drive/PhD/Project with Janet/Labe... 3585    E11    E11    oral tongue              Other      NaT           NaT                68.0          Alive       no    N     1.0-E11 2015-05-06         2019-05-16   1       alive      FG                 no             pT2N1            3585        3585           no          2       1.0 E11      Tumour NaN   non-cohesive         68         2010-05-13   mod      /mnt/b/Google_Drive/PhD/Project with Janet/Kohl... m        m        NaT      1  2  yes          no         tongue NaN                3     60.0               0.057952   \n",
       "                                                                                                                                                                                                                                                                                                                                                                                                                                                                                                                                                                                                                       60.0               0.042915   \n",
       "                                                                                                                                                                                                                                                                                                                                                                                                                                                                                                                                                                                                                       60.0               0.077488   \n",
       "                                                                                                                                                                                                                                                                                                                                                                                                                                                                                                                                                                                                                       60.0               0.048588   \n",
       "                                                                                                                                                                                                                                                                                                                                                                                                                                                                                                                                                                                                                       60.0               0.051408   \n",
       "\n",
       "                                                                                                                                                                                                                                                                                                                                                                                                                                                                                                                                                                                                                                            1793.0  \\\n",
       "1year 2year 2years 3year 4year 5year ASMA Annotation_loc                                     Case ID Core_x Core_y Corrected Site AJCC/UICC DODvsAlive Date of death Date of recurrence Diagnosis Age DiedvsAlive ECS_x ECS_y ID      Last seen/reviewed Last updated N stage OUTCOME    OUTCOME.updated by Overall Death  Pathogical Stage Patient nu  Patient_Number Recurrence? T stage TMA TMA site Tissue Years advancing front type age @ diag date of diag diff     envi_loc                                           gender_x gender_y lifespan pN pT radiotherapy recurrence site   site of recurrence stage survival (months)             \n",
       "True  True  1      False False False I    /mnt/b/Google_Drive/PhD/Project with Janet/Labe... 3237    B5     B5     other                    Other      2007-10-19    NaT                59.0          Died        yes   Y     2.0-B5  NaT                NaT          2a      Died other CBarry             yes            pT4aN2aMx        3237        3237           no          4a      2.0 B5       Tumour 1.0   non-cohesive         59         2006-03-24   mod well /mnt/b/Google_Drive/PhD/Project with Janet/Kohl... m        m        574 days 2a 4a yes          yes        other  NaN                4     2.0                0.038563   \n",
       "                                          /mnt/b/Google_Drive/PhD/Project with Janet/Labe... 3237    D9     D9     other                    Other      2007-10-19    NaT                59.0          Died        yes   Y     1.0-D9  NaT                NaT          2a      Died other CBarry             yes            pT4aN2aMx        3237        3237           no          4a      1.0 D9       Tumour 1.0   non-cohesive         59         2006-03-24   mod well /mnt/b/Google_Drive/PhD/Project with Janet/Kohl... m        m        574 days 2a 4a yes          yes        other  NaN                4     2.0                0.056302   \n",
       "                                                                                                                                                                                                                                                                                                                                                                                                                                                                                                                                                                                                                       2.0                0.048972   \n",
       "                                          /mnt/b/Google_Drive/PhD/Project with Janet/Labe... 3237    B5     B5     other                    Other      2007-10-19    NaT                59.0          Died        yes   Y     2.0-B5  NaT                NaT          2a      Died other CBarry             yes            pT4aN2aMx        3237        3237           no          4a      2.0 B5       Tumour 1.0   non-cohesive         59         2006-03-24   mod well /mnt/b/Google_Drive/PhD/Project with Janet/Kohl... m        m        574 days 2a 4a yes          yes        other  NaN                4     2.0                0.046712   \n",
       "                                          /mnt/b/Google_Drive/PhD/Project with Janet/Labe... 3237    D9     D9     other                    Other      2007-10-19    NaT                59.0          Died        yes   Y     1.0-D9  NaT                NaT          2a      Died other CBarry             yes            pT4aN2aMx        3237        3237           no          4a      1.0 D9       Tumour 1.0   non-cohesive         59         2006-03-24   mod well /mnt/b/Google_Drive/PhD/Project with Janet/Kohl... m        m        574 days 2a 4a yes          yes        other  NaN                4     2.0                0.049813   \n",
       "...                                                                                                                                                                                                                                                                                                                                                                                                                                                                                                                                                                                                                                            ...   \n",
       "False False 6      False False False H    /mnt/b/Google_Drive/PhD/Project with Janet/Labe... 3585    E11    E11    oral tongue              Other      NaT           NaT                68.0          Alive       no    N     1.0-E11 2015-05-06         2019-05-16   1       alive      FG                 no             pT2N1            3585        3585           no          2       1.0 E11      Tumour NaN   non-cohesive         68         2010-05-13   mod      /mnt/b/Google_Drive/PhD/Project with Janet/Kohl... m        m        NaT      1  2  yes          no         tongue NaN                3     60.0               0.058651   \n",
       "                                                                                                                                                                                                                                                                                                                                                                                                                                                                                                                                                                                                                       60.0               0.043563   \n",
       "                                                                                                                                                                                                                                                                                                                                                                                                                                                                                                                                                                                                                       60.0               0.077462   \n",
       "                                                                                                                                                                                                                                                                                                                                                                                                                                                                                                                                                                                                                       60.0               0.049284   \n",
       "                                                                                                                                                                                                                                                                                                                                                                                                                                                                                                                                                                                                                       60.0               0.051487   \n",
       "\n",
       "                                                                                                                                                                                                                                                                                                                                                                                                                                                                                                                                                                                                                                            1797.0  \n",
       "1year 2year 2years 3year 4year 5year ASMA Annotation_loc                                     Case ID Core_x Core_y Corrected Site AJCC/UICC DODvsAlive Date of death Date of recurrence Diagnosis Age DiedvsAlive ECS_x ECS_y ID      Last seen/reviewed Last updated N stage OUTCOME    OUTCOME.updated by Overall Death  Pathogical Stage Patient nu  Patient_Number Recurrence? T stage TMA TMA site Tissue Years advancing front type age @ diag date of diag diff     envi_loc                                           gender_x gender_y lifespan pN pT radiotherapy recurrence site   site of recurrence stage survival (months)            \n",
       "True  True  1      False False False I    /mnt/b/Google_Drive/PhD/Project with Janet/Labe... 3237    B5     B5     other                    Other      2007-10-19    NaT                59.0          Died        yes   Y     2.0-B5  NaT                NaT          2a      Died other CBarry             yes            pT4aN2aMx        3237        3237           no          4a      2.0 B5       Tumour 1.0   non-cohesive         59         2006-03-24   mod well /mnt/b/Google_Drive/PhD/Project with Janet/Kohl... m        m        574 days 2a 4a yes          yes        other  NaN                4     2.0                0.038214  \n",
       "                                          /mnt/b/Google_Drive/PhD/Project with Janet/Labe... 3237    D9     D9     other                    Other      2007-10-19    NaT                59.0          Died        yes   Y     1.0-D9  NaT                NaT          2a      Died other CBarry             yes            pT4aN2aMx        3237        3237           no          4a      1.0 D9       Tumour 1.0   non-cohesive         59         2006-03-24   mod well /mnt/b/Google_Drive/PhD/Project with Janet/Kohl... m        m        574 days 2a 4a yes          yes        other  NaN                4     2.0                0.056236  \n",
       "                                                                                                                                                                                                                                                                                                                                                                                                                                                                                                                                                                                                                       2.0                0.048998  \n",
       "                                          /mnt/b/Google_Drive/PhD/Project with Janet/Labe... 3237    B5     B5     other                    Other      2007-10-19    NaT                59.0          Died        yes   Y     2.0-B5  NaT                NaT          2a      Died other CBarry             yes            pT4aN2aMx        3237        3237           no          4a      2.0 B5       Tumour 1.0   non-cohesive         59         2006-03-24   mod well /mnt/b/Google_Drive/PhD/Project with Janet/Kohl... m        m        574 days 2a 4a yes          yes        other  NaN                4     2.0                0.046926  \n",
       "                                          /mnt/b/Google_Drive/PhD/Project with Janet/Labe... 3237    D9     D9     other                    Other      2007-10-19    NaT                59.0          Died        yes   Y     1.0-D9  NaT                NaT          2a      Died other CBarry             yes            pT4aN2aMx        3237        3237           no          4a      1.0 D9       Tumour 1.0   non-cohesive         59         2006-03-24   mod well /mnt/b/Google_Drive/PhD/Project with Janet/Kohl... m        m        574 days 2a 4a yes          yes        other  NaN                4     2.0                0.049819  \n",
       "...                                                                                                                                                                                                                                                                                                                                                                                                                                                                                                                                                                                                                                            ...  \n",
       "False False 6      False False False H    /mnt/b/Google_Drive/PhD/Project with Janet/Labe... 3585    E11    E11    oral tongue              Other      NaT           NaT                68.0          Alive       no    N     1.0-E11 2015-05-06         2019-05-16   1       alive      FG                 no             pT2N1            3585        3585           no          2       1.0 E11      Tumour NaN   non-cohesive         68         2010-05-13   mod      /mnt/b/Google_Drive/PhD/Project with Janet/Kohl... m        m        NaT      1  2  yes          no         tongue NaN                3     60.0               0.059507  \n",
       "                                                                                                                                                                                                                                                                                                                                                                                                                                                                                                                                                                                                                       60.0               0.043874  \n",
       "                                                                                                                                                                                                                                                                                                                                                                                                                                                                                                                                                                                                                       60.0               0.077686  \n",
       "                                                                                                                                                                                                                                                                                                                                                                                                                                                                                                                                                                                                                       60.0               0.049451  \n",
       "                                                                                                                                                                                                                                                                                                                                                                                                                                                                                                                                                                                                                       60.0               0.051826  \n",
       "\n",
       "[6480 rows x 169 columns]"
      ]
     },
     "execution_count": 37,
     "metadata": {},
     "output_type": "execute_result"
    }
   ],
   "source": [
    "sampled"
   ]
  },
  {
   "cell_type": "code",
   "execution_count": 36,
   "metadata": {
    "collapsed": true,
    "jupyter": {
     "outputs_hidden": true
    },
    "tags": []
   },
   "outputs": [
    {
     "data": {
      "application/vnd.jupyter.widget-view+json": {
       "model_id": "ad087758d5fb43ecb6496f14ebd56caf",
       "version_major": 2,
       "version_minor": 0
      },
      "text/plain": [
       "HBox(children=(FloatProgress(value=0.0, max=3.0), HTML(value='')))"
      ]
     },
     "metadata": {},
     "output_type": "display_data"
    },
    {
     "data": {
      "text/html": [
       "<span style=\"color:#4527A0\"><h1 style=\"font-size:18px\">Trial complete</h1></span>"
      ],
      "text/plain": [
       "<IPython.core.display.HTML object>"
      ]
     },
     "metadata": {},
     "output_type": "display_data"
    },
    {
     "data": {
      "text/html": [
       "<span style=\"color:#4527A0\"><h1 style=\"font-size:18px\">Trial summary</h1></span>"
      ],
      "text/plain": [
       "<IPython.core.display.HTML object>"
      ]
     },
     "metadata": {},
     "output_type": "display_data"
    },
    {
     "data": {
      "text/html": [
       "<span style=\"color:cyan\"> |-Trial ID: cbf79c2d2714e50af9633d279a603101</span>"
      ],
      "text/plain": [
       "<IPython.core.display.HTML object>"
      ]
     },
     "metadata": {},
     "output_type": "display_data"
    },
    {
     "data": {
      "text/html": [
       "<span style=\"color:cyan\"> |-Score: 0.6231768077601381</span>"
      ],
      "text/plain": [
       "<IPython.core.display.HTML object>"
      ]
     },
     "metadata": {},
     "output_type": "display_data"
    },
    {
     "data": {
      "text/html": [
       "<span style=\"color:cyan\"> |-Best step: 0</span>"
      ],
      "text/plain": [
       "<IPython.core.display.HTML object>"
      ]
     },
     "metadata": {},
     "output_type": "display_data"
    },
    {
     "data": {
      "text/html": [
       "<span style=\"color:#7E57C2\"><h2 style=\"font-size:16px\">Hyperparameters:</h2></span>"
      ],
      "text/plain": [
       "<IPython.core.display.HTML object>"
      ]
     },
     "metadata": {},
     "output_type": "display_data"
    },
    {
     "data": {
      "text/html": [
       "<span style=\"color:cyan\"> |-C: 0.23763389079747588</span>"
      ],
      "text/plain": [
       "<IPython.core.display.HTML object>"
      ]
     },
     "metadata": {},
     "output_type": "display_data"
    },
    {
     "data": {
      "text/html": [
       "<span style=\"color:blue\"> |-PCA_components: 124</span>"
      ],
      "text/plain": [
       "<IPython.core.display.HTML object>"
      ]
     },
     "metadata": {},
     "output_type": "display_data"
    },
    {
     "data": {
      "text/html": [
       "<span style=\"color:cyan\"> |-Penalty: l2</span>"
      ],
      "text/plain": [
       "<IPython.core.display.HTML object>"
      ]
     },
     "metadata": {},
     "output_type": "display_data"
    },
    {
     "data": {
      "text/html": [
       "<span style=\"color:blue\"> |-Tolerance: 0.3611249243092477</span>"
      ],
      "text/plain": [
       "<IPython.core.display.HTML object>"
      ]
     },
     "metadata": {},
     "output_type": "display_data"
    },
    {
     "data": {
      "text/html": [
       "<span style=\"color:cyan\"> |-scale1: MinMax</span>"
      ],
      "text/plain": [
       "<IPython.core.display.HTML object>"
      ]
     },
     "metadata": {},
     "output_type": "display_data"
    },
    {
     "data": {
      "text/html": [
       "<span style=\"color:blue\"> |-scale2: Robust</span>"
      ],
      "text/plain": [
       "<IPython.core.display.HTML object>"
      ]
     },
     "metadata": {},
     "output_type": "display_data"
    },
    {
     "data": {
      "text/html": [
       "<span style=\"color:#4527A0\"><h1 style=\"font-size:18px\">Trial complete</h1></span>"
      ],
      "text/plain": [
       "<IPython.core.display.HTML object>"
      ]
     },
     "metadata": {},
     "output_type": "display_data"
    },
    {
     "data": {
      "text/html": [
       "<span style=\"color:#4527A0\"><h1 style=\"font-size:18px\">Trial summary</h1></span>"
      ],
      "text/plain": [
       "<IPython.core.display.HTML object>"
      ]
     },
     "metadata": {},
     "output_type": "display_data"
    },
    {
     "data": {
      "text/html": [
       "<span style=\"color:cyan\"> |-Trial ID: 3bc8cc960b3cf23e1484de1ed8f2c6b4</span>"
      ],
      "text/plain": [
       "<IPython.core.display.HTML object>"
      ]
     },
     "metadata": {},
     "output_type": "display_data"
    },
    {
     "data": {
      "text/html": [
       "<span style=\"color:cyan\"> |-Score: 0.27938618623031874</span>"
      ],
      "text/plain": [
       "<IPython.core.display.HTML object>"
      ]
     },
     "metadata": {},
     "output_type": "display_data"
    },
    {
     "data": {
      "text/html": [
       "<span style=\"color:cyan\"> |-Best step: 0</span>"
      ],
      "text/plain": [
       "<IPython.core.display.HTML object>"
      ]
     },
     "metadata": {},
     "output_type": "display_data"
    },
    {
     "data": {
      "text/html": [
       "<span style=\"color:#7E57C2\"><h2 style=\"font-size:16px\">Hyperparameters:</h2></span>"
      ],
      "text/plain": [
       "<IPython.core.display.HTML object>"
      ]
     },
     "metadata": {},
     "output_type": "display_data"
    },
    {
     "data": {
      "text/html": [
       "<span style=\"color:cyan\"> |-C: 0.2661360005899897</span>"
      ],
      "text/plain": [
       "<IPython.core.display.HTML object>"
      ]
     },
     "metadata": {},
     "output_type": "display_data"
    },
    {
     "data": {
      "text/html": [
       "<span style=\"color:blue\"> |-PCA_components: 87</span>"
      ],
      "text/plain": [
       "<IPython.core.display.HTML object>"
      ]
     },
     "metadata": {},
     "output_type": "display_data"
    },
    {
     "data": {
      "text/html": [
       "<span style=\"color:cyan\"> |-Penalty: l2</span>"
      ],
      "text/plain": [
       "<IPython.core.display.HTML object>"
      ]
     },
     "metadata": {},
     "output_type": "display_data"
    },
    {
     "data": {
      "text/html": [
       "<span style=\"color:blue\"> |-Tolerance: 0.6456364894850949</span>"
      ],
      "text/plain": [
       "<IPython.core.display.HTML object>"
      ]
     },
     "metadata": {},
     "output_type": "display_data"
    },
    {
     "data": {
      "text/html": [
       "<span style=\"color:cyan\"> |-scale1: Robust</span>"
      ],
      "text/plain": [
       "<IPython.core.display.HTML object>"
      ]
     },
     "metadata": {},
     "output_type": "display_data"
    },
    {
     "data": {
      "text/html": [
       "<span style=\"color:blue\"> |-scale2: Normalize</span>"
      ],
      "text/plain": [
       "<IPython.core.display.HTML object>"
      ]
     },
     "metadata": {},
     "output_type": "display_data"
    },
    {
     "data": {
      "text/html": [
       "<span style=\"color:#4527A0\"><h1 style=\"font-size:18px\">Trial complete</h1></span>"
      ],
      "text/plain": [
       "<IPython.core.display.HTML object>"
      ]
     },
     "metadata": {},
     "output_type": "display_data"
    },
    {
     "data": {
      "text/html": [
       "<span style=\"color:#4527A0\"><h1 style=\"font-size:18px\">Trial summary</h1></span>"
      ],
      "text/plain": [
       "<IPython.core.display.HTML object>"
      ]
     },
     "metadata": {},
     "output_type": "display_data"
    },
    {
     "data": {
      "text/html": [
       "<span style=\"color:cyan\"> |-Trial ID: bc3cf3c0416e03f5234a0f6ee9a4effa</span>"
      ],
      "text/plain": [
       "<IPython.core.display.HTML object>"
      ]
     },
     "metadata": {},
     "output_type": "display_data"
    },
    {
     "data": {
      "text/html": [
       "<span style=\"color:cyan\"> |-Score: 0.5038047063818634</span>"
      ],
      "text/plain": [
       "<IPython.core.display.HTML object>"
      ]
     },
     "metadata": {},
     "output_type": "display_data"
    },
    {
     "data": {
      "text/html": [
       "<span style=\"color:cyan\"> |-Best step: 0</span>"
      ],
      "text/plain": [
       "<IPython.core.display.HTML object>"
      ]
     },
     "metadata": {},
     "output_type": "display_data"
    },
    {
     "data": {
      "text/html": [
       "<span style=\"color:#7E57C2\"><h2 style=\"font-size:16px\">Hyperparameters:</h2></span>"
      ],
      "text/plain": [
       "<IPython.core.display.HTML object>"
      ]
     },
     "metadata": {},
     "output_type": "display_data"
    },
    {
     "data": {
      "text/html": [
       "<span style=\"color:cyan\"> |-C: 0.6277602006469524</span>"
      ],
      "text/plain": [
       "<IPython.core.display.HTML object>"
      ]
     },
     "metadata": {},
     "output_type": "display_data"
    },
    {
     "data": {
      "text/html": [
       "<span style=\"color:blue\"> |-PCA_components: 55</span>"
      ],
      "text/plain": [
       "<IPython.core.display.HTML object>"
      ]
     },
     "metadata": {},
     "output_type": "display_data"
    },
    {
     "data": {
      "text/html": [
       "<span style=\"color:cyan\"> |-Penalty: l2</span>"
      ],
      "text/plain": [
       "<IPython.core.display.HTML object>"
      ]
     },
     "metadata": {},
     "output_type": "display_data"
    },
    {
     "data": {
      "text/html": [
       "<span style=\"color:blue\"> |-Tolerance: 0.4743574638975413</span>"
      ],
      "text/plain": [
       "<IPython.core.display.HTML object>"
      ]
     },
     "metadata": {},
     "output_type": "display_data"
    },
    {
     "data": {
      "text/html": [
       "<span style=\"color:cyan\"> |-scale1: Robust</span>"
      ],
      "text/plain": [
       "<IPython.core.display.HTML object>"
      ]
     },
     "metadata": {},
     "output_type": "display_data"
    },
    {
     "data": {
      "text/html": [
       "<span style=\"color:blue\"> |-scale2: MinMax</span>"
      ],
      "text/plain": [
       "<IPython.core.display.HTML object>"
      ]
     },
     "metadata": {},
     "output_type": "display_data"
    },
    {
     "data": {
      "text/html": [
       "<span style=\"color:#4527A0\"><h1 style=\"font-size:18px\">Trial complete</h1></span>"
      ],
      "text/plain": [
       "<IPython.core.display.HTML object>"
      ]
     },
     "metadata": {},
     "output_type": "display_data"
    },
    {
     "data": {
      "text/html": [
       "<span style=\"color:#4527A0\"><h1 style=\"font-size:18px\">Trial summary</h1></span>"
      ],
      "text/plain": [
       "<IPython.core.display.HTML object>"
      ]
     },
     "metadata": {},
     "output_type": "display_data"
    },
    {
     "data": {
      "text/html": [
       "<span style=\"color:cyan\"> |-Trial ID: 1f34f91ed77a8d10def8a12ecc060237</span>"
      ],
      "text/plain": [
       "<IPython.core.display.HTML object>"
      ]
     },
     "metadata": {},
     "output_type": "display_data"
    },
    {
     "data": {
      "text/html": [
       "<span style=\"color:cyan\"> |-Score: 0.3995640432098724</span>"
      ],
      "text/plain": [
       "<IPython.core.display.HTML object>"
      ]
     },
     "metadata": {},
     "output_type": "display_data"
    },
    {
     "data": {
      "text/html": [
       "<span style=\"color:cyan\"> |-Best step: 0</span>"
      ],
      "text/plain": [
       "<IPython.core.display.HTML object>"
      ]
     },
     "metadata": {},
     "output_type": "display_data"
    },
    {
     "data": {
      "text/html": [
       "<span style=\"color:#7E57C2\"><h2 style=\"font-size:16px\">Hyperparameters:</h2></span>"
      ],
      "text/plain": [
       "<IPython.core.display.HTML object>"
      ]
     },
     "metadata": {},
     "output_type": "display_data"
    },
    {
     "data": {
      "text/html": [
       "<span style=\"color:cyan\"> |-C: 0.4353800210162224</span>"
      ],
      "text/plain": [
       "<IPython.core.display.HTML object>"
      ]
     },
     "metadata": {},
     "output_type": "display_data"
    },
    {
     "data": {
      "text/html": [
       "<span style=\"color:blue\"> |-PCA_components: 135</span>"
      ],
      "text/plain": [
       "<IPython.core.display.HTML object>"
      ]
     },
     "metadata": {},
     "output_type": "display_data"
    },
    {
     "data": {
      "text/html": [
       "<span style=\"color:cyan\"> |-Penalty: l2</span>"
      ],
      "text/plain": [
       "<IPython.core.display.HTML object>"
      ]
     },
     "metadata": {},
     "output_type": "display_data"
    },
    {
     "data": {
      "text/html": [
       "<span style=\"color:blue\"> |-Tolerance: 0.22197157278659319</span>"
      ],
      "text/plain": [
       "<IPython.core.display.HTML object>"
      ]
     },
     "metadata": {},
     "output_type": "display_data"
    },
    {
     "data": {
      "text/html": [
       "<span style=\"color:cyan\"> |-scale1: MinMax</span>"
      ],
      "text/plain": [
       "<IPython.core.display.HTML object>"
      ]
     },
     "metadata": {},
     "output_type": "display_data"
    },
    {
     "data": {
      "text/html": [
       "<span style=\"color:blue\"> |-scale2: MinMax</span>"
      ],
      "text/plain": [
       "<IPython.core.display.HTML object>"
      ]
     },
     "metadata": {},
     "output_type": "display_data"
    },
    {
     "data": {
      "text/html": [
       "<span style=\"color:#4527A0\"><h1 style=\"font-size:18px\">Trial complete</h1></span>"
      ],
      "text/plain": [
       "<IPython.core.display.HTML object>"
      ]
     },
     "metadata": {},
     "output_type": "display_data"
    },
    {
     "data": {
      "text/html": [
       "<span style=\"color:#4527A0\"><h1 style=\"font-size:18px\">Trial summary</h1></span>"
      ],
      "text/plain": [
       "<IPython.core.display.HTML object>"
      ]
     },
     "metadata": {},
     "output_type": "display_data"
    },
    {
     "data": {
      "text/html": [
       "<span style=\"color:cyan\"> |-Trial ID: 9cb2875fda0b946c33db366cdbf6b52f</span>"
      ],
      "text/plain": [
       "<IPython.core.display.HTML object>"
      ]
     },
     "metadata": {},
     "output_type": "display_data"
    },
    {
     "data": {
      "text/html": [
       "<span style=\"color:cyan\"> |-Score: 0.390425382944669</span>"
      ],
      "text/plain": [
       "<IPython.core.display.HTML object>"
      ]
     },
     "metadata": {},
     "output_type": "display_data"
    },
    {
     "data": {
      "text/html": [
       "<span style=\"color:cyan\"> |-Best step: 0</span>"
      ],
      "text/plain": [
       "<IPython.core.display.HTML object>"
      ]
     },
     "metadata": {},
     "output_type": "display_data"
    },
    {
     "data": {
      "text/html": [
       "<span style=\"color:#7E57C2\"><h2 style=\"font-size:16px\">Hyperparameters:</h2></span>"
      ],
      "text/plain": [
       "<IPython.core.display.HTML object>"
      ]
     },
     "metadata": {},
     "output_type": "display_data"
    },
    {
     "data": {
      "text/html": [
       "<span style=\"color:cyan\"> |-C: 0.8180057734860374</span>"
      ],
      "text/plain": [
       "<IPython.core.display.HTML object>"
      ]
     },
     "metadata": {},
     "output_type": "display_data"
    },
    {
     "data": {
      "text/html": [
       "<span style=\"color:blue\"> |-PCA_components: 150</span>"
      ],
      "text/plain": [
       "<IPython.core.display.HTML object>"
      ]
     },
     "metadata": {},
     "output_type": "display_data"
    },
    {
     "data": {
      "text/html": [
       "<span style=\"color:cyan\"> |-Penalty: l2</span>"
      ],
      "text/plain": [
       "<IPython.core.display.HTML object>"
      ]
     },
     "metadata": {},
     "output_type": "display_data"
    },
    {
     "data": {
      "text/html": [
       "<span style=\"color:blue\"> |-Tolerance: 0.8105892318506367</span>"
      ],
      "text/plain": [
       "<IPython.core.display.HTML object>"
      ]
     },
     "metadata": {},
     "output_type": "display_data"
    },
    {
     "data": {
      "text/html": [
       "<span style=\"color:cyan\"> |-scale1: MinMax</span>"
      ],
      "text/plain": [
       "<IPython.core.display.HTML object>"
      ]
     },
     "metadata": {},
     "output_type": "display_data"
    },
    {
     "data": {
      "text/html": [
       "<span style=\"color:blue\"> |-scale2: MinMax</span>"
      ],
      "text/plain": [
       "<IPython.core.display.HTML object>"
      ]
     },
     "metadata": {},
     "output_type": "display_data"
    },
    {
     "data": {
      "text/html": [
       "<span style=\"color:#4527A0\"><h1 style=\"font-size:18px\">Trial complete</h1></span>"
      ],
      "text/plain": [
       "<IPython.core.display.HTML object>"
      ]
     },
     "metadata": {},
     "output_type": "display_data"
    },
    {
     "data": {
      "text/html": [
       "<span style=\"color:#4527A0\"><h1 style=\"font-size:18px\">Trial summary</h1></span>"
      ],
      "text/plain": [
       "<IPython.core.display.HTML object>"
      ]
     },
     "metadata": {},
     "output_type": "display_data"
    },
    {
     "data": {
      "text/html": [
       "<span style=\"color:cyan\"> |-Trial ID: e164d5ddd6516123276c8d2da4b0fef3</span>"
      ],
      "text/plain": [
       "<IPython.core.display.HTML object>"
      ]
     },
     "metadata": {},
     "output_type": "display_data"
    },
    {
     "data": {
      "text/html": [
       "<span style=\"color:cyan\"> |-Score: 0.4463229962766956</span>"
      ],
      "text/plain": [
       "<IPython.core.display.HTML object>"
      ]
     },
     "metadata": {},
     "output_type": "display_data"
    },
    {
     "data": {
      "text/html": [
       "<span style=\"color:cyan\"> |-Best step: 0</span>"
      ],
      "text/plain": [
       "<IPython.core.display.HTML object>"
      ]
     },
     "metadata": {},
     "output_type": "display_data"
    },
    {
     "data": {
      "text/html": [
       "<span style=\"color:#7E57C2\"><h2 style=\"font-size:16px\">Hyperparameters:</h2></span>"
      ],
      "text/plain": [
       "<IPython.core.display.HTML object>"
      ]
     },
     "metadata": {},
     "output_type": "display_data"
    },
    {
     "data": {
      "text/html": [
       "<span style=\"color:cyan\"> |-C: 0.5340145957716717</span>"
      ],
      "text/plain": [
       "<IPython.core.display.HTML object>"
      ]
     },
     "metadata": {},
     "output_type": "display_data"
    },
    {
     "data": {
      "text/html": [
       "<span style=\"color:blue\"> |-PCA_components: 45</span>"
      ],
      "text/plain": [
       "<IPython.core.display.HTML object>"
      ]
     },
     "metadata": {},
     "output_type": "display_data"
    },
    {
     "data": {
      "text/html": [
       "<span style=\"color:cyan\"> |-Penalty: l2</span>"
      ],
      "text/plain": [
       "<IPython.core.display.HTML object>"
      ]
     },
     "metadata": {},
     "output_type": "display_data"
    },
    {
     "data": {
      "text/html": [
       "<span style=\"color:blue\"> |-Tolerance: 0.2931919790709123</span>"
      ],
      "text/plain": [
       "<IPython.core.display.HTML object>"
      ]
     },
     "metadata": {},
     "output_type": "display_data"
    },
    {
     "data": {
      "text/html": [
       "<span style=\"color:cyan\"> |-scale1: Robust</span>"
      ],
      "text/plain": [
       "<IPython.core.display.HTML object>"
      ]
     },
     "metadata": {},
     "output_type": "display_data"
    },
    {
     "data": {
      "text/html": [
       "<span style=\"color:blue\"> |-scale2: Robust</span>"
      ],
      "text/plain": [
       "<IPython.core.display.HTML object>"
      ]
     },
     "metadata": {},
     "output_type": "display_data"
    },
    {
     "name": "stderr",
     "output_type": "stream",
     "text": [
      "/home/conor/miniconda3/envs/PHD/lib/python3.8/site-packages/sklearn/linear_model/_sag.py:329: ConvergenceWarning: The max_iter was reached which means the coef_ did not converge\n",
      "  warnings.warn(\"The max_iter was reached which means \"\n",
      "/home/conor/miniconda3/envs/PHD/lib/python3.8/site-packages/sklearn/linear_model/_sag.py:329: ConvergenceWarning: The max_iter was reached which means the coef_ did not converge\n",
      "  warnings.warn(\"The max_iter was reached which means \"\n",
      "/home/conor/miniconda3/envs/PHD/lib/python3.8/site-packages/sklearn/linear_model/_sag.py:329: ConvergenceWarning: The max_iter was reached which means the coef_ did not converge\n",
      "  warnings.warn(\"The max_iter was reached which means \"\n",
      "/home/conor/miniconda3/envs/PHD/lib/python3.8/site-packages/sklearn/linear_model/_sag.py:329: ConvergenceWarning: The max_iter was reached which means the coef_ did not converge\n",
      "  warnings.warn(\"The max_iter was reached which means \"\n",
      "/home/conor/miniconda3/envs/PHD/lib/python3.8/site-packages/sklearn/linear_model/_sag.py:329: ConvergenceWarning: The max_iter was reached which means the coef_ did not converge\n",
      "  warnings.warn(\"The max_iter was reached which means \"\n",
      "/home/conor/miniconda3/envs/PHD/lib/python3.8/site-packages/sklearn/linear_model/_sag.py:329: ConvergenceWarning: The max_iter was reached which means the coef_ did not converge\n",
      "  warnings.warn(\"The max_iter was reached which means \"\n",
      "/home/conor/miniconda3/envs/PHD/lib/python3.8/site-packages/sklearn/linear_model/_sag.py:329: ConvergenceWarning: The max_iter was reached which means the coef_ did not converge\n",
      "  warnings.warn(\"The max_iter was reached which means \"\n",
      "/home/conor/miniconda3/envs/PHD/lib/python3.8/site-packages/sklearn/linear_model/_sag.py:329: ConvergenceWarning: The max_iter was reached which means the coef_ did not converge\n",
      "  warnings.warn(\"The max_iter was reached which means \"\n",
      "/home/conor/miniconda3/envs/PHD/lib/python3.8/site-packages/sklearn/linear_model/_sag.py:329: ConvergenceWarning: The max_iter was reached which means the coef_ did not converge\n",
      "  warnings.warn(\"The max_iter was reached which means \"\n",
      "/home/conor/miniconda3/envs/PHD/lib/python3.8/site-packages/sklearn/linear_model/_sag.py:329: ConvergenceWarning: The max_iter was reached which means the coef_ did not converge\n",
      "  warnings.warn(\"The max_iter was reached which means \"\n"
     ]
    },
    {
     "data": {
      "text/html": [
       "<span style=\"color:#4527A0\"><h1 style=\"font-size:18px\">Trial complete</h1></span>"
      ],
      "text/plain": [
       "<IPython.core.display.HTML object>"
      ]
     },
     "metadata": {},
     "output_type": "display_data"
    },
    {
     "data": {
      "text/html": [
       "<span style=\"color:#4527A0\"><h1 style=\"font-size:18px\">Trial summary</h1></span>"
      ],
      "text/plain": [
       "<IPython.core.display.HTML object>"
      ]
     },
     "metadata": {},
     "output_type": "display_data"
    },
    {
     "data": {
      "text/html": [
       "<span style=\"color:cyan\"> |-Trial ID: 8df357ff05a5c28e6f7d1f1cd102b12e</span>"
      ],
      "text/plain": [
       "<IPython.core.display.HTML object>"
      ]
     },
     "metadata": {},
     "output_type": "display_data"
    },
    {
     "data": {
      "text/html": [
       "<span style=\"color:cyan\"> |-Score: 0.3135188655366087</span>"
      ],
      "text/plain": [
       "<IPython.core.display.HTML object>"
      ]
     },
     "metadata": {},
     "output_type": "display_data"
    },
    {
     "data": {
      "text/html": [
       "<span style=\"color:cyan\"> |-Best step: 0</span>"
      ],
      "text/plain": [
       "<IPython.core.display.HTML object>"
      ]
     },
     "metadata": {},
     "output_type": "display_data"
    },
    {
     "data": {
      "text/html": [
       "<span style=\"color:#7E57C2\"><h2 style=\"font-size:16px\">Hyperparameters:</h2></span>"
      ],
      "text/plain": [
       "<IPython.core.display.HTML object>"
      ]
     },
     "metadata": {},
     "output_type": "display_data"
    },
    {
     "data": {
      "text/html": [
       "<span style=\"color:cyan\"> |-C: 0.18339078211064047</span>"
      ],
      "text/plain": [
       "<IPython.core.display.HTML object>"
      ]
     },
     "metadata": {},
     "output_type": "display_data"
    },
    {
     "data": {
      "text/html": [
       "<span style=\"color:blue\"> |-PCA_components: 133</span>"
      ],
      "text/plain": [
       "<IPython.core.display.HTML object>"
      ]
     },
     "metadata": {},
     "output_type": "display_data"
    },
    {
     "data": {
      "text/html": [
       "<span style=\"color:cyan\"> |-Penalty: l2</span>"
      ],
      "text/plain": [
       "<IPython.core.display.HTML object>"
      ]
     },
     "metadata": {},
     "output_type": "display_data"
    },
    {
     "data": {
      "text/html": [
       "<span style=\"color:blue\"> |-Tolerance: 0.024981930047184853</span>"
      ],
      "text/plain": [
       "<IPython.core.display.HTML object>"
      ]
     },
     "metadata": {},
     "output_type": "display_data"
    },
    {
     "data": {
      "text/html": [
       "<span style=\"color:cyan\"> |-scale1: Robust</span>"
      ],
      "text/plain": [
       "<IPython.core.display.HTML object>"
      ]
     },
     "metadata": {},
     "output_type": "display_data"
    },
    {
     "data": {
      "text/html": [
       "<span style=\"color:blue\"> |-scale2: Normalize</span>"
      ],
      "text/plain": [
       "<IPython.core.display.HTML object>"
      ]
     },
     "metadata": {},
     "output_type": "display_data"
    },
    {
     "data": {
      "text/html": [
       "<span style=\"color:#4527A0\"><h1 style=\"font-size:18px\">Trial complete</h1></span>"
      ],
      "text/plain": [
       "<IPython.core.display.HTML object>"
      ]
     },
     "metadata": {},
     "output_type": "display_data"
    },
    {
     "data": {
      "text/html": [
       "<span style=\"color:#4527A0\"><h1 style=\"font-size:18px\">Trial summary</h1></span>"
      ],
      "text/plain": [
       "<IPython.core.display.HTML object>"
      ]
     },
     "metadata": {},
     "output_type": "display_data"
    },
    {
     "data": {
      "text/html": [
       "<span style=\"color:cyan\"> |-Trial ID: 89ff65f6294fc83f89c7746faaee0745</span>"
      ],
      "text/plain": [
       "<IPython.core.display.HTML object>"
      ]
     },
     "metadata": {},
     "output_type": "display_data"
    },
    {
     "data": {
      "text/html": [
       "<span style=\"color:cyan\"> |-Score: 0.19217280276307974</span>"
      ],
      "text/plain": [
       "<IPython.core.display.HTML object>"
      ]
     },
     "metadata": {},
     "output_type": "display_data"
    },
    {
     "data": {
      "text/html": [
       "<span style=\"color:cyan\"> |-Best step: 0</span>"
      ],
      "text/plain": [
       "<IPython.core.display.HTML object>"
      ]
     },
     "metadata": {},
     "output_type": "display_data"
    },
    {
     "data": {
      "text/html": [
       "<span style=\"color:#7E57C2\"><h2 style=\"font-size:16px\">Hyperparameters:</h2></span>"
      ],
      "text/plain": [
       "<IPython.core.display.HTML object>"
      ]
     },
     "metadata": {},
     "output_type": "display_data"
    },
    {
     "data": {
      "text/html": [
       "<span style=\"color:cyan\"> |-C: 0.2676445538949674</span>"
      ],
      "text/plain": [
       "<IPython.core.display.HTML object>"
      ]
     },
     "metadata": {},
     "output_type": "display_data"
    },
    {
     "data": {
      "text/html": [
       "<span style=\"color:blue\"> |-PCA_components: 126</span>"
      ],
      "text/plain": [
       "<IPython.core.display.HTML object>"
      ]
     },
     "metadata": {},
     "output_type": "display_data"
    },
    {
     "data": {
      "text/html": [
       "<span style=\"color:cyan\"> |-Penalty: l2</span>"
      ],
      "text/plain": [
       "<IPython.core.display.HTML object>"
      ]
     },
     "metadata": {},
     "output_type": "display_data"
    },
    {
     "data": {
      "text/html": [
       "<span style=\"color:blue\"> |-Tolerance: 0.7046635883395103</span>"
      ],
      "text/plain": [
       "<IPython.core.display.HTML object>"
      ]
     },
     "metadata": {},
     "output_type": "display_data"
    },
    {
     "data": {
      "text/html": [
       "<span style=\"color:cyan\"> |-scale1: Normalize</span>"
      ],
      "text/plain": [
       "<IPython.core.display.HTML object>"
      ]
     },
     "metadata": {},
     "output_type": "display_data"
    },
    {
     "data": {
      "text/html": [
       "<span style=\"color:blue\"> |-scale2: Normalize</span>"
      ],
      "text/plain": [
       "<IPython.core.display.HTML object>"
      ]
     },
     "metadata": {},
     "output_type": "display_data"
    },
    {
     "data": {
      "text/html": [
       "<span style=\"color:#4527A0\"><h1 style=\"font-size:18px\">Trial complete</h1></span>"
      ],
      "text/plain": [
       "<IPython.core.display.HTML object>"
      ]
     },
     "metadata": {},
     "output_type": "display_data"
    },
    {
     "data": {
      "text/html": [
       "<span style=\"color:#4527A0\"><h1 style=\"font-size:18px\">Trial summary</h1></span>"
      ],
      "text/plain": [
       "<IPython.core.display.HTML object>"
      ]
     },
     "metadata": {},
     "output_type": "display_data"
    },
    {
     "data": {
      "text/html": [
       "<span style=\"color:cyan\"> |-Trial ID: 594362165e2abafd019a98ae57c4561b</span>"
      ],
      "text/plain": [
       "<IPython.core.display.HTML object>"
      ]
     },
     "metadata": {},
     "output_type": "display_data"
    },
    {
     "data": {
      "text/html": [
       "<span style=\"color:cyan\"> |-Score: 0.4170787812724506</span>"
      ],
      "text/plain": [
       "<IPython.core.display.HTML object>"
      ]
     },
     "metadata": {},
     "output_type": "display_data"
    },
    {
     "data": {
      "text/html": [
       "<span style=\"color:cyan\"> |-Best step: 0</span>"
      ],
      "text/plain": [
       "<IPython.core.display.HTML object>"
      ]
     },
     "metadata": {},
     "output_type": "display_data"
    },
    {
     "data": {
      "text/html": [
       "<span style=\"color:#7E57C2\"><h2 style=\"font-size:16px\">Hyperparameters:</h2></span>"
      ],
      "text/plain": [
       "<IPython.core.display.HTML object>"
      ]
     },
     "metadata": {},
     "output_type": "display_data"
    },
    {
     "data": {
      "text/html": [
       "<span style=\"color:cyan\"> |-C: 0.7188060172861342</span>"
      ],
      "text/plain": [
       "<IPython.core.display.HTML object>"
      ]
     },
     "metadata": {},
     "output_type": "display_data"
    },
    {
     "data": {
      "text/html": [
       "<span style=\"color:blue\"> |-PCA_components: 15</span>"
      ],
      "text/plain": [
       "<IPython.core.display.HTML object>"
      ]
     },
     "metadata": {},
     "output_type": "display_data"
    },
    {
     "data": {
      "text/html": [
       "<span style=\"color:cyan\"> |-Penalty: l2</span>"
      ],
      "text/plain": [
       "<IPython.core.display.HTML object>"
      ]
     },
     "metadata": {},
     "output_type": "display_data"
    },
    {
     "data": {
      "text/html": [
       "<span style=\"color:blue\"> |-Tolerance: 0.38779431426815725</span>"
      ],
      "text/plain": [
       "<IPython.core.display.HTML object>"
      ]
     },
     "metadata": {},
     "output_type": "display_data"
    },
    {
     "data": {
      "text/html": [
       "<span style=\"color:cyan\"> |-scale1: MinMax</span>"
      ],
      "text/plain": [
       "<IPython.core.display.HTML object>"
      ]
     },
     "metadata": {},
     "output_type": "display_data"
    },
    {
     "data": {
      "text/html": [
       "<span style=\"color:blue\"> |-scale2: Normalize</span>"
      ],
      "text/plain": [
       "<IPython.core.display.HTML object>"
      ]
     },
     "metadata": {},
     "output_type": "display_data"
    },
    {
     "data": {
      "text/html": [
       "<span style=\"color:#4527A0\"><h1 style=\"font-size:18px\">Trial complete</h1></span>"
      ],
      "text/plain": [
       "<IPython.core.display.HTML object>"
      ]
     },
     "metadata": {},
     "output_type": "display_data"
    },
    {
     "data": {
      "text/html": [
       "<span style=\"color:#4527A0\"><h1 style=\"font-size:18px\">Trial summary</h1></span>"
      ],
      "text/plain": [
       "<IPython.core.display.HTML object>"
      ]
     },
     "metadata": {},
     "output_type": "display_data"
    },
    {
     "data": {
      "text/html": [
       "<span style=\"color:cyan\"> |-Trial ID: 81f6eb3fa12c2b8bed76c28f8d6a9dba</span>"
      ],
      "text/plain": [
       "<IPython.core.display.HTML object>"
      ]
     },
     "metadata": {},
     "output_type": "display_data"
    },
    {
     "data": {
      "text/html": [
       "<span style=\"color:cyan\"> |-Score: 0.361865671337118</span>"
      ],
      "text/plain": [
       "<IPython.core.display.HTML object>"
      ]
     },
     "metadata": {},
     "output_type": "display_data"
    },
    {
     "data": {
      "text/html": [
       "<span style=\"color:cyan\"> |-Best step: 0</span>"
      ],
      "text/plain": [
       "<IPython.core.display.HTML object>"
      ]
     },
     "metadata": {},
     "output_type": "display_data"
    },
    {
     "data": {
      "text/html": [
       "<span style=\"color:#7E57C2\"><h2 style=\"font-size:16px\">Hyperparameters:</h2></span>"
      ],
      "text/plain": [
       "<IPython.core.display.HTML object>"
      ]
     },
     "metadata": {},
     "output_type": "display_data"
    },
    {
     "data": {
      "text/html": [
       "<span style=\"color:cyan\"> |-C: 0.15497219557052277</span>"
      ],
      "text/plain": [
       "<IPython.core.display.HTML object>"
      ]
     },
     "metadata": {},
     "output_type": "display_data"
    },
    {
     "data": {
      "text/html": [
       "<span style=\"color:blue\"> |-PCA_components: 13</span>"
      ],
      "text/plain": [
       "<IPython.core.display.HTML object>"
      ]
     },
     "metadata": {},
     "output_type": "display_data"
    },
    {
     "data": {
      "text/html": [
       "<span style=\"color:cyan\"> |-Penalty: l2</span>"
      ],
      "text/plain": [
       "<IPython.core.display.HTML object>"
      ]
     },
     "metadata": {},
     "output_type": "display_data"
    },
    {
     "data": {
      "text/html": [
       "<span style=\"color:blue\"> |-Tolerance: 0.9479130727845408</span>"
      ],
      "text/plain": [
       "<IPython.core.display.HTML object>"
      ]
     },
     "metadata": {},
     "output_type": "display_data"
    },
    {
     "data": {
      "text/html": [
       "<span style=\"color:cyan\"> |-scale1: Normalize</span>"
      ],
      "text/plain": [
       "<IPython.core.display.HTML object>"
      ]
     },
     "metadata": {},
     "output_type": "display_data"
    },
    {
     "data": {
      "text/html": [
       "<span style=\"color:blue\"> |-scale2: Robust</span>"
      ],
      "text/plain": [
       "<IPython.core.display.HTML object>"
      ]
     },
     "metadata": {},
     "output_type": "display_data"
    },
    {
     "name": "stdout",
     "output_type": "stream",
     "text": [
      "INFO:tensorflow:Oracle triggered exit\n"
     ]
    },
    {
     "data": {
      "text/html": [
       "<span style=\"color:#4527A0\"><h1 style=\"font-size:18px\">Trial complete</h1></span>"
      ],
      "text/plain": [
       "<IPython.core.display.HTML object>"
      ]
     },
     "metadata": {},
     "output_type": "display_data"
    },
    {
     "data": {
      "text/html": [
       "<span style=\"color:#4527A0\"><h1 style=\"font-size:18px\">Trial summary</h1></span>"
      ],
      "text/plain": [
       "<IPython.core.display.HTML object>"
      ]
     },
     "metadata": {},
     "output_type": "display_data"
    },
    {
     "data": {
      "text/html": [
       "<span style=\"color:cyan\"> |-Trial ID: c57d1347781398333b5f78edd8325924</span>"
      ],
      "text/plain": [
       "<IPython.core.display.HTML object>"
      ]
     },
     "metadata": {},
     "output_type": "display_data"
    },
    {
     "data": {
      "text/html": [
       "<span style=\"color:cyan\"> |-Score: 0.3684376786122491</span>"
      ],
      "text/plain": [
       "<IPython.core.display.HTML object>"
      ]
     },
     "metadata": {},
     "output_type": "display_data"
    },
    {
     "data": {
      "text/html": [
       "<span style=\"color:cyan\"> |-Best step: 0</span>"
      ],
      "text/plain": [
       "<IPython.core.display.HTML object>"
      ]
     },
     "metadata": {},
     "output_type": "display_data"
    },
    {
     "data": {
      "text/html": [
       "<span style=\"color:#7E57C2\"><h2 style=\"font-size:16px\">Hyperparameters:</h2></span>"
      ],
      "text/plain": [
       "<IPython.core.display.HTML object>"
      ]
     },
     "metadata": {},
     "output_type": "display_data"
    },
    {
     "data": {
      "text/html": [
       "<span style=\"color:cyan\"> |-C: 0.3801166484421683</span>"
      ],
      "text/plain": [
       "<IPython.core.display.HTML object>"
      ]
     },
     "metadata": {},
     "output_type": "display_data"
    },
    {
     "data": {
      "text/html": [
       "<span style=\"color:blue\"> |-PCA_components: 122</span>"
      ],
      "text/plain": [
       "<IPython.core.display.HTML object>"
      ]
     },
     "metadata": {},
     "output_type": "display_data"
    },
    {
     "data": {
      "text/html": [
       "<span style=\"color:cyan\"> |-Penalty: l2</span>"
      ],
      "text/plain": [
       "<IPython.core.display.HTML object>"
      ]
     },
     "metadata": {},
     "output_type": "display_data"
    },
    {
     "data": {
      "text/html": [
       "<span style=\"color:blue\"> |-Tolerance: 0.3040034813416628</span>"
      ],
      "text/plain": [
       "<IPython.core.display.HTML object>"
      ]
     },
     "metadata": {},
     "output_type": "display_data"
    },
    {
     "data": {
      "text/html": [
       "<span style=\"color:cyan\"> |-scale1: Normalize</span>"
      ],
      "text/plain": [
       "<IPython.core.display.HTML object>"
      ]
     },
     "metadata": {},
     "output_type": "display_data"
    },
    {
     "data": {
      "text/html": [
       "<span style=\"color:blue\"> |-scale2: Robust</span>"
      ],
      "text/plain": [
       "<IPython.core.display.HTML object>"
      ]
     },
     "metadata": {},
     "output_type": "display_data"
    },
    {
     "data": {
      "text/html": [
       "<span style=\"color:#4527A0\"><h1 style=\"font-size:18px\">Trial complete</h1></span>"
      ],
      "text/plain": [
       "<IPython.core.display.HTML object>"
      ]
     },
     "metadata": {},
     "output_type": "display_data"
    },
    {
     "data": {
      "text/html": [
       "<span style=\"color:#4527A0\"><h1 style=\"font-size:18px\">Trial summary</h1></span>"
      ],
      "text/plain": [
       "<IPython.core.display.HTML object>"
      ]
     },
     "metadata": {},
     "output_type": "display_data"
    },
    {
     "data": {
      "text/html": [
       "<span style=\"color:cyan\"> |-Trial ID: 9f8a7509e49f1aebf346fff0c2a5fdb8</span>"
      ],
      "text/plain": [
       "<IPython.core.display.HTML object>"
      ]
     },
     "metadata": {},
     "output_type": "display_data"
    },
    {
     "data": {
      "text/html": [
       "<span style=\"color:cyan\"> |-Score: 0.44328007115911794</span>"
      ],
      "text/plain": [
       "<IPython.core.display.HTML object>"
      ]
     },
     "metadata": {},
     "output_type": "display_data"
    },
    {
     "data": {
      "text/html": [
       "<span style=\"color:cyan\"> |-Best step: 0</span>"
      ],
      "text/plain": [
       "<IPython.core.display.HTML object>"
      ]
     },
     "metadata": {},
     "output_type": "display_data"
    },
    {
     "data": {
      "text/html": [
       "<span style=\"color:#7E57C2\"><h2 style=\"font-size:16px\">Hyperparameters:</h2></span>"
      ],
      "text/plain": [
       "<IPython.core.display.HTML object>"
      ]
     },
     "metadata": {},
     "output_type": "display_data"
    },
    {
     "data": {
      "text/html": [
       "<span style=\"color:cyan\"> |-C: 0.6814120092113729</span>"
      ],
      "text/plain": [
       "<IPython.core.display.HTML object>"
      ]
     },
     "metadata": {},
     "output_type": "display_data"
    },
    {
     "data": {
      "text/html": [
       "<span style=\"color:blue\"> |-PCA_components: 153</span>"
      ],
      "text/plain": [
       "<IPython.core.display.HTML object>"
      ]
     },
     "metadata": {},
     "output_type": "display_data"
    },
    {
     "data": {
      "text/html": [
       "<span style=\"color:cyan\"> |-Penalty: l2</span>"
      ],
      "text/plain": [
       "<IPython.core.display.HTML object>"
      ]
     },
     "metadata": {},
     "output_type": "display_data"
    },
    {
     "data": {
      "text/html": [
       "<span style=\"color:blue\"> |-Tolerance: 0.8699071876697045</span>"
      ],
      "text/plain": [
       "<IPython.core.display.HTML object>"
      ]
     },
     "metadata": {},
     "output_type": "display_data"
    },
    {
     "data": {
      "text/html": [
       "<span style=\"color:cyan\"> |-scale1: MinMax</span>"
      ],
      "text/plain": [
       "<IPython.core.display.HTML object>"
      ]
     },
     "metadata": {},
     "output_type": "display_data"
    },
    {
     "data": {
      "text/html": [
       "<span style=\"color:blue\"> |-scale2: MinMax</span>"
      ],
      "text/plain": [
       "<IPython.core.display.HTML object>"
      ]
     },
     "metadata": {},
     "output_type": "display_data"
    },
    {
     "data": {
      "text/html": [
       "<span style=\"color:#4527A0\"><h1 style=\"font-size:18px\">Trial complete</h1></span>"
      ],
      "text/plain": [
       "<IPython.core.display.HTML object>"
      ]
     },
     "metadata": {},
     "output_type": "display_data"
    },
    {
     "data": {
      "text/html": [
       "<span style=\"color:#4527A0\"><h1 style=\"font-size:18px\">Trial summary</h1></span>"
      ],
      "text/plain": [
       "<IPython.core.display.HTML object>"
      ]
     },
     "metadata": {},
     "output_type": "display_data"
    },
    {
     "data": {
      "text/html": [
       "<span style=\"color:cyan\"> |-Trial ID: 0cab4e4a8be66554581f7b896fcf012d</span>"
      ],
      "text/plain": [
       "<IPython.core.display.HTML object>"
      ]
     },
     "metadata": {},
     "output_type": "display_data"
    },
    {
     "data": {
      "text/html": [
       "<span style=\"color:cyan\"> |-Score: 0.5442543831447142</span>"
      ],
      "text/plain": [
       "<IPython.core.display.HTML object>"
      ]
     },
     "metadata": {},
     "output_type": "display_data"
    },
    {
     "data": {
      "text/html": [
       "<span style=\"color:cyan\"> |-Best step: 0</span>"
      ],
      "text/plain": [
       "<IPython.core.display.HTML object>"
      ]
     },
     "metadata": {},
     "output_type": "display_data"
    },
    {
     "data": {
      "text/html": [
       "<span style=\"color:#7E57C2\"><h2 style=\"font-size:16px\">Hyperparameters:</h2></span>"
      ],
      "text/plain": [
       "<IPython.core.display.HTML object>"
      ]
     },
     "metadata": {},
     "output_type": "display_data"
    },
    {
     "data": {
      "text/html": [
       "<span style=\"color:cyan\"> |-C: 0.029447806816270437</span>"
      ],
      "text/plain": [
       "<IPython.core.display.HTML object>"
      ]
     },
     "metadata": {},
     "output_type": "display_data"
    },
    {
     "data": {
      "text/html": [
       "<span style=\"color:blue\"> |-PCA_components: 117</span>"
      ],
      "text/plain": [
       "<IPython.core.display.HTML object>"
      ]
     },
     "metadata": {},
     "output_type": "display_data"
    },
    {
     "data": {
      "text/html": [
       "<span style=\"color:cyan\"> |-Penalty: l2</span>"
      ],
      "text/plain": [
       "<IPython.core.display.HTML object>"
      ]
     },
     "metadata": {},
     "output_type": "display_data"
    },
    {
     "data": {
      "text/html": [
       "<span style=\"color:blue\"> |-Tolerance: 0.5248246916352045</span>"
      ],
      "text/plain": [
       "<IPython.core.display.HTML object>"
      ]
     },
     "metadata": {},
     "output_type": "display_data"
    },
    {
     "data": {
      "text/html": [
       "<span style=\"color:cyan\"> |-scale1: Robust</span>"
      ],
      "text/plain": [
       "<IPython.core.display.HTML object>"
      ]
     },
     "metadata": {},
     "output_type": "display_data"
    },
    {
     "data": {
      "text/html": [
       "<span style=\"color:blue\"> |-scale2: Normalize</span>"
      ],
      "text/plain": [
       "<IPython.core.display.HTML object>"
      ]
     },
     "metadata": {},
     "output_type": "display_data"
    },
    {
     "data": {
      "text/html": [
       "<span style=\"color:#4527A0\"><h1 style=\"font-size:18px\">Trial complete</h1></span>"
      ],
      "text/plain": [
       "<IPython.core.display.HTML object>"
      ]
     },
     "metadata": {},
     "output_type": "display_data"
    },
    {
     "data": {
      "text/html": [
       "<span style=\"color:#4527A0\"><h1 style=\"font-size:18px\">Trial summary</h1></span>"
      ],
      "text/plain": [
       "<IPython.core.display.HTML object>"
      ]
     },
     "metadata": {},
     "output_type": "display_data"
    },
    {
     "data": {
      "text/html": [
       "<span style=\"color:cyan\"> |-Trial ID: 53fa59a4f8ae0fe19950ce75975bbd87</span>"
      ],
      "text/plain": [
       "<IPython.core.display.HTML object>"
      ]
     },
     "metadata": {},
     "output_type": "display_data"
    },
    {
     "data": {
      "text/html": [
       "<span style=\"color:cyan\"> |-Score: 0.4375127171924965</span>"
      ],
      "text/plain": [
       "<IPython.core.display.HTML object>"
      ]
     },
     "metadata": {},
     "output_type": "display_data"
    },
    {
     "data": {
      "text/html": [
       "<span style=\"color:cyan\"> |-Best step: 0</span>"
      ],
      "text/plain": [
       "<IPython.core.display.HTML object>"
      ]
     },
     "metadata": {},
     "output_type": "display_data"
    },
    {
     "data": {
      "text/html": [
       "<span style=\"color:#7E57C2\"><h2 style=\"font-size:16px\">Hyperparameters:</h2></span>"
      ],
      "text/plain": [
       "<IPython.core.display.HTML object>"
      ]
     },
     "metadata": {},
     "output_type": "display_data"
    },
    {
     "data": {
      "text/html": [
       "<span style=\"color:cyan\"> |-C: 0.21101847142925248</span>"
      ],
      "text/plain": [
       "<IPython.core.display.HTML object>"
      ]
     },
     "metadata": {},
     "output_type": "display_data"
    },
    {
     "data": {
      "text/html": [
       "<span style=\"color:blue\"> |-PCA_components: 46</span>"
      ],
      "text/plain": [
       "<IPython.core.display.HTML object>"
      ]
     },
     "metadata": {},
     "output_type": "display_data"
    },
    {
     "data": {
      "text/html": [
       "<span style=\"color:cyan\"> |-Penalty: l2</span>"
      ],
      "text/plain": [
       "<IPython.core.display.HTML object>"
      ]
     },
     "metadata": {},
     "output_type": "display_data"
    },
    {
     "data": {
      "text/html": [
       "<span style=\"color:blue\"> |-Tolerance: 0.2392466379540401</span>"
      ],
      "text/plain": [
       "<IPython.core.display.HTML object>"
      ]
     },
     "metadata": {},
     "output_type": "display_data"
    },
    {
     "data": {
      "text/html": [
       "<span style=\"color:cyan\"> |-scale1: Robust</span>"
      ],
      "text/plain": [
       "<IPython.core.display.HTML object>"
      ]
     },
     "metadata": {},
     "output_type": "display_data"
    },
    {
     "data": {
      "text/html": [
       "<span style=\"color:blue\"> |-scale2: Normalize</span>"
      ],
      "text/plain": [
       "<IPython.core.display.HTML object>"
      ]
     },
     "metadata": {},
     "output_type": "display_data"
    },
    {
     "data": {
      "text/html": [
       "<span style=\"color:#4527A0\"><h1 style=\"font-size:18px\">Trial complete</h1></span>"
      ],
      "text/plain": [
       "<IPython.core.display.HTML object>"
      ]
     },
     "metadata": {},
     "output_type": "display_data"
    },
    {
     "data": {
      "text/html": [
       "<span style=\"color:#4527A0\"><h1 style=\"font-size:18px\">Trial summary</h1></span>"
      ],
      "text/plain": [
       "<IPython.core.display.HTML object>"
      ]
     },
     "metadata": {},
     "output_type": "display_data"
    },
    {
     "data": {
      "text/html": [
       "<span style=\"color:cyan\"> |-Trial ID: 63c5d684e7345acf2ea14b72a0f5c9d1</span>"
      ],
      "text/plain": [
       "<IPython.core.display.HTML object>"
      ]
     },
     "metadata": {},
     "output_type": "display_data"
    },
    {
     "data": {
      "text/html": [
       "<span style=\"color:cyan\"> |-Score: 0.5164585655292575</span>"
      ],
      "text/plain": [
       "<IPython.core.display.HTML object>"
      ]
     },
     "metadata": {},
     "output_type": "display_data"
    },
    {
     "data": {
      "text/html": [
       "<span style=\"color:cyan\"> |-Best step: 0</span>"
      ],
      "text/plain": [
       "<IPython.core.display.HTML object>"
      ]
     },
     "metadata": {},
     "output_type": "display_data"
    },
    {
     "data": {
      "text/html": [
       "<span style=\"color:#7E57C2\"><h2 style=\"font-size:16px\">Hyperparameters:</h2></span>"
      ],
      "text/plain": [
       "<IPython.core.display.HTML object>"
      ]
     },
     "metadata": {},
     "output_type": "display_data"
    },
    {
     "data": {
      "text/html": [
       "<span style=\"color:cyan\"> |-C: 0.006342631946243288</span>"
      ],
      "text/plain": [
       "<IPython.core.display.HTML object>"
      ]
     },
     "metadata": {},
     "output_type": "display_data"
    },
    {
     "data": {
      "text/html": [
       "<span style=\"color:blue\"> |-PCA_components: 88</span>"
      ],
      "text/plain": [
       "<IPython.core.display.HTML object>"
      ]
     },
     "metadata": {},
     "output_type": "display_data"
    },
    {
     "data": {
      "text/html": [
       "<span style=\"color:cyan\"> |-Penalty: l2</span>"
      ],
      "text/plain": [
       "<IPython.core.display.HTML object>"
      ]
     },
     "metadata": {},
     "output_type": "display_data"
    },
    {
     "data": {
      "text/html": [
       "<span style=\"color:blue\"> |-Tolerance: 0.5030209526893781</span>"
      ],
      "text/plain": [
       "<IPython.core.display.HTML object>"
      ]
     },
     "metadata": {},
     "output_type": "display_data"
    },
    {
     "data": {
      "text/html": [
       "<span style=\"color:cyan\"> |-scale1: Normalize</span>"
      ],
      "text/plain": [
       "<IPython.core.display.HTML object>"
      ]
     },
     "metadata": {},
     "output_type": "display_data"
    },
    {
     "data": {
      "text/html": [
       "<span style=\"color:blue\"> |-scale2: Robust</span>"
      ],
      "text/plain": [
       "<IPython.core.display.HTML object>"
      ]
     },
     "metadata": {},
     "output_type": "display_data"
    },
    {
     "data": {
      "text/html": [
       "<span style=\"color:#4527A0\"><h1 style=\"font-size:18px\">Trial complete</h1></span>"
      ],
      "text/plain": [
       "<IPython.core.display.HTML object>"
      ]
     },
     "metadata": {},
     "output_type": "display_data"
    },
    {
     "data": {
      "text/html": [
       "<span style=\"color:#4527A0\"><h1 style=\"font-size:18px\">Trial summary</h1></span>"
      ],
      "text/plain": [
       "<IPython.core.display.HTML object>"
      ]
     },
     "metadata": {},
     "output_type": "display_data"
    },
    {
     "data": {
      "text/html": [
       "<span style=\"color:cyan\"> |-Trial ID: ca0ff3383d175370e0fdb5e8d888b1e9</span>"
      ],
      "text/plain": [
       "<IPython.core.display.HTML object>"
      ]
     },
     "metadata": {},
     "output_type": "display_data"
    },
    {
     "data": {
      "text/html": [
       "<span style=\"color:cyan\"> |-Score: 0.6372185606710061</span>"
      ],
      "text/plain": [
       "<IPython.core.display.HTML object>"
      ]
     },
     "metadata": {},
     "output_type": "display_data"
    },
    {
     "data": {
      "text/html": [
       "<span style=\"color:cyan\"> |-Best step: 0</span>"
      ],
      "text/plain": [
       "<IPython.core.display.HTML object>"
      ]
     },
     "metadata": {},
     "output_type": "display_data"
    },
    {
     "data": {
      "text/html": [
       "<span style=\"color:#7E57C2\"><h2 style=\"font-size:16px\">Hyperparameters:</h2></span>"
      ],
      "text/plain": [
       "<IPython.core.display.HTML object>"
      ]
     },
     "metadata": {},
     "output_type": "display_data"
    },
    {
     "data": {
      "text/html": [
       "<span style=\"color:cyan\"> |-C: 0.49315976467836714</span>"
      ],
      "text/plain": [
       "<IPython.core.display.HTML object>"
      ]
     },
     "metadata": {},
     "output_type": "display_data"
    },
    {
     "data": {
      "text/html": [
       "<span style=\"color:blue\"> |-PCA_components: 106</span>"
      ],
      "text/plain": [
       "<IPython.core.display.HTML object>"
      ]
     },
     "metadata": {},
     "output_type": "display_data"
    },
    {
     "data": {
      "text/html": [
       "<span style=\"color:cyan\"> |-Penalty: l2</span>"
      ],
      "text/plain": [
       "<IPython.core.display.HTML object>"
      ]
     },
     "metadata": {},
     "output_type": "display_data"
    },
    {
     "data": {
      "text/html": [
       "<span style=\"color:blue\"> |-Tolerance: 0.33822936636810264</span>"
      ],
      "text/plain": [
       "<IPython.core.display.HTML object>"
      ]
     },
     "metadata": {},
     "output_type": "display_data"
    },
    {
     "data": {
      "text/html": [
       "<span style=\"color:cyan\"> |-scale1: Normalize</span>"
      ],
      "text/plain": [
       "<IPython.core.display.HTML object>"
      ]
     },
     "metadata": {},
     "output_type": "display_data"
    },
    {
     "data": {
      "text/html": [
       "<span style=\"color:blue\"> |-scale2: Normalize</span>"
      ],
      "text/plain": [
       "<IPython.core.display.HTML object>"
      ]
     },
     "metadata": {},
     "output_type": "display_data"
    },
    {
     "data": {
      "text/html": [
       "<span style=\"color:#4527A0\"><h1 style=\"font-size:18px\">Trial complete</h1></span>"
      ],
      "text/plain": [
       "<IPython.core.display.HTML object>"
      ]
     },
     "metadata": {},
     "output_type": "display_data"
    },
    {
     "data": {
      "text/html": [
       "<span style=\"color:#4527A0\"><h1 style=\"font-size:18px\">Trial summary</h1></span>"
      ],
      "text/plain": [
       "<IPython.core.display.HTML object>"
      ]
     },
     "metadata": {},
     "output_type": "display_data"
    },
    {
     "data": {
      "text/html": [
       "<span style=\"color:cyan\"> |-Trial ID: f13f44d47c2aa5aa5095e51d962df833</span>"
      ],
      "text/plain": [
       "<IPython.core.display.HTML object>"
      ]
     },
     "metadata": {},
     "output_type": "display_data"
    },
    {
     "data": {
      "text/html": [
       "<span style=\"color:cyan\"> |-Score: 0.5369346386316807</span>"
      ],
      "text/plain": [
       "<IPython.core.display.HTML object>"
      ]
     },
     "metadata": {},
     "output_type": "display_data"
    },
    {
     "data": {
      "text/html": [
       "<span style=\"color:cyan\"> |-Best step: 0</span>"
      ],
      "text/plain": [
       "<IPython.core.display.HTML object>"
      ]
     },
     "metadata": {},
     "output_type": "display_data"
    },
    {
     "data": {
      "text/html": [
       "<span style=\"color:#7E57C2\"><h2 style=\"font-size:16px\">Hyperparameters:</h2></span>"
      ],
      "text/plain": [
       "<IPython.core.display.HTML object>"
      ]
     },
     "metadata": {},
     "output_type": "display_data"
    },
    {
     "data": {
      "text/html": [
       "<span style=\"color:cyan\"> |-C: 0.7634599828496763</span>"
      ],
      "text/plain": [
       "<IPython.core.display.HTML object>"
      ]
     },
     "metadata": {},
     "output_type": "display_data"
    },
    {
     "data": {
      "text/html": [
       "<span style=\"color:blue\"> |-PCA_components: 111</span>"
      ],
      "text/plain": [
       "<IPython.core.display.HTML object>"
      ]
     },
     "metadata": {},
     "output_type": "display_data"
    },
    {
     "data": {
      "text/html": [
       "<span style=\"color:cyan\"> |-Penalty: l2</span>"
      ],
      "text/plain": [
       "<IPython.core.display.HTML object>"
      ]
     },
     "metadata": {},
     "output_type": "display_data"
    },
    {
     "data": {
      "text/html": [
       "<span style=\"color:blue\"> |-Tolerance: 0.14705739290719</span>"
      ],
      "text/plain": [
       "<IPython.core.display.HTML object>"
      ]
     },
     "metadata": {},
     "output_type": "display_data"
    },
    {
     "data": {
      "text/html": [
       "<span style=\"color:cyan\"> |-scale1: Normalize</span>"
      ],
      "text/plain": [
       "<IPython.core.display.HTML object>"
      ]
     },
     "metadata": {},
     "output_type": "display_data"
    },
    {
     "data": {
      "text/html": [
       "<span style=\"color:blue\"> |-scale2: Robust</span>"
      ],
      "text/plain": [
       "<IPython.core.display.HTML object>"
      ]
     },
     "metadata": {},
     "output_type": "display_data"
    },
    {
     "data": {
      "text/html": [
       "<span style=\"color:#4527A0\"><h1 style=\"font-size:18px\">Trial complete</h1></span>"
      ],
      "text/plain": [
       "<IPython.core.display.HTML object>"
      ]
     },
     "metadata": {},
     "output_type": "display_data"
    },
    {
     "data": {
      "text/html": [
       "<span style=\"color:#4527A0\"><h1 style=\"font-size:18px\">Trial summary</h1></span>"
      ],
      "text/plain": [
       "<IPython.core.display.HTML object>"
      ]
     },
     "metadata": {},
     "output_type": "display_data"
    },
    {
     "data": {
      "text/html": [
       "<span style=\"color:cyan\"> |-Trial ID: 44c6abf10bb52621aa47f9fc9f59023b</span>"
      ],
      "text/plain": [
       "<IPython.core.display.HTML object>"
      ]
     },
     "metadata": {},
     "output_type": "display_data"
    },
    {
     "data": {
      "text/html": [
       "<span style=\"color:cyan\"> |-Score: 0.5878155899919952</span>"
      ],
      "text/plain": [
       "<IPython.core.display.HTML object>"
      ]
     },
     "metadata": {},
     "output_type": "display_data"
    },
    {
     "data": {
      "text/html": [
       "<span style=\"color:cyan\"> |-Best step: 0</span>"
      ],
      "text/plain": [
       "<IPython.core.display.HTML object>"
      ]
     },
     "metadata": {},
     "output_type": "display_data"
    },
    {
     "data": {
      "text/html": [
       "<span style=\"color:#7E57C2\"><h2 style=\"font-size:16px\">Hyperparameters:</h2></span>"
      ],
      "text/plain": [
       "<IPython.core.display.HTML object>"
      ]
     },
     "metadata": {},
     "output_type": "display_data"
    },
    {
     "data": {
      "text/html": [
       "<span style=\"color:cyan\"> |-C: 0.33165292506755206</span>"
      ],
      "text/plain": [
       "<IPython.core.display.HTML object>"
      ]
     },
     "metadata": {},
     "output_type": "display_data"
    },
    {
     "data": {
      "text/html": [
       "<span style=\"color:blue\"> |-PCA_components: 56</span>"
      ],
      "text/plain": [
       "<IPython.core.display.HTML object>"
      ]
     },
     "metadata": {},
     "output_type": "display_data"
    },
    {
     "data": {
      "text/html": [
       "<span style=\"color:cyan\"> |-Penalty: l2</span>"
      ],
      "text/plain": [
       "<IPython.core.display.HTML object>"
      ]
     },
     "metadata": {},
     "output_type": "display_data"
    },
    {
     "data": {
      "text/html": [
       "<span style=\"color:blue\"> |-Tolerance: 0.7946418186220982</span>"
      ],
      "text/plain": [
       "<IPython.core.display.HTML object>"
      ]
     },
     "metadata": {},
     "output_type": "display_data"
    },
    {
     "data": {
      "text/html": [
       "<span style=\"color:cyan\"> |-scale1: Normalize</span>"
      ],
      "text/plain": [
       "<IPython.core.display.HTML object>"
      ]
     },
     "metadata": {},
     "output_type": "display_data"
    },
    {
     "data": {
      "text/html": [
       "<span style=\"color:blue\"> |-scale2: MinMax</span>"
      ],
      "text/plain": [
       "<IPython.core.display.HTML object>"
      ]
     },
     "metadata": {},
     "output_type": "display_data"
    },
    {
     "data": {
      "text/html": [
       "<span style=\"color:#4527A0\"><h1 style=\"font-size:18px\">Trial complete</h1></span>"
      ],
      "text/plain": [
       "<IPython.core.display.HTML object>"
      ]
     },
     "metadata": {},
     "output_type": "display_data"
    },
    {
     "data": {
      "text/html": [
       "<span style=\"color:#4527A0\"><h1 style=\"font-size:18px\">Trial summary</h1></span>"
      ],
      "text/plain": [
       "<IPython.core.display.HTML object>"
      ]
     },
     "metadata": {},
     "output_type": "display_data"
    },
    {
     "data": {
      "text/html": [
       "<span style=\"color:cyan\"> |-Trial ID: b9676962c3312e733ee1fe276be7a2c8</span>"
      ],
      "text/plain": [
       "<IPython.core.display.HTML object>"
      ]
     },
     "metadata": {},
     "output_type": "display_data"
    },
    {
     "data": {
      "text/html": [
       "<span style=\"color:cyan\"> |-Score: 0.512432538151572</span>"
      ],
      "text/plain": [
       "<IPython.core.display.HTML object>"
      ]
     },
     "metadata": {},
     "output_type": "display_data"
    },
    {
     "data": {
      "text/html": [
       "<span style=\"color:cyan\"> |-Best step: 0</span>"
      ],
      "text/plain": [
       "<IPython.core.display.HTML object>"
      ]
     },
     "metadata": {},
     "output_type": "display_data"
    },
    {
     "data": {
      "text/html": [
       "<span style=\"color:#7E57C2\"><h2 style=\"font-size:16px\">Hyperparameters:</h2></span>"
      ],
      "text/plain": [
       "<IPython.core.display.HTML object>"
      ]
     },
     "metadata": {},
     "output_type": "display_data"
    },
    {
     "data": {
      "text/html": [
       "<span style=\"color:cyan\"> |-C: 0.517364371104435</span>"
      ],
      "text/plain": [
       "<IPython.core.display.HTML object>"
      ]
     },
     "metadata": {},
     "output_type": "display_data"
    },
    {
     "data": {
      "text/html": [
       "<span style=\"color:blue\"> |-PCA_components: 98</span>"
      ],
      "text/plain": [
       "<IPython.core.display.HTML object>"
      ]
     },
     "metadata": {},
     "output_type": "display_data"
    },
    {
     "data": {
      "text/html": [
       "<span style=\"color:cyan\"> |-Penalty: l2</span>"
      ],
      "text/plain": [
       "<IPython.core.display.HTML object>"
      ]
     },
     "metadata": {},
     "output_type": "display_data"
    },
    {
     "data": {
      "text/html": [
       "<span style=\"color:blue\"> |-Tolerance: 0.5910568992864704</span>"
      ],
      "text/plain": [
       "<IPython.core.display.HTML object>"
      ]
     },
     "metadata": {},
     "output_type": "display_data"
    },
    {
     "data": {
      "text/html": [
       "<span style=\"color:cyan\"> |-scale1: Robust</span>"
      ],
      "text/plain": [
       "<IPython.core.display.HTML object>"
      ]
     },
     "metadata": {},
     "output_type": "display_data"
    },
    {
     "data": {
      "text/html": [
       "<span style=\"color:blue\"> |-scale2: Normalize</span>"
      ],
      "text/plain": [
       "<IPython.core.display.HTML object>"
      ]
     },
     "metadata": {},
     "output_type": "display_data"
    },
    {
     "data": {
      "text/html": [
       "<span style=\"color:#4527A0\"><h1 style=\"font-size:18px\">Trial complete</h1></span>"
      ],
      "text/plain": [
       "<IPython.core.display.HTML object>"
      ]
     },
     "metadata": {},
     "output_type": "display_data"
    },
    {
     "data": {
      "text/html": [
       "<span style=\"color:#4527A0\"><h1 style=\"font-size:18px\">Trial summary</h1></span>"
      ],
      "text/plain": [
       "<IPython.core.display.HTML object>"
      ]
     },
     "metadata": {},
     "output_type": "display_data"
    },
    {
     "data": {
      "text/html": [
       "<span style=\"color:cyan\"> |-Trial ID: 59e0aa3bcd4405095e48843ddf87b1f6</span>"
      ],
      "text/plain": [
       "<IPython.core.display.HTML object>"
      ]
     },
     "metadata": {},
     "output_type": "display_data"
    },
    {
     "data": {
      "text/html": [
       "<span style=\"color:cyan\"> |-Score: 0.43882906271432964</span>"
      ],
      "text/plain": [
       "<IPython.core.display.HTML object>"
      ]
     },
     "metadata": {},
     "output_type": "display_data"
    },
    {
     "data": {
      "text/html": [
       "<span style=\"color:cyan\"> |-Best step: 0</span>"
      ],
      "text/plain": [
       "<IPython.core.display.HTML object>"
      ]
     },
     "metadata": {},
     "output_type": "display_data"
    },
    {
     "data": {
      "text/html": [
       "<span style=\"color:#7E57C2\"><h2 style=\"font-size:16px\">Hyperparameters:</h2></span>"
      ],
      "text/plain": [
       "<IPython.core.display.HTML object>"
      ]
     },
     "metadata": {},
     "output_type": "display_data"
    },
    {
     "data": {
      "text/html": [
       "<span style=\"color:cyan\"> |-C: 0.05683275572334673</span>"
      ],
      "text/plain": [
       "<IPython.core.display.HTML object>"
      ]
     },
     "metadata": {},
     "output_type": "display_data"
    },
    {
     "data": {
      "text/html": [
       "<span style=\"color:blue\"> |-PCA_components: 70</span>"
      ],
      "text/plain": [
       "<IPython.core.display.HTML object>"
      ]
     },
     "metadata": {},
     "output_type": "display_data"
    },
    {
     "data": {
      "text/html": [
       "<span style=\"color:cyan\"> |-Penalty: l2</span>"
      ],
      "text/plain": [
       "<IPython.core.display.HTML object>"
      ]
     },
     "metadata": {},
     "output_type": "display_data"
    },
    {
     "data": {
      "text/html": [
       "<span style=\"color:blue\"> |-Tolerance: 0.6953114543578663</span>"
      ],
      "text/plain": [
       "<IPython.core.display.HTML object>"
      ]
     },
     "metadata": {},
     "output_type": "display_data"
    },
    {
     "data": {
      "text/html": [
       "<span style=\"color:cyan\"> |-scale1: MinMax</span>"
      ],
      "text/plain": [
       "<IPython.core.display.HTML object>"
      ]
     },
     "metadata": {},
     "output_type": "display_data"
    },
    {
     "data": {
      "text/html": [
       "<span style=\"color:blue\"> |-scale2: Robust</span>"
      ],
      "text/plain": [
       "<IPython.core.display.HTML object>"
      ]
     },
     "metadata": {},
     "output_type": "display_data"
    },
    {
     "name": "stdout",
     "output_type": "stream",
     "text": [
      "INFO:tensorflow:Oracle triggered exit\n"
     ]
    },
    {
     "data": {
      "text/html": [
       "<span style=\"color:#4527A0\"><h1 style=\"font-size:18px\">Trial complete</h1></span>"
      ],
      "text/plain": [
       "<IPython.core.display.HTML object>"
      ]
     },
     "metadata": {},
     "output_type": "display_data"
    },
    {
     "data": {
      "text/html": [
       "<span style=\"color:#4527A0\"><h1 style=\"font-size:18px\">Trial summary</h1></span>"
      ],
      "text/plain": [
       "<IPython.core.display.HTML object>"
      ]
     },
     "metadata": {},
     "output_type": "display_data"
    },
    {
     "data": {
      "text/html": [
       "<span style=\"color:cyan\"> |-Trial ID: e4f26fad434dbe10b0c484c9c3eced99</span>"
      ],
      "text/plain": [
       "<IPython.core.display.HTML object>"
      ]
     },
     "metadata": {},
     "output_type": "display_data"
    },
    {
     "data": {
      "text/html": [
       "<span style=\"color:cyan\"> |-Score: 0.536766296582076</span>"
      ],
      "text/plain": [
       "<IPython.core.display.HTML object>"
      ]
     },
     "metadata": {},
     "output_type": "display_data"
    },
    {
     "data": {
      "text/html": [
       "<span style=\"color:cyan\"> |-Best step: 0</span>"
      ],
      "text/plain": [
       "<IPython.core.display.HTML object>"
      ]
     },
     "metadata": {},
     "output_type": "display_data"
    },
    {
     "data": {
      "text/html": [
       "<span style=\"color:#7E57C2\"><h2 style=\"font-size:16px\">Hyperparameters:</h2></span>"
      ],
      "text/plain": [
       "<IPython.core.display.HTML object>"
      ]
     },
     "metadata": {},
     "output_type": "display_data"
    },
    {
     "data": {
      "text/html": [
       "<span style=\"color:cyan\"> |-C: 0.10469596554552033</span>"
      ],
      "text/plain": [
       "<IPython.core.display.HTML object>"
      ]
     },
     "metadata": {},
     "output_type": "display_data"
    },
    {
     "data": {
      "text/html": [
       "<span style=\"color:blue\"> |-PCA_components: 76</span>"
      ],
      "text/plain": [
       "<IPython.core.display.HTML object>"
      ]
     },
     "metadata": {},
     "output_type": "display_data"
    },
    {
     "data": {
      "text/html": [
       "<span style=\"color:cyan\"> |-Penalty: l2</span>"
      ],
      "text/plain": [
       "<IPython.core.display.HTML object>"
      ]
     },
     "metadata": {},
     "output_type": "display_data"
    },
    {
     "data": {
      "text/html": [
       "<span style=\"color:blue\"> |-Tolerance: 0.4861914214572781</span>"
      ],
      "text/plain": [
       "<IPython.core.display.HTML object>"
      ]
     },
     "metadata": {},
     "output_type": "display_data"
    },
    {
     "data": {
      "text/html": [
       "<span style=\"color:cyan\"> |-scale1: MinMax</span>"
      ],
      "text/plain": [
       "<IPython.core.display.HTML object>"
      ]
     },
     "metadata": {},
     "output_type": "display_data"
    },
    {
     "data": {
      "text/html": [
       "<span style=\"color:blue\"> |-scale2: MinMax</span>"
      ],
      "text/plain": [
       "<IPython.core.display.HTML object>"
      ]
     },
     "metadata": {},
     "output_type": "display_data"
    },
    {
     "data": {
      "text/html": [
       "<span style=\"color:#4527A0\"><h1 style=\"font-size:18px\">Trial complete</h1></span>"
      ],
      "text/plain": [
       "<IPython.core.display.HTML object>"
      ]
     },
     "metadata": {},
     "output_type": "display_data"
    },
    {
     "data": {
      "text/html": [
       "<span style=\"color:#4527A0\"><h1 style=\"font-size:18px\">Trial summary</h1></span>"
      ],
      "text/plain": [
       "<IPython.core.display.HTML object>"
      ]
     },
     "metadata": {},
     "output_type": "display_data"
    },
    {
     "data": {
      "text/html": [
       "<span style=\"color:cyan\"> |-Trial ID: ca869ede10a3e02633951abefc2c6752</span>"
      ],
      "text/plain": [
       "<IPython.core.display.HTML object>"
      ]
     },
     "metadata": {},
     "output_type": "display_data"
    },
    {
     "data": {
      "text/html": [
       "<span style=\"color:cyan\"> |-Score: 0.45081936585505156</span>"
      ],
      "text/plain": [
       "<IPython.core.display.HTML object>"
      ]
     },
     "metadata": {},
     "output_type": "display_data"
    },
    {
     "data": {
      "text/html": [
       "<span style=\"color:cyan\"> |-Best step: 0</span>"
      ],
      "text/plain": [
       "<IPython.core.display.HTML object>"
      ]
     },
     "metadata": {},
     "output_type": "display_data"
    },
    {
     "data": {
      "text/html": [
       "<span style=\"color:#7E57C2\"><h2 style=\"font-size:16px\">Hyperparameters:</h2></span>"
      ],
      "text/plain": [
       "<IPython.core.display.HTML object>"
      ]
     },
     "metadata": {},
     "output_type": "display_data"
    },
    {
     "data": {
      "text/html": [
       "<span style=\"color:cyan\"> |-C: 0.3678589961025597</span>"
      ],
      "text/plain": [
       "<IPython.core.display.HTML object>"
      ]
     },
     "metadata": {},
     "output_type": "display_data"
    },
    {
     "data": {
      "text/html": [
       "<span style=\"color:blue\"> |-PCA_components: 5</span>"
      ],
      "text/plain": [
       "<IPython.core.display.HTML object>"
      ]
     },
     "metadata": {},
     "output_type": "display_data"
    },
    {
     "data": {
      "text/html": [
       "<span style=\"color:cyan\"> |-Penalty: l2</span>"
      ],
      "text/plain": [
       "<IPython.core.display.HTML object>"
      ]
     },
     "metadata": {},
     "output_type": "display_data"
    },
    {
     "data": {
      "text/html": [
       "<span style=\"color:blue\"> |-Tolerance: 0.4045740263252474</span>"
      ],
      "text/plain": [
       "<IPython.core.display.HTML object>"
      ]
     },
     "metadata": {},
     "output_type": "display_data"
    },
    {
     "data": {
      "text/html": [
       "<span style=\"color:cyan\"> |-scale1: Robust</span>"
      ],
      "text/plain": [
       "<IPython.core.display.HTML object>"
      ]
     },
     "metadata": {},
     "output_type": "display_data"
    },
    {
     "data": {
      "text/html": [
       "<span style=\"color:blue\"> |-scale2: MinMax</span>"
      ],
      "text/plain": [
       "<IPython.core.display.HTML object>"
      ]
     },
     "metadata": {},
     "output_type": "display_data"
    },
    {
     "name": "stderr",
     "output_type": "stream",
     "text": [
      "/home/conor/miniconda3/envs/PHD/lib/python3.8/site-packages/sklearn/linear_model/_sag.py:329: ConvergenceWarning: The max_iter was reached which means the coef_ did not converge\n",
      "  warnings.warn(\"The max_iter was reached which means \"\n"
     ]
    },
    {
     "data": {
      "text/html": [
       "<span style=\"color:#4527A0\"><h1 style=\"font-size:18px\">Trial complete</h1></span>"
      ],
      "text/plain": [
       "<IPython.core.display.HTML object>"
      ]
     },
     "metadata": {},
     "output_type": "display_data"
    },
    {
     "data": {
      "text/html": [
       "<span style=\"color:#4527A0\"><h1 style=\"font-size:18px\">Trial summary</h1></span>"
      ],
      "text/plain": [
       "<IPython.core.display.HTML object>"
      ]
     },
     "metadata": {},
     "output_type": "display_data"
    },
    {
     "data": {
      "text/html": [
       "<span style=\"color:cyan\"> |-Trial ID: fd9ebad624e3b4a95714d4cb653329a0</span>"
      ],
      "text/plain": [
       "<IPython.core.display.HTML object>"
      ]
     },
     "metadata": {},
     "output_type": "display_data"
    },
    {
     "data": {
      "text/html": [
       "<span style=\"color:cyan\"> |-Score: 0.4836583719135801</span>"
      ],
      "text/plain": [
       "<IPython.core.display.HTML object>"
      ]
     },
     "metadata": {},
     "output_type": "display_data"
    },
    {
     "data": {
      "text/html": [
       "<span style=\"color:cyan\"> |-Best step: 0</span>"
      ],
      "text/plain": [
       "<IPython.core.display.HTML object>"
      ]
     },
     "metadata": {},
     "output_type": "display_data"
    },
    {
     "data": {
      "text/html": [
       "<span style=\"color:#7E57C2\"><h2 style=\"font-size:16px\">Hyperparameters:</h2></span>"
      ],
      "text/plain": [
       "<IPython.core.display.HTML object>"
      ]
     },
     "metadata": {},
     "output_type": "display_data"
    },
    {
     "data": {
      "text/html": [
       "<span style=\"color:cyan\"> |-C: 0.6608919877787034</span>"
      ],
      "text/plain": [
       "<IPython.core.display.HTML object>"
      ]
     },
     "metadata": {},
     "output_type": "display_data"
    },
    {
     "data": {
      "text/html": [
       "<span style=\"color:blue\"> |-PCA_components: 9</span>"
      ],
      "text/plain": [
       "<IPython.core.display.HTML object>"
      ]
     },
     "metadata": {},
     "output_type": "display_data"
    },
    {
     "data": {
      "text/html": [
       "<span style=\"color:cyan\"> |-Penalty: l2</span>"
      ],
      "text/plain": [
       "<IPython.core.display.HTML object>"
      ]
     },
     "metadata": {},
     "output_type": "display_data"
    },
    {
     "data": {
      "text/html": [
       "<span style=\"color:blue\"> |-Tolerance: 0.45660231803222884</span>"
      ],
      "text/plain": [
       "<IPython.core.display.HTML object>"
      ]
     },
     "metadata": {},
     "output_type": "display_data"
    },
    {
     "data": {
      "text/html": [
       "<span style=\"color:cyan\"> |-scale1: Robust</span>"
      ],
      "text/plain": [
       "<IPython.core.display.HTML object>"
      ]
     },
     "metadata": {},
     "output_type": "display_data"
    },
    {
     "data": {
      "text/html": [
       "<span style=\"color:blue\"> |-scale2: Robust</span>"
      ],
      "text/plain": [
       "<IPython.core.display.HTML object>"
      ]
     },
     "metadata": {},
     "output_type": "display_data"
    },
    {
     "data": {
      "text/html": [
       "<span style=\"color:#4527A0\"><h1 style=\"font-size:18px\">Trial complete</h1></span>"
      ],
      "text/plain": [
       "<IPython.core.display.HTML object>"
      ]
     },
     "metadata": {},
     "output_type": "display_data"
    },
    {
     "data": {
      "text/html": [
       "<span style=\"color:#4527A0\"><h1 style=\"font-size:18px\">Trial summary</h1></span>"
      ],
      "text/plain": [
       "<IPython.core.display.HTML object>"
      ]
     },
     "metadata": {},
     "output_type": "display_data"
    },
    {
     "data": {
      "text/html": [
       "<span style=\"color:cyan\"> |-Trial ID: e6d94fd77025b009344ee1b80da1dedc</span>"
      ],
      "text/plain": [
       "<IPython.core.display.HTML object>"
      ]
     },
     "metadata": {},
     "output_type": "display_data"
    },
    {
     "data": {
      "text/html": [
       "<span style=\"color:cyan\"> |-Score: 0.5667792995541838</span>"
      ],
      "text/plain": [
       "<IPython.core.display.HTML object>"
      ]
     },
     "metadata": {},
     "output_type": "display_data"
    },
    {
     "data": {
      "text/html": [
       "<span style=\"color:cyan\"> |-Best step: 0</span>"
      ],
      "text/plain": [
       "<IPython.core.display.HTML object>"
      ]
     },
     "metadata": {},
     "output_type": "display_data"
    },
    {
     "data": {
      "text/html": [
       "<span style=\"color:#7E57C2\"><h2 style=\"font-size:16px\">Hyperparameters:</h2></span>"
      ],
      "text/plain": [
       "<IPython.core.display.HTML object>"
      ]
     },
     "metadata": {},
     "output_type": "display_data"
    },
    {
     "data": {
      "text/html": [
       "<span style=\"color:cyan\"> |-C: 0.019093802430016887</span>"
      ],
      "text/plain": [
       "<IPython.core.display.HTML object>"
      ]
     },
     "metadata": {},
     "output_type": "display_data"
    },
    {
     "data": {
      "text/html": [
       "<span style=\"color:blue\"> |-PCA_components: 4</span>"
      ],
      "text/plain": [
       "<IPython.core.display.HTML object>"
      ]
     },
     "metadata": {},
     "output_type": "display_data"
    },
    {
     "data": {
      "text/html": [
       "<span style=\"color:cyan\"> |-Penalty: l2</span>"
      ],
      "text/plain": [
       "<IPython.core.display.HTML object>"
      ]
     },
     "metadata": {},
     "output_type": "display_data"
    },
    {
     "data": {
      "text/html": [
       "<span style=\"color:blue\"> |-Tolerance: 0.23331737116411344</span>"
      ],
      "text/plain": [
       "<IPython.core.display.HTML object>"
      ]
     },
     "metadata": {},
     "output_type": "display_data"
    },
    {
     "data": {
      "text/html": [
       "<span style=\"color:cyan\"> |-scale1: Robust</span>"
      ],
      "text/plain": [
       "<IPython.core.display.HTML object>"
      ]
     },
     "metadata": {},
     "output_type": "display_data"
    },
    {
     "data": {
      "text/html": [
       "<span style=\"color:blue\"> |-scale2: MinMax</span>"
      ],
      "text/plain": [
       "<IPython.core.display.HTML object>"
      ]
     },
     "metadata": {},
     "output_type": "display_data"
    },
    {
     "data": {
      "text/html": [
       "<span style=\"color:#4527A0\"><h1 style=\"font-size:18px\">Trial complete</h1></span>"
      ],
      "text/plain": [
       "<IPython.core.display.HTML object>"
      ]
     },
     "metadata": {},
     "output_type": "display_data"
    },
    {
     "data": {
      "text/html": [
       "<span style=\"color:#4527A0\"><h1 style=\"font-size:18px\">Trial summary</h1></span>"
      ],
      "text/plain": [
       "<IPython.core.display.HTML object>"
      ]
     },
     "metadata": {},
     "output_type": "display_data"
    },
    {
     "data": {
      "text/html": [
       "<span style=\"color:cyan\"> |-Trial ID: 0cd090705a619416da91bcaa0f4beb35</span>"
      ],
      "text/plain": [
       "<IPython.core.display.HTML object>"
      ]
     },
     "metadata": {},
     "output_type": "display_data"
    },
    {
     "data": {
      "text/html": [
       "<span style=\"color:cyan\"> |-Score: 0.5580272633744876</span>"
      ],
      "text/plain": [
       "<IPython.core.display.HTML object>"
      ]
     },
     "metadata": {},
     "output_type": "display_data"
    },
    {
     "data": {
      "text/html": [
       "<span style=\"color:cyan\"> |-Best step: 0</span>"
      ],
      "text/plain": [
       "<IPython.core.display.HTML object>"
      ]
     },
     "metadata": {},
     "output_type": "display_data"
    },
    {
     "data": {
      "text/html": [
       "<span style=\"color:#7E57C2\"><h2 style=\"font-size:16px\">Hyperparameters:</h2></span>"
      ],
      "text/plain": [
       "<IPython.core.display.HTML object>"
      ]
     },
     "metadata": {},
     "output_type": "display_data"
    },
    {
     "data": {
      "text/html": [
       "<span style=\"color:cyan\"> |-C: 0.41814234858586863</span>"
      ],
      "text/plain": [
       "<IPython.core.display.HTML object>"
      ]
     },
     "metadata": {},
     "output_type": "display_data"
    },
    {
     "data": {
      "text/html": [
       "<span style=\"color:blue\"> |-PCA_components: 163</span>"
      ],
      "text/plain": [
       "<IPython.core.display.HTML object>"
      ]
     },
     "metadata": {},
     "output_type": "display_data"
    },
    {
     "data": {
      "text/html": [
       "<span style=\"color:cyan\"> |-Penalty: l2</span>"
      ],
      "text/plain": [
       "<IPython.core.display.HTML object>"
      ]
     },
     "metadata": {},
     "output_type": "display_data"
    },
    {
     "data": {
      "text/html": [
       "<span style=\"color:blue\"> |-Tolerance: 0.16188890171683945</span>"
      ],
      "text/plain": [
       "<IPython.core.display.HTML object>"
      ]
     },
     "metadata": {},
     "output_type": "display_data"
    },
    {
     "data": {
      "text/html": [
       "<span style=\"color:cyan\"> |-scale1: Robust</span>"
      ],
      "text/plain": [
       "<IPython.core.display.HTML object>"
      ]
     },
     "metadata": {},
     "output_type": "display_data"
    },
    {
     "data": {
      "text/html": [
       "<span style=\"color:blue\"> |-scale2: Robust</span>"
      ],
      "text/plain": [
       "<IPython.core.display.HTML object>"
      ]
     },
     "metadata": {},
     "output_type": "display_data"
    },
    {
     "data": {
      "text/html": [
       "<span style=\"color:#4527A0\"><h1 style=\"font-size:18px\">Trial complete</h1></span>"
      ],
      "text/plain": [
       "<IPython.core.display.HTML object>"
      ]
     },
     "metadata": {},
     "output_type": "display_data"
    },
    {
     "data": {
      "text/html": [
       "<span style=\"color:#4527A0\"><h1 style=\"font-size:18px\">Trial summary</h1></span>"
      ],
      "text/plain": [
       "<IPython.core.display.HTML object>"
      ]
     },
     "metadata": {},
     "output_type": "display_data"
    },
    {
     "data": {
      "text/html": [
       "<span style=\"color:cyan\"> |-Trial ID: c3e8dffc5816aa9470193c3676e47691</span>"
      ],
      "text/plain": [
       "<IPython.core.display.HTML object>"
      ]
     },
     "metadata": {},
     "output_type": "display_data"
    },
    {
     "data": {
      "text/html": [
       "<span style=\"color:cyan\"> |-Score: 0.5308439250400091</span>"
      ],
      "text/plain": [
       "<IPython.core.display.HTML object>"
      ]
     },
     "metadata": {},
     "output_type": "display_data"
    },
    {
     "data": {
      "text/html": [
       "<span style=\"color:cyan\"> |-Best step: 0</span>"
      ],
      "text/plain": [
       "<IPython.core.display.HTML object>"
      ]
     },
     "metadata": {},
     "output_type": "display_data"
    },
    {
     "data": {
      "text/html": [
       "<span style=\"color:#7E57C2\"><h2 style=\"font-size:16px\">Hyperparameters:</h2></span>"
      ],
      "text/plain": [
       "<IPython.core.display.HTML object>"
      ]
     },
     "metadata": {},
     "output_type": "display_data"
    },
    {
     "data": {
      "text/html": [
       "<span style=\"color:cyan\"> |-C: 0.9655205044891535</span>"
      ],
      "text/plain": [
       "<IPython.core.display.HTML object>"
      ]
     },
     "metadata": {},
     "output_type": "display_data"
    },
    {
     "data": {
      "text/html": [
       "<span style=\"color:blue\"> |-PCA_components: 55</span>"
      ],
      "text/plain": [
       "<IPython.core.display.HTML object>"
      ]
     },
     "metadata": {},
     "output_type": "display_data"
    },
    {
     "data": {
      "text/html": [
       "<span style=\"color:cyan\"> |-Penalty: l2</span>"
      ],
      "text/plain": [
       "<IPython.core.display.HTML object>"
      ]
     },
     "metadata": {},
     "output_type": "display_data"
    },
    {
     "data": {
      "text/html": [
       "<span style=\"color:blue\"> |-Tolerance: 0.5244728430826995</span>"
      ],
      "text/plain": [
       "<IPython.core.display.HTML object>"
      ]
     },
     "metadata": {},
     "output_type": "display_data"
    },
    {
     "data": {
      "text/html": [
       "<span style=\"color:cyan\"> |-scale1: Normalize</span>"
      ],
      "text/plain": [
       "<IPython.core.display.HTML object>"
      ]
     },
     "metadata": {},
     "output_type": "display_data"
    },
    {
     "data": {
      "text/html": [
       "<span style=\"color:blue\"> |-scale2: Robust</span>"
      ],
      "text/plain": [
       "<IPython.core.display.HTML object>"
      ]
     },
     "metadata": {},
     "output_type": "display_data"
    },
    {
     "data": {
      "text/html": [
       "<span style=\"color:#4527A0\"><h1 style=\"font-size:18px\">Trial complete</h1></span>"
      ],
      "text/plain": [
       "<IPython.core.display.HTML object>"
      ]
     },
     "metadata": {},
     "output_type": "display_data"
    },
    {
     "data": {
      "text/html": [
       "<span style=\"color:#4527A0\"><h1 style=\"font-size:18px\">Trial summary</h1></span>"
      ],
      "text/plain": [
       "<IPython.core.display.HTML object>"
      ]
     },
     "metadata": {},
     "output_type": "display_data"
    },
    {
     "data": {
      "text/html": [
       "<span style=\"color:cyan\"> |-Trial ID: 0e1ff21a28f70a5f875c2bf006bf3820</span>"
      ],
      "text/plain": [
       "<IPython.core.display.HTML object>"
      ]
     },
     "metadata": {},
     "output_type": "display_data"
    },
    {
     "data": {
      "text/html": [
       "<span style=\"color:cyan\"> |-Score: 0.4482234778663692</span>"
      ],
      "text/plain": [
       "<IPython.core.display.HTML object>"
      ]
     },
     "metadata": {},
     "output_type": "display_data"
    },
    {
     "data": {
      "text/html": [
       "<span style=\"color:cyan\"> |-Best step: 0</span>"
      ],
      "text/plain": [
       "<IPython.core.display.HTML object>"
      ]
     },
     "metadata": {},
     "output_type": "display_data"
    },
    {
     "data": {
      "text/html": [
       "<span style=\"color:#7E57C2\"><h2 style=\"font-size:16px\">Hyperparameters:</h2></span>"
      ],
      "text/plain": [
       "<IPython.core.display.HTML object>"
      ]
     },
     "metadata": {},
     "output_type": "display_data"
    },
    {
     "data": {
      "text/html": [
       "<span style=\"color:cyan\"> |-C: 0.5890082881445585</span>"
      ],
      "text/plain": [
       "<IPython.core.display.HTML object>"
      ]
     },
     "metadata": {},
     "output_type": "display_data"
    },
    {
     "data": {
      "text/html": [
       "<span style=\"color:blue\"> |-PCA_components: 117</span>"
      ],
      "text/plain": [
       "<IPython.core.display.HTML object>"
      ]
     },
     "metadata": {},
     "output_type": "display_data"
    },
    {
     "data": {
      "text/html": [
       "<span style=\"color:cyan\"> |-Penalty: l2</span>"
      ],
      "text/plain": [
       "<IPython.core.display.HTML object>"
      ]
     },
     "metadata": {},
     "output_type": "display_data"
    },
    {
     "data": {
      "text/html": [
       "<span style=\"color:blue\"> |-Tolerance: 0.023943601773986134</span>"
      ],
      "text/plain": [
       "<IPython.core.display.HTML object>"
      ]
     },
     "metadata": {},
     "output_type": "display_data"
    },
    {
     "data": {
      "text/html": [
       "<span style=\"color:cyan\"> |-scale1: MinMax</span>"
      ],
      "text/plain": [
       "<IPython.core.display.HTML object>"
      ]
     },
     "metadata": {},
     "output_type": "display_data"
    },
    {
     "data": {
      "text/html": [
       "<span style=\"color:blue\"> |-scale2: Robust</span>"
      ],
      "text/plain": [
       "<IPython.core.display.HTML object>"
      ]
     },
     "metadata": {},
     "output_type": "display_data"
    },
    {
     "data": {
      "text/html": [
       "<span style=\"color:#4527A0\"><h1 style=\"font-size:18px\">Trial complete</h1></span>"
      ],
      "text/plain": [
       "<IPython.core.display.HTML object>"
      ]
     },
     "metadata": {},
     "output_type": "display_data"
    },
    {
     "data": {
      "text/html": [
       "<span style=\"color:#4527A0\"><h1 style=\"font-size:18px\">Trial summary</h1></span>"
      ],
      "text/plain": [
       "<IPython.core.display.HTML object>"
      ]
     },
     "metadata": {},
     "output_type": "display_data"
    },
    {
     "data": {
      "text/html": [
       "<span style=\"color:cyan\"> |-Trial ID: fcc8fec20b1aa1ec1beb458a9189332c</span>"
      ],
      "text/plain": [
       "<IPython.core.display.HTML object>"
      ]
     },
     "metadata": {},
     "output_type": "display_data"
    },
    {
     "data": {
      "text/html": [
       "<span style=\"color:cyan\"> |-Score: 0.6427506108539098</span>"
      ],
      "text/plain": [
       "<IPython.core.display.HTML object>"
      ]
     },
     "metadata": {},
     "output_type": "display_data"
    },
    {
     "data": {
      "text/html": [
       "<span style=\"color:cyan\"> |-Best step: 0</span>"
      ],
      "text/plain": [
       "<IPython.core.display.HTML object>"
      ]
     },
     "metadata": {},
     "output_type": "display_data"
    },
    {
     "data": {
      "text/html": [
       "<span style=\"color:#7E57C2\"><h2 style=\"font-size:16px\">Hyperparameters:</h2></span>"
      ],
      "text/plain": [
       "<IPython.core.display.HTML object>"
      ]
     },
     "metadata": {},
     "output_type": "display_data"
    },
    {
     "data": {
      "text/html": [
       "<span style=\"color:cyan\"> |-C: 0.2523352370520065</span>"
      ],
      "text/plain": [
       "<IPython.core.display.HTML object>"
      ]
     },
     "metadata": {},
     "output_type": "display_data"
    },
    {
     "data": {
      "text/html": [
       "<span style=\"color:blue\"> |-PCA_components: 126</span>"
      ],
      "text/plain": [
       "<IPython.core.display.HTML object>"
      ]
     },
     "metadata": {},
     "output_type": "display_data"
    },
    {
     "data": {
      "text/html": [
       "<span style=\"color:cyan\"> |-Penalty: l2</span>"
      ],
      "text/plain": [
       "<IPython.core.display.HTML object>"
      ]
     },
     "metadata": {},
     "output_type": "display_data"
    },
    {
     "data": {
      "text/html": [
       "<span style=\"color:blue\"> |-Tolerance: 0.896455502355444</span>"
      ],
      "text/plain": [
       "<IPython.core.display.HTML object>"
      ]
     },
     "metadata": {},
     "output_type": "display_data"
    },
    {
     "data": {
      "text/html": [
       "<span style=\"color:cyan\"> |-scale1: Normalize</span>"
      ],
      "text/plain": [
       "<IPython.core.display.HTML object>"
      ]
     },
     "metadata": {},
     "output_type": "display_data"
    },
    {
     "data": {
      "text/html": [
       "<span style=\"color:blue\"> |-scale2: MinMax</span>"
      ],
      "text/plain": [
       "<IPython.core.display.HTML object>"
      ]
     },
     "metadata": {},
     "output_type": "display_data"
    },
    {
     "data": {
      "text/html": [
       "<span style=\"color:#4527A0\"><h1 style=\"font-size:18px\">Trial complete</h1></span>"
      ],
      "text/plain": [
       "<IPython.core.display.HTML object>"
      ]
     },
     "metadata": {},
     "output_type": "display_data"
    },
    {
     "data": {
      "text/html": [
       "<span style=\"color:#4527A0\"><h1 style=\"font-size:18px\">Trial summary</h1></span>"
      ],
      "text/plain": [
       "<IPython.core.display.HTML object>"
      ]
     },
     "metadata": {},
     "output_type": "display_data"
    },
    {
     "data": {
      "text/html": [
       "<span style=\"color:cyan\"> |-Trial ID: 49644e558191ed49056ab7978161d130</span>"
      ],
      "text/plain": [
       "<IPython.core.display.HTML object>"
      ]
     },
     "metadata": {},
     "output_type": "display_data"
    },
    {
     "data": {
      "text/html": [
       "<span style=\"color:cyan\"> |-Score: 0.5783776291723822</span>"
      ],
      "text/plain": [
       "<IPython.core.display.HTML object>"
      ]
     },
     "metadata": {},
     "output_type": "display_data"
    },
    {
     "data": {
      "text/html": [
       "<span style=\"color:cyan\"> |-Best step: 0</span>"
      ],
      "text/plain": [
       "<IPython.core.display.HTML object>"
      ]
     },
     "metadata": {},
     "output_type": "display_data"
    },
    {
     "data": {
      "text/html": [
       "<span style=\"color:#7E57C2\"><h2 style=\"font-size:16px\">Hyperparameters:</h2></span>"
      ],
      "text/plain": [
       "<IPython.core.display.HTML object>"
      ]
     },
     "metadata": {},
     "output_type": "display_data"
    },
    {
     "data": {
      "text/html": [
       "<span style=\"color:cyan\"> |-C: 0.30134544443566896</span>"
      ],
      "text/plain": [
       "<IPython.core.display.HTML object>"
      ]
     },
     "metadata": {},
     "output_type": "display_data"
    },
    {
     "data": {
      "text/html": [
       "<span style=\"color:blue\"> |-PCA_components: 84</span>"
      ],
      "text/plain": [
       "<IPython.core.display.HTML object>"
      ]
     },
     "metadata": {},
     "output_type": "display_data"
    },
    {
     "data": {
      "text/html": [
       "<span style=\"color:cyan\"> |-Penalty: l2</span>"
      ],
      "text/plain": [
       "<IPython.core.display.HTML object>"
      ]
     },
     "metadata": {},
     "output_type": "display_data"
    },
    {
     "data": {
      "text/html": [
       "<span style=\"color:blue\"> |-Tolerance: 0.8498396345456706</span>"
      ],
      "text/plain": [
       "<IPython.core.display.HTML object>"
      ]
     },
     "metadata": {},
     "output_type": "display_data"
    },
    {
     "data": {
      "text/html": [
       "<span style=\"color:cyan\"> |-scale1: Normalize</span>"
      ],
      "text/plain": [
       "<IPython.core.display.HTML object>"
      ]
     },
     "metadata": {},
     "output_type": "display_data"
    },
    {
     "data": {
      "text/html": [
       "<span style=\"color:blue\"> |-scale2: MinMax</span>"
      ],
      "text/plain": [
       "<IPython.core.display.HTML object>"
      ]
     },
     "metadata": {},
     "output_type": "display_data"
    },
    {
     "data": {
      "text/html": [
       "<span style=\"color:#4527A0\"><h1 style=\"font-size:18px\">Trial complete</h1></span>"
      ],
      "text/plain": [
       "<IPython.core.display.HTML object>"
      ]
     },
     "metadata": {},
     "output_type": "display_data"
    },
    {
     "data": {
      "text/html": [
       "<span style=\"color:#4527A0\"><h1 style=\"font-size:18px\">Trial summary</h1></span>"
      ],
      "text/plain": [
       "<IPython.core.display.HTML object>"
      ]
     },
     "metadata": {},
     "output_type": "display_data"
    },
    {
     "data": {
      "text/html": [
       "<span style=\"color:cyan\"> |-Trial ID: a12c240f59713e90eb152bf19862d30c</span>"
      ],
      "text/plain": [
       "<IPython.core.display.HTML object>"
      ]
     },
     "metadata": {},
     "output_type": "display_data"
    },
    {
     "data": {
      "text/html": [
       "<span style=\"color:cyan\"> |-Score: 0.6517866047953811</span>"
      ],
      "text/plain": [
       "<IPython.core.display.HTML object>"
      ]
     },
     "metadata": {},
     "output_type": "display_data"
    },
    {
     "data": {
      "text/html": [
       "<span style=\"color:cyan\"> |-Best step: 0</span>"
      ],
      "text/plain": [
       "<IPython.core.display.HTML object>"
      ]
     },
     "metadata": {},
     "output_type": "display_data"
    },
    {
     "data": {
      "text/html": [
       "<span style=\"color:#7E57C2\"><h2 style=\"font-size:16px\">Hyperparameters:</h2></span>"
      ],
      "text/plain": [
       "<IPython.core.display.HTML object>"
      ]
     },
     "metadata": {},
     "output_type": "display_data"
    },
    {
     "data": {
      "text/html": [
       "<span style=\"color:cyan\"> |-C: 0.7665479620714348</span>"
      ],
      "text/plain": [
       "<IPython.core.display.HTML object>"
      ]
     },
     "metadata": {},
     "output_type": "display_data"
    },
    {
     "data": {
      "text/html": [
       "<span style=\"color:blue\"> |-PCA_components: 168</span>"
      ],
      "text/plain": [
       "<IPython.core.display.HTML object>"
      ]
     },
     "metadata": {},
     "output_type": "display_data"
    },
    {
     "data": {
      "text/html": [
       "<span style=\"color:cyan\"> |-Penalty: l2</span>"
      ],
      "text/plain": [
       "<IPython.core.display.HTML object>"
      ]
     },
     "metadata": {},
     "output_type": "display_data"
    },
    {
     "data": {
      "text/html": [
       "<span style=\"color:blue\"> |-Tolerance: 0.9551942308895254</span>"
      ],
      "text/plain": [
       "<IPython.core.display.HTML object>"
      ]
     },
     "metadata": {},
     "output_type": "display_data"
    },
    {
     "data": {
      "text/html": [
       "<span style=\"color:cyan\"> |-scale1: Normalize</span>"
      ],
      "text/plain": [
       "<IPython.core.display.HTML object>"
      ]
     },
     "metadata": {},
     "output_type": "display_data"
    },
    {
     "data": {
      "text/html": [
       "<span style=\"color:blue\"> |-scale2: MinMax</span>"
      ],
      "text/plain": [
       "<IPython.core.display.HTML object>"
      ]
     },
     "metadata": {},
     "output_type": "display_data"
    },
    {
     "name": "stdout",
     "output_type": "stream",
     "text": [
      "INFO:tensorflow:Oracle triggered exit\n",
      "\n",
      "/mnt/b/Git_Projects/Biospec_Analysis/Plots/1year/07.08.2020_10:54\n"
     ]
    }
   ],
   "source": [
    "group = \"Patient_Number\"\n",
    "y = \"1year\"\n",
    "\n",
    "#data = (total - paraffin.mean(axis = 0)).sample(frac = 0.1)\n",
    "data = total.copy().sample(frac = 0.5)#.reset_index([\"ASMA\"]).dropna(subset = [\"ASMA\"]).loc[:,[\"ASMA\"]]\n",
    "data=sampled\n",
    "data[\"sample_weights\"] = Cross_Eval.get_weights(data.reset_index()[f\"{group}\"]) * Cross_Eval.get_weights(data.reset_index()[f\"{y}\"])\n",
    "unique_patients = data.reset_index()[f\"{group}\"].unique()\n",
    "\n",
    "\n",
    "kfoldscores = []\n",
    "clfs = []\n",
    "\n",
    "model_func = build_LR\n",
    "\n",
    "\n",
    "for train_i, valid_i in tqdm(list(KFold(n_splits = 3, shuffle = True).split(unique_patients))):\n",
    "    \n",
    "    train_pat, valid_pat = unique_patients[train_i], unique_patients[valid_i]\n",
    "\n",
    "    train_data = data.query(f\"{group} in {list(train_pat)}\")\n",
    "    validation_data = data.query(f\"{group} in {list(valid_pat)}\")\n",
    "\n",
    "    X_train = train_data.drop([\"sample_weights\"], axis = 1)\n",
    "    X_valid = validation_data.drop([\"sample_weights\"], axis = 1)\n",
    "    \n",
    "    y_train, y_valid = train_data.reset_index()[f\"{y}\"], validation_data.reset_index()[f\"{y}\"]\n",
    "    w_train, w_test = train_data.reset_index()[\"sample_weights\"], validation_data.reset_index()[\"sample_weights\"]\n",
    "\n",
    "    y_train.index = X_train.index\n",
    "    y_valid.index = X_valid.index\n",
    "\n",
    "    groups = X_train.reset_index(f\"{group}\")[f\"{group}\"]\n",
    "    #groups.index = X_train.index\n",
    "\n",
    "    lb = LabelBinarizer().fit(total.reset_index()[f\"{y}\"].unique())\n",
    "\n",
    "    y_train_b = pd.DataFrame(lb.transform(y_train), index = y_train.index)\n",
    "    y_valid_b = pd.DataFrame(lb.transform(y_valid), index = y_valid.index)\n",
    "    \n",
    "    #---------------------------------------------------------------------------------------------------\n",
    "    oracle = kt.oracles.BayesianOptimization(objective = kt.Objective('score', 'max')\n",
    "                                             , max_trials = 10)\n",
    "                                                          \n",
    "    tuner = kt.tuners.Sklearn(oracle = oracle\n",
    "                              , cv = GroupKFold(n_splits = 2)\n",
    "                              , hypermodel = model_func\n",
    "                              , directory = os.path.join(os.getcwd(), \"KerasTuner\", datetime.now().strftime(\"%d.%m.%Y_%H:%M:%S\"))\n",
    "                              , scoring = make_scorer(roc_auc_score, needs_proba = True, average = 'weighted')\n",
    "                             )\n",
    "\n",
    "    tuner.search(X_train.values.squeeze(),\n",
    "                 y_train_b.values.squeeze(),\n",
    "                 groups=groups,\n",
    "                 sample_weight=w_train\n",
    "                 #validation_data=(X_valid, y_valid_b)\n",
    "                )\n",
    "    \n",
    "    clf = model_func(tuner.get_best_hyperparameters()[0])\n",
    "    \n",
    "    # Refit the classifier with the best parameters on the full dataset\n",
    "    clf.fit(X_train, y_train_b.values.ravel(),clf__sample_weight=w_train)\n",
    "    clfs.append(clf)\n",
    "    #---------------------------------------------------------------------------------------------------\n",
    "     \n",
    "    scores = Cross_Eval.score(clf, X_valid, y_valid_b.iloc[:,0])\n",
    "    pat_scores = {f\"Pat_{key}\": value for key, value in Cross_Eval.patient_score(clf, X_valid, y_valid_b).items()}\n",
    "\n",
    "    scores = {**scores, **pat_scores}\n",
    "        \n",
    "    kfoldscores.append(scores)\n",
    "    \n",
    "    \"\"\"\n",
    "    try: #Try except statement in case of scoring problems\n",
    "        scores = Cross_Eval.score(clf, X_valid, y_valid_b.iloc[:,0])\n",
    "        pat_scores = {f\"Pat_{key}\": value for key, value in Cross_Eval.patient_score(clf, X_valid, y_valid_b.iloc[:,0]).items()}\n",
    "\n",
    "        scores = {**scores, **pat_scores}\n",
    "        \n",
    "    except:\n",
    "        continue\n",
    "    \"\"\"\n",
    "\n",
    "    \n",
    "date_time = datetime.now().strftime(\"%d.%m.%Y_%H:%M\")\n",
    "file_place = os.path.join(os.getcwd(), \"Plots\", y, date_time)\n",
    "\n",
    "if not os.path.exists(file_place): os.makedirs(file_place)\n",
    "print(file_place)\n",
    "\n",
    "title = f\"{y}, {date_time}, with ECS\"\n",
    "\n",
    "results = pd.DataFrame(kfoldscores)"
   ]
  },
  {
   "cell_type": "code",
   "execution_count": 37,
   "metadata": {},
   "outputs": [
    {
     "data": {
      "image/png": "[encoded data removed]",
      "text/plain": [
       "<Figure size 864x360 with 2 Axes>"
      ]
     },
     "metadata": {
      "needs_background": "light"
     },
     "output_type": "display_data"
    }
   ],
   "source": [
    "fig, (ax, ax2) = plt.subplots(ncols = 2, figsize = (12, 5))\n",
    "#fig.suptitle(y_Var)\n",
    "\n",
    "for _, row in results.iterrows():\n",
    "    \n",
    "    ax.plot(row[\"FPR_curve\"], row[\"TPR_curve\"])\n",
    "    \n",
    "ax.plot([0,1],[0,1], c = \"black\", linestyle = '--')\n",
    "ax.set_xlabel('False Positive Rate')\n",
    "ax.set_ylabel('True Positive Rate')\n",
    "ax.set_title('ROC Curve')\n",
    "\n",
    "ax.text(0.65, 0.2, \"AUC:{:.2f} +/- {:.2f}\".format(results[\"AUC\"].mean(), results[\"AUC\"].std()))\n",
    "\n",
    "for _, row in results.iterrows():\n",
    "    \n",
    "    ax2.plot(row[\"rec_curve\"], row[\"prec_curve\"])\n",
    "    \n",
    "ax2.set_xlabel('Recall')\n",
    "ax2.set_ylabel('Precision')\n",
    "ax2.set_title('Precision Recall Curve');\n",
    "\n",
    "fig.savefig(os.path.join(file_place, \"ROC_scores.png\"), bbox_inches = 'tight')"
   ]
  },
  {
   "cell_type": "code",
   "execution_count": 38,
   "metadata": {},
   "outputs": [
    {
     "data": {
      "image/png": "[encoded data removed]",
      "text/plain": [
       "<Figure size 432x288 with 1 Axes>"
      ]
     },
     "metadata": {
      "needs_background": "light"
     },
     "output_type": "display_data"
    }
   ],
   "source": [
    "fig, ax = plt.subplots(ncols = 1)\n",
    "\n",
    "results[[\"AUC\", \"Specificity\", \"Sensitivity\", \"Precision\", \"Recall\", \"F1\"]].plot.box(ax = ax)\n",
    "ax.set_ylabel(\"Score\");\n",
    "\n",
    "results.to_excel(os.path.join(file_place, \"Confusion_Matrix_bad.xlsx\"))\n",
    "fig.savefig(os.path.join(file_place, \"scores.png\"), bbox_inches = 'tight')"
   ]
  },
  {
   "cell_type": "code",
   "execution_count": 39,
   "metadata": {},
   "outputs": [
    {
     "data": {
      "image/png": "[encoded data removed]",
      "text/plain": [
       "<Figure size 864x360 with 2 Axes>"
      ]
     },
     "metadata": {
      "needs_background": "light"
     },
     "output_type": "display_data"
    }
   ],
   "source": [
    "fig, (ax, ax2) = plt.subplots(ncols = 2, figsize = (12, 5))\n",
    "#fig.suptitle(y_Var)\n",
    "\n",
    "for _, row in results.iterrows():\n",
    "    \n",
    "    ax.plot(row[\"Pat_FPR_curve\"], row[\"Pat_TPR_curve\"])\n",
    "    \n",
    "ax.plot([0,1],[0,1], c = \"black\", linestyle = '--')\n",
    "ax.set_xlabel('False Positive Rate')\n",
    "ax.set_ylabel('True Positive Rate')\n",
    "ax.set_title('ROC Curve')\n",
    "\n",
    "ax.text(0.65, 0.2, \"AUC:{:.2f} +/- {:.2f}\".format(results[\"Pat_AUC\"].mean(), results[\"Pat_AUC\"].std()))\n",
    "\n",
    "for _, row in results.iterrows():\n",
    "    \n",
    "    ax2.plot(row[\"Pat_rec_curve\"], row[\"Pat_prec_curve\"])\n",
    "    \n",
    "ax2.set_xlabel('Recall')\n",
    "ax2.set_ylabel('Precision')\n",
    "ax2.set_title('Precision Recall Curve');\n",
    "\n",
    "fig.savefig(os.path.join(file_place, \"pat_ROC_scores.png\"), bbox_inches = 'tight')"
   ]
  },
  {
   "cell_type": "code",
   "execution_count": 40,
   "metadata": {},
   "outputs": [
    {
     "data": {
      "image/png": "[encoded data removed]",
      "text/plain": [
       "<Figure size 576x216 with 1 Axes>"
      ]
     },
     "metadata": {
      "needs_background": "light"
     },
     "output_type": "display_data"
    }
   ],
   "source": [
    "fig, ax = plt.subplots(ncols = 1, figsize=(8,3))\n",
    "\n",
    "results[[\"Pat_AUC\", \"Pat_Specificity\", \"Pat_Sensitivity\", \"Pat_Precision\", \"Pat_Recall\", \"Pat_F1\"]].plot.box(ax = ax)\n",
    "ax.set_ylabel(\"Score\");\n",
    "\n",
    "results.to_excel(os.path.join(file_place, \"Confusion_Matrix_bad.xlsx\"))\n",
    "fig.savefig(os.path.join(file_place, \"pat_scores.png\"), bbox_inches = 'tight')"
   ]
  },
  {
   "cell_type": "code",
   "execution_count": 43,
   "metadata": {},
   "outputs": [],
   "source": [
    "from sklearn.model_selection import StratifiedKFold"
   ]
  },
  {
   "cell_type": "code",
   "execution_count": null,
   "metadata": {},
   "outputs": [],
   "source": [
    "y_Var = \"ECS\"\n",
    "\n",
    "data = new_metadata.copy().dropna(subset = [\"ASMA\"])#.loc[:,[\"ASMA\"]]\n",
    "\n",
    "X = data.loc[:,[\"ASMA\"]]\n",
    "y = pd.DataFrame(lb.fit_transform(data.reset_index()[f\"{y_Var}\"])).iloc[:,0]\n",
    "\n",
    "\n",
    "OHE = OneHotEncoder(sparse = False)\n",
    "#OHE.fit(data.reset_index()[\"ASMA\"].values.reshape(-1,1))\n",
    "\n",
    "categorical_pipe = Pipeline([\n",
    "    (\"OneHot\", OHE)\n",
    "])\n",
    "\n",
    "pipe = Pipeline([\n",
    "    (\"Preprocessing\", categorical_pipe),\n",
    "    (\"clf\", LinearDiscriminantAnalysis())\n",
    "])\n",
    "\n",
    "scores = []\n",
    "\n",
    "for train_i, test_i in StratifiedKFold(5, shuffle = True).split(X, y):\n",
    "    \n",
    "    clf = pipe.fit(X.iloc[train_i], y.iloc[train_i])\n",
    "    \n",
    "    scores.append(Cross_Eval.score(clf, X.iloc[test_i], y.iloc[test_i]))\n",
    "    \n",
    "results = pd.DataFrame(scores)"
   ]
  },
  {
   "cell_type": "code",
   "execution_count": null,
   "metadata": {},
   "outputs": [],
   "source": [
    "fig, (ax, ax2) = plt.subplots(ncols = 2, figsize = (12, 5))\n",
    "#fig.suptitle(y_Var)\n",
    "\n",
    "for _, row in results.iterrows():\n",
    "    \n",
    "    ax.plot(row[\"FPR_curve\"], row[\"TPR_curve\"])\n",
    "    \n",
    "ax.plot([0,1],[0,1], c = \"black\", linestyle = '--')\n",
    "ax.set_xlabel('False Positive Rate')\n",
    "ax.set_ylabel('True Positive Rate')\n",
    "ax.set_title('ROC Curve')\n",
    "\n",
    "ax.text(0.65, 0.2, \"AUC:{:.2f} +/- {:.2f}\".format(results[\"AUC\"].mean(), results[\"AUC\"].std()))\n",
    "\n",
    "for _, row in results.iterrows():\n",
    "    \n",
    "    ax2.plot(row[\"rec_curve\"], row[\"prec_curve\"])\n",
    "    \n",
    "ax2.set_xlabel('Recall')\n",
    "ax2.set_ylabel('Precision')\n",
    "ax2.set_title('Precision Recall Curve');\n",
    "\n",
    "#fig.savefig(os.path.join(file_place, \"ROC_scores.png\"), bbox_inches = 'tight')"
   ]
  },
  {
   "cell_type": "code",
   "execution_count": null,
   "metadata": {},
   "outputs": [],
   "source": [
    "fig, (ax, ax2) = plt.subplots(ncols = 2, figsize = (12, 5))\n",
    "#fig.suptitle(y_Var)\n",
    "\n",
    "for _, row in results.iterrows():\n",
    "    \n",
    "    ax.plot(row[\"FPR_curve\"], row[\"TPR_curve\"])\n",
    "    \n",
    "ax.plot([0,1],[0,1], c = \"black\", linestyle = '--')\n",
    "ax.set_xlabel('False Positive Rate')\n",
    "ax.set_ylabel('True Positive Rate')\n",
    "ax.set_title('ROC Curve')\n",
    "\n",
    "ax.text(0.65, 0.2, \"AUC:{:.2f} +/- {:.2f}\".format(results[\"AUC\"].mean(), results[\"AUC\"].std()))\n",
    "\n",
    "for _, row in results.iterrows():\n",
    "    \n",
    "    ax2.plot(row[\"rec_curve\"], row[\"prec_curve\"])\n",
    "    \n",
    "ax2.set_xlabel('Recall')\n",
    "ax2.set_ylabel('Precision')\n",
    "ax2.set_title('Precision Recall Curve');\n",
    "\n",
    "#fig.savefig(os.path.join(file_place, \"ROC_scores.png\"), bbox_inches = 'tight')"
   ]
  },
  {
   "cell_type": "code",
   "execution_count": null,
   "metadata": {},
   "outputs": [],
   "source": [
    "results.describe()"
   ]
  },
  {
   "cell_type": "code",
   "execution_count": null,
   "metadata": {},
   "outputs": [],
   "source": [
    "fig, ax = plt.subplots(ncols = 1)\n",
    "fig.suptitle(y_Var)\n",
    "\n",
    "results[[\"AUC\", \"Specificity\", \"Sensitivity\", \"Precision\", \"Recall\", \"F1\"]].plot.box(ax = ax)\n",
    "ax.set_ylabel(\"Score\");\n",
    "\n",
    "#results.to_excel(os.path.join(file_place, \"Confusion_Matrix_bad.xlsx\"))\n",
    "#fig.savefig(os.path.join(file_place, \"scores.png\"), bbox_inches = 'tight')"
   ]
  },
  {
   "cell_type": "code",
   "execution_count": null,
   "metadata": {},
   "outputs": [],
   "source": [
    "fig, (ax, ax2) = plt.subplots(ncols = 2, figsize = (12, 5))\n",
    "fig.suptitle(title)\n",
    "\n",
    "for _, row in results.iterrows():\n",
    "    \n",
    "    ax.plot(row[\"FPR_curve\"], row[\"TPR_curve\"])\n",
    "    \n",
    "ax.plot([0,1],[0,1], c = \"black\", linestyle = '--')\n",
    "ax.set_xlabel('False Positive Rate')\n",
    "ax.set_ylabel('True Positive Rate')\n",
    "ax.set_title('ROC Curve')\n",
    "\n",
    "ax.text(0.65, 0.2, \"AUC:{:.2f} +/- {:.2f}\".format(results[\"AUC\"].mean(), results[\"AUC\"].std()))\n",
    "\n",
    "for _, row in results.iterrows():\n",
    "    \n",
    "    ax2.plot(row[\"rec_curve\"], row[\"prec_curve\"])\n",
    "    \n",
    "ax2.set_xlabel('Recall')\n",
    "ax2.set_ylabel('Precision')\n",
    "ax2.set_title('Precision Recall Curve')\n",
    "\n",
    "fig.savefig(os.path.join(file_place, \"ROC_scores.png\"), bbox_inches = 'tight')"
   ]
  },
  {
   "cell_type": "code",
   "execution_count": null,
   "metadata": {},
   "outputs": [],
   "source": [
    "results.describe()"
   ]
  },
  {
   "cell_type": "code",
   "execution_count": null,
   "metadata": {},
   "outputs": [],
   "source": [
    "fig, ax = plt.subplots(ncols = 1)\n",
    "fig.suptitle(title)\n",
    "\n",
    "results[[\"AUC\", \"Specificity\", \"Sensitivity\", \"Precision\", \"Recall\", \"F1\"]].plot.box(ax = ax)\n",
    "ax.set_ylabel(\"Score\")\n",
    "\n",
    "results.to_excel(os.path.join(file_place, \"Confusion_Matrix_bad.xlsx\"))\n",
    "fig.savefig(os.path.join(file_place, \"scores.png\"), bbox_inches = 'tight')"
   ]
  },
  {
   "cell_type": "markdown",
   "metadata": {},
   "source": [
    "## Repeat evaluation on patient basis"
   ]
  },
  {
   "cell_type": "code",
   "execution_count": null,
   "metadata": {},
   "outputs": [],
   "source": [
    "y_pred"
   ]
  },
  {
   "cell_type": "code",
   "execution_count": null,
   "metadata": {},
   "outputs": [],
   "source": [
    "Cross_Eval.patient_score(results)"
   ]
  },
  {
   "cell_type": "code",
   "execution_count": null,
   "metadata": {},
   "outputs": [],
   "source": [
    "results.T"
   ]
  },
  {
   "cell_type": "code",
   "execution_count": null,
   "metadata": {},
   "outputs": [],
   "source": [
    "results.y_true.values[0]"
   ]
  },
  {
   "cell_type": "code",
   "execution_count": null,
   "metadata": {},
   "outputs": [],
   "source": [
    "results"
   ]
  },
  {
   "cell_type": "code",
   "execution_count": null,
   "metadata": {},
   "outputs": [],
   "source": [
    "patient_preds = results.y_pred.copy()\n",
    "patient_preds[\"predictions\"] = predictions\n",
    "patient_preds.index = X_valid.index"
   ]
  },
  {
   "cell_type": "code",
   "execution_count": null,
   "metadata": {},
   "outputs": [],
   "source": [
    "def agg_scores(columns):\n",
    "    \n",
    "    return columns.sum()/columns.size"
   ]
  },
  {
   "cell_type": "code",
   "execution_count": null,
   "metadata": {},
   "outputs": [],
   "source": [
    "patient_preds.groupby(\"Patient_Number\").agg(agg_scores)"
   ]
  },
  {
   "cell_type": "code",
   "execution_count": null,
   "metadata": {},
   "outputs": [],
   "source": [
    "y_true = patient_preds.groupby(\"Patient_Number\").agg(agg_scores).loc[:, 0]\n",
    "y_pred = patient_preds.groupby(\"Patient_Number\").agg(agg_scores).loc[:,\"predictions\"]\n",
    "\n",
    "y_pred_nopt = np.array([0 if score < 0.5 else 1 for score in y_pred])\n",
    "y_pred_opt = np.array([0 if score < opt else 1 for score in y_pred])\n",
    "\n",
    "fpr, tpr, t = roc_curve(y_true, y_pred)\n",
    "AUC = roc_auc_score(y_true, y_pred)\n",
    "\n",
    "scores = np.array([np.sqrt(((1-t)**2)+((0-(f))**2)) for f, t in zip(fpr,tpr)])\n",
    "threshi = np.argmin(scores)\n",
    "\n",
    "prec, rec, _ = precision_recall_curve(y_true, y_pred)\n",
    "\n",
    "opt = t[threshi]"
   ]
  },
  {
   "cell_type": "code",
   "execution_count": null,
   "metadata": {},
   "outputs": [],
   "source": [
    "fig, ax = plt.subplots()\n",
    "\n",
    "ax.plot(t , scores, label = \"Score\")\n",
    "#ax.plot(t , tpr, label = \"True positive rate\")\n",
    "#ax.plot(t , fpr, label = \"False positive rate\")\n",
    "ax.set_title('Optimal decision threshold')\n",
    "ax.set_xlabel(\"Threshold\")\n",
    "ax.set_ylabel(\"$\\sqrt{(1-FPR)^2 + (0-TPR)^2}$\")\n",
    "ax.axvline(opt, c = \"r\")\n",
    "ax.text(opt + 0.1, 0.95, f\"Opt threshold {opt:.2f}\")\n",
    "ax.legend()\n",
    "\n",
    "fig.savefig(os.path.join(file_place, \"Optimal_Thresh.png\"), bbox_inches = 'tight')"
   ]
  },
  {
   "cell_type": "code",
   "execution_count": null,
   "metadata": {},
   "outputs": [],
   "source": [
    "from sklearn.metrics import precision_recall_curve\n",
    "from sklearn.metrics import plot_precision_recall_curve"
   ]
  },
  {
   "cell_type": "code",
   "execution_count": null,
   "metadata": {},
   "outputs": [],
   "source": [
    "fig, (ax, ax2) = plt.subplots(ncols = 2, figsize = (12, 5))\n",
    "\n",
    "ax.plot(fpr, tpr)\n",
    "ax.plot([0,1],[0,1], linestyle = '--')\n",
    "ax.set_xlabel('False Positive Rate')\n",
    "ax.set_ylabel('True Positive Rate')\n",
    "ax.set_title('ECS ROC Curve')\n",
    "ax.plot([0, fpr[threshi]], [1, tpr[threshi]], linestyle = \"--\")\n",
    "ax.text(0.8, 0.2, f\"AUC {AUC:.2f}\")\n",
    "\n",
    "ax2.plot(rec, prec)\n",
    "ax2.set_xlabel('Recall')\n",
    "ax2.set_ylabel('Precision')\n",
    "ax2.set_title('Precision Recall Curve')\n",
    "\n",
    "fig.savefig(os.path.join(file_place, \"ROC_Curve_Opt.png\"), bbox_inches = 'tight')"
   ]
  },
  {
   "cell_type": "code",
   "execution_count": null,
   "metadata": {},
   "outputs": [],
   "source": [
    "scorers = {\n",
    "\"Weighted Accuracy\" : scoring(y_true, y_pred_nopt, metric = 'average per-class accuracy'),\n",
    "\"Specificity\" : scoring(y_true, y_pred_nopt, metric = 'specificity'),\n",
    "\"Sensitivity\": scoring(y_true, y_pred_nopt, metric = 'sensitivity'),\n",
    "\"F1_Score\" : f1_score(y_true, y_pred_nopt, average = 'weighted')\n",
    "    }\n",
    "\n",
    "print(\"weighted accuracy: \\t{:.2f}\".format(scoring(y_true, y_pred_nopt, metric = 'average per-class accuracy')))\n",
    "print(\"specificity: \\t\\t{:.2f}\".format(scoring(y_true, y_pred_nopt, metric = 'specificity')))\n",
    "print(\"sensitivity: \\t\\t{:.2f}\".format(scoring(y_true, y_pred_nopt, metric = 'sensitivity')))\n",
    "print(\"F1: \\t\\t\\t{:.2f}\".format(f1_score(y_true, y_pred_nopt, average = 'weighted')))\n",
    "\n",
    "scorers = pd.DataFrame({\"Score\": scorers}).round(2)\n",
    "scorers.to_excel(os.path.join(os.getcwd(), \"Confusion_Matrix_bad.xlsx\"))\n",
    "\n",
    "fig = plotCM(y_true, y_pred_nopt, np.unique(y_valid))\n",
    "#fig.savefig(os.path.join(file_place, \"Confusion_Matrix_bad.png\"), bbox_inches = 'tight')"
   ]
  },
  {
   "cell_type": "code",
   "execution_count": null,
   "metadata": {},
   "outputs": [],
   "source": [
    "scorers = {\n",
    "#\"Weighted Accuracy\" : scoring(y_valid_b, predictions, metric = 'average per-class accuracy'),\n",
    "\"Specificity\" : scoring(y_true, y_pred_opt, metric = 'specificity'),\n",
    "\"Sensitivity\": scoring(y_true, y_pred_opt, metric = 'sensitivity'),\n",
    "\"F1_Score\" : f1_score(y_true, y_pred_opt, average = 'weighted')\n",
    "    }\n",
    "\n",
    "print(\"weighted accuracy: \\t{:.2f}\".format(scoring(y_true, y_pred_opt, metric = 'average per-class accuracy')))\n",
    "print(\"specificity: \\t\\t{:.2f}\".format(scoring(y_true, y_pred_opt, metric = 'specificity')))\n",
    "print(\"sensitivity: \\t\\t{:.2f}\".format(scoring(y_true, y_pred_opt, metric = 'sensitivity')))\n",
    "print(\"F1: \\t\\t\\t{:.2f}\".format(f1_score(y_true, y_pred_opt, average = 'weighted')))\n",
    "\n",
    "scorers = pd.DataFrame({\"Score\": scorers}).round(2)\n",
    "scorers.to_excel(os.path.join(file_place, \"scores.xlsx\"))\n",
    "\n",
    "fig = plotCM(y_true, y_pred_opt, np.unique(y_valid))\n",
    "#fig.savefig(os.path.join(file_place, \"Confusion_Matrix_good.png\"), bbox_inches = 'tight')"
   ]
  },
  {
   "cell_type": "code",
   "execution_count": null,
   "metadata": {},
   "outputs": [],
   "source": [
    "pred_results = y_valid_b.copy()\n",
    "pred_results.columns = [\"True\"]\n",
    "pred_results['Prediction'] = predictions\n",
    "\n",
    "scores.to_excel(os.path.join(file_place, \"score.xlsx\"))\n",
    "pred_results.to_excel(os.path.join(file_place, \"predictions.xlsx\"))"
   ]
  }
 ],
 "metadata": {
  "kernelspec": {
   "display_name": "Python 3",
   "language": "python",
   "name": "python3"
  },
  "language_info": {
   "codemirror_mode": {
    "name": "ipython",
    "version": 3
   },
   "file_extension": ".py",
   "mimetype": "text/x-python",
   "name": "python",
   "nbconvert_exporter": "python",
   "pygments_lexer": "ipython3",
   "version": "3.8.3"
  }
 },
 "nbformat": 4,
 "nbformat_minor": 4
}

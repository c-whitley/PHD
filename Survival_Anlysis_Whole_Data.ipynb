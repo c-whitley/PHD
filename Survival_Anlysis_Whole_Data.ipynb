{
 "cells": [
  {
   "cell_type": "code",
   "execution_count": 1,
   "source": [
    "%load_ext autoreload\n",
    "\n",
    "%autoreload 2"
   ],
   "outputs": [],
   "metadata": {}
  },
  {
   "cell_type": "code",
   "execution_count": 2,
   "source": [
    "from tqdm import tqdm\n",
    "import time\n",
    "import pickle\n",
    "import os\n",
    "import glob\n",
    "\n",
    "import numpy as np\n",
    "import pandas as pd\n",
    "import matplotlib.pyplot as plt\n",
    "import matplotlib\n",
    "import seaborn as sns\n",
    "\n",
    "import statsmodels.api as sm\n",
    "\n",
    "from scipy.stats import sem\n",
    "\n",
    "from lifelines import KaplanMeierFitter\n",
    "\n",
    "from bl_plots_new import km_plots, km_calculate, stats_plot"
   ],
   "outputs": [],
   "metadata": {}
  },
  {
   "cell_type": "code",
   "execution_count": 3,
   "source": [
    "from sklearn.metrics import make_scorer, confusion_matrix, roc_auc_score, roc_curve, plot_confusion_matrix, f1_score, recall_score, accuracy_score\n",
    "\n",
    "from sklearn.metrics import PrecisionRecallDisplay, precision_recall_curve\n",
    "from sklearn.metrics import ConfusionMatrixDisplay, confusion_matrix\n",
    "from sklearn.metrics import RocCurveDisplay, roc_curve"
   ],
   "outputs": [],
   "metadata": {}
  },
  {
   "cell_type": "code",
   "execution_count": 4,
   "source": [
    "FN = './Prognosis_Results/1_year_prediction_asma.hdf'\n",
    "\n",
    "metadata = pd.read_excel('/mnt/c/Users/conor/Git_Projects/PHD/metadata_0206.xlsx')"
   ],
   "outputs": [],
   "metadata": {}
  },
  {
   "cell_type": "code",
   "execution_count": 5,
   "source": [
    "results = pd.read_hdf(FN, key='Data')\n",
    "results.index = results.index.set_names('Split', level=0);\n",
    "\n",
    "metadadf = results.index.to_frame().reset_index(drop=True).merge(metadata, on = 'REF')\n",
    "\n",
    "results.index = pd.MultiIndex.from_frame(metadadf)"
   ],
   "outputs": [],
   "metadata": {}
  },
  {
   "cell_type": "code",
   "execution_count": null,
   "source": [
    "samp = results.sample(10000)"
   ],
   "outputs": [],
   "metadata": {}
  },
  {
   "cell_type": "code",
   "execution_count": null,
   "source": [
    "samp.mean().plot()"
   ],
   "outputs": [],
   "metadata": {}
  },
  {
   "cell_type": "code",
   "execution_count": 72,
   "source": [
    "pred = (samp.xs('LR_Preds', axis=1, level=0).iloc[:,1] > 0.5).values\n",
    "\n",
    "\n",
    "duration = samp.reset_index('survival (months)')['survival (months)']\n",
    "death = (samp.reset_index('DiedvsAlive')['DiedvsAlive'] == 'Died')\n"
   ],
   "outputs": [],
   "metadata": {}
  },
  {
   "cell_type": "code",
   "execution_count": 73,
   "source": [
    "fig, ax = plt.subplots()\n",
    "\n",
    "sm.SurvfuncRight(duration.loc[pred], death.loc[pred]).plot(ax=ax);\n",
    "sm.SurvfuncRight(duration.loc[~pred], death.loc[~pred]).plot(ax=ax);\n",
    "\n",
    "stat, p = sm.duration.survdiff(duration, death, pred)"
   ],
   "outputs": [
    {
     "output_type": "display_data",
     "data": {
      "text/plain": [
       "<Figure size 432x288 with 1 Axes>"
      ],
      "image/png": "[encoded data removed]"
     },
     "metadata": {
      "needs_background": "light"
     }
    }
   ],
   "metadata": {}
  },
  {
   "cell_type": "code",
   "execution_count": 74,
   "source": [
    "shuff = duration.values\n",
    "np.random.shuffle(shuff)\n",
    "\n",
    "stat, p = sm.duration.survdiff(shuff, death, pred)"
   ],
   "outputs": [],
   "metadata": {}
  },
  {
   "cell_type": "code",
   "execution_count": 75,
   "source": [
    "print(stat, p)"
   ],
   "outputs": [
    {
     "output_type": "stream",
     "name": "stdout",
     "text": [
      "21.101984253128208 4.354769626790933e-06\n"
     ]
    }
   ],
   "metadata": {}
  }
 ],
 "metadata": {
  "orig_nbformat": 4,
  "language_info": {
   "name": "python",
   "version": "3.8.0",
   "mimetype": "text/x-python",
   "codemirror_mode": {
    "name": "ipython",
    "version": 3
   },
   "pygments_lexer": "ipython3",
   "nbconvert_exporter": "python",
   "file_extension": ".py"
  },
  "kernelspec": {
   "name": "python3",
   "display_name": "Python 3.8.0 64-bit ('PHD': conda)"
  },
  "interpreter": {
   "hash": "eaa00e46caca58319536d0032152cd5eb76a9b72fbc9a3af026d9e62232c8082"
  }
 },
 "nbformat": 4,
 "nbformat_minor": 2
}
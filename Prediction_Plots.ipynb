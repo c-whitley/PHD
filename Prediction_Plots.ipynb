{
 "cells": [
  {
   "cell_type": "code",
   "execution_count": 1,
   "metadata": {},
   "outputs": [
    {
     "name": "stdout",
     "output_type": "stream",
     "text": [
      "C:\\Users\\Conor\\Anaconda3\\python.exe\n",
      "3.6.8 |Anaconda custom (64-bit)| (default, Feb 21 2019, 18:30:04) [MSC v.1916 64 bit (AMD64)]\n",
      "sys.version_info(major=3, minor=6, micro=8, releaselevel='final', serial=0)\n"
     ]
    }
   ],
   "source": [
    "import sys\n",
    "print(sys.executable)\n",
    "print(sys.version)\n",
    "print(sys.version_info)"
   ]
  },
  {
   "cell_type": "code",
   "execution_count": 2,
   "metadata": {
    "collapsed": true,
    "jupyter": {
     "outputs_hidden": true
    }
   },
   "outputs": [],
   "source": [
    "%load_ext autoreload\n",
    "\n",
    "%autoreload 2"
   ]
  },
  {
   "cell_type": "code",
   "execution_count": 2,
   "metadata": {
    "scrolled": true
   },
   "outputs": [],
   "source": [
    "import numpy as np\n",
    "import pandas as pd\n",
    "import matplotlib.pyplot as plt\n",
    "\n",
    "from mpl_toolkits.mplot3d import Axes3D"
   ]
  },
  {
   "cell_type": "markdown",
   "metadata": {},
   "source": [
    "# Load Data"
   ]
  },
  {
   "cell_type": "code",
   "execution_count": 26,
   "metadata": {},
   "outputs": [],
   "source": [
    "import os.path\n",
    "\n",
    "file_place = r\"C:\\Users\\Conor\\DataSets\"\n",
    "\n",
    "Breast_DF = pd.read_pickle(os.path.join(file_place,\"Breast_mie_corrected_new\"))"
   ]
  },
  {
   "cell_type": "code",
   "execution_count": 9,
   "metadata": {},
   "outputs": [],
   "source": [
    "import os.path\n",
    "\n",
    "file_place = r\"C:\\Users\\Conor\\DataSets\"\n",
    "\n",
    "Breast_DF = pd.read_pickle(os.path.join(file_place,\"breast_macro_dataset\"))"
   ]
  },
  {
   "cell_type": "code",
   "execution_count": 3,
   "metadata": {},
   "outputs": [],
   "source": [
    "import os.path\n",
    "\n",
    "file_place = r\"C:\\Users\\Conor\\DataSets\"\n",
    "\n",
    "Breast_DF = pd.read_pickle(os.path.join(file_place,\"Oesophageal_raw\"))"
   ]
  },
  {
   "cell_type": "code",
   "execution_count": 4,
   "metadata": {},
   "outputs": [
    {
     "data": {
      "text/html": [
       "<div>\n",
       "<style scoped>\n",
       "    .dataframe tbody tr th:only-of-type {\n",
       "        vertical-align: middle;\n",
       "    }\n",
       "\n",
       "    .dataframe tbody tr th {\n",
       "        vertical-align: top;\n",
       "    }\n",
       "\n",
       "    .dataframe thead th {\n",
       "        text-align: right;\n",
       "    }\n",
       "</style>\n",
       "<table border=\"1\" class=\"dataframe\">\n",
       "  <thead>\n",
       "    <tr style=\"text-align: right;\">\n",
       "      <th></th>\n",
       "      <th></th>\n",
       "      <th>999.0</th>\n",
       "      <th>1001.0</th>\n",
       "      <th>1003.0</th>\n",
       "      <th>1005.0</th>\n",
       "      <th>1007.0</th>\n",
       "      <th>1009.0</th>\n",
       "      <th>1011.0</th>\n",
       "      <th>1013.0</th>\n",
       "      <th>1015.0</th>\n",
       "      <th>1017.0</th>\n",
       "      <th>...</th>\n",
       "      <th>3783.0</th>\n",
       "      <th>3785.0</th>\n",
       "      <th>3787.0</th>\n",
       "      <th>3789.0</th>\n",
       "      <th>3790.0</th>\n",
       "      <th>3792.0</th>\n",
       "      <th>3794.0</th>\n",
       "      <th>3796.0</th>\n",
       "      <th>3798.0</th>\n",
       "      <th>3800.0</th>\n",
       "    </tr>\n",
       "    <tr>\n",
       "      <th>New_label</th>\n",
       "      <th>Label</th>\n",
       "      <th></th>\n",
       "      <th></th>\n",
       "      <th></th>\n",
       "      <th></th>\n",
       "      <th></th>\n",
       "      <th></th>\n",
       "      <th></th>\n",
       "      <th></th>\n",
       "      <th></th>\n",
       "      <th></th>\n",
       "      <th></th>\n",
       "      <th></th>\n",
       "      <th></th>\n",
       "      <th></th>\n",
       "      <th></th>\n",
       "      <th></th>\n",
       "      <th></th>\n",
       "      <th></th>\n",
       "      <th></th>\n",
       "      <th></th>\n",
       "      <th></th>\n",
       "    </tr>\n",
       "  </thead>\n",
       "  <tbody>\n",
       "    <tr>\n",
       "      <th rowspan=\"5\" valign=\"top\">Cancer</th>\n",
       "      <th>OE19</th>\n",
       "      <td>0.001124</td>\n",
       "      <td>0.001416</td>\n",
       "      <td>0.001787</td>\n",
       "      <td>0.002208</td>\n",
       "      <td>0.002671</td>\n",
       "      <td>0.003174</td>\n",
       "      <td>0.003731</td>\n",
       "      <td>0.004362</td>\n",
       "      <td>0.005063</td>\n",
       "      <td>0.005816</td>\n",
       "      <td>...</td>\n",
       "      <td>0.000668</td>\n",
       "      <td>0.000725</td>\n",
       "      <td>0.000784</td>\n",
       "      <td>0.000848</td>\n",
       "      <td>0.000899</td>\n",
       "      <td>0.000927</td>\n",
       "      <td>0.000928</td>\n",
       "      <td>0.000906</td>\n",
       "      <td>0.000860</td>\n",
       "      <td>0.000795</td>\n",
       "    </tr>\n",
       "    <tr>\n",
       "      <th>OE19</th>\n",
       "      <td>0.029759</td>\n",
       "      <td>0.029642</td>\n",
       "      <td>0.029669</td>\n",
       "      <td>0.029688</td>\n",
       "      <td>0.029718</td>\n",
       "      <td>0.029759</td>\n",
       "      <td>0.029836</td>\n",
       "      <td>0.029989</td>\n",
       "      <td>0.030221</td>\n",
       "      <td>0.030491</td>\n",
       "      <td>...</td>\n",
       "      <td>0.000738</td>\n",
       "      <td>0.000821</td>\n",
       "      <td>0.000913</td>\n",
       "      <td>0.001016</td>\n",
       "      <td>0.001102</td>\n",
       "      <td>0.001144</td>\n",
       "      <td>0.001133</td>\n",
       "      <td>0.001079</td>\n",
       "      <td>0.000987</td>\n",
       "      <td>0.000868</td>\n",
       "    </tr>\n",
       "    <tr>\n",
       "      <th>OE19</th>\n",
       "      <td>0.003458</td>\n",
       "      <td>0.003798</td>\n",
       "      <td>0.004120</td>\n",
       "      <td>0.004502</td>\n",
       "      <td>0.004906</td>\n",
       "      <td>0.005317</td>\n",
       "      <td>0.005751</td>\n",
       "      <td>0.006233</td>\n",
       "      <td>0.006766</td>\n",
       "      <td>0.007340</td>\n",
       "      <td>...</td>\n",
       "      <td>0.001751</td>\n",
       "      <td>0.001852</td>\n",
       "      <td>0.001967</td>\n",
       "      <td>0.002085</td>\n",
       "      <td>0.002177</td>\n",
       "      <td>0.002232</td>\n",
       "      <td>0.002251</td>\n",
       "      <td>0.002233</td>\n",
       "      <td>0.002177</td>\n",
       "      <td>0.002128</td>\n",
       "    </tr>\n",
       "    <tr>\n",
       "      <th>OE19</th>\n",
       "      <td>0.007104</td>\n",
       "      <td>0.006930</td>\n",
       "      <td>0.006557</td>\n",
       "      <td>0.006407</td>\n",
       "      <td>0.006372</td>\n",
       "      <td>0.006405</td>\n",
       "      <td>0.006498</td>\n",
       "      <td>0.006654</td>\n",
       "      <td>0.006862</td>\n",
       "      <td>0.007106</td>\n",
       "      <td>...</td>\n",
       "      <td>0.000488</td>\n",
       "      <td>0.000493</td>\n",
       "      <td>0.000507</td>\n",
       "      <td>0.000530</td>\n",
       "      <td>0.000548</td>\n",
       "      <td>0.000551</td>\n",
       "      <td>0.000548</td>\n",
       "      <td>0.000543</td>\n",
       "      <td>0.000527</td>\n",
       "      <td>0.000535</td>\n",
       "    </tr>\n",
       "    <tr>\n",
       "      <th>OE19</th>\n",
       "      <td>0.003556</td>\n",
       "      <td>0.003748</td>\n",
       "      <td>0.004008</td>\n",
       "      <td>0.004302</td>\n",
       "      <td>0.004614</td>\n",
       "      <td>0.004943</td>\n",
       "      <td>0.005301</td>\n",
       "      <td>0.005707</td>\n",
       "      <td>0.006170</td>\n",
       "      <td>0.006677</td>\n",
       "      <td>...</td>\n",
       "      <td>0.000654</td>\n",
       "      <td>0.000702</td>\n",
       "      <td>0.000755</td>\n",
       "      <td>0.000803</td>\n",
       "      <td>0.000826</td>\n",
       "      <td>0.000814</td>\n",
       "      <td>0.000763</td>\n",
       "      <td>0.000674</td>\n",
       "      <td>0.000554</td>\n",
       "      <td>0.000417</td>\n",
       "    </tr>\n",
       "  </tbody>\n",
       "</table>\n",
       "<p>5 rows × 1453 columns</p>\n",
       "</div>"
      ],
      "text/plain": [
       "                   999.0     1001.0    1003.0    1005.0    1007.0    1009.0  \\\n",
       "New_label Label                                                               \n",
       "Cancer    OE19   0.001124  0.001416  0.001787  0.002208  0.002671  0.003174   \n",
       "          OE19   0.029759  0.029642  0.029669  0.029688  0.029718  0.029759   \n",
       "          OE19   0.003458  0.003798  0.004120  0.004502  0.004906  0.005317   \n",
       "          OE19   0.007104  0.006930  0.006557  0.006407  0.006372  0.006405   \n",
       "          OE19   0.003556  0.003748  0.004008  0.004302  0.004614  0.004943   \n",
       "\n",
       "                   1011.0    1013.0    1015.0    1017.0  ...    3783.0  \\\n",
       "New_label Label                                          ...             \n",
       "Cancer    OE19   0.003731  0.004362  0.005063  0.005816  ...  0.000668   \n",
       "          OE19   0.029836  0.029989  0.030221  0.030491  ...  0.000738   \n",
       "          OE19   0.005751  0.006233  0.006766  0.007340  ...  0.001751   \n",
       "          OE19   0.006498  0.006654  0.006862  0.007106  ...  0.000488   \n",
       "          OE19   0.005301  0.005707  0.006170  0.006677  ...  0.000654   \n",
       "\n",
       "                   3785.0    3787.0    3789.0    3790.0    3792.0    3794.0  \\\n",
       "New_label Label                                                               \n",
       "Cancer    OE19   0.000725  0.000784  0.000848  0.000899  0.000927  0.000928   \n",
       "          OE19   0.000821  0.000913  0.001016  0.001102  0.001144  0.001133   \n",
       "          OE19   0.001852  0.001967  0.002085  0.002177  0.002232  0.002251   \n",
       "          OE19   0.000493  0.000507  0.000530  0.000548  0.000551  0.000548   \n",
       "          OE19   0.000702  0.000755  0.000803  0.000826  0.000814  0.000763   \n",
       "\n",
       "                   3796.0    3798.0    3800.0  \n",
       "New_label Label                                \n",
       "Cancer    OE19   0.000906  0.000860  0.000795  \n",
       "          OE19   0.001079  0.000987  0.000868  \n",
       "          OE19   0.002233  0.002177  0.002128  \n",
       "          OE19   0.000543  0.000527  0.000535  \n",
       "          OE19   0.000674  0.000554  0.000417  \n",
       "\n",
       "[5 rows x 1453 columns]"
      ]
     },
     "execution_count": 4,
     "metadata": {},
     "output_type": "execute_result"
    }
   ],
   "source": [
    "Breast_DF.head()"
   ]
  },
  {
   "cell_type": "code",
   "execution_count": 6,
   "metadata": {},
   "outputs": [
    {
     "data": {
      "image/png": "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\n",
      "text/plain": [
       "<Figure size 432x288 with 1 Axes>"
      ]
     },
     "metadata": {
      "needs_background": "light"
     },
     "output_type": "display_data"
    }
   ],
   "source": [
    "for name, df in Breast_DF.groupby(level = \"Label\"):\n",
    "    \n",
    "    plt.plot(df.mean(axis = 0), label = name)\n",
    "    \n",
    "plt.show()"
   ]
  },
  {
   "cell_type": "code",
   "execution_count": 10,
   "metadata": {},
   "outputs": [],
   "source": [
    "# A\n",
    "#Grade_dict = {\"-\": \"0\", \"I\": \"1\",\"IIa\": \"2\",\"IIb\": \"2\",\"IIIa\": \"3\", \"IIIb\": \"3\"}\n",
    "\n",
    "# B\n",
    "Stage_dict = {\"-\": \"0\", \"I\": \"1\",\"IIa\": \"1\",\"IIb\": \"2\",\"IIIa\": \"2\", \"IIIb\": \"3\"}\n",
    "\n",
    "Stage_Q = Breast_DF.reset_index()[\"Stage\"].map(Stage_dict)\n",
    "Stage_Q.name = \"Stage_Q\"\n",
    "\n",
    "Grade_Q = Breast_DF.reset_index()[\"Grade\"].map({\"-\": 0, \"1\": 1,\"2\": 2,\"2--3\": 3,\"3\": 3})\n",
    "Grade_Q.name = \"Grade_Q\"\n",
    "\n",
    "Breast_DF.set_index(Stage_Q, append = True, inplace = True)\n",
    "Breast_DF.set_index(Grade_Q, append = True, inplace = True)"
   ]
  },
  {
   "cell_type": "markdown",
   "metadata": {},
   "source": [
    "import os.path\n",
    "\n",
    "file_place = r\"C:\\Users\\Conor\\DataSets\"\n",
    "\n",
    "Breast_DF = pd.read_pickle(os.path.join(file_place,\"Breast_data_raw\"))"
   ]
  },
  {
   "cell_type": "markdown",
   "metadata": {},
   "source": [
    "indices = (Breast_DF.reset_index().Label != \"Blood\") & (Breast_DF.reset_index().Label != \"Necrosis\") & ()\n",
    "Breast_DF = Breast_DF[indices.values]#.head()"
   ]
  },
  {
   "cell_type": "markdown",
   "metadata": {},
   "source": [
    "# Preprocessing"
   ]
  },
  {
   "cell_type": "markdown",
   "metadata": {},
   "source": [
    "Remove blood and Necrosis from the dataset"
   ]
  },
  {
   "cell_type": "code",
   "execution_count": 28,
   "metadata": {},
   "outputs": [],
   "source": [
    "indices = (Breast_DF.reset_index().Label != \"Blood\") & (Breast_DF.reset_index().Label != \"Necrosis\")\n",
    "\n",
    "Breast_DF = Breast_DF[indices.values]"
   ]
  },
  {
   "cell_type": "markdown",
   "metadata": {},
   "source": [
    "Get rid of spectra labelled as malignant but with no grade"
   ]
  },
  {
   "cell_type": "code",
   "execution_count": 29,
   "metadata": {},
   "outputs": [],
   "source": [
    "indices = (Breast_DF.reset_index().Type == \"Malignant\") & (Breast_DF.reset_index().Grade == \"-\") \n",
    "Breast_DF = Breast_DF[indices.values == False]#.head()"
   ]
  },
  {
   "cell_type": "markdown",
   "metadata": {},
   "source": [
    "Select only stroma"
   ]
  },
  {
   "cell_type": "code",
   "execution_count": 7,
   "metadata": {},
   "outputs": [],
   "source": [
    "indices = (Breast_DF.reset_index().Label == \"Malignant Stroma\") | (Breast_DF.reset_index().Label == \"Non_malignant Stroma\")\n",
    "Breast_DF = Breast_DF[indices.values]#.head()"
   ]
  },
  {
   "cell_type": "markdown",
   "metadata": {},
   "source": [
    "Select only epithelium"
   ]
  },
  {
   "cell_type": "code",
   "execution_count": 16,
   "metadata": {},
   "outputs": [],
   "source": [
    "indices = (Breast_DF.reset_index().Label == \"Malignant Epithelium\") | (Breast_DF.reset_index().Label == \"Non_malignant Epithelium\")\n",
    "Breast_DF = Breast_DF[indices.values]#.head()"
   ]
  },
  {
   "cell_type": "markdown",
   "metadata": {},
   "source": [
    "drop any rows with stage 3"
   ]
  },
  {
   "cell_type": "code",
   "execution_count": null,
   "metadata": {},
   "outputs": [],
   "source": [
    "indices = (Breast_DF.reset_index().Grade != \"3\")\n",
    "Breast_DF = Breast_DF[indices.values]#.head()"
   ]
  },
  {
   "cell_type": "markdown",
   "metadata": {},
   "source": [
    "Preprocessing method, maybe make this all one pipe?"
   ]
  },
  {
   "cell_type": "code",
   "execution_count": 11,
   "metadata": {},
   "outputs": [
    {
     "data": {
      "text/plain": [
       "2    752038\n",
       "1    159993\n",
       "3    114110\n",
       "4    112458\n",
       "-     83580\n",
       "Name: T, dtype: int64"
      ]
     },
     "execution_count": 11,
     "metadata": {},
     "output_type": "execute_result"
    }
   ],
   "source": [
    "Breast_DF.reset_index()[\"T\"].value_counts()"
   ]
  },
  {
   "cell_type": "code",
   "execution_count": 15,
   "metadata": {
    "collapsed": true,
    "jupyter": {
     "outputs_hidden": true
    }
   },
   "outputs": [],
   "source": [
    "from sklearn.pipeline import Pipeline, FeatureUnion\n",
    "from sklearn.preprocessing import Normalizer, StandardScaler, MinMaxScaler, RobustScaler\n",
    "from sklearn.decomposition import PCA\n",
    "\n",
    "import Tissue_Analysis_Tools as TAT\n",
    "\n",
    "steps = [\n",
    "         #(\"Normalise\", Normalizer(norm = \"l1\"))\n",
    "         (\"RobustScaler\", RobustScaler()),\n",
    "         #(\"PCA_Denoise\", TAT.PCA_denoise(100)),\n",
    "         #(\"StandardScale\", StandardScaler())\n",
    "        ]\n",
    "\n",
    "pipe  = Pipeline(steps)"
   ]
  },
  {
   "cell_type": "code",
   "execution_count": 16,
   "metadata": {},
   "outputs": [
    {
     "name": "stdout",
     "output_type": "stream",
     "text": [
      "Processing\n"
     ]
    },
    {
     "name": "stderr",
     "output_type": "stream",
     "text": [
      "C:\\Users\\Conor\\AppData\\Roaming\\Python\\Python36\\site-packages\\pandas\\core\\frame.py:3930: SettingWithCopyWarning: \n",
      "A value is trying to be set on a copy of a slice from a DataFrame\n",
      "\n",
      "See the caveats in the documentation: http://pandas.pydata.org/pandas-docs/stable/indexing.html#indexing-view-versus-copy\n",
      "  errors=errors)\n"
     ]
    }
   ],
   "source": [
    "dataframe = TAT.process_data(Breast_DF, paraffin = (1340,1490))#, balance = \"Type\")\n",
    "\n",
    "values = pipe.fit_transform(dataframe.values.T).T\n",
    "#values = TAT.PCA_denoise(values, 0.99)\n",
    "#values = PCA(0.99).fit_transform(values)\n",
    "\n",
    "#Breast_DF_P = pd.DataFrame(values, index = dataframe.index, columns = dataframe.columns)\n",
    "Breast_DF_P = pd.DataFrame(values, index = dataframe.index)#, columns = dataframe.columns)"
   ]
  },
  {
   "cell_type": "code",
   "execution_count": 14,
   "metadata": {},
   "outputs": [
    {
     "data": {
      "text/html": [
       "<div>\n",
       "<style scoped>\n",
       "    .dataframe tbody tr th:only-of-type {\n",
       "        vertical-align: middle;\n",
       "    }\n",
       "\n",
       "    .dataframe tbody tr th {\n",
       "        vertical-align: top;\n",
       "    }\n",
       "\n",
       "    .dataframe thead th {\n",
       "        text-align: right;\n",
       "    }\n",
       "</style>\n",
       "<table border=\"1\" class=\"dataframe\">\n",
       "  <thead>\n",
       "    <tr style=\"text-align: right;\">\n",
       "      <th></th>\n",
       "      <th></th>\n",
       "      <th></th>\n",
       "      <th></th>\n",
       "      <th></th>\n",
       "      <th></th>\n",
       "      <th></th>\n",
       "      <th></th>\n",
       "      <th></th>\n",
       "      <th></th>\n",
       "      <th></th>\n",
       "      <th></th>\n",
       "      <th></th>\n",
       "      <th>0</th>\n",
       "      <th>1</th>\n",
       "      <th>2</th>\n",
       "      <th>3</th>\n",
       "      <th>4</th>\n",
       "      <th>5</th>\n",
       "      <th>6</th>\n",
       "      <th>7</th>\n",
       "      <th>8</th>\n",
       "      <th>9</th>\n",
       "      <th>...</th>\n",
       "      <th>154</th>\n",
       "      <th>155</th>\n",
       "      <th>156</th>\n",
       "      <th>157</th>\n",
       "      <th>158</th>\n",
       "      <th>159</th>\n",
       "      <th>160</th>\n",
       "      <th>161</th>\n",
       "      <th>162</th>\n",
       "      <th>163</th>\n",
       "    </tr>\n",
       "    <tr>\n",
       "      <th>ID</th>\n",
       "      <th>Core</th>\n",
       "      <th>Sex</th>\n",
       "      <th>Age</th>\n",
       "      <th>pathology</th>\n",
       "      <th>Grade</th>\n",
       "      <th>Stage</th>\n",
       "      <th>TNM</th>\n",
       "      <th>Type</th>\n",
       "      <th>T</th>\n",
       "      <th>N</th>\n",
       "      <th>Stage_Q</th>\n",
       "      <th>Grade_Q</th>\n",
       "      <th></th>\n",
       "      <th></th>\n",
       "      <th></th>\n",
       "      <th></th>\n",
       "      <th></th>\n",
       "      <th></th>\n",
       "      <th></th>\n",
       "      <th></th>\n",
       "      <th></th>\n",
       "      <th></th>\n",
       "      <th></th>\n",
       "      <th></th>\n",
       "      <th></th>\n",
       "      <th></th>\n",
       "      <th></th>\n",
       "      <th></th>\n",
       "      <th></th>\n",
       "      <th></th>\n",
       "      <th></th>\n",
       "      <th></th>\n",
       "      <th></th>\n",
       "    </tr>\n",
       "  </thead>\n",
       "  <tbody>\n",
       "    <tr>\n",
       "      <th>27944</th>\n",
       "      <th>A1</th>\n",
       "      <th>F</th>\n",
       "      <th>65</th>\n",
       "      <th>Invasive ductal carcinoma</th>\n",
       "      <th>1</th>\n",
       "      <th>IIa</th>\n",
       "      <th>T2N0M0</th>\n",
       "      <th>Malignant</th>\n",
       "      <th>2</th>\n",
       "      <th>0</th>\n",
       "      <th>1</th>\n",
       "      <th>1.0</th>\n",
       "      <td>-1.232877</td>\n",
       "      <td>-1.138943</td>\n",
       "      <td>-1.138943</td>\n",
       "      <td>-1.115460</td>\n",
       "      <td>-0.990215</td>\n",
       "      <td>-0.998043</td>\n",
       "      <td>-0.951076</td>\n",
       "      <td>-0.849315</td>\n",
       "      <td>-0.857143</td>\n",
       "      <td>-0.802348</td>\n",
       "      <td>...</td>\n",
       "      <td>-1.138943</td>\n",
       "      <td>-1.091977</td>\n",
       "      <td>-1.146771</td>\n",
       "      <td>-1.185910</td>\n",
       "      <td>-1.146771</td>\n",
       "      <td>-1.146771</td>\n",
       "      <td>-1.193738</td>\n",
       "      <td>-1.170254</td>\n",
       "      <td>-1.146771</td>\n",
       "      <td>-1.217221</td>\n",
       "    </tr>\n",
       "    <tr>\n",
       "      <th>54225</th>\n",
       "      <th>A1</th>\n",
       "      <th>F</th>\n",
       "      <th>65</th>\n",
       "      <th>Invasive ductal carcinoma</th>\n",
       "      <th>1</th>\n",
       "      <th>IIa</th>\n",
       "      <th>T2N0M0</th>\n",
       "      <th>Malignant</th>\n",
       "      <th>2</th>\n",
       "      <th>0</th>\n",
       "      <th>1</th>\n",
       "      <th>1.0</th>\n",
       "      <td>-0.015326</td>\n",
       "      <td>0.137931</td>\n",
       "      <td>0.214559</td>\n",
       "      <td>0.199234</td>\n",
       "      <td>0.321839</td>\n",
       "      <td>0.275862</td>\n",
       "      <td>0.291188</td>\n",
       "      <td>0.413793</td>\n",
       "      <td>0.337165</td>\n",
       "      <td>0.398467</td>\n",
       "      <td>...</td>\n",
       "      <td>-3.463602</td>\n",
       "      <td>-3.371648</td>\n",
       "      <td>-3.310345</td>\n",
       "      <td>-3.432950</td>\n",
       "      <td>-3.356322</td>\n",
       "      <td>-3.279693</td>\n",
       "      <td>-3.478927</td>\n",
       "      <td>-3.371648</td>\n",
       "      <td>-3.279693</td>\n",
       "      <td>-3.463602</td>\n",
       "    </tr>\n",
       "    <tr>\n",
       "      <th>495</th>\n",
       "      <th>A1</th>\n",
       "      <th>F</th>\n",
       "      <th>65</th>\n",
       "      <th>Invasive ductal carcinoma</th>\n",
       "      <th>1</th>\n",
       "      <th>IIa</th>\n",
       "      <th>T2N0M0</th>\n",
       "      <th>Malignant</th>\n",
       "      <th>2</th>\n",
       "      <th>0</th>\n",
       "      <th>1</th>\n",
       "      <th>1.0</th>\n",
       "      <td>0.419890</td>\n",
       "      <td>0.497238</td>\n",
       "      <td>0.309392</td>\n",
       "      <td>0.320442</td>\n",
       "      <td>0.441989</td>\n",
       "      <td>0.475138</td>\n",
       "      <td>0.563536</td>\n",
       "      <td>0.607735</td>\n",
       "      <td>0.475138</td>\n",
       "      <td>0.486188</td>\n",
       "      <td>...</td>\n",
       "      <td>-2.928177</td>\n",
       "      <td>-2.806630</td>\n",
       "      <td>-2.718232</td>\n",
       "      <td>-2.640884</td>\n",
       "      <td>-2.729282</td>\n",
       "      <td>-2.895028</td>\n",
       "      <td>-2.817680</td>\n",
       "      <td>-2.662983</td>\n",
       "      <td>-2.718232</td>\n",
       "      <td>-2.740331</td>\n",
       "    </tr>\n",
       "    <tr>\n",
       "      <th>28936</th>\n",
       "      <th>A1</th>\n",
       "      <th>F</th>\n",
       "      <th>65</th>\n",
       "      <th>Invasive ductal carcinoma</th>\n",
       "      <th>1</th>\n",
       "      <th>IIa</th>\n",
       "      <th>T2N0M0</th>\n",
       "      <th>Malignant</th>\n",
       "      <th>2</th>\n",
       "      <th>0</th>\n",
       "      <th>1</th>\n",
       "      <th>1.0</th>\n",
       "      <td>-0.488417</td>\n",
       "      <td>-0.465251</td>\n",
       "      <td>-0.457529</td>\n",
       "      <td>-0.434363</td>\n",
       "      <td>-0.376448</td>\n",
       "      <td>-0.364865</td>\n",
       "      <td>-0.357143</td>\n",
       "      <td>-0.310811</td>\n",
       "      <td>-0.303089</td>\n",
       "      <td>-0.303089</td>\n",
       "      <td>...</td>\n",
       "      <td>-0.044402</td>\n",
       "      <td>-0.017375</td>\n",
       "      <td>-0.028958</td>\n",
       "      <td>-0.021236</td>\n",
       "      <td>0.005792</td>\n",
       "      <td>-0.017375</td>\n",
       "      <td>-0.036680</td>\n",
       "      <td>-0.001931</td>\n",
       "      <td>0.001931</td>\n",
       "      <td>-0.021236</td>\n",
       "    </tr>\n",
       "    <tr>\n",
       "      <th>43113</th>\n",
       "      <th>A1</th>\n",
       "      <th>F</th>\n",
       "      <th>65</th>\n",
       "      <th>Invasive ductal carcinoma</th>\n",
       "      <th>1</th>\n",
       "      <th>IIa</th>\n",
       "      <th>T2N0M0</th>\n",
       "      <th>Malignant</th>\n",
       "      <th>2</th>\n",
       "      <th>0</th>\n",
       "      <th>1</th>\n",
       "      <th>1.0</th>\n",
       "      <td>-0.455128</td>\n",
       "      <td>-0.429487</td>\n",
       "      <td>-0.371795</td>\n",
       "      <td>-0.365385</td>\n",
       "      <td>-0.358974</td>\n",
       "      <td>-0.320513</td>\n",
       "      <td>-0.288462</td>\n",
       "      <td>-0.250000</td>\n",
       "      <td>-0.250000</td>\n",
       "      <td>-0.237179</td>\n",
       "      <td>...</td>\n",
       "      <td>-0.551282</td>\n",
       "      <td>-0.500000</td>\n",
       "      <td>-0.512821</td>\n",
       "      <td>-0.519231</td>\n",
       "      <td>-0.448718</td>\n",
       "      <td>-0.448718</td>\n",
       "      <td>-0.467949</td>\n",
       "      <td>-0.442308</td>\n",
       "      <td>-0.416667</td>\n",
       "      <td>-0.448718</td>\n",
       "    </tr>\n",
       "  </tbody>\n",
       "</table>\n",
       "<p>5 rows × 164 columns</p>\n",
       "</div>"
      ],
      "text/plain": [
       "                                                                                                    0    \\\n",
       "ID    Core Sex Age pathology                 Grade Stage TNM    Type      T N Stage_Q Grade_Q             \n",
       "27944 A1   F   65  Invasive ductal carcinoma 1     IIa   T2N0M0 Malignant 2 0 1       1.0     -1.232877   \n",
       "54225 A1   F   65  Invasive ductal carcinoma 1     IIa   T2N0M0 Malignant 2 0 1       1.0     -0.015326   \n",
       "495   A1   F   65  Invasive ductal carcinoma 1     IIa   T2N0M0 Malignant 2 0 1       1.0      0.419890   \n",
       "28936 A1   F   65  Invasive ductal carcinoma 1     IIa   T2N0M0 Malignant 2 0 1       1.0     -0.488417   \n",
       "43113 A1   F   65  Invasive ductal carcinoma 1     IIa   T2N0M0 Malignant 2 0 1       1.0     -0.455128   \n",
       "\n",
       "                                                                                                    1    \\\n",
       "ID    Core Sex Age pathology                 Grade Stage TNM    Type      T N Stage_Q Grade_Q             \n",
       "27944 A1   F   65  Invasive ductal carcinoma 1     IIa   T2N0M0 Malignant 2 0 1       1.0     -1.138943   \n",
       "54225 A1   F   65  Invasive ductal carcinoma 1     IIa   T2N0M0 Malignant 2 0 1       1.0      0.137931   \n",
       "495   A1   F   65  Invasive ductal carcinoma 1     IIa   T2N0M0 Malignant 2 0 1       1.0      0.497238   \n",
       "28936 A1   F   65  Invasive ductal carcinoma 1     IIa   T2N0M0 Malignant 2 0 1       1.0     -0.465251   \n",
       "43113 A1   F   65  Invasive ductal carcinoma 1     IIa   T2N0M0 Malignant 2 0 1       1.0     -0.429487   \n",
       "\n",
       "                                                                                                    2    \\\n",
       "ID    Core Sex Age pathology                 Grade Stage TNM    Type      T N Stage_Q Grade_Q             \n",
       "27944 A1   F   65  Invasive ductal carcinoma 1     IIa   T2N0M0 Malignant 2 0 1       1.0     -1.138943   \n",
       "54225 A1   F   65  Invasive ductal carcinoma 1     IIa   T2N0M0 Malignant 2 0 1       1.0      0.214559   \n",
       "495   A1   F   65  Invasive ductal carcinoma 1     IIa   T2N0M0 Malignant 2 0 1       1.0      0.309392   \n",
       "28936 A1   F   65  Invasive ductal carcinoma 1     IIa   T2N0M0 Malignant 2 0 1       1.0     -0.457529   \n",
       "43113 A1   F   65  Invasive ductal carcinoma 1     IIa   T2N0M0 Malignant 2 0 1       1.0     -0.371795   \n",
       "\n",
       "                                                                                                    3    \\\n",
       "ID    Core Sex Age pathology                 Grade Stage TNM    Type      T N Stage_Q Grade_Q             \n",
       "27944 A1   F   65  Invasive ductal carcinoma 1     IIa   T2N0M0 Malignant 2 0 1       1.0     -1.115460   \n",
       "54225 A1   F   65  Invasive ductal carcinoma 1     IIa   T2N0M0 Malignant 2 0 1       1.0      0.199234   \n",
       "495   A1   F   65  Invasive ductal carcinoma 1     IIa   T2N0M0 Malignant 2 0 1       1.0      0.320442   \n",
       "28936 A1   F   65  Invasive ductal carcinoma 1     IIa   T2N0M0 Malignant 2 0 1       1.0     -0.434363   \n",
       "43113 A1   F   65  Invasive ductal carcinoma 1     IIa   T2N0M0 Malignant 2 0 1       1.0     -0.365385   \n",
       "\n",
       "                                                                                                    4    \\\n",
       "ID    Core Sex Age pathology                 Grade Stage TNM    Type      T N Stage_Q Grade_Q             \n",
       "27944 A1   F   65  Invasive ductal carcinoma 1     IIa   T2N0M0 Malignant 2 0 1       1.0     -0.990215   \n",
       "54225 A1   F   65  Invasive ductal carcinoma 1     IIa   T2N0M0 Malignant 2 0 1       1.0      0.321839   \n",
       "495   A1   F   65  Invasive ductal carcinoma 1     IIa   T2N0M0 Malignant 2 0 1       1.0      0.441989   \n",
       "28936 A1   F   65  Invasive ductal carcinoma 1     IIa   T2N0M0 Malignant 2 0 1       1.0     -0.376448   \n",
       "43113 A1   F   65  Invasive ductal carcinoma 1     IIa   T2N0M0 Malignant 2 0 1       1.0     -0.358974   \n",
       "\n",
       "                                                                                                    5    \\\n",
       "ID    Core Sex Age pathology                 Grade Stage TNM    Type      T N Stage_Q Grade_Q             \n",
       "27944 A1   F   65  Invasive ductal carcinoma 1     IIa   T2N0M0 Malignant 2 0 1       1.0     -0.998043   \n",
       "54225 A1   F   65  Invasive ductal carcinoma 1     IIa   T2N0M0 Malignant 2 0 1       1.0      0.275862   \n",
       "495   A1   F   65  Invasive ductal carcinoma 1     IIa   T2N0M0 Malignant 2 0 1       1.0      0.475138   \n",
       "28936 A1   F   65  Invasive ductal carcinoma 1     IIa   T2N0M0 Malignant 2 0 1       1.0     -0.364865   \n",
       "43113 A1   F   65  Invasive ductal carcinoma 1     IIa   T2N0M0 Malignant 2 0 1       1.0     -0.320513   \n",
       "\n",
       "                                                                                                    6    \\\n",
       "ID    Core Sex Age pathology                 Grade Stage TNM    Type      T N Stage_Q Grade_Q             \n",
       "27944 A1   F   65  Invasive ductal carcinoma 1     IIa   T2N0M0 Malignant 2 0 1       1.0     -0.951076   \n",
       "54225 A1   F   65  Invasive ductal carcinoma 1     IIa   T2N0M0 Malignant 2 0 1       1.0      0.291188   \n",
       "495   A1   F   65  Invasive ductal carcinoma 1     IIa   T2N0M0 Malignant 2 0 1       1.0      0.563536   \n",
       "28936 A1   F   65  Invasive ductal carcinoma 1     IIa   T2N0M0 Malignant 2 0 1       1.0     -0.357143   \n",
       "43113 A1   F   65  Invasive ductal carcinoma 1     IIa   T2N0M0 Malignant 2 0 1       1.0     -0.288462   \n",
       "\n",
       "                                                                                                    7    \\\n",
       "ID    Core Sex Age pathology                 Grade Stage TNM    Type      T N Stage_Q Grade_Q             \n",
       "27944 A1   F   65  Invasive ductal carcinoma 1     IIa   T2N0M0 Malignant 2 0 1       1.0     -0.849315   \n",
       "54225 A1   F   65  Invasive ductal carcinoma 1     IIa   T2N0M0 Malignant 2 0 1       1.0      0.413793   \n",
       "495   A1   F   65  Invasive ductal carcinoma 1     IIa   T2N0M0 Malignant 2 0 1       1.0      0.607735   \n",
       "28936 A1   F   65  Invasive ductal carcinoma 1     IIa   T2N0M0 Malignant 2 0 1       1.0     -0.310811   \n",
       "43113 A1   F   65  Invasive ductal carcinoma 1     IIa   T2N0M0 Malignant 2 0 1       1.0     -0.250000   \n",
       "\n",
       "                                                                                                    8    \\\n",
       "ID    Core Sex Age pathology                 Grade Stage TNM    Type      T N Stage_Q Grade_Q             \n",
       "27944 A1   F   65  Invasive ductal carcinoma 1     IIa   T2N0M0 Malignant 2 0 1       1.0     -0.857143   \n",
       "54225 A1   F   65  Invasive ductal carcinoma 1     IIa   T2N0M0 Malignant 2 0 1       1.0      0.337165   \n",
       "495   A1   F   65  Invasive ductal carcinoma 1     IIa   T2N0M0 Malignant 2 0 1       1.0      0.475138   \n",
       "28936 A1   F   65  Invasive ductal carcinoma 1     IIa   T2N0M0 Malignant 2 0 1       1.0     -0.303089   \n",
       "43113 A1   F   65  Invasive ductal carcinoma 1     IIa   T2N0M0 Malignant 2 0 1       1.0     -0.250000   \n",
       "\n",
       "                                                                                                    9    \\\n",
       "ID    Core Sex Age pathology                 Grade Stage TNM    Type      T N Stage_Q Grade_Q             \n",
       "27944 A1   F   65  Invasive ductal carcinoma 1     IIa   T2N0M0 Malignant 2 0 1       1.0     -0.802348   \n",
       "54225 A1   F   65  Invasive ductal carcinoma 1     IIa   T2N0M0 Malignant 2 0 1       1.0      0.398467   \n",
       "495   A1   F   65  Invasive ductal carcinoma 1     IIa   T2N0M0 Malignant 2 0 1       1.0      0.486188   \n",
       "28936 A1   F   65  Invasive ductal carcinoma 1     IIa   T2N0M0 Malignant 2 0 1       1.0     -0.303089   \n",
       "43113 A1   F   65  Invasive ductal carcinoma 1     IIa   T2N0M0 Malignant 2 0 1       1.0     -0.237179   \n",
       "\n",
       "                                                                                               ...  \\\n",
       "ID    Core Sex Age pathology                 Grade Stage TNM    Type      T N Stage_Q Grade_Q  ...   \n",
       "27944 A1   F   65  Invasive ductal carcinoma 1     IIa   T2N0M0 Malignant 2 0 1       1.0      ...   \n",
       "54225 A1   F   65  Invasive ductal carcinoma 1     IIa   T2N0M0 Malignant 2 0 1       1.0      ...   \n",
       "495   A1   F   65  Invasive ductal carcinoma 1     IIa   T2N0M0 Malignant 2 0 1       1.0      ...   \n",
       "28936 A1   F   65  Invasive ductal carcinoma 1     IIa   T2N0M0 Malignant 2 0 1       1.0      ...   \n",
       "43113 A1   F   65  Invasive ductal carcinoma 1     IIa   T2N0M0 Malignant 2 0 1       1.0      ...   \n",
       "\n",
       "                                                                                                    154  \\\n",
       "ID    Core Sex Age pathology                 Grade Stage TNM    Type      T N Stage_Q Grade_Q             \n",
       "27944 A1   F   65  Invasive ductal carcinoma 1     IIa   T2N0M0 Malignant 2 0 1       1.0     -1.138943   \n",
       "54225 A1   F   65  Invasive ductal carcinoma 1     IIa   T2N0M0 Malignant 2 0 1       1.0     -3.463602   \n",
       "495   A1   F   65  Invasive ductal carcinoma 1     IIa   T2N0M0 Malignant 2 0 1       1.0     -2.928177   \n",
       "28936 A1   F   65  Invasive ductal carcinoma 1     IIa   T2N0M0 Malignant 2 0 1       1.0     -0.044402   \n",
       "43113 A1   F   65  Invasive ductal carcinoma 1     IIa   T2N0M0 Malignant 2 0 1       1.0     -0.551282   \n",
       "\n",
       "                                                                                                    155  \\\n",
       "ID    Core Sex Age pathology                 Grade Stage TNM    Type      T N Stage_Q Grade_Q             \n",
       "27944 A1   F   65  Invasive ductal carcinoma 1     IIa   T2N0M0 Malignant 2 0 1       1.0     -1.091977   \n",
       "54225 A1   F   65  Invasive ductal carcinoma 1     IIa   T2N0M0 Malignant 2 0 1       1.0     -3.371648   \n",
       "495   A1   F   65  Invasive ductal carcinoma 1     IIa   T2N0M0 Malignant 2 0 1       1.0     -2.806630   \n",
       "28936 A1   F   65  Invasive ductal carcinoma 1     IIa   T2N0M0 Malignant 2 0 1       1.0     -0.017375   \n",
       "43113 A1   F   65  Invasive ductal carcinoma 1     IIa   T2N0M0 Malignant 2 0 1       1.0     -0.500000   \n",
       "\n",
       "                                                                                                    156  \\\n",
       "ID    Core Sex Age pathology                 Grade Stage TNM    Type      T N Stage_Q Grade_Q             \n",
       "27944 A1   F   65  Invasive ductal carcinoma 1     IIa   T2N0M0 Malignant 2 0 1       1.0     -1.146771   \n",
       "54225 A1   F   65  Invasive ductal carcinoma 1     IIa   T2N0M0 Malignant 2 0 1       1.0     -3.310345   \n",
       "495   A1   F   65  Invasive ductal carcinoma 1     IIa   T2N0M0 Malignant 2 0 1       1.0     -2.718232   \n",
       "28936 A1   F   65  Invasive ductal carcinoma 1     IIa   T2N0M0 Malignant 2 0 1       1.0     -0.028958   \n",
       "43113 A1   F   65  Invasive ductal carcinoma 1     IIa   T2N0M0 Malignant 2 0 1       1.0     -0.512821   \n",
       "\n",
       "                                                                                                    157  \\\n",
       "ID    Core Sex Age pathology                 Grade Stage TNM    Type      T N Stage_Q Grade_Q             \n",
       "27944 A1   F   65  Invasive ductal carcinoma 1     IIa   T2N0M0 Malignant 2 0 1       1.0     -1.185910   \n",
       "54225 A1   F   65  Invasive ductal carcinoma 1     IIa   T2N0M0 Malignant 2 0 1       1.0     -3.432950   \n",
       "495   A1   F   65  Invasive ductal carcinoma 1     IIa   T2N0M0 Malignant 2 0 1       1.0     -2.640884   \n",
       "28936 A1   F   65  Invasive ductal carcinoma 1     IIa   T2N0M0 Malignant 2 0 1       1.0     -0.021236   \n",
       "43113 A1   F   65  Invasive ductal carcinoma 1     IIa   T2N0M0 Malignant 2 0 1       1.0     -0.519231   \n",
       "\n",
       "                                                                                                    158  \\\n",
       "ID    Core Sex Age pathology                 Grade Stage TNM    Type      T N Stage_Q Grade_Q             \n",
       "27944 A1   F   65  Invasive ductal carcinoma 1     IIa   T2N0M0 Malignant 2 0 1       1.0     -1.146771   \n",
       "54225 A1   F   65  Invasive ductal carcinoma 1     IIa   T2N0M0 Malignant 2 0 1       1.0     -3.356322   \n",
       "495   A1   F   65  Invasive ductal carcinoma 1     IIa   T2N0M0 Malignant 2 0 1       1.0     -2.729282   \n",
       "28936 A1   F   65  Invasive ductal carcinoma 1     IIa   T2N0M0 Malignant 2 0 1       1.0      0.005792   \n",
       "43113 A1   F   65  Invasive ductal carcinoma 1     IIa   T2N0M0 Malignant 2 0 1       1.0     -0.448718   \n",
       "\n",
       "                                                                                                    159  \\\n",
       "ID    Core Sex Age pathology                 Grade Stage TNM    Type      T N Stage_Q Grade_Q             \n",
       "27944 A1   F   65  Invasive ductal carcinoma 1     IIa   T2N0M0 Malignant 2 0 1       1.0     -1.146771   \n",
       "54225 A1   F   65  Invasive ductal carcinoma 1     IIa   T2N0M0 Malignant 2 0 1       1.0     -3.279693   \n",
       "495   A1   F   65  Invasive ductal carcinoma 1     IIa   T2N0M0 Malignant 2 0 1       1.0     -2.895028   \n",
       "28936 A1   F   65  Invasive ductal carcinoma 1     IIa   T2N0M0 Malignant 2 0 1       1.0     -0.017375   \n",
       "43113 A1   F   65  Invasive ductal carcinoma 1     IIa   T2N0M0 Malignant 2 0 1       1.0     -0.448718   \n",
       "\n",
       "                                                                                                    160  \\\n",
       "ID    Core Sex Age pathology                 Grade Stage TNM    Type      T N Stage_Q Grade_Q             \n",
       "27944 A1   F   65  Invasive ductal carcinoma 1     IIa   T2N0M0 Malignant 2 0 1       1.0     -1.193738   \n",
       "54225 A1   F   65  Invasive ductal carcinoma 1     IIa   T2N0M0 Malignant 2 0 1       1.0     -3.478927   \n",
       "495   A1   F   65  Invasive ductal carcinoma 1     IIa   T2N0M0 Malignant 2 0 1       1.0     -2.817680   \n",
       "28936 A1   F   65  Invasive ductal carcinoma 1     IIa   T2N0M0 Malignant 2 0 1       1.0     -0.036680   \n",
       "43113 A1   F   65  Invasive ductal carcinoma 1     IIa   T2N0M0 Malignant 2 0 1       1.0     -0.467949   \n",
       "\n",
       "                                                                                                    161  \\\n",
       "ID    Core Sex Age pathology                 Grade Stage TNM    Type      T N Stage_Q Grade_Q             \n",
       "27944 A1   F   65  Invasive ductal carcinoma 1     IIa   T2N0M0 Malignant 2 0 1       1.0     -1.170254   \n",
       "54225 A1   F   65  Invasive ductal carcinoma 1     IIa   T2N0M0 Malignant 2 0 1       1.0     -3.371648   \n",
       "495   A1   F   65  Invasive ductal carcinoma 1     IIa   T2N0M0 Malignant 2 0 1       1.0     -2.662983   \n",
       "28936 A1   F   65  Invasive ductal carcinoma 1     IIa   T2N0M0 Malignant 2 0 1       1.0     -0.001931   \n",
       "43113 A1   F   65  Invasive ductal carcinoma 1     IIa   T2N0M0 Malignant 2 0 1       1.0     -0.442308   \n",
       "\n",
       "                                                                                                    162  \\\n",
       "ID    Core Sex Age pathology                 Grade Stage TNM    Type      T N Stage_Q Grade_Q             \n",
       "27944 A1   F   65  Invasive ductal carcinoma 1     IIa   T2N0M0 Malignant 2 0 1       1.0     -1.146771   \n",
       "54225 A1   F   65  Invasive ductal carcinoma 1     IIa   T2N0M0 Malignant 2 0 1       1.0     -3.279693   \n",
       "495   A1   F   65  Invasive ductal carcinoma 1     IIa   T2N0M0 Malignant 2 0 1       1.0     -2.718232   \n",
       "28936 A1   F   65  Invasive ductal carcinoma 1     IIa   T2N0M0 Malignant 2 0 1       1.0      0.001931   \n",
       "43113 A1   F   65  Invasive ductal carcinoma 1     IIa   T2N0M0 Malignant 2 0 1       1.0     -0.416667   \n",
       "\n",
       "                                                                                                    163  \n",
       "ID    Core Sex Age pathology                 Grade Stage TNM    Type      T N Stage_Q Grade_Q            \n",
       "27944 A1   F   65  Invasive ductal carcinoma 1     IIa   T2N0M0 Malignant 2 0 1       1.0     -1.217221  \n",
       "54225 A1   F   65  Invasive ductal carcinoma 1     IIa   T2N0M0 Malignant 2 0 1       1.0     -3.463602  \n",
       "495   A1   F   65  Invasive ductal carcinoma 1     IIa   T2N0M0 Malignant 2 0 1       1.0     -2.740331  \n",
       "28936 A1   F   65  Invasive ductal carcinoma 1     IIa   T2N0M0 Malignant 2 0 1       1.0     -0.021236  \n",
       "43113 A1   F   65  Invasive ductal carcinoma 1     IIa   T2N0M0 Malignant 2 0 1       1.0     -0.448718  \n",
       "\n",
       "[5 rows x 164 columns]"
      ]
     },
     "execution_count": 14,
     "metadata": {},
     "output_type": "execute_result"
    }
   ],
   "source": [
    "Breast_DF_P.head()"
   ]
  },
  {
   "cell_type": "code",
   "execution_count": 17,
   "metadata": {},
   "outputs": [
    {
     "name": "stderr",
     "output_type": "stream",
     "text": [
      "C:\\Users\\Conor\\AppData\\Roaming\\Python\\Python36\\site-packages\\matplotlib\\font_manager.py:1241: UserWarning: findfont: Font family ['normal'] not found. Falling back to DejaVu Sans.\n",
      "  (prop.get_family(), self.defaultFamily[fontext]))\n"
     ]
    },
    {
     "data": {
      "image/png": "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\n",
      "text/plain": [
       "<Figure size 504x360 with 1 Axes>"
      ]
     },
     "metadata": {
      "needs_background": "light"
     },
     "output_type": "display_data"
    }
   ],
   "source": [
    "fig, ax = plt.subplots(figsize = (7,5))\n",
    "\n",
    "for name, df in Breast_DF_P.groupby(\"T\"):\n",
    "    \n",
    "    ax.plot(df.mean(axis = 0, numeric_only = True), label = name)\n",
    "    \n",
    "ax.legend()\n",
    "plt.show()    "
   ]
  },
  {
   "cell_type": "code",
   "execution_count": null,
   "metadata": {},
   "outputs": [],
   "source": [
    "index = Breast_DF_P.reset_index()[\"Label\"] == \"Non_malignant Stroma\""
   ]
  },
  {
   "cell_type": "code",
   "execution_count": null,
   "metadata": {},
   "outputs": [],
   "source": [
    "Breast_DF_P[index.values].reset_index()[\"Stage_Q\"].value_counts()"
   ]
  },
  {
   "cell_type": "code",
   "execution_count": null,
   "metadata": {},
   "outputs": [],
   "source": [
    "index = Breast_DF_P.reset_index()[\"Pathology\"] == \"Normal breast tissue (blood vessel and fibrofatty tissue)\""
   ]
  },
  {
   "cell_type": "markdown",
   "metadata": {},
   "source": [
    "# Analysis"
   ]
  },
  {
   "cell_type": "markdown",
   "metadata": {},
   "source": [
    "# Dataset partitioning"
   ]
  },
  {
   "cell_type": "code",
   "execution_count": 1,
   "metadata": {},
   "outputs": [
    {
     "ename": "NameError",
     "evalue": "name 'Breast_DF_P' is not defined",
     "output_type": "error",
     "traceback": [
      "\u001b[0;31m---------------------------------------------------------------------------\u001b[0m",
      "\u001b[0;31mNameError\u001b[0m                                 Traceback (most recent call last)",
      "\u001b[0;32m<ipython-input-1-0594b1221b3c>\u001b[0m in \u001b[0;36m<module>\u001b[0;34m\u001b[0m\n\u001b[1;32m      4\u001b[0m \u001b[0mlb\u001b[0m \u001b[0;34m=\u001b[0m \u001b[0mLabelBinarizer\u001b[0m\u001b[0;34m(\u001b[0m\u001b[0;34m)\u001b[0m\u001b[0;34m\u001b[0m\u001b[0;34m\u001b[0m\u001b[0m\n\u001b[1;32m      5\u001b[0m \u001b[0;34m\u001b[0m\u001b[0m\n\u001b[0;32m----> 6\u001b[0;31m \u001b[0mDATA\u001b[0m \u001b[0;34m=\u001b[0m \u001b[0mBreast_DF_P\u001b[0m\u001b[0;34m.\u001b[0m\u001b[0msample\u001b[0m\u001b[0;34m(\u001b[0m\u001b[0mfrac\u001b[0m \u001b[0;34m=\u001b[0m \u001b[0;36m1\u001b[0m\u001b[0;34m)\u001b[0m \u001b[0;31m# Shuffle the dataframe randomly\u001b[0m\u001b[0;34m\u001b[0m\u001b[0;34m\u001b[0m\u001b[0m\n\u001b[0m\u001b[1;32m      7\u001b[0m \u001b[0;34m\u001b[0m\u001b[0m\n\u001b[1;32m      8\u001b[0m \u001b[0my_label\u001b[0m \u001b[0;34m=\u001b[0m \u001b[0;34m\"T\"\u001b[0m\u001b[0;34m\u001b[0m\u001b[0;34m\u001b[0m\u001b[0m\n",
      "\u001b[0;31mNameError\u001b[0m: name 'Breast_DF_P' is not defined"
     ]
    }
   ],
   "source": [
    "from sklearn.preprocessing import LabelBinarizer\n",
    "from sklearn.model_selection import train_test_split\n",
    "\n",
    "lb = LabelBinarizer()\n",
    "\n",
    "DATA = Breast_DF_P.sample(frac = 1) # Shuffle the dataframe randomly\n",
    "\n",
    "y_label = \"T\"\n",
    "\n",
    "X = DATA\n",
    "Y = DATA.reset_index()[y_label]\n",
    "\n",
    "lb.fit(Y)\n",
    "\n",
    "Y_b = pd.DataFrame(lb.transform(Y), index = Y.index)\n",
    "\n",
    "while True:\n",
    "    # split set by patients\n",
    "    train_p, valid_p = train_test_split(np.unique(Breast_DF_P.reset_index()[\"Core\"])\n",
    "                                        , test_size = 0.1\n",
    "                                        #, random_state = 42\n",
    "                                        , shuffle = True)\n",
    "\n",
    "    # Training and validation sets on patient basis\n",
    "    X_train = X[X.reset_index()[\"Core\"].isin(train_p).values]\n",
    "    X_valid = X[X.reset_index()[\"Core\"].isin(valid_p).values]\n",
    "\n",
    "    y_train = X_train.reset_index()[y_label]\n",
    "    y_valid = X_valid.reset_index()[y_label]\n",
    "    \n",
    "    if len(np.unique(X_train.reset_index()[y_label])) == len(np.unique(X_valid.reset_index()[y_label])): break\n",
    "    \n",
    "#pd.DataFrame(X_valid.values, index = y_valid.values).round(6).to_csv(r\"E:\\Validation.csv\".format(i+1), header = None)\n",
    "\n",
    "print(\"Train set: \\n\", y_train.value_counts(), \"\\n\")\n",
    "print(\"Validation set: \\n\", y_valid.value_counts(), \"\\n\")\n",
    "\n",
    "# Create dataframes containing the binary labels for each class\n",
    "y_train_m = pd.DataFrame(y_train, index = y_train.index)\n",
    "y_valid_m = pd.DataFrame(y_valid, index = y_valid.index)\n",
    "\n",
    "# Create dataframes containing the binary labels for each class\n",
    "y_train = pd.DataFrame(lb.transform(y_train), index = y_train.index)\n",
    "y_valid = pd.DataFrame(lb.transform(y_valid), index = y_valid.index)\n",
    "\n",
    "\n",
    "if len(np.unique(Y)) == 2: y_train[1] = y_train[0].map({0:1, 1:0})\n",
    "if len(np.unique(Y)) == 2: y_valid[1] = y_valid[0].map({0:1, 1:0})"
   ]
  },
  {
   "cell_type": "code",
   "execution_count": 45,
   "metadata": {},
   "outputs": [
    {
     "data": {
      "text/html": [
       "<div>\n",
       "<style scoped>\n",
       "    .dataframe tbody tr th:only-of-type {\n",
       "        vertical-align: middle;\n",
       "    }\n",
       "\n",
       "    .dataframe tbody tr th {\n",
       "        vertical-align: top;\n",
       "    }\n",
       "\n",
       "    .dataframe thead th {\n",
       "        text-align: right;\n",
       "    }\n",
       "</style>\n",
       "<table border=\"1\" class=\"dataframe\">\n",
       "  <thead>\n",
       "    <tr style=\"text-align: right;\">\n",
       "      <th></th>\n",
       "      <th>T</th>\n",
       "    </tr>\n",
       "  </thead>\n",
       "  <tbody>\n",
       "    <tr>\n",
       "      <th>0</th>\n",
       "      <td>3</td>\n",
       "    </tr>\n",
       "    <tr>\n",
       "      <th>1</th>\n",
       "      <td>2</td>\n",
       "    </tr>\n",
       "    <tr>\n",
       "      <th>2</th>\n",
       "      <td>-</td>\n",
       "    </tr>\n",
       "    <tr>\n",
       "      <th>3</th>\n",
       "      <td>3</td>\n",
       "    </tr>\n",
       "    <tr>\n",
       "      <th>4</th>\n",
       "      <td>2</td>\n",
       "    </tr>\n",
       "  </tbody>\n",
       "</table>\n",
       "</div>"
      ],
      "text/plain": [
       "   T\n",
       "0  3\n",
       "1  2\n",
       "2  -\n",
       "3  3\n",
       "4  2"
      ]
     },
     "execution_count": 45,
     "metadata": {},
     "output_type": "execute_result"
    }
   ],
   "source": [
    "y_valid_m.head()"
   ]
  },
  {
   "cell_type": "code",
   "execution_count": null,
   "metadata": {},
   "outputs": [],
   "source": [
    "index = X_train.reset_index()[y_label] == \"3\"\n",
    "np.unique(X_train[index.values].reset_index()[\"Core\"])"
   ]
  },
  {
   "cell_type": "code",
   "execution_count": 19,
   "metadata": {},
   "outputs": [
    {
     "name": "stdout",
     "output_type": "stream",
     "text": [
      "Validation set: \n",
      "\n",
      "- \n",
      "\n",
      "M16    5522\n",
      "Name: Core, dtype: int64\n",
      "1 \n",
      "\n",
      "H4     6358\n",
      "F12    6353\n",
      "E9     5928\n",
      "L6     5587\n",
      "J15    5094\n",
      "Name: Core, dtype: int64\n",
      "2 \n",
      "\n",
      "G13    6368\n",
      "B2     6325\n",
      "L15    6321\n",
      "J12    6241\n",
      "K9     6172\n",
      "L13    6037\n",
      "B11    6036\n",
      "D7     5856\n",
      "E6     5745\n",
      "E14    5694\n",
      "C16    5595\n",
      "Name: Core, dtype: int64\n",
      "3 \n",
      "\n",
      "D9    6407\n",
      "Name: Core, dtype: int64\n",
      "4 \n",
      "\n",
      "G15    6090\n",
      "L11    6020\n",
      "C3     4860\n",
      "Name: Core, dtype: int64\n"
     ]
    }
   ],
   "source": [
    "y_label\n",
    "\n",
    "print(\"Validation set: \\n\")\n",
    "\n",
    "for name in np.unique(X_valid.reset_index()[y_label]):\n",
    "    print(name, \"\\n\")\n",
    "    index = X_valid.reset_index()[y_label] == X_valid.reset_index()[y_label].value_counts()[name]\n",
    "    index = X_valid.reset_index()[y_label] == name\n",
    "\n",
    "    print(X_valid[index.values].reset_index()[\"Core\"].value_counts())"
   ]
  },
  {
   "cell_type": "code",
   "execution_count": null,
   "metadata": {},
   "outputs": [],
   "source": [
    "y_label\n",
    "\n",
    "print(\"Full data set: \\n\")\n",
    "\n",
    "for name in np.unique(DATA.reset_index()[y_label]):\n",
    "    print(name, \"\\n\")\n",
    "    index = DATA.reset_index()[y_label] == DATA.reset_index()[y_label].value_counts()[name]\n",
    "    index = DATA.reset_index()[y_label] == name\n",
    "\n",
    "    print(len(DATA[index.values].reset_index()[\"Core\"].value_counts()))"
   ]
  },
  {
   "cell_type": "code",
   "execution_count": 53,
   "metadata": {
    "collapsed": true,
    "jupyter": {
     "outputs_hidden": true
    }
   },
   "outputs": [
    {
     "name": "stdout",
     "output_type": "stream",
     "text": [
      "Train set: \n",
      "\n",
      "- \n",
      "\n",
      "M12    9308\n",
      "M15    7843\n",
      "M4     6652\n",
      "M9     6008\n",
      "M16    5922\n",
      "M1     5397\n",
      "M3     5172\n",
      "M14    5136\n",
      "M7     4963\n",
      "M11    4784\n",
      "M10    4537\n",
      "M2      313\n",
      "Name: Core, dtype: int64\n",
      "1 \n",
      "\n",
      "E13    4949\n",
      "F12    3249\n",
      "B5     1823\n",
      "A8     1739\n",
      "B15    1646\n",
      "F6     1448\n",
      "A11    1381\n",
      "Name: Core, dtype: int64\n",
      "2 \n",
      "\n",
      "J9     11571\n",
      "K6     10663\n",
      "F15     7770\n",
      "L3      7317\n",
      "J6      7294\n",
      "A6      7084\n",
      "B11     5433\n",
      "J14     5432\n",
      "J3      5060\n",
      "J5      4518\n",
      "A7      4425\n",
      "B2      4214\n",
      "B4      4190\n",
      "L2      4000\n",
      "A3      3989\n",
      "B1      3615\n",
      "K5      3600\n",
      "J13     3578\n",
      "B14     3541\n",
      "D7      3328\n",
      "D15     3258\n",
      "A2      3151\n",
      "A1      2906\n",
      "J7      2854\n",
      "K7      2643\n",
      "A5      2530\n",
      "B10     2496\n",
      "E6      2403\n",
      "D13     1859\n",
      "A9      1816\n",
      "L1      1797\n",
      "F9      1588\n",
      "J16     1436\n",
      "B7       801\n",
      "Name: Core, dtype: int64\n",
      "3 \n",
      "\n",
      "H3     12779\n",
      "J4      3308\n",
      "B16     2512\n",
      "E4      1747\n",
      "E3      1691\n",
      "J1       516\n",
      "Name: Core, dtype: int64\n",
      "4 \n",
      "\n",
      "J11    9402\n",
      "K1     2459\n",
      "C3      694\n",
      "Name: Core, dtype: int64\n"
     ]
    }
   ],
   "source": [
    "y_label\n",
    "\n",
    "print(\"Train set: \\n\")\n",
    "\n",
    "for name in np.unique(X_train.reset_index()[y_label]):\n",
    "    print(name, \"\\n\")\n",
    "    index = X_train.reset_index()[y_label] == X_train.reset_index()[y_label].value_counts()[name]\n",
    "    index = X_train.reset_index()[y_label] == name\n",
    "\n",
    "    print(X_train[index.values].reset_index()[\"Core\"].value_counts())"
   ]
  },
  {
   "cell_type": "code",
   "execution_count": 20,
   "metadata": {},
   "outputs": [
    {
     "name": "stdout",
     "output_type": "stream",
     "text": [
      "7\n"
     ]
    }
   ],
   "source": [
    "index = X_train.reset_index().Stage == X_train.reset_index().Stage.value_counts().idxmin()\n",
    "\n",
    "print(len(X_train[index.values].reset_index()[\"Core\"].value_counts()))"
   ]
  },
  {
   "cell_type": "code",
   "execution_count": 108,
   "metadata": {
    "jupyter": {
     "source_hidden": true
    }
   },
   "outputs": [],
   "source": [
    "import xgboost as xgb\n",
    "from sklearn.preprocessing import LabelEncoder\n",
    "\n",
    "def hyper_opt_search_XGBoost_m(X, y, grouping, weight_binary = False\n",
    "                             , optimiser = tpe.suggest, random_state = 42\n",
    "                             , cores = 1, n_evals = 3, k_splits = 2):\n",
    "    \n",
    "    from sklearn.model_selection import train_test_split, GroupKFold, LeaveOneGroupOut, StratifiedKFold\n",
    "    from sklearn.metrics import roc_auc_score\n",
    "    \n",
    "    #X_train, X_test, y_train, y_test = train_test_split(X, y, test_size=0.2, random_state=42)\n",
    "    \n",
    "    ids, counts = np.unique(y, return_counts = True)\n",
    "    weights_dict = dict(zip(ids, counts))\n",
    "    weights = np.array([weights_dict[y_el[0]] for y_el in y])\n",
    "    \n",
    "    y_e = LabelEncoder().fit_transform(y.reshape(-1,))\n",
    "\n",
    "    def score(params):\n",
    "        \n",
    "        loss_cv = []\n",
    "        scores = []\n",
    "        \n",
    "        i = 0\n",
    "\n",
    "        for train_index, test_index in GroupKFold(k_splits).split(X, y, grouping):\n",
    "            \n",
    "            print(np.unique(weights[train_index]))\n",
    "            \n",
    "            #print(np.unique(y[test_index]))\n",
    "\n",
    "            # Uncomment to save folds\n",
    "            #X_Data = np.vstack([X[train_index], X[test_index]])\n",
    "            #Y_Data = lb.inverse_transform(np.hstack([y[train_index], y[test_index]]))\n",
    "            #pd.DataFrame(X_Data, index=Y_Data).round(6).to_csv(r\"F:\\fold_{}.csv\".format(i+1), header = None)\n",
    "            \n",
    "            dtrain = xgb.DMatrix(X[train_index], label=y_e[train_index], weight = weights[train_index])\n",
    "            dtest = xgb.DMatrix(X[test_index], label=y_e[test_index], weight = weights[test_index])\n",
    "\n",
    "            watchlist = [(dtest, 'eval'), (dtrain, 'train')]\n",
    "\n",
    "            xgb_cl = xgb.train(params, dtrain, evals=watchlist, verbose_eval=False)#, feval=j_xg_bin)\n",
    "\n",
    "            predictions = xgb_cl.predict(dtest, ntree_limit = xgb_cl.best_iteration + 1)\n",
    "\n",
    "            # TODO: try and get the y_labels from dtest\n",
    "            score = roc_auc_score(y[test_index], predictions)\n",
    "            #score = j_normal_bin(y[test_index], predictions)\n",
    "            scores.append(score)\n",
    "            \n",
    "            loss = 1 - score\n",
    "            \n",
    "            loss_cv.append(loss)\n",
    "            \n",
    "        #print(\"\\tScore {0}\\n\\n\".format(1-loss))\n",
    "        return {'loss': loss.mean(), 'status': STATUS_OK, 'scores': scores}\n",
    "    \n",
    "    space = {\n",
    "        \"colsample_bylevel\" : hp.quniform('colsample_bylevel', 0.1,1,0.05),\n",
    "        #\"n_classes\" : 5,\n",
    "        #\"scale_pos_weight\" : 1/(np.sum(y)/y.shape[0]),\n",
    "        'n_estimators': hp.quniform('n_estimators', 10, 1000, 1),\n",
    "        'learning_rate': hp.quniform('learning_rate', 0.025, 0.7, 0.025),\n",
    "        # A problem with max_depth casted to float instead of int with\n",
    "        # the hp.quniform method.\n",
    "        'max_depth':  hp.choice('max_depth', np.arange(3, 15, dtype=int)),\n",
    "        'min_child_weight': hp.quniform('min_child_weight', 1, 8, 1),\n",
    "        'subsample': hp.quniform('subsample', 0.3, 1, 0.05),\n",
    "        'gamma': hp.quniform('gamma', 0.3, 1, 0.05),\n",
    "        'colsample_bytree': hp.quniform('colsample_bytree', 0.5, 0.95, 0.05),\n",
    "        'eval_metric': 'auc',\n",
    "        #'eval_metric': j_normal_bin,\n",
    "        'objective': 'multi:softprob',\n",
    "        # Increase this number if you have more cores. Otherwise, remove it and it will default \n",
    "        # to the maxium number. \n",
    "        'nthread': cores,\n",
    "        'booster': 'gbtree',\n",
    "        'tree_method': 'exact',\n",
    "        'silent': 1,\n",
    "        'seed': random_state      \n",
    "    }\n",
    "\n",
    "    # Use the fmin function from Hyperopt to find the best hyperparameters\n",
    "    best = fmin(score, space, algo=tpe.suggest, \n",
    "                # trials=trials, \n",
    "                max_evals=n_evals)\n",
    "    \n",
    "    best[\"scale_pos_weight\"] = space[\"scale_pos_weight\"]\n",
    "    best[\"n_estimators\"] = int(best[\"n_estimators\"])\n",
    "\n",
    "    return best"
   ]
  },
  {
   "cell_type": "code",
   "execution_count": 109,
   "metadata": {
    "collapsed": true,
    "jupyter": {
     "outputs_hidden": true
    }
   },
   "outputs": [
    {
     "name": "stdout",
     "output_type": "stream",
     "text": [
      "[ 65379 101258 106326 148695 675838]\n",
      "  0%|                                                                             | 0/10 [00:01<?, ?it/s, best loss: ?]\n"
     ]
    },
    {
     "ename": "XGBoostError",
     "evalue": "b'value 0 for Parameter num_class should be greater equal to 1'",
     "output_type": "error",
     "traceback": [
      "\u001b[1;31m---------------------------------------------------------------------------\u001b[0m",
      "\u001b[1;31mXGBoostError\u001b[0m                              Traceback (most recent call last)",
      "\u001b[1;32m<ipython-input-109-5f1f78eea163>\u001b[0m in \u001b[0;36m<module>\u001b[1;34m\u001b[0m\n\u001b[0;32m      7\u001b[0m                                         \u001b[0mcores\u001b[0m \u001b[1;33m=\u001b[0m \u001b[1;36m2\u001b[0m\u001b[1;33m,\u001b[0m\u001b[1;33m\u001b[0m\u001b[1;33m\u001b[0m\u001b[0m\n\u001b[0;32m      8\u001b[0m                                         \u001b[0mn_evals\u001b[0m \u001b[1;33m=\u001b[0m \u001b[1;36m10\u001b[0m\u001b[1;33m,\u001b[0m\u001b[1;33m\u001b[0m\u001b[1;33m\u001b[0m\u001b[0m\n\u001b[1;32m----> 9\u001b[1;33m                                         k_splits = 3)\n\u001b[0m\u001b[0;32m     10\u001b[0m \u001b[1;33m\u001b[0m\u001b[0m\n\u001b[0;32m     11\u001b[0m \u001b[0mmulti_xgb\u001b[0m \u001b[1;33m=\u001b[0m \u001b[0mxgb\u001b[0m\u001b[1;33m.\u001b[0m\u001b[0mXGBClassifier\u001b[0m\u001b[1;33m(\u001b[0m\u001b[1;33m)\u001b[0m\u001b[1;33m\u001b[0m\u001b[1;33m\u001b[0m\u001b[0m\n",
      "\u001b[1;32m<ipython-input-108-38ecae4f92c1>\u001b[0m in \u001b[0;36mhyper_opt_search_XGBoost_m\u001b[1;34m(X, y, grouping, weight_binary, optimiser, random_state, cores, n_evals, k_splits)\u001b[0m\n\u001b[0;32m     84\u001b[0m     best = fmin(score, space, algo=tpe.suggest, \n\u001b[0;32m     85\u001b[0m                 \u001b[1;31m# trials=trials,\u001b[0m\u001b[1;33m\u001b[0m\u001b[1;33m\u001b[0m\u001b[1;33m\u001b[0m\u001b[0m\n\u001b[1;32m---> 86\u001b[1;33m                 max_evals=n_evals)\n\u001b[0m\u001b[0;32m     87\u001b[0m \u001b[1;33m\u001b[0m\u001b[0m\n\u001b[0;32m     88\u001b[0m     \u001b[0mbest\u001b[0m\u001b[1;33m[\u001b[0m\u001b[1;34m\"scale_pos_weight\"\u001b[0m\u001b[1;33m]\u001b[0m \u001b[1;33m=\u001b[0m \u001b[0mspace\u001b[0m\u001b[1;33m[\u001b[0m\u001b[1;34m\"scale_pos_weight\"\u001b[0m\u001b[1;33m]\u001b[0m\u001b[1;33m\u001b[0m\u001b[1;33m\u001b[0m\u001b[0m\n",
      "\u001b[1;32m~\\Anaconda3\\lib\\site-packages\\hyperopt\\fmin.py\u001b[0m in \u001b[0;36mfmin\u001b[1;34m(fn, space, algo, max_evals, trials, rstate, allow_trials_fmin, pass_expr_memo_ctrl, catch_eval_exceptions, verbose, return_argmin, points_to_evaluate, max_queue_len, show_progressbar)\u001b[0m\n\u001b[0;32m    405\u001b[0m                     show_progressbar=show_progressbar)\n\u001b[0;32m    406\u001b[0m     \u001b[0mrval\u001b[0m\u001b[1;33m.\u001b[0m\u001b[0mcatch_eval_exceptions\u001b[0m \u001b[1;33m=\u001b[0m \u001b[0mcatch_eval_exceptions\u001b[0m\u001b[1;33m\u001b[0m\u001b[1;33m\u001b[0m\u001b[0m\n\u001b[1;32m--> 407\u001b[1;33m     \u001b[0mrval\u001b[0m\u001b[1;33m.\u001b[0m\u001b[0mexhaust\u001b[0m\u001b[1;33m(\u001b[0m\u001b[1;33m)\u001b[0m\u001b[1;33m\u001b[0m\u001b[1;33m\u001b[0m\u001b[0m\n\u001b[0m\u001b[0;32m    408\u001b[0m     \u001b[1;32mif\u001b[0m \u001b[0mreturn_argmin\u001b[0m\u001b[1;33m:\u001b[0m\u001b[1;33m\u001b[0m\u001b[1;33m\u001b[0m\u001b[0m\n\u001b[0;32m    409\u001b[0m         \u001b[1;32mreturn\u001b[0m \u001b[0mtrials\u001b[0m\u001b[1;33m.\u001b[0m\u001b[0margmin\u001b[0m\u001b[1;33m\u001b[0m\u001b[1;33m\u001b[0m\u001b[0m\n",
      "\u001b[1;32m~\\Anaconda3\\lib\\site-packages\\hyperopt\\fmin.py\u001b[0m in \u001b[0;36mexhaust\u001b[1;34m(self)\u001b[0m\n\u001b[0;32m    260\u001b[0m     \u001b[1;32mdef\u001b[0m \u001b[0mexhaust\u001b[0m\u001b[1;33m(\u001b[0m\u001b[0mself\u001b[0m\u001b[1;33m)\u001b[0m\u001b[1;33m:\u001b[0m\u001b[1;33m\u001b[0m\u001b[1;33m\u001b[0m\u001b[0m\n\u001b[0;32m    261\u001b[0m         \u001b[0mn_done\u001b[0m \u001b[1;33m=\u001b[0m \u001b[0mlen\u001b[0m\u001b[1;33m(\u001b[0m\u001b[0mself\u001b[0m\u001b[1;33m.\u001b[0m\u001b[0mtrials\u001b[0m\u001b[1;33m)\u001b[0m\u001b[1;33m\u001b[0m\u001b[1;33m\u001b[0m\u001b[0m\n\u001b[1;32m--> 262\u001b[1;33m         \u001b[0mself\u001b[0m\u001b[1;33m.\u001b[0m\u001b[0mrun\u001b[0m\u001b[1;33m(\u001b[0m\u001b[0mself\u001b[0m\u001b[1;33m.\u001b[0m\u001b[0mmax_evals\u001b[0m \u001b[1;33m-\u001b[0m \u001b[0mn_done\u001b[0m\u001b[1;33m,\u001b[0m \u001b[0mblock_until_done\u001b[0m\u001b[1;33m=\u001b[0m\u001b[0mself\u001b[0m\u001b[1;33m.\u001b[0m\u001b[0masynchronous\u001b[0m\u001b[1;33m)\u001b[0m\u001b[1;33m\u001b[0m\u001b[1;33m\u001b[0m\u001b[0m\n\u001b[0m\u001b[0;32m    263\u001b[0m         \u001b[0mself\u001b[0m\u001b[1;33m.\u001b[0m\u001b[0mtrials\u001b[0m\u001b[1;33m.\u001b[0m\u001b[0mrefresh\u001b[0m\u001b[1;33m(\u001b[0m\u001b[1;33m)\u001b[0m\u001b[1;33m\u001b[0m\u001b[1;33m\u001b[0m\u001b[0m\n\u001b[0;32m    264\u001b[0m         \u001b[1;32mreturn\u001b[0m \u001b[0mself\u001b[0m\u001b[1;33m\u001b[0m\u001b[1;33m\u001b[0m\u001b[0m\n",
      "\u001b[1;32m~\\Anaconda3\\lib\\site-packages\\hyperopt\\fmin.py\u001b[0m in \u001b[0;36mrun\u001b[1;34m(self, N, block_until_done)\u001b[0m\n\u001b[0;32m    225\u001b[0m                     \u001b[1;32melse\u001b[0m\u001b[1;33m:\u001b[0m\u001b[1;33m\u001b[0m\u001b[1;33m\u001b[0m\u001b[0m\n\u001b[0;32m    226\u001b[0m                         \u001b[1;31m# -- loop over trials and do the jobs directly\u001b[0m\u001b[1;33m\u001b[0m\u001b[1;33m\u001b[0m\u001b[1;33m\u001b[0m\u001b[0m\n\u001b[1;32m--> 227\u001b[1;33m                         \u001b[0mself\u001b[0m\u001b[1;33m.\u001b[0m\u001b[0mserial_evaluate\u001b[0m\u001b[1;33m(\u001b[0m\u001b[1;33m)\u001b[0m\u001b[1;33m\u001b[0m\u001b[1;33m\u001b[0m\u001b[0m\n\u001b[0m\u001b[0;32m    228\u001b[0m \u001b[1;33m\u001b[0m\u001b[0m\n\u001b[0;32m    229\u001b[0m                     \u001b[1;32mtry\u001b[0m\u001b[1;33m:\u001b[0m\u001b[1;33m\u001b[0m\u001b[1;33m\u001b[0m\u001b[0m\n",
      "\u001b[1;32m~\\Anaconda3\\lib\\site-packages\\hyperopt\\fmin.py\u001b[0m in \u001b[0;36mserial_evaluate\u001b[1;34m(self, N)\u001b[0m\n\u001b[0;32m    139\u001b[0m                 \u001b[0mctrl\u001b[0m \u001b[1;33m=\u001b[0m \u001b[0mbase\u001b[0m\u001b[1;33m.\u001b[0m\u001b[0mCtrl\u001b[0m\u001b[1;33m(\u001b[0m\u001b[0mself\u001b[0m\u001b[1;33m.\u001b[0m\u001b[0mtrials\u001b[0m\u001b[1;33m,\u001b[0m \u001b[0mcurrent_trial\u001b[0m\u001b[1;33m=\u001b[0m\u001b[0mtrial\u001b[0m\u001b[1;33m)\u001b[0m\u001b[1;33m\u001b[0m\u001b[1;33m\u001b[0m\u001b[0m\n\u001b[0;32m    140\u001b[0m                 \u001b[1;32mtry\u001b[0m\u001b[1;33m:\u001b[0m\u001b[1;33m\u001b[0m\u001b[1;33m\u001b[0m\u001b[0m\n\u001b[1;32m--> 141\u001b[1;33m                     \u001b[0mresult\u001b[0m \u001b[1;33m=\u001b[0m \u001b[0mself\u001b[0m\u001b[1;33m.\u001b[0m\u001b[0mdomain\u001b[0m\u001b[1;33m.\u001b[0m\u001b[0mevaluate\u001b[0m\u001b[1;33m(\u001b[0m\u001b[0mspec\u001b[0m\u001b[1;33m,\u001b[0m \u001b[0mctrl\u001b[0m\u001b[1;33m)\u001b[0m\u001b[1;33m\u001b[0m\u001b[1;33m\u001b[0m\u001b[0m\n\u001b[0m\u001b[0;32m    142\u001b[0m                 \u001b[1;32mexcept\u001b[0m \u001b[0mException\u001b[0m \u001b[1;32mas\u001b[0m \u001b[0me\u001b[0m\u001b[1;33m:\u001b[0m\u001b[1;33m\u001b[0m\u001b[1;33m\u001b[0m\u001b[0m\n\u001b[0;32m    143\u001b[0m                     \u001b[0mlogger\u001b[0m\u001b[1;33m.\u001b[0m\u001b[0minfo\u001b[0m\u001b[1;33m(\u001b[0m\u001b[1;34m'job exception: %s'\u001b[0m \u001b[1;33m%\u001b[0m \u001b[0mstr\u001b[0m\u001b[1;33m(\u001b[0m\u001b[0me\u001b[0m\u001b[1;33m)\u001b[0m\u001b[1;33m)\u001b[0m\u001b[1;33m\u001b[0m\u001b[1;33m\u001b[0m\u001b[0m\n",
      "\u001b[1;32m~\\Anaconda3\\lib\\site-packages\\hyperopt\\base.py\u001b[0m in \u001b[0;36mevaluate\u001b[1;34m(self, config, ctrl, attach_attachments)\u001b[0m\n\u001b[0;32m    842\u001b[0m                 \u001b[0mmemo\u001b[0m\u001b[1;33m=\u001b[0m\u001b[0mmemo\u001b[0m\u001b[1;33m,\u001b[0m\u001b[1;33m\u001b[0m\u001b[1;33m\u001b[0m\u001b[0m\n\u001b[0;32m    843\u001b[0m                 print_node_on_error=self.rec_eval_print_node_on_error)\n\u001b[1;32m--> 844\u001b[1;33m             \u001b[0mrval\u001b[0m \u001b[1;33m=\u001b[0m \u001b[0mself\u001b[0m\u001b[1;33m.\u001b[0m\u001b[0mfn\u001b[0m\u001b[1;33m(\u001b[0m\u001b[0mpyll_rval\u001b[0m\u001b[1;33m)\u001b[0m\u001b[1;33m\u001b[0m\u001b[1;33m\u001b[0m\u001b[0m\n\u001b[0m\u001b[0;32m    845\u001b[0m \u001b[1;33m\u001b[0m\u001b[0m\n\u001b[0;32m    846\u001b[0m         \u001b[1;32mif\u001b[0m \u001b[0misinstance\u001b[0m\u001b[1;33m(\u001b[0m\u001b[0mrval\u001b[0m\u001b[1;33m,\u001b[0m \u001b[1;33m(\u001b[0m\u001b[0mfloat\u001b[0m\u001b[1;33m,\u001b[0m \u001b[0mint\u001b[0m\u001b[1;33m,\u001b[0m \u001b[0mnp\u001b[0m\u001b[1;33m.\u001b[0m\u001b[0mnumber\u001b[0m\u001b[1;33m)\u001b[0m\u001b[1;33m)\u001b[0m\u001b[1;33m:\u001b[0m\u001b[1;33m\u001b[0m\u001b[1;33m\u001b[0m\u001b[0m\n",
      "\u001b[1;32m<ipython-input-108-38ecae4f92c1>\u001b[0m in \u001b[0;36mscore\u001b[1;34m(params)\u001b[0m\n\u001b[0;32m     40\u001b[0m             \u001b[0mwatchlist\u001b[0m \u001b[1;33m=\u001b[0m \u001b[1;33m[\u001b[0m\u001b[1;33m(\u001b[0m\u001b[0mdtest\u001b[0m\u001b[1;33m,\u001b[0m \u001b[1;34m'eval'\u001b[0m\u001b[1;33m)\u001b[0m\u001b[1;33m,\u001b[0m \u001b[1;33m(\u001b[0m\u001b[0mdtrain\u001b[0m\u001b[1;33m,\u001b[0m \u001b[1;34m'train'\u001b[0m\u001b[1;33m)\u001b[0m\u001b[1;33m]\u001b[0m\u001b[1;33m\u001b[0m\u001b[1;33m\u001b[0m\u001b[0m\n\u001b[0;32m     41\u001b[0m \u001b[1;33m\u001b[0m\u001b[0m\n\u001b[1;32m---> 42\u001b[1;33m             \u001b[0mxgb_cl\u001b[0m \u001b[1;33m=\u001b[0m \u001b[0mxgb\u001b[0m\u001b[1;33m.\u001b[0m\u001b[0mtrain\u001b[0m\u001b[1;33m(\u001b[0m\u001b[0mparams\u001b[0m\u001b[1;33m,\u001b[0m \u001b[0mdtrain\u001b[0m\u001b[1;33m,\u001b[0m \u001b[0mevals\u001b[0m\u001b[1;33m=\u001b[0m\u001b[0mwatchlist\u001b[0m\u001b[1;33m,\u001b[0m \u001b[0mverbose_eval\u001b[0m\u001b[1;33m=\u001b[0m\u001b[1;32mFalse\u001b[0m\u001b[1;33m)\u001b[0m\u001b[1;31m#, feval=j_xg_bin)\u001b[0m\u001b[1;33m\u001b[0m\u001b[1;33m\u001b[0m\u001b[0m\n\u001b[0m\u001b[0;32m     43\u001b[0m \u001b[1;33m\u001b[0m\u001b[0m\n\u001b[0;32m     44\u001b[0m             \u001b[0mpredictions\u001b[0m \u001b[1;33m=\u001b[0m \u001b[0mxgb_cl\u001b[0m\u001b[1;33m.\u001b[0m\u001b[0mpredict\u001b[0m\u001b[1;33m(\u001b[0m\u001b[0mdtest\u001b[0m\u001b[1;33m,\u001b[0m \u001b[0mntree_limit\u001b[0m \u001b[1;33m=\u001b[0m \u001b[0mxgb_cl\u001b[0m\u001b[1;33m.\u001b[0m\u001b[0mbest_iteration\u001b[0m \u001b[1;33m+\u001b[0m \u001b[1;36m1\u001b[0m\u001b[1;33m)\u001b[0m\u001b[1;33m\u001b[0m\u001b[1;33m\u001b[0m\u001b[0m\n",
      "\u001b[1;32m~\\Anaconda3\\lib\\site-packages\\xgboost\\training.py\u001b[0m in \u001b[0;36mtrain\u001b[1;34m(params, dtrain, num_boost_round, evals, obj, feval, maximize, early_stopping_rounds, evals_result, verbose_eval, xgb_model, callbacks, learning_rates)\u001b[0m\n\u001b[0;32m    208\u001b[0m                            \u001b[0mevals\u001b[0m\u001b[1;33m=\u001b[0m\u001b[0mevals\u001b[0m\u001b[1;33m,\u001b[0m\u001b[1;33m\u001b[0m\u001b[1;33m\u001b[0m\u001b[0m\n\u001b[0;32m    209\u001b[0m                            \u001b[0mobj\u001b[0m\u001b[1;33m=\u001b[0m\u001b[0mobj\u001b[0m\u001b[1;33m,\u001b[0m \u001b[0mfeval\u001b[0m\u001b[1;33m=\u001b[0m\u001b[0mfeval\u001b[0m\u001b[1;33m,\u001b[0m\u001b[1;33m\u001b[0m\u001b[1;33m\u001b[0m\u001b[0m\n\u001b[1;32m--> 210\u001b[1;33m                            xgb_model=xgb_model, callbacks=callbacks)\n\u001b[0m\u001b[0;32m    211\u001b[0m \u001b[1;33m\u001b[0m\u001b[0m\n\u001b[0;32m    212\u001b[0m \u001b[1;33m\u001b[0m\u001b[0m\n",
      "\u001b[1;32m~\\Anaconda3\\lib\\site-packages\\xgboost\\training.py\u001b[0m in \u001b[0;36m_train_internal\u001b[1;34m(params, dtrain, num_boost_round, evals, obj, feval, xgb_model, callbacks)\u001b[0m\n\u001b[0;32m     72\u001b[0m         \u001b[1;31m# Skip the first update if it is a recovery step.\u001b[0m\u001b[1;33m\u001b[0m\u001b[1;33m\u001b[0m\u001b[1;33m\u001b[0m\u001b[0m\n\u001b[0;32m     73\u001b[0m         \u001b[1;32mif\u001b[0m \u001b[0mversion\u001b[0m \u001b[1;33m%\u001b[0m \u001b[1;36m2\u001b[0m \u001b[1;33m==\u001b[0m \u001b[1;36m0\u001b[0m\u001b[1;33m:\u001b[0m\u001b[1;33m\u001b[0m\u001b[1;33m\u001b[0m\u001b[0m\n\u001b[1;32m---> 74\u001b[1;33m             \u001b[0mbst\u001b[0m\u001b[1;33m.\u001b[0m\u001b[0mupdate\u001b[0m\u001b[1;33m(\u001b[0m\u001b[0mdtrain\u001b[0m\u001b[1;33m,\u001b[0m \u001b[0mi\u001b[0m\u001b[1;33m,\u001b[0m \u001b[0mobj\u001b[0m\u001b[1;33m)\u001b[0m\u001b[1;33m\u001b[0m\u001b[1;33m\u001b[0m\u001b[0m\n\u001b[0m\u001b[0;32m     75\u001b[0m             \u001b[0mbst\u001b[0m\u001b[1;33m.\u001b[0m\u001b[0msave_rabit_checkpoint\u001b[0m\u001b[1;33m(\u001b[0m\u001b[1;33m)\u001b[0m\u001b[1;33m\u001b[0m\u001b[1;33m\u001b[0m\u001b[0m\n\u001b[0;32m     76\u001b[0m             \u001b[0mversion\u001b[0m \u001b[1;33m+=\u001b[0m \u001b[1;36m1\u001b[0m\u001b[1;33m\u001b[0m\u001b[1;33m\u001b[0m\u001b[0m\n",
      "\u001b[1;32m~\\Anaconda3\\lib\\site-packages\\xgboost\\core.py\u001b[0m in \u001b[0;36mupdate\u001b[1;34m(self, dtrain, iteration, fobj)\u001b[0m\n\u001b[0;32m   1019\u001b[0m         \u001b[1;32mif\u001b[0m \u001b[0mfobj\u001b[0m \u001b[1;32mis\u001b[0m \u001b[1;32mNone\u001b[0m\u001b[1;33m:\u001b[0m\u001b[1;33m\u001b[0m\u001b[1;33m\u001b[0m\u001b[0m\n\u001b[0;32m   1020\u001b[0m             _check_call(_LIB.XGBoosterUpdateOneIter(self.handle, ctypes.c_int(iteration),\n\u001b[1;32m-> 1021\u001b[1;33m                                                     dtrain.handle))\n\u001b[0m\u001b[0;32m   1022\u001b[0m         \u001b[1;32melse\u001b[0m\u001b[1;33m:\u001b[0m\u001b[1;33m\u001b[0m\u001b[1;33m\u001b[0m\u001b[0m\n\u001b[0;32m   1023\u001b[0m             \u001b[0mpred\u001b[0m \u001b[1;33m=\u001b[0m \u001b[0mself\u001b[0m\u001b[1;33m.\u001b[0m\u001b[0mpredict\u001b[0m\u001b[1;33m(\u001b[0m\u001b[0mdtrain\u001b[0m\u001b[1;33m)\u001b[0m\u001b[1;33m\u001b[0m\u001b[1;33m\u001b[0m\u001b[0m\n",
      "\u001b[1;32m~\\Anaconda3\\lib\\site-packages\\xgboost\\core.py\u001b[0m in \u001b[0;36m_check_call\u001b[1;34m(ret)\u001b[0m\n\u001b[0;32m    149\u001b[0m     \"\"\"\n\u001b[0;32m    150\u001b[0m     \u001b[1;32mif\u001b[0m \u001b[0mret\u001b[0m \u001b[1;33m!=\u001b[0m \u001b[1;36m0\u001b[0m\u001b[1;33m:\u001b[0m\u001b[1;33m\u001b[0m\u001b[1;33m\u001b[0m\u001b[0m\n\u001b[1;32m--> 151\u001b[1;33m         \u001b[1;32mraise\u001b[0m \u001b[0mXGBoostError\u001b[0m\u001b[1;33m(\u001b[0m\u001b[0m_LIB\u001b[0m\u001b[1;33m.\u001b[0m\u001b[0mXGBGetLastError\u001b[0m\u001b[1;33m(\u001b[0m\u001b[1;33m)\u001b[0m\u001b[1;33m)\u001b[0m\u001b[1;33m\u001b[0m\u001b[1;33m\u001b[0m\u001b[0m\n\u001b[0m\u001b[0;32m    152\u001b[0m \u001b[1;33m\u001b[0m\u001b[0m\n\u001b[0;32m    153\u001b[0m \u001b[1;33m\u001b[0m\u001b[0m\n",
      "\u001b[1;31mXGBoostError\u001b[0m: b'value 0 for Parameter num_class should be greater equal to 1'"
     ]
    }
   ],
   "source": [
    "best_hyperparams = hyper_opt_search_XGBoost_m(X_train.values,\n",
    "                                        y_train_m.values,\n",
    "                                        X_train.reset_index()[\"Core\"],\n",
    "                                        weight_binary = True,\n",
    "                                        optimiser = tpe.suggest,\n",
    "                                        random_state = 42,\n",
    "                                        cores = 2,\n",
    "                                        n_evals = 10,\n",
    "                                        k_splits = 3)\n",
    "\n",
    "multi_xgb = xgb.XGBClassifier()\n",
    "multi_xgb.set_params(**best_hyperparams)\n",
    "multi_xgb.fit(X_train.values, X_train)"
   ]
  },
  {
   "cell_type": "markdown",
   "metadata": {},
   "source": [
    "from sklearn.model_selection import KFold\n",
    "\n",
    "grouping = X_train.reset_index()[\"Core\"]\n",
    "\n",
    "indices = []\n",
    "\n",
    "i = 0\n",
    "\n",
    "for train_index, test_index in KFold(5).split(grouping):\n",
    "    \n",
    "    indices.append(train_index)\n",
    "\n",
    "    # Uncomment to save folds\n",
    "    X_Data = np.vstack(X_train.values[test_index])\n",
    "    Y_Data = lb.inverse_transform(np.hstack(y_train[0][test_index]))\n",
    "    output = pd.DataFrame(X_Data, index=Y_Data)\n",
    "    output.round(6).to_csv(r\"F:\\fold_{}.csv\".format(i+1), header = None)\n",
    "    \n",
    "    print(output.index.value_counts())\n",
    "\n",
    "    i = i+1"
   ]
  },
  {
   "cell_type": "code",
   "execution_count": 48,
   "metadata": {},
   "outputs": [],
   "source": [
    "indices = X_train.reset_index()[\"T\"] == \"3\""
   ]
  },
  {
   "cell_type": "code",
   "execution_count": 49,
   "metadata": {},
   "outputs": [
    {
     "data": {
      "text/plain": [
       "H3     12779\n",
       "J4      3308\n",
       "B16     2512\n",
       "E4      1747\n",
       "E3      1691\n",
       "J1       516\n",
       "Name: Core, dtype: int64"
      ]
     },
     "execution_count": 49,
     "metadata": {},
     "output_type": "execute_result"
    }
   ],
   "source": [
    "X_train[indices.values].reset_index()[\"Core\"].value_counts()"
   ]
  },
  {
   "cell_type": "code",
   "execution_count": 58,
   "metadata": {},
   "outputs": [],
   "source": [
    "ids, counts = np.unique(y_valid_m, return_counts = True)"
   ]
  },
  {
   "cell_type": "code",
   "execution_count": 60,
   "metadata": {},
   "outputs": [
    {
     "data": {
      "text/plain": [
       "{'-': 5.494203615185979e-05,\n",
       " '1': 8.85112409275978e-05,\n",
       " '2': 1.3123359580052494e-05,\n",
       " '3': 7.78089013383131e-05,\n",
       " '4': 0.00016307893020221786}"
      ]
     },
     "execution_count": 60,
     "metadata": {},
     "output_type": "execute_result"
    }
   ],
   "source": [
    "dict(zip(ids,1/counts))"
   ]
  },
  {
   "cell_type": "code",
   "execution_count": 27,
   "metadata": {},
   "outputs": [
    {
     "name": "stdout",
     "output_type": "stream",
     "text": [
      "Wall time: 0 ns\n",
      "\n",
      "1: -\n",
      "N splits: 3\n",
      "100%|████████████████████████████████████████████████████| 2/2 [02:52<00:00, 84.80s/it, best loss: 0.09357523650036259]\n",
      "\n",
      "2: 1\n",
      "N splits: 3\n",
      "100%|███████████████████████████████████████████████████| 2/2 [03:56<00:00, 117.22s/it, best loss: 0.46867869591793665]\n",
      "\n",
      "3: 2\n",
      "N splits: 3\n",
      "100%|███████████████████████████████████████████████████| 2/2 [05:29<00:00, 183.39s/it, best loss: 0.47530313314162165]\n",
      "\n",
      "4: 3\n",
      "N splits: 3\n",
      "100%|█████████████████████████████████████████████████████| 2/2 [01:31<00:00, 48.19s/it, best loss: 0.5775072829495376]\n",
      "\n",
      "5: 4\n",
      "N splits: 3\n",
      "100%|███████████████████████████████████████████████████| 2/2 [03:45<00:00, 127.98s/it, best loss: 0.38505476308861175]\n"
     ]
    }
   ],
   "source": [
    "%time\n",
    "from sklearn.model_selection import train_test_split, GroupKFold, LeaveOneGroupOut\n",
    "\n",
    "xgbinary_classifiers = dict()\n",
    "classifier_results = dict()\n",
    "\n",
    "for i, name in enumerate(np.unique(Y)):\n",
    "    \n",
    "    #if i != 3: continue\n",
    "    \n",
    "    print(\"\\n{}: {}\".format(i + 1, name))\n",
    "    \n",
    "    # Implement maximum number of splits up to 5.\n",
    "    index = X_train.reset_index()[y_label] == X_train.reset_index()[y_label].value_counts()[name]\n",
    "    index = X_train.reset_index()[y_label] == name\n",
    "    k_splits = len(X_train[index.values].reset_index()[\"Core\"].value_counts())-1\n",
    "    \n",
    "    # Set to 5 if too many\n",
    "    if k_splits > 3: k_splits = 3\n",
    "        \n",
    "    print(\"N splits: {}\".format(k_splits))\n",
    "\n",
    "    best_hyperparams = hyper_opt_search_XGBoost(X_train.values,\n",
    "                                        y_train[i].values,\n",
    "                                        X_train.reset_index()[\"Core\"],\n",
    "                                        weight_binary = True,\n",
    "                                        optimiser = tpe.suggest,\n",
    "                                        random_state = 42,\n",
    "                                        cores = 4,\n",
    "                                        n_evals = 10,\n",
    "                                        k_splits = k_splits)\n",
    "                                #, trials = Trials())\n",
    "    \n",
    "    ## TODO: append best classifier to dictionary, store any other\n",
    "    ## relevant variables with it using trials.\n",
    "    clf_xgb = xgb.XGBClassifier(n_jobs = -1)\n",
    "    \n",
    "    # Set the parameters which are best for that particular class\n",
    "    clf_xgb.set_params(**best_hyperparams)\n",
    "    clf_xgb.fit(X_train.values, y_train[i])\n",
    "\n",
    "    xgbinary_classifiers[name] = clf_xgb\n",
    "    \n",
    "classifier_results[\"XGB\"] = xgbinary_classifiers"
   ]
  },
  {
   "cell_type": "code",
   "execution_count": 28,
   "metadata": {},
   "outputs": [],
   "source": [
    "from sklearn.metrics import confusion_matrix, roc_auc_score"
   ]
  },
  {
   "cell_type": "markdown",
   "metadata": {},
   "source": [
    "# Results"
   ]
  },
  {
   "cell_type": "code",
   "execution_count": 29,
   "metadata": {},
   "outputs": [],
   "source": [
    "probs = TAT.bin_predict(X_valid.values, xgbinary_classifiers)\n",
    "\n",
    "aucs = pd.Series({class_name: roc_auc_score(y_valid.iloc[:,i], probs.iloc[:,i]) for i, class_name in enumerate(probs.columns)}, name = \"AUC\")\n",
    "\n",
    "results_xgb = pd.DataFrame(TAT.sens_spec_etc(lb.inverse_transform(y_valid.values), probs.idxmax(axis = 1))).append(aucs)#, ignore_index = True)"
   ]
  },
  {
   "cell_type": "code",
   "execution_count": null,
   "metadata": {},
   "outputs": [],
   "source": [
    "import datetime, os\n",
    "\n",
    "d = datetime.datetime.now().strftime(\"%d_%m_%Y_%H.%M\")\n",
    "\n",
    "save_place = r\"C:\\Users\\Conor\\Google Drive\\PhD\\Breast_Cancer_Analysis_April\\Results\"\n",
    "results_xgb.to_csv(os.path.join(save_place, \"XGBoost_{}_.csv\".format(d)))"
   ]
  },
  {
   "cell_type": "code",
   "execution_count": null,
   "metadata": {},
   "outputs": [],
   "source": [
    "X_valid.reset_index()[\"T\"].value_counts()"
   ]
  },
  {
   "cell_type": "code",
   "execution_count": 55,
   "metadata": {},
   "outputs": [
    {
     "data": {
      "text/plain": [
       "(285682, 164)"
      ]
     },
     "execution_count": 55,
     "metadata": {},
     "output_type": "execute_result"
    }
   ],
   "source": [
    "DATA.shape"
   ]
  },
  {
   "cell_type": "code",
   "execution_count": 30,
   "metadata": {},
   "outputs": [
    {
     "data": {
      "text/html": [
       "<div>\n",
       "<style scoped>\n",
       "    .dataframe tbody tr th:only-of-type {\n",
       "        vertical-align: middle;\n",
       "    }\n",
       "\n",
       "    .dataframe tbody tr th {\n",
       "        vertical-align: top;\n",
       "    }\n",
       "\n",
       "    .dataframe thead th {\n",
       "        text-align: right;\n",
       "    }\n",
       "</style>\n",
       "<table border=\"1\" class=\"dataframe\">\n",
       "  <thead>\n",
       "    <tr style=\"text-align: right;\">\n",
       "      <th></th>\n",
       "      <th>-</th>\n",
       "      <th>1</th>\n",
       "      <th>2</th>\n",
       "      <th>3</th>\n",
       "      <th>4</th>\n",
       "    </tr>\n",
       "  </thead>\n",
       "  <tbody>\n",
       "    <tr>\n",
       "      <th>F1</th>\n",
       "      <td>0.363142</td>\n",
       "      <td>0.043131</td>\n",
       "      <td>0.686843</td>\n",
       "      <td>0.004584</td>\n",
       "      <td>0.059657</td>\n",
       "    </tr>\n",
       "    <tr>\n",
       "      <th>FN</th>\n",
       "      <td>2720.000000</td>\n",
       "      <td>28601.000000</td>\n",
       "      <td>7848.000000</td>\n",
       "      <td>6392.000000</td>\n",
       "      <td>16271.000000</td>\n",
       "    </tr>\n",
       "    <tr>\n",
       "      <th>FP</th>\n",
       "      <td>7108.000000</td>\n",
       "      <td>3301.000000</td>\n",
       "      <td>45535.000000</td>\n",
       "      <td>123.000000</td>\n",
       "      <td>5765.000000</td>\n",
       "    </tr>\n",
       "    <tr>\n",
       "      <th>J</th>\n",
       "      <td>0.447737</td>\n",
       "      <td>-0.010119</td>\n",
       "      <td>0.099656</td>\n",
       "      <td>0.001301</td>\n",
       "      <td>-0.012368</td>\n",
       "    </tr>\n",
       "    <tr>\n",
       "      <th>Sensitivity</th>\n",
       "      <td>0.507425</td>\n",
       "      <td>0.024523</td>\n",
       "      <td>0.881789</td>\n",
       "      <td>0.002341</td>\n",
       "      <td>0.041190</td>\n",
       "    </tr>\n",
       "    <tr>\n",
       "      <th>Specficity</th>\n",
       "      <td>0.940313</td>\n",
       "      <td>0.965358</td>\n",
       "      <td>0.217867</td>\n",
       "      <td>0.998959</td>\n",
       "      <td>0.946441</td>\n",
       "    </tr>\n",
       "    <tr>\n",
       "      <th>TN</th>\n",
       "      <td>111979.000000</td>\n",
       "      <td>91988.000000</td>\n",
       "      <td>12684.000000</td>\n",
       "      <td>118079.000000</td>\n",
       "      <td>101874.000000</td>\n",
       "    </tr>\n",
       "    <tr>\n",
       "      <th>TP</th>\n",
       "      <td>2802.000000</td>\n",
       "      <td>719.000000</td>\n",
       "      <td>58542.000000</td>\n",
       "      <td>15.000000</td>\n",
       "      <td>699.000000</td>\n",
       "    </tr>\n",
       "    <tr>\n",
       "      <th>AUC</th>\n",
       "      <td>0.893528</td>\n",
       "      <td>0.450704</td>\n",
       "      <td>0.568432</td>\n",
       "      <td>0.458113</td>\n",
       "      <td>0.429194</td>\n",
       "    </tr>\n",
       "  </tbody>\n",
       "</table>\n",
       "</div>"
      ],
      "text/plain": [
       "                         -             1             2              3  \\\n",
       "F1                0.363142      0.043131      0.686843       0.004584   \n",
       "FN             2720.000000  28601.000000   7848.000000    6392.000000   \n",
       "FP             7108.000000   3301.000000  45535.000000     123.000000   \n",
       "J                 0.447737     -0.010119      0.099656       0.001301   \n",
       "Sensitivity       0.507425      0.024523      0.881789       0.002341   \n",
       "Specficity        0.940313      0.965358      0.217867       0.998959   \n",
       "TN           111979.000000  91988.000000  12684.000000  118079.000000   \n",
       "TP             2802.000000    719.000000  58542.000000      15.000000   \n",
       "AUC               0.893528      0.450704      0.568432       0.458113   \n",
       "\n",
       "                         4  \n",
       "F1                0.059657  \n",
       "FN            16271.000000  \n",
       "FP             5765.000000  \n",
       "J                -0.012368  \n",
       "Sensitivity       0.041190  \n",
       "Specficity        0.946441  \n",
       "TN           101874.000000  \n",
       "TP              699.000000  \n",
       "AUC               0.429194  "
      ]
     },
     "execution_count": 30,
     "metadata": {},
     "output_type": "execute_result"
    }
   ],
   "source": [
    "results_xgb"
   ]
  },
  {
   "cell_type": "code",
   "execution_count": null,
   "metadata": {
    "collapsed": true,
    "jupyter": {
     "outputs_hidden": true
    }
   },
   "outputs": [],
   "source": [
    "import itertools\n",
    "\n",
    "def conf_mat_analyse(conf_mat, column_title, labels):\n",
    "    \n",
    "    stats = dict()\n",
    "    stats = []\n",
    "    \n",
    "    n_classes = conf_mat.shape[0]\n",
    "    \n",
    "    for i, name in enumerate(labels):\n",
    "        #todo add assert statement to ensure at least 1 example of each class\n",
    "\n",
    "        TP = conf_mat[i,i]\n",
    "        FP = np.sum(conf_mat[:,i]) - TP\n",
    "        FN = np.sum(conf_mat[i,:]) - TP\n",
    "        TN = np.sum(conf_mat) - TP - FP - FN\n",
    "\n",
    "        stats.append([name,TP,TN,FP,FN])\n",
    "        \n",
    "    df = pd.DataFrame(stats, columns = [column_title,\"TP\",\"TN\",\"FP\",\"FN\"])\n",
    "    \n",
    "    df[\"Acc\"] = df.apply(lambda row: (row[\"TP\"] + row[\"TN\"])/(row[\"TP\"] + row[\"TN\"] + row[\"FP\"] + row[\"FN\"])*100, axis = 1)\n",
    "\n",
    "    try: df[\"Sens\"] = df.apply(lambda row: row[\"TP\"]/(row[\"TP\"] + row[\"FN\"])*100, axis = 1)\n",
    "        \n",
    "    except: df[\"Sens\"] = np.nan # Outputs NaN where there are no positive cases\n",
    "        \n",
    "    df[\"Spec\"] = df.apply(lambda row: row[\"TN\"]/(row[\"TN\"] + row[\"FP\"])*100, axis = 1)\n",
    "    \n",
    "    return df"
   ]
  },
  {
   "cell_type": "code",
   "execution_count": null,
   "metadata": {},
   "outputs": [],
   "source": [
    "lb.inverse_transform(y_valid.values)"
   ]
  },
  {
   "cell_type": "code",
   "execution_count": null,
   "metadata": {},
   "outputs": [],
   "source": [
    "import matplotlib as mpl\n",
    "\n",
    "print(mpl.get_configdir())\n",
    "plt.style.reload_library()\n",
    "plt.style.use('ScanCan_Style')"
   ]
  },
  {
   "cell_type": "code",
   "execution_count": null,
   "metadata": {},
   "outputs": [],
   "source": [
    "fig, axes = plt.subplots(nrows = len(xgbinary_classifiers), ncols = 1, figsize = (25,len(xgbinary_classifiers)*8))\n",
    "\n",
    "#fig.suptitle(\"Relative wavenumber importances\", fontsize = 16)\n",
    "\n",
    "for title, plot, ax in zip(xgbinary_classifiers.keys(), xgbinary_classifiers.values(), axes.flatten()):\n",
    "    \n",
    "    ax.grid()\n",
    "    ax.bar(X.columns, plot.feature_importances_, width = 5)\n",
    "    #ax.set_xlim(min(X.columns), max(X.columns))\n",
    "    ax.set_title(title)\n",
    "    ax.invert_xaxis()\n",
    "    ax.set_xlabel(\"Wavenumber $(cm^{-1})$\")\n",
    "    ax.set_ylabel(\"Relative feature importance\")\n",
    "    \n",
    "plt.show()\n",
    "fig.savefig(r\"C:\\Users\\Conor\\Google Drive\\PhD\\Breast_Cancer_Analysis_April\\Feature_Importances_XGBoost.svg\"\n",
    "           ,format = \"svg\"\n",
    "           ,bbox_inches = \"tight\")"
   ]
  },
  {
   "cell_type": "markdown",
   "metadata": {},
   "source": [
    "# Hyperopt on other classifiers"
   ]
  },
  {
   "cell_type": "code",
   "execution_count": 31,
   "metadata": {},
   "outputs": [],
   "source": [
    "def hyper_opt_search(clf, space, X, y, grouping, optimiser = tpe.suggest, random_state = 42, cores = 2, n_evals = 3, n_splits = 3):\n",
    "\n",
    "    from sklearn.model_selection import train_test_split, GroupKFold\n",
    "    from sklearn.metrics import roc_auc_score, confusion_matrix\n",
    "    \n",
    "    #X_train, X_test, y_train, y_test = train_test_split(X, y, test_size=0.2, random_state=42)\n",
    "\n",
    "    def score(params):\n",
    "        \n",
    "        loss_cv = []\n",
    "        \n",
    "        for train_index, test_index in GroupKFold(n_splits).split(X, y, grouping):\n",
    "\n",
    "            X_train, Y_train = X[train_index], y[train_index]\n",
    "            X_test, Y_test = X[test_index], y[test_index]\n",
    "            \n",
    "            clf.fit(X_train, Y_train)\n",
    "\n",
    "            predictions = clf.predict_proba(X_test)\n",
    "            \n",
    "            score = roc_auc_score(y[test_index], predictions[:,1])\n",
    "            #score = j_normal_bin(y[test_index], predictions[:,1])\n",
    "\n",
    "            loss = 1 - score\n",
    "            \n",
    "            loss_cv.append(loss)\n",
    "            \n",
    "        #print(\"\\tScore {0}\\n\\n\".format(1-loss))\n",
    "        return {'loss': loss.mean(), 'status': STATUS_OK}\n",
    "    \n",
    "    # Use the fmin function from Hyperopt to find the best hyperparameters\n",
    "    best = fmin(score, space, algo=tpe.suggest, \n",
    "                # trials=trials, \n",
    "                max_evals=n_evals)\n",
    "    return best"
   ]
  },
  {
   "cell_type": "code",
   "execution_count": 32,
   "metadata": {},
   "outputs": [],
   "source": [
    "from sklearn.svm import SVC\n",
    "from sklearn.neighbors import KNeighborsClassifier\n",
    "from sklearn.ensemble import RandomForestClassifier\n",
    "from sklearn.discriminant_analysis import LinearDiscriminantAnalysis\n",
    "from sklearn.linear_model import LogisticRegression\n",
    "\n",
    "classifiers = {\n",
    "    \"SVM\": (SVC(probability = True, kernel = \"rbf\", class_weight = \"balanced\"), \n",
    "            {'C': hp.loguniform(\"C\", np.log(1e-2), np.log(1e2))\n",
    "            ,\"gamma\" : hp.loguniform(\"gamma\", np.log(1e-2), np.log(1e2))\n",
    "            })\n",
    "    \n",
    "    ,\"KNN\": (KNeighborsClassifier(),\n",
    "            {'n_neighbors': hp.choice('n_neighbors', np.arange(2, 30, dtype=int))\n",
    "            ,'leaf_size': hp.choice('leaf_size', np.arange(10,60, dtype = int))\n",
    "            ,'n_jobs': -1})\n",
    "    \n",
    "    ,\"RF\": (RandomForestClassifier(),\n",
    "            {'n_estimators ': hp.choice('n_estimators', np.arange(10,1000,5))\n",
    "            ,'max_depth': hp.choice('max_depth', np.arange(2,30,1))\n",
    "            ,'min_samples_split': hp.quniform('min_samples_split', 0.3, 1, 0.05)})\n",
    "    \n",
    "    ,\"LDA\": (LinearDiscriminantAnalysis(solver = \"lsqr\"),\n",
    "            {'eigen': hp.choice('shrinkage', [None, \"auto\"])})\n",
    "    \n",
    "    ,\"LR\": (LogisticRegression(class_weight = \"balanced\", n_jobs = 1, solver = \"liblinear\"),\n",
    "            {'C': hp.loguniform(\"C\", np.log(1e-5), np.log(1e5))})\n",
    "}"
   ]
  },
  {
   "cell_type": "code",
   "execution_count": 33,
   "metadata": {},
   "outputs": [
    {
     "name": "stdout",
     "output_type": "stream",
     "text": [
      "Wall time: 0 ns\n",
      "LDA\n",
      "\n",
      "-\n",
      "100%|█████████████████████████████████████████████████████| 3/3 [01:05<00:00, 22.17s/it, best loss: 0.5907843048669807]\n",
      "\n",
      "1\n",
      "100%|█████████████████████████████████████████████████████| 3/3 [01:04<00:00, 21.37s/it, best loss: 0.9990577547437061]\n",
      "\n",
      "2\n",
      "100%|██████████████████████████████████████████████████████| 3/3 [00:59<00:00, 20.03s/it, best loss: 0.997364018242934]\n",
      "\n",
      "3\n",
      "100%|█████████████████████████████████████████████████████| 3/3 [00:58<00:00, 19.67s/it, best loss: 0.9999932221993877]\n",
      "\n",
      "4\n",
      "100%|█████████████████████████████████████████████████████| 3/3 [00:59<00:00, 19.71s/it, best loss: 0.9712824341973871]\n",
      "LR\n",
      "\n",
      "-\n",
      "100%|███████████████████████████████████████████████| 20/20 [1:41:56<00:00, 304.99s/it, best loss: 0.22903248130188025]\n",
      "\n",
      "1\n",
      "100%|████████████████████████████████████████████████| 20/20 [2:20:55<00:00, 423.03s/it, best loss: 0.9818114176404673]\n",
      "\n",
      "2\n",
      "100%|████████████████████████████████████████████████| 20/20 [2:21:09<00:00, 423.59s/it, best loss: 1.0167500168522332]\n",
      "\n",
      "3\n",
      "100%|████████████████████████████████████████████████| 20/20 [2:21:34<00:00, 424.54s/it, best loss: 0.9238816309942057]\n",
      "\n",
      "4\n",
      "100%|████████████████████████████████████████████████| 20/20 [2:19:41<00:00, 418.61s/it, best loss: 0.8627845541408838]\n"
     ]
    }
   ],
   "source": [
    "%time\n",
    "from sklearn.model_selection import train_test_split, GroupKFold\n",
    "from sklearn.base import clone\n",
    "\n",
    "# Dictionary to store the best classifier after optimisation\n",
    "\n",
    "for clf_name, clf_u, params in zip(classifiers.keys(), list(zip(*classifiers.values()))[0], list(zip(*classifiers.values()))[1]):\n",
    "\n",
    "    # Dictionary to store the binary classifier for each class\n",
    "    binary_classifiers = dict()\n",
    "    \n",
    "    if clf_name in [\"KNN\", \"RF\", \"SVM\"] : continue\n",
    "    \n",
    "    if clf_name in [\"LDA\",\"SVM\"]: n_evals = 3\n",
    "    else: n_evals = 20\n",
    "        \n",
    "    print(clf_name)\n",
    "\n",
    "    for i, name in enumerate(np.unique(Y)):\n",
    "        \n",
    "        index = DATA.reset_index()[y_label] == DATA.reset_index()[y_label].value_counts()[name]\n",
    "        index = DATA.reset_index()[y_label] == name\n",
    "\n",
    "        k_splits = len(DATA[index.values].reset_index()[\"Core\"].value_counts())\n",
    "\n",
    "        if k_splits > 5: k_splits = 5\n",
    "            \n",
    "        \n",
    "        clf = clone(clf_u)\n",
    "        print(\"\\n{}\".format(name))\n",
    "\n",
    "        best_hyperparams = hyper_opt_search(clf,\n",
    "                                            params,\n",
    "                                            X_train.values,\n",
    "                                            y_train[i].values,\n",
    "                                            X_train.reset_index()[\"Core\"],\n",
    "                                            optimiser = tpe.suggest,\n",
    "                                            random_state = 42,\n",
    "                                            cores = -1,\n",
    "                                            n_evals = n_evals,\n",
    "                                            n_splits = 2)\n",
    "\n",
    "        ## TODO: append best classifier to dictionary, store any other\n",
    "        ## relevant variables with it. Use trials.\n",
    "\n",
    "        # Set the parameters which are best for that particular class\n",
    "        clf = clf.set_params(**best_hyperparams)\n",
    "        \n",
    "        clf.fit(X_train.values, y_train[i])\n",
    "        \n",
    "        binary_classifiers[name] = clf\n",
    "        \n",
    "    classifier_results[clf_name] = binary_classifiers"
   ]
  },
  {
   "cell_type": "code",
   "execution_count": 34,
   "metadata": {},
   "outputs": [
    {
     "data": {
      "text/plain": [
       "dict_keys(['XGB', 'LDA', 'LR'])"
      ]
     },
     "execution_count": 34,
     "metadata": {},
     "output_type": "execute_result"
    }
   ],
   "source": [
    "classifier_results.keys()"
   ]
  },
  {
   "cell_type": "code",
   "execution_count": null,
   "metadata": {},
   "outputs": [],
   "source": [
    "clf = \"LR\"\n",
    "\n",
    "o_probs = TAT.bin_predict(X_valid.values, classifier_results[clf])\n",
    "\n",
    "aucs = pd.Series({class_name: roc_auc_score(y_valid.iloc[:,i], o_probs.iloc[:,i]) for i, class_name in enumerate(o_probs.columns)}, name = \"AUC\")\n",
    "\n",
    "results = pd.DataFrame(TAT.sens_spec_etc(lb.inverse_transform(y_valid.values), o_probs.idxmax(axis = 1))).append(aucs)#, ignore_index = True)"
   ]
  },
  {
   "cell_type": "code",
   "execution_count": 35,
   "metadata": {},
   "outputs": [],
   "source": [
    "meta = dict()\n",
    "\n",
    "for clf_name, clf in classifier_results.items():\n",
    "    \n",
    "    o_probs = TAT.bin_predict(X_valid.values, clf)\n",
    "\n",
    "    aucs = pd.Series({class_name: roc_auc_score(y_valid.iloc[:,i], o_probs.iloc[:,i]) for i, class_name in enumerate(o_probs.columns)}, name = \"AUC\")\n",
    "\n",
    "    results = pd.DataFrame(TAT.sens_spec_etc(lb.inverse_transform(y_valid.values), o_probs.idxmax(axis = 1))).append(aucs)#, ignore_index = True)\n",
    "\n",
    "    meta[clf_name] = results\n",
    "    \n",
    "meta = pd.concat(meta)"
   ]
  },
  {
   "cell_type": "code",
   "execution_count": 111,
   "metadata": {},
   "outputs": [
    {
     "data": {
      "text/html": [
       "<div>\n",
       "<style scoped>\n",
       "    .dataframe tbody tr th:only-of-type {\n",
       "        vertical-align: middle;\n",
       "    }\n",
       "\n",
       "    .dataframe tbody tr th {\n",
       "        vertical-align: top;\n",
       "    }\n",
       "\n",
       "    .dataframe thead th {\n",
       "        text-align: right;\n",
       "    }\n",
       "</style>\n",
       "<table border=\"1\" class=\"dataframe\">\n",
       "  <thead>\n",
       "    <tr style=\"text-align: right;\">\n",
       "      <th></th>\n",
       "      <th>-</th>\n",
       "      <th>1</th>\n",
       "      <th>2</th>\n",
       "      <th>3</th>\n",
       "      <th>4</th>\n",
       "    </tr>\n",
       "  </thead>\n",
       "  <tbody>\n",
       "    <tr>\n",
       "      <th>F1</th>\n",
       "      <td>0.441075</td>\n",
       "      <td>0.265185</td>\n",
       "      <td>0.686843</td>\n",
       "      <td>0.080064</td>\n",
       "      <td>0.108365</td>\n",
       "    </tr>\n",
       "    <tr>\n",
       "      <th>FN</th>\n",
       "      <td>3146.000000</td>\n",
       "      <td>29220.000000</td>\n",
       "      <td>47484.000000</td>\n",
       "      <td>6392.000000</td>\n",
       "      <td>16271.000000</td>\n",
       "    </tr>\n",
       "    <tr>\n",
       "      <th>FP</th>\n",
       "      <td>15743.000000</td>\n",
       "      <td>19306.000000</td>\n",
       "      <td>45535.000000</td>\n",
       "      <td>27261.000000</td>\n",
       "      <td>20875.000000</td>\n",
       "    </tr>\n",
       "    <tr>\n",
       "      <th>J</th>\n",
       "      <td>0.685037</td>\n",
       "      <td>0.050908</td>\n",
       "      <td>0.099656</td>\n",
       "      <td>0.001301</td>\n",
       "      <td>-0.012368</td>\n",
       "    </tr>\n",
       "    <tr>\n",
       "      <th>Sensitivity</th>\n",
       "      <td>0.763854</td>\n",
       "      <td>0.253513</td>\n",
       "      <td>0.881789</td>\n",
       "      <td>0.219135</td>\n",
       "      <td>0.127755</td>\n",
       "    </tr>\n",
       "    <tr>\n",
       "      <th>Specficity</th>\n",
       "      <td>0.940313</td>\n",
       "      <td>0.996621</td>\n",
       "      <td>0.765506</td>\n",
       "      <td>0.998959</td>\n",
       "      <td>0.946441</td>\n",
       "    </tr>\n",
       "    <tr>\n",
       "      <th>TN</th>\n",
       "      <td>111979.000000</td>\n",
       "      <td>94967.000000</td>\n",
       "      <td>44567.000000</td>\n",
       "      <td>118079.000000</td>\n",
       "      <td>101874.000000</td>\n",
       "    </tr>\n",
       "    <tr>\n",
       "      <th>TP</th>\n",
       "      <td>4218.000000</td>\n",
       "      <td>7433.000000</td>\n",
       "      <td>58542.000000</td>\n",
       "      <td>1404.000000</td>\n",
       "      <td>2168.000000</td>\n",
       "    </tr>\n",
       "    <tr>\n",
       "      <th>AUC</th>\n",
       "      <td>0.931354</td>\n",
       "      <td>0.537790</td>\n",
       "      <td>0.605895</td>\n",
       "      <td>0.515586</td>\n",
       "      <td>0.470809</td>\n",
       "    </tr>\n",
       "  </tbody>\n",
       "</table>\n",
       "</div>"
      ],
      "text/plain": [
       "                         -             1             2              3  \\\n",
       "F1                0.441075      0.265185      0.686843       0.080064   \n",
       "FN             3146.000000  29220.000000  47484.000000    6392.000000   \n",
       "FP            15743.000000  19306.000000  45535.000000   27261.000000   \n",
       "J                 0.685037      0.050908      0.099656       0.001301   \n",
       "Sensitivity       0.763854      0.253513      0.881789       0.219135   \n",
       "Specficity        0.940313      0.996621      0.765506       0.998959   \n",
       "TN           111979.000000  94967.000000  44567.000000  118079.000000   \n",
       "TP             4218.000000   7433.000000  58542.000000    1404.000000   \n",
       "AUC               0.931354      0.537790      0.605895       0.515586   \n",
       "\n",
       "                         4  \n",
       "F1                0.108365  \n",
       "FN            16271.000000  \n",
       "FP            20875.000000  \n",
       "J                -0.012368  \n",
       "Sensitivity       0.127755  \n",
       "Specficity        0.946441  \n",
       "TN           101874.000000  \n",
       "TP             2168.000000  \n",
       "AUC               0.470809  "
      ]
     },
     "execution_count": 111,
     "metadata": {},
     "output_type": "execute_result"
    }
   ],
   "source": [
    "meta.max(level = 1)"
   ]
  },
  {
   "cell_type": "code",
   "execution_count": null,
   "metadata": {},
   "outputs": [],
   "source": [
    "results"
   ]
  },
  {
   "cell_type": "code",
   "execution_count": null,
   "metadata": {},
   "outputs": [],
   "source": [
    "results"
   ]
  },
  {
   "cell_type": "code",
   "execution_count": null,
   "metadata": {},
   "outputs": [],
   "source": [
    "results"
   ]
  },
  {
   "cell_type": "code",
   "execution_count": null,
   "metadata": {},
   "outputs": [],
   "source": [
    "DATA.reset_index()[\"M\"].value_counts()"
   ]
  },
  {
   "cell_type": "code",
   "execution_count": null,
   "metadata": {},
   "outputs": [],
   "source": [
    "import datetime, os\n",
    "\n",
    "d = datetime.datetime.now().strftime(\"%d_%m_%Y_%H.%M\")\n",
    "\n",
    "save_place = r\"C:\\Users\\Conor\\Google Drive\\PhD\\Breast_Cancer_Analysis_April\\Results\"\n",
    "results.to_csv(os.path.join(save_place, \"{}_{}_N.csv\".format(clf, d)))"
   ]
  },
  {
   "cell_type": "code",
   "execution_count": null,
   "metadata": {},
   "outputs": [],
   "source": [
    "classifier_results"
   ]
  },
  {
   "cell_type": "code",
   "execution_count": null,
   "metadata": {},
   "outputs": [],
   "source": [
    "preds = pd.concat({name: TAT.bin_predict(X_valid.values, clf).idxmax(axis = 1) for name, clf in classifier_results.items()})"
   ]
  },
  {
   "cell_type": "code",
   "execution_count": null,
   "metadata": {},
   "outputs": [],
   "source": [
    "preds = {name: TAT.bin_predict(X_valid.values, clf).idxmax(axis = 1).values for name, clf in classifier_results.items()}"
   ]
  },
  {
   "cell_type": "code",
   "execution_count": null,
   "metadata": {},
   "outputs": [],
   "source": [
    "np.concatenate(preds.values())"
   ]
  },
  {
   "cell_type": "markdown",
   "metadata": {},
   "source": [
    "# Ensemble Classifier"
   ]
  },
  {
   "cell_type": "code",
   "execution_count": null,
   "metadata": {},
   "outputs": [],
   "source": [
    "classifier_results"
   ]
  },
  {
   "cell_type": "code",
   "execution_count": null,
   "metadata": {},
   "outputs": [],
   "source": [
    "votes = {clf_name: pd.DataFrame(TAT.bin_predict(X_valid.values, clf)) for clf_name, clf in classifier_results.items()}"
   ]
  },
  {
   "cell_type": "code",
   "execution_count": null,
   "metadata": {},
   "outputs": [],
   "source": [
    "weighted = np.tensordot(np.stack([df.values for df in votes.values()], axis = 2), np.array([0.1,0.2,0.3,0.4]), axes = ([2,0]))"
   ]
  },
  {
   "cell_type": "code",
   "execution_count": null,
   "metadata": {},
   "outputs": [],
   "source": [
    "probs = pd.DataFrame(weighted, columns = pd.concat(votes).columns)"
   ]
  },
  {
   "cell_type": "code",
   "execution_count": null,
   "metadata": {},
   "outputs": [],
   "source": [
    "for _ in range(10):\n",
    "    \n",
    "    weights = np.random.rand(3)\n",
    "    weights = weights/sum(weights)\n",
    "    \n",
    "    probs = TAT.ensemble_prob_predict(X_valid, classifier_results)\n",
    "    \n",
    "    aucs = pd.Series({class_name: roc_auc_score(y_valid.iloc[:,i], probs.iloc[:,i]) \n",
    "                      for i, class_name in enumerate(o_probs.columns)}, name = \"AUC\")\n",
    "\n",
    "    results = pd.DataFrame(TAT.sens_spec_etc(lb.inverse_transform(y_valid.values), probs.idxmax(axis = 1))).append(aucs)\n",
    "    \n",
    "    print(weights, results.loc[\"F1\"].sum())"
   ]
  },
  {
   "cell_type": "code",
   "execution_count": null,
   "metadata": {},
   "outputs": [],
   "source": [
    "clf = \"SVM\"\n",
    "\n",
    "#o_probs = TAT.bin_predict(X_valid.values, classifier_results[clf])\n",
    "\n",
    "aucs = pd.Series({class_name: roc_auc_score(y_valid.iloc[:,i], probs.iloc[:,i]) \n",
    "                  for i, class_name in enumerate(o_probs.columns)}, name = \"AUC\")\n",
    "\n",
    "results = pd.DataFrame(TAT.sens_spec_etc(lb.inverse_transform(y_valid.values), probs.idxmax(axis = 1))).append(aucs)#, ignore_index = True)"
   ]
  },
  {
   "cell_type": "code",
   "execution_count": null,
   "metadata": {},
   "outputs": [],
   "source": [
    "clf = \"SVM\"\n",
    "\n",
    "probs = TAT.ensemble_prob_predict(X_valid, classifier_results)\n",
    "\n",
    "aucs = pd.Series({class_name: roc_auc_score(y_valid.iloc[:,i], probs.iloc[:,i]) \n",
    "                  for i, class_name in enumerate(o_probs.columns)}, name = \"AUC\")\n",
    "\n",
    "results = pd.DataFrame(TAT.sens_spec_etc(lb.inverse_transform(y_valid.values), probs.idxmax(axis = 1))).append(aucs)#, ignore_index = True)"
   ]
  },
  {
   "cell_type": "code",
   "execution_count": null,
   "metadata": {},
   "outputs": [],
   "source": [
    "results"
   ]
  },
  {
   "cell_type": "code",
   "execution_count": null,
   "metadata": {},
   "outputs": [],
   "source": [
    "def plot_importances(bin_classifiers, n_best = None):\n",
    "\n",
    "    fig, axes = plt.subplots(nrows = len(bin_classifiers), ncols = 1, figsize = (25,len(bin_classifiers)*8))\n",
    "\n",
    "    #fig.suptitle(\"Relative wavenumber importances\", fontsize = 16)\n",
    "\n",
    "    for title, clf, ax in zip(bin_classifiers.keys(), bin_classifiers.values(), axes.flatten()):\n",
    "\n",
    "        importances = pd.Series(abs(clf.coef_.reshape(164)), index = X_train.columns)\n",
    "\n",
    "        if n_best != None:\n",
    "            importances = importances.sort_values().iloc[:n_best]\n",
    "\n",
    "        ax.grid()\n",
    "        ax.bar(importances.index, importances.values, width = 5)\n",
    "\n",
    "        ticks = np.arange(min(X_train.columns), max(X_train.columns), 100)\n",
    "        ax.set_xlim(min(X.columns), max(X.columns))\n",
    "        ax.set_title(title)\n",
    "        ax.invert_xaxis()\n",
    "        ax.set_xlabel(\"Wavenumber $(cm^{-1})$\")\n",
    "        ax.set_ylabel(\"Relative feature importances\")\n",
    "        ax.set_xticks = ticks\n",
    "\n",
    "    return fig"
   ]
  },
  {
   "cell_type": "code",
   "execution_count": null,
   "metadata": {},
   "outputs": [],
   "source": [
    "for clf_name in [\"LR\"]:\n",
    "    \n",
    "    fig = plot_importances(classifier_results[clf_name], n_best = None)\n",
    "\n",
    "    fig.savefig(r\"C:\\Users\\Conor\\Google Drive\\PhD\\Breast_Cancer_Analysis_April\\Feature_Importances_{}.svg\".format(clf_name)\n",
    "               ,format = \"svg\"\n",
    "               ,bbox_inches = \"tight\")"
   ]
  },
  {
   "cell_type": "markdown",
   "metadata": {},
   "source": [
    "This function is used to optimise the hyperparameters of XGboost"
   ]
  },
  {
   "cell_type": "markdown",
   "metadata": {},
   "source": [
    "# Importing Breast Cancer data"
   ]
  },
  {
   "cell_type": "code",
   "execution_count": null,
   "metadata": {},
   "outputs": [],
   "source": [
    "from sklearn.preprocessing import normalize\n",
    "\n",
    "def import_image(original):\n",
    "    \n",
    "    image = original.reshape(original.shape[-1], -1)\n",
    "\n",
    "    return normalize(image, axis = 0, norm = \"l1\").reshape(original.shape)"
   ]
  },
  {
   "cell_type": "markdown",
   "metadata": {},
   "source": [
    "import os\n",
    "from scipy.io import loadmat\n",
    "\n",
    "file_place = r\"B:\\Breast Cancer Data\\br20832_cores\\br20832_cores\"\n",
    "file_list = os.listdir(file_place)\n",
    "\n",
    "image_list_directory = r\"B:\\Breast Cancer Data\\overlay\\overlay\"\n",
    "image_list = os.listdir(image_list_directory)\n",
    "\n",
    "images = {file_name[:-4] : import_image(loadmat(os.path.join(file_place, file_name))[\"image\"]) for file_name in file_list[:3]}"
   ]
  },
  {
   "cell_type": "markdown",
   "metadata": {},
   "source": [
    "import os\n",
    "from scipy.io import loadmat\n",
    "\n",
    "file_place = \"/mnt/hgfs/E/Breast Cancer Data/br20832_cores/br20832_cores\"\n",
    "file_list = os.listdir(file_place)\n",
    "\n",
    "image_list_directory = \"/mnt/hgfs/E/Breast Cancer Data/overlay/overlay\"\n",
    "image_list = os.listdir(image_list_directory)\n",
    "\n",
    "images = {file_name[:-4] : import_image(loadmat(os.path.join(file_place, file_name))[\"image\"]) for file_name in file_list[:3]}"
   ]
  },
  {
   "cell_type": "code",
   "execution_count": null,
   "metadata": {},
   "outputs": [],
   "source": [
    "import os\n",
    "from scipy.io import loadmat\n",
    "import imageio\n",
    "\n",
    "file_place = r\"E:\\Breast Cancer Data\\br20832_cores\\br20832_cores\"\n",
    "file_list = os.listdir(file_place)\n",
    "\n",
    "image_list_directory = r\"E:\\Breast Cancer Data\\overlay\\overlay\"\n",
    "image_list = os.listdir(image_list_directory)\n",
    "\n",
    "#overlays = {image_list[:-4] : imageio.imread(os.path.join(image_list_directory, image_name)) for image_name in image_list}\n",
    "\n",
    "images = {file_name[:-4] : loadmat(os.path.join(file_place, file_name))[\"image\"] for file_name in file_list[-20:-10]}\n",
    "#images = {file_name[:-4] : import_image(loadmat(os.path.join(file_place, file_name))[\"image\"]) for file_name in file_list[:3]}"
   ]
  },
  {
   "cell_type": "code",
   "execution_count": null,
   "metadata": {},
   "outputs": [],
   "source": [
    "images.keys()"
   ]
  },
  {
   "cell_type": "markdown",
   "metadata": {},
   "source": [
    "# Preprocess image"
   ]
  },
  {
   "cell_type": "code",
   "execution_count": null,
   "metadata": {},
   "outputs": [],
   "source": [
    "image_ref = \"L5\"\n",
    "\n",
    "image = images[image_ref]\n",
    "#overlay = \n",
    "\n",
    "PCA_NR_Components = 5\n",
    "\n",
    "image_dataframe = pd.DataFrame(image.reshape(-1, image.shape[-1]), columns = Breast_DF.columns)\n",
    "\n",
    "dataframe = TAT.process_data(image_dataframe, paraffin = (1340,1490))\n",
    "\n",
    "PCA_reduced = TAT.PCA_denoise(dataframe, PCA_NR_Components)\n",
    "\n",
    "values = pipe.fit_transform(PCA_reduced.T).T\n",
    "\n",
    "image_P_list = pd.DataFrame(values, index = dataframe.index, columns = dataframe.columns)\n",
    "\n",
    "image_P = image_P_list.values.reshape(image.shape[0], image.shape[1], -1)"
   ]
  },
  {
   "cell_type": "markdown",
   "metadata": {},
   "source": [
    "# Plotting predictions for image"
   ]
  },
  {
   "cell_type": "code",
   "execution_count": null,
   "metadata": {},
   "outputs": [],
   "source": [
    "fig, axes = plt.subplots(ncols = len(xgbinary_classifiers), nrows = 1, figsize = (15,10))\n",
    "\n",
    "pred_cube = individual_predictions(image_P, xgbinary_classifiers)\n",
    "\n",
    "for ax, name, image in zip(axes.flat, pred_cube.keys(), pred_cube.values()):\n",
    "    \n",
    "    ax.set_title(name)\n",
    "    ax.imshow(image)\n",
    "    \n",
    "plt.show()"
   ]
  },
  {
   "cell_type": "code",
   "execution_count": null,
   "metadata": {},
   "outputs": [],
   "source": [
    "import matplotlib as mpl\n",
    "\n",
    "def individual_predictions(image, classifiers):\n",
    "    \n",
    "    Pred_cube = {name: classifier.predict_proba(image.reshape(-1, image.shape[-1]))[:,1].reshape(image.shape[0], image.shape[1]) for name, classifier in classifiers.items()}\n",
    "    \n",
    "    return Pred_cube\n",
    "\n",
    "def prediction_plot(image, classifiers, **kwargs):\n",
    "    \n",
    "    # Get colours from tab10 colour list\n",
    "    colours = dict(zip(classifiers.keys(), plt.get_cmap(\"tab10\").colors))\n",
    "    \n",
    "    # Prediction values for each \n",
    "    Pred_DF = pd.DataFrame({name: classifier.predict_proba(image.reshape(-1, image.shape[-1]))[:,1] for name, classifier in classifiers.items()})\n",
    "\n",
    "    Pred_DF[\"Winner_ID\"] = Pred_DF.idxmax(axis = 1)\n",
    "    Pred_DF[\"Winner_conf\"] = Pred_DF.max(axis = 1)\n",
    "\n",
    "    # RGB image\n",
    "    RGB = np.array([colours[ID] for ID in Pred_DF[\"Winner_ID\"]]).reshape(image.shape[0], image.shape[1], 3)\n",
    "    \n",
    "    # Confidence plot\n",
    "    conf = Pred_DF[\"Winner_conf\"].values.reshape(image.shape[0], image.shape[1], 1)\n",
    "    \n",
    "    # RGBA plot\n",
    "    rgba = np.concatenate([RGB,conf], axis = 2)\n",
    "    cmap = mpl.colors.LinearSegmentedColormap.from_list('Custom cmap', list(colours.values()), N = len(colours))\n",
    "    \n",
    "    # If a threshold is supplied, use it\n",
    "    if \"thresh\" in kwargs.keys():\n",
    "        rgba[np.abs(image_P.mean(axis = 2)) < kwargs.get(\"thresh\")] = [0,0,0,0]\n",
    "        \n",
    "    fig, ax = plt.subplots()\n",
    "    cax = ax.imshow(rgba, cmap = cmap)\n",
    "    cbar = fig.colorbar(cax, ticks = np.linspace(0, 1, len(classifiers)))\n",
    "    cbar.ax.set_yticklabels(classifiers.keys())  # horizontal colorbar\n",
    "    \n",
    "    return rgba, conf.reshape(conf.shape[0],conf.shape[1])"
   ]
  },
  {
   "cell_type": "code",
   "execution_count": null,
   "metadata": {},
   "outputs": [],
   "source": [
    "from skimage.filters import threshold_otsu"
   ]
  },
  {
   "cell_type": "code",
   "execution_count": null,
   "metadata": {},
   "outputs": [],
   "source": [
    "rgba, conf = prediction_plot(image_P, classifier_results[\"LDA\"], thresh = threshold_otsu(image_P.mean(axis = 2)))"
   ]
  },
  {
   "cell_type": "code",
   "execution_count": null,
   "metadata": {},
   "outputs": [],
   "source": [
    "rgba, conf = prediction_plot(image_P, classifier_results[\"LR\"], thresh = threshold_otsu(image_P.mean(axis = 2)))"
   ]
  },
  {
   "cell_type": "code",
   "execution_count": null,
   "metadata": {},
   "outputs": [],
   "source": [
    "rgba, conf = prediction_plot(image_P, xgbinary_classifiers, thresh = threshold_otsu(image_P.mean(axis = 2)))"
   ]
  },
  {
   "cell_type": "code",
   "execution_count": null,
   "metadata": {},
   "outputs": [],
   "source": [
    "rgba, conf = prediction_plot(image_P, classifier_results[\"RF\"], thresh = threshold_otsu(image_P.mean(axis = 2)))"
   ]
  },
  {
   "cell_type": "code",
   "execution_count": null,
   "metadata": {},
   "outputs": [],
   "source": [
    "DATA.shape"
   ]
  }
 ],
 "metadata": {
  "kernelspec": {
   "display_name": "Python 3",
   "language": "python",
   "name": "python3"
  },
  "language_info": {
   "codemirror_mode": {
    "name": "ipython",
    "version": 3
   },
   "file_extension": ".py",
   "mimetype": "text/x-python",
   "name": "python",
   "nbconvert_exporter": "python",
   "pygments_lexer": "ipython3",
<<<<<<< HEAD
   "version": "3.7.1"
=======
   "version": "3.6.8"
>>>>>>> d3c909b7e8480e6a067f12a8d92aeb542aa0282b
  }
 },
 "nbformat": 4,
 "nbformat_minor": 4
}

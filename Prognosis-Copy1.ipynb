{
 "cells": [
  {
   "cell_type": "code",
   "execution_count": 1,
   "metadata": {
    "tags": []
   },
   "outputs": [],
   "source": [
    "%load_ext autoreload\n",
    "\n",
    "%autoreload 2"
   ]
  },
  {
   "cell_type": "code",
   "execution_count": 2,
   "metadata": {},
   "outputs": [],
   "source": [
    "from tqdm.notebook import tqdm\n",
    "import time"
   ]
  },
  {
   "cell_type": "code",
   "execution_count": 3,
   "metadata": {},
   "outputs": [],
   "source": [
    "import numpy as np\n",
    "import pandas as pd\n",
    "import matplotlib.pyplot as plt\n",
    "import seaborn as sns\n",
    "\n",
    "from datetime import datetime\n",
    "\n",
    "import glob\n",
    "import os\n",
    "import sys\n",
    "\n",
    "from tqdm.notebook import tqdm\n",
    "from datetime import datetime\n",
    "\n",
    "import Cross_Eval\n",
    "from Preprocessing_Methods import *"
   ]
  },
  {
   "cell_type": "code",
   "execution_count": 4,
   "metadata": {},
   "outputs": [],
   "source": [
    "from sklearn.pipeline import Pipeline\n",
    "\n",
    "from sklearn.preprocessing import FunctionTransformer, RobustScaler, MinMaxScaler, StandardScaler, LabelBinarizer\n",
    "from sklearn.preprocessing import normalize, robust_scale, minmax_scale\n",
    "\n",
    "from sklearn.preprocessing import OneHotEncoder\n",
    "from sklearn.compose import ColumnTransformer\n",
    "\n",
    "from sklearn.decomposition import PCA\n",
    "from sklearn.discriminant_analysis import LinearDiscriminantAnalysis\n",
    "from sklearn.ensemble import RandomForestClassifier\n",
    "from sklearn.linear_model import LogisticRegression\n",
    "\n",
    "from sklearn.calibration import CalibratedClassifierCV\n",
    "\n",
    "from sklearn.kernel_approximation import RBFSampler, Nystroem\n",
    "\n",
    "from sklearn.model_selection import train_test_split\n",
    "from sklearn.model_selection import cross_validate, GroupKFold, KFold\n",
    "\n",
    "from sklearn.metrics import make_scorer, confusion_matrix, roc_auc_score, roc_curve, plot_confusion_matrix, f1_score, recall_score, accuracy_score\n",
    "\n",
    "from sklearn.multiclass import OneVsRestClassifier\n",
    "\n",
    "from mlxtend.evaluate import scoring"
   ]
  },
  {
   "cell_type": "markdown",
   "metadata": {},
   "source": [
    "# Preparing Metadata/Labels"
   ]
  },
  {
   "cell_type": "code",
   "execution_count": 5,
   "metadata": {},
   "outputs": [],
   "source": [
    "all_files = pd.DataFrame(glob.glob(\"/mnt/d/Conor/Extracted_Spectra/*.pickle\"), columns = [\"hdf_loc\"])\n",
    "all_files[\"TMA\"] = all_files.apply(lambda row: float(row[\"hdf_loc\"].split(\"/\")[-1][4:5]), axis = 1)\n",
    "all_files[\"Core\"] = all_files.apply(lambda row: row[\"hdf_loc\"].split(\"/\")[-1][8:-7], axis = 1)"
   ]
  },
  {
   "cell_type": "code",
   "execution_count": 6,
   "metadata": {
    "tags": []
   },
   "outputs": [
    {
     "name": "stdout",
     "output_type": "stream",
     "text": [
      "(79, 18)\n"
     ]
    }
   ],
   "source": [
    "metadata = pd.read_excel(\"/mnt/b/Google_Drive/PhD/Project with Janet/Scoring grids Advancing Front (TMAs 1-3).xlsx\"\n",
    "              , sheet_name = \"reformatted\")\n",
    "\n",
    "metadata = metadata.merge(all_files, left_on = [\"TMA\", \"TMA site\"], right_on = [\"TMA\", \"Core\"])\n",
    "print(metadata.shape)"
   ]
  },
  {
   "cell_type": "code",
   "execution_count": 7,
   "metadata": {},
   "outputs": [],
   "source": [
    "new_metadata = pd.read_excel(\"/mnt/b/Google_Drive/PhD/Project with Janet/new_metadata.xlsx\")"
   ]
  },
  {
   "cell_type": "code",
   "execution_count": 8,
   "metadata": {},
   "outputs": [],
   "source": [
    "new_metadata[\"DODvsAlive\"] = new_metadata[\"OUTCOME\"].map(\n",
    "                            {\"DOD\" : \"DOD\",\n",
    "                             \"alive\": \"Other\",\n",
    "                             \"died other\" : \"Other\",\n",
    "                             \"died\" : \"Other\",\n",
    "                             \"Died\" : \"Other\",\n",
    "                             \"Died other\": \"Other\"})\n",
    "\n",
    "new_metadata[\"DiedvsAlive\"] = new_metadata[\"OUTCOME\"].map(\n",
    "                            {\"DOD\" : \"Died\",\n",
    "                             \"alive\": \"Alive\",\n",
    "                             \"died other\" : \"Died\",\n",
    "                             \"died\" : \"Died\",\n",
    "                             \"Died\" : \"Died\",\n",
    "                             \"Died other\": \"Died\"})\n",
    "\n",
    "new_metadata[\"ECS\"] = new_metadata[\"ECS\"].map(\n",
    "                            {\"y\" : \"Y\",\n",
    "                             \"Y\": \"Y\",\n",
    "                             \"N\" : \"N\",\n",
    "                             \"n\" : \"N\"})"
   ]
  },
  {
   "cell_type": "code",
   "execution_count": 9,
   "metadata": {},
   "outputs": [],
   "source": [
    "new_metadata['lifespan'] = new_metadata['Date of death'] - new_metadata['date of diag']\n",
    "\n",
    "new_metadata[\"2year\"] = new_metadata['lifespan'].dt.days < 730\n",
    "new_metadata[\"5year\"] = new_metadata['lifespan'].dt.days < 1825"
   ]
  },
  {
   "cell_type": "code",
   "execution_count": 10,
   "metadata": {},
   "outputs": [],
   "source": [
    "new_metadata[\"2year\"] = new_metadata.apply(lambda row: True if (row['Date of death']-row['date of diag']).days<730 and row.OUTCOME!='Alive' else False, axis = 1)\n",
    "new_metadata[\"5year\"] = new_metadata.apply(lambda row: True if 730<(row['Date of death']-row['date of diag']).days<1825 and row.OUTCOME!='Alive' else False, axis = 1)\n",
    "\n",
    "new_metadata[\"Alive\"] = new_metadata.apply(lambda row: True if 730<(row['Last seen/reviewed']-row['date of diag']).days<1825 and row.OUTCOME=='Alive' else False, axis = 1)"
   ]
  },
  {
   "cell_type": "code",
   "execution_count": 11,
   "metadata": {},
   "outputs": [
    {
     "data": {
      "text/html": [
       "<div>\n",
       "<style scoped>\n",
       "    .dataframe tbody tr th:only-of-type {\n",
       "        vertical-align: middle;\n",
       "    }\n",
       "\n",
       "    .dataframe tbody tr th {\n",
       "        vertical-align: top;\n",
       "    }\n",
       "\n",
       "    .dataframe thead th {\n",
       "        text-align: right;\n",
       "    }\n",
       "</style>\n",
       "<table border=\"1\" class=\"dataframe\">\n",
       "  <thead>\n",
       "    <tr style=\"text-align: right;\">\n",
       "      <th></th>\n",
       "      <th>Patient_Number</th>\n",
       "      <th>gender</th>\n",
       "      <th>date of diag</th>\n",
       "      <th>age @ diag</th>\n",
       "      <th>site</th>\n",
       "      <th>pT</th>\n",
       "      <th>pN</th>\n",
       "      <th>stage</th>\n",
       "      <th>ECS</th>\n",
       "      <th>OUTCOME</th>\n",
       "      <th>...</th>\n",
       "      <th>site of recurrence</th>\n",
       "      <th>Last seen/reviewed</th>\n",
       "      <th>Last updated</th>\n",
       "      <th>OUTCOME.updated by</th>\n",
       "      <th>DODvsAlive</th>\n",
       "      <th>DiedvsAlive</th>\n",
       "      <th>lifespan</th>\n",
       "      <th>2year</th>\n",
       "      <th>5year</th>\n",
       "      <th>Alive</th>\n",
       "    </tr>\n",
       "  </thead>\n",
       "  <tbody>\n",
       "    <tr>\n",
       "      <th>0</th>\n",
       "      <td>3143</td>\n",
       "      <td>m</td>\n",
       "      <td>2004-03-29</td>\n",
       "      <td>58</td>\n",
       "      <td>floor of mouth</td>\n",
       "      <td>4</td>\n",
       "      <td>0</td>\n",
       "      <td>4</td>\n",
       "      <td>N</td>\n",
       "      <td>DOD</td>\n",
       "      <td>...</td>\n",
       "      <td>local</td>\n",
       "      <td>NaT</td>\n",
       "      <td>2020-05-11</td>\n",
       "      <td>FGD</td>\n",
       "      <td>DOD</td>\n",
       "      <td>Died</td>\n",
       "      <td>3341 days</td>\n",
       "      <td>False</td>\n",
       "      <td>False</td>\n",
       "      <td>False</td>\n",
       "    </tr>\n",
       "    <tr>\n",
       "      <th>1</th>\n",
       "      <td>3167</td>\n",
       "      <td>m</td>\n",
       "      <td>2004-09-30</td>\n",
       "      <td>74</td>\n",
       "      <td>floor of mouth</td>\n",
       "      <td>2</td>\n",
       "      <td>2</td>\n",
       "      <td>4</td>\n",
       "      <td>Y</td>\n",
       "      <td>DOD</td>\n",
       "      <td>...</td>\n",
       "      <td>regional only</td>\n",
       "      <td>NaT</td>\n",
       "      <td>2012-10-04</td>\n",
       "      <td>CBarry</td>\n",
       "      <td>DOD</td>\n",
       "      <td>Died</td>\n",
       "      <td>390 days</td>\n",
       "      <td>True</td>\n",
       "      <td>False</td>\n",
       "      <td>False</td>\n",
       "    </tr>\n",
       "    <tr>\n",
       "      <th>2</th>\n",
       "      <td>3169</td>\n",
       "      <td>m</td>\n",
       "      <td>2004-10-28</td>\n",
       "      <td>63</td>\n",
       "      <td>floor of mouth</td>\n",
       "      <td>3</td>\n",
       "      <td>1</td>\n",
       "      <td>3</td>\n",
       "      <td>N</td>\n",
       "      <td>died other</td>\n",
       "      <td>...</td>\n",
       "      <td>NaN</td>\n",
       "      <td>NaT</td>\n",
       "      <td>2006-12-01</td>\n",
       "      <td>RJS</td>\n",
       "      <td>Other</td>\n",
       "      <td>Died</td>\n",
       "      <td>652 days</td>\n",
       "      <td>True</td>\n",
       "      <td>False</td>\n",
       "      <td>False</td>\n",
       "    </tr>\n",
       "    <tr>\n",
       "      <th>3</th>\n",
       "      <td>3170</td>\n",
       "      <td>m</td>\n",
       "      <td>2004-11-22</td>\n",
       "      <td>59</td>\n",
       "      <td>other</td>\n",
       "      <td>4</td>\n",
       "      <td>2b</td>\n",
       "      <td>4a</td>\n",
       "      <td>Y</td>\n",
       "      <td>Died other</td>\n",
       "      <td>...</td>\n",
       "      <td>NaN</td>\n",
       "      <td>NaT</td>\n",
       "      <td>2020-04-01</td>\n",
       "      <td>FGD</td>\n",
       "      <td>Other</td>\n",
       "      <td>Died</td>\n",
       "      <td>3690 days</td>\n",
       "      <td>False</td>\n",
       "      <td>False</td>\n",
       "      <td>False</td>\n",
       "    </tr>\n",
       "    <tr>\n",
       "      <th>4</th>\n",
       "      <td>3230</td>\n",
       "      <td>m</td>\n",
       "      <td>2006-01-26</td>\n",
       "      <td>74</td>\n",
       "      <td>tongue</td>\n",
       "      <td>2</td>\n",
       "      <td>1</td>\n",
       "      <td>3</td>\n",
       "      <td>Y</td>\n",
       "      <td>DOD</td>\n",
       "      <td>...</td>\n",
       "      <td>local and regional</td>\n",
       "      <td>NaT</td>\n",
       "      <td>2011-05-01</td>\n",
       "      <td>AS</td>\n",
       "      <td>DOD</td>\n",
       "      <td>Died</td>\n",
       "      <td>161 days</td>\n",
       "      <td>True</td>\n",
       "      <td>False</td>\n",
       "      <td>False</td>\n",
       "    </tr>\n",
       "  </tbody>\n",
       "</table>\n",
       "<p>5 rows × 23 columns</p>\n",
       "</div>"
      ],
      "text/plain": [
       "   Patient_Number gender date of diag  age @ diag            site pT  pN  \\\n",
       "0            3143      m   2004-03-29          58  floor of mouth  4   0   \n",
       "1            3167      m   2004-09-30          74  floor of mouth  2   2   \n",
       "2            3169      m   2004-10-28          63  floor of mouth  3   1   \n",
       "3            3170      m   2004-11-22          59           other  4  2b   \n",
       "4            3230      m   2006-01-26          74          tongue  2   1   \n",
       "\n",
       "  stage ECS     OUTCOME  ...  site of recurrence Last seen/reviewed  \\\n",
       "0     4   N         DOD  ...               local                NaT   \n",
       "1     4   Y         DOD  ...       regional only                NaT   \n",
       "2     3   N  died other  ...                 NaN                NaT   \n",
       "3    4a   Y  Died other  ...                 NaN                NaT   \n",
       "4     3   Y         DOD  ...  local and regional                NaT   \n",
       "\n",
       "  Last updated OUTCOME.updated by DODvsAlive DiedvsAlive  lifespan  2year  \\\n",
       "0   2020-05-11                FGD        DOD        Died 3341 days  False   \n",
       "1   2012-10-04             CBarry        DOD        Died  390 days   True   \n",
       "2   2006-12-01                RJS      Other        Died  652 days   True   \n",
       "3   2020-04-01                FGD      Other        Died 3690 days  False   \n",
       "4   2011-05-01                 AS        DOD        Died  161 days   True   \n",
       "\n",
       "   5year  Alive  \n",
       "0  False  False  \n",
       "1  False  False  \n",
       "2  False  False  \n",
       "3  False  False  \n",
       "4  False  False  \n",
       "\n",
       "[5 rows x 23 columns]"
      ]
     },
     "execution_count": 11,
     "metadata": {},
     "output_type": "execute_result"
    }
   ],
   "source": [
    "new_metadata.head()"
   ]
  },
  {
   "cell_type": "code",
   "execution_count": 12,
   "metadata": {},
   "outputs": [
    {
     "data": {
      "text/plain": [
       "tongue            38\n",
       "floor of mouth    34\n",
       "other             28\n",
       "oropharynx         7\n",
       "Name: site, dtype: int64"
      ]
     },
     "execution_count": 12,
     "metadata": {},
     "output_type": "execute_result"
    }
   ],
   "source": [
    "new_metadata.site.value_counts()"
   ]
  },
  {
   "cell_type": "markdown",
   "metadata": {},
   "source": [
    "Import ASMA data"
   ]
  },
  {
   "cell_type": "code",
   "execution_count": 13,
   "metadata": {},
   "outputs": [],
   "source": [
    "asma = pd.read_excel(\"/mnt/b/Google_Drive/PhD/Project with Janet/ASMA.xlsx\", sheet_name = \"Sheet3\")\n",
    "new_metadata = new_metadata.merge(asma, left_on = \"Patient_Number\", right_on = \"Case ID\")"
   ]
  },
  {
   "cell_type": "markdown",
   "metadata": {},
   "source": [
    "# Import data and preprocess"
   ]
  },
  {
   "cell_type": "code",
   "execution_count": 14,
   "metadata": {},
   "outputs": [],
   "source": [
    "from Preprocessing_Methods import *\n",
    "\n",
    "import sys\n",
    "\n",
    "sys.path.append(\"/mnt/b/Git_Projects/Biospec_Analysis/UNET\")"
   ]
  },
  {
   "cell_type": "code",
   "execution_count": 15,
   "metadata": {
    "tags": []
   },
   "outputs": [
    {
     "data": {
      "application/vnd.jupyter.widget-view+json": {
       "model_id": "af9724e5e75147218c8932b702d6cf30",
       "version_major": 2,
       "version_minor": 0
      },
      "text/plain": [
       "HBox(children=(FloatProgress(value=0.0, max=79.0), HTML(value='')))"
      ]
     },
     "metadata": {},
     "output_type": "display_data"
    },
    {
     "name": "stdout",
     "output_type": "stream",
     "text": [
      "\n"
     ]
    }
   ],
   "source": [
    "select = ['Tumour']\n",
    "\n",
    "total = pd.concat({\"{}-{}\".format(row[\"TMA\"], row[\"Core\"]):\n",
    "                   truncate(pd.read_pickle(row[\"hdf_loc\"]).query(f\"Tissue in {select}\").sample(frac = 1), start = 1000, end = 1800)\n",
    "                   for name, row in tqdm(list(metadata.iterrows()))}, names = [\"ID\"])\n",
    "\n",
    "wn_cols = total.columns\n",
    "#total = total.merge(new_metadata, left_on = \"Patient nu \", right_on = \"Patient Number\")\n",
    "#total = total.drop(np.nan, level = \"Overall Death \")"
   ]
  },
  {
   "cell_type": "code",
   "execution_count": 16,
   "metadata": {},
   "outputs": [],
   "source": [
    "total = total.reset_index().merge(new_metadata, left_on = \"Patient nu \", right_on = \"Patient_Number\", how = 'inner')\n",
    "total = total.set_index(list(total.columns.difference(wn_cols))).dropna(axis = 1)"
   ]
  },
  {
   "cell_type": "code",
   "execution_count": 17,
   "metadata": {},
   "outputs": [
    {
     "data": {
      "text/html": [
       "<div>\n",
       "<style scoped>\n",
       "    .dataframe tbody tr th:only-of-type {\n",
       "        vertical-align: middle;\n",
       "    }\n",
       "\n",
       "    .dataframe tbody tr th {\n",
       "        vertical-align: top;\n",
       "    }\n",
       "\n",
       "    .dataframe thead th {\n",
       "        text-align: right;\n",
       "    }\n",
       "</style>\n",
       "<table border=\"1\" class=\"dataframe\">\n",
       "  <thead>\n",
       "    <tr style=\"text-align: right;\">\n",
       "      <th></th>\n",
       "      <th></th>\n",
       "      <th></th>\n",
       "      <th></th>\n",
       "      <th></th>\n",
       "      <th></th>\n",
       "      <th></th>\n",
       "      <th></th>\n",
       "      <th></th>\n",
       "      <th></th>\n",
       "      <th></th>\n",
       "      <th></th>\n",
       "      <th></th>\n",
       "      <th></th>\n",
       "      <th></th>\n",
       "      <th></th>\n",
       "      <th></th>\n",
       "      <th></th>\n",
       "      <th></th>\n",
       "      <th></th>\n",
       "      <th></th>\n",
       "      <th></th>\n",
       "      <th></th>\n",
       "      <th></th>\n",
       "      <th></th>\n",
       "      <th></th>\n",
       "      <th></th>\n",
       "      <th></th>\n",
       "      <th></th>\n",
       "      <th></th>\n",
       "      <th></th>\n",
       "      <th></th>\n",
       "      <th></th>\n",
       "      <th></th>\n",
       "      <th></th>\n",
       "      <th></th>\n",
       "      <th></th>\n",
       "      <th></th>\n",
       "      <th></th>\n",
       "      <th></th>\n",
       "      <th></th>\n",
       "      <th></th>\n",
       "      <th></th>\n",
       "      <th></th>\n",
       "      <th></th>\n",
       "      <th></th>\n",
       "      <th></th>\n",
       "      <th>998.0</th>\n",
       "      <th>1002.0</th>\n",
       "      <th>1006.0</th>\n",
       "      <th>1010.0</th>\n",
       "      <th>1014.0</th>\n",
       "      <th>1018.0</th>\n",
       "      <th>1022.0</th>\n",
       "      <th>1025.0</th>\n",
       "      <th>1029.0</th>\n",
       "      <th>1033.0</th>\n",
       "      <th>...</th>\n",
       "      <th>1762.0</th>\n",
       "      <th>1766.0</th>\n",
       "      <th>1770.0</th>\n",
       "      <th>1774.0</th>\n",
       "      <th>1778.0</th>\n",
       "      <th>1781.0</th>\n",
       "      <th>1785.0</th>\n",
       "      <th>1789.0</th>\n",
       "      <th>1793.0</th>\n",
       "      <th>1797.0</th>\n",
       "    </tr>\n",
       "    <tr>\n",
       "      <th>2year</th>\n",
       "      <th>5year</th>\n",
       "      <th>ASMA</th>\n",
       "      <th>Alive</th>\n",
       "      <th>Annotation_loc</th>\n",
       "      <th>Case ID</th>\n",
       "      <th>Core_x</th>\n",
       "      <th>Core_y</th>\n",
       "      <th>Corrected Site AJCC/UICC</th>\n",
       "      <th>DODvsAlive</th>\n",
       "      <th>Date of death</th>\n",
       "      <th>Date of recurrence</th>\n",
       "      <th>Diagnosis Age</th>\n",
       "      <th>DiedvsAlive</th>\n",
       "      <th>ECS_x</th>\n",
       "      <th>ECS_y</th>\n",
       "      <th>ID</th>\n",
       "      <th>Last seen/reviewed</th>\n",
       "      <th>Last updated</th>\n",
       "      <th>N stage</th>\n",
       "      <th>OUTCOME</th>\n",
       "      <th>OUTCOME.updated by</th>\n",
       "      <th>Overall Death</th>\n",
       "      <th>Pathogical Stage</th>\n",
       "      <th>Patient nu</th>\n",
       "      <th>Patient_Number</th>\n",
       "      <th>Recurrence?</th>\n",
       "      <th>T stage</th>\n",
       "      <th>TMA</th>\n",
       "      <th>TMA site</th>\n",
       "      <th>Tissue</th>\n",
       "      <th>advancing front type</th>\n",
       "      <th>age @ diag</th>\n",
       "      <th>date of diag</th>\n",
       "      <th>diff</th>\n",
       "      <th>envi_loc</th>\n",
       "      <th>gender_x</th>\n",
       "      <th>gender_y</th>\n",
       "      <th>lifespan</th>\n",
       "      <th>pN</th>\n",
       "      <th>pT</th>\n",
       "      <th>radiotherapy</th>\n",
       "      <th>recurrence</th>\n",
       "      <th>site</th>\n",
       "      <th>site of recurrence</th>\n",
       "      <th>stage</th>\n",
       "      <th>survival (months)</th>\n",
       "      <th></th>\n",
       "      <th></th>\n",
       "      <th></th>\n",
       "      <th></th>\n",
       "      <th></th>\n",
       "      <th></th>\n",
       "      <th></th>\n",
       "      <th></th>\n",
       "      <th></th>\n",
       "      <th></th>\n",
       "      <th></th>\n",
       "      <th></th>\n",
       "      <th></th>\n",
       "      <th></th>\n",
       "      <th></th>\n",
       "      <th></th>\n",
       "      <th></th>\n",
       "      <th></th>\n",
       "      <th></th>\n",
       "      <th></th>\n",
       "      <th></th>\n",
       "    </tr>\n",
       "  </thead>\n",
       "  <tbody>\n",
       "    <tr>\n",
       "      <th>True</th>\n",
       "      <th>False</th>\n",
       "      <th>H</th>\n",
       "      <th>False</th>\n",
       "      <th>/mnt/b/Google_Drive/PhD/Project with Janet/Label_Images/TMA_2/TMA_1.1_B1.png</th>\n",
       "      <th>3251</th>\n",
       "      <th>B1</th>\n",
       "      <th>B1</th>\n",
       "      <th>oral tongue</th>\n",
       "      <th>DOD</th>\n",
       "      <th>2006-07-21</th>\n",
       "      <th>NaT</th>\n",
       "      <th>70.0</th>\n",
       "      <th>Died</th>\n",
       "      <th>yes</th>\n",
       "      <th>Y</th>\n",
       "      <th>2.0-B1</th>\n",
       "      <th>NaT</th>\n",
       "      <th>2020-03-13</th>\n",
       "      <th>1</th>\n",
       "      <th>DOD</th>\n",
       "      <th>FG</th>\n",
       "      <th>yes</th>\n",
       "      <th>pT4N1M0</th>\n",
       "      <th>3251</th>\n",
       "      <th>3251</th>\n",
       "      <th>no</th>\n",
       "      <th>4</th>\n",
       "      <th>2.0</th>\n",
       "      <th>B1</th>\n",
       "      <th>Tumour</th>\n",
       "      <th>islands</th>\n",
       "      <th>70</th>\n",
       "      <th>2006-05-31</th>\n",
       "      <th>mod</th>\n",
       "      <th>/mnt/b/Google_Drive/PhD/Project with Janet/Kohler_Corrected/TMA_2TMA_1.1_B1.HDR</th>\n",
       "      <th>m</th>\n",
       "      <th>m</th>\n",
       "      <th>51 days</th>\n",
       "      <th>1</th>\n",
       "      <th>4</th>\n",
       "      <th>no</th>\n",
       "      <th>no</th>\n",
       "      <th>tongue</th>\n",
       "      <th>NaN</th>\n",
       "      <th>4</th>\n",
       "      <th>2.0</th>\n",
       "      <td>0.028493</td>\n",
       "      <td>0.032815</td>\n",
       "      <td>0.036189</td>\n",
       "      <td>0.038822</td>\n",
       "      <td>0.040917</td>\n",
       "      <td>0.042679</td>\n",
       "      <td>0.044422</td>\n",
       "      <td>0.046162</td>\n",
       "      <td>0.048092</td>\n",
       "      <td>0.050459</td>\n",
       "      <td>...</td>\n",
       "      <td>0.029220</td>\n",
       "      <td>0.029071</td>\n",
       "      <td>0.029391</td>\n",
       "      <td>0.029930</td>\n",
       "      <td>0.030344</td>\n",
       "      <td>0.030834</td>\n",
       "      <td>0.031269</td>\n",
       "      <td>0.031601</td>\n",
       "      <td>0.031735</td>\n",
       "      <td>0.031881</td>\n",
       "    </tr>\n",
       "    <tr>\n",
       "      <th rowspan=\"3\" valign=\"top\">False</th>\n",
       "      <th rowspan=\"2\" valign=\"top\">False</th>\n",
       "      <th rowspan=\"2\" valign=\"top\">I</th>\n",
       "      <th rowspan=\"2\" valign=\"top\">False</th>\n",
       "      <th>/mnt/b/Google_Drive/PhD/Project with Janet/Label_Images/TMA_1/TMA_1.4_F13.png</th>\n",
       "      <th>3535</th>\n",
       "      <th>F13</th>\n",
       "      <th>F13</th>\n",
       "      <th>other</th>\n",
       "      <th>Other</th>\n",
       "      <th>NaT</th>\n",
       "      <th>NaT</th>\n",
       "      <th>57.0</th>\n",
       "      <th>Alive</th>\n",
       "      <th>no</th>\n",
       "      <th>N</th>\n",
       "      <th>1.0-F13</th>\n",
       "      <th>2020-02-05</th>\n",
       "      <th>2020-04-21</th>\n",
       "      <th>0</th>\n",
       "      <th>alive</th>\n",
       "      <th>PG</th>\n",
       "      <th>no</th>\n",
       "      <th>pT4N0M0</th>\n",
       "      <th>3535</th>\n",
       "      <th>3535</th>\n",
       "      <th>no</th>\n",
       "      <th>4</th>\n",
       "      <th>1.0</th>\n",
       "      <th>F13</th>\n",
       "      <th>Tumour</th>\n",
       "      <th>non-cohesive</th>\n",
       "      <th>57</th>\n",
       "      <th>2009-09-03</th>\n",
       "      <th>mod</th>\n",
       "      <th>/mnt/b/Google_Drive/PhD/Project with Janet/Kohler_Corrected/TMA_1TMA_1.4_F13.HDR</th>\n",
       "      <th>f</th>\n",
       "      <th>f</th>\n",
       "      <th>NaT</th>\n",
       "      <th>0</th>\n",
       "      <th>4</th>\n",
       "      <th>NaN</th>\n",
       "      <th>no</th>\n",
       "      <th>other</th>\n",
       "      <th>multiple primaries</th>\n",
       "      <th>NaN</th>\n",
       "      <th>94.0</th>\n",
       "      <td>0.015471</td>\n",
       "      <td>0.019853</td>\n",
       "      <td>0.023410</td>\n",
       "      <td>0.026320</td>\n",
       "      <td>0.028761</td>\n",
       "      <td>0.030911</td>\n",
       "      <td>0.033110</td>\n",
       "      <td>0.035310</td>\n",
       "      <td>0.037155</td>\n",
       "      <td>0.039040</td>\n",
       "      <td>...</td>\n",
       "      <td>0.038022</td>\n",
       "      <td>0.037683</td>\n",
       "      <td>0.037317</td>\n",
       "      <td>0.037059</td>\n",
       "      <td>0.036845</td>\n",
       "      <td>0.037041</td>\n",
       "      <td>0.037474</td>\n",
       "      <td>0.038039</td>\n",
       "      <td>0.038769</td>\n",
       "      <td>0.039476</td>\n",
       "    </tr>\n",
       "    <tr>\n",
       "      <th>/mnt/b/Google_Drive/PhD/Project with Janet/Label_Images/TMA_2/TMA_1.1_E1.png</th>\n",
       "      <th>3271</th>\n",
       "      <th>E1</th>\n",
       "      <th>E1</th>\n",
       "      <th>FOM</th>\n",
       "      <th>Other</th>\n",
       "      <th>NaT</th>\n",
       "      <th>2010-07-23</th>\n",
       "      <th>59.0</th>\n",
       "      <th>Alive</th>\n",
       "      <th>yes</th>\n",
       "      <th>Y</th>\n",
       "      <th>2.0-E1</th>\n",
       "      <th>2010-07-23</th>\n",
       "      <th>2020-04-01</th>\n",
       "      <th>2b</th>\n",
       "      <th>alive</th>\n",
       "      <th>FGD</th>\n",
       "      <th>no</th>\n",
       "      <th>pT4N2bM0</th>\n",
       "      <th>3271</th>\n",
       "      <th>3271</th>\n",
       "      <th>yes</th>\n",
       "      <th>4</th>\n",
       "      <th>2.0</th>\n",
       "      <th>E1</th>\n",
       "      <th>Tumour</th>\n",
       "      <th>poorly cohesive</th>\n",
       "      <th>59</th>\n",
       "      <th>2006-09-16</th>\n",
       "      <th>mod</th>\n",
       "      <th>/mnt/b/Google_Drive/PhD/Project with Janet/Kohler_Corrected/TMA_2TMA_1.1_E1.HDR</th>\n",
       "      <th>m</th>\n",
       "      <th>m</th>\n",
       "      <th>NaT</th>\n",
       "      <th>2b</th>\n",
       "      <th>4</th>\n",
       "      <th>yes</th>\n",
       "      <th>yes</th>\n",
       "      <th>floor of mouth</th>\n",
       "      <th>lung mets</th>\n",
       "      <th>4a</th>\n",
       "      <th>46.0</th>\n",
       "      <td>0.144555</td>\n",
       "      <td>0.145135</td>\n",
       "      <td>0.146680</td>\n",
       "      <td>0.148985</td>\n",
       "      <td>0.151841</td>\n",
       "      <td>0.155041</td>\n",
       "      <td>0.157973</td>\n",
       "      <td>0.160993</td>\n",
       "      <td>0.163886</td>\n",
       "      <td>0.166417</td>\n",
       "      <td>...</td>\n",
       "      <td>0.137020</td>\n",
       "      <td>0.136918</td>\n",
       "      <td>0.137163</td>\n",
       "      <td>0.137453</td>\n",
       "      <td>0.137672</td>\n",
       "      <td>0.138174</td>\n",
       "      <td>0.138986</td>\n",
       "      <td>0.139888</td>\n",
       "      <td>0.140467</td>\n",
       "      <td>0.141035</td>\n",
       "    </tr>\n",
       "    <tr>\n",
       "      <th>True</th>\n",
       "      <th>I</th>\n",
       "      <th>False</th>\n",
       "      <th>/mnt/b/Google_Drive/PhD/Project with Janet/Label_Images/TMA_1/TMA_1.4_G9.png</th>\n",
       "      <th>3550</th>\n",
       "      <th>G9</th>\n",
       "      <th>G9</th>\n",
       "      <th>other</th>\n",
       "      <th>Other</th>\n",
       "      <th>2012-08-15</th>\n",
       "      <th>NaT</th>\n",
       "      <th>61.0</th>\n",
       "      <th>Died</th>\n",
       "      <th>no</th>\n",
       "      <th>N</th>\n",
       "      <th>1.0-G9</th>\n",
       "      <th>NaT</th>\n",
       "      <th>NaT</th>\n",
       "      <th>0</th>\n",
       "      <th>died</th>\n",
       "      <th>CBarry</th>\n",
       "      <th>yes</th>\n",
       "      <th>pT4N0</th>\n",
       "      <th>3550</th>\n",
       "      <th>3550</th>\n",
       "      <th>no</th>\n",
       "      <th>4</th>\n",
       "      <th>1.0</th>\n",
       "      <th>G9</th>\n",
       "      <th>Tumour</th>\n",
       "      <th>dyscohesive</th>\n",
       "      <th>61</th>\n",
       "      <th>2009-12-10</th>\n",
       "      <th>mod</th>\n",
       "      <th>/mnt/b/Google_Drive/PhD/Project with Janet/Kohler_Corrected/TMA_1TMA_1.4_G9.HDR</th>\n",
       "      <th>m</th>\n",
       "      <th>m</th>\n",
       "      <th>979 days</th>\n",
       "      <th>0</th>\n",
       "      <th>2</th>\n",
       "      <th>no</th>\n",
       "      <th>no</th>\n",
       "      <th>other</th>\n",
       "      <th>NaN</th>\n",
       "      <th>2</th>\n",
       "      <th>9.0</th>\n",
       "      <td>-0.017132</td>\n",
       "      <td>-0.014526</td>\n",
       "      <td>-0.010928</td>\n",
       "      <td>-0.006548</td>\n",
       "      <td>-0.001593</td>\n",
       "      <td>0.003730</td>\n",
       "      <td>0.008296</td>\n",
       "      <td>0.013777</td>\n",
       "      <td>0.019015</td>\n",
       "      <td>0.023778</td>\n",
       "      <td>...</td>\n",
       "      <td>-0.046655</td>\n",
       "      <td>-0.046150</td>\n",
       "      <td>-0.045326</td>\n",
       "      <td>-0.044468</td>\n",
       "      <td>-0.044010</td>\n",
       "      <td>-0.043227</td>\n",
       "      <td>-0.042190</td>\n",
       "      <td>-0.040749</td>\n",
       "      <td>-0.039397</td>\n",
       "      <td>-0.038202</td>\n",
       "    </tr>\n",
       "    <tr>\n",
       "      <th>True</th>\n",
       "      <th>False</th>\n",
       "      <th>H</th>\n",
       "      <th>False</th>\n",
       "      <th>/mnt/b/Google_Drive/PhD/Project with Janet/Label_Images/TMA_1/TMA_1.4_F14.png</th>\n",
       "      <th>3484</th>\n",
       "      <th>F14</th>\n",
       "      <th>F14</th>\n",
       "      <th>oral tongue</th>\n",
       "      <th>DOD</th>\n",
       "      <th>2009-12-02</th>\n",
       "      <th>2009-09-09</th>\n",
       "      <th>52.0</th>\n",
       "      <th>Died</th>\n",
       "      <th>yes</th>\n",
       "      <th>Y</th>\n",
       "      <th>1.0-F14</th>\n",
       "      <th>NaT</th>\n",
       "      <th>2020-04-21</th>\n",
       "      <th>2b</th>\n",
       "      <th>DOD</th>\n",
       "      <th>PG</th>\n",
       "      <th>yes</th>\n",
       "      <th>pT3N2bM0</th>\n",
       "      <th>3484</th>\n",
       "      <th>3484</th>\n",
       "      <th>yes</th>\n",
       "      <th>3</th>\n",
       "      <th>1.0</th>\n",
       "      <th>F14</th>\n",
       "      <th>Tumour</th>\n",
       "      <th>island</th>\n",
       "      <th>52</th>\n",
       "      <th>2009-01-26</th>\n",
       "      <th>mod</th>\n",
       "      <th>/mnt/b/Google_Drive/PhD/Project with Janet/Kohler_Corrected/TMA_1TMA_1.4_F14.HDR</th>\n",
       "      <th>m</th>\n",
       "      <th>m</th>\n",
       "      <th>310 days</th>\n",
       "      <th>2b</th>\n",
       "      <th>3</th>\n",
       "      <th>Yes</th>\n",
       "      <th>yes</th>\n",
       "      <th>tongue</th>\n",
       "      <th>regional &amp; mets</th>\n",
       "      <th>NaN</th>\n",
       "      <th>12.0</th>\n",
       "      <td>0.045773</td>\n",
       "      <td>0.045739</td>\n",
       "      <td>0.047246</td>\n",
       "      <td>0.049885</td>\n",
       "      <td>0.053246</td>\n",
       "      <td>0.056918</td>\n",
       "      <td>0.059940</td>\n",
       "      <td>0.062708</td>\n",
       "      <td>0.064689</td>\n",
       "      <td>0.065711</td>\n",
       "      <td>...</td>\n",
       "      <td>0.047096</td>\n",
       "      <td>0.046589</td>\n",
       "      <td>0.046545</td>\n",
       "      <td>0.046791</td>\n",
       "      <td>0.046884</td>\n",
       "      <td>0.046923</td>\n",
       "      <td>0.046761</td>\n",
       "      <td>0.046513</td>\n",
       "      <td>0.046367</td>\n",
       "      <td>0.046429</td>\n",
       "    </tr>\n",
       "  </tbody>\n",
       "</table>\n",
       "<p>5 rows × 169 columns</p>\n",
       "</div>"
      ],
      "text/plain": [
       "                                                                                                                                                                                                                                                                                                                                                                                                                                                                                                                                                                                                                    998.0   \\\n",
       "2year 5year ASMA Alive Annotation_loc                                     Case ID Core_x Core_y Corrected Site AJCC/UICC DODvsAlive Date of death Date of recurrence Diagnosis Age DiedvsAlive ECS_x ECS_y ID      Last seen/reviewed Last updated N stage OUTCOME OUTCOME.updated by Overall Death  Pathogical Stage Patient nu  Patient_Number Recurrence? T stage TMA TMA site Tissue advancing front type age @ diag date of diag diff envi_loc                                           gender_x gender_y lifespan pN pT radiotherapy recurrence site           site of recurrence stage survival (months)             \n",
       "True  False H    False /mnt/b/Google_Drive/PhD/Project with Janet/Labe... 3251    B1     B1     oral tongue              DOD        2006-07-21    NaT                70.0          Died        yes   Y     2.0-B1  NaT                2020-03-13   1       DOD     FG                 yes            pT4N1M0          3251        3251           no          4       2.0 B1       Tumour islands              70         2006-05-31   mod  /mnt/b/Google_Drive/PhD/Project with Janet/Kohl... m        m        51 days  1  4  no           no         tongue         NaN                4     2.0                0.028493   \n",
       "False False I    False /mnt/b/Google_Drive/PhD/Project with Janet/Labe... 3535    F13    F13    other                    Other      NaT           NaT                57.0          Alive       no    N     1.0-F13 2020-02-05         2020-04-21   0       alive   PG                 no             pT4N0M0          3535        3535           no          4       1.0 F13      Tumour non-cohesive         57         2009-09-03   mod  /mnt/b/Google_Drive/PhD/Project with Janet/Kohl... f        f        NaT      0  4  NaN          no         other          multiple primaries NaN   94.0               0.015471   \n",
       "                       /mnt/b/Google_Drive/PhD/Project with Janet/Labe... 3271    E1     E1     FOM                      Other      NaT           2010-07-23         59.0          Alive       yes   Y     2.0-E1  2010-07-23         2020-04-01   2b      alive   FGD                no             pT4N2bM0         3271        3271           yes         4       2.0 E1       Tumour poorly cohesive      59         2006-09-16   mod  /mnt/b/Google_Drive/PhD/Project with Janet/Kohl... m        m        NaT      2b 4  yes          yes        floor of mouth lung mets          4a    46.0               0.144555   \n",
       "      True  I    False /mnt/b/Google_Drive/PhD/Project with Janet/Labe... 3550    G9     G9     other                    Other      2012-08-15    NaT                61.0          Died        no    N     1.0-G9  NaT                NaT          0       died    CBarry             yes            pT4N0            3550        3550           no          4       1.0 G9       Tumour dyscohesive          61         2009-12-10   mod  /mnt/b/Google_Drive/PhD/Project with Janet/Kohl... m        m        979 days 0  2  no           no         other          NaN                2     9.0               -0.017132   \n",
       "True  False H    False /mnt/b/Google_Drive/PhD/Project with Janet/Labe... 3484    F14    F14    oral tongue              DOD        2009-12-02    2009-09-09         52.0          Died        yes   Y     1.0-F14 NaT                2020-04-21   2b      DOD     PG                 yes            pT3N2bM0         3484        3484           yes         3       1.0 F14      Tumour island               52         2009-01-26   mod  /mnt/b/Google_Drive/PhD/Project with Janet/Kohl... m        m        310 days 2b 3  Yes          yes        tongue         regional & mets    NaN   12.0               0.045773   \n",
       "\n",
       "                                                                                                                                                                                                                                                                                                                                                                                                                                                                                                                                                                                                                    1002.0  \\\n",
       "2year 5year ASMA Alive Annotation_loc                                     Case ID Core_x Core_y Corrected Site AJCC/UICC DODvsAlive Date of death Date of recurrence Diagnosis Age DiedvsAlive ECS_x ECS_y ID      Last seen/reviewed Last updated N stage OUTCOME OUTCOME.updated by Overall Death  Pathogical Stage Patient nu  Patient_Number Recurrence? T stage TMA TMA site Tissue advancing front type age @ diag date of diag diff envi_loc                                           gender_x gender_y lifespan pN pT radiotherapy recurrence site           site of recurrence stage survival (months)             \n",
       "True  False H    False /mnt/b/Google_Drive/PhD/Project with Janet/Labe... 3251    B1     B1     oral tongue              DOD        2006-07-21    NaT                70.0          Died        yes   Y     2.0-B1  NaT                2020-03-13   1       DOD     FG                 yes            pT4N1M0          3251        3251           no          4       2.0 B1       Tumour islands              70         2006-05-31   mod  /mnt/b/Google_Drive/PhD/Project with Janet/Kohl... m        m        51 days  1  4  no           no         tongue         NaN                4     2.0                0.032815   \n",
       "False False I    False /mnt/b/Google_Drive/PhD/Project with Janet/Labe... 3535    F13    F13    other                    Other      NaT           NaT                57.0          Alive       no    N     1.0-F13 2020-02-05         2020-04-21   0       alive   PG                 no             pT4N0M0          3535        3535           no          4       1.0 F13      Tumour non-cohesive         57         2009-09-03   mod  /mnt/b/Google_Drive/PhD/Project with Janet/Kohl... f        f        NaT      0  4  NaN          no         other          multiple primaries NaN   94.0               0.019853   \n",
       "                       /mnt/b/Google_Drive/PhD/Project with Janet/Labe... 3271    E1     E1     FOM                      Other      NaT           2010-07-23         59.0          Alive       yes   Y     2.0-E1  2010-07-23         2020-04-01   2b      alive   FGD                no             pT4N2bM0         3271        3271           yes         4       2.0 E1       Tumour poorly cohesive      59         2006-09-16   mod  /mnt/b/Google_Drive/PhD/Project with Janet/Kohl... m        m        NaT      2b 4  yes          yes        floor of mouth lung mets          4a    46.0               0.145135   \n",
       "      True  I    False /mnt/b/Google_Drive/PhD/Project with Janet/Labe... 3550    G9     G9     other                    Other      2012-08-15    NaT                61.0          Died        no    N     1.0-G9  NaT                NaT          0       died    CBarry             yes            pT4N0            3550        3550           no          4       1.0 G9       Tumour dyscohesive          61         2009-12-10   mod  /mnt/b/Google_Drive/PhD/Project with Janet/Kohl... m        m        979 days 0  2  no           no         other          NaN                2     9.0               -0.014526   \n",
       "True  False H    False /mnt/b/Google_Drive/PhD/Project with Janet/Labe... 3484    F14    F14    oral tongue              DOD        2009-12-02    2009-09-09         52.0          Died        yes   Y     1.0-F14 NaT                2020-04-21   2b      DOD     PG                 yes            pT3N2bM0         3484        3484           yes         3       1.0 F14      Tumour island               52         2009-01-26   mod  /mnt/b/Google_Drive/PhD/Project with Janet/Kohl... m        m        310 days 2b 3  Yes          yes        tongue         regional & mets    NaN   12.0               0.045739   \n",
       "\n",
       "                                                                                                                                                                                                                                                                                                                                                                                                                                                                                                                                                                                                                    1006.0  \\\n",
       "2year 5year ASMA Alive Annotation_loc                                     Case ID Core_x Core_y Corrected Site AJCC/UICC DODvsAlive Date of death Date of recurrence Diagnosis Age DiedvsAlive ECS_x ECS_y ID      Last seen/reviewed Last updated N stage OUTCOME OUTCOME.updated by Overall Death  Pathogical Stage Patient nu  Patient_Number Recurrence? T stage TMA TMA site Tissue advancing front type age @ diag date of diag diff envi_loc                                           gender_x gender_y lifespan pN pT radiotherapy recurrence site           site of recurrence stage survival (months)             \n",
       "True  False H    False /mnt/b/Google_Drive/PhD/Project with Janet/Labe... 3251    B1     B1     oral tongue              DOD        2006-07-21    NaT                70.0          Died        yes   Y     2.0-B1  NaT                2020-03-13   1       DOD     FG                 yes            pT4N1M0          3251        3251           no          4       2.0 B1       Tumour islands              70         2006-05-31   mod  /mnt/b/Google_Drive/PhD/Project with Janet/Kohl... m        m        51 days  1  4  no           no         tongue         NaN                4     2.0                0.036189   \n",
       "False False I    False /mnt/b/Google_Drive/PhD/Project with Janet/Labe... 3535    F13    F13    other                    Other      NaT           NaT                57.0          Alive       no    N     1.0-F13 2020-02-05         2020-04-21   0       alive   PG                 no             pT4N0M0          3535        3535           no          4       1.0 F13      Tumour non-cohesive         57         2009-09-03   mod  /mnt/b/Google_Drive/PhD/Project with Janet/Kohl... f        f        NaT      0  4  NaN          no         other          multiple primaries NaN   94.0               0.023410   \n",
       "                       /mnt/b/Google_Drive/PhD/Project with Janet/Labe... 3271    E1     E1     FOM                      Other      NaT           2010-07-23         59.0          Alive       yes   Y     2.0-E1  2010-07-23         2020-04-01   2b      alive   FGD                no             pT4N2bM0         3271        3271           yes         4       2.0 E1       Tumour poorly cohesive      59         2006-09-16   mod  /mnt/b/Google_Drive/PhD/Project with Janet/Kohl... m        m        NaT      2b 4  yes          yes        floor of mouth lung mets          4a    46.0               0.146680   \n",
       "      True  I    False /mnt/b/Google_Drive/PhD/Project with Janet/Labe... 3550    G9     G9     other                    Other      2012-08-15    NaT                61.0          Died        no    N     1.0-G9  NaT                NaT          0       died    CBarry             yes            pT4N0            3550        3550           no          4       1.0 G9       Tumour dyscohesive          61         2009-12-10   mod  /mnt/b/Google_Drive/PhD/Project with Janet/Kohl... m        m        979 days 0  2  no           no         other          NaN                2     9.0               -0.010928   \n",
       "True  False H    False /mnt/b/Google_Drive/PhD/Project with Janet/Labe... 3484    F14    F14    oral tongue              DOD        2009-12-02    2009-09-09         52.0          Died        yes   Y     1.0-F14 NaT                2020-04-21   2b      DOD     PG                 yes            pT3N2bM0         3484        3484           yes         3       1.0 F14      Tumour island               52         2009-01-26   mod  /mnt/b/Google_Drive/PhD/Project with Janet/Kohl... m        m        310 days 2b 3  Yes          yes        tongue         regional & mets    NaN   12.0               0.047246   \n",
       "\n",
       "                                                                                                                                                                                                                                                                                                                                                                                                                                                                                                                                                                                                                    1010.0  \\\n",
       "2year 5year ASMA Alive Annotation_loc                                     Case ID Core_x Core_y Corrected Site AJCC/UICC DODvsAlive Date of death Date of recurrence Diagnosis Age DiedvsAlive ECS_x ECS_y ID      Last seen/reviewed Last updated N stage OUTCOME OUTCOME.updated by Overall Death  Pathogical Stage Patient nu  Patient_Number Recurrence? T stage TMA TMA site Tissue advancing front type age @ diag date of diag diff envi_loc                                           gender_x gender_y lifespan pN pT radiotherapy recurrence site           site of recurrence stage survival (months)             \n",
       "True  False H    False /mnt/b/Google_Drive/PhD/Project with Janet/Labe... 3251    B1     B1     oral tongue              DOD        2006-07-21    NaT                70.0          Died        yes   Y     2.0-B1  NaT                2020-03-13   1       DOD     FG                 yes            pT4N1M0          3251        3251           no          4       2.0 B1       Tumour islands              70         2006-05-31   mod  /mnt/b/Google_Drive/PhD/Project with Janet/Kohl... m        m        51 days  1  4  no           no         tongue         NaN                4     2.0                0.038822   \n",
       "False False I    False /mnt/b/Google_Drive/PhD/Project with Janet/Labe... 3535    F13    F13    other                    Other      NaT           NaT                57.0          Alive       no    N     1.0-F13 2020-02-05         2020-04-21   0       alive   PG                 no             pT4N0M0          3535        3535           no          4       1.0 F13      Tumour non-cohesive         57         2009-09-03   mod  /mnt/b/Google_Drive/PhD/Project with Janet/Kohl... f        f        NaT      0  4  NaN          no         other          multiple primaries NaN   94.0               0.026320   \n",
       "                       /mnt/b/Google_Drive/PhD/Project with Janet/Labe... 3271    E1     E1     FOM                      Other      NaT           2010-07-23         59.0          Alive       yes   Y     2.0-E1  2010-07-23         2020-04-01   2b      alive   FGD                no             pT4N2bM0         3271        3271           yes         4       2.0 E1       Tumour poorly cohesive      59         2006-09-16   mod  /mnt/b/Google_Drive/PhD/Project with Janet/Kohl... m        m        NaT      2b 4  yes          yes        floor of mouth lung mets          4a    46.0               0.148985   \n",
       "      True  I    False /mnt/b/Google_Drive/PhD/Project with Janet/Labe... 3550    G9     G9     other                    Other      2012-08-15    NaT                61.0          Died        no    N     1.0-G9  NaT                NaT          0       died    CBarry             yes            pT4N0            3550        3550           no          4       1.0 G9       Tumour dyscohesive          61         2009-12-10   mod  /mnt/b/Google_Drive/PhD/Project with Janet/Kohl... m        m        979 days 0  2  no           no         other          NaN                2     9.0               -0.006548   \n",
       "True  False H    False /mnt/b/Google_Drive/PhD/Project with Janet/Labe... 3484    F14    F14    oral tongue              DOD        2009-12-02    2009-09-09         52.0          Died        yes   Y     1.0-F14 NaT                2020-04-21   2b      DOD     PG                 yes            pT3N2bM0         3484        3484           yes         3       1.0 F14      Tumour island               52         2009-01-26   mod  /mnt/b/Google_Drive/PhD/Project with Janet/Kohl... m        m        310 days 2b 3  Yes          yes        tongue         regional & mets    NaN   12.0               0.049885   \n",
       "\n",
       "                                                                                                                                                                                                                                                                                                                                                                                                                                                                                                                                                                                                                    1014.0  \\\n",
       "2year 5year ASMA Alive Annotation_loc                                     Case ID Core_x Core_y Corrected Site AJCC/UICC DODvsAlive Date of death Date of recurrence Diagnosis Age DiedvsAlive ECS_x ECS_y ID      Last seen/reviewed Last updated N stage OUTCOME OUTCOME.updated by Overall Death  Pathogical Stage Patient nu  Patient_Number Recurrence? T stage TMA TMA site Tissue advancing front type age @ diag date of diag diff envi_loc                                           gender_x gender_y lifespan pN pT radiotherapy recurrence site           site of recurrence stage survival (months)             \n",
       "True  False H    False /mnt/b/Google_Drive/PhD/Project with Janet/Labe... 3251    B1     B1     oral tongue              DOD        2006-07-21    NaT                70.0          Died        yes   Y     2.0-B1  NaT                2020-03-13   1       DOD     FG                 yes            pT4N1M0          3251        3251           no          4       2.0 B1       Tumour islands              70         2006-05-31   mod  /mnt/b/Google_Drive/PhD/Project with Janet/Kohl... m        m        51 days  1  4  no           no         tongue         NaN                4     2.0                0.040917   \n",
       "False False I    False /mnt/b/Google_Drive/PhD/Project with Janet/Labe... 3535    F13    F13    other                    Other      NaT           NaT                57.0          Alive       no    N     1.0-F13 2020-02-05         2020-04-21   0       alive   PG                 no             pT4N0M0          3535        3535           no          4       1.0 F13      Tumour non-cohesive         57         2009-09-03   mod  /mnt/b/Google_Drive/PhD/Project with Janet/Kohl... f        f        NaT      0  4  NaN          no         other          multiple primaries NaN   94.0               0.028761   \n",
       "                       /mnt/b/Google_Drive/PhD/Project with Janet/Labe... 3271    E1     E1     FOM                      Other      NaT           2010-07-23         59.0          Alive       yes   Y     2.0-E1  2010-07-23         2020-04-01   2b      alive   FGD                no             pT4N2bM0         3271        3271           yes         4       2.0 E1       Tumour poorly cohesive      59         2006-09-16   mod  /mnt/b/Google_Drive/PhD/Project with Janet/Kohl... m        m        NaT      2b 4  yes          yes        floor of mouth lung mets          4a    46.0               0.151841   \n",
       "      True  I    False /mnt/b/Google_Drive/PhD/Project with Janet/Labe... 3550    G9     G9     other                    Other      2012-08-15    NaT                61.0          Died        no    N     1.0-G9  NaT                NaT          0       died    CBarry             yes            pT4N0            3550        3550           no          4       1.0 G9       Tumour dyscohesive          61         2009-12-10   mod  /mnt/b/Google_Drive/PhD/Project with Janet/Kohl... m        m        979 days 0  2  no           no         other          NaN                2     9.0               -0.001593   \n",
       "True  False H    False /mnt/b/Google_Drive/PhD/Project with Janet/Labe... 3484    F14    F14    oral tongue              DOD        2009-12-02    2009-09-09         52.0          Died        yes   Y     1.0-F14 NaT                2020-04-21   2b      DOD     PG                 yes            pT3N2bM0         3484        3484           yes         3       1.0 F14      Tumour island               52         2009-01-26   mod  /mnt/b/Google_Drive/PhD/Project with Janet/Kohl... m        m        310 days 2b 3  Yes          yes        tongue         regional & mets    NaN   12.0               0.053246   \n",
       "\n",
       "                                                                                                                                                                                                                                                                                                                                                                                                                                                                                                                                                                                                                    1018.0  \\\n",
       "2year 5year ASMA Alive Annotation_loc                                     Case ID Core_x Core_y Corrected Site AJCC/UICC DODvsAlive Date of death Date of recurrence Diagnosis Age DiedvsAlive ECS_x ECS_y ID      Last seen/reviewed Last updated N stage OUTCOME OUTCOME.updated by Overall Death  Pathogical Stage Patient nu  Patient_Number Recurrence? T stage TMA TMA site Tissue advancing front type age @ diag date of diag diff envi_loc                                           gender_x gender_y lifespan pN pT radiotherapy recurrence site           site of recurrence stage survival (months)             \n",
       "True  False H    False /mnt/b/Google_Drive/PhD/Project with Janet/Labe... 3251    B1     B1     oral tongue              DOD        2006-07-21    NaT                70.0          Died        yes   Y     2.0-B1  NaT                2020-03-13   1       DOD     FG                 yes            pT4N1M0          3251        3251           no          4       2.0 B1       Tumour islands              70         2006-05-31   mod  /mnt/b/Google_Drive/PhD/Project with Janet/Kohl... m        m        51 days  1  4  no           no         tongue         NaN                4     2.0                0.042679   \n",
       "False False I    False /mnt/b/Google_Drive/PhD/Project with Janet/Labe... 3535    F13    F13    other                    Other      NaT           NaT                57.0          Alive       no    N     1.0-F13 2020-02-05         2020-04-21   0       alive   PG                 no             pT4N0M0          3535        3535           no          4       1.0 F13      Tumour non-cohesive         57         2009-09-03   mod  /mnt/b/Google_Drive/PhD/Project with Janet/Kohl... f        f        NaT      0  4  NaN          no         other          multiple primaries NaN   94.0               0.030911   \n",
       "                       /mnt/b/Google_Drive/PhD/Project with Janet/Labe... 3271    E1     E1     FOM                      Other      NaT           2010-07-23         59.0          Alive       yes   Y     2.0-E1  2010-07-23         2020-04-01   2b      alive   FGD                no             pT4N2bM0         3271        3271           yes         4       2.0 E1       Tumour poorly cohesive      59         2006-09-16   mod  /mnt/b/Google_Drive/PhD/Project with Janet/Kohl... m        m        NaT      2b 4  yes          yes        floor of mouth lung mets          4a    46.0               0.155041   \n",
       "      True  I    False /mnt/b/Google_Drive/PhD/Project with Janet/Labe... 3550    G9     G9     other                    Other      2012-08-15    NaT                61.0          Died        no    N     1.0-G9  NaT                NaT          0       died    CBarry             yes            pT4N0            3550        3550           no          4       1.0 G9       Tumour dyscohesive          61         2009-12-10   mod  /mnt/b/Google_Drive/PhD/Project with Janet/Kohl... m        m        979 days 0  2  no           no         other          NaN                2     9.0                0.003730   \n",
       "True  False H    False /mnt/b/Google_Drive/PhD/Project with Janet/Labe... 3484    F14    F14    oral tongue              DOD        2009-12-02    2009-09-09         52.0          Died        yes   Y     1.0-F14 NaT                2020-04-21   2b      DOD     PG                 yes            pT3N2bM0         3484        3484           yes         3       1.0 F14      Tumour island               52         2009-01-26   mod  /mnt/b/Google_Drive/PhD/Project with Janet/Kohl... m        m        310 days 2b 3  Yes          yes        tongue         regional & mets    NaN   12.0               0.056918   \n",
       "\n",
       "                                                                                                                                                                                                                                                                                                                                                                                                                                                                                                                                                                                                                    1022.0  \\\n",
       "2year 5year ASMA Alive Annotation_loc                                     Case ID Core_x Core_y Corrected Site AJCC/UICC DODvsAlive Date of death Date of recurrence Diagnosis Age DiedvsAlive ECS_x ECS_y ID      Last seen/reviewed Last updated N stage OUTCOME OUTCOME.updated by Overall Death  Pathogical Stage Patient nu  Patient_Number Recurrence? T stage TMA TMA site Tissue advancing front type age @ diag date of diag diff envi_loc                                           gender_x gender_y lifespan pN pT radiotherapy recurrence site           site of recurrence stage survival (months)             \n",
       "True  False H    False /mnt/b/Google_Drive/PhD/Project with Janet/Labe... 3251    B1     B1     oral tongue              DOD        2006-07-21    NaT                70.0          Died        yes   Y     2.0-B1  NaT                2020-03-13   1       DOD     FG                 yes            pT4N1M0          3251        3251           no          4       2.0 B1       Tumour islands              70         2006-05-31   mod  /mnt/b/Google_Drive/PhD/Project with Janet/Kohl... m        m        51 days  1  4  no           no         tongue         NaN                4     2.0                0.044422   \n",
       "False False I    False /mnt/b/Google_Drive/PhD/Project with Janet/Labe... 3535    F13    F13    other                    Other      NaT           NaT                57.0          Alive       no    N     1.0-F13 2020-02-05         2020-04-21   0       alive   PG                 no             pT4N0M0          3535        3535           no          4       1.0 F13      Tumour non-cohesive         57         2009-09-03   mod  /mnt/b/Google_Drive/PhD/Project with Janet/Kohl... f        f        NaT      0  4  NaN          no         other          multiple primaries NaN   94.0               0.033110   \n",
       "                       /mnt/b/Google_Drive/PhD/Project with Janet/Labe... 3271    E1     E1     FOM                      Other      NaT           2010-07-23         59.0          Alive       yes   Y     2.0-E1  2010-07-23         2020-04-01   2b      alive   FGD                no             pT4N2bM0         3271        3271           yes         4       2.0 E1       Tumour poorly cohesive      59         2006-09-16   mod  /mnt/b/Google_Drive/PhD/Project with Janet/Kohl... m        m        NaT      2b 4  yes          yes        floor of mouth lung mets          4a    46.0               0.157973   \n",
       "      True  I    False /mnt/b/Google_Drive/PhD/Project with Janet/Labe... 3550    G9     G9     other                    Other      2012-08-15    NaT                61.0          Died        no    N     1.0-G9  NaT                NaT          0       died    CBarry             yes            pT4N0            3550        3550           no          4       1.0 G9       Tumour dyscohesive          61         2009-12-10   mod  /mnt/b/Google_Drive/PhD/Project with Janet/Kohl... m        m        979 days 0  2  no           no         other          NaN                2     9.0                0.008296   \n",
       "True  False H    False /mnt/b/Google_Drive/PhD/Project with Janet/Labe... 3484    F14    F14    oral tongue              DOD        2009-12-02    2009-09-09         52.0          Died        yes   Y     1.0-F14 NaT                2020-04-21   2b      DOD     PG                 yes            pT3N2bM0         3484        3484           yes         3       1.0 F14      Tumour island               52         2009-01-26   mod  /mnt/b/Google_Drive/PhD/Project with Janet/Kohl... m        m        310 days 2b 3  Yes          yes        tongue         regional & mets    NaN   12.0               0.059940   \n",
       "\n",
       "                                                                                                                                                                                                                                                                                                                                                                                                                                                                                                                                                                                                                    1025.0  \\\n",
       "2year 5year ASMA Alive Annotation_loc                                     Case ID Core_x Core_y Corrected Site AJCC/UICC DODvsAlive Date of death Date of recurrence Diagnosis Age DiedvsAlive ECS_x ECS_y ID      Last seen/reviewed Last updated N stage OUTCOME OUTCOME.updated by Overall Death  Pathogical Stage Patient nu  Patient_Number Recurrence? T stage TMA TMA site Tissue advancing front type age @ diag date of diag diff envi_loc                                           gender_x gender_y lifespan pN pT radiotherapy recurrence site           site of recurrence stage survival (months)             \n",
       "True  False H    False /mnt/b/Google_Drive/PhD/Project with Janet/Labe... 3251    B1     B1     oral tongue              DOD        2006-07-21    NaT                70.0          Died        yes   Y     2.0-B1  NaT                2020-03-13   1       DOD     FG                 yes            pT4N1M0          3251        3251           no          4       2.0 B1       Tumour islands              70         2006-05-31   mod  /mnt/b/Google_Drive/PhD/Project with Janet/Kohl... m        m        51 days  1  4  no           no         tongue         NaN                4     2.0                0.046162   \n",
       "False False I    False /mnt/b/Google_Drive/PhD/Project with Janet/Labe... 3535    F13    F13    other                    Other      NaT           NaT                57.0          Alive       no    N     1.0-F13 2020-02-05         2020-04-21   0       alive   PG                 no             pT4N0M0          3535        3535           no          4       1.0 F13      Tumour non-cohesive         57         2009-09-03   mod  /mnt/b/Google_Drive/PhD/Project with Janet/Kohl... f        f        NaT      0  4  NaN          no         other          multiple primaries NaN   94.0               0.035310   \n",
       "                       /mnt/b/Google_Drive/PhD/Project with Janet/Labe... 3271    E1     E1     FOM                      Other      NaT           2010-07-23         59.0          Alive       yes   Y     2.0-E1  2010-07-23         2020-04-01   2b      alive   FGD                no             pT4N2bM0         3271        3271           yes         4       2.0 E1       Tumour poorly cohesive      59         2006-09-16   mod  /mnt/b/Google_Drive/PhD/Project with Janet/Kohl... m        m        NaT      2b 4  yes          yes        floor of mouth lung mets          4a    46.0               0.160993   \n",
       "      True  I    False /mnt/b/Google_Drive/PhD/Project with Janet/Labe... 3550    G9     G9     other                    Other      2012-08-15    NaT                61.0          Died        no    N     1.0-G9  NaT                NaT          0       died    CBarry             yes            pT4N0            3550        3550           no          4       1.0 G9       Tumour dyscohesive          61         2009-12-10   mod  /mnt/b/Google_Drive/PhD/Project with Janet/Kohl... m        m        979 days 0  2  no           no         other          NaN                2     9.0                0.013777   \n",
       "True  False H    False /mnt/b/Google_Drive/PhD/Project with Janet/Labe... 3484    F14    F14    oral tongue              DOD        2009-12-02    2009-09-09         52.0          Died        yes   Y     1.0-F14 NaT                2020-04-21   2b      DOD     PG                 yes            pT3N2bM0         3484        3484           yes         3       1.0 F14      Tumour island               52         2009-01-26   mod  /mnt/b/Google_Drive/PhD/Project with Janet/Kohl... m        m        310 days 2b 3  Yes          yes        tongue         regional & mets    NaN   12.0               0.062708   \n",
       "\n",
       "                                                                                                                                                                                                                                                                                                                                                                                                                                                                                                                                                                                                                    1029.0  \\\n",
       "2year 5year ASMA Alive Annotation_loc                                     Case ID Core_x Core_y Corrected Site AJCC/UICC DODvsAlive Date of death Date of recurrence Diagnosis Age DiedvsAlive ECS_x ECS_y ID      Last seen/reviewed Last updated N stage OUTCOME OUTCOME.updated by Overall Death  Pathogical Stage Patient nu  Patient_Number Recurrence? T stage TMA TMA site Tissue advancing front type age @ diag date of diag diff envi_loc                                           gender_x gender_y lifespan pN pT radiotherapy recurrence site           site of recurrence stage survival (months)             \n",
       "True  False H    False /mnt/b/Google_Drive/PhD/Project with Janet/Labe... 3251    B1     B1     oral tongue              DOD        2006-07-21    NaT                70.0          Died        yes   Y     2.0-B1  NaT                2020-03-13   1       DOD     FG                 yes            pT4N1M0          3251        3251           no          4       2.0 B1       Tumour islands              70         2006-05-31   mod  /mnt/b/Google_Drive/PhD/Project with Janet/Kohl... m        m        51 days  1  4  no           no         tongue         NaN                4     2.0                0.048092   \n",
       "False False I    False /mnt/b/Google_Drive/PhD/Project with Janet/Labe... 3535    F13    F13    other                    Other      NaT           NaT                57.0          Alive       no    N     1.0-F13 2020-02-05         2020-04-21   0       alive   PG                 no             pT4N0M0          3535        3535           no          4       1.0 F13      Tumour non-cohesive         57         2009-09-03   mod  /mnt/b/Google_Drive/PhD/Project with Janet/Kohl... f        f        NaT      0  4  NaN          no         other          multiple primaries NaN   94.0               0.037155   \n",
       "                       /mnt/b/Google_Drive/PhD/Project with Janet/Labe... 3271    E1     E1     FOM                      Other      NaT           2010-07-23         59.0          Alive       yes   Y     2.0-E1  2010-07-23         2020-04-01   2b      alive   FGD                no             pT4N2bM0         3271        3271           yes         4       2.0 E1       Tumour poorly cohesive      59         2006-09-16   mod  /mnt/b/Google_Drive/PhD/Project with Janet/Kohl... m        m        NaT      2b 4  yes          yes        floor of mouth lung mets          4a    46.0               0.163886   \n",
       "      True  I    False /mnt/b/Google_Drive/PhD/Project with Janet/Labe... 3550    G9     G9     other                    Other      2012-08-15    NaT                61.0          Died        no    N     1.0-G9  NaT                NaT          0       died    CBarry             yes            pT4N0            3550        3550           no          4       1.0 G9       Tumour dyscohesive          61         2009-12-10   mod  /mnt/b/Google_Drive/PhD/Project with Janet/Kohl... m        m        979 days 0  2  no           no         other          NaN                2     9.0                0.019015   \n",
       "True  False H    False /mnt/b/Google_Drive/PhD/Project with Janet/Labe... 3484    F14    F14    oral tongue              DOD        2009-12-02    2009-09-09         52.0          Died        yes   Y     1.0-F14 NaT                2020-04-21   2b      DOD     PG                 yes            pT3N2bM0         3484        3484           yes         3       1.0 F14      Tumour island               52         2009-01-26   mod  /mnt/b/Google_Drive/PhD/Project with Janet/Kohl... m        m        310 days 2b 3  Yes          yes        tongue         regional & mets    NaN   12.0               0.064689   \n",
       "\n",
       "                                                                                                                                                                                                                                                                                                                                                                                                                                                                                                                                                                                                                    1033.0  \\\n",
       "2year 5year ASMA Alive Annotation_loc                                     Case ID Core_x Core_y Corrected Site AJCC/UICC DODvsAlive Date of death Date of recurrence Diagnosis Age DiedvsAlive ECS_x ECS_y ID      Last seen/reviewed Last updated N stage OUTCOME OUTCOME.updated by Overall Death  Pathogical Stage Patient nu  Patient_Number Recurrence? T stage TMA TMA site Tissue advancing front type age @ diag date of diag diff envi_loc                                           gender_x gender_y lifespan pN pT radiotherapy recurrence site           site of recurrence stage survival (months)             \n",
       "True  False H    False /mnt/b/Google_Drive/PhD/Project with Janet/Labe... 3251    B1     B1     oral tongue              DOD        2006-07-21    NaT                70.0          Died        yes   Y     2.0-B1  NaT                2020-03-13   1       DOD     FG                 yes            pT4N1M0          3251        3251           no          4       2.0 B1       Tumour islands              70         2006-05-31   mod  /mnt/b/Google_Drive/PhD/Project with Janet/Kohl... m        m        51 days  1  4  no           no         tongue         NaN                4     2.0                0.050459   \n",
       "False False I    False /mnt/b/Google_Drive/PhD/Project with Janet/Labe... 3535    F13    F13    other                    Other      NaT           NaT                57.0          Alive       no    N     1.0-F13 2020-02-05         2020-04-21   0       alive   PG                 no             pT4N0M0          3535        3535           no          4       1.0 F13      Tumour non-cohesive         57         2009-09-03   mod  /mnt/b/Google_Drive/PhD/Project with Janet/Kohl... f        f        NaT      0  4  NaN          no         other          multiple primaries NaN   94.0               0.039040   \n",
       "                       /mnt/b/Google_Drive/PhD/Project with Janet/Labe... 3271    E1     E1     FOM                      Other      NaT           2010-07-23         59.0          Alive       yes   Y     2.0-E1  2010-07-23         2020-04-01   2b      alive   FGD                no             pT4N2bM0         3271        3271           yes         4       2.0 E1       Tumour poorly cohesive      59         2006-09-16   mod  /mnt/b/Google_Drive/PhD/Project with Janet/Kohl... m        m        NaT      2b 4  yes          yes        floor of mouth lung mets          4a    46.0               0.166417   \n",
       "      True  I    False /mnt/b/Google_Drive/PhD/Project with Janet/Labe... 3550    G9     G9     other                    Other      2012-08-15    NaT                61.0          Died        no    N     1.0-G9  NaT                NaT          0       died    CBarry             yes            pT4N0            3550        3550           no          4       1.0 G9       Tumour dyscohesive          61         2009-12-10   mod  /mnt/b/Google_Drive/PhD/Project with Janet/Kohl... m        m        979 days 0  2  no           no         other          NaN                2     9.0                0.023778   \n",
       "True  False H    False /mnt/b/Google_Drive/PhD/Project with Janet/Labe... 3484    F14    F14    oral tongue              DOD        2009-12-02    2009-09-09         52.0          Died        yes   Y     1.0-F14 NaT                2020-04-21   2b      DOD     PG                 yes            pT3N2bM0         3484        3484           yes         3       1.0 F14      Tumour island               52         2009-01-26   mod  /mnt/b/Google_Drive/PhD/Project with Janet/Kohl... m        m        310 days 2b 3  Yes          yes        tongue         regional & mets    NaN   12.0               0.065711   \n",
       "\n",
       "                                                                                                                                                                                                                                                                                                                                                                                                                                                                                                                                                                                                                  ...  \\\n",
       "2year 5year ASMA Alive Annotation_loc                                     Case ID Core_x Core_y Corrected Site AJCC/UICC DODvsAlive Date of death Date of recurrence Diagnosis Age DiedvsAlive ECS_x ECS_y ID      Last seen/reviewed Last updated N stage OUTCOME OUTCOME.updated by Overall Death  Pathogical Stage Patient nu  Patient_Number Recurrence? T stage TMA TMA site Tissue advancing front type age @ diag date of diag diff envi_loc                                           gender_x gender_y lifespan pN pT radiotherapy recurrence site           site of recurrence stage survival (months)  ...   \n",
       "True  False H    False /mnt/b/Google_Drive/PhD/Project with Janet/Labe... 3251    B1     B1     oral tongue              DOD        2006-07-21    NaT                70.0          Died        yes   Y     2.0-B1  NaT                2020-03-13   1       DOD     FG                 yes            pT4N1M0          3251        3251           no          4       2.0 B1       Tumour islands              70         2006-05-31   mod  /mnt/b/Google_Drive/PhD/Project with Janet/Kohl... m        m        51 days  1  4  no           no         tongue         NaN                4     2.0                ...   \n",
       "False False I    False /mnt/b/Google_Drive/PhD/Project with Janet/Labe... 3535    F13    F13    other                    Other      NaT           NaT                57.0          Alive       no    N     1.0-F13 2020-02-05         2020-04-21   0       alive   PG                 no             pT4N0M0          3535        3535           no          4       1.0 F13      Tumour non-cohesive         57         2009-09-03   mod  /mnt/b/Google_Drive/PhD/Project with Janet/Kohl... f        f        NaT      0  4  NaN          no         other          multiple primaries NaN   94.0               ...   \n",
       "                       /mnt/b/Google_Drive/PhD/Project with Janet/Labe... 3271    E1     E1     FOM                      Other      NaT           2010-07-23         59.0          Alive       yes   Y     2.0-E1  2010-07-23         2020-04-01   2b      alive   FGD                no             pT4N2bM0         3271        3271           yes         4       2.0 E1       Tumour poorly cohesive      59         2006-09-16   mod  /mnt/b/Google_Drive/PhD/Project with Janet/Kohl... m        m        NaT      2b 4  yes          yes        floor of mouth lung mets          4a    46.0               ...   \n",
       "      True  I    False /mnt/b/Google_Drive/PhD/Project with Janet/Labe... 3550    G9     G9     other                    Other      2012-08-15    NaT                61.0          Died        no    N     1.0-G9  NaT                NaT          0       died    CBarry             yes            pT4N0            3550        3550           no          4       1.0 G9       Tumour dyscohesive          61         2009-12-10   mod  /mnt/b/Google_Drive/PhD/Project with Janet/Kohl... m        m        979 days 0  2  no           no         other          NaN                2     9.0                ...   \n",
       "True  False H    False /mnt/b/Google_Drive/PhD/Project with Janet/Labe... 3484    F14    F14    oral tongue              DOD        2009-12-02    2009-09-09         52.0          Died        yes   Y     1.0-F14 NaT                2020-04-21   2b      DOD     PG                 yes            pT3N2bM0         3484        3484           yes         3       1.0 F14      Tumour island               52         2009-01-26   mod  /mnt/b/Google_Drive/PhD/Project with Janet/Kohl... m        m        310 days 2b 3  Yes          yes        tongue         regional & mets    NaN   12.0               ...   \n",
       "\n",
       "                                                                                                                                                                                                                                                                                                                                                                                                                                                                                                                                                                                                                    1762.0  \\\n",
       "2year 5year ASMA Alive Annotation_loc                                     Case ID Core_x Core_y Corrected Site AJCC/UICC DODvsAlive Date of death Date of recurrence Diagnosis Age DiedvsAlive ECS_x ECS_y ID      Last seen/reviewed Last updated N stage OUTCOME OUTCOME.updated by Overall Death  Pathogical Stage Patient nu  Patient_Number Recurrence? T stage TMA TMA site Tissue advancing front type age @ diag date of diag diff envi_loc                                           gender_x gender_y lifespan pN pT radiotherapy recurrence site           site of recurrence stage survival (months)             \n",
       "True  False H    False /mnt/b/Google_Drive/PhD/Project with Janet/Labe... 3251    B1     B1     oral tongue              DOD        2006-07-21    NaT                70.0          Died        yes   Y     2.0-B1  NaT                2020-03-13   1       DOD     FG                 yes            pT4N1M0          3251        3251           no          4       2.0 B1       Tumour islands              70         2006-05-31   mod  /mnt/b/Google_Drive/PhD/Project with Janet/Kohl... m        m        51 days  1  4  no           no         tongue         NaN                4     2.0                0.029220   \n",
       "False False I    False /mnt/b/Google_Drive/PhD/Project with Janet/Labe... 3535    F13    F13    other                    Other      NaT           NaT                57.0          Alive       no    N     1.0-F13 2020-02-05         2020-04-21   0       alive   PG                 no             pT4N0M0          3535        3535           no          4       1.0 F13      Tumour non-cohesive         57         2009-09-03   mod  /mnt/b/Google_Drive/PhD/Project with Janet/Kohl... f        f        NaT      0  4  NaN          no         other          multiple primaries NaN   94.0               0.038022   \n",
       "                       /mnt/b/Google_Drive/PhD/Project with Janet/Labe... 3271    E1     E1     FOM                      Other      NaT           2010-07-23         59.0          Alive       yes   Y     2.0-E1  2010-07-23         2020-04-01   2b      alive   FGD                no             pT4N2bM0         3271        3271           yes         4       2.0 E1       Tumour poorly cohesive      59         2006-09-16   mod  /mnt/b/Google_Drive/PhD/Project with Janet/Kohl... m        m        NaT      2b 4  yes          yes        floor of mouth lung mets          4a    46.0               0.137020   \n",
       "      True  I    False /mnt/b/Google_Drive/PhD/Project with Janet/Labe... 3550    G9     G9     other                    Other      2012-08-15    NaT                61.0          Died        no    N     1.0-G9  NaT                NaT          0       died    CBarry             yes            pT4N0            3550        3550           no          4       1.0 G9       Tumour dyscohesive          61         2009-12-10   mod  /mnt/b/Google_Drive/PhD/Project with Janet/Kohl... m        m        979 days 0  2  no           no         other          NaN                2     9.0               -0.046655   \n",
       "True  False H    False /mnt/b/Google_Drive/PhD/Project with Janet/Labe... 3484    F14    F14    oral tongue              DOD        2009-12-02    2009-09-09         52.0          Died        yes   Y     1.0-F14 NaT                2020-04-21   2b      DOD     PG                 yes            pT3N2bM0         3484        3484           yes         3       1.0 F14      Tumour island               52         2009-01-26   mod  /mnt/b/Google_Drive/PhD/Project with Janet/Kohl... m        m        310 days 2b 3  Yes          yes        tongue         regional & mets    NaN   12.0               0.047096   \n",
       "\n",
       "                                                                                                                                                                                                                                                                                                                                                                                                                                                                                                                                                                                                                    1766.0  \\\n",
       "2year 5year ASMA Alive Annotation_loc                                     Case ID Core_x Core_y Corrected Site AJCC/UICC DODvsAlive Date of death Date of recurrence Diagnosis Age DiedvsAlive ECS_x ECS_y ID      Last seen/reviewed Last updated N stage OUTCOME OUTCOME.updated by Overall Death  Pathogical Stage Patient nu  Patient_Number Recurrence? T stage TMA TMA site Tissue advancing front type age @ diag date of diag diff envi_loc                                           gender_x gender_y lifespan pN pT radiotherapy recurrence site           site of recurrence stage survival (months)             \n",
       "True  False H    False /mnt/b/Google_Drive/PhD/Project with Janet/Labe... 3251    B1     B1     oral tongue              DOD        2006-07-21    NaT                70.0          Died        yes   Y     2.0-B1  NaT                2020-03-13   1       DOD     FG                 yes            pT4N1M0          3251        3251           no          4       2.0 B1       Tumour islands              70         2006-05-31   mod  /mnt/b/Google_Drive/PhD/Project with Janet/Kohl... m        m        51 days  1  4  no           no         tongue         NaN                4     2.0                0.029071   \n",
       "False False I    False /mnt/b/Google_Drive/PhD/Project with Janet/Labe... 3535    F13    F13    other                    Other      NaT           NaT                57.0          Alive       no    N     1.0-F13 2020-02-05         2020-04-21   0       alive   PG                 no             pT4N0M0          3535        3535           no          4       1.0 F13      Tumour non-cohesive         57         2009-09-03   mod  /mnt/b/Google_Drive/PhD/Project with Janet/Kohl... f        f        NaT      0  4  NaN          no         other          multiple primaries NaN   94.0               0.037683   \n",
       "                       /mnt/b/Google_Drive/PhD/Project with Janet/Labe... 3271    E1     E1     FOM                      Other      NaT           2010-07-23         59.0          Alive       yes   Y     2.0-E1  2010-07-23         2020-04-01   2b      alive   FGD                no             pT4N2bM0         3271        3271           yes         4       2.0 E1       Tumour poorly cohesive      59         2006-09-16   mod  /mnt/b/Google_Drive/PhD/Project with Janet/Kohl... m        m        NaT      2b 4  yes          yes        floor of mouth lung mets          4a    46.0               0.136918   \n",
       "      True  I    False /mnt/b/Google_Drive/PhD/Project with Janet/Labe... 3550    G9     G9     other                    Other      2012-08-15    NaT                61.0          Died        no    N     1.0-G9  NaT                NaT          0       died    CBarry             yes            pT4N0            3550        3550           no          4       1.0 G9       Tumour dyscohesive          61         2009-12-10   mod  /mnt/b/Google_Drive/PhD/Project with Janet/Kohl... m        m        979 days 0  2  no           no         other          NaN                2     9.0               -0.046150   \n",
       "True  False H    False /mnt/b/Google_Drive/PhD/Project with Janet/Labe... 3484    F14    F14    oral tongue              DOD        2009-12-02    2009-09-09         52.0          Died        yes   Y     1.0-F14 NaT                2020-04-21   2b      DOD     PG                 yes            pT3N2bM0         3484        3484           yes         3       1.0 F14      Tumour island               52         2009-01-26   mod  /mnt/b/Google_Drive/PhD/Project with Janet/Kohl... m        m        310 days 2b 3  Yes          yes        tongue         regional & mets    NaN   12.0               0.046589   \n",
       "\n",
       "                                                                                                                                                                                                                                                                                                                                                                                                                                                                                                                                                                                                                    1770.0  \\\n",
       "2year 5year ASMA Alive Annotation_loc                                     Case ID Core_x Core_y Corrected Site AJCC/UICC DODvsAlive Date of death Date of recurrence Diagnosis Age DiedvsAlive ECS_x ECS_y ID      Last seen/reviewed Last updated N stage OUTCOME OUTCOME.updated by Overall Death  Pathogical Stage Patient nu  Patient_Number Recurrence? T stage TMA TMA site Tissue advancing front type age @ diag date of diag diff envi_loc                                           gender_x gender_y lifespan pN pT radiotherapy recurrence site           site of recurrence stage survival (months)             \n",
       "True  False H    False /mnt/b/Google_Drive/PhD/Project with Janet/Labe... 3251    B1     B1     oral tongue              DOD        2006-07-21    NaT                70.0          Died        yes   Y     2.0-B1  NaT                2020-03-13   1       DOD     FG                 yes            pT4N1M0          3251        3251           no          4       2.0 B1       Tumour islands              70         2006-05-31   mod  /mnt/b/Google_Drive/PhD/Project with Janet/Kohl... m        m        51 days  1  4  no           no         tongue         NaN                4     2.0                0.029391   \n",
       "False False I    False /mnt/b/Google_Drive/PhD/Project with Janet/Labe... 3535    F13    F13    other                    Other      NaT           NaT                57.0          Alive       no    N     1.0-F13 2020-02-05         2020-04-21   0       alive   PG                 no             pT4N0M0          3535        3535           no          4       1.0 F13      Tumour non-cohesive         57         2009-09-03   mod  /mnt/b/Google_Drive/PhD/Project with Janet/Kohl... f        f        NaT      0  4  NaN          no         other          multiple primaries NaN   94.0               0.037317   \n",
       "                       /mnt/b/Google_Drive/PhD/Project with Janet/Labe... 3271    E1     E1     FOM                      Other      NaT           2010-07-23         59.0          Alive       yes   Y     2.0-E1  2010-07-23         2020-04-01   2b      alive   FGD                no             pT4N2bM0         3271        3271           yes         4       2.0 E1       Tumour poorly cohesive      59         2006-09-16   mod  /mnt/b/Google_Drive/PhD/Project with Janet/Kohl... m        m        NaT      2b 4  yes          yes        floor of mouth lung mets          4a    46.0               0.137163   \n",
       "      True  I    False /mnt/b/Google_Drive/PhD/Project with Janet/Labe... 3550    G9     G9     other                    Other      2012-08-15    NaT                61.0          Died        no    N     1.0-G9  NaT                NaT          0       died    CBarry             yes            pT4N0            3550        3550           no          4       1.0 G9       Tumour dyscohesive          61         2009-12-10   mod  /mnt/b/Google_Drive/PhD/Project with Janet/Kohl... m        m        979 days 0  2  no           no         other          NaN                2     9.0               -0.045326   \n",
       "True  False H    False /mnt/b/Google_Drive/PhD/Project with Janet/Labe... 3484    F14    F14    oral tongue              DOD        2009-12-02    2009-09-09         52.0          Died        yes   Y     1.0-F14 NaT                2020-04-21   2b      DOD     PG                 yes            pT3N2bM0         3484        3484           yes         3       1.0 F14      Tumour island               52         2009-01-26   mod  /mnt/b/Google_Drive/PhD/Project with Janet/Kohl... m        m        310 days 2b 3  Yes          yes        tongue         regional & mets    NaN   12.0               0.046545   \n",
       "\n",
       "                                                                                                                                                                                                                                                                                                                                                                                                                                                                                                                                                                                                                    1774.0  \\\n",
       "2year 5year ASMA Alive Annotation_loc                                     Case ID Core_x Core_y Corrected Site AJCC/UICC DODvsAlive Date of death Date of recurrence Diagnosis Age DiedvsAlive ECS_x ECS_y ID      Last seen/reviewed Last updated N stage OUTCOME OUTCOME.updated by Overall Death  Pathogical Stage Patient nu  Patient_Number Recurrence? T stage TMA TMA site Tissue advancing front type age @ diag date of diag diff envi_loc                                           gender_x gender_y lifespan pN pT radiotherapy recurrence site           site of recurrence stage survival (months)             \n",
       "True  False H    False /mnt/b/Google_Drive/PhD/Project with Janet/Labe... 3251    B1     B1     oral tongue              DOD        2006-07-21    NaT                70.0          Died        yes   Y     2.0-B1  NaT                2020-03-13   1       DOD     FG                 yes            pT4N1M0          3251        3251           no          4       2.0 B1       Tumour islands              70         2006-05-31   mod  /mnt/b/Google_Drive/PhD/Project with Janet/Kohl... m        m        51 days  1  4  no           no         tongue         NaN                4     2.0                0.029930   \n",
       "False False I    False /mnt/b/Google_Drive/PhD/Project with Janet/Labe... 3535    F13    F13    other                    Other      NaT           NaT                57.0          Alive       no    N     1.0-F13 2020-02-05         2020-04-21   0       alive   PG                 no             pT4N0M0          3535        3535           no          4       1.0 F13      Tumour non-cohesive         57         2009-09-03   mod  /mnt/b/Google_Drive/PhD/Project with Janet/Kohl... f        f        NaT      0  4  NaN          no         other          multiple primaries NaN   94.0               0.037059   \n",
       "                       /mnt/b/Google_Drive/PhD/Project with Janet/Labe... 3271    E1     E1     FOM                      Other      NaT           2010-07-23         59.0          Alive       yes   Y     2.0-E1  2010-07-23         2020-04-01   2b      alive   FGD                no             pT4N2bM0         3271        3271           yes         4       2.0 E1       Tumour poorly cohesive      59         2006-09-16   mod  /mnt/b/Google_Drive/PhD/Project with Janet/Kohl... m        m        NaT      2b 4  yes          yes        floor of mouth lung mets          4a    46.0               0.137453   \n",
       "      True  I    False /mnt/b/Google_Drive/PhD/Project with Janet/Labe... 3550    G9     G9     other                    Other      2012-08-15    NaT                61.0          Died        no    N     1.0-G9  NaT                NaT          0       died    CBarry             yes            pT4N0            3550        3550           no          4       1.0 G9       Tumour dyscohesive          61         2009-12-10   mod  /mnt/b/Google_Drive/PhD/Project with Janet/Kohl... m        m        979 days 0  2  no           no         other          NaN                2     9.0               -0.044468   \n",
       "True  False H    False /mnt/b/Google_Drive/PhD/Project with Janet/Labe... 3484    F14    F14    oral tongue              DOD        2009-12-02    2009-09-09         52.0          Died        yes   Y     1.0-F14 NaT                2020-04-21   2b      DOD     PG                 yes            pT3N2bM0         3484        3484           yes         3       1.0 F14      Tumour island               52         2009-01-26   mod  /mnt/b/Google_Drive/PhD/Project with Janet/Kohl... m        m        310 days 2b 3  Yes          yes        tongue         regional & mets    NaN   12.0               0.046791   \n",
       "\n",
       "                                                                                                                                                                                                                                                                                                                                                                                                                                                                                                                                                                                                                    1778.0  \\\n",
       "2year 5year ASMA Alive Annotation_loc                                     Case ID Core_x Core_y Corrected Site AJCC/UICC DODvsAlive Date of death Date of recurrence Diagnosis Age DiedvsAlive ECS_x ECS_y ID      Last seen/reviewed Last updated N stage OUTCOME OUTCOME.updated by Overall Death  Pathogical Stage Patient nu  Patient_Number Recurrence? T stage TMA TMA site Tissue advancing front type age @ diag date of diag diff envi_loc                                           gender_x gender_y lifespan pN pT radiotherapy recurrence site           site of recurrence stage survival (months)             \n",
       "True  False H    False /mnt/b/Google_Drive/PhD/Project with Janet/Labe... 3251    B1     B1     oral tongue              DOD        2006-07-21    NaT                70.0          Died        yes   Y     2.0-B1  NaT                2020-03-13   1       DOD     FG                 yes            pT4N1M0          3251        3251           no          4       2.0 B1       Tumour islands              70         2006-05-31   mod  /mnt/b/Google_Drive/PhD/Project with Janet/Kohl... m        m        51 days  1  4  no           no         tongue         NaN                4     2.0                0.030344   \n",
       "False False I    False /mnt/b/Google_Drive/PhD/Project with Janet/Labe... 3535    F13    F13    other                    Other      NaT           NaT                57.0          Alive       no    N     1.0-F13 2020-02-05         2020-04-21   0       alive   PG                 no             pT4N0M0          3535        3535           no          4       1.0 F13      Tumour non-cohesive         57         2009-09-03   mod  /mnt/b/Google_Drive/PhD/Project with Janet/Kohl... f        f        NaT      0  4  NaN          no         other          multiple primaries NaN   94.0               0.036845   \n",
       "                       /mnt/b/Google_Drive/PhD/Project with Janet/Labe... 3271    E1     E1     FOM                      Other      NaT           2010-07-23         59.0          Alive       yes   Y     2.0-E1  2010-07-23         2020-04-01   2b      alive   FGD                no             pT4N2bM0         3271        3271           yes         4       2.0 E1       Tumour poorly cohesive      59         2006-09-16   mod  /mnt/b/Google_Drive/PhD/Project with Janet/Kohl... m        m        NaT      2b 4  yes          yes        floor of mouth lung mets          4a    46.0               0.137672   \n",
       "      True  I    False /mnt/b/Google_Drive/PhD/Project with Janet/Labe... 3550    G9     G9     other                    Other      2012-08-15    NaT                61.0          Died        no    N     1.0-G9  NaT                NaT          0       died    CBarry             yes            pT4N0            3550        3550           no          4       1.0 G9       Tumour dyscohesive          61         2009-12-10   mod  /mnt/b/Google_Drive/PhD/Project with Janet/Kohl... m        m        979 days 0  2  no           no         other          NaN                2     9.0               -0.044010   \n",
       "True  False H    False /mnt/b/Google_Drive/PhD/Project with Janet/Labe... 3484    F14    F14    oral tongue              DOD        2009-12-02    2009-09-09         52.0          Died        yes   Y     1.0-F14 NaT                2020-04-21   2b      DOD     PG                 yes            pT3N2bM0         3484        3484           yes         3       1.0 F14      Tumour island               52         2009-01-26   mod  /mnt/b/Google_Drive/PhD/Project with Janet/Kohl... m        m        310 days 2b 3  Yes          yes        tongue         regional & mets    NaN   12.0               0.046884   \n",
       "\n",
       "                                                                                                                                                                                                                                                                                                                                                                                                                                                                                                                                                                                                                    1781.0  \\\n",
       "2year 5year ASMA Alive Annotation_loc                                     Case ID Core_x Core_y Corrected Site AJCC/UICC DODvsAlive Date of death Date of recurrence Diagnosis Age DiedvsAlive ECS_x ECS_y ID      Last seen/reviewed Last updated N stage OUTCOME OUTCOME.updated by Overall Death  Pathogical Stage Patient nu  Patient_Number Recurrence? T stage TMA TMA site Tissue advancing front type age @ diag date of diag diff envi_loc                                           gender_x gender_y lifespan pN pT radiotherapy recurrence site           site of recurrence stage survival (months)             \n",
       "True  False H    False /mnt/b/Google_Drive/PhD/Project with Janet/Labe... 3251    B1     B1     oral tongue              DOD        2006-07-21    NaT                70.0          Died        yes   Y     2.0-B1  NaT                2020-03-13   1       DOD     FG                 yes            pT4N1M0          3251        3251           no          4       2.0 B1       Tumour islands              70         2006-05-31   mod  /mnt/b/Google_Drive/PhD/Project with Janet/Kohl... m        m        51 days  1  4  no           no         tongue         NaN                4     2.0                0.030834   \n",
       "False False I    False /mnt/b/Google_Drive/PhD/Project with Janet/Labe... 3535    F13    F13    other                    Other      NaT           NaT                57.0          Alive       no    N     1.0-F13 2020-02-05         2020-04-21   0       alive   PG                 no             pT4N0M0          3535        3535           no          4       1.0 F13      Tumour non-cohesive         57         2009-09-03   mod  /mnt/b/Google_Drive/PhD/Project with Janet/Kohl... f        f        NaT      0  4  NaN          no         other          multiple primaries NaN   94.0               0.037041   \n",
       "                       /mnt/b/Google_Drive/PhD/Project with Janet/Labe... 3271    E1     E1     FOM                      Other      NaT           2010-07-23         59.0          Alive       yes   Y     2.0-E1  2010-07-23         2020-04-01   2b      alive   FGD                no             pT4N2bM0         3271        3271           yes         4       2.0 E1       Tumour poorly cohesive      59         2006-09-16   mod  /mnt/b/Google_Drive/PhD/Project with Janet/Kohl... m        m        NaT      2b 4  yes          yes        floor of mouth lung mets          4a    46.0               0.138174   \n",
       "      True  I    False /mnt/b/Google_Drive/PhD/Project with Janet/Labe... 3550    G9     G9     other                    Other      2012-08-15    NaT                61.0          Died        no    N     1.0-G9  NaT                NaT          0       died    CBarry             yes            pT4N0            3550        3550           no          4       1.0 G9       Tumour dyscohesive          61         2009-12-10   mod  /mnt/b/Google_Drive/PhD/Project with Janet/Kohl... m        m        979 days 0  2  no           no         other          NaN                2     9.0               -0.043227   \n",
       "True  False H    False /mnt/b/Google_Drive/PhD/Project with Janet/Labe... 3484    F14    F14    oral tongue              DOD        2009-12-02    2009-09-09         52.0          Died        yes   Y     1.0-F14 NaT                2020-04-21   2b      DOD     PG                 yes            pT3N2bM0         3484        3484           yes         3       1.0 F14      Tumour island               52         2009-01-26   mod  /mnt/b/Google_Drive/PhD/Project with Janet/Kohl... m        m        310 days 2b 3  Yes          yes        tongue         regional & mets    NaN   12.0               0.046923   \n",
       "\n",
       "                                                                                                                                                                                                                                                                                                                                                                                                                                                                                                                                                                                                                    1785.0  \\\n",
       "2year 5year ASMA Alive Annotation_loc                                     Case ID Core_x Core_y Corrected Site AJCC/UICC DODvsAlive Date of death Date of recurrence Diagnosis Age DiedvsAlive ECS_x ECS_y ID      Last seen/reviewed Last updated N stage OUTCOME OUTCOME.updated by Overall Death  Pathogical Stage Patient nu  Patient_Number Recurrence? T stage TMA TMA site Tissue advancing front type age @ diag date of diag diff envi_loc                                           gender_x gender_y lifespan pN pT radiotherapy recurrence site           site of recurrence stage survival (months)             \n",
       "True  False H    False /mnt/b/Google_Drive/PhD/Project with Janet/Labe... 3251    B1     B1     oral tongue              DOD        2006-07-21    NaT                70.0          Died        yes   Y     2.0-B1  NaT                2020-03-13   1       DOD     FG                 yes            pT4N1M0          3251        3251           no          4       2.0 B1       Tumour islands              70         2006-05-31   mod  /mnt/b/Google_Drive/PhD/Project with Janet/Kohl... m        m        51 days  1  4  no           no         tongue         NaN                4     2.0                0.031269   \n",
       "False False I    False /mnt/b/Google_Drive/PhD/Project with Janet/Labe... 3535    F13    F13    other                    Other      NaT           NaT                57.0          Alive       no    N     1.0-F13 2020-02-05         2020-04-21   0       alive   PG                 no             pT4N0M0          3535        3535           no          4       1.0 F13      Tumour non-cohesive         57         2009-09-03   mod  /mnt/b/Google_Drive/PhD/Project with Janet/Kohl... f        f        NaT      0  4  NaN          no         other          multiple primaries NaN   94.0               0.037474   \n",
       "                       /mnt/b/Google_Drive/PhD/Project with Janet/Labe... 3271    E1     E1     FOM                      Other      NaT           2010-07-23         59.0          Alive       yes   Y     2.0-E1  2010-07-23         2020-04-01   2b      alive   FGD                no             pT4N2bM0         3271        3271           yes         4       2.0 E1       Tumour poorly cohesive      59         2006-09-16   mod  /mnt/b/Google_Drive/PhD/Project with Janet/Kohl... m        m        NaT      2b 4  yes          yes        floor of mouth lung mets          4a    46.0               0.138986   \n",
       "      True  I    False /mnt/b/Google_Drive/PhD/Project with Janet/Labe... 3550    G9     G9     other                    Other      2012-08-15    NaT                61.0          Died        no    N     1.0-G9  NaT                NaT          0       died    CBarry             yes            pT4N0            3550        3550           no          4       1.0 G9       Tumour dyscohesive          61         2009-12-10   mod  /mnt/b/Google_Drive/PhD/Project with Janet/Kohl... m        m        979 days 0  2  no           no         other          NaN                2     9.0               -0.042190   \n",
       "True  False H    False /mnt/b/Google_Drive/PhD/Project with Janet/Labe... 3484    F14    F14    oral tongue              DOD        2009-12-02    2009-09-09         52.0          Died        yes   Y     1.0-F14 NaT                2020-04-21   2b      DOD     PG                 yes            pT3N2bM0         3484        3484           yes         3       1.0 F14      Tumour island               52         2009-01-26   mod  /mnt/b/Google_Drive/PhD/Project with Janet/Kohl... m        m        310 days 2b 3  Yes          yes        tongue         regional & mets    NaN   12.0               0.046761   \n",
       "\n",
       "                                                                                                                                                                                                                                                                                                                                                                                                                                                                                                                                                                                                                    1789.0  \\\n",
       "2year 5year ASMA Alive Annotation_loc                                     Case ID Core_x Core_y Corrected Site AJCC/UICC DODvsAlive Date of death Date of recurrence Diagnosis Age DiedvsAlive ECS_x ECS_y ID      Last seen/reviewed Last updated N stage OUTCOME OUTCOME.updated by Overall Death  Pathogical Stage Patient nu  Patient_Number Recurrence? T stage TMA TMA site Tissue advancing front type age @ diag date of diag diff envi_loc                                           gender_x gender_y lifespan pN pT radiotherapy recurrence site           site of recurrence stage survival (months)             \n",
       "True  False H    False /mnt/b/Google_Drive/PhD/Project with Janet/Labe... 3251    B1     B1     oral tongue              DOD        2006-07-21    NaT                70.0          Died        yes   Y     2.0-B1  NaT                2020-03-13   1       DOD     FG                 yes            pT4N1M0          3251        3251           no          4       2.0 B1       Tumour islands              70         2006-05-31   mod  /mnt/b/Google_Drive/PhD/Project with Janet/Kohl... m        m        51 days  1  4  no           no         tongue         NaN                4     2.0                0.031601   \n",
       "False False I    False /mnt/b/Google_Drive/PhD/Project with Janet/Labe... 3535    F13    F13    other                    Other      NaT           NaT                57.0          Alive       no    N     1.0-F13 2020-02-05         2020-04-21   0       alive   PG                 no             pT4N0M0          3535        3535           no          4       1.0 F13      Tumour non-cohesive         57         2009-09-03   mod  /mnt/b/Google_Drive/PhD/Project with Janet/Kohl... f        f        NaT      0  4  NaN          no         other          multiple primaries NaN   94.0               0.038039   \n",
       "                       /mnt/b/Google_Drive/PhD/Project with Janet/Labe... 3271    E1     E1     FOM                      Other      NaT           2010-07-23         59.0          Alive       yes   Y     2.0-E1  2010-07-23         2020-04-01   2b      alive   FGD                no             pT4N2bM0         3271        3271           yes         4       2.0 E1       Tumour poorly cohesive      59         2006-09-16   mod  /mnt/b/Google_Drive/PhD/Project with Janet/Kohl... m        m        NaT      2b 4  yes          yes        floor of mouth lung mets          4a    46.0               0.139888   \n",
       "      True  I    False /mnt/b/Google_Drive/PhD/Project with Janet/Labe... 3550    G9     G9     other                    Other      2012-08-15    NaT                61.0          Died        no    N     1.0-G9  NaT                NaT          0       died    CBarry             yes            pT4N0            3550        3550           no          4       1.0 G9       Tumour dyscohesive          61         2009-12-10   mod  /mnt/b/Google_Drive/PhD/Project with Janet/Kohl... m        m        979 days 0  2  no           no         other          NaN                2     9.0               -0.040749   \n",
       "True  False H    False /mnt/b/Google_Drive/PhD/Project with Janet/Labe... 3484    F14    F14    oral tongue              DOD        2009-12-02    2009-09-09         52.0          Died        yes   Y     1.0-F14 NaT                2020-04-21   2b      DOD     PG                 yes            pT3N2bM0         3484        3484           yes         3       1.0 F14      Tumour island               52         2009-01-26   mod  /mnt/b/Google_Drive/PhD/Project with Janet/Kohl... m        m        310 days 2b 3  Yes          yes        tongue         regional & mets    NaN   12.0               0.046513   \n",
       "\n",
       "                                                                                                                                                                                                                                                                                                                                                                                                                                                                                                                                                                                                                    1793.0  \\\n",
       "2year 5year ASMA Alive Annotation_loc                                     Case ID Core_x Core_y Corrected Site AJCC/UICC DODvsAlive Date of death Date of recurrence Diagnosis Age DiedvsAlive ECS_x ECS_y ID      Last seen/reviewed Last updated N stage OUTCOME OUTCOME.updated by Overall Death  Pathogical Stage Patient nu  Patient_Number Recurrence? T stage TMA TMA site Tissue advancing front type age @ diag date of diag diff envi_loc                                           gender_x gender_y lifespan pN pT radiotherapy recurrence site           site of recurrence stage survival (months)             \n",
       "True  False H    False /mnt/b/Google_Drive/PhD/Project with Janet/Labe... 3251    B1     B1     oral tongue              DOD        2006-07-21    NaT                70.0          Died        yes   Y     2.0-B1  NaT                2020-03-13   1       DOD     FG                 yes            pT4N1M0          3251        3251           no          4       2.0 B1       Tumour islands              70         2006-05-31   mod  /mnt/b/Google_Drive/PhD/Project with Janet/Kohl... m        m        51 days  1  4  no           no         tongue         NaN                4     2.0                0.031735   \n",
       "False False I    False /mnt/b/Google_Drive/PhD/Project with Janet/Labe... 3535    F13    F13    other                    Other      NaT           NaT                57.0          Alive       no    N     1.0-F13 2020-02-05         2020-04-21   0       alive   PG                 no             pT4N0M0          3535        3535           no          4       1.0 F13      Tumour non-cohesive         57         2009-09-03   mod  /mnt/b/Google_Drive/PhD/Project with Janet/Kohl... f        f        NaT      0  4  NaN          no         other          multiple primaries NaN   94.0               0.038769   \n",
       "                       /mnt/b/Google_Drive/PhD/Project with Janet/Labe... 3271    E1     E1     FOM                      Other      NaT           2010-07-23         59.0          Alive       yes   Y     2.0-E1  2010-07-23         2020-04-01   2b      alive   FGD                no             pT4N2bM0         3271        3271           yes         4       2.0 E1       Tumour poorly cohesive      59         2006-09-16   mod  /mnt/b/Google_Drive/PhD/Project with Janet/Kohl... m        m        NaT      2b 4  yes          yes        floor of mouth lung mets          4a    46.0               0.140467   \n",
       "      True  I    False /mnt/b/Google_Drive/PhD/Project with Janet/Labe... 3550    G9     G9     other                    Other      2012-08-15    NaT                61.0          Died        no    N     1.0-G9  NaT                NaT          0       died    CBarry             yes            pT4N0            3550        3550           no          4       1.0 G9       Tumour dyscohesive          61         2009-12-10   mod  /mnt/b/Google_Drive/PhD/Project with Janet/Kohl... m        m        979 days 0  2  no           no         other          NaN                2     9.0               -0.039397   \n",
       "True  False H    False /mnt/b/Google_Drive/PhD/Project with Janet/Labe... 3484    F14    F14    oral tongue              DOD        2009-12-02    2009-09-09         52.0          Died        yes   Y     1.0-F14 NaT                2020-04-21   2b      DOD     PG                 yes            pT3N2bM0         3484        3484           yes         3       1.0 F14      Tumour island               52         2009-01-26   mod  /mnt/b/Google_Drive/PhD/Project with Janet/Kohl... m        m        310 days 2b 3  Yes          yes        tongue         regional & mets    NaN   12.0               0.046367   \n",
       "\n",
       "                                                                                                                                                                                                                                                                                                                                                                                                                                                                                                                                                                                                                    1797.0  \n",
       "2year 5year ASMA Alive Annotation_loc                                     Case ID Core_x Core_y Corrected Site AJCC/UICC DODvsAlive Date of death Date of recurrence Diagnosis Age DiedvsAlive ECS_x ECS_y ID      Last seen/reviewed Last updated N stage OUTCOME OUTCOME.updated by Overall Death  Pathogical Stage Patient nu  Patient_Number Recurrence? T stage TMA TMA site Tissue advancing front type age @ diag date of diag diff envi_loc                                           gender_x gender_y lifespan pN pT radiotherapy recurrence site           site of recurrence stage survival (months)            \n",
       "True  False H    False /mnt/b/Google_Drive/PhD/Project with Janet/Labe... 3251    B1     B1     oral tongue              DOD        2006-07-21    NaT                70.0          Died        yes   Y     2.0-B1  NaT                2020-03-13   1       DOD     FG                 yes            pT4N1M0          3251        3251           no          4       2.0 B1       Tumour islands              70         2006-05-31   mod  /mnt/b/Google_Drive/PhD/Project with Janet/Kohl... m        m        51 days  1  4  no           no         tongue         NaN                4     2.0                0.031881  \n",
       "False False I    False /mnt/b/Google_Drive/PhD/Project with Janet/Labe... 3535    F13    F13    other                    Other      NaT           NaT                57.0          Alive       no    N     1.0-F13 2020-02-05         2020-04-21   0       alive   PG                 no             pT4N0M0          3535        3535           no          4       1.0 F13      Tumour non-cohesive         57         2009-09-03   mod  /mnt/b/Google_Drive/PhD/Project with Janet/Kohl... f        f        NaT      0  4  NaN          no         other          multiple primaries NaN   94.0               0.039476  \n",
       "                       /mnt/b/Google_Drive/PhD/Project with Janet/Labe... 3271    E1     E1     FOM                      Other      NaT           2010-07-23         59.0          Alive       yes   Y     2.0-E1  2010-07-23         2020-04-01   2b      alive   FGD                no             pT4N2bM0         3271        3271           yes         4       2.0 E1       Tumour poorly cohesive      59         2006-09-16   mod  /mnt/b/Google_Drive/PhD/Project with Janet/Kohl... m        m        NaT      2b 4  yes          yes        floor of mouth lung mets          4a    46.0               0.141035  \n",
       "      True  I    False /mnt/b/Google_Drive/PhD/Project with Janet/Labe... 3550    G9     G9     other                    Other      2012-08-15    NaT                61.0          Died        no    N     1.0-G9  NaT                NaT          0       died    CBarry             yes            pT4N0            3550        3550           no          4       1.0 G9       Tumour dyscohesive          61         2009-12-10   mod  /mnt/b/Google_Drive/PhD/Project with Janet/Kohl... m        m        979 days 0  2  no           no         other          NaN                2     9.0               -0.038202  \n",
       "True  False H    False /mnt/b/Google_Drive/PhD/Project with Janet/Labe... 3484    F14    F14    oral tongue              DOD        2009-12-02    2009-09-09         52.0          Died        yes   Y     1.0-F14 NaT                2020-04-21   2b      DOD     PG                 yes            pT3N2bM0         3484        3484           yes         3       1.0 F14      Tumour island               52         2009-01-26   mod  /mnt/b/Google_Drive/PhD/Project with Janet/Kohl... m        m        310 days 2b 3  Yes          yes        tongue         regional & mets    NaN   12.0               0.046429  \n",
       "\n",
       "[5 rows x 169 columns]"
      ]
     },
     "execution_count": 17,
     "metadata": {},
     "output_type": "execute_result"
    }
   ],
   "source": [
    "total.sample(5)"
   ]
  },
  {
   "cell_type": "code",
   "execution_count": 18,
   "metadata": {},
   "outputs": [
    {
     "data": {
      "image/png": "[encoded data removed]",
      "text/plain": [
       "<Figure size 432x288 with 1 Axes>"
      ]
     },
     "metadata": {
      "needs_background": "light"
     },
     "output_type": "display_data"
    }
   ],
   "source": [
    "fig, axes = plt.subplots(nrows = 1, figsize = (6,4), sharex = True)\n",
    "\n",
    "total.groupby(\"2year\").mean().T.plot(ax = axes)\n",
    "axes.set_xlabel(\"Wavenumber $(cm^{-1})$\")\n",
    "axes.set_ylabel(\"Absorbance (a.u)\")\n",
    "fig.savefig(os.getcwd()+ \"/Plots/Mean_ECS_Spectra.png\", bbox_inches = 'tight')"
   ]
  },
  {
   "cell_type": "code",
   "execution_count": 19,
   "metadata": {},
   "outputs": [],
   "source": [
    "pcapipe = Pipeline([\n",
    "    (\"Normalise spectra\", FunctionTransformer(robust_scale, kw_args = {\"axis\": 1})),\n",
    "    (\"Scaler\", RobustScaler()),\n",
    "    (\"PCA\", PCA())\n",
    "])"
   ]
  },
  {
   "cell_type": "code",
   "execution_count": 20,
   "metadata": {},
   "outputs": [],
   "source": [
    "n = total.reset_index()[\"Patient_Number\"].value_counts().min()\n",
    "total_ = total.groupby(\"Patient_Number\", group_keys=False).apply(lambda g: g.sample(n))"
   ]
  },
  {
   "cell_type": "code",
   "execution_count": 21,
   "metadata": {},
   "outputs": [
    {
     "data": {
      "text/plain": [
       "Text(0, 0.5, 'N patients')"
      ]
     },
     "execution_count": 21,
     "metadata": {},
     "output_type": "execute_result"
    },
    {
     "data": {
      "image/png": "[encoded data removed]",
      "text/plain": [
       "<Figure size 432x288 with 1 Axes>"
      ]
     },
     "metadata": {
      "needs_background": "light"
     },
     "output_type": "display_data"
    }
   ],
   "source": [
    "ax = pd.crosstab(new_metadata[\"ASMA\"], new_metadata[\"2year\"]).plot.bar()\n",
    "ax.set_ylabel(\"N patients\")"
   ]
  },
  {
   "cell_type": "code",
   "execution_count": 22,
   "metadata": {},
   "outputs": [
    {
     "data": {
      "text/plain": [
       "Text(0, 0.5, 'N patients')"
      ]
     },
     "execution_count": 22,
     "metadata": {},
     "output_type": "execute_result"
    },
    {
     "data": {
      "image/png": "[encoded data removed]",
      "text/plain": [
       "<Figure size 432x288 with 1 Axes>"
      ]
     },
     "metadata": {
      "needs_background": "light"
     },
     "output_type": "display_data"
    }
   ],
   "source": [
    "ax = pd.crosstab(new_metadata[\"ASMA\"], new_metadata[\"DiedvsAlive\"]).plot.bar()\n",
    "ax.set_ylabel(\"N patients\")"
   ]
  },
  {
   "cell_type": "code",
   "execution_count": 47,
   "metadata": {},
   "outputs": [],
   "source": [
    "numeric_features = np.arange(2, len(total.columns)+1)\n",
    "categorical_features = [0,1]\n",
    "\n",
    "numeric_pipe = Pipeline([\n",
    "(\"Normalise spectra\", FunctionTransformer(robust_scale, kw_args = {\"axis\": 1})),\n",
    "(\"Scaler\", RobustScaler()),\n",
    "(\"Scaler1\", StandardScaler()),\n",
    "(\"PCA\", PCA()),\n",
    "(\"LDA\", LinearDiscriminantAnalysis(n_components=1))\n",
    "])\n",
    "\n",
    "categorical_pipe = Pipeline([\n",
    "    (\"OneHot\", OneHotEncoder())\n",
    "])\n",
    "\n",
    "preprocessing = ColumnTransformer(\n",
    "    [(\"Numerical\", numeric_pipe, numeric_features),\n",
    "     (\"Categorical\", categorical_pipe, categorical_features)])\n",
    "\n",
    "pipe = Pipeline([\n",
    "    (\"Preprocessing\", preprocessing),\n",
    "])"
   ]
  },
  {
   "cell_type": "code",
   "execution_count": 48,
   "metadata": {},
   "outputs": [],
   "source": [
    "sample = total.copy().sample(frac = 0.1)\n",
    "\n",
    "tf = pd.DataFrame(numeric_pipe.fit_transform(sample, sample.reset_index()[\"2year\"]), index = sample.index)"
   ]
  },
  {
   "cell_type": "code",
   "execution_count": 51,
   "metadata": {},
   "outputs": [
    {
     "data": {
      "text/plain": [
       "<matplotlib.legend.Legend at 0x7f5bffc4deb0>"
      ]
     },
     "execution_count": 51,
     "metadata": {},
     "output_type": "execute_result"
    },
    {
     "data": {
      "image/png": "[encoded data removed]",
      "text/plain": [
       "<Figure size 432x288 with 1 Axes>"
      ]
     },
     "metadata": {
      "needs_background": "light"
     },
     "output_type": "display_data"
    }
   ],
   "source": [
    "fig, ax = plt.subplots(1)\n",
    "\n",
    "for name, df in tf.groupby(\"2year\"):\n",
    "    \n",
    "    dfs=df.sample(frac=0.05)\n",
    "    \n",
    "    ax.hist(dfs.T, label=name)\n",
    "    \n",
    "plt.legend()"
   ]
  },
  {
   "cell_type": "code",
   "execution_count": 87,
   "metadata": {},
   "outputs": [
    {
     "data": {
      "text/plain": [
       "<matplotlib.legend.Legend at 0x7f5bfda467f0>"
      ]
     },
     "execution_count": 87,
     "metadata": {},
     "output_type": "execute_result"
    },
    {
     "data": {
      "image/png": "[encoded data removed]",
      "text/plain": [
       "<Figure size 432x288 with 1 Axes>"
      ]
     },
     "metadata": {
      "needs_background": "light"
     },
     "output_type": "display_data"
    }
   ],
   "source": [
    "fig, ax = plt.subplots(1)\n",
    "\n",
    "for name, df in tf.groupby(\"DODvsAlive\"):\n",
    "    \n",
    "    dfs=df.sample(frac=0.05)\n",
    "    \n",
    "    ax.hist(dfs.T, label=name, bins=20, histtype=\"step\")\n",
    "    \n",
    "plt.legend()"
   ]
  },
  {
   "cell_type": "code",
   "execution_count": 49,
   "metadata": {},
   "outputs": [
    {
     "ename": "KeyError",
     "evalue": "1",
     "output_type": "error",
     "traceback": [
      "\u001b[0;31m---------------------------------------------------------------------------\u001b[0m",
      "\u001b[0;31mValueError\u001b[0m                                Traceback (most recent call last)",
      "\u001b[0;32m~/miniconda3/envs/PHD/lib/python3.8/site-packages/pandas/core/indexes/range.py\u001b[0m in \u001b[0;36mget_loc\u001b[0;34m(self, key, method, tolerance)\u001b[0m\n\u001b[1;32m    349\u001b[0m             \u001b[0;32mtry\u001b[0m\u001b[0;34m:\u001b[0m\u001b[0;34m\u001b[0m\u001b[0;34m\u001b[0m\u001b[0m\n\u001b[0;32m--> 350\u001b[0;31m                 \u001b[0;32mreturn\u001b[0m \u001b[0mself\u001b[0m\u001b[0;34m.\u001b[0m\u001b[0m_range\u001b[0m\u001b[0;34m.\u001b[0m\u001b[0mindex\u001b[0m\u001b[0;34m(\u001b[0m\u001b[0mnew_key\u001b[0m\u001b[0;34m)\u001b[0m\u001b[0;34m\u001b[0m\u001b[0;34m\u001b[0m\u001b[0m\n\u001b[0m\u001b[1;32m    351\u001b[0m             \u001b[0;32mexcept\u001b[0m \u001b[0mValueError\u001b[0m\u001b[0;34m:\u001b[0m\u001b[0;34m\u001b[0m\u001b[0;34m\u001b[0m\u001b[0m\n",
      "\u001b[0;31mValueError\u001b[0m: 1 is not in range",
      "\nDuring handling of the above exception, another exception occurred:\n",
      "\u001b[0;31mKeyError\u001b[0m                                  Traceback (most recent call last)",
      "\u001b[0;32m<ipython-input-49-1195ec7d5647>\u001b[0m in \u001b[0;36m<module>\u001b[0;34m\u001b[0m\n\u001b[1;32m      5\u001b[0m     \u001b[0mdfs\u001b[0m\u001b[0;34m=\u001b[0m\u001b[0mdf\u001b[0m\u001b[0;34m.\u001b[0m\u001b[0msample\u001b[0m\u001b[0;34m(\u001b[0m\u001b[0mfrac\u001b[0m\u001b[0;34m=\u001b[0m\u001b[0;36m0.05\u001b[0m\u001b[0;34m)\u001b[0m\u001b[0;34m\u001b[0m\u001b[0;34m\u001b[0m\u001b[0m\n\u001b[1;32m      6\u001b[0m \u001b[0;34m\u001b[0m\u001b[0m\n\u001b[0;32m----> 7\u001b[0;31m     \u001b[0max\u001b[0m\u001b[0;34m.\u001b[0m\u001b[0mscatter\u001b[0m\u001b[0;34m(\u001b[0m\u001b[0mdfs\u001b[0m\u001b[0;34m[\u001b[0m\u001b[0;36m0\u001b[0m\u001b[0;34m]\u001b[0m\u001b[0;34m,\u001b[0m \u001b[0mdfs\u001b[0m\u001b[0;34m[\u001b[0m\u001b[0;36m1\u001b[0m\u001b[0;34m]\u001b[0m\u001b[0;34m,\u001b[0m \u001b[0mlabel\u001b[0m\u001b[0;34m=\u001b[0m\u001b[0mname\u001b[0m\u001b[0;34m)\u001b[0m\u001b[0;34m\u001b[0m\u001b[0;34m\u001b[0m\u001b[0m\n\u001b[0m\u001b[1;32m      8\u001b[0m \u001b[0;34m\u001b[0m\u001b[0m\n\u001b[1;32m      9\u001b[0m \u001b[0mplt\u001b[0m\u001b[0;34m.\u001b[0m\u001b[0mlegend\u001b[0m\u001b[0;34m(\u001b[0m\u001b[0;34m)\u001b[0m\u001b[0;34m\u001b[0m\u001b[0;34m\u001b[0m\u001b[0m\n",
      "\u001b[0;32m~/miniconda3/envs/PHD/lib/python3.8/site-packages/pandas/core/frame.py\u001b[0m in \u001b[0;36m__getitem__\u001b[0;34m(self, key)\u001b[0m\n\u001b[1;32m   2798\u001b[0m             \u001b[0;32mif\u001b[0m \u001b[0mself\u001b[0m\u001b[0;34m.\u001b[0m\u001b[0mcolumns\u001b[0m\u001b[0;34m.\u001b[0m\u001b[0mnlevels\u001b[0m \u001b[0;34m>\u001b[0m \u001b[0;36m1\u001b[0m\u001b[0;34m:\u001b[0m\u001b[0;34m\u001b[0m\u001b[0;34m\u001b[0m\u001b[0m\n\u001b[1;32m   2799\u001b[0m                 \u001b[0;32mreturn\u001b[0m \u001b[0mself\u001b[0m\u001b[0;34m.\u001b[0m\u001b[0m_getitem_multilevel\u001b[0m\u001b[0;34m(\u001b[0m\u001b[0mkey\u001b[0m\u001b[0;34m)\u001b[0m\u001b[0;34m\u001b[0m\u001b[0;34m\u001b[0m\u001b[0m\n\u001b[0;32m-> 2800\u001b[0;31m             \u001b[0mindexer\u001b[0m \u001b[0;34m=\u001b[0m \u001b[0mself\u001b[0m\u001b[0;34m.\u001b[0m\u001b[0mcolumns\u001b[0m\u001b[0;34m.\u001b[0m\u001b[0mget_loc\u001b[0m\u001b[0;34m(\u001b[0m\u001b[0mkey\u001b[0m\u001b[0;34m)\u001b[0m\u001b[0;34m\u001b[0m\u001b[0;34m\u001b[0m\u001b[0m\n\u001b[0m\u001b[1;32m   2801\u001b[0m             \u001b[0;32mif\u001b[0m \u001b[0mis_integer\u001b[0m\u001b[0;34m(\u001b[0m\u001b[0mindexer\u001b[0m\u001b[0;34m)\u001b[0m\u001b[0;34m:\u001b[0m\u001b[0;34m\u001b[0m\u001b[0;34m\u001b[0m\u001b[0m\n\u001b[1;32m   2802\u001b[0m                 \u001b[0mindexer\u001b[0m \u001b[0;34m=\u001b[0m \u001b[0;34m[\u001b[0m\u001b[0mindexer\u001b[0m\u001b[0;34m]\u001b[0m\u001b[0;34m\u001b[0m\u001b[0;34m\u001b[0m\u001b[0m\n",
      "\u001b[0;32m~/miniconda3/envs/PHD/lib/python3.8/site-packages/pandas/core/indexes/range.py\u001b[0m in \u001b[0;36mget_loc\u001b[0;34m(self, key, method, tolerance)\u001b[0m\n\u001b[1;32m    350\u001b[0m                 \u001b[0;32mreturn\u001b[0m \u001b[0mself\u001b[0m\u001b[0;34m.\u001b[0m\u001b[0m_range\u001b[0m\u001b[0;34m.\u001b[0m\u001b[0mindex\u001b[0m\u001b[0;34m(\u001b[0m\u001b[0mnew_key\u001b[0m\u001b[0;34m)\u001b[0m\u001b[0;34m\u001b[0m\u001b[0;34m\u001b[0m\u001b[0m\n\u001b[1;32m    351\u001b[0m             \u001b[0;32mexcept\u001b[0m \u001b[0mValueError\u001b[0m\u001b[0;34m:\u001b[0m\u001b[0;34m\u001b[0m\u001b[0;34m\u001b[0m\u001b[0m\n\u001b[0;32m--> 352\u001b[0;31m                 \u001b[0;32mraise\u001b[0m \u001b[0mKeyError\u001b[0m\u001b[0;34m(\u001b[0m\u001b[0mkey\u001b[0m\u001b[0;34m)\u001b[0m\u001b[0;34m\u001b[0m\u001b[0;34m\u001b[0m\u001b[0m\n\u001b[0m\u001b[1;32m    353\u001b[0m         \u001b[0;32mreturn\u001b[0m \u001b[0msuper\u001b[0m\u001b[0;34m(\u001b[0m\u001b[0;34m)\u001b[0m\u001b[0;34m.\u001b[0m\u001b[0mget_loc\u001b[0m\u001b[0;34m(\u001b[0m\u001b[0mkey\u001b[0m\u001b[0;34m,\u001b[0m \u001b[0mmethod\u001b[0m\u001b[0;34m=\u001b[0m\u001b[0mmethod\u001b[0m\u001b[0;34m,\u001b[0m \u001b[0mtolerance\u001b[0m\u001b[0;34m=\u001b[0m\u001b[0mtolerance\u001b[0m\u001b[0;34m)\u001b[0m\u001b[0;34m\u001b[0m\u001b[0;34m\u001b[0m\u001b[0m\n\u001b[1;32m    354\u001b[0m \u001b[0;34m\u001b[0m\u001b[0m\n",
      "\u001b[0;31mKeyError\u001b[0m: 1"
     ]
    },
    {
     "data": {
      "image/png": "[encoded data removed]",
      "text/plain": [
       "<Figure size 432x288 with 1 Axes>"
      ]
     },
     "metadata": {
      "needs_background": "light"
     },
     "output_type": "display_data"
    }
   ],
   "source": [
    "fig, ax = plt.subplots(1)\n",
    "\n",
    "for name, df in tf.groupby(\"2year\"):\n",
    "    \n",
    "    dfs=df.sample(frac=0.05)\n",
    "    \n",
    "    ax.scatter(dfs[0], dfs[1], label=name)\n",
    "    \n",
    "plt.legend()"
   ]
  },
  {
   "cell_type": "markdown",
   "metadata": {},
   "source": [
    "y = \"2year\"\n",
    "\n",
    "fig, (ax1, ax2) = plt.subplots(ncols = 2, figsize = (16,8))\n",
    "fig.suptitle(y)\n",
    "\n",
    "data = total.copy().sample(frac = 0.1)#.drop(np.nan, level = \"DODvsAlive\")\n",
    "\n",
    "total_lda = pd.DataFrame(\n",
    "    LinearDiscriminantAnalysis(n_components = 1).fit_transform(pcapipe.fit_transform(data), data.reset_index()[f\"{y}\"].values)\n",
    "    , index = data.index)\n",
    "\n",
    "\n",
    "for name, df in total_lda.groupby(level = f\"{y}\"):\n",
    "\n",
    "    df.hist(0, bins = 50, ax = ax1, histtype = 'step', label = name, density = True)\n",
    "\n",
    "ax1.set_title(\"LDA\")\n",
    "ax1.legend()\n",
    "    \n",
    "total_pca = pd.DataFrame(\n",
    "    PCA(n_components = 1).fit_transform(pcapipe.fit_transform(data), data.reset_index()[f\"{y}\"])\n",
    "    , index = data.index)\n",
    "\n",
    "\n",
    "for name, df in total_pca.groupby(level = f\"{y}\"):\n",
    "\n",
    "    df.hist(0, bins = 50, ax = ax2, histtype = 'step', label = name, density = True)\n",
    "\n",
    "ax2.set_title(\"PCA\")\n",
    "plt.legend()"
   ]
  },
  {
   "cell_type": "raw",
   "metadata": {
    "jupyter": {
     "source_hidden": true
    }
   },
   "source": [
    "group = \"Patient_Number\"\n",
    "y = \"DODvsAlive\"\n",
    "\n",
    "#data = (total - paraffin.mean(axis = 0)).sample(frac = 0.1)\n",
    "data = total.copy().sample(frac = 0.01)#.query(\"DODvsAlive != 'Other'\")#.drop(np.nan, level = y)\n",
    "\n",
    "\n",
    " \n",
    "data[\"sample_weights\"] = Cross_Eval.get_weights(data.reset_index()[f\"{group}\"]) * Cross_Eval.get_weights(data.reset_index()[f\"{y}\"])\n",
    "\n",
    "# Splt the data set into training and validation sets based on patient number\n",
    "train_pat, valid_pat = train_test_split(data.reset_index()[f\"{group}\"].unique(), test_size = 0.2, shuffle = True)\n",
    "\n",
    "print(f\"N train patients: \\t{len(train_pat)}\\n{train_pat}\")\n",
    "print(f\"N test patients: \\t{len(valid_pat)}\\n{valid_pat}\")\n",
    "\n",
    "\n",
    "train_data = data.query(f\"{group} in {list(train_pat)}\")\n",
    "validation_data = data.query(f\"{group} in {list(valid_pat)}\")\n",
    "\n",
    "\n",
    "X_train, X_valid = train_data.drop([\"sample_weights\"], axis = 1), validation_data.drop([\"sample_weights\"], axis = 1), \n",
    "y_train, y_valid = train_data.reset_index()[f\"{y}\"], validation_data.reset_index()[f\"{y}\"]\n",
    "w_train, w_test = train_data.reset_index()[\"sample_weights\"], validation_data.reset_index()[\"sample_weights\"]\n",
    "\n",
    "\n",
    "y_train.index = X_train.index\n",
    "y_valid.index = X_valid.index\n",
    "\n",
    "groups = X_train.reset_index()[f\"{group}\"]\n",
    "groups.index = X_train.index\n",
    "\n",
    "lb = LabelBinarizer().fit(data.reset_index()[f\"{y}\"])\n",
    "\n",
    "y_train_b = pd.DataFrame(lb.transform(y_train))\n",
    "y_valid_b = pd.DataFrame(lb.transform(y_valid))\n",
    "\n",
    "scorer = make_scorer(roc_auc_score, needs_proba = True, average = 'weighted')\n",
    "\n",
    "date_time = datetime.now().strftime(\"%m.%d.%Y_%H:%M\")\n",
    "\n",
    "file_place = os.path.join(os.getcwd(), \"Plots\", y, date_time)\n",
    "print(file_place)\n",
    "\n",
    "if not os.path.exists(file_place):\n",
    "    os.mkdir(file_place)\n",
    "    \n",
    "print(lb.classes_)"
   ]
  },
  {
   "cell_type": "raw",
   "metadata": {
    "jupyter": {
     "source_hidden": true
    }
   },
   "source": [
    "def build_LDA(hp):\n",
    "    \n",
    "    params = {\n",
    "        'n_components' : hp.Int(\"PCA_components\", 1, len(data.columns) - 1, 1),\n",
    "    }\n",
    "\n",
    "    clf = LinearDiscriminantAnalysis()\n",
    "    clf = clf.set_params(**params)\n",
    "    \n",
    "    #---------------------------------------------------------------------------------------------------\n",
    "    scalers = {\"Normalize\" : normalize,\n",
    "               \"Robust\"    : robust_scale,\n",
    "               \"MinMax\"    : minmax_scale}\n",
    "    \n",
    "    scale1 = hp.Choice('scale1', [\"Normalize\", \"Robust\", \"MinMax\"])\n",
    "    scale2 = hp.Choice('scale2', [\"Normalize\", \"Robust\", \"MinMax\"])\n",
    "\n",
    "    pipe = Pipeline([\n",
    "    (\"Normalise spectra\", FunctionTransformer(scalers[scale1] , kw_args = {\"axis\": 1})),\n",
    "    (\"Scaler\", FunctionTransformer(scalers[scale2] , kw_args = {\"axis\": 0})),\n",
    "    #(\"RBFSampler\", RBFSampler(gamma = hp.Float(\"RBF_gamma\", 0, 5), n_components = hp.Int(\"RB_components\", 1, 169, 1))),\n",
    "    (\"PCA\", PCA(n_components = hp.Int(\"PCA_components\", 1, len(data.columns) - 1, 1))),\n",
    "    (\"LDA\", clf)])\n",
    "    \n",
    "    return pipe"
   ]
  },
  {
   "cell_type": "raw",
   "metadata": {
    "jupyter": {
     "source_hidden": true
    }
   },
   "source": [
    "pipe = Pipeline([\n",
    "(\"Normalise spectra\", FunctionTransformer(robust_scale , kw_args = {\"axis\": 1})),\n",
    "(\"Scaler\", FunctionTransformer(robust_scale , kw_args = {\"axis\": 0})),\n",
    "#(\"RBFSampler\", RBFSampler(gamma = hp.Float(\"RBF_gamma\", 0, 5), n_components = hp.Int(\"RB_components\", 1, 169, 1))),\n",
    "(\"PCA\", PCA()),\n",
    "(\"LDA\", LinearDiscriminantAnalysis())])"
   ]
  },
  {
   "cell_type": "raw",
   "metadata": {
    "jupyter": {
     "source_hidden": true
    }
   },
   "source": [
    "pipe = Pipeline([\n",
    "(\"Normalise spectra\", FunctionTransformer(normalize , kw_args = {\"axis\": 1})),\n",
    "(\"Scaler\", FunctionTransformer(normalize , kw_args = {\"axis\": 0})),\n",
    "#(\"RBFSampler\", RBFSampler(gamma = hp.Float(\"RBF_gamma\", 0, 5), n_components = hp.Int(\"RB_components\", 1, 169, 1))),\n",
    "(\"PCA\", PCA()),\n",
    "(\"LDA\", LinearDiscriminantAnalysis())])"
   ]
  },
  {
   "cell_type": "raw",
   "metadata": {
    "jupyter": {
     "source_hidden": true
    }
   },
   "source": [
    "pipe = Pipeline([\n",
    "(\"Normalise spectra\", FunctionTransformer(minmax_scale , kw_args = {\"axis\": 1})),\n",
    "(\"Scaler\", FunctionTransformer(minmax_scale , kw_args = {\"axis\": 0})),\n",
    "#(\"RBFSampler\", RBFSampler(gamma = hp.Float(\"RBF_gamma\", 0, 5), n_components = hp.Int(\"RB_components\", 1, 169, 1))),\n",
    "(\"PCA\", PCA()),\n",
    "(\"LDA\", LinearDiscriminantAnalysis())])"
   ]
  },
  {
   "cell_type": "raw",
   "metadata": {
    "jupyter": {
     "source_hidden": true
    }
   },
   "source": [
    "pipe = Pipeline([\n",
    "(\"Normalise spectra\", FunctionTransformer(minmax_scale , kw_args = {\"axis\": 1})),\n",
    "(\"Scaler\", FunctionTransformer(robust_scale , kw_args = {\"axis\": 0})),\n",
    "#(\"RBFSampler\", RBFSampler(gamma = hp.Float(\"RBF_gamma\", 0, 5), n_components = hp.Int(\"RB_components\", 1, 169, 1))),\n",
    "(\"PCA\", PCA()),\n",
    "(\"LDA\", LinearDiscriminantAnalysis())])"
   ]
  },
  {
   "cell_type": "raw",
   "metadata": {
    "jupyter": {
     "source_hidden": true
    }
   },
   "source": [
    "pipe = Pipeline([\n",
    "(\"Normalise spectra\", FunctionTransformer(normalize , kw_args = {\"axis\": 1})),\n",
    "(\"Scaler\", FunctionTransformer(robust_scale , kw_args = {\"axis\": 0})),\n",
    "#(\"RBFSampler\", RBFSampler(gamma = hp.Float(\"RBF_gamma\", 0, 5), n_components = hp.Int(\"RB_components\", 1, 169, 1))),\n",
    "(\"PCA\", PCA()),\n",
    "(\"LDA\", LinearDiscriminantAnalysis())])"
   ]
  },
  {
   "cell_type": "raw",
   "metadata": {
    "jupyter": {
     "source_hidden": true
    }
   },
   "source": [
    "pipe = Pipeline([\n",
    "(\"Normalise spectra\", FunctionTransformer(normalize , kw_args = {\"axis\": 1})),\n",
    "(\"Scaler\", FunctionTransformer(minmax_scale , kw_args = {\"axis\": 0})),\n",
    "#(\"RBFSampler\", RBFSampler(gamma = hp.Float(\"RBF_gamma\", 0, 5), n_components = hp.Int(\"RB_components\", 1, 169, 1))),\n",
    "(\"PCA\", PCA()),\n",
    "(\"LDA\", LinearDiscriminantAnalysis())])"
   ]
  },
  {
   "cell_type": "raw",
   "metadata": {
    "jupyter": {
     "source_hidden": true
    }
   },
   "source": [
    "pipe = Pipeline([\n",
    "(\"Normalise spectra\", FunctionTransformer(minmax_scale , kw_args = {\"axis\": 1})),\n",
    "(\"Scaler\", FunctionTransformer(normalize , kw_args = {\"axis\": 0})),\n",
    "#(\"RBFSampler\", RBFSampler(gamma = hp.Float(\"RBF_gamma\", 0, 5), n_components = hp.Int(\"RB_components\", 1, 169, 1))),\n",
    "(\"PCA\", PCA()),\n",
    "(\"LDA\", LinearDiscriminantAnalysis())])"
   ]
  },
  {
   "cell_type": "raw",
   "metadata": {
    "jupyter": {
     "source_hidden": true
    }
   },
   "source": [
    "pipe = Pipeline([\n",
    "(\"Normalise spectra\", FunctionTransformer(minmax_scale , kw_args = {\"axis\": 1})),\n",
    "(\"Scaler\", FunctionTransformer(robust_scale , kw_args = {\"axis\": 0})),\n",
    "#(\"RBFSampler\", RBFSampler(gamma = hp.Float(\"RBF_gamma\", 0, 5), n_components = hp.Int(\"RB_components\", 1, 169, 1))),\n",
    "(\"PCA\", PCA()),\n",
    "(\"LDA\", LinearDiscriminantAnalysis())])"
   ]
  },
  {
   "cell_type": "raw",
   "metadata": {
    "jupyter": {
     "source_hidden": true
    }
   },
   "source": [
    "pipe = Pipeline([\n",
    "(\"Normalise spectra\", FunctionTransformer(robust_scale , kw_args = {\"axis\": 1})),\n",
    "(\"Scaler\", FunctionTransformer(minmax_scale , kw_args = {\"axis\": 0})),\n",
    "#(\"RBFSampler\", RBFSampler(gamma = hp.Float(\"RBF_gamma\", 0, 5), n_components = hp.Int(\"RB_components\", 1, 169, 1))),\n",
    "(\"PCA\", PCA()),\n",
    "(\"LDA\", LinearDiscriminantAnalysis())])"
   ]
  },
  {
   "cell_type": "raw",
   "metadata": {
    "jupyter": {
     "source_hidden": true
    }
   },
   "source": [
    "pipe = Pipeline([\n",
    "(\"Normalise spectra\", FunctionTransformer(robust_scale , kw_args = {\"axis\": 1})),\n",
    "(\"Scaler\", FunctionTransformer(normalize , kw_args = {\"axis\": 0})),\n",
    "#(\"RBFSampler\", RBFSampler(gamma = hp.Float(\"RBF_gamma\", 0, 5), n_components = hp.Int(\"RB_components\", 1, 169, 1))),\n",
    "(\"PCA\", PCA()),\n",
    "(\"LDA\", LinearDiscriminantAnalysis())])"
   ]
  },
  {
   "cell_type": "raw",
   "metadata": {
    "jupyter": {
     "source_hidden": true
    }
   },
   "source": [
    "from skopt.space import Real, Categorical, Integer\n",
    "\n",
    "param_dict = {'PCA__n_components': Integer(1, len(data.columns) - 1, 'uniform')}"
   ]
  },
  {
   "cell_type": "raw",
   "metadata": {
    "jupyter": {
     "source_hidden": true
    }
   },
   "source": [
    "group = \"Patient_Number\"\n",
    "y = \"DODvsAlive\"\n",
    "\n",
    "#data = (total - paraffin.mean(axis = 0)).sample(frac = 0.1)\n",
    "data = total.copy().sample(frac = 1)\n",
    "data[\"sample_weights\"] = Cross_Eval.get_weights(data.reset_index()[f\"{group}\"]) * Cross_Eval.get_weights(data.reset_index()[f\"{y}\"])\n",
    "unique_patients = data.reset_index()[f\"{group}\"].unique()\n",
    "\n",
    "kfoldscores = []\n",
    "\n",
    "for train_i, valid_i in tqdm(list(KFold(n_splits = 10, shuffle = True).split(unique_patients))):\n",
    "    \n",
    "    train_pat, valid_pat = unique_patients[train_i], unique_patients[valid_i]\n",
    "\n",
    "    train_data = data.query(f\"{group} in {list(train_pat)}\")\n",
    "    validation_data = data.query(f\"{group} in {list(valid_pat)}\")\n",
    "\n",
    "    X_train, X_valid = train_data.drop([\"sample_weights\"], axis = 1), validation_data.drop([\"sample_weights\"], axis = 1), \n",
    "    y_train, y_valid = train_data.reset_index()[f\"{y}\"], validation_data.reset_index()[f\"{y}\"]\n",
    "    w_train, w_test = train_data.reset_index()[\"sample_weights\"], validation_data.reset_index()[\"sample_weights\"]\n",
    "\n",
    "    y_train.index = X_train.index\n",
    "    y_valid.index = X_valid.index\n",
    "\n",
    "    groups = X_train.reset_index()[f\"{group}\"]\n",
    "    groups.index = X_train.index\n",
    "\n",
    "    lb = LabelBinarizer().fit(total.reset_index()[f\"{y}\"].unique())\n",
    "\n",
    "    y_train_b = pd.DataFrame(lb.transform(y_train))\n",
    "    y_valid_b = pd.DataFrame(lb.transform(y_valid))\n",
    "    \n",
    "\n",
    "    opt_results = Cross_Eval.bayes_search(pipe\n",
    "                                      , param_dict\n",
    "                                      , X_train\n",
    "                                      , y_train_b.values.squeeze()\n",
    "                                      , GroupKFold(n_splits = 2)\n",
    "                                      , groups = groups\n",
    "                                      #, sample_weight = w_train.values\n",
    "                                      , verbose = 0\n",
    "                                      , n_iter = 10\n",
    "                                     )\n",
    "    \n",
    "    clf = pipe.set_params(**opt_results.best_params_)\n",
    "    \n",
    "    # Refit the classifier with the best parameters on the full dataset\n",
    "    clf.fit(X_train, y_train_b)\n",
    "    \n",
    "    try: #Try except statement in case of scoring problems\n",
    "        scores = Cross_Eval.score(clf, X_valid, y_valid_b)\n",
    "        \n",
    "    except:\n",
    "        continue\n",
    "        \n",
    "    kfoldscores.append(scores)\n",
    "\n",
    "date_time = datetime.now().strftime(\"%m.%d.%Y_%H:%M\")\n",
    "file_place = os.path.join(os.getcwd(), \"Plots\", y, date_time)\n",
    "\n",
    "if not os.path.exists(file_place):\n",
    "    os.mkdir(file_place)\n",
    "\n",
    "results = pd.DataFrame(kfoldscores)"
   ]
  },
  {
   "cell_type": "raw",
   "metadata": {
    "jupyter": {
     "source_hidden": true
    }
   },
   "source": [
    "results.describe()"
   ]
  },
  {
   "cell_type": "raw",
   "metadata": {
    "jupyter": {
     "source_hidden": true
    }
   },
   "source": [
    "fig, (ax, ax2) = plt.subplots(ncols = 2, figsize = (12, 5))\n",
    "\n",
    "for _, row in results.iterrows():\n",
    "    \n",
    "    ax.plot(row[\"FPR_curve\"], row[\"TPR_curve\"])\n",
    "    \n",
    "ax.plot([0,1],[0,1], c = \"black\", linestyle = '--')\n",
    "ax.set_xlabel('False Positive Rate')\n",
    "ax.set_ylabel('True Positive Rate')\n",
    "ax.set_title('ECS ROC Curve')\n",
    "\n",
    "ax.text(0.65, 0.2, \"AUC:{:.2f} +/- {:.2f}\".format(results[\"AUC\"].mean(), results[\"AUC\"].std()))\n",
    "\n",
    "for _, row in results.iterrows():\n",
    "    \n",
    "    ax2.plot(row[\"rec_curve\"], row[\"prec_curve\"])\n",
    "    \n",
    "ax2.set_xlabel('Recall')\n",
    "ax2.set_ylabel('Precision')\n",
    "ax2.set_title('Precision Recall Curve')\n",
    "\n",
    "fig.savefig(os.path.join(file_place, \"ROC_scores.png\"), bbox_inches = 'tight')"
   ]
  },
  {
   "cell_type": "raw",
   "metadata": {
    "jupyter": {
     "source_hidden": true
    }
   },
   "source": [
    "fig, ax = plt.subplots(ncols = 1)\n",
    "\n",
    "results[[\"AUC\", \"Specificity\", \"Sensitivity\", \"Precision\", \"Recall\", \"F1\"]].plot.box(ax = ax)\n",
    "ax.set_ylabel(\"Score\")\n",
    "\n",
    "results.to_excel(os.path.join(file_place, \"Confusion_Matrix_bad.xlsx\"))\n",
    "fig.savefig(os.path.join(file_place, \"scores.png\"), bbox_inches = 'tight')"
   ]
  },
  {
   "cell_type": "raw",
   "metadata": {
    "jupyter": {
     "source_hidden": true
    }
   },
   "source": [
    "from sklearn.model_selection import cross_val_score\n",
    "from mlxtend.evaluate import BootstrapOutOfBag\n",
    "from sklearn.model_selection import LeaveOneOut"
   ]
  },
  {
   "cell_type": "raw",
   "metadata": {
    "jupyter": {
     "source_hidden": true
    }
   },
   "source": [
    "ldapipe = Pipeline([\n",
    "    (\"Normalise spectra\", FunctionTransformer(robust_scale, kw_args = {\"axis\": 1})),\n",
    "    (\"Scaler\", RobustScaler()),\n",
    "    (\"PCA\", PCA()),\n",
    "    (\"clf\", LinearDiscriminantAnalysis())\n",
    "])\n",
    "\n",
    "#totalpca = pcapipe.fit(total.append(paraffin))\n",
    "#totalpca = pcapipe.fit(total.append(paraffin))"
   ]
  },
  {
   "cell_type": "code",
   "execution_count": 24,
   "metadata": {
    "jupyter": {
     "source_hidden": true
    }
   },
   "outputs": [],
   "source": [
    "ldapipe = Pipeline([\n",
    "    (\"Normalise spectra\", FunctionTransformer(robust_scale, kw_args = {\"axis\": 1})),\n",
    "    (\"Scaler\", RobustScaler()),\n",
    "    (\"PCA\", PCA()),\n",
    "    (\"clf\", LinearDiscriminantAnalysis())\n",
    "])\n",
    "\n",
    "#totalpca = pcapipe.fit(total.append(paraffin))\n",
    "#totalpca = pcapipe.fit(total.append(paraffin))"
   ]
  },
  {
   "cell_type": "raw",
   "metadata": {
    "jupyter": {
     "source_hidden": true
    }
   },
   "source": [
    "def get_weights(column):\n",
    "    \n",
    "    counts = column.value_counts()\n",
    "    weight_dict = dict(zip(counts.index, [(counts.values.sum()/n) for n in counts.values]))\n",
    "    \n",
    "    return column.map(weight_dict).values"
   ]
  },
  {
   "cell_type": "raw",
   "metadata": {
    "jupyter": {
     "source_hidden": true
    }
   },
   "source": [
    "data = total.copy().sample(frac = 1)\n",
    "group = \"Patient_Number\"\n",
    "y = \"DODvsAlive\"\n",
    "\n",
    "scoring_dict = {\n",
    "                \"Accuracy\": make_scorer(accuracy_score)\n",
    "               }\n",
    "\n",
    "\n",
    "patients = data.reset_index()[\"Patient_Number\"].unique()\n",
    "data[\"sample_weights\"] = get_weights(data.reset_index()[f\"{group}\"]) * get_weights(data.reset_index()[f\"{y}\"])\n",
    "\n",
    "results = dict()\n",
    "\n",
    "for train_i, test_i in tqdm(list(LeaveOneOut().split(patients))):\n",
    "    \n",
    "    train_pat , valid_pat = patients[train_i], patients[test_i]\n",
    "    \n",
    "    train_data = data.query(f\"{group} in {list(train_pat)}\")\n",
    "    validation_data = data.query(f\"{group} in {list(valid_pat)}\")\n",
    "\n",
    "    \n",
    "    X_train, X_valid = train_data.drop([\"sample_weights\"], axis = 1), validation_data.drop([\"sample_weights\"], axis = 1), \n",
    "    y_train, y_valid = train_data.reset_index()[f\"{y}\"], validation_data.reset_index()[f\"{y}\"]\n",
    "    w_train, w_test = train_data.reset_index()[\"sample_weights\"], validation_data.reset_index()[\"sample_weights\"]\n",
    "    \n",
    "\n",
    "    y_train.index = X_train.index\n",
    "    y_valid.index = X_valid.index\n",
    "    \n",
    "    groups = X_train.reset_index()[f\"{group}\"]\n",
    "    groups.index = X_train.index\n",
    "\n",
    "\n",
    "    lb = LabelBinarizer().fit(data.reset_index()[f\"{y}\"])\n",
    "\n",
    "    y_train_b = pd.DataFrame(lb.transform(y_train))\n",
    "    y_valid_b = pd.DataFrame(lb.transform(y_valid))\n",
    "\n",
    "    scorer = make_scorer(roc_auc_score, needs_proba = True, average = 'weighted')\n",
    "    \n",
    "    ldapipe.fit(X_train, y_train_b.values.squeeze())\n",
    "    \n",
    "    scores = dict()\n",
    "\n",
    "    for name, scorer in scoring_dict.items():\n",
    "        \n",
    "        scores[name] = scorer(ldapipe, X_valid, y_valid_b)\n",
    "        \n",
    "    results[valid_pat[0]] = scores"
   ]
  },
  {
   "cell_type": "markdown",
   "metadata": {},
   "source": [
    "## Keras Tuner"
   ]
  },
  {
   "cell_type": "code",
   "execution_count": 93,
   "metadata": {},
   "outputs": [],
   "source": [
    "import kerastuner as kt"
   ]
  },
  {
   "cell_type": "code",
   "execution_count": 91,
   "metadata": {},
   "outputs": [],
   "source": [
    "def build_LDA(hp):\n",
    "    \n",
    "    scalers = {\"Normalize\" : normalize,\n",
    "               \"Robust\"    : robust_scale,\n",
    "               \"MinMax\"    : minmax_scale}\n",
    "    \n",
    "    scale1 = hp.Choice('scale1', [\"Normalize\", \"Robust\", \"MinMax\"])\n",
    "    scale2 = hp.Choice('scale2', [\"Normalize\", \"Robust\", \"MinMax\"])\n",
    "\n",
    "\n",
    "    pipe = Pipeline([\n",
    "    (\"Normalise spectra\", FunctionTransformer(scalers[scale1] , kw_args = {\"axis\": 1})),\n",
    "    (\"Scaler\", FunctionTransformer(scalers[scale2] , kw_args = {\"axis\": 0})),\n",
    "    (\"PCA\", PCA(n_components = hp.Int(\"PCA_components\", 1, len(data.columns) - 1, 1))),\n",
    "    (\"clf\", CalibratedClassifierCV(LinearDiscriminantAnalysis()))])\n",
    "    \n",
    "    return pipe"
   ]
  },
  {
   "cell_type": "code",
   "execution_count": 38,
   "metadata": {},
   "outputs": [],
   "source": [
    "def build_LR(hp):\n",
    "    \n",
    "    scalers = {\"Normalize\" : normalize,\n",
    "               \"Robust\"    : robust_scale,\n",
    "               \"MinMax\"    : minmax_scale}\n",
    "    \n",
    "    scale1 = hp.Choice('scale1', [\"Normalize\", \"Robust\", \"MinMax\"])\n",
    "    scale2 = hp.Choice('scale2', [\"Normalize\", \"Robust\", \"MinMax\"])\n",
    "    \n",
    "    params = {\n",
    "        \"penalty\"  : hp.Choice('Penalty', [\"l2\"]),\n",
    "        \"tol\"      : hp.Float('Tolerance', 0, 1),\n",
    "        \"C\"        : hp.Float('C', 1e-5, 1),\n",
    "        #\"solver\"   : \"liblinear\"\n",
    "    }\n",
    "    \n",
    "    clf = LogisticRegression()\n",
    "    clf.set_params(**params)\n",
    "\n",
    "\n",
    "    pipe = Pipeline([\n",
    "    (\"Normalise spectra\", FunctionTransformer(scalers[scale1] , kw_args = {\"axis\": 1})),\n",
    "    (\"Scaler\", FunctionTransformer(scalers[scale2] , kw_args = {\"axis\": 0})),\n",
    "    (\"PCA\", PCA(n_components = hp.Int(\"PCA_components\", 1, len(data.columns) - 1, 1))),\n",
    "    (\"clf\", CalibratedClassifierCV(clf))])\n",
    "    \n",
    "    return pipe"
   ]
  },
  {
   "cell_type": "code",
   "execution_count": 38,
   "metadata": {},
   "outputs": [],
   "source": [
    "def build_SVM(hp):\n",
    "    \n",
    "    scalers = {\"Normalize\" : normalize,\n",
    "               \"Robust\"    : robust_scale,\n",
    "               \"MinMax\"    : minmax_scale}\n",
    "    \n",
    "    scale1 = hp.Choice('scale1', [\"Normalize\", \"Robust\", \"MinMax\"])\n",
    "    scale2 = hp.Choice('scale2', [\"Normalize\", \"Robust\", \"MinMax\"])\n",
    "    \n",
    "    params = {\n",
    "        \"penalty\"  : hp.Choice('Penalty', [\"l2\"]),\n",
    "        \"tol\"      : hp.Float('Tolerance', 0, 1),\n",
    "        \"C\"        : hp.Float('C', 1e-5, 1),\n",
    "        #\"solver\"   : \"liblinear\"\n",
    "    }\n",
    "    \n",
    "    clf = LogisticRegression()\n",
    "    clf.set_params(**params)\n",
    "\n",
    "\n",
    "    pipe = Pipeline([\n",
    "    (\"Normalise spectra\", FunctionTransformer(scalers[scale1] , kw_args = {\"axis\": 1})),\n",
    "    (\"Scaler\", FunctionTransformer(scalers[scale2] , kw_args = {\"axis\": 0})),\n",
    "    (\"PCA\", PCA(n_components = hp.Int(\"PCA_components\", 1, len(data.columns) - 1, 1))),\n",
    "    (\"clf\", CalibratedClassifierCV(clf))])\n",
    "    \n",
    "    return pipe"
   ]
  },
  {
   "cell_type": "code",
   "execution_count": 89,
   "metadata": {},
   "outputs": [],
   "source": [
    "import tensorflow as tf\n",
    "\n",
    "class ClearTrainingOutput(tf.keras.callbacks.Callback):\n",
    "    def on_train_end(*args, **kwargs):\n",
    "        IPython.display.clear_output(wait = True)"
   ]
  },
  {
   "cell_type": "code",
   "execution_count": 28,
   "metadata": {
    "jupyter": {
     "source_hidden": true
    }
   },
   "outputs": [],
   "source": [
    "def build_LDA_categorical(hp):\n",
    "\n",
    "    scalers = {\"Normalize\" : normalize,\n",
    "               \"Robust\"    : robust_scale,\n",
    "               \"MinMax\"    : minmax_scale}\n",
    "    \n",
    "    scale1 = hp.Choice('scale1', [\"Normalize\", \"Robust\", \"MinMax\"])\n",
    "    scale2 = hp.Choice('scale2', [\"Normalize\", \"Robust\", \"MinMax\"])\n",
    "    \n",
    "    numeric_features = total.columns\n",
    "    categorical_features = [\"ECS\"]\n",
    "    \n",
    "    numeric_features = np.arange(1, len(total.columns)+1)\n",
    "    categorical_features = [0]\n",
    "    \n",
    "    numeric_pipe = Pipeline([\n",
    "    (\"Normalise spectra\", FunctionTransformer(scalers[scale1] , kw_args = {\"axis\": 1})),\n",
    "    (\"Scaler\", FunctionTransformer(scalers[scale2] , kw_args = {\"axis\": 0})),\n",
    "    (\"PCA\", PCA(n_components = hp.Int(\"PCA_components\", 1, len(data.columns) - len(categorical_features) - 2, 1))),\n",
    "    ])\n",
    "    \n",
    "    OHE = OneHotEncoder()\n",
    "    OHE.fit(data[\"ASMA\"].values.reshape(-1,1))\n",
    "    \n",
    "    categorical_pipe = Pipeline([\n",
    "        (\"OneHot\", OHE)\n",
    "    ])\n",
    "    \n",
    "    preprocessing = ColumnTransformer(\n",
    "        [(\"Numerical\", numeric_pipe, numeric_features),\n",
    "         (\"Categorical\", categorical_pipe, categorical_features)])\n",
    "    \n",
    "    pipe = Pipeline([\n",
    "        (\"Preprocessing\", preprocessing),\n",
    "        (\"clf\", LinearDiscriminantAnalysis())\n",
    "    ])\n",
    "    \n",
    "    return pipe"
   ]
  },
  {
   "cell_type": "code",
   "execution_count": 29,
   "metadata": {
    "jupyter": {
     "source_hidden": true
    }
   },
   "outputs": [],
   "source": [
    "def build_LDA_categorical(hp):\n",
    "\n",
    "    scalers = {\"Normalize\" : normalize,\n",
    "               \"Robust\"    : robust_scale,\n",
    "               \"MinMax\"    : minmax_scale}\n",
    "    \n",
    "    scale1 = hp.Choice('scale1', [\"Normalize\", \"Robust\", \"MinMax\"])\n",
    "    scale2 = hp.Choice('scale2', [\"Normalize\", \"Robust\", \"MinMax\"])\n",
    "    \n",
    "    numeric_features = total.columns\n",
    "    categorical_features = [\"ASMA\"]\n",
    "    \n",
    "    numeric_features = np.arange(1, len(total.columns)+1)\n",
    "    categorical_features = [0]\n",
    "    \n",
    "    numeric_pipe = Pipeline([\n",
    "    (\"Normalise spectra\", FunctionTransformer(scalers[scale1] , kw_args = {\"axis\": 1})),\n",
    "    (\"Scaler\", FunctionTransformer(scalers[scale2] , kw_args = {\"axis\": 0})),\n",
    "    (\"PCA\", PCA(n_components = hp.Int(\"PCA_components\", 1, len(data.columns) - len(categorical_features) - 2, 1))),\n",
    "    ])\n",
    "    \n",
    "    OHE = OneHotEncoder()\n",
    "    OHE.fit(data.reset_index()[\"ASMA\"].values.reshape(-1,1))\n",
    "    \n",
    "    categorical_pipe = Pipeline([\n",
    "        (\"OneHot\", OHE)\n",
    "    ])\n",
    "    \n",
    "    preprocessing = ColumnTransformer(\n",
    "        [(\"Numerical\", numeric_pipe, numeric_features),\n",
    "         (\"Categorical\", categorical_pipe, categorical_features)])\n",
    "    \n",
    "    pipe = Pipeline([\n",
    "        (\"Preprocessing\", preprocessing),\n",
    "        (\"clf\", LinearDiscriminantAnalysis())\n",
    "    ])\n",
    "    \n",
    "    return pipe"
   ]
  },
  {
   "cell_type": "code",
   "execution_count": 30,
   "metadata": {
    "jupyter": {
     "source_hidden": true
    }
   },
   "outputs": [],
   "source": [
    "def build_LDA_categorical_only(hp):\n",
    "\n",
    "    OHE = OneHotEncoder(sparse = False)\n",
    "    #OHE.fit(data.reset_index()[\"ASMA\"].values.reshape(-1,1))\n",
    "    \n",
    "    categorical_pipe = Pipeline([\n",
    "        (\"OneHot\", OHE)\n",
    "    ])\n",
    "\n",
    "    pipe = Pipeline([\n",
    "        (\"Preprocessing\", categorical_pipe),\n",
    "        (\"clf\", LinearDiscriminantAnalysis())\n",
    "    ])\n",
    "    \n",
    "    return pipe"
   ]
  },
  {
   "cell_type": "code",
   "execution_count": 31,
   "metadata": {
    "jupyter": {
     "source_hidden": true
    }
   },
   "outputs": [],
   "source": [
    "from xgboost import XGBClassifier\n",
    "\n",
    "def build_XG(hp):\n",
    "\n",
    "    params = {\n",
    "        \n",
    "        'eta': hp.Float('eta', 0, 1, 0.05),\n",
    "        'gamma': hp.Float('gamma', 0, 1, 0.05),\n",
    "        'max_depth' : hp.Int('max_depth', 1, 15, 1),\n",
    "        'min_child_weight' : hp.Int('min_child_weight', 1, 20, 1),\n",
    "        'subsample' : hp.Float('subsample', 0, 1, 0.05),\n",
    "        'colsample_bytree' : hp.Float('colsample_bytree', 0, 1, 0.05),\n",
    "        'lambda ' : hp.Float('lambda', 0, 1, 0.05),\n",
    "        'alpha' : hp.Float('alpha', 0, 1, 0.05),\n",
    "    }\n",
    "\n",
    "    clf = XGBClassifier(objective = \"binary:logistic\")\n",
    "    clf = clf.set_params(**params)\n",
    "    \n",
    "    #---------------------------------------------------------------------------------------------------\n",
    "    scalers = {\"Normalize\" : normalize,\n",
    "               \"Robust\"    : robust_scale,\n",
    "               \"MinMax\"    : minmax_scale}\n",
    "    \n",
    "    # Decide pre processing steps\n",
    "    scale1 = hp.Choice('scale1', [\"Normalize\", \"Robust\", \"MinMax\"])\n",
    "    scale2 = hp.Choice('scale2', [\"Normalize\", \"Robust\", \"MinMax\"])\n",
    "\n",
    "    pipe = Pipeline([\n",
    "    (\"Normalise spectra\", FunctionTransformer(scalers[scale1] , kw_args = {\"axis\": 1})),\n",
    "    (\"Scaler\", FunctionTransformer(scalers[scale2] , kw_args = {\"axis\": 0})),\n",
    "    #(\"RBFSampler\", RBFSampler(gamma = hp.Float(\"RBF_gamma\", 0, 5), n_components = hp.Int(\"RB_components\", 1, 169, 1))),\n",
    "    (\"PCA\", PCA(n_components = hp.Int(\"PCA_components\", 1, len(data.columns) - 1, 1))),\n",
    "    (\"clf\", clf)])\n",
    "    \n",
    "    return pipe"
   ]
  },
  {
   "cell_type": "markdown",
   "metadata": {},
   "source": [
    "oracle = kt.oracles.BayesianOptimization(objective = kt.Objective('score', 'max')\n",
    "                                         , max_trials = 10)              \n",
    "\n",
    "tuner = kt.tuners.Sklearn(oracle = oracle\n",
    "                          #, cv = GroupKFold(n_splits = 3)\n",
    "                          , hypermodel = build_LDA\n",
    "                          , directory = os.path.join(os.getcwd(), \"KerasTuner\", datetime.now().strftime(\"%d.%m.%Y_%H:%M:%S\"))\n",
    "                          , scoring = make_scorer(roc_auc_score, needs_proba = True, average = 'weighted')\n",
    "                         )"
   ]
  },
  {
   "cell_type": "markdown",
   "metadata": {},
   "source": [
    "tuner.search(X_train.values, y_train_b.values.squeeze()#, sample_weight = w_train.values, groups = groups.values)\n",
    "            #, **{\"clf__sample_weight\": w_train.values}\n",
    "            #, sample_weight = w_train.values\n",
    "            , groups = groups.values\n",
    "            )"
   ]
  },
  {
   "cell_type": "code",
   "execution_count": 96,
   "metadata": {
    "tags": []
   },
   "outputs": [
    {
     "data": {
      "application/vnd.jupyter.widget-view+json": {
       "model_id": "2d581b4551b8437b8fd5ef718c7513a3",
       "version_major": 2,
       "version_minor": 0
      },
      "text/plain": [
       "HBox(children=(FloatProgress(value=0.0, max=3.0), HTML(value='')))"
      ]
     },
     "metadata": {},
     "output_type": "display_data"
    },
    {
     "name": "stdout",
     "output_type": "stream",
     "text": [
      "\n"
     ]
    },
    {
     "ename": "TypeError",
     "evalue": "search() got an unexpected keyword argument 'validation_data'",
     "output_type": "error",
     "traceback": [
      "\u001b[0;31m---------------------------------------------------------------------------\u001b[0m",
      "\u001b[0;31mTypeError\u001b[0m                                 Traceback (most recent call last)",
      "\u001b[0;32m<ipython-input-96-21bac737e373>\u001b[0m in \u001b[0;36m<module>\u001b[0;34m\u001b[0m\n\u001b[1;32m     49\u001b[0m                              )\n\u001b[1;32m     50\u001b[0m \u001b[0;34m\u001b[0m\u001b[0m\n\u001b[0;32m---> 51\u001b[0;31m     tuner.search(X_train.values.squeeze(),\n\u001b[0m\u001b[1;32m     52\u001b[0m                  \u001b[0my_train_b\u001b[0m\u001b[0;34m.\u001b[0m\u001b[0mvalues\u001b[0m\u001b[0;34m.\u001b[0m\u001b[0msqueeze\u001b[0m\u001b[0;34m(\u001b[0m\u001b[0;34m)\u001b[0m\u001b[0;34m,\u001b[0m\u001b[0;34m\u001b[0m\u001b[0;34m\u001b[0m\u001b[0m\n\u001b[1;32m     53\u001b[0m                  \u001b[0mgroups\u001b[0m \u001b[0;34m=\u001b[0m \u001b[0mgroups\u001b[0m\u001b[0;34m,\u001b[0m\u001b[0;34m\u001b[0m\u001b[0;34m\u001b[0m\u001b[0m\n",
      "\u001b[0;31mTypeError\u001b[0m: search() got an unexpected keyword argument 'validation_data'"
     ]
    }
   ],
   "source": [
    "group = \"Patient_Number\"\n",
    "y = \"DODvsAlive\"\n",
    "\n",
    "#data = (total - paraffin.mean(axis = 0)).sample(frac = 0.1)\n",
    "data = total.copy().sample(frac = 0.5)#.reset_index([\"ASMA\"]).dropna(subset = [\"ASMA\"]).loc[:,[\"ASMA\"]]\n",
    "data[\"sample_weights\"] = Cross_Eval.get_weights(data.reset_index()[f\"{group}\"]) * Cross_Eval.get_weights(data.reset_index()[f\"{y}\"])\n",
    "unique_patients = data.reset_index()[f\"{group}\"].unique()\n",
    "\n",
    "\n",
    "kfoldscores = []\n",
    "clfs = []\n",
    "\n",
    "model_func = build_LDA\n",
    "\n",
    "\n",
    "for train_i, valid_i in tqdm(list(KFold(n_splits = 3, shuffle = True).split(unique_patients))):\n",
    "    \n",
    "    train_pat, valid_pat = unique_patients[train_i], unique_patients[valid_i]\n",
    "\n",
    "    train_data = data.query(f\"{group} in {list(train_pat)}\")\n",
    "    validation_data = data.query(f\"{group} in {list(valid_pat)}\")\n",
    "\n",
    "    X_train = train_data.drop([\"sample_weights\"], axis = 1)\n",
    "    X_valid = validation_data.drop([\"sample_weights\"], axis = 1)\n",
    "    \n",
    "    y_train, y_valid = train_data.reset_index()[f\"{y}\"], validation_data.reset_index()[f\"{y}\"]\n",
    "    w_train, w_test = train_data.reset_index()[\"sample_weights\"], validation_data.reset_index()[\"sample_weights\"]\n",
    "\n",
    "    y_train.index = X_train.index\n",
    "    y_valid.index = X_valid.index\n",
    "\n",
    "    groups = X_train.reset_index(f\"{group}\")[f\"{group}\"]\n",
    "    #groups.index = X_train.index\n",
    "\n",
    "    lb = LabelBinarizer().fit(total.reset_index()[f\"{y}\"].unique())\n",
    "\n",
    "    y_train_b = pd.DataFrame(lb.transform(y_train), index = y_train.index)\n",
    "    y_valid_b = pd.DataFrame(lb.transform(y_valid), index = y_valid.index)\n",
    "    \n",
    "    #---------------------------------------------------------------------------------------------------\n",
    "    oracle = kt.oracles.BayesianOptimization(objective = kt.Objective('score', 'max')\n",
    "                                             , max_trials = 50)\n",
    "                                                          \n",
    "    tuner = kt.tuners.Sklearn(oracle = oracle\n",
    "                              , cv = GroupKFold(n_splits = 2)\n",
    "                              , hypermodel = model_func\n",
    "                              , directory = os.path.join(os.getcwd(), \"KerasTuner\", datetime.now().strftime(\"%d.%m.%Y_%H:%M:%S\"))\n",
    "                              , scoring = make_scorer(roc_auc_score, needs_proba = True, average = 'weighted')\n",
    "                             )\n",
    "\n",
    "    tuner.search(X_train.values.squeeze(),\n",
    "                 y_train_b.values.squeeze(),\n",
    "                 groups = groups,\n",
    "                 validation_data=(X_valid, y_valid_b)\n",
    "                )\n",
    "    \n",
    "    clf = model_func(tuner.get_best_hyperparameters()[0])\n",
    "    \n",
    "    # Refit the classifier with the best parameters on the full dataset\n",
    "    clf.fit(X_train, y_train_b)\n",
    "    clfs.append(clf)\n",
    "    #---------------------------------------------------------------------------------------------------\n",
    "    \n",
    "    \n",
    "    try: #Try except statement in case of scoring problems\n",
    "        scores = Cross_Eval.score(clf, X_valid, y_valid_b.iloc[:,0])\n",
    "        \n",
    "    except:\n",
    "        continue\n",
    "        \n",
    "    kfoldscores.append(scores)\n",
    "    \n",
    "date_time = datetime.now().strftime(\"%d.%m.%Y_%H:%M\")\n",
    "file_place = os.path.join(os.getcwd(), \"Plots\", y, date_time)\n",
    "\n",
    "if not os.path.exists(file_place): os.makedirs(file_place)\n",
    "print(file_place)\n",
    "\n",
    "title = f\"{y}, {date_time}, with ECS\"\n",
    "\n",
    "results = pd.DataFrame(kfoldscores)"
   ]
  },
  {
   "cell_type": "code",
   "execution_count": null,
   "metadata": {},
   "outputs": [],
   "source": [
    "fig, (ax, ax2) = plt.subplots(ncols = 2, figsize = (12, 5))\n",
    "#fig.suptitle(y_Var)\n",
    "\n",
    "for _, row in results.iterrows():\n",
    "    \n",
    "    ax.plot(row[\"FPR_curve\"], row[\"TPR_curve\"])\n",
    "    \n",
    "ax.plot([0,1],[0,1], c = \"black\", linestyle = '--')\n",
    "ax.set_xlabel('False Positive Rate')\n",
    "ax.set_ylabel('True Positive Rate')\n",
    "ax.set_title('ROC Curve')\n",
    "\n",
    "ax.text(0.65, 0.2, \"AUC:{:.2f} +/- {:.2f}\".format(results[\"AUC\"].mean(), results[\"AUC\"].std()))\n",
    "\n",
    "for _, row in results.iterrows():\n",
    "    \n",
    "    ax2.plot(row[\"rec_curve\"], row[\"prec_curve\"])\n",
    "    \n",
    "ax2.set_xlabel('Recall')\n",
    "ax2.set_ylabel('Precision')\n",
    "ax2.set_title('Precision Recall Curve');\n",
    "\n",
    "#fig.savefig(os.path.join(file_place, \"ROC_scores.png\"), bbox_inches = 'tight')"
   ]
  },
  {
   "cell_type": "code",
   "execution_count": 42,
   "metadata": {},
   "outputs": [
    {
     "data": {
      "image/png": "[encoded data removed]",
      "text/plain": [
       "<Figure size 864x360 with 2 Axes>"
      ]
     },
     "metadata": {
      "needs_background": "light"
     },
     "output_type": "display_data"
    }
   ],
   "source": [
    "fig, (ax, ax2) = plt.subplots(ncols = 2, figsize = (12, 5))\n",
    "#fig.suptitle(y_Var)\n",
    "\n",
    "for _, row in results.iterrows():\n",
    "    \n",
    "    ax.plot(row[\"FPR_curve\"], row[\"TPR_curve\"])\n",
    "    \n",
    "ax.plot([0,1],[0,1], c = \"black\", linestyle = '--')\n",
    "ax.set_xlabel('False Positive Rate')\n",
    "ax.set_ylabel('True Positive Rate')\n",
    "ax.set_title('ROC Curve')\n",
    "\n",
    "ax.text(0.65, 0.2, \"AUC:{:.2f} +/- {:.2f}\".format(results[\"AUC\"].mean(), results[\"AUC\"].std()))\n",
    "\n",
    "for _, row in results.iterrows():\n",
    "    \n",
    "    ax2.plot(row[\"rec_curve\"], row[\"prec_curve\"])\n",
    "    \n",
    "ax2.set_xlabel('Recall')\n",
    "ax2.set_ylabel('Precision')\n",
    "ax2.set_title('Precision Recall Curve');\n",
    "\n",
    "#fig.savefig(os.path.join(file_place, \"ROC_scores.png\"), bbox_inches = 'tight')"
   ]
  },
  {
   "cell_type": "code",
   "execution_count": 32,
   "metadata": {},
   "outputs": [],
   "source": [
    "from sklearn.model_selection import StratifiedKFold"
   ]
  },
  {
   "cell_type": "code",
   "execution_count": null,
   "metadata": {},
   "outputs": [],
   "source": [
    "y_Var = \"ECS\"\n",
    "\n",
    "data = new_metadata.copy().dropna(subset = [\"ASMA\"])#.loc[:,[\"ASMA\"]]\n",
    "\n",
    "X = data.loc[:,[\"ASMA\"]]\n",
    "y = pd.DataFrame(lb.fit_transform(data.reset_index()[f\"{y_Var}\"])).iloc[:,0]\n",
    "\n",
    "\n",
    "OHE = OneHotEncoder(sparse = False)\n",
    "#OHE.fit(data.reset_index()[\"ASMA\"].values.reshape(-1,1))\n",
    "\n",
    "categorical_pipe = Pipeline([\n",
    "    (\"OneHot\", OHE)\n",
    "])\n",
    "\n",
    "pipe = Pipeline([\n",
    "    (\"Preprocessing\", categorical_pipe),\n",
    "    (\"clf\", LinearDiscriminantAnalysis())\n",
    "])\n",
    "\n",
    "scores = []\n",
    "\n",
    "for train_i, test_i in StratifiedKFold(5, shuffle = True).split(X, y):\n",
    "    \n",
    "    clf = pipe.fit(X.iloc[train_i], y.iloc[train_i])\n",
    "    \n",
    "    scores.append(Cross_Eval.score(clf, X.iloc[test_i], y.iloc[test_i]))\n",
    "    \n",
    "results = pd.DataFrame(scores)"
   ]
  },
  {
   "cell_type": "code",
   "execution_count": 58,
   "metadata": {},
   "outputs": [
    {
     "data": {
      "image/png": "[encoded data removed]",
      "text/plain": [
       "<Figure size 864x360 with 2 Axes>"
      ]
     },
     "metadata": {
      "needs_background": "light"
     },
     "output_type": "display_data"
    }
   ],
   "source": [
    "fig, (ax, ax2) = plt.subplots(ncols = 2, figsize = (12, 5))\n",
    "#fig.suptitle(y_Var)\n",
    "\n",
    "for _, row in results.iterrows():\n",
    "    \n",
    "    ax.plot(row[\"FPR_curve\"], row[\"TPR_curve\"])\n",
    "    \n",
    "ax.plot([0,1],[0,1], c = \"black\", linestyle = '--')\n",
    "ax.set_xlabel('False Positive Rate')\n",
    "ax.set_ylabel('True Positive Rate')\n",
    "ax.set_title('ROC Curve')\n",
    "\n",
    "ax.text(0.65, 0.2, \"AUC:{:.2f} +/- {:.2f}\".format(results[\"AUC\"].mean(), results[\"AUC\"].std()))\n",
    "\n",
    "for _, row in results.iterrows():\n",
    "    \n",
    "    ax2.plot(row[\"rec_curve\"], row[\"prec_curve\"])\n",
    "    \n",
    "ax2.set_xlabel('Recall')\n",
    "ax2.set_ylabel('Precision')\n",
    "ax2.set_title('Precision Recall Curve');\n",
    "\n",
    "#fig.savefig(os.path.join(file_place, \"ROC_scores.png\"), bbox_inches = 'tight')"
   ]
  },
  {
   "cell_type": "code",
   "execution_count": 43,
   "metadata": {},
   "outputs": [
    {
     "data": {
      "image/png": "[encoded data removed]",
      "text/plain": [
       "<Figure size 864x360 with 2 Axes>"
      ]
     },
     "metadata": {
      "needs_background": "light"
     },
     "output_type": "display_data"
    }
   ],
   "source": [
    "fig, (ax, ax2) = plt.subplots(ncols = 2, figsize = (12, 5))\n",
    "#fig.suptitle(y_Var)\n",
    "\n",
    "for _, row in results.iterrows():\n",
    "    \n",
    "    ax.plot(row[\"FPR_curve\"], row[\"TPR_curve\"])\n",
    "    \n",
    "ax.plot([0,1],[0,1], c = \"black\", linestyle = '--')\n",
    "ax.set_xlabel('False Positive Rate')\n",
    "ax.set_ylabel('True Positive Rate')\n",
    "ax.set_title('ROC Curve')\n",
    "\n",
    "ax.text(0.65, 0.2, \"AUC:{:.2f} +/- {:.2f}\".format(results[\"AUC\"].mean(), results[\"AUC\"].std()))\n",
    "\n",
    "for _, row in results.iterrows():\n",
    "    \n",
    "    ax2.plot(row[\"rec_curve\"], row[\"prec_curve\"])\n",
    "    \n",
    "ax2.set_xlabel('Recall')\n",
    "ax2.set_ylabel('Precision')\n",
    "ax2.set_title('Precision Recall Curve');\n",
    "\n",
    "#fig.savefig(os.path.join(file_place, \"ROC_scores.png\"), bbox_inches = 'tight')"
   ]
  },
  {
   "cell_type": "code",
   "execution_count": null,
   "metadata": {},
   "outputs": [],
   "source": [
    "results.describe()"
   ]
  },
  {
   "cell_type": "code",
   "execution_count": null,
   "metadata": {},
   "outputs": [],
   "source": [
    "fig, ax = plt.subplots(ncols = 1)\n",
    "fig.suptitle(y_Var)\n",
    "\n",
    "results[[\"AUC\", \"Specificity\", \"Sensitivity\", \"Precision\", \"Recall\", \"F1\"]].plot.box(ax = ax)\n",
    "ax.set_ylabel(\"Score\");\n",
    "\n",
    "#results.to_excel(os.path.join(file_place, \"Confusion_Matrix_bad.xlsx\"))\n",
    "#fig.savefig(os.path.join(file_place, \"scores.png\"), bbox_inches = 'tight')"
   ]
  },
  {
   "cell_type": "code",
   "execution_count": null,
   "metadata": {},
   "outputs": [],
   "source": [
    "fig, (ax, ax2) = plt.subplots(ncols = 2, figsize = (12, 5))\n",
    "fig.suptitle(title)\n",
    "\n",
    "for _, row in results.iterrows():\n",
    "    \n",
    "    ax.plot(row[\"FPR_curve\"], row[\"TPR_curve\"])\n",
    "    \n",
    "ax.plot([0,1],[0,1], c = \"black\", linestyle = '--')\n",
    "ax.set_xlabel('False Positive Rate')\n",
    "ax.set_ylabel('True Positive Rate')\n",
    "ax.set_title('ROC Curve')\n",
    "\n",
    "ax.text(0.65, 0.2, \"AUC:{:.2f} +/- {:.2f}\".format(results[\"AUC\"].mean(), results[\"AUC\"].std()))\n",
    "\n",
    "for _, row in results.iterrows():\n",
    "    \n",
    "    ax2.plot(row[\"rec_curve\"], row[\"prec_curve\"])\n",
    "    \n",
    "ax2.set_xlabel('Recall')\n",
    "ax2.set_ylabel('Precision')\n",
    "ax2.set_title('Precision Recall Curve')\n",
    "\n",
    "fig.savefig(os.path.join(file_place, \"ROC_scores.png\"), bbox_inches = 'tight')"
   ]
  },
  {
   "cell_type": "code",
   "execution_count": null,
   "metadata": {},
   "outputs": [],
   "source": [
    "results.describe()"
   ]
  },
  {
   "cell_type": "code",
   "execution_count": null,
   "metadata": {},
   "outputs": [],
   "source": [
    "fig, ax = plt.subplots(ncols = 1)\n",
    "fig.suptitle(title)\n",
    "\n",
    "results[[\"AUC\", \"Specificity\", \"Sensitivity\", \"Precision\", \"Recall\", \"F1\"]].plot.box(ax = ax)\n",
    "ax.set_ylabel(\"Score\")\n",
    "\n",
    "results.to_excel(os.path.join(file_place, \"Confusion_Matrix_bad.xlsx\"))\n",
    "fig.savefig(os.path.join(file_place, \"scores.png\"), bbox_inches = 'tight')"
   ]
  },
  {
   "cell_type": "markdown",
   "metadata": {},
   "source": [
    "## Repeat evaluation on patient basis"
   ]
  },
  {
   "cell_type": "code",
   "execution_count": null,
   "metadata": {},
   "outputs": [],
   "source": [
    "results"
   ]
  },
  {
   "cell_type": "code",
   "execution_count": null,
   "metadata": {},
   "outputs": [],
   "source": [
    "results.y_true.values[0]"
   ]
  },
  {
   "cell_type": "code",
   "execution_count": null,
   "metadata": {},
   "outputs": [],
   "source": [
    "results"
   ]
  },
  {
   "cell_type": "code",
   "execution_count": null,
   "metadata": {},
   "outputs": [],
   "source": [
    "patient_preds = results.y_pred.copy()\n",
    "patient_preds[\"predictions\"] = predictions\n",
    "patient_preds.index = X_valid.index"
   ]
  },
  {
   "cell_type": "code",
   "execution_count": null,
   "metadata": {},
   "outputs": [],
   "source": [
    "def agg_scores(columns):\n",
    "    \n",
    "    return columns.sum()/columns.size"
   ]
  },
  {
   "cell_type": "code",
   "execution_count": null,
   "metadata": {},
   "outputs": [],
   "source": [
    "patient_preds.groupby(\"Patient_Number\").agg(agg_scores)"
   ]
  },
  {
   "cell_type": "code",
   "execution_count": null,
   "metadata": {},
   "outputs": [],
   "source": [
    "y_true = patient_preds.groupby(\"Patient_Number\").agg(agg_scores).loc[:, 0]\n",
    "y_pred = patient_preds.groupby(\"Patient_Number\").agg(agg_scores).loc[:,\"predictions\"]\n",
    "\n",
    "y_pred_nopt = np.array([0 if score < 0.5 else 1 for score in y_pred])\n",
    "y_pred_opt = np.array([0 if score < opt else 1 for score in y_pred])\n",
    "\n",
    "fpr, tpr, t = roc_curve(y_true, y_pred)\n",
    "AUC = roc_auc_score(y_true, y_pred)\n",
    "\n",
    "scores = np.array([np.sqrt(((1-t)**2)+((0-(f))**2)) for f, t in zip(fpr,tpr)])\n",
    "threshi = np.argmin(scores)\n",
    "\n",
    "prec, rec, _ = precision_recall_curve(y_true, y_pred)\n",
    "\n",
    "opt = t[threshi]"
   ]
  },
  {
   "cell_type": "code",
   "execution_count": null,
   "metadata": {},
   "outputs": [],
   "source": [
    "fig, ax = plt.subplots()\n",
    "\n",
    "ax.plot(t , scores, label = \"Score\")\n",
    "#ax.plot(t , tpr, label = \"True positive rate\")\n",
    "#ax.plot(t , fpr, label = \"False positive rate\")\n",
    "ax.set_title('Optimal decision threshold')\n",
    "ax.set_xlabel(\"Threshold\")\n",
    "ax.set_ylabel(\"$\\sqrt{(1-FPR)^2 + (0-TPR)^2}$\")\n",
    "ax.axvline(opt, c = \"r\")\n",
    "ax.text(opt + 0.1, 0.95, f\"Opt threshold {opt:.2f}\")\n",
    "ax.legend()\n",
    "\n",
    "fig.savefig(os.path.join(file_place, \"Optimal_Thresh.png\"), bbox_inches = 'tight')"
   ]
  },
  {
   "cell_type": "code",
   "execution_count": null,
   "metadata": {},
   "outputs": [],
   "source": [
    "from sklearn.metrics import precision_recall_curve\n",
    "from sklearn.metrics import plot_precision_recall_curve"
   ]
  },
  {
   "cell_type": "code",
   "execution_count": null,
   "metadata": {},
   "outputs": [],
   "source": [
    "fig, (ax, ax2) = plt.subplots(ncols = 2, figsize = (12, 5))\n",
    "\n",
    "ax.plot(fpr, tpr)\n",
    "ax.plot([0,1],[0,1], linestyle = '--')\n",
    "ax.set_xlabel('False Positive Rate')\n",
    "ax.set_ylabel('True Positive Rate')\n",
    "ax.set_title('ECS ROC Curve')\n",
    "ax.plot([0, fpr[threshi]], [1, tpr[threshi]], linestyle = \"--\")\n",
    "ax.text(0.8, 0.2, f\"AUC {AUC:.2f}\")\n",
    "\n",
    "ax2.plot(rec, prec)\n",
    "ax2.set_xlabel('Recall')\n",
    "ax2.set_ylabel('Precision')\n",
    "ax2.set_title('Precision Recall Curve')\n",
    "\n",
    "fig.savefig(os.path.join(file_place, \"ROC_Curve_Opt.png\"), bbox_inches = 'tight')"
   ]
  },
  {
   "cell_type": "code",
   "execution_count": null,
   "metadata": {},
   "outputs": [],
   "source": [
    "scorers = {\n",
    "\"Weighted Accuracy\" : scoring(y_true, y_pred_nopt, metric = 'average per-class accuracy'),\n",
    "\"Specificity\" : scoring(y_true, y_pred_nopt, metric = 'specificity'),\n",
    "\"Sensitivity\": scoring(y_true, y_pred_nopt, metric = 'sensitivity'),\n",
    "\"F1_Score\" : f1_score(y_true, y_pred_nopt, average = 'weighted')\n",
    "    }\n",
    "\n",
    "print(\"weighted accuracy: \\t{:.2f}\".format(scoring(y_true, y_pred_nopt, metric = 'average per-class accuracy')))\n",
    "print(\"specificity: \\t\\t{:.2f}\".format(scoring(y_true, y_pred_nopt, metric = 'specificity')))\n",
    "print(\"sensitivity: \\t\\t{:.2f}\".format(scoring(y_true, y_pred_nopt, metric = 'sensitivity')))\n",
    "print(\"F1: \\t\\t\\t{:.2f}\".format(f1_score(y_true, y_pred_nopt, average = 'weighted')))\n",
    "\n",
    "scorers = pd.DataFrame({\"Score\": scorers}).round(2)\n",
    "scorers.to_excel(os.path.join(os.getcwd(), \"Confusion_Matrix_bad.xlsx\"))\n",
    "\n",
    "fig = plotCM(y_true, y_pred_nopt, np.unique(y_valid))\n",
    "#fig.savefig(os.path.join(file_place, \"Confusion_Matrix_bad.png\"), bbox_inches = 'tight')"
   ]
  },
  {
   "cell_type": "code",
   "execution_count": null,
   "metadata": {},
   "outputs": [],
   "source": [
    "scorers = {\n",
    "#\"Weighted Accuracy\" : scoring(y_valid_b, predictions, metric = 'average per-class accuracy'),\n",
    "\"Specificity\" : scoring(y_true, y_pred_opt, metric = 'specificity'),\n",
    "\"Sensitivity\": scoring(y_true, y_pred_opt, metric = 'sensitivity'),\n",
    "\"F1_Score\" : f1_score(y_true, y_pred_opt, average = 'weighted')\n",
    "    }\n",
    "\n",
    "print(\"weighted accuracy: \\t{:.2f}\".format(scoring(y_true, y_pred_opt, metric = 'average per-class accuracy')))\n",
    "print(\"specificity: \\t\\t{:.2f}\".format(scoring(y_true, y_pred_opt, metric = 'specificity')))\n",
    "print(\"sensitivity: \\t\\t{:.2f}\".format(scoring(y_true, y_pred_opt, metric = 'sensitivity')))\n",
    "print(\"F1: \\t\\t\\t{:.2f}\".format(f1_score(y_true, y_pred_opt, average = 'weighted')))\n",
    "\n",
    "scorers = pd.DataFrame({\"Score\": scorers}).round(2)\n",
    "scorers.to_excel(os.path.join(file_place, \"scores.xlsx\"))\n",
    "\n",
    "fig = plotCM(y_true, y_pred_opt, np.unique(y_valid))\n",
    "#fig.savefig(os.path.join(file_place, \"Confusion_Matrix_good.png\"), bbox_inches = 'tight')"
   ]
  },
  {
   "cell_type": "code",
   "execution_count": null,
   "metadata": {},
   "outputs": [],
   "source": [
    "pred_results = y_valid_b.copy()\n",
    "pred_results.columns = [\"True\"]\n",
    "pred_results['Prediction'] = predictions\n",
    "\n",
    "scores.to_excel(os.path.join(file_place, \"score.xlsx\"))\n",
    "pred_results.to_excel(os.path.join(file_place, \"predictions.xlsx\"))"
   ]
  },
  {
   "cell_type": "code",
   "execution_count": null,
   "metadata": {},
   "outputs": [],
   "source": []
  }
 ],
 "metadata": {
  "kernelspec": {
   "display_name": "Python 3",
   "language": "python",
   "name": "python3"
  },
  "language_info": {
   "codemirror_mode": {
    "name": "ipython",
    "version": 3
   },
   "file_extension": ".py",
   "mimetype": "text/x-python",
   "name": "python",
   "nbconvert_exporter": "python",
   "pygments_lexer": "ipython3",
   "version": "3.8.3"
  }
 },
 "nbformat": 4,
 "nbformat_minor": 4
}

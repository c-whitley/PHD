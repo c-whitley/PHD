{
 "metadata": {
  "language_info": {
   "codemirror_mode": {
    "name": "ipython",
    "version": 3
   },
   "file_extension": ".py",
   "mimetype": "text/x-python",
   "name": "python",
   "nbconvert_exporter": "python",
   "pygments_lexer": "ipython3",
   "version": "3.8.0"
  },
  "orig_nbformat": 2,
  "kernelspec": {
   "name": "python380jvsc74a57bd0eaa00e46caca58319536d0032152cd5eb76a9b72fbc9a3af026d9e62232c8082",
   "display_name": "Python 3.8.0 64-bit ('PHD': conda)"
  }
 },
 "nbformat": 4,
 "nbformat_minor": 2,
 "cells": [
  {
   "cell_type": "code",
   "execution_count": 2,
   "metadata": {},
   "outputs": [],
   "source": [
    "import os\n",
    "import glob\n",
    "from tqdm.notebook import tqdm\n",
    "\n",
    "import numpy as np\n",
    "import pandas as pd\n",
    "\n",
    "import matplotlib.pyplot as plt\n",
    "import matplotlib\n",
    "from mpl_toolkits.axes_grid1 import ImageGrid, make_axes_locatable, Size, Divider"
   ]
  },
  {
   "cell_type": "code",
   "execution_count": 2,
   "metadata": {},
   "outputs": [
    {
     "output_type": "display_data",
     "data": {
      "text/plain": "HBox(children=(HTML(value=''), FloatProgress(value=0.0, max=91.0), HTML(value='')))",
      "application/vnd.jupyter.widget-view+json": {
       "version_major": 2,
       "version_minor": 0,
       "model_id": "2bbcc5f591ac42c8a256a179152dbeff"
      }
     },
     "metadata": {}
    },
    {
     "output_type": "stream",
     "name": "stdout",
     "text": [
      "\n"
     ]
    }
   ],
   "source": [
    "file_names = glob.glob('/mnt/c/Users/conor/OneDrive/Desktop/temp_extraction_new/*')\n",
    "\n",
    "annotations = dict()\n",
    "\n",
    "for file_name in tqdm(file_names):\n",
    "    for i in [1,2]:\n",
    "        try:\n",
    "            annotations[f\"{file_name.split('/')[-1][:-4]}\"] = matplotlib.image.imread(f\"/mnt/c/Users/conor/Google Drive/PHD/Project with Janet/Label_Images/TMA_{i}/{file_name.split('/')[-1][:-4]}.png\")  \n",
    "            continue\n",
    "\n",
    "        except FileNotFoundError as e:\n",
    "\n",
    "            pass\n",
    "            #print(f'{file_name} not found')"
   ]
  },
  {
   "cell_type": "code",
   "execution_count": 3,
   "metadata": {},
   "outputs": [],
   "source": [
    "from sklearn.cluster import KMeans\n",
    "from sklearn.pipeline import Pipeline\n",
    "from sklearn.decomposition import PCA\n",
    "from sklearn.preprocessing import StandardScaler, FunctionTransformer, normalize"
   ]
  },
  {
   "cell_type": "code",
   "execution_count": 4,
   "metadata": {},
   "outputs": [],
   "source": [
    "master = pd.read_excel('./master_xl.xlsx')"
   ]
  },
  {
   "cell_type": "code",
   "execution_count": 5,
   "metadata": {},
   "outputs": [],
   "source": [
    "gb = list(master.groupby('REF'))"
   ]
  },
  {
   "cell_type": "code",
   "execution_count": 129,
   "metadata": {},
   "outputs": [
    {
     "output_type": "error",
     "ename": "IndexError",
     "evalue": "list index out of range",
     "traceback": [
      "\u001b[0;31m---------------------------------------------------------------------------\u001b[0m",
      "\u001b[0;31mIndexError\u001b[0m                                Traceback (most recent call last)",
      "\u001b[0;32m<ipython-input-129-3e379d3b0878>\u001b[0m in \u001b[0;36m<module>\u001b[0;34m\u001b[0m\n\u001b[0;32m----> 1\u001b[0;31m \u001b[0mrow\u001b[0m \u001b[0;34m=\u001b[0m \u001b[0mgb\u001b[0m\u001b[0;34m[\u001b[0m\u001b[0;36m114\u001b[0m\u001b[0;34m]\u001b[0m\u001b[0;34m\u001b[0m\u001b[0;34m\u001b[0m\u001b[0m\n\u001b[0m\u001b[1;32m      2\u001b[0m \u001b[0;34m\u001b[0m\u001b[0m\n\u001b[1;32m      3\u001b[0m \u001b[0mname\u001b[0m \u001b[0;34m=\u001b[0m \u001b[0mrow\u001b[0m\u001b[0;34m[\u001b[0m\u001b[0;36m0\u001b[0m\u001b[0;34m]\u001b[0m\u001b[0;34m\u001b[0m\u001b[0;34m\u001b[0m\u001b[0m\n\u001b[1;32m      4\u001b[0m \u001b[0mprint\u001b[0m\u001b[0;34m(\u001b[0m\u001b[0mname\u001b[0m\u001b[0;34m)\u001b[0m\u001b[0;34m\u001b[0m\u001b[0;34m\u001b[0m\u001b[0m\n\u001b[1;32m      5\u001b[0m \u001b[0;34m\u001b[0m\u001b[0m\n",
      "\u001b[0;31mIndexError\u001b[0m: list index out of range"
     ]
    }
   ],
   "source": [
    "row = gb[114]\n",
    "\n",
    "name = row[0]\n",
    "print(name)\n",
    "\n",
    "df1 = row[1].iloc[0,:]\n",
    "\n",
    "try: df2 = row[1].iloc[1,:]\n",
    "except: df2 = row[1].iloc[0,:]\n",
    "\n",
    "ftir = pd.read_hdf(df1['FTIR'], key='Data')\n",
    "\n",
    "try:\n",
    "    ann = matplotlib.image.imread(df1['ANN'])\n",
    "except:\n",
    "    ann = np.random.random((10,10))\n",
    "\n",
    "he1 = matplotlib.image.imread(df1['HE'])\n",
    "he2 = matplotlib.image.imread(df2['HE'])\n",
    "\n",
    "cluster_annotations([ftir, ann, he1, he2], 2, name, imsize=6)"
   ]
  },
  {
   "cell_type": "code",
   "execution_count": 8,
   "metadata": {},
   "outputs": [],
   "source": [
    "def cluster_annotations(images, nk, ref, imsize=4, mask=None):\n",
    "\n",
    "    fig, axes = plt.subplots(ncols=5, figsize=(5*imsize,imsize))\n",
    "    [ax.set_xticks([]) for ax in axes]\n",
    "    [ax.set_yticks([]) for ax in axes]\n",
    "\n",
    "    cubedf, ann, he1, he2 = images\n",
    "\n",
    "    fig.suptitle(ref, size=20)\n",
    "\n",
    "    # Amide slice which to overwrite with new annotation\n",
    "    cube_s = cubedf.values.reshape(256,256,-1)[:,:,195]\n",
    "    pipe = Pipeline([('Scaler', StandardScaler()), ('PCA', PCA(0.9)), ('Cluster', KMeans(nk, random_state=1))])\n",
    "\n",
    "    if mask is None:\n",
    "\n",
    "        y = pipe.fit_transform(images[0])\n",
    "        im_km = y.argmin(axis=1).reshape(256,256)\n",
    "\n",
    "        nc = 2\n",
    "        cr = np.arange(nc)\n",
    "\n",
    "    else:\n",
    "\n",
    "        y = pipe.fit_transform(images[0].values[mask.flatten()])\n",
    "        im_km = cube_s.copy().flatten()\n",
    "        im_km[mask.flatten()] = y.argmin(axis=1)\n",
    "        im_km[~mask.flatten()] = -1\n",
    "        im_km = im_km.reshape(256,256)\n",
    "\n",
    "        nc = nk+1\n",
    "        cr = np.arange(-1, nc)\n",
    "\n",
    "\n",
    "    axim = axes[0].imshow(im_km, cmap = matplotlib.cm.get_cmap('Paired_r', nc), aspect='auto',interpolation=None)\n",
    "    divider = make_axes_locatable(axes[0])\n",
    "    cax  = divider.append_axes(\"right\", size=\"15%\", pad=0.05)\n",
    "    cbar = plt.colorbar(axim, cax=cax)\n",
    "    tick_locs = (np.arange(nc) + 0.5)*((nc-1)/nc)\n",
    "    cbar.set_ticks(tick_locs)\n",
    "    cbar.set_ticklabels(np.arange(nc))\n",
    "\n",
    "    axes[1].set_aspect('equal')\n",
    "    axes[1].imshow(he1)\n",
    "    axes[2].imshow(he2)\n",
    "    axes[3].imshow(ann)\n",
    "    axes[4].imshow(cubedf.values.reshape(256,256,-1)[:,:,195])\n",
    "    plt.show()\n",
    "\n",
    "    sv = input(\"Save? (y/n)\").lower()\n",
    "\n",
    "    if sv == 'n':\n",
    "        \n",
    "        sel = int(input(\"Select which area?\"))\n",
    "        nk = int(input(\"How many clusters?\"))\n",
    "        \n",
    "        #mask = np.where(y.argmin(axis=1) == sel)[0]\n",
    "        mask = (y.argmin(axis=1) == sel)\n",
    "        mask = (axim._A==sel)\n",
    "        print(mask.shape)\n",
    "\n",
    "        print(f'Area: {sel} \\tN clusters: {nk}')\n",
    "\n",
    "        cluster_annotations(images, nk, ref, mask=mask, imsize=imsize)\n",
    "\n",
    "    else:\n",
    "\n",
    "        svsel = np.array([int(area) for area in input(\"Select which area(s)?\").split(',')])\n",
    "        mask = (y.argmin(axis=1) == svsel)\n",
    "        mask = (axim._A == svsel)\n",
    "\n",
    "        output = images[0].iloc[mask.flatten(),:]\n",
    "\n",
    "        dir = f'./masks_1805/{ref}'\n",
    "\n",
    "        try:\n",
    "            os.mkdir(dir)\n",
    "        except:\n",
    "            pass\n",
    "        output.to_hdf(dir + f'/{ref}.hdf', key='Data')\n",
    "\n",
    "        plt.imshow(mask, cmap='gray')\n",
    "        plt.imsave(dir + f'/{ref}_mask.png', mask, cmap='gray')\n"
   ]
  },
  {
   "cell_type": "code",
   "execution_count": null,
   "metadata": {},
   "outputs": [],
   "source": []
  }
 ]
}
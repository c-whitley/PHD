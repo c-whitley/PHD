{
    "cells": [
        {
            "cell_type": "code",
            "execution_count": 1,
            "source": [
                "import pandas as pd\n",
                "import numpy as np\n",
                "import matplotlib.pyplot as plt\n",
                "import matplotlib as mpl\n",
                "\n",
                "import glob\n",
                "from tqdm.notebook import tqdm"
            ],
            "outputs": [],
            "metadata": {}
        },
        {
            "cell_type": "code",
            "execution_count": 3,
            "source": [
                "master = pd.read_excel('/mnt/c/Users/conor/OneDrive/Desktop/master_xl_1507.xlsx')"
            ],
            "outputs": [],
            "metadata": {}
        },
        {
            "cell_type": "code",
            "execution_count": 10,
            "source": [
                "master.query('TMA == \"TMA_2\"')['ANN']"
            ],
            "outputs": [
                {
                    "output_type": "execute_result",
                    "data": {
                        "text/plain": [
                            "89     /mnt/c/Users/conor/Google Drive/PHD/Project wi...\n",
                            "90     /mnt/c/Users/conor/Google Drive/PHD/Project wi...\n",
                            "91     /mnt/c/Users/conor/Google Drive/PHD/Project wi...\n",
                            "92     /mnt/c/Users/conor/Google Drive/PHD/Project wi...\n",
                            "93     /mnt/c/Users/conor/Google Drive/PHD/Project wi...\n",
                            "                             ...                        \n",
                            "195    /mnt/c/Users/conor/Google Drive/PHD/Project wi...\n",
                            "196    /mnt/c/Users/conor/Google Drive/PHD/Project wi...\n",
                            "197    /mnt/c/Users/conor/Google Drive/PHD/Project wi...\n",
                            "198    /mnt/c/Users/conor/Google Drive/PHD/Project wi...\n",
                            "199    /mnt/c/Users/conor/Google Drive/PHD/Project wi...\n",
                            "Name: ANN, Length: 111, dtype: object"
                        ]
                    },
                    "metadata": {},
                    "execution_count": 10
                }
            ],
            "metadata": {}
        },
        {
            "cell_type": "code",
            "execution_count": null,
            "source": [],
            "outputs": [],
            "metadata": {}
        }
    ],
    "metadata": {
        "orig_nbformat": 4,
        "language_info": {
            "name": "python",
            "version": "3.8.0",
            "mimetype": "text/x-python",
            "codemirror_mode": {
                "name": "ipython",
                "version": 3
            },
            "pygments_lexer": "ipython3",
            "nbconvert_exporter": "python",
            "file_extension": ".py"
        },
        "kernelspec": {
            "name": "python3",
            "display_name": "Python 3.8.0 64-bit ('PHD': conda)"
        },
        "interpreter": {
            "hash": "eaa00e46caca58319536d0032152cd5eb76a9b72fbc9a3af026d9e62232c8082"
        }
    },
    "nbformat": 4,
    "nbformat_minor": 2
}
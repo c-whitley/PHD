{
 "metadata": {
  "language_info": {
   "codemirror_mode": {
    "name": "ipython",
    "version": 3
   },
   "file_extension": ".py",
   "mimetype": "text/x-python",
   "name": "python",
   "nbconvert_exporter": "python",
   "pygments_lexer": "ipython3",
   "version": "3.8.0"
  },
  "orig_nbformat": 2,
  "kernelspec": {
   "name": "python3",
   "display_name": "Python 3.8.0 64-bit ('PHD': conda)"
  },
  "metadata": {
   "interpreter": {
    "hash": "33131bdf093b0f58365d52e0b6afb507939ac924a613221f8067e7e82858a69a"
   }
  },
  "interpreter": {
   "hash": "eaa00e46caca58319536d0032152cd5eb76a9b72fbc9a3af026d9e62232c8082"
  }
 },
 "nbformat": 4,
 "nbformat_minor": 2,
 "cells": [
  {
   "cell_type": "code",
   "execution_count": 1,
   "metadata": {},
   "outputs": [],
   "source": [
    "from tqdm.notebook import tqdm\n",
    "import time\n",
    "\n",
    "import numpy as np\n",
    "import pandas as pd\n",
    "import matplotlib.pyplot as plt\n",
    "import seaborn as sns\n",
    "\n",
    "from datetime import datetime\n",
    "\n",
    "import glob\n",
    "import os\n",
    "import sys\n",
    "import pickle\n",
    "\n",
    "from tqdm.notebook import tqdm\n",
    "from datetime import datetime\n",
    "\n",
    "from sklearn.pipeline import Pipeline\n",
    "\n",
    "from sklearn.preprocessing import FunctionTransformer, RobustScaler, MinMaxScaler, StandardScaler, LabelBinarizer\n",
    "from sklearn.preprocessing import normalize, robust_scale, minmax_scale\n",
    "\n",
    "from sklearn.preprocessing import OneHotEncoder,KBinsDiscretizer, LabelEncoder\n",
    "from sklearn.compose import ColumnTransformer\n",
    "\n",
    "from sklearn.decomposition import PCA\n",
    "from sklearn.linear_model import LogisticRegression\n",
    "\n",
    "from sklearn.model_selection import train_test_split\n",
    "from sklearn.model_selection import cross_validate, GroupKFold, KFold, train_test_split, LeaveOneOut\n",
    "\n",
    "from sklearn.metrics import make_scorer, confusion_matrix, roc_auc_score, roc_curve, plot_confusion_matrix, f1_score, recall_score, accuracy_score\n",
    "\n",
    "from sklearn.multiclass import OneVsRestClassifier\n",
    "\n",
    "from sklearn.compose import make_column_selector\n",
    "from sklearn.compose import make_column_transformer\n",
    "from sklearn.compose import ColumnTransformer\n",
    "\n",
    "import pymc3 as pm\n"
   ]
  },
  {
   "cell_type": "code",
   "execution_count": 2,
   "metadata": {},
   "outputs": [],
   "source": [
    "total = pd.read_hdf('./Original.hdf', key='Data')\n",
    "total = total.iloc[:,(995<total.columns) & (total.columns<1805)]"
   ]
  },
  {
   "cell_type": "code",
   "execution_count": 3,
   "metadata": {},
   "outputs": [],
   "source": [
    "patient_ids = total.reset_index()['Patient_nu '].unique()"
   ]
  },
  {
   "cell_type": "code",
   "execution_count": 4,
   "metadata": {},
   "outputs": [],
   "source": [
    "total['1yeardeath'] = ((total.reset_index()['survival (months)']<12) & (total.reset_index()['Alive']==False)).values\n",
    "total = total.set_index('1yeardeath', append=True)"
   ]
  },
  {
   "cell_type": "code",
   "execution_count": 6,
   "metadata": {},
   "outputs": [
    {
     "output_type": "stream",
     "name": "stdout",
     "text": [
      "0\n"
     ]
    },
    {
     "output_type": "display_data",
     "data": {
      "text/plain": "<IPython.core.display.HTML object>",
      "text/html": "\n    <div>\n        <style>\n            /* Turns off some styling */\n            progress {\n                /* gets rid of default border in Firefox and Opera. */\n                border: none;\n                /* Needs to be in here for Safari polyfill so background images work as expected. */\n                background-size: auto;\n            }\n            .progress-bar-interrupted, .progress-bar-interrupted::-webkit-progress-bar {\n                background: #F44336;\n            }\n        </style>\n      <progress value='0' class='' max='5000' style='width:300px; height:20px; vertical-align: middle;'></progress>\n      \n    </div>\n    "
     },
     "metadata": {}
    },
    {
     "output_type": "stream",
     "name": "stdout",
     "text": [
      "\n",
      "Sequential sampling (2 chains in 1 job)\n",
      "CompoundStep\n",
      ">NUTS: [β1, ɛ]\n",
      ">CategoricalGibbsMetropolis: [β2]\n"
     ]
    },
    {
     "output_type": "display_data",
     "data": {
      "text/plain": "<IPython.core.display.HTML object>",
      "text/html": "\n    <div>\n        <style>\n            /* Turns off some styling */\n            progress {\n                /* gets rid of default border in Firefox and Opera. */\n                border: none;\n                /* Needs to be in here for Safari polyfill so background images work as expected. */\n                background-size: auto;\n            }\n            .progress-bar-interrupted, .progress-bar-interrupted::-webkit-progress-bar {\n                background: #F44336;\n            }\n        </style>\n      <progress value='0' class='' max='3000' style='width:300px; height:20px; vertical-align: middle;'></progress>\n      \n    </div>\n    "
     },
     "metadata": {}
    },
    {
     "output_type": "display_data",
     "data": {
      "text/plain": "<IPython.core.display.HTML object>",
      "text/html": "\n    <div>\n        <style>\n            /* Turns off some styling */\n            progress {\n                /* gets rid of default border in Firefox and Opera. */\n                border: none;\n                /* Needs to be in here for Safari polyfill so background images work as expected. */\n                background-size: auto;\n            }\n            .progress-bar-interrupted, .progress-bar-interrupted::-webkit-progress-bar {\n                background: #F44336;\n            }\n        </style>\n      <progress value='0' class='' max='3000' style='width:300px; height:20px; vertical-align: middle;'></progress>\n      \n    </div>\n    "
     },
     "metadata": {}
    },
    {
     "output_type": "stream",
     "name": "stderr",
     "text": [
      "Sampling 2 chains for 2_000 tune and 1_000 draw iterations (4_000 + 2_000 draws total) took 4207 seconds.\n",
      "There were 191 divergences after tuning. Increase `target_accept` or reparameterize.\n",
      "There were 877 divergences after tuning. Increase `target_accept` or reparameterize.\n",
      "The acceptance probability does not match the target. It is 0.5957067418101221, but should be close to 0.8. Try to increase the number of tuning steps.\n",
      "The rhat statistic is larger than 1.4 for some parameters. The sampler did not converge.\n",
      "The estimated number of effective samples is smaller than 200 for some parameters.\n",
      "/home/conor/miniconda3/envs/PHD/lib/python3.8/site-packages/pymc3/sampling.py:1707: UserWarning: samples parameter is smaller than nchains times ndraws, some draws and/or chains may not be represented in the returned posterior predictive sample\n",
      "  warnings.warn(\n"
     ]
    },
    {
     "output_type": "display_data",
     "data": {
      "text/plain": "<IPython.core.display.HTML object>",
      "text/html": "\n    <div>\n        <style>\n            /* Turns off some styling */\n            progress {\n                /* gets rid of default border in Firefox and Opera. */\n                border: none;\n                /* Needs to be in here for Safari polyfill so background images work as expected. */\n                background-size: auto;\n            }\n            .progress-bar-interrupted, .progress-bar-interrupted::-webkit-progress-bar {\n                background: #F44336;\n            }\n        </style>\n      <progress value='0' class='' max='1000' style='width:300px; height:20px; vertical-align: middle;'></progress>\n      \n    </div>\n    "
     },
     "metadata": {}
    },
    {
     "output_type": "stream",
     "name": "stderr",
     "text": [
      "/home/conor/miniconda3/envs/PHD/lib/python3.8/site-packages/sklearn/utils/validation.py:63: DataConversionWarning: A column-vector y was passed when a 1d array was expected. Please change the shape of y to (n_samples, ), for example using ravel().\n",
      "  return f(*args, **kwargs)\n",
      "/home/conor/miniconda3/envs/PHD/lib/python3.8/site-packages/sklearn/linear_model/_logistic.py:763: ConvergenceWarning: lbfgs failed to converge (status=1):\n",
      "STOP: TOTAL NO. of ITERATIONS REACHED LIMIT.\n",
      "\n",
      "Increase the number of iterations (max_iter) or scale the data as shown in:\n",
      "    https://scikit-learn.org/stable/modules/preprocessing.html\n",
      "Please also refer to the documentation for alternative solver options:\n",
      "    https://scikit-learn.org/stable/modules/linear_model.html#logistic-regression\n",
      "  n_iter_i = _check_optimize_result(\n",
      "1\n"
     ]
    },
    {
     "output_type": "display_data",
     "data": {
      "text/plain": "<IPython.core.display.HTML object>",
      "text/html": "\n    <div>\n        <style>\n            /* Turns off some styling */\n            progress {\n                /* gets rid of default border in Firefox and Opera. */\n                border: none;\n                /* Needs to be in here for Safari polyfill so background images work as expected. */\n                background-size: auto;\n            }\n            .progress-bar-interrupted, .progress-bar-interrupted::-webkit-progress-bar {\n                background: #F44336;\n            }\n        </style>\n      <progress value='0' class='' max='5000' style='width:300px; height:20px; vertical-align: middle;'></progress>\n      \n    </div>\n    "
     },
     "metadata": {}
    },
    {
     "output_type": "stream",
     "name": "stdout",
     "text": [
      "\n",
      "Sequential sampling (2 chains in 1 job)\n",
      "CompoundStep\n",
      ">NUTS: [β1, ɛ]\n",
      ">CategoricalGibbsMetropolis: [β2]\n"
     ]
    },
    {
     "output_type": "display_data",
     "data": {
      "text/plain": "<IPython.core.display.HTML object>",
      "text/html": "\n    <div>\n        <style>\n            /* Turns off some styling */\n            progress {\n                /* gets rid of default border in Firefox and Opera. */\n                border: none;\n                /* Needs to be in here for Safari polyfill so background images work as expected. */\n                background-size: auto;\n            }\n            .progress-bar-interrupted, .progress-bar-interrupted::-webkit-progress-bar {\n                background: #F44336;\n            }\n        </style>\n      <progress value='797' class='' max='3000' style='width:300px; height:20px; vertical-align: middle;'></progress>\n      26.57% [797/3000 11:10<30:54 Sampling chain 0, 0 divergences]\n    </div>\n    "
     },
     "metadata": {}
    }
   ],
   "source": [
    "y = '1yeardeath'\n",
    "\n",
    "suffix = input(\"File suffix: \")\n",
    "\n",
    "numeric_pipe = Pipeline([\n",
    "(\"Normalise spectra\", FunctionTransformer(robust_scale, kw_args = {\"axis\": 1})),\n",
    "#(\"Normalise spectra\", FunctionTransformer(normalize, kw_args = {\"axis\": 1})),\n",
    "#(\"Normalise spectra\", FunctionTransformer(minmax_scale, kw_args = {\"axis\": 1})),\n",
    "(\"Scaler\", RobustScaler()),\n",
    "(\"PCA\", PCA(0.99)),\n",
    "])\n",
    "\n",
    "categorical_pipe = Pipeline([\n",
    "    (\"OneHot\", OneHotEncoder())\n",
    "])\n",
    "\n",
    "in_df = total.reset_index(['ASMA']).dropna().sample(20000)\n",
    "in_df.columns = [str(col) for col in in_df.columns]\n",
    "\n",
    "ct = make_column_transformer(\n",
    "    (numeric_pipe,     make_column_selector(dtype_include=np.number)),\n",
    "    (categorical_pipe, make_column_selector(dtype_include=object))\n",
    ")\n",
    "\n",
    "patient_ids = total.reset_index()['Patient_nu '].unique()\n",
    "\n",
    "bootstrap_n = 0\n",
    "total_data = []\n",
    "\n",
    "while bootstrap_n < 3:\n",
    "\n",
    "    print(bootstrap_n)\n",
    "\n",
    "    split_check = False\n",
    "\n",
    "    while split_check == False:\n",
    "\n",
    "        train_pat, test_pat = train_test_split(patient_ids, test_size=0.1)\n",
    "\n",
    "        train_data = in_df.query(f\"Patient_Number in {list(train_pat)}\")\n",
    "        test_data = in_df.query(f\"Patient_Number in {list(test_pat)}\")\n",
    "\n",
    "        # Unique predictor variables in set\n",
    "        trainn_un = train_data.reset_index(y).iloc[:,0].unique()\n",
    "        testn_un = test_data.reset_index(y).iloc[:,0].unique()\n",
    "\n",
    "        if len(trainn_un) == len(testn_un) == 2:\n",
    "\n",
    "            split_check = True\n",
    "    try:\n",
    "        X_train = ct.fit_transform(train_data)\n",
    "        X_test = ct.transform(test_data)\n",
    "\n",
    "    except ValueError as e:\n",
    "\n",
    "        continue\n",
    "\n",
    "    Y_train = pd.DataFrame([1 if el==True else 0 for el in train_data.index.get_level_values(y)], index=train_data.index)\n",
    "    Y_test  = pd.DataFrame([1 if el==True else 0 for el in test_data.index.get_level_values(y)], index=test_data.index)\n",
    "\n",
    "    bootstrap_n += 1\n",
    "\n",
    "    ################################ Bayesian ################################\n",
    "\n",
    "    ncat = 3\n",
    "    ncon = X_train.shape[1]-ncat\n",
    "\n",
    "    with pm.Model() as logistic_model:\n",
    "\n",
    "        data_ = pm.Data('Pred', X_train.T)\n",
    "        obs = pm.Data('Observed', np.array(Y_train.values == True).T)\n",
    "\n",
    "        ɛ = pm.HalfNormal('ɛ', sd=1,  shape = (ncat+ncon+1,1))\n",
    "        #ɛ = pm.HalfStudentT('ɛ', nu=1, sigma=1,  shape = (ncat+ncon+1,1))\n",
    "    \n",
    "        # Continuous variables for each PC\n",
    "        β1 = pm.Normal(\"β1\", mu=1, sigma=1, shape = (ncon+1,1))\n",
    "\n",
    "        # Categorical variables \n",
    "        β2 = pm.Categorical(\"β2\", [1/ncat for _ in range(1, ncat+1)], shape=(ncat,1))\n",
    "\n",
    "        # β.T + ɛ\n",
    "        z = pm.math.dot(pm.math.concatenate([(β1[1:]+ɛ[1:-ncat]), (β2 + ɛ[-ncat:])]).T, data_)\n",
    "\n",
    "        # Probability of parameter P given the data\n",
    "        p = pm.Deterministic('P', pm.math.sigmoid(z + (β1[0] + ɛ[0])))\n",
    "        observed = pm.Bernoulli(\"p\", p, observed=obs)\n",
    "\n",
    "        start=pm.find_MAP()\n",
    "\n",
    "        #trace = pm.sample(10000, tune=100, start=start, step=step)\n",
    "        trace = pm.sample(1000, tune=2000, start=start, init=\"adapt_diag\", cores=1)\n",
    "\n",
    "\n",
    "    with logistic_model:\n",
    "        # update values of predictors:\n",
    "        pm.set_data({\"Pred\": X_test.T})\n",
    "        # use the updated values and predict outcomes and probabilities:\n",
    "        posterior_predictive = pm.sample_posterior_predictive(trace, var_names=[\"p\"], samples=1000)\n",
    "\n",
    "    model_preds = posterior_predictive[\"p\"].squeeze()\n",
    "\n",
    "    lr = LogisticRegression()\n",
    "    lr.fit(X_train, Y_train)\n",
    "\n",
    "    results = {'y_test': Y_test,\n",
    "               'BLR_Posterior': pd.DataFrame(model_preds.T, index=test_data.index),\n",
    "               'LR_Preds': pd.DataFrame(lr.predict_proba(X_test), index=test_data.index)}\n",
    "\n",
    "    total_data.append(results)\n",
    "\n",
    "with open(f'./{y}_0306_{suffix}.pickle', 'wb') as f:\n",
    "    pickle.dump(total_data, f)"
   ]
  },
  {
   "cell_type": "code",
   "execution_count": null,
   "metadata": {},
   "outputs": [],
   "source": [
    "total_data"
   ]
  }
 ]
}